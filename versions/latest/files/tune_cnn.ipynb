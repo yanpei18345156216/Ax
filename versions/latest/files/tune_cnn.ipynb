{
 "cells": [
  {
   "cell_type": "markdown",
   "metadata": {},
   "source": [
    "# Tune a CNN on MNIST\n",
    "\n",
    "This tutorial walks through using Ax to tune two hyperparameters (learning rate and momentum) for a PyTorch CNN on the MNIST dataset trained using SGD with momentum.\n"
   ]
  },
  {
   "cell_type": "code",
   "execution_count": 1,
   "metadata": {},
   "outputs": [
    {
     "data": {
      "text/html": [
       "<script type='text/javascript'>/*\n",
       " * Copyright (c) Facebook, Inc. and its affiliates. All Rights Reserved.\n",
       " */\n",
       "\n",
       "requirejs.config({\n",
       "  paths: {\n",
       "    plotly: ['https://cdn.plot.ly/plotly-latest.min'],\n",
       "  },\n",
       "});\n",
       "if (!window.Plotly) {\n",
       "  require(['plotly'], function(plotly) {\n",
       "    window.Plotly = plotly;\n",
       "  });\n",
       "}\n",
       "/*\n",
       " * Copyright (c) Facebook, Inc. and its affiliates. All Rights Reserved.\n",
       " */\n",
       "\n",
       "// helper functions used across multiple plots\n",
       "function rgb(rgb_array) {\n",
       "  return 'rgb(' + rgb_array.join() + ')';\n",
       "}\n",
       "\n",
       "function copy_and_reverse(arr) {\n",
       "  const copy = arr.slice();\n",
       "  copy.reverse();\n",
       "  return copy;\n",
       "}\n",
       "\n",
       "function axis_range(grid, is_log) {\n",
       "  return is_log\n",
       "    ? [Math.log10(Math.min(...grid)), Math.log10(Math.max(...grid))]\n",
       "    : [Math.min(...grid), Math.max(...grid)];\n",
       "}\n",
       "\n",
       "function relativize_data(f, sd, rel, arm_data, metric) {\n",
       "  // if relative, extract status quo & compute ratio\n",
       "  const f_final = rel === true ? [] : f;\n",
       "  const sd_final = rel === true ? [] : sd;\n",
       "\n",
       "  if (rel === true) {\n",
       "    const f_sq =\n",
       "      arm_data['in_sample'][arm_data['status_quo_name']]['y'][metric];\n",
       "    const sd_sq =\n",
       "      arm_data['in_sample'][arm_data['status_quo_name']]['se'][metric];\n",
       "\n",
       "    for (let i = 0; i < f.length; i++) {\n",
       "      res = relativize(f[i], sd[i], f_sq, sd_sq);\n",
       "      f_final.push(100 * res[0]);\n",
       "      sd_final.push(100 * res[1]);\n",
       "    }\n",
       "  }\n",
       "\n",
       "  return [f_final, sd_final];\n",
       "}\n",
       "\n",
       "function relativize(m_t, sem_t, m_c, sem_c) {\n",
       "  r_hat =\n",
       "    (m_t - m_c) / Math.abs(m_c) -\n",
       "    (Math.pow(sem_c, 2) * m_t) / Math.pow(Math.abs(m_c), 3);\n",
       "  variance =\n",
       "    (Math.pow(sem_t, 2) + Math.pow((m_t / m_c) * sem_c, 2)) / Math.pow(m_c, 2);\n",
       "  return [r_hat, Math.sqrt(variance)];\n",
       "}\n",
       "\n",
       "function slice_config_to_trace(\n",
       "  arm_data,\n",
       "  arm_name_to_parameters,\n",
       "  f,\n",
       "  fit_data,\n",
       "  grid,\n",
       "  metric,\n",
       "  param,\n",
       "  rel,\n",
       "  setx,\n",
       "  sd,\n",
       "  is_log,\n",
       "  visible,\n",
       ") {\n",
       "  // format data\n",
       "  const res = relativize_data(f, sd, rel, arm_data, metric);\n",
       "  const f_final = res[0];\n",
       "  const sd_final = res[1];\n",
       "\n",
       "  // get data for standard deviation fill plot\n",
       "  const sd_upper = [];\n",
       "  const sd_lower = [];\n",
       "  for (let i = 0; i < sd.length; i++) {\n",
       "    sd_upper.push(f_final[i] + 2 * sd_final[i]);\n",
       "    sd_lower.push(f_final[i] - 2 * sd_final[i]);\n",
       "  }\n",
       "  const grid_rev = copy_and_reverse(grid);\n",
       "  const sd_lower_rev = copy_and_reverse(sd_lower);\n",
       "  const sd_x = grid.concat(grid_rev);\n",
       "  const sd_y = sd_upper.concat(sd_lower_rev);\n",
       "\n",
       "  // get data for observed arms and error bars\n",
       "  const arm_x = [];\n",
       "  const arm_y = [];\n",
       "  const arm_sem = [];\n",
       "  fit_data.forEach(row => {\n",
       "    parameters = arm_name_to_parameters[row['arm_name']];\n",
       "    plot = true;\n",
       "    Object.keys(setx).forEach(p => {\n",
       "      if (p !== param && parameters[p] !== setx[p]) {\n",
       "        plot = false;\n",
       "      }\n",
       "    });\n",
       "    if (plot === true) {\n",
       "      arm_x.push(parameters[param]);\n",
       "      arm_y.push(row['mean']);\n",
       "      arm_sem.push(row['sem']);\n",
       "    }\n",
       "  });\n",
       "\n",
       "  const arm_res = relativize_data(arm_y, arm_sem, rel, arm_data, metric);\n",
       "  const arm_y_final = arm_res[0];\n",
       "  const arm_sem_final = arm_res[1].map(x => x * 2);\n",
       "\n",
       "  // create traces\n",
       "  const f_trace = {\n",
       "    x: grid,\n",
       "    y: f_final,\n",
       "    showlegend: false,\n",
       "    hoverinfo: 'x+y',\n",
       "    line: {\n",
       "      color: 'rgba(128, 177, 211, 1)',\n",
       "    },\n",
       "    visible: visible,\n",
       "  };\n",
       "\n",
       "  const arms_trace = {\n",
       "    x: arm_x,\n",
       "    y: arm_y_final,\n",
       "    mode: 'markers',\n",
       "    error_y: {\n",
       "      type: 'data',\n",
       "      array: arm_sem_final,\n",
       "      visible: true,\n",
       "      color: 'black',\n",
       "    },\n",
       "    line: {\n",
       "      color: 'black',\n",
       "    },\n",
       "    showlegend: false,\n",
       "    hoverinfo: 'x+y',\n",
       "    visible: visible,\n",
       "  };\n",
       "\n",
       "  const sd_trace = {\n",
       "    x: sd_x,\n",
       "    y: sd_y,\n",
       "    fill: 'toself',\n",
       "    fillcolor: 'rgba(128, 177, 211, 0.2)',\n",
       "    line: {\n",
       "      color: 'transparent',\n",
       "    },\n",
       "    showlegend: false,\n",
       "    hoverinfo: 'none',\n",
       "    visible: visible,\n",
       "  };\n",
       "\n",
       "  traces = [sd_trace, f_trace, arms_trace];\n",
       "\n",
       "  // iterate over out-of-sample arms\n",
       "  let i = 1;\n",
       "  Object.keys(arm_data['out_of_sample']).forEach(generator_run_name => {\n",
       "    const ax = [];\n",
       "    const ay = [];\n",
       "    const asem = [];\n",
       "    const atext = [];\n",
       "\n",
       "    Object.keys(arm_data['out_of_sample'][generator_run_name]).forEach(\n",
       "      arm_name => {\n",
       "        const parameters =\n",
       "          arm_data['out_of_sample'][generator_run_name][arm_name]['parameters'];\n",
       "        plot = true;\n",
       "        Object.keys(setx).forEach(p => {\n",
       "          if (p !== param && parameters[p] !== setx[p]) {\n",
       "            plot = false;\n",
       "          }\n",
       "        });\n",
       "        if (plot === true) {\n",
       "          ax.push(parameters[param]);\n",
       "          ay.push(\n",
       "            arm_data['out_of_sample'][generator_run_name][arm_name]['y_hat'][\n",
       "              metric\n",
       "            ],\n",
       "          );\n",
       "          asem.push(\n",
       "            arm_data['out_of_sample'][generator_run_name][arm_name]['se_hat'][\n",
       "              metric\n",
       "            ],\n",
       "          );\n",
       "          atext.push('<em>Candidate ' + arm_name + '</em>');\n",
       "        }\n",
       "      },\n",
       "    );\n",
       "\n",
       "    const out_of_sample_arm_res = relativize_data(\n",
       "      ay,\n",
       "      asem,\n",
       "      rel,\n",
       "      arm_data,\n",
       "      metric,\n",
       "    );\n",
       "    const ay_final = out_of_sample_arm_res[0];\n",
       "    const asem_final = out_of_sample_arm_res[1].map(x => x * 2);\n",
       "\n",
       "    traces.push({\n",
       "      hoverinfo: 'text',\n",
       "      legendgroup: generator_run_name,\n",
       "      marker: {color: 'black', symbol: i, opacity: 0.5},\n",
       "      mode: 'markers',\n",
       "      error_y: {\n",
       "        type: 'data',\n",
       "        array: asem_final,\n",
       "        visible: true,\n",
       "        color: 'black',\n",
       "      },\n",
       "      name: generator_run_name,\n",
       "      text: atext,\n",
       "      type: 'scatter',\n",
       "      xaxis: 'x',\n",
       "      x: ax,\n",
       "      yaxis: 'y',\n",
       "      y: ay_final,\n",
       "      visible: visible,\n",
       "    });\n",
       "\n",
       "    i += 1;\n",
       "  });\n",
       "  return traces;\n",
       "}\n",
       "</script>"
      ]
     },
     "metadata": {},
     "output_type": "display_data"
    },
    {
     "name": "stderr",
     "output_type": "stream",
     "text": [
      "[INFO 08-17 08:08:42] ipy_plotting: Injecting Plotly library into cell. Do not overwrite or delete cell.\n"
     ]
    }
   ],
   "source": [
    "import torch\n",
    "import numpy as np\n",
    "\n",
    "from ax.plot.contour import plot_contour\n",
    "from ax.plot.trace import optimization_trace_single_method\n",
    "from ax.service.managed_loop import optimize\n",
    "from ax.utils.notebook.plotting import render, init_notebook_plotting\n",
    "from ax.utils.tutorials.cnn_utils import load_mnist, train, evaluate, CNN\n",
    "\n",
    "init_notebook_plotting()"
   ]
  },
  {
   "cell_type": "code",
   "execution_count": 2,
   "metadata": {
    "collapsed": true
   },
   "outputs": [],
   "source": [
    "torch.manual_seed(12345)\n",
    "dtype = torch.float\n",
    "device = torch.device(\"cuda\" if torch.cuda.is_available() else \"cpu\")"
   ]
  },
  {
   "cell_type": "markdown",
   "metadata": {},
   "source": [
    "## 1. Load MNIST data\n",
    "First, we need to load the MNIST data and partition it into training, validation, and test sets.\n",
    "\n",
    "Note: this will download the dataset if necessary."
   ]
  },
  {
   "cell_type": "code",
   "execution_count": 3,
   "metadata": {
    "scrolled": true
   },
   "outputs": [
    {
     "name": "stdout",
     "output_type": "stream",
     "text": [
      "Downloading http://yann.lecun.com/exdb/mnist/train-images-idx3-ubyte.gz to ./data/MNIST/raw/train-images-idx3-ubyte.gz\n"
     ]
    },
    {
     "name": "stderr",
     "output_type": "stream",
     "text": [
      "\r",
      "0.0%"
     ]
    },
    {
     "name": "stderr",
     "output_type": "stream",
     "text": [
      "\r",
      "0.1%"
     ]
    },
    {
     "name": "stderr",
     "output_type": "stream",
     "text": [
      "\r",
      "0.2%"
     ]
    },
    {
     "name": "stderr",
     "output_type": "stream",
     "text": [
      "\r",
      "0.2%"
     ]
    },
    {
     "name": "stderr",
     "output_type": "stream",
     "text": [
      "\r",
      "0.3%"
     ]
    },
    {
     "name": "stderr",
     "output_type": "stream",
     "text": [
      "\r",
      "0.4%"
     ]
    },
    {
     "name": "stderr",
     "output_type": "stream",
     "text": [
      "\r",
      "0.5%"
     ]
    },
    {
     "name": "stderr",
     "output_type": "stream",
     "text": [
      "\r",
      "0.6%"
     ]
    },
    {
     "name": "stderr",
     "output_type": "stream",
     "text": [
      "\r",
      "0.7%"
     ]
    },
    {
     "name": "stderr",
     "output_type": "stream",
     "text": [
      "\r",
      "0.7%"
     ]
    },
    {
     "name": "stderr",
     "output_type": "stream",
     "text": [
      "\r",
      "0.8%"
     ]
    },
    {
     "name": "stderr",
     "output_type": "stream",
     "text": [
      "\r",
      "0.9%"
     ]
    },
    {
     "name": "stderr",
     "output_type": "stream",
     "text": [
      "\r",
      "1.0%"
     ]
    },
    {
     "name": "stderr",
     "output_type": "stream",
     "text": [
      "\r",
      "1.1%"
     ]
    },
    {
     "name": "stderr",
     "output_type": "stream",
     "text": [
      "\r",
      "1.2%"
     ]
    },
    {
     "name": "stderr",
     "output_type": "stream",
     "text": [
      "\r",
      "1.2%"
     ]
    },
    {
     "name": "stderr",
     "output_type": "stream",
     "text": [
      "\r",
      "1.3%"
     ]
    },
    {
     "name": "stderr",
     "output_type": "stream",
     "text": [
      "\r",
      "1.4%"
     ]
    },
    {
     "name": "stderr",
     "output_type": "stream",
     "text": [
      "\r",
      "1.5%"
     ]
    },
    {
     "name": "stderr",
     "output_type": "stream",
     "text": [
      "\r",
      "1.6%"
     ]
    },
    {
     "name": "stderr",
     "output_type": "stream",
     "text": [
      "\r",
      "1.7%"
     ]
    },
    {
     "name": "stderr",
     "output_type": "stream",
     "text": [
      "\r",
      "1.7%"
     ]
    },
    {
     "name": "stderr",
     "output_type": "stream",
     "text": [
      "\r",
      "1.8%"
     ]
    },
    {
     "name": "stderr",
     "output_type": "stream",
     "text": [
      "\r",
      "1.9%"
     ]
    },
    {
     "name": "stderr",
     "output_type": "stream",
     "text": [
      "\r",
      "2.0%"
     ]
    },
    {
     "name": "stderr",
     "output_type": "stream",
     "text": [
      "\r",
      "2.1%"
     ]
    },
    {
     "name": "stderr",
     "output_type": "stream",
     "text": [
      "\r",
      "2.1%"
     ]
    },
    {
     "name": "stderr",
     "output_type": "stream",
     "text": [
      "\r",
      "2.2%"
     ]
    },
    {
     "name": "stderr",
     "output_type": "stream",
     "text": [
      "\r",
      "2.3%"
     ]
    },
    {
     "name": "stderr",
     "output_type": "stream",
     "text": [
      "\r",
      "2.4%"
     ]
    },
    {
     "name": "stderr",
     "output_type": "stream",
     "text": [
      "\r",
      "2.5%"
     ]
    },
    {
     "name": "stderr",
     "output_type": "stream",
     "text": [
      "\r",
      "2.6%"
     ]
    },
    {
     "name": "stderr",
     "output_type": "stream",
     "text": [
      "\r",
      "2.6%"
     ]
    },
    {
     "name": "stderr",
     "output_type": "stream",
     "text": [
      "\r",
      "2.7%"
     ]
    },
    {
     "name": "stderr",
     "output_type": "stream",
     "text": [
      "\r",
      "2.8%"
     ]
    },
    {
     "name": "stderr",
     "output_type": "stream",
     "text": [
      "\r",
      "2.9%"
     ]
    },
    {
     "name": "stderr",
     "output_type": "stream",
     "text": [
      "\r",
      "3.0%"
     ]
    },
    {
     "name": "stderr",
     "output_type": "stream",
     "text": [
      "\r",
      "3.1%"
     ]
    },
    {
     "name": "stderr",
     "output_type": "stream",
     "text": [
      "\r",
      "3.1%"
     ]
    },
    {
     "name": "stderr",
     "output_type": "stream",
     "text": [
      "\r",
      "3.2%"
     ]
    },
    {
     "name": "stderr",
     "output_type": "stream",
     "text": [
      "\r",
      "3.3%"
     ]
    },
    {
     "name": "stderr",
     "output_type": "stream",
     "text": [
      "\r",
      "3.4%"
     ]
    },
    {
     "name": "stderr",
     "output_type": "stream",
     "text": [
      "\r",
      "3.5%"
     ]
    },
    {
     "name": "stderr",
     "output_type": "stream",
     "text": [
      "\r",
      "3.6%"
     ]
    },
    {
     "name": "stderr",
     "output_type": "stream",
     "text": [
      "\r",
      "3.6%"
     ]
    },
    {
     "name": "stderr",
     "output_type": "stream",
     "text": [
      "\r",
      "3.7%"
     ]
    },
    {
     "name": "stderr",
     "output_type": "stream",
     "text": [
      "\r",
      "3.8%"
     ]
    },
    {
     "name": "stderr",
     "output_type": "stream",
     "text": [
      "\r",
      "3.9%"
     ]
    },
    {
     "name": "stderr",
     "output_type": "stream",
     "text": [
      "\r",
      "4.0%"
     ]
    },
    {
     "name": "stderr",
     "output_type": "stream",
     "text": [
      "\r",
      "4.0%"
     ]
    },
    {
     "name": "stderr",
     "output_type": "stream",
     "text": [
      "\r",
      "4.1%"
     ]
    },
    {
     "name": "stderr",
     "output_type": "stream",
     "text": [
      "\r",
      "4.2%"
     ]
    },
    {
     "name": "stderr",
     "output_type": "stream",
     "text": [
      "\r",
      "4.3%"
     ]
    },
    {
     "name": "stderr",
     "output_type": "stream",
     "text": [
      "\r",
      "4.4%"
     ]
    },
    {
     "name": "stderr",
     "output_type": "stream",
     "text": [
      "\r",
      "4.5%"
     ]
    },
    {
     "name": "stderr",
     "output_type": "stream",
     "text": [
      "\r",
      "4.5%"
     ]
    },
    {
     "name": "stderr",
     "output_type": "stream",
     "text": [
      "\r",
      "4.6%"
     ]
    },
    {
     "name": "stderr",
     "output_type": "stream",
     "text": [
      "\r",
      "4.7%"
     ]
    },
    {
     "name": "stderr",
     "output_type": "stream",
     "text": [
      "\r",
      "4.8%"
     ]
    },
    {
     "name": "stderr",
     "output_type": "stream",
     "text": [
      "\r",
      "4.9%"
     ]
    },
    {
     "name": "stderr",
     "output_type": "stream",
     "text": [
      "\r",
      "5.0%"
     ]
    },
    {
     "name": "stderr",
     "output_type": "stream",
     "text": [
      "\r",
      "5.0%"
     ]
    },
    {
     "name": "stderr",
     "output_type": "stream",
     "text": [
      "\r",
      "5.1%"
     ]
    },
    {
     "name": "stderr",
     "output_type": "stream",
     "text": [
      "\r",
      "5.2%"
     ]
    },
    {
     "name": "stderr",
     "output_type": "stream",
     "text": [
      "\r",
      "5.3%"
     ]
    },
    {
     "name": "stderr",
     "output_type": "stream",
     "text": [
      "\r",
      "5.4%"
     ]
    },
    {
     "name": "stderr",
     "output_type": "stream",
     "text": [
      "\r",
      "5.5%"
     ]
    },
    {
     "name": "stderr",
     "output_type": "stream",
     "text": [
      "\r",
      "5.5%"
     ]
    },
    {
     "name": "stderr",
     "output_type": "stream",
     "text": [
      "\r",
      "5.6%"
     ]
    },
    {
     "name": "stderr",
     "output_type": "stream",
     "text": [
      "\r",
      "5.7%"
     ]
    },
    {
     "name": "stderr",
     "output_type": "stream",
     "text": [
      "\r",
      "5.8%"
     ]
    },
    {
     "name": "stderr",
     "output_type": "stream",
     "text": [
      "\r",
      "5.9%"
     ]
    },
    {
     "name": "stderr",
     "output_type": "stream",
     "text": [
      "\r",
      "6.0%"
     ]
    },
    {
     "name": "stderr",
     "output_type": "stream",
     "text": [
      "\r",
      "6.0%"
     ]
    },
    {
     "name": "stderr",
     "output_type": "stream",
     "text": [
      "\r",
      "6.1%"
     ]
    },
    {
     "name": "stderr",
     "output_type": "stream",
     "text": [
      "\r",
      "6.2%"
     ]
    },
    {
     "name": "stderr",
     "output_type": "stream",
     "text": [
      "\r",
      "6.3%"
     ]
    },
    {
     "name": "stderr",
     "output_type": "stream",
     "text": [
      "\r",
      "6.4%"
     ]
    },
    {
     "name": "stderr",
     "output_type": "stream",
     "text": [
      "\r",
      "6.4%"
     ]
    },
    {
     "name": "stderr",
     "output_type": "stream",
     "text": [
      "\r",
      "6.5%"
     ]
    },
    {
     "name": "stderr",
     "output_type": "stream",
     "text": [
      "\r",
      "6.6%"
     ]
    },
    {
     "name": "stderr",
     "output_type": "stream",
     "text": [
      "\r",
      "6.7%"
     ]
    },
    {
     "name": "stderr",
     "output_type": "stream",
     "text": [
      "\r",
      "6.8%"
     ]
    },
    {
     "name": "stderr",
     "output_type": "stream",
     "text": [
      "\r",
      "6.9%"
     ]
    },
    {
     "name": "stderr",
     "output_type": "stream",
     "text": [
      "\r",
      "6.9%"
     ]
    },
    {
     "name": "stderr",
     "output_type": "stream",
     "text": [
      "\r",
      "7.0%"
     ]
    },
    {
     "name": "stderr",
     "output_type": "stream",
     "text": [
      "\r",
      "7.1%"
     ]
    },
    {
     "name": "stderr",
     "output_type": "stream",
     "text": [
      "\r",
      "7.2%"
     ]
    },
    {
     "name": "stderr",
     "output_type": "stream",
     "text": [
      "\r",
      "7.3%"
     ]
    },
    {
     "name": "stderr",
     "output_type": "stream",
     "text": [
      "\r",
      "7.4%"
     ]
    },
    {
     "name": "stderr",
     "output_type": "stream",
     "text": [
      "\r",
      "7.4%"
     ]
    },
    {
     "name": "stderr",
     "output_type": "stream",
     "text": [
      "\r",
      "7.5%"
     ]
    },
    {
     "name": "stderr",
     "output_type": "stream",
     "text": [
      "\r",
      "7.6%"
     ]
    },
    {
     "name": "stderr",
     "output_type": "stream",
     "text": [
      "\r",
      "7.7%"
     ]
    },
    {
     "name": "stderr",
     "output_type": "stream",
     "text": [
      "\r",
      "7.8%"
     ]
    },
    {
     "name": "stderr",
     "output_type": "stream",
     "text": [
      "\r",
      "7.9%"
     ]
    },
    {
     "name": "stderr",
     "output_type": "stream",
     "text": [
      "\r",
      "7.9%"
     ]
    },
    {
     "name": "stderr",
     "output_type": "stream",
     "text": [
      "\r",
      "8.0%"
     ]
    },
    {
     "name": "stderr",
     "output_type": "stream",
     "text": [
      "\r",
      "8.1%"
     ]
    },
    {
     "name": "stderr",
     "output_type": "stream",
     "text": [
      "\r",
      "8.2%"
     ]
    },
    {
     "name": "stderr",
     "output_type": "stream",
     "text": [
      "\r",
      "8.3%"
     ]
    },
    {
     "name": "stderr",
     "output_type": "stream",
     "text": [
      "\r",
      "8.3%"
     ]
    },
    {
     "name": "stderr",
     "output_type": "stream",
     "text": [
      "\r",
      "8.4%"
     ]
    },
    {
     "name": "stderr",
     "output_type": "stream",
     "text": [
      "\r",
      "8.5%"
     ]
    },
    {
     "name": "stderr",
     "output_type": "stream",
     "text": [
      "\r",
      "8.6%"
     ]
    },
    {
     "name": "stderr",
     "output_type": "stream",
     "text": [
      "\r",
      "8.7%"
     ]
    },
    {
     "name": "stderr",
     "output_type": "stream",
     "text": [
      "\r",
      "8.8%"
     ]
    },
    {
     "name": "stderr",
     "output_type": "stream",
     "text": [
      "\r",
      "8.8%"
     ]
    },
    {
     "name": "stderr",
     "output_type": "stream",
     "text": [
      "\r",
      "8.9%"
     ]
    },
    {
     "name": "stderr",
     "output_type": "stream",
     "text": [
      "\r",
      "9.0%"
     ]
    },
    {
     "name": "stderr",
     "output_type": "stream",
     "text": [
      "\r",
      "9.1%"
     ]
    },
    {
     "name": "stderr",
     "output_type": "stream",
     "text": [
      "\r",
      "9.2%"
     ]
    },
    {
     "name": "stderr",
     "output_type": "stream",
     "text": [
      "\r",
      "9.3%"
     ]
    },
    {
     "name": "stderr",
     "output_type": "stream",
     "text": [
      "\r",
      "9.3%"
     ]
    },
    {
     "name": "stderr",
     "output_type": "stream",
     "text": [
      "\r",
      "9.4%"
     ]
    },
    {
     "name": "stderr",
     "output_type": "stream",
     "text": [
      "\r",
      "9.5%"
     ]
    },
    {
     "name": "stderr",
     "output_type": "stream",
     "text": [
      "\r",
      "9.6%"
     ]
    },
    {
     "name": "stderr",
     "output_type": "stream",
     "text": [
      "\r",
      "9.7%"
     ]
    },
    {
     "name": "stderr",
     "output_type": "stream",
     "text": [
      "\r",
      "9.8%"
     ]
    },
    {
     "name": "stderr",
     "output_type": "stream",
     "text": [
      "\r",
      "9.8%"
     ]
    },
    {
     "name": "stderr",
     "output_type": "stream",
     "text": [
      "\r",
      "9.9%"
     ]
    },
    {
     "name": "stderr",
     "output_type": "stream",
     "text": [
      "\r",
      "10.0%"
     ]
    },
    {
     "name": "stderr",
     "output_type": "stream",
     "text": [
      "\r",
      "10.1%"
     ]
    },
    {
     "name": "stderr",
     "output_type": "stream",
     "text": [
      "\r",
      "10.2%"
     ]
    },
    {
     "name": "stderr",
     "output_type": "stream",
     "text": [
      "\r",
      "10.2%"
     ]
    },
    {
     "name": "stderr",
     "output_type": "stream",
     "text": [
      "\r",
      "10.3%"
     ]
    },
    {
     "name": "stderr",
     "output_type": "stream",
     "text": [
      "\r",
      "10.4%"
     ]
    },
    {
     "name": "stderr",
     "output_type": "stream",
     "text": [
      "\r",
      "10.5%"
     ]
    },
    {
     "name": "stderr",
     "output_type": "stream",
     "text": [
      "\r",
      "10.6%"
     ]
    },
    {
     "name": "stderr",
     "output_type": "stream",
     "text": [
      "\r",
      "10.7%"
     ]
    },
    {
     "name": "stderr",
     "output_type": "stream",
     "text": [
      "\r",
      "10.7%"
     ]
    },
    {
     "name": "stderr",
     "output_type": "stream",
     "text": [
      "\r",
      "10.8%"
     ]
    },
    {
     "name": "stderr",
     "output_type": "stream",
     "text": [
      "\r",
      "10.9%"
     ]
    },
    {
     "name": "stderr",
     "output_type": "stream",
     "text": [
      "\r",
      "11.0%"
     ]
    },
    {
     "name": "stderr",
     "output_type": "stream",
     "text": [
      "\r",
      "11.1%"
     ]
    },
    {
     "name": "stderr",
     "output_type": "stream",
     "text": [
      "\r",
      "11.2%"
     ]
    },
    {
     "name": "stderr",
     "output_type": "stream",
     "text": [
      "\r",
      "11.2%"
     ]
    },
    {
     "name": "stderr",
     "output_type": "stream",
     "text": [
      "\r",
      "11.3%"
     ]
    },
    {
     "name": "stderr",
     "output_type": "stream",
     "text": [
      "\r",
      "11.4%"
     ]
    },
    {
     "name": "stderr",
     "output_type": "stream",
     "text": [
      "\r",
      "11.5%"
     ]
    },
    {
     "name": "stderr",
     "output_type": "stream",
     "text": [
      "\r",
      "11.6%"
     ]
    },
    {
     "name": "stderr",
     "output_type": "stream",
     "text": [
      "\r",
      "11.7%"
     ]
    },
    {
     "name": "stderr",
     "output_type": "stream",
     "text": [
      "\r",
      "11.7%"
     ]
    },
    {
     "name": "stderr",
     "output_type": "stream",
     "text": [
      "\r",
      "11.8%"
     ]
    },
    {
     "name": "stderr",
     "output_type": "stream",
     "text": [
      "\r",
      "11.9%"
     ]
    },
    {
     "name": "stderr",
     "output_type": "stream",
     "text": [
      "\r",
      "12.0%"
     ]
    },
    {
     "name": "stderr",
     "output_type": "stream",
     "text": [
      "\r",
      "12.1%"
     ]
    },
    {
     "name": "stderr",
     "output_type": "stream",
     "text": [
      "\r",
      "12.1%"
     ]
    },
    {
     "name": "stderr",
     "output_type": "stream",
     "text": [
      "\r",
      "12.2%"
     ]
    },
    {
     "name": "stderr",
     "output_type": "stream",
     "text": [
      "\r",
      "12.3%"
     ]
    },
    {
     "name": "stderr",
     "output_type": "stream",
     "text": [
      "\r",
      "12.4%"
     ]
    },
    {
     "name": "stderr",
     "output_type": "stream",
     "text": [
      "\r",
      "12.5%"
     ]
    },
    {
     "name": "stderr",
     "output_type": "stream",
     "text": [
      "\r",
      "12.6%"
     ]
    },
    {
     "name": "stderr",
     "output_type": "stream",
     "text": [
      "\r",
      "12.6%"
     ]
    },
    {
     "name": "stderr",
     "output_type": "stream",
     "text": [
      "\r",
      "12.7%"
     ]
    },
    {
     "name": "stderr",
     "output_type": "stream",
     "text": [
      "\r",
      "12.8%"
     ]
    },
    {
     "name": "stderr",
     "output_type": "stream",
     "text": [
      "\r",
      "12.9%"
     ]
    },
    {
     "name": "stderr",
     "output_type": "stream",
     "text": [
      "\r",
      "13.0%"
     ]
    },
    {
     "name": "stderr",
     "output_type": "stream",
     "text": [
      "\r",
      "13.1%"
     ]
    },
    {
     "name": "stderr",
     "output_type": "stream",
     "text": [
      "\r",
      "13.1%"
     ]
    },
    {
     "name": "stderr",
     "output_type": "stream",
     "text": [
      "\r",
      "13.2%"
     ]
    },
    {
     "name": "stderr",
     "output_type": "stream",
     "text": [
      "\r",
      "13.3%"
     ]
    },
    {
     "name": "stderr",
     "output_type": "stream",
     "text": [
      "\r",
      "13.4%"
     ]
    },
    {
     "name": "stderr",
     "output_type": "stream",
     "text": [
      "\r",
      "13.5%"
     ]
    },
    {
     "name": "stderr",
     "output_type": "stream",
     "text": [
      "\r",
      "13.6%"
     ]
    },
    {
     "name": "stderr",
     "output_type": "stream",
     "text": [
      "\r",
      "13.6%"
     ]
    },
    {
     "name": "stderr",
     "output_type": "stream",
     "text": [
      "\r",
      "13.7%"
     ]
    },
    {
     "name": "stderr",
     "output_type": "stream",
     "text": [
      "\r",
      "13.8%"
     ]
    },
    {
     "name": "stderr",
     "output_type": "stream",
     "text": [
      "\r",
      "13.9%"
     ]
    },
    {
     "name": "stderr",
     "output_type": "stream",
     "text": [
      "\r",
      "14.0%"
     ]
    },
    {
     "name": "stderr",
     "output_type": "stream",
     "text": [
      "\r",
      "14.0%"
     ]
    },
    {
     "name": "stderr",
     "output_type": "stream",
     "text": [
      "\r",
      "14.1%"
     ]
    },
    {
     "name": "stderr",
     "output_type": "stream",
     "text": [
      "\r",
      "14.2%"
     ]
    },
    {
     "name": "stderr",
     "output_type": "stream",
     "text": [
      "\r",
      "14.3%"
     ]
    },
    {
     "name": "stderr",
     "output_type": "stream",
     "text": [
      "\r",
      "14.4%"
     ]
    },
    {
     "name": "stderr",
     "output_type": "stream",
     "text": [
      "\r",
      "14.5%"
     ]
    },
    {
     "name": "stderr",
     "output_type": "stream",
     "text": [
      "\r",
      "14.5%"
     ]
    },
    {
     "name": "stderr",
     "output_type": "stream",
     "text": [
      "\r",
      "14.6%"
     ]
    },
    {
     "name": "stderr",
     "output_type": "stream",
     "text": [
      "\r",
      "14.7%"
     ]
    },
    {
     "name": "stderr",
     "output_type": "stream",
     "text": [
      "\r",
      "14.8%"
     ]
    },
    {
     "name": "stderr",
     "output_type": "stream",
     "text": [
      "\r",
      "14.9%"
     ]
    },
    {
     "name": "stderr",
     "output_type": "stream",
     "text": [
      "\r",
      "15.0%"
     ]
    },
    {
     "name": "stderr",
     "output_type": "stream",
     "text": [
      "\r",
      "15.0%"
     ]
    },
    {
     "name": "stderr",
     "output_type": "stream",
     "text": [
      "\r",
      "15.1%"
     ]
    },
    {
     "name": "stderr",
     "output_type": "stream",
     "text": [
      "\r",
      "15.2%"
     ]
    },
    {
     "name": "stderr",
     "output_type": "stream",
     "text": [
      "\r",
      "15.3%"
     ]
    },
    {
     "name": "stderr",
     "output_type": "stream",
     "text": [
      "\r",
      "15.4%"
     ]
    },
    {
     "name": "stderr",
     "output_type": "stream",
     "text": [
      "\r",
      "15.5%"
     ]
    },
    {
     "name": "stderr",
     "output_type": "stream",
     "text": [
      "\r",
      "15.5%"
     ]
    },
    {
     "name": "stderr",
     "output_type": "stream",
     "text": [
      "\r",
      "15.6%"
     ]
    },
    {
     "name": "stderr",
     "output_type": "stream",
     "text": [
      "\r",
      "15.7%"
     ]
    },
    {
     "name": "stderr",
     "output_type": "stream",
     "text": [
      "\r",
      "15.8%"
     ]
    },
    {
     "name": "stderr",
     "output_type": "stream",
     "text": [
      "\r",
      "15.9%"
     ]
    },
    {
     "name": "stderr",
     "output_type": "stream",
     "text": [
      "\r",
      "16.0%"
     ]
    },
    {
     "name": "stderr",
     "output_type": "stream",
     "text": [
      "\r",
      "16.0%"
     ]
    },
    {
     "name": "stderr",
     "output_type": "stream",
     "text": [
      "\r",
      "16.1%"
     ]
    },
    {
     "name": "stderr",
     "output_type": "stream",
     "text": [
      "\r",
      "16.2%"
     ]
    },
    {
     "name": "stderr",
     "output_type": "stream",
     "text": [
      "\r",
      "16.3%"
     ]
    },
    {
     "name": "stderr",
     "output_type": "stream",
     "text": [
      "\r",
      "16.4%"
     ]
    },
    {
     "name": "stderr",
     "output_type": "stream",
     "text": [
      "\r",
      "16.4%"
     ]
    },
    {
     "name": "stderr",
     "output_type": "stream",
     "text": [
      "\r",
      "16.5%"
     ]
    },
    {
     "name": "stderr",
     "output_type": "stream",
     "text": [
      "\r",
      "16.6%"
     ]
    },
    {
     "name": "stderr",
     "output_type": "stream",
     "text": [
      "\r",
      "16.7%"
     ]
    },
    {
     "name": "stderr",
     "output_type": "stream",
     "text": [
      "\r",
      "16.8%"
     ]
    },
    {
     "name": "stderr",
     "output_type": "stream",
     "text": [
      "\r",
      "16.9%"
     ]
    },
    {
     "name": "stderr",
     "output_type": "stream",
     "text": [
      "\r",
      "16.9%"
     ]
    },
    {
     "name": "stderr",
     "output_type": "stream",
     "text": [
      "\r",
      "17.0%"
     ]
    },
    {
     "name": "stderr",
     "output_type": "stream",
     "text": [
      "\r",
      "17.1%"
     ]
    },
    {
     "name": "stderr",
     "output_type": "stream",
     "text": [
      "\r",
      "17.2%"
     ]
    },
    {
     "name": "stderr",
     "output_type": "stream",
     "text": [
      "\r",
      "17.3%"
     ]
    },
    {
     "name": "stderr",
     "output_type": "stream",
     "text": [
      "\r",
      "17.4%"
     ]
    },
    {
     "name": "stderr",
     "output_type": "stream",
     "text": [
      "\r",
      "17.4%"
     ]
    },
    {
     "name": "stderr",
     "output_type": "stream",
     "text": [
      "\r",
      "17.5%"
     ]
    },
    {
     "name": "stderr",
     "output_type": "stream",
     "text": [
      "\r",
      "17.6%"
     ]
    },
    {
     "name": "stderr",
     "output_type": "stream",
     "text": [
      "\r",
      "17.7%"
     ]
    },
    {
     "name": "stderr",
     "output_type": "stream",
     "text": [
      "\r",
      "17.8%"
     ]
    },
    {
     "name": "stderr",
     "output_type": "stream",
     "text": [
      "\r",
      "17.9%"
     ]
    },
    {
     "name": "stderr",
     "output_type": "stream",
     "text": [
      "\r",
      "17.9%"
     ]
    },
    {
     "name": "stderr",
     "output_type": "stream",
     "text": [
      "\r",
      "18.0%"
     ]
    },
    {
     "name": "stderr",
     "output_type": "stream",
     "text": [
      "\r",
      "18.1%"
     ]
    },
    {
     "name": "stderr",
     "output_type": "stream",
     "text": [
      "\r",
      "18.2%"
     ]
    },
    {
     "name": "stderr",
     "output_type": "stream",
     "text": [
      "\r",
      "18.3%"
     ]
    },
    {
     "name": "stderr",
     "output_type": "stream",
     "text": [
      "\r",
      "18.3%"
     ]
    },
    {
     "name": "stderr",
     "output_type": "stream",
     "text": [
      "\r",
      "18.4%"
     ]
    },
    {
     "name": "stderr",
     "output_type": "stream",
     "text": [
      "\r",
      "18.5%"
     ]
    },
    {
     "name": "stderr",
     "output_type": "stream",
     "text": [
      "\r",
      "18.6%"
     ]
    },
    {
     "name": "stderr",
     "output_type": "stream",
     "text": [
      "\r",
      "18.7%"
     ]
    },
    {
     "name": "stderr",
     "output_type": "stream",
     "text": [
      "\r",
      "18.8%"
     ]
    },
    {
     "name": "stderr",
     "output_type": "stream",
     "text": [
      "\r",
      "18.8%"
     ]
    },
    {
     "name": "stderr",
     "output_type": "stream",
     "text": [
      "\r",
      "18.9%"
     ]
    },
    {
     "name": "stderr",
     "output_type": "stream",
     "text": [
      "\r",
      "19.0%"
     ]
    },
    {
     "name": "stderr",
     "output_type": "stream",
     "text": [
      "\r",
      "19.1%"
     ]
    },
    {
     "name": "stderr",
     "output_type": "stream",
     "text": [
      "\r",
      "19.2%"
     ]
    },
    {
     "name": "stderr",
     "output_type": "stream",
     "text": [
      "\r",
      "19.3%"
     ]
    },
    {
     "name": "stderr",
     "output_type": "stream",
     "text": [
      "\r",
      "19.3%"
     ]
    },
    {
     "name": "stderr",
     "output_type": "stream",
     "text": [
      "\r",
      "19.4%"
     ]
    },
    {
     "name": "stderr",
     "output_type": "stream",
     "text": [
      "\r",
      "19.5%"
     ]
    },
    {
     "name": "stderr",
     "output_type": "stream",
     "text": [
      "\r",
      "19.6%"
     ]
    },
    {
     "name": "stderr",
     "output_type": "stream",
     "text": [
      "\r",
      "19.7%"
     ]
    },
    {
     "name": "stderr",
     "output_type": "stream",
     "text": [
      "\r",
      "19.8%"
     ]
    },
    {
     "name": "stderr",
     "output_type": "stream",
     "text": [
      "\r",
      "19.8%"
     ]
    },
    {
     "name": "stderr",
     "output_type": "stream",
     "text": [
      "\r",
      "19.9%"
     ]
    },
    {
     "name": "stderr",
     "output_type": "stream",
     "text": [
      "\r",
      "20.0%"
     ]
    },
    {
     "name": "stderr",
     "output_type": "stream",
     "text": [
      "\r",
      "20.1%"
     ]
    },
    {
     "name": "stderr",
     "output_type": "stream",
     "text": [
      "\r",
      "20.2%"
     ]
    },
    {
     "name": "stderr",
     "output_type": "stream",
     "text": [
      "\r",
      "20.2%"
     ]
    },
    {
     "name": "stderr",
     "output_type": "stream",
     "text": [
      "\r",
      "20.3%"
     ]
    },
    {
     "name": "stderr",
     "output_type": "stream",
     "text": [
      "\r",
      "20.4%"
     ]
    },
    {
     "name": "stderr",
     "output_type": "stream",
     "text": [
      "\r",
      "20.5%"
     ]
    },
    {
     "name": "stderr",
     "output_type": "stream",
     "text": [
      "\r",
      "20.6%"
     ]
    },
    {
     "name": "stderr",
     "output_type": "stream",
     "text": [
      "\r",
      "20.7%"
     ]
    },
    {
     "name": "stderr",
     "output_type": "stream",
     "text": [
      "\r",
      "20.7%"
     ]
    },
    {
     "name": "stderr",
     "output_type": "stream",
     "text": [
      "\r",
      "20.8%"
     ]
    },
    {
     "name": "stderr",
     "output_type": "stream",
     "text": [
      "\r",
      "20.9%"
     ]
    },
    {
     "name": "stderr",
     "output_type": "stream",
     "text": [
      "\r",
      "21.0%"
     ]
    },
    {
     "name": "stderr",
     "output_type": "stream",
     "text": [
      "\r",
      "21.1%"
     ]
    },
    {
     "name": "stderr",
     "output_type": "stream",
     "text": [
      "\r",
      "21.2%"
     ]
    },
    {
     "name": "stderr",
     "output_type": "stream",
     "text": [
      "\r",
      "21.2%"
     ]
    },
    {
     "name": "stderr",
     "output_type": "stream",
     "text": [
      "\r",
      "21.3%"
     ]
    },
    {
     "name": "stderr",
     "output_type": "stream",
     "text": [
      "\r",
      "21.4%"
     ]
    },
    {
     "name": "stderr",
     "output_type": "stream",
     "text": [
      "\r",
      "21.5%"
     ]
    },
    {
     "name": "stderr",
     "output_type": "stream",
     "text": [
      "\r",
      "21.6%"
     ]
    },
    {
     "name": "stderr",
     "output_type": "stream",
     "text": [
      "\r",
      "21.7%"
     ]
    },
    {
     "name": "stderr",
     "output_type": "stream",
     "text": [
      "\r",
      "21.7%"
     ]
    },
    {
     "name": "stderr",
     "output_type": "stream",
     "text": [
      "\r",
      "21.8%"
     ]
    },
    {
     "name": "stderr",
     "output_type": "stream",
     "text": [
      "\r",
      "21.9%"
     ]
    },
    {
     "name": "stderr",
     "output_type": "stream",
     "text": [
      "\r",
      "22.0%"
     ]
    },
    {
     "name": "stderr",
     "output_type": "stream",
     "text": [
      "\r",
      "22.1%"
     ]
    },
    {
     "name": "stderr",
     "output_type": "stream",
     "text": [
      "\r",
      "22.1%"
     ]
    },
    {
     "name": "stderr",
     "output_type": "stream",
     "text": [
      "\r",
      "22.2%"
     ]
    },
    {
     "name": "stderr",
     "output_type": "stream",
     "text": [
      "\r",
      "22.3%"
     ]
    },
    {
     "name": "stderr",
     "output_type": "stream",
     "text": [
      "\r",
      "22.4%"
     ]
    },
    {
     "name": "stderr",
     "output_type": "stream",
     "text": [
      "\r",
      "22.5%"
     ]
    },
    {
     "name": "stderr",
     "output_type": "stream",
     "text": [
      "\r",
      "22.6%"
     ]
    },
    {
     "name": "stderr",
     "output_type": "stream",
     "text": [
      "\r",
      "22.6%"
     ]
    },
    {
     "name": "stderr",
     "output_type": "stream",
     "text": [
      "\r",
      "22.7%"
     ]
    },
    {
     "name": "stderr",
     "output_type": "stream",
     "text": [
      "\r",
      "22.8%"
     ]
    },
    {
     "name": "stderr",
     "output_type": "stream",
     "text": [
      "\r",
      "22.9%"
     ]
    },
    {
     "name": "stderr",
     "output_type": "stream",
     "text": [
      "\r",
      "23.0%"
     ]
    },
    {
     "name": "stderr",
     "output_type": "stream",
     "text": [
      "\r",
      "23.1%"
     ]
    },
    {
     "name": "stderr",
     "output_type": "stream",
     "text": [
      "\r",
      "23.1%"
     ]
    },
    {
     "name": "stderr",
     "output_type": "stream",
     "text": [
      "\r",
      "23.2%"
     ]
    },
    {
     "name": "stderr",
     "output_type": "stream",
     "text": [
      "\r",
      "23.3%"
     ]
    },
    {
     "name": "stderr",
     "output_type": "stream",
     "text": [
      "\r",
      "23.4%"
     ]
    },
    {
     "name": "stderr",
     "output_type": "stream",
     "text": [
      "\r",
      "23.5%"
     ]
    },
    {
     "name": "stderr",
     "output_type": "stream",
     "text": [
      "\r",
      "23.6%"
     ]
    },
    {
     "name": "stderr",
     "output_type": "stream",
     "text": [
      "\r",
      "23.6%"
     ]
    },
    {
     "name": "stderr",
     "output_type": "stream",
     "text": [
      "\r",
      "23.7%"
     ]
    },
    {
     "name": "stderr",
     "output_type": "stream",
     "text": [
      "\r",
      "23.8%"
     ]
    },
    {
     "name": "stderr",
     "output_type": "stream",
     "text": [
      "\r",
      "23.9%"
     ]
    },
    {
     "name": "stderr",
     "output_type": "stream",
     "text": [
      "\r",
      "24.0%"
     ]
    },
    {
     "name": "stderr",
     "output_type": "stream",
     "text": [
      "\r",
      "24.0%"
     ]
    },
    {
     "name": "stderr",
     "output_type": "stream",
     "text": [
      "\r",
      "24.1%"
     ]
    },
    {
     "name": "stderr",
     "output_type": "stream",
     "text": [
      "\r",
      "24.2%"
     ]
    },
    {
     "name": "stderr",
     "output_type": "stream",
     "text": [
      "\r",
      "24.3%"
     ]
    },
    {
     "name": "stderr",
     "output_type": "stream",
     "text": [
      "\r",
      "24.4%"
     ]
    },
    {
     "name": "stderr",
     "output_type": "stream",
     "text": [
      "\r",
      "24.5%"
     ]
    },
    {
     "name": "stderr",
     "output_type": "stream",
     "text": [
      "\r",
      "24.5%"
     ]
    },
    {
     "name": "stderr",
     "output_type": "stream",
     "text": [
      "\r",
      "24.6%"
     ]
    },
    {
     "name": "stderr",
     "output_type": "stream",
     "text": [
      "\r",
      "24.7%"
     ]
    },
    {
     "name": "stderr",
     "output_type": "stream",
     "text": [
      "\r",
      "24.8%"
     ]
    },
    {
     "name": "stderr",
     "output_type": "stream",
     "text": [
      "\r",
      "24.9%"
     ]
    },
    {
     "name": "stderr",
     "output_type": "stream",
     "text": [
      "\r",
      "25.0%"
     ]
    },
    {
     "name": "stderr",
     "output_type": "stream",
     "text": [
      "\r",
      "25.0%"
     ]
    },
    {
     "name": "stderr",
     "output_type": "stream",
     "text": [
      "\r",
      "25.1%"
     ]
    },
    {
     "name": "stderr",
     "output_type": "stream",
     "text": [
      "\r",
      "25.2%"
     ]
    },
    {
     "name": "stderr",
     "output_type": "stream",
     "text": [
      "\r",
      "25.3%"
     ]
    },
    {
     "name": "stderr",
     "output_type": "stream",
     "text": [
      "\r",
      "25.4%"
     ]
    },
    {
     "name": "stderr",
     "output_type": "stream",
     "text": [
      "\r",
      "25.5%"
     ]
    },
    {
     "name": "stderr",
     "output_type": "stream",
     "text": [
      "\r",
      "25.5%"
     ]
    },
    {
     "name": "stderr",
     "output_type": "stream",
     "text": [
      "\r",
      "25.6%"
     ]
    },
    {
     "name": "stderr",
     "output_type": "stream",
     "text": [
      "\r",
      "25.7%"
     ]
    },
    {
     "name": "stderr",
     "output_type": "stream",
     "text": [
      "\r",
      "25.8%"
     ]
    },
    {
     "name": "stderr",
     "output_type": "stream",
     "text": [
      "\r",
      "25.9%"
     ]
    },
    {
     "name": "stderr",
     "output_type": "stream",
     "text": [
      "\r",
      "26.0%"
     ]
    },
    {
     "name": "stderr",
     "output_type": "stream",
     "text": [
      "\r",
      "26.0%"
     ]
    },
    {
     "name": "stderr",
     "output_type": "stream",
     "text": [
      "\r",
      "26.1%"
     ]
    },
    {
     "name": "stderr",
     "output_type": "stream",
     "text": [
      "\r",
      "26.2%"
     ]
    },
    {
     "name": "stderr",
     "output_type": "stream",
     "text": [
      "\r",
      "26.3%"
     ]
    },
    {
     "name": "stderr",
     "output_type": "stream",
     "text": [
      "\r",
      "26.4%"
     ]
    },
    {
     "name": "stderr",
     "output_type": "stream",
     "text": [
      "\r",
      "26.4%"
     ]
    },
    {
     "name": "stderr",
     "output_type": "stream",
     "text": [
      "\r",
      "26.5%"
     ]
    },
    {
     "name": "stderr",
     "output_type": "stream",
     "text": [
      "\r",
      "26.6%"
     ]
    },
    {
     "name": "stderr",
     "output_type": "stream",
     "text": [
      "\r",
      "26.7%"
     ]
    },
    {
     "name": "stderr",
     "output_type": "stream",
     "text": [
      "\r",
      "26.8%"
     ]
    },
    {
     "name": "stderr",
     "output_type": "stream",
     "text": [
      "\r",
      "26.9%"
     ]
    },
    {
     "name": "stderr",
     "output_type": "stream",
     "text": [
      "\r",
      "26.9%"
     ]
    },
    {
     "name": "stderr",
     "output_type": "stream",
     "text": [
      "\r",
      "27.0%"
     ]
    },
    {
     "name": "stderr",
     "output_type": "stream",
     "text": [
      "\r",
      "27.1%"
     ]
    },
    {
     "name": "stderr",
     "output_type": "stream",
     "text": [
      "\r",
      "27.2%"
     ]
    },
    {
     "name": "stderr",
     "output_type": "stream",
     "text": [
      "\r",
      "27.3%"
     ]
    },
    {
     "name": "stderr",
     "output_type": "stream",
     "text": [
      "\r",
      "27.4%"
     ]
    },
    {
     "name": "stderr",
     "output_type": "stream",
     "text": [
      "\r",
      "27.4%"
     ]
    },
    {
     "name": "stderr",
     "output_type": "stream",
     "text": [
      "\r",
      "27.5%"
     ]
    },
    {
     "name": "stderr",
     "output_type": "stream",
     "text": [
      "\r",
      "27.6%"
     ]
    },
    {
     "name": "stderr",
     "output_type": "stream",
     "text": [
      "\r",
      "27.7%"
     ]
    },
    {
     "name": "stderr",
     "output_type": "stream",
     "text": [
      "\r",
      "27.8%"
     ]
    },
    {
     "name": "stderr",
     "output_type": "stream",
     "text": [
      "\r",
      "27.9%"
     ]
    },
    {
     "name": "stderr",
     "output_type": "stream",
     "text": [
      "\r",
      "27.9%"
     ]
    },
    {
     "name": "stderr",
     "output_type": "stream",
     "text": [
      "\r",
      "28.0%"
     ]
    },
    {
     "name": "stderr",
     "output_type": "stream",
     "text": [
      "\r",
      "28.1%"
     ]
    },
    {
     "name": "stderr",
     "output_type": "stream",
     "text": [
      "\r",
      "28.2%"
     ]
    },
    {
     "name": "stderr",
     "output_type": "stream",
     "text": [
      "\r",
      "28.3%"
     ]
    },
    {
     "name": "stderr",
     "output_type": "stream",
     "text": [
      "\r",
      "28.3%"
     ]
    },
    {
     "name": "stderr",
     "output_type": "stream",
     "text": [
      "\r",
      "28.4%"
     ]
    },
    {
     "name": "stderr",
     "output_type": "stream",
     "text": [
      "\r",
      "28.5%"
     ]
    },
    {
     "name": "stderr",
     "output_type": "stream",
     "text": [
      "\r",
      "28.6%"
     ]
    },
    {
     "name": "stderr",
     "output_type": "stream",
     "text": [
      "\r",
      "28.7%"
     ]
    },
    {
     "name": "stderr",
     "output_type": "stream",
     "text": [
      "\r",
      "28.8%"
     ]
    },
    {
     "name": "stderr",
     "output_type": "stream",
     "text": [
      "\r",
      "28.8%"
     ]
    },
    {
     "name": "stderr",
     "output_type": "stream",
     "text": [
      "\r",
      "28.9%"
     ]
    },
    {
     "name": "stderr",
     "output_type": "stream",
     "text": [
      "\r",
      "29.0%"
     ]
    },
    {
     "name": "stderr",
     "output_type": "stream",
     "text": [
      "\r",
      "29.1%"
     ]
    },
    {
     "name": "stderr",
     "output_type": "stream",
     "text": [
      "\r",
      "29.2%"
     ]
    },
    {
     "name": "stderr",
     "output_type": "stream",
     "text": [
      "\r",
      "29.3%"
     ]
    },
    {
     "name": "stderr",
     "output_type": "stream",
     "text": [
      "\r",
      "29.3%"
     ]
    },
    {
     "name": "stderr",
     "output_type": "stream",
     "text": [
      "\r",
      "29.4%"
     ]
    },
    {
     "name": "stderr",
     "output_type": "stream",
     "text": [
      "\r",
      "29.5%"
     ]
    },
    {
     "name": "stderr",
     "output_type": "stream",
     "text": [
      "\r",
      "29.6%"
     ]
    },
    {
     "name": "stderr",
     "output_type": "stream",
     "text": [
      "\r",
      "29.7%"
     ]
    },
    {
     "name": "stderr",
     "output_type": "stream",
     "text": [
      "\r",
      "29.8%"
     ]
    },
    {
     "name": "stderr",
     "output_type": "stream",
     "text": [
      "\r",
      "29.8%"
     ]
    },
    {
     "name": "stderr",
     "output_type": "stream",
     "text": [
      "\r",
      "29.9%"
     ]
    },
    {
     "name": "stderr",
     "output_type": "stream",
     "text": [
      "\r",
      "30.0%"
     ]
    },
    {
     "name": "stderr",
     "output_type": "stream",
     "text": [
      "\r",
      "30.1%"
     ]
    },
    {
     "name": "stderr",
     "output_type": "stream",
     "text": [
      "\r",
      "30.2%"
     ]
    },
    {
     "name": "stderr",
     "output_type": "stream",
     "text": [
      "\r",
      "30.2%"
     ]
    },
    {
     "name": "stderr",
     "output_type": "stream",
     "text": [
      "\r",
      "30.3%"
     ]
    },
    {
     "name": "stderr",
     "output_type": "stream",
     "text": [
      "\r",
      "30.4%"
     ]
    },
    {
     "name": "stderr",
     "output_type": "stream",
     "text": [
      "\r",
      "30.5%"
     ]
    },
    {
     "name": "stderr",
     "output_type": "stream",
     "text": [
      "\r",
      "30.6%"
     ]
    },
    {
     "name": "stderr",
     "output_type": "stream",
     "text": [
      "\r",
      "30.7%"
     ]
    },
    {
     "name": "stderr",
     "output_type": "stream",
     "text": [
      "\r",
      "30.7%"
     ]
    },
    {
     "name": "stderr",
     "output_type": "stream",
     "text": [
      "\r",
      "30.8%"
     ]
    },
    {
     "name": "stderr",
     "output_type": "stream",
     "text": [
      "\r",
      "30.9%"
     ]
    },
    {
     "name": "stderr",
     "output_type": "stream",
     "text": [
      "\r",
      "31.0%"
     ]
    },
    {
     "name": "stderr",
     "output_type": "stream",
     "text": [
      "\r",
      "31.1%"
     ]
    },
    {
     "name": "stderr",
     "output_type": "stream",
     "text": [
      "\r",
      "31.2%"
     ]
    },
    {
     "name": "stderr",
     "output_type": "stream",
     "text": [
      "\r",
      "31.2%"
     ]
    },
    {
     "name": "stderr",
     "output_type": "stream",
     "text": [
      "\r",
      "31.3%"
     ]
    },
    {
     "name": "stderr",
     "output_type": "stream",
     "text": [
      "\r",
      "31.4%"
     ]
    },
    {
     "name": "stderr",
     "output_type": "stream",
     "text": [
      "\r",
      "31.5%"
     ]
    },
    {
     "name": "stderr",
     "output_type": "stream",
     "text": [
      "\r",
      "31.6%"
     ]
    },
    {
     "name": "stderr",
     "output_type": "stream",
     "text": [
      "\r",
      "31.7%"
     ]
    },
    {
     "name": "stderr",
     "output_type": "stream",
     "text": [
      "\r",
      "31.7%"
     ]
    },
    {
     "name": "stderr",
     "output_type": "stream",
     "text": [
      "\r",
      "31.8%"
     ]
    },
    {
     "name": "stderr",
     "output_type": "stream",
     "text": [
      "\r",
      "31.9%"
     ]
    },
    {
     "name": "stderr",
     "output_type": "stream",
     "text": [
      "\r",
      "32.0%"
     ]
    },
    {
     "name": "stderr",
     "output_type": "stream",
     "text": [
      "\r",
      "32.1%"
     ]
    },
    {
     "name": "stderr",
     "output_type": "stream",
     "text": [
      "\r",
      "32.1%"
     ]
    },
    {
     "name": "stderr",
     "output_type": "stream",
     "text": [
      "\r",
      "32.2%"
     ]
    },
    {
     "name": "stderr",
     "output_type": "stream",
     "text": [
      "\r",
      "32.3%"
     ]
    },
    {
     "name": "stderr",
     "output_type": "stream",
     "text": [
      "\r",
      "32.4%"
     ]
    },
    {
     "name": "stderr",
     "output_type": "stream",
     "text": [
      "\r",
      "32.5%"
     ]
    },
    {
     "name": "stderr",
     "output_type": "stream",
     "text": [
      "\r",
      "32.6%"
     ]
    },
    {
     "name": "stderr",
     "output_type": "stream",
     "text": [
      "\r",
      "32.6%"
     ]
    },
    {
     "name": "stderr",
     "output_type": "stream",
     "text": [
      "\r",
      "32.7%"
     ]
    },
    {
     "name": "stderr",
     "output_type": "stream",
     "text": [
      "\r",
      "32.8%"
     ]
    },
    {
     "name": "stderr",
     "output_type": "stream",
     "text": [
      "\r",
      "32.9%"
     ]
    },
    {
     "name": "stderr",
     "output_type": "stream",
     "text": [
      "\r",
      "33.0%"
     ]
    },
    {
     "name": "stderr",
     "output_type": "stream",
     "text": [
      "\r",
      "33.1%"
     ]
    },
    {
     "name": "stderr",
     "output_type": "stream",
     "text": [
      "\r",
      "33.1%"
     ]
    },
    {
     "name": "stderr",
     "output_type": "stream",
     "text": [
      "\r",
      "33.2%"
     ]
    },
    {
     "name": "stderr",
     "output_type": "stream",
     "text": [
      "\r",
      "33.3%"
     ]
    },
    {
     "name": "stderr",
     "output_type": "stream",
     "text": [
      "\r",
      "33.4%"
     ]
    },
    {
     "name": "stderr",
     "output_type": "stream",
     "text": [
      "\r",
      "33.5%"
     ]
    },
    {
     "name": "stderr",
     "output_type": "stream",
     "text": [
      "\r",
      "33.6%"
     ]
    },
    {
     "name": "stderr",
     "output_type": "stream",
     "text": [
      "\r",
      "33.6%"
     ]
    },
    {
     "name": "stderr",
     "output_type": "stream",
     "text": [
      "\r",
      "33.7%"
     ]
    },
    {
     "name": "stderr",
     "output_type": "stream",
     "text": [
      "\r",
      "33.8%"
     ]
    },
    {
     "name": "stderr",
     "output_type": "stream",
     "text": [
      "\r",
      "33.9%"
     ]
    },
    {
     "name": "stderr",
     "output_type": "stream",
     "text": [
      "\r",
      "34.0%"
     ]
    },
    {
     "name": "stderr",
     "output_type": "stream",
     "text": [
      "\r",
      "34.0%"
     ]
    },
    {
     "name": "stderr",
     "output_type": "stream",
     "text": [
      "\r",
      "34.1%"
     ]
    },
    {
     "name": "stderr",
     "output_type": "stream",
     "text": [
      "\r",
      "34.2%"
     ]
    },
    {
     "name": "stderr",
     "output_type": "stream",
     "text": [
      "\r",
      "34.3%"
     ]
    },
    {
     "name": "stderr",
     "output_type": "stream",
     "text": [
      "\r",
      "34.4%"
     ]
    },
    {
     "name": "stderr",
     "output_type": "stream",
     "text": [
      "\r",
      "34.5%"
     ]
    },
    {
     "name": "stderr",
     "output_type": "stream",
     "text": [
      "\r",
      "34.5%"
     ]
    },
    {
     "name": "stderr",
     "output_type": "stream",
     "text": [
      "\r",
      "34.6%"
     ]
    },
    {
     "name": "stderr",
     "output_type": "stream",
     "text": [
      "\r",
      "34.7%"
     ]
    },
    {
     "name": "stderr",
     "output_type": "stream",
     "text": [
      "\r",
      "34.8%"
     ]
    },
    {
     "name": "stderr",
     "output_type": "stream",
     "text": [
      "\r",
      "34.9%"
     ]
    },
    {
     "name": "stderr",
     "output_type": "stream",
     "text": [
      "\r",
      "35.0%"
     ]
    },
    {
     "name": "stderr",
     "output_type": "stream",
     "text": [
      "\r",
      "35.0%"
     ]
    },
    {
     "name": "stderr",
     "output_type": "stream",
     "text": [
      "\r",
      "35.1%"
     ]
    },
    {
     "name": "stderr",
     "output_type": "stream",
     "text": [
      "\r",
      "35.2%"
     ]
    },
    {
     "name": "stderr",
     "output_type": "stream",
     "text": [
      "\r",
      "35.3%"
     ]
    },
    {
     "name": "stderr",
     "output_type": "stream",
     "text": [
      "\r",
      "35.4%"
     ]
    },
    {
     "name": "stderr",
     "output_type": "stream",
     "text": [
      "\r",
      "35.5%"
     ]
    },
    {
     "name": "stderr",
     "output_type": "stream",
     "text": [
      "\r",
      "35.5%"
     ]
    },
    {
     "name": "stderr",
     "output_type": "stream",
     "text": [
      "\r",
      "35.6%"
     ]
    },
    {
     "name": "stderr",
     "output_type": "stream",
     "text": [
      "\r",
      "35.7%"
     ]
    },
    {
     "name": "stderr",
     "output_type": "stream",
     "text": [
      "\r",
      "35.8%"
     ]
    },
    {
     "name": "stderr",
     "output_type": "stream",
     "text": [
      "\r",
      "35.9%"
     ]
    },
    {
     "name": "stderr",
     "output_type": "stream",
     "text": [
      "\r",
      "36.0%"
     ]
    },
    {
     "name": "stderr",
     "output_type": "stream",
     "text": [
      "\r",
      "36.0%"
     ]
    },
    {
     "name": "stderr",
     "output_type": "stream",
     "text": [
      "\r",
      "36.1%"
     ]
    },
    {
     "name": "stderr",
     "output_type": "stream",
     "text": [
      "\r",
      "36.2%"
     ]
    },
    {
     "name": "stderr",
     "output_type": "stream",
     "text": [
      "\r",
      "36.3%"
     ]
    },
    {
     "name": "stderr",
     "output_type": "stream",
     "text": [
      "\r",
      "36.4%"
     ]
    },
    {
     "name": "stderr",
     "output_type": "stream",
     "text": [
      "\r",
      "36.4%"
     ]
    },
    {
     "name": "stderr",
     "output_type": "stream",
     "text": [
      "\r",
      "36.5%"
     ]
    },
    {
     "name": "stderr",
     "output_type": "stream",
     "text": [
      "\r",
      "36.6%"
     ]
    },
    {
     "name": "stderr",
     "output_type": "stream",
     "text": [
      "\r",
      "36.7%"
     ]
    },
    {
     "name": "stderr",
     "output_type": "stream",
     "text": [
      "\r",
      "36.8%"
     ]
    },
    {
     "name": "stderr",
     "output_type": "stream",
     "text": [
      "\r",
      "36.9%"
     ]
    },
    {
     "name": "stderr",
     "output_type": "stream",
     "text": [
      "\r",
      "36.9%"
     ]
    },
    {
     "name": "stderr",
     "output_type": "stream",
     "text": [
      "\r",
      "37.0%"
     ]
    },
    {
     "name": "stderr",
     "output_type": "stream",
     "text": [
      "\r",
      "37.1%"
     ]
    },
    {
     "name": "stderr",
     "output_type": "stream",
     "text": [
      "\r",
      "37.2%"
     ]
    },
    {
     "name": "stderr",
     "output_type": "stream",
     "text": [
      "\r",
      "37.3%"
     ]
    },
    {
     "name": "stderr",
     "output_type": "stream",
     "text": [
      "\r",
      "37.4%"
     ]
    },
    {
     "name": "stderr",
     "output_type": "stream",
     "text": [
      "\r",
      "37.4%"
     ]
    },
    {
     "name": "stderr",
     "output_type": "stream",
     "text": [
      "\r",
      "37.5%"
     ]
    },
    {
     "name": "stderr",
     "output_type": "stream",
     "text": [
      "\r",
      "37.6%"
     ]
    },
    {
     "name": "stderr",
     "output_type": "stream",
     "text": [
      "\r",
      "37.7%"
     ]
    },
    {
     "name": "stderr",
     "output_type": "stream",
     "text": [
      "\r",
      "37.8%"
     ]
    },
    {
     "name": "stderr",
     "output_type": "stream",
     "text": [
      "\r",
      "37.9%"
     ]
    },
    {
     "name": "stderr",
     "output_type": "stream",
     "text": [
      "\r",
      "37.9%"
     ]
    },
    {
     "name": "stderr",
     "output_type": "stream",
     "text": [
      "\r",
      "38.0%"
     ]
    },
    {
     "name": "stderr",
     "output_type": "stream",
     "text": [
      "\r",
      "38.1%"
     ]
    },
    {
     "name": "stderr",
     "output_type": "stream",
     "text": [
      "\r",
      "38.2%"
     ]
    },
    {
     "name": "stderr",
     "output_type": "stream",
     "text": [
      "\r",
      "38.3%"
     ]
    },
    {
     "name": "stderr",
     "output_type": "stream",
     "text": [
      "\r",
      "38.3%"
     ]
    },
    {
     "name": "stderr",
     "output_type": "stream",
     "text": [
      "\r",
      "38.4%"
     ]
    },
    {
     "name": "stderr",
     "output_type": "stream",
     "text": [
      "\r",
      "38.5%"
     ]
    },
    {
     "name": "stderr",
     "output_type": "stream",
     "text": [
      "\r",
      "38.6%"
     ]
    },
    {
     "name": "stderr",
     "output_type": "stream",
     "text": [
      "\r",
      "38.7%"
     ]
    },
    {
     "name": "stderr",
     "output_type": "stream",
     "text": [
      "\r",
      "38.8%"
     ]
    },
    {
     "name": "stderr",
     "output_type": "stream",
     "text": [
      "\r",
      "38.8%"
     ]
    },
    {
     "name": "stderr",
     "output_type": "stream",
     "text": [
      "\r",
      "38.9%"
     ]
    },
    {
     "name": "stderr",
     "output_type": "stream",
     "text": [
      "\r",
      "39.0%"
     ]
    },
    {
     "name": "stderr",
     "output_type": "stream",
     "text": [
      "\r",
      "39.1%"
     ]
    },
    {
     "name": "stderr",
     "output_type": "stream",
     "text": [
      "\r",
      "39.2%"
     ]
    },
    {
     "name": "stderr",
     "output_type": "stream",
     "text": [
      "\r",
      "39.3%"
     ]
    },
    {
     "name": "stderr",
     "output_type": "stream",
     "text": [
      "\r",
      "39.3%"
     ]
    },
    {
     "name": "stderr",
     "output_type": "stream",
     "text": [
      "\r",
      "39.4%"
     ]
    },
    {
     "name": "stderr",
     "output_type": "stream",
     "text": [
      "\r",
      "39.5%"
     ]
    },
    {
     "name": "stderr",
     "output_type": "stream",
     "text": [
      "\r",
      "39.6%"
     ]
    },
    {
     "name": "stderr",
     "output_type": "stream",
     "text": [
      "\r",
      "39.7%"
     ]
    },
    {
     "name": "stderr",
     "output_type": "stream",
     "text": [
      "\r",
      "39.8%"
     ]
    },
    {
     "name": "stderr",
     "output_type": "stream",
     "text": [
      "\r",
      "39.8%"
     ]
    },
    {
     "name": "stderr",
     "output_type": "stream",
     "text": [
      "\r",
      "39.9%"
     ]
    },
    {
     "name": "stderr",
     "output_type": "stream",
     "text": [
      "\r",
      "40.0%"
     ]
    },
    {
     "name": "stderr",
     "output_type": "stream",
     "text": [
      "\r",
      "40.1%"
     ]
    },
    {
     "name": "stderr",
     "output_type": "stream",
     "text": [
      "\r",
      "40.2%"
     ]
    },
    {
     "name": "stderr",
     "output_type": "stream",
     "text": [
      "\r",
      "40.2%"
     ]
    },
    {
     "name": "stderr",
     "output_type": "stream",
     "text": [
      "\r",
      "40.3%"
     ]
    },
    {
     "name": "stderr",
     "output_type": "stream",
     "text": [
      "\r",
      "40.4%"
     ]
    },
    {
     "name": "stderr",
     "output_type": "stream",
     "text": [
      "\r",
      "40.5%"
     ]
    },
    {
     "name": "stderr",
     "output_type": "stream",
     "text": [
      "\r",
      "40.6%"
     ]
    },
    {
     "name": "stderr",
     "output_type": "stream",
     "text": [
      "\r",
      "40.7%"
     ]
    },
    {
     "name": "stderr",
     "output_type": "stream",
     "text": [
      "\r",
      "40.7%"
     ]
    },
    {
     "name": "stderr",
     "output_type": "stream",
     "text": [
      "\r",
      "40.8%"
     ]
    },
    {
     "name": "stderr",
     "output_type": "stream",
     "text": [
      "\r",
      "40.9%"
     ]
    },
    {
     "name": "stderr",
     "output_type": "stream",
     "text": [
      "\r",
      "41.0%"
     ]
    },
    {
     "name": "stderr",
     "output_type": "stream",
     "text": [
      "\r",
      "41.1%"
     ]
    },
    {
     "name": "stderr",
     "output_type": "stream",
     "text": [
      "\r",
      "41.2%"
     ]
    },
    {
     "name": "stderr",
     "output_type": "stream",
     "text": [
      "\r",
      "41.2%"
     ]
    },
    {
     "name": "stderr",
     "output_type": "stream",
     "text": [
      "\r",
      "41.3%"
     ]
    },
    {
     "name": "stderr",
     "output_type": "stream",
     "text": [
      "\r",
      "41.4%"
     ]
    },
    {
     "name": "stderr",
     "output_type": "stream",
     "text": [
      "\r",
      "41.5%"
     ]
    },
    {
     "name": "stderr",
     "output_type": "stream",
     "text": [
      "\r",
      "41.6%"
     ]
    },
    {
     "name": "stderr",
     "output_type": "stream",
     "text": [
      "\r",
      "41.7%"
     ]
    },
    {
     "name": "stderr",
     "output_type": "stream",
     "text": [
      "\r",
      "41.7%"
     ]
    },
    {
     "name": "stderr",
     "output_type": "stream",
     "text": [
      "\r",
      "41.8%"
     ]
    },
    {
     "name": "stderr",
     "output_type": "stream",
     "text": [
      "\r",
      "41.9%"
     ]
    },
    {
     "name": "stderr",
     "output_type": "stream",
     "text": [
      "\r",
      "42.0%"
     ]
    },
    {
     "name": "stderr",
     "output_type": "stream",
     "text": [
      "\r",
      "42.1%"
     ]
    },
    {
     "name": "stderr",
     "output_type": "stream",
     "text": [
      "\r",
      "42.1%"
     ]
    },
    {
     "name": "stderr",
     "output_type": "stream",
     "text": [
      "\r",
      "42.2%"
     ]
    },
    {
     "name": "stderr",
     "output_type": "stream",
     "text": [
      "\r",
      "42.3%"
     ]
    },
    {
     "name": "stderr",
     "output_type": "stream",
     "text": [
      "\r",
      "42.4%"
     ]
    },
    {
     "name": "stderr",
     "output_type": "stream",
     "text": [
      "\r",
      "42.5%"
     ]
    },
    {
     "name": "stderr",
     "output_type": "stream",
     "text": [
      "\r",
      "42.6%"
     ]
    },
    {
     "name": "stderr",
     "output_type": "stream",
     "text": [
      "\r",
      "42.6%"
     ]
    },
    {
     "name": "stderr",
     "output_type": "stream",
     "text": [
      "\r",
      "42.7%"
     ]
    },
    {
     "name": "stderr",
     "output_type": "stream",
     "text": [
      "\r",
      "42.8%"
     ]
    },
    {
     "name": "stderr",
     "output_type": "stream",
     "text": [
      "\r",
      "42.9%"
     ]
    },
    {
     "name": "stderr",
     "output_type": "stream",
     "text": [
      "\r",
      "43.0%"
     ]
    },
    {
     "name": "stderr",
     "output_type": "stream",
     "text": [
      "\r",
      "43.1%"
     ]
    },
    {
     "name": "stderr",
     "output_type": "stream",
     "text": [
      "\r",
      "43.1%"
     ]
    },
    {
     "name": "stderr",
     "output_type": "stream",
     "text": [
      "\r",
      "43.2%"
     ]
    },
    {
     "name": "stderr",
     "output_type": "stream",
     "text": [
      "\r",
      "43.3%"
     ]
    },
    {
     "name": "stderr",
     "output_type": "stream",
     "text": [
      "\r",
      "43.4%"
     ]
    },
    {
     "name": "stderr",
     "output_type": "stream",
     "text": [
      "\r",
      "43.5%"
     ]
    },
    {
     "name": "stderr",
     "output_type": "stream",
     "text": [
      "\r",
      "43.6%"
     ]
    },
    {
     "name": "stderr",
     "output_type": "stream",
     "text": [
      "\r",
      "43.6%"
     ]
    },
    {
     "name": "stderr",
     "output_type": "stream",
     "text": [
      "\r",
      "43.7%"
     ]
    },
    {
     "name": "stderr",
     "output_type": "stream",
     "text": [
      "\r",
      "43.8%"
     ]
    },
    {
     "name": "stderr",
     "output_type": "stream",
     "text": [
      "\r",
      "43.9%"
     ]
    },
    {
     "name": "stderr",
     "output_type": "stream",
     "text": [
      "\r",
      "44.0%"
     ]
    },
    {
     "name": "stderr",
     "output_type": "stream",
     "text": [
      "\r",
      "44.0%"
     ]
    },
    {
     "name": "stderr",
     "output_type": "stream",
     "text": [
      "\r",
      "44.1%"
     ]
    },
    {
     "name": "stderr",
     "output_type": "stream",
     "text": [
      "\r",
      "44.2%"
     ]
    },
    {
     "name": "stderr",
     "output_type": "stream",
     "text": [
      "\r",
      "44.3%"
     ]
    },
    {
     "name": "stderr",
     "output_type": "stream",
     "text": [
      "\r",
      "44.4%"
     ]
    },
    {
     "name": "stderr",
     "output_type": "stream",
     "text": [
      "\r",
      "44.5%"
     ]
    },
    {
     "name": "stderr",
     "output_type": "stream",
     "text": [
      "\r",
      "44.5%"
     ]
    },
    {
     "name": "stderr",
     "output_type": "stream",
     "text": [
      "\r",
      "44.6%"
     ]
    },
    {
     "name": "stderr",
     "output_type": "stream",
     "text": [
      "\r",
      "44.7%"
     ]
    },
    {
     "name": "stderr",
     "output_type": "stream",
     "text": [
      "\r",
      "44.8%"
     ]
    },
    {
     "name": "stderr",
     "output_type": "stream",
     "text": [
      "\r",
      "44.9%"
     ]
    },
    {
     "name": "stderr",
     "output_type": "stream",
     "text": [
      "\r",
      "45.0%"
     ]
    },
    {
     "name": "stderr",
     "output_type": "stream",
     "text": [
      "\r",
      "45.0%"
     ]
    },
    {
     "name": "stderr",
     "output_type": "stream",
     "text": [
      "\r",
      "45.1%"
     ]
    },
    {
     "name": "stderr",
     "output_type": "stream",
     "text": [
      "\r",
      "45.2%"
     ]
    },
    {
     "name": "stderr",
     "output_type": "stream",
     "text": [
      "\r",
      "45.3%"
     ]
    },
    {
     "name": "stderr",
     "output_type": "stream",
     "text": [
      "\r",
      "45.4%"
     ]
    },
    {
     "name": "stderr",
     "output_type": "stream",
     "text": [
      "\r",
      "45.5%"
     ]
    },
    {
     "name": "stderr",
     "output_type": "stream",
     "text": [
      "\r",
      "45.5%"
     ]
    },
    {
     "name": "stderr",
     "output_type": "stream",
     "text": [
      "\r",
      "45.6%"
     ]
    },
    {
     "name": "stderr",
     "output_type": "stream",
     "text": [
      "\r",
      "45.7%"
     ]
    },
    {
     "name": "stderr",
     "output_type": "stream",
     "text": [
      "\r",
      "45.8%"
     ]
    },
    {
     "name": "stderr",
     "output_type": "stream",
     "text": [
      "\r",
      "45.9%"
     ]
    },
    {
     "name": "stderr",
     "output_type": "stream",
     "text": [
      "\r",
      "45.9%"
     ]
    },
    {
     "name": "stderr",
     "output_type": "stream",
     "text": [
      "\r",
      "46.0%"
     ]
    },
    {
     "name": "stderr",
     "output_type": "stream",
     "text": [
      "\r",
      "46.1%"
     ]
    },
    {
     "name": "stderr",
     "output_type": "stream",
     "text": [
      "\r",
      "46.2%"
     ]
    },
    {
     "name": "stderr",
     "output_type": "stream",
     "text": [
      "\r",
      "46.3%"
     ]
    },
    {
     "name": "stderr",
     "output_type": "stream",
     "text": [
      "\r",
      "46.4%"
     ]
    },
    {
     "name": "stderr",
     "output_type": "stream",
     "text": [
      "\r",
      "46.4%"
     ]
    },
    {
     "name": "stderr",
     "output_type": "stream",
     "text": [
      "\r",
      "46.5%"
     ]
    },
    {
     "name": "stderr",
     "output_type": "stream",
     "text": [
      "\r",
      "46.6%"
     ]
    },
    {
     "name": "stderr",
     "output_type": "stream",
     "text": [
      "\r",
      "46.7%"
     ]
    },
    {
     "name": "stderr",
     "output_type": "stream",
     "text": [
      "\r",
      "46.8%"
     ]
    },
    {
     "name": "stderr",
     "output_type": "stream",
     "text": [
      "\r",
      "46.9%"
     ]
    },
    {
     "name": "stderr",
     "output_type": "stream",
     "text": [
      "\r",
      "46.9%"
     ]
    },
    {
     "name": "stderr",
     "output_type": "stream",
     "text": [
      "\r",
      "47.0%"
     ]
    },
    {
     "name": "stderr",
     "output_type": "stream",
     "text": [
      "\r",
      "47.1%"
     ]
    },
    {
     "name": "stderr",
     "output_type": "stream",
     "text": [
      "\r",
      "47.2%"
     ]
    },
    {
     "name": "stderr",
     "output_type": "stream",
     "text": [
      "\r",
      "47.3%"
     ]
    },
    {
     "name": "stderr",
     "output_type": "stream",
     "text": [
      "\r",
      "47.4%"
     ]
    },
    {
     "name": "stderr",
     "output_type": "stream",
     "text": [
      "\r",
      "47.4%"
     ]
    },
    {
     "name": "stderr",
     "output_type": "stream",
     "text": [
      "\r",
      "47.5%"
     ]
    },
    {
     "name": "stderr",
     "output_type": "stream",
     "text": [
      "\r",
      "47.6%"
     ]
    },
    {
     "name": "stderr",
     "output_type": "stream",
     "text": [
      "\r",
      "47.7%"
     ]
    },
    {
     "name": "stderr",
     "output_type": "stream",
     "text": [
      "\r",
      "47.8%"
     ]
    },
    {
     "name": "stderr",
     "output_type": "stream",
     "text": [
      "\r",
      "47.9%"
     ]
    },
    {
     "name": "stderr",
     "output_type": "stream",
     "text": [
      "\r",
      "47.9%"
     ]
    },
    {
     "name": "stderr",
     "output_type": "stream",
     "text": [
      "\r",
      "48.0%"
     ]
    },
    {
     "name": "stderr",
     "output_type": "stream",
     "text": [
      "\r",
      "48.1%"
     ]
    },
    {
     "name": "stderr",
     "output_type": "stream",
     "text": [
      "\r",
      "48.2%"
     ]
    },
    {
     "name": "stderr",
     "output_type": "stream",
     "text": [
      "\r",
      "48.3%"
     ]
    },
    {
     "name": "stderr",
     "output_type": "stream",
     "text": [
      "\r",
      "48.3%"
     ]
    },
    {
     "name": "stderr",
     "output_type": "stream",
     "text": [
      "\r",
      "48.4%"
     ]
    },
    {
     "name": "stderr",
     "output_type": "stream",
     "text": [
      "\r",
      "48.5%"
     ]
    },
    {
     "name": "stderr",
     "output_type": "stream",
     "text": [
      "\r",
      "48.6%"
     ]
    },
    {
     "name": "stderr",
     "output_type": "stream",
     "text": [
      "\r",
      "48.7%"
     ]
    },
    {
     "name": "stderr",
     "output_type": "stream",
     "text": [
      "\r",
      "48.8%"
     ]
    },
    {
     "name": "stderr",
     "output_type": "stream",
     "text": [
      "\r",
      "48.8%"
     ]
    },
    {
     "name": "stderr",
     "output_type": "stream",
     "text": [
      "\r",
      "48.9%"
     ]
    },
    {
     "name": "stderr",
     "output_type": "stream",
     "text": [
      "\r",
      "49.0%"
     ]
    },
    {
     "name": "stderr",
     "output_type": "stream",
     "text": [
      "\r",
      "49.1%"
     ]
    },
    {
     "name": "stderr",
     "output_type": "stream",
     "text": [
      "\r",
      "49.2%"
     ]
    },
    {
     "name": "stderr",
     "output_type": "stream",
     "text": [
      "\r",
      "49.3%"
     ]
    },
    {
     "name": "stderr",
     "output_type": "stream",
     "text": [
      "\r",
      "49.3%"
     ]
    },
    {
     "name": "stderr",
     "output_type": "stream",
     "text": [
      "\r",
      "49.4%"
     ]
    },
    {
     "name": "stderr",
     "output_type": "stream",
     "text": [
      "\r",
      "49.5%"
     ]
    },
    {
     "name": "stderr",
     "output_type": "stream",
     "text": [
      "\r",
      "49.6%"
     ]
    },
    {
     "name": "stderr",
     "output_type": "stream",
     "text": [
      "\r",
      "49.7%"
     ]
    },
    {
     "name": "stderr",
     "output_type": "stream",
     "text": [
      "\r",
      "49.8%"
     ]
    },
    {
     "name": "stderr",
     "output_type": "stream",
     "text": [
      "\r",
      "49.8%"
     ]
    },
    {
     "name": "stderr",
     "output_type": "stream",
     "text": [
      "\r",
      "49.9%"
     ]
    },
    {
     "name": "stderr",
     "output_type": "stream",
     "text": [
      "\r",
      "50.0%"
     ]
    },
    {
     "name": "stderr",
     "output_type": "stream",
     "text": [
      "\r",
      "50.1%"
     ]
    },
    {
     "name": "stderr",
     "output_type": "stream",
     "text": [
      "\r",
      "50.2%"
     ]
    },
    {
     "name": "stderr",
     "output_type": "stream",
     "text": [
      "\r",
      "50.2%"
     ]
    },
    {
     "name": "stderr",
     "output_type": "stream",
     "text": [
      "\r",
      "50.3%"
     ]
    },
    {
     "name": "stderr",
     "output_type": "stream",
     "text": [
      "\r",
      "50.4%"
     ]
    },
    {
     "name": "stderr",
     "output_type": "stream",
     "text": [
      "\r",
      "50.5%"
     ]
    },
    {
     "name": "stderr",
     "output_type": "stream",
     "text": [
      "\r",
      "50.6%"
     ]
    },
    {
     "name": "stderr",
     "output_type": "stream",
     "text": [
      "\r",
      "50.7%"
     ]
    },
    {
     "name": "stderr",
     "output_type": "stream",
     "text": [
      "\r",
      "50.7%"
     ]
    },
    {
     "name": "stderr",
     "output_type": "stream",
     "text": [
      "\r",
      "50.8%"
     ]
    },
    {
     "name": "stderr",
     "output_type": "stream",
     "text": [
      "\r",
      "50.9%"
     ]
    },
    {
     "name": "stderr",
     "output_type": "stream",
     "text": [
      "\r",
      "51.0%"
     ]
    },
    {
     "name": "stderr",
     "output_type": "stream",
     "text": [
      "\r",
      "51.1%"
     ]
    },
    {
     "name": "stderr",
     "output_type": "stream",
     "text": [
      "\r",
      "51.2%"
     ]
    },
    {
     "name": "stderr",
     "output_type": "stream",
     "text": [
      "\r",
      "51.2%"
     ]
    },
    {
     "name": "stderr",
     "output_type": "stream",
     "text": [
      "\r",
      "51.3%"
     ]
    },
    {
     "name": "stderr",
     "output_type": "stream",
     "text": [
      "\r",
      "51.4%"
     ]
    },
    {
     "name": "stderr",
     "output_type": "stream",
     "text": [
      "\r",
      "51.5%"
     ]
    },
    {
     "name": "stderr",
     "output_type": "stream",
     "text": [
      "\r",
      "51.6%"
     ]
    },
    {
     "name": "stderr",
     "output_type": "stream",
     "text": [
      "\r",
      "51.7%"
     ]
    },
    {
     "name": "stderr",
     "output_type": "stream",
     "text": [
      "\r",
      "51.7%"
     ]
    },
    {
     "name": "stderr",
     "output_type": "stream",
     "text": [
      "\r",
      "51.8%"
     ]
    },
    {
     "name": "stderr",
     "output_type": "stream",
     "text": [
      "\r",
      "51.9%"
     ]
    },
    {
     "name": "stderr",
     "output_type": "stream",
     "text": [
      "\r",
      "52.0%"
     ]
    },
    {
     "name": "stderr",
     "output_type": "stream",
     "text": [
      "\r",
      "52.1%"
     ]
    },
    {
     "name": "stderr",
     "output_type": "stream",
     "text": [
      "\r",
      "52.1%"
     ]
    },
    {
     "name": "stderr",
     "output_type": "stream",
     "text": [
      "\r",
      "52.2%"
     ]
    },
    {
     "name": "stderr",
     "output_type": "stream",
     "text": [
      "\r",
      "52.3%"
     ]
    },
    {
     "name": "stderr",
     "output_type": "stream",
     "text": [
      "\r",
      "52.4%"
     ]
    },
    {
     "name": "stderr",
     "output_type": "stream",
     "text": [
      "\r",
      "52.5%"
     ]
    },
    {
     "name": "stderr",
     "output_type": "stream",
     "text": [
      "\r",
      "52.6%"
     ]
    },
    {
     "name": "stderr",
     "output_type": "stream",
     "text": [
      "\r",
      "52.6%"
     ]
    },
    {
     "name": "stderr",
     "output_type": "stream",
     "text": [
      "\r",
      "52.7%"
     ]
    },
    {
     "name": "stderr",
     "output_type": "stream",
     "text": [
      "\r",
      "52.8%"
     ]
    },
    {
     "name": "stderr",
     "output_type": "stream",
     "text": [
      "\r",
      "52.9%"
     ]
    },
    {
     "name": "stderr",
     "output_type": "stream",
     "text": [
      "\r",
      "53.0%"
     ]
    },
    {
     "name": "stderr",
     "output_type": "stream",
     "text": [
      "\r",
      "53.1%"
     ]
    },
    {
     "name": "stderr",
     "output_type": "stream",
     "text": [
      "\r",
      "53.1%"
     ]
    },
    {
     "name": "stderr",
     "output_type": "stream",
     "text": [
      "\r",
      "53.2%"
     ]
    },
    {
     "name": "stderr",
     "output_type": "stream",
     "text": [
      "\r",
      "53.3%"
     ]
    },
    {
     "name": "stderr",
     "output_type": "stream",
     "text": [
      "\r",
      "53.4%"
     ]
    },
    {
     "name": "stderr",
     "output_type": "stream",
     "text": [
      "\r",
      "53.5%"
     ]
    },
    {
     "name": "stderr",
     "output_type": "stream",
     "text": [
      "\r",
      "53.6%"
     ]
    },
    {
     "name": "stderr",
     "output_type": "stream",
     "text": [
      "\r",
      "53.6%"
     ]
    },
    {
     "name": "stderr",
     "output_type": "stream",
     "text": [
      "\r",
      "53.7%"
     ]
    },
    {
     "name": "stderr",
     "output_type": "stream",
     "text": [
      "\r",
      "53.8%"
     ]
    },
    {
     "name": "stderr",
     "output_type": "stream",
     "text": [
      "\r",
      "53.9%"
     ]
    },
    {
     "name": "stderr",
     "output_type": "stream",
     "text": [
      "\r",
      "54.0%"
     ]
    },
    {
     "name": "stderr",
     "output_type": "stream",
     "text": [
      "\r",
      "54.0%"
     ]
    },
    {
     "name": "stderr",
     "output_type": "stream",
     "text": [
      "\r",
      "54.1%"
     ]
    },
    {
     "name": "stderr",
     "output_type": "stream",
     "text": [
      "\r",
      "54.2%"
     ]
    },
    {
     "name": "stderr",
     "output_type": "stream",
     "text": [
      "\r",
      "54.3%"
     ]
    },
    {
     "name": "stderr",
     "output_type": "stream",
     "text": [
      "\r",
      "54.4%"
     ]
    },
    {
     "name": "stderr",
     "output_type": "stream",
     "text": [
      "\r",
      "54.5%"
     ]
    },
    {
     "name": "stderr",
     "output_type": "stream",
     "text": [
      "\r",
      "54.5%"
     ]
    },
    {
     "name": "stderr",
     "output_type": "stream",
     "text": [
      "\r",
      "54.6%"
     ]
    },
    {
     "name": "stderr",
     "output_type": "stream",
     "text": [
      "\r",
      "54.7%"
     ]
    },
    {
     "name": "stderr",
     "output_type": "stream",
     "text": [
      "\r",
      "54.8%"
     ]
    },
    {
     "name": "stderr",
     "output_type": "stream",
     "text": [
      "\r",
      "54.9%"
     ]
    },
    {
     "name": "stderr",
     "output_type": "stream",
     "text": [
      "\r",
      "55.0%"
     ]
    },
    {
     "name": "stderr",
     "output_type": "stream",
     "text": [
      "\r",
      "55.0%"
     ]
    },
    {
     "name": "stderr",
     "output_type": "stream",
     "text": [
      "\r",
      "55.1%"
     ]
    },
    {
     "name": "stderr",
     "output_type": "stream",
     "text": [
      "\r",
      "55.2%"
     ]
    },
    {
     "name": "stderr",
     "output_type": "stream",
     "text": [
      "\r",
      "55.3%"
     ]
    },
    {
     "name": "stderr",
     "output_type": "stream",
     "text": [
      "\r",
      "55.4%"
     ]
    },
    {
     "name": "stderr",
     "output_type": "stream",
     "text": [
      "\r",
      "55.5%"
     ]
    },
    {
     "name": "stderr",
     "output_type": "stream",
     "text": [
      "\r",
      "55.5%"
     ]
    },
    {
     "name": "stderr",
     "output_type": "stream",
     "text": [
      "\r",
      "55.6%"
     ]
    },
    {
     "name": "stderr",
     "output_type": "stream",
     "text": [
      "\r",
      "55.7%"
     ]
    },
    {
     "name": "stderr",
     "output_type": "stream",
     "text": [
      "\r",
      "55.8%"
     ]
    },
    {
     "name": "stderr",
     "output_type": "stream",
     "text": [
      "\r",
      "55.9%"
     ]
    },
    {
     "name": "stderr",
     "output_type": "stream",
     "text": [
      "\r",
      "55.9%"
     ]
    },
    {
     "name": "stderr",
     "output_type": "stream",
     "text": [
      "\r",
      "56.0%"
     ]
    },
    {
     "name": "stderr",
     "output_type": "stream",
     "text": [
      "\r",
      "56.1%"
     ]
    },
    {
     "name": "stderr",
     "output_type": "stream",
     "text": [
      "\r",
      "56.2%"
     ]
    },
    {
     "name": "stderr",
     "output_type": "stream",
     "text": [
      "\r",
      "56.3%"
     ]
    },
    {
     "name": "stderr",
     "output_type": "stream",
     "text": [
      "\r",
      "56.4%"
     ]
    },
    {
     "name": "stderr",
     "output_type": "stream",
     "text": [
      "\r",
      "56.4%"
     ]
    },
    {
     "name": "stderr",
     "output_type": "stream",
     "text": [
      "\r",
      "56.5%"
     ]
    },
    {
     "name": "stderr",
     "output_type": "stream",
     "text": [
      "\r",
      "56.6%"
     ]
    },
    {
     "name": "stderr",
     "output_type": "stream",
     "text": [
      "\r",
      "56.7%"
     ]
    },
    {
     "name": "stderr",
     "output_type": "stream",
     "text": [
      "\r",
      "56.8%"
     ]
    },
    {
     "name": "stderr",
     "output_type": "stream",
     "text": [
      "\r",
      "56.9%"
     ]
    },
    {
     "name": "stderr",
     "output_type": "stream",
     "text": [
      "\r",
      "56.9%"
     ]
    },
    {
     "name": "stderr",
     "output_type": "stream",
     "text": [
      "\r",
      "57.0%"
     ]
    },
    {
     "name": "stderr",
     "output_type": "stream",
     "text": [
      "\r",
      "57.1%"
     ]
    },
    {
     "name": "stderr",
     "output_type": "stream",
     "text": [
      "\r",
      "57.2%"
     ]
    },
    {
     "name": "stderr",
     "output_type": "stream",
     "text": [
      "\r",
      "57.3%"
     ]
    },
    {
     "name": "stderr",
     "output_type": "stream",
     "text": [
      "\r",
      "57.4%"
     ]
    },
    {
     "name": "stderr",
     "output_type": "stream",
     "text": [
      "\r",
      "57.4%"
     ]
    },
    {
     "name": "stderr",
     "output_type": "stream",
     "text": [
      "\r",
      "57.5%"
     ]
    },
    {
     "name": "stderr",
     "output_type": "stream",
     "text": [
      "\r",
      "57.6%"
     ]
    },
    {
     "name": "stderr",
     "output_type": "stream",
     "text": [
      "\r",
      "57.7%"
     ]
    },
    {
     "name": "stderr",
     "output_type": "stream",
     "text": [
      "\r",
      "57.8%"
     ]
    },
    {
     "name": "stderr",
     "output_type": "stream",
     "text": [
      "\r",
      "57.9%"
     ]
    },
    {
     "name": "stderr",
     "output_type": "stream",
     "text": [
      "\r",
      "57.9%"
     ]
    },
    {
     "name": "stderr",
     "output_type": "stream",
     "text": [
      "\r",
      "58.0%"
     ]
    },
    {
     "name": "stderr",
     "output_type": "stream",
     "text": [
      "\r",
      "58.1%"
     ]
    },
    {
     "name": "stderr",
     "output_type": "stream",
     "text": [
      "\r",
      "58.2%"
     ]
    },
    {
     "name": "stderr",
     "output_type": "stream",
     "text": [
      "\r",
      "58.3%"
     ]
    },
    {
     "name": "stderr",
     "output_type": "stream",
     "text": [
      "\r",
      "58.3%"
     ]
    },
    {
     "name": "stderr",
     "output_type": "stream",
     "text": [
      "\r",
      "58.4%"
     ]
    },
    {
     "name": "stderr",
     "output_type": "stream",
     "text": [
      "\r",
      "58.5%"
     ]
    },
    {
     "name": "stderr",
     "output_type": "stream",
     "text": [
      "\r",
      "58.6%"
     ]
    },
    {
     "name": "stderr",
     "output_type": "stream",
     "text": [
      "\r",
      "58.7%"
     ]
    },
    {
     "name": "stderr",
     "output_type": "stream",
     "text": [
      "\r",
      "58.8%"
     ]
    },
    {
     "name": "stderr",
     "output_type": "stream",
     "text": [
      "\r",
      "58.8%"
     ]
    },
    {
     "name": "stderr",
     "output_type": "stream",
     "text": [
      "\r",
      "58.9%"
     ]
    },
    {
     "name": "stderr",
     "output_type": "stream",
     "text": [
      "\r",
      "59.0%"
     ]
    },
    {
     "name": "stderr",
     "output_type": "stream",
     "text": [
      "\r",
      "59.1%"
     ]
    },
    {
     "name": "stderr",
     "output_type": "stream",
     "text": [
      "\r",
      "59.2%"
     ]
    },
    {
     "name": "stderr",
     "output_type": "stream",
     "text": [
      "\r",
      "59.3%"
     ]
    },
    {
     "name": "stderr",
     "output_type": "stream",
     "text": [
      "\r",
      "59.3%"
     ]
    },
    {
     "name": "stderr",
     "output_type": "stream",
     "text": [
      "\r",
      "59.4%"
     ]
    },
    {
     "name": "stderr",
     "output_type": "stream",
     "text": [
      "\r",
      "59.5%"
     ]
    },
    {
     "name": "stderr",
     "output_type": "stream",
     "text": [
      "\r",
      "59.6%"
     ]
    },
    {
     "name": "stderr",
     "output_type": "stream",
     "text": [
      "\r",
      "59.7%"
     ]
    },
    {
     "name": "stderr",
     "output_type": "stream",
     "text": [
      "\r",
      "59.8%"
     ]
    },
    {
     "name": "stderr",
     "output_type": "stream",
     "text": [
      "\r",
      "59.8%"
     ]
    },
    {
     "name": "stderr",
     "output_type": "stream",
     "text": [
      "\r",
      "59.9%"
     ]
    },
    {
     "name": "stderr",
     "output_type": "stream",
     "text": [
      "\r",
      "60.0%"
     ]
    },
    {
     "name": "stderr",
     "output_type": "stream",
     "text": [
      "\r",
      "60.1%"
     ]
    },
    {
     "name": "stderr",
     "output_type": "stream",
     "text": [
      "\r",
      "60.2%"
     ]
    },
    {
     "name": "stderr",
     "output_type": "stream",
     "text": [
      "\r",
      "60.2%"
     ]
    },
    {
     "name": "stderr",
     "output_type": "stream",
     "text": [
      "\r",
      "60.3%"
     ]
    },
    {
     "name": "stderr",
     "output_type": "stream",
     "text": [
      "\r",
      "60.4%"
     ]
    },
    {
     "name": "stderr",
     "output_type": "stream",
     "text": [
      "\r",
      "60.5%"
     ]
    },
    {
     "name": "stderr",
     "output_type": "stream",
     "text": [
      "\r",
      "60.6%"
     ]
    },
    {
     "name": "stderr",
     "output_type": "stream",
     "text": [
      "\r",
      "60.7%"
     ]
    },
    {
     "name": "stderr",
     "output_type": "stream",
     "text": [
      "\r",
      "60.7%"
     ]
    },
    {
     "name": "stderr",
     "output_type": "stream",
     "text": [
      "\r",
      "60.8%"
     ]
    },
    {
     "name": "stderr",
     "output_type": "stream",
     "text": [
      "\r",
      "60.9%"
     ]
    },
    {
     "name": "stderr",
     "output_type": "stream",
     "text": [
      "\r",
      "61.0%"
     ]
    },
    {
     "name": "stderr",
     "output_type": "stream",
     "text": [
      "\r",
      "61.1%"
     ]
    },
    {
     "name": "stderr",
     "output_type": "stream",
     "text": [
      "\r",
      "61.2%"
     ]
    },
    {
     "name": "stderr",
     "output_type": "stream",
     "text": [
      "\r",
      "61.2%"
     ]
    },
    {
     "name": "stderr",
     "output_type": "stream",
     "text": [
      "\r",
      "61.3%"
     ]
    },
    {
     "name": "stderr",
     "output_type": "stream",
     "text": [
      "\r",
      "61.4%"
     ]
    },
    {
     "name": "stderr",
     "output_type": "stream",
     "text": [
      "\r",
      "61.5%"
     ]
    },
    {
     "name": "stderr",
     "output_type": "stream",
     "text": [
      "\r",
      "61.6%"
     ]
    },
    {
     "name": "stderr",
     "output_type": "stream",
     "text": [
      "\r",
      "61.7%"
     ]
    },
    {
     "name": "stderr",
     "output_type": "stream",
     "text": [
      "\r",
      "61.7%"
     ]
    },
    {
     "name": "stderr",
     "output_type": "stream",
     "text": [
      "\r",
      "61.8%"
     ]
    },
    {
     "name": "stderr",
     "output_type": "stream",
     "text": [
      "\r",
      "61.9%"
     ]
    },
    {
     "name": "stderr",
     "output_type": "stream",
     "text": [
      "\r",
      "62.0%"
     ]
    },
    {
     "name": "stderr",
     "output_type": "stream",
     "text": [
      "\r",
      "62.1%"
     ]
    },
    {
     "name": "stderr",
     "output_type": "stream",
     "text": [
      "\r",
      "62.1%"
     ]
    },
    {
     "name": "stderr",
     "output_type": "stream",
     "text": [
      "\r",
      "62.2%"
     ]
    },
    {
     "name": "stderr",
     "output_type": "stream",
     "text": [
      "\r",
      "62.3%"
     ]
    },
    {
     "name": "stderr",
     "output_type": "stream",
     "text": [
      "\r",
      "62.4%"
     ]
    },
    {
     "name": "stderr",
     "output_type": "stream",
     "text": [
      "\r",
      "62.5%"
     ]
    },
    {
     "name": "stderr",
     "output_type": "stream",
     "text": [
      "\r",
      "62.6%"
     ]
    },
    {
     "name": "stderr",
     "output_type": "stream",
     "text": [
      "\r",
      "62.6%"
     ]
    },
    {
     "name": "stderr",
     "output_type": "stream",
     "text": [
      "\r",
      "62.7%"
     ]
    },
    {
     "name": "stderr",
     "output_type": "stream",
     "text": [
      "\r",
      "62.8%"
     ]
    },
    {
     "name": "stderr",
     "output_type": "stream",
     "text": [
      "\r",
      "62.9%"
     ]
    },
    {
     "name": "stderr",
     "output_type": "stream",
     "text": [
      "\r",
      "63.0%"
     ]
    },
    {
     "name": "stderr",
     "output_type": "stream",
     "text": [
      "\r",
      "63.1%"
     ]
    },
    {
     "name": "stderr",
     "output_type": "stream",
     "text": [
      "\r",
      "63.1%"
     ]
    },
    {
     "name": "stderr",
     "output_type": "stream",
     "text": [
      "\r",
      "63.2%"
     ]
    },
    {
     "name": "stderr",
     "output_type": "stream",
     "text": [
      "\r",
      "63.3%"
     ]
    },
    {
     "name": "stderr",
     "output_type": "stream",
     "text": [
      "\r",
      "63.4%"
     ]
    },
    {
     "name": "stderr",
     "output_type": "stream",
     "text": [
      "\r",
      "63.5%"
     ]
    },
    {
     "name": "stderr",
     "output_type": "stream",
     "text": [
      "\r",
      "63.6%"
     ]
    },
    {
     "name": "stderr",
     "output_type": "stream",
     "text": [
      "\r",
      "63.6%"
     ]
    },
    {
     "name": "stderr",
     "output_type": "stream",
     "text": [
      "\r",
      "63.7%"
     ]
    },
    {
     "name": "stderr",
     "output_type": "stream",
     "text": [
      "\r",
      "63.8%"
     ]
    },
    {
     "name": "stderr",
     "output_type": "stream",
     "text": [
      "\r",
      "63.9%"
     ]
    },
    {
     "name": "stderr",
     "output_type": "stream",
     "text": [
      "\r",
      "64.0%"
     ]
    },
    {
     "name": "stderr",
     "output_type": "stream",
     "text": [
      "\r",
      "64.0%"
     ]
    },
    {
     "name": "stderr",
     "output_type": "stream",
     "text": [
      "\r",
      "64.1%"
     ]
    },
    {
     "name": "stderr",
     "output_type": "stream",
     "text": [
      "\r",
      "64.2%"
     ]
    },
    {
     "name": "stderr",
     "output_type": "stream",
     "text": [
      "\r",
      "64.3%"
     ]
    },
    {
     "name": "stderr",
     "output_type": "stream",
     "text": [
      "\r",
      "64.4%"
     ]
    },
    {
     "name": "stderr",
     "output_type": "stream",
     "text": [
      "\r",
      "64.5%"
     ]
    },
    {
     "name": "stderr",
     "output_type": "stream",
     "text": [
      "\r",
      "64.5%"
     ]
    },
    {
     "name": "stderr",
     "output_type": "stream",
     "text": [
      "\r",
      "64.6%"
     ]
    },
    {
     "name": "stderr",
     "output_type": "stream",
     "text": [
      "\r",
      "64.7%"
     ]
    },
    {
     "name": "stderr",
     "output_type": "stream",
     "text": [
      "\r",
      "64.8%"
     ]
    },
    {
     "name": "stderr",
     "output_type": "stream",
     "text": [
      "\r",
      "64.9%"
     ]
    },
    {
     "name": "stderr",
     "output_type": "stream",
     "text": [
      "\r",
      "65.0%"
     ]
    },
    {
     "name": "stderr",
     "output_type": "stream",
     "text": [
      "\r",
      "65.0%"
     ]
    },
    {
     "name": "stderr",
     "output_type": "stream",
     "text": [
      "\r",
      "65.1%"
     ]
    },
    {
     "name": "stderr",
     "output_type": "stream",
     "text": [
      "\r",
      "65.2%"
     ]
    },
    {
     "name": "stderr",
     "output_type": "stream",
     "text": [
      "\r",
      "65.3%"
     ]
    },
    {
     "name": "stderr",
     "output_type": "stream",
     "text": [
      "\r",
      "65.4%"
     ]
    },
    {
     "name": "stderr",
     "output_type": "stream",
     "text": [
      "\r",
      "65.5%"
     ]
    },
    {
     "name": "stderr",
     "output_type": "stream",
     "text": [
      "\r",
      "65.5%"
     ]
    },
    {
     "name": "stderr",
     "output_type": "stream",
     "text": [
      "\r",
      "65.6%"
     ]
    },
    {
     "name": "stderr",
     "output_type": "stream",
     "text": [
      "\r",
      "65.7%"
     ]
    },
    {
     "name": "stderr",
     "output_type": "stream",
     "text": [
      "\r",
      "65.8%"
     ]
    },
    {
     "name": "stderr",
     "output_type": "stream",
     "text": [
      "\r",
      "65.9%"
     ]
    },
    {
     "name": "stderr",
     "output_type": "stream",
     "text": [
      "\r",
      "65.9%"
     ]
    },
    {
     "name": "stderr",
     "output_type": "stream",
     "text": [
      "\r",
      "66.0%"
     ]
    },
    {
     "name": "stderr",
     "output_type": "stream",
     "text": [
      "\r",
      "66.1%"
     ]
    },
    {
     "name": "stderr",
     "output_type": "stream",
     "text": [
      "\r",
      "66.2%"
     ]
    },
    {
     "name": "stderr",
     "output_type": "stream",
     "text": [
      "\r",
      "66.3%"
     ]
    },
    {
     "name": "stderr",
     "output_type": "stream",
     "text": [
      "\r",
      "66.4%"
     ]
    },
    {
     "name": "stderr",
     "output_type": "stream",
     "text": [
      "\r",
      "66.4%"
     ]
    },
    {
     "name": "stderr",
     "output_type": "stream",
     "text": [
      "\r",
      "66.5%"
     ]
    },
    {
     "name": "stderr",
     "output_type": "stream",
     "text": [
      "\r",
      "66.6%"
     ]
    },
    {
     "name": "stderr",
     "output_type": "stream",
     "text": [
      "\r",
      "66.7%"
     ]
    },
    {
     "name": "stderr",
     "output_type": "stream",
     "text": [
      "\r",
      "66.8%"
     ]
    },
    {
     "name": "stderr",
     "output_type": "stream",
     "text": [
      "\r",
      "66.9%"
     ]
    },
    {
     "name": "stderr",
     "output_type": "stream",
     "text": [
      "\r",
      "66.9%"
     ]
    },
    {
     "name": "stderr",
     "output_type": "stream",
     "text": [
      "\r",
      "67.0%"
     ]
    },
    {
     "name": "stderr",
     "output_type": "stream",
     "text": [
      "\r",
      "67.1%"
     ]
    },
    {
     "name": "stderr",
     "output_type": "stream",
     "text": [
      "\r",
      "67.2%"
     ]
    },
    {
     "name": "stderr",
     "output_type": "stream",
     "text": [
      "\r",
      "67.3%"
     ]
    },
    {
     "name": "stderr",
     "output_type": "stream",
     "text": [
      "\r",
      "67.4%"
     ]
    },
    {
     "name": "stderr",
     "output_type": "stream",
     "text": [
      "\r",
      "67.4%"
     ]
    },
    {
     "name": "stderr",
     "output_type": "stream",
     "text": [
      "\r",
      "67.5%"
     ]
    },
    {
     "name": "stderr",
     "output_type": "stream",
     "text": [
      "\r",
      "67.6%"
     ]
    },
    {
     "name": "stderr",
     "output_type": "stream",
     "text": [
      "\r",
      "67.7%"
     ]
    },
    {
     "name": "stderr",
     "output_type": "stream",
     "text": [
      "\r",
      "67.8%"
     ]
    },
    {
     "name": "stderr",
     "output_type": "stream",
     "text": [
      "\r",
      "67.9%"
     ]
    },
    {
     "name": "stderr",
     "output_type": "stream",
     "text": [
      "\r",
      "67.9%"
     ]
    },
    {
     "name": "stderr",
     "output_type": "stream",
     "text": [
      "\r",
      "68.0%"
     ]
    },
    {
     "name": "stderr",
     "output_type": "stream",
     "text": [
      "\r",
      "68.1%"
     ]
    },
    {
     "name": "stderr",
     "output_type": "stream",
     "text": [
      "\r",
      "68.2%"
     ]
    },
    {
     "name": "stderr",
     "output_type": "stream",
     "text": [
      "\r",
      "68.3%"
     ]
    },
    {
     "name": "stderr",
     "output_type": "stream",
     "text": [
      "\r",
      "68.3%"
     ]
    },
    {
     "name": "stderr",
     "output_type": "stream",
     "text": [
      "\r",
      "68.4%"
     ]
    },
    {
     "name": "stderr",
     "output_type": "stream",
     "text": [
      "\r",
      "68.5%"
     ]
    },
    {
     "name": "stderr",
     "output_type": "stream",
     "text": [
      "\r",
      "68.6%"
     ]
    },
    {
     "name": "stderr",
     "output_type": "stream",
     "text": [
      "\r",
      "68.7%"
     ]
    },
    {
     "name": "stderr",
     "output_type": "stream",
     "text": [
      "\r",
      "68.8%"
     ]
    },
    {
     "name": "stderr",
     "output_type": "stream",
     "text": [
      "\r",
      "68.8%"
     ]
    },
    {
     "name": "stderr",
     "output_type": "stream",
     "text": [
      "\r",
      "68.9%"
     ]
    },
    {
     "name": "stderr",
     "output_type": "stream",
     "text": [
      "\r",
      "69.0%"
     ]
    },
    {
     "name": "stderr",
     "output_type": "stream",
     "text": [
      "\r",
      "69.1%"
     ]
    },
    {
     "name": "stderr",
     "output_type": "stream",
     "text": [
      "\r",
      "69.2%"
     ]
    },
    {
     "name": "stderr",
     "output_type": "stream",
     "text": [
      "\r",
      "69.3%"
     ]
    },
    {
     "name": "stderr",
     "output_type": "stream",
     "text": [
      "\r",
      "69.3%"
     ]
    },
    {
     "name": "stderr",
     "output_type": "stream",
     "text": [
      "\r",
      "69.4%"
     ]
    },
    {
     "name": "stderr",
     "output_type": "stream",
     "text": [
      "\r",
      "69.5%"
     ]
    },
    {
     "name": "stderr",
     "output_type": "stream",
     "text": [
      "\r",
      "69.6%"
     ]
    },
    {
     "name": "stderr",
     "output_type": "stream",
     "text": [
      "\r",
      "69.7%"
     ]
    },
    {
     "name": "stderr",
     "output_type": "stream",
     "text": [
      "\r",
      "69.8%"
     ]
    },
    {
     "name": "stderr",
     "output_type": "stream",
     "text": [
      "\r",
      "69.8%"
     ]
    },
    {
     "name": "stderr",
     "output_type": "stream",
     "text": [
      "\r",
      "69.9%"
     ]
    },
    {
     "name": "stderr",
     "output_type": "stream",
     "text": [
      "\r",
      "70.0%"
     ]
    },
    {
     "name": "stderr",
     "output_type": "stream",
     "text": [
      "\r",
      "70.1%"
     ]
    },
    {
     "name": "stderr",
     "output_type": "stream",
     "text": [
      "\r",
      "70.2%"
     ]
    },
    {
     "name": "stderr",
     "output_type": "stream",
     "text": [
      "\r",
      "70.2%"
     ]
    },
    {
     "name": "stderr",
     "output_type": "stream",
     "text": [
      "\r",
      "70.3%"
     ]
    },
    {
     "name": "stderr",
     "output_type": "stream",
     "text": [
      "\r",
      "70.4%"
     ]
    },
    {
     "name": "stderr",
     "output_type": "stream",
     "text": [
      "\r",
      "70.5%"
     ]
    },
    {
     "name": "stderr",
     "output_type": "stream",
     "text": [
      "\r",
      "70.6%"
     ]
    },
    {
     "name": "stderr",
     "output_type": "stream",
     "text": [
      "\r",
      "70.7%"
     ]
    },
    {
     "name": "stderr",
     "output_type": "stream",
     "text": [
      "\r",
      "70.7%"
     ]
    },
    {
     "name": "stderr",
     "output_type": "stream",
     "text": [
      "\r",
      "70.8%"
     ]
    },
    {
     "name": "stderr",
     "output_type": "stream",
     "text": [
      "\r",
      "70.9%"
     ]
    },
    {
     "name": "stderr",
     "output_type": "stream",
     "text": [
      "\r",
      "71.0%"
     ]
    },
    {
     "name": "stderr",
     "output_type": "stream",
     "text": [
      "\r",
      "71.1%"
     ]
    },
    {
     "name": "stderr",
     "output_type": "stream",
     "text": [
      "\r",
      "71.2%"
     ]
    },
    {
     "name": "stderr",
     "output_type": "stream",
     "text": [
      "\r",
      "71.2%"
     ]
    },
    {
     "name": "stderr",
     "output_type": "stream",
     "text": [
      "\r",
      "71.3%"
     ]
    },
    {
     "name": "stderr",
     "output_type": "stream",
     "text": [
      "\r",
      "71.4%"
     ]
    },
    {
     "name": "stderr",
     "output_type": "stream",
     "text": [
      "\r",
      "71.5%"
     ]
    },
    {
     "name": "stderr",
     "output_type": "stream",
     "text": [
      "\r",
      "71.6%"
     ]
    },
    {
     "name": "stderr",
     "output_type": "stream",
     "text": [
      "\r",
      "71.7%"
     ]
    },
    {
     "name": "stderr",
     "output_type": "stream",
     "text": [
      "\r",
      "71.7%"
     ]
    },
    {
     "name": "stderr",
     "output_type": "stream",
     "text": [
      "\r",
      "71.8%"
     ]
    },
    {
     "name": "stderr",
     "output_type": "stream",
     "text": [
      "\r",
      "71.9%"
     ]
    },
    {
     "name": "stderr",
     "output_type": "stream",
     "text": [
      "\r",
      "72.0%"
     ]
    },
    {
     "name": "stderr",
     "output_type": "stream",
     "text": [
      "\r",
      "72.1%"
     ]
    },
    {
     "name": "stderr",
     "output_type": "stream",
     "text": [
      "\r",
      "72.1%"
     ]
    },
    {
     "name": "stderr",
     "output_type": "stream",
     "text": [
      "\r",
      "72.2%"
     ]
    },
    {
     "name": "stderr",
     "output_type": "stream",
     "text": [
      "\r",
      "72.3%"
     ]
    },
    {
     "name": "stderr",
     "output_type": "stream",
     "text": [
      "\r",
      "72.4%"
     ]
    },
    {
     "name": "stderr",
     "output_type": "stream",
     "text": [
      "\r",
      "72.5%"
     ]
    },
    {
     "name": "stderr",
     "output_type": "stream",
     "text": [
      "\r",
      "72.6%"
     ]
    },
    {
     "name": "stderr",
     "output_type": "stream",
     "text": [
      "\r",
      "72.6%"
     ]
    },
    {
     "name": "stderr",
     "output_type": "stream",
     "text": [
      "\r",
      "72.7%"
     ]
    },
    {
     "name": "stderr",
     "output_type": "stream",
     "text": [
      "\r",
      "72.8%"
     ]
    },
    {
     "name": "stderr",
     "output_type": "stream",
     "text": [
      "\r",
      "72.9%"
     ]
    },
    {
     "name": "stderr",
     "output_type": "stream",
     "text": [
      "\r",
      "73.0%"
     ]
    },
    {
     "name": "stderr",
     "output_type": "stream",
     "text": [
      "\r",
      "73.1%"
     ]
    },
    {
     "name": "stderr",
     "output_type": "stream",
     "text": [
      "\r",
      "73.1%"
     ]
    },
    {
     "name": "stderr",
     "output_type": "stream",
     "text": [
      "\r",
      "73.2%"
     ]
    },
    {
     "name": "stderr",
     "output_type": "stream",
     "text": [
      "\r",
      "73.3%"
     ]
    },
    {
     "name": "stderr",
     "output_type": "stream",
     "text": [
      "\r",
      "73.4%"
     ]
    },
    {
     "name": "stderr",
     "output_type": "stream",
     "text": [
      "\r",
      "73.5%"
     ]
    },
    {
     "name": "stderr",
     "output_type": "stream",
     "text": [
      "\r",
      "73.6%"
     ]
    },
    {
     "name": "stderr",
     "output_type": "stream",
     "text": [
      "\r",
      "73.6%"
     ]
    },
    {
     "name": "stderr",
     "output_type": "stream",
     "text": [
      "\r",
      "73.7%"
     ]
    },
    {
     "name": "stderr",
     "output_type": "stream",
     "text": [
      "\r",
      "73.8%"
     ]
    },
    {
     "name": "stderr",
     "output_type": "stream",
     "text": [
      "\r",
      "73.9%"
     ]
    },
    {
     "name": "stderr",
     "output_type": "stream",
     "text": [
      "\r",
      "74.0%"
     ]
    },
    {
     "name": "stderr",
     "output_type": "stream",
     "text": [
      "\r",
      "74.0%"
     ]
    },
    {
     "name": "stderr",
     "output_type": "stream",
     "text": [
      "\r",
      "74.1%"
     ]
    },
    {
     "name": "stderr",
     "output_type": "stream",
     "text": [
      "\r",
      "74.2%"
     ]
    },
    {
     "name": "stderr",
     "output_type": "stream",
     "text": [
      "\r",
      "74.3%"
     ]
    },
    {
     "name": "stderr",
     "output_type": "stream",
     "text": [
      "\r",
      "74.4%"
     ]
    },
    {
     "name": "stderr",
     "output_type": "stream",
     "text": [
      "\r",
      "74.5%"
     ]
    },
    {
     "name": "stderr",
     "output_type": "stream",
     "text": [
      "\r",
      "74.5%"
     ]
    },
    {
     "name": "stderr",
     "output_type": "stream",
     "text": [
      "\r",
      "74.6%"
     ]
    },
    {
     "name": "stderr",
     "output_type": "stream",
     "text": [
      "\r",
      "74.7%"
     ]
    },
    {
     "name": "stderr",
     "output_type": "stream",
     "text": [
      "\r",
      "74.8%"
     ]
    },
    {
     "name": "stderr",
     "output_type": "stream",
     "text": [
      "\r",
      "74.9%"
     ]
    },
    {
     "name": "stderr",
     "output_type": "stream",
     "text": [
      "\r",
      "75.0%"
     ]
    },
    {
     "name": "stderr",
     "output_type": "stream",
     "text": [
      "\r",
      "75.0%"
     ]
    },
    {
     "name": "stderr",
     "output_type": "stream",
     "text": [
      "\r",
      "75.1%"
     ]
    },
    {
     "name": "stderr",
     "output_type": "stream",
     "text": [
      "\r",
      "75.2%"
     ]
    },
    {
     "name": "stderr",
     "output_type": "stream",
     "text": [
      "\r",
      "75.3%"
     ]
    },
    {
     "name": "stderr",
     "output_type": "stream",
     "text": [
      "\r",
      "75.4%"
     ]
    },
    {
     "name": "stderr",
     "output_type": "stream",
     "text": [
      "\r",
      "75.5%"
     ]
    },
    {
     "name": "stderr",
     "output_type": "stream",
     "text": [
      "\r",
      "75.5%"
     ]
    },
    {
     "name": "stderr",
     "output_type": "stream",
     "text": [
      "\r",
      "75.6%"
     ]
    },
    {
     "name": "stderr",
     "output_type": "stream",
     "text": [
      "\r",
      "75.7%"
     ]
    },
    {
     "name": "stderr",
     "output_type": "stream",
     "text": [
      "\r",
      "75.8%"
     ]
    },
    {
     "name": "stderr",
     "output_type": "stream",
     "text": [
      "\r",
      "75.9%"
     ]
    },
    {
     "name": "stderr",
     "output_type": "stream",
     "text": [
      "\r",
      "75.9%"
     ]
    },
    {
     "name": "stderr",
     "output_type": "stream",
     "text": [
      "\r",
      "76.0%"
     ]
    },
    {
     "name": "stderr",
     "output_type": "stream",
     "text": [
      "\r",
      "76.1%"
     ]
    },
    {
     "name": "stderr",
     "output_type": "stream",
     "text": [
      "\r",
      "76.2%"
     ]
    },
    {
     "name": "stderr",
     "output_type": "stream",
     "text": [
      "\r",
      "76.3%"
     ]
    },
    {
     "name": "stderr",
     "output_type": "stream",
     "text": [
      "\r",
      "76.4%"
     ]
    },
    {
     "name": "stderr",
     "output_type": "stream",
     "text": [
      "\r",
      "76.4%"
     ]
    },
    {
     "name": "stderr",
     "output_type": "stream",
     "text": [
      "\r",
      "76.5%"
     ]
    },
    {
     "name": "stderr",
     "output_type": "stream",
     "text": [
      "\r",
      "76.6%"
     ]
    },
    {
     "name": "stderr",
     "output_type": "stream",
     "text": [
      "\r",
      "76.7%"
     ]
    },
    {
     "name": "stderr",
     "output_type": "stream",
     "text": [
      "\r",
      "76.8%"
     ]
    },
    {
     "name": "stderr",
     "output_type": "stream",
     "text": [
      "\r",
      "76.9%"
     ]
    },
    {
     "name": "stderr",
     "output_type": "stream",
     "text": [
      "\r",
      "76.9%"
     ]
    },
    {
     "name": "stderr",
     "output_type": "stream",
     "text": [
      "\r",
      "77.0%"
     ]
    },
    {
     "name": "stderr",
     "output_type": "stream",
     "text": [
      "\r",
      "77.1%"
     ]
    },
    {
     "name": "stderr",
     "output_type": "stream",
     "text": [
      "\r",
      "77.2%"
     ]
    },
    {
     "name": "stderr",
     "output_type": "stream",
     "text": [
      "\r",
      "77.3%"
     ]
    },
    {
     "name": "stderr",
     "output_type": "stream",
     "text": [
      "\r",
      "77.4%"
     ]
    },
    {
     "name": "stderr",
     "output_type": "stream",
     "text": [
      "\r",
      "77.4%"
     ]
    },
    {
     "name": "stderr",
     "output_type": "stream",
     "text": [
      "\r",
      "77.5%"
     ]
    },
    {
     "name": "stderr",
     "output_type": "stream",
     "text": [
      "\r",
      "77.6%"
     ]
    },
    {
     "name": "stderr",
     "output_type": "stream",
     "text": [
      "\r",
      "77.7%"
     ]
    },
    {
     "name": "stderr",
     "output_type": "stream",
     "text": [
      "\r",
      "77.8%"
     ]
    },
    {
     "name": "stderr",
     "output_type": "stream",
     "text": [
      "\r",
      "77.9%"
     ]
    },
    {
     "name": "stderr",
     "output_type": "stream",
     "text": [
      "\r",
      "77.9%"
     ]
    },
    {
     "name": "stderr",
     "output_type": "stream",
     "text": [
      "\r",
      "78.0%"
     ]
    },
    {
     "name": "stderr",
     "output_type": "stream",
     "text": [
      "\r",
      "78.1%"
     ]
    },
    {
     "name": "stderr",
     "output_type": "stream",
     "text": [
      "\r",
      "78.2%"
     ]
    },
    {
     "name": "stderr",
     "output_type": "stream",
     "text": [
      "\r",
      "78.3%"
     ]
    },
    {
     "name": "stderr",
     "output_type": "stream",
     "text": [
      "\r",
      "78.3%"
     ]
    },
    {
     "name": "stderr",
     "output_type": "stream",
     "text": [
      "\r",
      "78.4%"
     ]
    },
    {
     "name": "stderr",
     "output_type": "stream",
     "text": [
      "\r",
      "78.5%"
     ]
    },
    {
     "name": "stderr",
     "output_type": "stream",
     "text": [
      "\r",
      "78.6%"
     ]
    },
    {
     "name": "stderr",
     "output_type": "stream",
     "text": [
      "\r",
      "78.7%"
     ]
    },
    {
     "name": "stderr",
     "output_type": "stream",
     "text": [
      "\r",
      "78.8%"
     ]
    },
    {
     "name": "stderr",
     "output_type": "stream",
     "text": [
      "\r",
      "78.8%"
     ]
    },
    {
     "name": "stderr",
     "output_type": "stream",
     "text": [
      "\r",
      "78.9%"
     ]
    },
    {
     "name": "stderr",
     "output_type": "stream",
     "text": [
      "\r",
      "79.0%"
     ]
    },
    {
     "name": "stderr",
     "output_type": "stream",
     "text": [
      "\r",
      "79.1%"
     ]
    },
    {
     "name": "stderr",
     "output_type": "stream",
     "text": [
      "\r",
      "79.2%"
     ]
    },
    {
     "name": "stderr",
     "output_type": "stream",
     "text": [
      "\r",
      "79.3%"
     ]
    },
    {
     "name": "stderr",
     "output_type": "stream",
     "text": [
      "\r",
      "79.3%"
     ]
    },
    {
     "name": "stderr",
     "output_type": "stream",
     "text": [
      "\r",
      "79.4%"
     ]
    },
    {
     "name": "stderr",
     "output_type": "stream",
     "text": [
      "\r",
      "79.5%"
     ]
    },
    {
     "name": "stderr",
     "output_type": "stream",
     "text": [
      "\r",
      "79.6%"
     ]
    },
    {
     "name": "stderr",
     "output_type": "stream",
     "text": [
      "\r",
      "79.7%"
     ]
    },
    {
     "name": "stderr",
     "output_type": "stream",
     "text": [
      "\r",
      "79.8%"
     ]
    },
    {
     "name": "stderr",
     "output_type": "stream",
     "text": [
      "\r",
      "79.8%"
     ]
    },
    {
     "name": "stderr",
     "output_type": "stream",
     "text": [
      "\r",
      "79.9%"
     ]
    },
    {
     "name": "stderr",
     "output_type": "stream",
     "text": [
      "\r",
      "80.0%"
     ]
    },
    {
     "name": "stderr",
     "output_type": "stream",
     "text": [
      "\r",
      "80.1%"
     ]
    },
    {
     "name": "stderr",
     "output_type": "stream",
     "text": [
      "\r",
      "80.2%"
     ]
    },
    {
     "name": "stderr",
     "output_type": "stream",
     "text": [
      "\r",
      "80.2%"
     ]
    },
    {
     "name": "stderr",
     "output_type": "stream",
     "text": [
      "\r",
      "80.3%"
     ]
    },
    {
     "name": "stderr",
     "output_type": "stream",
     "text": [
      "\r",
      "80.4%"
     ]
    },
    {
     "name": "stderr",
     "output_type": "stream",
     "text": [
      "\r",
      "80.5%"
     ]
    },
    {
     "name": "stderr",
     "output_type": "stream",
     "text": [
      "\r",
      "80.6%"
     ]
    },
    {
     "name": "stderr",
     "output_type": "stream",
     "text": [
      "\r",
      "80.7%"
     ]
    },
    {
     "name": "stderr",
     "output_type": "stream",
     "text": [
      "\r",
      "80.7%"
     ]
    },
    {
     "name": "stderr",
     "output_type": "stream",
     "text": [
      "\r",
      "80.8%"
     ]
    },
    {
     "name": "stderr",
     "output_type": "stream",
     "text": [
      "\r",
      "80.9%"
     ]
    },
    {
     "name": "stderr",
     "output_type": "stream",
     "text": [
      "\r",
      "81.0%"
     ]
    },
    {
     "name": "stderr",
     "output_type": "stream",
     "text": [
      "\r",
      "81.1%"
     ]
    },
    {
     "name": "stderr",
     "output_type": "stream",
     "text": [
      "\r",
      "81.2%"
     ]
    },
    {
     "name": "stderr",
     "output_type": "stream",
     "text": [
      "\r",
      "81.2%"
     ]
    },
    {
     "name": "stderr",
     "output_type": "stream",
     "text": [
      "\r",
      "81.3%"
     ]
    },
    {
     "name": "stderr",
     "output_type": "stream",
     "text": [
      "\r",
      "81.4%"
     ]
    },
    {
     "name": "stderr",
     "output_type": "stream",
     "text": [
      "\r",
      "81.5%"
     ]
    },
    {
     "name": "stderr",
     "output_type": "stream",
     "text": [
      "\r",
      "81.6%"
     ]
    },
    {
     "name": "stderr",
     "output_type": "stream",
     "text": [
      "\r",
      "81.7%"
     ]
    },
    {
     "name": "stderr",
     "output_type": "stream",
     "text": [
      "\r",
      "81.7%"
     ]
    },
    {
     "name": "stderr",
     "output_type": "stream",
     "text": [
      "\r",
      "81.8%"
     ]
    },
    {
     "name": "stderr",
     "output_type": "stream",
     "text": [
      "\r",
      "81.9%"
     ]
    },
    {
     "name": "stderr",
     "output_type": "stream",
     "text": [
      "\r",
      "82.0%"
     ]
    },
    {
     "name": "stderr",
     "output_type": "stream",
     "text": [
      "\r",
      "82.1%"
     ]
    },
    {
     "name": "stderr",
     "output_type": "stream",
     "text": [
      "\r",
      "82.1%"
     ]
    },
    {
     "name": "stderr",
     "output_type": "stream",
     "text": [
      "\r",
      "82.2%"
     ]
    },
    {
     "name": "stderr",
     "output_type": "stream",
     "text": [
      "\r",
      "82.3%"
     ]
    },
    {
     "name": "stderr",
     "output_type": "stream",
     "text": [
      "\r",
      "82.4%"
     ]
    },
    {
     "name": "stderr",
     "output_type": "stream",
     "text": [
      "\r",
      "82.5%"
     ]
    },
    {
     "name": "stderr",
     "output_type": "stream",
     "text": [
      "\r",
      "82.6%"
     ]
    },
    {
     "name": "stderr",
     "output_type": "stream",
     "text": [
      "\r",
      "82.6%"
     ]
    },
    {
     "name": "stderr",
     "output_type": "stream",
     "text": [
      "\r",
      "82.7%"
     ]
    },
    {
     "name": "stderr",
     "output_type": "stream",
     "text": [
      "\r",
      "82.8%"
     ]
    },
    {
     "name": "stderr",
     "output_type": "stream",
     "text": [
      "\r",
      "82.9%"
     ]
    },
    {
     "name": "stderr",
     "output_type": "stream",
     "text": [
      "\r",
      "83.0%"
     ]
    },
    {
     "name": "stderr",
     "output_type": "stream",
     "text": [
      "\r",
      "83.1%"
     ]
    },
    {
     "name": "stderr",
     "output_type": "stream",
     "text": [
      "\r",
      "83.1%"
     ]
    },
    {
     "name": "stderr",
     "output_type": "stream",
     "text": [
      "\r",
      "83.2%"
     ]
    },
    {
     "name": "stderr",
     "output_type": "stream",
     "text": [
      "\r",
      "83.3%"
     ]
    },
    {
     "name": "stderr",
     "output_type": "stream",
     "text": [
      "\r",
      "83.4%"
     ]
    },
    {
     "name": "stderr",
     "output_type": "stream",
     "text": [
      "\r",
      "83.5%"
     ]
    },
    {
     "name": "stderr",
     "output_type": "stream",
     "text": [
      "\r",
      "83.6%"
     ]
    },
    {
     "name": "stderr",
     "output_type": "stream",
     "text": [
      "\r",
      "83.6%"
     ]
    },
    {
     "name": "stderr",
     "output_type": "stream",
     "text": [
      "\r",
      "83.7%"
     ]
    },
    {
     "name": "stderr",
     "output_type": "stream",
     "text": [
      "\r",
      "83.8%"
     ]
    },
    {
     "name": "stderr",
     "output_type": "stream",
     "text": [
      "\r",
      "83.9%"
     ]
    },
    {
     "name": "stderr",
     "output_type": "stream",
     "text": [
      "\r",
      "84.0%"
     ]
    },
    {
     "name": "stderr",
     "output_type": "stream",
     "text": [
      "\r",
      "84.0%"
     ]
    },
    {
     "name": "stderr",
     "output_type": "stream",
     "text": [
      "\r",
      "84.1%"
     ]
    },
    {
     "name": "stderr",
     "output_type": "stream",
     "text": [
      "\r",
      "84.2%"
     ]
    },
    {
     "name": "stderr",
     "output_type": "stream",
     "text": [
      "\r",
      "84.3%"
     ]
    },
    {
     "name": "stderr",
     "output_type": "stream",
     "text": [
      "\r",
      "84.4%"
     ]
    },
    {
     "name": "stderr",
     "output_type": "stream",
     "text": [
      "\r",
      "84.5%"
     ]
    },
    {
     "name": "stderr",
     "output_type": "stream",
     "text": [
      "\r",
      "84.5%"
     ]
    },
    {
     "name": "stderr",
     "output_type": "stream",
     "text": [
      "\r",
      "84.6%"
     ]
    },
    {
     "name": "stderr",
     "output_type": "stream",
     "text": [
      "\r",
      "84.7%"
     ]
    },
    {
     "name": "stderr",
     "output_type": "stream",
     "text": [
      "\r",
      "84.8%"
     ]
    },
    {
     "name": "stderr",
     "output_type": "stream",
     "text": [
      "\r",
      "84.9%"
     ]
    },
    {
     "name": "stderr",
     "output_type": "stream",
     "text": [
      "\r",
      "85.0%"
     ]
    },
    {
     "name": "stderr",
     "output_type": "stream",
     "text": [
      "\r",
      "85.0%"
     ]
    },
    {
     "name": "stderr",
     "output_type": "stream",
     "text": [
      "\r",
      "85.1%"
     ]
    },
    {
     "name": "stderr",
     "output_type": "stream",
     "text": [
      "\r",
      "85.2%"
     ]
    },
    {
     "name": "stderr",
     "output_type": "stream",
     "text": [
      "\r",
      "85.3%"
     ]
    },
    {
     "name": "stderr",
     "output_type": "stream",
     "text": [
      "\r",
      "85.4%"
     ]
    },
    {
     "name": "stderr",
     "output_type": "stream",
     "text": [
      "\r",
      "85.5%"
     ]
    },
    {
     "name": "stderr",
     "output_type": "stream",
     "text": [
      "\r",
      "85.5%"
     ]
    },
    {
     "name": "stderr",
     "output_type": "stream",
     "text": [
      "\r",
      "85.6%"
     ]
    },
    {
     "name": "stderr",
     "output_type": "stream",
     "text": [
      "\r",
      "85.7%"
     ]
    },
    {
     "name": "stderr",
     "output_type": "stream",
     "text": [
      "\r",
      "85.8%"
     ]
    },
    {
     "name": "stderr",
     "output_type": "stream",
     "text": [
      "\r",
      "85.9%"
     ]
    },
    {
     "name": "stderr",
     "output_type": "stream",
     "text": [
      "\r",
      "85.9%"
     ]
    },
    {
     "name": "stderr",
     "output_type": "stream",
     "text": [
      "\r",
      "86.0%"
     ]
    },
    {
     "name": "stderr",
     "output_type": "stream",
     "text": [
      "\r",
      "86.1%"
     ]
    },
    {
     "name": "stderr",
     "output_type": "stream",
     "text": [
      "\r",
      "86.2%"
     ]
    },
    {
     "name": "stderr",
     "output_type": "stream",
     "text": [
      "\r",
      "86.3%"
     ]
    },
    {
     "name": "stderr",
     "output_type": "stream",
     "text": [
      "\r",
      "86.4%"
     ]
    },
    {
     "name": "stderr",
     "output_type": "stream",
     "text": [
      "\r",
      "86.4%"
     ]
    },
    {
     "name": "stderr",
     "output_type": "stream",
     "text": [
      "\r",
      "86.5%"
     ]
    },
    {
     "name": "stderr",
     "output_type": "stream",
     "text": [
      "\r",
      "86.6%"
     ]
    },
    {
     "name": "stderr",
     "output_type": "stream",
     "text": [
      "\r",
      "86.7%"
     ]
    },
    {
     "name": "stderr",
     "output_type": "stream",
     "text": [
      "\r",
      "86.8%"
     ]
    },
    {
     "name": "stderr",
     "output_type": "stream",
     "text": [
      "\r",
      "86.9%"
     ]
    },
    {
     "name": "stderr",
     "output_type": "stream",
     "text": [
      "\r",
      "86.9%"
     ]
    },
    {
     "name": "stderr",
     "output_type": "stream",
     "text": [
      "\r",
      "87.0%"
     ]
    },
    {
     "name": "stderr",
     "output_type": "stream",
     "text": [
      "\r",
      "87.1%"
     ]
    },
    {
     "name": "stderr",
     "output_type": "stream",
     "text": [
      "\r",
      "87.2%"
     ]
    },
    {
     "name": "stderr",
     "output_type": "stream",
     "text": [
      "\r",
      "87.3%"
     ]
    },
    {
     "name": "stderr",
     "output_type": "stream",
     "text": [
      "\r",
      "87.4%"
     ]
    },
    {
     "name": "stderr",
     "output_type": "stream",
     "text": [
      "\r",
      "87.4%"
     ]
    },
    {
     "name": "stderr",
     "output_type": "stream",
     "text": [
      "\r",
      "87.5%"
     ]
    },
    {
     "name": "stderr",
     "output_type": "stream",
     "text": [
      "\r",
      "87.6%"
     ]
    },
    {
     "name": "stderr",
     "output_type": "stream",
     "text": [
      "\r",
      "87.7%"
     ]
    },
    {
     "name": "stderr",
     "output_type": "stream",
     "text": [
      "\r",
      "87.8%"
     ]
    },
    {
     "name": "stderr",
     "output_type": "stream",
     "text": [
      "\r",
      "87.9%"
     ]
    },
    {
     "name": "stderr",
     "output_type": "stream",
     "text": [
      "\r",
      "87.9%"
     ]
    },
    {
     "name": "stderr",
     "output_type": "stream",
     "text": [
      "\r",
      "88.0%"
     ]
    },
    {
     "name": "stderr",
     "output_type": "stream",
     "text": [
      "\r",
      "88.1%"
     ]
    },
    {
     "name": "stderr",
     "output_type": "stream",
     "text": [
      "\r",
      "88.2%"
     ]
    },
    {
     "name": "stderr",
     "output_type": "stream",
     "text": [
      "\r",
      "88.3%"
     ]
    },
    {
     "name": "stderr",
     "output_type": "stream",
     "text": [
      "\r",
      "88.3%"
     ]
    },
    {
     "name": "stderr",
     "output_type": "stream",
     "text": [
      "\r",
      "88.4%"
     ]
    },
    {
     "name": "stderr",
     "output_type": "stream",
     "text": [
      "\r",
      "88.5%"
     ]
    },
    {
     "name": "stderr",
     "output_type": "stream",
     "text": [
      "\r",
      "88.6%"
     ]
    },
    {
     "name": "stderr",
     "output_type": "stream",
     "text": [
      "\r",
      "88.7%"
     ]
    },
    {
     "name": "stderr",
     "output_type": "stream",
     "text": [
      "\r",
      "88.8%"
     ]
    },
    {
     "name": "stderr",
     "output_type": "stream",
     "text": [
      "\r",
      "88.8%"
     ]
    },
    {
     "name": "stderr",
     "output_type": "stream",
     "text": [
      "\r",
      "88.9%"
     ]
    },
    {
     "name": "stderr",
     "output_type": "stream",
     "text": [
      "\r",
      "89.0%"
     ]
    },
    {
     "name": "stderr",
     "output_type": "stream",
     "text": [
      "\r",
      "89.1%"
     ]
    },
    {
     "name": "stderr",
     "output_type": "stream",
     "text": [
      "\r",
      "89.2%"
     ]
    },
    {
     "name": "stderr",
     "output_type": "stream",
     "text": [
      "\r",
      "89.3%"
     ]
    },
    {
     "name": "stderr",
     "output_type": "stream",
     "text": [
      "\r",
      "89.3%"
     ]
    },
    {
     "name": "stderr",
     "output_type": "stream",
     "text": [
      "\r",
      "89.4%"
     ]
    },
    {
     "name": "stderr",
     "output_type": "stream",
     "text": [
      "\r",
      "89.5%"
     ]
    },
    {
     "name": "stderr",
     "output_type": "stream",
     "text": [
      "\r",
      "89.6%"
     ]
    },
    {
     "name": "stderr",
     "output_type": "stream",
     "text": [
      "\r",
      "89.7%"
     ]
    },
    {
     "name": "stderr",
     "output_type": "stream",
     "text": [
      "\r",
      "89.8%"
     ]
    },
    {
     "name": "stderr",
     "output_type": "stream",
     "text": [
      "\r",
      "89.8%"
     ]
    },
    {
     "name": "stderr",
     "output_type": "stream",
     "text": [
      "\r",
      "89.9%"
     ]
    },
    {
     "name": "stderr",
     "output_type": "stream",
     "text": [
      "\r",
      "90.0%"
     ]
    },
    {
     "name": "stderr",
     "output_type": "stream",
     "text": [
      "\r",
      "90.1%"
     ]
    },
    {
     "name": "stderr",
     "output_type": "stream",
     "text": [
      "\r",
      "90.2%"
     ]
    },
    {
     "name": "stderr",
     "output_type": "stream",
     "text": [
      "\r",
      "90.2%"
     ]
    },
    {
     "name": "stderr",
     "output_type": "stream",
     "text": [
      "\r",
      "90.3%"
     ]
    },
    {
     "name": "stderr",
     "output_type": "stream",
     "text": [
      "\r",
      "90.4%"
     ]
    },
    {
     "name": "stderr",
     "output_type": "stream",
     "text": [
      "\r",
      "90.5%"
     ]
    },
    {
     "name": "stderr",
     "output_type": "stream",
     "text": [
      "\r",
      "90.6%"
     ]
    },
    {
     "name": "stderr",
     "output_type": "stream",
     "text": [
      "\r",
      "90.7%"
     ]
    },
    {
     "name": "stderr",
     "output_type": "stream",
     "text": [
      "\r",
      "90.7%"
     ]
    },
    {
     "name": "stderr",
     "output_type": "stream",
     "text": [
      "\r",
      "90.8%"
     ]
    },
    {
     "name": "stderr",
     "output_type": "stream",
     "text": [
      "\r",
      "90.9%"
     ]
    },
    {
     "name": "stderr",
     "output_type": "stream",
     "text": [
      "\r",
      "91.0%"
     ]
    },
    {
     "name": "stderr",
     "output_type": "stream",
     "text": [
      "\r",
      "91.1%"
     ]
    },
    {
     "name": "stderr",
     "output_type": "stream",
     "text": [
      "\r",
      "91.2%"
     ]
    },
    {
     "name": "stderr",
     "output_type": "stream",
     "text": [
      "\r",
      "91.2%"
     ]
    },
    {
     "name": "stderr",
     "output_type": "stream",
     "text": [
      "\r",
      "91.3%"
     ]
    },
    {
     "name": "stderr",
     "output_type": "stream",
     "text": [
      "\r",
      "91.4%"
     ]
    },
    {
     "name": "stderr",
     "output_type": "stream",
     "text": [
      "\r",
      "91.5%"
     ]
    },
    {
     "name": "stderr",
     "output_type": "stream",
     "text": [
      "\r",
      "91.6%"
     ]
    },
    {
     "name": "stderr",
     "output_type": "stream",
     "text": [
      "\r",
      "91.7%"
     ]
    },
    {
     "name": "stderr",
     "output_type": "stream",
     "text": [
      "\r",
      "91.7%"
     ]
    },
    {
     "name": "stderr",
     "output_type": "stream",
     "text": [
      "\r",
      "91.8%"
     ]
    },
    {
     "name": "stderr",
     "output_type": "stream",
     "text": [
      "\r",
      "91.9%"
     ]
    },
    {
     "name": "stderr",
     "output_type": "stream",
     "text": [
      "\r",
      "92.0%"
     ]
    },
    {
     "name": "stderr",
     "output_type": "stream",
     "text": [
      "\r",
      "92.1%"
     ]
    },
    {
     "name": "stderr",
     "output_type": "stream",
     "text": [
      "\r",
      "92.1%"
     ]
    },
    {
     "name": "stderr",
     "output_type": "stream",
     "text": [
      "\r",
      "92.2%"
     ]
    },
    {
     "name": "stderr",
     "output_type": "stream",
     "text": [
      "\r",
      "92.3%"
     ]
    },
    {
     "name": "stderr",
     "output_type": "stream",
     "text": [
      "\r",
      "92.4%"
     ]
    },
    {
     "name": "stderr",
     "output_type": "stream",
     "text": [
      "\r",
      "92.5%"
     ]
    },
    {
     "name": "stderr",
     "output_type": "stream",
     "text": [
      "\r",
      "92.6%"
     ]
    },
    {
     "name": "stderr",
     "output_type": "stream",
     "text": [
      "\r",
      "92.6%"
     ]
    },
    {
     "name": "stderr",
     "output_type": "stream",
     "text": [
      "\r",
      "92.7%"
     ]
    },
    {
     "name": "stderr",
     "output_type": "stream",
     "text": [
      "\r",
      "92.8%"
     ]
    },
    {
     "name": "stderr",
     "output_type": "stream",
     "text": [
      "\r",
      "92.9%"
     ]
    },
    {
     "name": "stderr",
     "output_type": "stream",
     "text": [
      "\r",
      "93.0%"
     ]
    },
    {
     "name": "stderr",
     "output_type": "stream",
     "text": [
      "\r",
      "93.1%"
     ]
    },
    {
     "name": "stderr",
     "output_type": "stream",
     "text": [
      "\r",
      "93.1%"
     ]
    },
    {
     "name": "stderr",
     "output_type": "stream",
     "text": [
      "\r",
      "93.2%"
     ]
    },
    {
     "name": "stderr",
     "output_type": "stream",
     "text": [
      "\r",
      "93.3%"
     ]
    },
    {
     "name": "stderr",
     "output_type": "stream",
     "text": [
      "\r",
      "93.4%"
     ]
    },
    {
     "name": "stderr",
     "output_type": "stream",
     "text": [
      "\r",
      "93.5%"
     ]
    },
    {
     "name": "stderr",
     "output_type": "stream",
     "text": [
      "\r",
      "93.6%"
     ]
    },
    {
     "name": "stderr",
     "output_type": "stream",
     "text": [
      "\r",
      "93.6%"
     ]
    },
    {
     "name": "stderr",
     "output_type": "stream",
     "text": [
      "\r",
      "93.7%"
     ]
    },
    {
     "name": "stderr",
     "output_type": "stream",
     "text": [
      "\r",
      "93.8%"
     ]
    },
    {
     "name": "stderr",
     "output_type": "stream",
     "text": [
      "\r",
      "93.9%"
     ]
    },
    {
     "name": "stderr",
     "output_type": "stream",
     "text": [
      "\r",
      "94.0%"
     ]
    },
    {
     "name": "stderr",
     "output_type": "stream",
     "text": [
      "\r",
      "94.0%"
     ]
    },
    {
     "name": "stderr",
     "output_type": "stream",
     "text": [
      "\r",
      "94.1%"
     ]
    },
    {
     "name": "stderr",
     "output_type": "stream",
     "text": [
      "\r",
      "94.2%"
     ]
    },
    {
     "name": "stderr",
     "output_type": "stream",
     "text": [
      "\r",
      "94.3%"
     ]
    },
    {
     "name": "stderr",
     "output_type": "stream",
     "text": [
      "\r",
      "94.4%"
     ]
    },
    {
     "name": "stderr",
     "output_type": "stream",
     "text": [
      "\r",
      "94.5%"
     ]
    },
    {
     "name": "stderr",
     "output_type": "stream",
     "text": [
      "\r",
      "94.5%"
     ]
    },
    {
     "name": "stderr",
     "output_type": "stream",
     "text": [
      "\r",
      "94.6%"
     ]
    },
    {
     "name": "stderr",
     "output_type": "stream",
     "text": [
      "\r",
      "94.7%"
     ]
    },
    {
     "name": "stderr",
     "output_type": "stream",
     "text": [
      "\r",
      "94.8%"
     ]
    },
    {
     "name": "stderr",
     "output_type": "stream",
     "text": [
      "\r",
      "94.9%"
     ]
    },
    {
     "name": "stderr",
     "output_type": "stream",
     "text": [
      "\r",
      "95.0%"
     ]
    },
    {
     "name": "stderr",
     "output_type": "stream",
     "text": [
      "\r",
      "95.0%"
     ]
    },
    {
     "name": "stderr",
     "output_type": "stream",
     "text": [
      "\r",
      "95.1%"
     ]
    },
    {
     "name": "stderr",
     "output_type": "stream",
     "text": [
      "\r",
      "95.2%"
     ]
    },
    {
     "name": "stderr",
     "output_type": "stream",
     "text": [
      "\r",
      "95.3%"
     ]
    },
    {
     "name": "stderr",
     "output_type": "stream",
     "text": [
      "\r",
      "95.4%"
     ]
    },
    {
     "name": "stderr",
     "output_type": "stream",
     "text": [
      "\r",
      "95.5%"
     ]
    },
    {
     "name": "stderr",
     "output_type": "stream",
     "text": [
      "\r",
      "95.5%"
     ]
    },
    {
     "name": "stderr",
     "output_type": "stream",
     "text": [
      "\r",
      "95.6%"
     ]
    },
    {
     "name": "stderr",
     "output_type": "stream",
     "text": [
      "\r",
      "95.7%"
     ]
    },
    {
     "name": "stderr",
     "output_type": "stream",
     "text": [
      "\r",
      "95.8%"
     ]
    },
    {
     "name": "stderr",
     "output_type": "stream",
     "text": [
      "\r",
      "95.9%"
     ]
    },
    {
     "name": "stderr",
     "output_type": "stream",
     "text": [
      "\r",
      "95.9%"
     ]
    },
    {
     "name": "stderr",
     "output_type": "stream",
     "text": [
      "\r",
      "96.0%"
     ]
    },
    {
     "name": "stderr",
     "output_type": "stream",
     "text": [
      "\r",
      "96.1%"
     ]
    },
    {
     "name": "stderr",
     "output_type": "stream",
     "text": [
      "\r",
      "96.2%"
     ]
    },
    {
     "name": "stderr",
     "output_type": "stream",
     "text": [
      "\r",
      "96.3%"
     ]
    },
    {
     "name": "stderr",
     "output_type": "stream",
     "text": [
      "\r",
      "96.4%"
     ]
    },
    {
     "name": "stderr",
     "output_type": "stream",
     "text": [
      "\r",
      "96.4%"
     ]
    },
    {
     "name": "stderr",
     "output_type": "stream",
     "text": [
      "\r",
      "96.5%"
     ]
    },
    {
     "name": "stderr",
     "output_type": "stream",
     "text": [
      "\r",
      "96.6%"
     ]
    },
    {
     "name": "stderr",
     "output_type": "stream",
     "text": [
      "\r",
      "96.7%"
     ]
    },
    {
     "name": "stderr",
     "output_type": "stream",
     "text": [
      "\r",
      "96.8%"
     ]
    },
    {
     "name": "stderr",
     "output_type": "stream",
     "text": [
      "\r",
      "96.9%"
     ]
    },
    {
     "name": "stderr",
     "output_type": "stream",
     "text": [
      "\r",
      "96.9%"
     ]
    },
    {
     "name": "stderr",
     "output_type": "stream",
     "text": [
      "\r",
      "97.0%"
     ]
    },
    {
     "name": "stderr",
     "output_type": "stream",
     "text": [
      "\r",
      "97.1%"
     ]
    },
    {
     "name": "stderr",
     "output_type": "stream",
     "text": [
      "\r",
      "97.2%"
     ]
    },
    {
     "name": "stderr",
     "output_type": "stream",
     "text": [
      "\r",
      "97.3%"
     ]
    },
    {
     "name": "stderr",
     "output_type": "stream",
     "text": [
      "\r",
      "97.4%"
     ]
    },
    {
     "name": "stderr",
     "output_type": "stream",
     "text": [
      "\r",
      "97.4%"
     ]
    },
    {
     "name": "stderr",
     "output_type": "stream",
     "text": [
      "\r",
      "97.5%"
     ]
    },
    {
     "name": "stderr",
     "output_type": "stream",
     "text": [
      "\r",
      "97.6%"
     ]
    },
    {
     "name": "stderr",
     "output_type": "stream",
     "text": [
      "\r",
      "97.7%"
     ]
    },
    {
     "name": "stderr",
     "output_type": "stream",
     "text": [
      "\r",
      "97.8%"
     ]
    },
    {
     "name": "stderr",
     "output_type": "stream",
     "text": [
      "\r",
      "97.9%"
     ]
    },
    {
     "name": "stderr",
     "output_type": "stream",
     "text": [
      "\r",
      "97.9%"
     ]
    },
    {
     "name": "stderr",
     "output_type": "stream",
     "text": [
      "\r",
      "98.0%"
     ]
    },
    {
     "name": "stderr",
     "output_type": "stream",
     "text": [
      "\r",
      "98.1%"
     ]
    },
    {
     "name": "stderr",
     "output_type": "stream",
     "text": [
      "\r",
      "98.2%"
     ]
    },
    {
     "name": "stderr",
     "output_type": "stream",
     "text": [
      "\r",
      "98.3%"
     ]
    },
    {
     "name": "stderr",
     "output_type": "stream",
     "text": [
      "\r",
      "98.3%"
     ]
    },
    {
     "name": "stderr",
     "output_type": "stream",
     "text": [
      "\r",
      "98.4%"
     ]
    },
    {
     "name": "stderr",
     "output_type": "stream",
     "text": [
      "\r",
      "98.5%"
     ]
    },
    {
     "name": "stderr",
     "output_type": "stream",
     "text": [
      "\r",
      "98.6%"
     ]
    },
    {
     "name": "stderr",
     "output_type": "stream",
     "text": [
      "\r",
      "98.7%"
     ]
    },
    {
     "name": "stderr",
     "output_type": "stream",
     "text": [
      "\r",
      "98.8%"
     ]
    },
    {
     "name": "stderr",
     "output_type": "stream",
     "text": [
      "\r",
      "98.8%"
     ]
    },
    {
     "name": "stderr",
     "output_type": "stream",
     "text": [
      "\r",
      "98.9%"
     ]
    },
    {
     "name": "stderr",
     "output_type": "stream",
     "text": [
      "\r",
      "99.0%"
     ]
    },
    {
     "name": "stderr",
     "output_type": "stream",
     "text": [
      "\r",
      "99.1%"
     ]
    },
    {
     "name": "stderr",
     "output_type": "stream",
     "text": [
      "\r",
      "99.2%"
     ]
    },
    {
     "name": "stderr",
     "output_type": "stream",
     "text": [
      "\r",
      "99.3%"
     ]
    },
    {
     "name": "stderr",
     "output_type": "stream",
     "text": [
      "\r",
      "99.3%"
     ]
    },
    {
     "name": "stderr",
     "output_type": "stream",
     "text": [
      "\r",
      "99.4%"
     ]
    },
    {
     "name": "stderr",
     "output_type": "stream",
     "text": [
      "\r",
      "99.5%"
     ]
    },
    {
     "name": "stderr",
     "output_type": "stream",
     "text": [
      "\r",
      "99.6%"
     ]
    },
    {
     "name": "stderr",
     "output_type": "stream",
     "text": [
      "\r",
      "99.7%"
     ]
    },
    {
     "name": "stderr",
     "output_type": "stream",
     "text": [
      "\r",
      "99.8%"
     ]
    },
    {
     "name": "stderr",
     "output_type": "stream",
     "text": [
      "\r",
      "99.8%"
     ]
    },
    {
     "name": "stderr",
     "output_type": "stream",
     "text": [
      "\r",
      "99.9%"
     ]
    },
    {
     "name": "stderr",
     "output_type": "stream",
     "text": [
      "\r",
      "100.0%"
     ]
    },
    {
     "name": "stderr",
     "output_type": "stream",
     "text": [
      "\r",
      "100.1%"
     ]
    },
    {
     "name": "stdout",
     "output_type": "stream",
     "text": [
      "Extracting ./data/MNIST/raw/train-images-idx3-ubyte.gz to ./data/MNIST/raw\n"
     ]
    },
    {
     "name": "stderr",
     "output_type": "stream",
     "text": [
      "\r",
      "0.0%"
     ]
    },
    {
     "name": "stderr",
     "output_type": "stream",
     "text": [
      "\r",
      "28.4%"
     ]
    },
    {
     "name": "stderr",
     "output_type": "stream",
     "text": [
      "\r",
      "56.7%"
     ]
    },
    {
     "name": "stderr",
     "output_type": "stream",
     "text": [
      "\r",
      "85.1%"
     ]
    },
    {
     "name": "stderr",
     "output_type": "stream",
     "text": [
      "\r",
      "113.5%"
     ]
    },
    {
     "name": "stderr",
     "output_type": "stream",
     "text": [
      "\r",
      "0.0%"
     ]
    },
    {
     "name": "stderr",
     "output_type": "stream",
     "text": [
      "\r",
      "0.5%"
     ]
    },
    {
     "name": "stdout",
     "output_type": "stream",
     "text": [
      "Downloading http://yann.lecun.com/exdb/mnist/train-labels-idx1-ubyte.gz to ./data/MNIST/raw/train-labels-idx1-ubyte.gz\n",
      "Extracting ./data/MNIST/raw/train-labels-idx1-ubyte.gz to ./data/MNIST/raw\n",
      "Downloading http://yann.lecun.com/exdb/mnist/t10k-images-idx3-ubyte.gz to ./data/MNIST/raw/t10k-images-idx3-ubyte.gz\n"
     ]
    },
    {
     "name": "stderr",
     "output_type": "stream",
     "text": [
      "\r",
      "1.0%"
     ]
    },
    {
     "name": "stderr",
     "output_type": "stream",
     "text": [
      "\r",
      "1.5%"
     ]
    },
    {
     "name": "stderr",
     "output_type": "stream",
     "text": [
      "\r",
      "2.0%"
     ]
    },
    {
     "name": "stderr",
     "output_type": "stream",
     "text": [
      "\r",
      "2.5%"
     ]
    },
    {
     "name": "stderr",
     "output_type": "stream",
     "text": [
      "\r",
      "3.0%"
     ]
    },
    {
     "name": "stderr",
     "output_type": "stream",
     "text": [
      "\r",
      "3.5%"
     ]
    },
    {
     "name": "stderr",
     "output_type": "stream",
     "text": [
      "\r",
      "4.0%"
     ]
    },
    {
     "name": "stderr",
     "output_type": "stream",
     "text": [
      "\r",
      "4.5%"
     ]
    },
    {
     "name": "stderr",
     "output_type": "stream",
     "text": [
      "\r",
      "5.0%"
     ]
    },
    {
     "name": "stderr",
     "output_type": "stream",
     "text": [
      "\r",
      "5.5%"
     ]
    },
    {
     "name": "stderr",
     "output_type": "stream",
     "text": [
      "\r",
      "6.0%"
     ]
    },
    {
     "name": "stderr",
     "output_type": "stream",
     "text": [
      "\r",
      "6.5%"
     ]
    },
    {
     "name": "stderr",
     "output_type": "stream",
     "text": [
      "\r",
      "7.0%"
     ]
    },
    {
     "name": "stderr",
     "output_type": "stream",
     "text": [
      "\r",
      "7.5%"
     ]
    },
    {
     "name": "stderr",
     "output_type": "stream",
     "text": [
      "\r",
      "7.9%"
     ]
    },
    {
     "name": "stderr",
     "output_type": "stream",
     "text": [
      "\r",
      "8.4%"
     ]
    },
    {
     "name": "stderr",
     "output_type": "stream",
     "text": [
      "\r",
      "8.9%"
     ]
    },
    {
     "name": "stderr",
     "output_type": "stream",
     "text": [
      "\r",
      "9.4%"
     ]
    },
    {
     "name": "stderr",
     "output_type": "stream",
     "text": [
      "\r",
      "9.9%"
     ]
    },
    {
     "name": "stderr",
     "output_type": "stream",
     "text": [
      "\r",
      "10.4%"
     ]
    },
    {
     "name": "stderr",
     "output_type": "stream",
     "text": [
      "\r",
      "10.9%"
     ]
    },
    {
     "name": "stderr",
     "output_type": "stream",
     "text": [
      "\r",
      "11.4%"
     ]
    },
    {
     "name": "stderr",
     "output_type": "stream",
     "text": [
      "\r",
      "11.9%"
     ]
    },
    {
     "name": "stderr",
     "output_type": "stream",
     "text": [
      "\r",
      "12.4%"
     ]
    },
    {
     "name": "stderr",
     "output_type": "stream",
     "text": [
      "\r",
      "12.9%"
     ]
    },
    {
     "name": "stderr",
     "output_type": "stream",
     "text": [
      "\r",
      "13.4%"
     ]
    },
    {
     "name": "stderr",
     "output_type": "stream",
     "text": [
      "\r",
      "13.9%"
     ]
    },
    {
     "name": "stderr",
     "output_type": "stream",
     "text": [
      "\r",
      "14.4%"
     ]
    },
    {
     "name": "stderr",
     "output_type": "stream",
     "text": [
      "\r",
      "14.9%"
     ]
    },
    {
     "name": "stderr",
     "output_type": "stream",
     "text": [
      "\r",
      "15.4%"
     ]
    },
    {
     "name": "stderr",
     "output_type": "stream",
     "text": [
      "\r",
      "15.9%"
     ]
    },
    {
     "name": "stderr",
     "output_type": "stream",
     "text": [
      "\r",
      "16.4%"
     ]
    },
    {
     "name": "stderr",
     "output_type": "stream",
     "text": [
      "\r",
      "16.9%"
     ]
    },
    {
     "name": "stderr",
     "output_type": "stream",
     "text": [
      "\r",
      "17.4%"
     ]
    },
    {
     "name": "stderr",
     "output_type": "stream",
     "text": [
      "\r",
      "17.9%"
     ]
    },
    {
     "name": "stderr",
     "output_type": "stream",
     "text": [
      "\r",
      "18.4%"
     ]
    },
    {
     "name": "stderr",
     "output_type": "stream",
     "text": [
      "\r",
      "18.9%"
     ]
    },
    {
     "name": "stderr",
     "output_type": "stream",
     "text": [
      "\r",
      "19.4%"
     ]
    },
    {
     "name": "stderr",
     "output_type": "stream",
     "text": [
      "\r",
      "19.9%"
     ]
    },
    {
     "name": "stderr",
     "output_type": "stream",
     "text": [
      "\r",
      "20.4%"
     ]
    },
    {
     "name": "stderr",
     "output_type": "stream",
     "text": [
      "\r",
      "20.9%"
     ]
    },
    {
     "name": "stderr",
     "output_type": "stream",
     "text": [
      "\r",
      "21.4%"
     ]
    },
    {
     "name": "stderr",
     "output_type": "stream",
     "text": [
      "\r",
      "21.9%"
     ]
    },
    {
     "name": "stderr",
     "output_type": "stream",
     "text": [
      "\r",
      "22.4%"
     ]
    },
    {
     "name": "stderr",
     "output_type": "stream",
     "text": [
      "\r",
      "22.9%"
     ]
    },
    {
     "name": "stderr",
     "output_type": "stream",
     "text": [
      "\r",
      "23.4%"
     ]
    },
    {
     "name": "stderr",
     "output_type": "stream",
     "text": [
      "\r",
      "23.8%"
     ]
    },
    {
     "name": "stderr",
     "output_type": "stream",
     "text": [
      "\r",
      "24.3%"
     ]
    },
    {
     "name": "stderr",
     "output_type": "stream",
     "text": [
      "\r",
      "24.8%"
     ]
    },
    {
     "name": "stderr",
     "output_type": "stream",
     "text": [
      "\r",
      "25.3%"
     ]
    },
    {
     "name": "stderr",
     "output_type": "stream",
     "text": [
      "\r",
      "25.8%"
     ]
    },
    {
     "name": "stderr",
     "output_type": "stream",
     "text": [
      "\r",
      "26.3%"
     ]
    },
    {
     "name": "stderr",
     "output_type": "stream",
     "text": [
      "\r",
      "26.8%"
     ]
    },
    {
     "name": "stderr",
     "output_type": "stream",
     "text": [
      "\r",
      "27.3%"
     ]
    },
    {
     "name": "stderr",
     "output_type": "stream",
     "text": [
      "\r",
      "27.8%"
     ]
    },
    {
     "name": "stderr",
     "output_type": "stream",
     "text": [
      "\r",
      "28.3%"
     ]
    },
    {
     "name": "stderr",
     "output_type": "stream",
     "text": [
      "\r",
      "28.8%"
     ]
    },
    {
     "name": "stderr",
     "output_type": "stream",
     "text": [
      "\r",
      "29.3%"
     ]
    },
    {
     "name": "stderr",
     "output_type": "stream",
     "text": [
      "\r",
      "29.8%"
     ]
    },
    {
     "name": "stderr",
     "output_type": "stream",
     "text": [
      "\r",
      "30.3%"
     ]
    },
    {
     "name": "stderr",
     "output_type": "stream",
     "text": [
      "\r",
      "30.8%"
     ]
    },
    {
     "name": "stderr",
     "output_type": "stream",
     "text": [
      "\r",
      "31.3%"
     ]
    },
    {
     "name": "stderr",
     "output_type": "stream",
     "text": [
      "\r",
      "31.8%"
     ]
    },
    {
     "name": "stderr",
     "output_type": "stream",
     "text": [
      "\r",
      "32.3%"
     ]
    },
    {
     "name": "stderr",
     "output_type": "stream",
     "text": [
      "\r",
      "32.8%"
     ]
    },
    {
     "name": "stderr",
     "output_type": "stream",
     "text": [
      "\r",
      "33.3%"
     ]
    },
    {
     "name": "stderr",
     "output_type": "stream",
     "text": [
      "\r",
      "33.8%"
     ]
    },
    {
     "name": "stderr",
     "output_type": "stream",
     "text": [
      "\r",
      "34.3%"
     ]
    },
    {
     "name": "stderr",
     "output_type": "stream",
     "text": [
      "\r",
      "34.8%"
     ]
    },
    {
     "name": "stderr",
     "output_type": "stream",
     "text": [
      "\r",
      "35.3%"
     ]
    },
    {
     "name": "stderr",
     "output_type": "stream",
     "text": [
      "\r",
      "35.8%"
     ]
    },
    {
     "name": "stderr",
     "output_type": "stream",
     "text": [
      "\r",
      "36.3%"
     ]
    },
    {
     "name": "stderr",
     "output_type": "stream",
     "text": [
      "\r",
      "36.8%"
     ]
    },
    {
     "name": "stderr",
     "output_type": "stream",
     "text": [
      "\r",
      "37.3%"
     ]
    },
    {
     "name": "stderr",
     "output_type": "stream",
     "text": [
      "\r",
      "37.8%"
     ]
    },
    {
     "name": "stderr",
     "output_type": "stream",
     "text": [
      "\r",
      "38.3%"
     ]
    },
    {
     "name": "stderr",
     "output_type": "stream",
     "text": [
      "\r",
      "38.8%"
     ]
    },
    {
     "name": "stderr",
     "output_type": "stream",
     "text": [
      "\r",
      "39.2%"
     ]
    },
    {
     "name": "stderr",
     "output_type": "stream",
     "text": [
      "\r",
      "39.7%"
     ]
    },
    {
     "name": "stderr",
     "output_type": "stream",
     "text": [
      "\r",
      "40.2%"
     ]
    },
    {
     "name": "stderr",
     "output_type": "stream",
     "text": [
      "\r",
      "40.7%"
     ]
    },
    {
     "name": "stderr",
     "output_type": "stream",
     "text": [
      "\r",
      "41.2%"
     ]
    },
    {
     "name": "stderr",
     "output_type": "stream",
     "text": [
      "\r",
      "41.7%"
     ]
    },
    {
     "name": "stderr",
     "output_type": "stream",
     "text": [
      "\r",
      "42.2%"
     ]
    },
    {
     "name": "stderr",
     "output_type": "stream",
     "text": [
      "\r",
      "42.7%"
     ]
    },
    {
     "name": "stderr",
     "output_type": "stream",
     "text": [
      "\r",
      "43.2%"
     ]
    },
    {
     "name": "stderr",
     "output_type": "stream",
     "text": [
      "\r",
      "43.7%"
     ]
    },
    {
     "name": "stderr",
     "output_type": "stream",
     "text": [
      "\r",
      "44.2%"
     ]
    },
    {
     "name": "stderr",
     "output_type": "stream",
     "text": [
      "\r",
      "44.7%"
     ]
    },
    {
     "name": "stderr",
     "output_type": "stream",
     "text": [
      "\r",
      "45.2%"
     ]
    },
    {
     "name": "stderr",
     "output_type": "stream",
     "text": [
      "\r",
      "45.7%"
     ]
    },
    {
     "name": "stderr",
     "output_type": "stream",
     "text": [
      "\r",
      "46.2%"
     ]
    },
    {
     "name": "stderr",
     "output_type": "stream",
     "text": [
      "\r",
      "46.7%"
     ]
    },
    {
     "name": "stderr",
     "output_type": "stream",
     "text": [
      "\r",
      "47.2%"
     ]
    },
    {
     "name": "stderr",
     "output_type": "stream",
     "text": [
      "\r",
      "47.7%"
     ]
    },
    {
     "name": "stderr",
     "output_type": "stream",
     "text": [
      "\r",
      "48.2%"
     ]
    },
    {
     "name": "stderr",
     "output_type": "stream",
     "text": [
      "\r",
      "48.7%"
     ]
    },
    {
     "name": "stderr",
     "output_type": "stream",
     "text": [
      "\r",
      "49.2%"
     ]
    },
    {
     "name": "stderr",
     "output_type": "stream",
     "text": [
      "\r",
      "49.7%"
     ]
    },
    {
     "name": "stderr",
     "output_type": "stream",
     "text": [
      "\r",
      "50.2%"
     ]
    },
    {
     "name": "stderr",
     "output_type": "stream",
     "text": [
      "\r",
      "50.7%"
     ]
    },
    {
     "name": "stderr",
     "output_type": "stream",
     "text": [
      "\r",
      "51.2%"
     ]
    },
    {
     "name": "stderr",
     "output_type": "stream",
     "text": [
      "\r",
      "51.7%"
     ]
    },
    {
     "name": "stderr",
     "output_type": "stream",
     "text": [
      "\r",
      "52.2%"
     ]
    },
    {
     "name": "stderr",
     "output_type": "stream",
     "text": [
      "\r",
      "52.7%"
     ]
    },
    {
     "name": "stderr",
     "output_type": "stream",
     "text": [
      "\r",
      "53.2%"
     ]
    },
    {
     "name": "stderr",
     "output_type": "stream",
     "text": [
      "\r",
      "53.7%"
     ]
    },
    {
     "name": "stderr",
     "output_type": "stream",
     "text": [
      "\r",
      "54.2%"
     ]
    },
    {
     "name": "stderr",
     "output_type": "stream",
     "text": [
      "\r",
      "54.7%"
     ]
    },
    {
     "name": "stderr",
     "output_type": "stream",
     "text": [
      "\r",
      "55.1%"
     ]
    },
    {
     "name": "stderr",
     "output_type": "stream",
     "text": [
      "\r",
      "55.6%"
     ]
    },
    {
     "name": "stderr",
     "output_type": "stream",
     "text": [
      "\r",
      "56.1%"
     ]
    },
    {
     "name": "stderr",
     "output_type": "stream",
     "text": [
      "\r",
      "56.6%"
     ]
    },
    {
     "name": "stderr",
     "output_type": "stream",
     "text": [
      "\r",
      "57.1%"
     ]
    },
    {
     "name": "stderr",
     "output_type": "stream",
     "text": [
      "\r",
      "57.6%"
     ]
    },
    {
     "name": "stderr",
     "output_type": "stream",
     "text": [
      "\r",
      "58.1%"
     ]
    },
    {
     "name": "stderr",
     "output_type": "stream",
     "text": [
      "\r",
      "58.6%"
     ]
    },
    {
     "name": "stderr",
     "output_type": "stream",
     "text": [
      "\r",
      "59.1%"
     ]
    },
    {
     "name": "stderr",
     "output_type": "stream",
     "text": [
      "\r",
      "59.6%"
     ]
    },
    {
     "name": "stderr",
     "output_type": "stream",
     "text": [
      "\r",
      "60.1%"
     ]
    },
    {
     "name": "stderr",
     "output_type": "stream",
     "text": [
      "\r",
      "60.6%"
     ]
    },
    {
     "name": "stderr",
     "output_type": "stream",
     "text": [
      "\r",
      "61.1%"
     ]
    },
    {
     "name": "stderr",
     "output_type": "stream",
     "text": [
      "\r",
      "61.6%"
     ]
    },
    {
     "name": "stderr",
     "output_type": "stream",
     "text": [
      "\r",
      "62.1%"
     ]
    },
    {
     "name": "stderr",
     "output_type": "stream",
     "text": [
      "\r",
      "62.6%"
     ]
    },
    {
     "name": "stderr",
     "output_type": "stream",
     "text": [
      "\r",
      "63.1%"
     ]
    },
    {
     "name": "stderr",
     "output_type": "stream",
     "text": [
      "\r",
      "63.6%"
     ]
    },
    {
     "name": "stderr",
     "output_type": "stream",
     "text": [
      "\r",
      "64.1%"
     ]
    },
    {
     "name": "stderr",
     "output_type": "stream",
     "text": [
      "\r",
      "64.6%"
     ]
    },
    {
     "name": "stderr",
     "output_type": "stream",
     "text": [
      "\r",
      "65.1%"
     ]
    },
    {
     "name": "stderr",
     "output_type": "stream",
     "text": [
      "\r",
      "65.6%"
     ]
    },
    {
     "name": "stderr",
     "output_type": "stream",
     "text": [
      "\r",
      "66.1%"
     ]
    },
    {
     "name": "stderr",
     "output_type": "stream",
     "text": [
      "\r",
      "66.6%"
     ]
    },
    {
     "name": "stderr",
     "output_type": "stream",
     "text": [
      "\r",
      "67.1%"
     ]
    },
    {
     "name": "stderr",
     "output_type": "stream",
     "text": [
      "\r",
      "67.6%"
     ]
    },
    {
     "name": "stderr",
     "output_type": "stream",
     "text": [
      "\r",
      "68.1%"
     ]
    },
    {
     "name": "stderr",
     "output_type": "stream",
     "text": [
      "\r",
      "68.6%"
     ]
    },
    {
     "name": "stderr",
     "output_type": "stream",
     "text": [
      "\r",
      "69.1%"
     ]
    },
    {
     "name": "stderr",
     "output_type": "stream",
     "text": [
      "\r",
      "69.6%"
     ]
    },
    {
     "name": "stderr",
     "output_type": "stream",
     "text": [
      "\r",
      "70.1%"
     ]
    },
    {
     "name": "stderr",
     "output_type": "stream",
     "text": [
      "\r",
      "70.5%"
     ]
    },
    {
     "name": "stderr",
     "output_type": "stream",
     "text": [
      "\r",
      "71.0%"
     ]
    },
    {
     "name": "stderr",
     "output_type": "stream",
     "text": [
      "\r",
      "71.5%"
     ]
    },
    {
     "name": "stderr",
     "output_type": "stream",
     "text": [
      "\r",
      "72.0%"
     ]
    },
    {
     "name": "stderr",
     "output_type": "stream",
     "text": [
      "\r",
      "72.5%"
     ]
    },
    {
     "name": "stderr",
     "output_type": "stream",
     "text": [
      "\r",
      "73.0%"
     ]
    },
    {
     "name": "stderr",
     "output_type": "stream",
     "text": [
      "\r",
      "73.5%"
     ]
    },
    {
     "name": "stderr",
     "output_type": "stream",
     "text": [
      "\r",
      "74.0%"
     ]
    },
    {
     "name": "stderr",
     "output_type": "stream",
     "text": [
      "\r",
      "74.5%"
     ]
    },
    {
     "name": "stderr",
     "output_type": "stream",
     "text": [
      "\r",
      "75.0%"
     ]
    },
    {
     "name": "stderr",
     "output_type": "stream",
     "text": [
      "\r",
      "75.5%"
     ]
    },
    {
     "name": "stderr",
     "output_type": "stream",
     "text": [
      "\r",
      "76.0%"
     ]
    },
    {
     "name": "stderr",
     "output_type": "stream",
     "text": [
      "\r",
      "76.5%"
     ]
    },
    {
     "name": "stderr",
     "output_type": "stream",
     "text": [
      "\r",
      "77.0%"
     ]
    },
    {
     "name": "stderr",
     "output_type": "stream",
     "text": [
      "\r",
      "77.5%"
     ]
    },
    {
     "name": "stderr",
     "output_type": "stream",
     "text": [
      "\r",
      "78.0%"
     ]
    },
    {
     "name": "stderr",
     "output_type": "stream",
     "text": [
      "\r",
      "78.5%"
     ]
    },
    {
     "name": "stderr",
     "output_type": "stream",
     "text": [
      "\r",
      "79.0%"
     ]
    },
    {
     "name": "stderr",
     "output_type": "stream",
     "text": [
      "\r",
      "79.5%"
     ]
    },
    {
     "name": "stderr",
     "output_type": "stream",
     "text": [
      "\r",
      "80.0%"
     ]
    },
    {
     "name": "stderr",
     "output_type": "stream",
     "text": [
      "\r",
      "80.5%"
     ]
    },
    {
     "name": "stderr",
     "output_type": "stream",
     "text": [
      "\r",
      "81.0%"
     ]
    },
    {
     "name": "stderr",
     "output_type": "stream",
     "text": [
      "\r",
      "81.5%"
     ]
    },
    {
     "name": "stderr",
     "output_type": "stream",
     "text": [
      "\r",
      "82.0%"
     ]
    },
    {
     "name": "stderr",
     "output_type": "stream",
     "text": [
      "\r",
      "82.5%"
     ]
    },
    {
     "name": "stderr",
     "output_type": "stream",
     "text": [
      "\r",
      "83.0%"
     ]
    },
    {
     "name": "stderr",
     "output_type": "stream",
     "text": [
      "\r",
      "83.5%"
     ]
    },
    {
     "name": "stderr",
     "output_type": "stream",
     "text": [
      "\r",
      "84.0%"
     ]
    },
    {
     "name": "stderr",
     "output_type": "stream",
     "text": [
      "\r",
      "84.5%"
     ]
    },
    {
     "name": "stderr",
     "output_type": "stream",
     "text": [
      "\r",
      "85.0%"
     ]
    },
    {
     "name": "stderr",
     "output_type": "stream",
     "text": [
      "\r",
      "85.5%"
     ]
    },
    {
     "name": "stderr",
     "output_type": "stream",
     "text": [
      "\r",
      "86.0%"
     ]
    },
    {
     "name": "stderr",
     "output_type": "stream",
     "text": [
      "\r",
      "86.4%"
     ]
    },
    {
     "name": "stderr",
     "output_type": "stream",
     "text": [
      "\r",
      "86.9%"
     ]
    },
    {
     "name": "stderr",
     "output_type": "stream",
     "text": [
      "\r",
      "87.4%"
     ]
    },
    {
     "name": "stderr",
     "output_type": "stream",
     "text": [
      "\r",
      "87.9%"
     ]
    },
    {
     "name": "stderr",
     "output_type": "stream",
     "text": [
      "\r",
      "88.4%"
     ]
    },
    {
     "name": "stderr",
     "output_type": "stream",
     "text": [
      "\r",
      "88.9%"
     ]
    },
    {
     "name": "stderr",
     "output_type": "stream",
     "text": [
      "\r",
      "89.4%"
     ]
    },
    {
     "name": "stderr",
     "output_type": "stream",
     "text": [
      "\r",
      "89.9%"
     ]
    },
    {
     "name": "stderr",
     "output_type": "stream",
     "text": [
      "\r",
      "90.4%"
     ]
    },
    {
     "name": "stderr",
     "output_type": "stream",
     "text": [
      "\r",
      "90.9%"
     ]
    },
    {
     "name": "stderr",
     "output_type": "stream",
     "text": [
      "\r",
      "91.4%"
     ]
    },
    {
     "name": "stderr",
     "output_type": "stream",
     "text": [
      "\r",
      "91.9%"
     ]
    },
    {
     "name": "stderr",
     "output_type": "stream",
     "text": [
      "\r",
      "92.4%"
     ]
    },
    {
     "name": "stderr",
     "output_type": "stream",
     "text": [
      "\r",
      "92.9%"
     ]
    },
    {
     "name": "stderr",
     "output_type": "stream",
     "text": [
      "\r",
      "93.4%"
     ]
    },
    {
     "name": "stderr",
     "output_type": "stream",
     "text": [
      "\r",
      "93.9%"
     ]
    },
    {
     "name": "stderr",
     "output_type": "stream",
     "text": [
      "\r",
      "94.4%"
     ]
    },
    {
     "name": "stderr",
     "output_type": "stream",
     "text": [
      "\r",
      "94.9%"
     ]
    },
    {
     "name": "stderr",
     "output_type": "stream",
     "text": [
      "\r",
      "95.4%"
     ]
    },
    {
     "name": "stderr",
     "output_type": "stream",
     "text": [
      "\r",
      "95.9%"
     ]
    },
    {
     "name": "stderr",
     "output_type": "stream",
     "text": [
      "\r",
      "96.4%"
     ]
    },
    {
     "name": "stderr",
     "output_type": "stream",
     "text": [
      "\r",
      "96.9%"
     ]
    },
    {
     "name": "stderr",
     "output_type": "stream",
     "text": [
      "\r",
      "97.4%"
     ]
    },
    {
     "name": "stderr",
     "output_type": "stream",
     "text": [
      "\r",
      "97.9%"
     ]
    },
    {
     "name": "stderr",
     "output_type": "stream",
     "text": [
      "\r",
      "98.4%"
     ]
    },
    {
     "name": "stderr",
     "output_type": "stream",
     "text": [
      "\r",
      "98.9%"
     ]
    },
    {
     "name": "stderr",
     "output_type": "stream",
     "text": [
      "\r",
      "99.4%"
     ]
    },
    {
     "name": "stderr",
     "output_type": "stream",
     "text": [
      "\r",
      "99.9%"
     ]
    },
    {
     "name": "stderr",
     "output_type": "stream",
     "text": [
      "\r",
      "100.4%"
     ]
    },
    {
     "name": "stderr",
     "output_type": "stream",
     "text": [
      "\r",
      "0.0%"
     ]
    },
    {
     "name": "stderr",
     "output_type": "stream",
     "text": [
      "\r",
      "180.4%"
     ]
    },
    {
     "name": "stdout",
     "output_type": "stream",
     "text": [
      "Extracting ./data/MNIST/raw/t10k-images-idx3-ubyte.gz to ./data/MNIST/raw\n",
      "Downloading http://yann.lecun.com/exdb/mnist/t10k-labels-idx1-ubyte.gz to ./data/MNIST/raw/t10k-labels-idx1-ubyte.gz\n",
      "Extracting ./data/MNIST/raw/t10k-labels-idx1-ubyte.gz to ./data/MNIST/raw\n",
      "Processing...\n"
     ]
    },
    {
     "name": "stdout",
     "output_type": "stream",
     "text": [
      "Done!\n"
     ]
    }
   ],
   "source": [
    "BATCH_SIZE = 512\n",
    "train_loader, valid_loader, test_loader = load_mnist(batch_size=BATCH_SIZE)"
   ]
  },
  {
   "cell_type": "markdown",
   "metadata": {},
   "source": [
    "## 2. Define function to optimize\n",
    "In this tutorial, we want to optimize classification accuracy on the validation set as a function of the learning rate and momentum. The function takes in a parameterization (set of parameter values), computes the classification accuracy, and returns a dictionary of metric name ('accuracy') to a tuple with the mean and standard error."
   ]
  },
  {
   "cell_type": "code",
   "execution_count": 4,
   "metadata": {
    "collapsed": true
   },
   "outputs": [],
   "source": [
    "def train_evaluate(parameterization):\n",
    "    net = CNN()\n",
    "    net = train(net=net, train_loader=train_loader, parameters=parameterization, dtype=dtype, device=device)\n",
    "    return evaluate(\n",
    "        net=net,\n",
    "        data_loader=valid_loader,\n",
    "        dtype=dtype,\n",
    "        device=device,\n",
    "    )"
   ]
  },
  {
   "cell_type": "markdown",
   "metadata": {},
   "source": [
    "## 3. Run the optimization loop\n",
    "Here, we set the bounds on the learning rate and momentum and set the parameter space for the learning rate to be on a log scale. "
   ]
  },
  {
   "cell_type": "code",
   "execution_count": 5,
   "metadata": {},
   "outputs": [
    {
     "name": "stderr",
     "output_type": "stream",
     "text": [
      "[INFO 08-17 08:08:46] ax.service.utils.dispatch: Using Bayesian Optimization generation strategy. Iterations after 5 will take longer to generate due to model-fitting.\n"
     ]
    },
    {
     "name": "stderr",
     "output_type": "stream",
     "text": [
      "[INFO 08-17 08:08:46] ax.service.managed_loop: Started full optimization with 20 steps.\n"
     ]
    },
    {
     "name": "stderr",
     "output_type": "stream",
     "text": [
      "[INFO 08-17 08:08:46] ax.service.managed_loop: Running optimization trial 1...\n"
     ]
    },
    {
     "name": "stderr",
     "output_type": "stream",
     "text": [
      "[INFO 08-17 08:09:00] ax.service.managed_loop: Running optimization trial 2...\n"
     ]
    },
    {
     "name": "stderr",
     "output_type": "stream",
     "text": [
      "[INFO 08-17 08:09:13] ax.service.managed_loop: Running optimization trial 3...\n"
     ]
    },
    {
     "name": "stderr",
     "output_type": "stream",
     "text": [
      "[INFO 08-17 08:09:27] ax.service.managed_loop: Running optimization trial 4...\n"
     ]
    },
    {
     "name": "stderr",
     "output_type": "stream",
     "text": [
      "[INFO 08-17 08:09:41] ax.service.managed_loop: Running optimization trial 5...\n"
     ]
    },
    {
     "name": "stderr",
     "output_type": "stream",
     "text": [
      "[INFO 08-17 08:09:54] ax.service.managed_loop: Running optimization trial 6...\n"
     ]
    },
    {
     "name": "stderr",
     "output_type": "stream",
     "text": [
      "[INFO 08-17 08:10:08] ax.service.managed_loop: Running optimization trial 7...\n"
     ]
    },
    {
     "name": "stderr",
     "output_type": "stream",
     "text": [
      "[INFO 08-17 08:10:23] ax.service.managed_loop: Running optimization trial 8...\n"
     ]
    },
    {
     "name": "stderr",
     "output_type": "stream",
     "text": [
      "[INFO 08-17 08:10:38] ax.service.managed_loop: Running optimization trial 9...\n"
     ]
    },
    {
     "name": "stderr",
     "output_type": "stream",
     "text": [
      "[INFO 08-17 08:10:51] ax.service.managed_loop: Running optimization trial 10...\n"
     ]
    },
    {
     "name": "stderr",
     "output_type": "stream",
     "text": [
      "[INFO 08-17 08:11:06] ax.service.managed_loop: Running optimization trial 11...\n"
     ]
    },
    {
     "name": "stderr",
     "output_type": "stream",
     "text": [
      "[INFO 08-17 08:11:20] ax.service.managed_loop: Running optimization trial 12...\n"
     ]
    },
    {
     "name": "stderr",
     "output_type": "stream",
     "text": [
      "[INFO 08-17 08:11:34] ax.service.managed_loop: Running optimization trial 13...\n"
     ]
    },
    {
     "name": "stderr",
     "output_type": "stream",
     "text": [
      "[INFO 08-17 08:11:49] ax.service.managed_loop: Running optimization trial 14...\n"
     ]
    },
    {
     "name": "stderr",
     "output_type": "stream",
     "text": [
      "[INFO 08-17 08:12:04] ax.service.managed_loop: Running optimization trial 15...\n"
     ]
    },
    {
     "name": "stderr",
     "output_type": "stream",
     "text": [
      "[INFO 08-17 08:12:18] ax.service.managed_loop: Running optimization trial 16...\n"
     ]
    },
    {
     "name": "stderr",
     "output_type": "stream",
     "text": [
      "[INFO 08-17 08:12:33] ax.service.managed_loop: Running optimization trial 17...\n"
     ]
    },
    {
     "name": "stderr",
     "output_type": "stream",
     "text": [
      "[INFO 08-17 08:12:48] ax.service.managed_loop: Running optimization trial 18...\n"
     ]
    },
    {
     "name": "stderr",
     "output_type": "stream",
     "text": [
      "[INFO 08-17 08:13:02] ax.service.managed_loop: Running optimization trial 19...\n"
     ]
    },
    {
     "name": "stderr",
     "output_type": "stream",
     "text": [
      "[INFO 08-17 08:13:17] ax.service.managed_loop: Running optimization trial 20...\n"
     ]
    }
   ],
   "source": [
    "best_parameters, values, experiment, model = optimize(\n",
    "    parameters=[\n",
    "        {\"name\": \"lr\", \"type\": \"range\", \"bounds\": [1e-6, 0.4], \"log_scale\": True},\n",
    "        {\"name\": \"momentum\", \"type\": \"range\", \"bounds\": [0.0, 1.0]},\n",
    "    ],\n",
    "    evaluation_function=train_evaluate,\n",
    "    objective_name='accuracy',\n",
    ")"
   ]
  },
  {
   "cell_type": "markdown",
   "metadata": {},
   "source": [
    "We can introspect the optimal parameters and their outcomes:"
   ]
  },
  {
   "cell_type": "code",
   "execution_count": 6,
   "metadata": {},
   "outputs": [
    {
     "data": {
      "text/plain": [
       "{'lr': 0.0001864749646699676, 'momentum': 0.6825798946426482}"
      ]
     },
     "execution_count": 6,
     "metadata": {},
     "output_type": "execute_result"
    }
   ],
   "source": [
    "best_parameters"
   ]
  },
  {
   "cell_type": "code",
   "execution_count": 7,
   "metadata": {},
   "outputs": [
    {
     "data": {
      "text/plain": [
       "({'accuracy': 0.9309998075621544},\n",
       " {'accuracy': {'accuracy': 1.0085178483951806e-08}})"
      ]
     },
     "execution_count": 7,
     "metadata": {},
     "output_type": "execute_result"
    }
   ],
   "source": [
    "means, covariances = values\n",
    "means, covariances"
   ]
  },
  {
   "cell_type": "markdown",
   "metadata": {},
   "source": [
    "## 4. Plot response surface\n",
    "\n",
    "Contour plot showing classification accuracy as a function of the two hyperparameters.\n",
    "\n",
    "The black squares show points that we have actually run, notice how they are clustered in the optimal region."
   ]
  },
  {
   "cell_type": "code",
   "execution_count": 8,
   "metadata": {},
   "outputs": [
    {
     "data": {
      "text/html": [
       "<div id=\"3006a4ead7a44ab18cd5291e3c70ad90\" style=\"width: 100%;\" class=\"plotly-graph-div\"></div><script type='text/javascript'>/*\n",
       " * Copyright (c) Facebook, Inc. and its affiliates. All Rights Reserved.\n",
       " */\n",
       "\n",
       "require(['plotly'], function(Plotly) {\n",
       "  window.PLOTLYENV = window.PLOTLYENV || {};\n",
       "  window.PLOTLYENV.BASE_URL = 'https://plot.ly';\n",
       "  /*\n",
       " * Copyright (c) Facebook, Inc. and its affiliates. All Rights Reserved.\n",
       " */\n",
       "\n",
       "const arm_data = {\"metrics\": [\"accuracy\"], \"in_sample\": {\"0_0\": {\"name\": \"0_0\", \"parameters\": {\"lr\": 0.013817123705925683, \"momentum\": 0.9655269384384155}, \"y\": {\"accuracy\": 0.10983333333333334}, \"y_hat\": {\"accuracy\": 0.109833351680094}, \"se\": {\"accuracy\": 0.0}, \"se_hat\": {\"accuracy\": 0.00010042500896303881}, \"context_stratum\": null}, \"1_0\": {\"name\": \"1_0\", \"parameters\": {\"lr\": 0.08677598743196407, \"momentum\": 0.20258362591266632}, \"y\": {\"accuracy\": 0.099}, \"y_hat\": {\"accuracy\": 0.09900002469708558}, \"se\": {\"accuracy\": 0.0}, \"se_hat\": {\"accuracy\": 0.00010042500940901548}, \"context_stratum\": null}, \"2_0\": {\"name\": \"2_0\", \"parameters\": {\"lr\": 1.9898798578662766e-06, \"momentum\": 0.6912181973457336}, \"y\": {\"accuracy\": 0.38533333333333336}, \"y_hat\": {\"accuracy\": 0.3853333526015409}, \"se\": {\"accuracy\": 0.0}, \"se_hat\": {\"accuracy\": 0.00010042500940901548}, \"context_stratum\": null}, \"3_0\": {\"name\": \"3_0\", \"parameters\": {\"lr\": 5.383711617538293e-06, \"momentum\": 0.09757468104362488}, \"y\": {\"accuracy\": 0.44666666666666666}, \"y_hat\": {\"accuracy\": 0.4466666650130694}, \"se\": {\"accuracy\": 0.0}, \"se_hat\": {\"accuracy\": 0.00010042499413431327}, \"context_stratum\": null}, \"4_0\": {\"name\": \"4_0\", \"parameters\": {\"lr\": 0.031226495666533873, \"momentum\": 0.6087273955345154}, \"y\": {\"accuracy\": 0.111}, \"y_hat\": {\"accuracy\": 0.1110000040481971}, \"se\": {\"accuracy\": 0.0}, \"se_hat\": {\"accuracy\": 0.0001004250075136146}, \"context_stratum\": null}, \"5_0\": {\"name\": \"5_0\", \"parameters\": {\"lr\": 1.0000000000000144e-06, \"momentum\": 0.08737836445180208}, \"y\": {\"accuracy\": 0.14916666666666667}, \"y_hat\": {\"accuracy\": 0.14916670304966817}, \"se\": {\"accuracy\": 0.0}, \"se_hat\": {\"accuracy\": 0.00010042500405729527}, \"context_stratum\": null}, \"6_0\": {\"name\": \"6_0\", \"parameters\": {\"lr\": 1.1383087474097609e-05, \"momentum\": 0.3241672877242861}, \"y\": {\"accuracy\": 0.6745}, \"y_hat\": {\"accuracy\": 0.6744999500983615}, \"se\": {\"accuracy\": 0.0}, \"se_hat\": {\"accuracy\": 0.00010042497339639268}, \"context_stratum\": null}, \"7_0\": {\"name\": \"7_0\", \"parameters\": {\"lr\": 3.2579929302070694e-05, \"momentum\": 0.3967989640795848}, \"y\": {\"accuracy\": 0.8085}, \"y_hat\": {\"accuracy\": 0.8085000717000113}, \"se\": {\"accuracy\": 0.0}, \"se_hat\": {\"accuracy\": 0.00010042495700674273}, \"context_stratum\": null}, \"8_0\": {\"name\": \"8_0\", \"parameters\": {\"lr\": 9.224189911968261e-05, \"momentum\": 0.235824574878472}, \"y\": {\"accuracy\": 0.8778333333333334}, \"y_hat\": {\"accuracy\": 0.8778332257342302}, \"se\": {\"accuracy\": 0.0}, \"se_hat\": {\"accuracy\": 0.00010042491999065272}, \"context_stratum\": null}, \"9_0\": {\"name\": \"9_0\", \"parameters\": {\"lr\": 0.00018789324189827158, \"momentum\": 0.34898406084957745}, \"y\": {\"accuracy\": 0.9038333333333334}, \"y_hat\": {\"accuracy\": 0.9038333408974926}, \"se\": {\"accuracy\": 0.0}, \"se_hat\": {\"accuracy\": 0.00010042488821478144}, \"context_stratum\": null}, \"10_0\": {\"name\": \"10_0\", \"parameters\": {\"lr\": 0.00038294369352549485, \"momentum\": 0.15422188700139106}, \"y\": {\"accuracy\": 0.9151666666666667}, \"y_hat\": {\"accuracy\": 0.9151655296579038}, \"se\": {\"accuracy\": 0.0}, \"se_hat\": {\"accuracy\": 0.000100422564535133}, \"context_stratum\": null}, \"11_0\": {\"name\": \"11_0\", \"parameters\": {\"lr\": 0.00028385637044520714, \"momentum\": 0.2236376199286101}, \"y\": {\"accuracy\": 0.9183333333333333}, \"y_hat\": {\"accuracy\": 0.9183331665090355}, \"se\": {\"accuracy\": 0.0}, \"se_hat\": {\"accuracy\": 0.00010042419081549571}, \"context_stratum\": null}, \"12_0\": {\"name\": \"12_0\", \"parameters\": {\"lr\": 0.0002843402065597485, \"momentum\": 0.0}, \"y\": {\"accuracy\": 0.9201666666666667}, \"y_hat\": {\"accuracy\": 0.9201663350080331}, \"se\": {\"accuracy\": 0.0}, \"se_hat\": {\"accuracy\": 0.00010042487873776525}, \"context_stratum\": null}, \"13_0\": {\"name\": \"13_0\", \"parameters\": {\"lr\": 0.00026735764829532267, \"momentum\": 0.10628228865290547}, \"y\": {\"accuracy\": 0.8751666666666666}, \"y_hat\": {\"accuracy\": 0.8751676243176689}, \"se\": {\"accuracy\": 0.0}, \"se_hat\": {\"accuracy\": 0.00010042381106254508}, \"context_stratum\": null}, \"14_0\": {\"name\": \"14_0\", \"parameters\": {\"lr\": 0.001055654485508517, \"momentum\": 0.0}, \"y\": {\"accuracy\": 0.8161666666666667}, \"y_hat\": {\"accuracy\": 0.8161667584415195}, \"se\": {\"accuracy\": 0.0}, \"se_hat\": {\"accuracy\": 0.00010042498287339994}, \"context_stratum\": null}, \"15_0\": {\"name\": \"15_0\", \"parameters\": {\"lr\": 0.0006043583241814759, \"momentum\": 0.27199314961264126}, \"y\": {\"accuracy\": 0.924}, \"y_hat\": {\"accuracy\": 0.9239993222342023}, \"se\": {\"accuracy\": 0.0}, \"se_hat\": {\"accuracy\": 0.00010042402212330238}, \"context_stratum\": null}, \"16_0\": {\"name\": \"16_0\", \"parameters\": {\"lr\": 0.00048499003881501005, \"momentum\": 0.22576312274665342}, \"y\": {\"accuracy\": 0.9278333333333333}, \"y_hat\": {\"accuracy\": 0.927834550445146}, \"se\": {\"accuracy\": 0.0}, \"se_hat\": {\"accuracy\": 0.0001004210008906766}, \"context_stratum\": null}, \"17_0\": {\"name\": \"17_0\", \"parameters\": {\"lr\": 0.0001864749646699676, \"momentum\": 0.6825798946426482}, \"y\": {\"accuracy\": 0.931}, \"y_hat\": {\"accuracy\": 0.9309998075621544}, \"se\": {\"accuracy\": 0.0}, \"se_hat\": {\"accuracy\": 0.00010042498934006319}, \"context_stratum\": null}, \"18_0\": {\"name\": \"18_0\", \"parameters\": {\"lr\": 0.0004403060252304531, \"momentum\": 0.5842696954299137}, \"y\": {\"accuracy\": 0.6136666666666667}, \"y_hat\": {\"accuracy\": 0.6136668829733833}, \"se\": {\"accuracy\": 0.0}, \"se_hat\": {\"accuracy\": 0.00010042497596075943}, \"context_stratum\": null}}, \"out_of_sample\": {}, \"status_quo_name\": null};\n",
       "const density = 50;\n",
       "const grid_x = [1e-06, 1.3011511650442548e-06, 1.692994354296022e-06, 2.2028415765056147e-06, 2.866229883678204e-06, 3.729398352432554e-06, 4.852511011181743e-06, 6.3138503555892e-06, 8.215273746089953e-06, 1.0689313005882424e-05, 1.390841207112662e-05, 1.809694657026198e-05, 2.354686311364001e-05, 3.063802837345029e-05, 3.986470631277378e-05, 5.1870009063012666e-05, 6.749072272319499e-05, 8.781563250096393e-05, 0.00011426141253772724, 0.00014867137004306603, 0.00019344392634026088, 0.0002516997901283655, 0.0003274994751669172, 0.0004261263236648159, 0.0005544547624925005, 0.0007214294601814526, 0.000938688782612345, 0.0012213760031100258, 0.0015891948094037057, 0.002067782677737912, 0.0026904978401970136, 0.0035007443993213955, 0.004554997653699184, 0.005926740503884541, 0.007711585311544345, 0.010033938212454078, 0.013055670395116691, 0.01698740074503987, 0.02210317627048227, 0.028759573555516536, 0.03742055263793628, 0.04868979566145066, 0.06335278435066323, 0.0824315491666629, 0.10725590623460621, 0.13955614735503497, 0.18158364372009145, 0.23626776957937787, 0.3074200836506151, 0.4];\n",
       "const grid_y = [0.0, 0.02040816326530612, 0.04081632653061224, 0.061224489795918366, 0.08163265306122448, 0.1020408163265306, 0.12244897959183673, 0.14285714285714285, 0.16326530612244897, 0.18367346938775508, 0.2040816326530612, 0.22448979591836732, 0.24489795918367346, 0.26530612244897955, 0.2857142857142857, 0.3061224489795918, 0.32653061224489793, 0.3469387755102041, 0.36734693877551017, 0.3877551020408163, 0.4081632653061224, 0.42857142857142855, 0.44897959183673464, 0.4693877551020408, 0.4897959183673469, 0.5102040816326531, 0.5306122448979591, 0.5510204081632653, 0.5714285714285714, 0.5918367346938775, 0.6122448979591836, 0.6326530612244897, 0.6530612244897959, 0.673469387755102, 0.6938775510204082, 0.7142857142857142, 0.7346938775510203, 0.7551020408163265, 0.7755102040816326, 0.7959183673469387, 0.8163265306122448, 0.836734693877551, 0.8571428571428571, 0.8775510204081632, 0.8979591836734693, 0.9183673469387754, 0.9387755102040816, 0.9591836734693877, 0.9795918367346939, 1.0];\n",
       "const f = [0.1519458657696401, 0.17933697942880944, 0.2137537758306816, 0.25414530053099327, 0.2991480713218571, 0.3472730151185707, 0.3970500421969958, 0.44713121043794435, 0.4963583377975336, 0.5437982446810712, 0.5887513995907723, 0.6307438512993587, 0.6695133403664845, 0.705000384904514, 0.737352377939722, 0.7669387052982111, 0.7943546929287141, 0.8203633200106385, 0.8456948008768139, 0.8706151849804555, 0.8942316166350999, 0.9137551274112604, 0.9246469104260602, 0.922853291972672, 0.9066596513688744, 0.8768945829662158, 0.8365439721333843, 0.7895210180974022, 0.7391218963732948, 0.6874579587217382, 0.6358098260974941, 0.5849678865466275, 0.5354524491049615, 0.4876466107812511, 0.4418729406162362, 0.39843704168083277, 0.35765215351596713, 0.3198518639350739, 0.2853932049525566, 0.2546495753825657, 0.22799175854570403, 0.20575588696745256, 0.1882000075920317, 0.17545604178713176, 0.1674896632994961, 0.16408243297079927, 0.16484433107890306, 0.16925296866320882, 0.17670659185321125, 0.18657690537089733, 0.1485132672246693, 0.1768447831197802, 0.21244015626674323, 0.25415282054194455, 0.3005155792937154, 0.3499413910231269, 0.4008714088755172, 0.4518803073164709, 0.501746395010739, 0.5494872651277597, 0.5943657728370852, 0.6358772445100365, 0.6737299681818725, 0.7078328257631615, 0.7383037081622839, 0.7655033252755716, 0.7900769522730731, 0.812952011861989, 0.8352006150039389, 0.8576519827823701, 0.8801635377022415, 0.9006468013754767, 0.9146913542042046, 0.9173612448016806, 0.9056690016182498, 0.8796657798684134, 0.8421029333710788, 0.7969014619547142, 0.7474543225498571, 0.6960015338207745, 0.6439469070222092, 0.5922028680850957, 0.5414087599806746, 0.49205793117581487, 0.4445697901387915, 0.3993317603435688, 0.3567250966262053, 0.3171406624564442, 0.28098586417893623, 0.24868115250351897, 0.22064329089312623, 0.19725306856534303, 0.17880811143612418, 0.16546773086729893, 0.15720490355439232, 0.1537843294213433, 0.1547778851947737, 0.15961231639955736, 0.16763179994582006, 0.17815790173712243, 0.14670070062217377, 0.17595033735151466, 0.2126668101715966, 0.2556148150999462, 0.30323569270447, 0.3538561758100509, 0.40583764446079595, 0.4576839015887304, 0.5081154516294906, 0.5561069315555047, 0.60089094551311, 0.6419400915061786, 0.6789394904525459, 0.7117668286399055, 0.7405001976730058, 0.7654666165866842, 0.7873205738179941, 0.807101387421762, 0.8261692373326277, 0.8458840590351682, 0.8668940290757804, 0.8879973739775232, 0.9051325598984534, 0.9123866867507445, 0.905297805748144, 0.883142185632112, 0.848476544035431, 0.8051878591951631, 0.7567220634552376, 0.7054504076741919, 0.652917329672567, 0.6001766632115706, 0.5480039720969508, 0.4970154012937087, 0.4477345693531097, 0.4006336177597739, 0.35616140432500404, 0.3147635310366245, 0.27689418298422996, 0.2430171801519273, 0.21359241769254883, 0.1890440944378235, 0.1697099704216971, 0.15577817041497133, 0.14722933369625335, 0.1438092090610209, 0.14504765566045597, 0.15031673551780111, 0.15890424187791918, 0.1700810232882876, 0.14662494059170228, 0.1767553919567743, 0.21450938693575083, 0.2585778725639209, 0.3073281796188177, 0.35901483938191353, 0.41192947069578073, 0.4645119780913492, 0.5154311403336425, 0.5636257927157156, 0.6083078450431929, 0.6489392921871854, 0.6851944916662702, 0.7169280770665905, 0.7441765298827964, 0.7672162426554188, 0.7866763148337254, 0.8036575001422654, 0.8197473944310053, 0.8367747547488122, 0.8561422414040609, 0.8775956586040208, 0.8975286499533217, 0.9089983593607872, 0.9060916164013331, 0.8874772892378703, 0.8555843659284796, 0.8141956836585531, 0.7667135153588253, 0.7155914345820711, 0.6625149832481618, 0.608695879204057, 0.5550628146509475, 0.5023667401834471, 0.4512418158830108, 0.40224655267909454, 0.35589578016489565, 0.31268618097827694, 0.27311405287599294, 0.23768179726315924, 0.20688843414673996, 0.18119927180416856, 0.1609921443878951, 0.1464854218562126, 0.13766804121697085, 0.13426478443346712, 0.13575967574702086, 0.141466878928318, 0.15061656989550765, 0.16242948182857297, 0.1483531280081386, 0.17930982941296708, 0.21799131013510792, 0.2630388497132007, 0.31276640485994106, 0.3653713037056349, 0.41908584583375674, 0.4722932259898652, 0.5236164480822465, 0.5719658436496725, 0.6165437836295425, 0.656817450911776, 0.6924686550615836, 0.7233447854955255, 0.7494477924938167, 0.7709955987606995, 0.7885652476917127, 0.8032739005227917, 0.8168760658888481, 0.8315894240651085, 0.8494577215821962, 0.8710527998309988, 0.8932042385753446, 0.9079776164816454, 0.9083097505456207, 0.8925991533977434, 0.8631916312648531, 0.8236270988885924, 0.7771192682995758, 0.7261247707848826, 0.672457728598352, 0.6175018093350157, 0.5623552178421601, 0.5079147240987569, 0.4549299724075688, 0.4040461176543648, 0.3558411766014879, 0.3108583256287679, 0.2696304740809167, 0.23269289774848312, 0.20057860876804073, 0.1737904835036969, 0.15274543906224514, 0.1376933486136962, 0.1286323846039098, 0.12526449686105334, 0.12702438050846554, 0.13316613665660815, 0.14286260091576797, 0.15528640909588848, 0.15188104365267807, 0.18359286569989902, 0.22307134620064717, 0.26893731153848466, 0.31947292278676165, 0.37283358148353923, 0.4272028549174023, 0.48091462366838633, 0.5325514860124111, 0.5810019451854398, 0.6254708216339382, 0.6654490034335971, 0.7006487204285754, 0.730932460324367, 0.7562825038562413, 0.7768584830914954, 0.793165235451011, 0.8062946155787674, 0.81810663902481, 0.8311165606235968, 0.8478452244395516, 0.8694050102220444, 0.8928583433844012, 0.9095192883436434, 0.9117850036621945, 0.8981917457820425, 0.870943603173196, 0.8331158890806747, 0.7875697888005879, 0.7366887284168852, 0.6824028898445168, 0.6262804753905248, 0.5696032917452521, 0.5134222861776124, 0.45860512577910306, 0.40588206256171383, 0.35589030384618137, 0.30921417060797085, 0.26641711866945844, 0.22806093722703713, 0.19470649586281386, 0.1668892889352515, 0.14506294127335184, 0.1295095369713254, 0.12023768034655602, 0.11692486693832338, 0.11895366117050787, 0.12551760883754615, 0.13573445018320218, 0.14873230958738692, 0.15711347517922708, 0.18950069516336127, 0.22963762412543676, 0.27615288085904693, 0.3273187377724657, 0.3812643503442935, 0.43613534349318817, 0.49022359933728404, 0.5420758430799759, 0.5905643811701753, 0.634908303886349, 0.6746420667352441, 0.7095343227104478, 0.739489423654842, 0.76449020327361, 0.784643540088036, 0.8003648533581591, 0.8126761193422214, 0.8234715603979998, 0.8354548600997825, 0.8514293651518359, 0.8726993022734802, 0.896206130984067, 0.9130532007476833, 0.9159090782840191, 0.9037563040573693, 0.8784301904201374, 0.8422747181598447, 0.7976686320119296, 0.7468825778022542, 0.6919630862712538, 0.6346742276562064, 0.5764902528557126, 0.5186194999621487, 0.4620463543542346, 0.4075821698743565, 0.3559180096776243, 0.30767338264205885, 0.2634359626457865, 0.22378738533843867, 0.18930950318753853, 0.16056401774710377, 0.13803695137161587, 0.1220420805716188, 0.1125997096532858, 0.10936163504692376, 0.11165680355241014, 0.11862019385076894, 0.12931904730495047, 0.14284212158886, 0.1638732864952686, 0.19685285231451743, 0.23751214162198991, 0.28450901252574634, 0.33612681303756253, 0.39048446717046875, 0.4457007318115613, 0.5000321947323436, 0.5519933312800641, 0.6004446098084644, 0.6446298649518529, 0.6841466857142519, 0.7188470434072013, 0.7487055482133679, 0.7737278727130777, 0.7939757114792163, 0.8097573319912071, 0.8219717645626969, 0.8324567830041989, 0.8439665960598153, 0.859356625170024, 0.8797783858197354, 0.901916866819377, 0.917363944151897, 0.919827770243841, 0.9087688261817903, 0.8852743489045793, 0.8507365771671256, 0.8070139343247993, 0.7562816819824879, 0.7007190820446724, 0.6422931600041121, 0.5826704061621282, 0.5232119785383536, 0.4650124322922812, 0.40895721491462556, 0.3557844863212647, 0.30614255047790434, 0.2606370253036485, 0.21986282861805578, 0.18441560313062083, 0.1548755834495506, 0.13175446016890602, 0.11539487919489766, 0.10582970162028327, 0.10268439829934706, 0.10523517694723272, 0.11256382110678509, 0.12369414996835737, 0.1376820220343017, 0.17192772060771327, 0.20541281865314492, 0.24646445286713298, 0.2937827244663628, 0.3456796151657243, 0.400279215191074, 0.4556844582323999, 0.5101227655038104, 0.5620789150620276, 0.6104040532548107, 0.6543747896192009, 0.6936694843551745, 0.7282489705923602, 0.7581850703204598, 0.7835270055827788, 0.8042977694404742, 0.8206791304120429, 0.8333860139819087, 0.8440906436845026, 0.8554395405588884, 0.8701056787654127, 0.8888469335637704, 0.9082469726579274, 0.9211461704989659, 0.9228406180211715, 0.9128845243028976, 0.8912070100624605, 0.8581725618908509, 0.8152019447385369, 0.7644425856735159, 0.7082284955390997, 0.648725674071912, 0.5877797474088947, 0.5268903826712774, 0.46724967811649865, 0.4098069244582961, 0.3553392653268016, 0.30451718756560076, 0.2579583426993104, 0.21626487837440794, 0.18003924796870913, 0.14987182508857855, 0.1262907635658992, 0.10966102917384768, 0.10002738121984944, 0.09698947746537057, 0.09977570440105632, 0.1074240427107801, 0.1189241073149766, 0.13330619541654654, 0.1810112141123475, 0.21491006493903808, 0.25622940953114776, 0.30371818716786686, 0.3557298308780108, 0.4104071423282536, 0.46584777937511535, 0.5202558062155017, 0.5720877853792636, 0.6201855921677953, 0.6638631857718102, 0.7028939780258275, 0.7373698233093211, 0.767482374320946, 0.7933400993355986, 0.814930142222752, 0.832288652014019, 0.8458865196703633, 0.8571190726490614, 0.8683805895099296, 0.8819973440258139, 0.8982816134396159, 0.9139977620181317, 0.9238010826137713, 0.924789390576569, 0.9160613123135815, 0.8960710958466155, 0.8642678020305662, 0.8218103228821055, 0.7708995408347821, 0.7140316442707417, 0.6535487527345218, 0.5914472822154628, 0.529340927795553, 0.4685007880809249, 0.4099268110188833, 0.3544259636284924, 0.30268435901543145, 0.2553264009896533, 0.21295624755956666, 0.17617688685507177, 0.14558050365252384, 0.12170082678812189, 0.10491379802443779, 0.0952716094881676, 0.09235097484665955, 0.09534351717124112, 0.10325647471870636, 0.11505578114933335, 0.12975386507020958, 0.19084371313784465, 0.22505883523439735, 0.2665247420033994, 0.3140417736472176, 0.36601307636354663, 0.4206110940583754, 0.4759378971117427, 0.5301799651947905, 0.5817664152468544, 0.6295272292647613, 0.6728140273020845, 0.7115050836652089, 0.745840436154675, 0.7761475341337751, 0.8026021243718755, 0.8251527804500329, 0.8436739233552472, 0.8583494694509111, 0.8702111737501814, 0.8813058134621322, 0.8935630650085744, 0.9069825889106311, 0.9188168505921497, 0.9256215558163234, 0.9260719979545401, 0.9184616240381245, 0.8997144727780707, 0.8686536800396888, 0.8263680355101135, 0.7751583875550843, 0.7176579010966323, 0.6563394407223807, 0.5933075371078411, 0.530256905695526, 0.46851451638887465, 0.409115745727017, 0.35288772750020875, 0.3005260223178206, 0.2526573247820932, 0.20988357190829587, 0.17280297202004158, 0.1420018872744908, 0.11800847812956239, 0.10119457865953307, 0.09160826813846157, 0.08881079459669827, 0.09197483356709157, 0.10009189107793015, 0.11211516016917367, 0.1270469296161797, 0.20114527987969655, 0.23557344450373124, 0.27706664272599846, 0.3244768216316885, 0.3762614365505874, 0.4306307470192778, 0.48569989174776695, 0.5396438546616821, 0.5908651936362727, 0.6381772008342064, 0.680964829278697, 0.7192158150703345, 0.7533293507520215, 0.7837764798883495, 0.8107993925105317, 0.8342989238675249, 0.8539754951600607, 0.8697132055699879, 0.8821474916736619, 0.8929421331593265, 0.903675167048183, 0.914268631636681, 0.9227129990216696, 0.92715079625888, 0.9271624923536894, 0.9201061414431823, 0.9017978819988799, 0.8708247892510512, 0.8283297627579967, 0.7766971859538169, 0.718636953932651, 0.6566893069653841, 0.5930147867275686, 0.5293512142012718, 0.4670560207179658, 0.40718408464935807, 0.350573274186263, 0.2979231316600242, 0.24985910478985146, 0.20697764333067598, 0.1698677691732819, 0.13910317444046771, 0.1151958490247128, 0.09849780201578529, 0.08903702484643561, 0.08637022052579024, 0.08967179565241501, 0.09793296132003082, 0.11010522788014121, 0.12518852950439774, 0.21164761232633783, 0.246180545085387, 0.2875829066120666, 0.3347571281201843, 0.38621687650405107, 0.44021588413104434, 0.4948899316725427, 0.5484092725273748, 0.599152183384964, 0.6459097579238676, 0.688091612067145, 0.7257939028441942, 0.7595786623231754, 0.7900593640986624, 0.8175356509625845, 0.8418463790999133, 0.8625092417679798, 0.8791244055295424, 0.89196936618159, 0.9023314932219493, 0.9115271776056098, 0.919630094842663, 0.9254965856770709, 0.9283736521909571, 0.927868036195741, 0.9204568221999138, 0.90163079099514, 0.8700955269090871, 0.8270781773538838, 0.774983036924342, 0.7165185935869034, 0.6542230769365442, 0.5902591769503915, 0.5263696952170513, 0.463917575889367, 0.4039620801467464, 0.347343352410529, 0.2947604615384013, 0.2468350233536658, 0.20415556841042676, 0.16729821527498662, 0.13681770543177085, 0.11319987358070527, 0.09676313816220483, 0.08750578154762245, 0.08498723649900852, 0.08840107754058102, 0.09675347530070466, 0.10900550964782119, 0.12416277338041581, 0.22210295736635383, 0.256628777357576, 0.29782365238695363, 0.3446386788303689, 0.39564377225039593, 0.4491396648410272, 0.5032892253984349, 0.5562655534820704, 0.6064277070079105, 0.652540979389901, 0.6940279556770247, 0.731086198140942, 0.7644352730590918, 0.794820530721501, 0.8225843262301318, 0.8474879258716553, 0.8688634877503019, 0.8860618513791507, 0.8990764087102014, 0.908861062612816, 0.9165683096311842, 0.9225699521887569, 0.9265287210436575, 0.928278351349149, 0.9269100308375545, 0.9182824671926071, 0.8981827037272848, 0.8656470374453502, 0.8219699466214854, 0.7695096143163337, 0.7109019789060396, 0.6486212715314811, 0.5847842656028011, 0.5211047625012484, 0.4589291944473401, 0.3993082048650624, 0.34307734499064496, 0.2909319706702449, 0.24348820959633738, 0.20132494371124104, 0.16500223313360168, 0.1350502318233937, 0.11192013226651276, 0.09588791224926829, 0.08691985173190175, 0.08458164015029013, 0.08809697629491375, 0.09650034904780835, 0.10877343651622273, 0.12393569440803476, 0.23229078204305031, 0.2666961079078199, 0.30756972181299136, 0.3539093139211362, 0.404339908030078, 0.45721107491170987, 0.510718023049684, 0.5630447720383389, 0.6125397585121007, 0.6579443310344825, 0.6986823489584059, 0.7350391139615986, 0.7678742153698983, 0.7980446902272977, 0.8259181956437887, 0.8511648465615183, 0.8729352408004785, 0.8903704407003531, 0.9032416050812302, 0.9122434172865624, 0.9184492436508154, 0.9225633852524564, 0.9248519789769831, 0.9253217334433176, 0.9224809368626743, 0.9120456722736019, 0.8903229131418773, 0.8566681819682888, 0.8124212122262632, 0.7598514067550435, 0.7014715959098251, 0.6396450126556552, 0.5764047428389556, 0.5134084546379976, 0.45196852765453455, 0.3931169178734979, 0.33767964266645906, 0.2863463864823526, 0.23972699833926042, 0.19838961775290692, 0.1628757359054856, 0.13368642438916922, 0.11123249238988409, 0.0957440546084003, 0.08715703387829798, 0.08504524978491024, 0.08866801126974933, 0.09709799122894502, 0.1093473187678714, 0.12445732457460479, 0.24202248141186467, 0.27619506679792233, 0.31663881850354225, 0.36239607986139627, 0.41214529129268285, 0.46428555021985757, 0.5170485285866581, 0.5686371058633204, 0.6174004839351797, 0.6620662390287811, 0.7020536433595509, 0.7377136174778396, 0.7700112852363251, 0.7998860525798165, 0.8277132018796223, 0.8530606455479122, 0.8749032363338973, 0.8922030793572693, 0.9045556340684539, 0.9124724840868619, 0.9170068709853537, 0.9191489575886205, 0.9195427606531565, 0.9181616927370069, 0.9131571669869909, 0.9005406795343098, 0.8771537268283216, 0.842532665530109, 0.7980072110206352, 0.7457227898391933, 0.6880339412663801, 0.6271597968652387, 0.5650225033330338, 0.5032037946946379, 0.4429693092630267, 0.3853253409350313, 0.33108535482026485, 0.2809325855996266, 0.23547057113881115, 0.19525623563470978, 0.16081083531810436, 0.13260351628951916, 0.11100215222141718, 0.09619162441404094, 0.0880808746148467, 0.08625305506867742, 0.09000512715097908, 0.09845411286964756, 0.11065045335429169, 0.12566462335222972, 0.2511443451420313, 0.2849760419791409, 0.3248894190366271, 0.3699700392023731, 0.4189481366111212, 0.4702725592029449, 0.5222148716891806, 0.5730043331860412, 0.6210033034482678, 0.6649426859049383, 0.7042448443056972, 0.7392924248386399, 0.771102289502707, 0.8006592661978007, 0.8283285908857162, 0.8535652898647763, 0.8751712956581177, 0.8919501506589778, 0.9033566775921258, 0.9097792465050955, 0.9122820506841816, 0.9120699115090056, 0.910009494344027, 0.9060323525886037, 0.8982488002251532, 0.8831985464909584, 0.8582271406570472, 0.8229338805248292, 0.7785436601056201, 0.7270272975055301, 0.6705478050940973, 0.6111545449058216, 0.5506390436474052, 0.4904932718987126, 0.4319275918509781, 0.3759183125190007, 0.3232649111267513, 0.2746443079243327, 0.2306542861514302, 0.191840675788585, 0.15870381630320374, 0.1316799087662891, 0.1110941185422436, 0.0970891780428137, 0.08955101622279693, 0.08807299532784163, 0.09198981975215192, 0.10046597649013944, 0.11259578065336462, 0.12748491421580244, 0.25953897702619816, 0.2929287766004071, 0.33222250787612145, 0.37654838703574744, 0.4246874821152672, 0.47513892954757697, 0.5262177345677777, 0.5761872299172983, 0.6234358143248102, 0.6667169424126648, 0.7054721184578604, 0.7400740178134164, 0.771525780915435, 0.8008122875281699, 0.8282679747494037, 0.8532223071770716, 0.8743043888999752, 0.8901734037753808, 0.9001686698841648, 0.9045951103213699, 0.9045402838885548, 0.9013698939383703, 0.8961167921505725, 0.8887808699201034, 0.8777011817405839, 0.8600339421058363, 0.8335813822440064, 0.7979375256337005, 0.7541287056286821, 0.7038860823803219, 0.6491423456084436, 0.591752784443992, 0.5333624294086112, 0.47536341974987245, 0.4189051302747373, 0.36493135871501675, 0.3142271568174225, 0.26746377973572677, 0.22523415962981103, 0.18807364580972347, 0.15646192910191542, 0.13080285981784134, 0.11138109568222421, 0.09830151266742104, 0.09143098805964289, 0.0903737361167134, 0.09450122379663883, 0.10302630317990413, 0.11509055292971215, 0.12983947676842866, 0.26712535695434053, 0.29998223848709643, 0.338581260765067, 0.38209388773267544, 0.4293522033368398, 0.4789071536396058, 0.5291216530931258, 0.5783018215549177, 0.6248759206921801, 0.6676374944134787, 0.7060515877628972, 0.7404458051144777, 0.7717465419243643, 0.8008818636272732, 0.8281253025823261, 0.8526661122722804, 0.8729634961099, 0.8875442083985414, 0.8956475353278979, 0.8975175587216523, 0.8942711661019174, 0.887415424263528, 0.878174105496971, 0.8667677948885489, 0.8519546360907115, 0.8315230756290015, 0.8036765663003498, 0.7679636717776827, 0.7251429610046236, 0.6766417470045132, 0.6241201191146027, 0.5692141546877976, 0.5134077299752465, 0.4579848179277878, 0.4040294767530457, 0.3524512577052722, 0.3040206473154838, 0.259403921459142, 0.21919010401710814, 0.18390496916597215, 0.15400855854331041, 0.12987412110445273, 0.111749127878351, 0.09970523148162147, 0.09359387049205758, 0.0930305104639908, 0.09742180770691777, 0.10602837385051544, 0.1180406148552301, 0.13264699547003844, 0.2738577455271039, 0.30610307770837103, 0.343948912169907, 0.386611879117596, 0.4329766538204552, 0.4816488139573472, 0.5310448281228841, 0.5795231894552386, 0.6255651622671731, 0.6680148416455866, 0.7063530004162468, 0.7408353238614007, 0.7722600061564971, 0.8014326903137118, 0.8285181485958106, 0.8525535309359205, 0.8718414203605457, 0.8847859712757957, 0.8905321268698414, 0.8892728935859833, 0.8821620854633314, 0.8708626383379225, 0.8568603206961043, 0.8407465938486478, 0.8218229105246782, 0.7984932389507795, 0.7693045151182123, 0.7337304305928297, 0.6922181360249265, 0.6458402709810017, 0.5959454188193183, 0.5439260132428658, 0.4910906513450237, 0.4386073092162558, 0.38749063009958296, 0.3386140577494904, 0.29273298851466284, 0.25050895266012796, 0.21252770204490223, 0.17930635168180836, 0.15128667959533548, 0.12881368510995128, 0.11210135341811445, 0.10119250699811166, 0.09592620397232043, 0.09592927908771254, 0.10064166052253143, 0.10937012908021315, 0.12135405505716856, 0.1358266488837524, 0.27972364715495995, 0.31129294017586545, 0.3483451594452786, 0.39014533333767654, 0.43563365407009474, 0.4834742953331741, 0.5321435976734954, 0.5800615511342171, 0.6257720990648037, 0.6681719198873417, 0.7067442642859411, 0.7416515054901068, 0.7735243940521754, 0.8029817894702381, 0.8300111526448724, 0.8534951230307015, 0.8716028987162432, 0.8826212864858577, 0.8855978644241828, 0.8806754889203445, 0.8690561754398737, 0.8525957287195134, 0.8331307825573966, 0.8117539162666958, 0.7883895348171949, 0.762027556277906, 0.7315016287899074, 0.6961845378356863, 0.6561878136547562, 0.6121971635722624, 0.5652205450202559, 0.5163862793649715, 0.4668148915096132, 0.41755069726344646, 0.36953437877054424, 0.32360060985963074, 0.28048822473348745, 0.2408533532639811, 0.205278461701705, 0.17427261351452028, 0.14826070140463354, 0.12756189436236454, 0.11236019180179924, 0.10267336070239641, 0.0983304579966261, 0.09896948460577926, 0.10406150427082184, 0.1129572474097067, 0.12494412271408173, 0.1393007098751592, 0.2847410579408349, 0.315584944199018, 0.3518215445090936, 0.3927686414660961, 0.43742589679391747, 0.4845206194387055, 0.5325950017872584, 0.5801375552127708, 0.6257595527073578, 0.6684057399134533, 0.7075468682630246, 0.743233839458284, 0.7758993606529491, 0.8059204314376902, 0.8330449539243174, 0.8559976084107986, 0.8728340136189479, 0.8817249927116353, 0.8816119685084065, 0.8725826102121097, 0.8558991281885814, 0.8336550983449699, 0.8081267327238131, 0.781014896251446, 0.7529193496499008, 0.7233826079754226, 0.6914707920247187, 0.6564315298835018, 0.6180308609113798, 0.5765543002991761, 0.5326536033510488, 0.48717949135482697, 0.4410543412809983, 0.39519159289165456, 0.350452747839075, 0.30762986741258436, 0.2674424257596103, 0.2305392744295986, 0.19749863159165532, 0.16882150256484757, 0.1449168932718644, 0.12608017671133553, 0.11246824366860975, 0.10407672862156336, 0.10072632474816123, 0.10206565031753478, 0.10759461291211969, 0.1167052777366745, 0.12873139936263178, 0.14299660127259595, 0.2889552216080204, 0.3190396385356574, 0.35445628666699985, 0.39458085097714474, 0.43847692783216086, 0.48493930106545957, 0.5325805829307318, 0.5799616056187431, 0.6257605719717623, 0.668961521517283, 0.7090075211526544, 0.745821992436126, 0.7796156855711579, 0.8104849102805328, 0.8379047924994659, 0.8604294409891557, 0.8760050020148591, 0.8826840774952671, 0.8792898414633384, 0.8658447656693018, 0.8436788136039102, 0.8151636901886707, 0.7830926849854999, 0.7498614455711314, 0.7167819495808104, 0.6839160785792702, 0.6505115585715407, 0.6156697936177009, 0.578813563623908, 0.5398325506975269, 0.49902137378120764, 0.4569483750363919, 0.4143316008805795, 0.3719473588528944, 0.3305721714755665, 0.2909503636100072, 0.25377775042006456, 0.2196926012381521, 0.18926675324199982, 0.16299228147691747, 0.14126262061298378, 0.12435065606410245, 0.11238814513728645, 0.10535054114234144, 0.10305106028430544, 0.10514804103463538, 0.1111678224025191, 0.12054094469579302, 0.13264527565208228, 0.14684840690326795, 0.29243509550968244, 0.3217407378795803, 0.3563490083962466, 0.3956990219257494, 0.43892270468945044, 0.4848856961152777, 0.5322733856217478, 0.5797191267349939, 0.6259634697320606, 0.6700186234058214, 0.7112855982235646, 0.7495471870002876, 0.7847769341898639, 0.8167728450541334, 0.8447271502054479, 0.8670095236964492, 0.8814465633634732, 0.8859643941359617, 0.8792528151141015, 0.8612534903050636, 0.8333621571411288, 0.7982550032542972, 0.759301380608246, 0.7196600664108902, 0.6813835554132329, 0.6450213227453656, 0.6099562042416248, 0.575128818231833, 0.539633259892241, 0.5029836195435287, 0.46513022330739534, 0.4263631656304957, 0.3871944041424975, 0.34825825640331576, 0.31024015011956435, 0.2738303906214763, 0.23969535623218352, 0.2084579458135019, 0.18068018766375138, 0.15684331754123038, 0.13732462346261187, 0.1223748641697443, 0.1121015838634215, 0.10646101029104837, 0.10525906139824404, 0.1081625723203512, 0.11472180309742974, 0.12440275935231304, 0.13662481479272304, 0.15079787492973984, 0.2952696887342859, 0.3237908762801883, 0.35761570732975806, 0.39625220739414885, 0.4389044201332051, 0.4845106754736957, 0.5318288967987893, 0.5795618103987425, 0.62650477034499, 0.6716862600274236, 0.7144528289400964, 0.7544380479234428, 0.7913737507607422, 0.8247608973361765, 0.8535136719014718, 0.8758082085850726, 0.8893360667706166, 0.8918832667233273, 0.8819878176248518, 0.8594884213340038, 0.8258313860453067, 0.7840031929093267, 0.7379838640992947, 0.6917454272716387, 0.648103714208253, 0.6080655614753414, 0.5711089277196293, 0.5360105910775568, 0.5015644680901628, 0.46694325128712083, 0.43177739000051707, 0.39609068878140435, 0.36019150590886967, 0.3245689393518484, 0.28981121552483324, 0.25654746725336663, 0.22540757888343654, 0.19699289238769058, 0.17185088236403628, 0.150448914444824, 0.13314655783267115, 0.12017175153513593, 0.1116076527996499, 0.10739128800462372, 0.10732083837674156, 0.11107012849849929, 0.11821074809584253, 0.12824106602164353, 0.14061909821893448, 0.15479497231949657, 0.297564378451637, 0.3253075383903626, 0.358384201703896, 0.3963763536298837, 0.4385629183111753, 0.4839548599294787, 0.531379793479444, 0.5796039708213933, 0.6274683295896659, 0.6740062961722838, 0.7185006302618111, 0.7604329260478221, 0.7992993602200282, 0.8343189085473917, 0.8641427640184008, 0.8867519502711478, 0.8996897418365375, 0.9005870993597179, 0.8878098143834425, 0.8610651533211062, 0.821820262959447, 0.7733538265615243, 0.7202614009139117, 0.6673558870111578, 0.6182331131890221, 0.5743283151261581, 0.5351856929283796, 0.4994330598684628, 0.46560798541440807, 0.43258730648768384, 0.3997144891499379, 0.36676493534692817, 0.33384946396606163, 0.3013104004770225, 0.269633027021355, 0.23937769826584693, 0.21112982321744145, 0.18546182755331858, 0.16290064711005287, 0.14389561453892596, 0.1287859974605562, 0.117775165870462, 0.11092068917007403, 0.10813963506765101, 0.10922152303079014, 0.11384542988727098, 0.12160161446402884, 0.13201764804412763, 0.14458715176697923, 0.15879806006697178, 0.2994372442123633, 0.32641923344558, 0.3587901356115628, 0.39621020027918014, 0.43803470741246997, 0.48334520418090066, 0.5310338641801391, 0.5799227793055897, 0.628888768326711, 0.6769604706343583, 0.7233513029865068, 0.7673941570753012, 0.8083642333335452, 0.8452226930449702, 0.8763801528610962, 0.8996293856488052, 0.9123591976365553, 0.9120341848857427, 0.896828637762985, 0.8662857684127014, 0.8218508410577859, 0.7670533099346252, 0.7070755776322066, 0.6475670544221206, 0.5929086065351223, 0.5449367709569524, 0.5032530365394681, 0.46637549593819005, 0.4326438093117292, 0.4006921343323538, 0.3696148414759126, 0.33896062913626557, 0.3086515819948328, 0.27888337720373063, 0.2500333719551579, 0.2225856060417139, 0.19707259549095357, 0.17402967484582632, 0.15395618692399315, 0.13727817497370276, 0.12431106300396266, 0.11523093524467809, 0.11006772193624925, 0.10871722424617947, 0.11095903842645227, 0.116475576086294, 0.12487304045603653, 0.13570500521651974, 0.14849754726234965, 0.16277376194032878, 0.30101538925898436, 0.3272618780768883, 0.3589734934356243, 0.3958920719208453, 0.4374493251646324, 0.48279343861278706, 0.5308742495961014, 0.5805611075252435, 0.6307575419184678, 0.6804799458448834, 0.7288707305512859, 0.7751225867168796, 0.8183104503134243, 0.8571672450887908, 0.8898906357884733, 0.9141000677717472, 0.9270330820485873, 0.9259844655917057, 0.9089231146562535, 0.875195391318218, 0.8261729369464335, 0.7655760404556751, 0.6991128408381987, 0.6332192485068195, 0.5730412665155848, 0.520795601941955, 0.47616613555090864, 0.4376273516830347, 0.40338967569383544, 0.3719009217285685, 0.3420461285260899, 0.31317108690598555, 0.28502009257064037, 0.2576440849822588, 0.23130875463750855, 0.20641496445511043, 0.18343407553954683, 0.16285582196067305, 0.14514410401538302, 0.13069538393115931, 0.11979680899860667, 0.11259366218001088, 0.10908563573562136, 0.10914569637621407, 0.1125420526088623, 0.11895838425626559, 0.12801405091702178, 0.1392854050767247, 0.1523277676301934, 0.16669659764753364, 0.30243114975329455, 0.32797525971450797, 0.35907545182454575, 0.39555730273830103, 0.43692764678474694, 0.4823957355739294, 0.5309611067531512, 0.5815318348402082, 0.6330303028263627, 0.6844557420630623, 0.7348813652424354, 0.7833720055648844, 0.8288264931793036, 0.8697816022067175, 0.9042528559604508, 0.9297079929531968, 0.943246157959108, 0.9419993618629394, 0.923726896434279, 0.8875503923096763, 0.8347122103694152, 0.7690523917387191, 0.6967206676166787, 0.6248343187937526, 0.559233190950218, 0.5025119994438404, 0.454510261400886, 0.4137446187887189, 0.37836811438123563, 0.346698008720008, 0.3174498036572317, 0.2897914610825868, 0.26330244483860304, 0.23789297534513576, 0.21371514017811433, 0.19108109523264033, 0.17039359116675573, 0.15208849768602895, 0.1365860338316892, 0.12424583670187761, 0.11532145696927631, 0.10992331123727483, 0.10801816366455352, 0.10945459938558977, 0.11398784298894071, 0.12130063741525388, 0.13102265381803002, 0.1427497995856818, 0.1560634148839372, 0.170548446156768, 0.3038180349778268, 0.32869936775178493, 0.3592352973297276, 0.3953359274821385, 0.43658062633261235, 0.4822329224166352, 0.531333867574733, 0.5828226844956098, 0.635634580335803, 0.6887491643587017, 0.7411749429993941, 0.7918635027125883, 0.8395629074047322, 0.8826460601228748, 0.9189782850327628, 0.9459017829753731, 0.9603983999531116, 0.9594554738008233, 0.9406315288499972, 0.9028061358797402, 0.8470378740954093, 0.7772100351824844, 0.6998195184594072, 0.6225166432260678, 0.5516825948129648, 0.49032599535824295, 0.4385553528427313, 0.3950199821513864, 0.35788563198374324, 0.32539320763387297, 0.29612847947811316, 0.269108181557998, 0.2437623067875121, 0.21986701319764207, 0.1974612773477194, 0.17676500455032396, 0.15810632891921894, 0.14185985384308408, 0.1283940442297702, 0.11802373756184548, 0.11096251845064908, 0.1072816815279074, 0.10691286340492168, 0.10967886901974844, 0.11532020722194858, 0.12351635431066232, 0.1339044212181888, 0.1460966873337315, 0.15969733015011178, 0.17431789756562083, 0.30530620616760684, 0.3295703083557088, 0.35958705751920317, 0.39535019683502226, 0.4365079129143936, 0.4823705864044325, 0.5320133972471409, 0.5844008959072549, 0.6384771302174069, 0.6932017053478704, 0.7475246530911633, 0.80029971205803, 0.8501488819374472, 0.8953118289911518, 0.933534763270125, 0.9620624601382646, 0.9777860205846638, 0.9775756530893616, 0.9588124622657337, 0.9201331057368785, 0.8623648500188853, 0.7893542622411384, 0.7078441277421454, 0.6258492462570653, 0.5501064234275269, 0.4840722531620237, 0.42823784528989617, 0.38147367678570704, 0.34202731841676337, 0.30811769491118124, 0.2782420699789634, 0.2512950361794382, 0.22657558932523347, 0.20373573699434205, 0.1827048605032458, 0.16360963996369704, 0.14669959572643343, 0.13228207393346847, 0.1206664818758213, 0.11211473609592837, 0.10679283053363176, 0.1047289707055371, 0.1058183235972856, 0.10985654612862594, 0.11656756119768297, 0.1256251842540077, 0.1366711353836727, 0.14933098833651903, 0.16322868339936658, 0.17799954309564914, 0.3070173131210226, 0.3307154673072851, 0.36025542865542076, 0.39571142349966315, 0.43679576760350025, 0.4828584993107663, 0.53300355011385, 0.5862172957388705, 0.6414505787553524, 0.6976441350499365, 0.7536965685391903, 0.808378757677344, 0.8602093965371358, 0.9073225823952507, 0.9473739580885523, 0.9775383517580095, 0.9946446674587031, 0.9954793474610761, 0.9772824407689981, 0.9384686913469387, 0.8796032690777749, 0.8044154584093169, 0.719784045464177, 0.6339178769578346, 0.5537651726798316, 0.4832045304621051, 0.4231811610703528, 0.3728693950199599, 0.33066849397006565, 0.29483198770571717, 0.26381277559953126, 0.236415853581935, 0.2118314569011629, 0.1896011141378584, 0.16955160737291947, 0.15171842494805476, 0.1362709036323193, 0.12344494938797212, 0.11348481169116631, 0.10659195451776815, 0.10287684752955484, 0.10232095053419121, 0.1047819506982135, 0.11002693853432155, 0.11776135178903424, 0.12765101215681673, 0.13933956331993635, 0.15246298318521767, 0.16666207791100213, 0.18159324302730773, 0.3090586176071666, 0.3322475792870164, 0.3613505281606713, 0.3965156260293765, 0.4375137273540255, 0.4837289654105215, 0.5342918870566125, 0.5882095956444515, 0.6444392052787401, 0.7019046234614835, 0.7594601370046578, 0.8158075267168762, 0.8693822353829361, 0.9182367538560865, 0.9599610740371928, 0.9916849492489836, 1.01020245100099, 1.0122508825930696, 0.9949736615443481, 0.9566081105573756, 0.8974595154400513, 0.8210699864762825, 0.7343365469716032, 0.6455004226967789, 0.5616051872733052, 0.4868850534239936, 0.4227542612990761, 0.3687541215681357, 0.32350229759496574, 0.28534506367608203, 0.25273815979726083, 0.22443322635375024, 0.19953793458302393, 0.17750094855847065, 0.15805713472789107, 0.1411560715654181, 0.12688802810936017, 0.11541535251116608, 0.10691251512036903, 0.10151415555995846, 0.09926887730480971, 0.10010753444060727, 0.10384867043494395, 0.11022938639025237, 0.11893487078955078, 0.12962082836389255, 0.141930400176297, 0.15550735093305812, 0.17000670108795618, 0.18510340221035515, 0.31151663119667106, 0.33425750598693743, 0.36296095286210356, 0.39783740135475054, 0.4387095898524697, 0.4849940638791823, 0.5358496789670835, 0.5903050102840564, 0.6473238811415751, 0.705815823108381, 0.7645975098593475, 0.8223137718926943, 0.8773339247387746, 0.9276489900473844, 0.9708042843460669, 1.0039058643633842, 1.023737314099727, 1.0270191726012132, 1.0108441612143964, 0.9733333356499663, 0.9145833551092749, 0.8379131633486419, 0.7501012088594106, 0.6592609868204649, 0.5724264735355095, 0.49410551668925207, 0.4261543322670145, 0.368515006945782, 0.320079343470622, 0.2793422364012219, 0.2448107538478212, 0.21522221931486762, 0.1896313954180039, 0.16741536157601183, 0.14823132351187407, 0.13195149022249375, 0.11859096867261665, 0.108238679110642, 0.10099648544979534, 0.09692761108915138, 0.09601431528986692, 0.09813303088835379, 0.10306063950166733, 0.11050266928103125, 0.12012248970558403, 0.13156387758545474, 0.1444673956818473, 0.1584823217370654, 0.17327553980076643, 0.18853827278052687, 0.31445106102850773, 0.33680616415609754, 0.36514465556284764, 0.3997214324028942, 0.44040287635101105, 0.4866424497116268, 0.5376317436046943, 0.592422516961824, 0.6499863042465184, 0.7092208903303793, 0.7689114842858598, 0.8276565038790793, 0.8837735703088274, 0.9352089891638271, 0.9794809118779275, 1.013689919445318, 1.0346305151331838, 1.0390359593316891, 1.023992359600835, 0.9875708396613074, 0.9297518514391481, 0.8536508784354215, 0.7657584530643027, 0.673906842478615, 0.5850234797515492, 0.5038040432735866, 0.4324948353296934, 0.3714432994158498, 0.3198538076377349, 0.27641839071581953, 0.23974203049868642, 0.20858763387659418, 0.18198895811602434, 0.1592756767704444, 0.140044701510601, 0.1241024428357479, 0.11139549430311546, 0.10194183425325443, 0.09576995258783294, 0.09286904913233707, 0.0931520216271251, 0.0964374781837718, 0.10245773805999248, 0.11088494996287279, 0.1213592617505862, 0.13351105939504426, 0.14697665172032992, 0.1614089427921101, 0.17648466599154367, 0.19190929453590355, 0.3178905270485851, 0.3399177256676503, 0.36791857844646253, 0.40217199506677426, 0.4425788456923386, 0.4886372910642617, 0.5395769834815529, 0.5944751941207852, 0.652312719202288, 0.7119784530126516, 0.7722318621887592, 0.8316341878271696, 0.8884636712817078, 0.9406361091962387, 0.9856575725052681, 1.0206394679577124, 1.0424072660046186, 1.0477355888017093, 1.0337480683329074, 0.9985344423118796, 0.9420565060452284, 0.8672579285327484, 0.7802003564642631, 0.6883010219028964, 0.5982884774992877, 0.5149594069516263, 0.44088413029200246, 0.37679583204902956, 0.32223005119071363, 0.2761128627566236, 0.23718833064522088, 0.20428320720715581, 0.17644267662858598, 0.15297491603860458, 0.13343625705918405, 0.11758146262858682, 0.10529780020405577, 0.09653712536148751, 0.0912558937622805, 0.0893684962095812, 0.09071662416310422, 0.09505828384539716, 0.10207845505238688, 0.11141405504139001, 0.12268078207825428, 0.13549451918611, 0.14948605770113987, 0.16431044158346714, 0.17965258789699662, 0.19523047570719887, 0.32183163197908804, 0.3435778919656838, 0.37125491809121214, 0.4051489693601401, 0.4451876650957165, 0.49091724593460306, 0.5416104384866663, 0.596373008869245, 0.6541972825756838, 0.7139665414024918, 0.7744200894871219, 0.834090398498889, 0.8912272581104053, 0.9437286130417475, 0.9891023385611335, 1.024486520436728, 1.0467581000509845, 1.0527630046743155, 1.0397081647721058, 1.0057682395995702, 0.9509529895183104, 0.8780385596005903, 0.7925945463276423, 0.7015264068676738, 0.6112769335961006, 0.5266569976933688, 0.45048677271480575, 0.38384733611569904, 0.32660491099126004, 0.2779426040935313, 0.23677643089367173, 0.20203113325792738, 0.17279437346277882, 0.14837906784876065, 0.1283220437872905, 0.11234251072833101, 0.10027977464518212, 0.09202653130370875, 0.08747047568375665, 0.08645194032660597, 0.08874057192388785, 0.09403175065159852, 0.10196082914846494, 0.11212787640718014, 0.12412317409429552, 0.13754734987366446, 0.15202481683363467, 0.16721166062241144, 0.18279965483998956, 0.19851781110050903, 0.3262419276740546, 0.347738961205987, 0.37509012502585853, 0.4085781299417406, 0.44815103016594215, 0.4934011852530592, 0.5436471221247176, 0.598026178175444, 0.6555451350318272, 0.715085493466174, 0.7753721215381613, 0.8349167876770835, 0.8919510841701579, 0.9443671172967143, 0.9896882725896461, 1.0250957456002259, 1.0475397120655776, 1.0539684718308495, 1.0417160303263302, 1.0090933358242413, 0.9561856321920577, 0.8855942008457576, 0.8023858205457784, 0.7129054638372532, 0.623238573943742, 0.5381276096144603, 0.4605652509373207, 0.39193015736192505, 0.3324024646694416, 0.28143108303521336, 0.23812683053939898, 0.20154047663191654, 0.17083004904125676, 0.14533831708972944, 0.12460394227455873, 0.10832784844449284, 0.0963144259326526, 0.08840597996985422, 0.08442633698961544, 0.08414375623282966, 0.08725589662988231, 0.09339432761619004, 0.10214322954543842, 0.11306471449250932, 0.12572307618337808, 0.13970332210929814, 0.1546230119700231, 0.170138533428201, 0.1859474995773301, 0.2017887310874542, 0.33106576295677254, 0.3523288436318418, 0.3793375894782502, 0.4123644792045792, 0.45137255803345544, 0.4959954398544876, 0.5455971719118973, 0.599348918568013, 0.6562751223650063, 0.7152598389378446, 0.775019553380308, 0.8340534373654713, 0.8905850153047652, 0.9425125552405499, 0.9873890329237852, 1.022455975191647, 1.0447591870705313, 1.0513790152733686, 1.0398123430481359, 1.0085361633865144, 0.957712513000879, 0.8897607801958785, 0.8092607998607837, 0.7219877731984354, 0.6336213522823859, 0.5487633452148367, 0.47050347803717674, 0.40046069020399533, 0.3390998001690983, 0.28613136991411225, 0.24087339063190039, 0.20252335475949718, 0.17033296417683524, 0.14369751442575707, 0.12217799689450393, 0.10547465110595045, 0.09337108907611058, 0.08566936503379374, 0.08213556439407732, 0.08246880278910962, 0.08629562056910556, 0.09318350634753847, 0.10266485224497335, 0.11426343662742289, 0.1275175273090049, 0.1419965709327835, 0.15731116349845764, 0.17311757242471182, 0.18911850167994043, 0.2050615736938256, 0.33623126434408696, 0.35726034393422834, 0.3838981861922558, 0.4164028893762012, 0.45474770079471033, 0.4986015519662337, 0.5473714008020223, 0.6002631813581936, 0.6563220202899173, 0.7144391703850184, 0.7733291451375172, 0.8314868735077892, 0.8871381219153804, 0.938199576272158, 0.9822682759021036, 1.0166635373409343, 1.0385482206274506, 1.0451598729135485, 1.0341823025566277, 1.004268751608483, 0.9556464403111061, 0.8905498668024309, 0.8131004050539918, 0.7285197836935629, 0.6420571390899708, 0.558116324550525, 0.47981519629324787, 0.4089536724903371, 0.3462437241418569, 0.29164279535380666, 0.24467854991558385, 0.20470812380454084, 0.17109470713503988, 0.14330529058079355, 0.12094182732601677, 0.10372095227376077, 0.09142009041864574, 0.08381207409470504, 0.08061220920569856, 0.08145407646181635, 0.08589472573794477, 0.09343829613374, 0.10356585554256714, 0.1157633688247649, 0.12954368002029004, 0.1444611845831587, 0.16011974175547222, 0.17617534472930868, 0.1923352579334982, 0.20835507287017102, 0.3416570472661665, 0.36243901756352603, 0.3886683645377071, 0.4205861544771206, 0.45817164720064796, 0.5011230759533403, 0.5488863725786337, 0.6007019293016984, 0.6556380976412564, 0.7125980330588291, 0.7703009524255213, 0.8272461666608737, 0.8816722245918506, 0.9315266694457394, 0.9744650637939096, 1.0079012126721154, 1.0291337157421012, 1.0355757647999706, 1.0251099803615222, 0.9965621569704496, 0.9502085419091852, 0.8881001080549954, 0.8139336644913293, 0.7324082246084709, 0.6483373244769068, 0.5658859781448111, 0.4881411107916085, 0.41702646564545587, 0.3534592977486135, 0.2976213242851694, 0.24924387754044602, 0.20784916162110034, 0.17292378674355557, 0.14402136538181476, 0.12080070697942613, 0.10301057134634106, 0.09043659177218655, 0.08283381541208168, 0.07987417722985168, 0.08112978436007345, 0.08609058168229522, 0.09419920929536252, 0.10488708269670266, 0.11760387356056967, 0.13183829910259404, 0.14713066241481854, 0.16307861022158116, 0.17933792023569534, 0.19562005056004161, 0.21168785849528438, 0.3472579454765787, 0.3677692950860339, 0.3935461715556726, 0.4248108929424703, 0.4615451333495808, 0.5034708294465213, 0.5500684454019689, 0.6006116186922165, 0.6541938979788722, 0.7097349057664639, 0.7659653303766398, 0.8213976318015068, 0.874293751965231, 0.92264439290684, 0.9641774499675155, 0.9964161000711942, 1.0168093007379042, 1.0229568904297175, 1.0129418759563333, 0.9857505699929661, 0.9416919278478488, 0.8826383783616655, 0.8118976995015864, 0.7336840439666511, 0.6523845621567294, 0.5718999096018252, 0.49523845987590387, 0.424395785325892, 0.36045161410716586, 0.30378430623459174, 0.2543161475147262, 0.21173315738417936, 0.17565151237475068, 0.145721744547187, 0.12167199119585781, 0.103296734750988, 0.09040336622604506, 0.08274053490223132, 0.07994431167777671, 0.08152968449454967, 0.08692272053223371, 0.0955076910348499, 0.1066693383930315, 0.11982359447913127, 0.13443703197402512, 0.1500372309564274, 0.1662163913319627, 0.18263028656800523, 0.19899431030601067, 0.21507796722125821, 0.3529495504749554, 0.3731590276018036, 0.3984355752527898, 0.4289816875753712, 0.46477844395149115, 0.5055665378980304, 0.5508565717539844, 0.5999537219437683, 0.6519782028327006, 0.7058703920748212, 0.7603791126966706, 0.814038658196798, 0.865144749709905, 0.9117429647838702, 0.9516460248455526, 0.982498713929643, 1.0019102662373887, 1.0076711956332036, 0.9980588417478478, 0.9722038700118008, 0.9304334549432697, 0.8744491235387771, 0.8072047675556626, 0.7324701322755567, 0.6542246708179131, 0.5760921145237559, 0.5009661874746716, 0.4308692640956132, 0.367002419527315, 0.30991055763765757, 0.2596894196259315, 0.2161820735181813, 0.1791351162542526, 0.14830162862451401, 0.12348765767997039, 0.10454414624583852, 0.09131227770636963, 0.0835452136408833, 0.08085047549932023, 0.08269053154313333, 0.08843185183883917, 0.09740494413903644, 0.10895221013086676, 0.12245937745204483, 0.1373734638009586, 0.15321102885634091, 0.16955976252060606, 0.1860757361499627, 0.2024780782290439, 0.2185423673216036, 0.3586516054400887, 0.3785227012249494, 0.4032494060424008, 0.4330137973408276, 0.46779392945533127, 0.5073450508919792, 0.5512038836496677, 0.5987052848575527, 0.648997227601445, 0.7010447820656694, 0.7536212727541637, 0.8052911630962567, 0.8543937670996662, 0.8990402124454852, 0.9371386746455159, 0.9664646515065585, 0.9847928828122237, 0.9901027736527448, 0.9808549319305152, 0.9563068672576394, 0.9167920238717148, 0.8638504582489661, 0.8001158454991164, 0.7289539430305496, 0.653960907517284, 0.5784811275650205, 0.5052681678498263, 0.4363339071894261, 0.37296313824881533, 0.31583684915106147, 0.2652037965602371, 0.22105314038921942, 0.18325824261436452, 0.15167597841878766, 0.1261947877024706, 0.10672929231058181, 0.09316424537487233, 0.08526732859402908, 0.08262442632445777, 0.08465046923987629, 0.09065803572735454, 0.09993013582067045, 0.11177246247705985, 0.12554490994238787, 0.1406779970692401, 0.15667919199977826, 0.17313270489266985, 0.18969524068217536, 0.20608947650708548, 0.2220965046684062, 0.364290395734941, 0.38378356465671737, 0.4079111889964664, 0.43683472925744404, 0.4705273401466178, 0.5087553815597076, 0.5510782210662288, 0.5968586245373008, 0.6452731698445333, 0.6953151700716573, 0.7457883548266142, 0.7952950875840624, 0.8422271846872865, 0.8847705730163558, 0.9209372884005049, 0.9486393947362712, 0.965818139130501, 0.9706356229483865, 0.9617217974606416, 0.9384438464856271, 0.9011321417033684, 0.8511757802546983, 0.7909198565339224, 0.7233650450473906, 0.6517516032274817, 0.5791496583237756, 0.5081562253952089, 0.4407430860854389, 0.378245683890395, 0.32145186296360184, 0.27074162040995847, 0.2262363883084107, 0.1879290825286169, 0.1557778041590432, 0.12975387710865072, 0.10983878299472216, 0.09596747061499278, 0.0879307438790452, 0.0852992677605513, 0.08744624109459442, 0.09363799523375804, 0.10311803863326408, 0.11516208362504676, 0.1291091578119521, 0.14437662159385267, 0.16046488845624945, 0.17695573956080135, 0.19350683677863595, 0.20984420404889198, 0.2257538803159163, 0.36980030240027595, 0.3888748870278202, 0.41235609968808135, 0.44038491748252373, 0.47292824148445567, 0.5097608245788929, 0.5504618125986883, 0.5944203345305028, 0.6408422697482778, 0.6887523195738862, 0.7369899260686797, 0.7842022580876948, 0.8288413713508547, 0.869175552148613, 0.9033267317933158, 0.929346296286715, 0.945339482588482, 0.9496418360331578, 0.9410374639088124, 0.9189873117847682, 0.8838117181400085, 0.8367598666977196, 0.7799176206301207, 0.7159571770662151, 0.6477914163662971, 0.5782265353692668, 0.5096940871904371, 0.4441032949498166, 0.38281220359183665, 0.3266885991144578, 0.2762218982157979, 0.23165032760825616, 0.19307658951455375, 0.16055440337996113, 0.13413495139999043, 0.11386553069254768, 0.0997336868312374, 0.09155977494559364, 0.08890527335910015, 0.09110918405762203, 0.09740166706653408, 0.10699625302584637, 0.11914612703978944, 0.13317471745326848, 0.148489664460974, 0.1645863675592455, 0.18104519603766867, 0.1975250525324061, 0.21375507649333703, 0.22952567247771832, 0.37512467930264937, 0.39374053305352696, 0.41653124126221697, 0.4436177198871736, 0.4749597374772839, 0.5103383860271927, 0.5493503232737007, 0.5914097840685912, 0.6357525549491841, 0.6814374542843595, 0.7273442507958727, 0.7721708388521467, 0.8144358978547019, 0.8524958147626123, 0.8845861126181274, 0.9088975056322659, 0.9236939703192182, 0.9274733454734312, 0.9191585457725957, 0.8982900518085246, 0.8651732519614146, 0.8209285928699891, 0.7674096956149925, 0.7069942175162552, 0.6422960643656662, 0.5758712828097797, 0.5099829372228974, 0.44646152276823753, 0.3866646513886997, 0.3315160808216137, 0.2815937237658611, 0.23723646170314694, 0.19864537891552092, 0.16596200969221958, 0.13931164969970633, 0.11880258542316247, 0.10447215885834149, 0.09617313623500967, 0.09346398068140882, 0.09566018757051797, 0.10196827882218051, 0.11158227798257647, 0.12374055602549916, 0.1377562345353518, 0.15303062634634396, 0.16905609630749008, 0.1854125620198649, 0.20176040767346137, 0.21783163189855637, 0.23342041664995705, 0.3802161979582459, 0.3983350141179647, 0.4203954093443677, 0.44649890945341825, 0.47659769361784066, 0.5104777272764284, 0.5477514672477286, 0.587857291951114, 0.6300614331182508, 0.6734591291508323, 0.7169743354791094, 0.7593605105868274, 0.7992079018135354, 0.8349649115444353, 0.8649821805766231, 0.8875874526638969, 0.9011962156799804, 0.9044564705655052, 0.8964151363981989, 0.8766798166448242, 0.8455377170193197, 0.8039915622032627, 0.7536873903024801, 0.6967394665927649, 0.635490205613904, 0.5722613487351421, 0.509148903180613, 0.44789378904376387, 0.38983485289528114, 0.3359310587873462, 0.2868294001150339, 0.2429533513411556, 0.204590075509396, 0.1719596541127017, 0.14525390102935698, 0.12463462603736486, 0.11018110806977544, 0.10177548989352636, 0.09898084754974978, 0.10110421224352018, 0.10734248152673143, 0.11688081046347898, 0.12895034760261048, 0.14285905913759844, 0.158005216514902, 0.17388005738704881, 0.1900639635241142, 0.20621901931364356, 0.2220798228010784, 0.2374437571026088, 0.38503678451722523, 0.40262314833143903, 0.4239184839821198, 0.4490058083248307, 0.4778296185319814, 0.5101797922712206, 0.5456833555974228, 0.5838021341854601, 0.6238332735308254, 0.6649103024091405, 0.706004441359907, 0.7459284350348612, 0.7833476002736166, 0.8168045342680651, 0.8447646080668171, 0.86568846553205, 0.8781345633520838, 0.8808886355390835, 0.8731077642141412, 0.854456034259516, 0.8252005823159205, 0.7862370604481596, 0.739026342539135, 0.6854476817624023, 0.6275980744494569, 0.5675818315427738, 0.5073325766675568, 0.44849515417327823, 0.3923755158753184, 0.3399502553651734, 0.2919178654382515, 0.24877091775347043, 0.21086996491702098, 0.17850339651591302, 0.15192067904950235, 0.13132814925843417, 0.11683625361838745, 0.10834691845101829, 0.10543784062277384, 0.1074255189351454, 0.11351126989343585, 0.1228817140601336, 0.13476812153437323, 0.14847830116698624, 0.16341068988060936, 0.1790572751361031, 0.19499981825794854, 0.21090234097065108, 0.22650181237804345, 0.24159828094988767, 0.38955725416678283, 0.4065794399900626, 0.4270805636263624, 0.45112618604610566, 0.4786533342459462, 0.509455255966956, 0.543172718650513, 0.5792905161816992, 0.6171370901343164, 0.6558856951268913, 0.694557115946345, 0.7320260068964359, 0.7670348793069842, 0.7982211303677479, 0.8241628619649837, 0.8434481133078492, 0.8547690011603191, 0.8570367468919998, 0.8495059281111785, 0.8318881043514363, 0.8044295037550847, 0.7679288506613884, 0.7236821547046492, 0.6733593725754468, 0.6188364647416308, 0.5620174618746591, 0.5046805189097028, 0.4483713385595208, 0.39435246396227663, 0.3436035283395541, 0.2968588848850202, 0.2546655550225669, 0.217444732283903, 0.18554219035715586, 0.15925515419878022, 0.1388243706519262, 0.1243799140043359, 0.11583460639127319, 0.11278888632349404, 0.11458508325125338, 0.12044243080765982, 0.12955904860556433, 0.14117351354280283, 0.15459841464536545, 0.16923556466667278, 0.18457961880399254, 0.2002146937108168, 0.21580705499766478, 0.23109588745059872, 0.24588344270348628];\n",
       "const lower_is_better = false;\n",
       "const metric = \"accuracy\";\n",
       "const rel = false;\n",
       "const sd = [0.09949356558037628, 0.09960405791055782, 0.10197725072953442, 0.1028636820021377, 0.10085495326066725, 0.09716269600950278, 0.09508163645322766, 0.09811975024158331, 0.10715413829741605, 0.11982685664071914, 0.13270421521073295, 0.14301382422221603, 0.1490348390219922, 0.14992912356838708, 0.145490572406597, 0.1359265766489102, 0.12169134832811906, 0.10339405920871446, 0.0818097113587423, 0.057985495812217194, 0.03336718883677663, 0.009858731139857987, 0.010088815731988542, 0.023613561969290882, 0.02857943744825801, 0.02382368594853481, 0.009300584654007044, 0.013488179233663316, 0.04163938449883926, 0.07227597389233693, 0.10304900605822076, 0.13214605852926886, 0.15824274700793672, 0.18043611191266615, 0.19817994236803127, 0.21123340245861724, 0.21962901434532126, 0.22366245287533604, 0.2239027941538378, 0.22121543572861616, 0.21677781340667968, 0.21204874594127457, 0.20863453226483789, 0.20801189877214846, 0.21116220008795134, 0.21830314426881958, 0.22890295170158428, 0.24195946398290524, 0.2563475488190847, 0.2710668031488885, 0.07688640474197894, 0.07842362438224011, 0.08281770456893824, 0.08480380140048985, 0.08254767252178834, 0.07759297650807848, 0.07443737496358677, 0.07818301942617062, 0.08971711729553815, 0.10525895686751524, 0.12045065694817118, 0.132340817901943, 0.13932971546193249, 0.1407736816142385, 0.13666972961794083, 0.1274143691246021, 0.11361246185246424, 0.09596044607468608, 0.07525962429839404, 0.05258471985753057, 0.02956362182306592, 0.009493520503636775, 0.01282638083493978, 0.023944155699691893, 0.028084892204155353, 0.024154980034422267, 0.015023571362544948, 0.021247262413252, 0.04553346252290004, 0.07446167347801905, 0.10405960012822835, 0.13218687626643508, 0.15739024411666977, 0.1786862220354086, 0.19546389857185983, 0.20742510834338715, 0.21455160234938697, 0.21709907262568534, 0.21561798044401081, 0.2109961557437489, 0.20450460535660658, 0.19779962547829882, 0.19279464498914378, 0.19131175140227166, 0.19455638280575088, 0.2027104085841795, 0.21497100964831778, 0.229989512400773, 0.24635882566078268, 0.2629069858306635, 0.05370028098048447, 0.05756533762032315, 0.06499683932805658, 0.06847858445063364, 0.06584516105564438, 0.05895579757855291, 0.05387076384268271, 0.0585030121280558, 0.07332830584467867, 0.0920278053608204, 0.1093865028940424, 0.12255893304655856, 0.13020535541180775, 0.13192677262870636, 0.12794697309493983, 0.11887453934523644, 0.10548712402236399, 0.08857182666973094, 0.06892127299099318, 0.047572467228300545, 0.026327514155302278, 0.010192552555447463, 0.015008428260694361, 0.024256689871026763, 0.028289881792957737, 0.0269154289678405, 0.024602424038620372, 0.03276806999984304, 0.053353472244345286, 0.07962734173754306, 0.107328042922378, 0.13396413311896507, 0.1578916321579097, 0.17800412388576883, 0.1935967891915471, 0.20429151560770045, 0.2099987191284142, 0.21091233690932296, 0.20753933010560754, 0.20076326649474693, 0.19192932090270706, 0.1829017697358786, 0.17597172591522445, 0.17343372746974037, 0.17681571003572183, 0.1862342280916691, 0.20048598228974854, 0.21775970386637983, 0.23631815798641592, 0.25481993478723197, 0.03017247219962357, 0.03851811679852776, 0.050437453001697094, 0.05570380412746862, 0.052518268320590145, 0.04277477018052777, 0.033919205462603, 0.039758819811333966, 0.05897454368238748, 0.0807876206473026, 0.09985503720058425, 0.11383281908736563, 0.12172926811639787, 0.12339377037467629, 0.11927505090764172, 0.11020956243864206, 0.09717679604118248, 0.08106705344093468, 0.06261675048821003, 0.042682918641865956, 0.02293806631211008, 0.008932578304444293, 0.014753458518970277, 0.023104440115022367, 0.027781085986130515, 0.029727046064293845, 0.032880012808830565, 0.04332235773988339, 0.06224880553088094, 0.08626950140403636, 0.11199013299901478, 0.1369515834350138, 0.1594203813957443, 0.17819307863183048, 0.19247433403040737, 0.20180096940621778, 0.2060015184342973, 0.20519144852777876, 0.19980922937592593, 0.19070012709906872, 0.1792477862842735, 0.1675163815746164, 0.1582515775672587, 0.1544071717942625, 0.15799730521700714, 0.16902040901811713, 0.18566582089762307, 0.20550831554565993, 0.22644450422457915, 0.24698815228979595, 0.006598544027848305, 0.02623635135427428, 0.042649781903277575, 0.04913881216106895, 0.04531539576627189, 0.03243766837300401, 0.016044230614776993, 0.023548672025287026, 0.04807193770531081, 0.07214494792376211, 0.0920823819241214, 0.1062419260340781, 0.11392582347181124, 0.11516966108018595, 0.11061571205330083, 0.10133797014878307, 0.08856302597609614, 0.07332793473568903, 0.05629064564048044, 0.03799071325059043, 0.01961894453920564, 0.005668334901938599, 0.012237144919922303, 0.020156191147029434, 0.026048164842317773, 0.03158456044136588, 0.039260232111416264, 0.05205269934134029, 0.07062820919697815, 0.09317659051918194, 0.11722813838166461, 0.140606762389112, 0.1616199911489675, 0.17902645616564378, 0.191966557309967, 0.19990218237430693, 0.20257986652415425, 0.2000266542699286, 0.192589690937013, 0.18103556806682178, 0.16672924252204868, 0.15189028105442118, 0.13978270521552566, 0.13429268602019828, 0.13820709543436768, 0.15130484770569436, 0.17082651444529762, 0.19354938090412457, 0.21700489660980624, 0.2396211322355384, 0.016664047626721794, 0.03003673918803244, 0.04474389459616315, 0.05057002746278856, 0.04625910643140085, 0.032455361761229325, 0.011387038480394643, 0.015706464229740393, 0.042135528585732517, 0.0663982355805516, 0.08607614951222742, 0.09974530132255306, 0.10676898169079004, 0.10724642035913652, 0.10195507574794717, 0.09220928879511558, 0.07955007590460947, 0.06525682667119377, 0.04994313837546362, 0.03375949049171243, 0.017322663015943447, 0.002636930325420599, 0.008346158918545803, 0.01572213576990116, 0.02324611502320192, 0.03232369004605573, 0.043765281090611584, 0.058802828108651437, 0.07775614108377517, 0.09955126392755735, 0.12239492270690379, 0.14445130869332934, 0.16415211609569158, 0.1802754427953224, 0.1919323439891256, 0.19852974571007614, 0.19974119864984177, 0.19550338155133365, 0.1860548330180355, 0.17204115760525165, 0.15472919891602088, 0.1363900536575655, 0.12080882699074649, 0.11318920679663422, 0.11762332661954969, 0.13345979359877921, 0.15641247595470792, 0.18228008451435881, 0.20830998088184155, 0.2329477590974406, 0.03922948490703462, 0.04518081853570373, 0.05474084704802871, 0.05847153426371482, 0.05373651720105573, 0.04106591504980371, 0.02467195136660026, 0.022244996268650362, 0.0414269986924069, 0.06325927385430163, 0.08156184226568876, 0.09416726416693087, 0.10018352297349478, 0.09962423121843196, 0.09332409918749084, 0.08282709729427194, 0.07007401915179061, 0.05675174155570411, 0.04353312616705269, 0.030126029741673596, 0.01665688902565512, 0.005314748553568913, 0.004457323988916621, 0.010489162198914449, 0.019953007037972953, 0.03213227049454368, 0.04657811062487721, 0.06363387083135362, 0.08334563913845691, 0.104940846424844, 0.12704477087563293, 0.14811345321684108, 0.16673023428105357, 0.18173174945640053, 0.19223269331209195, 0.19760941879564922, 0.19747865624598304, 0.19169368062368827, 0.1803770934305061, 0.16401826648534876, 0.14369428394954947, 0.12154804698810112, 0.10173044880383814, 0.09124332095644651, 0.09654432929110593, 0.11607098270364229, 0.14302771403818898, 0.17217707086626613, 0.20070011178074992, 0.2272030766883363, 0.060779176545542574, 0.0630234906694619, 0.06831408668573381, 0.06966783627346344, 0.06428621039341083, 0.05258108964163738, 0.038580090608113196, 0.03302182073482473, 0.04406945521642723, 0.061829136659274524, 0.07800903761548691, 0.08921520021687784, 0.0940554608658128, 0.09232344093981792, 0.08482202961814106, 0.07328456712889701, 0.06013074732783928, 0.047705688037253405, 0.03693341706700093, 0.026881527781349005, 0.016847752988245614, 0.008532555127545713, 0.003255227637208985, 0.005546312083132399, 0.016879658386396438, 0.0312470683728242, 0.047915857385005846, 0.06669889855619009, 0.08734645727469689, 0.10913878800052162, 0.13091530554777306, 0.15133959289701407, 0.16913709061634558, 0.18322255436473975, 0.19274066795869785, 0.19706223783038454, 0.19576849375293534, 0.18864550193455779, 0.175706913891062, 0.1572704039527105, 0.13414624203051637, 0.1081135351377655, 0.08323289841637424, 0.06866499248013805, 0.0755053391216316, 0.10006039618414896, 0.131449809226198, 0.16377058210936737, 0.19451874765981894, 0.2226091705849732, 0.08106809764049595, 0.08079976729343462, 0.0827824015959083, 0.08184427219312908, 0.075486568381841, 0.06395467522268966, 0.0505232284850602, 0.04262432765753499, 0.04751005447280464, 0.06091221936101456, 0.0747462310568834, 0.08452688965281419, 0.08824842626881409, 0.08539092349161621, 0.07663548154363403, 0.06381351269438897, 0.049834686538174015, 0.03804473783756284, 0.030000272627012825, 0.023624605537404836, 0.01657932035233888, 0.00990081901872747, 0.0048340434083532025, 0.003043251543479461, 0.014364656254131322, 0.02977885558028598, 0.04797343934528026, 0.06819022347263529, 0.08984097404904648, 0.11210774790168435, 0.13389422500449893, 0.15398742072864327, 0.17122887086353727, 0.18461743965346253, 0.19334715722687176, 0.19680692824936694, 0.19456709260779073, 0.18637123334775077, 0.17214780292662543, 0.15205905471415898, 0.12662643615758307, 0.09707238664599385, 0.06656196650482098, 0.045770893534826065, 0.05562250697929103, 0.0868362507809435, 0.1225847544926293, 0.15758461599052534, 0.1900725775394048, 0.21935162026997815, 0.09991917998155875, 0.09763622434488994, 0.09689372082699788, 0.09376496787289597, 0.08612110638728765, 0.07404717015549062, 0.060098935118373116, 0.04987725198406274, 0.04994336399324953, 0.05939448742931653, 0.07110456085857467, 0.07973125703947072, 0.08261988002111835, 0.07889227502697722, 0.06903764478704416, 0.05483902411215585, 0.03952583533706214, 0.0277971095860337, 0.022758321394966124, 0.020197480711630782, 0.015254542148480165, 0.009051059143522406, 0.005420089037830944, 0.0034308711925821376, 0.012004193514934583, 0.02770228628848724, 0.04691055071143521, 0.06831727652427008, 0.09099398182791905, 0.11392918648101691, 0.13598698209930338, 0.15601066521217288, 0.17293043171656358, 0.1858286317545908, 0.19396258029892174, 0.19676062000609862, 0.19380823356366916, 0.18483768069779655, 0.16973142263727956, 0.14854846998165666, 0.12158763489057003, 0.08953525905116017, 0.05401214809523172, 0.023241024962310276, 0.0397100316258609, 0.07828441926655205, 0.1173034031145277, 0.15404139323509516, 0.18758360864181645, 0.2175552208454994, 0.11721471287201046, 0.11317861241667754, 0.11007063566834181, 0.10483097338668208, 0.09565728513982918, 0.0824964913174408, 0.06731099970582756, 0.05455092245676135, 0.0504219211938012, 0.056445060813276424, 0.06652891102969487, 0.0745035929306357, 0.07703104772794862, 0.072882606163923, 0.06234344345922259, 0.047005894597096316, 0.02997408918604071, 0.017178506811320333, 0.015723799179055156, 0.017065960228513803, 0.013324343278826194, 0.006339877151741974, 0.004195254190074879, 0.0030337710726869825, 0.00916255529611358, 0.024971276978551497, 0.04486602680020807, 0.06730912523327294, 0.09103466567726945, 0.11477400924747153, 0.13729035927240746, 0.15744118081978922, 0.17422528757839717, 0.1868064116113851, 0.1945153268564161, 0.1968382970449893, 0.19340143296173587, 0.18395989021172046, 0.16839925791121488, 0.1467546951469227, 0.11925143900608705, 0.08636823013146322, 0.04892472785414573, 0.008295689168188248, 0.0342304340837035, 0.07611676149747831, 0.11615246715372823, 0.15335357266247943, 0.18714553234443126, 0.21726446881113234, 0.13288670223020577, 0.12727027500540225, 0.12205204917560851, 0.11478643308630444, 0.10393055537110646, 0.08931183365919731, 0.07240270624298034, 0.0568175456831983, 0.04860051255478045, 0.05155008320699923, 0.060636645214666315, 0.06860436169945286, 0.07134777583750906, 0.06735656286876794, 0.056799116468514085, 0.04107939367886806, 0.02274969517272879, 0.006823942249475321, 0.010703297264153535, 0.015288766443387091, 0.012097299240818125, 0.0038664974590901383, 0.0034459208891002334, 0.0033227472311292026, 0.005829399598242514, 0.021576668363666354, 0.041993691234955895, 0.06544582795463232, 0.09026083172273577, 0.1148869043322176, 0.13797118148830534, 0.15837059349494031, 0.1751428046452825, 0.18753149213371859, 0.1949480476215541, 0.1969516695725289, 0.19323207006190407, 0.1836006209336012, 0.16799684383998198, 0.1465192462032124, 0.11949817292232295, 0.08767479616670813, 0.052909133576489374, 0.025059988879170512, 0.04278168225844573, 0.08057749983870244, 0.11908989001348952, 0.1554530988361862, 0.18869997575621253, 0.2184343251571327, 0.14690646840215463, 0.13985222308744372, 0.1327404431023982, 0.12356753454023146, 0.11098767773686431, 0.09472192059798222, 0.07582136904093631, 0.057172845267325474, 0.04459564880090426, 0.04447741513971356, 0.053239028789818045, 0.06190185379471364, 0.06543451789510321, 0.06219265360290507, 0.052423009720047736, 0.03757500663502318, 0.020115464437590085, 0.0049510194385711664, 0.010954178672438829, 0.015493633351079476, 0.0125349027625693, 0.006219949270514126, 0.006896925897811279, 0.006754913221944215, 0.002815082660712573, 0.017504425793964024, 0.03856456620493678, 0.06312183438086338, 0.08905378903280689, 0.11457500206704671, 0.1382465451295249, 0.15893154061894804, 0.17574398675501893, 0.18800586055190102, 0.195212959037838, 0.19700821907075, 0.1931637388348094, 0.1835759976500521, 0.1682829659807525, 0.14752058609683066, 0.12186458053490022, 0.09262520780716221, 0.06330953346448294, 0.04570675401892621, 0.058585728269011865, 0.09010934454326112, 0.12547290257617835, 0.1599991993768041, 0.19204293831276262, 0.2209343410367226, 0.1592739271427923, 0.15091954600824967, 0.14212720744984897, 0.13121819601198523, 0.11699634502509483, 0.09909134094173112, 0.07818665847022688, 0.05644643806512101, 0.03902571643138049, 0.03523654655437517, 0.044353541486246165, 0.054387466646720596, 0.05914816117613621, 0.05711985398487695, 0.048887640535800865, 0.03624135972974137, 0.022260792769659032, 0.013288560530471746, 0.014963271129271776, 0.01674626918884449, 0.013743763436394935, 0.010155309860064314, 0.011568239160802936, 0.011108834879093652, 0.0032720180124855545, 0.01306291168235018, 0.035195733765269285, 0.06091672323883398, 0.08788192313938328, 0.11418923419856751, 0.1383610460746179, 0.15927777189188944, 0.17610669102358276, 0.1882433087453616, 0.19526722640065106, 0.1969110675110387, 0.19304285517513953, 0.183666415520439, 0.16895135054748406, 0.1493192199782841, 0.12565571406427323, 0.09986343472347889, 0.07641783005674346, 0.06530927603720682, 0.07615670694424756, 0.10255301732438107, 0.134316932457985, 0.1664624436647196, 0.19685940891283205, 0.2245652206273558, 0.1700070953746718, 0.16049565545106773, 0.15024819632788627, 0.1378340842544805, 0.12217857700823914, 0.1028466190210794, 0.08022451829236656, 0.05578606834835677, 0.033292453513241047, 0.024073148600010332, 0.034251591912670624, 0.046200325062094774, 0.05234137537180517, 0.05173148759759191, 0.0455537980077443, 0.03602620377998005, 0.026304420515534072, 0.020366956754815525, 0.018994288160371065, 0.017474054851511725, 0.014011682284421283, 0.013017969105767314, 0.01583317453299137, 0.015504757639349581, 0.007761372558873627, 0.010484811153079712, 0.03308124543083556, 0.0595918183470905, 0.08726232457251347, 0.11408792841348539, 0.13855795439419397, 0.1595629158920471, 0.17631111793987195, 0.1882607187766425, 0.19506931909077654, 0.19656012976368098, 0.1927051840731673, 0.18363073337752933, 0.1696588565625563, 0.15141790496403235, 0.13009898119574254, 0.10803962989578335, 0.08989290734619934, 0.08327937164575558, 0.0933786100798935, 0.11615792629653784, 0.14460382365912985, 0.1742387677316594, 0.20277317528921293, 0.2290833394161407, 0.17913242790948114, 0.16861391809555903, 0.15715288397297922, 0.14352027802388823, 0.1267536365168969, 0.10639640185018635, 0.08264678110056749, 0.056479854225318794, 0.03002546660005796, 0.011708362477502062, 0.023694464355102512, 0.03769765252903662, 0.04488902689782084, 0.045548850462142, 0.041658741456561565, 0.03569388017860585, 0.029922894949922705, 0.025581951718015573, 0.021778534539090712, 0.016729115816478176, 0.012167128980657155, 0.014336547643711752, 0.019398945307238305, 0.019981937757304717, 0.013951074427432448, 0.01383728632803248, 0.03368961053372437, 0.059908306398900234, 0.08766198556912859, 0.11458075714494977, 0.13904533486316292, 0.159919243145537, 0.1764267923750612, 0.1880710973146605, 0.19457702763734988, 0.1958547896983403, 0.19198373566902452, 0.18322152717150525, 0.17005368173501462, 0.15331710162639126, 0.13446493017246045, 0.1160731743006106, 0.10249711480772547, 0.09932905735439929, 0.10938156728508014, 0.12976159296370207, 0.15546618230886045, 0.18274558296059645, 0.20939619886774413, 0.23422732874329977, 0.1866765997986719, 0.17530382368545241, 0.1628817858327333, 0.14835861499608097, 0.13088974050165686, 0.11005184964129876, 0.08599118708011251, 0.059523182834408245, 0.032207600036233824, 0.00648724816235818, 0.015212261983058811, 0.029671579787105655, 0.03676664353766384, 0.038113342938393434, 0.03654698652900719, 0.03441508991759155, 0.03227770769437525, 0.02911679884844851, 0.02342681376900348, 0.014669435252202915, 0.007764829158455362, 0.014739344577406737, 0.022593733186384697, 0.024755045995281836, 0.021166710005316672, 0.021533566289778584, 0.037629650903251224, 0.06229144229167691, 0.0893641187188831, 0.11586623424172031, 0.13996339841972608, 0.16043948992371856, 0.1765026386980267, 0.18767925199368396, 0.1937476016034041, 0.19469814610074918, 0.19071745426494566, 0.18219961118467434, 0.16979907672537142, 0.15455456414554833, 0.13812954510229528, 0.12318042104319549, 0.11355912252469305, 0.11327612883949226, 0.12374244053490714, 0.14264218101155085, 0.1662420947601954, 0.1914795802381811, 0.2163670181884215, 0.23974176153365323, 0.19266028227214047, 0.1805811302680161, 0.16745085140823526, 0.15238500082447545, 0.13466966456230273, 0.11396634931249225, 0.09048697165987747, 0.06516818762858231, 0.039978607696901716, 0.019361113995266716, 0.015913153736495912, 0.0239135083769714, 0.028277996082988217, 0.029083221991686222, 0.02987184681774155, 0.0320323165848129, 0.033487942735589395, 0.03161147630545466, 0.024885340817461587, 0.013244333912277896, 0.0018015463783433796, 0.015930076938193188, 0.026011449083526178, 0.02988137400870741, 0.028786985668776816, 0.03053368390438857, 0.04409704167035286, 0.06659888479914895, 0.09237252748229027, 0.11798795617577014, 0.14136274377216193, 0.16116565308334949, 0.1765617705524254, 0.18708076341035126, 0.1925402061539464, 0.19300272810956945, 0.18876025552708753, 0.1803468354393829, 0.1685908328576339, 0.1547277722406645, 0.14059149360071438, 0.12881801711926638, 0.12269786205597598, 0.12501122069831544, 0.13624227019972207, 0.1543657826176331, 0.17646228759774774, 0.20004027230654942, 0.22337489021608287, 0.2453951383159026, 0.19709431806366604, 0.184442021005247, 0.1708426803095323, 0.15557775302884858, 0.13807546922184183, 0.11811371760335604, 0.09602252712962879, 0.07291110519599939, 0.050988559759695934, 0.03396624735994991, 0.02568461531663591, 0.023456936935481745, 0.020811942147452352, 0.01834473549424412, 0.02188580094977338, 0.02923869382976484, 0.03433046394839122, 0.03404239616047016, 0.027491696420586336, 0.015884653913639562, 0.00846485545586646, 0.019566917309989797, 0.03007429251562842, 0.0351696397582411, 0.03618563113443746, 0.03942477202821925, 0.051714465010976325, 0.07221549818023726, 0.09641819340044888, 0.120831443843819, 0.14320162041104628, 0.1620878128490894, 0.17660203858007606, 0.1862644800078923, 0.19092060692792817, 0.19069748037312298, 0.18599017898592488, 0.17747697947172553, 0.16616898586661139, 0.1535033341058599, 0.14146622208152182, 0.13262169473698757, 0.1297008660259069, 0.13448871043958005, 0.14678266787811164, 0.1646878756275021, 0.18581716631836548, 0.20813200477512842, 0.23017139882404297, 0.2509914938820095, 0.19997850746023196, 0.18686125543338922, 0.17300429119179653, 0.15785694988370072, 0.14099351126866075, 0.12230978406539737, 0.10222804452506545, 0.08188863460311535, 0.06322249101372353, 0.048444250319568734, 0.03812650942556021, 0.029415065301315435, 0.018586759890309442, 0.006599837426343612, 0.014620801700788135, 0.027758520583339642, 0.03597994581681696, 0.0374127781776992, 0.032138523765527796, 0.02287400707317297, 0.01832671258504152, 0.025549080711161326, 0.03473522248439343, 0.040224751954188016, 0.042769642111940655, 0.04739764830972785, 0.05929822641071255, 0.07834939696051925, 0.10106100362359773, 0.12416413088841938, 0.1453639910274899, 0.16315360182306515, 0.17660228630486885, 0.18521819476405796, 0.18886769250710292, 0.18773574614008973, 0.1823186392010785, 0.17344518059632816, 0.1623253145214505, 0.1506185970494278, 0.1404723638483728, 0.13436182040461095, 0.1344706782344845, 0.14172438759719191, 0.1553527900779964, 0.17349610593935816, 0.19412454284070252, 0.21555553131807204, 0.2365731338050287, 0.25637632065797483, 0.20130301173144693, 0.1877940215499162, 0.17385058647295104, 0.15909300535783233, 0.14323557755965183, 0.12626417681354946, 0.10861130893961285, 0.09125124270882211, 0.07552575977513364, 0.06238440314928879, 0.051169018796713754, 0.03946887272514289, 0.025117617277538112, 0.009769884735539296, 0.015113629259749121, 0.029777152978256394, 0.03949123233920937, 0.042311472953888894, 0.03873214596316507, 0.03194091508714529, 0.028508320425972063, 0.03265530575897098, 0.03952835344163725, 0.044540847803429484, 0.04800427807505752, 0.05388585682983078, 0.06601928710145459, 0.08427902307982117, 0.10582254616577072, 0.12770087463582247, 0.1476927294208629, 0.16428600330116677, 0.17653301105534133, 0.18393656905047664, 0.18638115015409198, 0.18410389959991838, 0.17769992359561987, 0.16815672421264616, 0.15690853357084872, 0.14587966176535475, 0.13741828143956564, 0.13391601270397785, 0.13700197538355569, 0.14679643868847222, 0.16201510336411093, 0.18077731510702447, 0.2013037042746688, 0.22219588440587604, 0.24245886301073175, 0.2614380712824048, 0.20105221526730838, 0.1871809185823344, 0.17327209799416596, 0.15912135005526315, 0.144568609648659, 0.12964086196187039, 0.11467640927157176, 0.10032446757270846, 0.08726225164595694, 0.07557092112392827, 0.06420864153177736, 0.05148854025708038, 0.03687335838623632, 0.02431303609006138, 0.025061576525365885, 0.036008232353092626, 0.045207137158391156, 0.048690551213636114, 0.04653294783819209, 0.041495810832076006, 0.038257007144961906, 0.03973528415297153, 0.04381359150808609, 0.04759331645683589, 0.05143406770787543, 0.05849028948957894, 0.07135519358401547, 0.08947160431565326, 0.11029342425356795, 0.13117106085926378, 0.15002808013353633, 0.16540507004343122, 0.17636914382606164, 0.18242987867202023, 0.1834893327969334, 0.17983015185750506, 0.1721411581425018, 0.16157625644389786, 0.14982902261351258, 0.13915852011382288, 0.13219186996673446, 0.13125530428303128, 0.13737446636713344, 0.14984878696845233, 0.1668990487904551, 0.18659777294086588, 0.2073556318423309, 0.22800973601889582, 0.24776366685158782, 0.26610651978713157, 0.19921080570730995, 0.18495535430944093, 0.17114534506198523, 0.15775973460356318, 0.1447454892330838, 0.13211051289057416, 0.11999624594976253, 0.1086300741514297, 0.09807560332195782, 0.08787271380167219, 0.0769627175231527, 0.06435297685244099, 0.050578418566118076, 0.0396579878413713, 0.03824166488881543, 0.04524168244576068, 0.05268524352772217, 0.05603251092170896, 0.05468551857457961, 0.050600518683706804, 0.046984598655853534, 0.04596027167804866, 0.04698176820281796, 0.048910920467499966, 0.05270552590655791, 0.060974820823783006, 0.07504213088563895, 0.09361831698435354, 0.11419704027266687, 0.13437057685320505, 0.15224192156996771, 0.1664486168838784, 0.17610222499683734, 0.1807318543030396, 0.18025608631079454, 0.17499281627954436, 0.1657128932375894, 0.15373865819854085, 0.14106489153412813, 0.13039087157714405, 0.12475468418913024, 0.12644145177459204, 0.1357557007104563, 0.15109621752734778, 0.1701980010870752, 0.1910901650391342, 0.2123475875255552, 0.2330133496346604, 0.25247153399979516, 0.27034902292794005, 0.1957718622764742, 0.18105268395992868, 0.1673442539935686, 0.15482525119474166, 0.14353185981882582, 0.13338784347305266, 0.12424485186660744, 0.11585918226423672, 0.10777253838054181, 0.09920843005300072, 0.08923807448845819, 0.07741869039120569, 0.06483666412371676, 0.05497988109352825, 0.052146268963865226, 0.055920265801850035, 0.06111300484549058, 0.06364963664499154, 0.062445111995571116, 0.05862250859448369, 0.05423492314436281, 0.050770096730922844, 0.04856035333899355, 0.04812515349377187, 0.051593860014861784, 0.0612905207114937, 0.07705849462129509, 0.09663650091130874, 0.117416822081355, 0.1371925341416927, 0.15426163946061236, 0.16738776158365107, 0.17574938827293324, 0.17890479936395473, 0.17678503386809882, 0.16972688980615047, 0.15856014373216099, 0.14476301319643234, 0.1306715037022677, 0.1195754815797379, 0.11514104426690003, 0.1196352667064249, 0.13241155830530932, 0.15083034866403228, 0.17216679559730758, 0.19444338606308914, 0.21640016916538515, 0.2372712008414581, 0.2566072056998492, 0.27416543395208987, 0.19074690181077678, 0.17542065798910192, 0.16175149108756748, 0.1501492636331177, 0.14072715351528578, 0.13325513469398534, 0.12720644027710906, 0.12184036252752949, 0.1162660113112014, 0.10953217799142427, 0.10087992959760067, 0.09025157584574232, 0.07893942414456508, 0.0698114502263994, 0.06582744664681181, 0.06690120524374375, 0.06967733536609479, 0.0708800219359137, 0.06921194486503571, 0.06509906515779104, 0.059670324058947816, 0.05381539327221563, 0.04825556959136717, 0.04500048951758503, 0.048038824669687265, 0.059625232100995455, 0.07763179552212196, 0.098660926655244, 0.1199981917755079, 0.13963735200724192, 0.15608098867637632, 0.16823468167265648, 0.17535712936732367, 0.17704029458836515, 0.17321955858156085, 0.1642271131617076, 0.15091292226707909, 0.13487124973634246, 0.11879771261403785, 0.10677572060334836, 0.10346366847767481, 0.11111870979022438, 0.12772320543171814, 0.1494244886987844, 0.17311741483003956, 0.19689243317864616, 0.21967522479603263, 0.24088494991409926, 0.26022763136110905, 0.27758218257777595, 0.184178128438749, 0.16803117930100636, 0.1542691042391234, 0.14358957133385578, 0.136180576195359, 0.13157698186249453, 0.1287752567271466, 0.1265154551606246, 0.12354714147358638, 0.11883012078735833, 0.11176658564615939, 0.10254050389843833, 0.09245100874352895, 0.08380871149878012, 0.07875944013304653, 0.07743113062384727, 0.07771498134060348, 0.07716863394746334, 0.07451628840446593, 0.06968189404261124, 0.06305449382929397, 0.05491801724076692, 0.04596834315017621, 0.03945074676810316, 0.04220860436389505, 0.05648809918423077, 0.0772539981959689, 0.10002531823844481, 0.12213159367290903, 0.14180493717924236, 0.1577578513750993, 0.16904152498591496, 0.17499866803577716, 0.17525417237460664, 0.16973660045404695, 0.15874472696656586, 0.14309363702093586, 0.12441269373862392, 0.10571489302308976, 0.09212432015110464, 0.08993045910641134, 0.10133728595892305, 0.12220787487074013, 0.14733361760285543, 0.173410191076684, 0.19870637594239368, 0.2223634154365054, 0.24398240456294687, 0.2634132040341843, 0.28064588048292144, 0.1761535788801315, 0.15889403714053754, 0.1448284442918051, 0.1350400201912785, 0.12980449544357114, 0.12831205742669385, 0.1289547002693535, 0.12992459044510135, 0.1296720055445086, 0.1271228825466286, 0.12181623034828884, 0.11407065544299964, 0.1050921189096877, 0.0967317262039069, 0.09061560542598775, 0.08702884138898061, 0.08474433575643077, 0.08209351195932825, 0.078003091486041, 0.07210873955786253, 0.06423119659452423, 0.05403885611964382, 0.0418075281956332, 0.03154676723008394, 0.034658854654070606, 0.052834172192056404, 0.07667833243503802, 0.10122388124116599, 0.1241177160373491, 0.14387169622376753, 0.159400333586307, 0.1698908280425633, 0.1747647316776113, 0.1736751555088057, 0.16653265534582684, 0.15357422936378742, 0.13551571859076675, 0.11389343482263212, 0.09187115377727263, 0.07583433374550604, 0.07488653685131554, 0.0909731845795414, 0.11653534825414134, 0.1450832897835327, 0.17343772935806215, 0.20017298898419608, 0.2246706995903344, 0.24670626829199116, 0.2662589135416618, 0.2834167375444407, 0.16682646343376156, 0.14807435326941884, 0.133399950978016, 0.12443836950961079, 0.12158897366407181, 0.12352733564851336, 0.12785981856116943, 0.13219842901158277, 0.1347559541628803, 0.13446986504086053, 0.13099462389501024, 0.12471365898548564, 0.11670046695995927, 0.1084408008912713, 0.10121331952868848, 0.09541747356439725, 0.09046455918319543, 0.08537705919106112, 0.07942682826658952, 0.07218743739750448, 0.06310098676330551, 0.051247153600495414, 0.03612401550542821, 0.021524743274175844, 0.026828998989758993, 0.05016169930998951, 0.0768480727616898, 0.10283901573932873, 0.12631474195885817, 0.1460554291493404, 0.16114382731320692, 0.17087909908084, 0.17474877253112825, 0.17242770157093057, 0.16380143222090704, 0.1490264009448338, 0.12866361874344007, 0.10400115990102843, 0.07799532740666837, 0.05822743174865536, 0.058928586552668055, 0.08105488608474669, 0.11152015314717072, 0.14323934486859619, 0.1735994156523328, 0.20157952313599287, 0.22680361925906095, 0.24920274988179467, 0.2688656271005498, 0.28596205980370165, 0.15644072920830038, 0.13571738922965795, 0.12000426353025809, 0.11177371015352014, 0.1116231470890322, 0.11741991881706536, 0.1257242452273346, 0.13355443484034457, 0.13897065288515942, 0.1409725228521215, 0.1393196506199267, 0.1344211659484364, 0.1272126388971302, 0.11889299590876452, 0.11049538346130142, 0.10249225474059505, 0.09475340088614255, 0.08690006968125584, 0.07866018482295684, 0.06979056937725489, 0.05959978252950003, 0.04669423965037389, 0.029619005842827884, 0.009876907994916398, 0.02234756869627123, 0.05028900991492447, 0.07870315077224764, 0.10543084302363012, 0.12907155200780018, 0.14857291027630593, 0.16312295879229402, 0.1720964515211561, 0.17502889184038042, 0.1716111339903143, 0.16170479794604634, 0.14538615272215327, 0.12304138915079846, 0.09559518212777433, 0.0652864372706254, 0.03983385279451967, 0.043269770673155176, 0.07305734839350256, 0.10805390212604592, 0.14235201292954847, 0.1742666197832643, 0.20319043076871446, 0.22895398646324505, 0.2516104458550361, 0.27133182679740225, 0.28835011798110716, 0.1453653886944336, 0.12208812138716899, 0.1047280259599812, 0.09709561294346218, 0.10013366709126258, 0.1103513400562525, 0.12290973055057207, 0.13429309261768116, 0.14254012253079146, 0.14677451530936886, 0.1468614364195016, 0.1432176299935606, 0.13665148969438906, 0.12813629448267327, 0.11851962881466468, 0.10830443299957225, 0.09767026298150616, 0.08672619501519283, 0.07572226995528299, 0.06486468497226706, 0.05368503375943041, 0.04061236025361591, 0.023667762217630457, 0.004737547307112118, 0.026071639010035928, 0.054481233565149195, 0.08289003152088474, 0.10941056088302152, 0.1326590044309528, 0.1515976734638529, 0.165443597180842, 0.173606148840422, 0.17564981298380633, 0.17127871363214556, 0.1603416513364477, 0.14285959822881153, 0.11908241134748543, 0.0895987466655093, 0.055649407135006004, 0.021980559907270207, 0.031001964699478572, 0.06877203784212381, 0.10694438139320174, 0.14287738750663487, 0.175742725869877, 0.20522450444847556, 0.23128428627656628, 0.25405021752984186, 0.27374624566488603, 0.2906446959329135, 0.13413914187671663, 0.10764054446767365, 0.08775337760443479, 0.08053006787673261, 0.08756134173702798, 0.10289689504882413, 0.11991211407214855, 0.1347889345375692, 0.1457326787976709, 0.15205738901198967, 0.15373778304902147, 0.15119085371230193, 0.14511380707634072, 0.13630032027207875, 0.12544797534772448, 0.11304928254986858, 0.09946193866151821, 0.08514020136882815, 0.07083828766588028, 0.057464918352504696, 0.045336088620165346, 0.03340712508709162, 0.020888536493237096, 0.018004669460354637, 0.03674522942490185, 0.06263397161269234, 0.08954738461836269, 0.1149473550389813, 0.13721809223238254, 0.1552272324408459, 0.16816059576796757, 0.17542823519580278, 0.1766086832595123, 0.17142121415417244, 0.1597219577191674, 0.14152292215796, 0.11703467117799923, 0.08673388582131518, 0.051461837871662024, 0.012771663272357079, 0.028873181535611914, 0.06958403340231209, 0.10868729262840841, 0.14509603945114505, 0.17822660775038818, 0.20783527249936548, 0.23391560660650573, 0.2566169681909474, 0.27618189802561216, 0.29290062523816013, 0.12352023222534929, 0.09314510106342365, 0.06943040888318995, 0.062319150756008905, 0.07472098210147089, 0.0959010689905582, 0.11735095953727717, 0.13547053609615242, 0.14884643289383837, 0.1570311401524294, 0.16010512373948252, 0.15847981316045118, 0.15275614762331555, 0.14358273900353752, 0.13153070976997325, 0.11704947341960885, 0.10056258497184241, 0.08269701559268106, 0.06455387681504925, 0.04784711549578662, 0.03457462629094474, 0.02605983982851675, 0.02395236758348736, 0.03231324458642468, 0.050415668908424686, 0.07364947077122128, 0.09833728755502154, 0.12195374075512824, 0.14274139385103457, 0.15946749287496112, 0.1712659165430559, 0.17753069846038672, 0.17784791306302924, 0.17195910260569902, 0.15975343717349014, 0.14129073576268708, 0.11686746294101498, 0.08717753268918627, 0.053903305944612984, 0.025099575529750118, 0.038801154790632675, 0.07549623445748557, 0.11329696341157398, 0.14906146030712, 0.1817901741586646, 0.21109881901899433, 0.23691993191715827, 0.2593741966036412, 0.27869195723161183, 0.2951605667373002, 0.11451537614331868, 0.07991193774953266, 0.050512538303612214, 0.0429654782230448, 0.06311824515047038, 0.09049451864517825, 0.115923386755714, 0.1367847456276869, 0.15218742162161256, 0.16191983226687712, 0.1661455632928078, 0.16525977370971912, 0.159778045033468, 0.15023080842937012, 0.13708335911076167, 0.12072633768933107, 0.10157283545099036, 0.08026043064078764, 0.05793669923500162, 0.03674283924465561, 0.02151944510559582, 0.021351174382676415, 0.03216176657046446, 0.046855037594380713, 0.06511601786847723, 0.0863225454288866, 0.10866790868651616, 0.13014918426809136, 0.1490913161257931, 0.16423706815864833, 0.1746891756181946, 0.17982986213073246, 0.17925669149102802, 0.17274544740999362, 0.16024525671413728, 0.14191727868569157, 0.11825328735763888, 0.09041462160139635, 0.06150193685025312, 0.042441841558037985, 0.0539281949597032, 0.08517394440250758, 0.12032740839749101, 0.15460362215959358, 0.18637755639167328, 0.2150119397698761, 0.24031807627227295, 0.26235192794321766, 0.2813077834116751, 0.29745320688561433, 0.1083185446231449, 0.07006095665437975, 0.0331795486910191, 0.024103319550346256, 0.055359941331060994, 0.08796506426231632, 0.11630573124526578, 0.13914526939886107, 0.1560417646744492, 0.16694349283320611, 0.17205103397986493, 0.17172521477413766, 0.16640269076783132, 0.15651830236950487, 0.14245521864767374, 0.12455379287351923, 0.10319830575308217, 0.07897028325813144, 0.05283221337323053, 0.02638224895959779, 0.006804498617420082, 0.024081867419300587, 0.04339588091395859, 0.061483837585452464, 0.08004095333207459, 0.09975132071906384, 0.11991885035961064, 0.13915900544369558, 0.15604363284686978, 0.16938794117012704, 0.17830937518796566, 0.18219949777045505, 0.18068078102936436, 0.17357891230248718, 0.16092770745995827, 0.1430303254627629, 0.12063828704214939, 0.09544931858196935, 0.07162853323879396, 0.059381741317200906, 0.07003031950497371, 0.09692637726230802, 0.12906253629370987, 0.1613852153783333, 0.19182611997111737, 0.21950100688777802, 0.24408350250994854, 0.2655481547210535, 0.28403916806415014, 0.2997929059304196, 0.10606143613523605, 0.06631446347485026, 0.02525635191575835, 0.01616152628891704, 0.05466328815085343, 0.0893790683979057, 0.11901401212416113, 0.1428745538202649, 0.16064611839085155, 0.17229864787853405, 0.17800616772732805, 0.17807167002629395, 0.17285608365723115, 0.1627192663358936, 0.14799127059883768, 0.12899554386832984, 0.10613572353249506, 0.08003890738098589, 0.05174999138930729, 0.023266042726514943, 0.01170877663126946, 0.034477766297809576, 0.05646296378268279, 0.07616247251392455, 0.09484011080481324, 0.11335475966651615, 0.1315670648655291, 0.14860236634880827, 0.16333811463795608, 0.1747347836648322, 0.1819740626029416, 0.18448633274682147, 0.1819384900742571, 0.17422388766356436, 0.16148218836065306, 0.14418424801505497, 0.12335952821795418, 0.10116790812901345, 0.08222509780629769, 0.07490455724613558, 0.08550398545506571, 0.10937536965224805, 0.13873233736813909, 0.16898300327096816, 0.19790205673929673, 0.22443919497334266, 0.24815112841368422, 0.2689333873492699, 0.28687659358661344, 0.30218068861096825, 0.10839206622842808, 0.07036635701221587, 0.035651334092368696, 0.031619473602637616, 0.06216374079181653, 0.09510826413830162, 0.1242796410325981, 0.14815626438691254, 0.1661628305888958, 0.17814068173330064, 0.1841719766461237, 0.18447815283042565, 0.17934650002462016, 0.1690814793574655, 0.153992579780708, 0.13443583037694642, 0.11092640655637878, 0.08435880290543848, 0.056544849909277606, 0.03267542134462114, 0.02996572393890946, 0.049012782830786784, 0.07079188071833503, 0.09088602007267048, 0.10936092004359307, 0.12678633346236884, 0.14322413185048724, 0.15814785857236197, 0.17072164564281764, 0.18008488954386276, 0.18552128951503224, 0.1865288046010786, 0.1828399388225231, 0.17443388274090146, 0.16157422298055682, 0.14491461873947517, 0.12575283231036125, 0.10658571617629273, 0.09201966961958061, 0.08856044874967942, 0.0996258111711385, 0.12156821921173727, 0.14865311327035974, 0.17696359239129358, 0.2043401199346152, 0.2296680240747239, 0.25242936242065306, 0.2724574708992423, 0.28979506829853163, 0.30460633461960696, 0.11517435679165802, 0.08126547203480648, 0.05509542069170602, 0.053258195915601506, 0.07577118843624339, 0.10470232045714867, 0.13201170074582602, 0.155015755414085, 0.17266601100483245, 0.1845712385884079, 0.19067258218495775, 0.19109215214256298, 0.18604668801292926, 0.1758034951863951, 0.16068277463037317, 0.1411225346079299, 0.11783721498506743, 0.09216103917680468, 0.06693320409174344, 0.04899192996292167, 0.0493740626954303, 0.06560780807249221, 0.08601848909267869, 0.10564123062978849, 0.12354152701378916, 0.1398528553323761, 0.15462740490029245, 0.16753790748033773, 0.1779773468588281, 0.18526315103923677, 0.18880044731235268, 0.1881761363832942, 0.18320694524585274, 0.17397482867683095, 0.1608837775821149, 0.1447821907961623, 0.12722180512876666, 0.11092905023490908, 0.10025230125915242, 0.10008035518077121, 0.1120105105362345, 0.13288781442665626, 0.15828430100026922, 0.1849369516929139, 0.21087879929414965, 0.2350190254814436, 0.2568132901207756, 0.2760575853979525, 0.29275894420737014, 0.3070512306863192, 0.12560927074560146, 0.09658120425945207, 0.07680595596550908, 0.07578709510198899, 0.09276722224148945, 0.1172279647727038, 0.14186448252440792, 0.16333465545249395, 0.1801416885817803, 0.19163287286644004, 0.19758683612930297, 0.19801903714817423, 0.19308113526560441, 0.183019046917453, 0.1681880042462959, 0.1491409503695879, 0.1268308007610662, 0.10303224177994205, 0.08122910604871532, 0.06782770931272207, 0.06933668105499355, 0.0832727823432632, 0.10183975332694493, 0.1203882619963665, 0.13735777631381366, 0.15245604787534384, 0.1656152749561306, 0.17659225568064602, 0.1849398818467097, 0.19012971550415628, 0.19168954896546514, 0.18930567298143802, 0.18289170078994818, 0.17264631863031518, 0.1591301721806115, 0.14340251992968184, 0.1272690247756161, 0.11362699976053736, 0.10646525925296792, 0.10930526649593596, 0.12245050727672001, 0.1429554812285653, 0.16723559429441012, 0.19258606735198244, 0.21728641010506572, 0.24033239249654342, 0.2611971431851091, 0.27966634385999944, 0.2957270803389628, 0.30949160363994777, 0.1386372003663055, 0.11421138491292218, 0.0988784158486433, 0.09819138530466955, 0.11132779007569674, 0.13169074623243113, 0.1533589019309197, 0.17289054744179852, 0.18850072934992226, 0.19931138810515509, 0.20494575214877733, 0.2053170357894247, 0.20051997472184666, 0.19079115879945613, 0.17653414648592194, 0.1584243747294455, 0.1376311009554212, 0.11622611427004267, 0.09780291068914261, 0.08758756066131797, 0.08946660436005217, 0.10142648517951691, 0.11797986535220749, 0.13505917618033852, 0.150796069516094, 0.1645535528495288, 0.1761010266071169, 0.18520047962925393, 0.1915002517573891, 0.19459037146060254, 0.1941079848108251, 0.18983739959437287, 0.181793385929746, 0.17030030256373102, 0.15609168518731756, 0.14046346869631524, 0.12550299960211014, 0.11427752446030247, 0.11039347531153669, 0.11616853691502636, 0.1308612571316083, 0.15156553285559346, 0.17525392139021403, 0.19967864897036736, 0.22337738206220173, 0.24547097374736043, 0.2654847256276736, 0.2832190883872815, 0.298657771329912, 0.3119017654717411, 0.1532681703248941, 0.1328037949107528, 0.12060830832007134, 0.12005222540913667, 0.13039962765093593, 0.14725554439420008, 0.1659922943041406, 0.18340485054004727, 0.19759967046020718, 0.20754449279440165, 0.21273549332762415, 0.21299792416055208, 0.20837978632022952, 0.19911598459597676, 0.1856596845899876, 0.16879204903945166, 0.14983268144390827, 0.13096263281663525, 0.11552097531838763, 0.10754700915983631, 0.10945062566488478, 0.11966643543564681, 0.13418909093747364, 0.14956594499903839, 0.16384121595280168, 0.17613415182806919, 0.1860506170737251, 0.19331021776779722, 0.19760381750210285, 0.1986008877866783, 0.19602473548473417, 0.18974527877045114, 0.17987261797475312, 0.16685789358073955, 0.15162181111380868, 0.135735246842146, 0.12163370030647719, 0.11261583307166999, 0.11191350858866163, 0.12069363576920232, 0.1372610807426312, 0.15864587512507214, 0.18220568091223877, 0.2060677778998757, 0.2290201993991865, 0.25032925579686444, 0.26959709997219267, 0.28665977113195346, 0.3015129883925871, 0.3142570570002645, 0.1687143239680573, 0.15154440554456874, 0.1416390008023307, 0.14112251402439333, 0.14936548418848036, 0.1632903865665921, 0.17930607624675363, 0.19458465160221805, 0.20726363844800988, 0.21623425608171215, 0.22090464536986956, 0.22103252654076175, 0.21663019791123705, 0.2079341771671112, 0.19543847867822636, 0.17999702552633046, 0.16299813125510515, 0.14657383442648136, 0.13364512845932805, 0.1272801532533595, 0.12903409171923583, 0.13769217913931245, 0.15024852983691964, 0.1638115838271287, 0.17647311675528882, 0.1872029224613337, 0.19546555859963105, 0.20091474649150493, 0.20324447651721075, 0.20216674210197916, 0.1974624022846365, 0.18906533170679446, 0.17716393356073673, 0.16232557738501135, 0.14566518395779923, 0.12907795436209993, 0.11546467952945368, 0.10849281575967971, 0.11102458756460322, 0.12299963637644248, 0.1417645507762139, 0.1642345783748506, 0.1880599113150929, 0.21168655397577707, 0.23413908979006173, 0.2548377854395478, 0.27347736642082343, 0.2899451058888014, 0.30426163878524876, 0.3165362594327445, 0.18439523041396993, 0.16993786074708492, 0.1617583083224779, 0.16123895168893324, 0.16784635057341726, 0.17933801000516433, 0.19291446746587498, 0.20615193969234785, 0.21730680126224333, 0.22526065556010072, 0.229373959421699, 0.22935942111467195, 0.22520427099350654, 0.21714637222251323, 0.20570548353430904, 0.19176917978063002, 0.1767195051737775, 0.1625360866555897, 0.15168780076064986, 0.14650116934741955, 0.14801459515904306, 0.1552746907825032, 0.16597349113084597, 0.17770045621856942, 0.18866807143033976, 0.19777302498876628, 0.20437043667373322, 0.20804151737675314, 0.2084568688001243, 0.20533938551214087, 0.19849736093035766, 0.18790025636984165, 0.1737863007220529, 0.15681221956665087, 0.1382769398568685, 0.12045165873617122, 0.1068858211595218, 0.10186488991999948, 0.10785087811165761, 0.1233127593332795, 0.14458180150141656, 0.1684650184943629, 0.19287339894496092, 0.21653964127338632, 0.23871134067689861, 0.2589638252712923, 0.2770927257622921, 0.29304692850541764, 0.3068817067199651, 0.31872333535300257, 0.1998993913105028, 0.18767631680528532, 0.18083340268514725, 0.18029285595799827, 0.18560198317081567, 0.19507454359227508, 0.20650915319246166, 0.21786020825457308, 0.2275480071284422, 0.23449407474831174, 0.23804674644033436, 0.23789504033523987, 0.23401041070521642, 0.22662939432732232, 0.2162799805191161, 0.2038462734572841, 0.19064680844009066, 0.178455599289994, 0.16931904649119964, 0.16500903401479317, 0.16623656569650042, 0.17224092609630753, 0.18121432012083002, 0.1911460207645671, 0.20040187924937813, 0.2078616058428457, 0.21280406481102135, 0.21474213840334191, 0.21330763899871855, 0.20820977480624445, 0.19925607821074678, 0.18641991437177105, 0.16995085752847838, 0.15054766951289297, 0.12965020592414145, 0.10993553118623535, 0.09586858318150114, 0.09279718262913615, 0.10266358002884192, 0.12198329143431864, 0.14601959006155568, 0.17155448293948547, 0.1967768870141642, 0.2206930342791025, 0.24276161354275455, 0.26270907899383167, 0.2804342091832463, 0.2959528860560151, 0.3093612714767456, 0.3208084482317635, 0.21494214957014085, 0.20456771656220532, 0.19878356530721394, 0.19821618239698718, 0.20247973702841693, 0.2102744779469669, 0.2198526312127444, 0.22950145785609916, 0.23782118134071137, 0.24380549254087552, 0.2468185007172208, 0.24654359213996396, 0.24294387991852495, 0.23625069542662203, 0.22698348956121728, 0.21599253154522888, 0.2044954852338354, 0.1940432796346539, 0.18631325567136245, 0.1826627415905437, 0.1835858291005021, 0.18846394205469086, 0.19585512412258063, 0.20407569830773697, 0.21165303751723394, 0.21748799495110066, 0.22081323701154726, 0.22108375163432956, 0.21788625527243385, 0.21089958839322986, 0.19990737364564526, 0.184856402771383, 0.1659636108141576, 0.1439018698642855, 0.1201573530619468, 0.0977678814911198, 0.08246504461921983, 0.0814881047402656, 0.09592796980956694, 0.11950562103988033, 0.1464800250970207, 0.17379230187563852, 0.19996097911398406, 0.22426245588058938, 0.24635415670294186, 0.26610523042377443, 0.283514533304654, 0.2986656881071582, 0.31169849828079804, 0.32278828344087124, 0.22933171378361886, 0.22049569815139256, 0.21556580813766812, 0.21497276386599293, 0.218386219518058, 0.2247846410526223, 0.23276774805252945, 0.240907069761867, 0.2479811858709781, 0.2530739285580334, 0.2555848874673975, 0.2552057150286849, 0.25189664731507505, 0.24587971468290978, 0.2376517814615751, 0.22800741512303307, 0.21804326845873648, 0.20909155490917442, 0.20251790936084665, 0.1993672995799746, 0.1999841624232424, 0.20385535890556367, 0.2098110958921953, 0.21643321811779834, 0.2224051870532729, 0.22667297217249727, 0.22844821050699404, 0.22714159061205308, 0.22229565476403962, 0.2135504416072853, 0.20065036872917894, 0.18349195951636973, 0.16221879779124193, 0.1373989686682147, 0.11040955318253348, 0.084433458791728, 0.0668137807203857, 0.06834250730865143, 0.08838391840148617, 0.11653399283568606, 0.14645149901772117, 0.17552412513348503, 0.20266036373165047, 0.22740042320983075, 0.24958351543258278, 0.2692079264752306, 0.28636454958661106, 0.301201213864095, 0.3139007644189589, 0.32466574992863906, 0.24294411787314987, 0.23539585288876955, 0.23116576600356734, 0.23055184732960857, 0.2332701652213611, 0.23850549756735992, 0.24512698066403593, 0.2519452954455454, 0.2579062636487308, 0.2621912764713026, 0.26424774962802683, 0.26378530876843737, 0.2607649753865838, 0.2553958458088877, 0.248141743894608, 0.2397278865534342, 0.23112274063272267, 0.22345584371042038, 0.217834026213182, 0.21506424357840695, 0.2153840014143614, 0.21835901485544462, 0.22302503318625794, 0.22817903167635797, 0.23264851830157693, 0.23543836636506305, 0.23575929482205538, 0.23299252730428052, 0.22664297261836155, 0.2163115583884072, 0.20169822187104114, 0.18263812637057616, 0.15917676351345508, 0.1317126631334202, 0.1013278260768257, 0.07085935031459455, 0.04916580529286748, 0.05418605844835985, 0.08115668515086759, 0.11387631117775181, 0.14648487250242023, 0.17712964742843496, 0.20513544280295412, 0.2302820376612289, 0.2525642236499984, 0.272089756494736, 0.28902874294654984, 0.3035857940915907, 0.3159831220456892, 0.32644917976488713, 0.25570519279199255, 0.24924069229152226, 0.2455911590786058, 0.2449629106060364, 0.24711120729596273, 0.25137766239680603, 0.2568428356767497, 0.2625171795837556, 0.26749816676328914, 0.27106495263666097, 0.27271916803143975, 0.2721944146985831, 0.2694546806047886, 0.26469332973832266, 0.25833435269807714, 0.25102687952376845, 0.24361284191390384, 0.23704029733135837, 0.2322029940300632, 0.22972441348319242, 0.2297634357920251, 0.23194539241666665, 0.23546349717188392, 0.23928938689404283, 0.24238017889932792, 0.24380661597018075, 0.2427941633428351, 0.23870952906562648, 0.231030722333951, 0.21932668918197276, 0.20325857393504088, 0.18260600817523176, 0.1573205674972879, 0.12761860521169047, 0.09417653798484826, 0.05883094226988403, 0.03001870087300381, 0.040942912331681444, 0.07582576549936813, 0.11243579614315259, 0.1471486798085868, 0.17899262755010403, 0.20765132187383303, 0.23308985713997474, 0.255419997623915, 0.27483275082318387, 0.2915602153346699, 0.3058529898076245, 0.3179663161393713, 0.32815116428146246, 0.26757753234987586, 0.26202950660172636, 0.2588667336378688, 0.2582313466941089, 0.259911993687539, 0.2633720015787707, 0.26785972023409466, 0.27255198852889145, 0.27668085727462344, 0.2796188779009825, 0.2809238285290606, 0.28035630308657283, 0.2778843209620974, 0.27368367826207685, 0.2681349884032485, 0.2618098394682657, 0.255430753893888, 0.24978684434573753, 0.24559710205235127, 0.24334208363217968, 0.2431215857062274, 0.24460666113553736, 0.24711291736104218, 0.24975456882376146, 0.2516038833679687, 0.2518001681698227, 0.2495957002705054, 0.24435706467997176, 0.23554893080437506, 0.22272145788753564, 0.20551278389779867, 0.18367039358492496, 0.15709116739972073, 0.1258791191200301, 0.09042322740464531, 0.05152922218863897, 0.011746073897683954, 0.03335893009079843, 0.07421115930525428, 0.11307286034098325, 0.14896321221984088, 0.1814648872934901, 0.21045534016226342, 0.2359986655831696, 0.25827307257047916, 0.27752092381229715, 0.29401557002284723, 0.3080401780429047, 0.31987457605278713, 0.32978717284100284, 0.278550925970884, 0.2737811473170115, 0.271030184737614, 0.2703948195716925, 0.27169235687240406, 0.27448221065656314, 0.27814722854022383, 0.2820027182682525, 0.285398423992233, 0.28779328122266024, 0.2888000397070966, 0.28820706927003314, 0.2859867118129795, 0.2822962866386229, 0.2774721073539448, 0.27201048598378474, 0.26652468290081294, 0.26166667800640403, 0.25801237990912823, 0.25593004241638995, 0.2554744145480755, 0.2563522775952689, 0.25797584843530824, 0.2595767032630805, 0.26032897909804165, 0.25944074230950964, 0.25620033125663527, 0.2499875760516308, 0.24026880104095222, 0.2265925829132539, 0.20859707731377966, 0.18603417251327375, 0.15881302568672062, 0.12706767772311334, 0.09127244568316334, 0.05258815602813744, 0.017441698145246348, 0.037715770112815156, 0.07763034995132434, 0.11640622546164622, 0.1523256613967193, 0.18482963507944125, 0.21375558468116812, 0.23916139701871414, 0.2612344432539812, 0.28023338888646304, 0.29645008486480723, 0.31018523047141233, 0.32173338536581536, 0.33137409571110876, 0.28863520903373596, 0.28452867462851933, 0.28212880621089254, 0.2815001796013159, 0.28248484310586364, 0.28471913966913964, 0.2876946559453353, 0.29084195640381927, 0.29361264712147145, 0.2955437315934609, 0.29629975028817723, 0.2956960827360645, 0.29370919567017, 0.29047782072747935, 0.28629500302567906, 0.2815864530075183, 0.2768676578244883, 0.27267354920484554, 0.2694629866326854, 0.2675154183558985, 0.26685100364007164, 0.26720511517067697, 0.2680675101080049, 0.2687674161780517, 0.2685692153598181, 0.2667485549774832, 0.26263685793947333, 0.2556391441016342, 0.24523841729579576, 0.231000365681282, 0.2125890435978659, 0.1898018031017171, 0.16263436513772128, 0.13140580347017927, 0.0970654526456479, 0.06237559265323788, 0.038801176477144594, 0.05210981531042624, 0.08612587811591252, 0.1226507380056377, 0.15745066001503905, 0.18927218327030518, 0.2177036085054124, 0.242697698473099, 0.26439580457938144, 0.2830385414353817, 0.29891351744377626, 0.3123235327932316, 0.3235674094204023, 0.33292883827395314];\n",
       "const xvar = \"lr\";\n",
       "const yvar = \"momentum\";\n",
       "const x_is_log = true;\n",
       "const y_is_log = false;\n",
       "\n",
       "const GREEN_SCALE = [[247, 252, 253], [229, 245, 249], [204, 236, 230], [153, 216, 201], [102, 194, 164], [65, 174, 118], [35, 139, 69], [0, 109, 44], [0, 68, 27]];\n",
       "const GREEN_PINK_SCALE = [[142, 1, 82], [197, 27, 125], [222, 119, 174], [241, 182, 218], [253, 224, 239], [247, 247, 247], [230, 245, 208], [184, 225, 134], [127, 188, 65], [77, 146, 33], [39, 100, 25]];\n",
       "const BLUE_SCALE = [[255, 247, 251], [236, 231, 242], [208, 209, 230], [166, 189, 219], [116, 169, 207], [54, 144, 192], [5, 112, 176], [3, 78, 123]];\n",
       "\n",
       "// format data\n",
       "const res = relativize_data(f, sd, rel, arm_data, metric);\n",
       "const f_final = res[0];\n",
       "const sd_final = res[1];\n",
       "\n",
       "// calculate max of abs(outcome), used for colorscale\n",
       "const f_absmax = Math.max(Math.abs(Math.min(...f_final)), Math.max(...f_final));\n",
       "\n",
       "// transform to nested array\n",
       "var f_plt = [];\n",
       "while(f_final.length) f_plt.push(f_final.splice(0, density));\n",
       "var sd_plt = [];\n",
       "while(sd_final.length) sd_plt.push(sd_final.splice(0, density));\n",
       "\n",
       "// create traces\n",
       "const CONTOUR_CONFIG = {\n",
       "  autocolorscale: false,\n",
       "  autocontour: true,\n",
       "  contours: {\n",
       "    coloring: 'heatmap',\n",
       "  },\n",
       "  hoverinfo: 'x+y+z',\n",
       "  ncontours: density / 2,\n",
       "  type: 'contour',\n",
       "  x: grid_x,\n",
       "  y: grid_y,\n",
       "};\n",
       "\n",
       "let f_scale;\n",
       "if (rel === true) {\n",
       "  f_scale = lower_is_better === true\n",
       "    ? GREEN_PINK_SCALE.reverse()\n",
       "    : GREEN_PINK_SCALE;\n",
       "} else {\n",
       "  f_scale = GREEN_SCALE;\n",
       "}\n",
       "\n",
       "const f_trace = {\n",
       "  colorbar: {\n",
       "    x: 0.45,\n",
       "    y: 0.5,\n",
       "    ticksuffix: rel === true ? '%' : '',\n",
       "    tickfont: {\n",
       "      size: 8,\n",
       "    },\n",
       "  },\n",
       "  colorscale: f_scale.map(\n",
       "    (v, i) => [i / (f_scale.length - 1), rgb(v)]\n",
       "  ),\n",
       "  xaxis: 'x',\n",
       "  yaxis: 'y',\n",
       "  z: f_plt,\n",
       "  // zmax and zmin are ignored if zauto is true\n",
       "  zauto: !rel,\n",
       "  zmax: f_absmax,\n",
       "  zmin: -f_absmax,\n",
       "};\n",
       "\n",
       "const sd_trace = {\n",
       "  colorbar: {\n",
       "      x: 1,\n",
       "      y: 0.5,\n",
       "      ticksuffix: rel === true ? '%' : '',\n",
       "      tickfont: {\n",
       "        size: 8,\n",
       "      },\n",
       "  },\n",
       "  colorscale: BLUE_SCALE.map(\n",
       "    (v, i) => [i / (BLUE_SCALE.length - 1), rgb(v)]\n",
       "  ),\n",
       "  xaxis: 'x2',\n",
       "  yaxis: 'y2',\n",
       "  z: sd_plt,\n",
       "};\n",
       "\n",
       "Object.keys(CONTOUR_CONFIG).forEach(key => {\n",
       "  f_trace[key] = CONTOUR_CONFIG[key];\n",
       "  sd_trace[key] = CONTOUR_CONFIG[key];\n",
       "});\n",
       "\n",
       "// get in-sample arms\n",
       "const arm_x = [];\n",
       "const arm_y = [];\n",
       "const arm_text = [];\n",
       "\n",
       "Object.keys(arm_data['in_sample']).forEach(arm_name => {\n",
       "  arm_x.push(arm_data['in_sample'][arm_name]['parameters'][xvar]);\n",
       "  arm_y.push(arm_data['in_sample'][arm_name]['parameters'][yvar]);\n",
       "  arm_text.push(arm_name);\n",
       "});\n",
       "\n",
       "// configs for in-sample arms\n",
       "const base_in_sample_arm_config = {\n",
       "  hoverinfo: 'text',\n",
       "  legendgroup: 'In-sample',\n",
       "  marker: {color: 'black', symbol: 1, opacity: 0.5},\n",
       "  mode: 'markers',\n",
       "  name: 'In-sample',\n",
       "  text: arm_text,\n",
       "  type: 'scatter',\n",
       "  x: arm_x,\n",
       "  y: arm_y,\n",
       "};\n",
       "\n",
       "const f_in_sample_arm_trace = {\n",
       "  xaxis: 'x',\n",
       "  yaxis: 'y',\n",
       "};\n",
       "\n",
       "const sd_in_sample_arm_trace = {\n",
       "  showlegend: false,\n",
       "  xaxis: 'x2',\n",
       "  yaxis: 'y2',\n",
       "};\n",
       "\n",
       "Object.keys(base_in_sample_arm_config).forEach(key => {\n",
       "  f_in_sample_arm_trace[key] = base_in_sample_arm_config[key];\n",
       "  sd_in_sample_arm_trace[key] = base_in_sample_arm_config[key];\n",
       "});\n",
       "\n",
       "const traces = [\n",
       "  f_trace,\n",
       "  sd_trace,\n",
       "  f_in_sample_arm_trace,\n",
       "  sd_in_sample_arm_trace,\n",
       "];\n",
       "\n",
       "// start symbol at 2 for candidate markers\n",
       "let i = 2;\n",
       "\n",
       "// iterate over out-of-sample arms\n",
       "Object.keys(arm_data['out_of_sample']).forEach(generator_run_name => {\n",
       "  const ax = [];\n",
       "  const ay = [];\n",
       "  const atext = [];\n",
       "\n",
       "  Object.keys(arm_data['out_of_sample'][generator_run_name]).forEach(arm_name => {\n",
       "    ax.push(\n",
       "      arm_data['out_of_sample'][generator_run_name][arm_name]['parameters'][xvar]\n",
       "    );\n",
       "    ay.push(\n",
       "      arm_data['out_of_sample'][generator_run_name][arm_name]['parameters'][yvar]\n",
       "    );\n",
       "    atext.push('<em>Candidate ' + arm_name + '</em>');\n",
       "  });\n",
       "\n",
       "  traces.push({\n",
       "    hoverinfo: 'text',\n",
       "    legendgroup: generator_run_name,\n",
       "    marker: {color: 'black', symbol: i, opacity: 0.5},\n",
       "    mode: 'markers',\n",
       "    name: generator_run_name,\n",
       "    text: atext,\n",
       "    type: 'scatter',\n",
       "    xaxis: 'x',\n",
       "    x: ax,\n",
       "    yaxis: 'y',\n",
       "    y: ay,\n",
       "  });\n",
       "  traces.push({\n",
       "    hoverinfo: 'text',\n",
       "    legendgroup: generator_run_name,\n",
       "    marker: {color: 'black', symbol: i, opacity: 0.5},\n",
       "    mode: 'markers',\n",
       "    name: 'In-sample',\n",
       "    showlegend: false,\n",
       "    text: atext,\n",
       "    type: 'scatter',\n",
       "    x: ax,\n",
       "    xaxis: 'x2',\n",
       "    y: ay,\n",
       "    yaxis: 'y2',\n",
       "  });\n",
       "  i += 1;\n",
       "});\n",
       "\n",
       "// layout\n",
       "const xrange = axis_range(grid_x, x_is_log);\n",
       "const yrange = axis_range(grid_y, y_is_log);\n",
       "\n",
       "const xtype = x_is_log ? 'log' : 'linear';\n",
       "const ytype = y_is_log ? 'log' : 'linear';\n",
       "\n",
       "const layout = {\n",
       "  autosize: false,\n",
       "    margin: {\n",
       "      l: 35,\n",
       "      r: 35,\n",
       "      t: 35,\n",
       "      b: 100,\n",
       "      pad: 0,\n",
       "  },\n",
       "  annotations: [\n",
       "    {\n",
       "      font: {size: 14},\n",
       "      showarrow: false,\n",
       "      text: 'Mean',\n",
       "      x: 0.25,\n",
       "      xanchor: 'center',\n",
       "      xref: 'paper',\n",
       "      y: 1,\n",
       "      yanchor: 'bottom',\n",
       "      yref: 'paper',\n",
       "    },\n",
       "    {\n",
       "      font: {size: 14},\n",
       "      showarrow: false,\n",
       "      text: 'Standard Error',\n",
       "      x: 0.8,\n",
       "      xanchor: 'center',\n",
       "      xref: 'paper',\n",
       "      y: 1,\n",
       "      yanchor: 'bottom',\n",
       "      yref: 'paper',\n",
       "    },\n",
       "  ],\n",
       "  hovermode: 'closest',\n",
       "  legend: {orientation: 'h', x: 0, y: -0.25},\n",
       "  height: 450,\n",
       "  width: 950,\n",
       "  xaxis: {\n",
       "    anchor: 'y',\n",
       "    autorange: false,\n",
       "    domain: [0.05, 0.45],\n",
       "    exponentformat: 'e',\n",
       "    range: xrange,\n",
       "    tickfont: {size: 11},\n",
       "    tickmode: 'auto',\n",
       "    title: xvar,\n",
       "    type: xtype,\n",
       "  },\n",
       "  xaxis2: {\n",
       "    anchor: 'y2',\n",
       "    autorange: false,\n",
       "    domain: [0.60, 1],\n",
       "    exponentformat: 'e',\n",
       "    range: xrange,\n",
       "    tickfont: {size: 11},\n",
       "    tickmode: 'auto',\n",
       "    title: xvar,\n",
       "    type: xtype,\n",
       "  },\n",
       "  yaxis: {\n",
       "    anchor: 'x',\n",
       "    autorange: false,\n",
       "    domain: [0, 1],\n",
       "    exponentformat: 'e',\n",
       "    range: yrange,\n",
       "    tickfont: {size: 11},\n",
       "    tickmode: 'auto',\n",
       "    title: yvar,\n",
       "    type: ytype,\n",
       "  },\n",
       "  yaxis2: {\n",
       "    anchor: 'x2',\n",
       "    autorange: false,\n",
       "    domain: [0, 1],\n",
       "    exponentformat: 'e',\n",
       "    range: yrange,\n",
       "    tickfont: {size: 11},\n",
       "    tickmode: 'auto',\n",
       "    type: ytype,\n",
       "  },\n",
       "};\n",
       "\n",
       "Plotly.newPlot(\"3006a4ead7a44ab18cd5291e3c70ad90\", traces, layout, {showLink: false});\n",
       "});</script>"
      ]
     },
     "metadata": {},
     "output_type": "display_data"
    }
   ],
   "source": [
    "render(plot_contour(model=model, param_x='lr', param_y='momentum', metric_name='accuracy'))"
   ]
  },
  {
   "cell_type": "markdown",
   "metadata": {},
   "source": [
    "## 5. Plot best objective as function of the iteration\n",
    "\n",
    "Show the model accuracy improving as we identify better hyperparameters."
   ]
  },
  {
   "cell_type": "code",
   "execution_count": 9,
   "metadata": {},
   "outputs": [
    {
     "data": {
      "text/html": [
       "<div id=\"9283f25ff6ed4b579f0d4875bede4dd8\" style=\"width: 100%;\" class=\"plotly-graph-div\"></div><script type='text/javascript'>/*\n",
       " * Copyright (c) Facebook, Inc. and its affiliates. All Rights Reserved.\n",
       " */\n",
       "\n",
       "require(['plotly'], function(Plotly) {\n",
       "  window.PLOTLYENV = window.PLOTLYENV || {};\n",
       "  window.PLOTLYENV.BASE_URL = 'https://plot.ly';\n",
       "  /*\n",
       " * Copyright (c) Facebook, Inc. and its affiliates. All Rights Reserved.\n",
       " */\n",
       "\n",
       "Plotly.newPlot(\n",
       "  \"9283f25ff6ed4b579f0d4875bede4dd8\",\n",
       "  [{\"hoverinfo\": \"none\", \"legendgroup\": \"\", \"line\": {\"width\": 0}, \"mode\": \"lines\", \"showlegend\": false, \"x\": [1, 2, 3, 4, 5, 6, 7, 8, 9, 10, 11, 12, 13, 14, 15, 16, 17, 18, 19, 20], \"y\": [10.983333333333334, 10.983333333333334, 38.53333333333334, 44.666666666666664, 44.666666666666664, 44.666666666666664, 67.45, 80.85, 87.78333333333333, 90.38333333333334, 91.51666666666667, 91.83333333333333, 92.01666666666667, 92.01666666666667, 92.01666666666667, 92.4, 92.78333333333333, 93.10000000000001, 93.10000000000001, 93.10000000000001], \"type\": \"scatter\"}, {\"fill\": \"tonexty\", \"fillcolor\": \"rgba(128,177,211,0.3)\", \"legendgroup\": \"mean\", \"line\": {\"color\": \"rgba(128,177,211,1)\"}, \"mode\": \"lines\", \"name\": \"mean\", \"x\": [1, 2, 3, 4, 5, 6, 7, 8, 9, 10, 11, 12, 13, 14, 15, 16, 17, 18, 19, 20], \"y\": [10.983333333333334, 10.983333333333334, 38.53333333333334, 44.666666666666664, 44.666666666666664, 44.666666666666664, 67.45, 80.85, 87.78333333333333, 90.38333333333334, 91.51666666666667, 91.83333333333333, 92.01666666666667, 92.01666666666667, 92.01666666666667, 92.4, 92.78333333333333, 93.10000000000001, 93.10000000000001, 93.10000000000001], \"type\": \"scatter\"}, {\"fill\": \"tonexty\", \"fillcolor\": \"rgba(128,177,211,0.3)\", \"hoverinfo\": \"none\", \"legendgroup\": \"\", \"line\": {\"width\": 0}, \"mode\": \"lines\", \"showlegend\": false, \"x\": [1, 2, 3, 4, 5, 6, 7, 8, 9, 10, 11, 12, 13, 14, 15, 16, 17, 18, 19, 20], \"y\": [10.983333333333334, 10.983333333333334, 38.53333333333334, 44.666666666666664, 44.666666666666664, 44.666666666666664, 67.45, 80.85, 87.78333333333333, 90.38333333333334, 91.51666666666667, 91.83333333333333, 92.01666666666667, 92.01666666666667, 92.01666666666667, 92.4, 92.78333333333333, 93.10000000000001, 93.10000000000001, 93.10000000000001], \"type\": \"scatter\"}],\n",
       "  {\"showlegend\": true, \"title\": {\"text\": \"Model performance vs. # of iterations\"}, \"xaxis\": {\"title\": {\"text\": \"Iteration\"}}, \"yaxis\": {\"title\": {\"text\": \"Classification Accuracy, %\"}}, \"template\": {\"data\": {\"barpolar\": [{\"marker\": {\"line\": {\"color\": \"#E5ECF6\", \"width\": 0.5}}, \"type\": \"barpolar\"}], \"bar\": [{\"error_x\": {\"color\": \"#2a3f5f\"}, \"error_y\": {\"color\": \"#2a3f5f\"}, \"marker\": {\"line\": {\"color\": \"#E5ECF6\", \"width\": 0.5}}, \"type\": \"bar\"}], \"carpet\": [{\"aaxis\": {\"endlinecolor\": \"#2a3f5f\", \"gridcolor\": \"white\", \"linecolor\": \"white\", \"minorgridcolor\": \"white\", \"startlinecolor\": \"#2a3f5f\"}, \"baxis\": {\"endlinecolor\": \"#2a3f5f\", \"gridcolor\": \"white\", \"linecolor\": \"white\", \"minorgridcolor\": \"white\", \"startlinecolor\": \"#2a3f5f\"}, \"type\": \"carpet\"}], \"choropleth\": [{\"colorbar\": {\"outlinewidth\": 0, \"ticks\": \"\"}, \"type\": \"choropleth\"}], \"contourcarpet\": [{\"colorbar\": {\"outlinewidth\": 0, \"ticks\": \"\"}, \"type\": \"contourcarpet\"}], \"contour\": [{\"colorbar\": {\"outlinewidth\": 0, \"ticks\": \"\"}, \"colorscale\": [[0.0, \"#0d0887\"], [0.1111111111111111, \"#46039f\"], [0.2222222222222222, \"#7201a8\"], [0.3333333333333333, \"#9c179e\"], [0.4444444444444444, \"#bd3786\"], [0.5555555555555556, \"#d8576b\"], [0.6666666666666666, \"#ed7953\"], [0.7777777777777778, \"#fb9f3a\"], [0.8888888888888888, \"#fdca26\"], [1.0, \"#f0f921\"]], \"type\": \"contour\"}], \"heatmapgl\": [{\"colorbar\": {\"outlinewidth\": 0, \"ticks\": \"\"}, \"colorscale\": [[0.0, \"#0d0887\"], [0.1111111111111111, \"#46039f\"], [0.2222222222222222, \"#7201a8\"], [0.3333333333333333, \"#9c179e\"], [0.4444444444444444, \"#bd3786\"], [0.5555555555555556, \"#d8576b\"], [0.6666666666666666, \"#ed7953\"], [0.7777777777777778, \"#fb9f3a\"], [0.8888888888888888, \"#fdca26\"], [1.0, \"#f0f921\"]], \"type\": \"heatmapgl\"}], \"heatmap\": [{\"colorbar\": {\"outlinewidth\": 0, \"ticks\": \"\"}, \"colorscale\": [[0.0, \"#0d0887\"], [0.1111111111111111, \"#46039f\"], [0.2222222222222222, \"#7201a8\"], [0.3333333333333333, \"#9c179e\"], [0.4444444444444444, \"#bd3786\"], [0.5555555555555556, \"#d8576b\"], [0.6666666666666666, \"#ed7953\"], [0.7777777777777778, \"#fb9f3a\"], [0.8888888888888888, \"#fdca26\"], [1.0, \"#f0f921\"]], \"type\": \"heatmap\"}], \"histogram2dcontour\": [{\"colorbar\": {\"outlinewidth\": 0, \"ticks\": \"\"}, \"colorscale\": [[0.0, \"#0d0887\"], [0.1111111111111111, \"#46039f\"], [0.2222222222222222, \"#7201a8\"], [0.3333333333333333, \"#9c179e\"], [0.4444444444444444, \"#bd3786\"], [0.5555555555555556, \"#d8576b\"], [0.6666666666666666, \"#ed7953\"], [0.7777777777777778, \"#fb9f3a\"], [0.8888888888888888, \"#fdca26\"], [1.0, \"#f0f921\"]], \"type\": \"histogram2dcontour\"}], \"histogram2d\": [{\"colorbar\": {\"outlinewidth\": 0, \"ticks\": \"\"}, \"colorscale\": [[0.0, \"#0d0887\"], [0.1111111111111111, \"#46039f\"], [0.2222222222222222, \"#7201a8\"], [0.3333333333333333, \"#9c179e\"], [0.4444444444444444, \"#bd3786\"], [0.5555555555555556, \"#d8576b\"], [0.6666666666666666, \"#ed7953\"], [0.7777777777777778, \"#fb9f3a\"], [0.8888888888888888, \"#fdca26\"], [1.0, \"#f0f921\"]], \"type\": \"histogram2d\"}], \"histogram\": [{\"marker\": {\"colorbar\": {\"outlinewidth\": 0, \"ticks\": \"\"}}, \"type\": \"histogram\"}], \"mesh3d\": [{\"colorbar\": {\"outlinewidth\": 0, \"ticks\": \"\"}, \"type\": \"mesh3d\"}], \"parcoords\": [{\"line\": {\"colorbar\": {\"outlinewidth\": 0, \"ticks\": \"\"}}, \"type\": \"parcoords\"}], \"scatter3d\": [{\"line\": {\"colorbar\": {\"outlinewidth\": 0, \"ticks\": \"\"}}, \"marker\": {\"colorbar\": {\"outlinewidth\": 0, \"ticks\": \"\"}}, \"type\": \"scatter3d\"}], \"scattercarpet\": [{\"marker\": {\"colorbar\": {\"outlinewidth\": 0, \"ticks\": \"\"}}, \"type\": \"scattercarpet\"}], \"scattergeo\": [{\"marker\": {\"colorbar\": {\"outlinewidth\": 0, \"ticks\": \"\"}}, \"type\": \"scattergeo\"}], \"scattergl\": [{\"marker\": {\"colorbar\": {\"outlinewidth\": 0, \"ticks\": \"\"}}, \"type\": \"scattergl\"}], \"scattermapbox\": [{\"marker\": {\"colorbar\": {\"outlinewidth\": 0, \"ticks\": \"\"}}, \"type\": \"scattermapbox\"}], \"scatterpolargl\": [{\"marker\": {\"colorbar\": {\"outlinewidth\": 0, \"ticks\": \"\"}}, \"type\": \"scatterpolargl\"}], \"scatterpolar\": [{\"marker\": {\"colorbar\": {\"outlinewidth\": 0, \"ticks\": \"\"}}, \"type\": \"scatterpolar\"}], \"scatter\": [{\"marker\": {\"colorbar\": {\"outlinewidth\": 0, \"ticks\": \"\"}}, \"type\": \"scatter\"}], \"scatterternary\": [{\"marker\": {\"colorbar\": {\"outlinewidth\": 0, \"ticks\": \"\"}}, \"type\": \"scatterternary\"}], \"surface\": [{\"colorbar\": {\"outlinewidth\": 0, \"ticks\": \"\"}, \"colorscale\": [[0.0, \"#0d0887\"], [0.1111111111111111, \"#46039f\"], [0.2222222222222222, \"#7201a8\"], [0.3333333333333333, \"#9c179e\"], [0.4444444444444444, \"#bd3786\"], [0.5555555555555556, \"#d8576b\"], [0.6666666666666666, \"#ed7953\"], [0.7777777777777778, \"#fb9f3a\"], [0.8888888888888888, \"#fdca26\"], [1.0, \"#f0f921\"]], \"type\": \"surface\"}], \"table\": [{\"cells\": {\"fill\": {\"color\": \"#EBF0F8\"}, \"line\": {\"color\": \"white\"}}, \"header\": {\"fill\": {\"color\": \"#C8D4E3\"}, \"line\": {\"color\": \"white\"}}, \"type\": \"table\"}]}, \"layout\": {\"annotationdefaults\": {\"arrowcolor\": \"#2a3f5f\", \"arrowhead\": 0, \"arrowwidth\": 1}, \"colorscale\": {\"diverging\": [[0, \"#8e0152\"], [0.1, \"#c51b7d\"], [0.2, \"#de77ae\"], [0.3, \"#f1b6da\"], [0.4, \"#fde0ef\"], [0.5, \"#f7f7f7\"], [0.6, \"#e6f5d0\"], [0.7, \"#b8e186\"], [0.8, \"#7fbc41\"], [0.9, \"#4d9221\"], [1, \"#276419\"]], \"sequential\": [[0.0, \"#0d0887\"], [0.1111111111111111, \"#46039f\"], [0.2222222222222222, \"#7201a8\"], [0.3333333333333333, \"#9c179e\"], [0.4444444444444444, \"#bd3786\"], [0.5555555555555556, \"#d8576b\"], [0.6666666666666666, \"#ed7953\"], [0.7777777777777778, \"#fb9f3a\"], [0.8888888888888888, \"#fdca26\"], [1.0, \"#f0f921\"]], \"sequentialminus\": [[0.0, \"#0d0887\"], [0.1111111111111111, \"#46039f\"], [0.2222222222222222, \"#7201a8\"], [0.3333333333333333, \"#9c179e\"], [0.4444444444444444, \"#bd3786\"], [0.5555555555555556, \"#d8576b\"], [0.6666666666666666, \"#ed7953\"], [0.7777777777777778, \"#fb9f3a\"], [0.8888888888888888, \"#fdca26\"], [1.0, \"#f0f921\"]]}, \"colorway\": [\"#636efa\", \"#EF553B\", \"#00cc96\", \"#ab63fa\", \"#FFA15A\", \"#19d3f3\", \"#FF6692\", \"#B6E880\", \"#FF97FF\", \"#FECB52\"], \"font\": {\"color\": \"#2a3f5f\"}, \"geo\": {\"bgcolor\": \"white\", \"lakecolor\": \"white\", \"landcolor\": \"#E5ECF6\", \"showlakes\": true, \"showland\": true, \"subunitcolor\": \"white\"}, \"hoverlabel\": {\"align\": \"left\"}, \"hovermode\": \"closest\", \"mapbox\": {\"style\": \"light\"}, \"paper_bgcolor\": \"white\", \"plot_bgcolor\": \"#E5ECF6\", \"polar\": {\"angularaxis\": {\"gridcolor\": \"white\", \"linecolor\": \"white\", \"ticks\": \"\"}, \"bgcolor\": \"#E5ECF6\", \"radialaxis\": {\"gridcolor\": \"white\", \"linecolor\": \"white\", \"ticks\": \"\"}}, \"scene\": {\"xaxis\": {\"backgroundcolor\": \"#E5ECF6\", \"gridcolor\": \"white\", \"gridwidth\": 2, \"linecolor\": \"white\", \"showbackground\": true, \"ticks\": \"\", \"zerolinecolor\": \"white\"}, \"yaxis\": {\"backgroundcolor\": \"#E5ECF6\", \"gridcolor\": \"white\", \"gridwidth\": 2, \"linecolor\": \"white\", \"showbackground\": true, \"ticks\": \"\", \"zerolinecolor\": \"white\"}, \"zaxis\": {\"backgroundcolor\": \"#E5ECF6\", \"gridcolor\": \"white\", \"gridwidth\": 2, \"linecolor\": \"white\", \"showbackground\": true, \"ticks\": \"\", \"zerolinecolor\": \"white\"}}, \"shapedefaults\": {\"line\": {\"color\": \"#2a3f5f\"}}, \"ternary\": {\"aaxis\": {\"gridcolor\": \"white\", \"linecolor\": \"white\", \"ticks\": \"\"}, \"baxis\": {\"gridcolor\": \"white\", \"linecolor\": \"white\", \"ticks\": \"\"}, \"bgcolor\": \"#E5ECF6\", \"caxis\": {\"gridcolor\": \"white\", \"linecolor\": \"white\", \"ticks\": \"\"}}, \"title\": {\"x\": 0.05}, \"xaxis\": {\"automargin\": true, \"gridcolor\": \"white\", \"linecolor\": \"white\", \"ticks\": \"\", \"zerolinecolor\": \"white\", \"zerolinewidth\": 2}, \"yaxis\": {\"automargin\": true, \"gridcolor\": \"white\", \"linecolor\": \"white\", \"ticks\": \"\", \"zerolinecolor\": \"white\", \"zerolinewidth\": 2}}}},\n",
       "  {\"showLink\": false}\n",
       ");\n",
       "});</script>"
      ]
     },
     "metadata": {},
     "output_type": "display_data"
    }
   ],
   "source": [
    "# `plot_single_method` expects a 2-d array of means, because it expects to average means from multiple \n",
    "# optimization runs, so we wrap out best objectives array in another array.\n",
    "best_objectives = np.array([[trial.objective_mean*100 for trial in experiment.trials.values()]])\n",
    "best_objective_plot = optimization_trace_single_method(\n",
    "    y=np.maximum.accumulate(best_objectives, axis=1),\n",
    "    title=\"Model performance vs. # of iterations\",\n",
    "    ylabel=\"Classification Accuracy, %\",\n",
    ")\n",
    "render(best_objective_plot)"
   ]
  },
  {
   "cell_type": "markdown",
   "metadata": {},
   "source": [
    "## 6. Train CNN with best hyperparameters and evaluate on test set\n",
    "Note that the resulting accuracy on the test set might not be exactly the same as the maximum accuracy achieved on the evaluation set throughout optimization. "
   ]
  },
  {
   "cell_type": "code",
   "execution_count": 10,
   "metadata": {},
   "outputs": [
    {
     "data": {
      "text/plain": [
       "Arm(name='17_0', parameters={'lr': 0.0001864749646699676, 'momentum': 0.6825798946426482})"
      ]
     },
     "execution_count": 10,
     "metadata": {},
     "output_type": "execute_result"
    }
   ],
   "source": [
    "data = experiment.fetch_data()\n",
    "df = data.df\n",
    "best_arm_name = df.arm_name[df['mean'] == df['mean'].max()].values[0]\n",
    "best_arm = experiment.arms_by_name[best_arm_name]\n",
    "best_arm"
   ]
  },
  {
   "cell_type": "code",
   "execution_count": 11,
   "metadata": {
    "collapsed": true
   },
   "outputs": [],
   "source": [
    "combined_train_valid_set = torch.utils.data.ConcatDataset([\n",
    "    train_loader.dataset.dataset, \n",
    "    valid_loader.dataset.dataset,\n",
    "])\n",
    "combined_train_valid_loader = torch.utils.data.DataLoader(\n",
    "    combined_train_valid_set, \n",
    "    batch_size=BATCH_SIZE, \n",
    "    shuffle=True,\n",
    ")"
   ]
  },
  {
   "cell_type": "code",
   "execution_count": 12,
   "metadata": {
    "collapsed": true
   },
   "outputs": [],
   "source": [
    "net = train(\n",
    "    net=CNN(),\n",
    "    train_loader=combined_train_valid_loader, \n",
    "    parameters=best_arm.parameters,\n",
    "    dtype=dtype,\n",
    "    device=device,\n",
    ")\n",
    "test_accuracy = evaluate(\n",
    "    net=net,\n",
    "    data_loader=test_loader,\n",
    "    dtype=dtype,\n",
    "    device=device,\n",
    ")"
   ]
  },
  {
   "cell_type": "code",
   "execution_count": 13,
   "metadata": {},
   "outputs": [
    {
     "name": "stdout",
     "output_type": "stream",
     "text": [
      "Classification Accuracy (test set): 96.96%\n"
     ]
    }
   ],
   "source": [
    "print(f\"Classification Accuracy (test set): {round(test_accuracy*100, 2)}%\")"
   ]
  }
 ],
 "metadata": {
  "kernelspec": {
   "display_name": "python3",
   "language": "python",
   "name": "python3"
  },
  "language_info": {
   "codemirror_mode": {
    "name": "ipython",
    "version": 3
   },
   "file_extension": ".py",
   "mimetype": "text/x-python",
   "name": "python",
   "nbconvert_exporter": "python",
   "pygments_lexer": "ipython3",
   "version": "3.6.7"
  }
 },
 "nbformat": 4,
 "nbformat_minor": 2
}
