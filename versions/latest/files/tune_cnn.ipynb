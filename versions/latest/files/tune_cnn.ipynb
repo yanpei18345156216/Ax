{
 "cells": [
  {
   "cell_type": "markdown",
   "metadata": {},
   "source": [
    "# Tune a CNN on MNIST\n",
    "\n",
    "This tutorial walks through using Ax to tune two hyperparameters (learning rate and momentum) for a PyTorch CNN on the MNIST dataset trained using SGD with momentum.\n"
   ]
  },
  {
   "cell_type": "code",
   "execution_count": 1,
   "metadata": {},
   "outputs": [
    {
     "data": {
      "text/html": [
       "<script type='text/javascript'>/*\n",
       " * Copyright (c) Facebook, Inc. and its affiliates. All Rights Reserved.\n",
       " */\n",
       "\n",
       "requirejs.config({\n",
       "  paths: {\n",
       "    plotly: ['https://cdn.plot.ly/plotly-latest.min'],\n",
       "  },\n",
       "});\n",
       "if (!window.Plotly) {\n",
       "  require(['plotly'], function(plotly) {\n",
       "    window.Plotly = plotly;\n",
       "  });\n",
       "}\n",
       "/*\n",
       " * Copyright (c) Facebook, Inc. and its affiliates. All Rights Reserved.\n",
       " */\n",
       "\n",
       "// helper functions used across multiple plots\n",
       "function rgb(rgb_array) {\n",
       "  return 'rgb(' + rgb_array.join() + ')';\n",
       "}\n",
       "\n",
       "function copy_and_reverse(arr) {\n",
       "  const copy = arr.slice();\n",
       "  copy.reverse();\n",
       "  return copy;\n",
       "}\n",
       "\n",
       "function axis_range(grid, is_log) {\n",
       "  return is_log\n",
       "    ? [Math.log10(Math.min(...grid)), Math.log10(Math.max(...grid))]\n",
       "    : [Math.min(...grid), Math.max(...grid)];\n",
       "}\n",
       "\n",
       "function relativize_data(f, sd, rel, arm_data, metric) {\n",
       "  // if relative, extract status quo & compute ratio\n",
       "  const f_final = rel === true ? [] : f;\n",
       "  const sd_final = rel === true ? [] : sd;\n",
       "\n",
       "  if (rel === true) {\n",
       "    const f_sq =\n",
       "      arm_data['in_sample'][arm_data['status_quo_name']]['y'][metric];\n",
       "    const sd_sq =\n",
       "      arm_data['in_sample'][arm_data['status_quo_name']]['se'][metric];\n",
       "\n",
       "    for (let i = 0; i < f.length; i++) {\n",
       "      res = relativize(f[i], sd[i], f_sq, sd_sq);\n",
       "      f_final.push(100 * res[0]);\n",
       "      sd_final.push(100 * res[1]);\n",
       "    }\n",
       "  }\n",
       "\n",
       "  return [f_final, sd_final];\n",
       "}\n",
       "\n",
       "function relativize(m_t, sem_t, m_c, sem_c) {\n",
       "  r_hat =\n",
       "    (m_t - m_c) / Math.abs(m_c) -\n",
       "    (Math.pow(sem_c, 2) * m_t) / Math.pow(Math.abs(m_c), 3);\n",
       "  variance =\n",
       "    (Math.pow(sem_t, 2) + Math.pow((m_t / m_c) * sem_c, 2)) / Math.pow(m_c, 2);\n",
       "  return [r_hat, Math.sqrt(variance)];\n",
       "}\n",
       "\n",
       "function slice_config_to_trace(\n",
       "  arm_data,\n",
       "  arm_name_to_parameters,\n",
       "  f,\n",
       "  fit_data,\n",
       "  grid,\n",
       "  metric,\n",
       "  param,\n",
       "  rel,\n",
       "  setx,\n",
       "  sd,\n",
       "  is_log,\n",
       "  visible,\n",
       ") {\n",
       "  // format data\n",
       "  const res = relativize_data(f, sd, rel, arm_data, metric);\n",
       "  const f_final = res[0];\n",
       "  const sd_final = res[1];\n",
       "\n",
       "  // get data for standard deviation fill plot\n",
       "  const sd_upper = [];\n",
       "  const sd_lower = [];\n",
       "  for (let i = 0; i < sd.length; i++) {\n",
       "    sd_upper.push(f_final[i] + 2 * sd_final[i]);\n",
       "    sd_lower.push(f_final[i] - 2 * sd_final[i]);\n",
       "  }\n",
       "  const grid_rev = copy_and_reverse(grid);\n",
       "  const sd_lower_rev = copy_and_reverse(sd_lower);\n",
       "  const sd_x = grid.concat(grid_rev);\n",
       "  const sd_y = sd_upper.concat(sd_lower_rev);\n",
       "\n",
       "  // get data for observed arms and error bars\n",
       "  const arm_x = [];\n",
       "  const arm_y = [];\n",
       "  const arm_sem = [];\n",
       "  fit_data.forEach(row => {\n",
       "    parameters = arm_name_to_parameters[row['arm_name']];\n",
       "    plot = true;\n",
       "    Object.keys(setx).forEach(p => {\n",
       "      if (p !== param && parameters[p] !== setx[p]) {\n",
       "        plot = false;\n",
       "      }\n",
       "    });\n",
       "    if (plot === true) {\n",
       "      arm_x.push(parameters[param]);\n",
       "      arm_y.push(row['mean']);\n",
       "      arm_sem.push(row['sem']);\n",
       "    }\n",
       "  });\n",
       "\n",
       "  const arm_res = relativize_data(arm_y, arm_sem, rel, arm_data, metric);\n",
       "  const arm_y_final = arm_res[0];\n",
       "  const arm_sem_final = arm_res[1].map(x => x * 2);\n",
       "\n",
       "  // create traces\n",
       "  const f_trace = {\n",
       "    x: grid,\n",
       "    y: f_final,\n",
       "    showlegend: false,\n",
       "    hoverinfo: 'x+y',\n",
       "    line: {\n",
       "      color: 'rgba(128, 177, 211, 1)',\n",
       "    },\n",
       "    visible: visible,\n",
       "  };\n",
       "\n",
       "  const arms_trace = {\n",
       "    x: arm_x,\n",
       "    y: arm_y_final,\n",
       "    mode: 'markers',\n",
       "    error_y: {\n",
       "      type: 'data',\n",
       "      array: arm_sem_final,\n",
       "      visible: true,\n",
       "      color: 'black',\n",
       "    },\n",
       "    line: {\n",
       "      color: 'black',\n",
       "    },\n",
       "    showlegend: false,\n",
       "    hoverinfo: 'x+y',\n",
       "    visible: visible,\n",
       "  };\n",
       "\n",
       "  const sd_trace = {\n",
       "    x: sd_x,\n",
       "    y: sd_y,\n",
       "    fill: 'toself',\n",
       "    fillcolor: 'rgba(128, 177, 211, 0.2)',\n",
       "    line: {\n",
       "      color: 'transparent',\n",
       "    },\n",
       "    showlegend: false,\n",
       "    hoverinfo: 'none',\n",
       "    visible: visible,\n",
       "  };\n",
       "\n",
       "  traces = [sd_trace, f_trace, arms_trace];\n",
       "\n",
       "  // iterate over out-of-sample arms\n",
       "  let i = 1;\n",
       "  Object.keys(arm_data['out_of_sample']).forEach(generator_run_name => {\n",
       "    const ax = [];\n",
       "    const ay = [];\n",
       "    const asem = [];\n",
       "    const atext = [];\n",
       "\n",
       "    Object.keys(arm_data['out_of_sample'][generator_run_name]).forEach(\n",
       "      arm_name => {\n",
       "        const parameters =\n",
       "          arm_data['out_of_sample'][generator_run_name][arm_name]['parameters'];\n",
       "        plot = true;\n",
       "        Object.keys(setx).forEach(p => {\n",
       "          if (p !== param && parameters[p] !== setx[p]) {\n",
       "            plot = false;\n",
       "          }\n",
       "        });\n",
       "        if (plot === true) {\n",
       "          ax.push(parameters[param]);\n",
       "          ay.push(\n",
       "            arm_data['out_of_sample'][generator_run_name][arm_name]['y_hat'][\n",
       "              metric\n",
       "            ],\n",
       "          );\n",
       "          asem.push(\n",
       "            arm_data['out_of_sample'][generator_run_name][arm_name]['se_hat'][\n",
       "              metric\n",
       "            ],\n",
       "          );\n",
       "          atext.push('<em>Candidate ' + arm_name + '</em>');\n",
       "        }\n",
       "      },\n",
       "    );\n",
       "\n",
       "    const out_of_sample_arm_res = relativize_data(\n",
       "      ay,\n",
       "      asem,\n",
       "      rel,\n",
       "      arm_data,\n",
       "      metric,\n",
       "    );\n",
       "    const ay_final = out_of_sample_arm_res[0];\n",
       "    const asem_final = out_of_sample_arm_res[1].map(x => x * 2);\n",
       "\n",
       "    traces.push({\n",
       "      hoverinfo: 'text',\n",
       "      legendgroup: generator_run_name,\n",
       "      marker: {color: 'black', symbol: i, opacity: 0.5},\n",
       "      mode: 'markers',\n",
       "      error_y: {\n",
       "        type: 'data',\n",
       "        array: asem_final,\n",
       "        visible: true,\n",
       "        color: 'black',\n",
       "      },\n",
       "      name: generator_run_name,\n",
       "      text: atext,\n",
       "      type: 'scatter',\n",
       "      xaxis: 'x',\n",
       "      x: ax,\n",
       "      yaxis: 'y',\n",
       "      y: ay_final,\n",
       "      visible: visible,\n",
       "    });\n",
       "\n",
       "    i += 1;\n",
       "  });\n",
       "  return traces;\n",
       "}\n",
       "</script>"
      ]
     },
     "metadata": {},
     "output_type": "display_data"
    },
    {
     "name": "stderr",
     "output_type": "stream",
     "text": [
      "[INFO 08-20 04:16:35] ipy_plotting: Injecting Plotly library into cell. Do not overwrite or delete cell.\n"
     ]
    }
   ],
   "source": [
    "import torch\n",
    "import numpy as np\n",
    "\n",
    "from ax.plot.contour import plot_contour\n",
    "from ax.plot.trace import optimization_trace_single_method\n",
    "from ax.service.managed_loop import optimize\n",
    "from ax.utils.notebook.plotting import render, init_notebook_plotting\n",
    "from ax.utils.tutorials.cnn_utils import load_mnist, train, evaluate, CNN\n",
    "\n",
    "init_notebook_plotting()"
   ]
  },
  {
   "cell_type": "code",
   "execution_count": 2,
   "metadata": {
    "collapsed": true
   },
   "outputs": [],
   "source": [
    "torch.manual_seed(12345)\n",
    "dtype = torch.float\n",
    "device = torch.device(\"cuda\" if torch.cuda.is_available() else \"cpu\")"
   ]
  },
  {
   "cell_type": "markdown",
   "metadata": {},
   "source": [
    "## 1. Load MNIST data\n",
    "First, we need to load the MNIST data and partition it into training, validation, and test sets.\n",
    "\n",
    "Note: this will download the dataset if necessary."
   ]
  },
  {
   "cell_type": "code",
   "execution_count": 3,
   "metadata": {
    "scrolled": true
   },
   "outputs": [
    {
     "name": "stderr",
     "output_type": "stream",
     "text": [
      "\r",
      "0.0%"
     ]
    },
    {
     "name": "stderr",
     "output_type": "stream",
     "text": [
      "\r",
      "0.1%"
     ]
    },
    {
     "name": "stdout",
     "output_type": "stream",
     "text": [
      "Downloading http://yann.lecun.com/exdb/mnist/train-images-idx3-ubyte.gz to ./data/MNIST/raw/train-images-idx3-ubyte.gz\n"
     ]
    },
    {
     "name": "stderr",
     "output_type": "stream",
     "text": [
      "\r",
      "0.2%"
     ]
    },
    {
     "name": "stderr",
     "output_type": "stream",
     "text": [
      "\r",
      "0.2%"
     ]
    },
    {
     "name": "stderr",
     "output_type": "stream",
     "text": [
      "\r",
      "0.3%"
     ]
    },
    {
     "name": "stderr",
     "output_type": "stream",
     "text": [
      "\r",
      "0.4%"
     ]
    },
    {
     "name": "stderr",
     "output_type": "stream",
     "text": [
      "\r",
      "0.5%"
     ]
    },
    {
     "name": "stderr",
     "output_type": "stream",
     "text": [
      "\r",
      "0.6%"
     ]
    },
    {
     "name": "stderr",
     "output_type": "stream",
     "text": [
      "\r",
      "0.7%"
     ]
    },
    {
     "name": "stderr",
     "output_type": "stream",
     "text": [
      "\r",
      "0.7%"
     ]
    },
    {
     "name": "stderr",
     "output_type": "stream",
     "text": [
      "\r",
      "0.8%"
     ]
    },
    {
     "name": "stderr",
     "output_type": "stream",
     "text": [
      "\r",
      "0.9%"
     ]
    },
    {
     "name": "stderr",
     "output_type": "stream",
     "text": [
      "\r",
      "1.0%"
     ]
    },
    {
     "name": "stderr",
     "output_type": "stream",
     "text": [
      "\r",
      "1.1%"
     ]
    },
    {
     "name": "stderr",
     "output_type": "stream",
     "text": [
      "\r",
      "1.2%"
     ]
    },
    {
     "name": "stderr",
     "output_type": "stream",
     "text": [
      "\r",
      "1.2%"
     ]
    },
    {
     "name": "stderr",
     "output_type": "stream",
     "text": [
      "\r",
      "1.3%"
     ]
    },
    {
     "name": "stderr",
     "output_type": "stream",
     "text": [
      "\r",
      "1.4%"
     ]
    },
    {
     "name": "stderr",
     "output_type": "stream",
     "text": [
      "\r",
      "1.5%"
     ]
    },
    {
     "name": "stderr",
     "output_type": "stream",
     "text": [
      "\r",
      "1.6%"
     ]
    },
    {
     "name": "stderr",
     "output_type": "stream",
     "text": [
      "\r",
      "1.7%"
     ]
    },
    {
     "name": "stderr",
     "output_type": "stream",
     "text": [
      "\r",
      "1.7%"
     ]
    },
    {
     "name": "stderr",
     "output_type": "stream",
     "text": [
      "\r",
      "1.8%"
     ]
    },
    {
     "name": "stderr",
     "output_type": "stream",
     "text": [
      "\r",
      "1.9%"
     ]
    },
    {
     "name": "stderr",
     "output_type": "stream",
     "text": [
      "\r",
      "2.0%"
     ]
    },
    {
     "name": "stderr",
     "output_type": "stream",
     "text": [
      "\r",
      "2.1%"
     ]
    },
    {
     "name": "stderr",
     "output_type": "stream",
     "text": [
      "\r",
      "2.1%"
     ]
    },
    {
     "name": "stderr",
     "output_type": "stream",
     "text": [
      "\r",
      "2.2%"
     ]
    },
    {
     "name": "stderr",
     "output_type": "stream",
     "text": [
      "\r",
      "2.3%"
     ]
    },
    {
     "name": "stderr",
     "output_type": "stream",
     "text": [
      "\r",
      "2.4%"
     ]
    },
    {
     "name": "stderr",
     "output_type": "stream",
     "text": [
      "\r",
      "2.5%"
     ]
    },
    {
     "name": "stderr",
     "output_type": "stream",
     "text": [
      "\r",
      "2.6%"
     ]
    },
    {
     "name": "stderr",
     "output_type": "stream",
     "text": [
      "\r",
      "2.6%"
     ]
    },
    {
     "name": "stderr",
     "output_type": "stream",
     "text": [
      "\r",
      "2.7%"
     ]
    },
    {
     "name": "stderr",
     "output_type": "stream",
     "text": [
      "\r",
      "2.8%"
     ]
    },
    {
     "name": "stderr",
     "output_type": "stream",
     "text": [
      "\r",
      "2.9%"
     ]
    },
    {
     "name": "stderr",
     "output_type": "stream",
     "text": [
      "\r",
      "3.0%"
     ]
    },
    {
     "name": "stderr",
     "output_type": "stream",
     "text": [
      "\r",
      "3.1%"
     ]
    },
    {
     "name": "stderr",
     "output_type": "stream",
     "text": [
      "\r",
      "3.1%"
     ]
    },
    {
     "name": "stderr",
     "output_type": "stream",
     "text": [
      "\r",
      "3.2%"
     ]
    },
    {
     "name": "stderr",
     "output_type": "stream",
     "text": [
      "\r",
      "3.3%"
     ]
    },
    {
     "name": "stderr",
     "output_type": "stream",
     "text": [
      "\r",
      "3.4%"
     ]
    },
    {
     "name": "stderr",
     "output_type": "stream",
     "text": [
      "\r",
      "3.5%"
     ]
    },
    {
     "name": "stderr",
     "output_type": "stream",
     "text": [
      "\r",
      "3.6%"
     ]
    },
    {
     "name": "stderr",
     "output_type": "stream",
     "text": [
      "\r",
      "3.6%"
     ]
    },
    {
     "name": "stderr",
     "output_type": "stream",
     "text": [
      "\r",
      "3.7%"
     ]
    },
    {
     "name": "stderr",
     "output_type": "stream",
     "text": [
      "\r",
      "3.8%"
     ]
    },
    {
     "name": "stderr",
     "output_type": "stream",
     "text": [
      "\r",
      "3.9%"
     ]
    },
    {
     "name": "stderr",
     "output_type": "stream",
     "text": [
      "\r",
      "4.0%"
     ]
    },
    {
     "name": "stderr",
     "output_type": "stream",
     "text": [
      "\r",
      "4.0%"
     ]
    },
    {
     "name": "stderr",
     "output_type": "stream",
     "text": [
      "\r",
      "4.1%"
     ]
    },
    {
     "name": "stderr",
     "output_type": "stream",
     "text": [
      "\r",
      "4.2%"
     ]
    },
    {
     "name": "stderr",
     "output_type": "stream",
     "text": [
      "\r",
      "4.3%"
     ]
    },
    {
     "name": "stderr",
     "output_type": "stream",
     "text": [
      "\r",
      "4.4%"
     ]
    },
    {
     "name": "stderr",
     "output_type": "stream",
     "text": [
      "\r",
      "4.5%"
     ]
    },
    {
     "name": "stderr",
     "output_type": "stream",
     "text": [
      "\r",
      "4.5%"
     ]
    },
    {
     "name": "stderr",
     "output_type": "stream",
     "text": [
      "\r",
      "4.6%"
     ]
    },
    {
     "name": "stderr",
     "output_type": "stream",
     "text": [
      "\r",
      "4.7%"
     ]
    },
    {
     "name": "stderr",
     "output_type": "stream",
     "text": [
      "\r",
      "4.8%"
     ]
    },
    {
     "name": "stderr",
     "output_type": "stream",
     "text": [
      "\r",
      "4.9%"
     ]
    },
    {
     "name": "stderr",
     "output_type": "stream",
     "text": [
      "\r",
      "5.0%"
     ]
    },
    {
     "name": "stderr",
     "output_type": "stream",
     "text": [
      "\r",
      "5.0%"
     ]
    },
    {
     "name": "stderr",
     "output_type": "stream",
     "text": [
      "\r",
      "5.1%"
     ]
    },
    {
     "name": "stderr",
     "output_type": "stream",
     "text": [
      "\r",
      "5.2%"
     ]
    },
    {
     "name": "stderr",
     "output_type": "stream",
     "text": [
      "\r",
      "5.3%"
     ]
    },
    {
     "name": "stderr",
     "output_type": "stream",
     "text": [
      "\r",
      "5.4%"
     ]
    },
    {
     "name": "stderr",
     "output_type": "stream",
     "text": [
      "\r",
      "5.5%"
     ]
    },
    {
     "name": "stderr",
     "output_type": "stream",
     "text": [
      "\r",
      "5.5%"
     ]
    },
    {
     "name": "stderr",
     "output_type": "stream",
     "text": [
      "\r",
      "5.6%"
     ]
    },
    {
     "name": "stderr",
     "output_type": "stream",
     "text": [
      "\r",
      "5.7%"
     ]
    },
    {
     "name": "stderr",
     "output_type": "stream",
     "text": [
      "\r",
      "5.8%"
     ]
    },
    {
     "name": "stderr",
     "output_type": "stream",
     "text": [
      "\r",
      "5.9%"
     ]
    },
    {
     "name": "stderr",
     "output_type": "stream",
     "text": [
      "\r",
      "6.0%"
     ]
    },
    {
     "name": "stderr",
     "output_type": "stream",
     "text": [
      "\r",
      "6.0%"
     ]
    },
    {
     "name": "stderr",
     "output_type": "stream",
     "text": [
      "\r",
      "6.1%"
     ]
    },
    {
     "name": "stderr",
     "output_type": "stream",
     "text": [
      "\r",
      "6.2%"
     ]
    },
    {
     "name": "stderr",
     "output_type": "stream",
     "text": [
      "\r",
      "6.3%"
     ]
    },
    {
     "name": "stderr",
     "output_type": "stream",
     "text": [
      "\r",
      "6.4%"
     ]
    },
    {
     "name": "stderr",
     "output_type": "stream",
     "text": [
      "\r",
      "6.4%"
     ]
    },
    {
     "name": "stderr",
     "output_type": "stream",
     "text": [
      "\r",
      "6.5%"
     ]
    },
    {
     "name": "stderr",
     "output_type": "stream",
     "text": [
      "\r",
      "6.6%"
     ]
    },
    {
     "name": "stderr",
     "output_type": "stream",
     "text": [
      "\r",
      "6.7%"
     ]
    },
    {
     "name": "stderr",
     "output_type": "stream",
     "text": [
      "\r",
      "6.8%"
     ]
    },
    {
     "name": "stderr",
     "output_type": "stream",
     "text": [
      "\r",
      "6.9%"
     ]
    },
    {
     "name": "stderr",
     "output_type": "stream",
     "text": [
      "\r",
      "6.9%"
     ]
    },
    {
     "name": "stderr",
     "output_type": "stream",
     "text": [
      "\r",
      "7.0%"
     ]
    },
    {
     "name": "stderr",
     "output_type": "stream",
     "text": [
      "\r",
      "7.1%"
     ]
    },
    {
     "name": "stderr",
     "output_type": "stream",
     "text": [
      "\r",
      "7.2%"
     ]
    },
    {
     "name": "stderr",
     "output_type": "stream",
     "text": [
      "\r",
      "7.3%"
     ]
    },
    {
     "name": "stderr",
     "output_type": "stream",
     "text": [
      "\r",
      "7.4%"
     ]
    },
    {
     "name": "stderr",
     "output_type": "stream",
     "text": [
      "\r",
      "7.4%"
     ]
    },
    {
     "name": "stderr",
     "output_type": "stream",
     "text": [
      "\r",
      "7.5%"
     ]
    },
    {
     "name": "stderr",
     "output_type": "stream",
     "text": [
      "\r",
      "7.6%"
     ]
    },
    {
     "name": "stderr",
     "output_type": "stream",
     "text": [
      "\r",
      "7.7%"
     ]
    },
    {
     "name": "stderr",
     "output_type": "stream",
     "text": [
      "\r",
      "7.8%"
     ]
    },
    {
     "name": "stderr",
     "output_type": "stream",
     "text": [
      "\r",
      "7.9%"
     ]
    },
    {
     "name": "stderr",
     "output_type": "stream",
     "text": [
      "\r",
      "7.9%"
     ]
    },
    {
     "name": "stderr",
     "output_type": "stream",
     "text": [
      "\r",
      "8.0%"
     ]
    },
    {
     "name": "stderr",
     "output_type": "stream",
     "text": [
      "\r",
      "8.1%"
     ]
    },
    {
     "name": "stderr",
     "output_type": "stream",
     "text": [
      "\r",
      "8.2%"
     ]
    },
    {
     "name": "stderr",
     "output_type": "stream",
     "text": [
      "\r",
      "8.3%"
     ]
    },
    {
     "name": "stderr",
     "output_type": "stream",
     "text": [
      "\r",
      "8.3%"
     ]
    },
    {
     "name": "stderr",
     "output_type": "stream",
     "text": [
      "\r",
      "8.4%"
     ]
    },
    {
     "name": "stderr",
     "output_type": "stream",
     "text": [
      "\r",
      "8.5%"
     ]
    },
    {
     "name": "stderr",
     "output_type": "stream",
     "text": [
      "\r",
      "8.6%"
     ]
    },
    {
     "name": "stderr",
     "output_type": "stream",
     "text": [
      "\r",
      "8.7%"
     ]
    },
    {
     "name": "stderr",
     "output_type": "stream",
     "text": [
      "\r",
      "8.8%"
     ]
    },
    {
     "name": "stderr",
     "output_type": "stream",
     "text": [
      "\r",
      "8.8%"
     ]
    },
    {
     "name": "stderr",
     "output_type": "stream",
     "text": [
      "\r",
      "8.9%"
     ]
    },
    {
     "name": "stderr",
     "output_type": "stream",
     "text": [
      "\r",
      "9.0%"
     ]
    },
    {
     "name": "stderr",
     "output_type": "stream",
     "text": [
      "\r",
      "9.1%"
     ]
    },
    {
     "name": "stderr",
     "output_type": "stream",
     "text": [
      "\r",
      "9.2%"
     ]
    },
    {
     "name": "stderr",
     "output_type": "stream",
     "text": [
      "\r",
      "9.3%"
     ]
    },
    {
     "name": "stderr",
     "output_type": "stream",
     "text": [
      "\r",
      "9.3%"
     ]
    },
    {
     "name": "stderr",
     "output_type": "stream",
     "text": [
      "\r",
      "9.4%"
     ]
    },
    {
     "name": "stderr",
     "output_type": "stream",
     "text": [
      "\r",
      "9.5%"
     ]
    },
    {
     "name": "stderr",
     "output_type": "stream",
     "text": [
      "\r",
      "9.6%"
     ]
    },
    {
     "name": "stderr",
     "output_type": "stream",
     "text": [
      "\r",
      "9.7%"
     ]
    },
    {
     "name": "stderr",
     "output_type": "stream",
     "text": [
      "\r",
      "9.8%"
     ]
    },
    {
     "name": "stderr",
     "output_type": "stream",
     "text": [
      "\r",
      "9.8%"
     ]
    },
    {
     "name": "stderr",
     "output_type": "stream",
     "text": [
      "\r",
      "9.9%"
     ]
    },
    {
     "name": "stderr",
     "output_type": "stream",
     "text": [
      "\r",
      "10.0%"
     ]
    },
    {
     "name": "stderr",
     "output_type": "stream",
     "text": [
      "\r",
      "10.1%"
     ]
    },
    {
     "name": "stderr",
     "output_type": "stream",
     "text": [
      "\r",
      "10.2%"
     ]
    },
    {
     "name": "stderr",
     "output_type": "stream",
     "text": [
      "\r",
      "10.2%"
     ]
    },
    {
     "name": "stderr",
     "output_type": "stream",
     "text": [
      "\r",
      "10.3%"
     ]
    },
    {
     "name": "stderr",
     "output_type": "stream",
     "text": [
      "\r",
      "10.4%"
     ]
    },
    {
     "name": "stderr",
     "output_type": "stream",
     "text": [
      "\r",
      "10.5%"
     ]
    },
    {
     "name": "stderr",
     "output_type": "stream",
     "text": [
      "\r",
      "10.6%"
     ]
    },
    {
     "name": "stderr",
     "output_type": "stream",
     "text": [
      "\r",
      "10.7%"
     ]
    },
    {
     "name": "stderr",
     "output_type": "stream",
     "text": [
      "\r",
      "10.7%"
     ]
    },
    {
     "name": "stderr",
     "output_type": "stream",
     "text": [
      "\r",
      "10.8%"
     ]
    },
    {
     "name": "stderr",
     "output_type": "stream",
     "text": [
      "\r",
      "10.9%"
     ]
    },
    {
     "name": "stderr",
     "output_type": "stream",
     "text": [
      "\r",
      "11.0%"
     ]
    },
    {
     "name": "stderr",
     "output_type": "stream",
     "text": [
      "\r",
      "11.1%"
     ]
    },
    {
     "name": "stderr",
     "output_type": "stream",
     "text": [
      "\r",
      "11.2%"
     ]
    },
    {
     "name": "stderr",
     "output_type": "stream",
     "text": [
      "\r",
      "11.2%"
     ]
    },
    {
     "name": "stderr",
     "output_type": "stream",
     "text": [
      "\r",
      "11.3%"
     ]
    },
    {
     "name": "stderr",
     "output_type": "stream",
     "text": [
      "\r",
      "11.4%"
     ]
    },
    {
     "name": "stderr",
     "output_type": "stream",
     "text": [
      "\r",
      "11.5%"
     ]
    },
    {
     "name": "stderr",
     "output_type": "stream",
     "text": [
      "\r",
      "11.6%"
     ]
    },
    {
     "name": "stderr",
     "output_type": "stream",
     "text": [
      "\r",
      "11.7%"
     ]
    },
    {
     "name": "stderr",
     "output_type": "stream",
     "text": [
      "\r",
      "11.7%"
     ]
    },
    {
     "name": "stderr",
     "output_type": "stream",
     "text": [
      "\r",
      "11.8%"
     ]
    },
    {
     "name": "stderr",
     "output_type": "stream",
     "text": [
      "\r",
      "11.9%"
     ]
    },
    {
     "name": "stderr",
     "output_type": "stream",
     "text": [
      "\r",
      "12.0%"
     ]
    },
    {
     "name": "stderr",
     "output_type": "stream",
     "text": [
      "\r",
      "12.1%"
     ]
    },
    {
     "name": "stderr",
     "output_type": "stream",
     "text": [
      "\r",
      "12.1%"
     ]
    },
    {
     "name": "stderr",
     "output_type": "stream",
     "text": [
      "\r",
      "12.2%"
     ]
    },
    {
     "name": "stderr",
     "output_type": "stream",
     "text": [
      "\r",
      "12.3%"
     ]
    },
    {
     "name": "stderr",
     "output_type": "stream",
     "text": [
      "\r",
      "12.4%"
     ]
    },
    {
     "name": "stderr",
     "output_type": "stream",
     "text": [
      "\r",
      "12.5%"
     ]
    },
    {
     "name": "stderr",
     "output_type": "stream",
     "text": [
      "\r",
      "12.6%"
     ]
    },
    {
     "name": "stderr",
     "output_type": "stream",
     "text": [
      "\r",
      "12.6%"
     ]
    },
    {
     "name": "stderr",
     "output_type": "stream",
     "text": [
      "\r",
      "12.7%"
     ]
    },
    {
     "name": "stderr",
     "output_type": "stream",
     "text": [
      "\r",
      "12.8%"
     ]
    },
    {
     "name": "stderr",
     "output_type": "stream",
     "text": [
      "\r",
      "12.9%"
     ]
    },
    {
     "name": "stderr",
     "output_type": "stream",
     "text": [
      "\r",
      "13.0%"
     ]
    },
    {
     "name": "stderr",
     "output_type": "stream",
     "text": [
      "\r",
      "13.1%"
     ]
    },
    {
     "name": "stderr",
     "output_type": "stream",
     "text": [
      "\r",
      "13.1%"
     ]
    },
    {
     "name": "stderr",
     "output_type": "stream",
     "text": [
      "\r",
      "13.2%"
     ]
    },
    {
     "name": "stderr",
     "output_type": "stream",
     "text": [
      "\r",
      "13.3%"
     ]
    },
    {
     "name": "stderr",
     "output_type": "stream",
     "text": [
      "\r",
      "13.4%"
     ]
    },
    {
     "name": "stderr",
     "output_type": "stream",
     "text": [
      "\r",
      "13.5%"
     ]
    },
    {
     "name": "stderr",
     "output_type": "stream",
     "text": [
      "\r",
      "13.6%"
     ]
    },
    {
     "name": "stderr",
     "output_type": "stream",
     "text": [
      "\r",
      "13.6%"
     ]
    },
    {
     "name": "stderr",
     "output_type": "stream",
     "text": [
      "\r",
      "13.7%"
     ]
    },
    {
     "name": "stderr",
     "output_type": "stream",
     "text": [
      "\r",
      "13.8%"
     ]
    },
    {
     "name": "stderr",
     "output_type": "stream",
     "text": [
      "\r",
      "13.9%"
     ]
    },
    {
     "name": "stderr",
     "output_type": "stream",
     "text": [
      "\r",
      "14.0%"
     ]
    },
    {
     "name": "stderr",
     "output_type": "stream",
     "text": [
      "\r",
      "14.0%"
     ]
    },
    {
     "name": "stderr",
     "output_type": "stream",
     "text": [
      "\r",
      "14.1%"
     ]
    },
    {
     "name": "stderr",
     "output_type": "stream",
     "text": [
      "\r",
      "14.2%"
     ]
    },
    {
     "name": "stderr",
     "output_type": "stream",
     "text": [
      "\r",
      "14.3%"
     ]
    },
    {
     "name": "stderr",
     "output_type": "stream",
     "text": [
      "\r",
      "14.4%"
     ]
    },
    {
     "name": "stderr",
     "output_type": "stream",
     "text": [
      "\r",
      "14.5%"
     ]
    },
    {
     "name": "stderr",
     "output_type": "stream",
     "text": [
      "\r",
      "14.5%"
     ]
    },
    {
     "name": "stderr",
     "output_type": "stream",
     "text": [
      "\r",
      "14.6%"
     ]
    },
    {
     "name": "stderr",
     "output_type": "stream",
     "text": [
      "\r",
      "14.7%"
     ]
    },
    {
     "name": "stderr",
     "output_type": "stream",
     "text": [
      "\r",
      "14.8%"
     ]
    },
    {
     "name": "stderr",
     "output_type": "stream",
     "text": [
      "\r",
      "14.9%"
     ]
    },
    {
     "name": "stderr",
     "output_type": "stream",
     "text": [
      "\r",
      "15.0%"
     ]
    },
    {
     "name": "stderr",
     "output_type": "stream",
     "text": [
      "\r",
      "15.0%"
     ]
    },
    {
     "name": "stderr",
     "output_type": "stream",
     "text": [
      "\r",
      "15.1%"
     ]
    },
    {
     "name": "stderr",
     "output_type": "stream",
     "text": [
      "\r",
      "15.2%"
     ]
    },
    {
     "name": "stderr",
     "output_type": "stream",
     "text": [
      "\r",
      "15.3%"
     ]
    },
    {
     "name": "stderr",
     "output_type": "stream",
     "text": [
      "\r",
      "15.4%"
     ]
    },
    {
     "name": "stderr",
     "output_type": "stream",
     "text": [
      "\r",
      "15.5%"
     ]
    },
    {
     "name": "stderr",
     "output_type": "stream",
     "text": [
      "\r",
      "15.5%"
     ]
    },
    {
     "name": "stderr",
     "output_type": "stream",
     "text": [
      "\r",
      "15.6%"
     ]
    },
    {
     "name": "stderr",
     "output_type": "stream",
     "text": [
      "\r",
      "15.7%"
     ]
    },
    {
     "name": "stderr",
     "output_type": "stream",
     "text": [
      "\r",
      "15.8%"
     ]
    },
    {
     "name": "stderr",
     "output_type": "stream",
     "text": [
      "\r",
      "15.9%"
     ]
    },
    {
     "name": "stderr",
     "output_type": "stream",
     "text": [
      "\r",
      "16.0%"
     ]
    },
    {
     "name": "stderr",
     "output_type": "stream",
     "text": [
      "\r",
      "16.0%"
     ]
    },
    {
     "name": "stderr",
     "output_type": "stream",
     "text": [
      "\r",
      "16.1%"
     ]
    },
    {
     "name": "stderr",
     "output_type": "stream",
     "text": [
      "\r",
      "16.2%"
     ]
    },
    {
     "name": "stderr",
     "output_type": "stream",
     "text": [
      "\r",
      "16.3%"
     ]
    },
    {
     "name": "stderr",
     "output_type": "stream",
     "text": [
      "\r",
      "16.4%"
     ]
    },
    {
     "name": "stderr",
     "output_type": "stream",
     "text": [
      "\r",
      "16.4%"
     ]
    },
    {
     "name": "stderr",
     "output_type": "stream",
     "text": [
      "\r",
      "16.5%"
     ]
    },
    {
     "name": "stderr",
     "output_type": "stream",
     "text": [
      "\r",
      "16.6%"
     ]
    },
    {
     "name": "stderr",
     "output_type": "stream",
     "text": [
      "\r",
      "16.7%"
     ]
    },
    {
     "name": "stderr",
     "output_type": "stream",
     "text": [
      "\r",
      "16.8%"
     ]
    },
    {
     "name": "stderr",
     "output_type": "stream",
     "text": [
      "\r",
      "16.9%"
     ]
    },
    {
     "name": "stderr",
     "output_type": "stream",
     "text": [
      "\r",
      "16.9%"
     ]
    },
    {
     "name": "stderr",
     "output_type": "stream",
     "text": [
      "\r",
      "17.0%"
     ]
    },
    {
     "name": "stderr",
     "output_type": "stream",
     "text": [
      "\r",
      "17.1%"
     ]
    },
    {
     "name": "stderr",
     "output_type": "stream",
     "text": [
      "\r",
      "17.2%"
     ]
    },
    {
     "name": "stderr",
     "output_type": "stream",
     "text": [
      "\r",
      "17.3%"
     ]
    },
    {
     "name": "stderr",
     "output_type": "stream",
     "text": [
      "\r",
      "17.4%"
     ]
    },
    {
     "name": "stderr",
     "output_type": "stream",
     "text": [
      "\r",
      "17.4%"
     ]
    },
    {
     "name": "stderr",
     "output_type": "stream",
     "text": [
      "\r",
      "17.5%"
     ]
    },
    {
     "name": "stderr",
     "output_type": "stream",
     "text": [
      "\r",
      "17.6%"
     ]
    },
    {
     "name": "stderr",
     "output_type": "stream",
     "text": [
      "\r",
      "17.7%"
     ]
    },
    {
     "name": "stderr",
     "output_type": "stream",
     "text": [
      "\r",
      "17.8%"
     ]
    },
    {
     "name": "stderr",
     "output_type": "stream",
     "text": [
      "\r",
      "17.9%"
     ]
    },
    {
     "name": "stderr",
     "output_type": "stream",
     "text": [
      "\r",
      "17.9%"
     ]
    },
    {
     "name": "stderr",
     "output_type": "stream",
     "text": [
      "\r",
      "18.0%"
     ]
    },
    {
     "name": "stderr",
     "output_type": "stream",
     "text": [
      "\r",
      "18.1%"
     ]
    },
    {
     "name": "stderr",
     "output_type": "stream",
     "text": [
      "\r",
      "18.2%"
     ]
    },
    {
     "name": "stderr",
     "output_type": "stream",
     "text": [
      "\r",
      "18.3%"
     ]
    },
    {
     "name": "stderr",
     "output_type": "stream",
     "text": [
      "\r",
      "18.3%"
     ]
    },
    {
     "name": "stderr",
     "output_type": "stream",
     "text": [
      "\r",
      "18.4%"
     ]
    },
    {
     "name": "stderr",
     "output_type": "stream",
     "text": [
      "\r",
      "18.5%"
     ]
    },
    {
     "name": "stderr",
     "output_type": "stream",
     "text": [
      "\r",
      "18.6%"
     ]
    },
    {
     "name": "stderr",
     "output_type": "stream",
     "text": [
      "\r",
      "18.7%"
     ]
    },
    {
     "name": "stderr",
     "output_type": "stream",
     "text": [
      "\r",
      "18.8%"
     ]
    },
    {
     "name": "stderr",
     "output_type": "stream",
     "text": [
      "\r",
      "18.8%"
     ]
    },
    {
     "name": "stderr",
     "output_type": "stream",
     "text": [
      "\r",
      "18.9%"
     ]
    },
    {
     "name": "stderr",
     "output_type": "stream",
     "text": [
      "\r",
      "19.0%"
     ]
    },
    {
     "name": "stderr",
     "output_type": "stream",
     "text": [
      "\r",
      "19.1%"
     ]
    },
    {
     "name": "stderr",
     "output_type": "stream",
     "text": [
      "\r",
      "19.2%"
     ]
    },
    {
     "name": "stderr",
     "output_type": "stream",
     "text": [
      "\r",
      "19.3%"
     ]
    },
    {
     "name": "stderr",
     "output_type": "stream",
     "text": [
      "\r",
      "19.3%"
     ]
    },
    {
     "name": "stderr",
     "output_type": "stream",
     "text": [
      "\r",
      "19.4%"
     ]
    },
    {
     "name": "stderr",
     "output_type": "stream",
     "text": [
      "\r",
      "19.5%"
     ]
    },
    {
     "name": "stderr",
     "output_type": "stream",
     "text": [
      "\r",
      "19.6%"
     ]
    },
    {
     "name": "stderr",
     "output_type": "stream",
     "text": [
      "\r",
      "19.7%"
     ]
    },
    {
     "name": "stderr",
     "output_type": "stream",
     "text": [
      "\r",
      "19.8%"
     ]
    },
    {
     "name": "stderr",
     "output_type": "stream",
     "text": [
      "\r",
      "19.8%"
     ]
    },
    {
     "name": "stderr",
     "output_type": "stream",
     "text": [
      "\r",
      "19.9%"
     ]
    },
    {
     "name": "stderr",
     "output_type": "stream",
     "text": [
      "\r",
      "20.0%"
     ]
    },
    {
     "name": "stderr",
     "output_type": "stream",
     "text": [
      "\r",
      "20.1%"
     ]
    },
    {
     "name": "stderr",
     "output_type": "stream",
     "text": [
      "\r",
      "20.2%"
     ]
    },
    {
     "name": "stderr",
     "output_type": "stream",
     "text": [
      "\r",
      "20.2%"
     ]
    },
    {
     "name": "stderr",
     "output_type": "stream",
     "text": [
      "\r",
      "20.3%"
     ]
    },
    {
     "name": "stderr",
     "output_type": "stream",
     "text": [
      "\r",
      "20.4%"
     ]
    },
    {
     "name": "stderr",
     "output_type": "stream",
     "text": [
      "\r",
      "20.5%"
     ]
    },
    {
     "name": "stderr",
     "output_type": "stream",
     "text": [
      "\r",
      "20.6%"
     ]
    },
    {
     "name": "stderr",
     "output_type": "stream",
     "text": [
      "\r",
      "20.7%"
     ]
    },
    {
     "name": "stderr",
     "output_type": "stream",
     "text": [
      "\r",
      "20.7%"
     ]
    },
    {
     "name": "stderr",
     "output_type": "stream",
     "text": [
      "\r",
      "20.8%"
     ]
    },
    {
     "name": "stderr",
     "output_type": "stream",
     "text": [
      "\r",
      "20.9%"
     ]
    },
    {
     "name": "stderr",
     "output_type": "stream",
     "text": [
      "\r",
      "21.0%"
     ]
    },
    {
     "name": "stderr",
     "output_type": "stream",
     "text": [
      "\r",
      "21.1%"
     ]
    },
    {
     "name": "stderr",
     "output_type": "stream",
     "text": [
      "\r",
      "21.2%"
     ]
    },
    {
     "name": "stderr",
     "output_type": "stream",
     "text": [
      "\r",
      "21.2%"
     ]
    },
    {
     "name": "stderr",
     "output_type": "stream",
     "text": [
      "\r",
      "21.3%"
     ]
    },
    {
     "name": "stderr",
     "output_type": "stream",
     "text": [
      "\r",
      "21.4%"
     ]
    },
    {
     "name": "stderr",
     "output_type": "stream",
     "text": [
      "\r",
      "21.5%"
     ]
    },
    {
     "name": "stderr",
     "output_type": "stream",
     "text": [
      "\r",
      "21.6%"
     ]
    },
    {
     "name": "stderr",
     "output_type": "stream",
     "text": [
      "\r",
      "21.7%"
     ]
    },
    {
     "name": "stderr",
     "output_type": "stream",
     "text": [
      "\r",
      "21.7%"
     ]
    },
    {
     "name": "stderr",
     "output_type": "stream",
     "text": [
      "\r",
      "21.8%"
     ]
    },
    {
     "name": "stderr",
     "output_type": "stream",
     "text": [
      "\r",
      "21.9%"
     ]
    },
    {
     "name": "stderr",
     "output_type": "stream",
     "text": [
      "\r",
      "22.0%"
     ]
    },
    {
     "name": "stderr",
     "output_type": "stream",
     "text": [
      "\r",
      "22.1%"
     ]
    },
    {
     "name": "stderr",
     "output_type": "stream",
     "text": [
      "\r",
      "22.1%"
     ]
    },
    {
     "name": "stderr",
     "output_type": "stream",
     "text": [
      "\r",
      "22.2%"
     ]
    },
    {
     "name": "stderr",
     "output_type": "stream",
     "text": [
      "\r",
      "22.3%"
     ]
    },
    {
     "name": "stderr",
     "output_type": "stream",
     "text": [
      "\r",
      "22.4%"
     ]
    },
    {
     "name": "stderr",
     "output_type": "stream",
     "text": [
      "\r",
      "22.5%"
     ]
    },
    {
     "name": "stderr",
     "output_type": "stream",
     "text": [
      "\r",
      "22.6%"
     ]
    },
    {
     "name": "stderr",
     "output_type": "stream",
     "text": [
      "\r",
      "22.6%"
     ]
    },
    {
     "name": "stderr",
     "output_type": "stream",
     "text": [
      "\r",
      "22.7%"
     ]
    },
    {
     "name": "stderr",
     "output_type": "stream",
     "text": [
      "\r",
      "22.8%"
     ]
    },
    {
     "name": "stderr",
     "output_type": "stream",
     "text": [
      "\r",
      "22.9%"
     ]
    },
    {
     "name": "stderr",
     "output_type": "stream",
     "text": [
      "\r",
      "23.0%"
     ]
    },
    {
     "name": "stderr",
     "output_type": "stream",
     "text": [
      "\r",
      "23.1%"
     ]
    },
    {
     "name": "stderr",
     "output_type": "stream",
     "text": [
      "\r",
      "23.1%"
     ]
    },
    {
     "name": "stderr",
     "output_type": "stream",
     "text": [
      "\r",
      "23.2%"
     ]
    },
    {
     "name": "stderr",
     "output_type": "stream",
     "text": [
      "\r",
      "23.3%"
     ]
    },
    {
     "name": "stderr",
     "output_type": "stream",
     "text": [
      "\r",
      "23.4%"
     ]
    },
    {
     "name": "stderr",
     "output_type": "stream",
     "text": [
      "\r",
      "23.5%"
     ]
    },
    {
     "name": "stderr",
     "output_type": "stream",
     "text": [
      "\r",
      "23.6%"
     ]
    },
    {
     "name": "stderr",
     "output_type": "stream",
     "text": [
      "\r",
      "23.6%"
     ]
    },
    {
     "name": "stderr",
     "output_type": "stream",
     "text": [
      "\r",
      "23.7%"
     ]
    },
    {
     "name": "stderr",
     "output_type": "stream",
     "text": [
      "\r",
      "23.8%"
     ]
    },
    {
     "name": "stderr",
     "output_type": "stream",
     "text": [
      "\r",
      "23.9%"
     ]
    },
    {
     "name": "stderr",
     "output_type": "stream",
     "text": [
      "\r",
      "24.0%"
     ]
    },
    {
     "name": "stderr",
     "output_type": "stream",
     "text": [
      "\r",
      "24.0%"
     ]
    },
    {
     "name": "stderr",
     "output_type": "stream",
     "text": [
      "\r",
      "24.1%"
     ]
    },
    {
     "name": "stderr",
     "output_type": "stream",
     "text": [
      "\r",
      "24.2%"
     ]
    },
    {
     "name": "stderr",
     "output_type": "stream",
     "text": [
      "\r",
      "24.3%"
     ]
    },
    {
     "name": "stderr",
     "output_type": "stream",
     "text": [
      "\r",
      "24.4%"
     ]
    },
    {
     "name": "stderr",
     "output_type": "stream",
     "text": [
      "\r",
      "24.5%"
     ]
    },
    {
     "name": "stderr",
     "output_type": "stream",
     "text": [
      "\r",
      "24.5%"
     ]
    },
    {
     "name": "stderr",
     "output_type": "stream",
     "text": [
      "\r",
      "24.6%"
     ]
    },
    {
     "name": "stderr",
     "output_type": "stream",
     "text": [
      "\r",
      "24.7%"
     ]
    },
    {
     "name": "stderr",
     "output_type": "stream",
     "text": [
      "\r",
      "24.8%"
     ]
    },
    {
     "name": "stderr",
     "output_type": "stream",
     "text": [
      "\r",
      "24.9%"
     ]
    },
    {
     "name": "stderr",
     "output_type": "stream",
     "text": [
      "\r",
      "25.0%"
     ]
    },
    {
     "name": "stderr",
     "output_type": "stream",
     "text": [
      "\r",
      "25.0%"
     ]
    },
    {
     "name": "stderr",
     "output_type": "stream",
     "text": [
      "\r",
      "25.1%"
     ]
    },
    {
     "name": "stderr",
     "output_type": "stream",
     "text": [
      "\r",
      "25.2%"
     ]
    },
    {
     "name": "stderr",
     "output_type": "stream",
     "text": [
      "\r",
      "25.3%"
     ]
    },
    {
     "name": "stderr",
     "output_type": "stream",
     "text": [
      "\r",
      "25.4%"
     ]
    },
    {
     "name": "stderr",
     "output_type": "stream",
     "text": [
      "\r",
      "25.5%"
     ]
    },
    {
     "name": "stderr",
     "output_type": "stream",
     "text": [
      "\r",
      "25.5%"
     ]
    },
    {
     "name": "stderr",
     "output_type": "stream",
     "text": [
      "\r",
      "25.6%"
     ]
    },
    {
     "name": "stderr",
     "output_type": "stream",
     "text": [
      "\r",
      "25.7%"
     ]
    },
    {
     "name": "stderr",
     "output_type": "stream",
     "text": [
      "\r",
      "25.8%"
     ]
    },
    {
     "name": "stderr",
     "output_type": "stream",
     "text": [
      "\r",
      "25.9%"
     ]
    },
    {
     "name": "stderr",
     "output_type": "stream",
     "text": [
      "\r",
      "26.0%"
     ]
    },
    {
     "name": "stderr",
     "output_type": "stream",
     "text": [
      "\r",
      "26.0%"
     ]
    },
    {
     "name": "stderr",
     "output_type": "stream",
     "text": [
      "\r",
      "26.1%"
     ]
    },
    {
     "name": "stderr",
     "output_type": "stream",
     "text": [
      "\r",
      "26.2%"
     ]
    },
    {
     "name": "stderr",
     "output_type": "stream",
     "text": [
      "\r",
      "26.3%"
     ]
    },
    {
     "name": "stderr",
     "output_type": "stream",
     "text": [
      "\r",
      "26.4%"
     ]
    },
    {
     "name": "stderr",
     "output_type": "stream",
     "text": [
      "\r",
      "26.4%"
     ]
    },
    {
     "name": "stderr",
     "output_type": "stream",
     "text": [
      "\r",
      "26.5%"
     ]
    },
    {
     "name": "stderr",
     "output_type": "stream",
     "text": [
      "\r",
      "26.6%"
     ]
    },
    {
     "name": "stderr",
     "output_type": "stream",
     "text": [
      "\r",
      "26.7%"
     ]
    },
    {
     "name": "stderr",
     "output_type": "stream",
     "text": [
      "\r",
      "26.8%"
     ]
    },
    {
     "name": "stderr",
     "output_type": "stream",
     "text": [
      "\r",
      "26.9%"
     ]
    },
    {
     "name": "stderr",
     "output_type": "stream",
     "text": [
      "\r",
      "26.9%"
     ]
    },
    {
     "name": "stderr",
     "output_type": "stream",
     "text": [
      "\r",
      "27.0%"
     ]
    },
    {
     "name": "stderr",
     "output_type": "stream",
     "text": [
      "\r",
      "27.1%"
     ]
    },
    {
     "name": "stderr",
     "output_type": "stream",
     "text": [
      "\r",
      "27.2%"
     ]
    },
    {
     "name": "stderr",
     "output_type": "stream",
     "text": [
      "\r",
      "27.3%"
     ]
    },
    {
     "name": "stderr",
     "output_type": "stream",
     "text": [
      "\r",
      "27.4%"
     ]
    },
    {
     "name": "stderr",
     "output_type": "stream",
     "text": [
      "\r",
      "27.4%"
     ]
    },
    {
     "name": "stderr",
     "output_type": "stream",
     "text": [
      "\r",
      "27.5%"
     ]
    },
    {
     "name": "stderr",
     "output_type": "stream",
     "text": [
      "\r",
      "27.6%"
     ]
    },
    {
     "name": "stderr",
     "output_type": "stream",
     "text": [
      "\r",
      "27.7%"
     ]
    },
    {
     "name": "stderr",
     "output_type": "stream",
     "text": [
      "\r",
      "27.8%"
     ]
    },
    {
     "name": "stderr",
     "output_type": "stream",
     "text": [
      "\r",
      "27.9%"
     ]
    },
    {
     "name": "stderr",
     "output_type": "stream",
     "text": [
      "\r",
      "27.9%"
     ]
    },
    {
     "name": "stderr",
     "output_type": "stream",
     "text": [
      "\r",
      "28.0%"
     ]
    },
    {
     "name": "stderr",
     "output_type": "stream",
     "text": [
      "\r",
      "28.1%"
     ]
    },
    {
     "name": "stderr",
     "output_type": "stream",
     "text": [
      "\r",
      "28.2%"
     ]
    },
    {
     "name": "stderr",
     "output_type": "stream",
     "text": [
      "\r",
      "28.3%"
     ]
    },
    {
     "name": "stderr",
     "output_type": "stream",
     "text": [
      "\r",
      "28.3%"
     ]
    },
    {
     "name": "stderr",
     "output_type": "stream",
     "text": [
      "\r",
      "28.4%"
     ]
    },
    {
     "name": "stderr",
     "output_type": "stream",
     "text": [
      "\r",
      "28.5%"
     ]
    },
    {
     "name": "stderr",
     "output_type": "stream",
     "text": [
      "\r",
      "28.6%"
     ]
    },
    {
     "name": "stderr",
     "output_type": "stream",
     "text": [
      "\r",
      "28.7%"
     ]
    },
    {
     "name": "stderr",
     "output_type": "stream",
     "text": [
      "\r",
      "28.8%"
     ]
    },
    {
     "name": "stderr",
     "output_type": "stream",
     "text": [
      "\r",
      "28.8%"
     ]
    },
    {
     "name": "stderr",
     "output_type": "stream",
     "text": [
      "\r",
      "28.9%"
     ]
    },
    {
     "name": "stderr",
     "output_type": "stream",
     "text": [
      "\r",
      "29.0%"
     ]
    },
    {
     "name": "stderr",
     "output_type": "stream",
     "text": [
      "\r",
      "29.1%"
     ]
    },
    {
     "name": "stderr",
     "output_type": "stream",
     "text": [
      "\r",
      "29.2%"
     ]
    },
    {
     "name": "stderr",
     "output_type": "stream",
     "text": [
      "\r",
      "29.3%"
     ]
    },
    {
     "name": "stderr",
     "output_type": "stream",
     "text": [
      "\r",
      "29.3%"
     ]
    },
    {
     "name": "stderr",
     "output_type": "stream",
     "text": [
      "\r",
      "29.4%"
     ]
    },
    {
     "name": "stderr",
     "output_type": "stream",
     "text": [
      "\r",
      "29.5%"
     ]
    },
    {
     "name": "stderr",
     "output_type": "stream",
     "text": [
      "\r",
      "29.6%"
     ]
    },
    {
     "name": "stderr",
     "output_type": "stream",
     "text": [
      "\r",
      "29.7%"
     ]
    },
    {
     "name": "stderr",
     "output_type": "stream",
     "text": [
      "\r",
      "29.8%"
     ]
    },
    {
     "name": "stderr",
     "output_type": "stream",
     "text": [
      "\r",
      "29.8%"
     ]
    },
    {
     "name": "stderr",
     "output_type": "stream",
     "text": [
      "\r",
      "29.9%"
     ]
    },
    {
     "name": "stderr",
     "output_type": "stream",
     "text": [
      "\r",
      "30.0%"
     ]
    },
    {
     "name": "stderr",
     "output_type": "stream",
     "text": [
      "\r",
      "30.1%"
     ]
    },
    {
     "name": "stderr",
     "output_type": "stream",
     "text": [
      "\r",
      "30.2%"
     ]
    },
    {
     "name": "stderr",
     "output_type": "stream",
     "text": [
      "\r",
      "30.2%"
     ]
    },
    {
     "name": "stderr",
     "output_type": "stream",
     "text": [
      "\r",
      "30.3%"
     ]
    },
    {
     "name": "stderr",
     "output_type": "stream",
     "text": [
      "\r",
      "30.4%"
     ]
    },
    {
     "name": "stderr",
     "output_type": "stream",
     "text": [
      "\r",
      "30.5%"
     ]
    },
    {
     "name": "stderr",
     "output_type": "stream",
     "text": [
      "\r",
      "30.6%"
     ]
    },
    {
     "name": "stderr",
     "output_type": "stream",
     "text": [
      "\r",
      "30.7%"
     ]
    },
    {
     "name": "stderr",
     "output_type": "stream",
     "text": [
      "\r",
      "30.7%"
     ]
    },
    {
     "name": "stderr",
     "output_type": "stream",
     "text": [
      "\r",
      "30.8%"
     ]
    },
    {
     "name": "stderr",
     "output_type": "stream",
     "text": [
      "\r",
      "30.9%"
     ]
    },
    {
     "name": "stderr",
     "output_type": "stream",
     "text": [
      "\r",
      "31.0%"
     ]
    },
    {
     "name": "stderr",
     "output_type": "stream",
     "text": [
      "\r",
      "31.1%"
     ]
    },
    {
     "name": "stderr",
     "output_type": "stream",
     "text": [
      "\r",
      "31.2%"
     ]
    },
    {
     "name": "stderr",
     "output_type": "stream",
     "text": [
      "\r",
      "31.2%"
     ]
    },
    {
     "name": "stderr",
     "output_type": "stream",
     "text": [
      "\r",
      "31.3%"
     ]
    },
    {
     "name": "stderr",
     "output_type": "stream",
     "text": [
      "\r",
      "31.4%"
     ]
    },
    {
     "name": "stderr",
     "output_type": "stream",
     "text": [
      "\r",
      "31.5%"
     ]
    },
    {
     "name": "stderr",
     "output_type": "stream",
     "text": [
      "\r",
      "31.6%"
     ]
    },
    {
     "name": "stderr",
     "output_type": "stream",
     "text": [
      "\r",
      "31.7%"
     ]
    },
    {
     "name": "stderr",
     "output_type": "stream",
     "text": [
      "\r",
      "31.7%"
     ]
    },
    {
     "name": "stderr",
     "output_type": "stream",
     "text": [
      "\r",
      "31.8%"
     ]
    },
    {
     "name": "stderr",
     "output_type": "stream",
     "text": [
      "\r",
      "31.9%"
     ]
    },
    {
     "name": "stderr",
     "output_type": "stream",
     "text": [
      "\r",
      "32.0%"
     ]
    },
    {
     "name": "stderr",
     "output_type": "stream",
     "text": [
      "\r",
      "32.1%"
     ]
    },
    {
     "name": "stderr",
     "output_type": "stream",
     "text": [
      "\r",
      "32.1%"
     ]
    },
    {
     "name": "stderr",
     "output_type": "stream",
     "text": [
      "\r",
      "32.2%"
     ]
    },
    {
     "name": "stderr",
     "output_type": "stream",
     "text": [
      "\r",
      "32.3%"
     ]
    },
    {
     "name": "stderr",
     "output_type": "stream",
     "text": [
      "\r",
      "32.4%"
     ]
    },
    {
     "name": "stderr",
     "output_type": "stream",
     "text": [
      "\r",
      "32.5%"
     ]
    },
    {
     "name": "stderr",
     "output_type": "stream",
     "text": [
      "\r",
      "32.6%"
     ]
    },
    {
     "name": "stderr",
     "output_type": "stream",
     "text": [
      "\r",
      "32.6%"
     ]
    },
    {
     "name": "stderr",
     "output_type": "stream",
     "text": [
      "\r",
      "32.7%"
     ]
    },
    {
     "name": "stderr",
     "output_type": "stream",
     "text": [
      "\r",
      "32.8%"
     ]
    },
    {
     "name": "stderr",
     "output_type": "stream",
     "text": [
      "\r",
      "32.9%"
     ]
    },
    {
     "name": "stderr",
     "output_type": "stream",
     "text": [
      "\r",
      "33.0%"
     ]
    },
    {
     "name": "stderr",
     "output_type": "stream",
     "text": [
      "\r",
      "33.1%"
     ]
    },
    {
     "name": "stderr",
     "output_type": "stream",
     "text": [
      "\r",
      "33.1%"
     ]
    },
    {
     "name": "stderr",
     "output_type": "stream",
     "text": [
      "\r",
      "33.2%"
     ]
    },
    {
     "name": "stderr",
     "output_type": "stream",
     "text": [
      "\r",
      "33.3%"
     ]
    },
    {
     "name": "stderr",
     "output_type": "stream",
     "text": [
      "\r",
      "33.4%"
     ]
    },
    {
     "name": "stderr",
     "output_type": "stream",
     "text": [
      "\r",
      "33.5%"
     ]
    },
    {
     "name": "stderr",
     "output_type": "stream",
     "text": [
      "\r",
      "33.6%"
     ]
    },
    {
     "name": "stderr",
     "output_type": "stream",
     "text": [
      "\r",
      "33.6%"
     ]
    },
    {
     "name": "stderr",
     "output_type": "stream",
     "text": [
      "\r",
      "33.7%"
     ]
    },
    {
     "name": "stderr",
     "output_type": "stream",
     "text": [
      "\r",
      "33.8%"
     ]
    },
    {
     "name": "stderr",
     "output_type": "stream",
     "text": [
      "\r",
      "33.9%"
     ]
    },
    {
     "name": "stderr",
     "output_type": "stream",
     "text": [
      "\r",
      "34.0%"
     ]
    },
    {
     "name": "stderr",
     "output_type": "stream",
     "text": [
      "\r",
      "34.0%"
     ]
    },
    {
     "name": "stderr",
     "output_type": "stream",
     "text": [
      "\r",
      "34.1%"
     ]
    },
    {
     "name": "stderr",
     "output_type": "stream",
     "text": [
      "\r",
      "34.2%"
     ]
    },
    {
     "name": "stderr",
     "output_type": "stream",
     "text": [
      "\r",
      "34.3%"
     ]
    },
    {
     "name": "stderr",
     "output_type": "stream",
     "text": [
      "\r",
      "34.4%"
     ]
    },
    {
     "name": "stderr",
     "output_type": "stream",
     "text": [
      "\r",
      "34.5%"
     ]
    },
    {
     "name": "stderr",
     "output_type": "stream",
     "text": [
      "\r",
      "34.5%"
     ]
    },
    {
     "name": "stderr",
     "output_type": "stream",
     "text": [
      "\r",
      "34.6%"
     ]
    },
    {
     "name": "stderr",
     "output_type": "stream",
     "text": [
      "\r",
      "34.7%"
     ]
    },
    {
     "name": "stderr",
     "output_type": "stream",
     "text": [
      "\r",
      "34.8%"
     ]
    },
    {
     "name": "stderr",
     "output_type": "stream",
     "text": [
      "\r",
      "34.9%"
     ]
    },
    {
     "name": "stderr",
     "output_type": "stream",
     "text": [
      "\r",
      "35.0%"
     ]
    },
    {
     "name": "stderr",
     "output_type": "stream",
     "text": [
      "\r",
      "35.0%"
     ]
    },
    {
     "name": "stderr",
     "output_type": "stream",
     "text": [
      "\r",
      "35.1%"
     ]
    },
    {
     "name": "stderr",
     "output_type": "stream",
     "text": [
      "\r",
      "35.2%"
     ]
    },
    {
     "name": "stderr",
     "output_type": "stream",
     "text": [
      "\r",
      "35.3%"
     ]
    },
    {
     "name": "stderr",
     "output_type": "stream",
     "text": [
      "\r",
      "35.4%"
     ]
    },
    {
     "name": "stderr",
     "output_type": "stream",
     "text": [
      "\r",
      "35.5%"
     ]
    },
    {
     "name": "stderr",
     "output_type": "stream",
     "text": [
      "\r",
      "35.5%"
     ]
    },
    {
     "name": "stderr",
     "output_type": "stream",
     "text": [
      "\r",
      "35.6%"
     ]
    },
    {
     "name": "stderr",
     "output_type": "stream",
     "text": [
      "\r",
      "35.7%"
     ]
    },
    {
     "name": "stderr",
     "output_type": "stream",
     "text": [
      "\r",
      "35.8%"
     ]
    },
    {
     "name": "stderr",
     "output_type": "stream",
     "text": [
      "\r",
      "35.9%"
     ]
    },
    {
     "name": "stderr",
     "output_type": "stream",
     "text": [
      "\r",
      "36.0%"
     ]
    },
    {
     "name": "stderr",
     "output_type": "stream",
     "text": [
      "\r",
      "36.0%"
     ]
    },
    {
     "name": "stderr",
     "output_type": "stream",
     "text": [
      "\r",
      "36.1%"
     ]
    },
    {
     "name": "stderr",
     "output_type": "stream",
     "text": [
      "\r",
      "36.2%"
     ]
    },
    {
     "name": "stderr",
     "output_type": "stream",
     "text": [
      "\r",
      "36.3%"
     ]
    },
    {
     "name": "stderr",
     "output_type": "stream",
     "text": [
      "\r",
      "36.4%"
     ]
    },
    {
     "name": "stderr",
     "output_type": "stream",
     "text": [
      "\r",
      "36.4%"
     ]
    },
    {
     "name": "stderr",
     "output_type": "stream",
     "text": [
      "\r",
      "36.5%"
     ]
    },
    {
     "name": "stderr",
     "output_type": "stream",
     "text": [
      "\r",
      "36.6%"
     ]
    },
    {
     "name": "stderr",
     "output_type": "stream",
     "text": [
      "\r",
      "36.7%"
     ]
    },
    {
     "name": "stderr",
     "output_type": "stream",
     "text": [
      "\r",
      "36.8%"
     ]
    },
    {
     "name": "stderr",
     "output_type": "stream",
     "text": [
      "\r",
      "36.9%"
     ]
    },
    {
     "name": "stderr",
     "output_type": "stream",
     "text": [
      "\r",
      "36.9%"
     ]
    },
    {
     "name": "stderr",
     "output_type": "stream",
     "text": [
      "\r",
      "37.0%"
     ]
    },
    {
     "name": "stderr",
     "output_type": "stream",
     "text": [
      "\r",
      "37.1%"
     ]
    },
    {
     "name": "stderr",
     "output_type": "stream",
     "text": [
      "\r",
      "37.2%"
     ]
    },
    {
     "name": "stderr",
     "output_type": "stream",
     "text": [
      "\r",
      "37.3%"
     ]
    },
    {
     "name": "stderr",
     "output_type": "stream",
     "text": [
      "\r",
      "37.4%"
     ]
    },
    {
     "name": "stderr",
     "output_type": "stream",
     "text": [
      "\r",
      "37.4%"
     ]
    },
    {
     "name": "stderr",
     "output_type": "stream",
     "text": [
      "\r",
      "37.5%"
     ]
    },
    {
     "name": "stderr",
     "output_type": "stream",
     "text": [
      "\r",
      "37.6%"
     ]
    },
    {
     "name": "stderr",
     "output_type": "stream",
     "text": [
      "\r",
      "37.7%"
     ]
    },
    {
     "name": "stderr",
     "output_type": "stream",
     "text": [
      "\r",
      "37.8%"
     ]
    },
    {
     "name": "stderr",
     "output_type": "stream",
     "text": [
      "\r",
      "37.9%"
     ]
    },
    {
     "name": "stderr",
     "output_type": "stream",
     "text": [
      "\r",
      "37.9%"
     ]
    },
    {
     "name": "stderr",
     "output_type": "stream",
     "text": [
      "\r",
      "38.0%"
     ]
    },
    {
     "name": "stderr",
     "output_type": "stream",
     "text": [
      "\r",
      "38.1%"
     ]
    },
    {
     "name": "stderr",
     "output_type": "stream",
     "text": [
      "\r",
      "38.2%"
     ]
    },
    {
     "name": "stderr",
     "output_type": "stream",
     "text": [
      "\r",
      "38.3%"
     ]
    },
    {
     "name": "stderr",
     "output_type": "stream",
     "text": [
      "\r",
      "38.3%"
     ]
    },
    {
     "name": "stderr",
     "output_type": "stream",
     "text": [
      "\r",
      "38.4%"
     ]
    },
    {
     "name": "stderr",
     "output_type": "stream",
     "text": [
      "\r",
      "38.5%"
     ]
    },
    {
     "name": "stderr",
     "output_type": "stream",
     "text": [
      "\r",
      "38.6%"
     ]
    },
    {
     "name": "stderr",
     "output_type": "stream",
     "text": [
      "\r",
      "38.7%"
     ]
    },
    {
     "name": "stderr",
     "output_type": "stream",
     "text": [
      "\r",
      "38.8%"
     ]
    },
    {
     "name": "stderr",
     "output_type": "stream",
     "text": [
      "\r",
      "38.8%"
     ]
    },
    {
     "name": "stderr",
     "output_type": "stream",
     "text": [
      "\r",
      "38.9%"
     ]
    },
    {
     "name": "stderr",
     "output_type": "stream",
     "text": [
      "\r",
      "39.0%"
     ]
    },
    {
     "name": "stderr",
     "output_type": "stream",
     "text": [
      "\r",
      "39.1%"
     ]
    },
    {
     "name": "stderr",
     "output_type": "stream",
     "text": [
      "\r",
      "39.2%"
     ]
    },
    {
     "name": "stderr",
     "output_type": "stream",
     "text": [
      "\r",
      "39.3%"
     ]
    },
    {
     "name": "stderr",
     "output_type": "stream",
     "text": [
      "\r",
      "39.3%"
     ]
    },
    {
     "name": "stderr",
     "output_type": "stream",
     "text": [
      "\r",
      "39.4%"
     ]
    },
    {
     "name": "stderr",
     "output_type": "stream",
     "text": [
      "\r",
      "39.5%"
     ]
    },
    {
     "name": "stderr",
     "output_type": "stream",
     "text": [
      "\r",
      "39.6%"
     ]
    },
    {
     "name": "stderr",
     "output_type": "stream",
     "text": [
      "\r",
      "39.7%"
     ]
    },
    {
     "name": "stderr",
     "output_type": "stream",
     "text": [
      "\r",
      "39.8%"
     ]
    },
    {
     "name": "stderr",
     "output_type": "stream",
     "text": [
      "\r",
      "39.8%"
     ]
    },
    {
     "name": "stderr",
     "output_type": "stream",
     "text": [
      "\r",
      "39.9%"
     ]
    },
    {
     "name": "stderr",
     "output_type": "stream",
     "text": [
      "\r",
      "40.0%"
     ]
    },
    {
     "name": "stderr",
     "output_type": "stream",
     "text": [
      "\r",
      "40.1%"
     ]
    },
    {
     "name": "stderr",
     "output_type": "stream",
     "text": [
      "\r",
      "40.2%"
     ]
    },
    {
     "name": "stderr",
     "output_type": "stream",
     "text": [
      "\r",
      "40.2%"
     ]
    },
    {
     "name": "stderr",
     "output_type": "stream",
     "text": [
      "\r",
      "40.3%"
     ]
    },
    {
     "name": "stderr",
     "output_type": "stream",
     "text": [
      "\r",
      "40.4%"
     ]
    },
    {
     "name": "stderr",
     "output_type": "stream",
     "text": [
      "\r",
      "40.5%"
     ]
    },
    {
     "name": "stderr",
     "output_type": "stream",
     "text": [
      "\r",
      "40.6%"
     ]
    },
    {
     "name": "stderr",
     "output_type": "stream",
     "text": [
      "\r",
      "40.7%"
     ]
    },
    {
     "name": "stderr",
     "output_type": "stream",
     "text": [
      "\r",
      "40.7%"
     ]
    },
    {
     "name": "stderr",
     "output_type": "stream",
     "text": [
      "\r",
      "40.8%"
     ]
    },
    {
     "name": "stderr",
     "output_type": "stream",
     "text": [
      "\r",
      "40.9%"
     ]
    },
    {
     "name": "stderr",
     "output_type": "stream",
     "text": [
      "\r",
      "41.0%"
     ]
    },
    {
     "name": "stderr",
     "output_type": "stream",
     "text": [
      "\r",
      "41.1%"
     ]
    },
    {
     "name": "stderr",
     "output_type": "stream",
     "text": [
      "\r",
      "41.2%"
     ]
    },
    {
     "name": "stderr",
     "output_type": "stream",
     "text": [
      "\r",
      "41.2%"
     ]
    },
    {
     "name": "stderr",
     "output_type": "stream",
     "text": [
      "\r",
      "41.3%"
     ]
    },
    {
     "name": "stderr",
     "output_type": "stream",
     "text": [
      "\r",
      "41.4%"
     ]
    },
    {
     "name": "stderr",
     "output_type": "stream",
     "text": [
      "\r",
      "41.5%"
     ]
    },
    {
     "name": "stderr",
     "output_type": "stream",
     "text": [
      "\r",
      "41.6%"
     ]
    },
    {
     "name": "stderr",
     "output_type": "stream",
     "text": [
      "\r",
      "41.7%"
     ]
    },
    {
     "name": "stderr",
     "output_type": "stream",
     "text": [
      "\r",
      "41.7%"
     ]
    },
    {
     "name": "stderr",
     "output_type": "stream",
     "text": [
      "\r",
      "41.8%"
     ]
    },
    {
     "name": "stderr",
     "output_type": "stream",
     "text": [
      "\r",
      "41.9%"
     ]
    },
    {
     "name": "stderr",
     "output_type": "stream",
     "text": [
      "\r",
      "42.0%"
     ]
    },
    {
     "name": "stderr",
     "output_type": "stream",
     "text": [
      "\r",
      "42.1%"
     ]
    },
    {
     "name": "stderr",
     "output_type": "stream",
     "text": [
      "\r",
      "42.1%"
     ]
    },
    {
     "name": "stderr",
     "output_type": "stream",
     "text": [
      "\r",
      "42.2%"
     ]
    },
    {
     "name": "stderr",
     "output_type": "stream",
     "text": [
      "\r",
      "42.3%"
     ]
    },
    {
     "name": "stderr",
     "output_type": "stream",
     "text": [
      "\r",
      "42.4%"
     ]
    },
    {
     "name": "stderr",
     "output_type": "stream",
     "text": [
      "\r",
      "42.5%"
     ]
    },
    {
     "name": "stderr",
     "output_type": "stream",
     "text": [
      "\r",
      "42.6%"
     ]
    },
    {
     "name": "stderr",
     "output_type": "stream",
     "text": [
      "\r",
      "42.6%"
     ]
    },
    {
     "name": "stderr",
     "output_type": "stream",
     "text": [
      "\r",
      "42.7%"
     ]
    },
    {
     "name": "stderr",
     "output_type": "stream",
     "text": [
      "\r",
      "42.8%"
     ]
    },
    {
     "name": "stderr",
     "output_type": "stream",
     "text": [
      "\r",
      "42.9%"
     ]
    },
    {
     "name": "stderr",
     "output_type": "stream",
     "text": [
      "\r",
      "43.0%"
     ]
    },
    {
     "name": "stderr",
     "output_type": "stream",
     "text": [
      "\r",
      "43.1%"
     ]
    },
    {
     "name": "stderr",
     "output_type": "stream",
     "text": [
      "\r",
      "43.1%"
     ]
    },
    {
     "name": "stderr",
     "output_type": "stream",
     "text": [
      "\r",
      "43.2%"
     ]
    },
    {
     "name": "stderr",
     "output_type": "stream",
     "text": [
      "\r",
      "43.3%"
     ]
    },
    {
     "name": "stderr",
     "output_type": "stream",
     "text": [
      "\r",
      "43.4%"
     ]
    },
    {
     "name": "stderr",
     "output_type": "stream",
     "text": [
      "\r",
      "43.5%"
     ]
    },
    {
     "name": "stderr",
     "output_type": "stream",
     "text": [
      "\r",
      "43.6%"
     ]
    },
    {
     "name": "stderr",
     "output_type": "stream",
     "text": [
      "\r",
      "43.6%"
     ]
    },
    {
     "name": "stderr",
     "output_type": "stream",
     "text": [
      "\r",
      "43.7%"
     ]
    },
    {
     "name": "stderr",
     "output_type": "stream",
     "text": [
      "\r",
      "43.8%"
     ]
    },
    {
     "name": "stderr",
     "output_type": "stream",
     "text": [
      "\r",
      "43.9%"
     ]
    },
    {
     "name": "stderr",
     "output_type": "stream",
     "text": [
      "\r",
      "44.0%"
     ]
    },
    {
     "name": "stderr",
     "output_type": "stream",
     "text": [
      "\r",
      "44.0%"
     ]
    },
    {
     "name": "stderr",
     "output_type": "stream",
     "text": [
      "\r",
      "44.1%"
     ]
    },
    {
     "name": "stderr",
     "output_type": "stream",
     "text": [
      "\r",
      "44.2%"
     ]
    },
    {
     "name": "stderr",
     "output_type": "stream",
     "text": [
      "\r",
      "44.3%"
     ]
    },
    {
     "name": "stderr",
     "output_type": "stream",
     "text": [
      "\r",
      "44.4%"
     ]
    },
    {
     "name": "stderr",
     "output_type": "stream",
     "text": [
      "\r",
      "44.5%"
     ]
    },
    {
     "name": "stderr",
     "output_type": "stream",
     "text": [
      "\r",
      "44.5%"
     ]
    },
    {
     "name": "stderr",
     "output_type": "stream",
     "text": [
      "\r",
      "44.6%"
     ]
    },
    {
     "name": "stderr",
     "output_type": "stream",
     "text": [
      "\r",
      "44.7%"
     ]
    },
    {
     "name": "stderr",
     "output_type": "stream",
     "text": [
      "\r",
      "44.8%"
     ]
    },
    {
     "name": "stderr",
     "output_type": "stream",
     "text": [
      "\r",
      "44.9%"
     ]
    },
    {
     "name": "stderr",
     "output_type": "stream",
     "text": [
      "\r",
      "45.0%"
     ]
    },
    {
     "name": "stderr",
     "output_type": "stream",
     "text": [
      "\r",
      "45.0%"
     ]
    },
    {
     "name": "stderr",
     "output_type": "stream",
     "text": [
      "\r",
      "45.1%"
     ]
    },
    {
     "name": "stderr",
     "output_type": "stream",
     "text": [
      "\r",
      "45.2%"
     ]
    },
    {
     "name": "stderr",
     "output_type": "stream",
     "text": [
      "\r",
      "45.3%"
     ]
    },
    {
     "name": "stderr",
     "output_type": "stream",
     "text": [
      "\r",
      "45.4%"
     ]
    },
    {
     "name": "stderr",
     "output_type": "stream",
     "text": [
      "\r",
      "45.5%"
     ]
    },
    {
     "name": "stderr",
     "output_type": "stream",
     "text": [
      "\r",
      "45.5%"
     ]
    },
    {
     "name": "stderr",
     "output_type": "stream",
     "text": [
      "\r",
      "45.6%"
     ]
    },
    {
     "name": "stderr",
     "output_type": "stream",
     "text": [
      "\r",
      "45.7%"
     ]
    },
    {
     "name": "stderr",
     "output_type": "stream",
     "text": [
      "\r",
      "45.8%"
     ]
    },
    {
     "name": "stderr",
     "output_type": "stream",
     "text": [
      "\r",
      "45.9%"
     ]
    },
    {
     "name": "stderr",
     "output_type": "stream",
     "text": [
      "\r",
      "45.9%"
     ]
    },
    {
     "name": "stderr",
     "output_type": "stream",
     "text": [
      "\r",
      "46.0%"
     ]
    },
    {
     "name": "stderr",
     "output_type": "stream",
     "text": [
      "\r",
      "46.1%"
     ]
    },
    {
     "name": "stderr",
     "output_type": "stream",
     "text": [
      "\r",
      "46.2%"
     ]
    },
    {
     "name": "stderr",
     "output_type": "stream",
     "text": [
      "\r",
      "46.3%"
     ]
    },
    {
     "name": "stderr",
     "output_type": "stream",
     "text": [
      "\r",
      "46.4%"
     ]
    },
    {
     "name": "stderr",
     "output_type": "stream",
     "text": [
      "\r",
      "46.4%"
     ]
    },
    {
     "name": "stderr",
     "output_type": "stream",
     "text": [
      "\r",
      "46.5%"
     ]
    },
    {
     "name": "stderr",
     "output_type": "stream",
     "text": [
      "\r",
      "46.6%"
     ]
    },
    {
     "name": "stderr",
     "output_type": "stream",
     "text": [
      "\r",
      "46.7%"
     ]
    },
    {
     "name": "stderr",
     "output_type": "stream",
     "text": [
      "\r",
      "46.8%"
     ]
    },
    {
     "name": "stderr",
     "output_type": "stream",
     "text": [
      "\r",
      "46.9%"
     ]
    },
    {
     "name": "stderr",
     "output_type": "stream",
     "text": [
      "\r",
      "46.9%"
     ]
    },
    {
     "name": "stderr",
     "output_type": "stream",
     "text": [
      "\r",
      "47.0%"
     ]
    },
    {
     "name": "stderr",
     "output_type": "stream",
     "text": [
      "\r",
      "47.1%"
     ]
    },
    {
     "name": "stderr",
     "output_type": "stream",
     "text": [
      "\r",
      "47.2%"
     ]
    },
    {
     "name": "stderr",
     "output_type": "stream",
     "text": [
      "\r",
      "47.3%"
     ]
    },
    {
     "name": "stderr",
     "output_type": "stream",
     "text": [
      "\r",
      "47.4%"
     ]
    },
    {
     "name": "stderr",
     "output_type": "stream",
     "text": [
      "\r",
      "47.4%"
     ]
    },
    {
     "name": "stderr",
     "output_type": "stream",
     "text": [
      "\r",
      "47.5%"
     ]
    },
    {
     "name": "stderr",
     "output_type": "stream",
     "text": [
      "\r",
      "47.6%"
     ]
    },
    {
     "name": "stderr",
     "output_type": "stream",
     "text": [
      "\r",
      "47.7%"
     ]
    },
    {
     "name": "stderr",
     "output_type": "stream",
     "text": [
      "\r",
      "47.8%"
     ]
    },
    {
     "name": "stderr",
     "output_type": "stream",
     "text": [
      "\r",
      "47.9%"
     ]
    },
    {
     "name": "stderr",
     "output_type": "stream",
     "text": [
      "\r",
      "47.9%"
     ]
    },
    {
     "name": "stderr",
     "output_type": "stream",
     "text": [
      "\r",
      "48.0%"
     ]
    },
    {
     "name": "stderr",
     "output_type": "stream",
     "text": [
      "\r",
      "48.1%"
     ]
    },
    {
     "name": "stderr",
     "output_type": "stream",
     "text": [
      "\r",
      "48.2%"
     ]
    },
    {
     "name": "stderr",
     "output_type": "stream",
     "text": [
      "\r",
      "48.3%"
     ]
    },
    {
     "name": "stderr",
     "output_type": "stream",
     "text": [
      "\r",
      "48.3%"
     ]
    },
    {
     "name": "stderr",
     "output_type": "stream",
     "text": [
      "\r",
      "48.4%"
     ]
    },
    {
     "name": "stderr",
     "output_type": "stream",
     "text": [
      "\r",
      "48.5%"
     ]
    },
    {
     "name": "stderr",
     "output_type": "stream",
     "text": [
      "\r",
      "48.6%"
     ]
    },
    {
     "name": "stderr",
     "output_type": "stream",
     "text": [
      "\r",
      "48.7%"
     ]
    },
    {
     "name": "stderr",
     "output_type": "stream",
     "text": [
      "\r",
      "48.8%"
     ]
    },
    {
     "name": "stderr",
     "output_type": "stream",
     "text": [
      "\r",
      "48.8%"
     ]
    },
    {
     "name": "stderr",
     "output_type": "stream",
     "text": [
      "\r",
      "48.9%"
     ]
    },
    {
     "name": "stderr",
     "output_type": "stream",
     "text": [
      "\r",
      "49.0%"
     ]
    },
    {
     "name": "stderr",
     "output_type": "stream",
     "text": [
      "\r",
      "49.1%"
     ]
    },
    {
     "name": "stderr",
     "output_type": "stream",
     "text": [
      "\r",
      "49.2%"
     ]
    },
    {
     "name": "stderr",
     "output_type": "stream",
     "text": [
      "\r",
      "49.3%"
     ]
    },
    {
     "name": "stderr",
     "output_type": "stream",
     "text": [
      "\r",
      "49.3%"
     ]
    },
    {
     "name": "stderr",
     "output_type": "stream",
     "text": [
      "\r",
      "49.4%"
     ]
    },
    {
     "name": "stderr",
     "output_type": "stream",
     "text": [
      "\r",
      "49.5%"
     ]
    },
    {
     "name": "stderr",
     "output_type": "stream",
     "text": [
      "\r",
      "49.6%"
     ]
    },
    {
     "name": "stderr",
     "output_type": "stream",
     "text": [
      "\r",
      "49.7%"
     ]
    },
    {
     "name": "stderr",
     "output_type": "stream",
     "text": [
      "\r",
      "49.8%"
     ]
    },
    {
     "name": "stderr",
     "output_type": "stream",
     "text": [
      "\r",
      "49.8%"
     ]
    },
    {
     "name": "stderr",
     "output_type": "stream",
     "text": [
      "\r",
      "49.9%"
     ]
    },
    {
     "name": "stderr",
     "output_type": "stream",
     "text": [
      "\r",
      "50.0%"
     ]
    },
    {
     "name": "stderr",
     "output_type": "stream",
     "text": [
      "\r",
      "50.1%"
     ]
    },
    {
     "name": "stderr",
     "output_type": "stream",
     "text": [
      "\r",
      "50.2%"
     ]
    },
    {
     "name": "stderr",
     "output_type": "stream",
     "text": [
      "\r",
      "50.2%"
     ]
    },
    {
     "name": "stderr",
     "output_type": "stream",
     "text": [
      "\r",
      "50.3%"
     ]
    },
    {
     "name": "stderr",
     "output_type": "stream",
     "text": [
      "\r",
      "50.4%"
     ]
    },
    {
     "name": "stderr",
     "output_type": "stream",
     "text": [
      "\r",
      "50.5%"
     ]
    },
    {
     "name": "stderr",
     "output_type": "stream",
     "text": [
      "\r",
      "50.6%"
     ]
    },
    {
     "name": "stderr",
     "output_type": "stream",
     "text": [
      "\r",
      "50.7%"
     ]
    },
    {
     "name": "stderr",
     "output_type": "stream",
     "text": [
      "\r",
      "50.7%"
     ]
    },
    {
     "name": "stderr",
     "output_type": "stream",
     "text": [
      "\r",
      "50.8%"
     ]
    },
    {
     "name": "stderr",
     "output_type": "stream",
     "text": [
      "\r",
      "50.9%"
     ]
    },
    {
     "name": "stderr",
     "output_type": "stream",
     "text": [
      "\r",
      "51.0%"
     ]
    },
    {
     "name": "stderr",
     "output_type": "stream",
     "text": [
      "\r",
      "51.1%"
     ]
    },
    {
     "name": "stderr",
     "output_type": "stream",
     "text": [
      "\r",
      "51.2%"
     ]
    },
    {
     "name": "stderr",
     "output_type": "stream",
     "text": [
      "\r",
      "51.2%"
     ]
    },
    {
     "name": "stderr",
     "output_type": "stream",
     "text": [
      "\r",
      "51.3%"
     ]
    },
    {
     "name": "stderr",
     "output_type": "stream",
     "text": [
      "\r",
      "51.4%"
     ]
    },
    {
     "name": "stderr",
     "output_type": "stream",
     "text": [
      "\r",
      "51.5%"
     ]
    },
    {
     "name": "stderr",
     "output_type": "stream",
     "text": [
      "\r",
      "51.6%"
     ]
    },
    {
     "name": "stderr",
     "output_type": "stream",
     "text": [
      "\r",
      "51.7%"
     ]
    },
    {
     "name": "stderr",
     "output_type": "stream",
     "text": [
      "\r",
      "51.7%"
     ]
    },
    {
     "name": "stderr",
     "output_type": "stream",
     "text": [
      "\r",
      "51.8%"
     ]
    },
    {
     "name": "stderr",
     "output_type": "stream",
     "text": [
      "\r",
      "51.9%"
     ]
    },
    {
     "name": "stderr",
     "output_type": "stream",
     "text": [
      "\r",
      "52.0%"
     ]
    },
    {
     "name": "stderr",
     "output_type": "stream",
     "text": [
      "\r",
      "52.1%"
     ]
    },
    {
     "name": "stderr",
     "output_type": "stream",
     "text": [
      "\r",
      "52.1%"
     ]
    },
    {
     "name": "stderr",
     "output_type": "stream",
     "text": [
      "\r",
      "52.2%"
     ]
    },
    {
     "name": "stderr",
     "output_type": "stream",
     "text": [
      "\r",
      "52.3%"
     ]
    },
    {
     "name": "stderr",
     "output_type": "stream",
     "text": [
      "\r",
      "52.4%"
     ]
    },
    {
     "name": "stderr",
     "output_type": "stream",
     "text": [
      "\r",
      "52.5%"
     ]
    },
    {
     "name": "stderr",
     "output_type": "stream",
     "text": [
      "\r",
      "52.6%"
     ]
    },
    {
     "name": "stderr",
     "output_type": "stream",
     "text": [
      "\r",
      "52.6%"
     ]
    },
    {
     "name": "stderr",
     "output_type": "stream",
     "text": [
      "\r",
      "52.7%"
     ]
    },
    {
     "name": "stderr",
     "output_type": "stream",
     "text": [
      "\r",
      "52.8%"
     ]
    },
    {
     "name": "stderr",
     "output_type": "stream",
     "text": [
      "\r",
      "52.9%"
     ]
    },
    {
     "name": "stderr",
     "output_type": "stream",
     "text": [
      "\r",
      "53.0%"
     ]
    },
    {
     "name": "stderr",
     "output_type": "stream",
     "text": [
      "\r",
      "53.1%"
     ]
    },
    {
     "name": "stderr",
     "output_type": "stream",
     "text": [
      "\r",
      "53.1%"
     ]
    },
    {
     "name": "stderr",
     "output_type": "stream",
     "text": [
      "\r",
      "53.2%"
     ]
    },
    {
     "name": "stderr",
     "output_type": "stream",
     "text": [
      "\r",
      "53.3%"
     ]
    },
    {
     "name": "stderr",
     "output_type": "stream",
     "text": [
      "\r",
      "53.4%"
     ]
    },
    {
     "name": "stderr",
     "output_type": "stream",
     "text": [
      "\r",
      "53.5%"
     ]
    },
    {
     "name": "stderr",
     "output_type": "stream",
     "text": [
      "\r",
      "53.6%"
     ]
    },
    {
     "name": "stderr",
     "output_type": "stream",
     "text": [
      "\r",
      "53.6%"
     ]
    },
    {
     "name": "stderr",
     "output_type": "stream",
     "text": [
      "\r",
      "53.7%"
     ]
    },
    {
     "name": "stderr",
     "output_type": "stream",
     "text": [
      "\r",
      "53.8%"
     ]
    },
    {
     "name": "stderr",
     "output_type": "stream",
     "text": [
      "\r",
      "53.9%"
     ]
    },
    {
     "name": "stderr",
     "output_type": "stream",
     "text": [
      "\r",
      "54.0%"
     ]
    },
    {
     "name": "stderr",
     "output_type": "stream",
     "text": [
      "\r",
      "54.0%"
     ]
    },
    {
     "name": "stderr",
     "output_type": "stream",
     "text": [
      "\r",
      "54.1%"
     ]
    },
    {
     "name": "stderr",
     "output_type": "stream",
     "text": [
      "\r",
      "54.2%"
     ]
    },
    {
     "name": "stderr",
     "output_type": "stream",
     "text": [
      "\r",
      "54.3%"
     ]
    },
    {
     "name": "stderr",
     "output_type": "stream",
     "text": [
      "\r",
      "54.4%"
     ]
    },
    {
     "name": "stderr",
     "output_type": "stream",
     "text": [
      "\r",
      "54.5%"
     ]
    },
    {
     "name": "stderr",
     "output_type": "stream",
     "text": [
      "\r",
      "54.5%"
     ]
    },
    {
     "name": "stderr",
     "output_type": "stream",
     "text": [
      "\r",
      "54.6%"
     ]
    },
    {
     "name": "stderr",
     "output_type": "stream",
     "text": [
      "\r",
      "54.7%"
     ]
    },
    {
     "name": "stderr",
     "output_type": "stream",
     "text": [
      "\r",
      "54.8%"
     ]
    },
    {
     "name": "stderr",
     "output_type": "stream",
     "text": [
      "\r",
      "54.9%"
     ]
    },
    {
     "name": "stderr",
     "output_type": "stream",
     "text": [
      "\r",
      "55.0%"
     ]
    },
    {
     "name": "stderr",
     "output_type": "stream",
     "text": [
      "\r",
      "55.0%"
     ]
    },
    {
     "name": "stderr",
     "output_type": "stream",
     "text": [
      "\r",
      "55.1%"
     ]
    },
    {
     "name": "stderr",
     "output_type": "stream",
     "text": [
      "\r",
      "55.2%"
     ]
    },
    {
     "name": "stderr",
     "output_type": "stream",
     "text": [
      "\r",
      "55.3%"
     ]
    },
    {
     "name": "stderr",
     "output_type": "stream",
     "text": [
      "\r",
      "55.4%"
     ]
    },
    {
     "name": "stderr",
     "output_type": "stream",
     "text": [
      "\r",
      "55.5%"
     ]
    },
    {
     "name": "stderr",
     "output_type": "stream",
     "text": [
      "\r",
      "55.5%"
     ]
    },
    {
     "name": "stderr",
     "output_type": "stream",
     "text": [
      "\r",
      "55.6%"
     ]
    },
    {
     "name": "stderr",
     "output_type": "stream",
     "text": [
      "\r",
      "55.7%"
     ]
    },
    {
     "name": "stderr",
     "output_type": "stream",
     "text": [
      "\r",
      "55.8%"
     ]
    },
    {
     "name": "stderr",
     "output_type": "stream",
     "text": [
      "\r",
      "55.9%"
     ]
    },
    {
     "name": "stderr",
     "output_type": "stream",
     "text": [
      "\r",
      "55.9%"
     ]
    },
    {
     "name": "stderr",
     "output_type": "stream",
     "text": [
      "\r",
      "56.0%"
     ]
    },
    {
     "name": "stderr",
     "output_type": "stream",
     "text": [
      "\r",
      "56.1%"
     ]
    },
    {
     "name": "stderr",
     "output_type": "stream",
     "text": [
      "\r",
      "56.2%"
     ]
    },
    {
     "name": "stderr",
     "output_type": "stream",
     "text": [
      "\r",
      "56.3%"
     ]
    },
    {
     "name": "stderr",
     "output_type": "stream",
     "text": [
      "\r",
      "56.4%"
     ]
    },
    {
     "name": "stderr",
     "output_type": "stream",
     "text": [
      "\r",
      "56.4%"
     ]
    },
    {
     "name": "stderr",
     "output_type": "stream",
     "text": [
      "\r",
      "56.5%"
     ]
    },
    {
     "name": "stderr",
     "output_type": "stream",
     "text": [
      "\r",
      "56.6%"
     ]
    },
    {
     "name": "stderr",
     "output_type": "stream",
     "text": [
      "\r",
      "56.7%"
     ]
    },
    {
     "name": "stderr",
     "output_type": "stream",
     "text": [
      "\r",
      "56.8%"
     ]
    },
    {
     "name": "stderr",
     "output_type": "stream",
     "text": [
      "\r",
      "56.9%"
     ]
    },
    {
     "name": "stderr",
     "output_type": "stream",
     "text": [
      "\r",
      "56.9%"
     ]
    },
    {
     "name": "stderr",
     "output_type": "stream",
     "text": [
      "\r",
      "57.0%"
     ]
    },
    {
     "name": "stderr",
     "output_type": "stream",
     "text": [
      "\r",
      "57.1%"
     ]
    },
    {
     "name": "stderr",
     "output_type": "stream",
     "text": [
      "\r",
      "57.2%"
     ]
    },
    {
     "name": "stderr",
     "output_type": "stream",
     "text": [
      "\r",
      "57.3%"
     ]
    },
    {
     "name": "stderr",
     "output_type": "stream",
     "text": [
      "\r",
      "57.4%"
     ]
    },
    {
     "name": "stderr",
     "output_type": "stream",
     "text": [
      "\r",
      "57.4%"
     ]
    },
    {
     "name": "stderr",
     "output_type": "stream",
     "text": [
      "\r",
      "57.5%"
     ]
    },
    {
     "name": "stderr",
     "output_type": "stream",
     "text": [
      "\r",
      "57.6%"
     ]
    },
    {
     "name": "stderr",
     "output_type": "stream",
     "text": [
      "\r",
      "57.7%"
     ]
    },
    {
     "name": "stderr",
     "output_type": "stream",
     "text": [
      "\r",
      "57.8%"
     ]
    },
    {
     "name": "stderr",
     "output_type": "stream",
     "text": [
      "\r",
      "57.9%"
     ]
    },
    {
     "name": "stderr",
     "output_type": "stream",
     "text": [
      "\r",
      "57.9%"
     ]
    },
    {
     "name": "stderr",
     "output_type": "stream",
     "text": [
      "\r",
      "58.0%"
     ]
    },
    {
     "name": "stderr",
     "output_type": "stream",
     "text": [
      "\r",
      "58.1%"
     ]
    },
    {
     "name": "stderr",
     "output_type": "stream",
     "text": [
      "\r",
      "58.2%"
     ]
    },
    {
     "name": "stderr",
     "output_type": "stream",
     "text": [
      "\r",
      "58.3%"
     ]
    },
    {
     "name": "stderr",
     "output_type": "stream",
     "text": [
      "\r",
      "58.3%"
     ]
    },
    {
     "name": "stderr",
     "output_type": "stream",
     "text": [
      "\r",
      "58.4%"
     ]
    },
    {
     "name": "stderr",
     "output_type": "stream",
     "text": [
      "\r",
      "58.5%"
     ]
    },
    {
     "name": "stderr",
     "output_type": "stream",
     "text": [
      "\r",
      "58.6%"
     ]
    },
    {
     "name": "stderr",
     "output_type": "stream",
     "text": [
      "\r",
      "58.7%"
     ]
    },
    {
     "name": "stderr",
     "output_type": "stream",
     "text": [
      "\r",
      "58.8%"
     ]
    },
    {
     "name": "stderr",
     "output_type": "stream",
     "text": [
      "\r",
      "58.8%"
     ]
    },
    {
     "name": "stderr",
     "output_type": "stream",
     "text": [
      "\r",
      "58.9%"
     ]
    },
    {
     "name": "stderr",
     "output_type": "stream",
     "text": [
      "\r",
      "59.0%"
     ]
    },
    {
     "name": "stderr",
     "output_type": "stream",
     "text": [
      "\r",
      "59.1%"
     ]
    },
    {
     "name": "stderr",
     "output_type": "stream",
     "text": [
      "\r",
      "59.2%"
     ]
    },
    {
     "name": "stderr",
     "output_type": "stream",
     "text": [
      "\r",
      "59.3%"
     ]
    },
    {
     "name": "stderr",
     "output_type": "stream",
     "text": [
      "\r",
      "59.3%"
     ]
    },
    {
     "name": "stderr",
     "output_type": "stream",
     "text": [
      "\r",
      "59.4%"
     ]
    },
    {
     "name": "stderr",
     "output_type": "stream",
     "text": [
      "\r",
      "59.5%"
     ]
    },
    {
     "name": "stderr",
     "output_type": "stream",
     "text": [
      "\r",
      "59.6%"
     ]
    },
    {
     "name": "stderr",
     "output_type": "stream",
     "text": [
      "\r",
      "59.7%"
     ]
    },
    {
     "name": "stderr",
     "output_type": "stream",
     "text": [
      "\r",
      "59.8%"
     ]
    },
    {
     "name": "stderr",
     "output_type": "stream",
     "text": [
      "\r",
      "59.8%"
     ]
    },
    {
     "name": "stderr",
     "output_type": "stream",
     "text": [
      "\r",
      "59.9%"
     ]
    },
    {
     "name": "stderr",
     "output_type": "stream",
     "text": [
      "\r",
      "60.0%"
     ]
    },
    {
     "name": "stderr",
     "output_type": "stream",
     "text": [
      "\r",
      "60.1%"
     ]
    },
    {
     "name": "stderr",
     "output_type": "stream",
     "text": [
      "\r",
      "60.2%"
     ]
    },
    {
     "name": "stderr",
     "output_type": "stream",
     "text": [
      "\r",
      "60.2%"
     ]
    },
    {
     "name": "stderr",
     "output_type": "stream",
     "text": [
      "\r",
      "60.3%"
     ]
    },
    {
     "name": "stderr",
     "output_type": "stream",
     "text": [
      "\r",
      "60.4%"
     ]
    },
    {
     "name": "stderr",
     "output_type": "stream",
     "text": [
      "\r",
      "60.5%"
     ]
    },
    {
     "name": "stderr",
     "output_type": "stream",
     "text": [
      "\r",
      "60.6%"
     ]
    },
    {
     "name": "stderr",
     "output_type": "stream",
     "text": [
      "\r",
      "60.7%"
     ]
    },
    {
     "name": "stderr",
     "output_type": "stream",
     "text": [
      "\r",
      "60.7%"
     ]
    },
    {
     "name": "stderr",
     "output_type": "stream",
     "text": [
      "\r",
      "60.8%"
     ]
    },
    {
     "name": "stderr",
     "output_type": "stream",
     "text": [
      "\r",
      "60.9%"
     ]
    },
    {
     "name": "stderr",
     "output_type": "stream",
     "text": [
      "\r",
      "61.0%"
     ]
    },
    {
     "name": "stderr",
     "output_type": "stream",
     "text": [
      "\r",
      "61.1%"
     ]
    },
    {
     "name": "stderr",
     "output_type": "stream",
     "text": [
      "\r",
      "61.2%"
     ]
    },
    {
     "name": "stderr",
     "output_type": "stream",
     "text": [
      "\r",
      "61.2%"
     ]
    },
    {
     "name": "stderr",
     "output_type": "stream",
     "text": [
      "\r",
      "61.3%"
     ]
    },
    {
     "name": "stderr",
     "output_type": "stream",
     "text": [
      "\r",
      "61.4%"
     ]
    },
    {
     "name": "stderr",
     "output_type": "stream",
     "text": [
      "\r",
      "61.5%"
     ]
    },
    {
     "name": "stderr",
     "output_type": "stream",
     "text": [
      "\r",
      "61.6%"
     ]
    },
    {
     "name": "stderr",
     "output_type": "stream",
     "text": [
      "\r",
      "61.7%"
     ]
    },
    {
     "name": "stderr",
     "output_type": "stream",
     "text": [
      "\r",
      "61.7%"
     ]
    },
    {
     "name": "stderr",
     "output_type": "stream",
     "text": [
      "\r",
      "61.8%"
     ]
    },
    {
     "name": "stderr",
     "output_type": "stream",
     "text": [
      "\r",
      "61.9%"
     ]
    },
    {
     "name": "stderr",
     "output_type": "stream",
     "text": [
      "\r",
      "62.0%"
     ]
    },
    {
     "name": "stderr",
     "output_type": "stream",
     "text": [
      "\r",
      "62.1%"
     ]
    },
    {
     "name": "stderr",
     "output_type": "stream",
     "text": [
      "\r",
      "62.1%"
     ]
    },
    {
     "name": "stderr",
     "output_type": "stream",
     "text": [
      "\r",
      "62.2%"
     ]
    },
    {
     "name": "stderr",
     "output_type": "stream",
     "text": [
      "\r",
      "62.3%"
     ]
    },
    {
     "name": "stderr",
     "output_type": "stream",
     "text": [
      "\r",
      "62.4%"
     ]
    },
    {
     "name": "stderr",
     "output_type": "stream",
     "text": [
      "\r",
      "62.5%"
     ]
    },
    {
     "name": "stderr",
     "output_type": "stream",
     "text": [
      "\r",
      "62.6%"
     ]
    },
    {
     "name": "stderr",
     "output_type": "stream",
     "text": [
      "\r",
      "62.6%"
     ]
    },
    {
     "name": "stderr",
     "output_type": "stream",
     "text": [
      "\r",
      "62.7%"
     ]
    },
    {
     "name": "stderr",
     "output_type": "stream",
     "text": [
      "\r",
      "62.8%"
     ]
    },
    {
     "name": "stderr",
     "output_type": "stream",
     "text": [
      "\r",
      "62.9%"
     ]
    },
    {
     "name": "stderr",
     "output_type": "stream",
     "text": [
      "\r",
      "63.0%"
     ]
    },
    {
     "name": "stderr",
     "output_type": "stream",
     "text": [
      "\r",
      "63.1%"
     ]
    },
    {
     "name": "stderr",
     "output_type": "stream",
     "text": [
      "\r",
      "63.1%"
     ]
    },
    {
     "name": "stderr",
     "output_type": "stream",
     "text": [
      "\r",
      "63.2%"
     ]
    },
    {
     "name": "stderr",
     "output_type": "stream",
     "text": [
      "\r",
      "63.3%"
     ]
    },
    {
     "name": "stderr",
     "output_type": "stream",
     "text": [
      "\r",
      "63.4%"
     ]
    },
    {
     "name": "stderr",
     "output_type": "stream",
     "text": [
      "\r",
      "63.5%"
     ]
    },
    {
     "name": "stderr",
     "output_type": "stream",
     "text": [
      "\r",
      "63.6%"
     ]
    },
    {
     "name": "stderr",
     "output_type": "stream",
     "text": [
      "\r",
      "63.6%"
     ]
    },
    {
     "name": "stderr",
     "output_type": "stream",
     "text": [
      "\r",
      "63.7%"
     ]
    },
    {
     "name": "stderr",
     "output_type": "stream",
     "text": [
      "\r",
      "63.8%"
     ]
    },
    {
     "name": "stderr",
     "output_type": "stream",
     "text": [
      "\r",
      "63.9%"
     ]
    },
    {
     "name": "stderr",
     "output_type": "stream",
     "text": [
      "\r",
      "64.0%"
     ]
    },
    {
     "name": "stderr",
     "output_type": "stream",
     "text": [
      "\r",
      "64.0%"
     ]
    },
    {
     "name": "stderr",
     "output_type": "stream",
     "text": [
      "\r",
      "64.1%"
     ]
    },
    {
     "name": "stderr",
     "output_type": "stream",
     "text": [
      "\r",
      "64.2%"
     ]
    },
    {
     "name": "stderr",
     "output_type": "stream",
     "text": [
      "\r",
      "64.3%"
     ]
    },
    {
     "name": "stderr",
     "output_type": "stream",
     "text": [
      "\r",
      "64.4%"
     ]
    },
    {
     "name": "stderr",
     "output_type": "stream",
     "text": [
      "\r",
      "64.5%"
     ]
    },
    {
     "name": "stderr",
     "output_type": "stream",
     "text": [
      "\r",
      "64.5%"
     ]
    },
    {
     "name": "stderr",
     "output_type": "stream",
     "text": [
      "\r",
      "64.6%"
     ]
    },
    {
     "name": "stderr",
     "output_type": "stream",
     "text": [
      "\r",
      "64.7%"
     ]
    },
    {
     "name": "stderr",
     "output_type": "stream",
     "text": [
      "\r",
      "64.8%"
     ]
    },
    {
     "name": "stderr",
     "output_type": "stream",
     "text": [
      "\r",
      "64.9%"
     ]
    },
    {
     "name": "stderr",
     "output_type": "stream",
     "text": [
      "\r",
      "65.0%"
     ]
    },
    {
     "name": "stderr",
     "output_type": "stream",
     "text": [
      "\r",
      "65.0%"
     ]
    },
    {
     "name": "stderr",
     "output_type": "stream",
     "text": [
      "\r",
      "65.1%"
     ]
    },
    {
     "name": "stderr",
     "output_type": "stream",
     "text": [
      "\r",
      "65.2%"
     ]
    },
    {
     "name": "stderr",
     "output_type": "stream",
     "text": [
      "\r",
      "65.3%"
     ]
    },
    {
     "name": "stderr",
     "output_type": "stream",
     "text": [
      "\r",
      "65.4%"
     ]
    },
    {
     "name": "stderr",
     "output_type": "stream",
     "text": [
      "\r",
      "65.5%"
     ]
    },
    {
     "name": "stderr",
     "output_type": "stream",
     "text": [
      "\r",
      "65.5%"
     ]
    },
    {
     "name": "stderr",
     "output_type": "stream",
     "text": [
      "\r",
      "65.6%"
     ]
    },
    {
     "name": "stderr",
     "output_type": "stream",
     "text": [
      "\r",
      "65.7%"
     ]
    },
    {
     "name": "stderr",
     "output_type": "stream",
     "text": [
      "\r",
      "65.8%"
     ]
    },
    {
     "name": "stderr",
     "output_type": "stream",
     "text": [
      "\r",
      "65.9%"
     ]
    },
    {
     "name": "stderr",
     "output_type": "stream",
     "text": [
      "\r",
      "65.9%"
     ]
    },
    {
     "name": "stderr",
     "output_type": "stream",
     "text": [
      "\r",
      "66.0%"
     ]
    },
    {
     "name": "stderr",
     "output_type": "stream",
     "text": [
      "\r",
      "66.1%"
     ]
    },
    {
     "name": "stderr",
     "output_type": "stream",
     "text": [
      "\r",
      "66.2%"
     ]
    },
    {
     "name": "stderr",
     "output_type": "stream",
     "text": [
      "\r",
      "66.3%"
     ]
    },
    {
     "name": "stderr",
     "output_type": "stream",
     "text": [
      "\r",
      "66.4%"
     ]
    },
    {
     "name": "stderr",
     "output_type": "stream",
     "text": [
      "\r",
      "66.4%"
     ]
    },
    {
     "name": "stderr",
     "output_type": "stream",
     "text": [
      "\r",
      "66.5%"
     ]
    },
    {
     "name": "stderr",
     "output_type": "stream",
     "text": [
      "\r",
      "66.6%"
     ]
    },
    {
     "name": "stderr",
     "output_type": "stream",
     "text": [
      "\r",
      "66.7%"
     ]
    },
    {
     "name": "stderr",
     "output_type": "stream",
     "text": [
      "\r",
      "66.8%"
     ]
    },
    {
     "name": "stderr",
     "output_type": "stream",
     "text": [
      "\r",
      "66.9%"
     ]
    },
    {
     "name": "stderr",
     "output_type": "stream",
     "text": [
      "\r",
      "66.9%"
     ]
    },
    {
     "name": "stderr",
     "output_type": "stream",
     "text": [
      "\r",
      "67.0%"
     ]
    },
    {
     "name": "stderr",
     "output_type": "stream",
     "text": [
      "\r",
      "67.1%"
     ]
    },
    {
     "name": "stderr",
     "output_type": "stream",
     "text": [
      "\r",
      "67.2%"
     ]
    },
    {
     "name": "stderr",
     "output_type": "stream",
     "text": [
      "\r",
      "67.3%"
     ]
    },
    {
     "name": "stderr",
     "output_type": "stream",
     "text": [
      "\r",
      "67.4%"
     ]
    },
    {
     "name": "stderr",
     "output_type": "stream",
     "text": [
      "\r",
      "67.4%"
     ]
    },
    {
     "name": "stderr",
     "output_type": "stream",
     "text": [
      "\r",
      "67.5%"
     ]
    },
    {
     "name": "stderr",
     "output_type": "stream",
     "text": [
      "\r",
      "67.6%"
     ]
    },
    {
     "name": "stderr",
     "output_type": "stream",
     "text": [
      "\r",
      "67.7%"
     ]
    },
    {
     "name": "stderr",
     "output_type": "stream",
     "text": [
      "\r",
      "67.8%"
     ]
    },
    {
     "name": "stderr",
     "output_type": "stream",
     "text": [
      "\r",
      "67.9%"
     ]
    },
    {
     "name": "stderr",
     "output_type": "stream",
     "text": [
      "\r",
      "67.9%"
     ]
    },
    {
     "name": "stderr",
     "output_type": "stream",
     "text": [
      "\r",
      "68.0%"
     ]
    },
    {
     "name": "stderr",
     "output_type": "stream",
     "text": [
      "\r",
      "68.1%"
     ]
    },
    {
     "name": "stderr",
     "output_type": "stream",
     "text": [
      "\r",
      "68.2%"
     ]
    },
    {
     "name": "stderr",
     "output_type": "stream",
     "text": [
      "\r",
      "68.3%"
     ]
    },
    {
     "name": "stderr",
     "output_type": "stream",
     "text": [
      "\r",
      "68.3%"
     ]
    },
    {
     "name": "stderr",
     "output_type": "stream",
     "text": [
      "\r",
      "68.4%"
     ]
    },
    {
     "name": "stderr",
     "output_type": "stream",
     "text": [
      "\r",
      "68.5%"
     ]
    },
    {
     "name": "stderr",
     "output_type": "stream",
     "text": [
      "\r",
      "68.6%"
     ]
    },
    {
     "name": "stderr",
     "output_type": "stream",
     "text": [
      "\r",
      "68.7%"
     ]
    },
    {
     "name": "stderr",
     "output_type": "stream",
     "text": [
      "\r",
      "68.8%"
     ]
    },
    {
     "name": "stderr",
     "output_type": "stream",
     "text": [
      "\r",
      "68.8%"
     ]
    },
    {
     "name": "stderr",
     "output_type": "stream",
     "text": [
      "\r",
      "68.9%"
     ]
    },
    {
     "name": "stderr",
     "output_type": "stream",
     "text": [
      "\r",
      "69.0%"
     ]
    },
    {
     "name": "stderr",
     "output_type": "stream",
     "text": [
      "\r",
      "69.1%"
     ]
    },
    {
     "name": "stderr",
     "output_type": "stream",
     "text": [
      "\r",
      "69.2%"
     ]
    },
    {
     "name": "stderr",
     "output_type": "stream",
     "text": [
      "\r",
      "69.3%"
     ]
    },
    {
     "name": "stderr",
     "output_type": "stream",
     "text": [
      "\r",
      "69.3%"
     ]
    },
    {
     "name": "stderr",
     "output_type": "stream",
     "text": [
      "\r",
      "69.4%"
     ]
    },
    {
     "name": "stderr",
     "output_type": "stream",
     "text": [
      "\r",
      "69.5%"
     ]
    },
    {
     "name": "stderr",
     "output_type": "stream",
     "text": [
      "\r",
      "69.6%"
     ]
    },
    {
     "name": "stderr",
     "output_type": "stream",
     "text": [
      "\r",
      "69.7%"
     ]
    },
    {
     "name": "stderr",
     "output_type": "stream",
     "text": [
      "\r",
      "69.8%"
     ]
    },
    {
     "name": "stderr",
     "output_type": "stream",
     "text": [
      "\r",
      "69.8%"
     ]
    },
    {
     "name": "stderr",
     "output_type": "stream",
     "text": [
      "\r",
      "69.9%"
     ]
    },
    {
     "name": "stderr",
     "output_type": "stream",
     "text": [
      "\r",
      "70.0%"
     ]
    },
    {
     "name": "stderr",
     "output_type": "stream",
     "text": [
      "\r",
      "70.1%"
     ]
    },
    {
     "name": "stderr",
     "output_type": "stream",
     "text": [
      "\r",
      "70.2%"
     ]
    },
    {
     "name": "stderr",
     "output_type": "stream",
     "text": [
      "\r",
      "70.2%"
     ]
    },
    {
     "name": "stderr",
     "output_type": "stream",
     "text": [
      "\r",
      "70.3%"
     ]
    },
    {
     "name": "stderr",
     "output_type": "stream",
     "text": [
      "\r",
      "70.4%"
     ]
    },
    {
     "name": "stderr",
     "output_type": "stream",
     "text": [
      "\r",
      "70.5%"
     ]
    },
    {
     "name": "stderr",
     "output_type": "stream",
     "text": [
      "\r",
      "70.6%"
     ]
    },
    {
     "name": "stderr",
     "output_type": "stream",
     "text": [
      "\r",
      "70.7%"
     ]
    },
    {
     "name": "stderr",
     "output_type": "stream",
     "text": [
      "\r",
      "70.7%"
     ]
    },
    {
     "name": "stderr",
     "output_type": "stream",
     "text": [
      "\r",
      "70.8%"
     ]
    },
    {
     "name": "stderr",
     "output_type": "stream",
     "text": [
      "\r",
      "70.9%"
     ]
    },
    {
     "name": "stderr",
     "output_type": "stream",
     "text": [
      "\r",
      "71.0%"
     ]
    },
    {
     "name": "stderr",
     "output_type": "stream",
     "text": [
      "\r",
      "71.1%"
     ]
    },
    {
     "name": "stderr",
     "output_type": "stream",
     "text": [
      "\r",
      "71.2%"
     ]
    },
    {
     "name": "stderr",
     "output_type": "stream",
     "text": [
      "\r",
      "71.2%"
     ]
    },
    {
     "name": "stderr",
     "output_type": "stream",
     "text": [
      "\r",
      "71.3%"
     ]
    },
    {
     "name": "stderr",
     "output_type": "stream",
     "text": [
      "\r",
      "71.4%"
     ]
    },
    {
     "name": "stderr",
     "output_type": "stream",
     "text": [
      "\r",
      "71.5%"
     ]
    },
    {
     "name": "stderr",
     "output_type": "stream",
     "text": [
      "\r",
      "71.6%"
     ]
    },
    {
     "name": "stderr",
     "output_type": "stream",
     "text": [
      "\r",
      "71.7%"
     ]
    },
    {
     "name": "stderr",
     "output_type": "stream",
     "text": [
      "\r",
      "71.7%"
     ]
    },
    {
     "name": "stderr",
     "output_type": "stream",
     "text": [
      "\r",
      "71.8%"
     ]
    },
    {
     "name": "stderr",
     "output_type": "stream",
     "text": [
      "\r",
      "71.9%"
     ]
    },
    {
     "name": "stderr",
     "output_type": "stream",
     "text": [
      "\r",
      "72.0%"
     ]
    },
    {
     "name": "stderr",
     "output_type": "stream",
     "text": [
      "\r",
      "72.1%"
     ]
    },
    {
     "name": "stderr",
     "output_type": "stream",
     "text": [
      "\r",
      "72.1%"
     ]
    },
    {
     "name": "stderr",
     "output_type": "stream",
     "text": [
      "\r",
      "72.2%"
     ]
    },
    {
     "name": "stderr",
     "output_type": "stream",
     "text": [
      "\r",
      "72.3%"
     ]
    },
    {
     "name": "stderr",
     "output_type": "stream",
     "text": [
      "\r",
      "72.4%"
     ]
    },
    {
     "name": "stderr",
     "output_type": "stream",
     "text": [
      "\r",
      "72.5%"
     ]
    },
    {
     "name": "stderr",
     "output_type": "stream",
     "text": [
      "\r",
      "72.6%"
     ]
    },
    {
     "name": "stderr",
     "output_type": "stream",
     "text": [
      "\r",
      "72.6%"
     ]
    },
    {
     "name": "stderr",
     "output_type": "stream",
     "text": [
      "\r",
      "72.7%"
     ]
    },
    {
     "name": "stderr",
     "output_type": "stream",
     "text": [
      "\r",
      "72.8%"
     ]
    },
    {
     "name": "stderr",
     "output_type": "stream",
     "text": [
      "\r",
      "72.9%"
     ]
    },
    {
     "name": "stderr",
     "output_type": "stream",
     "text": [
      "\r",
      "73.0%"
     ]
    },
    {
     "name": "stderr",
     "output_type": "stream",
     "text": [
      "\r",
      "73.1%"
     ]
    },
    {
     "name": "stderr",
     "output_type": "stream",
     "text": [
      "\r",
      "73.1%"
     ]
    },
    {
     "name": "stderr",
     "output_type": "stream",
     "text": [
      "\r",
      "73.2%"
     ]
    },
    {
     "name": "stderr",
     "output_type": "stream",
     "text": [
      "\r",
      "73.3%"
     ]
    },
    {
     "name": "stderr",
     "output_type": "stream",
     "text": [
      "\r",
      "73.4%"
     ]
    },
    {
     "name": "stderr",
     "output_type": "stream",
     "text": [
      "\r",
      "73.5%"
     ]
    },
    {
     "name": "stderr",
     "output_type": "stream",
     "text": [
      "\r",
      "73.6%"
     ]
    },
    {
     "name": "stderr",
     "output_type": "stream",
     "text": [
      "\r",
      "73.6%"
     ]
    },
    {
     "name": "stderr",
     "output_type": "stream",
     "text": [
      "\r",
      "73.7%"
     ]
    },
    {
     "name": "stderr",
     "output_type": "stream",
     "text": [
      "\r",
      "73.8%"
     ]
    },
    {
     "name": "stderr",
     "output_type": "stream",
     "text": [
      "\r",
      "73.9%"
     ]
    },
    {
     "name": "stderr",
     "output_type": "stream",
     "text": [
      "\r",
      "74.0%"
     ]
    },
    {
     "name": "stderr",
     "output_type": "stream",
     "text": [
      "\r",
      "74.0%"
     ]
    },
    {
     "name": "stderr",
     "output_type": "stream",
     "text": [
      "\r",
      "74.1%"
     ]
    },
    {
     "name": "stderr",
     "output_type": "stream",
     "text": [
      "\r",
      "74.2%"
     ]
    },
    {
     "name": "stderr",
     "output_type": "stream",
     "text": [
      "\r",
      "74.3%"
     ]
    },
    {
     "name": "stderr",
     "output_type": "stream",
     "text": [
      "\r",
      "74.4%"
     ]
    },
    {
     "name": "stderr",
     "output_type": "stream",
     "text": [
      "\r",
      "74.5%"
     ]
    },
    {
     "name": "stderr",
     "output_type": "stream",
     "text": [
      "\r",
      "74.5%"
     ]
    },
    {
     "name": "stderr",
     "output_type": "stream",
     "text": [
      "\r",
      "74.6%"
     ]
    },
    {
     "name": "stderr",
     "output_type": "stream",
     "text": [
      "\r",
      "74.7%"
     ]
    },
    {
     "name": "stderr",
     "output_type": "stream",
     "text": [
      "\r",
      "74.8%"
     ]
    },
    {
     "name": "stderr",
     "output_type": "stream",
     "text": [
      "\r",
      "74.9%"
     ]
    },
    {
     "name": "stderr",
     "output_type": "stream",
     "text": [
      "\r",
      "75.0%"
     ]
    },
    {
     "name": "stderr",
     "output_type": "stream",
     "text": [
      "\r",
      "75.0%"
     ]
    },
    {
     "name": "stderr",
     "output_type": "stream",
     "text": [
      "\r",
      "75.1%"
     ]
    },
    {
     "name": "stderr",
     "output_type": "stream",
     "text": [
      "\r",
      "75.2%"
     ]
    },
    {
     "name": "stderr",
     "output_type": "stream",
     "text": [
      "\r",
      "75.3%"
     ]
    },
    {
     "name": "stderr",
     "output_type": "stream",
     "text": [
      "\r",
      "75.4%"
     ]
    },
    {
     "name": "stderr",
     "output_type": "stream",
     "text": [
      "\r",
      "75.5%"
     ]
    },
    {
     "name": "stderr",
     "output_type": "stream",
     "text": [
      "\r",
      "75.5%"
     ]
    },
    {
     "name": "stderr",
     "output_type": "stream",
     "text": [
      "\r",
      "75.6%"
     ]
    },
    {
     "name": "stderr",
     "output_type": "stream",
     "text": [
      "\r",
      "75.7%"
     ]
    },
    {
     "name": "stderr",
     "output_type": "stream",
     "text": [
      "\r",
      "75.8%"
     ]
    },
    {
     "name": "stderr",
     "output_type": "stream",
     "text": [
      "\r",
      "75.9%"
     ]
    },
    {
     "name": "stderr",
     "output_type": "stream",
     "text": [
      "\r",
      "75.9%"
     ]
    },
    {
     "name": "stderr",
     "output_type": "stream",
     "text": [
      "\r",
      "76.0%"
     ]
    },
    {
     "name": "stderr",
     "output_type": "stream",
     "text": [
      "\r",
      "76.1%"
     ]
    },
    {
     "name": "stderr",
     "output_type": "stream",
     "text": [
      "\r",
      "76.2%"
     ]
    },
    {
     "name": "stderr",
     "output_type": "stream",
     "text": [
      "\r",
      "76.3%"
     ]
    },
    {
     "name": "stderr",
     "output_type": "stream",
     "text": [
      "\r",
      "76.4%"
     ]
    },
    {
     "name": "stderr",
     "output_type": "stream",
     "text": [
      "\r",
      "76.4%"
     ]
    },
    {
     "name": "stderr",
     "output_type": "stream",
     "text": [
      "\r",
      "76.5%"
     ]
    },
    {
     "name": "stderr",
     "output_type": "stream",
     "text": [
      "\r",
      "76.6%"
     ]
    },
    {
     "name": "stderr",
     "output_type": "stream",
     "text": [
      "\r",
      "76.7%"
     ]
    },
    {
     "name": "stderr",
     "output_type": "stream",
     "text": [
      "\r",
      "76.8%"
     ]
    },
    {
     "name": "stderr",
     "output_type": "stream",
     "text": [
      "\r",
      "76.9%"
     ]
    },
    {
     "name": "stderr",
     "output_type": "stream",
     "text": [
      "\r",
      "76.9%"
     ]
    },
    {
     "name": "stderr",
     "output_type": "stream",
     "text": [
      "\r",
      "77.0%"
     ]
    },
    {
     "name": "stderr",
     "output_type": "stream",
     "text": [
      "\r",
      "77.1%"
     ]
    },
    {
     "name": "stderr",
     "output_type": "stream",
     "text": [
      "\r",
      "77.2%"
     ]
    },
    {
     "name": "stderr",
     "output_type": "stream",
     "text": [
      "\r",
      "77.3%"
     ]
    },
    {
     "name": "stderr",
     "output_type": "stream",
     "text": [
      "\r",
      "77.4%"
     ]
    },
    {
     "name": "stderr",
     "output_type": "stream",
     "text": [
      "\r",
      "77.4%"
     ]
    },
    {
     "name": "stderr",
     "output_type": "stream",
     "text": [
      "\r",
      "77.5%"
     ]
    },
    {
     "name": "stderr",
     "output_type": "stream",
     "text": [
      "\r",
      "77.6%"
     ]
    },
    {
     "name": "stderr",
     "output_type": "stream",
     "text": [
      "\r",
      "77.7%"
     ]
    },
    {
     "name": "stderr",
     "output_type": "stream",
     "text": [
      "\r",
      "77.8%"
     ]
    },
    {
     "name": "stderr",
     "output_type": "stream",
     "text": [
      "\r",
      "77.9%"
     ]
    },
    {
     "name": "stderr",
     "output_type": "stream",
     "text": [
      "\r",
      "77.9%"
     ]
    },
    {
     "name": "stderr",
     "output_type": "stream",
     "text": [
      "\r",
      "78.0%"
     ]
    },
    {
     "name": "stderr",
     "output_type": "stream",
     "text": [
      "\r",
      "78.1%"
     ]
    },
    {
     "name": "stderr",
     "output_type": "stream",
     "text": [
      "\r",
      "78.2%"
     ]
    },
    {
     "name": "stderr",
     "output_type": "stream",
     "text": [
      "\r",
      "78.3%"
     ]
    },
    {
     "name": "stderr",
     "output_type": "stream",
     "text": [
      "\r",
      "78.3%"
     ]
    },
    {
     "name": "stderr",
     "output_type": "stream",
     "text": [
      "\r",
      "78.4%"
     ]
    },
    {
     "name": "stderr",
     "output_type": "stream",
     "text": [
      "\r",
      "78.5%"
     ]
    },
    {
     "name": "stderr",
     "output_type": "stream",
     "text": [
      "\r",
      "78.6%"
     ]
    },
    {
     "name": "stderr",
     "output_type": "stream",
     "text": [
      "\r",
      "78.7%"
     ]
    },
    {
     "name": "stderr",
     "output_type": "stream",
     "text": [
      "\r",
      "78.8%"
     ]
    },
    {
     "name": "stderr",
     "output_type": "stream",
     "text": [
      "\r",
      "78.8%"
     ]
    },
    {
     "name": "stderr",
     "output_type": "stream",
     "text": [
      "\r",
      "78.9%"
     ]
    },
    {
     "name": "stderr",
     "output_type": "stream",
     "text": [
      "\r",
      "79.0%"
     ]
    },
    {
     "name": "stderr",
     "output_type": "stream",
     "text": [
      "\r",
      "79.1%"
     ]
    },
    {
     "name": "stderr",
     "output_type": "stream",
     "text": [
      "\r",
      "79.2%"
     ]
    },
    {
     "name": "stderr",
     "output_type": "stream",
     "text": [
      "\r",
      "79.3%"
     ]
    },
    {
     "name": "stderr",
     "output_type": "stream",
     "text": [
      "\r",
      "79.3%"
     ]
    },
    {
     "name": "stderr",
     "output_type": "stream",
     "text": [
      "\r",
      "79.4%"
     ]
    },
    {
     "name": "stderr",
     "output_type": "stream",
     "text": [
      "\r",
      "79.5%"
     ]
    },
    {
     "name": "stderr",
     "output_type": "stream",
     "text": [
      "\r",
      "79.6%"
     ]
    },
    {
     "name": "stderr",
     "output_type": "stream",
     "text": [
      "\r",
      "79.7%"
     ]
    },
    {
     "name": "stderr",
     "output_type": "stream",
     "text": [
      "\r",
      "79.8%"
     ]
    },
    {
     "name": "stderr",
     "output_type": "stream",
     "text": [
      "\r",
      "79.8%"
     ]
    },
    {
     "name": "stderr",
     "output_type": "stream",
     "text": [
      "\r",
      "79.9%"
     ]
    },
    {
     "name": "stderr",
     "output_type": "stream",
     "text": [
      "\r",
      "80.0%"
     ]
    },
    {
     "name": "stderr",
     "output_type": "stream",
     "text": [
      "\r",
      "80.1%"
     ]
    },
    {
     "name": "stderr",
     "output_type": "stream",
     "text": [
      "\r",
      "80.2%"
     ]
    },
    {
     "name": "stderr",
     "output_type": "stream",
     "text": [
      "\r",
      "80.2%"
     ]
    },
    {
     "name": "stderr",
     "output_type": "stream",
     "text": [
      "\r",
      "80.3%"
     ]
    },
    {
     "name": "stderr",
     "output_type": "stream",
     "text": [
      "\r",
      "80.4%"
     ]
    },
    {
     "name": "stderr",
     "output_type": "stream",
     "text": [
      "\r",
      "80.5%"
     ]
    },
    {
     "name": "stderr",
     "output_type": "stream",
     "text": [
      "\r",
      "80.6%"
     ]
    },
    {
     "name": "stderr",
     "output_type": "stream",
     "text": [
      "\r",
      "80.7%"
     ]
    },
    {
     "name": "stderr",
     "output_type": "stream",
     "text": [
      "\r",
      "80.7%"
     ]
    },
    {
     "name": "stderr",
     "output_type": "stream",
     "text": [
      "\r",
      "80.8%"
     ]
    },
    {
     "name": "stderr",
     "output_type": "stream",
     "text": [
      "\r",
      "80.9%"
     ]
    },
    {
     "name": "stderr",
     "output_type": "stream",
     "text": [
      "\r",
      "81.0%"
     ]
    },
    {
     "name": "stderr",
     "output_type": "stream",
     "text": [
      "\r",
      "81.1%"
     ]
    },
    {
     "name": "stderr",
     "output_type": "stream",
     "text": [
      "\r",
      "81.2%"
     ]
    },
    {
     "name": "stderr",
     "output_type": "stream",
     "text": [
      "\r",
      "81.2%"
     ]
    },
    {
     "name": "stderr",
     "output_type": "stream",
     "text": [
      "\r",
      "81.3%"
     ]
    },
    {
     "name": "stderr",
     "output_type": "stream",
     "text": [
      "\r",
      "81.4%"
     ]
    },
    {
     "name": "stderr",
     "output_type": "stream",
     "text": [
      "\r",
      "81.5%"
     ]
    },
    {
     "name": "stderr",
     "output_type": "stream",
     "text": [
      "\r",
      "81.6%"
     ]
    },
    {
     "name": "stderr",
     "output_type": "stream",
     "text": [
      "\r",
      "81.7%"
     ]
    },
    {
     "name": "stderr",
     "output_type": "stream",
     "text": [
      "\r",
      "81.7%"
     ]
    },
    {
     "name": "stderr",
     "output_type": "stream",
     "text": [
      "\r",
      "81.8%"
     ]
    },
    {
     "name": "stderr",
     "output_type": "stream",
     "text": [
      "\r",
      "81.9%"
     ]
    },
    {
     "name": "stderr",
     "output_type": "stream",
     "text": [
      "\r",
      "82.0%"
     ]
    },
    {
     "name": "stderr",
     "output_type": "stream",
     "text": [
      "\r",
      "82.1%"
     ]
    },
    {
     "name": "stderr",
     "output_type": "stream",
     "text": [
      "\r",
      "82.1%"
     ]
    },
    {
     "name": "stderr",
     "output_type": "stream",
     "text": [
      "\r",
      "82.2%"
     ]
    },
    {
     "name": "stderr",
     "output_type": "stream",
     "text": [
      "\r",
      "82.3%"
     ]
    },
    {
     "name": "stderr",
     "output_type": "stream",
     "text": [
      "\r",
      "82.4%"
     ]
    },
    {
     "name": "stderr",
     "output_type": "stream",
     "text": [
      "\r",
      "82.5%"
     ]
    },
    {
     "name": "stderr",
     "output_type": "stream",
     "text": [
      "\r",
      "82.6%"
     ]
    },
    {
     "name": "stderr",
     "output_type": "stream",
     "text": [
      "\r",
      "82.6%"
     ]
    },
    {
     "name": "stderr",
     "output_type": "stream",
     "text": [
      "\r",
      "82.7%"
     ]
    },
    {
     "name": "stderr",
     "output_type": "stream",
     "text": [
      "\r",
      "82.8%"
     ]
    },
    {
     "name": "stderr",
     "output_type": "stream",
     "text": [
      "\r",
      "82.9%"
     ]
    },
    {
     "name": "stderr",
     "output_type": "stream",
     "text": [
      "\r",
      "83.0%"
     ]
    },
    {
     "name": "stderr",
     "output_type": "stream",
     "text": [
      "\r",
      "83.1%"
     ]
    },
    {
     "name": "stderr",
     "output_type": "stream",
     "text": [
      "\r",
      "83.1%"
     ]
    },
    {
     "name": "stderr",
     "output_type": "stream",
     "text": [
      "\r",
      "83.2%"
     ]
    },
    {
     "name": "stderr",
     "output_type": "stream",
     "text": [
      "\r",
      "83.3%"
     ]
    },
    {
     "name": "stderr",
     "output_type": "stream",
     "text": [
      "\r",
      "83.4%"
     ]
    },
    {
     "name": "stderr",
     "output_type": "stream",
     "text": [
      "\r",
      "83.5%"
     ]
    },
    {
     "name": "stderr",
     "output_type": "stream",
     "text": [
      "\r",
      "83.6%"
     ]
    },
    {
     "name": "stderr",
     "output_type": "stream",
     "text": [
      "\r",
      "83.6%"
     ]
    },
    {
     "name": "stderr",
     "output_type": "stream",
     "text": [
      "\r",
      "83.7%"
     ]
    },
    {
     "name": "stderr",
     "output_type": "stream",
     "text": [
      "\r",
      "83.8%"
     ]
    },
    {
     "name": "stderr",
     "output_type": "stream",
     "text": [
      "\r",
      "83.9%"
     ]
    },
    {
     "name": "stderr",
     "output_type": "stream",
     "text": [
      "\r",
      "84.0%"
     ]
    },
    {
     "name": "stderr",
     "output_type": "stream",
     "text": [
      "\r",
      "84.0%"
     ]
    },
    {
     "name": "stderr",
     "output_type": "stream",
     "text": [
      "\r",
      "84.1%"
     ]
    },
    {
     "name": "stderr",
     "output_type": "stream",
     "text": [
      "\r",
      "84.2%"
     ]
    },
    {
     "name": "stderr",
     "output_type": "stream",
     "text": [
      "\r",
      "84.3%"
     ]
    },
    {
     "name": "stderr",
     "output_type": "stream",
     "text": [
      "\r",
      "84.4%"
     ]
    },
    {
     "name": "stderr",
     "output_type": "stream",
     "text": [
      "\r",
      "84.5%"
     ]
    },
    {
     "name": "stderr",
     "output_type": "stream",
     "text": [
      "\r",
      "84.5%"
     ]
    },
    {
     "name": "stderr",
     "output_type": "stream",
     "text": [
      "\r",
      "84.6%"
     ]
    },
    {
     "name": "stderr",
     "output_type": "stream",
     "text": [
      "\r",
      "84.7%"
     ]
    },
    {
     "name": "stderr",
     "output_type": "stream",
     "text": [
      "\r",
      "84.8%"
     ]
    },
    {
     "name": "stderr",
     "output_type": "stream",
     "text": [
      "\r",
      "84.9%"
     ]
    },
    {
     "name": "stderr",
     "output_type": "stream",
     "text": [
      "\r",
      "85.0%"
     ]
    },
    {
     "name": "stderr",
     "output_type": "stream",
     "text": [
      "\r",
      "85.0%"
     ]
    },
    {
     "name": "stderr",
     "output_type": "stream",
     "text": [
      "\r",
      "85.1%"
     ]
    },
    {
     "name": "stderr",
     "output_type": "stream",
     "text": [
      "\r",
      "85.2%"
     ]
    },
    {
     "name": "stderr",
     "output_type": "stream",
     "text": [
      "\r",
      "85.3%"
     ]
    },
    {
     "name": "stderr",
     "output_type": "stream",
     "text": [
      "\r",
      "85.4%"
     ]
    },
    {
     "name": "stderr",
     "output_type": "stream",
     "text": [
      "\r",
      "85.5%"
     ]
    },
    {
     "name": "stderr",
     "output_type": "stream",
     "text": [
      "\r",
      "85.5%"
     ]
    },
    {
     "name": "stderr",
     "output_type": "stream",
     "text": [
      "\r",
      "85.6%"
     ]
    },
    {
     "name": "stderr",
     "output_type": "stream",
     "text": [
      "\r",
      "85.7%"
     ]
    },
    {
     "name": "stderr",
     "output_type": "stream",
     "text": [
      "\r",
      "85.8%"
     ]
    },
    {
     "name": "stderr",
     "output_type": "stream",
     "text": [
      "\r",
      "85.9%"
     ]
    },
    {
     "name": "stderr",
     "output_type": "stream",
     "text": [
      "\r",
      "85.9%"
     ]
    },
    {
     "name": "stderr",
     "output_type": "stream",
     "text": [
      "\r",
      "86.0%"
     ]
    },
    {
     "name": "stderr",
     "output_type": "stream",
     "text": [
      "\r",
      "86.1%"
     ]
    },
    {
     "name": "stderr",
     "output_type": "stream",
     "text": [
      "\r",
      "86.2%"
     ]
    },
    {
     "name": "stderr",
     "output_type": "stream",
     "text": [
      "\r",
      "86.3%"
     ]
    },
    {
     "name": "stderr",
     "output_type": "stream",
     "text": [
      "\r",
      "86.4%"
     ]
    },
    {
     "name": "stderr",
     "output_type": "stream",
     "text": [
      "\r",
      "86.4%"
     ]
    },
    {
     "name": "stderr",
     "output_type": "stream",
     "text": [
      "\r",
      "86.5%"
     ]
    },
    {
     "name": "stderr",
     "output_type": "stream",
     "text": [
      "\r",
      "86.6%"
     ]
    },
    {
     "name": "stderr",
     "output_type": "stream",
     "text": [
      "\r",
      "86.7%"
     ]
    },
    {
     "name": "stderr",
     "output_type": "stream",
     "text": [
      "\r",
      "86.8%"
     ]
    },
    {
     "name": "stderr",
     "output_type": "stream",
     "text": [
      "\r",
      "86.9%"
     ]
    },
    {
     "name": "stderr",
     "output_type": "stream",
     "text": [
      "\r",
      "86.9%"
     ]
    },
    {
     "name": "stderr",
     "output_type": "stream",
     "text": [
      "\r",
      "87.0%"
     ]
    },
    {
     "name": "stderr",
     "output_type": "stream",
     "text": [
      "\r",
      "87.1%"
     ]
    },
    {
     "name": "stderr",
     "output_type": "stream",
     "text": [
      "\r",
      "87.2%"
     ]
    },
    {
     "name": "stderr",
     "output_type": "stream",
     "text": [
      "\r",
      "87.3%"
     ]
    },
    {
     "name": "stderr",
     "output_type": "stream",
     "text": [
      "\r",
      "87.4%"
     ]
    },
    {
     "name": "stderr",
     "output_type": "stream",
     "text": [
      "\r",
      "87.4%"
     ]
    },
    {
     "name": "stderr",
     "output_type": "stream",
     "text": [
      "\r",
      "87.5%"
     ]
    },
    {
     "name": "stderr",
     "output_type": "stream",
     "text": [
      "\r",
      "87.6%"
     ]
    },
    {
     "name": "stderr",
     "output_type": "stream",
     "text": [
      "\r",
      "87.7%"
     ]
    },
    {
     "name": "stderr",
     "output_type": "stream",
     "text": [
      "\r",
      "87.8%"
     ]
    },
    {
     "name": "stderr",
     "output_type": "stream",
     "text": [
      "\r",
      "87.9%"
     ]
    },
    {
     "name": "stderr",
     "output_type": "stream",
     "text": [
      "\r",
      "87.9%"
     ]
    },
    {
     "name": "stderr",
     "output_type": "stream",
     "text": [
      "\r",
      "88.0%"
     ]
    },
    {
     "name": "stderr",
     "output_type": "stream",
     "text": [
      "\r",
      "88.1%"
     ]
    },
    {
     "name": "stderr",
     "output_type": "stream",
     "text": [
      "\r",
      "88.2%"
     ]
    },
    {
     "name": "stderr",
     "output_type": "stream",
     "text": [
      "\r",
      "88.3%"
     ]
    },
    {
     "name": "stderr",
     "output_type": "stream",
     "text": [
      "\r",
      "88.3%"
     ]
    },
    {
     "name": "stderr",
     "output_type": "stream",
     "text": [
      "\r",
      "88.4%"
     ]
    },
    {
     "name": "stderr",
     "output_type": "stream",
     "text": [
      "\r",
      "88.5%"
     ]
    },
    {
     "name": "stderr",
     "output_type": "stream",
     "text": [
      "\r",
      "88.6%"
     ]
    },
    {
     "name": "stderr",
     "output_type": "stream",
     "text": [
      "\r",
      "88.7%"
     ]
    },
    {
     "name": "stderr",
     "output_type": "stream",
     "text": [
      "\r",
      "88.8%"
     ]
    },
    {
     "name": "stderr",
     "output_type": "stream",
     "text": [
      "\r",
      "88.8%"
     ]
    },
    {
     "name": "stderr",
     "output_type": "stream",
     "text": [
      "\r",
      "88.9%"
     ]
    },
    {
     "name": "stderr",
     "output_type": "stream",
     "text": [
      "\r",
      "89.0%"
     ]
    },
    {
     "name": "stderr",
     "output_type": "stream",
     "text": [
      "\r",
      "89.1%"
     ]
    },
    {
     "name": "stderr",
     "output_type": "stream",
     "text": [
      "\r",
      "89.2%"
     ]
    },
    {
     "name": "stderr",
     "output_type": "stream",
     "text": [
      "\r",
      "89.3%"
     ]
    },
    {
     "name": "stderr",
     "output_type": "stream",
     "text": [
      "\r",
      "89.3%"
     ]
    },
    {
     "name": "stderr",
     "output_type": "stream",
     "text": [
      "\r",
      "89.4%"
     ]
    },
    {
     "name": "stderr",
     "output_type": "stream",
     "text": [
      "\r",
      "89.5%"
     ]
    },
    {
     "name": "stderr",
     "output_type": "stream",
     "text": [
      "\r",
      "89.6%"
     ]
    },
    {
     "name": "stderr",
     "output_type": "stream",
     "text": [
      "\r",
      "89.7%"
     ]
    },
    {
     "name": "stderr",
     "output_type": "stream",
     "text": [
      "\r",
      "89.8%"
     ]
    },
    {
     "name": "stderr",
     "output_type": "stream",
     "text": [
      "\r",
      "89.8%"
     ]
    },
    {
     "name": "stderr",
     "output_type": "stream",
     "text": [
      "\r",
      "89.9%"
     ]
    },
    {
     "name": "stderr",
     "output_type": "stream",
     "text": [
      "\r",
      "90.0%"
     ]
    },
    {
     "name": "stderr",
     "output_type": "stream",
     "text": [
      "\r",
      "90.1%"
     ]
    },
    {
     "name": "stderr",
     "output_type": "stream",
     "text": [
      "\r",
      "90.2%"
     ]
    },
    {
     "name": "stderr",
     "output_type": "stream",
     "text": [
      "\r",
      "90.2%"
     ]
    },
    {
     "name": "stderr",
     "output_type": "stream",
     "text": [
      "\r",
      "90.3%"
     ]
    },
    {
     "name": "stderr",
     "output_type": "stream",
     "text": [
      "\r",
      "90.4%"
     ]
    },
    {
     "name": "stderr",
     "output_type": "stream",
     "text": [
      "\r",
      "90.5%"
     ]
    },
    {
     "name": "stderr",
     "output_type": "stream",
     "text": [
      "\r",
      "90.6%"
     ]
    },
    {
     "name": "stderr",
     "output_type": "stream",
     "text": [
      "\r",
      "90.7%"
     ]
    },
    {
     "name": "stderr",
     "output_type": "stream",
     "text": [
      "\r",
      "90.7%"
     ]
    },
    {
     "name": "stderr",
     "output_type": "stream",
     "text": [
      "\r",
      "90.8%"
     ]
    },
    {
     "name": "stderr",
     "output_type": "stream",
     "text": [
      "\r",
      "90.9%"
     ]
    },
    {
     "name": "stderr",
     "output_type": "stream",
     "text": [
      "\r",
      "91.0%"
     ]
    },
    {
     "name": "stderr",
     "output_type": "stream",
     "text": [
      "\r",
      "91.1%"
     ]
    },
    {
     "name": "stderr",
     "output_type": "stream",
     "text": [
      "\r",
      "91.2%"
     ]
    },
    {
     "name": "stderr",
     "output_type": "stream",
     "text": [
      "\r",
      "91.2%"
     ]
    },
    {
     "name": "stderr",
     "output_type": "stream",
     "text": [
      "\r",
      "91.3%"
     ]
    },
    {
     "name": "stderr",
     "output_type": "stream",
     "text": [
      "\r",
      "91.4%"
     ]
    },
    {
     "name": "stderr",
     "output_type": "stream",
     "text": [
      "\r",
      "91.5%"
     ]
    },
    {
     "name": "stderr",
     "output_type": "stream",
     "text": [
      "\r",
      "91.6%"
     ]
    },
    {
     "name": "stderr",
     "output_type": "stream",
     "text": [
      "\r",
      "91.7%"
     ]
    },
    {
     "name": "stderr",
     "output_type": "stream",
     "text": [
      "\r",
      "91.7%"
     ]
    },
    {
     "name": "stderr",
     "output_type": "stream",
     "text": [
      "\r",
      "91.8%"
     ]
    },
    {
     "name": "stderr",
     "output_type": "stream",
     "text": [
      "\r",
      "91.9%"
     ]
    },
    {
     "name": "stderr",
     "output_type": "stream",
     "text": [
      "\r",
      "92.0%"
     ]
    },
    {
     "name": "stderr",
     "output_type": "stream",
     "text": [
      "\r",
      "92.1%"
     ]
    },
    {
     "name": "stderr",
     "output_type": "stream",
     "text": [
      "\r",
      "92.1%"
     ]
    },
    {
     "name": "stderr",
     "output_type": "stream",
     "text": [
      "\r",
      "92.2%"
     ]
    },
    {
     "name": "stderr",
     "output_type": "stream",
     "text": [
      "\r",
      "92.3%"
     ]
    },
    {
     "name": "stderr",
     "output_type": "stream",
     "text": [
      "\r",
      "92.4%"
     ]
    },
    {
     "name": "stderr",
     "output_type": "stream",
     "text": [
      "\r",
      "92.5%"
     ]
    },
    {
     "name": "stderr",
     "output_type": "stream",
     "text": [
      "\r",
      "92.6%"
     ]
    },
    {
     "name": "stderr",
     "output_type": "stream",
     "text": [
      "\r",
      "92.6%"
     ]
    },
    {
     "name": "stderr",
     "output_type": "stream",
     "text": [
      "\r",
      "92.7%"
     ]
    },
    {
     "name": "stderr",
     "output_type": "stream",
     "text": [
      "\r",
      "92.8%"
     ]
    },
    {
     "name": "stderr",
     "output_type": "stream",
     "text": [
      "\r",
      "92.9%"
     ]
    },
    {
     "name": "stderr",
     "output_type": "stream",
     "text": [
      "\r",
      "93.0%"
     ]
    },
    {
     "name": "stderr",
     "output_type": "stream",
     "text": [
      "\r",
      "93.1%"
     ]
    },
    {
     "name": "stderr",
     "output_type": "stream",
     "text": [
      "\r",
      "93.1%"
     ]
    },
    {
     "name": "stderr",
     "output_type": "stream",
     "text": [
      "\r",
      "93.2%"
     ]
    },
    {
     "name": "stderr",
     "output_type": "stream",
     "text": [
      "\r",
      "93.3%"
     ]
    },
    {
     "name": "stderr",
     "output_type": "stream",
     "text": [
      "\r",
      "93.4%"
     ]
    },
    {
     "name": "stderr",
     "output_type": "stream",
     "text": [
      "\r",
      "93.5%"
     ]
    },
    {
     "name": "stderr",
     "output_type": "stream",
     "text": [
      "\r",
      "93.6%"
     ]
    },
    {
     "name": "stderr",
     "output_type": "stream",
     "text": [
      "\r",
      "93.6%"
     ]
    },
    {
     "name": "stderr",
     "output_type": "stream",
     "text": [
      "\r",
      "93.7%"
     ]
    },
    {
     "name": "stderr",
     "output_type": "stream",
     "text": [
      "\r",
      "93.8%"
     ]
    },
    {
     "name": "stderr",
     "output_type": "stream",
     "text": [
      "\r",
      "93.9%"
     ]
    },
    {
     "name": "stderr",
     "output_type": "stream",
     "text": [
      "\r",
      "94.0%"
     ]
    },
    {
     "name": "stderr",
     "output_type": "stream",
     "text": [
      "\r",
      "94.0%"
     ]
    },
    {
     "name": "stderr",
     "output_type": "stream",
     "text": [
      "\r",
      "94.1%"
     ]
    },
    {
     "name": "stderr",
     "output_type": "stream",
     "text": [
      "\r",
      "94.2%"
     ]
    },
    {
     "name": "stderr",
     "output_type": "stream",
     "text": [
      "\r",
      "94.3%"
     ]
    },
    {
     "name": "stderr",
     "output_type": "stream",
     "text": [
      "\r",
      "94.4%"
     ]
    },
    {
     "name": "stderr",
     "output_type": "stream",
     "text": [
      "\r",
      "94.5%"
     ]
    },
    {
     "name": "stderr",
     "output_type": "stream",
     "text": [
      "\r",
      "94.5%"
     ]
    },
    {
     "name": "stderr",
     "output_type": "stream",
     "text": [
      "\r",
      "94.6%"
     ]
    },
    {
     "name": "stderr",
     "output_type": "stream",
     "text": [
      "\r",
      "94.7%"
     ]
    },
    {
     "name": "stderr",
     "output_type": "stream",
     "text": [
      "\r",
      "94.8%"
     ]
    },
    {
     "name": "stderr",
     "output_type": "stream",
     "text": [
      "\r",
      "94.9%"
     ]
    },
    {
     "name": "stderr",
     "output_type": "stream",
     "text": [
      "\r",
      "95.0%"
     ]
    },
    {
     "name": "stderr",
     "output_type": "stream",
     "text": [
      "\r",
      "95.0%"
     ]
    },
    {
     "name": "stderr",
     "output_type": "stream",
     "text": [
      "\r",
      "95.1%"
     ]
    },
    {
     "name": "stderr",
     "output_type": "stream",
     "text": [
      "\r",
      "95.2%"
     ]
    },
    {
     "name": "stderr",
     "output_type": "stream",
     "text": [
      "\r",
      "95.3%"
     ]
    },
    {
     "name": "stderr",
     "output_type": "stream",
     "text": [
      "\r",
      "95.4%"
     ]
    },
    {
     "name": "stderr",
     "output_type": "stream",
     "text": [
      "\r",
      "95.5%"
     ]
    },
    {
     "name": "stderr",
     "output_type": "stream",
     "text": [
      "\r",
      "95.5%"
     ]
    },
    {
     "name": "stderr",
     "output_type": "stream",
     "text": [
      "\r",
      "95.6%"
     ]
    },
    {
     "name": "stderr",
     "output_type": "stream",
     "text": [
      "\r",
      "95.7%"
     ]
    },
    {
     "name": "stderr",
     "output_type": "stream",
     "text": [
      "\r",
      "95.8%"
     ]
    },
    {
     "name": "stderr",
     "output_type": "stream",
     "text": [
      "\r",
      "95.9%"
     ]
    },
    {
     "name": "stderr",
     "output_type": "stream",
     "text": [
      "\r",
      "95.9%"
     ]
    },
    {
     "name": "stderr",
     "output_type": "stream",
     "text": [
      "\r",
      "96.0%"
     ]
    },
    {
     "name": "stderr",
     "output_type": "stream",
     "text": [
      "\r",
      "96.1%"
     ]
    },
    {
     "name": "stderr",
     "output_type": "stream",
     "text": [
      "\r",
      "96.2%"
     ]
    },
    {
     "name": "stderr",
     "output_type": "stream",
     "text": [
      "\r",
      "96.3%"
     ]
    },
    {
     "name": "stderr",
     "output_type": "stream",
     "text": [
      "\r",
      "96.4%"
     ]
    },
    {
     "name": "stderr",
     "output_type": "stream",
     "text": [
      "\r",
      "96.4%"
     ]
    },
    {
     "name": "stderr",
     "output_type": "stream",
     "text": [
      "\r",
      "96.5%"
     ]
    },
    {
     "name": "stderr",
     "output_type": "stream",
     "text": [
      "\r",
      "96.6%"
     ]
    },
    {
     "name": "stderr",
     "output_type": "stream",
     "text": [
      "\r",
      "96.7%"
     ]
    },
    {
     "name": "stderr",
     "output_type": "stream",
     "text": [
      "\r",
      "96.8%"
     ]
    },
    {
     "name": "stderr",
     "output_type": "stream",
     "text": [
      "\r",
      "96.9%"
     ]
    },
    {
     "name": "stderr",
     "output_type": "stream",
     "text": [
      "\r",
      "96.9%"
     ]
    },
    {
     "name": "stderr",
     "output_type": "stream",
     "text": [
      "\r",
      "97.0%"
     ]
    },
    {
     "name": "stderr",
     "output_type": "stream",
     "text": [
      "\r",
      "97.1%"
     ]
    },
    {
     "name": "stderr",
     "output_type": "stream",
     "text": [
      "\r",
      "97.2%"
     ]
    },
    {
     "name": "stderr",
     "output_type": "stream",
     "text": [
      "\r",
      "97.3%"
     ]
    },
    {
     "name": "stderr",
     "output_type": "stream",
     "text": [
      "\r",
      "97.4%"
     ]
    },
    {
     "name": "stderr",
     "output_type": "stream",
     "text": [
      "\r",
      "97.4%"
     ]
    },
    {
     "name": "stderr",
     "output_type": "stream",
     "text": [
      "\r",
      "97.5%"
     ]
    },
    {
     "name": "stderr",
     "output_type": "stream",
     "text": [
      "\r",
      "97.6%"
     ]
    },
    {
     "name": "stderr",
     "output_type": "stream",
     "text": [
      "\r",
      "97.7%"
     ]
    },
    {
     "name": "stderr",
     "output_type": "stream",
     "text": [
      "\r",
      "97.8%"
     ]
    },
    {
     "name": "stderr",
     "output_type": "stream",
     "text": [
      "\r",
      "97.9%"
     ]
    },
    {
     "name": "stderr",
     "output_type": "stream",
     "text": [
      "\r",
      "97.9%"
     ]
    },
    {
     "name": "stderr",
     "output_type": "stream",
     "text": [
      "\r",
      "98.0%"
     ]
    },
    {
     "name": "stderr",
     "output_type": "stream",
     "text": [
      "\r",
      "98.1%"
     ]
    },
    {
     "name": "stderr",
     "output_type": "stream",
     "text": [
      "\r",
      "98.2%"
     ]
    },
    {
     "name": "stderr",
     "output_type": "stream",
     "text": [
      "\r",
      "98.3%"
     ]
    },
    {
     "name": "stderr",
     "output_type": "stream",
     "text": [
      "\r",
      "98.3%"
     ]
    },
    {
     "name": "stderr",
     "output_type": "stream",
     "text": [
      "\r",
      "98.4%"
     ]
    },
    {
     "name": "stderr",
     "output_type": "stream",
     "text": [
      "\r",
      "98.5%"
     ]
    },
    {
     "name": "stderr",
     "output_type": "stream",
     "text": [
      "\r",
      "98.6%"
     ]
    },
    {
     "name": "stderr",
     "output_type": "stream",
     "text": [
      "\r",
      "98.7%"
     ]
    },
    {
     "name": "stderr",
     "output_type": "stream",
     "text": [
      "\r",
      "98.8%"
     ]
    },
    {
     "name": "stderr",
     "output_type": "stream",
     "text": [
      "\r",
      "98.8%"
     ]
    },
    {
     "name": "stderr",
     "output_type": "stream",
     "text": [
      "\r",
      "98.9%"
     ]
    },
    {
     "name": "stderr",
     "output_type": "stream",
     "text": [
      "\r",
      "99.0%"
     ]
    },
    {
     "name": "stderr",
     "output_type": "stream",
     "text": [
      "\r",
      "99.1%"
     ]
    },
    {
     "name": "stderr",
     "output_type": "stream",
     "text": [
      "\r",
      "99.2%"
     ]
    },
    {
     "name": "stderr",
     "output_type": "stream",
     "text": [
      "\r",
      "99.3%"
     ]
    },
    {
     "name": "stderr",
     "output_type": "stream",
     "text": [
      "\r",
      "99.3%"
     ]
    },
    {
     "name": "stderr",
     "output_type": "stream",
     "text": [
      "\r",
      "99.4%"
     ]
    },
    {
     "name": "stderr",
     "output_type": "stream",
     "text": [
      "\r",
      "99.5%"
     ]
    },
    {
     "name": "stderr",
     "output_type": "stream",
     "text": [
      "\r",
      "99.6%"
     ]
    },
    {
     "name": "stderr",
     "output_type": "stream",
     "text": [
      "\r",
      "99.7%"
     ]
    },
    {
     "name": "stderr",
     "output_type": "stream",
     "text": [
      "\r",
      "99.8%"
     ]
    },
    {
     "name": "stderr",
     "output_type": "stream",
     "text": [
      "\r",
      "99.8%"
     ]
    },
    {
     "name": "stderr",
     "output_type": "stream",
     "text": [
      "\r",
      "99.9%"
     ]
    },
    {
     "name": "stderr",
     "output_type": "stream",
     "text": [
      "\r",
      "100.0%"
     ]
    },
    {
     "name": "stderr",
     "output_type": "stream",
     "text": [
      "\r",
      "100.1%"
     ]
    },
    {
     "name": "stdout",
     "output_type": "stream",
     "text": [
      "Extracting ./data/MNIST/raw/train-images-idx3-ubyte.gz to ./data/MNIST/raw\n"
     ]
    },
    {
     "name": "stderr",
     "output_type": "stream",
     "text": [
      "\r",
      "0.0%"
     ]
    },
    {
     "name": "stderr",
     "output_type": "stream",
     "text": [
      "\r",
      "28.4%"
     ]
    },
    {
     "name": "stderr",
     "output_type": "stream",
     "text": [
      "\r",
      "56.7%"
     ]
    },
    {
     "name": "stderr",
     "output_type": "stream",
     "text": [
      "\r",
      "85.1%"
     ]
    },
    {
     "name": "stderr",
     "output_type": "stream",
     "text": [
      "\r",
      "113.5%"
     ]
    },
    {
     "name": "stderr",
     "output_type": "stream",
     "text": [
      "\r",
      "0.0%"
     ]
    },
    {
     "name": "stderr",
     "output_type": "stream",
     "text": [
      "\r",
      "0.5%"
     ]
    },
    {
     "name": "stdout",
     "output_type": "stream",
     "text": [
      "Downloading http://yann.lecun.com/exdb/mnist/train-labels-idx1-ubyte.gz to ./data/MNIST/raw/train-labels-idx1-ubyte.gz\n",
      "Extracting ./data/MNIST/raw/train-labels-idx1-ubyte.gz to ./data/MNIST/raw\n",
      "Downloading http://yann.lecun.com/exdb/mnist/t10k-images-idx3-ubyte.gz to ./data/MNIST/raw/t10k-images-idx3-ubyte.gz\n"
     ]
    },
    {
     "name": "stderr",
     "output_type": "stream",
     "text": [
      "\r",
      "1.0%"
     ]
    },
    {
     "name": "stderr",
     "output_type": "stream",
     "text": [
      "\r",
      "1.5%"
     ]
    },
    {
     "name": "stderr",
     "output_type": "stream",
     "text": [
      "\r",
      "2.0%"
     ]
    },
    {
     "name": "stderr",
     "output_type": "stream",
     "text": [
      "\r",
      "2.5%"
     ]
    },
    {
     "name": "stderr",
     "output_type": "stream",
     "text": [
      "\r",
      "3.0%"
     ]
    },
    {
     "name": "stderr",
     "output_type": "stream",
     "text": [
      "\r",
      "3.5%"
     ]
    },
    {
     "name": "stderr",
     "output_type": "stream",
     "text": [
      "\r",
      "4.0%"
     ]
    },
    {
     "name": "stderr",
     "output_type": "stream",
     "text": [
      "\r",
      "4.5%"
     ]
    },
    {
     "name": "stderr",
     "output_type": "stream",
     "text": [
      "\r",
      "5.0%"
     ]
    },
    {
     "name": "stderr",
     "output_type": "stream",
     "text": [
      "\r",
      "5.5%"
     ]
    },
    {
     "name": "stderr",
     "output_type": "stream",
     "text": [
      "\r",
      "6.0%"
     ]
    },
    {
     "name": "stderr",
     "output_type": "stream",
     "text": [
      "\r",
      "6.5%"
     ]
    },
    {
     "name": "stderr",
     "output_type": "stream",
     "text": [
      "\r",
      "7.0%"
     ]
    },
    {
     "name": "stderr",
     "output_type": "stream",
     "text": [
      "\r",
      "7.5%"
     ]
    },
    {
     "name": "stderr",
     "output_type": "stream",
     "text": [
      "\r",
      "7.9%"
     ]
    },
    {
     "name": "stderr",
     "output_type": "stream",
     "text": [
      "\r",
      "8.4%"
     ]
    },
    {
     "name": "stderr",
     "output_type": "stream",
     "text": [
      "\r",
      "8.9%"
     ]
    },
    {
     "name": "stderr",
     "output_type": "stream",
     "text": [
      "\r",
      "9.4%"
     ]
    },
    {
     "name": "stderr",
     "output_type": "stream",
     "text": [
      "\r",
      "9.9%"
     ]
    },
    {
     "name": "stderr",
     "output_type": "stream",
     "text": [
      "\r",
      "10.4%"
     ]
    },
    {
     "name": "stderr",
     "output_type": "stream",
     "text": [
      "\r",
      "10.9%"
     ]
    },
    {
     "name": "stderr",
     "output_type": "stream",
     "text": [
      "\r",
      "11.4%"
     ]
    },
    {
     "name": "stderr",
     "output_type": "stream",
     "text": [
      "\r",
      "11.9%"
     ]
    },
    {
     "name": "stderr",
     "output_type": "stream",
     "text": [
      "\r",
      "12.4%"
     ]
    },
    {
     "name": "stderr",
     "output_type": "stream",
     "text": [
      "\r",
      "12.9%"
     ]
    },
    {
     "name": "stderr",
     "output_type": "stream",
     "text": [
      "\r",
      "13.4%"
     ]
    },
    {
     "name": "stderr",
     "output_type": "stream",
     "text": [
      "\r",
      "13.9%"
     ]
    },
    {
     "name": "stderr",
     "output_type": "stream",
     "text": [
      "\r",
      "14.4%"
     ]
    },
    {
     "name": "stderr",
     "output_type": "stream",
     "text": [
      "\r",
      "14.9%"
     ]
    },
    {
     "name": "stderr",
     "output_type": "stream",
     "text": [
      "\r",
      "15.4%"
     ]
    },
    {
     "name": "stderr",
     "output_type": "stream",
     "text": [
      "\r",
      "15.9%"
     ]
    },
    {
     "name": "stderr",
     "output_type": "stream",
     "text": [
      "\r",
      "16.4%"
     ]
    },
    {
     "name": "stderr",
     "output_type": "stream",
     "text": [
      "\r",
      "16.9%"
     ]
    },
    {
     "name": "stderr",
     "output_type": "stream",
     "text": [
      "\r",
      "17.4%"
     ]
    },
    {
     "name": "stderr",
     "output_type": "stream",
     "text": [
      "\r",
      "17.9%"
     ]
    },
    {
     "name": "stderr",
     "output_type": "stream",
     "text": [
      "\r",
      "18.4%"
     ]
    },
    {
     "name": "stderr",
     "output_type": "stream",
     "text": [
      "\r",
      "18.9%"
     ]
    },
    {
     "name": "stderr",
     "output_type": "stream",
     "text": [
      "\r",
      "19.4%"
     ]
    },
    {
     "name": "stderr",
     "output_type": "stream",
     "text": [
      "\r",
      "19.9%"
     ]
    },
    {
     "name": "stderr",
     "output_type": "stream",
     "text": [
      "\r",
      "20.4%"
     ]
    },
    {
     "name": "stderr",
     "output_type": "stream",
     "text": [
      "\r",
      "20.9%"
     ]
    },
    {
     "name": "stderr",
     "output_type": "stream",
     "text": [
      "\r",
      "21.4%"
     ]
    },
    {
     "name": "stderr",
     "output_type": "stream",
     "text": [
      "\r",
      "21.9%"
     ]
    },
    {
     "name": "stderr",
     "output_type": "stream",
     "text": [
      "\r",
      "22.4%"
     ]
    },
    {
     "name": "stderr",
     "output_type": "stream",
     "text": [
      "\r",
      "22.9%"
     ]
    },
    {
     "name": "stderr",
     "output_type": "stream",
     "text": [
      "\r",
      "23.4%"
     ]
    },
    {
     "name": "stderr",
     "output_type": "stream",
     "text": [
      "\r",
      "23.8%"
     ]
    },
    {
     "name": "stderr",
     "output_type": "stream",
     "text": [
      "\r",
      "24.3%"
     ]
    },
    {
     "name": "stderr",
     "output_type": "stream",
     "text": [
      "\r",
      "24.8%"
     ]
    },
    {
     "name": "stderr",
     "output_type": "stream",
     "text": [
      "\r",
      "25.3%"
     ]
    },
    {
     "name": "stderr",
     "output_type": "stream",
     "text": [
      "\r",
      "25.8%"
     ]
    },
    {
     "name": "stderr",
     "output_type": "stream",
     "text": [
      "\r",
      "26.3%"
     ]
    },
    {
     "name": "stderr",
     "output_type": "stream",
     "text": [
      "\r",
      "26.8%"
     ]
    },
    {
     "name": "stderr",
     "output_type": "stream",
     "text": [
      "\r",
      "27.3%"
     ]
    },
    {
     "name": "stderr",
     "output_type": "stream",
     "text": [
      "\r",
      "27.8%"
     ]
    },
    {
     "name": "stderr",
     "output_type": "stream",
     "text": [
      "\r",
      "28.3%"
     ]
    },
    {
     "name": "stderr",
     "output_type": "stream",
     "text": [
      "\r",
      "28.8%"
     ]
    },
    {
     "name": "stderr",
     "output_type": "stream",
     "text": [
      "\r",
      "29.3%"
     ]
    },
    {
     "name": "stderr",
     "output_type": "stream",
     "text": [
      "\r",
      "29.8%"
     ]
    },
    {
     "name": "stderr",
     "output_type": "stream",
     "text": [
      "\r",
      "30.3%"
     ]
    },
    {
     "name": "stderr",
     "output_type": "stream",
     "text": [
      "\r",
      "30.8%"
     ]
    },
    {
     "name": "stderr",
     "output_type": "stream",
     "text": [
      "\r",
      "31.3%"
     ]
    },
    {
     "name": "stderr",
     "output_type": "stream",
     "text": [
      "\r",
      "31.8%"
     ]
    },
    {
     "name": "stderr",
     "output_type": "stream",
     "text": [
      "\r",
      "32.3%"
     ]
    },
    {
     "name": "stderr",
     "output_type": "stream",
     "text": [
      "\r",
      "32.8%"
     ]
    },
    {
     "name": "stderr",
     "output_type": "stream",
     "text": [
      "\r",
      "33.3%"
     ]
    },
    {
     "name": "stderr",
     "output_type": "stream",
     "text": [
      "\r",
      "33.8%"
     ]
    },
    {
     "name": "stderr",
     "output_type": "stream",
     "text": [
      "\r",
      "34.3%"
     ]
    },
    {
     "name": "stderr",
     "output_type": "stream",
     "text": [
      "\r",
      "34.8%"
     ]
    },
    {
     "name": "stderr",
     "output_type": "stream",
     "text": [
      "\r",
      "35.3%"
     ]
    },
    {
     "name": "stderr",
     "output_type": "stream",
     "text": [
      "\r",
      "35.8%"
     ]
    },
    {
     "name": "stderr",
     "output_type": "stream",
     "text": [
      "\r",
      "36.3%"
     ]
    },
    {
     "name": "stderr",
     "output_type": "stream",
     "text": [
      "\r",
      "36.8%"
     ]
    },
    {
     "name": "stderr",
     "output_type": "stream",
     "text": [
      "\r",
      "37.3%"
     ]
    },
    {
     "name": "stderr",
     "output_type": "stream",
     "text": [
      "\r",
      "37.8%"
     ]
    },
    {
     "name": "stderr",
     "output_type": "stream",
     "text": [
      "\r",
      "38.3%"
     ]
    },
    {
     "name": "stderr",
     "output_type": "stream",
     "text": [
      "\r",
      "38.8%"
     ]
    },
    {
     "name": "stderr",
     "output_type": "stream",
     "text": [
      "\r",
      "39.2%"
     ]
    },
    {
     "name": "stderr",
     "output_type": "stream",
     "text": [
      "\r",
      "39.7%"
     ]
    },
    {
     "name": "stderr",
     "output_type": "stream",
     "text": [
      "\r",
      "40.2%"
     ]
    },
    {
     "name": "stderr",
     "output_type": "stream",
     "text": [
      "\r",
      "40.7%"
     ]
    },
    {
     "name": "stderr",
     "output_type": "stream",
     "text": [
      "\r",
      "41.2%"
     ]
    },
    {
     "name": "stderr",
     "output_type": "stream",
     "text": [
      "\r",
      "41.7%"
     ]
    },
    {
     "name": "stderr",
     "output_type": "stream",
     "text": [
      "\r",
      "42.2%"
     ]
    },
    {
     "name": "stderr",
     "output_type": "stream",
     "text": [
      "\r",
      "42.7%"
     ]
    },
    {
     "name": "stderr",
     "output_type": "stream",
     "text": [
      "\r",
      "43.2%"
     ]
    },
    {
     "name": "stderr",
     "output_type": "stream",
     "text": [
      "\r",
      "43.7%"
     ]
    },
    {
     "name": "stderr",
     "output_type": "stream",
     "text": [
      "\r",
      "44.2%"
     ]
    },
    {
     "name": "stderr",
     "output_type": "stream",
     "text": [
      "\r",
      "44.7%"
     ]
    },
    {
     "name": "stderr",
     "output_type": "stream",
     "text": [
      "\r",
      "45.2%"
     ]
    },
    {
     "name": "stderr",
     "output_type": "stream",
     "text": [
      "\r",
      "45.7%"
     ]
    },
    {
     "name": "stderr",
     "output_type": "stream",
     "text": [
      "\r",
      "46.2%"
     ]
    },
    {
     "name": "stderr",
     "output_type": "stream",
     "text": [
      "\r",
      "46.7%"
     ]
    },
    {
     "name": "stderr",
     "output_type": "stream",
     "text": [
      "\r",
      "47.2%"
     ]
    },
    {
     "name": "stderr",
     "output_type": "stream",
     "text": [
      "\r",
      "47.7%"
     ]
    },
    {
     "name": "stderr",
     "output_type": "stream",
     "text": [
      "\r",
      "48.2%"
     ]
    },
    {
     "name": "stderr",
     "output_type": "stream",
     "text": [
      "\r",
      "48.7%"
     ]
    },
    {
     "name": "stderr",
     "output_type": "stream",
     "text": [
      "\r",
      "49.2%"
     ]
    },
    {
     "name": "stderr",
     "output_type": "stream",
     "text": [
      "\r",
      "49.7%"
     ]
    },
    {
     "name": "stderr",
     "output_type": "stream",
     "text": [
      "\r",
      "50.2%"
     ]
    },
    {
     "name": "stderr",
     "output_type": "stream",
     "text": [
      "\r",
      "50.7%"
     ]
    },
    {
     "name": "stderr",
     "output_type": "stream",
     "text": [
      "\r",
      "51.2%"
     ]
    },
    {
     "name": "stderr",
     "output_type": "stream",
     "text": [
      "\r",
      "51.7%"
     ]
    },
    {
     "name": "stderr",
     "output_type": "stream",
     "text": [
      "\r",
      "52.2%"
     ]
    },
    {
     "name": "stderr",
     "output_type": "stream",
     "text": [
      "\r",
      "52.7%"
     ]
    },
    {
     "name": "stderr",
     "output_type": "stream",
     "text": [
      "\r",
      "53.2%"
     ]
    },
    {
     "name": "stderr",
     "output_type": "stream",
     "text": [
      "\r",
      "53.7%"
     ]
    },
    {
     "name": "stderr",
     "output_type": "stream",
     "text": [
      "\r",
      "54.2%"
     ]
    },
    {
     "name": "stderr",
     "output_type": "stream",
     "text": [
      "\r",
      "54.7%"
     ]
    },
    {
     "name": "stderr",
     "output_type": "stream",
     "text": [
      "\r",
      "55.1%"
     ]
    },
    {
     "name": "stderr",
     "output_type": "stream",
     "text": [
      "\r",
      "55.6%"
     ]
    },
    {
     "name": "stderr",
     "output_type": "stream",
     "text": [
      "\r",
      "56.1%"
     ]
    },
    {
     "name": "stderr",
     "output_type": "stream",
     "text": [
      "\r",
      "56.6%"
     ]
    },
    {
     "name": "stderr",
     "output_type": "stream",
     "text": [
      "\r",
      "57.1%"
     ]
    },
    {
     "name": "stderr",
     "output_type": "stream",
     "text": [
      "\r",
      "57.6%"
     ]
    },
    {
     "name": "stderr",
     "output_type": "stream",
     "text": [
      "\r",
      "58.1%"
     ]
    },
    {
     "name": "stderr",
     "output_type": "stream",
     "text": [
      "\r",
      "58.6%"
     ]
    },
    {
     "name": "stderr",
     "output_type": "stream",
     "text": [
      "\r",
      "59.1%"
     ]
    },
    {
     "name": "stderr",
     "output_type": "stream",
     "text": [
      "\r",
      "59.6%"
     ]
    },
    {
     "name": "stderr",
     "output_type": "stream",
     "text": [
      "\r",
      "60.1%"
     ]
    },
    {
     "name": "stderr",
     "output_type": "stream",
     "text": [
      "\r",
      "60.6%"
     ]
    },
    {
     "name": "stderr",
     "output_type": "stream",
     "text": [
      "\r",
      "61.1%"
     ]
    },
    {
     "name": "stderr",
     "output_type": "stream",
     "text": [
      "\r",
      "61.6%"
     ]
    },
    {
     "name": "stderr",
     "output_type": "stream",
     "text": [
      "\r",
      "62.1%"
     ]
    },
    {
     "name": "stderr",
     "output_type": "stream",
     "text": [
      "\r",
      "62.6%"
     ]
    },
    {
     "name": "stderr",
     "output_type": "stream",
     "text": [
      "\r",
      "63.1%"
     ]
    },
    {
     "name": "stderr",
     "output_type": "stream",
     "text": [
      "\r",
      "63.6%"
     ]
    },
    {
     "name": "stderr",
     "output_type": "stream",
     "text": [
      "\r",
      "64.1%"
     ]
    },
    {
     "name": "stderr",
     "output_type": "stream",
     "text": [
      "\r",
      "64.6%"
     ]
    },
    {
     "name": "stderr",
     "output_type": "stream",
     "text": [
      "\r",
      "65.1%"
     ]
    },
    {
     "name": "stderr",
     "output_type": "stream",
     "text": [
      "\r",
      "65.6%"
     ]
    },
    {
     "name": "stderr",
     "output_type": "stream",
     "text": [
      "\r",
      "66.1%"
     ]
    },
    {
     "name": "stderr",
     "output_type": "stream",
     "text": [
      "\r",
      "66.6%"
     ]
    },
    {
     "name": "stderr",
     "output_type": "stream",
     "text": [
      "\r",
      "67.1%"
     ]
    },
    {
     "name": "stderr",
     "output_type": "stream",
     "text": [
      "\r",
      "67.6%"
     ]
    },
    {
     "name": "stderr",
     "output_type": "stream",
     "text": [
      "\r",
      "68.1%"
     ]
    },
    {
     "name": "stderr",
     "output_type": "stream",
     "text": [
      "\r",
      "68.6%"
     ]
    },
    {
     "name": "stderr",
     "output_type": "stream",
     "text": [
      "\r",
      "69.1%"
     ]
    },
    {
     "name": "stderr",
     "output_type": "stream",
     "text": [
      "\r",
      "69.6%"
     ]
    },
    {
     "name": "stderr",
     "output_type": "stream",
     "text": [
      "\r",
      "70.1%"
     ]
    },
    {
     "name": "stderr",
     "output_type": "stream",
     "text": [
      "\r",
      "70.5%"
     ]
    },
    {
     "name": "stderr",
     "output_type": "stream",
     "text": [
      "\r",
      "71.0%"
     ]
    },
    {
     "name": "stderr",
     "output_type": "stream",
     "text": [
      "\r",
      "71.5%"
     ]
    },
    {
     "name": "stderr",
     "output_type": "stream",
     "text": [
      "\r",
      "72.0%"
     ]
    },
    {
     "name": "stderr",
     "output_type": "stream",
     "text": [
      "\r",
      "72.5%"
     ]
    },
    {
     "name": "stderr",
     "output_type": "stream",
     "text": [
      "\r",
      "73.0%"
     ]
    },
    {
     "name": "stderr",
     "output_type": "stream",
     "text": [
      "\r",
      "73.5%"
     ]
    },
    {
     "name": "stderr",
     "output_type": "stream",
     "text": [
      "\r",
      "74.0%"
     ]
    },
    {
     "name": "stderr",
     "output_type": "stream",
     "text": [
      "\r",
      "74.5%"
     ]
    },
    {
     "name": "stderr",
     "output_type": "stream",
     "text": [
      "\r",
      "75.0%"
     ]
    },
    {
     "name": "stderr",
     "output_type": "stream",
     "text": [
      "\r",
      "75.5%"
     ]
    },
    {
     "name": "stderr",
     "output_type": "stream",
     "text": [
      "\r",
      "76.0%"
     ]
    },
    {
     "name": "stderr",
     "output_type": "stream",
     "text": [
      "\r",
      "76.5%"
     ]
    },
    {
     "name": "stderr",
     "output_type": "stream",
     "text": [
      "\r",
      "77.0%"
     ]
    },
    {
     "name": "stderr",
     "output_type": "stream",
     "text": [
      "\r",
      "77.5%"
     ]
    },
    {
     "name": "stderr",
     "output_type": "stream",
     "text": [
      "\r",
      "78.0%"
     ]
    },
    {
     "name": "stderr",
     "output_type": "stream",
     "text": [
      "\r",
      "78.5%"
     ]
    },
    {
     "name": "stderr",
     "output_type": "stream",
     "text": [
      "\r",
      "79.0%"
     ]
    },
    {
     "name": "stderr",
     "output_type": "stream",
     "text": [
      "\r",
      "79.5%"
     ]
    },
    {
     "name": "stderr",
     "output_type": "stream",
     "text": [
      "\r",
      "80.0%"
     ]
    },
    {
     "name": "stderr",
     "output_type": "stream",
     "text": [
      "\r",
      "80.5%"
     ]
    },
    {
     "name": "stderr",
     "output_type": "stream",
     "text": [
      "\r",
      "81.0%"
     ]
    },
    {
     "name": "stderr",
     "output_type": "stream",
     "text": [
      "\r",
      "81.5%"
     ]
    },
    {
     "name": "stderr",
     "output_type": "stream",
     "text": [
      "\r",
      "82.0%"
     ]
    },
    {
     "name": "stderr",
     "output_type": "stream",
     "text": [
      "\r",
      "82.5%"
     ]
    },
    {
     "name": "stderr",
     "output_type": "stream",
     "text": [
      "\r",
      "83.0%"
     ]
    },
    {
     "name": "stderr",
     "output_type": "stream",
     "text": [
      "\r",
      "83.5%"
     ]
    },
    {
     "name": "stderr",
     "output_type": "stream",
     "text": [
      "\r",
      "84.0%"
     ]
    },
    {
     "name": "stderr",
     "output_type": "stream",
     "text": [
      "\r",
      "84.5%"
     ]
    },
    {
     "name": "stderr",
     "output_type": "stream",
     "text": [
      "\r",
      "85.0%"
     ]
    },
    {
     "name": "stderr",
     "output_type": "stream",
     "text": [
      "\r",
      "85.5%"
     ]
    },
    {
     "name": "stderr",
     "output_type": "stream",
     "text": [
      "\r",
      "86.0%"
     ]
    },
    {
     "name": "stderr",
     "output_type": "stream",
     "text": [
      "\r",
      "86.4%"
     ]
    },
    {
     "name": "stderr",
     "output_type": "stream",
     "text": [
      "\r",
      "86.9%"
     ]
    },
    {
     "name": "stderr",
     "output_type": "stream",
     "text": [
      "\r",
      "87.4%"
     ]
    },
    {
     "name": "stderr",
     "output_type": "stream",
     "text": [
      "\r",
      "87.9%"
     ]
    },
    {
     "name": "stderr",
     "output_type": "stream",
     "text": [
      "\r",
      "88.4%"
     ]
    },
    {
     "name": "stderr",
     "output_type": "stream",
     "text": [
      "\r",
      "88.9%"
     ]
    },
    {
     "name": "stderr",
     "output_type": "stream",
     "text": [
      "\r",
      "89.4%"
     ]
    },
    {
     "name": "stderr",
     "output_type": "stream",
     "text": [
      "\r",
      "89.9%"
     ]
    },
    {
     "name": "stderr",
     "output_type": "stream",
     "text": [
      "\r",
      "90.4%"
     ]
    },
    {
     "name": "stderr",
     "output_type": "stream",
     "text": [
      "\r",
      "90.9%"
     ]
    },
    {
     "name": "stderr",
     "output_type": "stream",
     "text": [
      "\r",
      "91.4%"
     ]
    },
    {
     "name": "stderr",
     "output_type": "stream",
     "text": [
      "\r",
      "91.9%"
     ]
    },
    {
     "name": "stderr",
     "output_type": "stream",
     "text": [
      "\r",
      "92.4%"
     ]
    },
    {
     "name": "stderr",
     "output_type": "stream",
     "text": [
      "\r",
      "92.9%"
     ]
    },
    {
     "name": "stderr",
     "output_type": "stream",
     "text": [
      "\r",
      "93.4%"
     ]
    },
    {
     "name": "stderr",
     "output_type": "stream",
     "text": [
      "\r",
      "93.9%"
     ]
    },
    {
     "name": "stderr",
     "output_type": "stream",
     "text": [
      "\r",
      "94.4%"
     ]
    },
    {
     "name": "stderr",
     "output_type": "stream",
     "text": [
      "\r",
      "94.9%"
     ]
    },
    {
     "name": "stderr",
     "output_type": "stream",
     "text": [
      "\r",
      "95.4%"
     ]
    },
    {
     "name": "stderr",
     "output_type": "stream",
     "text": [
      "\r",
      "95.9%"
     ]
    },
    {
     "name": "stderr",
     "output_type": "stream",
     "text": [
      "\r",
      "96.4%"
     ]
    },
    {
     "name": "stderr",
     "output_type": "stream",
     "text": [
      "\r",
      "96.9%"
     ]
    },
    {
     "name": "stderr",
     "output_type": "stream",
     "text": [
      "\r",
      "97.4%"
     ]
    },
    {
     "name": "stderr",
     "output_type": "stream",
     "text": [
      "\r",
      "97.9%"
     ]
    },
    {
     "name": "stderr",
     "output_type": "stream",
     "text": [
      "\r",
      "98.4%"
     ]
    },
    {
     "name": "stderr",
     "output_type": "stream",
     "text": [
      "\r",
      "98.9%"
     ]
    },
    {
     "name": "stderr",
     "output_type": "stream",
     "text": [
      "\r",
      "99.4%"
     ]
    },
    {
     "name": "stderr",
     "output_type": "stream",
     "text": [
      "\r",
      "99.9%"
     ]
    },
    {
     "name": "stderr",
     "output_type": "stream",
     "text": [
      "\r",
      "100.4%"
     ]
    },
    {
     "name": "stdout",
     "output_type": "stream",
     "text": [
      "Extracting ./data/MNIST/raw/t10k-images-idx3-ubyte.gz to ./data/MNIST/raw\n",
      "Downloading http://yann.lecun.com/exdb/mnist/t10k-labels-idx1-ubyte.gz to ./data/MNIST/raw/t10k-labels-idx1-ubyte.gz\n"
     ]
    },
    {
     "name": "stderr",
     "output_type": "stream",
     "text": [
      "\r",
      "0.0%"
     ]
    },
    {
     "name": "stderr",
     "output_type": "stream",
     "text": [
      "\r",
      "180.4%"
     ]
    },
    {
     "name": "stdout",
     "output_type": "stream",
     "text": [
      "Extracting ./data/MNIST/raw/t10k-labels-idx1-ubyte.gz to ./data/MNIST/raw\n",
      "Processing...\n",
      "Done!\n"
     ]
    }
   ],
   "source": [
    "BATCH_SIZE = 512\n",
    "train_loader, valid_loader, test_loader = load_mnist(batch_size=BATCH_SIZE)"
   ]
  },
  {
   "cell_type": "markdown",
   "metadata": {},
   "source": [
    "## 2. Define function to optimize\n",
    "In this tutorial, we want to optimize classification accuracy on the validation set as a function of the learning rate and momentum. The function takes in a parameterization (set of parameter values), computes the classification accuracy, and returns a dictionary of metric name ('accuracy') to a tuple with the mean and standard error."
   ]
  },
  {
   "cell_type": "code",
   "execution_count": 4,
   "metadata": {
    "collapsed": true
   },
   "outputs": [],
   "source": [
    "def train_evaluate(parameterization):\n",
    "    net = CNN()\n",
    "    net = train(net=net, train_loader=train_loader, parameters=parameterization, dtype=dtype, device=device)\n",
    "    return evaluate(\n",
    "        net=net,\n",
    "        data_loader=valid_loader,\n",
    "        dtype=dtype,\n",
    "        device=device,\n",
    "    )"
   ]
  },
  {
   "cell_type": "markdown",
   "metadata": {},
   "source": [
    "## 3. Run the optimization loop\n",
    "Here, we set the bounds on the learning rate and momentum and set the parameter space for the learning rate to be on a log scale. "
   ]
  },
  {
   "cell_type": "code",
   "execution_count": 5,
   "metadata": {},
   "outputs": [
    {
     "name": "stderr",
     "output_type": "stream",
     "text": [
      "[INFO 08-20 04:16:39] ax.service.utils.dispatch: Using Bayesian Optimization generation strategy. Iterations after 5 will take longer to generate due to model-fitting.\n"
     ]
    },
    {
     "name": "stderr",
     "output_type": "stream",
     "text": [
      "[INFO 08-20 04:16:39] ax.service.managed_loop: Started full optimization with 20 steps.\n"
     ]
    },
    {
     "name": "stderr",
     "output_type": "stream",
     "text": [
      "[INFO 08-20 04:16:39] ax.service.managed_loop: Running optimization trial 1...\n"
     ]
    },
    {
     "name": "stderr",
     "output_type": "stream",
     "text": [
      "[INFO 08-20 04:16:52] ax.service.managed_loop: Running optimization trial 2...\n"
     ]
    },
    {
     "name": "stderr",
     "output_type": "stream",
     "text": [
      "[INFO 08-20 04:17:05] ax.service.managed_loop: Running optimization trial 3...\n"
     ]
    },
    {
     "name": "stderr",
     "output_type": "stream",
     "text": [
      "[INFO 08-20 04:17:18] ax.service.managed_loop: Running optimization trial 4...\n"
     ]
    },
    {
     "name": "stderr",
     "output_type": "stream",
     "text": [
      "[INFO 08-20 04:17:31] ax.service.managed_loop: Running optimization trial 5...\n"
     ]
    },
    {
     "name": "stderr",
     "output_type": "stream",
     "text": [
      "[INFO 08-20 04:17:43] ax.service.managed_loop: Running optimization trial 6...\n"
     ]
    },
    {
     "name": "stderr",
     "output_type": "stream",
     "text": [
      "[INFO 08-20 04:17:57] ax.service.managed_loop: Running optimization trial 7...\n"
     ]
    },
    {
     "name": "stderr",
     "output_type": "stream",
     "text": [
      "[INFO 08-20 04:18:11] ax.service.managed_loop: Running optimization trial 8...\n"
     ]
    },
    {
     "name": "stderr",
     "output_type": "stream",
     "text": [
      "[INFO 08-20 04:18:26] ax.service.managed_loop: Running optimization trial 9...\n"
     ]
    },
    {
     "name": "stderr",
     "output_type": "stream",
     "text": [
      "[INFO 08-20 04:18:40] ax.service.managed_loop: Running optimization trial 10...\n"
     ]
    },
    {
     "name": "stderr",
     "output_type": "stream",
     "text": [
      "[INFO 08-20 04:18:53] ax.service.managed_loop: Running optimization trial 11...\n"
     ]
    },
    {
     "name": "stderr",
     "output_type": "stream",
     "text": [
      "[INFO 08-20 04:19:06] ax.service.managed_loop: Running optimization trial 12...\n"
     ]
    },
    {
     "name": "stderr",
     "output_type": "stream",
     "text": [
      "[INFO 08-20 04:19:20] ax.service.managed_loop: Running optimization trial 13...\n"
     ]
    },
    {
     "name": "stderr",
     "output_type": "stream",
     "text": [
      "[INFO 08-20 04:19:33] ax.service.managed_loop: Running optimization trial 14...\n"
     ]
    },
    {
     "name": "stderr",
     "output_type": "stream",
     "text": [
      "[INFO 08-20 04:19:47] ax.service.managed_loop: Running optimization trial 15...\n"
     ]
    },
    {
     "name": "stderr",
     "output_type": "stream",
     "text": [
      "[INFO 08-20 04:20:00] ax.service.managed_loop: Running optimization trial 16...\n"
     ]
    },
    {
     "name": "stderr",
     "output_type": "stream",
     "text": [
      "[INFO 08-20 04:20:14] ax.service.managed_loop: Running optimization trial 17...\n"
     ]
    },
    {
     "name": "stderr",
     "output_type": "stream",
     "text": [
      "[INFO 08-20 04:20:27] ax.service.managed_loop: Running optimization trial 18...\n"
     ]
    },
    {
     "name": "stderr",
     "output_type": "stream",
     "text": [
      "[INFO 08-20 04:20:41] ax.service.managed_loop: Running optimization trial 19...\n"
     ]
    },
    {
     "name": "stderr",
     "output_type": "stream",
     "text": [
      "[INFO 08-20 04:20:55] ax.service.managed_loop: Running optimization trial 20...\n"
     ]
    }
   ],
   "source": [
    "best_parameters, values, experiment, model = optimize(\n",
    "    parameters=[\n",
    "        {\"name\": \"lr\", \"type\": \"range\", \"bounds\": [1e-6, 0.4], \"log_scale\": True},\n",
    "        {\"name\": \"momentum\", \"type\": \"range\", \"bounds\": [0.0, 1.0]},\n",
    "    ],\n",
    "    evaluation_function=train_evaluate,\n",
    "    objective_name='accuracy',\n",
    ")"
   ]
  },
  {
   "cell_type": "markdown",
   "metadata": {},
   "source": [
    "We can introspect the optimal parameters and their outcomes:"
   ]
  },
  {
   "cell_type": "code",
   "execution_count": 6,
   "metadata": {},
   "outputs": [
    {
     "data": {
      "text/plain": [
       "{'lr': 0.00024031510672776154, 'momentum': 0.7329926177381657}"
      ]
     },
     "execution_count": 6,
     "metadata": {},
     "output_type": "execute_result"
    }
   ],
   "source": [
    "best_parameters"
   ]
  },
  {
   "cell_type": "code",
   "execution_count": 7,
   "metadata": {},
   "outputs": [
    {
     "data": {
      "text/plain": [
       "({'accuracy': 0.947500084626687},\n",
       " {'accuracy': {'accuracy': 1.1091292082568524e-08}})"
      ]
     },
     "execution_count": 7,
     "metadata": {},
     "output_type": "execute_result"
    }
   ],
   "source": [
    "means, covariances = values\n",
    "means, covariances"
   ]
  },
  {
   "cell_type": "markdown",
   "metadata": {},
   "source": [
    "## 4. Plot response surface\n",
    "\n",
    "Contour plot showing classification accuracy as a function of the two hyperparameters.\n",
    "\n",
    "The black squares show points that we have actually run, notice how they are clustered in the optimal region."
   ]
  },
  {
   "cell_type": "code",
   "execution_count": 8,
   "metadata": {},
   "outputs": [
    {
     "data": {
      "text/html": [
       "<div id=\"e21e4eafe90b4707a7b7bef187f29374\" style=\"width: 100%;\" class=\"plotly-graph-div\"></div><script type='text/javascript'>/*\n",
       " * Copyright (c) Facebook, Inc. and its affiliates. All Rights Reserved.\n",
       " */\n",
       "\n",
       "require(['plotly'], function(Plotly) {\n",
       "  window.PLOTLYENV = window.PLOTLYENV || {};\n",
       "  window.PLOTLYENV.BASE_URL = 'https://plot.ly';\n",
       "  /*\n",
       " * Copyright (c) Facebook, Inc. and its affiliates. All Rights Reserved.\n",
       " */\n",
       "\n",
       "const arm_data = {\"metrics\": [\"accuracy\"], \"in_sample\": {\"0_0\": {\"name\": \"0_0\", \"parameters\": {\"lr\": 1.7374285511171637e-05, \"momentum\": 0.7542093396186829}, \"y\": {\"accuracy\": 0.8336666666666667}, \"y_hat\": {\"accuracy\": 0.8336665992488609}, \"se\": {\"accuracy\": 0.0}, \"se_hat\": {\"accuracy\": 0.00010531530800270281}, \"context_stratum\": null}, \"1_0\": {\"name\": \"1_0\", \"parameters\": {\"lr\": 0.00010835256578088825, \"momentum\": 0.09207963198423386}, \"y\": {\"accuracy\": 0.8356666666666667}, \"y_hat\": {\"accuracy\": 0.8356666455420412}, \"se\": {\"accuracy\": 0.0}, \"se_hat\": {\"accuracy\": 0.00010531531209502517}, \"context_stratum\": null}, \"2_0\": {\"name\": \"2_0\", \"parameters\": {\"lr\": 0.0008963707705815842, \"momentum\": 0.543009340763092}, \"y\": {\"accuracy\": 0.2781666666666667}, \"y_hat\": {\"accuracy\": 0.278166690654465}, \"se\": {\"accuracy\": 0.0}, \"se_hat\": {\"accuracy\": 0.00010531531209502517}, \"context_stratum\": null}, \"3_0\": {\"name\": \"3_0\", \"parameters\": {\"lr\": 0.0035145359642817318, \"momentum\": 0.15353547036647797}, \"y\": {\"accuracy\": 0.10983333333333334}, \"y_hat\": {\"accuracy\": 0.10983337099237211}, \"se\": {\"accuracy\": 0.0}, \"se_hat\": {\"accuracy\": 0.00010531531209502517}, \"context_stratum\": null}, \"4_0\": {\"name\": \"4_0\", \"parameters\": {\"lr\": 0.00042522049186168644, \"momentum\": 0.7338594794273376}, \"y\": {\"accuracy\": 0.9465}, \"y_hat\": {\"accuracy\": 0.9464998689279618}, \"se\": {\"accuracy\": 0.0}, \"se_hat\": {\"accuracy\": 0.0001053152014853419}, \"context_stratum\": null}, \"5_0\": {\"name\": \"5_0\", \"parameters\": {\"lr\": 0.00048753994303245155, \"momentum\": 0.92822102275772}, \"y\": {\"accuracy\": 0.2871666666666667}, \"y_hat\": {\"accuracy\": 0.28716668995918065}, \"se\": {\"accuracy\": 0.0}, \"se_hat\": {\"accuracy\": 0.00010531531209502517}, \"context_stratum\": null}, \"6_0\": {\"name\": \"6_0\", \"parameters\": {\"lr\": 6.4918326498496795e-06, \"momentum\": 0.0374336475339176}, \"y\": {\"accuracy\": 0.4221666666666667}, \"y_hat\": {\"accuracy\": 0.422166679354944}, \"se\": {\"accuracy\": 0.0}, \"se_hat\": {\"accuracy\": 0.00010531531221194868}, \"context_stratum\": null}, \"7_0\": {\"name\": \"7_0\", \"parameters\": {\"lr\": 0.00010933740265947602, \"momentum\": 0.7167501030799364}, \"y\": {\"accuracy\": 0.9311666666666667}, \"y_hat\": {\"accuracy\": 0.931166644463747}, \"se\": {\"accuracy\": 0.0}, \"se_hat\": {\"accuracy\": 0.0001053153116273312}, \"context_stratum\": null}, \"8_0\": {\"name\": \"8_0\", \"parameters\": {\"lr\": 0.00015301246197007922, \"momentum\": 0.7651795849123632}, \"y\": {\"accuracy\": 0.9385}, \"y_hat\": {\"accuracy\": 0.9384999619779314}, \"se\": {\"accuracy\": 0.0}, \"se_hat\": {\"accuracy\": 0.00010531530776885581}, \"context_stratum\": null}, \"9_0\": {\"name\": \"9_0\", \"parameters\": {\"lr\": 2.3917733169474972e-05, \"momentum\": 0.2097766345779739}, \"y\": {\"accuracy\": 0.7423333333333333}, \"y_hat\": {\"accuracy\": 0.7423333197636538}, \"se\": {\"accuracy\": 0.0}, \"se_hat\": {\"accuracy\": 0.00010531531244579565}, \"context_stratum\": null}, \"10_0\": {\"name\": \"10_0\", \"parameters\": {\"lr\": 1e-06, \"momentum\": 0.5937876315115379}, \"y\": {\"accuracy\": 0.16516666666666666}, \"y_hat\": {\"accuracy\": 0.16516669981005994}, \"se\": {\"accuracy\": 0.0}, \"se_hat\": {\"accuracy\": 0.00010531531221194868}, \"context_stratum\": null}, \"11_0\": {\"name\": \"11_0\", \"parameters\": {\"lr\": 0.015318287767914579, \"momentum\": 0.7457494277578615}, \"y\": {\"accuracy\": 0.099}, \"y_hat\": {\"accuracy\": 0.09900002718839207}, \"se\": {\"accuracy\": 0.0}, \"se_hat\": {\"accuracy\": 0.00010531530999040226}, \"context_stratum\": null}, \"12_0\": {\"name\": \"12_0\", \"parameters\": {\"lr\": 0.00024031510672776154, \"momentum\": 0.7329926177381657}, \"y\": {\"accuracy\": 0.9475}, \"y_hat\": {\"accuracy\": 0.947500084626687}, \"se\": {\"accuracy\": 0.0}, \"se_hat\": {\"accuracy\": 0.00010531520347304336}, \"context_stratum\": null}, \"13_0\": {\"name\": \"13_0\", \"parameters\": {\"lr\": 1e-06, \"momentum\": 0.9764138600656098}, \"y\": {\"accuracy\": 0.5638333333333333}, \"y_hat\": {\"accuracy\": 0.5638333341933776}, \"se\": {\"accuracy\": 0.0}, \"se_hat\": {\"accuracy\": 0.00010531531209502517}, \"context_stratum\": null}, \"14_0\": {\"name\": \"14_0\", \"parameters\": {\"lr\": 2.0436677630415788e-05, \"momentum\": 0.8581682979115359}, \"y\": {\"accuracy\": 0.853}, \"y_hat\": {\"accuracy\": 0.8529999774916869}, \"se\": {\"accuracy\": 0.0}, \"se_hat\": {\"accuracy\": 0.00010531531209502517}, \"context_stratum\": null}, \"15_0\": {\"name\": \"15_0\", \"parameters\": {\"lr\": 5.717323734783568e-05, \"momentum\": 0.7744949588425111}, \"y\": {\"accuracy\": 0.9048333333333334}, \"y_hat\": {\"accuracy\": 0.90483332883374}, \"se\": {\"accuracy\": 0.0}, \"se_hat\": {\"accuracy\": 0.00010531530940578478}, \"context_stratum\": null}, \"16_0\": {\"name\": \"16_0\", \"parameters\": {\"lr\": 0.0002102148363530119, \"momentum\": 1.78757504332029e-17}, \"y\": {\"accuracy\": 0.8993333333333333}, \"y_hat\": {\"accuracy\": 0.8993332914648557}, \"se\": {\"accuracy\": 0.0}, \"se_hat\": {\"accuracy\": 0.00010531526789793522}, \"context_stratum\": null}, \"17_0\": {\"name\": \"17_0\", \"parameters\": {\"lr\": 8.138693810685921e-05, \"momentum\": 0.0}, \"y\": {\"accuracy\": 0.8668333333333333}, \"y_hat\": {\"accuracy\": 0.8668333495131844}, \"se\": {\"accuracy\": 0.0}, \"se_hat\": {\"accuracy\": 0.00010531526813178231}, \"context_stratum\": null}, \"18_0\": {\"name\": \"18_0\", \"parameters\": {\"lr\": 0.0003351471279129523, \"momentum\": 0.7515325227045874}, \"y\": {\"accuracy\": 0.06716666666666667}, \"y_hat\": {\"accuracy\": 0.06716676932621046}, \"se\": {\"accuracy\": 0.0}, \"se_hat\": {\"accuracy\": 0.00010531530624885033}, \"context_stratum\": null}}, \"out_of_sample\": {}, \"status_quo_name\": null};\n",
       "const density = 50;\n",
       "const grid_x = [1e-06, 1.3011511650442548e-06, 1.692994354296022e-06, 2.2028415765056147e-06, 2.866229883678204e-06, 3.729398352432554e-06, 4.852511011181743e-06, 6.3138503555892e-06, 8.215273746089953e-06, 1.0689313005882424e-05, 1.390841207112662e-05, 1.809694657026198e-05, 2.354686311364001e-05, 3.063802837345029e-05, 3.986470631277378e-05, 5.1870009063012666e-05, 6.749072272319499e-05, 8.781563250096393e-05, 0.00011426141253772724, 0.00014867137004306603, 0.00019344392634026088, 0.0002516997901283655, 0.0003274994751669172, 0.0004261263236648159, 0.0005544547624925005, 0.0007214294601814526, 0.000938688782612345, 0.0012213760031100258, 0.0015891948094037057, 0.002067782677737912, 0.0026904978401970136, 0.0035007443993213955, 0.004554997653699184, 0.005926740503884541, 0.007711585311544345, 0.010033938212454078, 0.013055670395116691, 0.01698740074503987, 0.02210317627048227, 0.028759573555516536, 0.03742055263793628, 0.04868979566145066, 0.06335278435066323, 0.0824315491666629, 0.10725590623460621, 0.13955614735503497, 0.18158364372009145, 0.23626776957937787, 0.3074200836506151, 0.4];\n",
       "const grid_y = [0.0, 0.02040816326530612, 0.04081632653061224, 0.061224489795918366, 0.08163265306122448, 0.1020408163265306, 0.12244897959183673, 0.14285714285714285, 0.16326530612244897, 0.18367346938775508, 0.2040816326530612, 0.22448979591836732, 0.24489795918367346, 0.26530612244897955, 0.2857142857142857, 0.3061224489795918, 0.32653061224489793, 0.3469387755102041, 0.36734693877551017, 0.3877551020408163, 0.4081632653061224, 0.42857142857142855, 0.44897959183673464, 0.4693877551020408, 0.4897959183673469, 0.5102040816326531, 0.5306122448979591, 0.5510204081632653, 0.5714285714285714, 0.5918367346938775, 0.6122448979591836, 0.6326530612244897, 0.6530612244897959, 0.673469387755102, 0.6938775510204082, 0.7142857142857142, 0.7346938775510203, 0.7551020408163265, 0.7755102040816326, 0.7959183673469387, 0.8163265306122448, 0.836734693877551, 0.8571428571428571, 0.8775510204081632, 0.8979591836734693, 0.9183673469387754, 0.9387755102040816, 0.9591836734693877, 0.9795918367346939, 1.0];\n",
       "const f = [0.6589562939450209, 0.6672835441349083, 0.6762543664883515, 0.685886830626907, 0.6961927150954957, 0.7071757459632217, 0.7188295450086982, 0.731135257293412, 0.744058828527763, 0.7575479046581454, 0.7715283300675696, 0.7859002273296721, 0.8005336514225161, 0.8152638257214001, 0.8298859872579163, 0.8441498962709457, 0.8577541020111646, 0.8703401068693266, 0.8814888962619651, 0.8907446030504049, 0.8976802443893315, 0.9019798740508305, 0.9035140308963345, 0.9023348247549103, 0.8986192910434332, 0.8926220003011498, 0.8846400040530318, 0.8749873931881491, 0.8639772889901107, 0.8519095322523846, 0.8390626961418057, 0.8256893391528558, 0.8120136483826874, 0.7982308109791749, 0.7845076016003584, 0.7709837931703826, 0.7577740929435202, 0.7449703806369509, 0.7326440840699407, 0.7208485735025387, 0.7096214912971319, 0.69898696071368, 0.688957638301285, 0.6795365898311729, 0.6707189811406956, 0.6624935835094171, 0.6548440989837649, 0.6477503149706193, 0.6411890998877421, 0.6351352530462898, 0.5607553562374786, 0.5615321189178598, 0.5624962866949208, 0.5636526787135544, 0.5650030714412168, 0.5665458536181195, 0.5682757580679983, 0.5701836898912573, 0.5722566673739778, 0.5744778873787861, 0.5768269213012382, 0.5792800412585601, 0.5818106694884686, 0.5843899374557914, 0.5869873353524185, 0.5895714279180049, 0.5921106090963061, 0.5945738661575823, 0.5969315236371547, 0.5991559387372393, 0.6012221225990586, 0.6031082658777068, 0.6047961520779017, 0.6062714478139679, 0.607523865179566, 0.6085471973806742, 0.6093392343342992, 0.6099015697506424, 0.6102393150462185, 0.6103607381225662, 0.6102768465265507, 0.610000934819744, 0.6095481152424624, 0.6089348491450819, 0.6081784943930677, 0.6072968812656659, 0.6063079264862442, 0.6052292921410178, 0.6040780935262098, 0.6028706575278805, 0.6016223310628745, 0.6003473374297127, 0.5990586771415409, 0.5977680689189024, 0.5964859259714529, 0.5952213624459372, 0.59398222491047, 0.5927751439283514, 0.591605601098488, 0.5904780073587014, 0.4525789591431345, 0.4476151266764513, 0.44313794621725944, 0.4392606891942045, 0.43609407877742407, 0.4337393576921368, 0.4322798588759681, 0.43177206668733126, 0.4322382148636824, 0.4336629793422678, 0.4359956761951378, 0.43915701183610345, 0.44304791041490793, 0.44755817541069887, 0.45257378320383473, 0.45798246421780464, 0.46367766984502096, 0.4695611842432902, 0.4755446659724417, 0.4815503778666988, 0.48751132163370037, 0.4933709512555163, 0.49908260157191386, 0.5046087367693833, 0.5099200977101606, 0.514994806420041, 0.5198174698030611, 0.5243783119953851, 0.5286723550290614, 0.5326986600730723, 0.5364596359727545, 0.5399604177286262, 0.5432083146202598, 0.5462123256344737, 0.5489827184916365, 0.5515306677164399, 0.5538679467389931, 0.5560066688363856, 0.5579590717541009, 0.5597373410187632, 0.5613534672212408, 0.5628191328757752, 0.5641456248199194, 0.5653437684913988, 0.5664238807876123, 0.5673957385710243, 0.5682685602227899, 0.5690509979633334, 0.5697511389498991, 0.5703765134266277, 0.5656473254298685, 0.5656231464665165, 0.5656411208854728, 0.5657025515294616, 0.5658081993106197, 0.5659582437824563, 0.5661522565852442, 0.5663891892902986, 0.5666673766561451, 0.5669845557203445, 0.567337900517518, 0.5677240715733102, 0.5681392787148815, 0.5685793551971261, 0.5690398407028064, 0.5695160704578941, 0.5700032675265907, 0.5704966353180895, 0.5709914474450278, 0.5714831323071125, 0.5719673501123526, 0.5724400604662541, 0.5728975791279987, 0.5733366230231809, 0.5737543430883314, 0.5741483449795725, 0.5745166980873572, 0.574857933647502, 0.5751710330167179, 0.5754554073852314, 0.5757108703299951, 0.5759376046742333, 0.576136125119327, 0.5763072380625424, 0.5764519999187312, 0.5765716751364647, 0.576667694949079, 0.5767416177383846, 0.5767950917215109, 0.5768298205067457, 0.5768475319078123, 0.5768499502622335, 0.57683877237114, 0.5768156470670078, 0.5767821583230005, 0.5767398117428905, 0.5766900242130355, 0.5766341164564929, 0.5765733082022692, 0.5765087156682714, 0.6476054947168846, 0.6528178657385043, 0.6581765314752487, 0.6636485574450718, 0.6691946994941637, 0.6747692578934702, 0.6803201248242234, 0.6857890745683555, 0.6911123453517614, 0.6962215565970004, 0.7010449936233557, 0.705509272029418, 0.7095413652097108, 0.7130709411045948, 0.7160329108619146, 0.7183700477197577, 0.7200354968362394, 0.7209949752525011, 0.7212284642392381, 0.7207312287811531, 0.7195140593483925, 0.7176027105820928, 0.7150365957582245, 0.7118668691616072, 0.70815407830606, 0.7039655883497806, 0.6993729733324516, 0.694449539722154, 0.6892681063741192, 0.6838991202285227, 0.6784091456433224, 0.6728597312016316, 0.6673066327159763, 0.6617993547746119, 0.6563809642964686, 0.6510881265233824, 0.6459513149973329, 0.6409951508750753, 0.6362388322435993, 0.6316966200481388, 0.6273783532263908, 0.6232899712766927, 0.6194340275540494, 0.615810180984873, 0.6124156575981834, 0.6092456763139932, 0.6062938358679411, 0.6035524616542617, 0.601012912714571, 0.5986658501599931, 0.6507028633025252, 0.6561560117541306, 0.6617676965976632, 0.6675039269093886, 0.6733239470887589, 0.6791800289763761, 0.6850174643119322, 0.6907748133435345, 0.6963844666338463, 0.7017735732794018, 0.7068653777313687, 0.7115809870612666, 0.7158415592789982, 0.7195708610182096, 0.7226980918079643, 0.7251608178839862, 0.7269078103119809, 0.7279015519559264, 0.7281201771436902, 0.7275586440597628, 0.7262290118983075, 0.7241597917126483, 0.7213944430524039, 0.7179891772472189, 0.7140102865071141, 0.7095312389026239, 0.7046297654579439, 0.6993851266192842, 0.6938756933983395, 0.6881769245862337, 0.6823597734166151, 0.6764895191095633, 0.6706249920071429, 0.6648181446564136, 0.6591139133374632, 0.6535503129874473, 0.6481587112070343, 0.6429642323544271, 0.6379862493554774, 0.6332389278700462, 0.628731794264138, 0.6244703050825791, 0.6204564012190469, 0.6166890346705094, 0.6131646596555467, 0.6098776830241283, 0.6068208713724377, 0.6039857141872645, 0.6013627437716201, 0.5989418137287861, 0.5768339682518564, 0.5767639959181206, 0.5766719759977618, 0.5765563315353679, 0.5764156003307531, 0.576248470589738, 0.5760538177019361, 0.5758307413665122, 0.5755786021741919, 0.5752970566583143, 0.5749860897557529, 0.5746460435768447, 0.5742776413775652, 0.5738820056622018, 0.5734606694236791, 0.5730155796532218, 0.5725490924202764, 0.5720639590343919, 0.571563303047665, 0.5710505881310495, 0.570529577150578, 0.5700042830681028, 0.5694789125830196, 0.5689578037027617, 0.5684453586680505, 0.5679459738515636, 0.5674639683862293, 0.5670035133537383, 0.5665685633710122, 0.5661627923506564, 0.5657895350835159, 0.5654517361026212, 0.5651519070470179, 0.5648920934620644, 0.5646738516630002, 0.5644982359647188, 0.5643657962571597, 0.5642765855960696, 0.5642301771954987, 0.564225689961692, 0.5642618215058873, 0.5643368874214604, 0.5644488655111894, 0.5645954436032423, 0.5647740695970632, 0.5649820024282304, 0.5652163627281683, 0.5654741820731868, 0.5657524498595892, 0.5660481569997016, 0.5325051269359348, 0.5283159819533255, 0.523786355497089, 0.5189003388455626, 0.5136433723663123, 0.5080027291848849, 0.5019680656729613, 0.4955320403208924, 0.48869100052949377, 0.48144573413406266, 0.47380227893520704, 0.46577277903408654, 0.4573763712450908, 0.4486400782117218, 0.4395996770669238, 0.4303005036448242, 0.42079814260543064, 0.4111589438385344, 0.40146029592542654, 0.3917905794000802, 0.38224871766221014, 0.37294324373811694, 0.3639908091723909, 0.3555140798880486, 0.3476389953552264, 0.34049141335474564, 0.33419322249504974, 0.32885807475881396, 0.32458696298785933, 0.3214639315410819, 0.31955224791878906, 0.31889136506847005, 0.3194949595954037, 0.321350240772872, 0.3244186009327283, 0.3286375406992147, 0.33392367749005447, 0.34017655413737297, 0.34728291855705984, 0.35512114601858324, 0.36356551418907296, 0.3724901039558911, 0.38177217157560106, 0.3912949080218532, 0.40094956165360296, 0.4106369467063269, 0.42026839202739263, 0.42976620338279103, 0.4390637210221858, 0.4481050547238612, 0.5303166176476515, 0.5258476049640818, 0.5210076632788202, 0.5157783406188778, 0.5101424649875986, 0.5040846615948151, 0.4975919471076877, 0.490654404254134, 0.4832659381965781, 0.4754251134254348, 0.46713606633765764, 0.45840948399412473, 0.44926363361672195, 0.43972542003422666, 0.4298314393999837, 0.4196289870538976, 0.4091769654978765, 0.3985466254382654, 0.38782205939462044, 0.3771003546269865, 0.36649130185935386, 0.35611655099437406, 0.3461081080681099, 0.3366060831462776, 0.32775563108392824, 0.3197030798389942, 0.3125913160348938, 0.3065545922500637, 0.3017130263166908, 0.2981671634301241, 0.29599304433854284, 0.29523824273332244, 0.29591928388401145, 0.2980207314090301, 0.30149604706826033, 0.30627012467787534, 0.31224321601513383, 0.31929583937613926, 0.3272942081117033, 0.3360957344080714, 0.3455542348237601, 0.35552456412795513, 0.3658665099072483, 0.37644787568140037, 0.3871467559260374, 0.39785305982301045, 0.4084693733443112, 0.4189112651644096, 0.42910714525775184, 0.43899777995079603, 0.5795995860000177, 0.5795042518215953, 0.5793675583096181, 0.5791869127823315, 0.5789600363154342, 0.5786850310216101, 0.5783604456901311, 0.577985337875273, 0.5775593304492346, 0.5770826606338748, 0.5765562196026073, 0.5759815809021211, 0.5753610161819512, 0.5746974970320793, 0.5739946821046112, 0.5732568891206316, 0.5724890518206105, 0.5716966623867655, 0.5708857003287904, 0.5700625492607035, 0.5692339033882261, 0.5684066658576643, 0.5675878413761146, 0.5667844256903152, 0.5660032946022181, 0.5652510952020502, 0.5645341419160503, 0.5638583198012609, 0.5632289972815415, 0.5626509502172468, 0.5621282988478646, 0.5616644587555217, 0.5612621065820487, 0.5609231608080248, 0.5606487774836164, 0.5604393604023382, 0.560294584843112, 0.5602134336846702, 0.5601942444286818, 0.5602347654608378, 0.5603322197365488, 0.5604833740010794, 0.5606846116412955, 0.5609320073135379, 0.5612214015930933, 0.5615484740371353, 0.5619088132355621, 0.5622979826327662, 0.5627115811280866, 0.5631452976936749, 0.6675263444614294, 0.673055902158896, 0.6785332386898595, 0.6838870522949944, 0.689038020802204, 0.6938999527024815, 0.6983816538488504, 0.7023896298585307, 0.7058316912012936, 0.7086214186193911, 0.7106832664092053, 0.7119578397859214, 0.7124066403134591, 0.71201545014299, 0.7107956513435938, 0.7087831805475925, 0.7060353573639485, 0.7026262557101259, 0.6986414474136832, 0.6941728477622962, 0.6893141573469057, 0.6841571487363737, 0.6787888578959226, 0.6732896230345566, 0.6677318548232539, 0.6621794022364633, 0.6566873811179412, 0.6513023466059751, 0.6460627088585579, 0.6409993102742859, 0.6361360997019102, 0.6314908541748593, 0.6270759113061137, 0.6228988857461384, 0.6189633512956586, 0.6152694766716493, 0.6118146078454941, 0.6085937935764492, 0.6056002534894023, 0.6028257899947435, 0.600261146688097, 0.5978963167376387, 0.5957208052778448, 0.5937238500718389, 0.5918946047506457, 0.5902222888435901, 0.5886963086232337, 0.5873063525345207, 0.5860424646869369, 0.5848950995795266, 0.6200255125481621, 0.6221087424943044, 0.624120714026379, 0.6260383300621486, 0.6278380463436274, 0.6294963886183406, 0.6309905292428105, 0.632298903790775, 0.6334018424398299, 0.6342821862141941, 0.6349258553436958, 0.6353223367264633, 0.6354650601798233, 0.6353516388817803, 0.6349839577577129, 0.6343681037386677, 0.6335141426870061, 0.6324357581027992, 0.6311497753425929, 0.6296756011422084, 0.6280346112959461, 0.6262495194090619, 0.6243437570930933, 0.6223408914614289, 0.6202641000655709, 0.6181357172363251, 0.615976859788696, 0.6138071346792581, 0.6116444267562618, 0.6095047613382601, 0.6074022339928006, 0.6053489984677103, 0.6033553031089861, 0.6014295661132273, 0.5995784804434073, 0.5978071400332736, 0.5961191798896637, 0.5945169237714697, 0.5930015342009622, 0.5915731605933819, 0.5902310822375024, 0.5889738437030907, 0.5877993809810004, 0.5867051372777115, 0.5856881678930974, 0.5847452340168083, 0.5838728855956307, 0.5830675336629306, 0.5823255126935118, 0.5816431336638344, 0.5780378839911245, 0.5781234645728752, 0.5782039933615251, 0.5782788957110833, 0.5783476229408153, 0.5784096597082378, 0.5784645311561556, 0.5785118096810217, 0.5785511211725701, 0.578582150582075, 0.5786046466886317, 0.5786184259493319, 0.578623375339615, 0.5786194541138202, 0.5786066944422199, 0.5785852009086384, 0.5785551488811912, 0.5785167817966224, 0.5784704074252239, 0.5784163932073875, 0.5783551607736982, 0.5782871797774417, 0.5782129611809858, 0.5781330501454554, 0.5780480186763484, 0.5779584581764045, 0.5778649720514001, 0.5777681685051131, 0.5776686536470084, 0.577567025020947, 0.5774638656461062, 0.5773597386430184, 0.5772551824989353, 0.5771507070081829, 0.5770467899054126, 0.5769438741931084, 0.5768423661498058, 0.57674263399243, 0.5766450071552092, 0.5765497761387899, 0.5764571928765007, 0.5763674715600982, 0.5762807898646412, 0.5761972905112067, 0.5761170831067667, 0.5760402462024682, 0.5759668295145562, 0.5758968562560209, 0.5758303255315207, 0.5757672147530108, 0.5750570784567113, 0.5750594105132695, 0.5750615836704055, 0.5750635870386047, 0.5750654104212233, 0.5750670444074177, 0.5750684804593854, 0.5750697109927005, 0.5750707294486015, 0.5750715303571879, 0.5750721093906028, 0.5750724634054138, 0.575072590473562, 0.5750724899014147, 0.5750721622366346, 0.5750716092627622, 0.5750708339815929, 0.5750698405836135, 0.5750686344069444, 0.5750672218853952, 0.5750656104864069, 0.575063808639786, 0.5750618256582618, 0.5750596716509988, 0.5750573574312731, 0.5750548944195784, 0.5750522945434587, 0.575049570135373, 0.5750467338298787, 0.5750437984613906, 0.5750407769637083, 0.575037682272431, 0.5750345272312948, 0.5750313245033505, 0.5750280864878001, 0.5750248252431762, 0.57502155241743, 0.5750182791853622, 0.5750150161937019, 0.5750117735140181, 0.5750085606035243, 0.57500538627373, 0.5750022586667831, 0.574999185239262, 0.574996172753084, 0.5749932272731375, 0.5749903541711747, 0.5749875581354646, 0.5749848431856663, 0.5749822126923576, 0.5749399338130112, 0.5749399884779273, 0.5749400391663848, 0.57494008568362, 0.5749401278489156, 0.5749401654968389, 0.5749401984783874, 0.5749402266620318, 0.5749402499346441, 0.5749402682023022, 0.5749402813909619, 0.5749402894469892, 0.5749402923375474, 0.5749402900508348, 0.5749402825961701, 0.5749402700039248, 0.5749402523253035, 0.574940229631975, 0.5749402020155558, 0.5749401695869548, 0.5749401324755843, 0.574940090828445, 0.5749400448090972, 0.5749399945965258, 0.5749399403839127, 0.5749398823773296, 0.5749398207943613, 0.5749397558626772, 0.5749396878185603, 0.5749396169054122, 0.5749395433722435, 0.5749394674721665, 0.574939389460901, 0.5749393095953077, 0.574939228131959, 0.5749391453257602, 0.5749390614286295, 0.5749389766882472, 0.5749388913468814, 0.574938805640297, 0.5749387197967547, 0.5749386340361035, 0.5749385485689694, 0.5749384635960461, 0.5749383793074835, 0.5749382958823791, 0.5749382134883677, 0.5749381322813094, 0.574938052405073, 0.5749379739914103, 0.5749363360837197, 0.5749363372692047, 0.5749363383651741, 0.574936339368218, 0.5749363402751889, 0.5749363410832192, 0.5749363417897367, 0.5749363423924793, 0.574936342889507, 0.574936343279214, 0.5749363435603363, 0.5749363437319603, 0.5749363437935271, 0.5749363437448359, 0.5749363435860452, 0.5749363433176718, 0.5749363429405883, 0.5749363424560172, 0.5749363418655252, 0.5749363411710131, 0.5749363403747059, 0.5749363394791399, 0.5749363384871491, 0.5749363374018488, 0.5749363362266191, 0.5749363349650863, 0.5749363336211036, 0.5749363321987305, 0.5749363307022115, 0.574936329135954, 0.5749363275045067, 0.5749363258125358, 0.5749363240648026, 0.5749363222661404, 0.5749363204214325, 0.5749363185355885, 0.5749363166135231, 0.5749363146601346, 0.5749363126802843, 0.5749363106787763, 0.5749363086603387, 0.5749363066296063, 0.5749363045911027, 0.5749363025492261, 0.5749363005082339, 0.5749362984722303, 0.5749362964451545, 0.5749362944307704, 0.5749362924326579, 0.5749362904542046, 0.5749362395063866, 0.5749362395309039, 0.5749362395535247, 0.5749362395741898, 0.574936239592845, 0.5749362396094408, 0.5749362396239333, 0.5749362396362833, 0.574936239646458, 0.5749362396544299, 0.5749362396601773, 0.5749362396636848, 0.5749362396649429, 0.5749362396639481, 0.5749362396607032, 0.5749362396552168, 0.574936239647504, 0.5749362396375854, 0.574936239625488, 0.5749362396112441, 0.5749362395948918, 0.5749362395764748, 0.5749362395560417, 0.5749362395336464, 0.5749362395093474, 0.5749362394832078, 0.5749362394552948, 0.5749362394256797, 0.5749362393944373, 0.5749362393616456, 0.5749362393273857, 0.5749362392917411, 0.5749362392547976, 0.5749362392166433, 0.5749362391773672, 0.57493623913706, 0.5749362390958129, 0.5749362390537178, 0.5749362390108665, 0.5749362389673509, 0.5749362389232623, 0.5749362388786909, 0.5749362388337261, 0.5749362387884557, 0.574936238742966, 0.574936238697341, 0.5749362386516628, 0.5749362386060111, 0.5749362385604626, 0.5749362385150919, 0.5749362371244519, 0.5749362371249429, 0.5749362371253953, 0.5749362371258081, 0.5749362371261804, 0.5749362371265111, 0.5749362371267996, 0.5749362371270454, 0.5749362371272477, 0.5749362371274062, 0.5749362371275203, 0.57493623712759, 0.574936237127615, 0.5749362371275952, 0.5749362371275307, 0.5749362371274217, 0.5749362371272685, 0.5749362371270712, 0.5749362371268305, 0.574936237126547, 0.574936237126221, 0.5749362371258536, 0.5749362371254455, 0.5749362371249976, 0.5749362371245109, 0.5749362371239867, 0.5749362371234259, 0.5749362371228298, 0.5749362371221998, 0.5749362371215371, 0.5749362371208433, 0.5749362371201199, 0.5749362371193681, 0.5749362371185899, 0.5749362371177866, 0.57493623711696, 0.5749362371161115, 0.574936237115243, 0.5749362371143562, 0.5749362371134527, 0.574936237112534, 0.5749362371116022, 0.5749362371106588, 0.5749362371097054, 0.5749362371087438, 0.5749362371077753, 0.5749362371068019, 0.574936237105825, 0.5749362371048461, 0.5749362371038668, 0.5749362370689645, 0.5749362370689731, 0.574936237068981, 0.5749362370689882, 0.5749362370689945, 0.5749362370690002, 0.574936237069005, 0.574936237069009, 0.5749362370690121, 0.5749362370690145, 0.574936237069016, 0.5749362370690168, 0.5749362370690165, 0.5749362370690156, 0.5749362370690138, 0.5749362370690112, 0.5749362370690078, 0.5749362370690034, 0.5749362370689984, 0.5749362370689926, 0.5749362370689859, 0.5749362370689785, 0.5749362370689703, 0.5749362370689615, 0.5749362370689518, 0.5749362370689415, 0.5749362370689304, 0.5749362370689187, 0.5749362370689064, 0.5749362370688935, 0.57493623706888, 0.5749362370688659, 0.5749362370688512, 0.5749362370688361, 0.5749362370688205, 0.5749362370688044, 0.5749362370687879, 0.574936237068771, 0.5749362370687537, 0.5749362370687361, 0.5749362370687182, 0.5749362370687, 0.5749362370686815, 0.5749362370686628, 0.5749362370686439, 0.574936237068625, 0.5749362370686057, 0.5749362370685865, 0.5749362370685672, 0.5749362370685478, 0.5749362370648938, 0.5749362370648451, 0.5749362370647975, 0.5749362370647509, 0.5749362370647058, 0.574936237064662, 0.5749362370646196, 0.5749362370645787, 0.5749362370645396, 0.5749362370645019, 0.5749362370644662, 0.5749362370644321, 0.5749362370644, 0.5749362370643698, 0.5749362370643416, 0.5749362370643155, 0.5749362370642914, 0.5749362370642697, 0.5749362370642499, 0.5749362370642326, 0.5749362370642174, 0.5749362370642046, 0.5749362370641941, 0.574936237064186, 0.5749362370641802, 0.5749362370641767, 0.5749362370641757, 0.5749362370641772, 0.574936237064181, 0.5749362370641872, 0.5749362370641957, 0.5749362370642066, 0.5749362370642198, 0.5749362370642354, 0.5749362370642531, 0.5749362370642732, 0.5749362370642954, 0.5749362370643198, 0.5749362370643463, 0.5749362370643748, 0.5749362370644053, 0.5749362370644377, 0.5749362370644722, 0.5749362370645082, 0.5749362370645461, 0.5749362370645856, 0.5749362370646267, 0.5749362370646692, 0.5749362370647133, 0.5749362370647587, 0.5749362369413236, 0.5749362369388903, 0.5749362369365074, 0.5749362369341795, 0.5749362369319114, 0.5749362369297075, 0.5749362369275726, 0.5749362369255109, 0.5749362369235268, 0.5749362369216247, 0.5749362369198084, 0.5749362369180822, 0.5749362369164498, 0.5749362369149147, 0.5749362369134805, 0.5749362369121503, 0.5749362369109272, 0.5749362369098141, 0.5749362369088135, 0.5749362369079276, 0.5749362369071586, 0.5749362369065082, 0.574936236905978, 0.5749362369055692, 0.5749362369052827, 0.5749362369051194, 0.5749362369050794, 0.574936236905163, 0.57493623690537, 0.5749362369056997, 0.5749362369061516, 0.5749362369067245, 0.574936236907417, 0.5749362369082276, 0.5749362369091543, 0.574936236910195, 0.5749362369113473, 0.5749362369126086, 0.5749362369139759, 0.5749362369154463, 0.5749362369170161, 0.5749362369186822, 0.5749362369204407, 0.5749362369222878, 0.5749362369242195, 0.5749362369262315, 0.5749362369283197, 0.5749362369304796, 0.5749362369327068, 0.5749362369349966, 0.5749362318277256, 0.5749362317106106, 0.5749362315955476, 0.5749362314827923, 0.5749362313725999, 0.5749362312652244, 0.5749362311609175, 0.5749362310599279, 0.5749362309624996, 0.5749362308688718, 0.5749362307792771, 0.5749362306939413, 0.5749362306130814, 0.5749362305369057, 0.574936230465612, 0.5749362303993876, 0.5749362303384074, 0.5749362302828341, 0.574936230232817, 0.5749362301884909, 0.5749362301499764, 0.5749362301173784, 0.5749362300907862, 0.574936230070273, 0.5749362300558951, 0.5749362300476925, 0.5749362300456877, 0.5749362300498863, 0.5749362300602766, 0.5749362300768301, 0.574936230099501, 0.574936230128227, 0.5749362301629292, 0.5749362302035126, 0.5749362302498668, 0.5749362303018662, 0.5749362303593707, 0.5749362304222263, 0.5749362304902659, 0.5749362305633099, 0.5749362306411675, 0.5749362307236371, 0.5749362308105069, 0.5749362309015569, 0.5749362309965589, 0.5749362310952776, 0.5749362311974721, 0.5749362313028966, 0.5749362314113012, 0.5749362315224334, 0.5749360350039381, 0.5749360296242139, 0.5749360243148873, 0.5749360190894159, 0.5749360139613708, 0.5749360089443788, 0.5749360040520611, 0.5749359992979721, 0.5749359946955351, 0.5749359902579778, 0.5749359859982676, 0.5749359819290464, 0.5749359780625656, 0.574935974410623, 0.5749359709845, 0.574935967794901, 0.5749359648518952, 0.5749359621648621, 0.5749359597424377, 0.5749359575924675, 0.5749359557219613, 0.5749359541370533, 0.5749359528429673, 0.5749359518439857, 0.5749359511434255, 0.5749359507436186, 0.574935950645898, 0.5749359508505903, 0.574935951357014, 0.5749359521634827, 0.5749359532673158, 0.5749359546648536, 0.5749359563514789, 0.5749359583216433, 0.5749359605689, 0.5749359630859395, 0.5749359658646326, 0.5749359688960751, 0.5749359721706387, 0.5749359756780232, 0.5749359794073139, 0.5749359833470402, 0.5749359874852368, 0.5749359918095067, 0.5749359963070858, 0.5749360009649067, 0.574936005769665, 0.5749360107078829, 0.5749360157659751, 0.5749360209303103, 0.5749292433618168, 0.5749290136684072, 0.5749287854619902, 0.5749285594080267, 0.5749283361879167, 0.5749281164957141, 0.574927901034614, 0.5749276905132366, 0.5749274856417321, 0.5749272871277369, 0.5749270956722118, 0.5749269119651981, 0.5749267366815263, 0.5749265704765174, 0.5749264139817153, 0.5749262678006913, 0.5749261325049609, 0.5749260086300546, 0.574925896671781, 0.5749257970827222, 0.5749257102689971, 0.574925636587328, 0.5749255763424406, 0.5749255297848271, 0.5749254971088965, 0.574925478451531, 0.5749254738910672, 0.5749254834467108, 0.5749255070783932, 0.5749255446870704, 0.5749255961154615, 0.5749256611492186, 0.5749257395185147, 0.5749258309000319, 0.5749259349193295, 0.5749260511535638, 0.574926179134532, 0.5749263183520078, 0.5749264682573307, 0.5749266282672163, 0.5749267977677435, 0.5749269761184821, 0.5749271626567185, 0.574927356701739, 0.5749275575591304, 0.5749277645250589, 0.57492797689049, 0.5749281939453125, 0.5749284149823334, 0.5749286393011143, 0.5747336949738258, 0.574725068465732, 0.5747164048622349, 0.5747077328451373, 0.5746990826257358, 0.5746904857963879, 0.5746819751595085, 0.5746735845347594, 0.5746653485455855, 0.574657302386641, 0.5746494815740402, 0.5746419216807443, 0.5746346580597547, 0.5746277255581093, 0.5746211582249714, 0.5746149890173388, 0.5746092495070921, 0.5746039695932246, 0.5745991772231549, 0.5745948981270117, 0.574591155568688, 0.5745879701173063, 0.5745853594424953, 0.5745833381365735, 0.5745819175663672, 0.5745811057569556, 0.57458090730916, 0.5745813233520733, 0.57458235153138, 0.5745839860336496, 0.5745862176462204, 0.5745890338517318, 0.5745924189558193, 0.5745963542459862, 0.5746008181791984, 0.5746057865953401, 0.5746112329533204, 0.574617128586336, 0.574623442972587, 0.5746301440176075, 0.5746371983443066, 0.5746445715868359, 0.5746522286844713, 0.5746601341718557, 0.574668252462148, 0.5746765481198901, 0.5746849861207034, 0.5746935320952677, 0.5747021525554028, 0.5747108151004514, 0.5707591062687786, 0.5705115200109669, 0.5702579660120319, 0.569999273038108, 0.5697363781245213, 0.5694703255911369, 0.5692022643220634, 0.5689334431744005, 0.5686652044106009, 0.5683989750859844, 0.5681362563666336, 0.567878610802638, 0.5676276476363735, 0.5673850062837744, 0.5671523381865948, 0.5669312872933653, 0.5667234694838009, 0.5665304513033244, 0.5663537284186094, 0.5661947042392409, 0.5660546691725424, 0.5659347809865852, 0.5658360467491204, 0.5657593067870428, 0.5657052210721311, 0.5656742583850471, 0.5656666885425498, 0.5656825778948631, 0.5657217882140311, 0.5657839790032033, 0.5658686131647281, 0.5659749658753166, 0.5661021364329086, 0.5662490627654131, 0.5664145382288782, 0.5665972302739725, 0.5667957005262395, 0.5670084258080453, 0.567233819628307, 0.567470253679129, 0.5677160789049425, 0.5679696457477174, 0.5682293232190267, 0.5684935165037437, 0.568760682858406, 0.569029345627368, 0.5692981062595011, 0.5695656542654173, 0.5698307751083065, 0.5700923560692007, 0.5361121330518281, 0.5327442449251458, 0.5291678185211774, 0.5253832727027754, 0.5213936169725781, 0.517204854300846, 0.5128263938102938, 0.5082714619360542, 0.5035574973822542, 0.49870651159380797, 0.4937453926968572, 0.48870612716415623, 0.4836259101696216, 0.4785471131698394, 0.47351707628012474, 0.46858769420642477, 0.46381476863161786, 0.45925710779711193, 0.4549753661643964, 0.4510306337125662, 0.4474828052371669, 0.44438878371811025, 0.441800596168337, 0.4397635221450165, 0.4383143504602501, 0.4374798847729418, 0.43727581085143324, 0.4377060164554524, 0.43876242062979587, 0.44042532691838093, 0.44266427059612884, 0.445439289967132, 0.4487025215833559, 0.4524000022376296, 0.4564735574814436, 0.46086266553361743, 0.465506203501302, 0.4703440059229834, 0.47531819008263954, 0.48037422543584973, 0.48546174394110775, 0.49053510318156307, 0.4955537247490242, 0.5004822368257784, 0.5052904529153146, 0.5099532190219088, 0.5144501600233771, 0.5187653531909038, 0.5228869533300393, 0.5268067902635191, 0.5213503429360784, 0.5166345863145646, 0.5115895036788731, 0.5062084257304011, 0.5004878998203377, 0.49442839946345635, 0.4880351008214334, 0.4813187183560176, 0.47429638648578293, 0.46699256726935334, 0.4594399556892903, 0.45168034388352607, 0.44376539363727374, 0.4357572527858292, 0.4277289364108652, 0.41976437890507257, 0.4119580500002392, 0.40441401967980206, 0.397244357905742, 0.3905667711696933, 0.38450141605636917, 0.3791668971141935, 0.37467555616266834, 0.3711282889776675, 0.36860926656445725, 0.36718105976931636, 0.36688072416141393, 0.36771735665046257, 0.3696714713289795, 0.37269628679348354, 0.37672073640799575, 0.38165378384095167, 0.3873895029936125, 0.39381237576630573, 0.4008023466778052, 0.4082393063836085, 0.41600681589102223, 0.4239950030406172, 0.43210265110860674, 0.44023855567757064, 0.44832225551821797, 0.4562842532578792, 0.46406583880113395, 0.47161861818256, 0.4789038366312974, 0.4858915696648275, 0.4925598415585922, 0.49889371740781674, 0.5048844035913136, 0.5105283818566677, 0.5104277630969247, 0.5100458066730249, 0.5098369599489353, 0.5097993310108353, 0.5099291158940171, 0.5102207355967848, 0.5106670148170449, 0.5112593947989104, 0.511988171477069, 0.5128427494182983, 0.5138119018970871, 0.5148840277816178, 0.5160473966896488, 0.5172903750182076, 0.5186016268579062, 0.5199702853675825, 0.521386091805883, 0.5228395010009357, 0.5243217535094864, 0.5258249160120781, 0.5273418925685437, 0.5288664101934918, 0.5303929827958188, 0.5319168578646828, 0.5334339503931016, 0.5349407684342841, 0.536434334415875, 0.5379121059281563, 0.5393718991901817, 0.5408118178189731, 0.5422301889156881, 0.5436255078704836, 0.5449963927020758, 0.5463415482112718, 0.5476597397574373, 0.5489497760748396, 0.5502105002386436, 0.5514407876696449, 0.5526395499297578, 0.5538057430003654, 0.5549383787436128, 0.5560365383113984, 0.5570993863760043, 0.5581261851976256, 0.5591163077056024, 0.5600692489410972, 0.5609846353798759, 0.5618622318170401, 0.5627019456450779, 0.5635038284882603, 0.175092498311611, 0.17648138212246622, 0.18062028770104066, 0.1873309457396568, 0.19635316664128072, 0.2073782896002157, 0.22007638848875571, 0.23411633141836663, 0.24917975061157538, 0.2649702261418459, 0.2812188321213399, 0.29768698023901174, 0.31416730006229, 0.3304831319878179, 0.34648707607140633, 0.36205893387927734, 0.37710329641729634, 0.3915469650382163, 0.405336340549336, 0.4184348756886791, 0.430820655366839, 0.4424841456790538, 0.45342613513354585, 0.46365587857137913, 0.47318944486670056, 0.48204826289029973, 0.49025785575194, 0.49784675049717697, 0.5048455488185082, 0.5112861436305042, 0.5172010663052194, 0.5226229497743522, 0.5275840934292741, 0.5321161166756092, 0.5362496890398402, 0.5400143258178712, 0.5434382393533654, 0.5465482371041632, 0.5493696586758003, 0.5519263449576487, 0.554240633381048, 0.5563333741260408, 0.558223962833302, 0.5599303860321845, 0.5614692760777948, 0.5628559729039347, 0.5641045903495582, 0.5652280852093456, 0.566238327499395, 0.5671461707221319, 0.48023930766272327, 0.4804151176557985, 0.4809410900686476, 0.48180987816856097, 0.4830094766692362, 0.4845235689907167, 0.48633198837004854, 0.48841127023083564, 0.49073526994850736, 0.4932758187380406, 0.49600339078008926, 0.49888775666706775, 0.5018986014553276, 0.5050060896551727, 0.5081813639704448, 0.5113969691413551, 0.5146271965395202, 0.5178483489840955, 0.5210389284465038, 0.5241797518193466, 0.5272540017374452, 0.5302472205988806, 0.5331472565175329, 0.5359441700403383, 0.538630110183343, 0.5411991677791916, 0.5436472133751042, 0.5459717260526549, 0.5481716186231759, 0.5502470637358032, 0.5521993245567056, 0.5540305928639752, 0.5557438366694545, 0.557342658835038, 0.5588311675992232, 0.5602138594679015, 0.5614955145464354, 0.5626811040907594, 0.5637757098252429, 0.5647844544055445, 0.5657124422869061, 0.5665647101838706, 0.5673461862685112, 0.5680616572438785, 0.5687157424413221, 0.5693128741192186, 0.5698572831818642, 0.5703529895870258, 0.5708037967657285, 0.5712132894357471, 0.5698975058439696, 0.5699031313591546, 0.5699199329737039, 0.5699477846806391, 0.5699864784806035, 0.5700357272958082, 0.5700951689588362, 0.5701643711892082, 0.5702428374505315, 0.570330013564282, 0.5704252949432516, 0.570528034298697, 0.5706375496703987, 0.5707531326281117, 0.5708740564961267, 0.5709995844595015, 0.5711289774205857, 0.5712615014872084, 0.571396434988795, 0.5715330749330886, 0.5716707428335245, 0.5718087898550183, 0.5719466012434673, 0.5720836000211481, 0.572219249945994, 0.5723530577471414, 0.5724845746618789, 0.5726133973100468, 0.5727391679509319, 0.5728615741747494, 0.5729803480859434, 0.5730952650388738, 0.5732061419880917, 0.5733128355155518, 0.573415239595906, 0.5735132831587109, 0.573606927503131, 0.5736961636167618, 0.5737810094456945, 0.5738615071581002, 0.5739377204385684, 0.5740097318453435, 0.5740776402575848, 0.5741415584349204, 0.5742016107069792, 0.5742579308062888, 0.5743106598540139, 0.5743599445044619, 0.5744059352511481, 0.574448784894474, 0.5748054885583471, 0.5748068353895558, 0.5748084245586448, 0.5748102493245526, 0.5748123015975285, 0.5748145720036256, 0.5748170499618821, 0.5748197237732264, 0.5748225807199753, 0.5748256071746418, 0.5748287887166511, 0.574832110255453, 0.5748355561584576, 0.5748391103821635, 0.5748427566048406, 0.5748464783591347, 0.5748502591630001, 0.5748540826474334, 0.574857932679565, 0.5748617934797771, 0.5748656497316441, 0.5748694866836348, 0.5748732902416682, 0.5748770470517854, 0.5748807445723618, 0.5748843711354612, 0.5748879159970985, 0.5748913693763462, 0.5748947224833749, 0.574897967536667, 0.574901097769778, 0.5749041074281425, 0.5749069917565249, 0.5749097469778122, 0.57491237026391, 0.5749148596995705, 0.5749172142400116, 0.5749194336632169, 0.5749215185178096, 0.5749234700673929, 0.5749252902322234, 0.5749269815290601, 0.5749285470099855, 0.5749299902009474, 0.5749313150407132, 0.5749325258208664, 0.5749336271274079, 0.5749346237844565, 0.5749355208004738, 0.5749363233173688, 0.5762112311203145, 0.5762566068655387, 0.5763010846910983, 0.5763444415909867, 0.5763864523686231, 0.5764268916490427, 0.5764655359919283, 0.5765021660773957, 0.5765365689334948, 0.5765685401719751, 0.5765978861971266, 0.5766244263515132, 0.5766479949622313, 0.5766684432520053, 0.5766856410809832, 0.5766994784875047, 0.5767098669993547, 0.5767167406910001, 0.5767200569669572, 0.5767197970566156, 0.576715966211429, 0.5767085936012033, 0.5766977319121168, 0.5766834566549204, 0.5766658651973336, 0.5766450755398166, 0.5766212248585212, 0.5765944678431949, 0.5765649748610333, 0.5765329299798794, 0.5764985288857293, 0.5764619767301954, 0.5764234859434382, 0.5763832740471369, 0.5763415615004034, 0.5762985696092332, 0.5762545185272392, 0.5762096253721259, 0.576164102478767, 0.57611815580594, 0.5760719835098878, 0.5760257746939963, 0.5759797083401159, 0.575933952423485, 0.5758886632099128, 0.5758439847308905, 0.5758000484296821, 0.5757569729692046, 0.5757148641906754, 0.5756738152105637, 0.5982062345297104, 0.599449998151986, 0.6006969382507468, 0.6019391605789266, 0.6031681940793765, 0.6043750725026331, 0.60555043524643, 0.6066846467315086, 0.6077679328425, 0.6087905321314884, 0.6097428586471934, 0.6106156724642131, 0.611400253298917, 0.6120885720667888, 0.6126734549116418, 0.6131487341621727, 0.6135093808734485, 0.6137516140990186, 0.6138729828009634, 0.6138724173058019, 0.6137502483991174, 0.6135081934501413, 0.6131493102884857, 0.6126779208350962, 0.6120995076396443, 0.6114205874301608, 0.6106485664885606, 0.6097915830991689, 0.6088583424700714, 0.6078579494128863, 0.6067997437169217, 0.6056931426125904, 0.6045474940383423, 0.6033719436592725, 0.6021753177862129, 0.6009660235576286, 0.5997519670113893, 0.5985404890178813, 0.5973383184891086, 0.5961515418299642, 0.5949855872598115, 0.5938452224001771, 0.5927345633886243, 0.5916570937271923, 0.5906156910922715, 0.5896126604067993, 0.5886497715912766, 0.5877283005543413, 0.5868490721452653, 0.5860125039601463, 0.7073263079413197, 0.7181331977832609, 0.7294767868130808, 0.7413210183516574, 0.75361535933714, 0.7662928564352649, 0.7792682286146778, 0.7924361018310497, 0.8056695300966003, 0.8188189958845417, 0.831712143545785, 0.8441545742895066, 0.855932121891133, 0.8668151339345753, 0.8765653953151459, 0.8849464136157491, 0.8917377192617244, 0.8967532516062885, 0.8998619825994162, 0.9010051520456002, 0.900202038204891, 0.8975411548216503, 0.8931625127589902, 0.8872387265783849, 0.8799591456321124, 0.8715179610935533, 0.8621058935446725, 0.8519047343049078, 0.8410840329744609, 0.8297993359381786, 0.818191504195297, 0.8063867502641493, 0.7944971274524003, 0.7826212804382225, 0.7708453255383877, 0.7592437743950422, 0.7478804483192938, 0.7368093543290476, 0.7260755099999827, 0.7157157143914935, 0.7057592680625687, 0.6962286478522854, 0.6871401427139635, 0.6785044562732339, 0.6703272805297649, 0.6626098436608397, 0.6553494334860616, 0.6485398969751088, 0.6421721152995018, 0.6362344533599072, 0.6947724111958793, 0.7007322613392026, 0.7068844566547778, 0.7132596379668157, 0.7198964836400441, 0.7268418692022387, 0.7341505349990177, 0.7418841072405619, 0.7501093007503299, 0.7588951171558189, 0.7683088408387391, 0.7784106271149718, 0.7892464729266404, 0.8008393595084133, 0.8131783584575102, 0.8262054969914273, 0.8398001863126646, 0.8537610380280269, 0.867784968263415, 0.8814438013560566, 0.894160026341358, 0.9051900162161288, 0.9136457038209955, 0.9186154115876344, 0.919398364774396, 0.9156968390789646, 0.9075985499308039, 0.8954612349028803, 0.8798106399500634, 0.8612639436454237, 0.8404737625524354, 0.8180880512413987, 0.7947221516727098, 0.7709400640841948, 0.7472426862372343, 0.7240613155176385, 0.7017551409362552, 0.680611779139833, 0.6608501409548007, 0.642625067418505, 0.626033265851286, 0.611120129148783, 0.597887056236398, 0.5862989251652126, 0.5762914124059698, 0.5677779051513592, 0.5606558150179798, 0.5548121657350849, 0.5501283881314945, 0.5464843082175382, 0.944140688636591, 0.9568615721300906, 0.9673018289371113, 0.9748927947031805, 0.9790180062399636, 0.979024052199875, 0.9742378223917683, 0.9639921528522091, 0.9476623605920543, 0.9247167579782051, 0.8947848813357423, 0.8577468464500694, 0.8138332153876545, 0.763668677115316, 0.7082134052890925, 0.6486721658479462, 0.5864156372568867, 0.5229137476568811, 0.4596742756955885, 0.3981805844094969, 0.33982429485007837, 0.28583252583288066, 0.23719588757007487, 0.19461139227468022, 0.15845771885890408, 0.12881188287473389, 0.10550002869246877, 0.08816438817737549, 0.07632965137171388, 0.0694592016035972, 0.06699806201931513, 0.06840297117611682, 0.07316146903571386, 0.08080225772325744, 0.0908990355508913, 0.10306978120477517, 0.11697319685458923, 0.1323037312871968, 0.14878629733928805, 0.16617147451445968, 0.184231664466048, 0.2027583732353923, 0.22156056072536157, 0.24046384513447705, 0.2593102805000291, 0.2779584250907989, 0.29628346380050485, 0.31417721464588133, 0.33154791871748357, 0.3483197724832495, 0.7650489438485933, 0.7756593637075878, 0.7863285638906763, 0.7969778781068515, 0.807518177208618, 0.8178496104900391, 0.8278615896950631, 0.837433109267717, 0.8464335172424098, 0.8547238721999606, 0.8621590409784492, 0.8685907070217425, 0.8738714680961487, 0.8778602029364284, 0.8804288774160565, 0.8814709206460578, 0.8809109365786232, 0.8787132395160522, 0.8748841126008604, 0.8694685158347788, 0.8625456259147516, 0.8542243733509387, 0.8446387795673553, 0.8339429256542011, 0.8223055659527989, 0.8099045460555687, 0.7969212693081277, 0.7835354778037578, 0.7699205852813427, 0.75623973868205, 0.7426427111503896, 0.7292636570496506, 0.7162196987659529, 0.7036102701832037, 0.6915171132765726, 0.6800048104072116, 0.6691217325842347, 0.6589012899281637, 0.6493633818573322, 0.6405159586941085, 0.6323566216132619, 0.6248742028397029, 0.6180502819125548, 0.6118606061890647, 0.6062763943465945, 0.6012655104184227, 0.5967935029534799, 0.5928245093746162, 0.5893220297178317, 0.5862495768689053, 0.5951704191468918, 0.5959984814691237, 0.5968106164006733, 0.5976011673209842, 0.5983643011278682, 0.5990940770173034, 0.5997845236558318, 0.6004297235586188, 0.6010239030939002, 0.6015615261625927, 0.6020373892749266, 0.602446715488978, 0.6027852445124441, 0.6030493162183548, 0.6032359449009913, 0.6033428818049383, 0.6033686637937825, 0.6033126464712623, 0.6031750206036464, 0.6029568112876741, 0.602659859928735, 0.6022867897029888, 0.6018409557406258, 0.6013263817557954, 0.6007476852392609, 0.6001099936082607, 0.5994188538685687, 0.5986801383887109, 0.5978999493249031, 0.5970845240820472, 0.5962401439686648, 0.5953730479214705, 0.5944893528576223, 0.5935949818776842, 0.5926956012059147, 0.5917965664301598, 0.590902878301737, 0.5900191480841228, 0.5891495722030293, 0.58829791575242, 0.5874675042519178, 0.5866612229302832, 0.5858815227249431, 0.5851304321362248, 0.58440957405324, 0.5837201866724322, 0.5830631476554717, 0.5824390007164094, 0.5818479838847412, 0.5812900587576827, 0.5777589791166091, 0.5778292677977631, 0.5778956404270805, 0.5779577065518234, 0.57801509303034, 0.5780674480955297, 0.5781144452805654, 0.578155787139801, 0.578191208699577, 0.5782204805770392, 0.5782434117100627, 0.5782598516478357, 0.5782696923594505, 0.5782728695267821, 0.5782693632977659, 0.5782591984866493, 0.5782424442185915, 0.5782192130268173, 0.5781896594210958, 0.5781539779563072, 0.5781124008390375, 0.578065195118228, 0.5780126595127504, 0.5779551209341932, 0.5778929307670576, 0.5778264609709126, 0.5777561000698603, 0.5776822490939623, 0.5776053175351813, 0.5775257193770222, 0.5774438692525921, 0.577360178780411, 0.577275053121211, 0.57718888779235, 0.5771020657695545, 0.5770149548986886, 0.5769279056332931, 0.5768412491069315, 0.5767552955430332, 0.5766703329990909, 0.5765866264367889, 0.5765044171050343, 0.5764239222189211, 0.5763453349144361, 0.5762688244561894, 0.5761945366736069, 0.5761225945998253, 0.5760530992869313, 0.5759861307711289, 0.5759217491618399, 0.6102392180486867, 0.611521037973823, 0.6127351960773451, 0.6138695540222708, 0.614912278174305, 0.6158520718806265, 0.6166784105884017, 0.6173817721448053, 0.6179538541715431, 0.6183877703645149, 0.6186782179771271, 0.618821609613879, 0.6188161637601943, 0.6186619501386863, 0.6183608879087609, 0.6179166967889469, 0.6173348032381142, 0.616622205742942, 0.6157873048982645, 0.6148397052356577, 0.6137899965888398, 0.6126495231573625, 0.611430148354949, 0.6101440230512573, 0.608803364007312, 0.6074202482512455, 0.6060064279356311, 0.6045731689496971, 0.6031311153098861, 0.6016901801856064, 0.6002594633831877, 0.5988471942409819, 0.5974606981985565, 0.5961063847942399, 0.5947897545093298, 0.5935154216969846, 0.592287150787304, 0.5911079030233943, 0.5899798911313692, 0.5889046395372816, 0.5878830479943652, 0.5869154567568586, 0.5860017117165867, 0.5851412281938163, 0.5843330523353891, 0.5835759193147214, 0.582868307745721, 0.5822084899140517, 0.5815945775937336, 0.5810245633554066, 0.7600879302619485, 0.7715367942404161, 0.7829165539928915, 0.7940727422213923, 0.804828882711968, 0.8149874952581022, 0.8243326386594139, 0.8326345622045076, 0.8396571951820985, 0.8451693999026716, 0.8489611435808537, 0.8508659108931357, 0.8507895507064268, 0.8487360096128646, 0.844806037230189, 0.8391704169726096, 0.8320414953805935, 0.8236512875985522, 0.8142357264857576, 0.8040237342147265, 0.7932299790376793, 0.7820504080420582, 0.7706598397243337, 0.7592110567449333, 0.7478349648337476, 0.73664148405653, 0.7257209182724506, 0.7151456115494722, 0.7049717497894089, 0.6952412044837457, 0.6859833455308901, 0.6772167731391062, 0.6689509364400201, 0.6611876196882228, 0.6539222867523555, 0.6471452817540412, 0.640842888782435, 0.6349982570790417, 0.629592200331175, 0.6246038800328684, 0.6200113835060458, 0.615792207309381, 0.6119236565403237, 0.6083831700707313, 0.6051485811322568, 0.6021983219499386, 0.599511580358416, 0.5970684155609955, 0.5948498394316689, 0.5928378690323652, 0.6200235929243119, 0.6217564886039649, 0.6234023111548057, 0.6249435971335016, 0.626363191628706, 0.6276446061338685, 0.6287723867208935, 0.6297324797613199, 0.6305125812786735, 0.6311024555969821, 0.6314942093961717, 0.6316825086485771, 0.6316647281581469, 0.6314410264340301, 0.631014342197032, 0.6303903126745739, 0.629577117684383, 0.6285852570404682, 0.6274272717721935, 0.6261174218297635, 0.6246713342416976, 0.6231056360659981, 0.6214375859946506, 0.6196847172565998, 0.6178645026895492, 0.6159940507086542, 0.6140898385837652, 0.6121674871199724, 0.6102415786623573, 0.6083255184198207, 0.6064314374923955, 0.604570134722623, 0.6027510535761155, 0.6009822896685848, 0.5992706242591804, 0.597621578977331, 0.5960394871929481, 0.5945275777291972, 0.5930880670079997, 0.5917222561715582, 0.5904306302055025, 0.5892129565745639, 0.588068381349825, 0.5869955212435293, 0.5859925503638685, 0.5850572808527418, 0.5841872368724624, 0.5833797216629719, 0.5826318776017269, 0.5819407393672732, 0.5709943615523029, 0.5706819583670522, 0.5703585286026276, 0.5700252357451777, 0.5696834351863964, 0.5693346726090451, 0.568980678829413, 0.5686233608528992, 0.5682647889774204, 0.5679071798728486, 0.5675528756714326, 0.5672043192214256, 0.5668640257803128, 0.5665345515508557, 0.5662184595873746, 0.5659182837159789, 0.5656364912149519, 0.565375445084662, 0.5651373667951, 0.5649243004290404, 0.5647380791368689, 0.5645802947834324, 0.5644522715980814, 0.5643550445377552, 0.5642893429433178, 0.5642555799161958, 0.5642538476722949, 0.5642839189504177, 0.5643452543710008, 0.5644370154658508, 0.5645580829381326, 0.564707079570989, 0.5648823970878968, 0.5650822261823525, 0.565304588880589, 0.5655473723794271, 0.5658083635106436, 0.566085283020991, 0.5663758189192445, 0.5666776582239753, 0.5669885165428322, 0.5673061650209189, 0.5676284543070138, 0.5679533352973775, 0.5682788765234449, 0.5686032781484647, 0.5689248826264857, 0.5692421821531883, 0.569553823100887, 0.5698586076792159, 0.5206772320340234, 0.5160109775198009, 0.5110703533885878, 0.505860041086646, 0.5003890475018906, 0.49467133978023403, 0.48872648647800043, 0.48258028237709305, 0.47626532750807965, 0.4698215233935522, 0.46329644155517125, 0.4567455114860488, 0.45023196846349944, 0.4438264970668867, 0.43760650583979566, 0.4316549744156215, 0.426058829124753, 0.4209068290266088, 0.41628698305516576, 0.41228357023423984, 0.4089738953017009, 0.40642497402421224, 0.40469039426768383, 0.40380762632417944, 0.40379604624292403, 0.4046558825512418, 0.40636820404399043, 0.4088959500210808, 0.4121858877743302, 0.4161712886594635, 0.42077505973437934, 0.4259130572310672, 0.4314973348424248, 0.4374391311931587, 0.4436514627196188, 0.4500512487025822, 0.4565609467259219, 0.463109715878724, 0.4696341512230531, 0.47607864798089194, 0.482395459945897, 0.48854451631817464, 0.49449305672157257, 0.5002151373730717, 0.505691053543609, 0.5109067154763949, 0.5158530073815839, 0.5205251523248793, 0.5249220999230166, 0.5290459487837548, 0.5228618309646644, 0.5184541368654159, 0.513794787431369, 0.5088892481059425, 0.503747073417752, 0.4983824714503552, 0.492814864995092, 0.48706942729162256, 0.48117756435947134, 0.47517730959360455, 0.4691135899027607, 0.4630383167941595, 0.4570102513069003, 0.4510945897367159, 0.4453622191611797, 0.43988859959306936, 0.43475224493478204, 0.4300327992132481, 0.42580873837645217, 0.4221547700964742, 0.41913905103309484, 0.4168203865351008, 0.41524561302646146, 0.4144473786269681, 0.4144425248909229, 0.4152312287301675, 0.41679699257372005, 0.4191074837932989, 0.42211613721344754, 0.42576436299262205, 0.4299841576487784, 0.43470090263519323, 0.43983614961131234, 0.4453102264734621, 0.4510445436031284, 0.45696352684745545, 0.4629961460692351, 0.4690770421166723, 0.47514727958570013, 0.48115476828299886, 0.4870544042689403, 0.49280798353751626, 0.4983839395049234, 0.5037569510206632, 0.508907461761394, 0.5138211454776674, 0.5184883452277191, 0.522903508819368, 0.5270646373979498, 0.5309727595555779, 0.5661512211374399, 0.565820972112294, 0.5654958785156532, 0.5651770844228433, 0.5648657269911433, 0.5645629429133121, 0.5642698759532239, 0.56398768458539, 0.5637175487125115, 0.5634606744727736, 0.5632182962651756, 0.562991675303611, 0.5627820942403409, 0.5625908476566674, 0.5624192284823636, 0.5622685106575334, 0.5621399285755885, 0.5620346540324386, 0.5619537715471876, 0.5618982530094359, 0.5618689326470427, 0.5618664832974688, 0.5618913949099373, 0.5619439561098689, 0.5620242395286499, 0.5621320914482765, 0.5622671261402247, 0.5624287250992563, 0.5626160411941183, 0.5628280075858224, 0.5630633511071755, 0.5633206096604109, 0.5635981530773071, 0.5638942068013572, 0.5642068776956838, 0.5645341812537312, 0.5648740694908644, 0.5652244588216151, 0.5655832572759034, 0.565948390474225, 0.5663178258620655, 0.566689594793096, 0.5670618121446886, 0.5674326932438012, 0.5678005679727588, 0.5681638920098775, 0.5685212552369195, 0.5688713874123502, 0.5692131612652631, 0.5695455932092984, 0.5646822158154368, 0.5647042589319096, 0.5647922856150907, 0.5649425695221613, 0.565149461136751, 0.5654060271221419, 0.5657046523528297, 0.5660375318453795, 0.5663970385700126, 0.5667759795545837, 0.567167760610945, 0.5675664800814524, 0.5679669693919954, 0.5683647950074318, 0.5687562333804445, 0.5691382278986904, 0.5695083347008942, 0.5698646625113937, 0.5702058102762501, 0.5705308053118553, 0.5708390438452199, 0.5711302351867458, 0.5714043502927002, 0.5716615751133567, 0.5719022688580115, 0.5721269271184096, 0.5723361496607273, 0.5725306126093872, 0.5727110446929742, 0.5728782071947136, 0.5730328772407531, 0.5731758340635531, 0.5733078478910459, 0.573429671131714, 0.5735420315490526, 0.5736456271442263, 0.5737411224918204, 0.5738291462994917, 0.5739102899873786, 0.5739851071069056, 0.5740541134408331, 0.5741177876469106, 0.5741765723262275, 0.5742308754143156, 0.5742810718083045, 0.5743275051570261, 0.5743704897530257, 0.5744103124760481, 0.5744472347468769, 0.5744814944584931, 0.573671128067236, 0.5736728251802286, 0.573678509211233, 0.5736881124091417, 0.5737015229917866, 0.5737185877161114, 0.5737391153381501, 0.5737628808327307, 0.5737896302190157, 0.5738190858225916, 0.573850951798248, 0.5738849197395272, 0.5739206742107982, 0.5739578980537144, 0.5739962773409678, 0.5740355058745352, 0.5740752891515303, 0.5741153477467481, 0.5741554200857808, 0.574195264605109, 0.5742346613151568, 0.574273412798452, 0.5743113446876235, 0.5743483056769969, 0.574384167127284, 0.5744188223255946, 0.5744521854632051, 0.5744841903916171, 0.5745147892139155, 0.5745439507637294, 0.5745716590186069, 0.5745979114886883, 0.5746227176155045, 0.5746460972097543, 0.5746680789512338, 0.5746886989688079, 0.5747079995135328, 0.5747260277337993, 0.5747428345576927, 0.5747584736846449, 0.5747730006858763, 0.5747864722110363, 0.5747989452968252, 0.5748104767721567, 0.5748211227535477, 0.5748309382238599, 0.5748399766872108, 0.57484828989277, 0.5748559276202355, 0.574862937519987];\n",
       "const lower_is_better = false;\n",
       "const metric = \"accuracy\";\n",
       "const rel = false;\n",
       "const sd = [0.305014921221204, 0.2946003450658707, 0.2828776984818394, 0.26976507041015335, 0.2551966991018159, 0.2391302088718388, 0.22155534740810176, 0.20250437065843452, 0.1820641862844949, 0.16039029990238196, 0.13772249557395705, 0.1144020008546118, 0.09088960430892895, 0.06778376180023182, 0.04583707958883232, 0.025968619483068184, 0.009268315776525536, 0.0030156260553182747, 0.009591007848233893, 0.009680534314668268, 0.0032735363597186954, 0.008872228138454062, 0.025470317755092283, 0.04526848362686232, 0.06717222239758701, 0.09025786727578124, 0.1137684413128798, 0.13710151325070621, 0.15979279024105253, 0.18149803211354815, 0.2019749204195859, 0.22106586024828903, 0.2386822563480039, 0.254790519358692, 0.26939987457225545, 0.28255193135980106, 0.29431190362138115, 0.30476133491093743, 0.3139921656626681, 0.3221019769799432, 0.32919025075608016, 0.33535549611955223, 0.34069310504899436, 0.34529381398632564, 0.3492426624124833, 0.35261835303818206, 0.3554929311421188, 0.3579317124753937, 0.3599933999583183, 0.3617303391110114, 0.3555406444439389, 0.3546603771978526, 0.353839510494802, 0.3530942884304055, 0.35243986643211767, 0.35188964226322905, 0.3514546350416553, 0.3511429603195991, 0.35095944477608376, 0.3509054144025012, 0.35097867606249405, 0.35117369556712136, 0.35148195799662507, 0.3518924801143323, 0.35239243229104933, 0.3529678197538785, 0.3536041708113309, 0.35428718284596966, 0.35500328451794616, 0.3557400835472068, 0.3564866821696982, 0.35723385540059915, 0.3579740992381487, 0.35870156582424395, 0.35941190960835984, 0.360102072388396, 0.36077003575594047, 0.36141456732316324, 0.3620349827855318, 0.3626309401674728, 0.3632022763380384, 0.36374888983306464, 0.3642706687874026, 0.3647674587652718, 0.36523906265755496, 0.3656852635692823, 0.36610586157060027, 0.36650071605520956, 0.36686978692641753, 0.3672131696086472, 0.36753112070155525, 0.3678240727601906, 0.36809263807225423, 0.36833760235165774, 0.3685599099675318, 0.3687606427089486, 0.36894099420008114, 0.3691022419913398, 0.3692457191226471, 0.3693727866432249, 0.22530172288128594, 0.20882640777515837, 0.1920934400767509, 0.1757397700103623, 0.16067665438329076, 0.14811449396378484, 0.13946098344364802, 0.13597919165198183, 0.138262404469684, 0.14591551501002353, 0.1577722875912766, 0.17241788792687798, 0.18858517492838384, 0.20529936362155854, 0.22187029984572482, 0.2378352195892967, 0.2528997799747818, 0.26689077696591645, 0.279721098524505, 0.2913643060637442, 0.30183619612892365, 0.3111813267721626, 0.31946309695750247, 0.3267564097480235, 0.33314224890806665, 0.33870369591547506, 0.34352304518086896, 0.34767976351733, 0.351249100986599, 0.35430120379684826, 0.35690061193242245, 0.35910604841048055, 0.36097042585732403, 0.36254101101024205, 0.3638596997826379, 0.36496336535689333, 0.3658842498550376, 0.3666503768119788, 0.3672859671821612, 0.36781184613312995, 0.3682458315659128, 0.3686030982741836, 0.36889651401617674, 0.3691369456164448, 0.3693335346199823, 0.36949394306133454, 0.3696245706506774, 0.3697307451746141, 0.3698168882115284, 0.3698866584129295, 0.36794096087129996, 0.36783940890974715, 0.3677475941081742, 0.36766712228687926, 0.36759943372463744, 0.3675457547691196, 0.3675070558014707, 0.367484017840341, 0.36747700962678514, 0.3674860764391618, 0.3675109411938719, 0.3675510176521847, 0.367605434839027, 0.3676730711469987, 0.36775259609892724, 0.3678425174104245, 0.3679412308472687, 0.368047070408779, 0.36815835656844126, 0.3682734406339948, 0.3683907437101042, 0.3685087892136293, 0.3686262283625779, 0.3687418584993221, 0.36885463448938033, 0.36896367374159916, 0.36906825561596346, 0.36916781612203875, 0.369261938871248, 0.3693503432413705, 0.36943287065580915, 0.36950946978798377, 0.3695801813865586, 0.3696451232922591, 0.3697044760916742, 0.36975846973506576, 0.3698073713388286, 0.36985147430174775, 0.3698910887887277, 0.3699265335760412, 0.369958129207241, 0.369986192377025, 0.37001103143957237, 0.37003294292615385, 0.3700522089522283, 0.37006909539503474, 0.3700838507273662, 0.37009670540052547, 0.3701078716784193, 0.3701175438345623, 0.3552011254975699, 0.35294329624561394, 0.3504445744876233, 0.34770336750093417, 0.3447249707114562, 0.3415231899155408, 0.3381219692011447, 0.3345568941040437, 0.33087639244283157, 0.3271424081004116, 0.32343028547480573, 0.3198275894132432, 0.3164316168199393, 0.31334545250510604, 0.3106725971331755, 0.308510444684838, 0.30694317553262784, 0.30603488942679147, 0.3058239394615668, 0.3063193645476832, 0.30750002941057614, 0.30931662373481855, 0.31169617084651363, 0.31454829512505733, 0.31777229762322184, 0.32126411357908385, 0.3249224223940554, 0.32865346143708524, 0.3323743744416635, 0.33601514713869657, 0.3395193254366103, 0.3428437793193194, 0.34595778658148335, 0.3488416855253047, 0.3514853028135897, 0.3538863146385182, 0.3560486540149508, 0.35798103822345834, 0.35969565949908433, 0.36120705876417375, 0.36253118557744296, 0.3636846362965199, 0.3646840555173639, 0.36554568208718136, 0.3662850194954532, 0.3669166105222281, 0.3674538971184148, 0.36790914820246007, 0.3682934400843429, 0.3686166763617611, 0.35407911931901365, 0.3516197627414848, 0.34889081045470055, 0.3458886847105237, 0.34261723005441785, 0.3390896012191127, 0.3353302075668366, 0.33137657522726954, 0.32728092908969275, 0.3231112330455486, 0.31895136876219066, 0.31490009879467734, 0.3110684751161608, 0.30757545016827353, 0.3045416506447672, 0.3020815891000933, 0.30029497776997294, 0.29925818132027593, 0.29901706843812637, 0.2995824711218554, 0.3009290855708882, 0.3029980238057509, 0.3057025348100535, 0.3089358728267195, 0.31258004470141887, 0.3165142394993347, 0.32062204388874743, 0.32479694026391975, 0.32894595175810526, 0.3329915697833315, 0.33687225740441606, 0.34054188156676335, 0.34396841881158585, 0.347132232399222, 0.3500241566629068, 0.3526435616925379, 0.35499651598284837, 0.3570941196095867, 0.3589510461152552, 0.3605843064621602, 0.3620122314606978, 0.36325365827115275, 0.3643273003509927, 0.36525127728886786, 0.3660427803129416, 0.3667178501103004, 0.36729124537047275, 0.36777638275416646, 0.3681853314943678, 0.36852884836064653, 0.36997940757798997, 0.3699600498404698, 0.3699396965792972, 0.3699184348770205, 0.3698963732974809, 0.3698736417536344, 0.36985039079788895, 0.3698267903084731, 0.3698030275691943, 0.3697793047660045, 0.3697558359505812, 0.3697328435468719, 0.3697105544994722, 0.36968919618103385, 0.3696689921882127, 0.36965015816089136, 0.3696328977570996, 0.36961739890636114, 0.36960383044793893, 0.36959233923904494, 0.36958304779337486, 0.36957605248444597, 0.36957142232328677, 0.36956919829797125, 0.369569393244796, 0.36957199220847026, 0.3695769532417557, 0.36958420859313956, 0.36959366623335027, 0.3696052116764678, 0.3696187100574431, 0.3696340084335368, 0.36965093828120343, 0.36966931816146453, 0.36968895652543915, 0.36970965462765026, 0.36973120950858757, 0.3697534170008155, 0.3697760747058076, 0.36979898488288476, 0.3698219571881741, 0.36984481120116885, 0.3698673786796732, 0.36988950549069405, 0.3699110531748346, 0.3699319001143073, 0.36995194228892925, 0.36997109361939506, 0.36998928591174607, 0.3700064684303463, 0.3686033607333285, 0.3682792936422355, 0.3678945194304883, 0.3674393232680812, 0.3669028757617558, 0.3662732258436969, 0.36553733477548717, 0.3646811642527355, 0.3636898335382273, 0.36254786231559555, 0.36123951731558046, 0.3597492814102394, 0.35806246337584935, 0.3561659643411892, 0.3540492123635778, 0.35170526875379293, 0.34913209770929204, 0.34633397345484185, 0.3433229754673585, 0.34012049191169597, 0.33675861447002975, 0.33328126629361043, 0.3297448634570912, 0.3262182773425342, 0.3227818534473534, 0.3195252676148597, 0.31654408095265935, 0.3139350017512748, 0.31179007391782265, 0.3101902598569616, 0.30919911610485545, 0.30885739770076853, 0.3091794031925696, 0.3101516566279485, 0.31173415021746376, 0.3138639366500306, 0.3164604839057318, 0.31943198433301917, 0.32268178010452214, 0.3261142009027168, 0.32963933842247395, 0.3331765310902858, 0.33665654524457966, 0.3400225881213031, 0.34323037012313024, 0.3462474607468847, 0.34905217147659995, 0.3516321664192627, 0.3539829602219951, 0.356106421275851, 0.368423871746501, 0.3680586708484085, 0.36762392849801473, 0.367108215886739, 0.3664987112164568, 0.3657811633256407, 0.36493989851059655, 0.3639578858259885, 0.36281687888162717, 0.361497654885942, 0.35998037421152823, 0.35824508576575376, 0.3562724044966556, 0.3540443868318597, 0.3515456268896913, 0.34876458979099245, 0.3456951868869664, 0.34233857942037826, 0.3387051700159987, 0.3348167034039366, 0.33070834740832117, 0.32643056253704195, 0.3220504967757339, 0.3176525703112394, 0.31333786007222286, 0.3092218834845962, 0.3054304506452939, 0.3020934405353381, 0.2993366787723304, 0.2972725277236819, 0.2959902562279144, 0.295547586530799, 0.29596485703539555, 0.29722289670656166, 0.29926502955778894, 0.30200281436012716, 0.30532443975988854, 0.30910434072011295, 0.31321263254216203, 0.3175232826960498, 0.3219203957437877, 0.326302422274543, 0.33058442860119674, 0.3346987542992631, 0.33859445746112904, 0.34223593889309273, 0.345601082521755, 0.3486791776103926, 0.3514688164861643, 0.35397589844372834, 0.36929640515337253, 0.36923295597933486, 0.3691700251797091, 0.36910836140263115, 0.3690487395361805, 0.3689919416728943, 0.3689387364226817, 0.3688898574030406, 0.36884598185325684, 0.3688077103826955, 0.36877554886202335, 0.36874989339494896, 0.3687310191676141, 0.36871907377055185, 0.3687140753377078, 0.36871591556722094, 0.3687243674015146, 0.36873909687301587, 0.36875967838830365, 0.36878561254596215, 0.368816345474656, 0.3688512886440973, 0.3688898381418512, 0.3689313925159325, 0.36897536844412837, 0.369021213689365, 0.36906841701779897, 0.3691165149742457, 0.36916509561138844, 0.3692137994413784, 0.36926231801130815, 0.36931039059237886, 0.369357799515371, 0.36940436468512244, 0.3694499377699616, 0.36949439649645927, 0.36953763939460554, 0.3695795812429339, 0.3696201493659806, 0.36965928084526684, 0.36969692062557974, 0.3697330204346271, 0.3697675383882096, 0.3698004391251707, 0.3698316943053782, 0.3698612833075808, 0.36988919397915787, 0.36991542331321353, 0.369939977956806, 0.36996287448430015, 0.3080424243074115, 0.29951533324033053, 0.2903118939467407, 0.2805160861722753, 0.2702634413679223, 0.25975234790496154, 0.2492543246138385, 0.23912024461555847, 0.22977752931994438, 0.22171147934030813, 0.21542400956863955, 0.21136813423156764, 0.20986841244645224, 0.21105179677418437, 0.21481778934108006, 0.22086219696383314, 0.228743026421087, 0.2379603152867315, 0.24802413980230956, 0.25849884279825414, 0.26902407410244017, 0.27931909635782226, 0.2891773312033368, 0.29845637436386563, 0.3070667076721208, 0.31496082943683246, 0.3221235822301118, 0.32856393261582933, 0.3343081924898191, 0.3393945529605701, 0.34386875951802687, 0.34778075257998525, 0.35118210967486596, 0.35412414404406706, 0.35665653427931676, 0.3588263784885167, 0.3606775835213848, 0.3622505147541342, 0.36358184489020823, 0.36470455135595103, 0.3656480213603337, 0.3664382317451202, 0.36709797755712337, 0.3676471289864656, 0.3681029010743901, 0.36848012452441914, 0.3687915091615835, 0.3690478941745698, 0.36925848133390055, 0.36943104898599843, 0.35652507825344354, 0.3552076862642252, 0.3538738994111966, 0.35254581438121857, 0.3512483320528623, 0.3500085145530302, 0.34885470451833583, 0.34781542982910496, 0.3469181440990614, 0.34618788013932605, 0.3456459159936665, 0.3453085661566207, 0.3451862102104239, 0.345282655318252, 0.3455948986581212, 0.34611331496406894, 0.34682224928337646, 0.347700953278311, 0.34872477152742715, 0.3498664666470665, 0.3510975699033306, 0.352389655591796, 0.35371545897657547, 0.35504978422386607, 0.35637017597446363, 0.35765735241934243, 0.3588954167819968, 0.3600718771120725, 0.3611775114531064, 0.36220611764082355, 0.3631541854177621, 0.36402052446271077, 0.36480587644338497, 0.3655125332002443, 0.36614397730382287, 0.36670455591559054, 0.3671991943528465, 0.3676331520984488, 0.36801182119467896, 0.36834056494296846, 0.3686245934901618, 0.36886887209666075, 0.3690780575328102, 0.3692564580271229, 0.3694080123977298, 0.3695362843570234, 0.3696444684251104, 0.36973540437153146, 0.36981159759088167, 0.36987524328160526, 0.37011013054686825, 0.3701065845471164, 0.37010315966343355, 0.37009989729060383, 0.3700968387560546, 0.37009402442849815, 0.3700914927988268, 0.37008927956327375, 0.3700874167406139, 0.3700859318554723, 0.3700848472185435, 0.3700841793316863, 0.37008393844153237, 0.37008412825964615, 0.370084745860666, 0.37008578176260876, 0.37008722018603935, 0.37008903948151006, 0.37009121270797185, 0.3700937083391203, 0.3700964910701512, 0.37009952269437896, 0.370102763017716, 0.37010617077912555, 0.37010970454675585, 0.37011332356234744, 0.3701169885104421, 0.37012066219361617, 0.3701243101000983, 0.3701279008554107, 0.3701314065548053, 0.37013480297800355, 0.3701380696919042, 0.37014119005035323, 0.37014415110269844, 0.370146943424656, 0.37014956088602047, 0.37015200037002155, 0.37015426145876257, 0.3701563460982834, 0.3701582582554986, 0.3701600035776871, 0.37016158906348123, 0.37016302275250873, 0.37016431343908424, 0.37016547041369063, 0.37016650323448214, 0.3701674215297292, 0.37016823483101374, 0.3701689524360883, 0.37017341032268114, 0.3701734065743472, 0.3701734030168883, 0.3701733996822193, 0.37017339660113396, 0.3701733938028185, 0.3701733913143774, 0.37017338916038034, 0.3701733873624433, 0.37017338593885274, 0.37017338490424273, 0.370173384269334, 0.3701733840407409, 0.37017338422085133, 0.3701733848077835, 0.37017338579542014, 0.3701733871735194, 0.37017338892789925, 0.3701733910406913, 0.37017339349065614, 0.3701733962535535, 0.3701733993025569, 0.3701734026087025, 0.37017340614136235, 0.3701734098687291, 0.3701734137583029, 0.3701734177773692, 0.37017342189345714, 0.3701734260747708, 0.37017343029058464, 0.3701734345115973, 0.37017343871023906, 0.370173442860929, 0.37017344694028104, 0.3701734509272567, 0.37017345480326747, 0.3701734585522276, 0.37017346216056035, 0.37017346561716225, 0.37017346891332986, 0.3701734720426534, 0.37017347500088343, 0.37017347778577564, 0.3701734803969187, 0.3701734828355515, 0.370173485104373, 0.3701734872073505, 0.3701734891495296, 0.37017349093684937, 0.37017349257596593, 0.37017350641526753, 0.37017350641258573, 0.3701735064100638, 0.3701735064077196, 0.37017350640557006, 0.370173506403631, 0.3701735064019169, 0.3701735064004407, 0.3701735063992138, 0.37017350639824576, 0.370173506397544, 0.37017350639711416, 0.3701735063969595, 0.37017350639708135, 0.3701735063974787, 0.3701735063981484, 0.3701735063990852, 0.3701735064002818, 0.3701735064017289, 0.37017350640341545, 0.37017350640532853, 0.3701735064074539, 0.37017350640977587, 0.3701735064122776, 0.37017350641494134, 0.3701735064177487, 0.3701735064206807, 0.37017350642371805, 0.3701735064268413, 0.37017350643003155, 0.3701735064332697, 0.37017350643653735, 0.3701735064398168, 0.3701735064430912, 0.3701735064463446, 0.3701735064495621, 0.3701735064527299, 0.37017350645583535, 0.37017350645886726, 0.3701735064618156, 0.3701735064646718, 0.37017350646742825, 0.37017350647007885, 0.3701735064726188, 0.3701735064750443, 0.37017350647735286, 0.37017350647954295, 0.3701735064816139, 0.37017350648356623, 0.3701735064854011, 0.3701735065052124, 0.37017350650521086, 0.37017350650520936, 0.3701735065052081, 0.3701735065052068, 0.37017350650520575, 0.37017350650520475, 0.3701735065052039, 0.3701735065052032, 0.37017350650520264, 0.3701735065052023, 0.37017350650520203, 0.370173506505202, 0.37017350650520203, 0.37017350650520225, 0.37017350650520264, 0.3701735065052032, 0.3701735065052038, 0.37017350650520464, 0.3701735065052056, 0.3701735065052067, 0.3701735065052079, 0.37017350650520925, 0.3701735065052107, 0.37017350650521225, 0.37017350650521386, 0.3701735065052156, 0.37017350650521735, 0.37017350650521924, 0.3701735065052212, 0.3701735065052231, 0.3701735065052251, 0.3701735065052271, 0.3701735065052292, 0.37017350650523123, 0.3701735065052333, 0.37017350650523534, 0.37017350650523734, 0.37017350650523934, 0.3701735065052413, 0.3701735065052432, 0.3701735065052451, 0.37017350650524694, 0.3701735065052487, 0.37017350650525044, 0.37017350650525216, 0.37017350650525377, 0.3701735065052553, 0.3701735065052568, 0.3701735065052582, 0.370173506505277, 0.370173506505277, 0.370173506505277, 0.370173506505277, 0.370173506505277, 0.370173506505277, 0.370173506505277, 0.370173506505277, 0.370173506505277, 0.370173506505277, 0.370173506505277, 0.370173506505277, 0.370173506505277, 0.370173506505277, 0.370173506505277, 0.370173506505277, 0.370173506505277, 0.370173506505277, 0.370173506505277, 0.370173506505277, 0.370173506505277, 0.370173506505277, 0.370173506505277, 0.370173506505277, 0.370173506505277, 0.370173506505277, 0.370173506505277, 0.370173506505277, 0.370173506505277, 0.370173506505277, 0.370173506505277, 0.370173506505277, 0.370173506505277, 0.370173506505277, 0.370173506505277, 0.370173506505277, 0.370173506505277, 0.370173506505277, 0.370173506505277, 0.370173506505277, 0.370173506505277, 0.370173506505277, 0.370173506505277, 0.370173506505277, 0.370173506505277, 0.370173506505277, 0.370173506505277, 0.370173506505277, 0.370173506505277, 0.370173506505277, 0.370173506505277, 0.370173506505277, 0.370173506505277, 0.370173506505277, 0.370173506505277, 0.370173506505277, 0.370173506505277, 0.370173506505277, 0.370173506505277, 0.370173506505277, 0.370173506505277, 0.370173506505277, 0.370173506505277, 0.370173506505277, 0.370173506505277, 0.370173506505277, 0.370173506505277, 0.370173506505277, 0.370173506505277, 0.370173506505277, 0.370173506505277, 0.370173506505277, 0.370173506505277, 0.370173506505277, 0.370173506505277, 0.370173506505277, 0.370173506505277, 0.370173506505277, 0.370173506505277, 0.370173506505277, 0.370173506505277, 0.370173506505277, 0.370173506505277, 0.370173506505277, 0.370173506505277, 0.370173506505277, 0.370173506505277, 0.370173506505277, 0.370173506505277, 0.370173506505277, 0.370173506505277, 0.370173506505277, 0.370173506505277, 0.370173506505277, 0.370173506505277, 0.370173506505277, 0.370173506505277, 0.370173506505277, 0.370173506505277, 0.370173506505277, 0.370173506505277, 0.370173506505277, 0.370173506505277, 0.370173506505277, 0.370173506505277, 0.370173506505277, 0.370173506505277, 0.370173506505277, 0.370173506505277, 0.370173506505277, 0.370173506505277, 0.370173506505277, 0.370173506505277, 0.370173506505277, 0.370173506505277, 0.370173506505277, 0.370173506505277, 0.370173506505277, 0.370173506505277, 0.370173506505277, 0.370173506505277, 0.370173506505277, 0.370173506505277, 0.370173506505277, 0.370173506505277, 0.370173506505277, 0.370173506505277, 0.370173506505277, 0.370173506505277, 0.370173506505277, 0.370173506505277, 0.370173506505277, 0.370173506505277, 0.370173506505277, 0.370173506505277, 0.370173506505277, 0.370173506505277, 0.370173506505277, 0.370173506505277, 0.370173506505277, 0.370173506505277, 0.370173506505277, 0.370173506505277, 0.370173506505277, 0.370173506505277, 0.370173506505277, 0.370173506505277, 0.370173506505277, 0.370173506505277, 0.370173506505277, 0.370173506505277, 0.370173506505277, 0.370173506505277, 0.370173506505277, 0.370173506505277, 0.370173506505277, 0.370173506505277, 0.370173506505277, 0.370173506505277, 0.370173506505277, 0.370173506505277, 0.370173506505277, 0.370173506505277, 0.370173506505277, 0.370173506505277, 0.370173506505277, 0.370173506505277, 0.370173506505277, 0.370173506505277, 0.370173506505277, 0.370173506505277, 0.370173506505277, 0.370173506505277, 0.370173506505277, 0.370173506505277, 0.370173506505277, 0.370173506505277, 0.370173506505277, 0.370173506505277, 0.370173506505277, 0.370173506505277, 0.370173506505277, 0.370173506505277, 0.370173506505277, 0.370173506505277, 0.370173506505277, 0.370173506505277, 0.370173506505277, 0.370173506505277, 0.370173506505277, 0.370173506505277, 0.370173506505277, 0.370173506505277, 0.370173506505277, 0.370173506505277, 0.370173506505277, 0.370173506505277, 0.370173506505277, 0.370173506505277, 0.370173506505277, 0.370173506505277, 0.370173506505277, 0.370173506505277, 0.370173506505277, 0.370173506505277, 0.370173506505277, 0.370173506505277, 0.370173506505277, 0.370173506505277, 0.370173506505277, 0.370173506505277, 0.370173506505277, 0.370173506505277, 0.370173506505277, 0.370173506505277, 0.370173506505277, 0.370173506505277, 0.370173506505277, 0.370173506505277, 0.370173506505277, 0.370173506505277, 0.370173506505277, 0.370173506505277, 0.370173506505277, 0.370173506505277, 0.370173506505277, 0.370173506505277, 0.370173506505277, 0.370173506505277, 0.370173506505277, 0.370173506505277, 0.370173506505277, 0.370173506505277, 0.370173506505277, 0.370173506505277, 0.370173506505277, 0.370173506505277, 0.370173506505277, 0.370173506505277, 0.370173506505277, 0.370173506505277, 0.370173506505277, 0.370173506505277, 0.370173506505277, 0.370173506505277, 0.370173506505277, 0.370173506505277, 0.370173506505277, 0.370173506505277, 0.370173506505277, 0.3701735065052769, 0.3701735065052769, 0.3701735065052769, 0.3701735065052769, 0.3701735065052769, 0.3701735065052769, 0.3701735065052769, 0.3701735065052769, 0.3701735065052769, 0.3701735065052769, 0.3701735065052769, 0.3701735065052769, 0.3701735065052769, 0.3701735065052769, 0.3701735065052769, 0.3701735065052769, 0.3701735065052769, 0.3701735065052769, 0.3701735065052769, 0.3701735065052769, 0.3701735065052769, 0.3701735065052769, 0.3701735065052769, 0.3701735065052769, 0.3701735065052769, 0.3701735065052769, 0.3701735065052769, 0.3701735065052769, 0.3701735065052769, 0.3701735065052769, 0.3701735065052769, 0.3701735065052769, 0.3701735065052769, 0.3701735065052769, 0.3701735065052769, 0.3701735065052769, 0.3701735065052769, 0.3701735065052769, 0.3701735065052769, 0.3701735065052769, 0.3701735065052769, 0.3701735065052769, 0.3701735065052769, 0.3701735065052769, 0.3701735065052769, 0.3701735065052769, 0.3701735065052769, 0.3701735065052769, 0.3701735065052769, 0.3701735065052769, 0.370173506505191, 0.3701735065051864, 0.3701735065051816, 0.3701735065051769, 0.37017350650517217, 0.37017350650516734, 0.37017350650516256, 0.3701735065051579, 0.37017350650515324, 0.37017350650514863, 0.3701735065051442, 0.3701735065051398, 0.37017350650513564, 0.37017350650513164, 0.3701735065051278, 0.3701735065051242, 0.3701735065051209, 0.37017350650511777, 0.37017350650511494, 0.37017350650511244, 0.3701735065051102, 0.37017350650510833, 0.3701735065051068, 0.37017350650510555, 0.3701735065051047, 0.3701735065051043, 0.3701735065051041, 0.3701735065051044, 0.370173506505105, 0.370173506505106, 0.3701735065051073, 0.370173506505109, 0.37017350650511094, 0.37017350650511327, 0.37017350650511593, 0.3701735065051188, 0.370173506505122, 0.3701735065051255, 0.3701735065051291, 0.37017350650513303, 0.3701735065051371, 0.3701735065051413, 0.3701735065051457, 0.37017350650515024, 0.37017350650515485, 0.3701735065051595, 0.37017350650516423, 0.370173506505169, 0.3701735065051738, 0.37017350650517855, 0.3701735064022475, 0.3701735063953673, 0.37017350638831126, 0.3701735063811054, 0.37017350637377844, 0.3701735063663622, 0.3701735063588911, 0.37017350635140234, 0.3701735063439351, 0.37017350633653073, 0.3701735063292323, 0.37017350632208385, 0.3701735063151305, 0.3701735063084176, 0.37017350630199036, 0.37017350629589335, 0.37017350629017, 0.37017350628486206, 0.3701735062800089, 0.3701735062756474, 0.37017350627181106, 0.37017350626853, 0.37017350626583007, 0.37017350626373274, 0.370173506262255, 0.3701735062614087, 0.37017350626120077, 0.3701735062616329, 0.3701735062627015, 0.370173506264398, 0.37017350626670864, 0.370173506269615, 0.3701735062730938, 0.37017350627711776, 0.3701735062816556, 0.3701735062866725, 0.37017350629213064, 0.3701735062979898, 0.37017350630420753, 0.37017350631074003, 0.37017350631754237, 0.3701735063245692, 0.3701735063317753, 0.3701735063391159, 0.3701735063465471, 0.37017350635402646, 0.37017350636151347, 0.3701735063689694, 0.3701735063763581, 0.3701735063836461, 0.37017342010995796, 0.3701734125913733, 0.3701734047247247, 0.37017339653355885, 0.3701733880471379, 0.37017337930055594, 0.3701733703347568, 0.3701733611964427, 0.37017335193786527, 0.37017334261649376, 0.37017333329455615, 0.370173324038455, 0.3701733149180603, 0.370173306005888, 0.37017329737617427, 0.37017328910386194, 0.37017328126351606, 0.3701732739281912, 0.3701732671682738, 0.3701732610503262, 0.37017325563595926, 0.37017325098076065, 0.37017324713330707, 0.37017324413428426, 0.37017324201573953, 0.3701732408004857, 0.37017324050167355, 0.370173241122544, 0.3701732426563664, 0.3701732450865662, 0.3701732483870366, 0.37017325252262684, 0.37017325744979335, 0.3701732631173963, 0.3701732694676196, 0.3701732764369918, 0.37017328395748, 0.37017329195763043, 0.3701733003637281, 0.3701733091009487, 0.37017331809447673, 0.3701733272705678, 0.37017333655753293, 0.37017334588662953, 0.3701733551928437, 0.3701733644155551, 0.3701733734990775, 0.37017338239307257, 0.3701733910528388, 0.3701733994394778, 0.37013677964395725, 0.37013229376735524, 0.37012743183857255, 0.3701221919378863, 0.37011657775864465, 0.37011059935790724, 0.3701042738456345, 0.3700976259784693, 0.3700906886224142, 0.37008350304845344, 0.37007611902667514, 0.3700685946879585, 0.3700609961279216, 0.37005339673558946, 0.37004587623900753, 0.37003851947148647, 0.3700314148748627, 0.37002465276948737, 0.3700183234338628, 0.3700125150491241, 0.3700073115740509, 0.3700027906241917, 0.36999902143327784, 0.3699960629758783, 0.3699939623268927, 0.369992753325992, 0.36999245560374944, 0.36999307401152814, 0.3699945984800117, 0.3699970043125803, 0.3700002529006794, 0.370004292830051, 0.37000906133028305, 0.3700144860065412, 0.37002048678228827, 0.370026977975741, 0.3700338704309262, 0.370041073626356, 0.37004849769016535, 0.3700560552594461, 0.37006366313272504, 0.37007124367722927, 0.37007872596592833, 0.3700860466325202, 0.370093150444863, 0.3700999906082607, 0.37010652881910117, 0.37011273509637105, 0.37011858742344955, 0.37012407123536956, 0.36699829571885584, 0.3664191532662831, 0.3657501516609169, 0.36498131443657156, 0.3641025664387446, 0.36310404072496877, 0.3619764695555902, 0.36071166634899154, 0.35930310184175107, 0.35774657219914074, 0.3560409490985748, 0.3541889915670402, 0.35219818647947215, 0.3500815693313369, 0.3478584599231552, 0.34555503043506275, 0.34320460851252926, 0.3408476090427117, 0.33853098991476016, 0.3363071443735986, 0.33423218012652384, 0.3323635952849142, 0.33075744108302074, 0.3294651522030201, 0.328530311580122, 0.3279856770246698, 0.3278508114167594, 0.32813061358556694, 0.32881494419810875, 0.32987939732588845, 0.331287113711419, 0.3329913995177816, 0.33493883079169984, 0.33707250064146443, 0.33933509870860057, 0.34167158442399176, 0.34403130547107297, 0.34636950136502026, 0.3486482055819164, 0.35083661174958586, 0.35291099946028726, 0.3548543264999583, 0.35665559162627836, 0.35830906053164086, 0.35981343161066315, 0.36117100082868936, 0.362386868475277, 0.3634682160885788, 0.3644236698812793, 0.3652627576645958, 0.36467129234007384, 0.3635951690781688, 0.36233284954804135, 0.3608585397941903, 0.35914456936389544, 0.3571617512165818, 0.35487993161158565, 0.35226877415668345, 0.34929882655327416, 0.34594292130674276, 0.3421779614269145, 0.3379871368634773, 0.3333626040397246, 0.32830863492995926, 0.3228451975058483, 0.3170118580033367, 0.3108717879085568, 0.3045155061151914, 0.29806378654340243, 0.2916689269132711, 0.285513351109266, 0.2798044033173331, 0.27476434513608694, 0.270615174993202, 0.2675590642930011, 0.2657568057543304, 0.2653081615604326, 0.2662385583637183, 0.2684955603231827, 0.2719560821604414, 0.2764423978475379, 0.28174296507035235, 0.2876336570768207, 0.2938959757402592, 0.3003304353726184, 0.3067647979996081, 0.31305781613049244, 0.3190995678009316, 0.3248095067684544, 0.33013318326995134, 0.3350383554472024, 0.33951098588716433, 0.34355143388728443, 0.3471710181274016, 0.35038903065768634, 0.3532302221418264, 0.3557227410511037, 0.3578964885875485, 0.3597818409988378, 0.36140868772301077, 0.36644071168527287, 0.36643730568240784, 0.3664561716733141, 0.3664964922984708, 0.3665569831988253, 0.36663594756260554, 0.3667313464030593, 0.366840880382197, 0.3669620784623441, 0.36709238850873716, 0.36722926516824195, 0.36737025086318414, 0.36751304649220834, 0.36765556933556937, 0.36779599663173357, 0.3679327942445577, 0.36806473070899315, 0.36819087767988085, 0.3683105983838314, 0.3684235260770541, 0.368529534745759, 0.3686287043648779, 0.3687212829770171, 0.3688076476922444, 0.3688882664670421, 0.3689636622231802, 0.36903438053786636, 0.3691009617960577, 0.3691639183619366, 0.3692237170138425, 0.3692807666069765, 0.3693354106895538, 0.36938792460651076, 0.36943851648331305, 0.36948733139113576, 0.3695344579514816, 0.3695799366387778, 0.36962376907748845, 0.36966592769833845, 0.36970636520822525, 0.36974502343198196, 0.36978184119344853, 0.3698167610112655, 0.36984973448555925, 0.3698807263408108, 0.3699097171647101, 0.3699367049411685, 0.3699617055176344, 0.3699847521732378, 0.3700058944666836, 0.08143502874490324, 0.08688373834800057, 0.10118992829906738, 0.12055965135763931, 0.14208735300824696, 0.16405587960757645, 0.18550383844611812, 0.20589414785939195, 0.22493295566571866, 0.24247357852580115, 0.2584628496232134, 0.27290891844641163, 0.28586054928891974, 0.2973930501384288, 0.3075983219419141, 0.3165776493075474, 0.3244364210698186, 0.33128026853956555, 0.33721227622725697, 0.3423310186424386, 0.3467292390049434, 0.3504930274058236, 0.35370138557101855, 0.35642608750330573, 0.3587317624966062, 0.3606761408432722, 0.3623104139066194, 0.3636796696862194, 0.36482337294307854, 0.3657758656378641, 0.3665668690574701, 0.36722197370829496, 0.3677631069555101, 0.36820897158560767, 0.3685754510524382, 0.36887597921473153, 0.369121873959561, 0.36932263529983705, 0.36948620939786603, 0.3696192205589936, 0.3697271736113013, 0.36981462928523434, 0.369885355270879, 0.36994245559447164, 0.36998848084807767, 0.37002552165050545, 0.37005528753201816, 0.3700791732347339, 0.37009831421572265, 0.3701136329386718, 0.3601414722868516, 0.3601793187682065, 0.36029188366198067, 0.36047629197773795, 0.36072790806874533, 0.3610405567443477, 0.3614068085920405, 0.3618183086267877, 0.362266125601396, 0.36274109974520063, 0.3632341690620242, 0.36373665811939954, 0.3642405179039841, 0.3647385102068842, 0.3652243346222372, 0.3656927002099618, 0.36613934695754574, 0.36656102428850335, 0.3669554350375206, 0.36732115365929263, 0.367657527123501, 0.36796456615411083, 0.3682428333733439, 0.3684933336640589, 0.36871741079375603, 0.368916653141512, 0.3690928102973743, 0.36924772139677603, 0.36938325532341343, 0.36950126235969244, 0.36960353647026567, 0.3696917871507221, 0.36976761963647314, 0.3698325222221377, 0.3698878594664655, 0.36993487013169307, 0.3699746688119073, 0.3700082503284018, 0.3700364961001891, 0.3700601818266344, 0.37007998594091673, 0.3700964984040613, 0.3701102295075769, 0.370121618437499, 0.3701310414239803, 0.37013881935922327, 0.37014522481363016, 0.37015048841688114, 0.37015480459865724, 0.3701583367042813, 0.3701454686503645, 0.3701455310351081, 0.37014571730515644, 0.37014602483002085, 0.37014644929867324, 0.37014698482637115, 0.37014762409865126, 0.3701483585472714, 0.37014917855184154, 0.3701500736601551, 0.3701510328198258, 0.37015204461376056, 0.37015309749225045, 0.3701541799949946, 0.3701552809571559, 0.370156389694518, 0.37015749616391375, 0.37015859109626165, 0.37015966610071777, 0.37016071373957476, 0.3701617275745618, 0.3701627021860944, 0.37016363316775547, 0.37016451709884984, 0.3701653514982588, 0.37016613476303645, 0.37016686609524385, 0.37016754542043734, 0.3701681733010303, 0.3701687508474622, 0.37016927962975876, 0.37016976159167697, 0.37017019896922376, 0.3701705942149299, 0.3701709499288755, 0.37017126879710516, 0.3701715535377547, 0.37017180685493467, 0.3701720314001895, 0.3701722297411728, 0.3701724043370377, 0.3701725575199514, 0.3701726914820808, 0.3701728082673722, 0.370172909767443, 0.3701729977209288, 0.3701730737156615, 0.3701731391931031, 0.370173195454515, 0.37017324366840215, 0.37017346678120494, 0.37017346656650485, 0.3701734664626325, 0.37017346646973537, 0.3701734665869774, 0.3701734668125633, 0.3701734671437789, 0.3701734675770438, 0.3701734681079768, 0.370173468731472, 0.37017346944178253, 0.37017347023261155, 0.3701734710972078, 0.37017347202846274, 0.37017347301900927, 0.37017347406131795, 0.37017347514779037, 0.3701734762708484, 0.37017347742301615, 0.370173478596996, 0.370173479785736, 0.3701734809824893, 0.3701734821808639, 0.37017348337486466, 0.37017348455892535, 0.3701734857279332, 0.3701734868772442, 0.37017348800269223, 0.37017348910059, 0.3701734901677248, 0.37017349120134774, 0.3701734921991602, 0.37017349315929393, 0.37017349408029004, 0.3701734949610745, 0.37017349580093184, 0.3701734965994782, 0.3701734973566327, 0.3701734980725894, 0.3701734987477894, 0.37017349938289207, 0.3701734999787492, 0.3701735005363781, 0.3701735010569374, 0.37017350154170303, 0.37017350199204624, 0.3701735024094132, 0.3701735027953056, 0.3701735031512632, 0.37017350347884787, 0.3701696062950617, 0.37016932819009135, 0.3701690469391979, 0.37016876468826404, 0.3701684837608799, 0.3701682066306192, 0.3701679358876388, 0.37016767420008906, 0.37016742427104055, 0.37016718879184257, 0.37016697039301316, 0.3701667715939189, 0.37016659475261776, 0.37016644201730586, 0.37016631528082233, 0.3701662161396202, 0.37016614585850993, 0.3701661053423209, 0.3701660951154172, 0.37016611530975285, 0.37016616566186866, 0.37016624551893157, 0.37016635385361235, 0.37016648928730117, 0.3701666501208865, 0.3701668343720854, 0.370167039818119, 0.3701672640423866, 0.3701675044837081, 0.3701677584866791, 0.37016802335171495, 0.3701682963834453, 0.3701685749362511, 0.37016885645590275, 0.3701691385164553, 0.37016941885176774, 0.37016969538123295, 0.3701699662295196, 0.3701702297403316, 0.37017048448437406, 0.3701707292618745, 0.370170963100136, 0.37017118524670006, 0.37017139515876357, 0.3701715924895292, 0.3701717770721822, 0.3701719489021656, 0.3701721081183935, 0.3701722549839864, 0.37017238986704903, 0.36893988076900386, 0.36880486523811656, 0.36866271083925306, 0.36851441426579185, 0.36836123414321864, 0.3682046913170437, 0.36804655899327315, 0.36788884156437435, 0.3677337414389146, 0.36758361381861715, 0.3674409101052215, 0.3673081114265089, 0.3671876545854395, 0.36708185348599726, 0.3669928196964533, 0.3669223862015053, 0.3668720385089254, 0.366842857076886, 0.3668354745084337, 0.3668500501473518, 0.3668862636659786, 0.3669433280491051, 0.367020021154997, 0.3671147338855607, 0.3672255320242145, 0.3673502280823974, 0.3674864590839348, 0.3676317661265821, 0.36778367177433124, 0.36793975180655847, 0.3680976985148055, 0.3682553735187016, 0.3684108488923985, 0.3685624361827588, 0.3687087036047541, 0.3688484822792918, 0.3689808628126156, 0.3691051837993206, 0.3692210139709242, 0.369328129726663, 0.36942648969648495, 0.3695162078244321, 0.3695975262497937, 0.369670789027246, 0.3697364174856653, 0.36979488779403463, 0.3698467110930455, 0.36989241636967507, 0.3699325361026359, 0.36996759458975265, 0.33659213794270104, 0.3306336823106883, 0.3237745531155749, 0.31591624871233426, 0.3069590822492062, 0.2968054327320235, 0.2853642614458978, 0.27255733003468263, 0.2583277717292214, 0.24265204239640045, 0.22555695951832141, 0.20714481384948025, 0.1876319629432664, 0.16741080804355718, 0.14715233141092798, 0.12797195489786084, 0.11165126292648905, 0.10071599252807246, 0.09773421968430478, 0.10357232421439577, 0.11658860559125014, 0.1340676197871809, 0.1537099859832327, 0.17398193939056075, 0.19394159356717172, 0.2130284827577376, 0.23092090839866877, 0.24744923783318576, 0.26254308398379617, 0.276197888337219, 0.28845281318640065, 0.2993755303962568, 0.3090514493290133, 0.31757595639631986, 0.32504879186277386, 0.33156999678948745, 0.3372370411110124, 0.34214285234934433, 0.3463745343474359, 0.3500126131009366, 0.3531306812115871, 0.35579533862665447, 0.35806634795916814, 0.3599969394118124, 0.3616342141048148, 0.36301960602326805, 0.36418937224212017, 0.36517508884178773, 0.3660041362228917, 0.36670016256438365, 0.33532919471444145, 0.32970127857826137, 0.3232937084509729, 0.316029756311164, 0.3078336019286289, 0.29863333740373316, 0.28836488287189393, 0.27697695919324783, 0.26443725303490895, 0.2507398752878031, 0.23591413471922404, 0.220034486191496, 0.20323119219365665, 0.1857006168224437, 0.16771289660022132, 0.1496125861210247, 0.13180426899277609, 0.11471017800326881, 0.09868368629875246, 0.08387205513107591, 0.07006521456141182, 0.05666046183212131, 0.04300038330677451, 0.029589287773690177, 0.02196967552020098, 0.03017005395166302, 0.04842624299791262, 0.06980978278995069, 0.09205166442173764, 0.11416363345051891, 0.13556989147545942, 0.1559062729385632, 0.1749524350660194, 0.19259663798126445, 0.20881040201100556, 0.2236271753904335, 0.2371235377996408, 0.24940276191620891, 0.26058093281143163, 0.27077586450048796, 0.2800989363098632, 0.2886497811132568, 0.2965135522727678, 0.3037603254660914, 0.31044608901326404, 0.31661475408632256, 0.3223006658751211, 0.3275311960057666, 0.33232911813183, 0.3367145886659229, 0.25247023289442694, 0.2358128308741207, 0.21752571481302155, 0.1976224983327887, 0.17617383942124165, 0.15332792428237038, 0.12934160311846313, 0.10463676556180079, 0.07993008800929184, 0.05662237616139993, 0.03819296229580082, 0.032747676024388946, 0.04268350641490839, 0.05791610873335802, 0.07253752475163226, 0.08463219629653243, 0.09362729461990461, 0.09955844134719896, 0.10288457913154035, 0.1044346464389954, 0.10535562102606912, 0.10697557844706851, 0.1105262151852242, 0.11678883022250983, 0.12587741738037658, 0.1373172408115881, 0.1503239758914032, 0.16407407178799308, 0.17786226276029699, 0.19115890031567156, 0.2036120459239116, 0.21502673508353037, 0.22533720817251734, 0.23457817281111562, 0.24285698144096096, 0.2503273043990091, 0.25716480422065613, 0.2635456278233184, 0.26962878389780476, 0.27554342675301613, 0.281381659052063, 0.2871967927734936, 0.2930062840367782, 0.29879801228498787, 0.30453835064005286, 0.3101805819513278, 0.3156725557324541, 0.32096291406188454, 0.3260056186477252, 0.3307628166914573, 0.31595196465717323, 0.30692438753504514, 0.2966335166299935, 0.2849588629222787, 0.27178250609271604, 0.25699388430299225, 0.24049608280905813, 0.22221408360756026, 0.20210575653397592, 0.180177123014296, 0.1565053898906331, 0.13127903190313142, 0.10488377757366525, 0.07814250088095068, 0.05320410328575558, 0.03717113651306528, 0.04304940110549554, 0.06477999106910882, 0.09072742274769942, 0.1170107947668105, 0.14236719768603281, 0.16627746040780517, 0.18850952375595506, 0.20897415781829426, 0.22766450993203893, 0.24462445343574893, 0.25992941280763887, 0.27367378959607197, 0.2859624252407072, 0.2969047511070007, 0.3066107985855512, 0.31518851221869354, 0.3227419745521488, 0.3293702654464897, 0.335166761104828, 0.34021873817692994, 0.3446071913394595, 0.34840680272026076, 0.35168602172354285, 0.3545072269484312, 0.3569269501547066, 0.3589961472795554, 0.3607605045576415, 0.3622607696794222, 0.3635330991868764, 0.3646094142862572, 0.36551775814115905, 0.3662826485853564, 0.3669254210923535, 0.36746455775199943, 0.3675792803068846, 0.36732365787955085, 0.36706033504732655, 0.3667922170818943, 0.3665226745352161, 0.36625549607327673, 0.365994816774009, 0.3657450220556279, 0.3655106290782155, 0.36529614928028775, 0.3651059375191444, 0.36494403489575084, 0.36481401356803067, 0.36471883251261605, 0.3646607131490057, 0.3646410429254163, 0.36466031340268734, 0.36471809717466763, 0.3648130653275349, 0.3649430443239201, 0.36510510848417976, 0.36529570189697697, 0.3655107818445827, 0.3657459748168458, 0.3659967359606406, 0.36625850332620274, 0.3665268394080068, 0.36679755406267506, 0.3670668047218897, 0.3673311717093751, 0.3675877082478363, 0.36783396627455966, 0.3680680003903928, 0.36828835310951163, 0.36849402506068907, 0.36868443394947253, 0.368859365979968, 0.3690189231201292, 0.3691634691423974, 0.3692935768441093, 0.36940997830192834, 0.36951351948298317, 0.36960512005192275, 0.3696857387961856, 0.36975634475042446, 0.36981789383665903, 0.3698713106452332, 0.36991747485525667, 0.36995721172207496, 0.3699912860328553, 0.3701566867296121, 0.3701557705439265, 0.37015487810880315, 0.3701540184875941, 0.3701532008254509, 0.3701524341867199, 0.3701517273846912, 0.37015108880818914, 0.37015052624986927, 0.3701500467412881, 0.37014965639981406, 0.3701493602922477, 0.3701491623196061, 0.37014906512692436, 0.37014907004114456, 0.37014917703924494, 0.37014938474773856, 0.37014969047359597, 0.3701500902655669, 0.37015057900384063, 0.3701511505150459, 0.37015179770878553, 0.37015251273126776, 0.37015328713115486, 0.37015411203252047, 0.37015497830978333, 0.37015587675966805, 0.3701567982656059, 0.37015773395050827, 0.37015867531449004, 0.37015961435484573, 0.3701605436663603, 0.37016145652082033, 0.3701623469253525, 0.3701632096599207, 0.37016404029493793, 0.37016483519047527, 0.3701655914789657, 0.37016630703360326, 0.3701669804248234, 0.37016761086733385, 0.3701681981601449, 0.37016874262195093, 0.37016924502404563, 0.37016970652273207, 0.37017012859293663, 0.3701705129644554, 0.370170861561983, 0.3701711764497937, 0.3701714597816841, 0.3671838333567125, 0.3669617370223335, 0.3667439280211125, 0.3665338869225365, 0.3663352255723214, 0.36615158323702895, 0.36598651131467497, 0.3658433516995955, 0.36572511487433595, 0.365634364397352, 0.36557311455799724, 0.3655427475199981, 0.36554395527088573, 0.3655767102018866, 0.3656402662862716, 0.36573319077695216, 0.3658534243046682, 0.3659983654236714, 0.36616497419249683, 0.3663498884143747, 0.3665495457546132, 0.3667603050953265, 0.36697856111765476, 0.36720084711062717, 0.3674239222609844, 0.3676448410405665, 0.36786100364864754, 0.36807018768065247, 0.36827056220685517, 0.36846068621229644, 0.3686394938593902, 0.3688062692995954, 0.36896061381003925, 0.36910240790614873, 0.3692317708277155, 0.3693490194583626, 0.369454628357745, 0.36954919219592725, 0.369633391506537, 0.3697079623379796, 0.36977367009163187, 0.36983128759785777, 0.3698815772954985, 0.3699252772452458, 0.3699630906167967, 0.3699956782373419, 0.370023653767731, 0.3700475810756355, 0.37006797339577774, 0.37008529390015726, 0.2761786159323444, 0.2617806673968721, 0.2457030515504521, 0.22787193333062492, 0.2082459379919455, 0.1868317015040319, 0.16370784309054992, 0.13906708469404477, 0.11330466681625805, 0.08724754090139338, 0.06288721391729331, 0.04580624094044752, 0.0466116965223987, 0.06459632270199907, 0.0892121331749083, 0.11529406010460234, 0.14099225035874918, 0.16552786946001255, 0.18852634815255676, 0.20980589505377353, 0.22929453638385838, 0.24698999848939354, 0.2629366056195316, 0.2772101743504793, 0.2899073069341493, 0.30113745534577224, 0.31101691980593893, 0.31966429464207424, 0.3271970428574162, 0.3337289703962611, 0.33936842399859496, 0.34421707121853584, 0.34836914613777936, 0.35191106362606417, 0.35492132073575106, 0.3574706170531162, 0.35962213717161745, 0.36143194826836805, 0.36294947429008767, 0.36421801565469414, 0.365275289773766, 0.36615397319901155, 0.36688223087858346, 0.3674842219529696, 0.36798057479761087, 0.36838882669913187, 0.3687238257014631, 0.3689980938423346, 0.3692221522828464, 0.3694048097730632, 0.3652041355973292, 0.3648117972440596, 0.3644249054085502, 0.36404988197885635, 0.36369348401111423, 0.3633626033581804, 0.3630640375801807, 0.36280424244663817, 0.362589079040259, 0.36242357033106226, 0.3623116827783957, 0.3622561478182692, 0.36225833594676243, 0.3623181926486725, 0.3624342409633954, 0.36260365049485055, 0.36282236770871434, 0.36308529796383526, 0.36338652635442137, 0.36371956240093833, 0.3640775930378031, 0.36445372913331003, 0.36484123271261315, 0.3652337148038306, 0.36562529701225344, 0.3660107331834005, 0.3663854905343115, 0.36674579218987596, 0.36708862502522216, 0.36741171804118694, 0.3677134972133299, 0.36799302293239555, 0.3682499159016469, 0.36848427679131396, 0.368696604186545, 0.3688877145035425, 0.3690586666712397, 0.369210693544567, 0.369345141271792, 0.3694634172066663, 0.36956694644587634, 0.3696571366822963, 0.3697353507859218, 0.3698028863435142, 0.3698609612889645, 0.36991070472271675, 0.36995315203451684, 0.3699892434950977, 0.3700198255569896, 0.3700456541924614, 0.3700630746813577, 0.37005112747903735, 0.37003836830241416, 0.3700248230738229, 0.3700105337704037, 0.36999555983124277, 0.36997997926868004, 0.3699638893934064, 0.36994740706490215, 0.3699306683859068, 0.36991382777249676, 0.3698970563501792, 0.3698805396509933, 0.3698644746162487, 0.3698490659430492, 0.3698345218484759, 0.36982104936114163, 0.36980884928339697, 0.3697981109962481, 0.3697890073006077, 0.36978168950072027, 0.3697762829368777, 0.36977288316402107, 0.3697715529504717, 0.3697723202377834, 0.36977517716034214, 0.3697800801744348, 0.3697869512942013, 0.3697956803796131, 0.36980612837282795, 0.3698181313370952, 0.36983150511942114, 0.3698460504362454, 0.3698615581713613, 0.36987781467721903, 0.36989460688371867, 0.3699117270410123, 0.36992897695256244, 0.3699461715892681, 0.3699631420123289, 0.3699797375692373, 0.3699958273617316, 0.37001130101499347, 0.37002606880260863, 0.3700400612011171, 0.3700532279611262, 0.37006553678914683, 0.37007697173607346, 0.37008753138533895, 0.3700972269271593, 0.36351233654134546, 0.36230599455833357, 0.36091552401083676, 0.35932155566986695, 0.35750497410209164, 0.3554476812887404, 0.35313356388441786, 0.3505496823893285, 0.34768769144808287, 0.3445454856861106, 0.34112904314624637, 0.33745440659673476, 0.33354970014783464, 0.3294570241939851, 0.3252340074845556, 0.3209547271413228, 0.31670964828439513, 0.31260420583089515, 0.3087556819386307, 0.30528815747003885, 0.3023255605018549, 0.2999831964385528, 0.2983585690812366, 0.2975226769468669, 0.2975131451638985, 0.29833040709497793, 0.29993765964404295, 0.3022646009183537, 0.3052142408557288, 0.3086715782216747, 0.3125127830659656, 0.316613693513562, 0.32085680786644327, 0.32513637812194873, 0.32936157482174316, 0.3334579406568563, 0.33736747767566794, 0.3410477456221671, 0.34447032084329227, 0.34761890646337806, 0.3504873165698773, 0.35307749276670564, 0.35539765677502116, 0.35746065966214774, 0.35928255625085476, 0.3608814107178124, 0.3622763244361498, 0.36348666794362183, 0.3645314939750611, 0.3654291065363055, 0.36405879658579665, 0.3629730763746366, 0.36172528415288113, 0.3602992061654968, 0.3586790998690994, 0.3568503932090136, 0.3548005529741979, 0.352520131537548, 0.3500039914977291, 0.3472526930161699, 0.344274007845907, 0.3410844962253962, 0.3377110476006711, 0.3341922444275538, 0.3305793631582259, 0.3269367843416366, 0.3233415554157432, 0.31988185090219373, 0.3166541243592767, 0.31375886236715617, 0.3112950409487678, 0.30935363601006804, 0.30801080818405685, 0.3073215960903614, 0.30731502656906234, 0.30799142539590363, 0.3093223864366059, 0.3112534045786491, 0.3137087236447938, 0.31659762102979083, 0.3198212209969354, 0.32327899914579067, 0.32687435197402087, 0.3305188739011927, 0.3341352362889918, 0.3376587547302108, 0.3410378484270054, 0.3442336464321025, 0.34721899753164503, 0.34997711266883136, 0.35250002680531006, 0.35478702195087425, 0.3568431112584737, 0.35867764870898006, 0.3603031009211035, 0.3617339966759416, 0.3629860548996663, 0.364075481959589, 0.36501842308383137, 0.36583054953119, 0.3564614940258588, 0.356506017671472, 0.3566560315407018, 0.3569072381581603, 0.3572527244279058, 0.3576833164007446, 0.3581880333360268, 0.35875460535320297, 0.35937001660883927, 0.3600210375486369, 0.360694714697425, 0.36137879363811504, 0.36206205913658945, 0.36273458471204506, 0.36338789146503336, 0.3640150220832412, 0.3646105403670515, 0.3651704693284511, 0.36569218207992776, 0.3661742596219915, 0.3666163285846922, 0.36701889030368956, 0.3673831506035976, 0.3677108575542423, 0.36800415243421924, 0.36826543729798056, 0.36849726096637253, 0.36870222397497016, 0.36888290202006446, 0.3690417867189479, 0.3691812420177884, 0.36930347429938715, 0.36941051412569637, 0.3695042075588426, 0.3695862151058149, 0.3696580164965717, 0.36972091970858995, 0.3697760728730421, 0.36982447792350365, 0.36986700506596676, 0.36990440735098506, 0.36993733480988417, 0.36996634777435045, 0.369991929131401, 0.3700144953741968, 0.370034406394832, 0.37005197403025886, 0.37006746941942714, 0.3700811292612471, 0.37009316108185075, 0.1285375365190026, 0.13165942887002058, 0.14043865562988395, 0.15346670223470682, 0.16916670559063637, 0.18620881979431309, 0.20361616595139434, 0.22072138708056627, 0.23709037631061325, 0.2524556215281771, 0.26666662494006105, 0.2796546833503072, 0.2914079911419703, 0.3019538632355946, 0.3113458731582992, 0.31965444543006427, 0.326959933035348, 0.33334752394854095, 0.338903519933957, 0.34371265965137565, 0.34785624358531386, 0.35141087687864464, 0.35444768766843154, 0.3570319089637022, 0.3592227351396219, 0.3610733820319968, 0.3626312938574784, 0.36393845170305456, 0.3650317477574008, 0.3659433972291716, 0.36670136632224526, 0.36732979994140164, 0.367849437158368, 0.36827800601664046, 0.36863059211044624, 0.36891997763850826, 0.36915694939525096, 0.36935057549936295, 0.36950845164283064, 0.36963691833561835, 0.36974125107793665, 0.3698258256622816, 0.36989426093327676, 0.36994954135045593, 0.36999412163727063, 0.37003001568305116, 0.37005887171286345, 0.37008203556836317, 0.37010060376243514, 0.3701154677901338, 0.3675819218652282, 0.3675902162228178, 0.3676149235223306, 0.36765552368928717, 0.3677111723805717, 0.36778073323497573, 0.3678628203095243, 0.36795584826516975, 0.3680580875305743, 0.3681677215514162, 0.3682829033196992, 0.36840180864796446, 0.36852268406787003, 0.36864388774296647, 0.36876392234103, 0.3688814593640633, 0.36899535494366614, 0.36910465754533994, 0.3692086083683549, 0.3693066354696397, 0.36939834278219025, 0.3694834952493835, 0.36956200127039424, 0.3696338935653289, 0.36969930943939006, 0.36975847127007805, 0.36981166787502123, 0.36985923725263825, 0.36990155103282457, 0.36993900083658615, 0.3699719866258633, 0.3700009070292668, 0.3700261515559601, 0.3700480945570245, 0.37006709075908606, 0.37008347217601245, 0.370097546198209, 0.370109594662597, 0.37011987371711924, 0.3701286143092625, 0.37013602314666244, 0.37014228399777577, 0.37014755922065323, 0.37015199142711275, 0.3701557052074927, 0.3701588088572676, 0.37016139606094534, 0.37016354750077923, 0.370165332367984, 0.37016680976245475];\n",
       "const xvar = \"lr\";\n",
       "const yvar = \"momentum\";\n",
       "const x_is_log = true;\n",
       "const y_is_log = false;\n",
       "\n",
       "const GREEN_SCALE = [[247, 252, 253], [229, 245, 249], [204, 236, 230], [153, 216, 201], [102, 194, 164], [65, 174, 118], [35, 139, 69], [0, 109, 44], [0, 68, 27]];\n",
       "const GREEN_PINK_SCALE = [[142, 1, 82], [197, 27, 125], [222, 119, 174], [241, 182, 218], [253, 224, 239], [247, 247, 247], [230, 245, 208], [184, 225, 134], [127, 188, 65], [77, 146, 33], [39, 100, 25]];\n",
       "const BLUE_SCALE = [[255, 247, 251], [236, 231, 242], [208, 209, 230], [166, 189, 219], [116, 169, 207], [54, 144, 192], [5, 112, 176], [3, 78, 123]];\n",
       "\n",
       "// format data\n",
       "const res = relativize_data(f, sd, rel, arm_data, metric);\n",
       "const f_final = res[0];\n",
       "const sd_final = res[1];\n",
       "\n",
       "// calculate max of abs(outcome), used for colorscale\n",
       "const f_absmax = Math.max(Math.abs(Math.min(...f_final)), Math.max(...f_final));\n",
       "\n",
       "// transform to nested array\n",
       "var f_plt = [];\n",
       "while(f_final.length) f_plt.push(f_final.splice(0, density));\n",
       "var sd_plt = [];\n",
       "while(sd_final.length) sd_plt.push(sd_final.splice(0, density));\n",
       "\n",
       "// create traces\n",
       "const CONTOUR_CONFIG = {\n",
       "  autocolorscale: false,\n",
       "  autocontour: true,\n",
       "  contours: {\n",
       "    coloring: 'heatmap',\n",
       "  },\n",
       "  hoverinfo: 'x+y+z',\n",
       "  ncontours: density / 2,\n",
       "  type: 'contour',\n",
       "  x: grid_x,\n",
       "  y: grid_y,\n",
       "};\n",
       "\n",
       "let f_scale;\n",
       "if (rel === true) {\n",
       "  f_scale = lower_is_better === true\n",
       "    ? GREEN_PINK_SCALE.reverse()\n",
       "    : GREEN_PINK_SCALE;\n",
       "} else {\n",
       "  f_scale = GREEN_SCALE;\n",
       "}\n",
       "\n",
       "const f_trace = {\n",
       "  colorbar: {\n",
       "    x: 0.45,\n",
       "    y: 0.5,\n",
       "    ticksuffix: rel === true ? '%' : '',\n",
       "    tickfont: {\n",
       "      size: 8,\n",
       "    },\n",
       "  },\n",
       "  colorscale: f_scale.map(\n",
       "    (v, i) => [i / (f_scale.length - 1), rgb(v)]\n",
       "  ),\n",
       "  xaxis: 'x',\n",
       "  yaxis: 'y',\n",
       "  z: f_plt,\n",
       "  // zmax and zmin are ignored if zauto is true\n",
       "  zauto: !rel,\n",
       "  zmax: f_absmax,\n",
       "  zmin: -f_absmax,\n",
       "};\n",
       "\n",
       "const sd_trace = {\n",
       "  colorbar: {\n",
       "      x: 1,\n",
       "      y: 0.5,\n",
       "      ticksuffix: rel === true ? '%' : '',\n",
       "      tickfont: {\n",
       "        size: 8,\n",
       "      },\n",
       "  },\n",
       "  colorscale: BLUE_SCALE.map(\n",
       "    (v, i) => [i / (BLUE_SCALE.length - 1), rgb(v)]\n",
       "  ),\n",
       "  xaxis: 'x2',\n",
       "  yaxis: 'y2',\n",
       "  z: sd_plt,\n",
       "};\n",
       "\n",
       "Object.keys(CONTOUR_CONFIG).forEach(key => {\n",
       "  f_trace[key] = CONTOUR_CONFIG[key];\n",
       "  sd_trace[key] = CONTOUR_CONFIG[key];\n",
       "});\n",
       "\n",
       "// get in-sample arms\n",
       "const arm_x = [];\n",
       "const arm_y = [];\n",
       "const arm_text = [];\n",
       "\n",
       "Object.keys(arm_data['in_sample']).forEach(arm_name => {\n",
       "  arm_x.push(arm_data['in_sample'][arm_name]['parameters'][xvar]);\n",
       "  arm_y.push(arm_data['in_sample'][arm_name]['parameters'][yvar]);\n",
       "  arm_text.push(arm_name);\n",
       "});\n",
       "\n",
       "// configs for in-sample arms\n",
       "const base_in_sample_arm_config = {\n",
       "  hoverinfo: 'text',\n",
       "  legendgroup: 'In-sample',\n",
       "  marker: {color: 'black', symbol: 1, opacity: 0.5},\n",
       "  mode: 'markers',\n",
       "  name: 'In-sample',\n",
       "  text: arm_text,\n",
       "  type: 'scatter',\n",
       "  x: arm_x,\n",
       "  y: arm_y,\n",
       "};\n",
       "\n",
       "const f_in_sample_arm_trace = {\n",
       "  xaxis: 'x',\n",
       "  yaxis: 'y',\n",
       "};\n",
       "\n",
       "const sd_in_sample_arm_trace = {\n",
       "  showlegend: false,\n",
       "  xaxis: 'x2',\n",
       "  yaxis: 'y2',\n",
       "};\n",
       "\n",
       "Object.keys(base_in_sample_arm_config).forEach(key => {\n",
       "  f_in_sample_arm_trace[key] = base_in_sample_arm_config[key];\n",
       "  sd_in_sample_arm_trace[key] = base_in_sample_arm_config[key];\n",
       "});\n",
       "\n",
       "const traces = [\n",
       "  f_trace,\n",
       "  sd_trace,\n",
       "  f_in_sample_arm_trace,\n",
       "  sd_in_sample_arm_trace,\n",
       "];\n",
       "\n",
       "// start symbol at 2 for candidate markers\n",
       "let i = 2;\n",
       "\n",
       "// iterate over out-of-sample arms\n",
       "Object.keys(arm_data['out_of_sample']).forEach(generator_run_name => {\n",
       "  const ax = [];\n",
       "  const ay = [];\n",
       "  const atext = [];\n",
       "\n",
       "  Object.keys(arm_data['out_of_sample'][generator_run_name]).forEach(arm_name => {\n",
       "    ax.push(\n",
       "      arm_data['out_of_sample'][generator_run_name][arm_name]['parameters'][xvar]\n",
       "    );\n",
       "    ay.push(\n",
       "      arm_data['out_of_sample'][generator_run_name][arm_name]['parameters'][yvar]\n",
       "    );\n",
       "    atext.push('<em>Candidate ' + arm_name + '</em>');\n",
       "  });\n",
       "\n",
       "  traces.push({\n",
       "    hoverinfo: 'text',\n",
       "    legendgroup: generator_run_name,\n",
       "    marker: {color: 'black', symbol: i, opacity: 0.5},\n",
       "    mode: 'markers',\n",
       "    name: generator_run_name,\n",
       "    text: atext,\n",
       "    type: 'scatter',\n",
       "    xaxis: 'x',\n",
       "    x: ax,\n",
       "    yaxis: 'y',\n",
       "    y: ay,\n",
       "  });\n",
       "  traces.push({\n",
       "    hoverinfo: 'text',\n",
       "    legendgroup: generator_run_name,\n",
       "    marker: {color: 'black', symbol: i, opacity: 0.5},\n",
       "    mode: 'markers',\n",
       "    name: 'In-sample',\n",
       "    showlegend: false,\n",
       "    text: atext,\n",
       "    type: 'scatter',\n",
       "    x: ax,\n",
       "    xaxis: 'x2',\n",
       "    y: ay,\n",
       "    yaxis: 'y2',\n",
       "  });\n",
       "  i += 1;\n",
       "});\n",
       "\n",
       "// layout\n",
       "const xrange = axis_range(grid_x, x_is_log);\n",
       "const yrange = axis_range(grid_y, y_is_log);\n",
       "\n",
       "const xtype = x_is_log ? 'log' : 'linear';\n",
       "const ytype = y_is_log ? 'log' : 'linear';\n",
       "\n",
       "const layout = {\n",
       "  autosize: false,\n",
       "    margin: {\n",
       "      l: 35,\n",
       "      r: 35,\n",
       "      t: 35,\n",
       "      b: 100,\n",
       "      pad: 0,\n",
       "  },\n",
       "  annotations: [\n",
       "    {\n",
       "      font: {size: 14},\n",
       "      showarrow: false,\n",
       "      text: 'Mean',\n",
       "      x: 0.25,\n",
       "      xanchor: 'center',\n",
       "      xref: 'paper',\n",
       "      y: 1,\n",
       "      yanchor: 'bottom',\n",
       "      yref: 'paper',\n",
       "    },\n",
       "    {\n",
       "      font: {size: 14},\n",
       "      showarrow: false,\n",
       "      text: 'Standard Error',\n",
       "      x: 0.8,\n",
       "      xanchor: 'center',\n",
       "      xref: 'paper',\n",
       "      y: 1,\n",
       "      yanchor: 'bottom',\n",
       "      yref: 'paper',\n",
       "    },\n",
       "  ],\n",
       "  hovermode: 'closest',\n",
       "  legend: {orientation: 'h', x: 0, y: -0.25},\n",
       "  height: 450,\n",
       "  width: 950,\n",
       "  xaxis: {\n",
       "    anchor: 'y',\n",
       "    autorange: false,\n",
       "    domain: [0.05, 0.45],\n",
       "    exponentformat: 'e',\n",
       "    range: xrange,\n",
       "    tickfont: {size: 11},\n",
       "    tickmode: 'auto',\n",
       "    title: xvar,\n",
       "    type: xtype,\n",
       "  },\n",
       "  xaxis2: {\n",
       "    anchor: 'y2',\n",
       "    autorange: false,\n",
       "    domain: [0.60, 1],\n",
       "    exponentformat: 'e',\n",
       "    range: xrange,\n",
       "    tickfont: {size: 11},\n",
       "    tickmode: 'auto',\n",
       "    title: xvar,\n",
       "    type: xtype,\n",
       "  },\n",
       "  yaxis: {\n",
       "    anchor: 'x',\n",
       "    autorange: false,\n",
       "    domain: [0, 1],\n",
       "    exponentformat: 'e',\n",
       "    range: yrange,\n",
       "    tickfont: {size: 11},\n",
       "    tickmode: 'auto',\n",
       "    title: yvar,\n",
       "    type: ytype,\n",
       "  },\n",
       "  yaxis2: {\n",
       "    anchor: 'x2',\n",
       "    autorange: false,\n",
       "    domain: [0, 1],\n",
       "    exponentformat: 'e',\n",
       "    range: yrange,\n",
       "    tickfont: {size: 11},\n",
       "    tickmode: 'auto',\n",
       "    type: ytype,\n",
       "  },\n",
       "};\n",
       "\n",
       "Plotly.newPlot(\"e21e4eafe90b4707a7b7bef187f29374\", traces, layout, {showLink: false});\n",
       "});</script>"
      ]
     },
     "metadata": {},
     "output_type": "display_data"
    }
   ],
   "source": [
    "render(plot_contour(model=model, param_x='lr', param_y='momentum', metric_name='accuracy'))"
   ]
  },
  {
   "cell_type": "markdown",
   "metadata": {},
   "source": [
    "## 5. Plot best objective as function of the iteration\n",
    "\n",
    "Show the model accuracy improving as we identify better hyperparameters."
   ]
  },
  {
   "cell_type": "code",
   "execution_count": 9,
   "metadata": {},
   "outputs": [
    {
     "data": {
      "text/html": [
       "<div id=\"7deee95281094c5c88eafa8a1627937a\" style=\"width: 100%;\" class=\"plotly-graph-div\"></div><script type='text/javascript'>/*\n",
       " * Copyright (c) Facebook, Inc. and its affiliates. All Rights Reserved.\n",
       " */\n",
       "\n",
       "require(['plotly'], function(Plotly) {\n",
       "  window.PLOTLYENV = window.PLOTLYENV || {};\n",
       "  window.PLOTLYENV.BASE_URL = 'https://plot.ly';\n",
       "  /*\n",
       " * Copyright (c) Facebook, Inc. and its affiliates. All Rights Reserved.\n",
       " */\n",
       "\n",
       "Plotly.newPlot(\n",
       "  \"7deee95281094c5c88eafa8a1627937a\",\n",
       "  [{\"hoverinfo\": \"none\", \"legendgroup\": \"\", \"line\": {\"width\": 0}, \"mode\": \"lines\", \"showlegend\": false, \"x\": [1, 2, 3, 4, 5, 6, 7, 8, 9, 10, 11, 12, 13, 14, 15, 16, 17, 18, 19, 20], \"y\": [83.36666666666666, 83.56666666666666, 83.56666666666666, 83.56666666666666, 94.65, 94.65, 94.65, 94.65, 94.65, 94.65, 94.65, 94.65, 94.75, 94.75, 94.75, 94.75, 94.75, 94.75, 94.75, 94.75], \"type\": \"scatter\"}, {\"fill\": \"tonexty\", \"fillcolor\": \"rgba(128,177,211,0.3)\", \"legendgroup\": \"mean\", \"line\": {\"color\": \"rgba(128,177,211,1)\"}, \"mode\": \"lines\", \"name\": \"mean\", \"x\": [1, 2, 3, 4, 5, 6, 7, 8, 9, 10, 11, 12, 13, 14, 15, 16, 17, 18, 19, 20], \"y\": [83.36666666666666, 83.56666666666666, 83.56666666666666, 83.56666666666666, 94.65, 94.65, 94.65, 94.65, 94.65, 94.65, 94.65, 94.65, 94.75, 94.75, 94.75, 94.75, 94.75, 94.75, 94.75, 94.75], \"type\": \"scatter\"}, {\"fill\": \"tonexty\", \"fillcolor\": \"rgba(128,177,211,0.3)\", \"hoverinfo\": \"none\", \"legendgroup\": \"\", \"line\": {\"width\": 0}, \"mode\": \"lines\", \"showlegend\": false, \"x\": [1, 2, 3, 4, 5, 6, 7, 8, 9, 10, 11, 12, 13, 14, 15, 16, 17, 18, 19, 20], \"y\": [83.36666666666666, 83.56666666666666, 83.56666666666666, 83.56666666666666, 94.65, 94.65, 94.65, 94.65, 94.65, 94.65, 94.65, 94.65, 94.75, 94.75, 94.75, 94.75, 94.75, 94.75, 94.75, 94.75], \"type\": \"scatter\"}],\n",
       "  {\"showlegend\": true, \"title\": {\"text\": \"Model performance vs. # of iterations\"}, \"xaxis\": {\"title\": {\"text\": \"Iteration\"}}, \"yaxis\": {\"title\": {\"text\": \"Classification Accuracy, %\"}}, \"template\": {\"data\": {\"barpolar\": [{\"marker\": {\"line\": {\"color\": \"#E5ECF6\", \"width\": 0.5}}, \"type\": \"barpolar\"}], \"bar\": [{\"error_x\": {\"color\": \"#2a3f5f\"}, \"error_y\": {\"color\": \"#2a3f5f\"}, \"marker\": {\"line\": {\"color\": \"#E5ECF6\", \"width\": 0.5}}, \"type\": \"bar\"}], \"carpet\": [{\"aaxis\": {\"endlinecolor\": \"#2a3f5f\", \"gridcolor\": \"white\", \"linecolor\": \"white\", \"minorgridcolor\": \"white\", \"startlinecolor\": \"#2a3f5f\"}, \"baxis\": {\"endlinecolor\": \"#2a3f5f\", \"gridcolor\": \"white\", \"linecolor\": \"white\", \"minorgridcolor\": \"white\", \"startlinecolor\": \"#2a3f5f\"}, \"type\": \"carpet\"}], \"choropleth\": [{\"colorbar\": {\"outlinewidth\": 0, \"ticks\": \"\"}, \"type\": \"choropleth\"}], \"contourcarpet\": [{\"colorbar\": {\"outlinewidth\": 0, \"ticks\": \"\"}, \"type\": \"contourcarpet\"}], \"contour\": [{\"colorbar\": {\"outlinewidth\": 0, \"ticks\": \"\"}, \"colorscale\": [[0.0, \"#0d0887\"], [0.1111111111111111, \"#46039f\"], [0.2222222222222222, \"#7201a8\"], [0.3333333333333333, \"#9c179e\"], [0.4444444444444444, \"#bd3786\"], [0.5555555555555556, \"#d8576b\"], [0.6666666666666666, \"#ed7953\"], [0.7777777777777778, \"#fb9f3a\"], [0.8888888888888888, \"#fdca26\"], [1.0, \"#f0f921\"]], \"type\": \"contour\"}], \"heatmapgl\": [{\"colorbar\": {\"outlinewidth\": 0, \"ticks\": \"\"}, \"colorscale\": [[0.0, \"#0d0887\"], [0.1111111111111111, \"#46039f\"], [0.2222222222222222, \"#7201a8\"], [0.3333333333333333, \"#9c179e\"], [0.4444444444444444, \"#bd3786\"], [0.5555555555555556, \"#d8576b\"], [0.6666666666666666, \"#ed7953\"], [0.7777777777777778, \"#fb9f3a\"], [0.8888888888888888, \"#fdca26\"], [1.0, \"#f0f921\"]], \"type\": \"heatmapgl\"}], \"heatmap\": [{\"colorbar\": {\"outlinewidth\": 0, \"ticks\": \"\"}, \"colorscale\": [[0.0, \"#0d0887\"], [0.1111111111111111, \"#46039f\"], [0.2222222222222222, \"#7201a8\"], [0.3333333333333333, \"#9c179e\"], [0.4444444444444444, \"#bd3786\"], [0.5555555555555556, \"#d8576b\"], [0.6666666666666666, \"#ed7953\"], [0.7777777777777778, \"#fb9f3a\"], [0.8888888888888888, \"#fdca26\"], [1.0, \"#f0f921\"]], \"type\": \"heatmap\"}], \"histogram2dcontour\": [{\"colorbar\": {\"outlinewidth\": 0, \"ticks\": \"\"}, \"colorscale\": [[0.0, \"#0d0887\"], [0.1111111111111111, \"#46039f\"], [0.2222222222222222, \"#7201a8\"], [0.3333333333333333, \"#9c179e\"], [0.4444444444444444, \"#bd3786\"], [0.5555555555555556, \"#d8576b\"], [0.6666666666666666, \"#ed7953\"], [0.7777777777777778, \"#fb9f3a\"], [0.8888888888888888, \"#fdca26\"], [1.0, \"#f0f921\"]], \"type\": \"histogram2dcontour\"}], \"histogram2d\": [{\"colorbar\": {\"outlinewidth\": 0, \"ticks\": \"\"}, \"colorscale\": [[0.0, \"#0d0887\"], [0.1111111111111111, \"#46039f\"], [0.2222222222222222, \"#7201a8\"], [0.3333333333333333, \"#9c179e\"], [0.4444444444444444, \"#bd3786\"], [0.5555555555555556, \"#d8576b\"], [0.6666666666666666, \"#ed7953\"], [0.7777777777777778, \"#fb9f3a\"], [0.8888888888888888, \"#fdca26\"], [1.0, \"#f0f921\"]], \"type\": \"histogram2d\"}], \"histogram\": [{\"marker\": {\"colorbar\": {\"outlinewidth\": 0, \"ticks\": \"\"}}, \"type\": \"histogram\"}], \"mesh3d\": [{\"colorbar\": {\"outlinewidth\": 0, \"ticks\": \"\"}, \"type\": \"mesh3d\"}], \"parcoords\": [{\"line\": {\"colorbar\": {\"outlinewidth\": 0, \"ticks\": \"\"}}, \"type\": \"parcoords\"}], \"scatter3d\": [{\"line\": {\"colorbar\": {\"outlinewidth\": 0, \"ticks\": \"\"}}, \"marker\": {\"colorbar\": {\"outlinewidth\": 0, \"ticks\": \"\"}}, \"type\": \"scatter3d\"}], \"scattercarpet\": [{\"marker\": {\"colorbar\": {\"outlinewidth\": 0, \"ticks\": \"\"}}, \"type\": \"scattercarpet\"}], \"scattergeo\": [{\"marker\": {\"colorbar\": {\"outlinewidth\": 0, \"ticks\": \"\"}}, \"type\": \"scattergeo\"}], \"scattergl\": [{\"marker\": {\"colorbar\": {\"outlinewidth\": 0, \"ticks\": \"\"}}, \"type\": \"scattergl\"}], \"scattermapbox\": [{\"marker\": {\"colorbar\": {\"outlinewidth\": 0, \"ticks\": \"\"}}, \"type\": \"scattermapbox\"}], \"scatterpolargl\": [{\"marker\": {\"colorbar\": {\"outlinewidth\": 0, \"ticks\": \"\"}}, \"type\": \"scatterpolargl\"}], \"scatterpolar\": [{\"marker\": {\"colorbar\": {\"outlinewidth\": 0, \"ticks\": \"\"}}, \"type\": \"scatterpolar\"}], \"scatter\": [{\"marker\": {\"colorbar\": {\"outlinewidth\": 0, \"ticks\": \"\"}}, \"type\": \"scatter\"}], \"scatterternary\": [{\"marker\": {\"colorbar\": {\"outlinewidth\": 0, \"ticks\": \"\"}}, \"type\": \"scatterternary\"}], \"surface\": [{\"colorbar\": {\"outlinewidth\": 0, \"ticks\": \"\"}, \"colorscale\": [[0.0, \"#0d0887\"], [0.1111111111111111, \"#46039f\"], [0.2222222222222222, \"#7201a8\"], [0.3333333333333333, \"#9c179e\"], [0.4444444444444444, \"#bd3786\"], [0.5555555555555556, \"#d8576b\"], [0.6666666666666666, \"#ed7953\"], [0.7777777777777778, \"#fb9f3a\"], [0.8888888888888888, \"#fdca26\"], [1.0, \"#f0f921\"]], \"type\": \"surface\"}], \"table\": [{\"cells\": {\"fill\": {\"color\": \"#EBF0F8\"}, \"line\": {\"color\": \"white\"}}, \"header\": {\"fill\": {\"color\": \"#C8D4E3\"}, \"line\": {\"color\": \"white\"}}, \"type\": \"table\"}]}, \"layout\": {\"annotationdefaults\": {\"arrowcolor\": \"#2a3f5f\", \"arrowhead\": 0, \"arrowwidth\": 1}, \"colorscale\": {\"diverging\": [[0, \"#8e0152\"], [0.1, \"#c51b7d\"], [0.2, \"#de77ae\"], [0.3, \"#f1b6da\"], [0.4, \"#fde0ef\"], [0.5, \"#f7f7f7\"], [0.6, \"#e6f5d0\"], [0.7, \"#b8e186\"], [0.8, \"#7fbc41\"], [0.9, \"#4d9221\"], [1, \"#276419\"]], \"sequential\": [[0.0, \"#0d0887\"], [0.1111111111111111, \"#46039f\"], [0.2222222222222222, \"#7201a8\"], [0.3333333333333333, \"#9c179e\"], [0.4444444444444444, \"#bd3786\"], [0.5555555555555556, \"#d8576b\"], [0.6666666666666666, \"#ed7953\"], [0.7777777777777778, \"#fb9f3a\"], [0.8888888888888888, \"#fdca26\"], [1.0, \"#f0f921\"]], \"sequentialminus\": [[0.0, \"#0d0887\"], [0.1111111111111111, \"#46039f\"], [0.2222222222222222, \"#7201a8\"], [0.3333333333333333, \"#9c179e\"], [0.4444444444444444, \"#bd3786\"], [0.5555555555555556, \"#d8576b\"], [0.6666666666666666, \"#ed7953\"], [0.7777777777777778, \"#fb9f3a\"], [0.8888888888888888, \"#fdca26\"], [1.0, \"#f0f921\"]]}, \"colorway\": [\"#636efa\", \"#EF553B\", \"#00cc96\", \"#ab63fa\", \"#FFA15A\", \"#19d3f3\", \"#FF6692\", \"#B6E880\", \"#FF97FF\", \"#FECB52\"], \"font\": {\"color\": \"#2a3f5f\"}, \"geo\": {\"bgcolor\": \"white\", \"lakecolor\": \"white\", \"landcolor\": \"#E5ECF6\", \"showlakes\": true, \"showland\": true, \"subunitcolor\": \"white\"}, \"hoverlabel\": {\"align\": \"left\"}, \"hovermode\": \"closest\", \"mapbox\": {\"style\": \"light\"}, \"paper_bgcolor\": \"white\", \"plot_bgcolor\": \"#E5ECF6\", \"polar\": {\"angularaxis\": {\"gridcolor\": \"white\", \"linecolor\": \"white\", \"ticks\": \"\"}, \"bgcolor\": \"#E5ECF6\", \"radialaxis\": {\"gridcolor\": \"white\", \"linecolor\": \"white\", \"ticks\": \"\"}}, \"scene\": {\"xaxis\": {\"backgroundcolor\": \"#E5ECF6\", \"gridcolor\": \"white\", \"gridwidth\": 2, \"linecolor\": \"white\", \"showbackground\": true, \"ticks\": \"\", \"zerolinecolor\": \"white\"}, \"yaxis\": {\"backgroundcolor\": \"#E5ECF6\", \"gridcolor\": \"white\", \"gridwidth\": 2, \"linecolor\": \"white\", \"showbackground\": true, \"ticks\": \"\", \"zerolinecolor\": \"white\"}, \"zaxis\": {\"backgroundcolor\": \"#E5ECF6\", \"gridcolor\": \"white\", \"gridwidth\": 2, \"linecolor\": \"white\", \"showbackground\": true, \"ticks\": \"\", \"zerolinecolor\": \"white\"}}, \"shapedefaults\": {\"line\": {\"color\": \"#2a3f5f\"}}, \"ternary\": {\"aaxis\": {\"gridcolor\": \"white\", \"linecolor\": \"white\", \"ticks\": \"\"}, \"baxis\": {\"gridcolor\": \"white\", \"linecolor\": \"white\", \"ticks\": \"\"}, \"bgcolor\": \"#E5ECF6\", \"caxis\": {\"gridcolor\": \"white\", \"linecolor\": \"white\", \"ticks\": \"\"}}, \"title\": {\"x\": 0.05}, \"xaxis\": {\"automargin\": true, \"gridcolor\": \"white\", \"linecolor\": \"white\", \"ticks\": \"\", \"zerolinecolor\": \"white\", \"zerolinewidth\": 2}, \"yaxis\": {\"automargin\": true, \"gridcolor\": \"white\", \"linecolor\": \"white\", \"ticks\": \"\", \"zerolinecolor\": \"white\", \"zerolinewidth\": 2}}}},\n",
       "  {\"showLink\": false}\n",
       ");\n",
       "});</script>"
      ]
     },
     "metadata": {},
     "output_type": "display_data"
    }
   ],
   "source": [
    "# `plot_single_method` expects a 2-d array of means, because it expects to average means from multiple \n",
    "# optimization runs, so we wrap out best objectives array in another array.\n",
    "best_objectives = np.array([[trial.objective_mean*100 for trial in experiment.trials.values()]])\n",
    "best_objective_plot = optimization_trace_single_method(\n",
    "    y=np.maximum.accumulate(best_objectives, axis=1),\n",
    "    title=\"Model performance vs. # of iterations\",\n",
    "    ylabel=\"Classification Accuracy, %\",\n",
    ")\n",
    "render(best_objective_plot)"
   ]
  },
  {
   "cell_type": "markdown",
   "metadata": {},
   "source": [
    "## 6. Train CNN with best hyperparameters and evaluate on test set\n",
    "Note that the resulting accuracy on the test set might not be exactly the same as the maximum accuracy achieved on the evaluation set throughout optimization. "
   ]
  },
  {
   "cell_type": "code",
   "execution_count": 10,
   "metadata": {},
   "outputs": [
    {
     "data": {
      "text/plain": [
       "Arm(name='12_0', parameters={'lr': 0.00024031510672776154, 'momentum': 0.7329926177381657})"
      ]
     },
     "execution_count": 10,
     "metadata": {},
     "output_type": "execute_result"
    }
   ],
   "source": [
    "data = experiment.fetch_data()\n",
    "df = data.df\n",
    "best_arm_name = df.arm_name[df['mean'] == df['mean'].max()].values[0]\n",
    "best_arm = experiment.arms_by_name[best_arm_name]\n",
    "best_arm"
   ]
  },
  {
   "cell_type": "code",
   "execution_count": 11,
   "metadata": {
    "collapsed": true
   },
   "outputs": [],
   "source": [
    "combined_train_valid_set = torch.utils.data.ConcatDataset([\n",
    "    train_loader.dataset.dataset, \n",
    "    valid_loader.dataset.dataset,\n",
    "])\n",
    "combined_train_valid_loader = torch.utils.data.DataLoader(\n",
    "    combined_train_valid_set, \n",
    "    batch_size=BATCH_SIZE, \n",
    "    shuffle=True,\n",
    ")"
   ]
  },
  {
   "cell_type": "code",
   "execution_count": 12,
   "metadata": {
    "collapsed": true
   },
   "outputs": [],
   "source": [
    "net = train(\n",
    "    net=CNN(),\n",
    "    train_loader=combined_train_valid_loader, \n",
    "    parameters=best_arm.parameters,\n",
    "    dtype=dtype,\n",
    "    device=device,\n",
    ")\n",
    "test_accuracy = evaluate(\n",
    "    net=net,\n",
    "    data_loader=test_loader,\n",
    "    dtype=dtype,\n",
    "    device=device,\n",
    ")"
   ]
  },
  {
   "cell_type": "code",
   "execution_count": 13,
   "metadata": {},
   "outputs": [
    {
     "name": "stdout",
     "output_type": "stream",
     "text": [
      "Classification Accuracy (test set): 97.26%\n"
     ]
    }
   ],
   "source": [
    "print(f\"Classification Accuracy (test set): {round(test_accuracy*100, 2)}%\")"
   ]
  }
 ],
 "metadata": {
  "kernelspec": {
   "display_name": "python3",
   "language": "python",
   "name": "python3"
  },
  "language_info": {
   "codemirror_mode": {
    "name": "ipython",
    "version": 3
   },
   "file_extension": ".py",
   "mimetype": "text/x-python",
   "name": "python",
   "nbconvert_exporter": "python",
   "pygments_lexer": "ipython3",
   "version": "3.6.7"
  }
 },
 "nbformat": 4,
 "nbformat_minor": 2
}
