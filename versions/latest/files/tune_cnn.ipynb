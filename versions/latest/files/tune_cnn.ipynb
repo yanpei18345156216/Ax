{
 "cells": [
  {
   "cell_type": "markdown",
   "metadata": {},
   "source": [
    "# Tune a CNN on MNIST\n",
    "\n",
    "This tutorial walks through using Ax to tune two hyperparameters (learning rate and momentum) for a PyTorch CNN on the MNIST dataset trained using SGD with momentum.\n"
   ]
  },
  {
   "cell_type": "code",
   "execution_count": 1,
   "metadata": {},
   "outputs": [
    {
     "data": {
      "text/html": [
       "<script type='text/javascript'>/*\n",
       " * Copyright (c) Facebook, Inc. and its affiliates. All Rights Reserved.\n",
       " */\n",
       "\n",
       "requirejs.config({\n",
       "  paths: {\n",
       "    plotly: ['https://cdn.plot.ly/plotly-latest.min'],\n",
       "  },\n",
       "});\n",
       "if (!window.Plotly) {\n",
       "  require(['plotly'], function(plotly) {\n",
       "    window.Plotly = plotly;\n",
       "  });\n",
       "}\n",
       "/*\n",
       " * Copyright (c) Facebook, Inc. and its affiliates. All Rights Reserved.\n",
       " */\n",
       "\n",
       "// helper functions used across multiple plots\n",
       "function rgb(rgb_array) {\n",
       "  return 'rgb(' + rgb_array.join() + ')';\n",
       "}\n",
       "\n",
       "function copy_and_reverse(arr) {\n",
       "  const copy = arr.slice();\n",
       "  copy.reverse();\n",
       "  return copy;\n",
       "}\n",
       "\n",
       "function axis_range(grid, is_log) {\n",
       "  return is_log\n",
       "    ? [Math.log10(Math.min(...grid)), Math.log10(Math.max(...grid))]\n",
       "    : [Math.min(...grid), Math.max(...grid)];\n",
       "}\n",
       "\n",
       "function relativize_data(f, sd, rel, arm_data, metric) {\n",
       "  // if relative, extract status quo & compute ratio\n",
       "  const f_final = rel === true ? [] : f;\n",
       "  const sd_final = rel === true ? [] : sd;\n",
       "\n",
       "  if (rel === true) {\n",
       "    const f_sq =\n",
       "      arm_data['in_sample'][arm_data['status_quo_name']]['y'][metric];\n",
       "    const sd_sq =\n",
       "      arm_data['in_sample'][arm_data['status_quo_name']]['se'][metric];\n",
       "\n",
       "    for (let i = 0; i < f.length; i++) {\n",
       "      res = relativize(f[i], sd[i], f_sq, sd_sq);\n",
       "      f_final.push(100 * res[0]);\n",
       "      sd_final.push(100 * res[1]);\n",
       "    }\n",
       "  }\n",
       "\n",
       "  return [f_final, sd_final];\n",
       "}\n",
       "\n",
       "function relativize(m_t, sem_t, m_c, sem_c) {\n",
       "  r_hat =\n",
       "    (m_t - m_c) / Math.abs(m_c) -\n",
       "    (Math.pow(sem_c, 2) * m_t) / Math.pow(Math.abs(m_c), 3);\n",
       "  variance =\n",
       "    (Math.pow(sem_t, 2) + Math.pow((m_t / m_c) * sem_c, 2)) / Math.pow(m_c, 2);\n",
       "  return [r_hat, Math.sqrt(variance)];\n",
       "}\n",
       "\n",
       "function slice_config_to_trace(\n",
       "  arm_data,\n",
       "  arm_name_to_parameters,\n",
       "  f,\n",
       "  fit_data,\n",
       "  grid,\n",
       "  metric,\n",
       "  param,\n",
       "  rel,\n",
       "  setx,\n",
       "  sd,\n",
       "  is_log,\n",
       "  visible,\n",
       ") {\n",
       "  // format data\n",
       "  const res = relativize_data(f, sd, rel, arm_data, metric);\n",
       "  const f_final = res[0];\n",
       "  const sd_final = res[1];\n",
       "\n",
       "  // get data for standard deviation fill plot\n",
       "  const sd_upper = [];\n",
       "  const sd_lower = [];\n",
       "  for (let i = 0; i < sd.length; i++) {\n",
       "    sd_upper.push(f_final[i] + 2 * sd_final[i]);\n",
       "    sd_lower.push(f_final[i] - 2 * sd_final[i]);\n",
       "  }\n",
       "  const grid_rev = copy_and_reverse(grid);\n",
       "  const sd_lower_rev = copy_and_reverse(sd_lower);\n",
       "  const sd_x = grid.concat(grid_rev);\n",
       "  const sd_y = sd_upper.concat(sd_lower_rev);\n",
       "\n",
       "  // get data for observed arms and error bars\n",
       "  const arm_x = [];\n",
       "  const arm_y = [];\n",
       "  const arm_sem = [];\n",
       "  fit_data.forEach(row => {\n",
       "    parameters = arm_name_to_parameters[row['arm_name']];\n",
       "    plot = true;\n",
       "    Object.keys(setx).forEach(p => {\n",
       "      if (p !== param && parameters[p] !== setx[p]) {\n",
       "        plot = false;\n",
       "      }\n",
       "    });\n",
       "    if (plot === true) {\n",
       "      arm_x.push(parameters[param]);\n",
       "      arm_y.push(row['mean']);\n",
       "      arm_sem.push(row['sem']);\n",
       "    }\n",
       "  });\n",
       "\n",
       "  const arm_res = relativize_data(arm_y, arm_sem, rel, arm_data, metric);\n",
       "  const arm_y_final = arm_res[0];\n",
       "  const arm_sem_final = arm_res[1].map(x => x * 2);\n",
       "\n",
       "  // create traces\n",
       "  const f_trace = {\n",
       "    x: grid,\n",
       "    y: f_final,\n",
       "    showlegend: false,\n",
       "    hoverinfo: 'x+y',\n",
       "    line: {\n",
       "      color: 'rgba(128, 177, 211, 1)',\n",
       "    },\n",
       "    visible: visible,\n",
       "  };\n",
       "\n",
       "  const arms_trace = {\n",
       "    x: arm_x,\n",
       "    y: arm_y_final,\n",
       "    mode: 'markers',\n",
       "    error_y: {\n",
       "      type: 'data',\n",
       "      array: arm_sem_final,\n",
       "      visible: true,\n",
       "      color: 'black',\n",
       "    },\n",
       "    line: {\n",
       "      color: 'black',\n",
       "    },\n",
       "    showlegend: false,\n",
       "    hoverinfo: 'x+y',\n",
       "    visible: visible,\n",
       "  };\n",
       "\n",
       "  const sd_trace = {\n",
       "    x: sd_x,\n",
       "    y: sd_y,\n",
       "    fill: 'toself',\n",
       "    fillcolor: 'rgba(128, 177, 211, 0.2)',\n",
       "    line: {\n",
       "      color: 'transparent',\n",
       "    },\n",
       "    showlegend: false,\n",
       "    hoverinfo: 'none',\n",
       "    visible: visible,\n",
       "  };\n",
       "\n",
       "  traces = [sd_trace, f_trace, arms_trace];\n",
       "\n",
       "  // iterate over out-of-sample arms\n",
       "  let i = 1;\n",
       "  Object.keys(arm_data['out_of_sample']).forEach(generator_run_name => {\n",
       "    const ax = [];\n",
       "    const ay = [];\n",
       "    const asem = [];\n",
       "    const atext = [];\n",
       "\n",
       "    Object.keys(arm_data['out_of_sample'][generator_run_name]).forEach(\n",
       "      arm_name => {\n",
       "        const parameters =\n",
       "          arm_data['out_of_sample'][generator_run_name][arm_name]['parameters'];\n",
       "        plot = true;\n",
       "        Object.keys(setx).forEach(p => {\n",
       "          if (p !== param && parameters[p] !== setx[p]) {\n",
       "            plot = false;\n",
       "          }\n",
       "        });\n",
       "        if (plot === true) {\n",
       "          ax.push(parameters[param]);\n",
       "          ay.push(\n",
       "            arm_data['out_of_sample'][generator_run_name][arm_name]['y_hat'][\n",
       "              metric\n",
       "            ],\n",
       "          );\n",
       "          asem.push(\n",
       "            arm_data['out_of_sample'][generator_run_name][arm_name]['se_hat'][\n",
       "              metric\n",
       "            ],\n",
       "          );\n",
       "          atext.push('<em>Candidate ' + arm_name + '</em>');\n",
       "        }\n",
       "      },\n",
       "    );\n",
       "\n",
       "    const out_of_sample_arm_res = relativize_data(\n",
       "      ay,\n",
       "      asem,\n",
       "      rel,\n",
       "      arm_data,\n",
       "      metric,\n",
       "    );\n",
       "    const ay_final = out_of_sample_arm_res[0];\n",
       "    const asem_final = out_of_sample_arm_res[1].map(x => x * 2);\n",
       "\n",
       "    traces.push({\n",
       "      hoverinfo: 'text',\n",
       "      legendgroup: generator_run_name,\n",
       "      marker: {color: 'black', symbol: i, opacity: 0.5},\n",
       "      mode: 'markers',\n",
       "      error_y: {\n",
       "        type: 'data',\n",
       "        array: asem_final,\n",
       "        visible: true,\n",
       "        color: 'black',\n",
       "      },\n",
       "      name: generator_run_name,\n",
       "      text: atext,\n",
       "      type: 'scatter',\n",
       "      xaxis: 'x',\n",
       "      x: ax,\n",
       "      yaxis: 'y',\n",
       "      y: ay_final,\n",
       "      visible: visible,\n",
       "    });\n",
       "\n",
       "    i += 1;\n",
       "  });\n",
       "  return traces;\n",
       "}\n",
       "</script>"
      ]
     },
     "metadata": {},
     "output_type": "display_data"
    },
    {
     "name": "stderr",
     "output_type": "stream",
     "text": [
      "[INFO 08-21 06:41:52] ipy_plotting: Injecting Plotly library into cell. Do not overwrite or delete cell.\n"
     ]
    }
   ],
   "source": [
    "import torch\n",
    "import numpy as np\n",
    "\n",
    "from ax.plot.contour import plot_contour\n",
    "from ax.plot.trace import optimization_trace_single_method\n",
    "from ax.service.managed_loop import optimize\n",
    "from ax.utils.notebook.plotting import render, init_notebook_plotting\n",
    "from ax.utils.tutorials.cnn_utils import load_mnist, train, evaluate, CNN\n",
    "\n",
    "init_notebook_plotting()"
   ]
  },
  {
   "cell_type": "code",
   "execution_count": 2,
   "metadata": {
    "collapsed": true
   },
   "outputs": [],
   "source": [
    "torch.manual_seed(12345)\n",
    "dtype = torch.float\n",
    "device = torch.device(\"cuda\" if torch.cuda.is_available() else \"cpu\")"
   ]
  },
  {
   "cell_type": "markdown",
   "metadata": {},
   "source": [
    "## 1. Load MNIST data\n",
    "First, we need to load the MNIST data and partition it into training, validation, and test sets.\n",
    "\n",
    "Note: this will download the dataset if necessary."
   ]
  },
  {
   "cell_type": "code",
   "execution_count": 3,
   "metadata": {
    "scrolled": true
   },
   "outputs": [
    {
     "name": "stdout",
     "output_type": "stream",
     "text": [
      "Downloading http://yann.lecun.com/exdb/mnist/train-images-idx3-ubyte.gz to ./data/MNIST/raw/train-images-idx3-ubyte.gz\n"
     ]
    },
    {
     "name": "stderr",
     "output_type": "stream",
     "text": [
      "\r",
      "0.0%"
     ]
    },
    {
     "name": "stderr",
     "output_type": "stream",
     "text": [
      "\r",
      "0.1%"
     ]
    },
    {
     "name": "stderr",
     "output_type": "stream",
     "text": [
      "\r",
      "0.2%"
     ]
    },
    {
     "name": "stderr",
     "output_type": "stream",
     "text": [
      "\r",
      "0.2%"
     ]
    },
    {
     "name": "stderr",
     "output_type": "stream",
     "text": [
      "\r",
      "0.3%"
     ]
    },
    {
     "name": "stderr",
     "output_type": "stream",
     "text": [
      "\r",
      "0.4%"
     ]
    },
    {
     "name": "stderr",
     "output_type": "stream",
     "text": [
      "\r",
      "0.5%"
     ]
    },
    {
     "name": "stderr",
     "output_type": "stream",
     "text": [
      "\r",
      "0.6%"
     ]
    },
    {
     "name": "stderr",
     "output_type": "stream",
     "text": [
      "\r",
      "0.7%"
     ]
    },
    {
     "name": "stderr",
     "output_type": "stream",
     "text": [
      "\r",
      "0.7%"
     ]
    },
    {
     "name": "stderr",
     "output_type": "stream",
     "text": [
      "\r",
      "0.8%"
     ]
    },
    {
     "name": "stderr",
     "output_type": "stream",
     "text": [
      "\r",
      "0.9%"
     ]
    },
    {
     "name": "stderr",
     "output_type": "stream",
     "text": [
      "\r",
      "1.0%"
     ]
    },
    {
     "name": "stderr",
     "output_type": "stream",
     "text": [
      "\r",
      "1.1%"
     ]
    },
    {
     "name": "stderr",
     "output_type": "stream",
     "text": [
      "\r",
      "1.2%"
     ]
    },
    {
     "name": "stderr",
     "output_type": "stream",
     "text": [
      "\r",
      "1.2%"
     ]
    },
    {
     "name": "stderr",
     "output_type": "stream",
     "text": [
      "\r",
      "1.3%"
     ]
    },
    {
     "name": "stderr",
     "output_type": "stream",
     "text": [
      "\r",
      "1.4%"
     ]
    },
    {
     "name": "stderr",
     "output_type": "stream",
     "text": [
      "\r",
      "1.5%"
     ]
    },
    {
     "name": "stderr",
     "output_type": "stream",
     "text": [
      "\r",
      "1.6%"
     ]
    },
    {
     "name": "stderr",
     "output_type": "stream",
     "text": [
      "\r",
      "1.7%"
     ]
    },
    {
     "name": "stderr",
     "output_type": "stream",
     "text": [
      "\r",
      "1.7%"
     ]
    },
    {
     "name": "stderr",
     "output_type": "stream",
     "text": [
      "\r",
      "1.8%"
     ]
    },
    {
     "name": "stderr",
     "output_type": "stream",
     "text": [
      "\r",
      "1.9%"
     ]
    },
    {
     "name": "stderr",
     "output_type": "stream",
     "text": [
      "\r",
      "2.0%"
     ]
    },
    {
     "name": "stderr",
     "output_type": "stream",
     "text": [
      "\r",
      "2.1%"
     ]
    },
    {
     "name": "stderr",
     "output_type": "stream",
     "text": [
      "\r",
      "2.1%"
     ]
    },
    {
     "name": "stderr",
     "output_type": "stream",
     "text": [
      "\r",
      "2.2%"
     ]
    },
    {
     "name": "stderr",
     "output_type": "stream",
     "text": [
      "\r",
      "2.3%"
     ]
    },
    {
     "name": "stderr",
     "output_type": "stream",
     "text": [
      "\r",
      "2.4%"
     ]
    },
    {
     "name": "stderr",
     "output_type": "stream",
     "text": [
      "\r",
      "2.5%"
     ]
    },
    {
     "name": "stderr",
     "output_type": "stream",
     "text": [
      "\r",
      "2.6%"
     ]
    },
    {
     "name": "stderr",
     "output_type": "stream",
     "text": [
      "\r",
      "2.6%"
     ]
    },
    {
     "name": "stderr",
     "output_type": "stream",
     "text": [
      "\r",
      "2.7%"
     ]
    },
    {
     "name": "stderr",
     "output_type": "stream",
     "text": [
      "\r",
      "2.8%"
     ]
    },
    {
     "name": "stderr",
     "output_type": "stream",
     "text": [
      "\r",
      "2.9%"
     ]
    },
    {
     "name": "stderr",
     "output_type": "stream",
     "text": [
      "\r",
      "3.0%"
     ]
    },
    {
     "name": "stderr",
     "output_type": "stream",
     "text": [
      "\r",
      "3.1%"
     ]
    },
    {
     "name": "stderr",
     "output_type": "stream",
     "text": [
      "\r",
      "3.1%"
     ]
    },
    {
     "name": "stderr",
     "output_type": "stream",
     "text": [
      "\r",
      "3.2%"
     ]
    },
    {
     "name": "stderr",
     "output_type": "stream",
     "text": [
      "\r",
      "3.3%"
     ]
    },
    {
     "name": "stderr",
     "output_type": "stream",
     "text": [
      "\r",
      "3.4%"
     ]
    },
    {
     "name": "stderr",
     "output_type": "stream",
     "text": [
      "\r",
      "3.5%"
     ]
    },
    {
     "name": "stderr",
     "output_type": "stream",
     "text": [
      "\r",
      "3.6%"
     ]
    },
    {
     "name": "stderr",
     "output_type": "stream",
     "text": [
      "\r",
      "3.6%"
     ]
    },
    {
     "name": "stderr",
     "output_type": "stream",
     "text": [
      "\r",
      "3.7%"
     ]
    },
    {
     "name": "stderr",
     "output_type": "stream",
     "text": [
      "\r",
      "3.8%"
     ]
    },
    {
     "name": "stderr",
     "output_type": "stream",
     "text": [
      "\r",
      "3.9%"
     ]
    },
    {
     "name": "stderr",
     "output_type": "stream",
     "text": [
      "\r",
      "4.0%"
     ]
    },
    {
     "name": "stderr",
     "output_type": "stream",
     "text": [
      "\r",
      "4.0%"
     ]
    },
    {
     "name": "stderr",
     "output_type": "stream",
     "text": [
      "\r",
      "4.1%"
     ]
    },
    {
     "name": "stderr",
     "output_type": "stream",
     "text": [
      "\r",
      "4.2%"
     ]
    },
    {
     "name": "stderr",
     "output_type": "stream",
     "text": [
      "\r",
      "4.3%"
     ]
    },
    {
     "name": "stderr",
     "output_type": "stream",
     "text": [
      "\r",
      "4.4%"
     ]
    },
    {
     "name": "stderr",
     "output_type": "stream",
     "text": [
      "\r",
      "4.5%"
     ]
    },
    {
     "name": "stderr",
     "output_type": "stream",
     "text": [
      "\r",
      "4.5%"
     ]
    },
    {
     "name": "stderr",
     "output_type": "stream",
     "text": [
      "\r",
      "4.6%"
     ]
    },
    {
     "name": "stderr",
     "output_type": "stream",
     "text": [
      "\r",
      "4.7%"
     ]
    },
    {
     "name": "stderr",
     "output_type": "stream",
     "text": [
      "\r",
      "4.8%"
     ]
    },
    {
     "name": "stderr",
     "output_type": "stream",
     "text": [
      "\r",
      "4.9%"
     ]
    },
    {
     "name": "stderr",
     "output_type": "stream",
     "text": [
      "\r",
      "5.0%"
     ]
    },
    {
     "name": "stderr",
     "output_type": "stream",
     "text": [
      "\r",
      "5.0%"
     ]
    },
    {
     "name": "stderr",
     "output_type": "stream",
     "text": [
      "\r",
      "5.1%"
     ]
    },
    {
     "name": "stderr",
     "output_type": "stream",
     "text": [
      "\r",
      "5.2%"
     ]
    },
    {
     "name": "stderr",
     "output_type": "stream",
     "text": [
      "\r",
      "5.3%"
     ]
    },
    {
     "name": "stderr",
     "output_type": "stream",
     "text": [
      "\r",
      "5.4%"
     ]
    },
    {
     "name": "stderr",
     "output_type": "stream",
     "text": [
      "\r",
      "5.5%"
     ]
    },
    {
     "name": "stderr",
     "output_type": "stream",
     "text": [
      "\r",
      "5.5%"
     ]
    },
    {
     "name": "stderr",
     "output_type": "stream",
     "text": [
      "\r",
      "5.6%"
     ]
    },
    {
     "name": "stderr",
     "output_type": "stream",
     "text": [
      "\r",
      "5.7%"
     ]
    },
    {
     "name": "stderr",
     "output_type": "stream",
     "text": [
      "\r",
      "5.8%"
     ]
    },
    {
     "name": "stderr",
     "output_type": "stream",
     "text": [
      "\r",
      "5.9%"
     ]
    },
    {
     "name": "stderr",
     "output_type": "stream",
     "text": [
      "\r",
      "6.0%"
     ]
    },
    {
     "name": "stderr",
     "output_type": "stream",
     "text": [
      "\r",
      "6.0%"
     ]
    },
    {
     "name": "stderr",
     "output_type": "stream",
     "text": [
      "\r",
      "6.1%"
     ]
    },
    {
     "name": "stderr",
     "output_type": "stream",
     "text": [
      "\r",
      "6.2%"
     ]
    },
    {
     "name": "stderr",
     "output_type": "stream",
     "text": [
      "\r",
      "6.3%"
     ]
    },
    {
     "name": "stderr",
     "output_type": "stream",
     "text": [
      "\r",
      "6.4%"
     ]
    },
    {
     "name": "stderr",
     "output_type": "stream",
     "text": [
      "\r",
      "6.4%"
     ]
    },
    {
     "name": "stderr",
     "output_type": "stream",
     "text": [
      "\r",
      "6.5%"
     ]
    },
    {
     "name": "stderr",
     "output_type": "stream",
     "text": [
      "\r",
      "6.6%"
     ]
    },
    {
     "name": "stderr",
     "output_type": "stream",
     "text": [
      "\r",
      "6.7%"
     ]
    },
    {
     "name": "stderr",
     "output_type": "stream",
     "text": [
      "\r",
      "6.8%"
     ]
    },
    {
     "name": "stderr",
     "output_type": "stream",
     "text": [
      "\r",
      "6.9%"
     ]
    },
    {
     "name": "stderr",
     "output_type": "stream",
     "text": [
      "\r",
      "6.9%"
     ]
    },
    {
     "name": "stderr",
     "output_type": "stream",
     "text": [
      "\r",
      "7.0%"
     ]
    },
    {
     "name": "stderr",
     "output_type": "stream",
     "text": [
      "\r",
      "7.1%"
     ]
    },
    {
     "name": "stderr",
     "output_type": "stream",
     "text": [
      "\r",
      "7.2%"
     ]
    },
    {
     "name": "stderr",
     "output_type": "stream",
     "text": [
      "\r",
      "7.3%"
     ]
    },
    {
     "name": "stderr",
     "output_type": "stream",
     "text": [
      "\r",
      "7.4%"
     ]
    },
    {
     "name": "stderr",
     "output_type": "stream",
     "text": [
      "\r",
      "7.4%"
     ]
    },
    {
     "name": "stderr",
     "output_type": "stream",
     "text": [
      "\r",
      "7.5%"
     ]
    },
    {
     "name": "stderr",
     "output_type": "stream",
     "text": [
      "\r",
      "7.6%"
     ]
    },
    {
     "name": "stderr",
     "output_type": "stream",
     "text": [
      "\r",
      "7.7%"
     ]
    },
    {
     "name": "stderr",
     "output_type": "stream",
     "text": [
      "\r",
      "7.8%"
     ]
    },
    {
     "name": "stderr",
     "output_type": "stream",
     "text": [
      "\r",
      "7.9%"
     ]
    },
    {
     "name": "stderr",
     "output_type": "stream",
     "text": [
      "\r",
      "7.9%"
     ]
    },
    {
     "name": "stderr",
     "output_type": "stream",
     "text": [
      "\r",
      "8.0%"
     ]
    },
    {
     "name": "stderr",
     "output_type": "stream",
     "text": [
      "\r",
      "8.1%"
     ]
    },
    {
     "name": "stderr",
     "output_type": "stream",
     "text": [
      "\r",
      "8.2%"
     ]
    },
    {
     "name": "stderr",
     "output_type": "stream",
     "text": [
      "\r",
      "8.3%"
     ]
    },
    {
     "name": "stderr",
     "output_type": "stream",
     "text": [
      "\r",
      "8.3%"
     ]
    },
    {
     "name": "stderr",
     "output_type": "stream",
     "text": [
      "\r",
      "8.4%"
     ]
    },
    {
     "name": "stderr",
     "output_type": "stream",
     "text": [
      "\r",
      "8.5%"
     ]
    },
    {
     "name": "stderr",
     "output_type": "stream",
     "text": [
      "\r",
      "8.6%"
     ]
    },
    {
     "name": "stderr",
     "output_type": "stream",
     "text": [
      "\r",
      "8.7%"
     ]
    },
    {
     "name": "stderr",
     "output_type": "stream",
     "text": [
      "\r",
      "8.8%"
     ]
    },
    {
     "name": "stderr",
     "output_type": "stream",
     "text": [
      "\r",
      "8.8%"
     ]
    },
    {
     "name": "stderr",
     "output_type": "stream",
     "text": [
      "\r",
      "8.9%"
     ]
    },
    {
     "name": "stderr",
     "output_type": "stream",
     "text": [
      "\r",
      "9.0%"
     ]
    },
    {
     "name": "stderr",
     "output_type": "stream",
     "text": [
      "\r",
      "9.1%"
     ]
    },
    {
     "name": "stderr",
     "output_type": "stream",
     "text": [
      "\r",
      "9.2%"
     ]
    },
    {
     "name": "stderr",
     "output_type": "stream",
     "text": [
      "\r",
      "9.3%"
     ]
    },
    {
     "name": "stderr",
     "output_type": "stream",
     "text": [
      "\r",
      "9.3%"
     ]
    },
    {
     "name": "stderr",
     "output_type": "stream",
     "text": [
      "\r",
      "9.4%"
     ]
    },
    {
     "name": "stderr",
     "output_type": "stream",
     "text": [
      "\r",
      "9.5%"
     ]
    },
    {
     "name": "stderr",
     "output_type": "stream",
     "text": [
      "\r",
      "9.6%"
     ]
    },
    {
     "name": "stderr",
     "output_type": "stream",
     "text": [
      "\r",
      "9.7%"
     ]
    },
    {
     "name": "stderr",
     "output_type": "stream",
     "text": [
      "\r",
      "9.8%"
     ]
    },
    {
     "name": "stderr",
     "output_type": "stream",
     "text": [
      "\r",
      "9.8%"
     ]
    },
    {
     "name": "stderr",
     "output_type": "stream",
     "text": [
      "\r",
      "9.9%"
     ]
    },
    {
     "name": "stderr",
     "output_type": "stream",
     "text": [
      "\r",
      "10.0%"
     ]
    },
    {
     "name": "stderr",
     "output_type": "stream",
     "text": [
      "\r",
      "10.1%"
     ]
    },
    {
     "name": "stderr",
     "output_type": "stream",
     "text": [
      "\r",
      "10.2%"
     ]
    },
    {
     "name": "stderr",
     "output_type": "stream",
     "text": [
      "\r",
      "10.2%"
     ]
    },
    {
     "name": "stderr",
     "output_type": "stream",
     "text": [
      "\r",
      "10.3%"
     ]
    },
    {
     "name": "stderr",
     "output_type": "stream",
     "text": [
      "\r",
      "10.4%"
     ]
    },
    {
     "name": "stderr",
     "output_type": "stream",
     "text": [
      "\r",
      "10.5%"
     ]
    },
    {
     "name": "stderr",
     "output_type": "stream",
     "text": [
      "\r",
      "10.6%"
     ]
    },
    {
     "name": "stderr",
     "output_type": "stream",
     "text": [
      "\r",
      "10.7%"
     ]
    },
    {
     "name": "stderr",
     "output_type": "stream",
     "text": [
      "\r",
      "10.7%"
     ]
    },
    {
     "name": "stderr",
     "output_type": "stream",
     "text": [
      "\r",
      "10.8%"
     ]
    },
    {
     "name": "stderr",
     "output_type": "stream",
     "text": [
      "\r",
      "10.9%"
     ]
    },
    {
     "name": "stderr",
     "output_type": "stream",
     "text": [
      "\r",
      "11.0%"
     ]
    },
    {
     "name": "stderr",
     "output_type": "stream",
     "text": [
      "\r",
      "11.1%"
     ]
    },
    {
     "name": "stderr",
     "output_type": "stream",
     "text": [
      "\r",
      "11.2%"
     ]
    },
    {
     "name": "stderr",
     "output_type": "stream",
     "text": [
      "\r",
      "11.2%"
     ]
    },
    {
     "name": "stderr",
     "output_type": "stream",
     "text": [
      "\r",
      "11.3%"
     ]
    },
    {
     "name": "stderr",
     "output_type": "stream",
     "text": [
      "\r",
      "11.4%"
     ]
    },
    {
     "name": "stderr",
     "output_type": "stream",
     "text": [
      "\r",
      "11.5%"
     ]
    },
    {
     "name": "stderr",
     "output_type": "stream",
     "text": [
      "\r",
      "11.6%"
     ]
    },
    {
     "name": "stderr",
     "output_type": "stream",
     "text": [
      "\r",
      "11.7%"
     ]
    },
    {
     "name": "stderr",
     "output_type": "stream",
     "text": [
      "\r",
      "11.7%"
     ]
    },
    {
     "name": "stderr",
     "output_type": "stream",
     "text": [
      "\r",
      "11.8%"
     ]
    },
    {
     "name": "stderr",
     "output_type": "stream",
     "text": [
      "\r",
      "11.9%"
     ]
    },
    {
     "name": "stderr",
     "output_type": "stream",
     "text": [
      "\r",
      "12.0%"
     ]
    },
    {
     "name": "stderr",
     "output_type": "stream",
     "text": [
      "\r",
      "12.1%"
     ]
    },
    {
     "name": "stderr",
     "output_type": "stream",
     "text": [
      "\r",
      "12.1%"
     ]
    },
    {
     "name": "stderr",
     "output_type": "stream",
     "text": [
      "\r",
      "12.2%"
     ]
    },
    {
     "name": "stderr",
     "output_type": "stream",
     "text": [
      "\r",
      "12.3%"
     ]
    },
    {
     "name": "stderr",
     "output_type": "stream",
     "text": [
      "\r",
      "12.4%"
     ]
    },
    {
     "name": "stderr",
     "output_type": "stream",
     "text": [
      "\r",
      "12.5%"
     ]
    },
    {
     "name": "stderr",
     "output_type": "stream",
     "text": [
      "\r",
      "12.6%"
     ]
    },
    {
     "name": "stderr",
     "output_type": "stream",
     "text": [
      "\r",
      "12.6%"
     ]
    },
    {
     "name": "stderr",
     "output_type": "stream",
     "text": [
      "\r",
      "12.7%"
     ]
    },
    {
     "name": "stderr",
     "output_type": "stream",
     "text": [
      "\r",
      "12.8%"
     ]
    },
    {
     "name": "stderr",
     "output_type": "stream",
     "text": [
      "\r",
      "12.9%"
     ]
    },
    {
     "name": "stderr",
     "output_type": "stream",
     "text": [
      "\r",
      "13.0%"
     ]
    },
    {
     "name": "stderr",
     "output_type": "stream",
     "text": [
      "\r",
      "13.1%"
     ]
    },
    {
     "name": "stderr",
     "output_type": "stream",
     "text": [
      "\r",
      "13.1%"
     ]
    },
    {
     "name": "stderr",
     "output_type": "stream",
     "text": [
      "\r",
      "13.2%"
     ]
    },
    {
     "name": "stderr",
     "output_type": "stream",
     "text": [
      "\r",
      "13.3%"
     ]
    },
    {
     "name": "stderr",
     "output_type": "stream",
     "text": [
      "\r",
      "13.4%"
     ]
    },
    {
     "name": "stderr",
     "output_type": "stream",
     "text": [
      "\r",
      "13.5%"
     ]
    },
    {
     "name": "stderr",
     "output_type": "stream",
     "text": [
      "\r",
      "13.6%"
     ]
    },
    {
     "name": "stderr",
     "output_type": "stream",
     "text": [
      "\r",
      "13.6%"
     ]
    },
    {
     "name": "stderr",
     "output_type": "stream",
     "text": [
      "\r",
      "13.7%"
     ]
    },
    {
     "name": "stderr",
     "output_type": "stream",
     "text": [
      "\r",
      "13.8%"
     ]
    },
    {
     "name": "stderr",
     "output_type": "stream",
     "text": [
      "\r",
      "13.9%"
     ]
    },
    {
     "name": "stderr",
     "output_type": "stream",
     "text": [
      "\r",
      "14.0%"
     ]
    },
    {
     "name": "stderr",
     "output_type": "stream",
     "text": [
      "\r",
      "14.0%"
     ]
    },
    {
     "name": "stderr",
     "output_type": "stream",
     "text": [
      "\r",
      "14.1%"
     ]
    },
    {
     "name": "stderr",
     "output_type": "stream",
     "text": [
      "\r",
      "14.2%"
     ]
    },
    {
     "name": "stderr",
     "output_type": "stream",
     "text": [
      "\r",
      "14.3%"
     ]
    },
    {
     "name": "stderr",
     "output_type": "stream",
     "text": [
      "\r",
      "14.4%"
     ]
    },
    {
     "name": "stderr",
     "output_type": "stream",
     "text": [
      "\r",
      "14.5%"
     ]
    },
    {
     "name": "stderr",
     "output_type": "stream",
     "text": [
      "\r",
      "14.5%"
     ]
    },
    {
     "name": "stderr",
     "output_type": "stream",
     "text": [
      "\r",
      "14.6%"
     ]
    },
    {
     "name": "stderr",
     "output_type": "stream",
     "text": [
      "\r",
      "14.7%"
     ]
    },
    {
     "name": "stderr",
     "output_type": "stream",
     "text": [
      "\r",
      "14.8%"
     ]
    },
    {
     "name": "stderr",
     "output_type": "stream",
     "text": [
      "\r",
      "14.9%"
     ]
    },
    {
     "name": "stderr",
     "output_type": "stream",
     "text": [
      "\r",
      "15.0%"
     ]
    },
    {
     "name": "stderr",
     "output_type": "stream",
     "text": [
      "\r",
      "15.0%"
     ]
    },
    {
     "name": "stderr",
     "output_type": "stream",
     "text": [
      "\r",
      "15.1%"
     ]
    },
    {
     "name": "stderr",
     "output_type": "stream",
     "text": [
      "\r",
      "15.2%"
     ]
    },
    {
     "name": "stderr",
     "output_type": "stream",
     "text": [
      "\r",
      "15.3%"
     ]
    },
    {
     "name": "stderr",
     "output_type": "stream",
     "text": [
      "\r",
      "15.4%"
     ]
    },
    {
     "name": "stderr",
     "output_type": "stream",
     "text": [
      "\r",
      "15.5%"
     ]
    },
    {
     "name": "stderr",
     "output_type": "stream",
     "text": [
      "\r",
      "15.5%"
     ]
    },
    {
     "name": "stderr",
     "output_type": "stream",
     "text": [
      "\r",
      "15.6%"
     ]
    },
    {
     "name": "stderr",
     "output_type": "stream",
     "text": [
      "\r",
      "15.7%"
     ]
    },
    {
     "name": "stderr",
     "output_type": "stream",
     "text": [
      "\r",
      "15.8%"
     ]
    },
    {
     "name": "stderr",
     "output_type": "stream",
     "text": [
      "\r",
      "15.9%"
     ]
    },
    {
     "name": "stderr",
     "output_type": "stream",
     "text": [
      "\r",
      "16.0%"
     ]
    },
    {
     "name": "stderr",
     "output_type": "stream",
     "text": [
      "\r",
      "16.0%"
     ]
    },
    {
     "name": "stderr",
     "output_type": "stream",
     "text": [
      "\r",
      "16.1%"
     ]
    },
    {
     "name": "stderr",
     "output_type": "stream",
     "text": [
      "\r",
      "16.2%"
     ]
    },
    {
     "name": "stderr",
     "output_type": "stream",
     "text": [
      "\r",
      "16.3%"
     ]
    },
    {
     "name": "stderr",
     "output_type": "stream",
     "text": [
      "\r",
      "16.4%"
     ]
    },
    {
     "name": "stderr",
     "output_type": "stream",
     "text": [
      "\r",
      "16.4%"
     ]
    },
    {
     "name": "stderr",
     "output_type": "stream",
     "text": [
      "\r",
      "16.5%"
     ]
    },
    {
     "name": "stderr",
     "output_type": "stream",
     "text": [
      "\r",
      "16.6%"
     ]
    },
    {
     "name": "stderr",
     "output_type": "stream",
     "text": [
      "\r",
      "16.7%"
     ]
    },
    {
     "name": "stderr",
     "output_type": "stream",
     "text": [
      "\r",
      "16.8%"
     ]
    },
    {
     "name": "stderr",
     "output_type": "stream",
     "text": [
      "\r",
      "16.9%"
     ]
    },
    {
     "name": "stderr",
     "output_type": "stream",
     "text": [
      "\r",
      "16.9%"
     ]
    },
    {
     "name": "stderr",
     "output_type": "stream",
     "text": [
      "\r",
      "17.0%"
     ]
    },
    {
     "name": "stderr",
     "output_type": "stream",
     "text": [
      "\r",
      "17.1%"
     ]
    },
    {
     "name": "stderr",
     "output_type": "stream",
     "text": [
      "\r",
      "17.2%"
     ]
    },
    {
     "name": "stderr",
     "output_type": "stream",
     "text": [
      "\r",
      "17.3%"
     ]
    },
    {
     "name": "stderr",
     "output_type": "stream",
     "text": [
      "\r",
      "17.4%"
     ]
    },
    {
     "name": "stderr",
     "output_type": "stream",
     "text": [
      "\r",
      "17.4%"
     ]
    },
    {
     "name": "stderr",
     "output_type": "stream",
     "text": [
      "\r",
      "17.5%"
     ]
    },
    {
     "name": "stderr",
     "output_type": "stream",
     "text": [
      "\r",
      "17.6%"
     ]
    },
    {
     "name": "stderr",
     "output_type": "stream",
     "text": [
      "\r",
      "17.7%"
     ]
    },
    {
     "name": "stderr",
     "output_type": "stream",
     "text": [
      "\r",
      "17.8%"
     ]
    },
    {
     "name": "stderr",
     "output_type": "stream",
     "text": [
      "\r",
      "17.9%"
     ]
    },
    {
     "name": "stderr",
     "output_type": "stream",
     "text": [
      "\r",
      "17.9%"
     ]
    },
    {
     "name": "stderr",
     "output_type": "stream",
     "text": [
      "\r",
      "18.0%"
     ]
    },
    {
     "name": "stderr",
     "output_type": "stream",
     "text": [
      "\r",
      "18.1%"
     ]
    },
    {
     "name": "stderr",
     "output_type": "stream",
     "text": [
      "\r",
      "18.2%"
     ]
    },
    {
     "name": "stderr",
     "output_type": "stream",
     "text": [
      "\r",
      "18.3%"
     ]
    },
    {
     "name": "stderr",
     "output_type": "stream",
     "text": [
      "\r",
      "18.3%"
     ]
    },
    {
     "name": "stderr",
     "output_type": "stream",
     "text": [
      "\r",
      "18.4%"
     ]
    },
    {
     "name": "stderr",
     "output_type": "stream",
     "text": [
      "\r",
      "18.5%"
     ]
    },
    {
     "name": "stderr",
     "output_type": "stream",
     "text": [
      "\r",
      "18.6%"
     ]
    },
    {
     "name": "stderr",
     "output_type": "stream",
     "text": [
      "\r",
      "18.7%"
     ]
    },
    {
     "name": "stderr",
     "output_type": "stream",
     "text": [
      "\r",
      "18.8%"
     ]
    },
    {
     "name": "stderr",
     "output_type": "stream",
     "text": [
      "\r",
      "18.8%"
     ]
    },
    {
     "name": "stderr",
     "output_type": "stream",
     "text": [
      "\r",
      "18.9%"
     ]
    },
    {
     "name": "stderr",
     "output_type": "stream",
     "text": [
      "\r",
      "19.0%"
     ]
    },
    {
     "name": "stderr",
     "output_type": "stream",
     "text": [
      "\r",
      "19.1%"
     ]
    },
    {
     "name": "stderr",
     "output_type": "stream",
     "text": [
      "\r",
      "19.2%"
     ]
    },
    {
     "name": "stderr",
     "output_type": "stream",
     "text": [
      "\r",
      "19.3%"
     ]
    },
    {
     "name": "stderr",
     "output_type": "stream",
     "text": [
      "\r",
      "19.3%"
     ]
    },
    {
     "name": "stderr",
     "output_type": "stream",
     "text": [
      "\r",
      "19.4%"
     ]
    },
    {
     "name": "stderr",
     "output_type": "stream",
     "text": [
      "\r",
      "19.5%"
     ]
    },
    {
     "name": "stderr",
     "output_type": "stream",
     "text": [
      "\r",
      "19.6%"
     ]
    },
    {
     "name": "stderr",
     "output_type": "stream",
     "text": [
      "\r",
      "19.7%"
     ]
    },
    {
     "name": "stderr",
     "output_type": "stream",
     "text": [
      "\r",
      "19.8%"
     ]
    },
    {
     "name": "stderr",
     "output_type": "stream",
     "text": [
      "\r",
      "19.8%"
     ]
    },
    {
     "name": "stderr",
     "output_type": "stream",
     "text": [
      "\r",
      "19.9%"
     ]
    },
    {
     "name": "stderr",
     "output_type": "stream",
     "text": [
      "\r",
      "20.0%"
     ]
    },
    {
     "name": "stderr",
     "output_type": "stream",
     "text": [
      "\r",
      "20.1%"
     ]
    },
    {
     "name": "stderr",
     "output_type": "stream",
     "text": [
      "\r",
      "20.2%"
     ]
    },
    {
     "name": "stderr",
     "output_type": "stream",
     "text": [
      "\r",
      "20.2%"
     ]
    },
    {
     "name": "stderr",
     "output_type": "stream",
     "text": [
      "\r",
      "20.3%"
     ]
    },
    {
     "name": "stderr",
     "output_type": "stream",
     "text": [
      "\r",
      "20.4%"
     ]
    },
    {
     "name": "stderr",
     "output_type": "stream",
     "text": [
      "\r",
      "20.5%"
     ]
    },
    {
     "name": "stderr",
     "output_type": "stream",
     "text": [
      "\r",
      "20.6%"
     ]
    },
    {
     "name": "stderr",
     "output_type": "stream",
     "text": [
      "\r",
      "20.7%"
     ]
    },
    {
     "name": "stderr",
     "output_type": "stream",
     "text": [
      "\r",
      "20.7%"
     ]
    },
    {
     "name": "stderr",
     "output_type": "stream",
     "text": [
      "\r",
      "20.8%"
     ]
    },
    {
     "name": "stderr",
     "output_type": "stream",
     "text": [
      "\r",
      "20.9%"
     ]
    },
    {
     "name": "stderr",
     "output_type": "stream",
     "text": [
      "\r",
      "21.0%"
     ]
    },
    {
     "name": "stderr",
     "output_type": "stream",
     "text": [
      "\r",
      "21.1%"
     ]
    },
    {
     "name": "stderr",
     "output_type": "stream",
     "text": [
      "\r",
      "21.2%"
     ]
    },
    {
     "name": "stderr",
     "output_type": "stream",
     "text": [
      "\r",
      "21.2%"
     ]
    },
    {
     "name": "stderr",
     "output_type": "stream",
     "text": [
      "\r",
      "21.3%"
     ]
    },
    {
     "name": "stderr",
     "output_type": "stream",
     "text": [
      "\r",
      "21.4%"
     ]
    },
    {
     "name": "stderr",
     "output_type": "stream",
     "text": [
      "\r",
      "21.5%"
     ]
    },
    {
     "name": "stderr",
     "output_type": "stream",
     "text": [
      "\r",
      "21.6%"
     ]
    },
    {
     "name": "stderr",
     "output_type": "stream",
     "text": [
      "\r",
      "21.7%"
     ]
    },
    {
     "name": "stderr",
     "output_type": "stream",
     "text": [
      "\r",
      "21.7%"
     ]
    },
    {
     "name": "stderr",
     "output_type": "stream",
     "text": [
      "\r",
      "21.8%"
     ]
    },
    {
     "name": "stderr",
     "output_type": "stream",
     "text": [
      "\r",
      "21.9%"
     ]
    },
    {
     "name": "stderr",
     "output_type": "stream",
     "text": [
      "\r",
      "22.0%"
     ]
    },
    {
     "name": "stderr",
     "output_type": "stream",
     "text": [
      "\r",
      "22.1%"
     ]
    },
    {
     "name": "stderr",
     "output_type": "stream",
     "text": [
      "\r",
      "22.1%"
     ]
    },
    {
     "name": "stderr",
     "output_type": "stream",
     "text": [
      "\r",
      "22.2%"
     ]
    },
    {
     "name": "stderr",
     "output_type": "stream",
     "text": [
      "\r",
      "22.3%"
     ]
    },
    {
     "name": "stderr",
     "output_type": "stream",
     "text": [
      "\r",
      "22.4%"
     ]
    },
    {
     "name": "stderr",
     "output_type": "stream",
     "text": [
      "\r",
      "22.5%"
     ]
    },
    {
     "name": "stderr",
     "output_type": "stream",
     "text": [
      "\r",
      "22.6%"
     ]
    },
    {
     "name": "stderr",
     "output_type": "stream",
     "text": [
      "\r",
      "22.6%"
     ]
    },
    {
     "name": "stderr",
     "output_type": "stream",
     "text": [
      "\r",
      "22.7%"
     ]
    },
    {
     "name": "stderr",
     "output_type": "stream",
     "text": [
      "\r",
      "22.8%"
     ]
    },
    {
     "name": "stderr",
     "output_type": "stream",
     "text": [
      "\r",
      "22.9%"
     ]
    },
    {
     "name": "stderr",
     "output_type": "stream",
     "text": [
      "\r",
      "23.0%"
     ]
    },
    {
     "name": "stderr",
     "output_type": "stream",
     "text": [
      "\r",
      "23.1%"
     ]
    },
    {
     "name": "stderr",
     "output_type": "stream",
     "text": [
      "\r",
      "23.1%"
     ]
    },
    {
     "name": "stderr",
     "output_type": "stream",
     "text": [
      "\r",
      "23.2%"
     ]
    },
    {
     "name": "stderr",
     "output_type": "stream",
     "text": [
      "\r",
      "23.3%"
     ]
    },
    {
     "name": "stderr",
     "output_type": "stream",
     "text": [
      "\r",
      "23.4%"
     ]
    },
    {
     "name": "stderr",
     "output_type": "stream",
     "text": [
      "\r",
      "23.5%"
     ]
    },
    {
     "name": "stderr",
     "output_type": "stream",
     "text": [
      "\r",
      "23.6%"
     ]
    },
    {
     "name": "stderr",
     "output_type": "stream",
     "text": [
      "\r",
      "23.6%"
     ]
    },
    {
     "name": "stderr",
     "output_type": "stream",
     "text": [
      "\r",
      "23.7%"
     ]
    },
    {
     "name": "stderr",
     "output_type": "stream",
     "text": [
      "\r",
      "23.8%"
     ]
    },
    {
     "name": "stderr",
     "output_type": "stream",
     "text": [
      "\r",
      "23.9%"
     ]
    },
    {
     "name": "stderr",
     "output_type": "stream",
     "text": [
      "\r",
      "24.0%"
     ]
    },
    {
     "name": "stderr",
     "output_type": "stream",
     "text": [
      "\r",
      "24.0%"
     ]
    },
    {
     "name": "stderr",
     "output_type": "stream",
     "text": [
      "\r",
      "24.1%"
     ]
    },
    {
     "name": "stderr",
     "output_type": "stream",
     "text": [
      "\r",
      "24.2%"
     ]
    },
    {
     "name": "stderr",
     "output_type": "stream",
     "text": [
      "\r",
      "24.3%"
     ]
    },
    {
     "name": "stderr",
     "output_type": "stream",
     "text": [
      "\r",
      "24.4%"
     ]
    },
    {
     "name": "stderr",
     "output_type": "stream",
     "text": [
      "\r",
      "24.5%"
     ]
    },
    {
     "name": "stderr",
     "output_type": "stream",
     "text": [
      "\r",
      "24.5%"
     ]
    },
    {
     "name": "stderr",
     "output_type": "stream",
     "text": [
      "\r",
      "24.6%"
     ]
    },
    {
     "name": "stderr",
     "output_type": "stream",
     "text": [
      "\r",
      "24.7%"
     ]
    },
    {
     "name": "stderr",
     "output_type": "stream",
     "text": [
      "\r",
      "24.8%"
     ]
    },
    {
     "name": "stderr",
     "output_type": "stream",
     "text": [
      "\r",
      "24.9%"
     ]
    },
    {
     "name": "stderr",
     "output_type": "stream",
     "text": [
      "\r",
      "25.0%"
     ]
    },
    {
     "name": "stderr",
     "output_type": "stream",
     "text": [
      "\r",
      "25.0%"
     ]
    },
    {
     "name": "stderr",
     "output_type": "stream",
     "text": [
      "\r",
      "25.1%"
     ]
    },
    {
     "name": "stderr",
     "output_type": "stream",
     "text": [
      "\r",
      "25.2%"
     ]
    },
    {
     "name": "stderr",
     "output_type": "stream",
     "text": [
      "\r",
      "25.3%"
     ]
    },
    {
     "name": "stderr",
     "output_type": "stream",
     "text": [
      "\r",
      "25.4%"
     ]
    },
    {
     "name": "stderr",
     "output_type": "stream",
     "text": [
      "\r",
      "25.5%"
     ]
    },
    {
     "name": "stderr",
     "output_type": "stream",
     "text": [
      "\r",
      "25.5%"
     ]
    },
    {
     "name": "stderr",
     "output_type": "stream",
     "text": [
      "\r",
      "25.6%"
     ]
    },
    {
     "name": "stderr",
     "output_type": "stream",
     "text": [
      "\r",
      "25.7%"
     ]
    },
    {
     "name": "stderr",
     "output_type": "stream",
     "text": [
      "\r",
      "25.8%"
     ]
    },
    {
     "name": "stderr",
     "output_type": "stream",
     "text": [
      "\r",
      "25.9%"
     ]
    },
    {
     "name": "stderr",
     "output_type": "stream",
     "text": [
      "\r",
      "26.0%"
     ]
    },
    {
     "name": "stderr",
     "output_type": "stream",
     "text": [
      "\r",
      "26.0%"
     ]
    },
    {
     "name": "stderr",
     "output_type": "stream",
     "text": [
      "\r",
      "26.1%"
     ]
    },
    {
     "name": "stderr",
     "output_type": "stream",
     "text": [
      "\r",
      "26.2%"
     ]
    },
    {
     "name": "stderr",
     "output_type": "stream",
     "text": [
      "\r",
      "26.3%"
     ]
    },
    {
     "name": "stderr",
     "output_type": "stream",
     "text": [
      "\r",
      "26.4%"
     ]
    },
    {
     "name": "stderr",
     "output_type": "stream",
     "text": [
      "\r",
      "26.4%"
     ]
    },
    {
     "name": "stderr",
     "output_type": "stream",
     "text": [
      "\r",
      "26.5%"
     ]
    },
    {
     "name": "stderr",
     "output_type": "stream",
     "text": [
      "\r",
      "26.6%"
     ]
    },
    {
     "name": "stderr",
     "output_type": "stream",
     "text": [
      "\r",
      "26.7%"
     ]
    },
    {
     "name": "stderr",
     "output_type": "stream",
     "text": [
      "\r",
      "26.8%"
     ]
    },
    {
     "name": "stderr",
     "output_type": "stream",
     "text": [
      "\r",
      "26.9%"
     ]
    },
    {
     "name": "stderr",
     "output_type": "stream",
     "text": [
      "\r",
      "26.9%"
     ]
    },
    {
     "name": "stderr",
     "output_type": "stream",
     "text": [
      "\r",
      "27.0%"
     ]
    },
    {
     "name": "stderr",
     "output_type": "stream",
     "text": [
      "\r",
      "27.1%"
     ]
    },
    {
     "name": "stderr",
     "output_type": "stream",
     "text": [
      "\r",
      "27.2%"
     ]
    },
    {
     "name": "stderr",
     "output_type": "stream",
     "text": [
      "\r",
      "27.3%"
     ]
    },
    {
     "name": "stderr",
     "output_type": "stream",
     "text": [
      "\r",
      "27.4%"
     ]
    },
    {
     "name": "stderr",
     "output_type": "stream",
     "text": [
      "\r",
      "27.4%"
     ]
    },
    {
     "name": "stderr",
     "output_type": "stream",
     "text": [
      "\r",
      "27.5%"
     ]
    },
    {
     "name": "stderr",
     "output_type": "stream",
     "text": [
      "\r",
      "27.6%"
     ]
    },
    {
     "name": "stderr",
     "output_type": "stream",
     "text": [
      "\r",
      "27.7%"
     ]
    },
    {
     "name": "stderr",
     "output_type": "stream",
     "text": [
      "\r",
      "27.8%"
     ]
    },
    {
     "name": "stderr",
     "output_type": "stream",
     "text": [
      "\r",
      "27.9%"
     ]
    },
    {
     "name": "stderr",
     "output_type": "stream",
     "text": [
      "\r",
      "27.9%"
     ]
    },
    {
     "name": "stderr",
     "output_type": "stream",
     "text": [
      "\r",
      "28.0%"
     ]
    },
    {
     "name": "stderr",
     "output_type": "stream",
     "text": [
      "\r",
      "28.1%"
     ]
    },
    {
     "name": "stderr",
     "output_type": "stream",
     "text": [
      "\r",
      "28.2%"
     ]
    },
    {
     "name": "stderr",
     "output_type": "stream",
     "text": [
      "\r",
      "28.3%"
     ]
    },
    {
     "name": "stderr",
     "output_type": "stream",
     "text": [
      "\r",
      "28.3%"
     ]
    },
    {
     "name": "stderr",
     "output_type": "stream",
     "text": [
      "\r",
      "28.4%"
     ]
    },
    {
     "name": "stderr",
     "output_type": "stream",
     "text": [
      "\r",
      "28.5%"
     ]
    },
    {
     "name": "stderr",
     "output_type": "stream",
     "text": [
      "\r",
      "28.6%"
     ]
    },
    {
     "name": "stderr",
     "output_type": "stream",
     "text": [
      "\r",
      "28.7%"
     ]
    },
    {
     "name": "stderr",
     "output_type": "stream",
     "text": [
      "\r",
      "28.8%"
     ]
    },
    {
     "name": "stderr",
     "output_type": "stream",
     "text": [
      "\r",
      "28.8%"
     ]
    },
    {
     "name": "stderr",
     "output_type": "stream",
     "text": [
      "\r",
      "28.9%"
     ]
    },
    {
     "name": "stderr",
     "output_type": "stream",
     "text": [
      "\r",
      "29.0%"
     ]
    },
    {
     "name": "stderr",
     "output_type": "stream",
     "text": [
      "\r",
      "29.1%"
     ]
    },
    {
     "name": "stderr",
     "output_type": "stream",
     "text": [
      "\r",
      "29.2%"
     ]
    },
    {
     "name": "stderr",
     "output_type": "stream",
     "text": [
      "\r",
      "29.3%"
     ]
    },
    {
     "name": "stderr",
     "output_type": "stream",
     "text": [
      "\r",
      "29.3%"
     ]
    },
    {
     "name": "stderr",
     "output_type": "stream",
     "text": [
      "\r",
      "29.4%"
     ]
    },
    {
     "name": "stderr",
     "output_type": "stream",
     "text": [
      "\r",
      "29.5%"
     ]
    },
    {
     "name": "stderr",
     "output_type": "stream",
     "text": [
      "\r",
      "29.6%"
     ]
    },
    {
     "name": "stderr",
     "output_type": "stream",
     "text": [
      "\r",
      "29.7%"
     ]
    },
    {
     "name": "stderr",
     "output_type": "stream",
     "text": [
      "\r",
      "29.8%"
     ]
    },
    {
     "name": "stderr",
     "output_type": "stream",
     "text": [
      "\r",
      "29.8%"
     ]
    },
    {
     "name": "stderr",
     "output_type": "stream",
     "text": [
      "\r",
      "29.9%"
     ]
    },
    {
     "name": "stderr",
     "output_type": "stream",
     "text": [
      "\r",
      "30.0%"
     ]
    },
    {
     "name": "stderr",
     "output_type": "stream",
     "text": [
      "\r",
      "30.1%"
     ]
    },
    {
     "name": "stderr",
     "output_type": "stream",
     "text": [
      "\r",
      "30.2%"
     ]
    },
    {
     "name": "stderr",
     "output_type": "stream",
     "text": [
      "\r",
      "30.2%"
     ]
    },
    {
     "name": "stderr",
     "output_type": "stream",
     "text": [
      "\r",
      "30.3%"
     ]
    },
    {
     "name": "stderr",
     "output_type": "stream",
     "text": [
      "\r",
      "30.4%"
     ]
    },
    {
     "name": "stderr",
     "output_type": "stream",
     "text": [
      "\r",
      "30.5%"
     ]
    },
    {
     "name": "stderr",
     "output_type": "stream",
     "text": [
      "\r",
      "30.6%"
     ]
    },
    {
     "name": "stderr",
     "output_type": "stream",
     "text": [
      "\r",
      "30.7%"
     ]
    },
    {
     "name": "stderr",
     "output_type": "stream",
     "text": [
      "\r",
      "30.7%"
     ]
    },
    {
     "name": "stderr",
     "output_type": "stream",
     "text": [
      "\r",
      "30.8%"
     ]
    },
    {
     "name": "stderr",
     "output_type": "stream",
     "text": [
      "\r",
      "30.9%"
     ]
    },
    {
     "name": "stderr",
     "output_type": "stream",
     "text": [
      "\r",
      "31.0%"
     ]
    },
    {
     "name": "stderr",
     "output_type": "stream",
     "text": [
      "\r",
      "31.1%"
     ]
    },
    {
     "name": "stderr",
     "output_type": "stream",
     "text": [
      "\r",
      "31.2%"
     ]
    },
    {
     "name": "stderr",
     "output_type": "stream",
     "text": [
      "\r",
      "31.2%"
     ]
    },
    {
     "name": "stderr",
     "output_type": "stream",
     "text": [
      "\r",
      "31.3%"
     ]
    },
    {
     "name": "stderr",
     "output_type": "stream",
     "text": [
      "\r",
      "31.4%"
     ]
    },
    {
     "name": "stderr",
     "output_type": "stream",
     "text": [
      "\r",
      "31.5%"
     ]
    },
    {
     "name": "stderr",
     "output_type": "stream",
     "text": [
      "\r",
      "31.6%"
     ]
    },
    {
     "name": "stderr",
     "output_type": "stream",
     "text": [
      "\r",
      "31.7%"
     ]
    },
    {
     "name": "stderr",
     "output_type": "stream",
     "text": [
      "\r",
      "31.7%"
     ]
    },
    {
     "name": "stderr",
     "output_type": "stream",
     "text": [
      "\r",
      "31.8%"
     ]
    },
    {
     "name": "stderr",
     "output_type": "stream",
     "text": [
      "\r",
      "31.9%"
     ]
    },
    {
     "name": "stderr",
     "output_type": "stream",
     "text": [
      "\r",
      "32.0%"
     ]
    },
    {
     "name": "stderr",
     "output_type": "stream",
     "text": [
      "\r",
      "32.1%"
     ]
    },
    {
     "name": "stderr",
     "output_type": "stream",
     "text": [
      "\r",
      "32.1%"
     ]
    },
    {
     "name": "stderr",
     "output_type": "stream",
     "text": [
      "\r",
      "32.2%"
     ]
    },
    {
     "name": "stderr",
     "output_type": "stream",
     "text": [
      "\r",
      "32.3%"
     ]
    },
    {
     "name": "stderr",
     "output_type": "stream",
     "text": [
      "\r",
      "32.4%"
     ]
    },
    {
     "name": "stderr",
     "output_type": "stream",
     "text": [
      "\r",
      "32.5%"
     ]
    },
    {
     "name": "stderr",
     "output_type": "stream",
     "text": [
      "\r",
      "32.6%"
     ]
    },
    {
     "name": "stderr",
     "output_type": "stream",
     "text": [
      "\r",
      "32.6%"
     ]
    },
    {
     "name": "stderr",
     "output_type": "stream",
     "text": [
      "\r",
      "32.7%"
     ]
    },
    {
     "name": "stderr",
     "output_type": "stream",
     "text": [
      "\r",
      "32.8%"
     ]
    },
    {
     "name": "stderr",
     "output_type": "stream",
     "text": [
      "\r",
      "32.9%"
     ]
    },
    {
     "name": "stderr",
     "output_type": "stream",
     "text": [
      "\r",
      "33.0%"
     ]
    },
    {
     "name": "stderr",
     "output_type": "stream",
     "text": [
      "\r",
      "33.1%"
     ]
    },
    {
     "name": "stderr",
     "output_type": "stream",
     "text": [
      "\r",
      "33.1%"
     ]
    },
    {
     "name": "stderr",
     "output_type": "stream",
     "text": [
      "\r",
      "33.2%"
     ]
    },
    {
     "name": "stderr",
     "output_type": "stream",
     "text": [
      "\r",
      "33.3%"
     ]
    },
    {
     "name": "stderr",
     "output_type": "stream",
     "text": [
      "\r",
      "33.4%"
     ]
    },
    {
     "name": "stderr",
     "output_type": "stream",
     "text": [
      "\r",
      "33.5%"
     ]
    },
    {
     "name": "stderr",
     "output_type": "stream",
     "text": [
      "\r",
      "33.6%"
     ]
    },
    {
     "name": "stderr",
     "output_type": "stream",
     "text": [
      "\r",
      "33.6%"
     ]
    },
    {
     "name": "stderr",
     "output_type": "stream",
     "text": [
      "\r",
      "33.7%"
     ]
    },
    {
     "name": "stderr",
     "output_type": "stream",
     "text": [
      "\r",
      "33.8%"
     ]
    },
    {
     "name": "stderr",
     "output_type": "stream",
     "text": [
      "\r",
      "33.9%"
     ]
    },
    {
     "name": "stderr",
     "output_type": "stream",
     "text": [
      "\r",
      "34.0%"
     ]
    },
    {
     "name": "stderr",
     "output_type": "stream",
     "text": [
      "\r",
      "34.0%"
     ]
    },
    {
     "name": "stderr",
     "output_type": "stream",
     "text": [
      "\r",
      "34.1%"
     ]
    },
    {
     "name": "stderr",
     "output_type": "stream",
     "text": [
      "\r",
      "34.2%"
     ]
    },
    {
     "name": "stderr",
     "output_type": "stream",
     "text": [
      "\r",
      "34.3%"
     ]
    },
    {
     "name": "stderr",
     "output_type": "stream",
     "text": [
      "\r",
      "34.4%"
     ]
    },
    {
     "name": "stderr",
     "output_type": "stream",
     "text": [
      "\r",
      "34.5%"
     ]
    },
    {
     "name": "stderr",
     "output_type": "stream",
     "text": [
      "\r",
      "34.5%"
     ]
    },
    {
     "name": "stderr",
     "output_type": "stream",
     "text": [
      "\r",
      "34.6%"
     ]
    },
    {
     "name": "stderr",
     "output_type": "stream",
     "text": [
      "\r",
      "34.7%"
     ]
    },
    {
     "name": "stderr",
     "output_type": "stream",
     "text": [
      "\r",
      "34.8%"
     ]
    },
    {
     "name": "stderr",
     "output_type": "stream",
     "text": [
      "\r",
      "34.9%"
     ]
    },
    {
     "name": "stderr",
     "output_type": "stream",
     "text": [
      "\r",
      "35.0%"
     ]
    },
    {
     "name": "stderr",
     "output_type": "stream",
     "text": [
      "\r",
      "35.0%"
     ]
    },
    {
     "name": "stderr",
     "output_type": "stream",
     "text": [
      "\r",
      "35.1%"
     ]
    },
    {
     "name": "stderr",
     "output_type": "stream",
     "text": [
      "\r",
      "35.2%"
     ]
    },
    {
     "name": "stderr",
     "output_type": "stream",
     "text": [
      "\r",
      "35.3%"
     ]
    },
    {
     "name": "stderr",
     "output_type": "stream",
     "text": [
      "\r",
      "35.4%"
     ]
    },
    {
     "name": "stderr",
     "output_type": "stream",
     "text": [
      "\r",
      "35.5%"
     ]
    },
    {
     "name": "stderr",
     "output_type": "stream",
     "text": [
      "\r",
      "35.5%"
     ]
    },
    {
     "name": "stderr",
     "output_type": "stream",
     "text": [
      "\r",
      "35.6%"
     ]
    },
    {
     "name": "stderr",
     "output_type": "stream",
     "text": [
      "\r",
      "35.7%"
     ]
    },
    {
     "name": "stderr",
     "output_type": "stream",
     "text": [
      "\r",
      "35.8%"
     ]
    },
    {
     "name": "stderr",
     "output_type": "stream",
     "text": [
      "\r",
      "35.9%"
     ]
    },
    {
     "name": "stderr",
     "output_type": "stream",
     "text": [
      "\r",
      "36.0%"
     ]
    },
    {
     "name": "stderr",
     "output_type": "stream",
     "text": [
      "\r",
      "36.0%"
     ]
    },
    {
     "name": "stderr",
     "output_type": "stream",
     "text": [
      "\r",
      "36.1%"
     ]
    },
    {
     "name": "stderr",
     "output_type": "stream",
     "text": [
      "\r",
      "36.2%"
     ]
    },
    {
     "name": "stderr",
     "output_type": "stream",
     "text": [
      "\r",
      "36.3%"
     ]
    },
    {
     "name": "stderr",
     "output_type": "stream",
     "text": [
      "\r",
      "36.4%"
     ]
    },
    {
     "name": "stderr",
     "output_type": "stream",
     "text": [
      "\r",
      "36.4%"
     ]
    },
    {
     "name": "stderr",
     "output_type": "stream",
     "text": [
      "\r",
      "36.5%"
     ]
    },
    {
     "name": "stderr",
     "output_type": "stream",
     "text": [
      "\r",
      "36.6%"
     ]
    },
    {
     "name": "stderr",
     "output_type": "stream",
     "text": [
      "\r",
      "36.7%"
     ]
    },
    {
     "name": "stderr",
     "output_type": "stream",
     "text": [
      "\r",
      "36.8%"
     ]
    },
    {
     "name": "stderr",
     "output_type": "stream",
     "text": [
      "\r",
      "36.9%"
     ]
    },
    {
     "name": "stderr",
     "output_type": "stream",
     "text": [
      "\r",
      "36.9%"
     ]
    },
    {
     "name": "stderr",
     "output_type": "stream",
     "text": [
      "\r",
      "37.0%"
     ]
    },
    {
     "name": "stderr",
     "output_type": "stream",
     "text": [
      "\r",
      "37.1%"
     ]
    },
    {
     "name": "stderr",
     "output_type": "stream",
     "text": [
      "\r",
      "37.2%"
     ]
    },
    {
     "name": "stderr",
     "output_type": "stream",
     "text": [
      "\r",
      "37.3%"
     ]
    },
    {
     "name": "stderr",
     "output_type": "stream",
     "text": [
      "\r",
      "37.4%"
     ]
    },
    {
     "name": "stderr",
     "output_type": "stream",
     "text": [
      "\r",
      "37.4%"
     ]
    },
    {
     "name": "stderr",
     "output_type": "stream",
     "text": [
      "\r",
      "37.5%"
     ]
    },
    {
     "name": "stderr",
     "output_type": "stream",
     "text": [
      "\r",
      "37.6%"
     ]
    },
    {
     "name": "stderr",
     "output_type": "stream",
     "text": [
      "\r",
      "37.7%"
     ]
    },
    {
     "name": "stderr",
     "output_type": "stream",
     "text": [
      "\r",
      "37.8%"
     ]
    },
    {
     "name": "stderr",
     "output_type": "stream",
     "text": [
      "\r",
      "37.9%"
     ]
    },
    {
     "name": "stderr",
     "output_type": "stream",
     "text": [
      "\r",
      "37.9%"
     ]
    },
    {
     "name": "stderr",
     "output_type": "stream",
     "text": [
      "\r",
      "38.0%"
     ]
    },
    {
     "name": "stderr",
     "output_type": "stream",
     "text": [
      "\r",
      "38.1%"
     ]
    },
    {
     "name": "stderr",
     "output_type": "stream",
     "text": [
      "\r",
      "38.2%"
     ]
    },
    {
     "name": "stderr",
     "output_type": "stream",
     "text": [
      "\r",
      "38.3%"
     ]
    },
    {
     "name": "stderr",
     "output_type": "stream",
     "text": [
      "\r",
      "38.3%"
     ]
    },
    {
     "name": "stderr",
     "output_type": "stream",
     "text": [
      "\r",
      "38.4%"
     ]
    },
    {
     "name": "stderr",
     "output_type": "stream",
     "text": [
      "\r",
      "38.5%"
     ]
    },
    {
     "name": "stderr",
     "output_type": "stream",
     "text": [
      "\r",
      "38.6%"
     ]
    },
    {
     "name": "stderr",
     "output_type": "stream",
     "text": [
      "\r",
      "38.7%"
     ]
    },
    {
     "name": "stderr",
     "output_type": "stream",
     "text": [
      "\r",
      "38.8%"
     ]
    },
    {
     "name": "stderr",
     "output_type": "stream",
     "text": [
      "\r",
      "38.8%"
     ]
    },
    {
     "name": "stderr",
     "output_type": "stream",
     "text": [
      "\r",
      "38.9%"
     ]
    },
    {
     "name": "stderr",
     "output_type": "stream",
     "text": [
      "\r",
      "39.0%"
     ]
    },
    {
     "name": "stderr",
     "output_type": "stream",
     "text": [
      "\r",
      "39.1%"
     ]
    },
    {
     "name": "stderr",
     "output_type": "stream",
     "text": [
      "\r",
      "39.2%"
     ]
    },
    {
     "name": "stderr",
     "output_type": "stream",
     "text": [
      "\r",
      "39.3%"
     ]
    },
    {
     "name": "stderr",
     "output_type": "stream",
     "text": [
      "\r",
      "39.3%"
     ]
    },
    {
     "name": "stderr",
     "output_type": "stream",
     "text": [
      "\r",
      "39.4%"
     ]
    },
    {
     "name": "stderr",
     "output_type": "stream",
     "text": [
      "\r",
      "39.5%"
     ]
    },
    {
     "name": "stderr",
     "output_type": "stream",
     "text": [
      "\r",
      "39.6%"
     ]
    },
    {
     "name": "stderr",
     "output_type": "stream",
     "text": [
      "\r",
      "39.7%"
     ]
    },
    {
     "name": "stderr",
     "output_type": "stream",
     "text": [
      "\r",
      "39.8%"
     ]
    },
    {
     "name": "stderr",
     "output_type": "stream",
     "text": [
      "\r",
      "39.8%"
     ]
    },
    {
     "name": "stderr",
     "output_type": "stream",
     "text": [
      "\r",
      "39.9%"
     ]
    },
    {
     "name": "stderr",
     "output_type": "stream",
     "text": [
      "\r",
      "40.0%"
     ]
    },
    {
     "name": "stderr",
     "output_type": "stream",
     "text": [
      "\r",
      "40.1%"
     ]
    },
    {
     "name": "stderr",
     "output_type": "stream",
     "text": [
      "\r",
      "40.2%"
     ]
    },
    {
     "name": "stderr",
     "output_type": "stream",
     "text": [
      "\r",
      "40.2%"
     ]
    },
    {
     "name": "stderr",
     "output_type": "stream",
     "text": [
      "\r",
      "40.3%"
     ]
    },
    {
     "name": "stderr",
     "output_type": "stream",
     "text": [
      "\r",
      "40.4%"
     ]
    },
    {
     "name": "stderr",
     "output_type": "stream",
     "text": [
      "\r",
      "40.5%"
     ]
    },
    {
     "name": "stderr",
     "output_type": "stream",
     "text": [
      "\r",
      "40.6%"
     ]
    },
    {
     "name": "stderr",
     "output_type": "stream",
     "text": [
      "\r",
      "40.7%"
     ]
    },
    {
     "name": "stderr",
     "output_type": "stream",
     "text": [
      "\r",
      "40.7%"
     ]
    },
    {
     "name": "stderr",
     "output_type": "stream",
     "text": [
      "\r",
      "40.8%"
     ]
    },
    {
     "name": "stderr",
     "output_type": "stream",
     "text": [
      "\r",
      "40.9%"
     ]
    },
    {
     "name": "stderr",
     "output_type": "stream",
     "text": [
      "\r",
      "41.0%"
     ]
    },
    {
     "name": "stderr",
     "output_type": "stream",
     "text": [
      "\r",
      "41.1%"
     ]
    },
    {
     "name": "stderr",
     "output_type": "stream",
     "text": [
      "\r",
      "41.2%"
     ]
    },
    {
     "name": "stderr",
     "output_type": "stream",
     "text": [
      "\r",
      "41.2%"
     ]
    },
    {
     "name": "stderr",
     "output_type": "stream",
     "text": [
      "\r",
      "41.3%"
     ]
    },
    {
     "name": "stderr",
     "output_type": "stream",
     "text": [
      "\r",
      "41.4%"
     ]
    },
    {
     "name": "stderr",
     "output_type": "stream",
     "text": [
      "\r",
      "41.5%"
     ]
    },
    {
     "name": "stderr",
     "output_type": "stream",
     "text": [
      "\r",
      "41.6%"
     ]
    },
    {
     "name": "stderr",
     "output_type": "stream",
     "text": [
      "\r",
      "41.7%"
     ]
    },
    {
     "name": "stderr",
     "output_type": "stream",
     "text": [
      "\r",
      "41.7%"
     ]
    },
    {
     "name": "stderr",
     "output_type": "stream",
     "text": [
      "\r",
      "41.8%"
     ]
    },
    {
     "name": "stderr",
     "output_type": "stream",
     "text": [
      "\r",
      "41.9%"
     ]
    },
    {
     "name": "stderr",
     "output_type": "stream",
     "text": [
      "\r",
      "42.0%"
     ]
    },
    {
     "name": "stderr",
     "output_type": "stream",
     "text": [
      "\r",
      "42.1%"
     ]
    },
    {
     "name": "stderr",
     "output_type": "stream",
     "text": [
      "\r",
      "42.1%"
     ]
    },
    {
     "name": "stderr",
     "output_type": "stream",
     "text": [
      "\r",
      "42.2%"
     ]
    },
    {
     "name": "stderr",
     "output_type": "stream",
     "text": [
      "\r",
      "42.3%"
     ]
    },
    {
     "name": "stderr",
     "output_type": "stream",
     "text": [
      "\r",
      "42.4%"
     ]
    },
    {
     "name": "stderr",
     "output_type": "stream",
     "text": [
      "\r",
      "42.5%"
     ]
    },
    {
     "name": "stderr",
     "output_type": "stream",
     "text": [
      "\r",
      "42.6%"
     ]
    },
    {
     "name": "stderr",
     "output_type": "stream",
     "text": [
      "\r",
      "42.6%"
     ]
    },
    {
     "name": "stderr",
     "output_type": "stream",
     "text": [
      "\r",
      "42.7%"
     ]
    },
    {
     "name": "stderr",
     "output_type": "stream",
     "text": [
      "\r",
      "42.8%"
     ]
    },
    {
     "name": "stderr",
     "output_type": "stream",
     "text": [
      "\r",
      "42.9%"
     ]
    },
    {
     "name": "stderr",
     "output_type": "stream",
     "text": [
      "\r",
      "43.0%"
     ]
    },
    {
     "name": "stderr",
     "output_type": "stream",
     "text": [
      "\r",
      "43.1%"
     ]
    },
    {
     "name": "stderr",
     "output_type": "stream",
     "text": [
      "\r",
      "43.1%"
     ]
    },
    {
     "name": "stderr",
     "output_type": "stream",
     "text": [
      "\r",
      "43.2%"
     ]
    },
    {
     "name": "stderr",
     "output_type": "stream",
     "text": [
      "\r",
      "43.3%"
     ]
    },
    {
     "name": "stderr",
     "output_type": "stream",
     "text": [
      "\r",
      "43.4%"
     ]
    },
    {
     "name": "stderr",
     "output_type": "stream",
     "text": [
      "\r",
      "43.5%"
     ]
    },
    {
     "name": "stderr",
     "output_type": "stream",
     "text": [
      "\r",
      "43.6%"
     ]
    },
    {
     "name": "stderr",
     "output_type": "stream",
     "text": [
      "\r",
      "43.6%"
     ]
    },
    {
     "name": "stderr",
     "output_type": "stream",
     "text": [
      "\r",
      "43.7%"
     ]
    },
    {
     "name": "stderr",
     "output_type": "stream",
     "text": [
      "\r",
      "43.8%"
     ]
    },
    {
     "name": "stderr",
     "output_type": "stream",
     "text": [
      "\r",
      "43.9%"
     ]
    },
    {
     "name": "stderr",
     "output_type": "stream",
     "text": [
      "\r",
      "44.0%"
     ]
    },
    {
     "name": "stderr",
     "output_type": "stream",
     "text": [
      "\r",
      "44.0%"
     ]
    },
    {
     "name": "stderr",
     "output_type": "stream",
     "text": [
      "\r",
      "44.1%"
     ]
    },
    {
     "name": "stderr",
     "output_type": "stream",
     "text": [
      "\r",
      "44.2%"
     ]
    },
    {
     "name": "stderr",
     "output_type": "stream",
     "text": [
      "\r",
      "44.3%"
     ]
    },
    {
     "name": "stderr",
     "output_type": "stream",
     "text": [
      "\r",
      "44.4%"
     ]
    },
    {
     "name": "stderr",
     "output_type": "stream",
     "text": [
      "\r",
      "44.5%"
     ]
    },
    {
     "name": "stderr",
     "output_type": "stream",
     "text": [
      "\r",
      "44.5%"
     ]
    },
    {
     "name": "stderr",
     "output_type": "stream",
     "text": [
      "\r",
      "44.6%"
     ]
    },
    {
     "name": "stderr",
     "output_type": "stream",
     "text": [
      "\r",
      "44.7%"
     ]
    },
    {
     "name": "stderr",
     "output_type": "stream",
     "text": [
      "\r",
      "44.8%"
     ]
    },
    {
     "name": "stderr",
     "output_type": "stream",
     "text": [
      "\r",
      "44.9%"
     ]
    },
    {
     "name": "stderr",
     "output_type": "stream",
     "text": [
      "\r",
      "45.0%"
     ]
    },
    {
     "name": "stderr",
     "output_type": "stream",
     "text": [
      "\r",
      "45.0%"
     ]
    },
    {
     "name": "stderr",
     "output_type": "stream",
     "text": [
      "\r",
      "45.1%"
     ]
    },
    {
     "name": "stderr",
     "output_type": "stream",
     "text": [
      "\r",
      "45.2%"
     ]
    },
    {
     "name": "stderr",
     "output_type": "stream",
     "text": [
      "\r",
      "45.3%"
     ]
    },
    {
     "name": "stderr",
     "output_type": "stream",
     "text": [
      "\r",
      "45.4%"
     ]
    },
    {
     "name": "stderr",
     "output_type": "stream",
     "text": [
      "\r",
      "45.5%"
     ]
    },
    {
     "name": "stderr",
     "output_type": "stream",
     "text": [
      "\r",
      "45.5%"
     ]
    },
    {
     "name": "stderr",
     "output_type": "stream",
     "text": [
      "\r",
      "45.6%"
     ]
    },
    {
     "name": "stderr",
     "output_type": "stream",
     "text": [
      "\r",
      "45.7%"
     ]
    },
    {
     "name": "stderr",
     "output_type": "stream",
     "text": [
      "\r",
      "45.8%"
     ]
    },
    {
     "name": "stderr",
     "output_type": "stream",
     "text": [
      "\r",
      "45.9%"
     ]
    },
    {
     "name": "stderr",
     "output_type": "stream",
     "text": [
      "\r",
      "45.9%"
     ]
    },
    {
     "name": "stderr",
     "output_type": "stream",
     "text": [
      "\r",
      "46.0%"
     ]
    },
    {
     "name": "stderr",
     "output_type": "stream",
     "text": [
      "\r",
      "46.1%"
     ]
    },
    {
     "name": "stderr",
     "output_type": "stream",
     "text": [
      "\r",
      "46.2%"
     ]
    },
    {
     "name": "stderr",
     "output_type": "stream",
     "text": [
      "\r",
      "46.3%"
     ]
    },
    {
     "name": "stderr",
     "output_type": "stream",
     "text": [
      "\r",
      "46.4%"
     ]
    },
    {
     "name": "stderr",
     "output_type": "stream",
     "text": [
      "\r",
      "46.4%"
     ]
    },
    {
     "name": "stderr",
     "output_type": "stream",
     "text": [
      "\r",
      "46.5%"
     ]
    },
    {
     "name": "stderr",
     "output_type": "stream",
     "text": [
      "\r",
      "46.6%"
     ]
    },
    {
     "name": "stderr",
     "output_type": "stream",
     "text": [
      "\r",
      "46.7%"
     ]
    },
    {
     "name": "stderr",
     "output_type": "stream",
     "text": [
      "\r",
      "46.8%"
     ]
    },
    {
     "name": "stderr",
     "output_type": "stream",
     "text": [
      "\r",
      "46.9%"
     ]
    },
    {
     "name": "stderr",
     "output_type": "stream",
     "text": [
      "\r",
      "46.9%"
     ]
    },
    {
     "name": "stderr",
     "output_type": "stream",
     "text": [
      "\r",
      "47.0%"
     ]
    },
    {
     "name": "stderr",
     "output_type": "stream",
     "text": [
      "\r",
      "47.1%"
     ]
    },
    {
     "name": "stderr",
     "output_type": "stream",
     "text": [
      "\r",
      "47.2%"
     ]
    },
    {
     "name": "stderr",
     "output_type": "stream",
     "text": [
      "\r",
      "47.3%"
     ]
    },
    {
     "name": "stderr",
     "output_type": "stream",
     "text": [
      "\r",
      "47.4%"
     ]
    },
    {
     "name": "stderr",
     "output_type": "stream",
     "text": [
      "\r",
      "47.4%"
     ]
    },
    {
     "name": "stderr",
     "output_type": "stream",
     "text": [
      "\r",
      "47.5%"
     ]
    },
    {
     "name": "stderr",
     "output_type": "stream",
     "text": [
      "\r",
      "47.6%"
     ]
    },
    {
     "name": "stderr",
     "output_type": "stream",
     "text": [
      "\r",
      "47.7%"
     ]
    },
    {
     "name": "stderr",
     "output_type": "stream",
     "text": [
      "\r",
      "47.8%"
     ]
    },
    {
     "name": "stderr",
     "output_type": "stream",
     "text": [
      "\r",
      "47.9%"
     ]
    },
    {
     "name": "stderr",
     "output_type": "stream",
     "text": [
      "\r",
      "47.9%"
     ]
    },
    {
     "name": "stderr",
     "output_type": "stream",
     "text": [
      "\r",
      "48.0%"
     ]
    },
    {
     "name": "stderr",
     "output_type": "stream",
     "text": [
      "\r",
      "48.1%"
     ]
    },
    {
     "name": "stderr",
     "output_type": "stream",
     "text": [
      "\r",
      "48.2%"
     ]
    },
    {
     "name": "stderr",
     "output_type": "stream",
     "text": [
      "\r",
      "48.3%"
     ]
    },
    {
     "name": "stderr",
     "output_type": "stream",
     "text": [
      "\r",
      "48.3%"
     ]
    },
    {
     "name": "stderr",
     "output_type": "stream",
     "text": [
      "\r",
      "48.4%"
     ]
    },
    {
     "name": "stderr",
     "output_type": "stream",
     "text": [
      "\r",
      "48.5%"
     ]
    },
    {
     "name": "stderr",
     "output_type": "stream",
     "text": [
      "\r",
      "48.6%"
     ]
    },
    {
     "name": "stderr",
     "output_type": "stream",
     "text": [
      "\r",
      "48.7%"
     ]
    },
    {
     "name": "stderr",
     "output_type": "stream",
     "text": [
      "\r",
      "48.8%"
     ]
    },
    {
     "name": "stderr",
     "output_type": "stream",
     "text": [
      "\r",
      "48.8%"
     ]
    },
    {
     "name": "stderr",
     "output_type": "stream",
     "text": [
      "\r",
      "48.9%"
     ]
    },
    {
     "name": "stderr",
     "output_type": "stream",
     "text": [
      "\r",
      "49.0%"
     ]
    },
    {
     "name": "stderr",
     "output_type": "stream",
     "text": [
      "\r",
      "49.1%"
     ]
    },
    {
     "name": "stderr",
     "output_type": "stream",
     "text": [
      "\r",
      "49.2%"
     ]
    },
    {
     "name": "stderr",
     "output_type": "stream",
     "text": [
      "\r",
      "49.3%"
     ]
    },
    {
     "name": "stderr",
     "output_type": "stream",
     "text": [
      "\r",
      "49.3%"
     ]
    },
    {
     "name": "stderr",
     "output_type": "stream",
     "text": [
      "\r",
      "49.4%"
     ]
    },
    {
     "name": "stderr",
     "output_type": "stream",
     "text": [
      "\r",
      "49.5%"
     ]
    },
    {
     "name": "stderr",
     "output_type": "stream",
     "text": [
      "\r",
      "49.6%"
     ]
    },
    {
     "name": "stderr",
     "output_type": "stream",
     "text": [
      "\r",
      "49.7%"
     ]
    },
    {
     "name": "stderr",
     "output_type": "stream",
     "text": [
      "\r",
      "49.8%"
     ]
    },
    {
     "name": "stderr",
     "output_type": "stream",
     "text": [
      "\r",
      "49.8%"
     ]
    },
    {
     "name": "stderr",
     "output_type": "stream",
     "text": [
      "\r",
      "49.9%"
     ]
    },
    {
     "name": "stderr",
     "output_type": "stream",
     "text": [
      "\r",
      "50.0%"
     ]
    },
    {
     "name": "stderr",
     "output_type": "stream",
     "text": [
      "\r",
      "50.1%"
     ]
    },
    {
     "name": "stderr",
     "output_type": "stream",
     "text": [
      "\r",
      "50.2%"
     ]
    },
    {
     "name": "stderr",
     "output_type": "stream",
     "text": [
      "\r",
      "50.2%"
     ]
    },
    {
     "name": "stderr",
     "output_type": "stream",
     "text": [
      "\r",
      "50.3%"
     ]
    },
    {
     "name": "stderr",
     "output_type": "stream",
     "text": [
      "\r",
      "50.4%"
     ]
    },
    {
     "name": "stderr",
     "output_type": "stream",
     "text": [
      "\r",
      "50.5%"
     ]
    },
    {
     "name": "stderr",
     "output_type": "stream",
     "text": [
      "\r",
      "50.6%"
     ]
    },
    {
     "name": "stderr",
     "output_type": "stream",
     "text": [
      "\r",
      "50.7%"
     ]
    },
    {
     "name": "stderr",
     "output_type": "stream",
     "text": [
      "\r",
      "50.7%"
     ]
    },
    {
     "name": "stderr",
     "output_type": "stream",
     "text": [
      "\r",
      "50.8%"
     ]
    },
    {
     "name": "stderr",
     "output_type": "stream",
     "text": [
      "\r",
      "50.9%"
     ]
    },
    {
     "name": "stderr",
     "output_type": "stream",
     "text": [
      "\r",
      "51.0%"
     ]
    },
    {
     "name": "stderr",
     "output_type": "stream",
     "text": [
      "\r",
      "51.1%"
     ]
    },
    {
     "name": "stderr",
     "output_type": "stream",
     "text": [
      "\r",
      "51.2%"
     ]
    },
    {
     "name": "stderr",
     "output_type": "stream",
     "text": [
      "\r",
      "51.2%"
     ]
    },
    {
     "name": "stderr",
     "output_type": "stream",
     "text": [
      "\r",
      "51.3%"
     ]
    },
    {
     "name": "stderr",
     "output_type": "stream",
     "text": [
      "\r",
      "51.4%"
     ]
    },
    {
     "name": "stderr",
     "output_type": "stream",
     "text": [
      "\r",
      "51.5%"
     ]
    },
    {
     "name": "stderr",
     "output_type": "stream",
     "text": [
      "\r",
      "51.6%"
     ]
    },
    {
     "name": "stderr",
     "output_type": "stream",
     "text": [
      "\r",
      "51.7%"
     ]
    },
    {
     "name": "stderr",
     "output_type": "stream",
     "text": [
      "\r",
      "51.7%"
     ]
    },
    {
     "name": "stderr",
     "output_type": "stream",
     "text": [
      "\r",
      "51.8%"
     ]
    },
    {
     "name": "stderr",
     "output_type": "stream",
     "text": [
      "\r",
      "51.9%"
     ]
    },
    {
     "name": "stderr",
     "output_type": "stream",
     "text": [
      "\r",
      "52.0%"
     ]
    },
    {
     "name": "stderr",
     "output_type": "stream",
     "text": [
      "\r",
      "52.1%"
     ]
    },
    {
     "name": "stderr",
     "output_type": "stream",
     "text": [
      "\r",
      "52.1%"
     ]
    },
    {
     "name": "stderr",
     "output_type": "stream",
     "text": [
      "\r",
      "52.2%"
     ]
    },
    {
     "name": "stderr",
     "output_type": "stream",
     "text": [
      "\r",
      "52.3%"
     ]
    },
    {
     "name": "stderr",
     "output_type": "stream",
     "text": [
      "\r",
      "52.4%"
     ]
    },
    {
     "name": "stderr",
     "output_type": "stream",
     "text": [
      "\r",
      "52.5%"
     ]
    },
    {
     "name": "stderr",
     "output_type": "stream",
     "text": [
      "\r",
      "52.6%"
     ]
    },
    {
     "name": "stderr",
     "output_type": "stream",
     "text": [
      "\r",
      "52.6%"
     ]
    },
    {
     "name": "stderr",
     "output_type": "stream",
     "text": [
      "\r",
      "52.7%"
     ]
    },
    {
     "name": "stderr",
     "output_type": "stream",
     "text": [
      "\r",
      "52.8%"
     ]
    },
    {
     "name": "stderr",
     "output_type": "stream",
     "text": [
      "\r",
      "52.9%"
     ]
    },
    {
     "name": "stderr",
     "output_type": "stream",
     "text": [
      "\r",
      "53.0%"
     ]
    },
    {
     "name": "stderr",
     "output_type": "stream",
     "text": [
      "\r",
      "53.1%"
     ]
    },
    {
     "name": "stderr",
     "output_type": "stream",
     "text": [
      "\r",
      "53.1%"
     ]
    },
    {
     "name": "stderr",
     "output_type": "stream",
     "text": [
      "\r",
      "53.2%"
     ]
    },
    {
     "name": "stderr",
     "output_type": "stream",
     "text": [
      "\r",
      "53.3%"
     ]
    },
    {
     "name": "stderr",
     "output_type": "stream",
     "text": [
      "\r",
      "53.4%"
     ]
    },
    {
     "name": "stderr",
     "output_type": "stream",
     "text": [
      "\r",
      "53.5%"
     ]
    },
    {
     "name": "stderr",
     "output_type": "stream",
     "text": [
      "\r",
      "53.6%"
     ]
    },
    {
     "name": "stderr",
     "output_type": "stream",
     "text": [
      "\r",
      "53.6%"
     ]
    },
    {
     "name": "stderr",
     "output_type": "stream",
     "text": [
      "\r",
      "53.7%"
     ]
    },
    {
     "name": "stderr",
     "output_type": "stream",
     "text": [
      "\r",
      "53.8%"
     ]
    },
    {
     "name": "stderr",
     "output_type": "stream",
     "text": [
      "\r",
      "53.9%"
     ]
    },
    {
     "name": "stderr",
     "output_type": "stream",
     "text": [
      "\r",
      "54.0%"
     ]
    },
    {
     "name": "stderr",
     "output_type": "stream",
     "text": [
      "\r",
      "54.0%"
     ]
    },
    {
     "name": "stderr",
     "output_type": "stream",
     "text": [
      "\r",
      "54.1%"
     ]
    },
    {
     "name": "stderr",
     "output_type": "stream",
     "text": [
      "\r",
      "54.2%"
     ]
    },
    {
     "name": "stderr",
     "output_type": "stream",
     "text": [
      "\r",
      "54.3%"
     ]
    },
    {
     "name": "stderr",
     "output_type": "stream",
     "text": [
      "\r",
      "54.4%"
     ]
    },
    {
     "name": "stderr",
     "output_type": "stream",
     "text": [
      "\r",
      "54.5%"
     ]
    },
    {
     "name": "stderr",
     "output_type": "stream",
     "text": [
      "\r",
      "54.5%"
     ]
    },
    {
     "name": "stderr",
     "output_type": "stream",
     "text": [
      "\r",
      "54.6%"
     ]
    },
    {
     "name": "stderr",
     "output_type": "stream",
     "text": [
      "\r",
      "54.7%"
     ]
    },
    {
     "name": "stderr",
     "output_type": "stream",
     "text": [
      "\r",
      "54.8%"
     ]
    },
    {
     "name": "stderr",
     "output_type": "stream",
     "text": [
      "\r",
      "54.9%"
     ]
    },
    {
     "name": "stderr",
     "output_type": "stream",
     "text": [
      "\r",
      "55.0%"
     ]
    },
    {
     "name": "stderr",
     "output_type": "stream",
     "text": [
      "\r",
      "55.0%"
     ]
    },
    {
     "name": "stderr",
     "output_type": "stream",
     "text": [
      "\r",
      "55.1%"
     ]
    },
    {
     "name": "stderr",
     "output_type": "stream",
     "text": [
      "\r",
      "55.2%"
     ]
    },
    {
     "name": "stderr",
     "output_type": "stream",
     "text": [
      "\r",
      "55.3%"
     ]
    },
    {
     "name": "stderr",
     "output_type": "stream",
     "text": [
      "\r",
      "55.4%"
     ]
    },
    {
     "name": "stderr",
     "output_type": "stream",
     "text": [
      "\r",
      "55.5%"
     ]
    },
    {
     "name": "stderr",
     "output_type": "stream",
     "text": [
      "\r",
      "55.5%"
     ]
    },
    {
     "name": "stderr",
     "output_type": "stream",
     "text": [
      "\r",
      "55.6%"
     ]
    },
    {
     "name": "stderr",
     "output_type": "stream",
     "text": [
      "\r",
      "55.7%"
     ]
    },
    {
     "name": "stderr",
     "output_type": "stream",
     "text": [
      "\r",
      "55.8%"
     ]
    },
    {
     "name": "stderr",
     "output_type": "stream",
     "text": [
      "\r",
      "55.9%"
     ]
    },
    {
     "name": "stderr",
     "output_type": "stream",
     "text": [
      "\r",
      "55.9%"
     ]
    },
    {
     "name": "stderr",
     "output_type": "stream",
     "text": [
      "\r",
      "56.0%"
     ]
    },
    {
     "name": "stderr",
     "output_type": "stream",
     "text": [
      "\r",
      "56.1%"
     ]
    },
    {
     "name": "stderr",
     "output_type": "stream",
     "text": [
      "\r",
      "56.2%"
     ]
    },
    {
     "name": "stderr",
     "output_type": "stream",
     "text": [
      "\r",
      "56.3%"
     ]
    },
    {
     "name": "stderr",
     "output_type": "stream",
     "text": [
      "\r",
      "56.4%"
     ]
    },
    {
     "name": "stderr",
     "output_type": "stream",
     "text": [
      "\r",
      "56.4%"
     ]
    },
    {
     "name": "stderr",
     "output_type": "stream",
     "text": [
      "\r",
      "56.5%"
     ]
    },
    {
     "name": "stderr",
     "output_type": "stream",
     "text": [
      "\r",
      "56.6%"
     ]
    },
    {
     "name": "stderr",
     "output_type": "stream",
     "text": [
      "\r",
      "56.7%"
     ]
    },
    {
     "name": "stderr",
     "output_type": "stream",
     "text": [
      "\r",
      "56.8%"
     ]
    },
    {
     "name": "stderr",
     "output_type": "stream",
     "text": [
      "\r",
      "56.9%"
     ]
    },
    {
     "name": "stderr",
     "output_type": "stream",
     "text": [
      "\r",
      "56.9%"
     ]
    },
    {
     "name": "stderr",
     "output_type": "stream",
     "text": [
      "\r",
      "57.0%"
     ]
    },
    {
     "name": "stderr",
     "output_type": "stream",
     "text": [
      "\r",
      "57.1%"
     ]
    },
    {
     "name": "stderr",
     "output_type": "stream",
     "text": [
      "\r",
      "57.2%"
     ]
    },
    {
     "name": "stderr",
     "output_type": "stream",
     "text": [
      "\r",
      "57.3%"
     ]
    },
    {
     "name": "stderr",
     "output_type": "stream",
     "text": [
      "\r",
      "57.4%"
     ]
    },
    {
     "name": "stderr",
     "output_type": "stream",
     "text": [
      "\r",
      "57.4%"
     ]
    },
    {
     "name": "stderr",
     "output_type": "stream",
     "text": [
      "\r",
      "57.5%"
     ]
    },
    {
     "name": "stderr",
     "output_type": "stream",
     "text": [
      "\r",
      "57.6%"
     ]
    },
    {
     "name": "stderr",
     "output_type": "stream",
     "text": [
      "\r",
      "57.7%"
     ]
    },
    {
     "name": "stderr",
     "output_type": "stream",
     "text": [
      "\r",
      "57.8%"
     ]
    },
    {
     "name": "stderr",
     "output_type": "stream",
     "text": [
      "\r",
      "57.9%"
     ]
    },
    {
     "name": "stderr",
     "output_type": "stream",
     "text": [
      "\r",
      "57.9%"
     ]
    },
    {
     "name": "stderr",
     "output_type": "stream",
     "text": [
      "\r",
      "58.0%"
     ]
    },
    {
     "name": "stderr",
     "output_type": "stream",
     "text": [
      "\r",
      "58.1%"
     ]
    },
    {
     "name": "stderr",
     "output_type": "stream",
     "text": [
      "\r",
      "58.2%"
     ]
    },
    {
     "name": "stderr",
     "output_type": "stream",
     "text": [
      "\r",
      "58.3%"
     ]
    },
    {
     "name": "stderr",
     "output_type": "stream",
     "text": [
      "\r",
      "58.3%"
     ]
    },
    {
     "name": "stderr",
     "output_type": "stream",
     "text": [
      "\r",
      "58.4%"
     ]
    },
    {
     "name": "stderr",
     "output_type": "stream",
     "text": [
      "\r",
      "58.5%"
     ]
    },
    {
     "name": "stderr",
     "output_type": "stream",
     "text": [
      "\r",
      "58.6%"
     ]
    },
    {
     "name": "stderr",
     "output_type": "stream",
     "text": [
      "\r",
      "58.7%"
     ]
    },
    {
     "name": "stderr",
     "output_type": "stream",
     "text": [
      "\r",
      "58.8%"
     ]
    },
    {
     "name": "stderr",
     "output_type": "stream",
     "text": [
      "\r",
      "58.8%"
     ]
    },
    {
     "name": "stderr",
     "output_type": "stream",
     "text": [
      "\r",
      "58.9%"
     ]
    },
    {
     "name": "stderr",
     "output_type": "stream",
     "text": [
      "\r",
      "59.0%"
     ]
    },
    {
     "name": "stderr",
     "output_type": "stream",
     "text": [
      "\r",
      "59.1%"
     ]
    },
    {
     "name": "stderr",
     "output_type": "stream",
     "text": [
      "\r",
      "59.2%"
     ]
    },
    {
     "name": "stderr",
     "output_type": "stream",
     "text": [
      "\r",
      "59.3%"
     ]
    },
    {
     "name": "stderr",
     "output_type": "stream",
     "text": [
      "\r",
      "59.3%"
     ]
    },
    {
     "name": "stderr",
     "output_type": "stream",
     "text": [
      "\r",
      "59.4%"
     ]
    },
    {
     "name": "stderr",
     "output_type": "stream",
     "text": [
      "\r",
      "59.5%"
     ]
    },
    {
     "name": "stderr",
     "output_type": "stream",
     "text": [
      "\r",
      "59.6%"
     ]
    },
    {
     "name": "stderr",
     "output_type": "stream",
     "text": [
      "\r",
      "59.7%"
     ]
    },
    {
     "name": "stderr",
     "output_type": "stream",
     "text": [
      "\r",
      "59.8%"
     ]
    },
    {
     "name": "stderr",
     "output_type": "stream",
     "text": [
      "\r",
      "59.8%"
     ]
    },
    {
     "name": "stderr",
     "output_type": "stream",
     "text": [
      "\r",
      "59.9%"
     ]
    },
    {
     "name": "stderr",
     "output_type": "stream",
     "text": [
      "\r",
      "60.0%"
     ]
    },
    {
     "name": "stderr",
     "output_type": "stream",
     "text": [
      "\r",
      "60.1%"
     ]
    },
    {
     "name": "stderr",
     "output_type": "stream",
     "text": [
      "\r",
      "60.2%"
     ]
    },
    {
     "name": "stderr",
     "output_type": "stream",
     "text": [
      "\r",
      "60.2%"
     ]
    },
    {
     "name": "stderr",
     "output_type": "stream",
     "text": [
      "\r",
      "60.3%"
     ]
    },
    {
     "name": "stderr",
     "output_type": "stream",
     "text": [
      "\r",
      "60.4%"
     ]
    },
    {
     "name": "stderr",
     "output_type": "stream",
     "text": [
      "\r",
      "60.5%"
     ]
    },
    {
     "name": "stderr",
     "output_type": "stream",
     "text": [
      "\r",
      "60.6%"
     ]
    },
    {
     "name": "stderr",
     "output_type": "stream",
     "text": [
      "\r",
      "60.7%"
     ]
    },
    {
     "name": "stderr",
     "output_type": "stream",
     "text": [
      "\r",
      "60.7%"
     ]
    },
    {
     "name": "stderr",
     "output_type": "stream",
     "text": [
      "\r",
      "60.8%"
     ]
    },
    {
     "name": "stderr",
     "output_type": "stream",
     "text": [
      "\r",
      "60.9%"
     ]
    },
    {
     "name": "stderr",
     "output_type": "stream",
     "text": [
      "\r",
      "61.0%"
     ]
    },
    {
     "name": "stderr",
     "output_type": "stream",
     "text": [
      "\r",
      "61.1%"
     ]
    },
    {
     "name": "stderr",
     "output_type": "stream",
     "text": [
      "\r",
      "61.2%"
     ]
    },
    {
     "name": "stderr",
     "output_type": "stream",
     "text": [
      "\r",
      "61.2%"
     ]
    },
    {
     "name": "stderr",
     "output_type": "stream",
     "text": [
      "\r",
      "61.3%"
     ]
    },
    {
     "name": "stderr",
     "output_type": "stream",
     "text": [
      "\r",
      "61.4%"
     ]
    },
    {
     "name": "stderr",
     "output_type": "stream",
     "text": [
      "\r",
      "61.5%"
     ]
    },
    {
     "name": "stderr",
     "output_type": "stream",
     "text": [
      "\r",
      "61.6%"
     ]
    },
    {
     "name": "stderr",
     "output_type": "stream",
     "text": [
      "\r",
      "61.7%"
     ]
    },
    {
     "name": "stderr",
     "output_type": "stream",
     "text": [
      "\r",
      "61.7%"
     ]
    },
    {
     "name": "stderr",
     "output_type": "stream",
     "text": [
      "\r",
      "61.8%"
     ]
    },
    {
     "name": "stderr",
     "output_type": "stream",
     "text": [
      "\r",
      "61.9%"
     ]
    },
    {
     "name": "stderr",
     "output_type": "stream",
     "text": [
      "\r",
      "62.0%"
     ]
    },
    {
     "name": "stderr",
     "output_type": "stream",
     "text": [
      "\r",
      "62.1%"
     ]
    },
    {
     "name": "stderr",
     "output_type": "stream",
     "text": [
      "\r",
      "62.1%"
     ]
    },
    {
     "name": "stderr",
     "output_type": "stream",
     "text": [
      "\r",
      "62.2%"
     ]
    },
    {
     "name": "stderr",
     "output_type": "stream",
     "text": [
      "\r",
      "62.3%"
     ]
    },
    {
     "name": "stderr",
     "output_type": "stream",
     "text": [
      "\r",
      "62.4%"
     ]
    },
    {
     "name": "stderr",
     "output_type": "stream",
     "text": [
      "\r",
      "62.5%"
     ]
    },
    {
     "name": "stderr",
     "output_type": "stream",
     "text": [
      "\r",
      "62.6%"
     ]
    },
    {
     "name": "stderr",
     "output_type": "stream",
     "text": [
      "\r",
      "62.6%"
     ]
    },
    {
     "name": "stderr",
     "output_type": "stream",
     "text": [
      "\r",
      "62.7%"
     ]
    },
    {
     "name": "stderr",
     "output_type": "stream",
     "text": [
      "\r",
      "62.8%"
     ]
    },
    {
     "name": "stderr",
     "output_type": "stream",
     "text": [
      "\r",
      "62.9%"
     ]
    },
    {
     "name": "stderr",
     "output_type": "stream",
     "text": [
      "\r",
      "63.0%"
     ]
    },
    {
     "name": "stderr",
     "output_type": "stream",
     "text": [
      "\r",
      "63.1%"
     ]
    },
    {
     "name": "stderr",
     "output_type": "stream",
     "text": [
      "\r",
      "63.1%"
     ]
    },
    {
     "name": "stderr",
     "output_type": "stream",
     "text": [
      "\r",
      "63.2%"
     ]
    },
    {
     "name": "stderr",
     "output_type": "stream",
     "text": [
      "\r",
      "63.3%"
     ]
    },
    {
     "name": "stderr",
     "output_type": "stream",
     "text": [
      "\r",
      "63.4%"
     ]
    },
    {
     "name": "stderr",
     "output_type": "stream",
     "text": [
      "\r",
      "63.5%"
     ]
    },
    {
     "name": "stderr",
     "output_type": "stream",
     "text": [
      "\r",
      "63.6%"
     ]
    },
    {
     "name": "stderr",
     "output_type": "stream",
     "text": [
      "\r",
      "63.6%"
     ]
    },
    {
     "name": "stderr",
     "output_type": "stream",
     "text": [
      "\r",
      "63.7%"
     ]
    },
    {
     "name": "stderr",
     "output_type": "stream",
     "text": [
      "\r",
      "63.8%"
     ]
    },
    {
     "name": "stderr",
     "output_type": "stream",
     "text": [
      "\r",
      "63.9%"
     ]
    },
    {
     "name": "stderr",
     "output_type": "stream",
     "text": [
      "\r",
      "64.0%"
     ]
    },
    {
     "name": "stderr",
     "output_type": "stream",
     "text": [
      "\r",
      "64.0%"
     ]
    },
    {
     "name": "stderr",
     "output_type": "stream",
     "text": [
      "\r",
      "64.1%"
     ]
    },
    {
     "name": "stderr",
     "output_type": "stream",
     "text": [
      "\r",
      "64.2%"
     ]
    },
    {
     "name": "stderr",
     "output_type": "stream",
     "text": [
      "\r",
      "64.3%"
     ]
    },
    {
     "name": "stderr",
     "output_type": "stream",
     "text": [
      "\r",
      "64.4%"
     ]
    },
    {
     "name": "stderr",
     "output_type": "stream",
     "text": [
      "\r",
      "64.5%"
     ]
    },
    {
     "name": "stderr",
     "output_type": "stream",
     "text": [
      "\r",
      "64.5%"
     ]
    },
    {
     "name": "stderr",
     "output_type": "stream",
     "text": [
      "\r",
      "64.6%"
     ]
    },
    {
     "name": "stderr",
     "output_type": "stream",
     "text": [
      "\r",
      "64.7%"
     ]
    },
    {
     "name": "stderr",
     "output_type": "stream",
     "text": [
      "\r",
      "64.8%"
     ]
    },
    {
     "name": "stderr",
     "output_type": "stream",
     "text": [
      "\r",
      "64.9%"
     ]
    },
    {
     "name": "stderr",
     "output_type": "stream",
     "text": [
      "\r",
      "65.0%"
     ]
    },
    {
     "name": "stderr",
     "output_type": "stream",
     "text": [
      "\r",
      "65.0%"
     ]
    },
    {
     "name": "stderr",
     "output_type": "stream",
     "text": [
      "\r",
      "65.1%"
     ]
    },
    {
     "name": "stderr",
     "output_type": "stream",
     "text": [
      "\r",
      "65.2%"
     ]
    },
    {
     "name": "stderr",
     "output_type": "stream",
     "text": [
      "\r",
      "65.3%"
     ]
    },
    {
     "name": "stderr",
     "output_type": "stream",
     "text": [
      "\r",
      "65.4%"
     ]
    },
    {
     "name": "stderr",
     "output_type": "stream",
     "text": [
      "\r",
      "65.5%"
     ]
    },
    {
     "name": "stderr",
     "output_type": "stream",
     "text": [
      "\r",
      "65.5%"
     ]
    },
    {
     "name": "stderr",
     "output_type": "stream",
     "text": [
      "\r",
      "65.6%"
     ]
    },
    {
     "name": "stderr",
     "output_type": "stream",
     "text": [
      "\r",
      "65.7%"
     ]
    },
    {
     "name": "stderr",
     "output_type": "stream",
     "text": [
      "\r",
      "65.8%"
     ]
    },
    {
     "name": "stderr",
     "output_type": "stream",
     "text": [
      "\r",
      "65.9%"
     ]
    },
    {
     "name": "stderr",
     "output_type": "stream",
     "text": [
      "\r",
      "65.9%"
     ]
    },
    {
     "name": "stderr",
     "output_type": "stream",
     "text": [
      "\r",
      "66.0%"
     ]
    },
    {
     "name": "stderr",
     "output_type": "stream",
     "text": [
      "\r",
      "66.1%"
     ]
    },
    {
     "name": "stderr",
     "output_type": "stream",
     "text": [
      "\r",
      "66.2%"
     ]
    },
    {
     "name": "stderr",
     "output_type": "stream",
     "text": [
      "\r",
      "66.3%"
     ]
    },
    {
     "name": "stderr",
     "output_type": "stream",
     "text": [
      "\r",
      "66.4%"
     ]
    },
    {
     "name": "stderr",
     "output_type": "stream",
     "text": [
      "\r",
      "66.4%"
     ]
    },
    {
     "name": "stderr",
     "output_type": "stream",
     "text": [
      "\r",
      "66.5%"
     ]
    },
    {
     "name": "stderr",
     "output_type": "stream",
     "text": [
      "\r",
      "66.6%"
     ]
    },
    {
     "name": "stderr",
     "output_type": "stream",
     "text": [
      "\r",
      "66.7%"
     ]
    },
    {
     "name": "stderr",
     "output_type": "stream",
     "text": [
      "\r",
      "66.8%"
     ]
    },
    {
     "name": "stderr",
     "output_type": "stream",
     "text": [
      "\r",
      "66.9%"
     ]
    },
    {
     "name": "stderr",
     "output_type": "stream",
     "text": [
      "\r",
      "66.9%"
     ]
    },
    {
     "name": "stderr",
     "output_type": "stream",
     "text": [
      "\r",
      "67.0%"
     ]
    },
    {
     "name": "stderr",
     "output_type": "stream",
     "text": [
      "\r",
      "67.1%"
     ]
    },
    {
     "name": "stderr",
     "output_type": "stream",
     "text": [
      "\r",
      "67.2%"
     ]
    },
    {
     "name": "stderr",
     "output_type": "stream",
     "text": [
      "\r",
      "67.3%"
     ]
    },
    {
     "name": "stderr",
     "output_type": "stream",
     "text": [
      "\r",
      "67.4%"
     ]
    },
    {
     "name": "stderr",
     "output_type": "stream",
     "text": [
      "\r",
      "67.4%"
     ]
    },
    {
     "name": "stderr",
     "output_type": "stream",
     "text": [
      "\r",
      "67.5%"
     ]
    },
    {
     "name": "stderr",
     "output_type": "stream",
     "text": [
      "\r",
      "67.6%"
     ]
    },
    {
     "name": "stderr",
     "output_type": "stream",
     "text": [
      "\r",
      "67.7%"
     ]
    },
    {
     "name": "stderr",
     "output_type": "stream",
     "text": [
      "\r",
      "67.8%"
     ]
    },
    {
     "name": "stderr",
     "output_type": "stream",
     "text": [
      "\r",
      "67.9%"
     ]
    },
    {
     "name": "stderr",
     "output_type": "stream",
     "text": [
      "\r",
      "67.9%"
     ]
    },
    {
     "name": "stderr",
     "output_type": "stream",
     "text": [
      "\r",
      "68.0%"
     ]
    },
    {
     "name": "stderr",
     "output_type": "stream",
     "text": [
      "\r",
      "68.1%"
     ]
    },
    {
     "name": "stderr",
     "output_type": "stream",
     "text": [
      "\r",
      "68.2%"
     ]
    },
    {
     "name": "stderr",
     "output_type": "stream",
     "text": [
      "\r",
      "68.3%"
     ]
    },
    {
     "name": "stderr",
     "output_type": "stream",
     "text": [
      "\r",
      "68.3%"
     ]
    },
    {
     "name": "stderr",
     "output_type": "stream",
     "text": [
      "\r",
      "68.4%"
     ]
    },
    {
     "name": "stderr",
     "output_type": "stream",
     "text": [
      "\r",
      "68.5%"
     ]
    },
    {
     "name": "stderr",
     "output_type": "stream",
     "text": [
      "\r",
      "68.6%"
     ]
    },
    {
     "name": "stderr",
     "output_type": "stream",
     "text": [
      "\r",
      "68.7%"
     ]
    },
    {
     "name": "stderr",
     "output_type": "stream",
     "text": [
      "\r",
      "68.8%"
     ]
    },
    {
     "name": "stderr",
     "output_type": "stream",
     "text": [
      "\r",
      "68.8%"
     ]
    },
    {
     "name": "stderr",
     "output_type": "stream",
     "text": [
      "\r",
      "68.9%"
     ]
    },
    {
     "name": "stderr",
     "output_type": "stream",
     "text": [
      "\r",
      "69.0%"
     ]
    },
    {
     "name": "stderr",
     "output_type": "stream",
     "text": [
      "\r",
      "69.1%"
     ]
    },
    {
     "name": "stderr",
     "output_type": "stream",
     "text": [
      "\r",
      "69.2%"
     ]
    },
    {
     "name": "stderr",
     "output_type": "stream",
     "text": [
      "\r",
      "69.3%"
     ]
    },
    {
     "name": "stderr",
     "output_type": "stream",
     "text": [
      "\r",
      "69.3%"
     ]
    },
    {
     "name": "stderr",
     "output_type": "stream",
     "text": [
      "\r",
      "69.4%"
     ]
    },
    {
     "name": "stderr",
     "output_type": "stream",
     "text": [
      "\r",
      "69.5%"
     ]
    },
    {
     "name": "stderr",
     "output_type": "stream",
     "text": [
      "\r",
      "69.6%"
     ]
    },
    {
     "name": "stderr",
     "output_type": "stream",
     "text": [
      "\r",
      "69.7%"
     ]
    },
    {
     "name": "stderr",
     "output_type": "stream",
     "text": [
      "\r",
      "69.8%"
     ]
    },
    {
     "name": "stderr",
     "output_type": "stream",
     "text": [
      "\r",
      "69.8%"
     ]
    },
    {
     "name": "stderr",
     "output_type": "stream",
     "text": [
      "\r",
      "69.9%"
     ]
    },
    {
     "name": "stderr",
     "output_type": "stream",
     "text": [
      "\r",
      "70.0%"
     ]
    },
    {
     "name": "stderr",
     "output_type": "stream",
     "text": [
      "\r",
      "70.1%"
     ]
    },
    {
     "name": "stderr",
     "output_type": "stream",
     "text": [
      "\r",
      "70.2%"
     ]
    },
    {
     "name": "stderr",
     "output_type": "stream",
     "text": [
      "\r",
      "70.2%"
     ]
    },
    {
     "name": "stderr",
     "output_type": "stream",
     "text": [
      "\r",
      "70.3%"
     ]
    },
    {
     "name": "stderr",
     "output_type": "stream",
     "text": [
      "\r",
      "70.4%"
     ]
    },
    {
     "name": "stderr",
     "output_type": "stream",
     "text": [
      "\r",
      "70.5%"
     ]
    },
    {
     "name": "stderr",
     "output_type": "stream",
     "text": [
      "\r",
      "70.6%"
     ]
    },
    {
     "name": "stderr",
     "output_type": "stream",
     "text": [
      "\r",
      "70.7%"
     ]
    },
    {
     "name": "stderr",
     "output_type": "stream",
     "text": [
      "\r",
      "70.7%"
     ]
    },
    {
     "name": "stderr",
     "output_type": "stream",
     "text": [
      "\r",
      "70.8%"
     ]
    },
    {
     "name": "stderr",
     "output_type": "stream",
     "text": [
      "\r",
      "70.9%"
     ]
    },
    {
     "name": "stderr",
     "output_type": "stream",
     "text": [
      "\r",
      "71.0%"
     ]
    },
    {
     "name": "stderr",
     "output_type": "stream",
     "text": [
      "\r",
      "71.1%"
     ]
    },
    {
     "name": "stderr",
     "output_type": "stream",
     "text": [
      "\r",
      "71.2%"
     ]
    },
    {
     "name": "stderr",
     "output_type": "stream",
     "text": [
      "\r",
      "71.2%"
     ]
    },
    {
     "name": "stderr",
     "output_type": "stream",
     "text": [
      "\r",
      "71.3%"
     ]
    },
    {
     "name": "stderr",
     "output_type": "stream",
     "text": [
      "\r",
      "71.4%"
     ]
    },
    {
     "name": "stderr",
     "output_type": "stream",
     "text": [
      "\r",
      "71.5%"
     ]
    },
    {
     "name": "stderr",
     "output_type": "stream",
     "text": [
      "\r",
      "71.6%"
     ]
    },
    {
     "name": "stderr",
     "output_type": "stream",
     "text": [
      "\r",
      "71.7%"
     ]
    },
    {
     "name": "stderr",
     "output_type": "stream",
     "text": [
      "\r",
      "71.7%"
     ]
    },
    {
     "name": "stderr",
     "output_type": "stream",
     "text": [
      "\r",
      "71.8%"
     ]
    },
    {
     "name": "stderr",
     "output_type": "stream",
     "text": [
      "\r",
      "71.9%"
     ]
    },
    {
     "name": "stderr",
     "output_type": "stream",
     "text": [
      "\r",
      "72.0%"
     ]
    },
    {
     "name": "stderr",
     "output_type": "stream",
     "text": [
      "\r",
      "72.1%"
     ]
    },
    {
     "name": "stderr",
     "output_type": "stream",
     "text": [
      "\r",
      "72.1%"
     ]
    },
    {
     "name": "stderr",
     "output_type": "stream",
     "text": [
      "\r",
      "72.2%"
     ]
    },
    {
     "name": "stderr",
     "output_type": "stream",
     "text": [
      "\r",
      "72.3%"
     ]
    },
    {
     "name": "stderr",
     "output_type": "stream",
     "text": [
      "\r",
      "72.4%"
     ]
    },
    {
     "name": "stderr",
     "output_type": "stream",
     "text": [
      "\r",
      "72.5%"
     ]
    },
    {
     "name": "stderr",
     "output_type": "stream",
     "text": [
      "\r",
      "72.6%"
     ]
    },
    {
     "name": "stderr",
     "output_type": "stream",
     "text": [
      "\r",
      "72.6%"
     ]
    },
    {
     "name": "stderr",
     "output_type": "stream",
     "text": [
      "\r",
      "72.7%"
     ]
    },
    {
     "name": "stderr",
     "output_type": "stream",
     "text": [
      "\r",
      "72.8%"
     ]
    },
    {
     "name": "stderr",
     "output_type": "stream",
     "text": [
      "\r",
      "72.9%"
     ]
    },
    {
     "name": "stderr",
     "output_type": "stream",
     "text": [
      "\r",
      "73.0%"
     ]
    },
    {
     "name": "stderr",
     "output_type": "stream",
     "text": [
      "\r",
      "73.1%"
     ]
    },
    {
     "name": "stderr",
     "output_type": "stream",
     "text": [
      "\r",
      "73.1%"
     ]
    },
    {
     "name": "stderr",
     "output_type": "stream",
     "text": [
      "\r",
      "73.2%"
     ]
    },
    {
     "name": "stderr",
     "output_type": "stream",
     "text": [
      "\r",
      "73.3%"
     ]
    },
    {
     "name": "stderr",
     "output_type": "stream",
     "text": [
      "\r",
      "73.4%"
     ]
    },
    {
     "name": "stderr",
     "output_type": "stream",
     "text": [
      "\r",
      "73.5%"
     ]
    },
    {
     "name": "stderr",
     "output_type": "stream",
     "text": [
      "\r",
      "73.6%"
     ]
    },
    {
     "name": "stderr",
     "output_type": "stream",
     "text": [
      "\r",
      "73.6%"
     ]
    },
    {
     "name": "stderr",
     "output_type": "stream",
     "text": [
      "\r",
      "73.7%"
     ]
    },
    {
     "name": "stderr",
     "output_type": "stream",
     "text": [
      "\r",
      "73.8%"
     ]
    },
    {
     "name": "stderr",
     "output_type": "stream",
     "text": [
      "\r",
      "73.9%"
     ]
    },
    {
     "name": "stderr",
     "output_type": "stream",
     "text": [
      "\r",
      "74.0%"
     ]
    },
    {
     "name": "stderr",
     "output_type": "stream",
     "text": [
      "\r",
      "74.0%"
     ]
    },
    {
     "name": "stderr",
     "output_type": "stream",
     "text": [
      "\r",
      "74.1%"
     ]
    },
    {
     "name": "stderr",
     "output_type": "stream",
     "text": [
      "\r",
      "74.2%"
     ]
    },
    {
     "name": "stderr",
     "output_type": "stream",
     "text": [
      "\r",
      "74.3%"
     ]
    },
    {
     "name": "stderr",
     "output_type": "stream",
     "text": [
      "\r",
      "74.4%"
     ]
    },
    {
     "name": "stderr",
     "output_type": "stream",
     "text": [
      "\r",
      "74.5%"
     ]
    },
    {
     "name": "stderr",
     "output_type": "stream",
     "text": [
      "\r",
      "74.5%"
     ]
    },
    {
     "name": "stderr",
     "output_type": "stream",
     "text": [
      "\r",
      "74.6%"
     ]
    },
    {
     "name": "stderr",
     "output_type": "stream",
     "text": [
      "\r",
      "74.7%"
     ]
    },
    {
     "name": "stderr",
     "output_type": "stream",
     "text": [
      "\r",
      "74.8%"
     ]
    },
    {
     "name": "stderr",
     "output_type": "stream",
     "text": [
      "\r",
      "74.9%"
     ]
    },
    {
     "name": "stderr",
     "output_type": "stream",
     "text": [
      "\r",
      "75.0%"
     ]
    },
    {
     "name": "stderr",
     "output_type": "stream",
     "text": [
      "\r",
      "75.0%"
     ]
    },
    {
     "name": "stderr",
     "output_type": "stream",
     "text": [
      "\r",
      "75.1%"
     ]
    },
    {
     "name": "stderr",
     "output_type": "stream",
     "text": [
      "\r",
      "75.2%"
     ]
    },
    {
     "name": "stderr",
     "output_type": "stream",
     "text": [
      "\r",
      "75.3%"
     ]
    },
    {
     "name": "stderr",
     "output_type": "stream",
     "text": [
      "\r",
      "75.4%"
     ]
    },
    {
     "name": "stderr",
     "output_type": "stream",
     "text": [
      "\r",
      "75.5%"
     ]
    },
    {
     "name": "stderr",
     "output_type": "stream",
     "text": [
      "\r",
      "75.5%"
     ]
    },
    {
     "name": "stderr",
     "output_type": "stream",
     "text": [
      "\r",
      "75.6%"
     ]
    },
    {
     "name": "stderr",
     "output_type": "stream",
     "text": [
      "\r",
      "75.7%"
     ]
    },
    {
     "name": "stderr",
     "output_type": "stream",
     "text": [
      "\r",
      "75.8%"
     ]
    },
    {
     "name": "stderr",
     "output_type": "stream",
     "text": [
      "\r",
      "75.9%"
     ]
    },
    {
     "name": "stderr",
     "output_type": "stream",
     "text": [
      "\r",
      "75.9%"
     ]
    },
    {
     "name": "stderr",
     "output_type": "stream",
     "text": [
      "\r",
      "76.0%"
     ]
    },
    {
     "name": "stderr",
     "output_type": "stream",
     "text": [
      "\r",
      "76.1%"
     ]
    },
    {
     "name": "stderr",
     "output_type": "stream",
     "text": [
      "\r",
      "76.2%"
     ]
    },
    {
     "name": "stderr",
     "output_type": "stream",
     "text": [
      "\r",
      "76.3%"
     ]
    },
    {
     "name": "stderr",
     "output_type": "stream",
     "text": [
      "\r",
      "76.4%"
     ]
    },
    {
     "name": "stderr",
     "output_type": "stream",
     "text": [
      "\r",
      "76.4%"
     ]
    },
    {
     "name": "stderr",
     "output_type": "stream",
     "text": [
      "\r",
      "76.5%"
     ]
    },
    {
     "name": "stderr",
     "output_type": "stream",
     "text": [
      "\r",
      "76.6%"
     ]
    },
    {
     "name": "stderr",
     "output_type": "stream",
     "text": [
      "\r",
      "76.7%"
     ]
    },
    {
     "name": "stderr",
     "output_type": "stream",
     "text": [
      "\r",
      "76.8%"
     ]
    },
    {
     "name": "stderr",
     "output_type": "stream",
     "text": [
      "\r",
      "76.9%"
     ]
    },
    {
     "name": "stderr",
     "output_type": "stream",
     "text": [
      "\r",
      "76.9%"
     ]
    },
    {
     "name": "stderr",
     "output_type": "stream",
     "text": [
      "\r",
      "77.0%"
     ]
    },
    {
     "name": "stderr",
     "output_type": "stream",
     "text": [
      "\r",
      "77.1%"
     ]
    },
    {
     "name": "stderr",
     "output_type": "stream",
     "text": [
      "\r",
      "77.2%"
     ]
    },
    {
     "name": "stderr",
     "output_type": "stream",
     "text": [
      "\r",
      "77.3%"
     ]
    },
    {
     "name": "stderr",
     "output_type": "stream",
     "text": [
      "\r",
      "77.4%"
     ]
    },
    {
     "name": "stderr",
     "output_type": "stream",
     "text": [
      "\r",
      "77.4%"
     ]
    },
    {
     "name": "stderr",
     "output_type": "stream",
     "text": [
      "\r",
      "77.5%"
     ]
    },
    {
     "name": "stderr",
     "output_type": "stream",
     "text": [
      "\r",
      "77.6%"
     ]
    },
    {
     "name": "stderr",
     "output_type": "stream",
     "text": [
      "\r",
      "77.7%"
     ]
    },
    {
     "name": "stderr",
     "output_type": "stream",
     "text": [
      "\r",
      "77.8%"
     ]
    },
    {
     "name": "stderr",
     "output_type": "stream",
     "text": [
      "\r",
      "77.9%"
     ]
    },
    {
     "name": "stderr",
     "output_type": "stream",
     "text": [
      "\r",
      "77.9%"
     ]
    },
    {
     "name": "stderr",
     "output_type": "stream",
     "text": [
      "\r",
      "78.0%"
     ]
    },
    {
     "name": "stderr",
     "output_type": "stream",
     "text": [
      "\r",
      "78.1%"
     ]
    },
    {
     "name": "stderr",
     "output_type": "stream",
     "text": [
      "\r",
      "78.2%"
     ]
    },
    {
     "name": "stderr",
     "output_type": "stream",
     "text": [
      "\r",
      "78.3%"
     ]
    },
    {
     "name": "stderr",
     "output_type": "stream",
     "text": [
      "\r",
      "78.3%"
     ]
    },
    {
     "name": "stderr",
     "output_type": "stream",
     "text": [
      "\r",
      "78.4%"
     ]
    },
    {
     "name": "stderr",
     "output_type": "stream",
     "text": [
      "\r",
      "78.5%"
     ]
    },
    {
     "name": "stderr",
     "output_type": "stream",
     "text": [
      "\r",
      "78.6%"
     ]
    },
    {
     "name": "stderr",
     "output_type": "stream",
     "text": [
      "\r",
      "78.7%"
     ]
    },
    {
     "name": "stderr",
     "output_type": "stream",
     "text": [
      "\r",
      "78.8%"
     ]
    },
    {
     "name": "stderr",
     "output_type": "stream",
     "text": [
      "\r",
      "78.8%"
     ]
    },
    {
     "name": "stderr",
     "output_type": "stream",
     "text": [
      "\r",
      "78.9%"
     ]
    },
    {
     "name": "stderr",
     "output_type": "stream",
     "text": [
      "\r",
      "79.0%"
     ]
    },
    {
     "name": "stderr",
     "output_type": "stream",
     "text": [
      "\r",
      "79.1%"
     ]
    },
    {
     "name": "stderr",
     "output_type": "stream",
     "text": [
      "\r",
      "79.2%"
     ]
    },
    {
     "name": "stderr",
     "output_type": "stream",
     "text": [
      "\r",
      "79.3%"
     ]
    },
    {
     "name": "stderr",
     "output_type": "stream",
     "text": [
      "\r",
      "79.3%"
     ]
    },
    {
     "name": "stderr",
     "output_type": "stream",
     "text": [
      "\r",
      "79.4%"
     ]
    },
    {
     "name": "stderr",
     "output_type": "stream",
     "text": [
      "\r",
      "79.5%"
     ]
    },
    {
     "name": "stderr",
     "output_type": "stream",
     "text": [
      "\r",
      "79.6%"
     ]
    },
    {
     "name": "stderr",
     "output_type": "stream",
     "text": [
      "\r",
      "79.7%"
     ]
    },
    {
     "name": "stderr",
     "output_type": "stream",
     "text": [
      "\r",
      "79.8%"
     ]
    },
    {
     "name": "stderr",
     "output_type": "stream",
     "text": [
      "\r",
      "79.8%"
     ]
    },
    {
     "name": "stderr",
     "output_type": "stream",
     "text": [
      "\r",
      "79.9%"
     ]
    },
    {
     "name": "stderr",
     "output_type": "stream",
     "text": [
      "\r",
      "80.0%"
     ]
    },
    {
     "name": "stderr",
     "output_type": "stream",
     "text": [
      "\r",
      "80.1%"
     ]
    },
    {
     "name": "stderr",
     "output_type": "stream",
     "text": [
      "\r",
      "80.2%"
     ]
    },
    {
     "name": "stderr",
     "output_type": "stream",
     "text": [
      "\r",
      "80.2%"
     ]
    },
    {
     "name": "stderr",
     "output_type": "stream",
     "text": [
      "\r",
      "80.3%"
     ]
    },
    {
     "name": "stderr",
     "output_type": "stream",
     "text": [
      "\r",
      "80.4%"
     ]
    },
    {
     "name": "stderr",
     "output_type": "stream",
     "text": [
      "\r",
      "80.5%"
     ]
    },
    {
     "name": "stderr",
     "output_type": "stream",
     "text": [
      "\r",
      "80.6%"
     ]
    },
    {
     "name": "stderr",
     "output_type": "stream",
     "text": [
      "\r",
      "80.7%"
     ]
    },
    {
     "name": "stderr",
     "output_type": "stream",
     "text": [
      "\r",
      "80.7%"
     ]
    },
    {
     "name": "stderr",
     "output_type": "stream",
     "text": [
      "\r",
      "80.8%"
     ]
    },
    {
     "name": "stderr",
     "output_type": "stream",
     "text": [
      "\r",
      "80.9%"
     ]
    },
    {
     "name": "stderr",
     "output_type": "stream",
     "text": [
      "\r",
      "81.0%"
     ]
    },
    {
     "name": "stderr",
     "output_type": "stream",
     "text": [
      "\r",
      "81.1%"
     ]
    },
    {
     "name": "stderr",
     "output_type": "stream",
     "text": [
      "\r",
      "81.2%"
     ]
    },
    {
     "name": "stderr",
     "output_type": "stream",
     "text": [
      "\r",
      "81.2%"
     ]
    },
    {
     "name": "stderr",
     "output_type": "stream",
     "text": [
      "\r",
      "81.3%"
     ]
    },
    {
     "name": "stderr",
     "output_type": "stream",
     "text": [
      "\r",
      "81.4%"
     ]
    },
    {
     "name": "stderr",
     "output_type": "stream",
     "text": [
      "\r",
      "81.5%"
     ]
    },
    {
     "name": "stderr",
     "output_type": "stream",
     "text": [
      "\r",
      "81.6%"
     ]
    },
    {
     "name": "stderr",
     "output_type": "stream",
     "text": [
      "\r",
      "81.7%"
     ]
    },
    {
     "name": "stderr",
     "output_type": "stream",
     "text": [
      "\r",
      "81.7%"
     ]
    },
    {
     "name": "stderr",
     "output_type": "stream",
     "text": [
      "\r",
      "81.8%"
     ]
    },
    {
     "name": "stderr",
     "output_type": "stream",
     "text": [
      "\r",
      "81.9%"
     ]
    },
    {
     "name": "stderr",
     "output_type": "stream",
     "text": [
      "\r",
      "82.0%"
     ]
    },
    {
     "name": "stderr",
     "output_type": "stream",
     "text": [
      "\r",
      "82.1%"
     ]
    },
    {
     "name": "stderr",
     "output_type": "stream",
     "text": [
      "\r",
      "82.1%"
     ]
    },
    {
     "name": "stderr",
     "output_type": "stream",
     "text": [
      "\r",
      "82.2%"
     ]
    },
    {
     "name": "stderr",
     "output_type": "stream",
     "text": [
      "\r",
      "82.3%"
     ]
    },
    {
     "name": "stderr",
     "output_type": "stream",
     "text": [
      "\r",
      "82.4%"
     ]
    },
    {
     "name": "stderr",
     "output_type": "stream",
     "text": [
      "\r",
      "82.5%"
     ]
    },
    {
     "name": "stderr",
     "output_type": "stream",
     "text": [
      "\r",
      "82.6%"
     ]
    },
    {
     "name": "stderr",
     "output_type": "stream",
     "text": [
      "\r",
      "82.6%"
     ]
    },
    {
     "name": "stderr",
     "output_type": "stream",
     "text": [
      "\r",
      "82.7%"
     ]
    },
    {
     "name": "stderr",
     "output_type": "stream",
     "text": [
      "\r",
      "82.8%"
     ]
    },
    {
     "name": "stderr",
     "output_type": "stream",
     "text": [
      "\r",
      "82.9%"
     ]
    },
    {
     "name": "stderr",
     "output_type": "stream",
     "text": [
      "\r",
      "83.0%"
     ]
    },
    {
     "name": "stderr",
     "output_type": "stream",
     "text": [
      "\r",
      "83.1%"
     ]
    },
    {
     "name": "stderr",
     "output_type": "stream",
     "text": [
      "\r",
      "83.1%"
     ]
    },
    {
     "name": "stderr",
     "output_type": "stream",
     "text": [
      "\r",
      "83.2%"
     ]
    },
    {
     "name": "stderr",
     "output_type": "stream",
     "text": [
      "\r",
      "83.3%"
     ]
    },
    {
     "name": "stderr",
     "output_type": "stream",
     "text": [
      "\r",
      "83.4%"
     ]
    },
    {
     "name": "stderr",
     "output_type": "stream",
     "text": [
      "\r",
      "83.5%"
     ]
    },
    {
     "name": "stderr",
     "output_type": "stream",
     "text": [
      "\r",
      "83.6%"
     ]
    },
    {
     "name": "stderr",
     "output_type": "stream",
     "text": [
      "\r",
      "83.6%"
     ]
    },
    {
     "name": "stderr",
     "output_type": "stream",
     "text": [
      "\r",
      "83.7%"
     ]
    },
    {
     "name": "stderr",
     "output_type": "stream",
     "text": [
      "\r",
      "83.8%"
     ]
    },
    {
     "name": "stderr",
     "output_type": "stream",
     "text": [
      "\r",
      "83.9%"
     ]
    },
    {
     "name": "stderr",
     "output_type": "stream",
     "text": [
      "\r",
      "84.0%"
     ]
    },
    {
     "name": "stderr",
     "output_type": "stream",
     "text": [
      "\r",
      "84.0%"
     ]
    },
    {
     "name": "stderr",
     "output_type": "stream",
     "text": [
      "\r",
      "84.1%"
     ]
    },
    {
     "name": "stderr",
     "output_type": "stream",
     "text": [
      "\r",
      "84.2%"
     ]
    },
    {
     "name": "stderr",
     "output_type": "stream",
     "text": [
      "\r",
      "84.3%"
     ]
    },
    {
     "name": "stderr",
     "output_type": "stream",
     "text": [
      "\r",
      "84.4%"
     ]
    },
    {
     "name": "stderr",
     "output_type": "stream",
     "text": [
      "\r",
      "84.5%"
     ]
    },
    {
     "name": "stderr",
     "output_type": "stream",
     "text": [
      "\r",
      "84.5%"
     ]
    },
    {
     "name": "stderr",
     "output_type": "stream",
     "text": [
      "\r",
      "84.6%"
     ]
    },
    {
     "name": "stderr",
     "output_type": "stream",
     "text": [
      "\r",
      "84.7%"
     ]
    },
    {
     "name": "stderr",
     "output_type": "stream",
     "text": [
      "\r",
      "84.8%"
     ]
    },
    {
     "name": "stderr",
     "output_type": "stream",
     "text": [
      "\r",
      "84.9%"
     ]
    },
    {
     "name": "stderr",
     "output_type": "stream",
     "text": [
      "\r",
      "85.0%"
     ]
    },
    {
     "name": "stderr",
     "output_type": "stream",
     "text": [
      "\r",
      "85.0%"
     ]
    },
    {
     "name": "stderr",
     "output_type": "stream",
     "text": [
      "\r",
      "85.1%"
     ]
    },
    {
     "name": "stderr",
     "output_type": "stream",
     "text": [
      "\r",
      "85.2%"
     ]
    },
    {
     "name": "stderr",
     "output_type": "stream",
     "text": [
      "\r",
      "85.3%"
     ]
    },
    {
     "name": "stderr",
     "output_type": "stream",
     "text": [
      "\r",
      "85.4%"
     ]
    },
    {
     "name": "stderr",
     "output_type": "stream",
     "text": [
      "\r",
      "85.5%"
     ]
    },
    {
     "name": "stderr",
     "output_type": "stream",
     "text": [
      "\r",
      "85.5%"
     ]
    },
    {
     "name": "stderr",
     "output_type": "stream",
     "text": [
      "\r",
      "85.6%"
     ]
    },
    {
     "name": "stderr",
     "output_type": "stream",
     "text": [
      "\r",
      "85.7%"
     ]
    },
    {
     "name": "stderr",
     "output_type": "stream",
     "text": [
      "\r",
      "85.8%"
     ]
    },
    {
     "name": "stderr",
     "output_type": "stream",
     "text": [
      "\r",
      "85.9%"
     ]
    },
    {
     "name": "stderr",
     "output_type": "stream",
     "text": [
      "\r",
      "85.9%"
     ]
    },
    {
     "name": "stderr",
     "output_type": "stream",
     "text": [
      "\r",
      "86.0%"
     ]
    },
    {
     "name": "stderr",
     "output_type": "stream",
     "text": [
      "\r",
      "86.1%"
     ]
    },
    {
     "name": "stderr",
     "output_type": "stream",
     "text": [
      "\r",
      "86.2%"
     ]
    },
    {
     "name": "stderr",
     "output_type": "stream",
     "text": [
      "\r",
      "86.3%"
     ]
    },
    {
     "name": "stderr",
     "output_type": "stream",
     "text": [
      "\r",
      "86.4%"
     ]
    },
    {
     "name": "stderr",
     "output_type": "stream",
     "text": [
      "\r",
      "86.4%"
     ]
    },
    {
     "name": "stderr",
     "output_type": "stream",
     "text": [
      "\r",
      "86.5%"
     ]
    },
    {
     "name": "stderr",
     "output_type": "stream",
     "text": [
      "\r",
      "86.6%"
     ]
    },
    {
     "name": "stderr",
     "output_type": "stream",
     "text": [
      "\r",
      "86.7%"
     ]
    },
    {
     "name": "stderr",
     "output_type": "stream",
     "text": [
      "\r",
      "86.8%"
     ]
    },
    {
     "name": "stderr",
     "output_type": "stream",
     "text": [
      "\r",
      "86.9%"
     ]
    },
    {
     "name": "stderr",
     "output_type": "stream",
     "text": [
      "\r",
      "86.9%"
     ]
    },
    {
     "name": "stderr",
     "output_type": "stream",
     "text": [
      "\r",
      "87.0%"
     ]
    },
    {
     "name": "stderr",
     "output_type": "stream",
     "text": [
      "\r",
      "87.1%"
     ]
    },
    {
     "name": "stderr",
     "output_type": "stream",
     "text": [
      "\r",
      "87.2%"
     ]
    },
    {
     "name": "stderr",
     "output_type": "stream",
     "text": [
      "\r",
      "87.3%"
     ]
    },
    {
     "name": "stderr",
     "output_type": "stream",
     "text": [
      "\r",
      "87.4%"
     ]
    },
    {
     "name": "stderr",
     "output_type": "stream",
     "text": [
      "\r",
      "87.4%"
     ]
    },
    {
     "name": "stderr",
     "output_type": "stream",
     "text": [
      "\r",
      "87.5%"
     ]
    },
    {
     "name": "stderr",
     "output_type": "stream",
     "text": [
      "\r",
      "87.6%"
     ]
    },
    {
     "name": "stderr",
     "output_type": "stream",
     "text": [
      "\r",
      "87.7%"
     ]
    },
    {
     "name": "stderr",
     "output_type": "stream",
     "text": [
      "\r",
      "87.8%"
     ]
    },
    {
     "name": "stderr",
     "output_type": "stream",
     "text": [
      "\r",
      "87.9%"
     ]
    },
    {
     "name": "stderr",
     "output_type": "stream",
     "text": [
      "\r",
      "87.9%"
     ]
    },
    {
     "name": "stderr",
     "output_type": "stream",
     "text": [
      "\r",
      "88.0%"
     ]
    },
    {
     "name": "stderr",
     "output_type": "stream",
     "text": [
      "\r",
      "88.1%"
     ]
    },
    {
     "name": "stderr",
     "output_type": "stream",
     "text": [
      "\r",
      "88.2%"
     ]
    },
    {
     "name": "stderr",
     "output_type": "stream",
     "text": [
      "\r",
      "88.3%"
     ]
    },
    {
     "name": "stderr",
     "output_type": "stream",
     "text": [
      "\r",
      "88.3%"
     ]
    },
    {
     "name": "stderr",
     "output_type": "stream",
     "text": [
      "\r",
      "88.4%"
     ]
    },
    {
     "name": "stderr",
     "output_type": "stream",
     "text": [
      "\r",
      "88.5%"
     ]
    },
    {
     "name": "stderr",
     "output_type": "stream",
     "text": [
      "\r",
      "88.6%"
     ]
    },
    {
     "name": "stderr",
     "output_type": "stream",
     "text": [
      "\r",
      "88.7%"
     ]
    },
    {
     "name": "stderr",
     "output_type": "stream",
     "text": [
      "\r",
      "88.8%"
     ]
    },
    {
     "name": "stderr",
     "output_type": "stream",
     "text": [
      "\r",
      "88.8%"
     ]
    },
    {
     "name": "stderr",
     "output_type": "stream",
     "text": [
      "\r",
      "88.9%"
     ]
    },
    {
     "name": "stderr",
     "output_type": "stream",
     "text": [
      "\r",
      "89.0%"
     ]
    },
    {
     "name": "stderr",
     "output_type": "stream",
     "text": [
      "\r",
      "89.1%"
     ]
    },
    {
     "name": "stderr",
     "output_type": "stream",
     "text": [
      "\r",
      "89.2%"
     ]
    },
    {
     "name": "stderr",
     "output_type": "stream",
     "text": [
      "\r",
      "89.3%"
     ]
    },
    {
     "name": "stderr",
     "output_type": "stream",
     "text": [
      "\r",
      "89.3%"
     ]
    },
    {
     "name": "stderr",
     "output_type": "stream",
     "text": [
      "\r",
      "89.4%"
     ]
    },
    {
     "name": "stderr",
     "output_type": "stream",
     "text": [
      "\r",
      "89.5%"
     ]
    },
    {
     "name": "stderr",
     "output_type": "stream",
     "text": [
      "\r",
      "89.6%"
     ]
    },
    {
     "name": "stderr",
     "output_type": "stream",
     "text": [
      "\r",
      "89.7%"
     ]
    },
    {
     "name": "stderr",
     "output_type": "stream",
     "text": [
      "\r",
      "89.8%"
     ]
    },
    {
     "name": "stderr",
     "output_type": "stream",
     "text": [
      "\r",
      "89.8%"
     ]
    },
    {
     "name": "stderr",
     "output_type": "stream",
     "text": [
      "\r",
      "89.9%"
     ]
    },
    {
     "name": "stderr",
     "output_type": "stream",
     "text": [
      "\r",
      "90.0%"
     ]
    },
    {
     "name": "stderr",
     "output_type": "stream",
     "text": [
      "\r",
      "90.1%"
     ]
    },
    {
     "name": "stderr",
     "output_type": "stream",
     "text": [
      "\r",
      "90.2%"
     ]
    },
    {
     "name": "stderr",
     "output_type": "stream",
     "text": [
      "\r",
      "90.2%"
     ]
    },
    {
     "name": "stderr",
     "output_type": "stream",
     "text": [
      "\r",
      "90.3%"
     ]
    },
    {
     "name": "stderr",
     "output_type": "stream",
     "text": [
      "\r",
      "90.4%"
     ]
    },
    {
     "name": "stderr",
     "output_type": "stream",
     "text": [
      "\r",
      "90.5%"
     ]
    },
    {
     "name": "stderr",
     "output_type": "stream",
     "text": [
      "\r",
      "90.6%"
     ]
    },
    {
     "name": "stderr",
     "output_type": "stream",
     "text": [
      "\r",
      "90.7%"
     ]
    },
    {
     "name": "stderr",
     "output_type": "stream",
     "text": [
      "\r",
      "90.7%"
     ]
    },
    {
     "name": "stderr",
     "output_type": "stream",
     "text": [
      "\r",
      "90.8%"
     ]
    },
    {
     "name": "stderr",
     "output_type": "stream",
     "text": [
      "\r",
      "90.9%"
     ]
    },
    {
     "name": "stderr",
     "output_type": "stream",
     "text": [
      "\r",
      "91.0%"
     ]
    },
    {
     "name": "stderr",
     "output_type": "stream",
     "text": [
      "\r",
      "91.1%"
     ]
    },
    {
     "name": "stderr",
     "output_type": "stream",
     "text": [
      "\r",
      "91.2%"
     ]
    },
    {
     "name": "stderr",
     "output_type": "stream",
     "text": [
      "\r",
      "91.2%"
     ]
    },
    {
     "name": "stderr",
     "output_type": "stream",
     "text": [
      "\r",
      "91.3%"
     ]
    },
    {
     "name": "stderr",
     "output_type": "stream",
     "text": [
      "\r",
      "91.4%"
     ]
    },
    {
     "name": "stderr",
     "output_type": "stream",
     "text": [
      "\r",
      "91.5%"
     ]
    },
    {
     "name": "stderr",
     "output_type": "stream",
     "text": [
      "\r",
      "91.6%"
     ]
    },
    {
     "name": "stderr",
     "output_type": "stream",
     "text": [
      "\r",
      "91.7%"
     ]
    },
    {
     "name": "stderr",
     "output_type": "stream",
     "text": [
      "\r",
      "91.7%"
     ]
    },
    {
     "name": "stderr",
     "output_type": "stream",
     "text": [
      "\r",
      "91.8%"
     ]
    },
    {
     "name": "stderr",
     "output_type": "stream",
     "text": [
      "\r",
      "91.9%"
     ]
    },
    {
     "name": "stderr",
     "output_type": "stream",
     "text": [
      "\r",
      "92.0%"
     ]
    },
    {
     "name": "stderr",
     "output_type": "stream",
     "text": [
      "\r",
      "92.1%"
     ]
    },
    {
     "name": "stderr",
     "output_type": "stream",
     "text": [
      "\r",
      "92.1%"
     ]
    },
    {
     "name": "stderr",
     "output_type": "stream",
     "text": [
      "\r",
      "92.2%"
     ]
    },
    {
     "name": "stderr",
     "output_type": "stream",
     "text": [
      "\r",
      "92.3%"
     ]
    },
    {
     "name": "stderr",
     "output_type": "stream",
     "text": [
      "\r",
      "92.4%"
     ]
    },
    {
     "name": "stderr",
     "output_type": "stream",
     "text": [
      "\r",
      "92.5%"
     ]
    },
    {
     "name": "stderr",
     "output_type": "stream",
     "text": [
      "\r",
      "92.6%"
     ]
    },
    {
     "name": "stderr",
     "output_type": "stream",
     "text": [
      "\r",
      "92.6%"
     ]
    },
    {
     "name": "stderr",
     "output_type": "stream",
     "text": [
      "\r",
      "92.7%"
     ]
    },
    {
     "name": "stderr",
     "output_type": "stream",
     "text": [
      "\r",
      "92.8%"
     ]
    },
    {
     "name": "stderr",
     "output_type": "stream",
     "text": [
      "\r",
      "92.9%"
     ]
    },
    {
     "name": "stderr",
     "output_type": "stream",
     "text": [
      "\r",
      "93.0%"
     ]
    },
    {
     "name": "stderr",
     "output_type": "stream",
     "text": [
      "\r",
      "93.1%"
     ]
    },
    {
     "name": "stderr",
     "output_type": "stream",
     "text": [
      "\r",
      "93.1%"
     ]
    },
    {
     "name": "stderr",
     "output_type": "stream",
     "text": [
      "\r",
      "93.2%"
     ]
    },
    {
     "name": "stderr",
     "output_type": "stream",
     "text": [
      "\r",
      "93.3%"
     ]
    },
    {
     "name": "stderr",
     "output_type": "stream",
     "text": [
      "\r",
      "93.4%"
     ]
    },
    {
     "name": "stderr",
     "output_type": "stream",
     "text": [
      "\r",
      "93.5%"
     ]
    },
    {
     "name": "stderr",
     "output_type": "stream",
     "text": [
      "\r",
      "93.6%"
     ]
    },
    {
     "name": "stderr",
     "output_type": "stream",
     "text": [
      "\r",
      "93.6%"
     ]
    },
    {
     "name": "stderr",
     "output_type": "stream",
     "text": [
      "\r",
      "93.7%"
     ]
    },
    {
     "name": "stderr",
     "output_type": "stream",
     "text": [
      "\r",
      "93.8%"
     ]
    },
    {
     "name": "stderr",
     "output_type": "stream",
     "text": [
      "\r",
      "93.9%"
     ]
    },
    {
     "name": "stderr",
     "output_type": "stream",
     "text": [
      "\r",
      "94.0%"
     ]
    },
    {
     "name": "stderr",
     "output_type": "stream",
     "text": [
      "\r",
      "94.0%"
     ]
    },
    {
     "name": "stderr",
     "output_type": "stream",
     "text": [
      "\r",
      "94.1%"
     ]
    },
    {
     "name": "stderr",
     "output_type": "stream",
     "text": [
      "\r",
      "94.2%"
     ]
    },
    {
     "name": "stderr",
     "output_type": "stream",
     "text": [
      "\r",
      "94.3%"
     ]
    },
    {
     "name": "stderr",
     "output_type": "stream",
     "text": [
      "\r",
      "94.4%"
     ]
    },
    {
     "name": "stderr",
     "output_type": "stream",
     "text": [
      "\r",
      "94.5%"
     ]
    },
    {
     "name": "stderr",
     "output_type": "stream",
     "text": [
      "\r",
      "94.5%"
     ]
    },
    {
     "name": "stderr",
     "output_type": "stream",
     "text": [
      "\r",
      "94.6%"
     ]
    },
    {
     "name": "stderr",
     "output_type": "stream",
     "text": [
      "\r",
      "94.7%"
     ]
    },
    {
     "name": "stderr",
     "output_type": "stream",
     "text": [
      "\r",
      "94.8%"
     ]
    },
    {
     "name": "stderr",
     "output_type": "stream",
     "text": [
      "\r",
      "94.9%"
     ]
    },
    {
     "name": "stderr",
     "output_type": "stream",
     "text": [
      "\r",
      "95.0%"
     ]
    },
    {
     "name": "stderr",
     "output_type": "stream",
     "text": [
      "\r",
      "95.0%"
     ]
    },
    {
     "name": "stderr",
     "output_type": "stream",
     "text": [
      "\r",
      "95.1%"
     ]
    },
    {
     "name": "stderr",
     "output_type": "stream",
     "text": [
      "\r",
      "95.2%"
     ]
    },
    {
     "name": "stderr",
     "output_type": "stream",
     "text": [
      "\r",
      "95.3%"
     ]
    },
    {
     "name": "stderr",
     "output_type": "stream",
     "text": [
      "\r",
      "95.4%"
     ]
    },
    {
     "name": "stderr",
     "output_type": "stream",
     "text": [
      "\r",
      "95.5%"
     ]
    },
    {
     "name": "stderr",
     "output_type": "stream",
     "text": [
      "\r",
      "95.5%"
     ]
    },
    {
     "name": "stderr",
     "output_type": "stream",
     "text": [
      "\r",
      "95.6%"
     ]
    },
    {
     "name": "stderr",
     "output_type": "stream",
     "text": [
      "\r",
      "95.7%"
     ]
    },
    {
     "name": "stderr",
     "output_type": "stream",
     "text": [
      "\r",
      "95.8%"
     ]
    },
    {
     "name": "stderr",
     "output_type": "stream",
     "text": [
      "\r",
      "95.9%"
     ]
    },
    {
     "name": "stderr",
     "output_type": "stream",
     "text": [
      "\r",
      "95.9%"
     ]
    },
    {
     "name": "stderr",
     "output_type": "stream",
     "text": [
      "\r",
      "96.0%"
     ]
    },
    {
     "name": "stderr",
     "output_type": "stream",
     "text": [
      "\r",
      "96.1%"
     ]
    },
    {
     "name": "stderr",
     "output_type": "stream",
     "text": [
      "\r",
      "96.2%"
     ]
    },
    {
     "name": "stderr",
     "output_type": "stream",
     "text": [
      "\r",
      "96.3%"
     ]
    },
    {
     "name": "stderr",
     "output_type": "stream",
     "text": [
      "\r",
      "96.4%"
     ]
    },
    {
     "name": "stderr",
     "output_type": "stream",
     "text": [
      "\r",
      "96.4%"
     ]
    },
    {
     "name": "stderr",
     "output_type": "stream",
     "text": [
      "\r",
      "96.5%"
     ]
    },
    {
     "name": "stderr",
     "output_type": "stream",
     "text": [
      "\r",
      "96.6%"
     ]
    },
    {
     "name": "stderr",
     "output_type": "stream",
     "text": [
      "\r",
      "96.7%"
     ]
    },
    {
     "name": "stderr",
     "output_type": "stream",
     "text": [
      "\r",
      "96.8%"
     ]
    },
    {
     "name": "stderr",
     "output_type": "stream",
     "text": [
      "\r",
      "96.9%"
     ]
    },
    {
     "name": "stderr",
     "output_type": "stream",
     "text": [
      "\r",
      "96.9%"
     ]
    },
    {
     "name": "stderr",
     "output_type": "stream",
     "text": [
      "\r",
      "97.0%"
     ]
    },
    {
     "name": "stderr",
     "output_type": "stream",
     "text": [
      "\r",
      "97.1%"
     ]
    },
    {
     "name": "stderr",
     "output_type": "stream",
     "text": [
      "\r",
      "97.2%"
     ]
    },
    {
     "name": "stderr",
     "output_type": "stream",
     "text": [
      "\r",
      "97.3%"
     ]
    },
    {
     "name": "stderr",
     "output_type": "stream",
     "text": [
      "\r",
      "97.4%"
     ]
    },
    {
     "name": "stderr",
     "output_type": "stream",
     "text": [
      "\r",
      "97.4%"
     ]
    },
    {
     "name": "stderr",
     "output_type": "stream",
     "text": [
      "\r",
      "97.5%"
     ]
    },
    {
     "name": "stderr",
     "output_type": "stream",
     "text": [
      "\r",
      "97.6%"
     ]
    },
    {
     "name": "stderr",
     "output_type": "stream",
     "text": [
      "\r",
      "97.7%"
     ]
    },
    {
     "name": "stderr",
     "output_type": "stream",
     "text": [
      "\r",
      "97.8%"
     ]
    },
    {
     "name": "stderr",
     "output_type": "stream",
     "text": [
      "\r",
      "97.9%"
     ]
    },
    {
     "name": "stderr",
     "output_type": "stream",
     "text": [
      "\r",
      "97.9%"
     ]
    },
    {
     "name": "stderr",
     "output_type": "stream",
     "text": [
      "\r",
      "98.0%"
     ]
    },
    {
     "name": "stderr",
     "output_type": "stream",
     "text": [
      "\r",
      "98.1%"
     ]
    },
    {
     "name": "stderr",
     "output_type": "stream",
     "text": [
      "\r",
      "98.2%"
     ]
    },
    {
     "name": "stderr",
     "output_type": "stream",
     "text": [
      "\r",
      "98.3%"
     ]
    },
    {
     "name": "stderr",
     "output_type": "stream",
     "text": [
      "\r",
      "98.3%"
     ]
    },
    {
     "name": "stderr",
     "output_type": "stream",
     "text": [
      "\r",
      "98.4%"
     ]
    },
    {
     "name": "stderr",
     "output_type": "stream",
     "text": [
      "\r",
      "98.5%"
     ]
    },
    {
     "name": "stderr",
     "output_type": "stream",
     "text": [
      "\r",
      "98.6%"
     ]
    },
    {
     "name": "stderr",
     "output_type": "stream",
     "text": [
      "\r",
      "98.7%"
     ]
    },
    {
     "name": "stderr",
     "output_type": "stream",
     "text": [
      "\r",
      "98.8%"
     ]
    },
    {
     "name": "stderr",
     "output_type": "stream",
     "text": [
      "\r",
      "98.8%"
     ]
    },
    {
     "name": "stderr",
     "output_type": "stream",
     "text": [
      "\r",
      "98.9%"
     ]
    },
    {
     "name": "stderr",
     "output_type": "stream",
     "text": [
      "\r",
      "99.0%"
     ]
    },
    {
     "name": "stderr",
     "output_type": "stream",
     "text": [
      "\r",
      "99.1%"
     ]
    },
    {
     "name": "stderr",
     "output_type": "stream",
     "text": [
      "\r",
      "99.2%"
     ]
    },
    {
     "name": "stderr",
     "output_type": "stream",
     "text": [
      "\r",
      "99.3%"
     ]
    },
    {
     "name": "stderr",
     "output_type": "stream",
     "text": [
      "\r",
      "99.3%"
     ]
    },
    {
     "name": "stderr",
     "output_type": "stream",
     "text": [
      "\r",
      "99.4%"
     ]
    },
    {
     "name": "stderr",
     "output_type": "stream",
     "text": [
      "\r",
      "99.5%"
     ]
    },
    {
     "name": "stderr",
     "output_type": "stream",
     "text": [
      "\r",
      "99.6%"
     ]
    },
    {
     "name": "stderr",
     "output_type": "stream",
     "text": [
      "\r",
      "99.7%"
     ]
    },
    {
     "name": "stderr",
     "output_type": "stream",
     "text": [
      "\r",
      "99.8%"
     ]
    },
    {
     "name": "stderr",
     "output_type": "stream",
     "text": [
      "\r",
      "99.8%"
     ]
    },
    {
     "name": "stderr",
     "output_type": "stream",
     "text": [
      "\r",
      "99.9%"
     ]
    },
    {
     "name": "stderr",
     "output_type": "stream",
     "text": [
      "\r",
      "100.0%"
     ]
    },
    {
     "name": "stderr",
     "output_type": "stream",
     "text": [
      "\r",
      "100.1%"
     ]
    },
    {
     "name": "stdout",
     "output_type": "stream",
     "text": [
      "Extracting ./data/MNIST/raw/train-images-idx3-ubyte.gz to ./data/MNIST/raw\n"
     ]
    },
    {
     "name": "stderr",
     "output_type": "stream",
     "text": [
      "\r",
      "0.0%"
     ]
    },
    {
     "name": "stderr",
     "output_type": "stream",
     "text": [
      "\r",
      "28.4%"
     ]
    },
    {
     "name": "stderr",
     "output_type": "stream",
     "text": [
      "\r",
      "56.7%"
     ]
    },
    {
     "name": "stderr",
     "output_type": "stream",
     "text": [
      "\r",
      "85.1%"
     ]
    },
    {
     "name": "stderr",
     "output_type": "stream",
     "text": [
      "\r",
      "113.5%"
     ]
    },
    {
     "name": "stderr",
     "output_type": "stream",
     "text": [
      "\r",
      "0.0%"
     ]
    },
    {
     "name": "stderr",
     "output_type": "stream",
     "text": [
      "\r",
      "0.5%"
     ]
    },
    {
     "name": "stdout",
     "output_type": "stream",
     "text": [
      "Downloading http://yann.lecun.com/exdb/mnist/train-labels-idx1-ubyte.gz to ./data/MNIST/raw/train-labels-idx1-ubyte.gz\n",
      "Extracting ./data/MNIST/raw/train-labels-idx1-ubyte.gz to ./data/MNIST/raw\n",
      "Downloading http://yann.lecun.com/exdb/mnist/t10k-images-idx3-ubyte.gz to ./data/MNIST/raw/t10k-images-idx3-ubyte.gz\n"
     ]
    },
    {
     "name": "stderr",
     "output_type": "stream",
     "text": [
      "\r",
      "1.0%"
     ]
    },
    {
     "name": "stderr",
     "output_type": "stream",
     "text": [
      "\r",
      "1.5%"
     ]
    },
    {
     "name": "stderr",
     "output_type": "stream",
     "text": [
      "\r",
      "2.0%"
     ]
    },
    {
     "name": "stderr",
     "output_type": "stream",
     "text": [
      "\r",
      "2.5%"
     ]
    },
    {
     "name": "stderr",
     "output_type": "stream",
     "text": [
      "\r",
      "3.0%"
     ]
    },
    {
     "name": "stderr",
     "output_type": "stream",
     "text": [
      "\r",
      "3.5%"
     ]
    },
    {
     "name": "stderr",
     "output_type": "stream",
     "text": [
      "\r",
      "4.0%"
     ]
    },
    {
     "name": "stderr",
     "output_type": "stream",
     "text": [
      "\r",
      "4.5%"
     ]
    },
    {
     "name": "stderr",
     "output_type": "stream",
     "text": [
      "\r",
      "5.0%"
     ]
    },
    {
     "name": "stderr",
     "output_type": "stream",
     "text": [
      "\r",
      "5.5%"
     ]
    },
    {
     "name": "stderr",
     "output_type": "stream",
     "text": [
      "\r",
      "6.0%"
     ]
    },
    {
     "name": "stderr",
     "output_type": "stream",
     "text": [
      "\r",
      "6.5%"
     ]
    },
    {
     "name": "stderr",
     "output_type": "stream",
     "text": [
      "\r",
      "7.0%"
     ]
    },
    {
     "name": "stderr",
     "output_type": "stream",
     "text": [
      "\r",
      "7.5%"
     ]
    },
    {
     "name": "stderr",
     "output_type": "stream",
     "text": [
      "\r",
      "7.9%"
     ]
    },
    {
     "name": "stderr",
     "output_type": "stream",
     "text": [
      "\r",
      "8.4%"
     ]
    },
    {
     "name": "stderr",
     "output_type": "stream",
     "text": [
      "\r",
      "8.9%"
     ]
    },
    {
     "name": "stderr",
     "output_type": "stream",
     "text": [
      "\r",
      "9.4%"
     ]
    },
    {
     "name": "stderr",
     "output_type": "stream",
     "text": [
      "\r",
      "9.9%"
     ]
    },
    {
     "name": "stderr",
     "output_type": "stream",
     "text": [
      "\r",
      "10.4%"
     ]
    },
    {
     "name": "stderr",
     "output_type": "stream",
     "text": [
      "\r",
      "10.9%"
     ]
    },
    {
     "name": "stderr",
     "output_type": "stream",
     "text": [
      "\r",
      "11.4%"
     ]
    },
    {
     "name": "stderr",
     "output_type": "stream",
     "text": [
      "\r",
      "11.9%"
     ]
    },
    {
     "name": "stderr",
     "output_type": "stream",
     "text": [
      "\r",
      "12.4%"
     ]
    },
    {
     "name": "stderr",
     "output_type": "stream",
     "text": [
      "\r",
      "12.9%"
     ]
    },
    {
     "name": "stderr",
     "output_type": "stream",
     "text": [
      "\r",
      "13.4%"
     ]
    },
    {
     "name": "stderr",
     "output_type": "stream",
     "text": [
      "\r",
      "13.9%"
     ]
    },
    {
     "name": "stderr",
     "output_type": "stream",
     "text": [
      "\r",
      "14.4%"
     ]
    },
    {
     "name": "stderr",
     "output_type": "stream",
     "text": [
      "\r",
      "14.9%"
     ]
    },
    {
     "name": "stderr",
     "output_type": "stream",
     "text": [
      "\r",
      "15.4%"
     ]
    },
    {
     "name": "stderr",
     "output_type": "stream",
     "text": [
      "\r",
      "15.9%"
     ]
    },
    {
     "name": "stderr",
     "output_type": "stream",
     "text": [
      "\r",
      "16.4%"
     ]
    },
    {
     "name": "stderr",
     "output_type": "stream",
     "text": [
      "\r",
      "16.9%"
     ]
    },
    {
     "name": "stderr",
     "output_type": "stream",
     "text": [
      "\r",
      "17.4%"
     ]
    },
    {
     "name": "stderr",
     "output_type": "stream",
     "text": [
      "\r",
      "17.9%"
     ]
    },
    {
     "name": "stderr",
     "output_type": "stream",
     "text": [
      "\r",
      "18.4%"
     ]
    },
    {
     "name": "stderr",
     "output_type": "stream",
     "text": [
      "\r",
      "18.9%"
     ]
    },
    {
     "name": "stderr",
     "output_type": "stream",
     "text": [
      "\r",
      "19.4%"
     ]
    },
    {
     "name": "stderr",
     "output_type": "stream",
     "text": [
      "\r",
      "19.9%"
     ]
    },
    {
     "name": "stderr",
     "output_type": "stream",
     "text": [
      "\r",
      "20.4%"
     ]
    },
    {
     "name": "stderr",
     "output_type": "stream",
     "text": [
      "\r",
      "20.9%"
     ]
    },
    {
     "name": "stderr",
     "output_type": "stream",
     "text": [
      "\r",
      "21.4%"
     ]
    },
    {
     "name": "stderr",
     "output_type": "stream",
     "text": [
      "\r",
      "21.9%"
     ]
    },
    {
     "name": "stderr",
     "output_type": "stream",
     "text": [
      "\r",
      "22.4%"
     ]
    },
    {
     "name": "stderr",
     "output_type": "stream",
     "text": [
      "\r",
      "22.9%"
     ]
    },
    {
     "name": "stderr",
     "output_type": "stream",
     "text": [
      "\r",
      "23.4%"
     ]
    },
    {
     "name": "stderr",
     "output_type": "stream",
     "text": [
      "\r",
      "23.8%"
     ]
    },
    {
     "name": "stderr",
     "output_type": "stream",
     "text": [
      "\r",
      "24.3%"
     ]
    },
    {
     "name": "stderr",
     "output_type": "stream",
     "text": [
      "\r",
      "24.8%"
     ]
    },
    {
     "name": "stderr",
     "output_type": "stream",
     "text": [
      "\r",
      "25.3%"
     ]
    },
    {
     "name": "stderr",
     "output_type": "stream",
     "text": [
      "\r",
      "25.8%"
     ]
    },
    {
     "name": "stderr",
     "output_type": "stream",
     "text": [
      "\r",
      "26.3%"
     ]
    },
    {
     "name": "stderr",
     "output_type": "stream",
     "text": [
      "\r",
      "26.8%"
     ]
    },
    {
     "name": "stderr",
     "output_type": "stream",
     "text": [
      "\r",
      "27.3%"
     ]
    },
    {
     "name": "stderr",
     "output_type": "stream",
     "text": [
      "\r",
      "27.8%"
     ]
    },
    {
     "name": "stderr",
     "output_type": "stream",
     "text": [
      "\r",
      "28.3%"
     ]
    },
    {
     "name": "stderr",
     "output_type": "stream",
     "text": [
      "\r",
      "28.8%"
     ]
    },
    {
     "name": "stderr",
     "output_type": "stream",
     "text": [
      "\r",
      "29.3%"
     ]
    },
    {
     "name": "stderr",
     "output_type": "stream",
     "text": [
      "\r",
      "29.8%"
     ]
    },
    {
     "name": "stderr",
     "output_type": "stream",
     "text": [
      "\r",
      "30.3%"
     ]
    },
    {
     "name": "stderr",
     "output_type": "stream",
     "text": [
      "\r",
      "30.8%"
     ]
    },
    {
     "name": "stderr",
     "output_type": "stream",
     "text": [
      "\r",
      "31.3%"
     ]
    },
    {
     "name": "stderr",
     "output_type": "stream",
     "text": [
      "\r",
      "31.8%"
     ]
    },
    {
     "name": "stderr",
     "output_type": "stream",
     "text": [
      "\r",
      "32.3%"
     ]
    },
    {
     "name": "stderr",
     "output_type": "stream",
     "text": [
      "\r",
      "32.8%"
     ]
    },
    {
     "name": "stderr",
     "output_type": "stream",
     "text": [
      "\r",
      "33.3%"
     ]
    },
    {
     "name": "stderr",
     "output_type": "stream",
     "text": [
      "\r",
      "33.8%"
     ]
    },
    {
     "name": "stderr",
     "output_type": "stream",
     "text": [
      "\r",
      "34.3%"
     ]
    },
    {
     "name": "stderr",
     "output_type": "stream",
     "text": [
      "\r",
      "34.8%"
     ]
    },
    {
     "name": "stderr",
     "output_type": "stream",
     "text": [
      "\r",
      "35.3%"
     ]
    },
    {
     "name": "stderr",
     "output_type": "stream",
     "text": [
      "\r",
      "35.8%"
     ]
    },
    {
     "name": "stderr",
     "output_type": "stream",
     "text": [
      "\r",
      "36.3%"
     ]
    },
    {
     "name": "stderr",
     "output_type": "stream",
     "text": [
      "\r",
      "36.8%"
     ]
    },
    {
     "name": "stderr",
     "output_type": "stream",
     "text": [
      "\r",
      "37.3%"
     ]
    },
    {
     "name": "stderr",
     "output_type": "stream",
     "text": [
      "\r",
      "37.8%"
     ]
    },
    {
     "name": "stderr",
     "output_type": "stream",
     "text": [
      "\r",
      "38.3%"
     ]
    },
    {
     "name": "stderr",
     "output_type": "stream",
     "text": [
      "\r",
      "38.8%"
     ]
    },
    {
     "name": "stderr",
     "output_type": "stream",
     "text": [
      "\r",
      "39.2%"
     ]
    },
    {
     "name": "stderr",
     "output_type": "stream",
     "text": [
      "\r",
      "39.7%"
     ]
    },
    {
     "name": "stderr",
     "output_type": "stream",
     "text": [
      "\r",
      "40.2%"
     ]
    },
    {
     "name": "stderr",
     "output_type": "stream",
     "text": [
      "\r",
      "40.7%"
     ]
    },
    {
     "name": "stderr",
     "output_type": "stream",
     "text": [
      "\r",
      "41.2%"
     ]
    },
    {
     "name": "stderr",
     "output_type": "stream",
     "text": [
      "\r",
      "41.7%"
     ]
    },
    {
     "name": "stderr",
     "output_type": "stream",
     "text": [
      "\r",
      "42.2%"
     ]
    },
    {
     "name": "stderr",
     "output_type": "stream",
     "text": [
      "\r",
      "42.7%"
     ]
    },
    {
     "name": "stderr",
     "output_type": "stream",
     "text": [
      "\r",
      "43.2%"
     ]
    },
    {
     "name": "stderr",
     "output_type": "stream",
     "text": [
      "\r",
      "43.7%"
     ]
    },
    {
     "name": "stderr",
     "output_type": "stream",
     "text": [
      "\r",
      "44.2%"
     ]
    },
    {
     "name": "stderr",
     "output_type": "stream",
     "text": [
      "\r",
      "44.7%"
     ]
    },
    {
     "name": "stderr",
     "output_type": "stream",
     "text": [
      "\r",
      "45.2%"
     ]
    },
    {
     "name": "stderr",
     "output_type": "stream",
     "text": [
      "\r",
      "45.7%"
     ]
    },
    {
     "name": "stderr",
     "output_type": "stream",
     "text": [
      "\r",
      "46.2%"
     ]
    },
    {
     "name": "stderr",
     "output_type": "stream",
     "text": [
      "\r",
      "46.7%"
     ]
    },
    {
     "name": "stderr",
     "output_type": "stream",
     "text": [
      "\r",
      "47.2%"
     ]
    },
    {
     "name": "stderr",
     "output_type": "stream",
     "text": [
      "\r",
      "47.7%"
     ]
    },
    {
     "name": "stderr",
     "output_type": "stream",
     "text": [
      "\r",
      "48.2%"
     ]
    },
    {
     "name": "stderr",
     "output_type": "stream",
     "text": [
      "\r",
      "48.7%"
     ]
    },
    {
     "name": "stderr",
     "output_type": "stream",
     "text": [
      "\r",
      "49.2%"
     ]
    },
    {
     "name": "stderr",
     "output_type": "stream",
     "text": [
      "\r",
      "49.7%"
     ]
    },
    {
     "name": "stderr",
     "output_type": "stream",
     "text": [
      "\r",
      "50.2%"
     ]
    },
    {
     "name": "stderr",
     "output_type": "stream",
     "text": [
      "\r",
      "50.7%"
     ]
    },
    {
     "name": "stderr",
     "output_type": "stream",
     "text": [
      "\r",
      "51.2%"
     ]
    },
    {
     "name": "stderr",
     "output_type": "stream",
     "text": [
      "\r",
      "51.7%"
     ]
    },
    {
     "name": "stderr",
     "output_type": "stream",
     "text": [
      "\r",
      "52.2%"
     ]
    },
    {
     "name": "stderr",
     "output_type": "stream",
     "text": [
      "\r",
      "52.7%"
     ]
    },
    {
     "name": "stderr",
     "output_type": "stream",
     "text": [
      "\r",
      "53.2%"
     ]
    },
    {
     "name": "stderr",
     "output_type": "stream",
     "text": [
      "\r",
      "53.7%"
     ]
    },
    {
     "name": "stderr",
     "output_type": "stream",
     "text": [
      "\r",
      "54.2%"
     ]
    },
    {
     "name": "stderr",
     "output_type": "stream",
     "text": [
      "\r",
      "54.7%"
     ]
    },
    {
     "name": "stderr",
     "output_type": "stream",
     "text": [
      "\r",
      "55.1%"
     ]
    },
    {
     "name": "stderr",
     "output_type": "stream",
     "text": [
      "\r",
      "55.6%"
     ]
    },
    {
     "name": "stderr",
     "output_type": "stream",
     "text": [
      "\r",
      "56.1%"
     ]
    },
    {
     "name": "stderr",
     "output_type": "stream",
     "text": [
      "\r",
      "56.6%"
     ]
    },
    {
     "name": "stderr",
     "output_type": "stream",
     "text": [
      "\r",
      "57.1%"
     ]
    },
    {
     "name": "stderr",
     "output_type": "stream",
     "text": [
      "\r",
      "57.6%"
     ]
    },
    {
     "name": "stderr",
     "output_type": "stream",
     "text": [
      "\r",
      "58.1%"
     ]
    },
    {
     "name": "stderr",
     "output_type": "stream",
     "text": [
      "\r",
      "58.6%"
     ]
    },
    {
     "name": "stderr",
     "output_type": "stream",
     "text": [
      "\r",
      "59.1%"
     ]
    },
    {
     "name": "stderr",
     "output_type": "stream",
     "text": [
      "\r",
      "59.6%"
     ]
    },
    {
     "name": "stderr",
     "output_type": "stream",
     "text": [
      "\r",
      "60.1%"
     ]
    },
    {
     "name": "stderr",
     "output_type": "stream",
     "text": [
      "\r",
      "60.6%"
     ]
    },
    {
     "name": "stderr",
     "output_type": "stream",
     "text": [
      "\r",
      "61.1%"
     ]
    },
    {
     "name": "stderr",
     "output_type": "stream",
     "text": [
      "\r",
      "61.6%"
     ]
    },
    {
     "name": "stderr",
     "output_type": "stream",
     "text": [
      "\r",
      "62.1%"
     ]
    },
    {
     "name": "stderr",
     "output_type": "stream",
     "text": [
      "\r",
      "62.6%"
     ]
    },
    {
     "name": "stderr",
     "output_type": "stream",
     "text": [
      "\r",
      "63.1%"
     ]
    },
    {
     "name": "stderr",
     "output_type": "stream",
     "text": [
      "\r",
      "63.6%"
     ]
    },
    {
     "name": "stderr",
     "output_type": "stream",
     "text": [
      "\r",
      "64.1%"
     ]
    },
    {
     "name": "stderr",
     "output_type": "stream",
     "text": [
      "\r",
      "64.6%"
     ]
    },
    {
     "name": "stderr",
     "output_type": "stream",
     "text": [
      "\r",
      "65.1%"
     ]
    },
    {
     "name": "stderr",
     "output_type": "stream",
     "text": [
      "\r",
      "65.6%"
     ]
    },
    {
     "name": "stderr",
     "output_type": "stream",
     "text": [
      "\r",
      "66.1%"
     ]
    },
    {
     "name": "stderr",
     "output_type": "stream",
     "text": [
      "\r",
      "66.6%"
     ]
    },
    {
     "name": "stderr",
     "output_type": "stream",
     "text": [
      "\r",
      "67.1%"
     ]
    },
    {
     "name": "stderr",
     "output_type": "stream",
     "text": [
      "\r",
      "67.6%"
     ]
    },
    {
     "name": "stderr",
     "output_type": "stream",
     "text": [
      "\r",
      "68.1%"
     ]
    },
    {
     "name": "stderr",
     "output_type": "stream",
     "text": [
      "\r",
      "68.6%"
     ]
    },
    {
     "name": "stderr",
     "output_type": "stream",
     "text": [
      "\r",
      "69.1%"
     ]
    },
    {
     "name": "stderr",
     "output_type": "stream",
     "text": [
      "\r",
      "69.6%"
     ]
    },
    {
     "name": "stderr",
     "output_type": "stream",
     "text": [
      "\r",
      "70.1%"
     ]
    },
    {
     "name": "stderr",
     "output_type": "stream",
     "text": [
      "\r",
      "70.5%"
     ]
    },
    {
     "name": "stderr",
     "output_type": "stream",
     "text": [
      "\r",
      "71.0%"
     ]
    },
    {
     "name": "stderr",
     "output_type": "stream",
     "text": [
      "\r",
      "71.5%"
     ]
    },
    {
     "name": "stderr",
     "output_type": "stream",
     "text": [
      "\r",
      "72.0%"
     ]
    },
    {
     "name": "stderr",
     "output_type": "stream",
     "text": [
      "\r",
      "72.5%"
     ]
    },
    {
     "name": "stderr",
     "output_type": "stream",
     "text": [
      "\r",
      "73.0%"
     ]
    },
    {
     "name": "stderr",
     "output_type": "stream",
     "text": [
      "\r",
      "73.5%"
     ]
    },
    {
     "name": "stderr",
     "output_type": "stream",
     "text": [
      "\r",
      "74.0%"
     ]
    },
    {
     "name": "stderr",
     "output_type": "stream",
     "text": [
      "\r",
      "74.5%"
     ]
    },
    {
     "name": "stderr",
     "output_type": "stream",
     "text": [
      "\r",
      "75.0%"
     ]
    },
    {
     "name": "stderr",
     "output_type": "stream",
     "text": [
      "\r",
      "75.5%"
     ]
    },
    {
     "name": "stderr",
     "output_type": "stream",
     "text": [
      "\r",
      "76.0%"
     ]
    },
    {
     "name": "stderr",
     "output_type": "stream",
     "text": [
      "\r",
      "76.5%"
     ]
    },
    {
     "name": "stderr",
     "output_type": "stream",
     "text": [
      "\r",
      "77.0%"
     ]
    },
    {
     "name": "stderr",
     "output_type": "stream",
     "text": [
      "\r",
      "77.5%"
     ]
    },
    {
     "name": "stderr",
     "output_type": "stream",
     "text": [
      "\r",
      "78.0%"
     ]
    },
    {
     "name": "stderr",
     "output_type": "stream",
     "text": [
      "\r",
      "78.5%"
     ]
    },
    {
     "name": "stderr",
     "output_type": "stream",
     "text": [
      "\r",
      "79.0%"
     ]
    },
    {
     "name": "stderr",
     "output_type": "stream",
     "text": [
      "\r",
      "79.5%"
     ]
    },
    {
     "name": "stderr",
     "output_type": "stream",
     "text": [
      "\r",
      "80.0%"
     ]
    },
    {
     "name": "stderr",
     "output_type": "stream",
     "text": [
      "\r",
      "80.5%"
     ]
    },
    {
     "name": "stderr",
     "output_type": "stream",
     "text": [
      "\r",
      "81.0%"
     ]
    },
    {
     "name": "stderr",
     "output_type": "stream",
     "text": [
      "\r",
      "81.5%"
     ]
    },
    {
     "name": "stderr",
     "output_type": "stream",
     "text": [
      "\r",
      "82.0%"
     ]
    },
    {
     "name": "stderr",
     "output_type": "stream",
     "text": [
      "\r",
      "82.5%"
     ]
    },
    {
     "name": "stderr",
     "output_type": "stream",
     "text": [
      "\r",
      "83.0%"
     ]
    },
    {
     "name": "stderr",
     "output_type": "stream",
     "text": [
      "\r",
      "83.5%"
     ]
    },
    {
     "name": "stderr",
     "output_type": "stream",
     "text": [
      "\r",
      "84.0%"
     ]
    },
    {
     "name": "stderr",
     "output_type": "stream",
     "text": [
      "\r",
      "84.5%"
     ]
    },
    {
     "name": "stderr",
     "output_type": "stream",
     "text": [
      "\r",
      "85.0%"
     ]
    },
    {
     "name": "stderr",
     "output_type": "stream",
     "text": [
      "\r",
      "85.5%"
     ]
    },
    {
     "name": "stderr",
     "output_type": "stream",
     "text": [
      "\r",
      "86.0%"
     ]
    },
    {
     "name": "stderr",
     "output_type": "stream",
     "text": [
      "\r",
      "86.4%"
     ]
    },
    {
     "name": "stderr",
     "output_type": "stream",
     "text": [
      "\r",
      "86.9%"
     ]
    },
    {
     "name": "stderr",
     "output_type": "stream",
     "text": [
      "\r",
      "87.4%"
     ]
    },
    {
     "name": "stderr",
     "output_type": "stream",
     "text": [
      "\r",
      "87.9%"
     ]
    },
    {
     "name": "stderr",
     "output_type": "stream",
     "text": [
      "\r",
      "88.4%"
     ]
    },
    {
     "name": "stderr",
     "output_type": "stream",
     "text": [
      "\r",
      "88.9%"
     ]
    },
    {
     "name": "stderr",
     "output_type": "stream",
     "text": [
      "\r",
      "89.4%"
     ]
    },
    {
     "name": "stderr",
     "output_type": "stream",
     "text": [
      "\r",
      "89.9%"
     ]
    },
    {
     "name": "stderr",
     "output_type": "stream",
     "text": [
      "\r",
      "90.4%"
     ]
    },
    {
     "name": "stderr",
     "output_type": "stream",
     "text": [
      "\r",
      "90.9%"
     ]
    },
    {
     "name": "stderr",
     "output_type": "stream",
     "text": [
      "\r",
      "91.4%"
     ]
    },
    {
     "name": "stderr",
     "output_type": "stream",
     "text": [
      "\r",
      "91.9%"
     ]
    },
    {
     "name": "stderr",
     "output_type": "stream",
     "text": [
      "\r",
      "92.4%"
     ]
    },
    {
     "name": "stderr",
     "output_type": "stream",
     "text": [
      "\r",
      "92.9%"
     ]
    },
    {
     "name": "stderr",
     "output_type": "stream",
     "text": [
      "\r",
      "93.4%"
     ]
    },
    {
     "name": "stderr",
     "output_type": "stream",
     "text": [
      "\r",
      "93.9%"
     ]
    },
    {
     "name": "stderr",
     "output_type": "stream",
     "text": [
      "\r",
      "94.4%"
     ]
    },
    {
     "name": "stderr",
     "output_type": "stream",
     "text": [
      "\r",
      "94.9%"
     ]
    },
    {
     "name": "stderr",
     "output_type": "stream",
     "text": [
      "\r",
      "95.4%"
     ]
    },
    {
     "name": "stderr",
     "output_type": "stream",
     "text": [
      "\r",
      "95.9%"
     ]
    },
    {
     "name": "stderr",
     "output_type": "stream",
     "text": [
      "\r",
      "96.4%"
     ]
    },
    {
     "name": "stderr",
     "output_type": "stream",
     "text": [
      "\r",
      "96.9%"
     ]
    },
    {
     "name": "stderr",
     "output_type": "stream",
     "text": [
      "\r",
      "97.4%"
     ]
    },
    {
     "name": "stderr",
     "output_type": "stream",
     "text": [
      "\r",
      "97.9%"
     ]
    },
    {
     "name": "stderr",
     "output_type": "stream",
     "text": [
      "\r",
      "98.4%"
     ]
    },
    {
     "name": "stderr",
     "output_type": "stream",
     "text": [
      "\r",
      "98.9%"
     ]
    },
    {
     "name": "stderr",
     "output_type": "stream",
     "text": [
      "\r",
      "99.4%"
     ]
    },
    {
     "name": "stderr",
     "output_type": "stream",
     "text": [
      "\r",
      "99.9%"
     ]
    },
    {
     "name": "stderr",
     "output_type": "stream",
     "text": [
      "\r",
      "100.4%"
     ]
    },
    {
     "name": "stderr",
     "output_type": "stream",
     "text": [
      "\r",
      "0.0%"
     ]
    },
    {
     "name": "stderr",
     "output_type": "stream",
     "text": [
      "\r",
      "180.4%"
     ]
    },
    {
     "name": "stdout",
     "output_type": "stream",
     "text": [
      "Extracting ./data/MNIST/raw/t10k-images-idx3-ubyte.gz to ./data/MNIST/raw\n",
      "Downloading http://yann.lecun.com/exdb/mnist/t10k-labels-idx1-ubyte.gz to ./data/MNIST/raw/t10k-labels-idx1-ubyte.gz\n",
      "Extracting ./data/MNIST/raw/t10k-labels-idx1-ubyte.gz to ./data/MNIST/raw\n",
      "Processing...\n",
      "Done!\n"
     ]
    }
   ],
   "source": [
    "BATCH_SIZE = 512\n",
    "train_loader, valid_loader, test_loader = load_mnist(batch_size=BATCH_SIZE)"
   ]
  },
  {
   "cell_type": "markdown",
   "metadata": {},
   "source": [
    "## 2. Define function to optimize\n",
    "In this tutorial, we want to optimize classification accuracy on the validation set as a function of the learning rate and momentum. The function takes in a parameterization (set of parameter values), computes the classification accuracy, and returns a dictionary of metric name ('accuracy') to a tuple with the mean and standard error."
   ]
  },
  {
   "cell_type": "code",
   "execution_count": 4,
   "metadata": {
    "collapsed": true
   },
   "outputs": [],
   "source": [
    "def train_evaluate(parameterization):\n",
    "    net = CNN()\n",
    "    net = train(net=net, train_loader=train_loader, parameters=parameterization, dtype=dtype, device=device)\n",
    "    return evaluate(\n",
    "        net=net,\n",
    "        data_loader=valid_loader,\n",
    "        dtype=dtype,\n",
    "        device=device,\n",
    "    )"
   ]
  },
  {
   "cell_type": "markdown",
   "metadata": {},
   "source": [
    "## 3. Run the optimization loop\n",
    "Here, we set the bounds on the learning rate and momentum and set the parameter space for the learning rate to be on a log scale. "
   ]
  },
  {
   "cell_type": "code",
   "execution_count": 5,
   "metadata": {},
   "outputs": [
    {
     "name": "stderr",
     "output_type": "stream",
     "text": [
      "[INFO 08-21 06:41:57] ax.service.utils.dispatch: Using Bayesian Optimization generation strategy. Iterations after 5 will take longer to generate due to model-fitting.\n"
     ]
    },
    {
     "name": "stderr",
     "output_type": "stream",
     "text": [
      "[INFO 08-21 06:41:57] ax.service.managed_loop: Started full optimization with 20 steps.\n"
     ]
    },
    {
     "name": "stderr",
     "output_type": "stream",
     "text": [
      "[INFO 08-21 06:41:57] ax.service.managed_loop: Running optimization trial 1...\n"
     ]
    },
    {
     "name": "stderr",
     "output_type": "stream",
     "text": [
      "[INFO 08-21 06:42:09] ax.service.managed_loop: Running optimization trial 2...\n"
     ]
    },
    {
     "name": "stderr",
     "output_type": "stream",
     "text": [
      "[INFO 08-21 06:42:22] ax.service.managed_loop: Running optimization trial 3...\n"
     ]
    },
    {
     "name": "stderr",
     "output_type": "stream",
     "text": [
      "[INFO 08-21 06:42:35] ax.service.managed_loop: Running optimization trial 4...\n"
     ]
    },
    {
     "name": "stderr",
     "output_type": "stream",
     "text": [
      "[INFO 08-21 06:42:48] ax.service.managed_loop: Running optimization trial 5...\n"
     ]
    },
    {
     "name": "stderr",
     "output_type": "stream",
     "text": [
      "[INFO 08-21 06:43:01] ax.service.managed_loop: Running optimization trial 6...\n"
     ]
    },
    {
     "name": "stderr",
     "output_type": "stream",
     "text": [
      "[INFO 08-21 06:43:14] ax.service.managed_loop: Running optimization trial 7...\n"
     ]
    },
    {
     "name": "stderr",
     "output_type": "stream",
     "text": [
      "[INFO 08-21 06:43:28] ax.service.managed_loop: Running optimization trial 8...\n"
     ]
    },
    {
     "name": "stderr",
     "output_type": "stream",
     "text": [
      "[INFO 08-21 06:43:42] ax.service.managed_loop: Running optimization trial 9...\n"
     ]
    },
    {
     "name": "stderr",
     "output_type": "stream",
     "text": [
      "[INFO 08-21 06:43:55] ax.service.managed_loop: Running optimization trial 10...\n"
     ]
    },
    {
     "name": "stderr",
     "output_type": "stream",
     "text": [
      "[INFO 08-21 06:44:08] ax.service.managed_loop: Running optimization trial 11...\n"
     ]
    },
    {
     "name": "stderr",
     "output_type": "stream",
     "text": [
      "[INFO 08-21 06:44:22] ax.service.managed_loop: Running optimization trial 12...\n"
     ]
    },
    {
     "name": "stderr",
     "output_type": "stream",
     "text": [
      "[INFO 08-21 06:44:36] ax.service.managed_loop: Running optimization trial 13...\n"
     ]
    },
    {
     "name": "stderr",
     "output_type": "stream",
     "text": [
      "[INFO 08-21 06:44:51] ax.service.managed_loop: Running optimization trial 14...\n"
     ]
    },
    {
     "name": "stderr",
     "output_type": "stream",
     "text": [
      "[INFO 08-21 06:45:05] ax.service.managed_loop: Running optimization trial 15...\n"
     ]
    },
    {
     "name": "stderr",
     "output_type": "stream",
     "text": [
      "[INFO 08-21 06:45:20] ax.service.managed_loop: Running optimization trial 16...\n"
     ]
    },
    {
     "name": "stderr",
     "output_type": "stream",
     "text": [
      "[INFO 08-21 06:45:34] ax.service.managed_loop: Running optimization trial 17...\n"
     ]
    },
    {
     "name": "stderr",
     "output_type": "stream",
     "text": [
      "[INFO 08-21 06:45:48] ax.service.managed_loop: Running optimization trial 18...\n"
     ]
    },
    {
     "name": "stderr",
     "output_type": "stream",
     "text": [
      "[INFO 08-21 06:46:02] ax.service.managed_loop: Running optimization trial 19...\n"
     ]
    },
    {
     "name": "stderr",
     "output_type": "stream",
     "text": [
      "[INFO 08-21 06:46:17] ax.service.managed_loop: Running optimization trial 20...\n"
     ]
    }
   ],
   "source": [
    "best_parameters, values, experiment, model = optimize(\n",
    "    parameters=[\n",
    "        {\"name\": \"lr\", \"type\": \"range\", \"bounds\": [1e-6, 0.4], \"log_scale\": True},\n",
    "        {\"name\": \"momentum\", \"type\": \"range\", \"bounds\": [0.0, 1.0]},\n",
    "    ],\n",
    "    evaluation_function=train_evaluate,\n",
    "    objective_name='accuracy',\n",
    ")"
   ]
  },
  {
   "cell_type": "markdown",
   "metadata": {},
   "source": [
    "We can introspect the optimal parameters and their outcomes:"
   ]
  },
  {
   "cell_type": "code",
   "execution_count": 6,
   "metadata": {},
   "outputs": [
    {
     "data": {
      "text/plain": [
       "{'lr': 0.00017358750493956155, 'momentum': 0.7992613689098109}"
      ]
     },
     "execution_count": 6,
     "metadata": {},
     "output_type": "execute_result"
    }
   ],
   "source": [
    "best_parameters"
   ]
  },
  {
   "cell_type": "code",
   "execution_count": 7,
   "metadata": {},
   "outputs": [
    {
     "data": {
      "text/plain": [
       "({'accuracy': 0.9436664348770352},\n",
       " {'accuracy': {'accuracy': 1.1744518307475937e-08}})"
      ]
     },
     "execution_count": 7,
     "metadata": {},
     "output_type": "execute_result"
    }
   ],
   "source": [
    "means, covariances = values\n",
    "means, covariances"
   ]
  },
  {
   "cell_type": "markdown",
   "metadata": {},
   "source": [
    "## 4. Plot response surface\n",
    "\n",
    "Contour plot showing classification accuracy as a function of the two hyperparameters.\n",
    "\n",
    "The black squares show points that we have actually run, notice how they are clustered in the optimal region."
   ]
  },
  {
   "cell_type": "code",
   "execution_count": 8,
   "metadata": {},
   "outputs": [
    {
     "data": {
      "text/html": [
       "<div id=\"7f468978d5f94597b59eb87bf46adebe\" style=\"width: 100%;\" class=\"plotly-graph-div\"></div><script type='text/javascript'>/*\n",
       " * Copyright (c) Facebook, Inc. and its affiliates. All Rights Reserved.\n",
       " */\n",
       "\n",
       "require(['plotly'], function(Plotly) {\n",
       "  window.PLOTLYENV = window.PLOTLYENV || {};\n",
       "  window.PLOTLYENV.BASE_URL = 'https://plot.ly';\n",
       "  /*\n",
       " * Copyright (c) Facebook, Inc. and its affiliates. All Rights Reserved.\n",
       " */\n",
       "\n",
       "const arm_data = {\"metrics\": [\"accuracy\"], \"in_sample\": {\"0_0\": {\"name\": \"0_0\", \"parameters\": {\"lr\": 0.08528105369101849, \"momentum\": 0.44805994629859924}, \"y\": {\"accuracy\": 0.111}, \"y_hat\": {\"accuracy\": 0.1110000179187337}, \"se\": {\"accuracy\": 0.0}, \"se_hat\": {\"accuracy\": 0.00010837217756003712}, \"context_stratum\": null}, \"1_0\": {\"name\": \"1_0\", \"parameters\": {\"lr\": 0.005639322217576495, \"momentum\": 0.8807417154312134}, \"y\": {\"accuracy\": 0.097}, \"y_hat\": {\"accuracy\": 0.09700001178705708}, \"se\": {\"accuracy\": 0.0}, \"se_hat\": {\"accuracy\": 0.00010837217719908522}, \"context_stratum\": null}, \"2_0\": {\"name\": \"2_0\", \"parameters\": {\"lr\": 0.0003930555926309812, \"momentum\": 0.0322558619081974}, \"y\": {\"accuracy\": 0.9206666666666666}, \"y_hat\": {\"accuracy\": 0.9206664589320355}, \"se\": {\"accuracy\": 0.0}, \"se_hat\": {\"accuracy\": 0.00010837207011663945}, \"context_stratum\": null}, \"3_0\": {\"name\": \"3_0\", \"parameters\": {\"lr\": 6.485097534718162e-05, \"momentum\": 0.8229439854621887}, \"y\": {\"accuracy\": 0.9083333333333333}, \"y_hat\": {\"accuracy\": 0.9083334070790705}, \"se\": {\"accuracy\": 0.0}, \"se_hat\": {\"accuracy\": 0.00010837213881786122}, \"context_stratum\": null}, \"4_0\": {\"name\": \"4_0\", \"parameters\": {\"lr\": 0.0013574858999394362, \"momentum\": 0.2327551245689392}, \"y\": {\"accuracy\": 0.11}, \"y_hat\": {\"accuracy\": 0.11000007944973378}, \"se\": {\"accuracy\": 0.0}, \"se_hat\": {\"accuracy\": 0.00010837217238639331}, \"context_stratum\": null}, \"5_0\": {\"name\": \"5_0\", \"parameters\": {\"lr\": 3.197832383718197e-05, \"momentum\": 2.4474555507806666e-16}, \"y\": {\"accuracy\": 0.7651666666666667}, \"y_hat\": {\"accuracy\": 0.7651666387572065}, \"se\": {\"accuracy\": 0.0}, \"se_hat\": {\"accuracy\": 0.00010837217623654687}, \"context_stratum\": null}, \"6_0\": {\"name\": \"6_0\", \"parameters\": {\"lr\": 4.08268145884632e-06, \"momentum\": 0.8250541573996221}, \"y\": {\"accuracy\": 0.7086666666666667}, \"y_hat\": {\"accuracy\": 0.7086666546441154}, \"se\": {\"accuracy\": 0.0}, \"se_hat\": {\"accuracy\": 0.00010837217551464309}, \"context_stratum\": null}, \"7_0\": {\"name\": \"7_0\", \"parameters\": {\"lr\": 4.061888477308676e-05, \"momentum\": 0.7083014960392764}, \"y\": {\"accuracy\": 0.8903333333333333}, \"y_hat\": {\"accuracy\": 0.8903332945560679}, \"se\": {\"accuracy\": 0.0}, \"se_hat\": {\"accuracy\": 0.00010837215830926821}, \"context_stratum\": null}, \"8_0\": {\"name\": \"8_0\", \"parameters\": {\"lr\": 0.0003125531795097415, \"momentum\": 0.0}, \"y\": {\"accuracy\": 0.883}, \"y_hat\": {\"accuracy\": 0.8830001421019641}, \"se\": {\"accuracy\": 0.0}, \"se_hat\": {\"accuracy\": 0.00010837207757631888}, \"context_stratum\": null}, \"9_0\": {\"name\": \"9_0\", \"parameters\": {\"lr\": 0.0045095846150690925, \"momentum\": 6.418600561914565e-17}, \"y\": {\"accuracy\": 0.099}, \"y_hat\": {\"accuracy\": 0.09900000953134269}, \"se\": {\"accuracy\": 0.0}, \"se_hat\": {\"accuracy\": 0.00010837217599591227}, \"context_stratum\": null}, \"10_0\": {\"name\": \"10_0\", \"parameters\": {\"lr\": 0.00012106200974706236, \"momentum\": 0.452399006856646}, \"y\": {\"accuracy\": 0.914}, \"y_hat\": {\"accuracy\": 0.9139999753738179}, \"se\": {\"accuracy\": 0.0}, \"se_hat\": {\"accuracy\": 0.00010837216155783571}, \"context_stratum\": null}, \"11_0\": {\"name\": \"11_0\", \"parameters\": {\"lr\": 0.0002866451800911148, \"momentum\": 0.34292198775751564}, \"y\": {\"accuracy\": 0.9271666666666667}, \"y_hat\": {\"accuracy\": 0.9271666087203152}, \"se\": {\"accuracy\": 0.0}, \"se_hat\": {\"accuracy\": 0.00010837216203910495}, \"context_stratum\": null}, \"12_0\": {\"name\": \"12_0\", \"parameters\": {\"lr\": 0.00017358750493956155, \"momentum\": 0.7992613689098109}, \"y\": {\"accuracy\": 0.9436666666666667}, \"y_hat\": {\"accuracy\": 0.9436664348770352}, \"se\": {\"accuracy\": 0.0}, \"se_hat\": {\"accuracy\": 0.0001083721288315217}, \"context_stratum\": null}, \"13_0\": {\"name\": \"13_0\", \"parameters\": {\"lr\": 1.5971247657828202e-05, \"momentum\": 1.0}, \"y\": {\"accuracy\": 0.8638333333333333}, \"y_hat\": {\"accuracy\": 0.8638333403602501}, \"se\": {\"accuracy\": 0.0}, \"se_hat\": {\"accuracy\": 0.00010837216203910495}, \"context_stratum\": null}, \"14_0\": {\"name\": \"14_0\", \"parameters\": {\"lr\": 1.2372072375127378e-05, \"momentum\": 0.4157055661666904}, \"y\": {\"accuracy\": 0.5698333333333333}, \"y_hat\": {\"accuracy\": 0.5698333471936898}, \"se\": {\"accuracy\": 0.0}, \"se_hat\": {\"accuracy\": 0.00010837217575527768}, \"context_stratum\": null}, \"15_0\": {\"name\": \"15_0\", \"parameters\": {\"lr\": 3.4710445078283715e-05, \"momentum\": 0.9999999999996948}, \"y\": {\"accuracy\": 0.888}, \"y_hat\": {\"accuracy\": 0.8879999507762337}, \"se\": {\"accuracy\": 0.0}, \"se_hat\": {\"accuracy\": 0.00010837215530133527}, \"context_stratum\": null}, \"16_0\": {\"name\": \"16_0\", \"parameters\": {\"lr\": 0.0002936458698394175, \"momentum\": 0.9999999980424195}, \"y\": {\"accuracy\": 0.099}, \"y_hat\": {\"accuracy\": 0.09900012146232728}, \"se\": {\"accuracy\": 0.0}, \"se_hat\": {\"accuracy\": 0.0001083721714238549}, \"context_stratum\": null}, \"17_0\": {\"name\": \"17_0\", \"parameters\": {\"lr\": 0.00015305978186221062, \"momentum\": 0.6760935220273097}, \"y\": {\"accuracy\": 0.932}, \"y_hat\": {\"accuracy\": 0.9320001269640987}, \"se\": {\"accuracy\": 0.0}, \"se_hat\": {\"accuracy\": 0.00010837213496770633}, \"context_stratum\": null}, \"18_0\": {\"name\": \"18_0\", \"parameters\": {\"lr\": 0.0001658258909597285, \"momentum\": 0.20074900874615745}, \"y\": {\"accuracy\": 0.8683333333333333}, \"y_hat\": {\"accuracy\": 0.8683333795154371}, \"se\": {\"accuracy\": 0.0}, \"se_hat\": {\"accuracy\": 0.0001083721614375184}, \"context_stratum\": null}}, \"out_of_sample\": {}, \"status_quo_name\": null};\n",
       "const density = 50;\n",
       "const grid_x = [1e-06, 1.3011511650442548e-06, 1.692994354296022e-06, 2.2028415765056147e-06, 2.866229883678204e-06, 3.729398352432554e-06, 4.852511011181743e-06, 6.3138503555892e-06, 8.215273746089953e-06, 1.0689313005882424e-05, 1.390841207112662e-05, 1.809694657026198e-05, 2.354686311364001e-05, 3.063802837345029e-05, 3.986470631277378e-05, 5.1870009063012666e-05, 6.749072272319499e-05, 8.781563250096393e-05, 0.00011426141253772724, 0.00014867137004306603, 0.00019344392634026088, 0.0002516997901283655, 0.0003274994751669172, 0.0004261263236648159, 0.0005544547624925005, 0.0007214294601814526, 0.000938688782612345, 0.0012213760031100258, 0.0015891948094037057, 0.002067782677737912, 0.0026904978401970136, 0.0035007443993213955, 0.004554997653699184, 0.005926740503884541, 0.007711585311544345, 0.010033938212454078, 0.013055670395116691, 0.01698740074503987, 0.02210317627048227, 0.028759573555516536, 0.03742055263793628, 0.04868979566145066, 0.06335278435066323, 0.0824315491666629, 0.10725590623460621, 0.13955614735503497, 0.18158364372009145, 0.23626776957937787, 0.3074200836506151, 0.4];\n",
       "const grid_y = [0.0, 0.02040816326530612, 0.04081632653061224, 0.061224489795918366, 0.08163265306122448, 0.1020408163265306, 0.12244897959183673, 0.14285714285714285, 0.16326530612244897, 0.18367346938775508, 0.2040816326530612, 0.22448979591836732, 0.24489795918367346, 0.26530612244897955, 0.2857142857142857, 0.3061224489795918, 0.32653061224489793, 0.3469387755102041, 0.36734693877551017, 0.3877551020408163, 0.4081632653061224, 0.42857142857142855, 0.44897959183673464, 0.4693877551020408, 0.4897959183673469, 0.5102040816326531, 0.5306122448979591, 0.5510204081632653, 0.5714285714285714, 0.5918367346938775, 0.6122448979591836, 0.6326530612244897, 0.6530612244897959, 0.673469387755102, 0.6938775510204082, 0.7142857142857142, 0.7346938775510203, 0.7551020408163265, 0.7755102040816326, 0.7959183673469387, 0.8163265306122448, 0.836734693877551, 0.8571428571428571, 0.8775510204081632, 0.8979591836734693, 0.9183673469387754, 0.9387755102040816, 0.9591836734693877, 0.9795918367346939, 1.0];\n",
       "const f = [0.4483152787985636, 0.45601972196976975, 0.4660174483809638, 0.4788989673078448, 0.49531400586527596, 0.5159062811732442, 0.5411951139695077, 0.5713897287668741, 0.6061325489095254, 0.6441916490752749, 0.6831649865795336, 0.7193277365120512, 0.7478674546845987, 0.7639526554389533, 0.7653903028921563, 0.7557377396910847, 0.7426235999590491, 0.7345562061686695, 0.7389443506552066, 0.7603916612486457, 0.7987373512115543, 0.8469527624716318, 0.8889224504768685, 0.8974999145839772, 0.8498042046993488, 0.7495928581704062, 0.6173966800663171, 0.47702413408226774, 0.3481543883985072, 0.2431712867398393, 0.16719144764551958, 0.120054594370683, 0.09859929357426334, 0.09785902583827666, 0.11158393055852123, 0.1337038038990953, 0.1593755498294646, 0.18523918728269562, 0.20929215366434473, 0.2306192025533978, 0.24909081823059193, 0.2650770425298052, 0.2791947978855533, 0.2920995857593129, 0.3043335959570253, 0.31624072509718576, 0.32794939621209407, 0.33940956035126363, 0.3504593575686509, 0.36089569654637466, 0.4481066537270508, 0.4556291754221816, 0.4653917630076122, 0.47798742857906074, 0.4940779334846405, 0.514331458388558, 0.5393054205227105, 0.5692585928140395, 0.6038876021745421, 0.6420086650013251, 0.6812510889985697, 0.7179004674978002, 0.7471426503445332, 0.7641570735770778, 0.7667817203268756, 0.7585143010163549, 0.7469562640738762, 0.7406967733930083, 0.7472974949142341, 0.7714501963312547, 0.8127404828528876, 0.8632612374856632, 0.9053245801276782, 0.9100339296047592, 0.8545993968583907, 0.7448959720736185, 0.603468888029766, 0.4557096601287828, 0.32225333019642816, 0.21562632813038224, 0.1403898732860197, 0.09551185933889816, 0.07699447580592367, 0.07925046438914274, 0.09568234287239097, 0.12005361290765637, 0.1474695312820654, 0.17459173889289398, 0.1994843966338311, 0.22132633033735144, 0.24009732741544015, 0.25628098647026365, 0.270599532502337, 0.2837918132908995, 0.2964499238575185, 0.30892948546872034, 0.3213368436890512, 0.3335777801443643, 0.3454383890500142, 0.35666757286454953, 0.4478692039180915, 0.4551759102668336, 0.4646524839304791, 0.4768894247403307, 0.4925553565864418, 0.5123383001188448, 0.5368306327819413, 0.5663400262858371, 0.6006200125581143, 0.638541945199597, 0.6777800921071729, 0.7146570755161779, 0.7444104056274516, 0.7623310579286389, 0.766385130334574, 0.7599147488566547, 0.7503285856458017, 0.7461784959638819, 0.7551014063064397, 0.7818266935752665, 0.8256193047540621, 0.8775515502397526, 0.918231743633257, 0.9177110693505754, 0.8542833175435679, 0.7354885625136625, 0.5854969609735968, 0.43114023180055283, 0.2939701735939294, 0.1865968269496978, 0.11292500768157776, 0.07095924071524906, 0.05580654668954743, 0.06124868288452334, 0.08040888115215339, 0.10695758790901544, 0.13599585268386893, 0.1642350198868544, 0.1898220260196199, 0.21203947890868746, 0.23098373839692943, 0.24725882223256973, 0.2616988267374373, 0.275130764493915, 0.2881977450189818, 0.30126351057383727, 0.3144048257426062, 0.32747411511735086, 0.3401969302188141, 0.35226786984528796, 0.4476188219109858, 0.4546798234314515, 0.4638240287964543, 0.47563432373047965, 0.4907809442524422, 0.5099671691270404, 0.5338175637866053, 0.5626890018227585, 0.5963963753617519, 0.6338757063057661, 0.6728628325842047, 0.70974692002757, 0.7398713346781639, 0.7587223352636964, 0.7644369170279548, 0.7601408267502501, 0.7529113108520118, 0.7511346650988883, 0.7624248160273567, 0.7914780801026245, 0.8371592299514453, 0.8893815653187345, 0.9270815351238472, 0.9201652166843629, 0.8487551141344363, 0.7214814652934146, 0.5637415102496559, 0.40367045181311867, 0.26370948502584013, 0.15649599246572576, 0.08517544357491524, 0.04670751646058158, 0.03527107131714746, 0.04403624873701939, 0.06590567456887342, 0.09452482671475937, 0.12503751741257874, 0.1542318961417406, 0.18035232043297267, 0.20279352471451312, 0.221774752278867, 0.23802695631945497, 0.2525028899464259, 0.2661229650229747, 0.27958251019208374, 0.2932492493989231, 0.3071618402104577, 0.32110910191098635, 0.3347468340300224, 0.34770878314589015, 0.4473736407275436, 0.45416404751633643, 0.46293540036451986, 0.4742578712027073, 0.48879807681395915, 0.5072701266326812, 0.530328522396301, 0.5583808609764631, 0.5913100609241795, 0.6281295348097512, 0.6666569055384186, 0.703379945743878, 0.7337984648698833, 0.753649672599773, 0.7612443694933358, 0.7594553595086003, 0.7549259778009771, 0.7557482224643667, 0.7693964317667545, 0.8004451795405633, 0.8472838546205677, 0.8985859444554899, 0.9318499035139512, 0.9176654391496322, 0.8383716916847419, 0.7033124194019127, 0.5387100707606068, 0.37384742118525, 0.2320243853648581, 0.12584403311189063, 0.057585893905575336, 0.023099236743044593, 0.015633573438962878, 0.027791075217273975, 0.05230595578340824, 0.0828561691672034, 0.11467149148594502, 0.14464179815257183, 0.17112161619586486, 0.19362454872769636, 0.2124979510507799, 0.2286058549357613, 0.2430267524425645, 0.2567802491595989, 0.27061529648047344, 0.28489891742699275, 0.299622038706099, 0.3144985263784828, 0.32910455615627077, 0.3430063343238891, 0.4471539048450792, 0.45365480654431595, 0.46202003012314297, 0.47280202198186605, 0.4866586503612095, 0.5043106540056123, 0.5264408065295082, 0.5535102677156208, 0.5854790403853575, 0.6214540273631729, 0.659358186851184, 0.6958105619051898, 0.726508846322927, 0.7474675339418165, 0.7571514823639758, 0.758158573455494, 0.7566294761148356, 0.7602432960848566, 0.7762066163961111, 0.8088703611519132, 0.8560960570209613, 0.9053277267041785, 0.93298934892033, 0.9109470468707868, 0.8238880583256509, 0.6817213148809624, 0.5111455046943147, 0.3424054413227434, 0.1996132440961404, 0.0952643327803322, 0.030663698369435388, 0.0005088618081846574, -0.002847756611236374, 0.012689584624514416, 0.03973507157367362, 0.07204409941420364, 0.10496836017811051, 0.13552051248474417, 0.1621753810445251, 0.18457023422276742, 0.2031844991809154, 0.21902098453540397, 0.23329135887259167, 0.24712092524688128, 0.26131397580487975, 0.27623159774792316, 0.29180618761043065, 0.30766419068524903, 0.3232917125171082, 0.338180739579209, 0.44698178271825456, 0.4531811902288344, 0.4611155102306972, 0.47131462156818216, 0.4844226840367021, 0.5011631179506372, 0.5222458579923659, 0.5481896945000725, 0.579043033482939, 0.614025455250831, 0.6511911616197545, 0.6873211002702622, 0.7183394243027293, 0.7405398835606246, 0.7525110722940588, 0.7565635854352408, 0.7582945192267901, 0.7648698677019238, 0.7830983436225459, 0.8169966364769666, 0.8638767083260259, 0.9100502898548968, 0.9312603205759947, 0.9010088535143979, 0.806328921864591, 0.6576840124122347, 0.48199025933066947, 0.31024574183160547, 0.16730580231338482, 0.06547104262703207, 0.004968262109852906, -0.02066381133028361, -0.01990531673780016, -0.0010934543461175172, 0.028310735919694907, 0.06217264022670943, 0.09599211440373523, 0.12692009621788214, 0.15355838671569955, 0.1756703552797389, 0.1938699465455982, 0.20930387217042523, 0.22332479418645662, 0.23717107405091897, 0.2517045029429804, 0.26727443356541947, 0.28374268007093595, 0.30063468912926167, 0.317335612955003, 0.3332567369816486, 0.44688111919350326, 0.4527748439312928, 0.46026320959064854, 0.4698489329339618, 0.48215772856112926, 0.4979119915021589, 0.5178481289503308, 0.5425475752161902, 0.572160285143045, 0.6060401092170481, 0.6423994071234164, 0.6782072387405762, 0.7096287451505126, 0.7332212069483333, 0.7476634226572617, 0.7549738968550648, 0.7601878375896205, 0.769881672946585, 0.7903452148755071, 0.8251447940705946, 0.8710430135849969, 0.9133755503974019, 0.9275680857151889, 0.888952557597909, 0.7868481129395748, 0.6323214185501672, 0.452330295716734, 0.27840119036107064, 0.13603724160622133, 0.03724606836945288, -0.018908124756979672, -0.04000710252200357, -0.03527030097283912, -0.013388451768114762, 0.018141909745859053, 0.05331688516770794, 0.08779990177415908, 0.11888883203873357, 0.14531492950121094, 0.1669673174939983, 0.18459510236580157, 0.1994932634688863, 0.21316362635466424, 0.22696596666585028, 0.24182230820396405, 0.25806389196016527, 0.27546857231684857, 0.29344616226946685, 0.31126974197187796, 0.32826384827079824, 0.446877127340795, 0.45246957296121787, 0.45950777148605076, 0.46846300512023453, 0.47993807450727555, 0.49465084114661356, 0.5133637057104465, 0.5367262513649412, 0.5650042541365964, 0.5977088833687215, 0.6332371871249126, 0.6687664646106621, 0.700704035505649, 0.7258432577885929, 0.742920545815406, 0.7536642659048528, 0.7625480170385038, 0.7755086719681366, 0.7982161076534158, 0.8336688384101876, 0.878076960843648, 0.9159853085429821, 0.9228262842053294, 0.8758567338958475, 0.7666040024513248, 0.6068000335774613, 0.4233235325152911, 0.24798621115303315, 0.10680861091758964, 0.011403664629385246, -0.04036850545846793, -0.05711684176074916, -0.048684659325161195, -0.024037134230124435, 0.009326274559191439, 0.04554200431151567, 0.08044162793539555, 0.111471150744203, 0.1374890433196052, 0.1585067021295588, 0.17540693726128176, 0.1896363436537259, 0.2028543387529425, 0.2165515780654373, 0.231713769154693, 0.24864706735057163, 0.26703060592715516, 0.2861429888456346, 0.3051341503712782, 0.3232365473754221, 0.4469960205651809, 0.45230086158433064, 0.45889649205789496, 0.4672188813830933, 0.4778437577768013, 0.4914810842646762, 0.5089187206515774, 0.5308798080361177, 0.5577604313245723, 0.589252486598599, 0.6239626659454225, 0.6592897409355657, 0.6918727225568051, 0.7187063825806033, 0.7385552286200677, 0.7528656320567738, 0.7655650779370502, 0.7819270923237959, 0.8069287197323521, 0.8428918903767969, 0.8854346071726239, 0.9185060582721607, 0.917847715756597, 0.8626795757508575, 0.7466585402844225, 0.5822353398990024, 0.3961169712656725, 0.22013157673442635, 0.0806315674953273, -0.01125852726587473, -0.05884751917014619, -0.07161997413999044, -0.05991536928711283, -0.03290029637727976, 0.0019466482959010767, 0.03890174974903293, 0.07395936283383997, 0.10470746788040297, 0.13012465010381957, 0.1503377556041463, 0.16635945629921728, 0.1797899716826717, 0.1924548107444048, 0.20598615872175674, 0.22143772190425898, 0.2390829783149634, 0.25848616314318235, 0.2787783632586292, 0.2989757143041731, 0.3182143043663756, 0.4472645873569362, 0.45230530909217964, 0.4584785811894424, 0.4661816462918039, 0.475959358395981, 0.4885105122160305, 0.5046475599937496, 0.5251718491483703, 0.550623412401982, 0.5808974760925681, 0.6148328685056104, 0.650056050129035, 0.6834174623588314, 0.7120745254418471, 0.7347942428783429, 0.7527545273433567, 0.7693640302807074, 0.7892318302547562, 0.8165989732318879, 0.8530252543071544, 0.8934447279444951, 0.9214095226827721, 0.9132622789883095, 0.8501879721276682, 0.7279007993368684, 0.559605390612291, 0.37175600916092555, 0.19590244862964823, 0.058454620855676875, -0.03002139701475215, -0.07385284463219322, -0.083199883522036, -0.0687693604641717, -0.03986609399295271, -0.003933122502468245, 0.03343662848330475, 0.06838657290283923, 0.09863390548640671, 0.12326559570571904, 0.14251375742829608, 0.1575144696024745, 0.17002185856143548, 0.18203578657983605, 0.19534180902046844, 0.2110669544290696, 0.2294437925184351, 0.2499040845459366, 0.27141469332677387, 0.29284821118741494, 0.313241471184633, 0.447709712683553, 0.45251998758584433, 0.45830431022858586, 0.4654183137660203, 0.4743725883332408, 0.48585156499918114, 0.5006908471317477, 0.5197732033418522, 0.543794245447962, 0.5728731246106379, 0.6061002363913837, 0.6413292714540637, 0.6755938381089334, 0.7061731824525291, 0.731815249417104, 0.7534472819505134, 0.7739944979928592, 0.7974170196230138, 0.8271999815458214, 0.8640820416495136, 0.9022134409669352, 0.924940935268747, 0.9094635629043379, 0.8389124962173854, 0.7109952870340004, 0.5396807158839994, 0.35109155519567714, 0.17619638575413765, 0.04106768180420195, -0.044314320853197864, -0.08500671513435587, -0.09162030920754527, -0.07510732531658249, -0.044857828907407415, -0.00827221195267136, 0.029171987603199834, 0.0637472499655306, 0.09328189273105059, 0.1169555245684043, 0.13509219146348939, 0.14894216844931352, 0.16041159727504473, 0.17168224922957898, 0.18470597845674808, 0.20068960123502333, 0.2198158905209453, 0.24136525724246627, 0.2641237393102649, 0.28681215618651396, 0.3083669748931213, 0.44835785178964815, 0.4529817287344593, 0.45842405457582436, 0.46499656208819184, 0.4731726659857931, 0.4836193364670927, 0.49719315318637125, 0.5148594893306284, 0.5374779680672459, 0.565408977835253, 0.5980104493990812, 0.6333567685771782, 0.6686299766629695, 0.7011896704541449, 0.7297469714905483, 0.7549991272252816, 0.7794278758086278, 0.8063696730079702, 0.8385470728506988, 0.8758383117354234, 0.9115807763564096, 0.9290868006725992, 0.9065859367804796, 0.8291287233496851, 0.6963558588880796, 0.5229771681733626, 0.33469821857318116, 0.16161956791500082, 0.028987753002272187, -0.05378049938444274, -0.09208051111927162, -0.0967445083758719, -0.07885473696681655, -0.04784029064819029, -0.011056266616786381, 0.026116275402971567, 0.060055035304816484, 0.0886776571162734, 0.11123755235513921, 0.12813463817619508, 0.14072139408047923, 0.15105142271628236, 0.1614945858386298, 0.17418278250621122, 0.19041032902079313, 0.21030064924617226, 0.23296285734659233, 0.2569864020947333, 0.2809343397829529, 0.30364378625828914, 0.4492344639983117, 0.4537263496335513, 0.4588872435247461, 0.46498332785349167, 0.47244848073439266, 0.4819292880675139, 0.49430036419973755, 0.5106084092242326, 0.5318811488179436, 0.5587328323556069, 0.5908010680911476, 0.6263690372876414, 0.6627273878213987, 0.6972751175967185, 0.7286721784337196, 0.7574079803271794, 0.7855623982052276, 0.8158781655539112, 0.8503155573564125, 0.8878783176392713, 0.921156272729907, 0.9335862049303565, 0.9045125968741956, 0.8208651475632622, 0.6841458524175753, 0.5097379329764714, 0.32282679502178957, 0.15237762006628763, 0.022365683263804836, -0.05831783210583941, -0.09501529286141941, -0.09854677790545563, -0.0800087289543594, -0.048823926633365544, -0.012299825470078574, 0.02425971600139909, 0.057312443666796, 0.08484162983896326, 0.10615370287077708, 0.12170630102776181, 0.1329394648318588, 0.1420465448187579, 0.15158939357939905, 0.16389399304909585, 0.18035116535593249, 0.20101478891407437, 0.2248021040194923, 0.25009205816801405, 0.2752870082080765, 0.2991281371372809, 0.4503634159201584, 0.45478783088843017, 0.45974123475544815, 0.4654432787735574, 0.4722865616838382, 0.4808946576834391, 0.4921566253576338, 0.5071965882247551, 0.5272091556253509, 0.5530687626579749, 0.5847004768136252, 0.6205797501547643, 0.6580623617039539, 0.6945475950961897, 0.7286329411381929, 0.7606223264860867, 0.7922352762481686, 0.8256534015467798, 0.8620820890433558, 0.8996695178013377, 0.9303935964494914, 0.9379788076382849, 0.9029129598042572, 0.813937039360249, 0.6743034511749523, 0.49994729982271213, 0.31541085230862803, 0.1482860495686713, 0.020992575982752837, -0.05807933266351695, -0.0939237932901652, -0.09711465255803742, -0.07864005136904906, -0.04786639490450528, -0.012047416791062693, 0.023573579155885427, 0.055510281533449946, 0.08178779584706719, 0.10174408537486213, 0.1158750811710112, 0.1256914075992377, 0.13351485687965348, 0.14209972691064465, 0.15397951135216625, 0.1706517748151289, 0.1920900826645046, 0.21699935617046384, 0.2435373351114939, 0.2699466364872067, 0.29487847035826587, 0.451766365172399, 0.4561974629932274, 0.4610301362528765, 0.4664371949694029, 0.472768880862277, 0.4806235715737606, 0.4909007954968978, 0.5047957504535833, 0.5236627915537088, 0.5486347372352436, 0.5799265460658827, 0.6161855176034642, 0.6547872814465306, 0.6930958174511647, 0.7296375390025509, 0.76455229983034, 0.7992401156348912, 0.8353579143412542, 0.8733747547723907, 0.910633800135043, 0.9386730122707627, 0.9416789391026851, 0.9013066262877518, 0.8080039521921277, 0.6665884699751502, 0.4933722879673901, 0.31212272740782554, 0.14888136505661265, 0.02439329241506405, -0.05343495792396935, -0.08907418598325334, -0.09264176439889305, -0.074890004363244, -0.04507137406549466, -0.010373200955902218, 0.02401015559292774, 0.05462733295911215, 0.07952302327092109, 0.09804580292172604, 0.11071012559475113, 0.11907842754370035, 0.12558577551616357, 0.13317452755522352, 0.14459707352949325, 0.16146892723604067, 0.1836721763365161, 0.20968036225023845, 0.23742422884220832, 0.26499226100232454, 0.2909541212192122, 0.45346213717409734, 0.4579829797148236, 0.46279360365874783, 0.46802029908487774, 0.4739705420795399, 0.481215903302289, 0.49066238929730777, 0.5035680314153888, 0.5214338709927265, 0.5456392795479624, 0.5766843726276979, 0.6133646634193096, 0.6530312481872319, 0.692982867444161, 0.7316683464752121, 0.7690828808126283, 0.8063474393238677, 0.8446378156993686, 0.8837215798526663, 0.9202115960963451, 0.9453860050495153, 0.9440694392678568, 0.8991515432349028, 0.8026457193236927, 0.6606434468508564, 0.48962218447929173, 0.31245307273489265, 0.15353075363395496, 0.03192805269482979, -0.04491264894956715, -0.08086046521591894, -0.08541295315131636, -0.06896291547820732, -0.04058481533464975, -0.007379184384269877, 0.02550347371001438, 0.05463036071007865, 0.078046410676605, 0.09509160391457772, 0.10627980031595696, 0.11320545478419541, 0.1183979242705735, 0.12497690480026258, 0.13592086425175787, 0.1529748281408877, 0.17591820999298607, 0.2029774678621165, 0.23185748946513135, 0.260503367111797, 0.2874137505340052, 0.45546610870122295, 0.4601676992372217, 0.46506564551102236, 0.47024058588423656, 0.4759574301654762, 0.48275997249425406, 0.4915570673075705, 0.5036603056669063, 0.5206992764913222, 0.5442765399454078, 0.5751623851270516, 0.6122743053947647, 0.6528995119073323, 0.6942494738954048, 0.734690020893519, 0.7740880944796849, 0.8133262965962545, 0.8531537597787422, 0.892692648959115, 0.9279172869566719, 0.9500175199548877, 0.9446133553394063, 0.8959542633084325, 0.7974465425366698, 0.6560591965713921, 0.4882136484899326, 0.3157895506814879, 0.16151618343508134, 0.04287263195353408, -0.03313727114730458, -0.06976634236382884, -0.07578426211130651, -0.06111522914001366, -0.034589073936021064, -0.003192163230873457, 0.027970725988458733, 0.05547444543332736, 0.07734869577811221, 0.09290831900408802, 0.10264908788110438, 0.1081776429933794, 0.11209534274600641, 0.11768084473184848, 0.12813862178273772, 0.14535388904183244, 0.16899288225836223, 0.19702561105916705, 0.22694125387644137, 0.25655736863921036, 0.284313574561586, 0.4577896125628557, 0.462769695000542, 0.4678734717437418, 0.47313721018311894, 0.4787839176132155, 0.4853292322501253, 0.4936818551367653, 0.5051975899202665, 0.5216130955935686, 0.5447190428920412, 0.5755260148527244, 0.6130450955324349, 0.6544714063134508, 0.6969164951701187, 0.7386573463422988, 0.7794451617701955, 0.8199654281545905, 0.8606088190341097, 0.8999341224016277, 0.9333828618136861, 0.9522141147750207, 0.9429704083672806, 0.8913870147895071, 0.7920697763257446, 0.6524340681778722, 0.4886305763614732, 0.3214822994076289, 0.17209601734124524, 0.056477142630613764, -0.018778046455005915, -0.056328926803317136, -0.06416072964593089, -0.05164253055179979, -0.02729551844374989, 0.0020403479959679727, 0.031314320008926755, 0.05710366455884375, 0.07741177639797614, 0.09151516317632402, 0.0998764810422732, 0.10409578135988151, 0.1068219157960757, 0.1114658251124887, 0.1214467019792923, 0.1387974032212771, 0.16306257743647856, 0.1919570149533889, 0.222774986463955, 0.25322676884988876, 0.28170546516578204, 0.4604393779469651, 0.46580101827069365, 0.47123642153293877, 0.47673899605767456, 0.4824907416646532, 0.4889791456208398, 0.4971104169666632, 0.5082758943346287, 0.5242967308284872, 0.5471072630121521, 0.5779080242358434, 0.6157732581782102, 0.6577968457682034, 0.7009864321106146, 0.7435221406442831, 0.7850476404263115, 0.8260929762324468, 0.8667727187651599, 0.9051941546470273, 0.9363874026893514, 0.9518233572423669, 0.9390585020446311, 0.8853506034692232, 0.7863042030871457, 0.6494180538801057, 0.4903716092127847, 0.32889264504300303, 0.1845482606515284, 0.07200737753231978, -0.002507816612917435, -0.04110638618657114, -0.05097451227176708, -0.04086582669569183, -0.018936275999957508, 0.008154894521800626, 0.035424433418437484, 0.05945209725089717, 0.07820840252927863, 0.09092202470071198, 0.09801054032401413, 0.1010507375817431, 0.10271382805909512, 0.10650871385747152, 0.11604242559043354, 0.13349546330246098, 0.15828723880808276, 0.1878946508655593, 0.21944890515373522, 0.2505761521455599, 0.2796350207754805, 0.4634170206911095, 0.4692669934170359, 0.4751650046213463, 0.4810631286106156, 0.4871031692646948, 0.4937444830314699, 0.5018888369957566, 0.5129553093560448, 0.5288276697931884, 0.5515351570136366, 0.5823944980636188, 0.6205103852457312, 0.6628919481942456, 0.7064439771304009, 0.7492386825955497, 0.7908166125627728, 0.8315939961695193, 0.8715029869913922, 0.9083421882467717, 0.9368730248622662, 0.9489000410413722, 0.9330260654766306, 0.8779483503397982, 0.7800740097471157, 0.646737406780604, 0.49298214889282255, 0.3374255996331474, 0.19819893462612043, 0.08877237253467707, 0.015026239693919252, -0.024651616754451378, -0.03666515017663374, -0.02911821312616314, -0.009755738778705725, 0.014977247020573792, 0.040181935162274196, 0.06244513192067591, 0.0797021047846238, 0.09112790136958882, 0.09708639101209626, 0.09911728248146023, 0.09989014913749361, 0.10297230010063363, 0.11211285584522013, 0.1296253372144931, 0.15480993075619942, 0.18494481465632506, 0.2170392078903059, 0.2486592129135597, 0.2781397305457739, 0.4667185970443195, 0.4731656047457201, 0.47966008555467077, 0.4861140812514587, 0.4926295560513442, 0.4996372682486332, 0.5080324190705441, 0.5192544827319807, 0.5352290728343464, 0.5580318691084366, 0.5890061982358483, 0.627253128410247, 0.6697348497423373, 0.7132557464939804, 0.7557671559640671, 0.7967089039290628, 0.8364248235754597, 0.8747639714258754, 0.9093844983337511, 0.9349516732845522, 0.9436901321134188, 0.92519666846737, 0.8694306521591784, 0.7734214310512515, 0.6442006092733966, 0.49607099065177945, 0.3465482509606407, 0.21243856666134758, 0.10614123773574502, 0.033222153795106735, -0.007492366251628524, -0.021663000855295045, -0.016732754454359844, -2.3575755236926454e-06, 0.022327660515321424, 0.04546153465114, 0.0660010472724415, 0.08184742587560134, 0.09211967014893085, 0.09712253131479642, 0.09834792921613034, 0.09844224625914122, 0.10099009356729816, 0.1098189344526691, 0.1273355588158941, 0.1527446616297221, 0.1831895186384756, 0.21560354667214154, 0.24751606956857308, 0.27724736544737655, 0.47033423355966714, 0.4774869908236813, 0.48471223322265156, 0.4918828167805916, 0.4990603776011938, 0.5066455513780647, 0.5155239473362079, 0.5271476934457366, 0.5434637373646556, 0.5665468393226021, 0.5976822568193118, 0.6359367721772258, 0.678262963752225, 0.7213693876928761, 0.763074652082214, 0.8027212165395116, 0.8406226405035405, 0.8766435822621281, 0.9084799437400553, 0.9309087713394112, 0.9366069210200563, 0.9160233100837402, 0.8601477334365981, 0.7664769324639997, 0.6416900078266315, 0.49931378769129303, 0.3557967070958881, 0.22672942263553686, 0.12355179193100663, 0.05153496300217297, 0.009882677313429844, -0.006376204542186015, -0.004032081720696579, 0.01007888756246722, 0.03002598117559907, 0.05113503232954375, 0.07003283458453013, 0.08459051470572909, 0.09387137840784587, 0.09811837463359285, 0.09876766803499393, 0.09842359286371982, 0.10064837252285697, 0.10927363625346853, 0.12672592533679983, 0.15216415325547505, 0.18267975685659948, 0.215177278373044, 0.24717112332382984, 0.2769747264038618, 0.4742478448105538, 0.48221305900764494, 0.4903012496350744, 0.4983462812504069, 0.5063677695445252, 0.5147330972543026, 0.5243136473246504, 0.5365652617743417, 0.5534352999028922, 0.5769529092265159, 0.6082835254554906, 0.646436129825439, 0.6883725435124692, 0.730712194166663, 0.771133364453938, 0.8088890730303587, 0.8443077408718991, 0.8773638577129855, 0.9059594801213559, 0.9252053196044667, 0.9282058097406256, 0.9060523982773389, 0.8505117901734677, 0.7594267369718053, 0.6391442786132098, 0.5024465372507831, 0.3647743740803115, 0.24060581652766866, 0.14051312599218602, 0.06948261327659111, 0.02703275213606615, 0.00881892462051903, 0.008680080266303847, 0.02025309406014042, 0.037896417545889904, 0.05707456458317384, 0.07445022592713368, 0.08787012511818992, 0.09634421580223351, 0.10005292225974693, 0.10037055696954256, 0.09984232921778313, 0.10196996494680144, 0.11051363070019471, 0.12782769344305722, 0.1530904920896501, 0.18343086600340797, 0.21577100603700267, 0.24763169169341792, 0.27732685875327817, 0.4784369499048199, 0.48731722997645804, 0.49639588331091966, 0.5054671885253302, 0.5145055648242156, 0.5238399646801718, 0.534320799217206, 0.5473971754978332, 0.5649962044102241, 0.589064287095786, 0.6206117312482538, 0.6585733309044478, 0.6999205689318849, 0.7411892560503165, 0.7799157940372541, 0.8152797801269895, 0.847675894748078, 0.877276650055275, 0.9023346988940499, 0.9184670549261094, 0.919155966938193, 0.8958917608742238, 0.840964074301153, 0.7524811586406324, 0.636535941044534, 0.5052523815996997, 0.3731442180326805, 0.25366957145458563, 0.15660388736475517, 0.08664758328565991, 0.043569894876712256, 0.023584471199367463, 0.021125467877283644, 0.030301006894838722, 0.045771856598984195, 0.0631557584410356, 0.07916188884732378, 0.0916190335030953, 0.09948726498329463, 0.10288484326480063, 0.10311892136017176, 0.10265887451733546, 0.10490790984880771, 0.11348244100593896, 0.13059515702849456, 0.1554918213446297, 0.18542098293953047, 0.21736978466341533, 0.24888757428691832, 0.2782968052558183, 0.48287259851062614, 0.4927643201166404, 0.5029537255798651, 0.5131940742865924, 0.5234097705029259, 0.5338838435659987, 0.5454366807635559, 0.5594990174528909, 0.5779591322156313, 0.6026550643079057, 0.634428113122912, 0.6721288536214376, 0.712728238941241, 0.7526811352733307, 0.7893870908516563, 0.8219792876831596, 0.850979594091404, 0.8768378462339266, 0.8982575130235712, 0.9114463904962942, 0.9102051020319922, 0.8861779362909404, 0.8319430664050482, 0.7458438905972405, 0.6338467158138414, 0.5075446291641762, 0.3806173934408498, 0.26558245147346027, 0.1714677948813994, 0.10267558594601012, 0.05916083427638186, 0.03762498052349994, 0.03305608117060499, 0.04002354439099587, 0.053497662811076374, 0.06926073327393367, 0.08407774213244978, 0.09576585411725691, 0.10323904471373613, 0.10655404275129499, 0.10694542371346971, 0.1067895062059584, 0.1093534363653269, 0.11805021513856984, 0.13491577429776191, 0.15928640365456004, 0.1885929653071886, 0.21993412044695998, 0.25091160353233083, 0.2798659213141209, 0.48751941746620175, 0.4985105692320475, 0.509921284026198, 0.5214615845099384, 0.5329993921059709, 0.5447619391393478, 0.5575283468211248, 0.5726989463798252, 0.5921086153283629, 0.6174738376789225, 0.6494678334998876, 0.686852514881632, 0.7265851811973716, 0.765041163964706, 0.799495076196072, 0.8290737304571418, 0.8544993762848981, 0.8765641583407483, 0.8944555844161506, 0.9049655712310641, 0.9021364436332566, 0.8775396017859849, 0.8238509685812611, 0.7396814852955018, 0.6310424515855264, 0.5091483649302103, 0.38694028613107057, 0.27605712876525074, 0.1848076427301828, 0.11727246055254337, 0.07352680808531442, 0.050689569286370695, 0.04425748644285177, 0.04924534817052573, 0.0609349450936717, 0.07528090499482043, 0.0891113398901422, 0.10023719296991596, 0.1075297662656256, 0.1109845764757833, 0.11175766126168274, 0.11211480105885319, 0.11515306885503962, 0.12404195520691996, 0.14063053816114657, 0.16435248014453263, 0.19285933720896137, 0.22340260830967346, 0.253661116623747, 0.28200472360167406, 0.4923357900486841, 0.5045038226557468, 0.517234227498333, 0.5301909580406131, 0.543177496916374, 0.5563531603535332, 0.5704427215302478, 0.5868046365505432, 0.6072111136442434, 0.633254857765407, 0.6654510639645083, 0.7024731230699344, 0.7412538800958322, 0.7780927408802611, 0.8101589744334095, 0.8366273551990798, 0.8585083868950769, 0.8769821964924445, 0.891671977692025, 0.8998572691754158, 0.8957195344406584, 0.8705553327648486, 0.8170168169256633, 0.7340925134683045, 0.6280488385139187, 0.5098825534736542, 0.3918816838461218, 0.2848479991641002, 0.19637882372017346, 0.13020014759477916, 0.08644206022574574, 0.0625726123763205, 0.05455090553689701, 0.05781747196403697, 0.06796330953080643, 0.08111956162456146, 0.09418226324785195, 0.10496004619211396, 0.11228414148123478, 0.11608858014506673, 0.11744447863399055, 0.11849056064178298, 0.1221268426382548, 0.13125901712954025, 0.14755385313330038, 0.17054070485966683, 0.19810921861185665, 0.22769581492362512, 0.2570801822789263, 0.28467419551322937, 0.4972741814603467, 0.5106838805457337, 0.524817802314951, 0.5392906674649133, 0.5538324114409733, 0.5685203844026204, 0.5840105634479988, 0.6016094754963589, 0.6230231157960021, 0.6497266024014985, 0.6820918382147998, 0.7187069344123208, 0.7564744412059206, 0.7916273821927081, 0.8212583743653533, 0.8446592761779088, 0.8632339765668108, 0.8785759202090933, 0.890608353695538, 0.8969067671833475, 0.8916559528670338, 0.8657045772776637, 0.8116555572223947, 0.7290766349106143, 0.6247290944677828, 0.5095442263374648, 0.39522148487762354, 0.2917429149179914, 0.2059831883294907, 0.141272437830953, 0.09773162248664458, 0.07311346492779414, 0.0637943739463015, 0.06561934411246939, 0.0744831352144738, 0.08669418694505127, 0.09921845153685749, 0.10986432195423368, 0.1174245237621081, 0.12177077166100858, 0.12388300499694027, 0.12575889607605273, 0.13008353528806926, 0.13949473751228703, 0.15548918784381738, 0.1776863091687333, 0.20421601565715447, 0.2327208860367112, 0.2611023471304268, 0.28782743714775366, 0.5022816256473693, 0.5169830326370993, 0.5325874296229021, 0.5486571973833161, 0.5648389712699773, 0.5811126206258729, 0.5980500089798776, 0.6168977102670247, 0.6392974245985497, 0.6666185254328061, 0.6991055541237539, 0.7352656239444404, 0.7719703469864254, 0.805404680157165, 0.832624385687736, 0.8531220564337627, 0.8688199293945058, 0.8817339189757534, 0.8918673004208426, 0.8967925644320275, 0.890518841835678, 0.8633109687782079, 0.8078235986064392, 0.72450481368338, 0.6208650761131829, 0.5078961748922497, 0.3967420926610948, 0.2965566682538284, 0.2134638531420019, 0.15035100372968724, 0.10726883595241321, 0.08219559106646634, 0.0718832186894226, 0.07256013764700153, 0.08041741716279749, 0.09193851138671871, 0.1041583986926542, 0.1148853493012908, 0.12287413905998035, 0.12793306806638693, 0.13094552730688558, 0.1337579712047533, 0.13883211998201217, 0.14854549486867685, 0.16424047513037193, 0.18561942438883738, 0.21104483991829148, 0.23837635189826312, 0.26565364105667866, 0.29141152830255435, 0.5073003895203619, 0.523326803173906, 0.5404495086517412, 0.5581759636394261, 0.5760597801594782, 0.5939669702591849, 0.6123695546859209, 0.6324485119897075, 0.6557879688892867, 0.6836665298565479, 0.7162157457952112, 0.7518645236954508, 0.7874561625331307, 0.8191556562836084, 0.8440353168925361, 0.8618855804228149, 0.8752928952879866, 0.8866963879804715, 0.8958890737036111, 0.900020243528125, 0.8926830723077184, 0.8634775736396203, 0.8053729202303049, 0.7200930689742968, 0.6161436587153846, 0.5046594737530621, 0.3962234057491124, 0.29912682936589635, 0.21870137713491772, 0.15734205191124173, 0.11497292647129065, 0.0897453759696254, 0.07875005940045143, 0.07857966501391112, 0.08571321612024252, 0.09680426663879993, 0.10895313605876122, 0.11996623333993994, 0.12856017154280797, 0.134478918628556, 0.13850556995671703, 0.14232975952831284, 0.14818984894524623, 0.15821824962553932, 0.173620020965976, 0.19417306500278197, 0.21845898718485457, 0.24455669339785613, 0.2706555956072757, 0.2953694708880355, 0.5122688300540219, 0.529634936721842, 0.5483024683570346, 0.5677224094283405, 0.5873464850135531, 0.6069103602005884, 0.6267704752992751, 0.6480390931162425, 0.6722534875676262, 0.7006175177150802, 0.7331604491000377, 0.7682316181888189, 0.8026481548456215, 0.8325912090542905, 0.8552194412150836, 0.8707301271720842, 0.8825372600856273, 0.8935028203389104, 0.9028781032833024, 0.9068436709967764, 0.898241725146477, 0.8660154216776674, 0.8039080065665398, 0.7153833644144034, 0.6101505796235105, 0.4995120506036391, 0.39344206951071387, 0.29931231134078706, 0.22161153482771495, 0.16219377772999027, 0.12080681751280198, 0.0957308024497372, 0.08436447933380808, 0.08364888636076839, 0.09034274186265767, 0.1012626130957387, 0.11356791953656431, 0.1250599224558947, 0.13441650036722197, 0.1413170580696408, 0.14644283483021392, 0.15132573530426363, 0.15798761492519264, 0.16833539375371614, 0.18345369444780057, 0.2031888637218111, 0.2263251606969443, 0.25115636588353696, 0.2760280733995233, 0.2996420897143043, 0.5171224564536937, 0.5358226589721533, 0.5560381281025957, 0.5771633522382165, 0.5985411307741386, 0.6197611107574078, 0.6410487834798699, 0.6634470997124333, 0.6884603828408242, 0.7172331901039084, 0.7496981593892205, 0.7841173004182348, 0.8172784071299537, 0.8454173934934365, 0.8658674939049698, 0.8793528656957841, 0.8902837736648015, 0.9019449662084253, 0.9127164330515829, 0.9171669003342156, 0.9069050139953481, 0.8703710363253201, 0.8027527266416661, 0.7097362829662712, 0.6023740808240532, 0.49209430846815916, 0.38817537790210893, 0.29699479579055027, 0.22214473099576643, 0.1648946571142636, 0.12477524345815871, 0.10016008106277474, 0.08873245188691092, 0.08777008437995737, 0.09430407608231361, 0.1053051973949819, 0.11798353640515447, 0.1301308668077984, 0.14038592956803753, 0.14836449672499075, 0.15464688633484336, 0.16061070066344313, 0.16807319965894657, 0.17873756823224096, 0.19358404854243633, 0.21252088535689956, 0.23451738374795383, 0.2580731145517229, 0.28169176440275306, 0.30416979320089227, 0.5217952023655579, 0.5418022447410449, 0.5635434426967421, 0.586358696208782, 0.6094777216139868, 0.6323304760645845, 0.6549969244207029, 0.6784525520108756, 0.704184991596141, 0.7332931250385877, 0.7656130605405514, 0.7993042273468645, 0.8311120745908572, 0.8573589701627882, 0.875657414489943, 0.8873918230439823, 0.8981177678104844, 0.9115351662586437, 0.9248693092463853, 0.9304193106981389, 0.9178836856247254, 0.8755666737169278, 0.8009371675752842, 0.7023406392649181, 0.5922204463757156, 0.48202242568162645, 0.3802098785808149, 0.29208290366176837, 0.22028692425510954, 0.16547247744326282, 0.12692311743764106, 0.10308023570630198, 0.09189554580516068, 0.09097671747969571, 0.09762151414700926, 0.10894478103720673, 0.1221971444489669, 0.13515616522610585, 0.1464218029593637, 0.1555486650889668, 0.16301962028421474, 0.17006505281188938, 0.17831292010317318, 0.18928496750704726, 0.20387189404665068, 0.22203789932490137, 0.24291970181430816, 0.2652105286976918, 0.28757026446570527, 0.30889412310690784, 0.5262209009247404, 0.5474849149202783, 0.5707027125619967, 0.5951636630213089, 0.6199841811355955, 0.644424372411464, 0.668405473533581, 0.6928396478641161, 0.7192154970923517, 0.7485970669650983, 0.7807189518410967, 0.8136158882808229, 0.8439657686544191, 0.8681913892687803, 0.8842934991690059, 0.8944698695223556, 0.9055112009426958, 0.9215054632018058, 0.938311035923294, 0.9453989051021883, 0.9297840191479585, 0.8801768705714261, 0.7972160284265777, 0.6922446805038449, 0.5790427739472223, 0.4689093699800026, 0.3693543365463746, 0.2845187393710768, 0.21606176114096842, 0.1639938917807205, 0.12733401164324398, 0.10457556575637139, 0.09392986995973396, 0.09333291792426712, 0.10034547257221449, 0.11221536045095548, 0.1262225530654013, 0.14012611769264616, 0.1524889435562209, 0.16280870864012092, 0.17147664248304056, 0.1795858063271522, 0.18859208467940825, 0.19985753851366783, 0.21419673989356475, 0.2316244658366079, 0.2514278484113466, 0.2724798625147705, 0.29359170347530106, 0.3137590503554345, 0.5303349377741049, 0.5527830619238119, 0.5774003281844955, 0.6034317226272785, 0.6298849737913659, 0.6558455874384408, 0.6810651787798031, 0.7063987894254654, 0.733353699891071, 0.7629663342427048, 0.794861193852084, 0.8269219596540214, 0.8557228607294409, 0.8777771335306422, 0.8915616172123038, 0.9002559767106649, 0.911877864835087, 0.9308525819113295, 0.9515301545967222, 0.9601777250613379, 0.9405911701249197, 0.8823693968252877, 0.7901287377537298, 0.6784116322084016, 0.5621829939898934, 0.45239287764770675, 0.35545626561318094, 0.2742861846704735, 0.20953347644064652, 0.16056418445518827, 0.1261285271129191, 0.10476583149260699, 0.09494465684800002, 0.09493255298058978, 0.10255187089169904, 0.11517167418451157, 0.13008985365022896, 0.1450441221623413, 0.15856389929163034, 0.17009598403130533, 0.17994772206924425, 0.189086657529622, 0.19881458683996456, 0.2103543926201505, 0.22445642332243793, 0.2411811397347386, 0.2599500707485339, 0.2798011990210052, 0.2996899308039226, 0.31871199915941356, 0.5340760345481828, 0.5576127669688543, 0.583524079401571, 0.611018407803613, 0.6390047198107963, 0.66639684655001, 0.6927697688774272, 0.7189292423888292, 0.7464168731463358, 0.7762442926475772, 0.807916105165501, 0.8391385088199121, 0.8663399148826955, 0.8860927798997833, 0.8973956845141624, 0.9045275424147381, 0.9166436965541648, 0.9384333057121412, 0.9626593776893946, 0.972292854965014, 0.9478116397990215, 0.880029336283668, 0.7781059354174845, 0.6597989747915605, 0.541025342032521, 0.4321687355997648, 0.33842078062521025, 0.2614200907984372, 0.2008100004686616, 0.15532686799433992, 0.12346226853387698, 0.10380394245576452, 0.09508032218245477, 0.0958977145662776, 0.10434085222672829, 0.11788796539034108, 0.1338443074287322, 0.14992587875656327, 0.1646345135515448, 0.17737384364071118, 0.1883764946357397, 0.19849733743488862, 0.2089018935801008, 0.2206926778035297, 0.23456618122845346, 0.2506240407747777, 0.26840730401028673, 0.28710405758666485, 0.30580529335333007, 0.3237046020675154, 0.5373880896798027, 0.5618965226570295, 0.5889689846917158, 0.6177861468645715, 0.6471731956385538, 0.6758852068063722, 0.7033200398950371, 0.7302428683102743, 0.7582399123929363, 0.7882959378341038, 0.8197875836635373, 0.8502218714356429, 0.8758394498753226, 0.8932264200132705, 0.9018956227855406, 0.9072038515135206, 0.9193178178671307, 0.943097097844988, 0.9697051796952099, 0.9790774626834102, 0.9487440037686323, 0.8709646227921577, 0.7596179199369836, 0.6354563847353362, 0.5150574522580754, 0.40802678750953014, 0.3182301115605167, 0.24601533833405947, 0.19004564222870518, 0.14846270051352928, 0.11952310443671166, 0.10187287001053935, 0.09450577472546529, 0.09637644513106358, 0.1058346554058408, 0.12045584074430893, 0.13754440821868086, 0.15479789400326205, 0.17069887184890065, 0.1846168175945162, 0.19671958451949395, 0.2077624589007333, 0.21879163056990358, 0.23080610201275958, 0.24445735633144994, 0.259883988488732, 0.2767328619333411, 0.2943275519591729, 0.31188505785231446, 0.32869320356838433, 0.5402219784687445, 0.5655660156245489, 0.5936414788600347, 0.6236101054590768, 0.6542321237954938, 0.6841283579802117, 0.7125298367920447, 0.7401693265171553, 0.7686779103260327, 0.7990067443735105, 0.830401230609851, 0.8601564502097291, 0.8842884911472348, 0.8993398599867999, 0.9052640218475709, 0.9083350056841446, 0.9195479434518712, 0.9438278968560929, 0.9708146547375192, 0.9779982597441703, 0.9408114806591228, 0.8531726790730454, 0.7333499632365615, 0.6046326292361238, 0.4839333701651706, 0.3798863239292246, 0.29496181740196364, 0.22823463006778355, 0.17744270101422038, 0.14018772802859714, 0.11452739476259799, 0.09918146017389118, 0.09341468383343965, 0.09653944244311619, 0.10717439243657012, 0.12298104822880307, 0.14125906376054687, 0.15969531631099343, 0.17676370679038877, 0.19180931559914327, 0.2049453029967353, 0.21684002697952554, 0.22843592110422178, 0.2406432541035839, 0.2540758859845432, 0.268905356343123, 0.2848717852651257, 0.3014202011780693, 0.3178835364207717, 0.33363913972084575, 0.5425371953913554, 0.5685647673524887, 0.597463649453692, 0.6283847454147174, 0.6600440059596383, 0.6909635400501623, 0.7202346490633944, 0.7485628992759346, 0.7776091039974914, 0.8082810345802679, 0.839696785555853, 0.8689382509604902, 0.8917675043348352, 0.9046127335964471, 0.9077305633190981, 0.9080567630019787, 0.9171451499625416, 0.9398615299916331, 0.9645297104423616, 0.9670135476364905, 0.9219375965433148, 0.8251327750237114, 0.698379366524315, 0.5668781102587085, 0.44753153350726294, 0.34782707061692636, 0.26880360278788545, 0.20831387605983542, 0.16325140677742167, 0.13075002548976433, 0.10871492149437811, 0.09595880249062583, 0.09202033959911304, 0.09657541072261966, 0.10851542003256931, 0.12557900238177566, 0.14506389362602, 0.16465918408494634, 0.18284237350584703, 0.19894397859144364, 0.21303206413848846, 0.2256997503916226, 0.23779960085100105, 0.2501658335674054, 0.2633806852001277, 0.2776447639482485, 0.29277996350364593, 0.3083394852682065, 0.32376197526811884, 0.3385088266315807, 0.5443032144543287, 0.5708503929264304, 0.6003770680103354, 0.6320303816496763, 0.6645026526132657, 0.696259930946769, 0.7263035158840638, 0.7553104538326535, 0.7849378608137779, 0.8160401703997936, 0.8476200817444043, 0.8765570652438974, 0.8983369817091598, 0.909187773987153, 0.9094833628605976, 0.9065216131188678, 0.9120644785628929, 0.9307503528317241, 0.9499840648350424, 0.9449445736997703, 0.8909595376720137, 0.7860663270022712, 0.6543229922003262, 0.5221285142415868, 0.4060005205504594, 0.31211197693943504, 0.2400627169837129, 0.1865641365952092, 0.1477677043168445, 0.1204249364135066, 0.10234238326953082, 0.09244684425876482, 0.09054866075705836, 0.09668463646295922, 0.11002093237443145, 0.1283689484910373, 0.14903673630287606, 0.16973322982819994, 0.18895253624850378, 0.20601981383443901, 0.2209666447848576, 0.2343212660970111, 0.24685840244206958, 0.2593468725506096, 0.27234200689617016, 0.28606969690981704, 0.3004231213714436, 0.31505122446072703, 0.3294882629783426, 0.34327369241824235, 0.5455004527710894, 0.5723962354873127, 0.602345683033849, 0.6344985745748967, 0.6675435931146675, 0.6999351721133096, 0.7306538478688909, 0.7603389269943499, 0.7905970888177181, 0.82222087411641, 0.8541159015954926, 0.8829804992128054, 0.9040084436908009, 0.9131276407378455, 0.9106122751770819, 0.9038151599092188, 0.9043297330682722, 0.9163652728884862, 0.9269954396614901, 0.9117130423883342, 0.8479196929102211, 0.7360874654366958, 0.6014262915481856, 0.47075697207434414, 0.35978626152385224, 0.27319846811718707, 0.20916821921013112, 0.16336931089559026, 0.13132857236957185, 0.10950878699433964, 0.09567552866794848, 0.08889109033991549, 0.08922882567422108, 0.09707025970849881, 0.11185338254165178, 0.13146682907194573, 0.15325259855835172, 0.17496045177001235, 0.19511373095947432, 0.21304024657268944, 0.22874239990356832, 0.2426923671949931, 0.25559718161996564, 0.26816901176779295, 0.2809398398935431, 0.29415712056485127, 0.3077757406856569, 0.3215288470388557, 0.33503650893010506, 0.3479099865323813, 0.5461207502374567, 0.5731921802490954, 0.6033572927233463, 0.6357750437501307, 0.6691506167771317, 0.7019711665268381, 0.7332634222127085, 0.7636196842340086, 0.7945493633622829, 0.8267739545096141, 0.8591230251469977, 0.8881426197838053, 0.9087244782371611, 0.9163880707951783, 0.9110741015589314, 0.8998918980419218, 0.8939316591069575, 0.8968557439758903, 0.8960309807790745, 0.8682469733020955, 0.7939613651913129, 0.6761941464009656, 0.5405780520783657, 0.41358700683420274, 0.30963627992996917, 0.23173571333651288, 0.17666491414386598, 0.13917908677360757, 0.11430479101463731, 0.0983112552582871, 0.088980301617959, 0.08552961166293915, 0.08828097662991097, 0.09792657998405829, 0.11416349630121825, 0.1349772577296935, 0.15777845351682007, 0.18037972621796233, 0.20134498319928495, 0.22001121560786968, 0.23635752910874597, 0.2508073057309141, 0.2640082385602182, 0.27662287455823514, 0.28916238755251483, 0.3018921353271038, 0.31481997082347957, 0.32775259796388756, 0.34038653532121627, 0.35239849783099847, 0.5461673215897715, 0.5732445443470304, 0.6034233217863315, 0.6358792352327919, 0.6693548983787808, 0.7024120075370246, 0.7341686934561645, 0.76516757709083, 0.7967863057774041, 0.8296636645431568, 0.862572457943683, 0.8919391506957761, 0.9123501801323441, 0.9188090884529572, 0.9106872602378278, 0.8945755648777302, 0.8808310359617638, 0.8726031258286474, 0.858076749891217, 0.8161838839098612, 0.7310042579458368, 0.6081266919703548, 0.4732543266522575, 0.35186474952992736, 0.25657892044508024, 0.18854666150592536, 0.14319845876420223, 0.11449707558123079, 0.09709131609606403, 0.08714677217777778, 0.0825137015788, 0.08258131929494539, 0.0879008016404742, 0.09942357563883908, 0.11707736627816012, 0.1389855226513349, 0.1626684545183334, 0.18602276963924563, 0.20766266016744594, 0.22693942780355497, 0.24381347371552847, 0.258665225471663, 0.27208977305889703, 0.2847055694966801, 0.29700465610122134, 0.30926670679358165, 0.32154456664878667, 0.33370872883160874, 0.3455233189125449, 0.3567242092826337, 0.5456541892492911, 0.5725750586401401, 0.6025769365481051, 0.6348606329053863, 0.6682270672620971, 0.7013463663845545, 0.7334506968573286, 0.7650348937594799, 0.7973262566704656, 0.8308678285668734, 0.8643893554242683, 0.8942301921161132, 0.9146765896638913, 0.9201233414924443, 0.9091536477114239, 0.8876128716674756, 0.8650289424079098, 0.8441799842485175, 0.8144708567477242, 0.7575839483230574, 0.6614484124006709, 0.5341661007123621, 0.401409705154788, 0.2871941734114987, 0.20187788956205233, 0.14459497489134177, 0.10949196207367329, 0.0898645134799374, 0.08009565961480969, 0.07632547399257628, 0.0765152951297503, 0.08023542468535483, 0.08824290113077393, 0.1016870220512176, 0.12068403846357667, 0.14355105302071958, 0.16796020210670398, 0.19191174919311027, 0.21407871508991455, 0.2338308668036656, 0.2511135059970263, 0.2662687646332263, 0.27984449971918424, 0.2924193408581945, 0.30446717087086206, 0.31627849237210165, 0.3279438812056938, 0.3393886996886368, 0.35043641154930166, 0.3608759132132465, 0.5446051565455462, 0.5712190748888202, 0.6008698332792248, 0.6327928148031258, 0.6658660822029464, 0.6988907875911801, 0.7312195198783995, 0.7633025822539493, 0.7962107588488565, 0.8303787169855111, 0.8644985711919774, 0.8948504988011392, 0.9154355985330456, 0.9199786407555153, 0.9060972429736451, 0.8787339062129677, 0.846605801559384, 0.8123062021780605, 0.766745061642813, 0.6947033779077205, 0.5879375807747527, 0.4569271082908837, 0.3273374294269086, 0.22144177473397086, 0.14696443794331415, 0.10093844867842883, 0.07631527732134002, 0.06584037121919584, 0.06372488257610565, 0.06614427604402107, 0.07120029736348821, 0.07864448111812794, 0.08940997120260119, 0.10478228052749317, 0.12502838771275082, 0.14870386154759796, 0.1736726049246734, 0.19805777266699892, 0.2205994413025859, 0.24068962464040566, 0.25826155337415774, 0.2736228545336937, 0.2872784385517895, 0.29977037726385514, 0.3115548301790044, 0.322929777349707, 0.33401693129893123, 0.344788414825843, 0.3551193620872932, 0.3648458069264279, 0.5430524217441189, 0.5692232173834022, 0.5983682189204623, 0.6297666074532632, 0.662388468333456, 0.6951772119760188, 0.7276020094745517, 0.7600713189973248, 0.7935005393747886, 0.8282044028117845, 0.8628330713269162, 0.8936264068659323, 0.9143252375455461, 0.9179714173787332, 0.9011092310678358, 0.8676986754670566, 0.8257316514911612, 0.7777979673040867, 0.7164923337586369, 0.6298183575270412, 0.5131652957091919, 0.37916578210848423, 0.2535137209244151, 0.15661708060935386, 0.09335121502022736, 0.058671992629320435, 0.04444904516947856, 0.04297913070742698, 0.048371959264014164, 0.05687858970903337, 0.0667548044311459, 0.07792245303859002, 0.09145483999706094, 0.10872093237997582, 0.1301128716377582, 0.15444477306863513, 0.17980559746337837, 0.2044603703173138, 0.2272247963478501, 0.24751709346228984, 0.2652612807505365, 0.28073372714880673, 0.2943998872032759, 0.3067677815765001, 0.31827590000748035, 0.32922652652215184, 0.33976654688290364, 0.3499075077634635, 0.35956915670847145, 0.3686290846317288, 0.5410349573543666, 0.5666427356087086, 0.5951485311320958, 0.6258834733805114, 0.6579194985487617, 0.6903439858067143, 0.7227328386157287, 0.755453905642333, 0.7892715573461013, 0.8243700702989007, 0.8593437091504849, 0.8903974007617779, 0.9110439788190697, 0.9136891869338672, 0.8937952573862812, 0.8543316948418412, 0.8026611582411204, 0.7415148636346733, 0.6652618290104608, 0.5650860271432837, 0.4397075330569132, 0.3035993301989418, 0.18243216000613027, 0.0947341052819749, 0.042533709761669036, 0.018864723178374176, 0.014646288668205498, 0.021807804336510084, 0.03440235497162403, 0.04877508376368178, 0.06333323219813491, 0.07814721551183657, 0.09439129342474395, 0.11347776323722436, 0.1359061558649577, 0.16074903137839264, 0.1863416043531229, 0.2111079387249018, 0.23394829256445498, 0.25431152170305243, 0.2721154352161724, 0.28760813276069586, 0.3012185731942795, 0.3134226992823501, 0.324641147536344, 0.3351775523371725, 0.34519860962387183, 0.35474868509222435, 0.36378568980216636, 0.37222353804381597, 0.5385967845280758, 0.56353880430072, 0.5912933493363212, 0.621249808615244, 0.6525865727780478, 0.6845295773457591, 0.7167482848200308, 0.7495694532067115, 0.7836114669616849, 0.8189186345717345, 0.8540081355655087, 0.88503892692507, 0.9053318945391314, 0.9067624716553526, 0.8838262802054677, 0.8385507234564445, 0.7777224061846091, 0.7043114723640933, 0.6144783174033536, 0.5024342326665966, 0.36987202916867695, 0.23272668513531192, 0.11642547464302877, 0.037659424435157796, -0.004112183006316439, -0.01750297978480586, -0.0124051364986838, 0.0028039402028203764, 0.022141666283119976, 0.042045750334360754, 0.06105756266509066, 0.0793654508992524, 0.09820552968408813, 0.11900415991638769, 0.1423536407478566, 0.16757194568605466, 0.19324831929551334, 0.21797898759513035, 0.24075739150280528, 0.26106790861520474, 0.2788254402297247, 0.2942527586584068, 0.30774497805054235, 0.31974759799035457, 0.3306631077431238, 0.34079379664582804, 0.35032138178312483, 0.3593171344588106, 0.36777127359435846, 0.37562917485869685, 0.535785261315583, 0.5599759725824904, 0.5868877971481729, 0.6159724141029752, 0.6465145383515002, 0.6778683703692194, 0.7097821048136852, 0.7425392870143691, 0.7766167139736612, 0.8119103329161839, 0.8468361957530401, 0.8774815997772538, 0.8970139293050166, 0.8969285740676753, 0.870997349197829, 0.8203918182322172, 0.7513037357824146, 0.6669973314356404, 0.5653836447189784, 0.44347822770276574, 0.30556553460266983, 0.1686378690282117, 0.05746687347855117, -0.013040723595270975, -0.045424700660866124, -0.04959580852551715, -0.03611580797127201, -0.013623668437578451, 0.011865103750282602, 0.036863417853771896, 0.06001781057804778, 0.08159797651210188, 0.10286508035815767, 0.12523765001579756, 0.14938669701278962, 0.17485508894559454, 0.20048220996664484, 0.22504394588522159, 0.24763429524484154, 0.26777818683104204, 0.2853912124232358, 0.3006738315443473, 0.31398982006449083, 0.32575568717607073, 0.3363554744483897, 0.34608772035218527, 0.3551449234411009, 0.36361999860566624, 0.3715301914659182, 0.3788478616033997];\n",
       "const lower_is_better = false;\n",
       "const metric = \"accuracy\";\n",
       "const rel = false;\n",
       "const sd = [0.4027877730744899, 0.4004274650012305, 0.39692959204659845, 0.39182628516419804, 0.3844908782386627, 0.37408922107691067, 0.3595172307051972, 0.3393359431808195, 0.3117442256537537, 0.2746745013776191, 0.2261438168448124, 0.16501343798863305, 0.0922770874681942, 0.012891509723315625, 0.06237519247133244, 0.12116890136719069, 0.15672699926315256, 0.167409512808298, 0.15527768116704352, 0.12492847083309513, 0.0825899408581374, 0.03585060343077056, 0.007089174220324642, 0.046277726308088525, 0.09201706806934798, 0.13860165208374883, 0.1752263319374833, 0.19544968230103857, 0.1964088924262237, 0.17667760381357692, 0.13551610723985635, 0.07393293104299757, 0.003104063880820181, 0.08486723577497907, 0.16049017635060758, 0.2243310672828313, 0.2746952371063485, 0.3122271848175514, 0.3387485683635526, 0.3565203827016036, 0.3678228025018613, 0.37473263177093724, 0.3790011726020475, 0.3819772112925813, 0.3845656061444917, 0.38723987993655923, 0.3901212417934257, 0.39310618766308203, 0.39600076809775686, 0.3986223967032203, 0.40240484843116375, 0.39986055104063517, 0.39611126156060056, 0.39068186652059095, 0.3829519675429714, 0.37211720778987817, 0.3571358016676682, 0.3366663257786596, 0.30903283405446913, 0.2723068482135572, 0.22466197353848627, 0.16522964366978912, 0.09601580533205682, 0.03356724330633774, 0.06730959035307704, 0.12049595988207762, 0.15302106247846076, 0.1616142165368277, 0.14870453852452709, 0.12001377545159661, 0.08315637285741516, 0.046346336047687745, 0.014890186227717535, 0.024700309566519307, 0.07457780002629388, 0.12456387746499092, 0.1629520594820097, 0.1841837700016176, 0.18633585812247946, 0.16854316869050825, 0.1303510102959772, 0.0740973638029545, 0.0316467790955698, 0.09247971411457338, 0.16431176118820803, 0.22626321269191432, 0.2753811221552064, 0.31195776147583454, 0.3376612035508602, 0.35468539002924593, 0.3653024256749514, 0.3716264104486788, 0.37547234482559305, 0.3782504785148465, 0.38089440576025346, 0.38385635603063284, 0.3871919314352156, 0.390711586796387, 0.39414177709286446, 0.3972438387041493, 0.4019861241703759, 0.3992396860840185, 0.39521309856147097, 0.38942314358791796, 0.3812581383816378, 0.3699535225658455, 0.3545537890375651, 0.33386111598477125, 0.30640210576205823, 0.27050995337647005, 0.22472113663849413, 0.16886614659867116, 0.1071148384744774, 0.061797000759782394, 0.08196748067329454, 0.12440572276732906, 0.1513893086008356, 0.15645820012808365, 0.1419411819457724, 0.11483446309098487, 0.08445470331291277, 0.058065332632646426, 0.03241717082560027, 0.010303898209229065, 0.06185075821778842, 0.11305427230539958, 0.15155782128748269, 0.1728632101768229, 0.17612159194232216, 0.16120066232829905, 0.1283846662328643, 0.08322073235692935, 0.061440057000531095, 0.10815856595612625, 0.17255944623034192, 0.23072777951882537, 0.27751259604237044, 0.312457209435884, 0.33689177292909034, 0.35284678208877573, 0.3625363957455449, 0.3680917668133859, 0.37139009370958176, 0.37390883140526765, 0.3766115563694293, 0.37991895835830075, 0.3838007542552006, 0.38795856557481206, 0.3920213075496904, 0.39568428048503135, 0.4015289427513585, 0.39856043832055743, 0.39422718842405247, 0.3880355106650662, 0.3793826071789788, 0.3675507788434864, 0.351691724310224, 0.33079472608364346, 0.303663033965711, 0.2690018658563364, 0.22586354383309118, 0.1749629130398579, 0.12230328284732156, 0.08882667712181688, 0.10077670652575244, 0.1317052929457162, 0.1514635023388484, 0.15169090444165112, 0.1345083239077913, 0.10838008306729914, 0.08454346828475408, 0.06768808167824536, 0.04783630011205431, 0.02365867359142813, 0.05694345886702612, 0.10477647153275738, 0.14105750959802008, 0.16120976248256108, 0.1653883594169977, 0.15426003376008543, 0.12894418317486137, 0.0974275351752584, 0.0895038286138137, 0.127930040644045, 0.1840982658740123, 0.2372947060648982, 0.2808956416103671, 0.313623906284859, 0.3363742759124217, 0.3509469186876592, 0.3594608142552378, 0.3640518921012794, 0.36666532419301545, 0.3688579801123409, 0.37162803009048234, 0.37535307148029357, 0.37989194989007863, 0.38480963460786977, 0.3896164762345887, 0.3939309735383889, 0.40103090680088377, 0.3978189507739274, 0.3931466074954986, 0.3865056957748251, 0.3772997174722122, 0.36486101656341785, 0.34846490011280284, 0.3273268745636306, 0.30059556000482657, 0.26744241069030106, 0.227524952911047, 0.1823871900318666, 0.13883466795131544, 0.1136441861354752, 0.12033206787708724, 0.1410067854975346, 0.1528105038215759, 0.14716016954421682, 0.12611426675444787, 0.0998753944866146, 0.08218699043764327, 0.07431198860688924, 0.0610425027079262, 0.042487309126596144, 0.060652128801592264, 0.09998249263465867, 0.131320828527609, 0.14886619239228274, 0.15371280854438607, 0.14729779505119184, 0.131153793478401, 0.11345045545157566, 0.11547840197939079, 0.14904512307757936, 0.1976986741679761, 0.2454290302389965, 0.2852769627588444, 0.3153256528280469, 0.3360275035514218, 0.34892026841336665, 0.356006175234938, 0.35942360363981996, 0.36120073087871335, 0.3629945402688153, 0.3658469301603671, 0.3700791384058974, 0.37540804185350485, 0.3812279402516759, 0.38690617949018985, 0.39197316312877417, 0.400489941138602, 0.39701214267479323, 0.39196591385139, 0.38482278381421947, 0.3749868355668735, 0.36183886963406797, 0.34478823352248017, 0.3233098494095742, 0.29696054019755436, 0.26545798062188153, 0.22910083607584966, 0.19005396599677157, 0.15491259190899354, 0.1358247843847358, 0.13896317222129137, 0.15110651118323978, 0.15501841519444182, 0.1428648717256428, 0.11675984617454646, 0.08888168162846695, 0.07683893894554604, 0.07793827514591192, 0.07203168826993724, 0.059954990959634163, 0.0699466758226853, 0.09827942329270481, 0.1221010783684308, 0.13543612205042088, 0.14068157651017948, 0.1399630554625146, 0.13421104319090052, 0.12944208401819332, 0.13918535684022393, 0.16994573200819513, 0.21228626241480555, 0.2545762576788565, 0.29037397576572027, 0.3174116957487297, 0.335760877299735, 0.3466970103138827, 0.35209994975895686, 0.35411909321358753, 0.35489171545580833, 0.35620646908231196, 0.35916407653618815, 0.364013787721849, 0.3702913845188696, 0.3771788421111896, 0.383872394941553, 0.38980301248562793, 0.3999043206522998, 0.3961378674672145, 0.3906816024000737, 0.382979258935148, 0.37242641572498814, 0.3584451938901356, 0.3405819974362371, 0.318596987550652, 0.2925128820061405, 0.2626661380154414, 0.23000223504028638, 0.1970444383633672, 0.169448587318524, 0.15513863884373422, 0.15584930643073225, 0.16111417754084664, 0.15774683502708137, 0.13896837417799562, 0.10683004320624324, 0.07535518207001354, 0.0685424041812383, 0.07897365159659604, 0.08078267987791568, 0.07507851001291677, 0.08110820071184084, 0.09875919116616817, 0.11312019173799076, 0.1205404223783529, 0.1259579398901081, 0.1320923151564351, 0.13757115547340043, 0.14452696882573265, 0.16058276650047096, 0.18979992858497177, 0.22703470481262217, 0.2642266069321897, 0.29590318858492043, 0.31972539643060144, 0.33548098973262563, 0.3442072956180294, 0.34766985229403663, 0.3480483119894236, 0.34762778035900155, 0.34837385338861154, 0.35146900233095824, 0.357071511804963, 0.3644862861821579, 0.37263194311643827, 0.38050176198808056, 0.38741666555151416, 0.3992726504458508, 0.39519499948624764, 0.3892924725385122, 0.3809719808622054, 0.3696081140476938, 0.3546510130223144, 0.3357782607515156, 0.3130520607815076, 0.2870148486880057, 0.25869699039645494, 0.22969392885927475, 0.20263997230552452, 0.18179992121055827, 0.17147578243079983, 0.1705847489195064, 0.17042909866278147, 0.1607339324012238, 0.13575808152313196, 0.09716086352435208, 0.05972687021067502, 0.05789286508778153, 0.07802612880843666, 0.08725353506444702, 0.08739746422678801, 0.09176364024975163, 0.10037594728146876, 0.10420289925184227, 0.10388736037649539, 0.10936415955296795, 0.12382799018000068, 0.14101560247440456, 0.15838580108104391, 0.17973955778272976, 0.2081907831206277, 0.2413625582846525, 0.27395168078280285, 0.30160273928192355, 0.3221159183788731, 0.33509824306050223, 0.3413859751977659, 0.3426478029452297, 0.34112210373771623, 0.3392945024586156, 0.3393701206329151, 0.3426464661382015, 0.3491670505707811, 0.3579418422321559, 0.36756363728776636, 0.3767874484802583, 0.38481542994582385, 0.398593785343869, 0.394183420158179, 0.38779985006899453, 0.37880299193749273, 0.36653079487962387, 0.35044159474275016, 0.3303278703252405, 0.3065593898857254, 0.28024899663550895, 0.2532100072981733, 0.2277155079171764, 0.2063118029430156, 0.1916045941304726, 0.18481683703133522, 0.18298729181465798, 0.17866807293519832, 0.16377113223704473, 0.13354536530419664, 0.08901652449148535, 0.0431708562916058, 0.04616130803616515, 0.07576390361904668, 0.0913747259780065, 0.09663815462492988, 0.10069908430069871, 0.10229534286647443, 0.09544369548282862, 0.08536468404938156, 0.09100767255701679, 0.11573767056028225, 0.14463514459863197, 0.17101834885360706, 0.19681074319052777, 0.2249463412825945, 0.2548927216483301, 0.28341779236442033, 0.3072473830398273, 0.32444780758309283, 0.33453306967680274, 0.3381776086367032, 0.3369746180443619, 0.3332562413269091, 0.3297762252140528, 0.32906375512591873, 0.33257861233218877, 0.3402186802277415, 0.35061563560729675, 0.3619602321776741, 0.37273129064149635, 0.38200704450328427, 0.3978666779663082, 0.3931038758690712, 0.3862076020838099, 0.3764800368110257, 0.36320423627329307, 0.34582041189669877, 0.32420778775727993, 0.2990346729508468, 0.2720307563722048, 0.2459064241481176, 0.22368994402045872, 0.20769621327389462, 0.19868837044168947, 0.1952163774821326, 0.1930076116498671, 0.18559502291431798, 0.16666401828650151, 0.13252321425380129, 0.08381112046842153, 0.028760760019423546, 0.035732198802273296, 0.07275837760350204, 0.09303711839205325, 0.10265625523862404, 0.10738882150081924, 0.10406374823188551, 0.08738656580320746, 0.06520790702834801, 0.07155653878225164, 0.10890405083389099, 0.14875585955694312, 0.18260632104858981, 0.21201170477989983, 0.24004447178308957, 0.267405406291214, 0.2923837260303929, 0.3126562012259069, 0.32660791206190076, 0.33372135407533154, 0.3345415919063449, 0.3306054841833214, 0.32437658244971834, 0.3189596590181373, 0.31732061456756655, 0.3211479496516407, 0.33015266929753573, 0.3424784850885857, 0.35582168274842946, 0.368346162575033, 0.37900697364940983, 0.3970901484209488, 0.39195768409868886, 0.38452188560497813, 0.37401666769933206, 0.35965030409216164, 0.3408126669500867, 0.3174285339839571, 0.29043666306487753, 0.2622212075166019, 0.23653833532989532, 0.21732494978638822, 0.20657039445953174, 0.2030136224364026, 0.20279223855112433, 0.20068234120066336, 0.19106785923809422, 0.16919803892978888, 0.13263262936604994, 0.08243908907208605, 0.024428370888888967, 0.03050408930412331, 0.06931198215789579, 0.09208733053376823, 0.10542829302739681, 0.11173293406231438, 0.10562471215721263, 0.0811585358189417, 0.04453639857498696, 0.053059144878042204, 0.10487210298273118, 0.15382388393377344, 0.19342133863049588, 0.22559186646085186, 0.2535545990492516, 0.2787959733071957, 0.30068994600704285, 0.31769439164996244, 0.328509567588128, 0.332618811978874, 0.33045725489504507, 0.32351628734839555, 0.31442564312213783, 0.3067386573084831, 0.304006955311926, 0.308241375524022, 0.31890925366991074, 0.33352044096925154, 0.3491659337562343, 0.3636584877875071, 0.37583964418169963, 0.39626257432956197, 0.39074627258354244, 0.3827505796165836, 0.3714318088844552, 0.35590333309838185, 0.3354679605505739, 0.31004136123882386, 0.2807799090567893, 0.2507411113340435, 0.22491604842375867, 0.20841152460981446, 0.20283517389799993, 0.20465204781542973, 0.20771876949240906, 0.20610859914548812, 0.19500470179344886, 0.1711226079427741, 0.1335040780510256, 0.08458115685775176, 0.0335690421227044, 0.03291099837006452, 0.06534622951692566, 0.08834507289422122, 0.10507203835565226, 0.11394196818264177, 0.10725274994802866, 0.07836404304707584, 0.028086822412887815, 0.04131518190500488, 0.10525274173063762, 0.16026677707781706, 0.20375467968475308, 0.2378089819023261, 0.2655984204069693, 0.28904020068878544, 0.3082441419277721, 0.32227082023058273, 0.3300942920017402, 0.33120418658191586, 0.3259287685675311, 0.3157108628949694, 0.3033709961434487, 0.2930205591783189, 0.28899328867153906, 0.29375556473825276, 0.3064506122280161, 0.323758232075883, 0.34203379789417715, 0.35871074562873867, 0.37253950993536755, 0.395381507366831, 0.38947054845537016, 0.3809023672668059, 0.36874866935454415, 0.3520094376030115, 0.32986157165852903, 0.302144530408994, 0.27014870350366627, 0.23758780274734342, 0.2109154705991756, 0.19682287545485525, 0.1965067941590124, 0.20377167543870167, 0.21022287553419575, 0.2094304957163289, 0.19736746349959278, 0.17215936942497576, 0.13450776159124886, 0.08875548892282543, 0.046762986890382205, 0.03979557201356112, 0.0604461796375868, 0.08165356605551617, 0.10190064945377734, 0.11449508087834367, 0.10944372299036371, 0.08045537979229891, 0.030366513043583364, 0.0454466713895667, 0.11098356785299995, 0.168364617428454, 0.21386250182895533, 0.2489058158831588, 0.2763215467773653, 0.2981665658582831, 0.31500604734627474, 0.32633287752067114, 0.33133138059036366, 0.3294811770625662, 0.3209896474538693, 0.3072291782048577, 0.2912160394082633, 0.2777346942362644, 0.2721592044370106, 0.2776041967118491, 0.2927715140331907, 0.3132443368827026, 0.3344941825176322, 0.35356374950830166, 0.36915179908287865, 0.39444323149563904, 0.3881301103821034, 0.37898546137636213, 0.36599292710227144, 0.34802448849351403, 0.32409370947167976, 0.29388769584459257, 0.25871203557048444, 0.22285720688630156, 0.19448753129549837, 0.18251603648974132, 0.18771877924666133, 0.20063271256087598, 0.2105815055422978, 0.21083262986540974, 0.19815932473086323, 0.17203238411313881, 0.13488556332501092, 0.09306764993197958, 0.058637994477229456, 0.047011519044604995, 0.05407753755880202, 0.07197241280642948, 0.09652105731157162, 0.11412635142379131, 0.11277667458943406, 0.08782645613967431, 0.050190315853551944, 0.06346654790672386, 0.12182152397100142, 0.1781715078583987, 0.22392761792686683, 0.25909115429595414, 0.28587250329995295, 0.30623447993876335, 0.32097310847816635, 0.32985985876181095, 0.3322158214328801, 0.3274790222434196, 0.3157065245147387, 0.29815631814229304, 0.2780138396642881, 0.26084400526428836, 0.2533993123161126, 0.25972777981732553, 0.277913581346481, 0.3020777429960267, 0.3266493012642999, 0.3482983839487645, 0.36573277236406554, 0.39344228812378823, 0.38672233602963685, 0.37700600178025684, 0.3631901663236153, 0.34401055571989925, 0.31828603990347937, 0.2854728955083808, 0.24673849562328456, 0.20677412240186982, 0.1756723737237278, 0.16553835089920832, 0.17673518675825464, 0.19558830470554883, 0.2091186885760476, 0.21053696709055525, 0.19743169300216637, 0.17051256837415113, 0.13390391778212038, 0.09586378818737754, 0.06736847514043993, 0.052513243472983036, 0.04591001668692948, 0.05954264338192446, 0.08998307750189954, 0.11379641202844502, 0.11776447146422969, 0.0996341722261781, 0.07467547643404111, 0.0870542256151863, 0.136599542433772, 0.18951015353290004, 0.23404008394025175, 0.26852672743440165, 0.2943875069872706, 0.3133174854213155, 0.3261677564419443, 0.33285574041329197, 0.3327649061679162, 0.3252516385572199, 0.3101817099024746, 0.28863185349125664, 0.2638849039664606, 0.24236140746342, 0.2326304705785614, 0.24010738454560496, 0.26198448740352626, 0.2904161962731486, 0.3186392520620287, 0.3430163935020413, 0.3623493058802465, 0.39237100372973216, 0.3852413983128369, 0.37496619560506544, 0.36036263015890113, 0.3400307428289396, 0.31257485131801, 0.2771500991062086, 0.23460836689205064, 0.18973486379580942, 0.1546232789476731, 0.14604211304825257, 0.16397740578702064, 0.1890860606969522, 0.2061995342344581, 0.20879970003101697, 0.19529548029612728, 0.16746712074725043, 0.1309812680676955, 0.0959676620459424, 0.07226568619329783, 0.05571700477739356, 0.036267187139280524, 0.04527184572314325, 0.0839414487334751, 0.11459574708517706, 0.12472770682280149, 0.11449852822212961, 0.09988315250325297, 0.1121190787942273, 0.15387484373259422, 0.20202752995081233, 0.24419630989199578, 0.27732081083193033, 0.3019802114888313, 0.31949062979490717, 0.3306265744388708, 0.33534193693626974, 0.3330138464542959, 0.3228751835928477, 0.30455383854027346, 0.2788586515545488, 0.24903973876725513, 0.2223737779361752, 0.20980050564728292, 0.21878474210294943, 0.24518384928122636, 0.27848919053951443, 0.31064500627421077, 0.3378397385576732, 0.3590776192047007, 0.39121906514437804, 0.3836772849168191, 0.3728623174995803, 0.35752545187621054, 0.33614254131822685, 0.30710049193271066, 0.26920492121584333, 0.22281716801904017, 0.1723662185673975, 0.13165195223830714, 0.12431506584770852, 0.150067087328306, 0.18166455865843553, 0.2022180580981935, 0.20590463309428061, 0.19193095431059765, 0.16290584392883214, 0.12577794673343154, 0.09267559846086496, 0.07317643216381596, 0.05689544996296578, 0.02715666547755259, 0.03205564025737548, 0.08062625412427331, 0.11753869827571509, 0.1337307752754208, 0.13114985341166474, 0.12459711523961584, 0.13700096412115298, 0.17236887338559276, 0.21527653922667891, 0.2543127838247866, 0.28552820964497644, 0.30873579489727576, 0.32482137743572387, 0.33439140373087023, 0.3373504110255881, 0.3330106543260874, 0.32044391903137337, 0.29899571099132655, 0.2691093482035572, 0.23380657885583106, 0.2010789946720366, 0.18489871489210916, 0.19589367707490782, 0.2278378511199593, 0.2666099129297669, 0.30288846732566754, 0.33290800548659366, 0.3560010097181424, 0.3899731955529243, 0.38201491398352155, 0.3706827303374294, 0.3546826347345875, 0.33239009648805495, 0.30199325593389936, 0.261936413760098, 0.21196073625608733, 0.15559883554902357, 0.10732796267516004, 0.1008496142666094, 0.13588454135788827, 0.17393634849990133, 0.197575731043368, 0.2021498587581524, 0.1875900594836477, 0.15701769941189272, 0.11826065644619457, 0.08568932990781525, 0.07032904538403399, 0.05690574844616323, 0.024399377372796502, 0.028201251425391954, 0.08218827164450303, 0.12328822149422315, 0.1445937285891994, 0.14863334475864198, 0.14825851765793469, 0.16089925620997217, 0.19109990542933072, 0.22879077676367565, 0.26424813252504814, 0.29315537095679517, 0.3147086973704497, 0.3293634985034214, 0.3375023026741395, 0.3389173731596069, 0.3328105256664544, 0.3180643158390122, 0.2937083316521709, 0.25972751937440225, 0.2186628671815507, 0.17884648330348082, 0.1579687166808867, 0.17171366987612685, 0.2104438965009976, 0.2551826223342513, 0.2956279264833938, 0.32837342940866704, 0.35320653690161724, 0.3886169893344786, 0.3802334521013036, 0.36840612105449116, 0.35182314665783376, 0.3287960635928171, 0.2973567134456876, 0.2556244085859228, 0.20268840612436997, 0.14072818483295899, 0.08273948244899326, 0.07653245392031072, 0.12262498247466885, 0.1665466494626817, 0.19264896355156041, 0.19782550744129698, 0.1825851498364103, 0.15019004136563557, 0.10876235074880775, 0.07505935641956804, 0.06431637869749113, 0.056976959288657904, 0.03263786677196095, 0.03955444074555688, 0.08947189262672009, 0.1319616435858541, 0.15695719353960086, 0.16627574492125155, 0.1705548815228492, 0.1833729049540506, 0.2093625239878577, 0.2421362026519791, 0.27382712472792353, 0.3001687838024828, 0.31992318889576443, 0.3331534028770434, 0.3399922070457986, 0.3400777263454421, 0.33246998543907996, 0.3158475080381423, 0.288910293628014, 0.2511192822551703, 0.20426423254175785, 0.15632126817616815, 0.12912516104162017, 0.14677046469066427, 0.1937224102270498, 0.24469948824897128, 0.28914718699991837, 0.32439330928861193, 0.3507807290851401, 0.3871309651983691, 0.3783059466049784, 0.36600016433552957, 0.3489175581015574, 0.32535397469531585, 0.29325042460986234, 0.2504890526675065, 0.1956134003193099, 0.12936927095604964, 0.060295641913305865, 0.053305426089231896, 0.11178346847288399, 0.1600989204384406, 0.1877469667983694, 0.19318258017339318, 0.17725922291245103, 0.14299828562987393, 0.09805538323933204, 0.06116142212182217, 0.05618468315961679, 0.05837691480961316, 0.04710796754543561, 0.05818718421436251, 0.10155262691423302, 0.14315125793815994, 0.1703627710597445, 0.18360383227317056, 0.19130106544824707, 0.20416766276558918, 0.22666799707669424, 0.2549385551829095, 0.28286187897231874, 0.30650472725432354, 0.3243758771214874, 0.3362084026633691, 0.3418831094905491, 0.34086037080645026, 0.3320411026595759, 0.3139004642428703, 0.2848222191412249, 0.24373035985761754, 0.19145438039865434, 0.13460528663470772, 0.09857975355536522, 0.12204275708715766, 0.17865976739555392, 0.23571851164932991, 0.2837371772868796, 0.3211199997083456, 0.34880455103097835, 0.3854928941188206, 0.37619938136281345, 0.3634208241133708, 0.34591566025335607, 0.3220221495062102, 0.28967473682248857, 0.24664940552212772, 0.19118616570802133, 0.12312433545448455, 0.04594500411859412, 0.03675137361125195, 0.10491296991572595, 0.15505070628444959, 0.18306643644149836, 0.1883963570392909, 0.17193630213959718, 0.13614687047784477, 0.08743227547978902, 0.04473817846480364, 0.04766932277695232, 0.06193066959080474, 0.06335667367948608, 0.07843961357875669, 0.11662290903209474, 0.15612364138256446, 0.184322361589559, 0.2002779022616258, 0.2103898551927036, 0.22314195167357534, 0.24268788347566614, 0.2668924875397137, 0.29116782103271316, 0.3120787356443508, 0.32803929734729204, 0.3385264136608762, 0.34318356747782897, 0.34128446362793824, 0.3315661421144003, 0.3123165745418748, 0.2816470372745824, 0.23800501953086092, 0.1812232906574549, 0.11554272765695245, 0.0667038800081028, 0.09940107677926244, 0.16649673780671484, 0.2288141513257486, 0.279670354628331, 0.3186892280652271, 0.34734804838287486, 0.38367845110206444, 0.37387525361102997, 0.3606124783239568, 0.3427454459404833, 0.3187201008261886, 0.28656054358589544, 0.2440912652078274, 0.18956714055790563, 0.12289532350023448, 0.04841083060873208, 0.03824805070288618, 0.10303596889688678, 0.15160692357762587, 0.1786544426497207, 0.1835317826200689, 0.1668577235178507, 0.13034225884073158, 0.07869690586583776, 0.027216987516768307, 0.04147261193002987, 0.0676571025646318, 0.0794433381341047, 0.09820260675522882, 0.13295909663956695, 0.17004895838136644, 0.1983674718196428, 0.21604814116292856, 0.22776559251332068, 0.2402278676212293, 0.2572099165954819, 0.27775947345738117, 0.2985738918902121, 0.31679368257297913, 0.3308658568950034, 0.34008665663521986, 0.34388735582231544, 0.3413567153926681, 0.33107306094866296, 0.311166663540809, 0.2795483465080561, 0.23432843252923852, 0.1745715092245621, 0.1019662705439952, 0.03436621367107588, 0.08237424157818886, 0.15857825634441228, 0.2244986872461827, 0.27717062938911563, 0.3172080962152446, 0.3464652331238743, 0.38166222797590676, 0.3712907502302821, 0.357509009791275, 0.3393137230962377, 0.31532809241333154, 0.2837662195178132, 0.2426540660762883, 0.19055798761826223, 0.1282986794663947, 0.06499368276872272, 0.055468080221968995, 0.10602602810239353, 0.14965836686511902, 0.17439240838173198, 0.17852067852148962, 0.16211963438546148, 0.12610367473151557, 0.07376629498867014, 0.013645694880959368, 0.040514347768364004, 0.07483196986595465, 0.09436210837037291, 0.11648905110774842, 0.1492653649698267, 0.1841588288574595, 0.21208004924877563, 0.23072853245217603, 0.24340812874115644, 0.25540742207643324, 0.2701052937929677, 0.28736000987749205, 0.3049277333000008, 0.3205459508657536, 0.33279159914947715, 0.3408509937593072, 0.3439730974622418, 0.34106978913332464, 0.33057225409557484, 0.3104916239283465, 0.27863050466156747, 0.23296288738410637, 0.17226969460254515, 0.09714641161378264, 0.011538748422453065, 0.07617745907602735, 0.15599910280872709, 0.2231275501229818, 0.27638424248056986, 0.3167445770598636, 0.346189844187173, 0.37941912851075704, 0.3684005773818527, 0.354035953530015, 0.3355084831503155, 0.3116900622310632, 0.2810825227260101, 0.24204156428309717, 0.19363191911093744, 0.1378403246512195, 0.08649107464363391, 0.07701929845054263, 0.11263569192241098, 0.14880445003571763, 0.17000956194613756, 0.17315953494165062, 0.15763378078667534, 0.12357509303334745, 0.07363679655607785, 0.019815095947267252, 0.0450948545600929, 0.0823525909509697, 0.10746686061921369, 0.13274169290552545, 0.16465891152363502, 0.19782096230687476, 0.22510934642777097, 0.24418205375769306, 0.2573226194043262, 0.2686968211637493, 0.28130477399870635, 0.29556372826323285, 0.3100971116311369, 0.32322962344561845, 0.3337394645928306, 0.34076562654388903, 0.34340473178482983, 0.3404018413279381, 0.33005488551306356, 0.31029781092899983, 0.2789246857120383, 0.23399674242900742, 0.174598876152345, 0.10261053541179978, 0.03717643649434214, 0.08365140620499958, 0.15916044283672942, 0.2248196995268273, 0.27735859083311465, 0.31732037805973884, 0.34653257018207734, 0.37692614757270604, 0.36515947017298034, 0.3501137386907129, 0.3312029990501987, 0.30761964559128147, 0.27824454579486446, 0.2418532266029002, 0.19804813243825814, 0.14965953175373933, 0.10833257115812435, 0.098341217460544, 0.12117554105521218, 0.14845676744815867, 0.16512511219085935, 0.16713147508827642, 0.15313050511322246, 0.1224475887302879, 0.07752666296825853, 0.034785426495548895, 0.052338199709734176, 0.08907623838261208, 0.11830924608674054, 0.14663985391662795, 0.1785759427451399, 0.21055870576221442, 0.23717888501491666, 0.2563124217238603, 0.26953305244588976, 0.2801357321516722, 0.29078133403851225, 0.3022795207782537, 0.3139689072654627, 0.3247389461783147, 0.33362192023308546, 0.3397629783101396, 0.34213271103942183, 0.33931721066740683, 0.329493012542001, 0.3105560013574738, 0.28038433575783533, 0.2373255280651765, 0.18123850075757852, 0.11660819023855157, 0.06951980178123741, 0.10143589491529742, 0.16757195865631547, 0.22942834703891346, 0.2800349833895521, 0.3189085793610819, 0.34748014629365337, 0.3741645126747868, 0.36152538086243075, 0.34566202205333313, 0.3262615167518044, 0.30290865597871264, 0.27494843711128286, 0.2416270825867332, 0.2029928336720153, 0.16211915270726043, 0.12872352732457937, 0.11790820417248117, 0.13014582750229983, 0.14797952302799788, 0.15930985533562914, 0.16004892616727576, 0.14820810819730498, 0.12205656086993988, 0.08342897387836891, 0.04840360547186583, 0.05914220049985087, 0.09401896799669521, 0.12660006467911084, 0.15803253415826396, 0.19068942624677476, 0.2220429867856301, 0.2480865165799547, 0.26705918671705275, 0.2800782294779199, 0.2897799945196857, 0.29853775178342906, 0.30744680210340397, 0.31644682659214163, 0.32496948283331906, 0.3323429827271824, 0.33776367689980735, 0.34009585087644284, 0.3377682233110669, 0.3288415388717692, 0.3112041595824925, 0.2828912757424676, 0.24267330548358923, 0.19139116546016885, 0.13583677451222304, 0.10125151514652357, 0.12438611108928335, 0.180090613227741, 0.23657675215671636, 0.28425753258102776, 0.3214365356148848, 0.3489964640399364, 0.3711221386859901, 0.35746331517631474, 0.34060508622978963, 0.3205463585055561, 0.2973372058547335, 0.27087005684837895, 0.2408833276618925, 0.20769391291765926, 0.17400223167704157, 0.1468726708897352, 0.13510650053159684, 0.13848320007680992, 0.1468185481798223, 0.15215492282238902, 0.15150817241467868, 0.1424147424925856, 0.12160067983121971, 0.08934195149975849, 0.0588027554736218, 0.0635037509942246, 0.09645969979310888, 0.132213339216878, 0.16690982069530963, 0.20084935953601468, 0.23207297826150963, 0.2576997346005197, 0.2763941904029749, 0.2890093084535888, 0.2976968491480603, 0.3045979767249748, 0.31102844642441557, 0.31744874802541234, 0.323818439431058, 0.32979976697238983, 0.33467863545192833, 0.33722380046693756, 0.3356980515122601, 0.3280418527873184, 0.3121536188583227, 0.28627096664344354, 0.249645415315058, 0.20404628825214477, 0.15752989109838683, 0.13159229490234325, 0.14917031238999412, 0.1953683571266993, 0.24574121923239792, 0.28979549084290684, 0.3247934441667312, 0.3510255245934491, 0.3677963133896007, 0.3529497540459849, 0.3348782704175079, 0.3139262894179612, 0.2906847070756019, 0.2656830291907835, 0.23916080855052016, 0.21148889206569554, 0.1844847010211599, 0.16241764745910828, 0.1497013837163668, 0.1455589888037572, 0.14459515374073714, 0.1433387270287245, 0.14114565036228335, 0.13533963251314937, 0.12036452639335175, 0.0939040991392616, 0.06542936404782822, 0.06434021836530152, 0.09599990549551898, 0.13520275405387225, 0.1733852353209888, 0.20903867944257326, 0.24055321519854844, 0.26594784108669567, 0.28431828019844535, 0.296388275294634, 0.30396205570834406, 0.30900148953955814, 0.3130056241995234, 0.31690438174965835, 0.32118462270314235, 0.32588375475252074, 0.33041129858376633, 0.33344014178211767, 0.33304454399910366, 0.32702685952627175, 0.31329776467744364, 0.2903133558826559, 0.2577929019910676, 0.21821658487856804, 0.17990795582408087, 0.16019149739992886, 0.1740351144041206, 0.2121861988297398, 0.2563453122645202, 0.2963728034311939, 0.3288411000118917, 0.35349580047457835, 0.3641964913873039, 0.34797755669343317, 0.32843540772450347, 0.3062861077814777, 0.28274124797622796, 0.25907451320465424, 0.23604305164569447, 0.21385237938428003, 0.19304921945681405, 0.1752280740064757, 0.16167305042922506, 0.15110257390323092, 0.14116552873672042, 0.13269022755712917, 0.1286881941257178, 0.12669369032077138, 0.11786500680318848, 0.09644815183503376, 0.06830182170118225, 0.06120764107028309, 0.09260425922951797, 0.13581228779085863, 0.17767655446327554, 0.21533749646057282, 0.24747036497951022, 0.2728122142738801, 0.2908577810837968, 0.3022869197798155, 0.30865844205506565, 0.31180008346878657, 0.3133746111173685, 0.31475374376602094, 0.31696845182896044, 0.3204820068326155, 0.32486018019503493, 0.32866617823527744, 0.32974494663220577, 0.3257270270457702, 0.3145220317626407, 0.2947950398710541, 0.26666993055392924, 0.23306789006535175, 0.20191238173186787, 0.18684916652721523, 0.19806096767544362, 0.22958574522115455, 0.2678357525560838, 0.303697943279931, 0.3334259481594291, 0.35632540775050314, 0.3603470249439343, 0.3425611812571917, 0.3212572446222389, 0.2975375896783253, 0.2733192374807472, 0.25075803261683766, 0.2311742814836627, 0.21439848843458192, 0.19940597243186378, 0.1853215852304715, 0.17114576233073622, 0.15512137200836643, 0.13665539305792304, 0.12025501047535911, 0.11399331177007842, 0.1163698976495234, 0.1139082342096351, 0.09686955540588789, 0.06791687161021355, 0.05415278228176213, 0.08663314616095885, 0.13446537240524165, 0.18007793112861598, 0.21989101058666363, 0.2528709773871121, 0.2783156857849235, 0.29606061390322297, 0.3067860591026637, 0.31187554772038956, 0.3130566591293028, 0.31214558514611607, 0.3109468293284471, 0.3110723908744239, 0.31347854796011976, 0.31792187289517465, 0.3228255326630399, 0.32574145101758906, 0.3240770411433389, 0.3157140308329827, 0.29949917088798356, 0.27587418462647634, 0.24795675254594388, 0.2229260091972912, 0.21145960460807697, 0.220753614009671, 0.2468717974076275, 0.2797286860755801, 0.3114888500297327, 0.3383906543816096, 0.3594274565968891, 0.35628960236609447, 0.3367419690961912, 0.3133607876247988, 0.2876321273787921, 0.2622656834410099, 0.24048356820837874, 0.22426796382341344, 0.2128718776334587, 0.20343364892156143, 0.1928178108538226, 0.1783431791582383, 0.157828775198904, 0.13147413111150869, 0.10638074764649208, 0.09707896536509487, 0.10448350271799497, 0.10857509727067428, 0.0954701582789733, 0.0652387667074961, 0.043649915052087256, 0.07886462605939913, 0.13171716659339502, 0.18092046629744474, 0.2228793583088053, 0.25684100951422917, 0.28251186561880287, 0.2999921714822849, 0.30997487780283556, 0.3137101070064119, 0.3128457324436153, 0.3093434254944454, 0.3054448187803729, 0.303402129600444, 0.304756147704747, 0.30949476660011005, 0.31584974701202106, 0.3209875414029956, 0.32202269585178017, 0.3167728402207601, 0.30423096900919583, 0.28506905366406227, 0.2624184113595175, 0.24259828065149772, 0.23398666818360922, 0.2418520959307189, 0.26356704567814576, 0.2916293696902811, 0.3194905255786305, 0.34358389411710705, 0.3627150280701848, 0.3520850999502627, 0.33059310585264245, 0.3048094176693327, 0.2765756194216868, 0.2494760312137644, 0.22804569384961584, 0.21511104274426882, 0.20913630721050736, 0.20513790918507677, 0.19790634668912388, 0.18354986898439102, 0.15957258951394654, 0.12629726849750914, 0.09185262238840113, 0.07814442693357647, 0.09139733584942747, 0.1021525571289621, 0.09278775887796319, 0.06164574133398492, 0.030595059351224575, 0.07047223662807223, 0.1281588845680665, 0.1805241584120282, 0.22449022456410003, 0.2594879074367351, 0.28547510524890624, 0.3027311641758966, 0.31195033372094905, 0.3142671697746631, 0.31125542158818764, 0.30501055337314725, 0.29822315865426957, 0.2938688257701341, 0.29419870879119747, 0.2994837883724509, 0.30768516534687373, 0.3154551445369071, 0.31952770045657813, 0.31761681500244504, 0.3088281497861925, 0.29399138090599364, 0.2761370043245034, 0.26074511023108127, 0.25444751483741024, 0.261234586751723, 0.2793605819988652, 0.3032338765070177, 0.3274851858524886, 0.3488676731044679, 0.3661053782706775, 0.34781449029321077, 0.3242236876368649, 0.2957233717248159, 0.26444634545380724, 0.23491121316771138, 0.21329085361154174, 0.20356690957834275, 0.20316572052998413, 0.20462227531844587, 0.20082009898941638, 0.18707253523201411, 0.16075567986072348, 0.12198596499511816, 0.07811672587031847, 0.05758532254945721, 0.0777376774663669, 0.0950191222117177, 0.08939434297117647, 0.0586773549341454, 0.016474576116699842, 0.0628517133356175, 0.12428094997636897, 0.1791511104186239, 0.22489686280439122, 0.2609260270587182, 0.28729162262787517, 0.30436566309514657, 0.31281662033494706, 0.31366167941226963, 0.3083907026286278, 0.29921188863042536, 0.2892769359766546, 0.28239274657942076, 0.2816944640095714, 0.2878065879457771, 0.2983014925022018, 0.30914260452998754, 0.31658013135878504, 0.3181895714598999, 0.3131666081867627, 0.30244977613875534, 0.2889138954415301, 0.2772904668440407, 0.27289998556958583, 0.278867753041579, 0.2940642451846698, 0.314321002846746, 0.33529624375352185, 0.3541220450460855, 0.36952314925853896, 0.34357840367538406, 0.31778108897359014, 0.286289728728999, 0.2514165691297012, 0.21862066435757807, 0.19612506282446135, 0.1895798937942519, 0.1950405749046402, 0.20206723904118964, 0.20181077381744308, 0.1892001619385817, 0.16174767339259172, 0.11940482562212146, 0.0675244795032173, 0.03601305258451351, 0.06439816734683328, 0.08749547966803047, 0.08567879146801496, 0.05743551663019768, 0.006496290198129254, 0.057119767341463186, 0.12033731718511897, 0.17697499817732865, 0.2242445188702035, 0.26126590589037685, 0.2880521099654617, 0.30498953699969417, 0.3126846857000545, 0.31202031725880364, 0.3043776970193963, 0.2920420167168532, 0.278629116151499, 0.26890873305177604, 0.2671401768007999, 0.2744017796553609, 0.2877025556811738, 0.3020834774890505, 0.31319826362411424, 0.31846402633610404, 0.31716221260452304, 0.3103177239377479, 0.30063997106554097, 0.2922304817269405, 0.28943224956715397, 0.2947767480432677, 0.30757895852451866, 0.32474007352256334, 0.3427878682063187, 0.35924747746910773, 0.3729025291610416, 0.33949493592469926, 0.3114505841201483, 0.2767702567631844, 0.23777815913174083, 0.2007759588615239, 0.17652360470431303, 0.1731842745302291, 0.18495109607534735, 0.19771442642683568, 0.20112561847129704, 0.19016577374182986, 0.16279783056218333, 0.11914447297290122, 0.0629663978583487, 0.014400601090831267, 0.05249935296182685, 0.07969266642334794, 0.0816886091770388, 0.05792187191894764, 0.014199706858089524, 0.05335927787941053, 0.11628642257684063, 0.17408037412586472, 0.2226466662151972, 0.26060729529615984, 0.2878459275407068, 0.3046994311642405, 0.31167179988908833, 0.3094833826688281, 0.29936866335208423, 0.28363463299896063, 0.26634246796385463, 0.25337410614348943, 0.2504465432451192, 0.2592401790089075, 0.27593994948669814, 0.2943560279806259, 0.30943546034918135, 0.3184444856923548, 0.32076967320008876, 0.31752438577976244, 0.3112731323432059, 0.30561007857501793, 0.3041541843803688, 0.30902586286513023, 0.3198695880038999, 0.3343979511595054, 0.3498617657635495, 0.36416532102636695, 0.3761884282788099, 0.33569536978374714, 0.30545099893788613, 0.26750432981355315, 0.22397091973874267, 0.18172308721043884, 0.15454519329466862, 0.15452230742338724, 0.17320875108985667, 0.19185327419724021, 0.19898580121098752, 0.1901147123581917, 0.16396888762983694, 0.12126435667971174, 0.06583512995909062, 0.008344482127500873, 0.04319793403578222, 0.07141964887180006, 0.07712950672622662, 0.05907717784392435, 0.02328898228257768, 0.05037003045864624, 0.11187019505279419, 0.17049463416967311, 0.2201892554608894, 0.25903511835530835, 0.28675681820510535, 0.3035924041885168, 0.30990114941171537, 0.306206412815283, 0.2935471920658662, 0.274174194461885, 0.25253638509465903, 0.23578004213117296, 0.23154501242931008, 0.24234057275078513, 0.26313038125160887, 0.2860930515333272, 0.305383668786679, 0.31816680299240707, 0.3239793303624364, 0.32404481723730516, 0.3208205219046314, 0.31750693898705384, 0.3171902106799385, 0.3217052147282847, 0.33094629108030343, 0.3432468983019413, 0.35645248703145443, 0.36881689592010075, 0.3793368162935667, 0.332317662546209, 0.30002521770070206, 0.25890275235676496, 0.210608241502496, 0.16206680049313596, 0.13035611379704581, 0.13388063201229913, 0.16026687869889825, 0.18480794833561948, 0.1955676450973426, 0.18908476147167527, 0.16511174420581723, 0.12522954341975845, 0.074329701304018, 0.027234764116222717, 0.03721291024731852, 0.06221409591848681, 0.071559097814542, 0.05960439878236387, 0.028683620173603843, 0.04644843985938802, 0.10681653582591344, 0.16623880946803063, 0.21693778016069581, 0.2566170179901857, 0.28486003971632967, 0.3017643431912377, 0.3075014288261981, 0.3023611662922099, 0.2871328275121706, 0.2639093491447568, 0.2374103495040566, 0.21616831422682625, 0.21039629972099308, 0.2237926999165678, 0.2494775381494544, 0.2774911633907276, 0.3011748823617813, 0.31769659958421503, 0.3268125084788933, 0.32989049843896046, 0.3293245981398085, 0.32802002787656376, 0.3286733829149734, 0.3329211713697259, 0.3408506413232215, 0.3512739664674262, 0.3625221757356654, 0.3731616744640404, 0.3823144020649968, 0.32949787059105223, 0.29542484329412805, 0.2514273609646231, 0.19848624688696093, 0.14280545794711952, 0.10428101633316186, 0.11176921528484157, 0.14674986115381375, 0.17692252666132083, 0.19098848432009558, 0.18700172325287356, 0.1658879592154556, 0.1300887434199008, 0.08520292938144242, 0.04419601272500721, 0.034341815845975246, 0.0515079340065888, 0.0647178759265618, 0.05878954498908708, 0.030133134684949707, 0.04044720554953565, 0.10107014383527328, 0.16136994894871537, 0.212940424168998, 0.25340130966032076, 0.2822209599122026, 0.2993093215036457, 0.3046064008295747, 0.29813551721992443, 0.28038396408221483, 0.2531669380204388, 0.22127637811407763, 0.19465723361907705, 0.18700102785451478, 0.2037923288659332, 0.23529885762195132, 0.26881789614064877, 0.2969797215787655, 0.31712551275644374, 0.3293158911144415, 0.33510057699175866, 0.3368522038019194, 0.3372611243081735, 0.338740570844805, 0.342789274352309, 0.34964525423173426, 0.3584920740755688, 0.36805534939964707, 0.37717495788377087, 0.3850978419571515, 0.32736011245039437, 0.29188938723229413, 0.24555207314323277, 0.18854961736255285, 0.12552000028796453, 0.07694618623629956, 0.08911406381833467, 0.13348450395984804, 0.1685433258968159, 0.18529923482160227, 0.1836907336090233, 0.16582862597853254, 0.1347542253894359, 0.09586631313211896, 0.05829511540568615, 0.033769166876098954, 0.03887286546720585, 0.05693409946981338, 0.056922795490473195, 0.029026507659754067, 0.032517000779885535, 0.0949327435426726, 0.1559869262071089, 0.2082224737783248, 0.2494151290119799, 0.27889546992535974, 0.29632012123739593, 0.30135440252977985, 0.29373176031656123, 0.2735974244569947, 0.24236389304047817, 0.2046029471546903, 0.17148519836464213, 0.16141340189948727, 0.18269759209006461, 0.22105595294668087, 0.2604138070092591, 0.2930021555486784, 0.3165654573147019, 0.3315552425557643, 0.3397339566767263, 0.34348593668036914, 0.3453484415704938, 0.34752858638625334, 0.35142894150214915, 0.35740600393461724, 0.3649326932884375, 0.37305405441015116, 0.3808453511504068, 0.387672646382869, 0.3260061367612655, 0.28962202318036245, 0.24170545802249685, 0.1817783996198216, 0.11250863343055834, 0.04987052814533682, 0.06778638729539223, 0.12151134200392578, 0.15999932706493808, 0.17848590195298683, 0.17890021327076464, 0.16440709757856872, 0.13822199920513448, 0.10473364255718513, 0.06933953043153454, 0.034983571678625924, 0.02431868036231323, 0.04960835446941091, 0.055389940536257704, 0.028783731227252682, 0.025096073189025556, 0.08901786756350565, 0.15018655596152727, 0.20277251074422542, 0.2446641249885143, 0.27493291902938627, 0.29289016449902217, 0.29788777548212664, 0.2893628528745544, 0.26710276502203484, 0.23201193165855213, 0.18807081896023278, 0.14709174869776268, 0.13376036480114953, 0.16112352464292387, 0.20738312151226274, 0.25268549399899803, 0.2894694747183414, 0.31614099706017335, 0.33360874079393465, 0.34386224778553925, 0.3493173004159048, 0.35240176903074316, 0.35517112600213285, 0.3589594963921218, 0.36421618418289375, 0.3706399681642806, 0.37753356895465895, 0.38417225094258345, 0.3900319270749966, 0.3255059194885741, 0.28876575075784977, 0.2402035429193313, 0.17898097398554225, 0.10643459880133908, 0.029127752239577795, 0.0519763320754033, 0.11202218724254702, 0.15158522823299375, 0.1704822668791318, 0.17233345116988563, 0.1611049768152232, 0.13967853375866462, 0.11090367234648835, 0.07732982691220844, 0.03800623161828089, 0.00955064631939264, 0.04556588667495154, 0.056285976391651504, 0.033536114733119946, 0.023995776094954294, 0.08398200351846176, 0.14398358293477062, 0.1965275374445494, 0.23913655009038948, 0.27038246086471956, 0.289117015669206, 0.2943521744383178, 0.2852462651509472, 0.2612493490937461, 0.22270676703779105, 0.17263194683793026, 0.12228614445870419, 0.10427462536722092, 0.1401023246038908, 0.19509916244823922, 0.24608462796100872, 0.2866171100989663, 0.31598014096880755, 0.3355601900530754, 0.34756356338688243, 0.3544412581901721, 0.35853876851536504, 0.3617964137992836, 0.3654972204512532, 0.37016214940172715, 0.37566606043800366, 0.3815187182238527, 0.3871634874040391, 0.3921750967311468, 0.32589080362492445, 0.2893849447718321, 0.24119115258654888, 0.18055201188053974, 0.10897776619752626, 0.033890275559926054, 0.04890951899012197, 0.1061459860913227, 0.14355578068750818, 0.16119609994337342, 0.16368304263133177, 0.15546093081302578, 0.138523059170666, 0.11386779654352712, 0.08230100885508472, 0.042728089370062755, 0.013403101434972177, 0.04787024850860724, 0.061241662944210136, 0.0438595107877455, 0.03177573004949407, 0.08012585717095337, 0.13723337792706192, 0.18936874514359697, 0.2328152723150356, 0.26530351838690497, 0.2851073761742317, 0.2908956521475039, 0.2815954169840162, 0.2563850060771083, 0.21509123156187862, 0.15953629149462914, 0.09862867646379839, 0.07337972662351185, 0.12133023787316478, 0.1851732692560765, 0.24106919265836477, 0.2846688969812379, 0.316204185208307, 0.3374924240961106, 0.3509171571348041, 0.3589519249392515, 0.3638721786782631, 0.36752544490459, 0.37115321029821374, 0.3753300964371109, 0.3800675258569352, 0.38504080010432457, 0.3898332024611514, 0.39410660281113696, 0.327150405528437, 0.29145682593205224, 0.24461308531744516, 0.18633263652916648, 0.11948979132834053, 0.057984666618817425, 0.06046788838783573, 0.1045810374724882, 0.1361418838706629, 0.15055192327900999, 0.15266529941452206, 0.14710211911599294, 0.1343514257727027, 0.1133297181651631, 0.08421706629066224, 0.048417655259658555, 0.030150562226330734, 0.05672285080979415, 0.07028175408944144, 0.057313185992748476, 0.04351052255172343, 0.07712651704358556, 0.12960209345382873, 0.18113951657726715, 0.22570058075474395, 0.2597803939556925, 0.2809830726200521, 0.28766732621132196, 0.27860914914973023, 0.2528270382098, 0.2097843505159648, 0.15024227440436963, 0.07924990934644088, 0.04209886833534448, 0.10739278556491849, 0.17860580242589041, 0.23804775045031493, 0.28381482169369027, 0.3169175470974229, 0.33948126285828467, 0.3539989233045389, 0.3629392171511041, 0.3685077565495426, 0.372470742078608, 0.37603187761551987, 0.37980373377835186, 0.3839025436888967, 0.3881350822546988, 0.3922000049702255, 0.3958347509683439, 0.3292338670170075, 0.2948751302687909, 0.2502271407111212, 0.19567485073507493, 0.13558110026417755, 0.08548990962711361, 0.07972936946695423, 0.10729918520629864, 0.12959448588155334, 0.13855562807399427, 0.13905447891675865, 0.13576400143049225, 0.12693487501788026, 0.10910981457766211, 0.08293781156004591, 0.05399640683179954, 0.046876352267317595, 0.0695880681258342, 0.08213781016023707, 0.07170268501280556, 0.055444906211139636, 0.07412337242909091, 0.1206076608878169, 0.17169274578300314, 0.21784469365785425, 0.2539398661674535, 0.27688698000159867, 0.28481533338501747, 0.2764602444666331, 0.2508293606134939, 0.2072812594840115, 0.1461008393566725, 0.0696551690533995, 0.01728253093940485, 0.10138962734857525, 0.17620870460320187, 0.2373159506334256, 0.2841897493390171, 0.3181987690535395, 0.34159041000928225, 0.35687779902419503, 0.3664863369501853, 0.3725428338849417, 0.37673555034164874, 0.3802299653667452, 0.383662645444243, 0.38722884536960545, 0.3908388126683802, 0.39428541336546785, 0.39737065194564297, 0.3320552043567781, 0.2994649714275308, 0.25765347612965694, 0.20766162528166246, 0.15473122005392106, 0.1127233959176036, 0.10136986436392344, 0.1136243350563786, 0.12424913863536004, 0.1253920612999494, 0.12272017470661506, 0.12130637574762455, 0.1162136547899981, 0.10111033637481741, 0.07826457838140449, 0.058571700784069335, 0.06231092759066531, 0.08398865478586715, 0.09532491934546443, 0.08573076456886217, 0.06604008966333594, 0.07008713378110362, 0.10972192094109955, 0.16096909363419765, 0.20939595795957158, 0.24796904094267602, 0.272987240207146, 0.28248371783446413, 0.275284517571522, 0.25055262610389323, 0.20785111004563533, 0.14784410625227218, 0.07453455837812473, 0.03302946336341589, 0.10517270465726498, 0.17835322547283328, 0.23900305576922407, 0.28585739370610624, 0.32009389008948597, 0.34386764949218285, 0.35961311032568666, 0.36966800271097655, 0.37606539652505244, 0.3804134042216023, 0.383835979687466, 0.3869811999483288, 0.3901022110564835, 0.3931896785169571, 0.39611257697388064, 0.39872730889165325, 0.3355017529202853, 0.3050050511340649, 0.26644106406172147, 0.22134054093264977, 0.17508065477594598, 0.13867927093759083, 0.12315256200032648, 0.12262756346771388, 0.12058318391485567, 0.11157827347821714, 0.10367806538321465, 0.10373489172504131, 0.102321432984698, 0.08932746046292797, 0.07005008737078361, 0.06178081168954801, 0.07612315018026972, 0.09843971282068373, 0.10873011259091434, 0.09875514019505394, 0.07483536312484332, 0.06423363701118134, 0.0965075481885332, 0.14910545445522386, 0.2006469820224045, 0.24212898014531115, 0.26947772691099803, 0.2808079507372887, 0.27517221873398845, 0.2520453911299304, 0.21147621200659317, 0.1552248454382772, 0.09141757927398673, 0.06406869237710165, 0.11767067165129946, 0.18483548394779406, 0.2430478887974332, 0.28880320022491857, 0.3226131187087581, 0.34634260198836603, 0.36225288301390207, 0.37254935558185026, 0.3791536132385545, 0.38358800994097275, 0.38692995530591007, 0.3898278863648517, 0.39257542344485746, 0.39522464758947046, 0.39770525519453376, 0.3999188495525667, 0.33944425357636077, 0.31125215345024365, 0.276130400849594, 0.23587512496291635, 0.1954418130127197, 0.16297505469447252, 0.14419201394516287, 0.13348652230793656, 0.11921628928042259, 0.09820722411386483, 0.08218735422351502, 0.08324549545808027, 0.08567194572881819, 0.07390873082766138, 0.058377002866258756, 0.06397239991513959, 0.08841491239080901, 0.11223523438584727, 0.12170751909074089, 0.11059744038526229, 0.08204283368740528, 0.056399690301300605, 0.08078252023273505, 0.13657417891882828, 0.1920757359888646, 0.23675810674971365, 0.26657273002551285, 0.27990899742485736, 0.27616327184432204, 0.2552421582620965, 0.21786399116498487, 0.16716161499087728, 0.11439977602793026, 0.09562863085913273, 0.1359447712710594, 0.194960845510096, 0.24921385821274525, 0.29293778901402884, 0.3257312218719921, 0.3490261460435192, 0.36483309862147645, 0.3751854741914908, 0.38187575015658926, 0.3863333905705676, 0.3895834861648497, 0.3922649831230128, 0.3946975861190499, 0.39697913001982665, 0.3990870271887476, 0.40095989902554563, 0.34374706531794874, 0.3179634364904726, 0.2862996130658666, 0.25060517544564115, 0.2151051335623569, 0.18547273660205632, 0.16415324471075518, 0.14562490046590998, 0.12080498722548555, 0.08727101658549205, 0.05903976377202053, 0.06035801153501788, 0.06721735487939269, 0.05530225955400161, 0.04395060025114035, 0.0662776288788, 0.09961840848702584, 0.12517638324378932, 0.1340055363584771, 0.12142143452777464, 0.08839171625190184, 0.04758542478093019, 0.06288866612088091, 0.12434870784788475, 0.18436097134840834, 0.23225884720526868, 0.26449455381643067, 0.2798862426611768, 0.2782471763204063, 0.25997890445520877, 0.22652536388949293, 0.18223776863441343, 0.13956184008626965, 0.1261535874265644, 0.15721654362953774, 0.20778064123799375, 0.2571364521614985, 0.29810988449476655, 0.32939140346901374, 0.351911422020039, 0.36737782268799773, 0.3776214231773236, 0.3842904107875485, 0.3887142462518085, 0.39185996346546403, 0.39434848315738574, 0.3965137290241232, 0.3984864033700049, 0.40028070194075144, 0.4018650830138875, 0.3482772593432987, 0.3249137092860693, 0.2965908715188165, 0.2650487827761431, 0.23367164536821994, 0.20616434473255696, 0.18295169264488031, 0.15868824202405032, 0.12583730530545523, 0.08171868179323519, 0.03692480268928814, 0.03657289444657461, 0.049323197897147834, 0.03486302320726606, 0.02965002567513907, 0.07042046521496119, 0.11038208067968827, 0.13738588903318655, 0.14566298080956058, 0.13162466113903734, 0.09495895428860539, 0.04106004742544279, 0.0444917642812765, 0.11404538718554437, 0.17834456801417958, 0.22906273866927768, 0.26345428503114465, 0.28081007527943563, 0.2813674479747989, 0.2660211267190249, 0.23688070516318468, 0.19912968513844, 0.16493347457317373, 0.15512460073121428, 0.17958043077061928, 0.22232757002356326, 0.2663849638398309, 0.304125416381319, 0.33351187057156423, 0.3549761602191081, 0.36990007838003314, 0.3798927500481632, 0.38644704220644766, 0.39078648455080656, 0.39381497162522294, 0.396128213053686, 0.39806463663005076, 0.39977725037675205, 0.4013078982833273, 0.402648648129118, 0.3529118016691174, 0.33190671783714215, 0.30672029049180904, 0.2788781063827929, 0.2509410251003658, 0.22511879477574634, 0.20062239834980025, 0.1724614066442537, 0.13443326163929833, 0.08426960639477188, 0.027573822727855742, 0.020153416245748883, 0.03849626053132622, 0.019631327016943166, 0.026213450988364157, 0.0780553375213805, 0.12141396564362343, 0.1491672947137818, 0.15690325567233823, 0.14171959943975815, 0.10288683088511025, 0.042646237307243845, 0.03184599732723413, 0.10784151100582397, 0.17491349957451557, 0.22757475266317487, 0.26362819419935374, 0.28271535170750756, 0.2854295909281933, 0.2730964600413761, 0.24835284266367708, 0.21679050426076907, 0.18952342523727406, 0.18227440168561784, 0.2018624091448474, 0.2377587682074731, 0.27651976878588663, 0.31076857875924563, 0.33799393610123474, 0.35818594526192093, 0.3724032943411847, 0.38202633402719205, 0.3883866474766972, 0.3925978784403419, 0.39549679935750015, 0.3976480949681961, 0.39938684535030455, 0.40087976510036366, 0.40218876583310437, 0.40332418415036125];\n",
       "const xvar = \"lr\";\n",
       "const yvar = \"momentum\";\n",
       "const x_is_log = true;\n",
       "const y_is_log = false;\n",
       "\n",
       "const GREEN_SCALE = [[247, 252, 253], [229, 245, 249], [204, 236, 230], [153, 216, 201], [102, 194, 164], [65, 174, 118], [35, 139, 69], [0, 109, 44], [0, 68, 27]];\n",
       "const GREEN_PINK_SCALE = [[142, 1, 82], [197, 27, 125], [222, 119, 174], [241, 182, 218], [253, 224, 239], [247, 247, 247], [230, 245, 208], [184, 225, 134], [127, 188, 65], [77, 146, 33], [39, 100, 25]];\n",
       "const BLUE_SCALE = [[255, 247, 251], [236, 231, 242], [208, 209, 230], [166, 189, 219], [116, 169, 207], [54, 144, 192], [5, 112, 176], [3, 78, 123]];\n",
       "\n",
       "// format data\n",
       "const res = relativize_data(f, sd, rel, arm_data, metric);\n",
       "const f_final = res[0];\n",
       "const sd_final = res[1];\n",
       "\n",
       "// calculate max of abs(outcome), used for colorscale\n",
       "const f_absmax = Math.max(Math.abs(Math.min(...f_final)), Math.max(...f_final));\n",
       "\n",
       "// transform to nested array\n",
       "var f_plt = [];\n",
       "while(f_final.length) f_plt.push(f_final.splice(0, density));\n",
       "var sd_plt = [];\n",
       "while(sd_final.length) sd_plt.push(sd_final.splice(0, density));\n",
       "\n",
       "// create traces\n",
       "const CONTOUR_CONFIG = {\n",
       "  autocolorscale: false,\n",
       "  autocontour: true,\n",
       "  contours: {\n",
       "    coloring: 'heatmap',\n",
       "  },\n",
       "  hoverinfo: 'x+y+z',\n",
       "  ncontours: density / 2,\n",
       "  type: 'contour',\n",
       "  x: grid_x,\n",
       "  y: grid_y,\n",
       "};\n",
       "\n",
       "let f_scale;\n",
       "if (rel === true) {\n",
       "  f_scale = lower_is_better === true\n",
       "    ? GREEN_PINK_SCALE.reverse()\n",
       "    : GREEN_PINK_SCALE;\n",
       "} else {\n",
       "  f_scale = GREEN_SCALE;\n",
       "}\n",
       "\n",
       "const f_trace = {\n",
       "  colorbar: {\n",
       "    x: 0.45,\n",
       "    y: 0.5,\n",
       "    ticksuffix: rel === true ? '%' : '',\n",
       "    tickfont: {\n",
       "      size: 8,\n",
       "    },\n",
       "  },\n",
       "  colorscale: f_scale.map(\n",
       "    (v, i) => [i / (f_scale.length - 1), rgb(v)]\n",
       "  ),\n",
       "  xaxis: 'x',\n",
       "  yaxis: 'y',\n",
       "  z: f_plt,\n",
       "  // zmax and zmin are ignored if zauto is true\n",
       "  zauto: !rel,\n",
       "  zmax: f_absmax,\n",
       "  zmin: -f_absmax,\n",
       "};\n",
       "\n",
       "const sd_trace = {\n",
       "  colorbar: {\n",
       "      x: 1,\n",
       "      y: 0.5,\n",
       "      ticksuffix: rel === true ? '%' : '',\n",
       "      tickfont: {\n",
       "        size: 8,\n",
       "      },\n",
       "  },\n",
       "  colorscale: BLUE_SCALE.map(\n",
       "    (v, i) => [i / (BLUE_SCALE.length - 1), rgb(v)]\n",
       "  ),\n",
       "  xaxis: 'x2',\n",
       "  yaxis: 'y2',\n",
       "  z: sd_plt,\n",
       "};\n",
       "\n",
       "Object.keys(CONTOUR_CONFIG).forEach(key => {\n",
       "  f_trace[key] = CONTOUR_CONFIG[key];\n",
       "  sd_trace[key] = CONTOUR_CONFIG[key];\n",
       "});\n",
       "\n",
       "// get in-sample arms\n",
       "const arm_x = [];\n",
       "const arm_y = [];\n",
       "const arm_text = [];\n",
       "\n",
       "Object.keys(arm_data['in_sample']).forEach(arm_name => {\n",
       "  arm_x.push(arm_data['in_sample'][arm_name]['parameters'][xvar]);\n",
       "  arm_y.push(arm_data['in_sample'][arm_name]['parameters'][yvar]);\n",
       "  arm_text.push(arm_name);\n",
       "});\n",
       "\n",
       "// configs for in-sample arms\n",
       "const base_in_sample_arm_config = {\n",
       "  hoverinfo: 'text',\n",
       "  legendgroup: 'In-sample',\n",
       "  marker: {color: 'black', symbol: 1, opacity: 0.5},\n",
       "  mode: 'markers',\n",
       "  name: 'In-sample',\n",
       "  text: arm_text,\n",
       "  type: 'scatter',\n",
       "  x: arm_x,\n",
       "  y: arm_y,\n",
       "};\n",
       "\n",
       "const f_in_sample_arm_trace = {\n",
       "  xaxis: 'x',\n",
       "  yaxis: 'y',\n",
       "};\n",
       "\n",
       "const sd_in_sample_arm_trace = {\n",
       "  showlegend: false,\n",
       "  xaxis: 'x2',\n",
       "  yaxis: 'y2',\n",
       "};\n",
       "\n",
       "Object.keys(base_in_sample_arm_config).forEach(key => {\n",
       "  f_in_sample_arm_trace[key] = base_in_sample_arm_config[key];\n",
       "  sd_in_sample_arm_trace[key] = base_in_sample_arm_config[key];\n",
       "});\n",
       "\n",
       "const traces = [\n",
       "  f_trace,\n",
       "  sd_trace,\n",
       "  f_in_sample_arm_trace,\n",
       "  sd_in_sample_arm_trace,\n",
       "];\n",
       "\n",
       "// start symbol at 2 for candidate markers\n",
       "let i = 2;\n",
       "\n",
       "// iterate over out-of-sample arms\n",
       "Object.keys(arm_data['out_of_sample']).forEach(generator_run_name => {\n",
       "  const ax = [];\n",
       "  const ay = [];\n",
       "  const atext = [];\n",
       "\n",
       "  Object.keys(arm_data['out_of_sample'][generator_run_name]).forEach(arm_name => {\n",
       "    ax.push(\n",
       "      arm_data['out_of_sample'][generator_run_name][arm_name]['parameters'][xvar]\n",
       "    );\n",
       "    ay.push(\n",
       "      arm_data['out_of_sample'][generator_run_name][arm_name]['parameters'][yvar]\n",
       "    );\n",
       "    atext.push('<em>Candidate ' + arm_name + '</em>');\n",
       "  });\n",
       "\n",
       "  traces.push({\n",
       "    hoverinfo: 'text',\n",
       "    legendgroup: generator_run_name,\n",
       "    marker: {color: 'black', symbol: i, opacity: 0.5},\n",
       "    mode: 'markers',\n",
       "    name: generator_run_name,\n",
       "    text: atext,\n",
       "    type: 'scatter',\n",
       "    xaxis: 'x',\n",
       "    x: ax,\n",
       "    yaxis: 'y',\n",
       "    y: ay,\n",
       "  });\n",
       "  traces.push({\n",
       "    hoverinfo: 'text',\n",
       "    legendgroup: generator_run_name,\n",
       "    marker: {color: 'black', symbol: i, opacity: 0.5},\n",
       "    mode: 'markers',\n",
       "    name: 'In-sample',\n",
       "    showlegend: false,\n",
       "    text: atext,\n",
       "    type: 'scatter',\n",
       "    x: ax,\n",
       "    xaxis: 'x2',\n",
       "    y: ay,\n",
       "    yaxis: 'y2',\n",
       "  });\n",
       "  i += 1;\n",
       "});\n",
       "\n",
       "// layout\n",
       "const xrange = axis_range(grid_x, x_is_log);\n",
       "const yrange = axis_range(grid_y, y_is_log);\n",
       "\n",
       "const xtype = x_is_log ? 'log' : 'linear';\n",
       "const ytype = y_is_log ? 'log' : 'linear';\n",
       "\n",
       "const layout = {\n",
       "  autosize: false,\n",
       "    margin: {\n",
       "      l: 35,\n",
       "      r: 35,\n",
       "      t: 35,\n",
       "      b: 100,\n",
       "      pad: 0,\n",
       "  },\n",
       "  annotations: [\n",
       "    {\n",
       "      font: {size: 14},\n",
       "      showarrow: false,\n",
       "      text: 'Mean',\n",
       "      x: 0.25,\n",
       "      xanchor: 'center',\n",
       "      xref: 'paper',\n",
       "      y: 1,\n",
       "      yanchor: 'bottom',\n",
       "      yref: 'paper',\n",
       "    },\n",
       "    {\n",
       "      font: {size: 14},\n",
       "      showarrow: false,\n",
       "      text: 'Standard Error',\n",
       "      x: 0.8,\n",
       "      xanchor: 'center',\n",
       "      xref: 'paper',\n",
       "      y: 1,\n",
       "      yanchor: 'bottom',\n",
       "      yref: 'paper',\n",
       "    },\n",
       "  ],\n",
       "  hovermode: 'closest',\n",
       "  legend: {orientation: 'h', x: 0, y: -0.25},\n",
       "  height: 450,\n",
       "  width: 950,\n",
       "  xaxis: {\n",
       "    anchor: 'y',\n",
       "    autorange: false,\n",
       "    domain: [0.05, 0.45],\n",
       "    exponentformat: 'e',\n",
       "    range: xrange,\n",
       "    tickfont: {size: 11},\n",
       "    tickmode: 'auto',\n",
       "    title: xvar,\n",
       "    type: xtype,\n",
       "  },\n",
       "  xaxis2: {\n",
       "    anchor: 'y2',\n",
       "    autorange: false,\n",
       "    domain: [0.60, 1],\n",
       "    exponentformat: 'e',\n",
       "    range: xrange,\n",
       "    tickfont: {size: 11},\n",
       "    tickmode: 'auto',\n",
       "    title: xvar,\n",
       "    type: xtype,\n",
       "  },\n",
       "  yaxis: {\n",
       "    anchor: 'x',\n",
       "    autorange: false,\n",
       "    domain: [0, 1],\n",
       "    exponentformat: 'e',\n",
       "    range: yrange,\n",
       "    tickfont: {size: 11},\n",
       "    tickmode: 'auto',\n",
       "    title: yvar,\n",
       "    type: ytype,\n",
       "  },\n",
       "  yaxis2: {\n",
       "    anchor: 'x2',\n",
       "    autorange: false,\n",
       "    domain: [0, 1],\n",
       "    exponentformat: 'e',\n",
       "    range: yrange,\n",
       "    tickfont: {size: 11},\n",
       "    tickmode: 'auto',\n",
       "    type: ytype,\n",
       "  },\n",
       "};\n",
       "\n",
       "Plotly.newPlot(\"7f468978d5f94597b59eb87bf46adebe\", traces, layout, {showLink: false});\n",
       "});</script>"
      ]
     },
     "metadata": {},
     "output_type": "display_data"
    }
   ],
   "source": [
    "render(plot_contour(model=model, param_x='lr', param_y='momentum', metric_name='accuracy'))"
   ]
  },
  {
   "cell_type": "markdown",
   "metadata": {},
   "source": [
    "## 5. Plot best objective as function of the iteration\n",
    "\n",
    "Show the model accuracy improving as we identify better hyperparameters."
   ]
  },
  {
   "cell_type": "code",
   "execution_count": 9,
   "metadata": {},
   "outputs": [
    {
     "data": {
      "text/html": [
       "<div id=\"b1aaf22630654bb3bde2ac7af5a8a09c\" style=\"width: 100%;\" class=\"plotly-graph-div\"></div><script type='text/javascript'>/*\n",
       " * Copyright (c) Facebook, Inc. and its affiliates. All Rights Reserved.\n",
       " */\n",
       "\n",
       "require(['plotly'], function(Plotly) {\n",
       "  window.PLOTLYENV = window.PLOTLYENV || {};\n",
       "  window.PLOTLYENV.BASE_URL = 'https://plot.ly';\n",
       "  /*\n",
       " * Copyright (c) Facebook, Inc. and its affiliates. All Rights Reserved.\n",
       " */\n",
       "\n",
       "Plotly.newPlot(\n",
       "  \"b1aaf22630654bb3bde2ac7af5a8a09c\",\n",
       "  [{\"hoverinfo\": \"none\", \"legendgroup\": \"\", \"line\": {\"width\": 0}, \"mode\": \"lines\", \"showlegend\": false, \"x\": [1, 2, 3, 4, 5, 6, 7, 8, 9, 10, 11, 12, 13, 14, 15, 16, 17, 18, 19, 20], \"y\": [11.1, 11.1, 92.06666666666666, 92.06666666666666, 92.06666666666666, 92.06666666666666, 92.06666666666666, 92.06666666666666, 92.06666666666666, 92.06666666666666, 92.06666666666666, 92.71666666666667, 94.36666666666666, 94.36666666666666, 94.36666666666666, 94.36666666666666, 94.36666666666666, 94.36666666666666, 94.36666666666666, 94.36666666666666], \"type\": \"scatter\"}, {\"fill\": \"tonexty\", \"fillcolor\": \"rgba(128,177,211,0.3)\", \"legendgroup\": \"mean\", \"line\": {\"color\": \"rgba(128,177,211,1)\"}, \"mode\": \"lines\", \"name\": \"mean\", \"x\": [1, 2, 3, 4, 5, 6, 7, 8, 9, 10, 11, 12, 13, 14, 15, 16, 17, 18, 19, 20], \"y\": [11.1, 11.1, 92.06666666666666, 92.06666666666666, 92.06666666666666, 92.06666666666666, 92.06666666666666, 92.06666666666666, 92.06666666666666, 92.06666666666666, 92.06666666666666, 92.71666666666667, 94.36666666666666, 94.36666666666666, 94.36666666666666, 94.36666666666666, 94.36666666666666, 94.36666666666666, 94.36666666666666, 94.36666666666666], \"type\": \"scatter\"}, {\"fill\": \"tonexty\", \"fillcolor\": \"rgba(128,177,211,0.3)\", \"hoverinfo\": \"none\", \"legendgroup\": \"\", \"line\": {\"width\": 0}, \"mode\": \"lines\", \"showlegend\": false, \"x\": [1, 2, 3, 4, 5, 6, 7, 8, 9, 10, 11, 12, 13, 14, 15, 16, 17, 18, 19, 20], \"y\": [11.1, 11.1, 92.06666666666666, 92.06666666666666, 92.06666666666666, 92.06666666666666, 92.06666666666666, 92.06666666666666, 92.06666666666666, 92.06666666666666, 92.06666666666666, 92.71666666666667, 94.36666666666666, 94.36666666666666, 94.36666666666666, 94.36666666666666, 94.36666666666666, 94.36666666666666, 94.36666666666666, 94.36666666666666], \"type\": \"scatter\"}],\n",
       "  {\"showlegend\": true, \"title\": {\"text\": \"Model performance vs. # of iterations\"}, \"xaxis\": {\"title\": {\"text\": \"Iteration\"}}, \"yaxis\": {\"title\": {\"text\": \"Classification Accuracy, %\"}}, \"template\": {\"data\": {\"barpolar\": [{\"marker\": {\"line\": {\"color\": \"#E5ECF6\", \"width\": 0.5}}, \"type\": \"barpolar\"}], \"bar\": [{\"error_x\": {\"color\": \"#2a3f5f\"}, \"error_y\": {\"color\": \"#2a3f5f\"}, \"marker\": {\"line\": {\"color\": \"#E5ECF6\", \"width\": 0.5}}, \"type\": \"bar\"}], \"carpet\": [{\"aaxis\": {\"endlinecolor\": \"#2a3f5f\", \"gridcolor\": \"white\", \"linecolor\": \"white\", \"minorgridcolor\": \"white\", \"startlinecolor\": \"#2a3f5f\"}, \"baxis\": {\"endlinecolor\": \"#2a3f5f\", \"gridcolor\": \"white\", \"linecolor\": \"white\", \"minorgridcolor\": \"white\", \"startlinecolor\": \"#2a3f5f\"}, \"type\": \"carpet\"}], \"choropleth\": [{\"colorbar\": {\"outlinewidth\": 0, \"ticks\": \"\"}, \"type\": \"choropleth\"}], \"contourcarpet\": [{\"colorbar\": {\"outlinewidth\": 0, \"ticks\": \"\"}, \"type\": \"contourcarpet\"}], \"contour\": [{\"colorbar\": {\"outlinewidth\": 0, \"ticks\": \"\"}, \"colorscale\": [[0.0, \"#0d0887\"], [0.1111111111111111, \"#46039f\"], [0.2222222222222222, \"#7201a8\"], [0.3333333333333333, \"#9c179e\"], [0.4444444444444444, \"#bd3786\"], [0.5555555555555556, \"#d8576b\"], [0.6666666666666666, \"#ed7953\"], [0.7777777777777778, \"#fb9f3a\"], [0.8888888888888888, \"#fdca26\"], [1.0, \"#f0f921\"]], \"type\": \"contour\"}], \"heatmapgl\": [{\"colorbar\": {\"outlinewidth\": 0, \"ticks\": \"\"}, \"colorscale\": [[0.0, \"#0d0887\"], [0.1111111111111111, \"#46039f\"], [0.2222222222222222, \"#7201a8\"], [0.3333333333333333, \"#9c179e\"], [0.4444444444444444, \"#bd3786\"], [0.5555555555555556, \"#d8576b\"], [0.6666666666666666, \"#ed7953\"], [0.7777777777777778, \"#fb9f3a\"], [0.8888888888888888, \"#fdca26\"], [1.0, \"#f0f921\"]], \"type\": \"heatmapgl\"}], \"heatmap\": [{\"colorbar\": {\"outlinewidth\": 0, \"ticks\": \"\"}, \"colorscale\": [[0.0, \"#0d0887\"], [0.1111111111111111, \"#46039f\"], [0.2222222222222222, \"#7201a8\"], [0.3333333333333333, \"#9c179e\"], [0.4444444444444444, \"#bd3786\"], [0.5555555555555556, \"#d8576b\"], [0.6666666666666666, \"#ed7953\"], [0.7777777777777778, \"#fb9f3a\"], [0.8888888888888888, \"#fdca26\"], [1.0, \"#f0f921\"]], \"type\": \"heatmap\"}], \"histogram2dcontour\": [{\"colorbar\": {\"outlinewidth\": 0, \"ticks\": \"\"}, \"colorscale\": [[0.0, \"#0d0887\"], [0.1111111111111111, \"#46039f\"], [0.2222222222222222, \"#7201a8\"], [0.3333333333333333, \"#9c179e\"], [0.4444444444444444, \"#bd3786\"], [0.5555555555555556, \"#d8576b\"], [0.6666666666666666, \"#ed7953\"], [0.7777777777777778, \"#fb9f3a\"], [0.8888888888888888, \"#fdca26\"], [1.0, \"#f0f921\"]], \"type\": \"histogram2dcontour\"}], \"histogram2d\": [{\"colorbar\": {\"outlinewidth\": 0, \"ticks\": \"\"}, \"colorscale\": [[0.0, \"#0d0887\"], [0.1111111111111111, \"#46039f\"], [0.2222222222222222, \"#7201a8\"], [0.3333333333333333, \"#9c179e\"], [0.4444444444444444, \"#bd3786\"], [0.5555555555555556, \"#d8576b\"], [0.6666666666666666, \"#ed7953\"], [0.7777777777777778, \"#fb9f3a\"], [0.8888888888888888, \"#fdca26\"], [1.0, \"#f0f921\"]], \"type\": \"histogram2d\"}], \"histogram\": [{\"marker\": {\"colorbar\": {\"outlinewidth\": 0, \"ticks\": \"\"}}, \"type\": \"histogram\"}], \"mesh3d\": [{\"colorbar\": {\"outlinewidth\": 0, \"ticks\": \"\"}, \"type\": \"mesh3d\"}], \"parcoords\": [{\"line\": {\"colorbar\": {\"outlinewidth\": 0, \"ticks\": \"\"}}, \"type\": \"parcoords\"}], \"scatter3d\": [{\"line\": {\"colorbar\": {\"outlinewidth\": 0, \"ticks\": \"\"}}, \"marker\": {\"colorbar\": {\"outlinewidth\": 0, \"ticks\": \"\"}}, \"type\": \"scatter3d\"}], \"scattercarpet\": [{\"marker\": {\"colorbar\": {\"outlinewidth\": 0, \"ticks\": \"\"}}, \"type\": \"scattercarpet\"}], \"scattergeo\": [{\"marker\": {\"colorbar\": {\"outlinewidth\": 0, \"ticks\": \"\"}}, \"type\": \"scattergeo\"}], \"scattergl\": [{\"marker\": {\"colorbar\": {\"outlinewidth\": 0, \"ticks\": \"\"}}, \"type\": \"scattergl\"}], \"scattermapbox\": [{\"marker\": {\"colorbar\": {\"outlinewidth\": 0, \"ticks\": \"\"}}, \"type\": \"scattermapbox\"}], \"scatterpolargl\": [{\"marker\": {\"colorbar\": {\"outlinewidth\": 0, \"ticks\": \"\"}}, \"type\": \"scatterpolargl\"}], \"scatterpolar\": [{\"marker\": {\"colorbar\": {\"outlinewidth\": 0, \"ticks\": \"\"}}, \"type\": \"scatterpolar\"}], \"scatter\": [{\"marker\": {\"colorbar\": {\"outlinewidth\": 0, \"ticks\": \"\"}}, \"type\": \"scatter\"}], \"scatterternary\": [{\"marker\": {\"colorbar\": {\"outlinewidth\": 0, \"ticks\": \"\"}}, \"type\": \"scatterternary\"}], \"surface\": [{\"colorbar\": {\"outlinewidth\": 0, \"ticks\": \"\"}, \"colorscale\": [[0.0, \"#0d0887\"], [0.1111111111111111, \"#46039f\"], [0.2222222222222222, \"#7201a8\"], [0.3333333333333333, \"#9c179e\"], [0.4444444444444444, \"#bd3786\"], [0.5555555555555556, \"#d8576b\"], [0.6666666666666666, \"#ed7953\"], [0.7777777777777778, \"#fb9f3a\"], [0.8888888888888888, \"#fdca26\"], [1.0, \"#f0f921\"]], \"type\": \"surface\"}], \"table\": [{\"cells\": {\"fill\": {\"color\": \"#EBF0F8\"}, \"line\": {\"color\": \"white\"}}, \"header\": {\"fill\": {\"color\": \"#C8D4E3\"}, \"line\": {\"color\": \"white\"}}, \"type\": \"table\"}]}, \"layout\": {\"annotationdefaults\": {\"arrowcolor\": \"#2a3f5f\", \"arrowhead\": 0, \"arrowwidth\": 1}, \"colorscale\": {\"diverging\": [[0, \"#8e0152\"], [0.1, \"#c51b7d\"], [0.2, \"#de77ae\"], [0.3, \"#f1b6da\"], [0.4, \"#fde0ef\"], [0.5, \"#f7f7f7\"], [0.6, \"#e6f5d0\"], [0.7, \"#b8e186\"], [0.8, \"#7fbc41\"], [0.9, \"#4d9221\"], [1, \"#276419\"]], \"sequential\": [[0.0, \"#0d0887\"], [0.1111111111111111, \"#46039f\"], [0.2222222222222222, \"#7201a8\"], [0.3333333333333333, \"#9c179e\"], [0.4444444444444444, \"#bd3786\"], [0.5555555555555556, \"#d8576b\"], [0.6666666666666666, \"#ed7953\"], [0.7777777777777778, \"#fb9f3a\"], [0.8888888888888888, \"#fdca26\"], [1.0, \"#f0f921\"]], \"sequentialminus\": [[0.0, \"#0d0887\"], [0.1111111111111111, \"#46039f\"], [0.2222222222222222, \"#7201a8\"], [0.3333333333333333, \"#9c179e\"], [0.4444444444444444, \"#bd3786\"], [0.5555555555555556, \"#d8576b\"], [0.6666666666666666, \"#ed7953\"], [0.7777777777777778, \"#fb9f3a\"], [0.8888888888888888, \"#fdca26\"], [1.0, \"#f0f921\"]]}, \"colorway\": [\"#636efa\", \"#EF553B\", \"#00cc96\", \"#ab63fa\", \"#FFA15A\", \"#19d3f3\", \"#FF6692\", \"#B6E880\", \"#FF97FF\", \"#FECB52\"], \"font\": {\"color\": \"#2a3f5f\"}, \"geo\": {\"bgcolor\": \"white\", \"lakecolor\": \"white\", \"landcolor\": \"#E5ECF6\", \"showlakes\": true, \"showland\": true, \"subunitcolor\": \"white\"}, \"hoverlabel\": {\"align\": \"left\"}, \"hovermode\": \"closest\", \"mapbox\": {\"style\": \"light\"}, \"paper_bgcolor\": \"white\", \"plot_bgcolor\": \"#E5ECF6\", \"polar\": {\"angularaxis\": {\"gridcolor\": \"white\", \"linecolor\": \"white\", \"ticks\": \"\"}, \"bgcolor\": \"#E5ECF6\", \"radialaxis\": {\"gridcolor\": \"white\", \"linecolor\": \"white\", \"ticks\": \"\"}}, \"scene\": {\"xaxis\": {\"backgroundcolor\": \"#E5ECF6\", \"gridcolor\": \"white\", \"gridwidth\": 2, \"linecolor\": \"white\", \"showbackground\": true, \"ticks\": \"\", \"zerolinecolor\": \"white\"}, \"yaxis\": {\"backgroundcolor\": \"#E5ECF6\", \"gridcolor\": \"white\", \"gridwidth\": 2, \"linecolor\": \"white\", \"showbackground\": true, \"ticks\": \"\", \"zerolinecolor\": \"white\"}, \"zaxis\": {\"backgroundcolor\": \"#E5ECF6\", \"gridcolor\": \"white\", \"gridwidth\": 2, \"linecolor\": \"white\", \"showbackground\": true, \"ticks\": \"\", \"zerolinecolor\": \"white\"}}, \"shapedefaults\": {\"line\": {\"color\": \"#2a3f5f\"}}, \"ternary\": {\"aaxis\": {\"gridcolor\": \"white\", \"linecolor\": \"white\", \"ticks\": \"\"}, \"baxis\": {\"gridcolor\": \"white\", \"linecolor\": \"white\", \"ticks\": \"\"}, \"bgcolor\": \"#E5ECF6\", \"caxis\": {\"gridcolor\": \"white\", \"linecolor\": \"white\", \"ticks\": \"\"}}, \"title\": {\"x\": 0.05}, \"xaxis\": {\"automargin\": true, \"gridcolor\": \"white\", \"linecolor\": \"white\", \"ticks\": \"\", \"zerolinecolor\": \"white\", \"zerolinewidth\": 2}, \"yaxis\": {\"automargin\": true, \"gridcolor\": \"white\", \"linecolor\": \"white\", \"ticks\": \"\", \"zerolinecolor\": \"white\", \"zerolinewidth\": 2}}}},\n",
       "  {\"showLink\": false}\n",
       ");\n",
       "});</script>"
      ]
     },
     "metadata": {},
     "output_type": "display_data"
    }
   ],
   "source": [
    "# `plot_single_method` expects a 2-d array of means, because it expects to average means from multiple \n",
    "# optimization runs, so we wrap out best objectives array in another array.\n",
    "best_objectives = np.array([[trial.objective_mean*100 for trial in experiment.trials.values()]])\n",
    "best_objective_plot = optimization_trace_single_method(\n",
    "    y=np.maximum.accumulate(best_objectives, axis=1),\n",
    "    title=\"Model performance vs. # of iterations\",\n",
    "    ylabel=\"Classification Accuracy, %\",\n",
    ")\n",
    "render(best_objective_plot)"
   ]
  },
  {
   "cell_type": "markdown",
   "metadata": {},
   "source": [
    "## 6. Train CNN with best hyperparameters and evaluate on test set\n",
    "Note that the resulting accuracy on the test set might not be exactly the same as the maximum accuracy achieved on the evaluation set throughout optimization. "
   ]
  },
  {
   "cell_type": "code",
   "execution_count": 10,
   "metadata": {},
   "outputs": [
    {
     "data": {
      "text/plain": [
       "Arm(name='12_0', parameters={'lr': 0.00017358750493956155, 'momentum': 0.7992613689098109})"
      ]
     },
     "execution_count": 10,
     "metadata": {},
     "output_type": "execute_result"
    }
   ],
   "source": [
    "data = experiment.fetch_data()\n",
    "df = data.df\n",
    "best_arm_name = df.arm_name[df['mean'] == df['mean'].max()].values[0]\n",
    "best_arm = experiment.arms_by_name[best_arm_name]\n",
    "best_arm"
   ]
  },
  {
   "cell_type": "code",
   "execution_count": 11,
   "metadata": {
    "collapsed": true
   },
   "outputs": [],
   "source": [
    "combined_train_valid_set = torch.utils.data.ConcatDataset([\n",
    "    train_loader.dataset.dataset, \n",
    "    valid_loader.dataset.dataset,\n",
    "])\n",
    "combined_train_valid_loader = torch.utils.data.DataLoader(\n",
    "    combined_train_valid_set, \n",
    "    batch_size=BATCH_SIZE, \n",
    "    shuffle=True,\n",
    ")"
   ]
  },
  {
   "cell_type": "code",
   "execution_count": 12,
   "metadata": {
    "collapsed": true
   },
   "outputs": [],
   "source": [
    "net = train(\n",
    "    net=CNN(),\n",
    "    train_loader=combined_train_valid_loader, \n",
    "    parameters=best_arm.parameters,\n",
    "    dtype=dtype,\n",
    "    device=device,\n",
    ")\n",
    "test_accuracy = evaluate(\n",
    "    net=net,\n",
    "    data_loader=test_loader,\n",
    "    dtype=dtype,\n",
    "    device=device,\n",
    ")"
   ]
  },
  {
   "cell_type": "code",
   "execution_count": 13,
   "metadata": {},
   "outputs": [
    {
     "name": "stdout",
     "output_type": "stream",
     "text": [
      "Classification Accuracy (test set): 97.62%\n"
     ]
    }
   ],
   "source": [
    "print(f\"Classification Accuracy (test set): {round(test_accuracy*100, 2)}%\")"
   ]
  }
 ],
 "metadata": {
  "kernelspec": {
   "display_name": "python3",
   "language": "python",
   "name": "python3"
  },
  "language_info": {
   "codemirror_mode": {
    "name": "ipython",
    "version": 3
   },
   "file_extension": ".py",
   "mimetype": "text/x-python",
   "name": "python",
   "nbconvert_exporter": "python",
   "pygments_lexer": "ipython3",
   "version": "3.6.7"
  }
 },
 "nbformat": 4,
 "nbformat_minor": 2
}
