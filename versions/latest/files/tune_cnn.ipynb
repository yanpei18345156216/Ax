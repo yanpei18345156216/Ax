{
 "cells": [
  {
   "cell_type": "markdown",
   "metadata": {},
   "source": [
    "# Tune a CNN on MNIST\n",
    "\n",
    "This tutorial walks through using Ax to tune two hyperparameters (learning rate and momentum) for a PyTorch CNN on the MNIST dataset trained using SGD with momentum.\n"
   ]
  },
  {
   "cell_type": "code",
   "execution_count": 1,
   "metadata": {},
   "outputs": [
    {
     "data": {
      "text/html": [
       "<script type='text/javascript'>/*\n",
       " * Copyright (c) Facebook, Inc. and its affiliates. All Rights Reserved.\n",
       " */\n",
       "\n",
       "requirejs.config({\n",
       "  paths: {\n",
       "    plotly: ['https://cdn.plot.ly/plotly-latest.min'],\n",
       "  },\n",
       "});\n",
       "if (!window.Plotly) {\n",
       "  require(['plotly'], function(plotly) {\n",
       "    window.Plotly = plotly;\n",
       "  });\n",
       "}\n",
       "/*\n",
       " * Copyright (c) Facebook, Inc. and its affiliates. All Rights Reserved.\n",
       " */\n",
       "\n",
       "// helper functions used across multiple plots\n",
       "function rgb(rgb_array) {\n",
       "  return 'rgb(' + rgb_array.join() + ')';\n",
       "}\n",
       "\n",
       "function copy_and_reverse(arr) {\n",
       "  const copy = arr.slice();\n",
       "  copy.reverse();\n",
       "  return copy;\n",
       "}\n",
       "\n",
       "function axis_range(grid, is_log) {\n",
       "  return is_log\n",
       "    ? [Math.log10(Math.min(...grid)), Math.log10(Math.max(...grid))]\n",
       "    : [Math.min(...grid), Math.max(...grid)];\n",
       "}\n",
       "\n",
       "function relativize_data(f, sd, rel, arm_data, metric) {\n",
       "  // if relative, extract status quo & compute ratio\n",
       "  const f_final = rel === true ? [] : f;\n",
       "  const sd_final = rel === true ? [] : sd;\n",
       "\n",
       "  if (rel === true) {\n",
       "    const f_sq =\n",
       "      arm_data['in_sample'][arm_data['status_quo_name']]['y'][metric];\n",
       "    const sd_sq =\n",
       "      arm_data['in_sample'][arm_data['status_quo_name']]['se'][metric];\n",
       "\n",
       "    for (let i = 0; i < f.length; i++) {\n",
       "      res = relativize(f[i], sd[i], f_sq, sd_sq);\n",
       "      f_final.push(100 * res[0]);\n",
       "      sd_final.push(100 * res[1]);\n",
       "    }\n",
       "  }\n",
       "\n",
       "  return [f_final, sd_final];\n",
       "}\n",
       "\n",
       "function relativize(m_t, sem_t, m_c, sem_c) {\n",
       "  r_hat =\n",
       "    (m_t - m_c) / Math.abs(m_c) -\n",
       "    (Math.pow(sem_c, 2) * m_t) / Math.pow(Math.abs(m_c), 3);\n",
       "  variance =\n",
       "    (Math.pow(sem_t, 2) + Math.pow((m_t / m_c) * sem_c, 2)) / Math.pow(m_c, 2);\n",
       "  return [r_hat, Math.sqrt(variance)];\n",
       "}\n",
       "\n",
       "function slice_config_to_trace(\n",
       "  arm_data,\n",
       "  arm_name_to_parameters,\n",
       "  f,\n",
       "  fit_data,\n",
       "  grid,\n",
       "  metric,\n",
       "  param,\n",
       "  rel,\n",
       "  setx,\n",
       "  sd,\n",
       "  is_log,\n",
       "  visible,\n",
       ") {\n",
       "  // format data\n",
       "  const res = relativize_data(f, sd, rel, arm_data, metric);\n",
       "  const f_final = res[0];\n",
       "  const sd_final = res[1];\n",
       "\n",
       "  // get data for standard deviation fill plot\n",
       "  const sd_upper = [];\n",
       "  const sd_lower = [];\n",
       "  for (let i = 0; i < sd.length; i++) {\n",
       "    sd_upper.push(f_final[i] + 2 * sd_final[i]);\n",
       "    sd_lower.push(f_final[i] - 2 * sd_final[i]);\n",
       "  }\n",
       "  const grid_rev = copy_and_reverse(grid);\n",
       "  const sd_lower_rev = copy_and_reverse(sd_lower);\n",
       "  const sd_x = grid.concat(grid_rev);\n",
       "  const sd_y = sd_upper.concat(sd_lower_rev);\n",
       "\n",
       "  // get data for observed arms and error bars\n",
       "  const arm_x = [];\n",
       "  const arm_y = [];\n",
       "  const arm_sem = [];\n",
       "  fit_data.forEach(row => {\n",
       "    parameters = arm_name_to_parameters[row['arm_name']];\n",
       "    plot = true;\n",
       "    Object.keys(setx).forEach(p => {\n",
       "      if (p !== param && parameters[p] !== setx[p]) {\n",
       "        plot = false;\n",
       "      }\n",
       "    });\n",
       "    if (plot === true) {\n",
       "      arm_x.push(parameters[param]);\n",
       "      arm_y.push(row['mean']);\n",
       "      arm_sem.push(row['sem']);\n",
       "    }\n",
       "  });\n",
       "\n",
       "  const arm_res = relativize_data(arm_y, arm_sem, rel, arm_data, metric);\n",
       "  const arm_y_final = arm_res[0];\n",
       "  const arm_sem_final = arm_res[1].map(x => x * 2);\n",
       "\n",
       "  // create traces\n",
       "  const f_trace = {\n",
       "    x: grid,\n",
       "    y: f_final,\n",
       "    showlegend: false,\n",
       "    hoverinfo: 'x+y',\n",
       "    line: {\n",
       "      color: 'rgba(128, 177, 211, 1)',\n",
       "    },\n",
       "    visible: visible,\n",
       "  };\n",
       "\n",
       "  const arms_trace = {\n",
       "    x: arm_x,\n",
       "    y: arm_y_final,\n",
       "    mode: 'markers',\n",
       "    error_y: {\n",
       "      type: 'data',\n",
       "      array: arm_sem_final,\n",
       "      visible: true,\n",
       "      color: 'black',\n",
       "    },\n",
       "    line: {\n",
       "      color: 'black',\n",
       "    },\n",
       "    showlegend: false,\n",
       "    hoverinfo: 'x+y',\n",
       "    visible: visible,\n",
       "  };\n",
       "\n",
       "  const sd_trace = {\n",
       "    x: sd_x,\n",
       "    y: sd_y,\n",
       "    fill: 'toself',\n",
       "    fillcolor: 'rgba(128, 177, 211, 0.2)',\n",
       "    line: {\n",
       "      color: 'transparent',\n",
       "    },\n",
       "    showlegend: false,\n",
       "    hoverinfo: 'none',\n",
       "    visible: visible,\n",
       "  };\n",
       "\n",
       "  traces = [sd_trace, f_trace, arms_trace];\n",
       "\n",
       "  // iterate over out-of-sample arms\n",
       "  let i = 1;\n",
       "  Object.keys(arm_data['out_of_sample']).forEach(generator_run_name => {\n",
       "    const ax = [];\n",
       "    const ay = [];\n",
       "    const asem = [];\n",
       "    const atext = [];\n",
       "\n",
       "    Object.keys(arm_data['out_of_sample'][generator_run_name]).forEach(\n",
       "      arm_name => {\n",
       "        const parameters =\n",
       "          arm_data['out_of_sample'][generator_run_name][arm_name]['parameters'];\n",
       "        plot = true;\n",
       "        Object.keys(setx).forEach(p => {\n",
       "          if (p !== param && parameters[p] !== setx[p]) {\n",
       "            plot = false;\n",
       "          }\n",
       "        });\n",
       "        if (plot === true) {\n",
       "          ax.push(parameters[param]);\n",
       "          ay.push(\n",
       "            arm_data['out_of_sample'][generator_run_name][arm_name]['y_hat'][\n",
       "              metric\n",
       "            ],\n",
       "          );\n",
       "          asem.push(\n",
       "            arm_data['out_of_sample'][generator_run_name][arm_name]['se_hat'][\n",
       "              metric\n",
       "            ],\n",
       "          );\n",
       "          atext.push('<em>Candidate ' + arm_name + '</em>');\n",
       "        }\n",
       "      },\n",
       "    );\n",
       "\n",
       "    const out_of_sample_arm_res = relativize_data(\n",
       "      ay,\n",
       "      asem,\n",
       "      rel,\n",
       "      arm_data,\n",
       "      metric,\n",
       "    );\n",
       "    const ay_final = out_of_sample_arm_res[0];\n",
       "    const asem_final = out_of_sample_arm_res[1].map(x => x * 2);\n",
       "\n",
       "    traces.push({\n",
       "      hoverinfo: 'text',\n",
       "      legendgroup: generator_run_name,\n",
       "      marker: {color: 'black', symbol: i, opacity: 0.5},\n",
       "      mode: 'markers',\n",
       "      error_y: {\n",
       "        type: 'data',\n",
       "        array: asem_final,\n",
       "        visible: true,\n",
       "        color: 'black',\n",
       "      },\n",
       "      name: generator_run_name,\n",
       "      text: atext,\n",
       "      type: 'scatter',\n",
       "      xaxis: 'x',\n",
       "      x: ax,\n",
       "      yaxis: 'y',\n",
       "      y: ay_final,\n",
       "      visible: visible,\n",
       "    });\n",
       "\n",
       "    i += 1;\n",
       "  });\n",
       "  return traces;\n",
       "}\n",
       "</script>"
      ]
     },
     "metadata": {},
     "output_type": "display_data"
    },
    {
     "name": "stderr",
     "output_type": "stream",
     "text": [
      "[INFO 08-19 04:16:55] ipy_plotting: Injecting Plotly library into cell. Do not overwrite or delete cell.\n"
     ]
    }
   ],
   "source": [
    "import torch\n",
    "import numpy as np\n",
    "\n",
    "from ax.plot.contour import plot_contour\n",
    "from ax.plot.trace import optimization_trace_single_method\n",
    "from ax.service.managed_loop import optimize\n",
    "from ax.utils.notebook.plotting import render, init_notebook_plotting\n",
    "from ax.utils.tutorials.cnn_utils import load_mnist, train, evaluate, CNN\n",
    "\n",
    "init_notebook_plotting()"
   ]
  },
  {
   "cell_type": "code",
   "execution_count": 2,
   "metadata": {
    "collapsed": true
   },
   "outputs": [],
   "source": [
    "torch.manual_seed(12345)\n",
    "dtype = torch.float\n",
    "device = torch.device(\"cuda\" if torch.cuda.is_available() else \"cpu\")"
   ]
  },
  {
   "cell_type": "markdown",
   "metadata": {},
   "source": [
    "## 1. Load MNIST data\n",
    "First, we need to load the MNIST data and partition it into training, validation, and test sets.\n",
    "\n",
    "Note: this will download the dataset if necessary."
   ]
  },
  {
   "cell_type": "code",
   "execution_count": 3,
   "metadata": {
    "scrolled": true
   },
   "outputs": [
    {
     "name": "stdout",
     "output_type": "stream",
     "text": [
      "Downloading http://yann.lecun.com/exdb/mnist/train-images-idx3-ubyte.gz to ./data/MNIST/raw/train-images-idx3-ubyte.gz\n"
     ]
    },
    {
     "name": "stderr",
     "output_type": "stream",
     "text": [
      "\r",
      "0.0%"
     ]
    },
    {
     "name": "stderr",
     "output_type": "stream",
     "text": [
      "\r",
      "0.1%"
     ]
    },
    {
     "name": "stderr",
     "output_type": "stream",
     "text": [
      "\r",
      "0.2%"
     ]
    },
    {
     "name": "stderr",
     "output_type": "stream",
     "text": [
      "\r",
      "0.2%"
     ]
    },
    {
     "name": "stderr",
     "output_type": "stream",
     "text": [
      "\r",
      "0.3%"
     ]
    },
    {
     "name": "stderr",
     "output_type": "stream",
     "text": [
      "\r",
      "0.4%"
     ]
    },
    {
     "name": "stderr",
     "output_type": "stream",
     "text": [
      "\r",
      "0.5%"
     ]
    },
    {
     "name": "stderr",
     "output_type": "stream",
     "text": [
      "\r",
      "0.6%"
     ]
    },
    {
     "name": "stderr",
     "output_type": "stream",
     "text": [
      "\r",
      "0.7%"
     ]
    },
    {
     "name": "stderr",
     "output_type": "stream",
     "text": [
      "\r",
      "0.7%"
     ]
    },
    {
     "name": "stderr",
     "output_type": "stream",
     "text": [
      "\r",
      "0.8%"
     ]
    },
    {
     "name": "stderr",
     "output_type": "stream",
     "text": [
      "\r",
      "0.9%"
     ]
    },
    {
     "name": "stderr",
     "output_type": "stream",
     "text": [
      "\r",
      "1.0%"
     ]
    },
    {
     "name": "stderr",
     "output_type": "stream",
     "text": [
      "\r",
      "1.1%"
     ]
    },
    {
     "name": "stderr",
     "output_type": "stream",
     "text": [
      "\r",
      "1.2%"
     ]
    },
    {
     "name": "stderr",
     "output_type": "stream",
     "text": [
      "\r",
      "1.2%"
     ]
    },
    {
     "name": "stderr",
     "output_type": "stream",
     "text": [
      "\r",
      "1.3%"
     ]
    },
    {
     "name": "stderr",
     "output_type": "stream",
     "text": [
      "\r",
      "1.4%"
     ]
    },
    {
     "name": "stderr",
     "output_type": "stream",
     "text": [
      "\r",
      "1.5%"
     ]
    },
    {
     "name": "stderr",
     "output_type": "stream",
     "text": [
      "\r",
      "1.6%"
     ]
    },
    {
     "name": "stderr",
     "output_type": "stream",
     "text": [
      "\r",
      "1.7%"
     ]
    },
    {
     "name": "stderr",
     "output_type": "stream",
     "text": [
      "\r",
      "1.7%"
     ]
    },
    {
     "name": "stderr",
     "output_type": "stream",
     "text": [
      "\r",
      "1.8%"
     ]
    },
    {
     "name": "stderr",
     "output_type": "stream",
     "text": [
      "\r",
      "1.9%"
     ]
    },
    {
     "name": "stderr",
     "output_type": "stream",
     "text": [
      "\r",
      "2.0%"
     ]
    },
    {
     "name": "stderr",
     "output_type": "stream",
     "text": [
      "\r",
      "2.1%"
     ]
    },
    {
     "name": "stderr",
     "output_type": "stream",
     "text": [
      "\r",
      "2.1%"
     ]
    },
    {
     "name": "stderr",
     "output_type": "stream",
     "text": [
      "\r",
      "2.2%"
     ]
    },
    {
     "name": "stderr",
     "output_type": "stream",
     "text": [
      "\r",
      "2.3%"
     ]
    },
    {
     "name": "stderr",
     "output_type": "stream",
     "text": [
      "\r",
      "2.4%"
     ]
    },
    {
     "name": "stderr",
     "output_type": "stream",
     "text": [
      "\r",
      "2.5%"
     ]
    },
    {
     "name": "stderr",
     "output_type": "stream",
     "text": [
      "\r",
      "2.6%"
     ]
    },
    {
     "name": "stderr",
     "output_type": "stream",
     "text": [
      "\r",
      "2.6%"
     ]
    },
    {
     "name": "stderr",
     "output_type": "stream",
     "text": [
      "\r",
      "2.7%"
     ]
    },
    {
     "name": "stderr",
     "output_type": "stream",
     "text": [
      "\r",
      "2.8%"
     ]
    },
    {
     "name": "stderr",
     "output_type": "stream",
     "text": [
      "\r",
      "2.9%"
     ]
    },
    {
     "name": "stderr",
     "output_type": "stream",
     "text": [
      "\r",
      "3.0%"
     ]
    },
    {
     "name": "stderr",
     "output_type": "stream",
     "text": [
      "\r",
      "3.1%"
     ]
    },
    {
     "name": "stderr",
     "output_type": "stream",
     "text": [
      "\r",
      "3.1%"
     ]
    },
    {
     "name": "stderr",
     "output_type": "stream",
     "text": [
      "\r",
      "3.2%"
     ]
    },
    {
     "name": "stderr",
     "output_type": "stream",
     "text": [
      "\r",
      "3.3%"
     ]
    },
    {
     "name": "stderr",
     "output_type": "stream",
     "text": [
      "\r",
      "3.4%"
     ]
    },
    {
     "name": "stderr",
     "output_type": "stream",
     "text": [
      "\r",
      "3.5%"
     ]
    },
    {
     "name": "stderr",
     "output_type": "stream",
     "text": [
      "\r",
      "3.6%"
     ]
    },
    {
     "name": "stderr",
     "output_type": "stream",
     "text": [
      "\r",
      "3.6%"
     ]
    },
    {
     "name": "stderr",
     "output_type": "stream",
     "text": [
      "\r",
      "3.7%"
     ]
    },
    {
     "name": "stderr",
     "output_type": "stream",
     "text": [
      "\r",
      "3.8%"
     ]
    },
    {
     "name": "stderr",
     "output_type": "stream",
     "text": [
      "\r",
      "3.9%"
     ]
    },
    {
     "name": "stderr",
     "output_type": "stream",
     "text": [
      "\r",
      "4.0%"
     ]
    },
    {
     "name": "stderr",
     "output_type": "stream",
     "text": [
      "\r",
      "4.0%"
     ]
    },
    {
     "name": "stderr",
     "output_type": "stream",
     "text": [
      "\r",
      "4.1%"
     ]
    },
    {
     "name": "stderr",
     "output_type": "stream",
     "text": [
      "\r",
      "4.2%"
     ]
    },
    {
     "name": "stderr",
     "output_type": "stream",
     "text": [
      "\r",
      "4.3%"
     ]
    },
    {
     "name": "stderr",
     "output_type": "stream",
     "text": [
      "\r",
      "4.4%"
     ]
    },
    {
     "name": "stderr",
     "output_type": "stream",
     "text": [
      "\r",
      "4.5%"
     ]
    },
    {
     "name": "stderr",
     "output_type": "stream",
     "text": [
      "\r",
      "4.5%"
     ]
    },
    {
     "name": "stderr",
     "output_type": "stream",
     "text": [
      "\r",
      "4.6%"
     ]
    },
    {
     "name": "stderr",
     "output_type": "stream",
     "text": [
      "\r",
      "4.7%"
     ]
    },
    {
     "name": "stderr",
     "output_type": "stream",
     "text": [
      "\r",
      "4.8%"
     ]
    },
    {
     "name": "stderr",
     "output_type": "stream",
     "text": [
      "\r",
      "4.9%"
     ]
    },
    {
     "name": "stderr",
     "output_type": "stream",
     "text": [
      "\r",
      "5.0%"
     ]
    },
    {
     "name": "stderr",
     "output_type": "stream",
     "text": [
      "\r",
      "5.0%"
     ]
    },
    {
     "name": "stderr",
     "output_type": "stream",
     "text": [
      "\r",
      "5.1%"
     ]
    },
    {
     "name": "stderr",
     "output_type": "stream",
     "text": [
      "\r",
      "5.2%"
     ]
    },
    {
     "name": "stderr",
     "output_type": "stream",
     "text": [
      "\r",
      "5.3%"
     ]
    },
    {
     "name": "stderr",
     "output_type": "stream",
     "text": [
      "\r",
      "5.4%"
     ]
    },
    {
     "name": "stderr",
     "output_type": "stream",
     "text": [
      "\r",
      "5.5%"
     ]
    },
    {
     "name": "stderr",
     "output_type": "stream",
     "text": [
      "\r",
      "5.5%"
     ]
    },
    {
     "name": "stderr",
     "output_type": "stream",
     "text": [
      "\r",
      "5.6%"
     ]
    },
    {
     "name": "stderr",
     "output_type": "stream",
     "text": [
      "\r",
      "5.7%"
     ]
    },
    {
     "name": "stderr",
     "output_type": "stream",
     "text": [
      "\r",
      "5.8%"
     ]
    },
    {
     "name": "stderr",
     "output_type": "stream",
     "text": [
      "\r",
      "5.9%"
     ]
    },
    {
     "name": "stderr",
     "output_type": "stream",
     "text": [
      "\r",
      "6.0%"
     ]
    },
    {
     "name": "stderr",
     "output_type": "stream",
     "text": [
      "\r",
      "6.0%"
     ]
    },
    {
     "name": "stderr",
     "output_type": "stream",
     "text": [
      "\r",
      "6.1%"
     ]
    },
    {
     "name": "stderr",
     "output_type": "stream",
     "text": [
      "\r",
      "6.2%"
     ]
    },
    {
     "name": "stderr",
     "output_type": "stream",
     "text": [
      "\r",
      "6.3%"
     ]
    },
    {
     "name": "stderr",
     "output_type": "stream",
     "text": [
      "\r",
      "6.4%"
     ]
    },
    {
     "name": "stderr",
     "output_type": "stream",
     "text": [
      "\r",
      "6.4%"
     ]
    },
    {
     "name": "stderr",
     "output_type": "stream",
     "text": [
      "\r",
      "6.5%"
     ]
    },
    {
     "name": "stderr",
     "output_type": "stream",
     "text": [
      "\r",
      "6.6%"
     ]
    },
    {
     "name": "stderr",
     "output_type": "stream",
     "text": [
      "\r",
      "6.7%"
     ]
    },
    {
     "name": "stderr",
     "output_type": "stream",
     "text": [
      "\r",
      "6.8%"
     ]
    },
    {
     "name": "stderr",
     "output_type": "stream",
     "text": [
      "\r",
      "6.9%"
     ]
    },
    {
     "name": "stderr",
     "output_type": "stream",
     "text": [
      "\r",
      "6.9%"
     ]
    },
    {
     "name": "stderr",
     "output_type": "stream",
     "text": [
      "\r",
      "7.0%"
     ]
    },
    {
     "name": "stderr",
     "output_type": "stream",
     "text": [
      "\r",
      "7.1%"
     ]
    },
    {
     "name": "stderr",
     "output_type": "stream",
     "text": [
      "\r",
      "7.2%"
     ]
    },
    {
     "name": "stderr",
     "output_type": "stream",
     "text": [
      "\r",
      "7.3%"
     ]
    },
    {
     "name": "stderr",
     "output_type": "stream",
     "text": [
      "\r",
      "7.4%"
     ]
    },
    {
     "name": "stderr",
     "output_type": "stream",
     "text": [
      "\r",
      "7.4%"
     ]
    },
    {
     "name": "stderr",
     "output_type": "stream",
     "text": [
      "\r",
      "7.5%"
     ]
    },
    {
     "name": "stderr",
     "output_type": "stream",
     "text": [
      "\r",
      "7.6%"
     ]
    },
    {
     "name": "stderr",
     "output_type": "stream",
     "text": [
      "\r",
      "7.7%"
     ]
    },
    {
     "name": "stderr",
     "output_type": "stream",
     "text": [
      "\r",
      "7.8%"
     ]
    },
    {
     "name": "stderr",
     "output_type": "stream",
     "text": [
      "\r",
      "7.9%"
     ]
    },
    {
     "name": "stderr",
     "output_type": "stream",
     "text": [
      "\r",
      "7.9%"
     ]
    },
    {
     "name": "stderr",
     "output_type": "stream",
     "text": [
      "\r",
      "8.0%"
     ]
    },
    {
     "name": "stderr",
     "output_type": "stream",
     "text": [
      "\r",
      "8.1%"
     ]
    },
    {
     "name": "stderr",
     "output_type": "stream",
     "text": [
      "\r",
      "8.2%"
     ]
    },
    {
     "name": "stderr",
     "output_type": "stream",
     "text": [
      "\r",
      "8.3%"
     ]
    },
    {
     "name": "stderr",
     "output_type": "stream",
     "text": [
      "\r",
      "8.3%"
     ]
    },
    {
     "name": "stderr",
     "output_type": "stream",
     "text": [
      "\r",
      "8.4%"
     ]
    },
    {
     "name": "stderr",
     "output_type": "stream",
     "text": [
      "\r",
      "8.5%"
     ]
    },
    {
     "name": "stderr",
     "output_type": "stream",
     "text": [
      "\r",
      "8.6%"
     ]
    },
    {
     "name": "stderr",
     "output_type": "stream",
     "text": [
      "\r",
      "8.7%"
     ]
    },
    {
     "name": "stderr",
     "output_type": "stream",
     "text": [
      "\r",
      "8.8%"
     ]
    },
    {
     "name": "stderr",
     "output_type": "stream",
     "text": [
      "\r",
      "8.8%"
     ]
    },
    {
     "name": "stderr",
     "output_type": "stream",
     "text": [
      "\r",
      "8.9%"
     ]
    },
    {
     "name": "stderr",
     "output_type": "stream",
     "text": [
      "\r",
      "9.0%"
     ]
    },
    {
     "name": "stderr",
     "output_type": "stream",
     "text": [
      "\r",
      "9.1%"
     ]
    },
    {
     "name": "stderr",
     "output_type": "stream",
     "text": [
      "\r",
      "9.2%"
     ]
    },
    {
     "name": "stderr",
     "output_type": "stream",
     "text": [
      "\r",
      "9.3%"
     ]
    },
    {
     "name": "stderr",
     "output_type": "stream",
     "text": [
      "\r",
      "9.3%"
     ]
    },
    {
     "name": "stderr",
     "output_type": "stream",
     "text": [
      "\r",
      "9.4%"
     ]
    },
    {
     "name": "stderr",
     "output_type": "stream",
     "text": [
      "\r",
      "9.5%"
     ]
    },
    {
     "name": "stderr",
     "output_type": "stream",
     "text": [
      "\r",
      "9.6%"
     ]
    },
    {
     "name": "stderr",
     "output_type": "stream",
     "text": [
      "\r",
      "9.7%"
     ]
    },
    {
     "name": "stderr",
     "output_type": "stream",
     "text": [
      "\r",
      "9.8%"
     ]
    },
    {
     "name": "stderr",
     "output_type": "stream",
     "text": [
      "\r",
      "9.8%"
     ]
    },
    {
     "name": "stderr",
     "output_type": "stream",
     "text": [
      "\r",
      "9.9%"
     ]
    },
    {
     "name": "stderr",
     "output_type": "stream",
     "text": [
      "\r",
      "10.0%"
     ]
    },
    {
     "name": "stderr",
     "output_type": "stream",
     "text": [
      "\r",
      "10.1%"
     ]
    },
    {
     "name": "stderr",
     "output_type": "stream",
     "text": [
      "\r",
      "10.2%"
     ]
    },
    {
     "name": "stderr",
     "output_type": "stream",
     "text": [
      "\r",
      "10.2%"
     ]
    },
    {
     "name": "stderr",
     "output_type": "stream",
     "text": [
      "\r",
      "10.3%"
     ]
    },
    {
     "name": "stderr",
     "output_type": "stream",
     "text": [
      "\r",
      "10.4%"
     ]
    },
    {
     "name": "stderr",
     "output_type": "stream",
     "text": [
      "\r",
      "10.5%"
     ]
    },
    {
     "name": "stderr",
     "output_type": "stream",
     "text": [
      "\r",
      "10.6%"
     ]
    },
    {
     "name": "stderr",
     "output_type": "stream",
     "text": [
      "\r",
      "10.7%"
     ]
    },
    {
     "name": "stderr",
     "output_type": "stream",
     "text": [
      "\r",
      "10.7%"
     ]
    },
    {
     "name": "stderr",
     "output_type": "stream",
     "text": [
      "\r",
      "10.8%"
     ]
    },
    {
     "name": "stderr",
     "output_type": "stream",
     "text": [
      "\r",
      "10.9%"
     ]
    },
    {
     "name": "stderr",
     "output_type": "stream",
     "text": [
      "\r",
      "11.0%"
     ]
    },
    {
     "name": "stderr",
     "output_type": "stream",
     "text": [
      "\r",
      "11.1%"
     ]
    },
    {
     "name": "stderr",
     "output_type": "stream",
     "text": [
      "\r",
      "11.2%"
     ]
    },
    {
     "name": "stderr",
     "output_type": "stream",
     "text": [
      "\r",
      "11.2%"
     ]
    },
    {
     "name": "stderr",
     "output_type": "stream",
     "text": [
      "\r",
      "11.3%"
     ]
    },
    {
     "name": "stderr",
     "output_type": "stream",
     "text": [
      "\r",
      "11.4%"
     ]
    },
    {
     "name": "stderr",
     "output_type": "stream",
     "text": [
      "\r",
      "11.5%"
     ]
    },
    {
     "name": "stderr",
     "output_type": "stream",
     "text": [
      "\r",
      "11.6%"
     ]
    },
    {
     "name": "stderr",
     "output_type": "stream",
     "text": [
      "\r",
      "11.7%"
     ]
    },
    {
     "name": "stderr",
     "output_type": "stream",
     "text": [
      "\r",
      "11.7%"
     ]
    },
    {
     "name": "stderr",
     "output_type": "stream",
     "text": [
      "\r",
      "11.8%"
     ]
    },
    {
     "name": "stderr",
     "output_type": "stream",
     "text": [
      "\r",
      "11.9%"
     ]
    },
    {
     "name": "stderr",
     "output_type": "stream",
     "text": [
      "\r",
      "12.0%"
     ]
    },
    {
     "name": "stderr",
     "output_type": "stream",
     "text": [
      "\r",
      "12.1%"
     ]
    },
    {
     "name": "stderr",
     "output_type": "stream",
     "text": [
      "\r",
      "12.1%"
     ]
    },
    {
     "name": "stderr",
     "output_type": "stream",
     "text": [
      "\r",
      "12.2%"
     ]
    },
    {
     "name": "stderr",
     "output_type": "stream",
     "text": [
      "\r",
      "12.3%"
     ]
    },
    {
     "name": "stderr",
     "output_type": "stream",
     "text": [
      "\r",
      "12.4%"
     ]
    },
    {
     "name": "stderr",
     "output_type": "stream",
     "text": [
      "\r",
      "12.5%"
     ]
    },
    {
     "name": "stderr",
     "output_type": "stream",
     "text": [
      "\r",
      "12.6%"
     ]
    },
    {
     "name": "stderr",
     "output_type": "stream",
     "text": [
      "\r",
      "12.6%"
     ]
    },
    {
     "name": "stderr",
     "output_type": "stream",
     "text": [
      "\r",
      "12.7%"
     ]
    },
    {
     "name": "stderr",
     "output_type": "stream",
     "text": [
      "\r",
      "12.8%"
     ]
    },
    {
     "name": "stderr",
     "output_type": "stream",
     "text": [
      "\r",
      "12.9%"
     ]
    },
    {
     "name": "stderr",
     "output_type": "stream",
     "text": [
      "\r",
      "13.0%"
     ]
    },
    {
     "name": "stderr",
     "output_type": "stream",
     "text": [
      "\r",
      "13.1%"
     ]
    },
    {
     "name": "stderr",
     "output_type": "stream",
     "text": [
      "\r",
      "13.1%"
     ]
    },
    {
     "name": "stderr",
     "output_type": "stream",
     "text": [
      "\r",
      "13.2%"
     ]
    },
    {
     "name": "stderr",
     "output_type": "stream",
     "text": [
      "\r",
      "13.3%"
     ]
    },
    {
     "name": "stderr",
     "output_type": "stream",
     "text": [
      "\r",
      "13.4%"
     ]
    },
    {
     "name": "stderr",
     "output_type": "stream",
     "text": [
      "\r",
      "13.5%"
     ]
    },
    {
     "name": "stderr",
     "output_type": "stream",
     "text": [
      "\r",
      "13.6%"
     ]
    },
    {
     "name": "stderr",
     "output_type": "stream",
     "text": [
      "\r",
      "13.6%"
     ]
    },
    {
     "name": "stderr",
     "output_type": "stream",
     "text": [
      "\r",
      "13.7%"
     ]
    },
    {
     "name": "stderr",
     "output_type": "stream",
     "text": [
      "\r",
      "13.8%"
     ]
    },
    {
     "name": "stderr",
     "output_type": "stream",
     "text": [
      "\r",
      "13.9%"
     ]
    },
    {
     "name": "stderr",
     "output_type": "stream",
     "text": [
      "\r",
      "14.0%"
     ]
    },
    {
     "name": "stderr",
     "output_type": "stream",
     "text": [
      "\r",
      "14.0%"
     ]
    },
    {
     "name": "stderr",
     "output_type": "stream",
     "text": [
      "\r",
      "14.1%"
     ]
    },
    {
     "name": "stderr",
     "output_type": "stream",
     "text": [
      "\r",
      "14.2%"
     ]
    },
    {
     "name": "stderr",
     "output_type": "stream",
     "text": [
      "\r",
      "14.3%"
     ]
    },
    {
     "name": "stderr",
     "output_type": "stream",
     "text": [
      "\r",
      "14.4%"
     ]
    },
    {
     "name": "stderr",
     "output_type": "stream",
     "text": [
      "\r",
      "14.5%"
     ]
    },
    {
     "name": "stderr",
     "output_type": "stream",
     "text": [
      "\r",
      "14.5%"
     ]
    },
    {
     "name": "stderr",
     "output_type": "stream",
     "text": [
      "\r",
      "14.6%"
     ]
    },
    {
     "name": "stderr",
     "output_type": "stream",
     "text": [
      "\r",
      "14.7%"
     ]
    },
    {
     "name": "stderr",
     "output_type": "stream",
     "text": [
      "\r",
      "14.8%"
     ]
    },
    {
     "name": "stderr",
     "output_type": "stream",
     "text": [
      "\r",
      "14.9%"
     ]
    },
    {
     "name": "stderr",
     "output_type": "stream",
     "text": [
      "\r",
      "15.0%"
     ]
    },
    {
     "name": "stderr",
     "output_type": "stream",
     "text": [
      "\r",
      "15.0%"
     ]
    },
    {
     "name": "stderr",
     "output_type": "stream",
     "text": [
      "\r",
      "15.1%"
     ]
    },
    {
     "name": "stderr",
     "output_type": "stream",
     "text": [
      "\r",
      "15.2%"
     ]
    },
    {
     "name": "stderr",
     "output_type": "stream",
     "text": [
      "\r",
      "15.3%"
     ]
    },
    {
     "name": "stderr",
     "output_type": "stream",
     "text": [
      "\r",
      "15.4%"
     ]
    },
    {
     "name": "stderr",
     "output_type": "stream",
     "text": [
      "\r",
      "15.5%"
     ]
    },
    {
     "name": "stderr",
     "output_type": "stream",
     "text": [
      "\r",
      "15.5%"
     ]
    },
    {
     "name": "stderr",
     "output_type": "stream",
     "text": [
      "\r",
      "15.6%"
     ]
    },
    {
     "name": "stderr",
     "output_type": "stream",
     "text": [
      "\r",
      "15.7%"
     ]
    },
    {
     "name": "stderr",
     "output_type": "stream",
     "text": [
      "\r",
      "15.8%"
     ]
    },
    {
     "name": "stderr",
     "output_type": "stream",
     "text": [
      "\r",
      "15.9%"
     ]
    },
    {
     "name": "stderr",
     "output_type": "stream",
     "text": [
      "\r",
      "16.0%"
     ]
    },
    {
     "name": "stderr",
     "output_type": "stream",
     "text": [
      "\r",
      "16.0%"
     ]
    },
    {
     "name": "stderr",
     "output_type": "stream",
     "text": [
      "\r",
      "16.1%"
     ]
    },
    {
     "name": "stderr",
     "output_type": "stream",
     "text": [
      "\r",
      "16.2%"
     ]
    },
    {
     "name": "stderr",
     "output_type": "stream",
     "text": [
      "\r",
      "16.3%"
     ]
    },
    {
     "name": "stderr",
     "output_type": "stream",
     "text": [
      "\r",
      "16.4%"
     ]
    },
    {
     "name": "stderr",
     "output_type": "stream",
     "text": [
      "\r",
      "16.4%"
     ]
    },
    {
     "name": "stderr",
     "output_type": "stream",
     "text": [
      "\r",
      "16.5%"
     ]
    },
    {
     "name": "stderr",
     "output_type": "stream",
     "text": [
      "\r",
      "16.6%"
     ]
    },
    {
     "name": "stderr",
     "output_type": "stream",
     "text": [
      "\r",
      "16.7%"
     ]
    },
    {
     "name": "stderr",
     "output_type": "stream",
     "text": [
      "\r",
      "16.8%"
     ]
    },
    {
     "name": "stderr",
     "output_type": "stream",
     "text": [
      "\r",
      "16.9%"
     ]
    },
    {
     "name": "stderr",
     "output_type": "stream",
     "text": [
      "\r",
      "16.9%"
     ]
    },
    {
     "name": "stderr",
     "output_type": "stream",
     "text": [
      "\r",
      "17.0%"
     ]
    },
    {
     "name": "stderr",
     "output_type": "stream",
     "text": [
      "\r",
      "17.1%"
     ]
    },
    {
     "name": "stderr",
     "output_type": "stream",
     "text": [
      "\r",
      "17.2%"
     ]
    },
    {
     "name": "stderr",
     "output_type": "stream",
     "text": [
      "\r",
      "17.3%"
     ]
    },
    {
     "name": "stderr",
     "output_type": "stream",
     "text": [
      "\r",
      "17.4%"
     ]
    },
    {
     "name": "stderr",
     "output_type": "stream",
     "text": [
      "\r",
      "17.4%"
     ]
    },
    {
     "name": "stderr",
     "output_type": "stream",
     "text": [
      "\r",
      "17.5%"
     ]
    },
    {
     "name": "stderr",
     "output_type": "stream",
     "text": [
      "\r",
      "17.6%"
     ]
    },
    {
     "name": "stderr",
     "output_type": "stream",
     "text": [
      "\r",
      "17.7%"
     ]
    },
    {
     "name": "stderr",
     "output_type": "stream",
     "text": [
      "\r",
      "17.8%"
     ]
    },
    {
     "name": "stderr",
     "output_type": "stream",
     "text": [
      "\r",
      "17.9%"
     ]
    },
    {
     "name": "stderr",
     "output_type": "stream",
     "text": [
      "\r",
      "17.9%"
     ]
    },
    {
     "name": "stderr",
     "output_type": "stream",
     "text": [
      "\r",
      "18.0%"
     ]
    },
    {
     "name": "stderr",
     "output_type": "stream",
     "text": [
      "\r",
      "18.1%"
     ]
    },
    {
     "name": "stderr",
     "output_type": "stream",
     "text": [
      "\r",
      "18.2%"
     ]
    },
    {
     "name": "stderr",
     "output_type": "stream",
     "text": [
      "\r",
      "18.3%"
     ]
    },
    {
     "name": "stderr",
     "output_type": "stream",
     "text": [
      "\r",
      "18.3%"
     ]
    },
    {
     "name": "stderr",
     "output_type": "stream",
     "text": [
      "\r",
      "18.4%"
     ]
    },
    {
     "name": "stderr",
     "output_type": "stream",
     "text": [
      "\r",
      "18.5%"
     ]
    },
    {
     "name": "stderr",
     "output_type": "stream",
     "text": [
      "\r",
      "18.6%"
     ]
    },
    {
     "name": "stderr",
     "output_type": "stream",
     "text": [
      "\r",
      "18.7%"
     ]
    },
    {
     "name": "stderr",
     "output_type": "stream",
     "text": [
      "\r",
      "18.8%"
     ]
    },
    {
     "name": "stderr",
     "output_type": "stream",
     "text": [
      "\r",
      "18.8%"
     ]
    },
    {
     "name": "stderr",
     "output_type": "stream",
     "text": [
      "\r",
      "18.9%"
     ]
    },
    {
     "name": "stderr",
     "output_type": "stream",
     "text": [
      "\r",
      "19.0%"
     ]
    },
    {
     "name": "stderr",
     "output_type": "stream",
     "text": [
      "\r",
      "19.1%"
     ]
    },
    {
     "name": "stderr",
     "output_type": "stream",
     "text": [
      "\r",
      "19.2%"
     ]
    },
    {
     "name": "stderr",
     "output_type": "stream",
     "text": [
      "\r",
      "19.3%"
     ]
    },
    {
     "name": "stderr",
     "output_type": "stream",
     "text": [
      "\r",
      "19.3%"
     ]
    },
    {
     "name": "stderr",
     "output_type": "stream",
     "text": [
      "\r",
      "19.4%"
     ]
    },
    {
     "name": "stderr",
     "output_type": "stream",
     "text": [
      "\r",
      "19.5%"
     ]
    },
    {
     "name": "stderr",
     "output_type": "stream",
     "text": [
      "\r",
      "19.6%"
     ]
    },
    {
     "name": "stderr",
     "output_type": "stream",
     "text": [
      "\r",
      "19.7%"
     ]
    },
    {
     "name": "stderr",
     "output_type": "stream",
     "text": [
      "\r",
      "19.8%"
     ]
    },
    {
     "name": "stderr",
     "output_type": "stream",
     "text": [
      "\r",
      "19.8%"
     ]
    },
    {
     "name": "stderr",
     "output_type": "stream",
     "text": [
      "\r",
      "19.9%"
     ]
    },
    {
     "name": "stderr",
     "output_type": "stream",
     "text": [
      "\r",
      "20.0%"
     ]
    },
    {
     "name": "stderr",
     "output_type": "stream",
     "text": [
      "\r",
      "20.1%"
     ]
    },
    {
     "name": "stderr",
     "output_type": "stream",
     "text": [
      "\r",
      "20.2%"
     ]
    },
    {
     "name": "stderr",
     "output_type": "stream",
     "text": [
      "\r",
      "20.2%"
     ]
    },
    {
     "name": "stderr",
     "output_type": "stream",
     "text": [
      "\r",
      "20.3%"
     ]
    },
    {
     "name": "stderr",
     "output_type": "stream",
     "text": [
      "\r",
      "20.4%"
     ]
    },
    {
     "name": "stderr",
     "output_type": "stream",
     "text": [
      "\r",
      "20.5%"
     ]
    },
    {
     "name": "stderr",
     "output_type": "stream",
     "text": [
      "\r",
      "20.6%"
     ]
    },
    {
     "name": "stderr",
     "output_type": "stream",
     "text": [
      "\r",
      "20.7%"
     ]
    },
    {
     "name": "stderr",
     "output_type": "stream",
     "text": [
      "\r",
      "20.7%"
     ]
    },
    {
     "name": "stderr",
     "output_type": "stream",
     "text": [
      "\r",
      "20.8%"
     ]
    },
    {
     "name": "stderr",
     "output_type": "stream",
     "text": [
      "\r",
      "20.9%"
     ]
    },
    {
     "name": "stderr",
     "output_type": "stream",
     "text": [
      "\r",
      "21.0%"
     ]
    },
    {
     "name": "stderr",
     "output_type": "stream",
     "text": [
      "\r",
      "21.1%"
     ]
    },
    {
     "name": "stderr",
     "output_type": "stream",
     "text": [
      "\r",
      "21.2%"
     ]
    },
    {
     "name": "stderr",
     "output_type": "stream",
     "text": [
      "\r",
      "21.2%"
     ]
    },
    {
     "name": "stderr",
     "output_type": "stream",
     "text": [
      "\r",
      "21.3%"
     ]
    },
    {
     "name": "stderr",
     "output_type": "stream",
     "text": [
      "\r",
      "21.4%"
     ]
    },
    {
     "name": "stderr",
     "output_type": "stream",
     "text": [
      "\r",
      "21.5%"
     ]
    },
    {
     "name": "stderr",
     "output_type": "stream",
     "text": [
      "\r",
      "21.6%"
     ]
    },
    {
     "name": "stderr",
     "output_type": "stream",
     "text": [
      "\r",
      "21.7%"
     ]
    },
    {
     "name": "stderr",
     "output_type": "stream",
     "text": [
      "\r",
      "21.7%"
     ]
    },
    {
     "name": "stderr",
     "output_type": "stream",
     "text": [
      "\r",
      "21.8%"
     ]
    },
    {
     "name": "stderr",
     "output_type": "stream",
     "text": [
      "\r",
      "21.9%"
     ]
    },
    {
     "name": "stderr",
     "output_type": "stream",
     "text": [
      "\r",
      "22.0%"
     ]
    },
    {
     "name": "stderr",
     "output_type": "stream",
     "text": [
      "\r",
      "22.1%"
     ]
    },
    {
     "name": "stderr",
     "output_type": "stream",
     "text": [
      "\r",
      "22.1%"
     ]
    },
    {
     "name": "stderr",
     "output_type": "stream",
     "text": [
      "\r",
      "22.2%"
     ]
    },
    {
     "name": "stderr",
     "output_type": "stream",
     "text": [
      "\r",
      "22.3%"
     ]
    },
    {
     "name": "stderr",
     "output_type": "stream",
     "text": [
      "\r",
      "22.4%"
     ]
    },
    {
     "name": "stderr",
     "output_type": "stream",
     "text": [
      "\r",
      "22.5%"
     ]
    },
    {
     "name": "stderr",
     "output_type": "stream",
     "text": [
      "\r",
      "22.6%"
     ]
    },
    {
     "name": "stderr",
     "output_type": "stream",
     "text": [
      "\r",
      "22.6%"
     ]
    },
    {
     "name": "stderr",
     "output_type": "stream",
     "text": [
      "\r",
      "22.7%"
     ]
    },
    {
     "name": "stderr",
     "output_type": "stream",
     "text": [
      "\r",
      "22.8%"
     ]
    },
    {
     "name": "stderr",
     "output_type": "stream",
     "text": [
      "\r",
      "22.9%"
     ]
    },
    {
     "name": "stderr",
     "output_type": "stream",
     "text": [
      "\r",
      "23.0%"
     ]
    },
    {
     "name": "stderr",
     "output_type": "stream",
     "text": [
      "\r",
      "23.1%"
     ]
    },
    {
     "name": "stderr",
     "output_type": "stream",
     "text": [
      "\r",
      "23.1%"
     ]
    },
    {
     "name": "stderr",
     "output_type": "stream",
     "text": [
      "\r",
      "23.2%"
     ]
    },
    {
     "name": "stderr",
     "output_type": "stream",
     "text": [
      "\r",
      "23.3%"
     ]
    },
    {
     "name": "stderr",
     "output_type": "stream",
     "text": [
      "\r",
      "23.4%"
     ]
    },
    {
     "name": "stderr",
     "output_type": "stream",
     "text": [
      "\r",
      "23.5%"
     ]
    },
    {
     "name": "stderr",
     "output_type": "stream",
     "text": [
      "\r",
      "23.6%"
     ]
    },
    {
     "name": "stderr",
     "output_type": "stream",
     "text": [
      "\r",
      "23.6%"
     ]
    },
    {
     "name": "stderr",
     "output_type": "stream",
     "text": [
      "\r",
      "23.7%"
     ]
    },
    {
     "name": "stderr",
     "output_type": "stream",
     "text": [
      "\r",
      "23.8%"
     ]
    },
    {
     "name": "stderr",
     "output_type": "stream",
     "text": [
      "\r",
      "23.9%"
     ]
    },
    {
     "name": "stderr",
     "output_type": "stream",
     "text": [
      "\r",
      "24.0%"
     ]
    },
    {
     "name": "stderr",
     "output_type": "stream",
     "text": [
      "\r",
      "24.0%"
     ]
    },
    {
     "name": "stderr",
     "output_type": "stream",
     "text": [
      "\r",
      "24.1%"
     ]
    },
    {
     "name": "stderr",
     "output_type": "stream",
     "text": [
      "\r",
      "24.2%"
     ]
    },
    {
     "name": "stderr",
     "output_type": "stream",
     "text": [
      "\r",
      "24.3%"
     ]
    },
    {
     "name": "stderr",
     "output_type": "stream",
     "text": [
      "\r",
      "24.4%"
     ]
    },
    {
     "name": "stderr",
     "output_type": "stream",
     "text": [
      "\r",
      "24.5%"
     ]
    },
    {
     "name": "stderr",
     "output_type": "stream",
     "text": [
      "\r",
      "24.5%"
     ]
    },
    {
     "name": "stderr",
     "output_type": "stream",
     "text": [
      "\r",
      "24.6%"
     ]
    },
    {
     "name": "stderr",
     "output_type": "stream",
     "text": [
      "\r",
      "24.7%"
     ]
    },
    {
     "name": "stderr",
     "output_type": "stream",
     "text": [
      "\r",
      "24.8%"
     ]
    },
    {
     "name": "stderr",
     "output_type": "stream",
     "text": [
      "\r",
      "24.9%"
     ]
    },
    {
     "name": "stderr",
     "output_type": "stream",
     "text": [
      "\r",
      "25.0%"
     ]
    },
    {
     "name": "stderr",
     "output_type": "stream",
     "text": [
      "\r",
      "25.0%"
     ]
    },
    {
     "name": "stderr",
     "output_type": "stream",
     "text": [
      "\r",
      "25.1%"
     ]
    },
    {
     "name": "stderr",
     "output_type": "stream",
     "text": [
      "\r",
      "25.2%"
     ]
    },
    {
     "name": "stderr",
     "output_type": "stream",
     "text": [
      "\r",
      "25.3%"
     ]
    },
    {
     "name": "stderr",
     "output_type": "stream",
     "text": [
      "\r",
      "25.4%"
     ]
    },
    {
     "name": "stderr",
     "output_type": "stream",
     "text": [
      "\r",
      "25.5%"
     ]
    },
    {
     "name": "stderr",
     "output_type": "stream",
     "text": [
      "\r",
      "25.5%"
     ]
    },
    {
     "name": "stderr",
     "output_type": "stream",
     "text": [
      "\r",
      "25.6%"
     ]
    },
    {
     "name": "stderr",
     "output_type": "stream",
     "text": [
      "\r",
      "25.7%"
     ]
    },
    {
     "name": "stderr",
     "output_type": "stream",
     "text": [
      "\r",
      "25.8%"
     ]
    },
    {
     "name": "stderr",
     "output_type": "stream",
     "text": [
      "\r",
      "25.9%"
     ]
    },
    {
     "name": "stderr",
     "output_type": "stream",
     "text": [
      "\r",
      "26.0%"
     ]
    },
    {
     "name": "stderr",
     "output_type": "stream",
     "text": [
      "\r",
      "26.0%"
     ]
    },
    {
     "name": "stderr",
     "output_type": "stream",
     "text": [
      "\r",
      "26.1%"
     ]
    },
    {
     "name": "stderr",
     "output_type": "stream",
     "text": [
      "\r",
      "26.2%"
     ]
    },
    {
     "name": "stderr",
     "output_type": "stream",
     "text": [
      "\r",
      "26.3%"
     ]
    },
    {
     "name": "stderr",
     "output_type": "stream",
     "text": [
      "\r",
      "26.4%"
     ]
    },
    {
     "name": "stderr",
     "output_type": "stream",
     "text": [
      "\r",
      "26.4%"
     ]
    },
    {
     "name": "stderr",
     "output_type": "stream",
     "text": [
      "\r",
      "26.5%"
     ]
    },
    {
     "name": "stderr",
     "output_type": "stream",
     "text": [
      "\r",
      "26.6%"
     ]
    },
    {
     "name": "stderr",
     "output_type": "stream",
     "text": [
      "\r",
      "26.7%"
     ]
    },
    {
     "name": "stderr",
     "output_type": "stream",
     "text": [
      "\r",
      "26.8%"
     ]
    },
    {
     "name": "stderr",
     "output_type": "stream",
     "text": [
      "\r",
      "26.9%"
     ]
    },
    {
     "name": "stderr",
     "output_type": "stream",
     "text": [
      "\r",
      "26.9%"
     ]
    },
    {
     "name": "stderr",
     "output_type": "stream",
     "text": [
      "\r",
      "27.0%"
     ]
    },
    {
     "name": "stderr",
     "output_type": "stream",
     "text": [
      "\r",
      "27.1%"
     ]
    },
    {
     "name": "stderr",
     "output_type": "stream",
     "text": [
      "\r",
      "27.2%"
     ]
    },
    {
     "name": "stderr",
     "output_type": "stream",
     "text": [
      "\r",
      "27.3%"
     ]
    },
    {
     "name": "stderr",
     "output_type": "stream",
     "text": [
      "\r",
      "27.4%"
     ]
    },
    {
     "name": "stderr",
     "output_type": "stream",
     "text": [
      "\r",
      "27.4%"
     ]
    },
    {
     "name": "stderr",
     "output_type": "stream",
     "text": [
      "\r",
      "27.5%"
     ]
    },
    {
     "name": "stderr",
     "output_type": "stream",
     "text": [
      "\r",
      "27.6%"
     ]
    },
    {
     "name": "stderr",
     "output_type": "stream",
     "text": [
      "\r",
      "27.7%"
     ]
    },
    {
     "name": "stderr",
     "output_type": "stream",
     "text": [
      "\r",
      "27.8%"
     ]
    },
    {
     "name": "stderr",
     "output_type": "stream",
     "text": [
      "\r",
      "27.9%"
     ]
    },
    {
     "name": "stderr",
     "output_type": "stream",
     "text": [
      "\r",
      "27.9%"
     ]
    },
    {
     "name": "stderr",
     "output_type": "stream",
     "text": [
      "\r",
      "28.0%"
     ]
    },
    {
     "name": "stderr",
     "output_type": "stream",
     "text": [
      "\r",
      "28.1%"
     ]
    },
    {
     "name": "stderr",
     "output_type": "stream",
     "text": [
      "\r",
      "28.2%"
     ]
    },
    {
     "name": "stderr",
     "output_type": "stream",
     "text": [
      "\r",
      "28.3%"
     ]
    },
    {
     "name": "stderr",
     "output_type": "stream",
     "text": [
      "\r",
      "28.3%"
     ]
    },
    {
     "name": "stderr",
     "output_type": "stream",
     "text": [
      "\r",
      "28.4%"
     ]
    },
    {
     "name": "stderr",
     "output_type": "stream",
     "text": [
      "\r",
      "28.5%"
     ]
    },
    {
     "name": "stderr",
     "output_type": "stream",
     "text": [
      "\r",
      "28.6%"
     ]
    },
    {
     "name": "stderr",
     "output_type": "stream",
     "text": [
      "\r",
      "28.7%"
     ]
    },
    {
     "name": "stderr",
     "output_type": "stream",
     "text": [
      "\r",
      "28.8%"
     ]
    },
    {
     "name": "stderr",
     "output_type": "stream",
     "text": [
      "\r",
      "28.8%"
     ]
    },
    {
     "name": "stderr",
     "output_type": "stream",
     "text": [
      "\r",
      "28.9%"
     ]
    },
    {
     "name": "stderr",
     "output_type": "stream",
     "text": [
      "\r",
      "29.0%"
     ]
    },
    {
     "name": "stderr",
     "output_type": "stream",
     "text": [
      "\r",
      "29.1%"
     ]
    },
    {
     "name": "stderr",
     "output_type": "stream",
     "text": [
      "\r",
      "29.2%"
     ]
    },
    {
     "name": "stderr",
     "output_type": "stream",
     "text": [
      "\r",
      "29.3%"
     ]
    },
    {
     "name": "stderr",
     "output_type": "stream",
     "text": [
      "\r",
      "29.3%"
     ]
    },
    {
     "name": "stderr",
     "output_type": "stream",
     "text": [
      "\r",
      "29.4%"
     ]
    },
    {
     "name": "stderr",
     "output_type": "stream",
     "text": [
      "\r",
      "29.5%"
     ]
    },
    {
     "name": "stderr",
     "output_type": "stream",
     "text": [
      "\r",
      "29.6%"
     ]
    },
    {
     "name": "stderr",
     "output_type": "stream",
     "text": [
      "\r",
      "29.7%"
     ]
    },
    {
     "name": "stderr",
     "output_type": "stream",
     "text": [
      "\r",
      "29.8%"
     ]
    },
    {
     "name": "stderr",
     "output_type": "stream",
     "text": [
      "\r",
      "29.8%"
     ]
    },
    {
     "name": "stderr",
     "output_type": "stream",
     "text": [
      "\r",
      "29.9%"
     ]
    },
    {
     "name": "stderr",
     "output_type": "stream",
     "text": [
      "\r",
      "30.0%"
     ]
    },
    {
     "name": "stderr",
     "output_type": "stream",
     "text": [
      "\r",
      "30.1%"
     ]
    },
    {
     "name": "stderr",
     "output_type": "stream",
     "text": [
      "\r",
      "30.2%"
     ]
    },
    {
     "name": "stderr",
     "output_type": "stream",
     "text": [
      "\r",
      "30.2%"
     ]
    },
    {
     "name": "stderr",
     "output_type": "stream",
     "text": [
      "\r",
      "30.3%"
     ]
    },
    {
     "name": "stderr",
     "output_type": "stream",
     "text": [
      "\r",
      "30.4%"
     ]
    },
    {
     "name": "stderr",
     "output_type": "stream",
     "text": [
      "\r",
      "30.5%"
     ]
    },
    {
     "name": "stderr",
     "output_type": "stream",
     "text": [
      "\r",
      "30.6%"
     ]
    },
    {
     "name": "stderr",
     "output_type": "stream",
     "text": [
      "\r",
      "30.7%"
     ]
    },
    {
     "name": "stderr",
     "output_type": "stream",
     "text": [
      "\r",
      "30.7%"
     ]
    },
    {
     "name": "stderr",
     "output_type": "stream",
     "text": [
      "\r",
      "30.8%"
     ]
    },
    {
     "name": "stderr",
     "output_type": "stream",
     "text": [
      "\r",
      "30.9%"
     ]
    },
    {
     "name": "stderr",
     "output_type": "stream",
     "text": [
      "\r",
      "31.0%"
     ]
    },
    {
     "name": "stderr",
     "output_type": "stream",
     "text": [
      "\r",
      "31.1%"
     ]
    },
    {
     "name": "stderr",
     "output_type": "stream",
     "text": [
      "\r",
      "31.2%"
     ]
    },
    {
     "name": "stderr",
     "output_type": "stream",
     "text": [
      "\r",
      "31.2%"
     ]
    },
    {
     "name": "stderr",
     "output_type": "stream",
     "text": [
      "\r",
      "31.3%"
     ]
    },
    {
     "name": "stderr",
     "output_type": "stream",
     "text": [
      "\r",
      "31.4%"
     ]
    },
    {
     "name": "stderr",
     "output_type": "stream",
     "text": [
      "\r",
      "31.5%"
     ]
    },
    {
     "name": "stderr",
     "output_type": "stream",
     "text": [
      "\r",
      "31.6%"
     ]
    },
    {
     "name": "stderr",
     "output_type": "stream",
     "text": [
      "\r",
      "31.7%"
     ]
    },
    {
     "name": "stderr",
     "output_type": "stream",
     "text": [
      "\r",
      "31.7%"
     ]
    },
    {
     "name": "stderr",
     "output_type": "stream",
     "text": [
      "\r",
      "31.8%"
     ]
    },
    {
     "name": "stderr",
     "output_type": "stream",
     "text": [
      "\r",
      "31.9%"
     ]
    },
    {
     "name": "stderr",
     "output_type": "stream",
     "text": [
      "\r",
      "32.0%"
     ]
    },
    {
     "name": "stderr",
     "output_type": "stream",
     "text": [
      "\r",
      "32.1%"
     ]
    },
    {
     "name": "stderr",
     "output_type": "stream",
     "text": [
      "\r",
      "32.1%"
     ]
    },
    {
     "name": "stderr",
     "output_type": "stream",
     "text": [
      "\r",
      "32.2%"
     ]
    },
    {
     "name": "stderr",
     "output_type": "stream",
     "text": [
      "\r",
      "32.3%"
     ]
    },
    {
     "name": "stderr",
     "output_type": "stream",
     "text": [
      "\r",
      "32.4%"
     ]
    },
    {
     "name": "stderr",
     "output_type": "stream",
     "text": [
      "\r",
      "32.5%"
     ]
    },
    {
     "name": "stderr",
     "output_type": "stream",
     "text": [
      "\r",
      "32.6%"
     ]
    },
    {
     "name": "stderr",
     "output_type": "stream",
     "text": [
      "\r",
      "32.6%"
     ]
    },
    {
     "name": "stderr",
     "output_type": "stream",
     "text": [
      "\r",
      "32.7%"
     ]
    },
    {
     "name": "stderr",
     "output_type": "stream",
     "text": [
      "\r",
      "32.8%"
     ]
    },
    {
     "name": "stderr",
     "output_type": "stream",
     "text": [
      "\r",
      "32.9%"
     ]
    },
    {
     "name": "stderr",
     "output_type": "stream",
     "text": [
      "\r",
      "33.0%"
     ]
    },
    {
     "name": "stderr",
     "output_type": "stream",
     "text": [
      "\r",
      "33.1%"
     ]
    },
    {
     "name": "stderr",
     "output_type": "stream",
     "text": [
      "\r",
      "33.1%"
     ]
    },
    {
     "name": "stderr",
     "output_type": "stream",
     "text": [
      "\r",
      "33.2%"
     ]
    },
    {
     "name": "stderr",
     "output_type": "stream",
     "text": [
      "\r",
      "33.3%"
     ]
    },
    {
     "name": "stderr",
     "output_type": "stream",
     "text": [
      "\r",
      "33.4%"
     ]
    },
    {
     "name": "stderr",
     "output_type": "stream",
     "text": [
      "\r",
      "33.5%"
     ]
    },
    {
     "name": "stderr",
     "output_type": "stream",
     "text": [
      "\r",
      "33.6%"
     ]
    },
    {
     "name": "stderr",
     "output_type": "stream",
     "text": [
      "\r",
      "33.6%"
     ]
    },
    {
     "name": "stderr",
     "output_type": "stream",
     "text": [
      "\r",
      "33.7%"
     ]
    },
    {
     "name": "stderr",
     "output_type": "stream",
     "text": [
      "\r",
      "33.8%"
     ]
    },
    {
     "name": "stderr",
     "output_type": "stream",
     "text": [
      "\r",
      "33.9%"
     ]
    },
    {
     "name": "stderr",
     "output_type": "stream",
     "text": [
      "\r",
      "34.0%"
     ]
    },
    {
     "name": "stderr",
     "output_type": "stream",
     "text": [
      "\r",
      "34.0%"
     ]
    },
    {
     "name": "stderr",
     "output_type": "stream",
     "text": [
      "\r",
      "34.1%"
     ]
    },
    {
     "name": "stderr",
     "output_type": "stream",
     "text": [
      "\r",
      "34.2%"
     ]
    },
    {
     "name": "stderr",
     "output_type": "stream",
     "text": [
      "\r",
      "34.3%"
     ]
    },
    {
     "name": "stderr",
     "output_type": "stream",
     "text": [
      "\r",
      "34.4%"
     ]
    },
    {
     "name": "stderr",
     "output_type": "stream",
     "text": [
      "\r",
      "34.5%"
     ]
    },
    {
     "name": "stderr",
     "output_type": "stream",
     "text": [
      "\r",
      "34.5%"
     ]
    },
    {
     "name": "stderr",
     "output_type": "stream",
     "text": [
      "\r",
      "34.6%"
     ]
    },
    {
     "name": "stderr",
     "output_type": "stream",
     "text": [
      "\r",
      "34.7%"
     ]
    },
    {
     "name": "stderr",
     "output_type": "stream",
     "text": [
      "\r",
      "34.8%"
     ]
    },
    {
     "name": "stderr",
     "output_type": "stream",
     "text": [
      "\r",
      "34.9%"
     ]
    },
    {
     "name": "stderr",
     "output_type": "stream",
     "text": [
      "\r",
      "35.0%"
     ]
    },
    {
     "name": "stderr",
     "output_type": "stream",
     "text": [
      "\r",
      "35.0%"
     ]
    },
    {
     "name": "stderr",
     "output_type": "stream",
     "text": [
      "\r",
      "35.1%"
     ]
    },
    {
     "name": "stderr",
     "output_type": "stream",
     "text": [
      "\r",
      "35.2%"
     ]
    },
    {
     "name": "stderr",
     "output_type": "stream",
     "text": [
      "\r",
      "35.3%"
     ]
    },
    {
     "name": "stderr",
     "output_type": "stream",
     "text": [
      "\r",
      "35.4%"
     ]
    },
    {
     "name": "stderr",
     "output_type": "stream",
     "text": [
      "\r",
      "35.5%"
     ]
    },
    {
     "name": "stderr",
     "output_type": "stream",
     "text": [
      "\r",
      "35.5%"
     ]
    },
    {
     "name": "stderr",
     "output_type": "stream",
     "text": [
      "\r",
      "35.6%"
     ]
    },
    {
     "name": "stderr",
     "output_type": "stream",
     "text": [
      "\r",
      "35.7%"
     ]
    },
    {
     "name": "stderr",
     "output_type": "stream",
     "text": [
      "\r",
      "35.8%"
     ]
    },
    {
     "name": "stderr",
     "output_type": "stream",
     "text": [
      "\r",
      "35.9%"
     ]
    },
    {
     "name": "stderr",
     "output_type": "stream",
     "text": [
      "\r",
      "36.0%"
     ]
    },
    {
     "name": "stderr",
     "output_type": "stream",
     "text": [
      "\r",
      "36.0%"
     ]
    },
    {
     "name": "stderr",
     "output_type": "stream",
     "text": [
      "\r",
      "36.1%"
     ]
    },
    {
     "name": "stderr",
     "output_type": "stream",
     "text": [
      "\r",
      "36.2%"
     ]
    },
    {
     "name": "stderr",
     "output_type": "stream",
     "text": [
      "\r",
      "36.3%"
     ]
    },
    {
     "name": "stderr",
     "output_type": "stream",
     "text": [
      "\r",
      "36.4%"
     ]
    },
    {
     "name": "stderr",
     "output_type": "stream",
     "text": [
      "\r",
      "36.4%"
     ]
    },
    {
     "name": "stderr",
     "output_type": "stream",
     "text": [
      "\r",
      "36.5%"
     ]
    },
    {
     "name": "stderr",
     "output_type": "stream",
     "text": [
      "\r",
      "36.6%"
     ]
    },
    {
     "name": "stderr",
     "output_type": "stream",
     "text": [
      "\r",
      "36.7%"
     ]
    },
    {
     "name": "stderr",
     "output_type": "stream",
     "text": [
      "\r",
      "36.8%"
     ]
    },
    {
     "name": "stderr",
     "output_type": "stream",
     "text": [
      "\r",
      "36.9%"
     ]
    },
    {
     "name": "stderr",
     "output_type": "stream",
     "text": [
      "\r",
      "36.9%"
     ]
    },
    {
     "name": "stderr",
     "output_type": "stream",
     "text": [
      "\r",
      "37.0%"
     ]
    },
    {
     "name": "stderr",
     "output_type": "stream",
     "text": [
      "\r",
      "37.1%"
     ]
    },
    {
     "name": "stderr",
     "output_type": "stream",
     "text": [
      "\r",
      "37.2%"
     ]
    },
    {
     "name": "stderr",
     "output_type": "stream",
     "text": [
      "\r",
      "37.3%"
     ]
    },
    {
     "name": "stderr",
     "output_type": "stream",
     "text": [
      "\r",
      "37.4%"
     ]
    },
    {
     "name": "stderr",
     "output_type": "stream",
     "text": [
      "\r",
      "37.4%"
     ]
    },
    {
     "name": "stderr",
     "output_type": "stream",
     "text": [
      "\r",
      "37.5%"
     ]
    },
    {
     "name": "stderr",
     "output_type": "stream",
     "text": [
      "\r",
      "37.6%"
     ]
    },
    {
     "name": "stderr",
     "output_type": "stream",
     "text": [
      "\r",
      "37.7%"
     ]
    },
    {
     "name": "stderr",
     "output_type": "stream",
     "text": [
      "\r",
      "37.8%"
     ]
    },
    {
     "name": "stderr",
     "output_type": "stream",
     "text": [
      "\r",
      "37.9%"
     ]
    },
    {
     "name": "stderr",
     "output_type": "stream",
     "text": [
      "\r",
      "37.9%"
     ]
    },
    {
     "name": "stderr",
     "output_type": "stream",
     "text": [
      "\r",
      "38.0%"
     ]
    },
    {
     "name": "stderr",
     "output_type": "stream",
     "text": [
      "\r",
      "38.1%"
     ]
    },
    {
     "name": "stderr",
     "output_type": "stream",
     "text": [
      "\r",
      "38.2%"
     ]
    },
    {
     "name": "stderr",
     "output_type": "stream",
     "text": [
      "\r",
      "38.3%"
     ]
    },
    {
     "name": "stderr",
     "output_type": "stream",
     "text": [
      "\r",
      "38.3%"
     ]
    },
    {
     "name": "stderr",
     "output_type": "stream",
     "text": [
      "\r",
      "38.4%"
     ]
    },
    {
     "name": "stderr",
     "output_type": "stream",
     "text": [
      "\r",
      "38.5%"
     ]
    },
    {
     "name": "stderr",
     "output_type": "stream",
     "text": [
      "\r",
      "38.6%"
     ]
    },
    {
     "name": "stderr",
     "output_type": "stream",
     "text": [
      "\r",
      "38.7%"
     ]
    },
    {
     "name": "stderr",
     "output_type": "stream",
     "text": [
      "\r",
      "38.8%"
     ]
    },
    {
     "name": "stderr",
     "output_type": "stream",
     "text": [
      "\r",
      "38.8%"
     ]
    },
    {
     "name": "stderr",
     "output_type": "stream",
     "text": [
      "\r",
      "38.9%"
     ]
    },
    {
     "name": "stderr",
     "output_type": "stream",
     "text": [
      "\r",
      "39.0%"
     ]
    },
    {
     "name": "stderr",
     "output_type": "stream",
     "text": [
      "\r",
      "39.1%"
     ]
    },
    {
     "name": "stderr",
     "output_type": "stream",
     "text": [
      "\r",
      "39.2%"
     ]
    },
    {
     "name": "stderr",
     "output_type": "stream",
     "text": [
      "\r",
      "39.3%"
     ]
    },
    {
     "name": "stderr",
     "output_type": "stream",
     "text": [
      "\r",
      "39.3%"
     ]
    },
    {
     "name": "stderr",
     "output_type": "stream",
     "text": [
      "\r",
      "39.4%"
     ]
    },
    {
     "name": "stderr",
     "output_type": "stream",
     "text": [
      "\r",
      "39.5%"
     ]
    },
    {
     "name": "stderr",
     "output_type": "stream",
     "text": [
      "\r",
      "39.6%"
     ]
    },
    {
     "name": "stderr",
     "output_type": "stream",
     "text": [
      "\r",
      "39.7%"
     ]
    },
    {
     "name": "stderr",
     "output_type": "stream",
     "text": [
      "\r",
      "39.8%"
     ]
    },
    {
     "name": "stderr",
     "output_type": "stream",
     "text": [
      "\r",
      "39.8%"
     ]
    },
    {
     "name": "stderr",
     "output_type": "stream",
     "text": [
      "\r",
      "39.9%"
     ]
    },
    {
     "name": "stderr",
     "output_type": "stream",
     "text": [
      "\r",
      "40.0%"
     ]
    },
    {
     "name": "stderr",
     "output_type": "stream",
     "text": [
      "\r",
      "40.1%"
     ]
    },
    {
     "name": "stderr",
     "output_type": "stream",
     "text": [
      "\r",
      "40.2%"
     ]
    },
    {
     "name": "stderr",
     "output_type": "stream",
     "text": [
      "\r",
      "40.2%"
     ]
    },
    {
     "name": "stderr",
     "output_type": "stream",
     "text": [
      "\r",
      "40.3%"
     ]
    },
    {
     "name": "stderr",
     "output_type": "stream",
     "text": [
      "\r",
      "40.4%"
     ]
    },
    {
     "name": "stderr",
     "output_type": "stream",
     "text": [
      "\r",
      "40.5%"
     ]
    },
    {
     "name": "stderr",
     "output_type": "stream",
     "text": [
      "\r",
      "40.6%"
     ]
    },
    {
     "name": "stderr",
     "output_type": "stream",
     "text": [
      "\r",
      "40.7%"
     ]
    },
    {
     "name": "stderr",
     "output_type": "stream",
     "text": [
      "\r",
      "40.7%"
     ]
    },
    {
     "name": "stderr",
     "output_type": "stream",
     "text": [
      "\r",
      "40.8%"
     ]
    },
    {
     "name": "stderr",
     "output_type": "stream",
     "text": [
      "\r",
      "40.9%"
     ]
    },
    {
     "name": "stderr",
     "output_type": "stream",
     "text": [
      "\r",
      "41.0%"
     ]
    },
    {
     "name": "stderr",
     "output_type": "stream",
     "text": [
      "\r",
      "41.1%"
     ]
    },
    {
     "name": "stderr",
     "output_type": "stream",
     "text": [
      "\r",
      "41.2%"
     ]
    },
    {
     "name": "stderr",
     "output_type": "stream",
     "text": [
      "\r",
      "41.2%"
     ]
    },
    {
     "name": "stderr",
     "output_type": "stream",
     "text": [
      "\r",
      "41.3%"
     ]
    },
    {
     "name": "stderr",
     "output_type": "stream",
     "text": [
      "\r",
      "41.4%"
     ]
    },
    {
     "name": "stderr",
     "output_type": "stream",
     "text": [
      "\r",
      "41.5%"
     ]
    },
    {
     "name": "stderr",
     "output_type": "stream",
     "text": [
      "\r",
      "41.6%"
     ]
    },
    {
     "name": "stderr",
     "output_type": "stream",
     "text": [
      "\r",
      "41.7%"
     ]
    },
    {
     "name": "stderr",
     "output_type": "stream",
     "text": [
      "\r",
      "41.7%"
     ]
    },
    {
     "name": "stderr",
     "output_type": "stream",
     "text": [
      "\r",
      "41.8%"
     ]
    },
    {
     "name": "stderr",
     "output_type": "stream",
     "text": [
      "\r",
      "41.9%"
     ]
    },
    {
     "name": "stderr",
     "output_type": "stream",
     "text": [
      "\r",
      "42.0%"
     ]
    },
    {
     "name": "stderr",
     "output_type": "stream",
     "text": [
      "\r",
      "42.1%"
     ]
    },
    {
     "name": "stderr",
     "output_type": "stream",
     "text": [
      "\r",
      "42.1%"
     ]
    },
    {
     "name": "stderr",
     "output_type": "stream",
     "text": [
      "\r",
      "42.2%"
     ]
    },
    {
     "name": "stderr",
     "output_type": "stream",
     "text": [
      "\r",
      "42.3%"
     ]
    },
    {
     "name": "stderr",
     "output_type": "stream",
     "text": [
      "\r",
      "42.4%"
     ]
    },
    {
     "name": "stderr",
     "output_type": "stream",
     "text": [
      "\r",
      "42.5%"
     ]
    },
    {
     "name": "stderr",
     "output_type": "stream",
     "text": [
      "\r",
      "42.6%"
     ]
    },
    {
     "name": "stderr",
     "output_type": "stream",
     "text": [
      "\r",
      "42.6%"
     ]
    },
    {
     "name": "stderr",
     "output_type": "stream",
     "text": [
      "\r",
      "42.7%"
     ]
    },
    {
     "name": "stderr",
     "output_type": "stream",
     "text": [
      "\r",
      "42.8%"
     ]
    },
    {
     "name": "stderr",
     "output_type": "stream",
     "text": [
      "\r",
      "42.9%"
     ]
    },
    {
     "name": "stderr",
     "output_type": "stream",
     "text": [
      "\r",
      "43.0%"
     ]
    },
    {
     "name": "stderr",
     "output_type": "stream",
     "text": [
      "\r",
      "43.1%"
     ]
    },
    {
     "name": "stderr",
     "output_type": "stream",
     "text": [
      "\r",
      "43.1%"
     ]
    },
    {
     "name": "stderr",
     "output_type": "stream",
     "text": [
      "\r",
      "43.2%"
     ]
    },
    {
     "name": "stderr",
     "output_type": "stream",
     "text": [
      "\r",
      "43.3%"
     ]
    },
    {
     "name": "stderr",
     "output_type": "stream",
     "text": [
      "\r",
      "43.4%"
     ]
    },
    {
     "name": "stderr",
     "output_type": "stream",
     "text": [
      "\r",
      "43.5%"
     ]
    },
    {
     "name": "stderr",
     "output_type": "stream",
     "text": [
      "\r",
      "43.6%"
     ]
    },
    {
     "name": "stderr",
     "output_type": "stream",
     "text": [
      "\r",
      "43.6%"
     ]
    },
    {
     "name": "stderr",
     "output_type": "stream",
     "text": [
      "\r",
      "43.7%"
     ]
    },
    {
     "name": "stderr",
     "output_type": "stream",
     "text": [
      "\r",
      "43.8%"
     ]
    },
    {
     "name": "stderr",
     "output_type": "stream",
     "text": [
      "\r",
      "43.9%"
     ]
    },
    {
     "name": "stderr",
     "output_type": "stream",
     "text": [
      "\r",
      "44.0%"
     ]
    },
    {
     "name": "stderr",
     "output_type": "stream",
     "text": [
      "\r",
      "44.0%"
     ]
    },
    {
     "name": "stderr",
     "output_type": "stream",
     "text": [
      "\r",
      "44.1%"
     ]
    },
    {
     "name": "stderr",
     "output_type": "stream",
     "text": [
      "\r",
      "44.2%"
     ]
    },
    {
     "name": "stderr",
     "output_type": "stream",
     "text": [
      "\r",
      "44.3%"
     ]
    },
    {
     "name": "stderr",
     "output_type": "stream",
     "text": [
      "\r",
      "44.4%"
     ]
    },
    {
     "name": "stderr",
     "output_type": "stream",
     "text": [
      "\r",
      "44.5%"
     ]
    },
    {
     "name": "stderr",
     "output_type": "stream",
     "text": [
      "\r",
      "44.5%"
     ]
    },
    {
     "name": "stderr",
     "output_type": "stream",
     "text": [
      "\r",
      "44.6%"
     ]
    },
    {
     "name": "stderr",
     "output_type": "stream",
     "text": [
      "\r",
      "44.7%"
     ]
    },
    {
     "name": "stderr",
     "output_type": "stream",
     "text": [
      "\r",
      "44.8%"
     ]
    },
    {
     "name": "stderr",
     "output_type": "stream",
     "text": [
      "\r",
      "44.9%"
     ]
    },
    {
     "name": "stderr",
     "output_type": "stream",
     "text": [
      "\r",
      "45.0%"
     ]
    },
    {
     "name": "stderr",
     "output_type": "stream",
     "text": [
      "\r",
      "45.0%"
     ]
    },
    {
     "name": "stderr",
     "output_type": "stream",
     "text": [
      "\r",
      "45.1%"
     ]
    },
    {
     "name": "stderr",
     "output_type": "stream",
     "text": [
      "\r",
      "45.2%"
     ]
    },
    {
     "name": "stderr",
     "output_type": "stream",
     "text": [
      "\r",
      "45.3%"
     ]
    },
    {
     "name": "stderr",
     "output_type": "stream",
     "text": [
      "\r",
      "45.4%"
     ]
    },
    {
     "name": "stderr",
     "output_type": "stream",
     "text": [
      "\r",
      "45.5%"
     ]
    },
    {
     "name": "stderr",
     "output_type": "stream",
     "text": [
      "\r",
      "45.5%"
     ]
    },
    {
     "name": "stderr",
     "output_type": "stream",
     "text": [
      "\r",
      "45.6%"
     ]
    },
    {
     "name": "stderr",
     "output_type": "stream",
     "text": [
      "\r",
      "45.7%"
     ]
    },
    {
     "name": "stderr",
     "output_type": "stream",
     "text": [
      "\r",
      "45.8%"
     ]
    },
    {
     "name": "stderr",
     "output_type": "stream",
     "text": [
      "\r",
      "45.9%"
     ]
    },
    {
     "name": "stderr",
     "output_type": "stream",
     "text": [
      "\r",
      "45.9%"
     ]
    },
    {
     "name": "stderr",
     "output_type": "stream",
     "text": [
      "\r",
      "46.0%"
     ]
    },
    {
     "name": "stderr",
     "output_type": "stream",
     "text": [
      "\r",
      "46.1%"
     ]
    },
    {
     "name": "stderr",
     "output_type": "stream",
     "text": [
      "\r",
      "46.2%"
     ]
    },
    {
     "name": "stderr",
     "output_type": "stream",
     "text": [
      "\r",
      "46.3%"
     ]
    },
    {
     "name": "stderr",
     "output_type": "stream",
     "text": [
      "\r",
      "46.4%"
     ]
    },
    {
     "name": "stderr",
     "output_type": "stream",
     "text": [
      "\r",
      "46.4%"
     ]
    },
    {
     "name": "stderr",
     "output_type": "stream",
     "text": [
      "\r",
      "46.5%"
     ]
    },
    {
     "name": "stderr",
     "output_type": "stream",
     "text": [
      "\r",
      "46.6%"
     ]
    },
    {
     "name": "stderr",
     "output_type": "stream",
     "text": [
      "\r",
      "46.7%"
     ]
    },
    {
     "name": "stderr",
     "output_type": "stream",
     "text": [
      "\r",
      "46.8%"
     ]
    },
    {
     "name": "stderr",
     "output_type": "stream",
     "text": [
      "\r",
      "46.9%"
     ]
    },
    {
     "name": "stderr",
     "output_type": "stream",
     "text": [
      "\r",
      "46.9%"
     ]
    },
    {
     "name": "stderr",
     "output_type": "stream",
     "text": [
      "\r",
      "47.0%"
     ]
    },
    {
     "name": "stderr",
     "output_type": "stream",
     "text": [
      "\r",
      "47.1%"
     ]
    },
    {
     "name": "stderr",
     "output_type": "stream",
     "text": [
      "\r",
      "47.2%"
     ]
    },
    {
     "name": "stderr",
     "output_type": "stream",
     "text": [
      "\r",
      "47.3%"
     ]
    },
    {
     "name": "stderr",
     "output_type": "stream",
     "text": [
      "\r",
      "47.4%"
     ]
    },
    {
     "name": "stderr",
     "output_type": "stream",
     "text": [
      "\r",
      "47.4%"
     ]
    },
    {
     "name": "stderr",
     "output_type": "stream",
     "text": [
      "\r",
      "47.5%"
     ]
    },
    {
     "name": "stderr",
     "output_type": "stream",
     "text": [
      "\r",
      "47.6%"
     ]
    },
    {
     "name": "stderr",
     "output_type": "stream",
     "text": [
      "\r",
      "47.7%"
     ]
    },
    {
     "name": "stderr",
     "output_type": "stream",
     "text": [
      "\r",
      "47.8%"
     ]
    },
    {
     "name": "stderr",
     "output_type": "stream",
     "text": [
      "\r",
      "47.9%"
     ]
    },
    {
     "name": "stderr",
     "output_type": "stream",
     "text": [
      "\r",
      "47.9%"
     ]
    },
    {
     "name": "stderr",
     "output_type": "stream",
     "text": [
      "\r",
      "48.0%"
     ]
    },
    {
     "name": "stderr",
     "output_type": "stream",
     "text": [
      "\r",
      "48.1%"
     ]
    },
    {
     "name": "stderr",
     "output_type": "stream",
     "text": [
      "\r",
      "48.2%"
     ]
    },
    {
     "name": "stderr",
     "output_type": "stream",
     "text": [
      "\r",
      "48.3%"
     ]
    },
    {
     "name": "stderr",
     "output_type": "stream",
     "text": [
      "\r",
      "48.3%"
     ]
    },
    {
     "name": "stderr",
     "output_type": "stream",
     "text": [
      "\r",
      "48.4%"
     ]
    },
    {
     "name": "stderr",
     "output_type": "stream",
     "text": [
      "\r",
      "48.5%"
     ]
    },
    {
     "name": "stderr",
     "output_type": "stream",
     "text": [
      "\r",
      "48.6%"
     ]
    },
    {
     "name": "stderr",
     "output_type": "stream",
     "text": [
      "\r",
      "48.7%"
     ]
    },
    {
     "name": "stderr",
     "output_type": "stream",
     "text": [
      "\r",
      "48.8%"
     ]
    },
    {
     "name": "stderr",
     "output_type": "stream",
     "text": [
      "\r",
      "48.8%"
     ]
    },
    {
     "name": "stderr",
     "output_type": "stream",
     "text": [
      "\r",
      "48.9%"
     ]
    },
    {
     "name": "stderr",
     "output_type": "stream",
     "text": [
      "\r",
      "49.0%"
     ]
    },
    {
     "name": "stderr",
     "output_type": "stream",
     "text": [
      "\r",
      "49.1%"
     ]
    },
    {
     "name": "stderr",
     "output_type": "stream",
     "text": [
      "\r",
      "49.2%"
     ]
    },
    {
     "name": "stderr",
     "output_type": "stream",
     "text": [
      "\r",
      "49.3%"
     ]
    },
    {
     "name": "stderr",
     "output_type": "stream",
     "text": [
      "\r",
      "49.3%"
     ]
    },
    {
     "name": "stderr",
     "output_type": "stream",
     "text": [
      "\r",
      "49.4%"
     ]
    },
    {
     "name": "stderr",
     "output_type": "stream",
     "text": [
      "\r",
      "49.5%"
     ]
    },
    {
     "name": "stderr",
     "output_type": "stream",
     "text": [
      "\r",
      "49.6%"
     ]
    },
    {
     "name": "stderr",
     "output_type": "stream",
     "text": [
      "\r",
      "49.7%"
     ]
    },
    {
     "name": "stderr",
     "output_type": "stream",
     "text": [
      "\r",
      "49.8%"
     ]
    },
    {
     "name": "stderr",
     "output_type": "stream",
     "text": [
      "\r",
      "49.8%"
     ]
    },
    {
     "name": "stderr",
     "output_type": "stream",
     "text": [
      "\r",
      "49.9%"
     ]
    },
    {
     "name": "stderr",
     "output_type": "stream",
     "text": [
      "\r",
      "50.0%"
     ]
    },
    {
     "name": "stderr",
     "output_type": "stream",
     "text": [
      "\r",
      "50.1%"
     ]
    },
    {
     "name": "stderr",
     "output_type": "stream",
     "text": [
      "\r",
      "50.2%"
     ]
    },
    {
     "name": "stderr",
     "output_type": "stream",
     "text": [
      "\r",
      "50.2%"
     ]
    },
    {
     "name": "stderr",
     "output_type": "stream",
     "text": [
      "\r",
      "50.3%"
     ]
    },
    {
     "name": "stderr",
     "output_type": "stream",
     "text": [
      "\r",
      "50.4%"
     ]
    },
    {
     "name": "stderr",
     "output_type": "stream",
     "text": [
      "\r",
      "50.5%"
     ]
    },
    {
     "name": "stderr",
     "output_type": "stream",
     "text": [
      "\r",
      "50.6%"
     ]
    },
    {
     "name": "stderr",
     "output_type": "stream",
     "text": [
      "\r",
      "50.7%"
     ]
    },
    {
     "name": "stderr",
     "output_type": "stream",
     "text": [
      "\r",
      "50.7%"
     ]
    },
    {
     "name": "stderr",
     "output_type": "stream",
     "text": [
      "\r",
      "50.8%"
     ]
    },
    {
     "name": "stderr",
     "output_type": "stream",
     "text": [
      "\r",
      "50.9%"
     ]
    },
    {
     "name": "stderr",
     "output_type": "stream",
     "text": [
      "\r",
      "51.0%"
     ]
    },
    {
     "name": "stderr",
     "output_type": "stream",
     "text": [
      "\r",
      "51.1%"
     ]
    },
    {
     "name": "stderr",
     "output_type": "stream",
     "text": [
      "\r",
      "51.2%"
     ]
    },
    {
     "name": "stderr",
     "output_type": "stream",
     "text": [
      "\r",
      "51.2%"
     ]
    },
    {
     "name": "stderr",
     "output_type": "stream",
     "text": [
      "\r",
      "51.3%"
     ]
    },
    {
     "name": "stderr",
     "output_type": "stream",
     "text": [
      "\r",
      "51.4%"
     ]
    },
    {
     "name": "stderr",
     "output_type": "stream",
     "text": [
      "\r",
      "51.5%"
     ]
    },
    {
     "name": "stderr",
     "output_type": "stream",
     "text": [
      "\r",
      "51.6%"
     ]
    },
    {
     "name": "stderr",
     "output_type": "stream",
     "text": [
      "\r",
      "51.7%"
     ]
    },
    {
     "name": "stderr",
     "output_type": "stream",
     "text": [
      "\r",
      "51.7%"
     ]
    },
    {
     "name": "stderr",
     "output_type": "stream",
     "text": [
      "\r",
      "51.8%"
     ]
    },
    {
     "name": "stderr",
     "output_type": "stream",
     "text": [
      "\r",
      "51.9%"
     ]
    },
    {
     "name": "stderr",
     "output_type": "stream",
     "text": [
      "\r",
      "52.0%"
     ]
    },
    {
     "name": "stderr",
     "output_type": "stream",
     "text": [
      "\r",
      "52.1%"
     ]
    },
    {
     "name": "stderr",
     "output_type": "stream",
     "text": [
      "\r",
      "52.1%"
     ]
    },
    {
     "name": "stderr",
     "output_type": "stream",
     "text": [
      "\r",
      "52.2%"
     ]
    },
    {
     "name": "stderr",
     "output_type": "stream",
     "text": [
      "\r",
      "52.3%"
     ]
    },
    {
     "name": "stderr",
     "output_type": "stream",
     "text": [
      "\r",
      "52.4%"
     ]
    },
    {
     "name": "stderr",
     "output_type": "stream",
     "text": [
      "\r",
      "52.5%"
     ]
    },
    {
     "name": "stderr",
     "output_type": "stream",
     "text": [
      "\r",
      "52.6%"
     ]
    },
    {
     "name": "stderr",
     "output_type": "stream",
     "text": [
      "\r",
      "52.6%"
     ]
    },
    {
     "name": "stderr",
     "output_type": "stream",
     "text": [
      "\r",
      "52.7%"
     ]
    },
    {
     "name": "stderr",
     "output_type": "stream",
     "text": [
      "\r",
      "52.8%"
     ]
    },
    {
     "name": "stderr",
     "output_type": "stream",
     "text": [
      "\r",
      "52.9%"
     ]
    },
    {
     "name": "stderr",
     "output_type": "stream",
     "text": [
      "\r",
      "53.0%"
     ]
    },
    {
     "name": "stderr",
     "output_type": "stream",
     "text": [
      "\r",
      "53.1%"
     ]
    },
    {
     "name": "stderr",
     "output_type": "stream",
     "text": [
      "\r",
      "53.1%"
     ]
    },
    {
     "name": "stderr",
     "output_type": "stream",
     "text": [
      "\r",
      "53.2%"
     ]
    },
    {
     "name": "stderr",
     "output_type": "stream",
     "text": [
      "\r",
      "53.3%"
     ]
    },
    {
     "name": "stderr",
     "output_type": "stream",
     "text": [
      "\r",
      "53.4%"
     ]
    },
    {
     "name": "stderr",
     "output_type": "stream",
     "text": [
      "\r",
      "53.5%"
     ]
    },
    {
     "name": "stderr",
     "output_type": "stream",
     "text": [
      "\r",
      "53.6%"
     ]
    },
    {
     "name": "stderr",
     "output_type": "stream",
     "text": [
      "\r",
      "53.6%"
     ]
    },
    {
     "name": "stderr",
     "output_type": "stream",
     "text": [
      "\r",
      "53.7%"
     ]
    },
    {
     "name": "stderr",
     "output_type": "stream",
     "text": [
      "\r",
      "53.8%"
     ]
    },
    {
     "name": "stderr",
     "output_type": "stream",
     "text": [
      "\r",
      "53.9%"
     ]
    },
    {
     "name": "stderr",
     "output_type": "stream",
     "text": [
      "\r",
      "54.0%"
     ]
    },
    {
     "name": "stderr",
     "output_type": "stream",
     "text": [
      "\r",
      "54.0%"
     ]
    },
    {
     "name": "stderr",
     "output_type": "stream",
     "text": [
      "\r",
      "54.1%"
     ]
    },
    {
     "name": "stderr",
     "output_type": "stream",
     "text": [
      "\r",
      "54.2%"
     ]
    },
    {
     "name": "stderr",
     "output_type": "stream",
     "text": [
      "\r",
      "54.3%"
     ]
    },
    {
     "name": "stderr",
     "output_type": "stream",
     "text": [
      "\r",
      "54.4%"
     ]
    },
    {
     "name": "stderr",
     "output_type": "stream",
     "text": [
      "\r",
      "54.5%"
     ]
    },
    {
     "name": "stderr",
     "output_type": "stream",
     "text": [
      "\r",
      "54.5%"
     ]
    },
    {
     "name": "stderr",
     "output_type": "stream",
     "text": [
      "\r",
      "54.6%"
     ]
    },
    {
     "name": "stderr",
     "output_type": "stream",
     "text": [
      "\r",
      "54.7%"
     ]
    },
    {
     "name": "stderr",
     "output_type": "stream",
     "text": [
      "\r",
      "54.8%"
     ]
    },
    {
     "name": "stderr",
     "output_type": "stream",
     "text": [
      "\r",
      "54.9%"
     ]
    },
    {
     "name": "stderr",
     "output_type": "stream",
     "text": [
      "\r",
      "55.0%"
     ]
    },
    {
     "name": "stderr",
     "output_type": "stream",
     "text": [
      "\r",
      "55.0%"
     ]
    },
    {
     "name": "stderr",
     "output_type": "stream",
     "text": [
      "\r",
      "55.1%"
     ]
    },
    {
     "name": "stderr",
     "output_type": "stream",
     "text": [
      "\r",
      "55.2%"
     ]
    },
    {
     "name": "stderr",
     "output_type": "stream",
     "text": [
      "\r",
      "55.3%"
     ]
    },
    {
     "name": "stderr",
     "output_type": "stream",
     "text": [
      "\r",
      "55.4%"
     ]
    },
    {
     "name": "stderr",
     "output_type": "stream",
     "text": [
      "\r",
      "55.5%"
     ]
    },
    {
     "name": "stderr",
     "output_type": "stream",
     "text": [
      "\r",
      "55.5%"
     ]
    },
    {
     "name": "stderr",
     "output_type": "stream",
     "text": [
      "\r",
      "55.6%"
     ]
    },
    {
     "name": "stderr",
     "output_type": "stream",
     "text": [
      "\r",
      "55.7%"
     ]
    },
    {
     "name": "stderr",
     "output_type": "stream",
     "text": [
      "\r",
      "55.8%"
     ]
    },
    {
     "name": "stderr",
     "output_type": "stream",
     "text": [
      "\r",
      "55.9%"
     ]
    },
    {
     "name": "stderr",
     "output_type": "stream",
     "text": [
      "\r",
      "55.9%"
     ]
    },
    {
     "name": "stderr",
     "output_type": "stream",
     "text": [
      "\r",
      "56.0%"
     ]
    },
    {
     "name": "stderr",
     "output_type": "stream",
     "text": [
      "\r",
      "56.1%"
     ]
    },
    {
     "name": "stderr",
     "output_type": "stream",
     "text": [
      "\r",
      "56.2%"
     ]
    },
    {
     "name": "stderr",
     "output_type": "stream",
     "text": [
      "\r",
      "56.3%"
     ]
    },
    {
     "name": "stderr",
     "output_type": "stream",
     "text": [
      "\r",
      "56.4%"
     ]
    },
    {
     "name": "stderr",
     "output_type": "stream",
     "text": [
      "\r",
      "56.4%"
     ]
    },
    {
     "name": "stderr",
     "output_type": "stream",
     "text": [
      "\r",
      "56.5%"
     ]
    },
    {
     "name": "stderr",
     "output_type": "stream",
     "text": [
      "\r",
      "56.6%"
     ]
    },
    {
     "name": "stderr",
     "output_type": "stream",
     "text": [
      "\r",
      "56.7%"
     ]
    },
    {
     "name": "stderr",
     "output_type": "stream",
     "text": [
      "\r",
      "56.8%"
     ]
    },
    {
     "name": "stderr",
     "output_type": "stream",
     "text": [
      "\r",
      "56.9%"
     ]
    },
    {
     "name": "stderr",
     "output_type": "stream",
     "text": [
      "\r",
      "56.9%"
     ]
    },
    {
     "name": "stderr",
     "output_type": "stream",
     "text": [
      "\r",
      "57.0%"
     ]
    },
    {
     "name": "stderr",
     "output_type": "stream",
     "text": [
      "\r",
      "57.1%"
     ]
    },
    {
     "name": "stderr",
     "output_type": "stream",
     "text": [
      "\r",
      "57.2%"
     ]
    },
    {
     "name": "stderr",
     "output_type": "stream",
     "text": [
      "\r",
      "57.3%"
     ]
    },
    {
     "name": "stderr",
     "output_type": "stream",
     "text": [
      "\r",
      "57.4%"
     ]
    },
    {
     "name": "stderr",
     "output_type": "stream",
     "text": [
      "\r",
      "57.4%"
     ]
    },
    {
     "name": "stderr",
     "output_type": "stream",
     "text": [
      "\r",
      "57.5%"
     ]
    },
    {
     "name": "stderr",
     "output_type": "stream",
     "text": [
      "\r",
      "57.6%"
     ]
    },
    {
     "name": "stderr",
     "output_type": "stream",
     "text": [
      "\r",
      "57.7%"
     ]
    },
    {
     "name": "stderr",
     "output_type": "stream",
     "text": [
      "\r",
      "57.8%"
     ]
    },
    {
     "name": "stderr",
     "output_type": "stream",
     "text": [
      "\r",
      "57.9%"
     ]
    },
    {
     "name": "stderr",
     "output_type": "stream",
     "text": [
      "\r",
      "57.9%"
     ]
    },
    {
     "name": "stderr",
     "output_type": "stream",
     "text": [
      "\r",
      "58.0%"
     ]
    },
    {
     "name": "stderr",
     "output_type": "stream",
     "text": [
      "\r",
      "58.1%"
     ]
    },
    {
     "name": "stderr",
     "output_type": "stream",
     "text": [
      "\r",
      "58.2%"
     ]
    },
    {
     "name": "stderr",
     "output_type": "stream",
     "text": [
      "\r",
      "58.3%"
     ]
    },
    {
     "name": "stderr",
     "output_type": "stream",
     "text": [
      "\r",
      "58.3%"
     ]
    },
    {
     "name": "stderr",
     "output_type": "stream",
     "text": [
      "\r",
      "58.4%"
     ]
    },
    {
     "name": "stderr",
     "output_type": "stream",
     "text": [
      "\r",
      "58.5%"
     ]
    },
    {
     "name": "stderr",
     "output_type": "stream",
     "text": [
      "\r",
      "58.6%"
     ]
    },
    {
     "name": "stderr",
     "output_type": "stream",
     "text": [
      "\r",
      "58.7%"
     ]
    },
    {
     "name": "stderr",
     "output_type": "stream",
     "text": [
      "\r",
      "58.8%"
     ]
    },
    {
     "name": "stderr",
     "output_type": "stream",
     "text": [
      "\r",
      "58.8%"
     ]
    },
    {
     "name": "stderr",
     "output_type": "stream",
     "text": [
      "\r",
      "58.9%"
     ]
    },
    {
     "name": "stderr",
     "output_type": "stream",
     "text": [
      "\r",
      "59.0%"
     ]
    },
    {
     "name": "stderr",
     "output_type": "stream",
     "text": [
      "\r",
      "59.1%"
     ]
    },
    {
     "name": "stderr",
     "output_type": "stream",
     "text": [
      "\r",
      "59.2%"
     ]
    },
    {
     "name": "stderr",
     "output_type": "stream",
     "text": [
      "\r",
      "59.3%"
     ]
    },
    {
     "name": "stderr",
     "output_type": "stream",
     "text": [
      "\r",
      "59.3%"
     ]
    },
    {
     "name": "stderr",
     "output_type": "stream",
     "text": [
      "\r",
      "59.4%"
     ]
    },
    {
     "name": "stderr",
     "output_type": "stream",
     "text": [
      "\r",
      "59.5%"
     ]
    },
    {
     "name": "stderr",
     "output_type": "stream",
     "text": [
      "\r",
      "59.6%"
     ]
    },
    {
     "name": "stderr",
     "output_type": "stream",
     "text": [
      "\r",
      "59.7%"
     ]
    },
    {
     "name": "stderr",
     "output_type": "stream",
     "text": [
      "\r",
      "59.8%"
     ]
    },
    {
     "name": "stderr",
     "output_type": "stream",
     "text": [
      "\r",
      "59.8%"
     ]
    },
    {
     "name": "stderr",
     "output_type": "stream",
     "text": [
      "\r",
      "59.9%"
     ]
    },
    {
     "name": "stderr",
     "output_type": "stream",
     "text": [
      "\r",
      "60.0%"
     ]
    },
    {
     "name": "stderr",
     "output_type": "stream",
     "text": [
      "\r",
      "60.1%"
     ]
    },
    {
     "name": "stderr",
     "output_type": "stream",
     "text": [
      "\r",
      "60.2%"
     ]
    },
    {
     "name": "stderr",
     "output_type": "stream",
     "text": [
      "\r",
      "60.2%"
     ]
    },
    {
     "name": "stderr",
     "output_type": "stream",
     "text": [
      "\r",
      "60.3%"
     ]
    },
    {
     "name": "stderr",
     "output_type": "stream",
     "text": [
      "\r",
      "60.4%"
     ]
    },
    {
     "name": "stderr",
     "output_type": "stream",
     "text": [
      "\r",
      "60.5%"
     ]
    },
    {
     "name": "stderr",
     "output_type": "stream",
     "text": [
      "\r",
      "60.6%"
     ]
    },
    {
     "name": "stderr",
     "output_type": "stream",
     "text": [
      "\r",
      "60.7%"
     ]
    },
    {
     "name": "stderr",
     "output_type": "stream",
     "text": [
      "\r",
      "60.7%"
     ]
    },
    {
     "name": "stderr",
     "output_type": "stream",
     "text": [
      "\r",
      "60.8%"
     ]
    },
    {
     "name": "stderr",
     "output_type": "stream",
     "text": [
      "\r",
      "60.9%"
     ]
    },
    {
     "name": "stderr",
     "output_type": "stream",
     "text": [
      "\r",
      "61.0%"
     ]
    },
    {
     "name": "stderr",
     "output_type": "stream",
     "text": [
      "\r",
      "61.1%"
     ]
    },
    {
     "name": "stderr",
     "output_type": "stream",
     "text": [
      "\r",
      "61.2%"
     ]
    },
    {
     "name": "stderr",
     "output_type": "stream",
     "text": [
      "\r",
      "61.2%"
     ]
    },
    {
     "name": "stderr",
     "output_type": "stream",
     "text": [
      "\r",
      "61.3%"
     ]
    },
    {
     "name": "stderr",
     "output_type": "stream",
     "text": [
      "\r",
      "61.4%"
     ]
    },
    {
     "name": "stderr",
     "output_type": "stream",
     "text": [
      "\r",
      "61.5%"
     ]
    },
    {
     "name": "stderr",
     "output_type": "stream",
     "text": [
      "\r",
      "61.6%"
     ]
    },
    {
     "name": "stderr",
     "output_type": "stream",
     "text": [
      "\r",
      "61.7%"
     ]
    },
    {
     "name": "stderr",
     "output_type": "stream",
     "text": [
      "\r",
      "61.7%"
     ]
    },
    {
     "name": "stderr",
     "output_type": "stream",
     "text": [
      "\r",
      "61.8%"
     ]
    },
    {
     "name": "stderr",
     "output_type": "stream",
     "text": [
      "\r",
      "61.9%"
     ]
    },
    {
     "name": "stderr",
     "output_type": "stream",
     "text": [
      "\r",
      "62.0%"
     ]
    },
    {
     "name": "stderr",
     "output_type": "stream",
     "text": [
      "\r",
      "62.1%"
     ]
    },
    {
     "name": "stderr",
     "output_type": "stream",
     "text": [
      "\r",
      "62.1%"
     ]
    },
    {
     "name": "stderr",
     "output_type": "stream",
     "text": [
      "\r",
      "62.2%"
     ]
    },
    {
     "name": "stderr",
     "output_type": "stream",
     "text": [
      "\r",
      "62.3%"
     ]
    },
    {
     "name": "stderr",
     "output_type": "stream",
     "text": [
      "\r",
      "62.4%"
     ]
    },
    {
     "name": "stderr",
     "output_type": "stream",
     "text": [
      "\r",
      "62.5%"
     ]
    },
    {
     "name": "stderr",
     "output_type": "stream",
     "text": [
      "\r",
      "62.6%"
     ]
    },
    {
     "name": "stderr",
     "output_type": "stream",
     "text": [
      "\r",
      "62.6%"
     ]
    },
    {
     "name": "stderr",
     "output_type": "stream",
     "text": [
      "\r",
      "62.7%"
     ]
    },
    {
     "name": "stderr",
     "output_type": "stream",
     "text": [
      "\r",
      "62.8%"
     ]
    },
    {
     "name": "stderr",
     "output_type": "stream",
     "text": [
      "\r",
      "62.9%"
     ]
    },
    {
     "name": "stderr",
     "output_type": "stream",
     "text": [
      "\r",
      "63.0%"
     ]
    },
    {
     "name": "stderr",
     "output_type": "stream",
     "text": [
      "\r",
      "63.1%"
     ]
    },
    {
     "name": "stderr",
     "output_type": "stream",
     "text": [
      "\r",
      "63.1%"
     ]
    },
    {
     "name": "stderr",
     "output_type": "stream",
     "text": [
      "\r",
      "63.2%"
     ]
    },
    {
     "name": "stderr",
     "output_type": "stream",
     "text": [
      "\r",
      "63.3%"
     ]
    },
    {
     "name": "stderr",
     "output_type": "stream",
     "text": [
      "\r",
      "63.4%"
     ]
    },
    {
     "name": "stderr",
     "output_type": "stream",
     "text": [
      "\r",
      "63.5%"
     ]
    },
    {
     "name": "stderr",
     "output_type": "stream",
     "text": [
      "\r",
      "63.6%"
     ]
    },
    {
     "name": "stderr",
     "output_type": "stream",
     "text": [
      "\r",
      "63.6%"
     ]
    },
    {
     "name": "stderr",
     "output_type": "stream",
     "text": [
      "\r",
      "63.7%"
     ]
    },
    {
     "name": "stderr",
     "output_type": "stream",
     "text": [
      "\r",
      "63.8%"
     ]
    },
    {
     "name": "stderr",
     "output_type": "stream",
     "text": [
      "\r",
      "63.9%"
     ]
    },
    {
     "name": "stderr",
     "output_type": "stream",
     "text": [
      "\r",
      "64.0%"
     ]
    },
    {
     "name": "stderr",
     "output_type": "stream",
     "text": [
      "\r",
      "64.0%"
     ]
    },
    {
     "name": "stderr",
     "output_type": "stream",
     "text": [
      "\r",
      "64.1%"
     ]
    },
    {
     "name": "stderr",
     "output_type": "stream",
     "text": [
      "\r",
      "64.2%"
     ]
    },
    {
     "name": "stderr",
     "output_type": "stream",
     "text": [
      "\r",
      "64.3%"
     ]
    },
    {
     "name": "stderr",
     "output_type": "stream",
     "text": [
      "\r",
      "64.4%"
     ]
    },
    {
     "name": "stderr",
     "output_type": "stream",
     "text": [
      "\r",
      "64.5%"
     ]
    },
    {
     "name": "stderr",
     "output_type": "stream",
     "text": [
      "\r",
      "64.5%"
     ]
    },
    {
     "name": "stderr",
     "output_type": "stream",
     "text": [
      "\r",
      "64.6%"
     ]
    },
    {
     "name": "stderr",
     "output_type": "stream",
     "text": [
      "\r",
      "64.7%"
     ]
    },
    {
     "name": "stderr",
     "output_type": "stream",
     "text": [
      "\r",
      "64.8%"
     ]
    },
    {
     "name": "stderr",
     "output_type": "stream",
     "text": [
      "\r",
      "64.9%"
     ]
    },
    {
     "name": "stderr",
     "output_type": "stream",
     "text": [
      "\r",
      "65.0%"
     ]
    },
    {
     "name": "stderr",
     "output_type": "stream",
     "text": [
      "\r",
      "65.0%"
     ]
    },
    {
     "name": "stderr",
     "output_type": "stream",
     "text": [
      "\r",
      "65.1%"
     ]
    },
    {
     "name": "stderr",
     "output_type": "stream",
     "text": [
      "\r",
      "65.2%"
     ]
    },
    {
     "name": "stderr",
     "output_type": "stream",
     "text": [
      "\r",
      "65.3%"
     ]
    },
    {
     "name": "stderr",
     "output_type": "stream",
     "text": [
      "\r",
      "65.4%"
     ]
    },
    {
     "name": "stderr",
     "output_type": "stream",
     "text": [
      "\r",
      "65.5%"
     ]
    },
    {
     "name": "stderr",
     "output_type": "stream",
     "text": [
      "\r",
      "65.5%"
     ]
    },
    {
     "name": "stderr",
     "output_type": "stream",
     "text": [
      "\r",
      "65.6%"
     ]
    },
    {
     "name": "stderr",
     "output_type": "stream",
     "text": [
      "\r",
      "65.7%"
     ]
    },
    {
     "name": "stderr",
     "output_type": "stream",
     "text": [
      "\r",
      "65.8%"
     ]
    },
    {
     "name": "stderr",
     "output_type": "stream",
     "text": [
      "\r",
      "65.9%"
     ]
    },
    {
     "name": "stderr",
     "output_type": "stream",
     "text": [
      "\r",
      "65.9%"
     ]
    },
    {
     "name": "stderr",
     "output_type": "stream",
     "text": [
      "\r",
      "66.0%"
     ]
    },
    {
     "name": "stderr",
     "output_type": "stream",
     "text": [
      "\r",
      "66.1%"
     ]
    },
    {
     "name": "stderr",
     "output_type": "stream",
     "text": [
      "\r",
      "66.2%"
     ]
    },
    {
     "name": "stderr",
     "output_type": "stream",
     "text": [
      "\r",
      "66.3%"
     ]
    },
    {
     "name": "stderr",
     "output_type": "stream",
     "text": [
      "\r",
      "66.4%"
     ]
    },
    {
     "name": "stderr",
     "output_type": "stream",
     "text": [
      "\r",
      "66.4%"
     ]
    },
    {
     "name": "stderr",
     "output_type": "stream",
     "text": [
      "\r",
      "66.5%"
     ]
    },
    {
     "name": "stderr",
     "output_type": "stream",
     "text": [
      "\r",
      "66.6%"
     ]
    },
    {
     "name": "stderr",
     "output_type": "stream",
     "text": [
      "\r",
      "66.7%"
     ]
    },
    {
     "name": "stderr",
     "output_type": "stream",
     "text": [
      "\r",
      "66.8%"
     ]
    },
    {
     "name": "stderr",
     "output_type": "stream",
     "text": [
      "\r",
      "66.9%"
     ]
    },
    {
     "name": "stderr",
     "output_type": "stream",
     "text": [
      "\r",
      "66.9%"
     ]
    },
    {
     "name": "stderr",
     "output_type": "stream",
     "text": [
      "\r",
      "67.0%"
     ]
    },
    {
     "name": "stderr",
     "output_type": "stream",
     "text": [
      "\r",
      "67.1%"
     ]
    },
    {
     "name": "stderr",
     "output_type": "stream",
     "text": [
      "\r",
      "67.2%"
     ]
    },
    {
     "name": "stderr",
     "output_type": "stream",
     "text": [
      "\r",
      "67.3%"
     ]
    },
    {
     "name": "stderr",
     "output_type": "stream",
     "text": [
      "\r",
      "67.4%"
     ]
    },
    {
     "name": "stderr",
     "output_type": "stream",
     "text": [
      "\r",
      "67.4%"
     ]
    },
    {
     "name": "stderr",
     "output_type": "stream",
     "text": [
      "\r",
      "67.5%"
     ]
    },
    {
     "name": "stderr",
     "output_type": "stream",
     "text": [
      "\r",
      "67.6%"
     ]
    },
    {
     "name": "stderr",
     "output_type": "stream",
     "text": [
      "\r",
      "67.7%"
     ]
    },
    {
     "name": "stderr",
     "output_type": "stream",
     "text": [
      "\r",
      "67.8%"
     ]
    },
    {
     "name": "stderr",
     "output_type": "stream",
     "text": [
      "\r",
      "67.9%"
     ]
    },
    {
     "name": "stderr",
     "output_type": "stream",
     "text": [
      "\r",
      "67.9%"
     ]
    },
    {
     "name": "stderr",
     "output_type": "stream",
     "text": [
      "\r",
      "68.0%"
     ]
    },
    {
     "name": "stderr",
     "output_type": "stream",
     "text": [
      "\r",
      "68.1%"
     ]
    },
    {
     "name": "stderr",
     "output_type": "stream",
     "text": [
      "\r",
      "68.2%"
     ]
    },
    {
     "name": "stderr",
     "output_type": "stream",
     "text": [
      "\r",
      "68.3%"
     ]
    },
    {
     "name": "stderr",
     "output_type": "stream",
     "text": [
      "\r",
      "68.3%"
     ]
    },
    {
     "name": "stderr",
     "output_type": "stream",
     "text": [
      "\r",
      "68.4%"
     ]
    },
    {
     "name": "stderr",
     "output_type": "stream",
     "text": [
      "\r",
      "68.5%"
     ]
    },
    {
     "name": "stderr",
     "output_type": "stream",
     "text": [
      "\r",
      "68.6%"
     ]
    },
    {
     "name": "stderr",
     "output_type": "stream",
     "text": [
      "\r",
      "68.7%"
     ]
    },
    {
     "name": "stderr",
     "output_type": "stream",
     "text": [
      "\r",
      "68.8%"
     ]
    },
    {
     "name": "stderr",
     "output_type": "stream",
     "text": [
      "\r",
      "68.8%"
     ]
    },
    {
     "name": "stderr",
     "output_type": "stream",
     "text": [
      "\r",
      "68.9%"
     ]
    },
    {
     "name": "stderr",
     "output_type": "stream",
     "text": [
      "\r",
      "69.0%"
     ]
    },
    {
     "name": "stderr",
     "output_type": "stream",
     "text": [
      "\r",
      "69.1%"
     ]
    },
    {
     "name": "stderr",
     "output_type": "stream",
     "text": [
      "\r",
      "69.2%"
     ]
    },
    {
     "name": "stderr",
     "output_type": "stream",
     "text": [
      "\r",
      "69.3%"
     ]
    },
    {
     "name": "stderr",
     "output_type": "stream",
     "text": [
      "\r",
      "69.3%"
     ]
    },
    {
     "name": "stderr",
     "output_type": "stream",
     "text": [
      "\r",
      "69.4%"
     ]
    },
    {
     "name": "stderr",
     "output_type": "stream",
     "text": [
      "\r",
      "69.5%"
     ]
    },
    {
     "name": "stderr",
     "output_type": "stream",
     "text": [
      "\r",
      "69.6%"
     ]
    },
    {
     "name": "stderr",
     "output_type": "stream",
     "text": [
      "\r",
      "69.7%"
     ]
    },
    {
     "name": "stderr",
     "output_type": "stream",
     "text": [
      "\r",
      "69.8%"
     ]
    },
    {
     "name": "stderr",
     "output_type": "stream",
     "text": [
      "\r",
      "69.8%"
     ]
    },
    {
     "name": "stderr",
     "output_type": "stream",
     "text": [
      "\r",
      "69.9%"
     ]
    },
    {
     "name": "stderr",
     "output_type": "stream",
     "text": [
      "\r",
      "70.0%"
     ]
    },
    {
     "name": "stderr",
     "output_type": "stream",
     "text": [
      "\r",
      "70.1%"
     ]
    },
    {
     "name": "stderr",
     "output_type": "stream",
     "text": [
      "\r",
      "70.2%"
     ]
    },
    {
     "name": "stderr",
     "output_type": "stream",
     "text": [
      "\r",
      "70.2%"
     ]
    },
    {
     "name": "stderr",
     "output_type": "stream",
     "text": [
      "\r",
      "70.3%"
     ]
    },
    {
     "name": "stderr",
     "output_type": "stream",
     "text": [
      "\r",
      "70.4%"
     ]
    },
    {
     "name": "stderr",
     "output_type": "stream",
     "text": [
      "\r",
      "70.5%"
     ]
    },
    {
     "name": "stderr",
     "output_type": "stream",
     "text": [
      "\r",
      "70.6%"
     ]
    },
    {
     "name": "stderr",
     "output_type": "stream",
     "text": [
      "\r",
      "70.7%"
     ]
    },
    {
     "name": "stderr",
     "output_type": "stream",
     "text": [
      "\r",
      "70.7%"
     ]
    },
    {
     "name": "stderr",
     "output_type": "stream",
     "text": [
      "\r",
      "70.8%"
     ]
    },
    {
     "name": "stderr",
     "output_type": "stream",
     "text": [
      "\r",
      "70.9%"
     ]
    },
    {
     "name": "stderr",
     "output_type": "stream",
     "text": [
      "\r",
      "71.0%"
     ]
    },
    {
     "name": "stderr",
     "output_type": "stream",
     "text": [
      "\r",
      "71.1%"
     ]
    },
    {
     "name": "stderr",
     "output_type": "stream",
     "text": [
      "\r",
      "71.2%"
     ]
    },
    {
     "name": "stderr",
     "output_type": "stream",
     "text": [
      "\r",
      "71.2%"
     ]
    },
    {
     "name": "stderr",
     "output_type": "stream",
     "text": [
      "\r",
      "71.3%"
     ]
    },
    {
     "name": "stderr",
     "output_type": "stream",
     "text": [
      "\r",
      "71.4%"
     ]
    },
    {
     "name": "stderr",
     "output_type": "stream",
     "text": [
      "\r",
      "71.5%"
     ]
    },
    {
     "name": "stderr",
     "output_type": "stream",
     "text": [
      "\r",
      "71.6%"
     ]
    },
    {
     "name": "stderr",
     "output_type": "stream",
     "text": [
      "\r",
      "71.7%"
     ]
    },
    {
     "name": "stderr",
     "output_type": "stream",
     "text": [
      "\r",
      "71.7%"
     ]
    },
    {
     "name": "stderr",
     "output_type": "stream",
     "text": [
      "\r",
      "71.8%"
     ]
    },
    {
     "name": "stderr",
     "output_type": "stream",
     "text": [
      "\r",
      "71.9%"
     ]
    },
    {
     "name": "stderr",
     "output_type": "stream",
     "text": [
      "\r",
      "72.0%"
     ]
    },
    {
     "name": "stderr",
     "output_type": "stream",
     "text": [
      "\r",
      "72.1%"
     ]
    },
    {
     "name": "stderr",
     "output_type": "stream",
     "text": [
      "\r",
      "72.1%"
     ]
    },
    {
     "name": "stderr",
     "output_type": "stream",
     "text": [
      "\r",
      "72.2%"
     ]
    },
    {
     "name": "stderr",
     "output_type": "stream",
     "text": [
      "\r",
      "72.3%"
     ]
    },
    {
     "name": "stderr",
     "output_type": "stream",
     "text": [
      "\r",
      "72.4%"
     ]
    },
    {
     "name": "stderr",
     "output_type": "stream",
     "text": [
      "\r",
      "72.5%"
     ]
    },
    {
     "name": "stderr",
     "output_type": "stream",
     "text": [
      "\r",
      "72.6%"
     ]
    },
    {
     "name": "stderr",
     "output_type": "stream",
     "text": [
      "\r",
      "72.6%"
     ]
    },
    {
     "name": "stderr",
     "output_type": "stream",
     "text": [
      "\r",
      "72.7%"
     ]
    },
    {
     "name": "stderr",
     "output_type": "stream",
     "text": [
      "\r",
      "72.8%"
     ]
    },
    {
     "name": "stderr",
     "output_type": "stream",
     "text": [
      "\r",
      "72.9%"
     ]
    },
    {
     "name": "stderr",
     "output_type": "stream",
     "text": [
      "\r",
      "73.0%"
     ]
    },
    {
     "name": "stderr",
     "output_type": "stream",
     "text": [
      "\r",
      "73.1%"
     ]
    },
    {
     "name": "stderr",
     "output_type": "stream",
     "text": [
      "\r",
      "73.1%"
     ]
    },
    {
     "name": "stderr",
     "output_type": "stream",
     "text": [
      "\r",
      "73.2%"
     ]
    },
    {
     "name": "stderr",
     "output_type": "stream",
     "text": [
      "\r",
      "73.3%"
     ]
    },
    {
     "name": "stderr",
     "output_type": "stream",
     "text": [
      "\r",
      "73.4%"
     ]
    },
    {
     "name": "stderr",
     "output_type": "stream",
     "text": [
      "\r",
      "73.5%"
     ]
    },
    {
     "name": "stderr",
     "output_type": "stream",
     "text": [
      "\r",
      "73.6%"
     ]
    },
    {
     "name": "stderr",
     "output_type": "stream",
     "text": [
      "\r",
      "73.6%"
     ]
    },
    {
     "name": "stderr",
     "output_type": "stream",
     "text": [
      "\r",
      "73.7%"
     ]
    },
    {
     "name": "stderr",
     "output_type": "stream",
     "text": [
      "\r",
      "73.8%"
     ]
    },
    {
     "name": "stderr",
     "output_type": "stream",
     "text": [
      "\r",
      "73.9%"
     ]
    },
    {
     "name": "stderr",
     "output_type": "stream",
     "text": [
      "\r",
      "74.0%"
     ]
    },
    {
     "name": "stderr",
     "output_type": "stream",
     "text": [
      "\r",
      "74.0%"
     ]
    },
    {
     "name": "stderr",
     "output_type": "stream",
     "text": [
      "\r",
      "74.1%"
     ]
    },
    {
     "name": "stderr",
     "output_type": "stream",
     "text": [
      "\r",
      "74.2%"
     ]
    },
    {
     "name": "stderr",
     "output_type": "stream",
     "text": [
      "\r",
      "74.3%"
     ]
    },
    {
     "name": "stderr",
     "output_type": "stream",
     "text": [
      "\r",
      "74.4%"
     ]
    },
    {
     "name": "stderr",
     "output_type": "stream",
     "text": [
      "\r",
      "74.5%"
     ]
    },
    {
     "name": "stderr",
     "output_type": "stream",
     "text": [
      "\r",
      "74.5%"
     ]
    },
    {
     "name": "stderr",
     "output_type": "stream",
     "text": [
      "\r",
      "74.6%"
     ]
    },
    {
     "name": "stderr",
     "output_type": "stream",
     "text": [
      "\r",
      "74.7%"
     ]
    },
    {
     "name": "stderr",
     "output_type": "stream",
     "text": [
      "\r",
      "74.8%"
     ]
    },
    {
     "name": "stderr",
     "output_type": "stream",
     "text": [
      "\r",
      "74.9%"
     ]
    },
    {
     "name": "stderr",
     "output_type": "stream",
     "text": [
      "\r",
      "75.0%"
     ]
    },
    {
     "name": "stderr",
     "output_type": "stream",
     "text": [
      "\r",
      "75.0%"
     ]
    },
    {
     "name": "stderr",
     "output_type": "stream",
     "text": [
      "\r",
      "75.1%"
     ]
    },
    {
     "name": "stderr",
     "output_type": "stream",
     "text": [
      "\r",
      "75.2%"
     ]
    },
    {
     "name": "stderr",
     "output_type": "stream",
     "text": [
      "\r",
      "75.3%"
     ]
    },
    {
     "name": "stderr",
     "output_type": "stream",
     "text": [
      "\r",
      "75.4%"
     ]
    },
    {
     "name": "stderr",
     "output_type": "stream",
     "text": [
      "\r",
      "75.5%"
     ]
    },
    {
     "name": "stderr",
     "output_type": "stream",
     "text": [
      "\r",
      "75.5%"
     ]
    },
    {
     "name": "stderr",
     "output_type": "stream",
     "text": [
      "\r",
      "75.6%"
     ]
    },
    {
     "name": "stderr",
     "output_type": "stream",
     "text": [
      "\r",
      "75.7%"
     ]
    },
    {
     "name": "stderr",
     "output_type": "stream",
     "text": [
      "\r",
      "75.8%"
     ]
    },
    {
     "name": "stderr",
     "output_type": "stream",
     "text": [
      "\r",
      "75.9%"
     ]
    },
    {
     "name": "stderr",
     "output_type": "stream",
     "text": [
      "\r",
      "75.9%"
     ]
    },
    {
     "name": "stderr",
     "output_type": "stream",
     "text": [
      "\r",
      "76.0%"
     ]
    },
    {
     "name": "stderr",
     "output_type": "stream",
     "text": [
      "\r",
      "76.1%"
     ]
    },
    {
     "name": "stderr",
     "output_type": "stream",
     "text": [
      "\r",
      "76.2%"
     ]
    },
    {
     "name": "stderr",
     "output_type": "stream",
     "text": [
      "\r",
      "76.3%"
     ]
    },
    {
     "name": "stderr",
     "output_type": "stream",
     "text": [
      "\r",
      "76.4%"
     ]
    },
    {
     "name": "stderr",
     "output_type": "stream",
     "text": [
      "\r",
      "76.4%"
     ]
    },
    {
     "name": "stderr",
     "output_type": "stream",
     "text": [
      "\r",
      "76.5%"
     ]
    },
    {
     "name": "stderr",
     "output_type": "stream",
     "text": [
      "\r",
      "76.6%"
     ]
    },
    {
     "name": "stderr",
     "output_type": "stream",
     "text": [
      "\r",
      "76.7%"
     ]
    },
    {
     "name": "stderr",
     "output_type": "stream",
     "text": [
      "\r",
      "76.8%"
     ]
    },
    {
     "name": "stderr",
     "output_type": "stream",
     "text": [
      "\r",
      "76.9%"
     ]
    },
    {
     "name": "stderr",
     "output_type": "stream",
     "text": [
      "\r",
      "76.9%"
     ]
    },
    {
     "name": "stderr",
     "output_type": "stream",
     "text": [
      "\r",
      "77.0%"
     ]
    },
    {
     "name": "stderr",
     "output_type": "stream",
     "text": [
      "\r",
      "77.1%"
     ]
    },
    {
     "name": "stderr",
     "output_type": "stream",
     "text": [
      "\r",
      "77.2%"
     ]
    },
    {
     "name": "stderr",
     "output_type": "stream",
     "text": [
      "\r",
      "77.3%"
     ]
    },
    {
     "name": "stderr",
     "output_type": "stream",
     "text": [
      "\r",
      "77.4%"
     ]
    },
    {
     "name": "stderr",
     "output_type": "stream",
     "text": [
      "\r",
      "77.4%"
     ]
    },
    {
     "name": "stderr",
     "output_type": "stream",
     "text": [
      "\r",
      "77.5%"
     ]
    },
    {
     "name": "stderr",
     "output_type": "stream",
     "text": [
      "\r",
      "77.6%"
     ]
    },
    {
     "name": "stderr",
     "output_type": "stream",
     "text": [
      "\r",
      "77.7%"
     ]
    },
    {
     "name": "stderr",
     "output_type": "stream",
     "text": [
      "\r",
      "77.8%"
     ]
    },
    {
     "name": "stderr",
     "output_type": "stream",
     "text": [
      "\r",
      "77.9%"
     ]
    },
    {
     "name": "stderr",
     "output_type": "stream",
     "text": [
      "\r",
      "77.9%"
     ]
    },
    {
     "name": "stderr",
     "output_type": "stream",
     "text": [
      "\r",
      "78.0%"
     ]
    },
    {
     "name": "stderr",
     "output_type": "stream",
     "text": [
      "\r",
      "78.1%"
     ]
    },
    {
     "name": "stderr",
     "output_type": "stream",
     "text": [
      "\r",
      "78.2%"
     ]
    },
    {
     "name": "stderr",
     "output_type": "stream",
     "text": [
      "\r",
      "78.3%"
     ]
    },
    {
     "name": "stderr",
     "output_type": "stream",
     "text": [
      "\r",
      "78.3%"
     ]
    },
    {
     "name": "stderr",
     "output_type": "stream",
     "text": [
      "\r",
      "78.4%"
     ]
    },
    {
     "name": "stderr",
     "output_type": "stream",
     "text": [
      "\r",
      "78.5%"
     ]
    },
    {
     "name": "stderr",
     "output_type": "stream",
     "text": [
      "\r",
      "78.6%"
     ]
    },
    {
     "name": "stderr",
     "output_type": "stream",
     "text": [
      "\r",
      "78.7%"
     ]
    },
    {
     "name": "stderr",
     "output_type": "stream",
     "text": [
      "\r",
      "78.8%"
     ]
    },
    {
     "name": "stderr",
     "output_type": "stream",
     "text": [
      "\r",
      "78.8%"
     ]
    },
    {
     "name": "stderr",
     "output_type": "stream",
     "text": [
      "\r",
      "78.9%"
     ]
    },
    {
     "name": "stderr",
     "output_type": "stream",
     "text": [
      "\r",
      "79.0%"
     ]
    },
    {
     "name": "stderr",
     "output_type": "stream",
     "text": [
      "\r",
      "79.1%"
     ]
    },
    {
     "name": "stderr",
     "output_type": "stream",
     "text": [
      "\r",
      "79.2%"
     ]
    },
    {
     "name": "stderr",
     "output_type": "stream",
     "text": [
      "\r",
      "79.3%"
     ]
    },
    {
     "name": "stderr",
     "output_type": "stream",
     "text": [
      "\r",
      "79.3%"
     ]
    },
    {
     "name": "stderr",
     "output_type": "stream",
     "text": [
      "\r",
      "79.4%"
     ]
    },
    {
     "name": "stderr",
     "output_type": "stream",
     "text": [
      "\r",
      "79.5%"
     ]
    },
    {
     "name": "stderr",
     "output_type": "stream",
     "text": [
      "\r",
      "79.6%"
     ]
    },
    {
     "name": "stderr",
     "output_type": "stream",
     "text": [
      "\r",
      "79.7%"
     ]
    },
    {
     "name": "stderr",
     "output_type": "stream",
     "text": [
      "\r",
      "79.8%"
     ]
    },
    {
     "name": "stderr",
     "output_type": "stream",
     "text": [
      "\r",
      "79.8%"
     ]
    },
    {
     "name": "stderr",
     "output_type": "stream",
     "text": [
      "\r",
      "79.9%"
     ]
    },
    {
     "name": "stderr",
     "output_type": "stream",
     "text": [
      "\r",
      "80.0%"
     ]
    },
    {
     "name": "stderr",
     "output_type": "stream",
     "text": [
      "\r",
      "80.1%"
     ]
    },
    {
     "name": "stderr",
     "output_type": "stream",
     "text": [
      "\r",
      "80.2%"
     ]
    },
    {
     "name": "stderr",
     "output_type": "stream",
     "text": [
      "\r",
      "80.2%"
     ]
    },
    {
     "name": "stderr",
     "output_type": "stream",
     "text": [
      "\r",
      "80.3%"
     ]
    },
    {
     "name": "stderr",
     "output_type": "stream",
     "text": [
      "\r",
      "80.4%"
     ]
    },
    {
     "name": "stderr",
     "output_type": "stream",
     "text": [
      "\r",
      "80.5%"
     ]
    },
    {
     "name": "stderr",
     "output_type": "stream",
     "text": [
      "\r",
      "80.6%"
     ]
    },
    {
     "name": "stderr",
     "output_type": "stream",
     "text": [
      "\r",
      "80.7%"
     ]
    },
    {
     "name": "stderr",
     "output_type": "stream",
     "text": [
      "\r",
      "80.7%"
     ]
    },
    {
     "name": "stderr",
     "output_type": "stream",
     "text": [
      "\r",
      "80.8%"
     ]
    },
    {
     "name": "stderr",
     "output_type": "stream",
     "text": [
      "\r",
      "80.9%"
     ]
    },
    {
     "name": "stderr",
     "output_type": "stream",
     "text": [
      "\r",
      "81.0%"
     ]
    },
    {
     "name": "stderr",
     "output_type": "stream",
     "text": [
      "\r",
      "81.1%"
     ]
    },
    {
     "name": "stderr",
     "output_type": "stream",
     "text": [
      "\r",
      "81.2%"
     ]
    },
    {
     "name": "stderr",
     "output_type": "stream",
     "text": [
      "\r",
      "81.2%"
     ]
    },
    {
     "name": "stderr",
     "output_type": "stream",
     "text": [
      "\r",
      "81.3%"
     ]
    },
    {
     "name": "stderr",
     "output_type": "stream",
     "text": [
      "\r",
      "81.4%"
     ]
    },
    {
     "name": "stderr",
     "output_type": "stream",
     "text": [
      "\r",
      "81.5%"
     ]
    },
    {
     "name": "stderr",
     "output_type": "stream",
     "text": [
      "\r",
      "81.6%"
     ]
    },
    {
     "name": "stderr",
     "output_type": "stream",
     "text": [
      "\r",
      "81.7%"
     ]
    },
    {
     "name": "stderr",
     "output_type": "stream",
     "text": [
      "\r",
      "81.7%"
     ]
    },
    {
     "name": "stderr",
     "output_type": "stream",
     "text": [
      "\r",
      "81.8%"
     ]
    },
    {
     "name": "stderr",
     "output_type": "stream",
     "text": [
      "\r",
      "81.9%"
     ]
    },
    {
     "name": "stderr",
     "output_type": "stream",
     "text": [
      "\r",
      "82.0%"
     ]
    },
    {
     "name": "stderr",
     "output_type": "stream",
     "text": [
      "\r",
      "82.1%"
     ]
    },
    {
     "name": "stderr",
     "output_type": "stream",
     "text": [
      "\r",
      "82.1%"
     ]
    },
    {
     "name": "stderr",
     "output_type": "stream",
     "text": [
      "\r",
      "82.2%"
     ]
    },
    {
     "name": "stderr",
     "output_type": "stream",
     "text": [
      "\r",
      "82.3%"
     ]
    },
    {
     "name": "stderr",
     "output_type": "stream",
     "text": [
      "\r",
      "82.4%"
     ]
    },
    {
     "name": "stderr",
     "output_type": "stream",
     "text": [
      "\r",
      "82.5%"
     ]
    },
    {
     "name": "stderr",
     "output_type": "stream",
     "text": [
      "\r",
      "82.6%"
     ]
    },
    {
     "name": "stderr",
     "output_type": "stream",
     "text": [
      "\r",
      "82.6%"
     ]
    },
    {
     "name": "stderr",
     "output_type": "stream",
     "text": [
      "\r",
      "82.7%"
     ]
    },
    {
     "name": "stderr",
     "output_type": "stream",
     "text": [
      "\r",
      "82.8%"
     ]
    },
    {
     "name": "stderr",
     "output_type": "stream",
     "text": [
      "\r",
      "82.9%"
     ]
    },
    {
     "name": "stderr",
     "output_type": "stream",
     "text": [
      "\r",
      "83.0%"
     ]
    },
    {
     "name": "stderr",
     "output_type": "stream",
     "text": [
      "\r",
      "83.1%"
     ]
    },
    {
     "name": "stderr",
     "output_type": "stream",
     "text": [
      "\r",
      "83.1%"
     ]
    },
    {
     "name": "stderr",
     "output_type": "stream",
     "text": [
      "\r",
      "83.2%"
     ]
    },
    {
     "name": "stderr",
     "output_type": "stream",
     "text": [
      "\r",
      "83.3%"
     ]
    },
    {
     "name": "stderr",
     "output_type": "stream",
     "text": [
      "\r",
      "83.4%"
     ]
    },
    {
     "name": "stderr",
     "output_type": "stream",
     "text": [
      "\r",
      "83.5%"
     ]
    },
    {
     "name": "stderr",
     "output_type": "stream",
     "text": [
      "\r",
      "83.6%"
     ]
    },
    {
     "name": "stderr",
     "output_type": "stream",
     "text": [
      "\r",
      "83.6%"
     ]
    },
    {
     "name": "stderr",
     "output_type": "stream",
     "text": [
      "\r",
      "83.7%"
     ]
    },
    {
     "name": "stderr",
     "output_type": "stream",
     "text": [
      "\r",
      "83.8%"
     ]
    },
    {
     "name": "stderr",
     "output_type": "stream",
     "text": [
      "\r",
      "83.9%"
     ]
    },
    {
     "name": "stderr",
     "output_type": "stream",
     "text": [
      "\r",
      "84.0%"
     ]
    },
    {
     "name": "stderr",
     "output_type": "stream",
     "text": [
      "\r",
      "84.0%"
     ]
    },
    {
     "name": "stderr",
     "output_type": "stream",
     "text": [
      "\r",
      "84.1%"
     ]
    },
    {
     "name": "stderr",
     "output_type": "stream",
     "text": [
      "\r",
      "84.2%"
     ]
    },
    {
     "name": "stderr",
     "output_type": "stream",
     "text": [
      "\r",
      "84.3%"
     ]
    },
    {
     "name": "stderr",
     "output_type": "stream",
     "text": [
      "\r",
      "84.4%"
     ]
    },
    {
     "name": "stderr",
     "output_type": "stream",
     "text": [
      "\r",
      "84.5%"
     ]
    },
    {
     "name": "stderr",
     "output_type": "stream",
     "text": [
      "\r",
      "84.5%"
     ]
    },
    {
     "name": "stderr",
     "output_type": "stream",
     "text": [
      "\r",
      "84.6%"
     ]
    },
    {
     "name": "stderr",
     "output_type": "stream",
     "text": [
      "\r",
      "84.7%"
     ]
    },
    {
     "name": "stderr",
     "output_type": "stream",
     "text": [
      "\r",
      "84.8%"
     ]
    },
    {
     "name": "stderr",
     "output_type": "stream",
     "text": [
      "\r",
      "84.9%"
     ]
    },
    {
     "name": "stderr",
     "output_type": "stream",
     "text": [
      "\r",
      "85.0%"
     ]
    },
    {
     "name": "stderr",
     "output_type": "stream",
     "text": [
      "\r",
      "85.0%"
     ]
    },
    {
     "name": "stderr",
     "output_type": "stream",
     "text": [
      "\r",
      "85.1%"
     ]
    },
    {
     "name": "stderr",
     "output_type": "stream",
     "text": [
      "\r",
      "85.2%"
     ]
    },
    {
     "name": "stderr",
     "output_type": "stream",
     "text": [
      "\r",
      "85.3%"
     ]
    },
    {
     "name": "stderr",
     "output_type": "stream",
     "text": [
      "\r",
      "85.4%"
     ]
    },
    {
     "name": "stderr",
     "output_type": "stream",
     "text": [
      "\r",
      "85.5%"
     ]
    },
    {
     "name": "stderr",
     "output_type": "stream",
     "text": [
      "\r",
      "85.5%"
     ]
    },
    {
     "name": "stderr",
     "output_type": "stream",
     "text": [
      "\r",
      "85.6%"
     ]
    },
    {
     "name": "stderr",
     "output_type": "stream",
     "text": [
      "\r",
      "85.7%"
     ]
    },
    {
     "name": "stderr",
     "output_type": "stream",
     "text": [
      "\r",
      "85.8%"
     ]
    },
    {
     "name": "stderr",
     "output_type": "stream",
     "text": [
      "\r",
      "85.9%"
     ]
    },
    {
     "name": "stderr",
     "output_type": "stream",
     "text": [
      "\r",
      "85.9%"
     ]
    },
    {
     "name": "stderr",
     "output_type": "stream",
     "text": [
      "\r",
      "86.0%"
     ]
    },
    {
     "name": "stderr",
     "output_type": "stream",
     "text": [
      "\r",
      "86.1%"
     ]
    },
    {
     "name": "stderr",
     "output_type": "stream",
     "text": [
      "\r",
      "86.2%"
     ]
    },
    {
     "name": "stderr",
     "output_type": "stream",
     "text": [
      "\r",
      "86.3%"
     ]
    },
    {
     "name": "stderr",
     "output_type": "stream",
     "text": [
      "\r",
      "86.4%"
     ]
    },
    {
     "name": "stderr",
     "output_type": "stream",
     "text": [
      "\r",
      "86.4%"
     ]
    },
    {
     "name": "stderr",
     "output_type": "stream",
     "text": [
      "\r",
      "86.5%"
     ]
    },
    {
     "name": "stderr",
     "output_type": "stream",
     "text": [
      "\r",
      "86.6%"
     ]
    },
    {
     "name": "stderr",
     "output_type": "stream",
     "text": [
      "\r",
      "86.7%"
     ]
    },
    {
     "name": "stderr",
     "output_type": "stream",
     "text": [
      "\r",
      "86.8%"
     ]
    },
    {
     "name": "stderr",
     "output_type": "stream",
     "text": [
      "\r",
      "86.9%"
     ]
    },
    {
     "name": "stderr",
     "output_type": "stream",
     "text": [
      "\r",
      "86.9%"
     ]
    },
    {
     "name": "stderr",
     "output_type": "stream",
     "text": [
      "\r",
      "87.0%"
     ]
    },
    {
     "name": "stderr",
     "output_type": "stream",
     "text": [
      "\r",
      "87.1%"
     ]
    },
    {
     "name": "stderr",
     "output_type": "stream",
     "text": [
      "\r",
      "87.2%"
     ]
    },
    {
     "name": "stderr",
     "output_type": "stream",
     "text": [
      "\r",
      "87.3%"
     ]
    },
    {
     "name": "stderr",
     "output_type": "stream",
     "text": [
      "\r",
      "87.4%"
     ]
    },
    {
     "name": "stderr",
     "output_type": "stream",
     "text": [
      "\r",
      "87.4%"
     ]
    },
    {
     "name": "stderr",
     "output_type": "stream",
     "text": [
      "\r",
      "87.5%"
     ]
    },
    {
     "name": "stderr",
     "output_type": "stream",
     "text": [
      "\r",
      "87.6%"
     ]
    },
    {
     "name": "stderr",
     "output_type": "stream",
     "text": [
      "\r",
      "87.7%"
     ]
    },
    {
     "name": "stderr",
     "output_type": "stream",
     "text": [
      "\r",
      "87.8%"
     ]
    },
    {
     "name": "stderr",
     "output_type": "stream",
     "text": [
      "\r",
      "87.9%"
     ]
    },
    {
     "name": "stderr",
     "output_type": "stream",
     "text": [
      "\r",
      "87.9%"
     ]
    },
    {
     "name": "stderr",
     "output_type": "stream",
     "text": [
      "\r",
      "88.0%"
     ]
    },
    {
     "name": "stderr",
     "output_type": "stream",
     "text": [
      "\r",
      "88.1%"
     ]
    },
    {
     "name": "stderr",
     "output_type": "stream",
     "text": [
      "\r",
      "88.2%"
     ]
    },
    {
     "name": "stderr",
     "output_type": "stream",
     "text": [
      "\r",
      "88.3%"
     ]
    },
    {
     "name": "stderr",
     "output_type": "stream",
     "text": [
      "\r",
      "88.3%"
     ]
    },
    {
     "name": "stderr",
     "output_type": "stream",
     "text": [
      "\r",
      "88.4%"
     ]
    },
    {
     "name": "stderr",
     "output_type": "stream",
     "text": [
      "\r",
      "88.5%"
     ]
    },
    {
     "name": "stderr",
     "output_type": "stream",
     "text": [
      "\r",
      "88.6%"
     ]
    },
    {
     "name": "stderr",
     "output_type": "stream",
     "text": [
      "\r",
      "88.7%"
     ]
    },
    {
     "name": "stderr",
     "output_type": "stream",
     "text": [
      "\r",
      "88.8%"
     ]
    },
    {
     "name": "stderr",
     "output_type": "stream",
     "text": [
      "\r",
      "88.8%"
     ]
    },
    {
     "name": "stderr",
     "output_type": "stream",
     "text": [
      "\r",
      "88.9%"
     ]
    },
    {
     "name": "stderr",
     "output_type": "stream",
     "text": [
      "\r",
      "89.0%"
     ]
    },
    {
     "name": "stderr",
     "output_type": "stream",
     "text": [
      "\r",
      "89.1%"
     ]
    },
    {
     "name": "stderr",
     "output_type": "stream",
     "text": [
      "\r",
      "89.2%"
     ]
    },
    {
     "name": "stderr",
     "output_type": "stream",
     "text": [
      "\r",
      "89.3%"
     ]
    },
    {
     "name": "stderr",
     "output_type": "stream",
     "text": [
      "\r",
      "89.3%"
     ]
    },
    {
     "name": "stderr",
     "output_type": "stream",
     "text": [
      "\r",
      "89.4%"
     ]
    },
    {
     "name": "stderr",
     "output_type": "stream",
     "text": [
      "\r",
      "89.5%"
     ]
    },
    {
     "name": "stderr",
     "output_type": "stream",
     "text": [
      "\r",
      "89.6%"
     ]
    },
    {
     "name": "stderr",
     "output_type": "stream",
     "text": [
      "\r",
      "89.7%"
     ]
    },
    {
     "name": "stderr",
     "output_type": "stream",
     "text": [
      "\r",
      "89.8%"
     ]
    },
    {
     "name": "stderr",
     "output_type": "stream",
     "text": [
      "\r",
      "89.8%"
     ]
    },
    {
     "name": "stderr",
     "output_type": "stream",
     "text": [
      "\r",
      "89.9%"
     ]
    },
    {
     "name": "stderr",
     "output_type": "stream",
     "text": [
      "\r",
      "90.0%"
     ]
    },
    {
     "name": "stderr",
     "output_type": "stream",
     "text": [
      "\r",
      "90.1%"
     ]
    },
    {
     "name": "stderr",
     "output_type": "stream",
     "text": [
      "\r",
      "90.2%"
     ]
    },
    {
     "name": "stderr",
     "output_type": "stream",
     "text": [
      "\r",
      "90.2%"
     ]
    },
    {
     "name": "stderr",
     "output_type": "stream",
     "text": [
      "\r",
      "90.3%"
     ]
    },
    {
     "name": "stderr",
     "output_type": "stream",
     "text": [
      "\r",
      "90.4%"
     ]
    },
    {
     "name": "stderr",
     "output_type": "stream",
     "text": [
      "\r",
      "90.5%"
     ]
    },
    {
     "name": "stderr",
     "output_type": "stream",
     "text": [
      "\r",
      "90.6%"
     ]
    },
    {
     "name": "stderr",
     "output_type": "stream",
     "text": [
      "\r",
      "90.7%"
     ]
    },
    {
     "name": "stderr",
     "output_type": "stream",
     "text": [
      "\r",
      "90.7%"
     ]
    },
    {
     "name": "stderr",
     "output_type": "stream",
     "text": [
      "\r",
      "90.8%"
     ]
    },
    {
     "name": "stderr",
     "output_type": "stream",
     "text": [
      "\r",
      "90.9%"
     ]
    },
    {
     "name": "stderr",
     "output_type": "stream",
     "text": [
      "\r",
      "91.0%"
     ]
    },
    {
     "name": "stderr",
     "output_type": "stream",
     "text": [
      "\r",
      "91.1%"
     ]
    },
    {
     "name": "stderr",
     "output_type": "stream",
     "text": [
      "\r",
      "91.2%"
     ]
    },
    {
     "name": "stderr",
     "output_type": "stream",
     "text": [
      "\r",
      "91.2%"
     ]
    },
    {
     "name": "stderr",
     "output_type": "stream",
     "text": [
      "\r",
      "91.3%"
     ]
    },
    {
     "name": "stderr",
     "output_type": "stream",
     "text": [
      "\r",
      "91.4%"
     ]
    },
    {
     "name": "stderr",
     "output_type": "stream",
     "text": [
      "\r",
      "91.5%"
     ]
    },
    {
     "name": "stderr",
     "output_type": "stream",
     "text": [
      "\r",
      "91.6%"
     ]
    },
    {
     "name": "stderr",
     "output_type": "stream",
     "text": [
      "\r",
      "91.7%"
     ]
    },
    {
     "name": "stderr",
     "output_type": "stream",
     "text": [
      "\r",
      "91.7%"
     ]
    },
    {
     "name": "stderr",
     "output_type": "stream",
     "text": [
      "\r",
      "91.8%"
     ]
    },
    {
     "name": "stderr",
     "output_type": "stream",
     "text": [
      "\r",
      "91.9%"
     ]
    },
    {
     "name": "stderr",
     "output_type": "stream",
     "text": [
      "\r",
      "92.0%"
     ]
    },
    {
     "name": "stderr",
     "output_type": "stream",
     "text": [
      "\r",
      "92.1%"
     ]
    },
    {
     "name": "stderr",
     "output_type": "stream",
     "text": [
      "\r",
      "92.1%"
     ]
    },
    {
     "name": "stderr",
     "output_type": "stream",
     "text": [
      "\r",
      "92.2%"
     ]
    },
    {
     "name": "stderr",
     "output_type": "stream",
     "text": [
      "\r",
      "92.3%"
     ]
    },
    {
     "name": "stderr",
     "output_type": "stream",
     "text": [
      "\r",
      "92.4%"
     ]
    },
    {
     "name": "stderr",
     "output_type": "stream",
     "text": [
      "\r",
      "92.5%"
     ]
    },
    {
     "name": "stderr",
     "output_type": "stream",
     "text": [
      "\r",
      "92.6%"
     ]
    },
    {
     "name": "stderr",
     "output_type": "stream",
     "text": [
      "\r",
      "92.6%"
     ]
    },
    {
     "name": "stderr",
     "output_type": "stream",
     "text": [
      "\r",
      "92.7%"
     ]
    },
    {
     "name": "stderr",
     "output_type": "stream",
     "text": [
      "\r",
      "92.8%"
     ]
    },
    {
     "name": "stderr",
     "output_type": "stream",
     "text": [
      "\r",
      "92.9%"
     ]
    },
    {
     "name": "stderr",
     "output_type": "stream",
     "text": [
      "\r",
      "93.0%"
     ]
    },
    {
     "name": "stderr",
     "output_type": "stream",
     "text": [
      "\r",
      "93.1%"
     ]
    },
    {
     "name": "stderr",
     "output_type": "stream",
     "text": [
      "\r",
      "93.1%"
     ]
    },
    {
     "name": "stderr",
     "output_type": "stream",
     "text": [
      "\r",
      "93.2%"
     ]
    },
    {
     "name": "stderr",
     "output_type": "stream",
     "text": [
      "\r",
      "93.3%"
     ]
    },
    {
     "name": "stderr",
     "output_type": "stream",
     "text": [
      "\r",
      "93.4%"
     ]
    },
    {
     "name": "stderr",
     "output_type": "stream",
     "text": [
      "\r",
      "93.5%"
     ]
    },
    {
     "name": "stderr",
     "output_type": "stream",
     "text": [
      "\r",
      "93.6%"
     ]
    },
    {
     "name": "stderr",
     "output_type": "stream",
     "text": [
      "\r",
      "93.6%"
     ]
    },
    {
     "name": "stderr",
     "output_type": "stream",
     "text": [
      "\r",
      "93.7%"
     ]
    },
    {
     "name": "stderr",
     "output_type": "stream",
     "text": [
      "\r",
      "93.8%"
     ]
    },
    {
     "name": "stderr",
     "output_type": "stream",
     "text": [
      "\r",
      "93.9%"
     ]
    },
    {
     "name": "stderr",
     "output_type": "stream",
     "text": [
      "\r",
      "94.0%"
     ]
    },
    {
     "name": "stderr",
     "output_type": "stream",
     "text": [
      "\r",
      "94.0%"
     ]
    },
    {
     "name": "stderr",
     "output_type": "stream",
     "text": [
      "\r",
      "94.1%"
     ]
    },
    {
     "name": "stderr",
     "output_type": "stream",
     "text": [
      "\r",
      "94.2%"
     ]
    },
    {
     "name": "stderr",
     "output_type": "stream",
     "text": [
      "\r",
      "94.3%"
     ]
    },
    {
     "name": "stderr",
     "output_type": "stream",
     "text": [
      "\r",
      "94.4%"
     ]
    },
    {
     "name": "stderr",
     "output_type": "stream",
     "text": [
      "\r",
      "94.5%"
     ]
    },
    {
     "name": "stderr",
     "output_type": "stream",
     "text": [
      "\r",
      "94.5%"
     ]
    },
    {
     "name": "stderr",
     "output_type": "stream",
     "text": [
      "\r",
      "94.6%"
     ]
    },
    {
     "name": "stderr",
     "output_type": "stream",
     "text": [
      "\r",
      "94.7%"
     ]
    },
    {
     "name": "stderr",
     "output_type": "stream",
     "text": [
      "\r",
      "94.8%"
     ]
    },
    {
     "name": "stderr",
     "output_type": "stream",
     "text": [
      "\r",
      "94.9%"
     ]
    },
    {
     "name": "stderr",
     "output_type": "stream",
     "text": [
      "\r",
      "95.0%"
     ]
    },
    {
     "name": "stderr",
     "output_type": "stream",
     "text": [
      "\r",
      "95.0%"
     ]
    },
    {
     "name": "stderr",
     "output_type": "stream",
     "text": [
      "\r",
      "95.1%"
     ]
    },
    {
     "name": "stderr",
     "output_type": "stream",
     "text": [
      "\r",
      "95.2%"
     ]
    },
    {
     "name": "stderr",
     "output_type": "stream",
     "text": [
      "\r",
      "95.3%"
     ]
    },
    {
     "name": "stderr",
     "output_type": "stream",
     "text": [
      "\r",
      "95.4%"
     ]
    },
    {
     "name": "stderr",
     "output_type": "stream",
     "text": [
      "\r",
      "95.5%"
     ]
    },
    {
     "name": "stderr",
     "output_type": "stream",
     "text": [
      "\r",
      "95.5%"
     ]
    },
    {
     "name": "stderr",
     "output_type": "stream",
     "text": [
      "\r",
      "95.6%"
     ]
    },
    {
     "name": "stderr",
     "output_type": "stream",
     "text": [
      "\r",
      "95.7%"
     ]
    },
    {
     "name": "stderr",
     "output_type": "stream",
     "text": [
      "\r",
      "95.8%"
     ]
    },
    {
     "name": "stderr",
     "output_type": "stream",
     "text": [
      "\r",
      "95.9%"
     ]
    },
    {
     "name": "stderr",
     "output_type": "stream",
     "text": [
      "\r",
      "95.9%"
     ]
    },
    {
     "name": "stderr",
     "output_type": "stream",
     "text": [
      "\r",
      "96.0%"
     ]
    },
    {
     "name": "stderr",
     "output_type": "stream",
     "text": [
      "\r",
      "96.1%"
     ]
    },
    {
     "name": "stderr",
     "output_type": "stream",
     "text": [
      "\r",
      "96.2%"
     ]
    },
    {
     "name": "stderr",
     "output_type": "stream",
     "text": [
      "\r",
      "96.3%"
     ]
    },
    {
     "name": "stderr",
     "output_type": "stream",
     "text": [
      "\r",
      "96.4%"
     ]
    },
    {
     "name": "stderr",
     "output_type": "stream",
     "text": [
      "\r",
      "96.4%"
     ]
    },
    {
     "name": "stderr",
     "output_type": "stream",
     "text": [
      "\r",
      "96.5%"
     ]
    },
    {
     "name": "stderr",
     "output_type": "stream",
     "text": [
      "\r",
      "96.6%"
     ]
    },
    {
     "name": "stderr",
     "output_type": "stream",
     "text": [
      "\r",
      "96.7%"
     ]
    },
    {
     "name": "stderr",
     "output_type": "stream",
     "text": [
      "\r",
      "96.8%"
     ]
    },
    {
     "name": "stderr",
     "output_type": "stream",
     "text": [
      "\r",
      "96.9%"
     ]
    },
    {
     "name": "stderr",
     "output_type": "stream",
     "text": [
      "\r",
      "96.9%"
     ]
    },
    {
     "name": "stderr",
     "output_type": "stream",
     "text": [
      "\r",
      "97.0%"
     ]
    },
    {
     "name": "stderr",
     "output_type": "stream",
     "text": [
      "\r",
      "97.1%"
     ]
    },
    {
     "name": "stderr",
     "output_type": "stream",
     "text": [
      "\r",
      "97.2%"
     ]
    },
    {
     "name": "stderr",
     "output_type": "stream",
     "text": [
      "\r",
      "97.3%"
     ]
    },
    {
     "name": "stderr",
     "output_type": "stream",
     "text": [
      "\r",
      "97.4%"
     ]
    },
    {
     "name": "stderr",
     "output_type": "stream",
     "text": [
      "\r",
      "97.4%"
     ]
    },
    {
     "name": "stderr",
     "output_type": "stream",
     "text": [
      "\r",
      "97.5%"
     ]
    },
    {
     "name": "stderr",
     "output_type": "stream",
     "text": [
      "\r",
      "97.6%"
     ]
    },
    {
     "name": "stderr",
     "output_type": "stream",
     "text": [
      "\r",
      "97.7%"
     ]
    },
    {
     "name": "stderr",
     "output_type": "stream",
     "text": [
      "\r",
      "97.8%"
     ]
    },
    {
     "name": "stderr",
     "output_type": "stream",
     "text": [
      "\r",
      "97.9%"
     ]
    },
    {
     "name": "stderr",
     "output_type": "stream",
     "text": [
      "\r",
      "97.9%"
     ]
    },
    {
     "name": "stderr",
     "output_type": "stream",
     "text": [
      "\r",
      "98.0%"
     ]
    },
    {
     "name": "stderr",
     "output_type": "stream",
     "text": [
      "\r",
      "98.1%"
     ]
    },
    {
     "name": "stderr",
     "output_type": "stream",
     "text": [
      "\r",
      "98.2%"
     ]
    },
    {
     "name": "stderr",
     "output_type": "stream",
     "text": [
      "\r",
      "98.3%"
     ]
    },
    {
     "name": "stderr",
     "output_type": "stream",
     "text": [
      "\r",
      "98.3%"
     ]
    },
    {
     "name": "stderr",
     "output_type": "stream",
     "text": [
      "\r",
      "98.4%"
     ]
    },
    {
     "name": "stderr",
     "output_type": "stream",
     "text": [
      "\r",
      "98.5%"
     ]
    },
    {
     "name": "stderr",
     "output_type": "stream",
     "text": [
      "\r",
      "98.6%"
     ]
    },
    {
     "name": "stderr",
     "output_type": "stream",
     "text": [
      "\r",
      "98.7%"
     ]
    },
    {
     "name": "stderr",
     "output_type": "stream",
     "text": [
      "\r",
      "98.8%"
     ]
    },
    {
     "name": "stderr",
     "output_type": "stream",
     "text": [
      "\r",
      "98.8%"
     ]
    },
    {
     "name": "stderr",
     "output_type": "stream",
     "text": [
      "\r",
      "98.9%"
     ]
    },
    {
     "name": "stderr",
     "output_type": "stream",
     "text": [
      "\r",
      "99.0%"
     ]
    },
    {
     "name": "stderr",
     "output_type": "stream",
     "text": [
      "\r",
      "99.1%"
     ]
    },
    {
     "name": "stderr",
     "output_type": "stream",
     "text": [
      "\r",
      "99.2%"
     ]
    },
    {
     "name": "stderr",
     "output_type": "stream",
     "text": [
      "\r",
      "99.3%"
     ]
    },
    {
     "name": "stderr",
     "output_type": "stream",
     "text": [
      "\r",
      "99.3%"
     ]
    },
    {
     "name": "stderr",
     "output_type": "stream",
     "text": [
      "\r",
      "99.4%"
     ]
    },
    {
     "name": "stderr",
     "output_type": "stream",
     "text": [
      "\r",
      "99.5%"
     ]
    },
    {
     "name": "stderr",
     "output_type": "stream",
     "text": [
      "\r",
      "99.6%"
     ]
    },
    {
     "name": "stderr",
     "output_type": "stream",
     "text": [
      "\r",
      "99.7%"
     ]
    },
    {
     "name": "stderr",
     "output_type": "stream",
     "text": [
      "\r",
      "99.8%"
     ]
    },
    {
     "name": "stderr",
     "output_type": "stream",
     "text": [
      "\r",
      "99.8%"
     ]
    },
    {
     "name": "stderr",
     "output_type": "stream",
     "text": [
      "\r",
      "99.9%"
     ]
    },
    {
     "name": "stderr",
     "output_type": "stream",
     "text": [
      "\r",
      "100.0%"
     ]
    },
    {
     "name": "stderr",
     "output_type": "stream",
     "text": [
      "\r",
      "100.1%"
     ]
    },
    {
     "name": "stdout",
     "output_type": "stream",
     "text": [
      "Extracting ./data/MNIST/raw/train-images-idx3-ubyte.gz to ./data/MNIST/raw\n"
     ]
    },
    {
     "name": "stderr",
     "output_type": "stream",
     "text": [
      "\r",
      "0.0%"
     ]
    },
    {
     "name": "stderr",
     "output_type": "stream",
     "text": [
      "\r",
      "28.4%"
     ]
    },
    {
     "name": "stderr",
     "output_type": "stream",
     "text": [
      "\r",
      "56.7%"
     ]
    },
    {
     "name": "stderr",
     "output_type": "stream",
     "text": [
      "\r",
      "85.1%"
     ]
    },
    {
     "name": "stderr",
     "output_type": "stream",
     "text": [
      "\r",
      "113.5%"
     ]
    },
    {
     "name": "stderr",
     "output_type": "stream",
     "text": [
      "\r",
      "0.0%"
     ]
    },
    {
     "name": "stderr",
     "output_type": "stream",
     "text": [
      "\r",
      "0.5%"
     ]
    },
    {
     "name": "stdout",
     "output_type": "stream",
     "text": [
      "Downloading http://yann.lecun.com/exdb/mnist/train-labels-idx1-ubyte.gz to ./data/MNIST/raw/train-labels-idx1-ubyte.gz\n",
      "Extracting ./data/MNIST/raw/train-labels-idx1-ubyte.gz to ./data/MNIST/raw\n",
      "Downloading http://yann.lecun.com/exdb/mnist/t10k-images-idx3-ubyte.gz to ./data/MNIST/raw/t10k-images-idx3-ubyte.gz\n"
     ]
    },
    {
     "name": "stderr",
     "output_type": "stream",
     "text": [
      "\r",
      "1.0%"
     ]
    },
    {
     "name": "stderr",
     "output_type": "stream",
     "text": [
      "\r",
      "1.5%"
     ]
    },
    {
     "name": "stderr",
     "output_type": "stream",
     "text": [
      "\r",
      "2.0%"
     ]
    },
    {
     "name": "stderr",
     "output_type": "stream",
     "text": [
      "\r",
      "2.5%"
     ]
    },
    {
     "name": "stderr",
     "output_type": "stream",
     "text": [
      "\r",
      "3.0%"
     ]
    },
    {
     "name": "stderr",
     "output_type": "stream",
     "text": [
      "\r",
      "3.5%"
     ]
    },
    {
     "name": "stderr",
     "output_type": "stream",
     "text": [
      "\r",
      "4.0%"
     ]
    },
    {
     "name": "stderr",
     "output_type": "stream",
     "text": [
      "\r",
      "4.5%"
     ]
    },
    {
     "name": "stderr",
     "output_type": "stream",
     "text": [
      "\r",
      "5.0%"
     ]
    },
    {
     "name": "stderr",
     "output_type": "stream",
     "text": [
      "\r",
      "5.5%"
     ]
    },
    {
     "name": "stderr",
     "output_type": "stream",
     "text": [
      "\r",
      "6.0%"
     ]
    },
    {
     "name": "stderr",
     "output_type": "stream",
     "text": [
      "\r",
      "6.5%"
     ]
    },
    {
     "name": "stderr",
     "output_type": "stream",
     "text": [
      "\r",
      "7.0%"
     ]
    },
    {
     "name": "stderr",
     "output_type": "stream",
     "text": [
      "\r",
      "7.5%"
     ]
    },
    {
     "name": "stderr",
     "output_type": "stream",
     "text": [
      "\r",
      "7.9%"
     ]
    },
    {
     "name": "stderr",
     "output_type": "stream",
     "text": [
      "\r",
      "8.4%"
     ]
    },
    {
     "name": "stderr",
     "output_type": "stream",
     "text": [
      "\r",
      "8.9%"
     ]
    },
    {
     "name": "stderr",
     "output_type": "stream",
     "text": [
      "\r",
      "9.4%"
     ]
    },
    {
     "name": "stderr",
     "output_type": "stream",
     "text": [
      "\r",
      "9.9%"
     ]
    },
    {
     "name": "stderr",
     "output_type": "stream",
     "text": [
      "\r",
      "10.4%"
     ]
    },
    {
     "name": "stderr",
     "output_type": "stream",
     "text": [
      "\r",
      "10.9%"
     ]
    },
    {
     "name": "stderr",
     "output_type": "stream",
     "text": [
      "\r",
      "11.4%"
     ]
    },
    {
     "name": "stderr",
     "output_type": "stream",
     "text": [
      "\r",
      "11.9%"
     ]
    },
    {
     "name": "stderr",
     "output_type": "stream",
     "text": [
      "\r",
      "12.4%"
     ]
    },
    {
     "name": "stderr",
     "output_type": "stream",
     "text": [
      "\r",
      "12.9%"
     ]
    },
    {
     "name": "stderr",
     "output_type": "stream",
     "text": [
      "\r",
      "13.4%"
     ]
    },
    {
     "name": "stderr",
     "output_type": "stream",
     "text": [
      "\r",
      "13.9%"
     ]
    },
    {
     "name": "stderr",
     "output_type": "stream",
     "text": [
      "\r",
      "14.4%"
     ]
    },
    {
     "name": "stderr",
     "output_type": "stream",
     "text": [
      "\r",
      "14.9%"
     ]
    },
    {
     "name": "stderr",
     "output_type": "stream",
     "text": [
      "\r",
      "15.4%"
     ]
    },
    {
     "name": "stderr",
     "output_type": "stream",
     "text": [
      "\r",
      "15.9%"
     ]
    },
    {
     "name": "stderr",
     "output_type": "stream",
     "text": [
      "\r",
      "16.4%"
     ]
    },
    {
     "name": "stderr",
     "output_type": "stream",
     "text": [
      "\r",
      "16.9%"
     ]
    },
    {
     "name": "stderr",
     "output_type": "stream",
     "text": [
      "\r",
      "17.4%"
     ]
    },
    {
     "name": "stderr",
     "output_type": "stream",
     "text": [
      "\r",
      "17.9%"
     ]
    },
    {
     "name": "stderr",
     "output_type": "stream",
     "text": [
      "\r",
      "18.4%"
     ]
    },
    {
     "name": "stderr",
     "output_type": "stream",
     "text": [
      "\r",
      "18.9%"
     ]
    },
    {
     "name": "stderr",
     "output_type": "stream",
     "text": [
      "\r",
      "19.4%"
     ]
    },
    {
     "name": "stderr",
     "output_type": "stream",
     "text": [
      "\r",
      "19.9%"
     ]
    },
    {
     "name": "stderr",
     "output_type": "stream",
     "text": [
      "\r",
      "20.4%"
     ]
    },
    {
     "name": "stderr",
     "output_type": "stream",
     "text": [
      "\r",
      "20.9%"
     ]
    },
    {
     "name": "stderr",
     "output_type": "stream",
     "text": [
      "\r",
      "21.4%"
     ]
    },
    {
     "name": "stderr",
     "output_type": "stream",
     "text": [
      "\r",
      "21.9%"
     ]
    },
    {
     "name": "stderr",
     "output_type": "stream",
     "text": [
      "\r",
      "22.4%"
     ]
    },
    {
     "name": "stderr",
     "output_type": "stream",
     "text": [
      "\r",
      "22.9%"
     ]
    },
    {
     "name": "stderr",
     "output_type": "stream",
     "text": [
      "\r",
      "23.4%"
     ]
    },
    {
     "name": "stderr",
     "output_type": "stream",
     "text": [
      "\r",
      "23.8%"
     ]
    },
    {
     "name": "stderr",
     "output_type": "stream",
     "text": [
      "\r",
      "24.3%"
     ]
    },
    {
     "name": "stderr",
     "output_type": "stream",
     "text": [
      "\r",
      "24.8%"
     ]
    },
    {
     "name": "stderr",
     "output_type": "stream",
     "text": [
      "\r",
      "25.3%"
     ]
    },
    {
     "name": "stderr",
     "output_type": "stream",
     "text": [
      "\r",
      "25.8%"
     ]
    },
    {
     "name": "stderr",
     "output_type": "stream",
     "text": [
      "\r",
      "26.3%"
     ]
    },
    {
     "name": "stderr",
     "output_type": "stream",
     "text": [
      "\r",
      "26.8%"
     ]
    },
    {
     "name": "stderr",
     "output_type": "stream",
     "text": [
      "\r",
      "27.3%"
     ]
    },
    {
     "name": "stderr",
     "output_type": "stream",
     "text": [
      "\r",
      "27.8%"
     ]
    },
    {
     "name": "stderr",
     "output_type": "stream",
     "text": [
      "\r",
      "28.3%"
     ]
    },
    {
     "name": "stderr",
     "output_type": "stream",
     "text": [
      "\r",
      "28.8%"
     ]
    },
    {
     "name": "stderr",
     "output_type": "stream",
     "text": [
      "\r",
      "29.3%"
     ]
    },
    {
     "name": "stderr",
     "output_type": "stream",
     "text": [
      "\r",
      "29.8%"
     ]
    },
    {
     "name": "stderr",
     "output_type": "stream",
     "text": [
      "\r",
      "30.3%"
     ]
    },
    {
     "name": "stderr",
     "output_type": "stream",
     "text": [
      "\r",
      "30.8%"
     ]
    },
    {
     "name": "stderr",
     "output_type": "stream",
     "text": [
      "\r",
      "31.3%"
     ]
    },
    {
     "name": "stderr",
     "output_type": "stream",
     "text": [
      "\r",
      "31.8%"
     ]
    },
    {
     "name": "stderr",
     "output_type": "stream",
     "text": [
      "\r",
      "32.3%"
     ]
    },
    {
     "name": "stderr",
     "output_type": "stream",
     "text": [
      "\r",
      "32.8%"
     ]
    },
    {
     "name": "stderr",
     "output_type": "stream",
     "text": [
      "\r",
      "33.3%"
     ]
    },
    {
     "name": "stderr",
     "output_type": "stream",
     "text": [
      "\r",
      "33.8%"
     ]
    },
    {
     "name": "stderr",
     "output_type": "stream",
     "text": [
      "\r",
      "34.3%"
     ]
    },
    {
     "name": "stderr",
     "output_type": "stream",
     "text": [
      "\r",
      "34.8%"
     ]
    },
    {
     "name": "stderr",
     "output_type": "stream",
     "text": [
      "\r",
      "35.3%"
     ]
    },
    {
     "name": "stderr",
     "output_type": "stream",
     "text": [
      "\r",
      "35.8%"
     ]
    },
    {
     "name": "stderr",
     "output_type": "stream",
     "text": [
      "\r",
      "36.3%"
     ]
    },
    {
     "name": "stderr",
     "output_type": "stream",
     "text": [
      "\r",
      "36.8%"
     ]
    },
    {
     "name": "stderr",
     "output_type": "stream",
     "text": [
      "\r",
      "37.3%"
     ]
    },
    {
     "name": "stderr",
     "output_type": "stream",
     "text": [
      "\r",
      "37.8%"
     ]
    },
    {
     "name": "stderr",
     "output_type": "stream",
     "text": [
      "\r",
      "38.3%"
     ]
    },
    {
     "name": "stderr",
     "output_type": "stream",
     "text": [
      "\r",
      "38.8%"
     ]
    },
    {
     "name": "stderr",
     "output_type": "stream",
     "text": [
      "\r",
      "39.2%"
     ]
    },
    {
     "name": "stderr",
     "output_type": "stream",
     "text": [
      "\r",
      "39.7%"
     ]
    },
    {
     "name": "stderr",
     "output_type": "stream",
     "text": [
      "\r",
      "40.2%"
     ]
    },
    {
     "name": "stderr",
     "output_type": "stream",
     "text": [
      "\r",
      "40.7%"
     ]
    },
    {
     "name": "stderr",
     "output_type": "stream",
     "text": [
      "\r",
      "41.2%"
     ]
    },
    {
     "name": "stderr",
     "output_type": "stream",
     "text": [
      "\r",
      "41.7%"
     ]
    },
    {
     "name": "stderr",
     "output_type": "stream",
     "text": [
      "\r",
      "42.2%"
     ]
    },
    {
     "name": "stderr",
     "output_type": "stream",
     "text": [
      "\r",
      "42.7%"
     ]
    },
    {
     "name": "stderr",
     "output_type": "stream",
     "text": [
      "\r",
      "43.2%"
     ]
    },
    {
     "name": "stderr",
     "output_type": "stream",
     "text": [
      "\r",
      "43.7%"
     ]
    },
    {
     "name": "stderr",
     "output_type": "stream",
     "text": [
      "\r",
      "44.2%"
     ]
    },
    {
     "name": "stderr",
     "output_type": "stream",
     "text": [
      "\r",
      "44.7%"
     ]
    },
    {
     "name": "stderr",
     "output_type": "stream",
     "text": [
      "\r",
      "45.2%"
     ]
    },
    {
     "name": "stderr",
     "output_type": "stream",
     "text": [
      "\r",
      "45.7%"
     ]
    },
    {
     "name": "stderr",
     "output_type": "stream",
     "text": [
      "\r",
      "46.2%"
     ]
    },
    {
     "name": "stderr",
     "output_type": "stream",
     "text": [
      "\r",
      "46.7%"
     ]
    },
    {
     "name": "stderr",
     "output_type": "stream",
     "text": [
      "\r",
      "47.2%"
     ]
    },
    {
     "name": "stderr",
     "output_type": "stream",
     "text": [
      "\r",
      "47.7%"
     ]
    },
    {
     "name": "stderr",
     "output_type": "stream",
     "text": [
      "\r",
      "48.2%"
     ]
    },
    {
     "name": "stderr",
     "output_type": "stream",
     "text": [
      "\r",
      "48.7%"
     ]
    },
    {
     "name": "stderr",
     "output_type": "stream",
     "text": [
      "\r",
      "49.2%"
     ]
    },
    {
     "name": "stderr",
     "output_type": "stream",
     "text": [
      "\r",
      "49.7%"
     ]
    },
    {
     "name": "stderr",
     "output_type": "stream",
     "text": [
      "\r",
      "50.2%"
     ]
    },
    {
     "name": "stderr",
     "output_type": "stream",
     "text": [
      "\r",
      "50.7%"
     ]
    },
    {
     "name": "stderr",
     "output_type": "stream",
     "text": [
      "\r",
      "51.2%"
     ]
    },
    {
     "name": "stderr",
     "output_type": "stream",
     "text": [
      "\r",
      "51.7%"
     ]
    },
    {
     "name": "stderr",
     "output_type": "stream",
     "text": [
      "\r",
      "52.2%"
     ]
    },
    {
     "name": "stderr",
     "output_type": "stream",
     "text": [
      "\r",
      "52.7%"
     ]
    },
    {
     "name": "stderr",
     "output_type": "stream",
     "text": [
      "\r",
      "53.2%"
     ]
    },
    {
     "name": "stderr",
     "output_type": "stream",
     "text": [
      "\r",
      "53.7%"
     ]
    },
    {
     "name": "stderr",
     "output_type": "stream",
     "text": [
      "\r",
      "54.2%"
     ]
    },
    {
     "name": "stderr",
     "output_type": "stream",
     "text": [
      "\r",
      "54.7%"
     ]
    },
    {
     "name": "stderr",
     "output_type": "stream",
     "text": [
      "\r",
      "55.1%"
     ]
    },
    {
     "name": "stderr",
     "output_type": "stream",
     "text": [
      "\r",
      "55.6%"
     ]
    },
    {
     "name": "stderr",
     "output_type": "stream",
     "text": [
      "\r",
      "56.1%"
     ]
    },
    {
     "name": "stderr",
     "output_type": "stream",
     "text": [
      "\r",
      "56.6%"
     ]
    },
    {
     "name": "stderr",
     "output_type": "stream",
     "text": [
      "\r",
      "57.1%"
     ]
    },
    {
     "name": "stderr",
     "output_type": "stream",
     "text": [
      "\r",
      "57.6%"
     ]
    },
    {
     "name": "stderr",
     "output_type": "stream",
     "text": [
      "\r",
      "58.1%"
     ]
    },
    {
     "name": "stderr",
     "output_type": "stream",
     "text": [
      "\r",
      "58.6%"
     ]
    },
    {
     "name": "stderr",
     "output_type": "stream",
     "text": [
      "\r",
      "59.1%"
     ]
    },
    {
     "name": "stderr",
     "output_type": "stream",
     "text": [
      "\r",
      "59.6%"
     ]
    },
    {
     "name": "stderr",
     "output_type": "stream",
     "text": [
      "\r",
      "60.1%"
     ]
    },
    {
     "name": "stderr",
     "output_type": "stream",
     "text": [
      "\r",
      "60.6%"
     ]
    },
    {
     "name": "stderr",
     "output_type": "stream",
     "text": [
      "\r",
      "61.1%"
     ]
    },
    {
     "name": "stderr",
     "output_type": "stream",
     "text": [
      "\r",
      "61.6%"
     ]
    },
    {
     "name": "stderr",
     "output_type": "stream",
     "text": [
      "\r",
      "62.1%"
     ]
    },
    {
     "name": "stderr",
     "output_type": "stream",
     "text": [
      "\r",
      "62.6%"
     ]
    },
    {
     "name": "stderr",
     "output_type": "stream",
     "text": [
      "\r",
      "63.1%"
     ]
    },
    {
     "name": "stderr",
     "output_type": "stream",
     "text": [
      "\r",
      "63.6%"
     ]
    },
    {
     "name": "stderr",
     "output_type": "stream",
     "text": [
      "\r",
      "64.1%"
     ]
    },
    {
     "name": "stderr",
     "output_type": "stream",
     "text": [
      "\r",
      "64.6%"
     ]
    },
    {
     "name": "stderr",
     "output_type": "stream",
     "text": [
      "\r",
      "65.1%"
     ]
    },
    {
     "name": "stderr",
     "output_type": "stream",
     "text": [
      "\r",
      "65.6%"
     ]
    },
    {
     "name": "stderr",
     "output_type": "stream",
     "text": [
      "\r",
      "66.1%"
     ]
    },
    {
     "name": "stderr",
     "output_type": "stream",
     "text": [
      "\r",
      "66.6%"
     ]
    },
    {
     "name": "stderr",
     "output_type": "stream",
     "text": [
      "\r",
      "67.1%"
     ]
    },
    {
     "name": "stderr",
     "output_type": "stream",
     "text": [
      "\r",
      "67.6%"
     ]
    },
    {
     "name": "stderr",
     "output_type": "stream",
     "text": [
      "\r",
      "68.1%"
     ]
    },
    {
     "name": "stderr",
     "output_type": "stream",
     "text": [
      "\r",
      "68.6%"
     ]
    },
    {
     "name": "stderr",
     "output_type": "stream",
     "text": [
      "\r",
      "69.1%"
     ]
    },
    {
     "name": "stderr",
     "output_type": "stream",
     "text": [
      "\r",
      "69.6%"
     ]
    },
    {
     "name": "stderr",
     "output_type": "stream",
     "text": [
      "\r",
      "70.1%"
     ]
    },
    {
     "name": "stderr",
     "output_type": "stream",
     "text": [
      "\r",
      "70.5%"
     ]
    },
    {
     "name": "stderr",
     "output_type": "stream",
     "text": [
      "\r",
      "71.0%"
     ]
    },
    {
     "name": "stderr",
     "output_type": "stream",
     "text": [
      "\r",
      "71.5%"
     ]
    },
    {
     "name": "stderr",
     "output_type": "stream",
     "text": [
      "\r",
      "72.0%"
     ]
    },
    {
     "name": "stderr",
     "output_type": "stream",
     "text": [
      "\r",
      "72.5%"
     ]
    },
    {
     "name": "stderr",
     "output_type": "stream",
     "text": [
      "\r",
      "73.0%"
     ]
    },
    {
     "name": "stderr",
     "output_type": "stream",
     "text": [
      "\r",
      "73.5%"
     ]
    },
    {
     "name": "stderr",
     "output_type": "stream",
     "text": [
      "\r",
      "74.0%"
     ]
    },
    {
     "name": "stderr",
     "output_type": "stream",
     "text": [
      "\r",
      "74.5%"
     ]
    },
    {
     "name": "stderr",
     "output_type": "stream",
     "text": [
      "\r",
      "75.0%"
     ]
    },
    {
     "name": "stderr",
     "output_type": "stream",
     "text": [
      "\r",
      "75.5%"
     ]
    },
    {
     "name": "stderr",
     "output_type": "stream",
     "text": [
      "\r",
      "76.0%"
     ]
    },
    {
     "name": "stderr",
     "output_type": "stream",
     "text": [
      "\r",
      "76.5%"
     ]
    },
    {
     "name": "stderr",
     "output_type": "stream",
     "text": [
      "\r",
      "77.0%"
     ]
    },
    {
     "name": "stderr",
     "output_type": "stream",
     "text": [
      "\r",
      "77.5%"
     ]
    },
    {
     "name": "stderr",
     "output_type": "stream",
     "text": [
      "\r",
      "78.0%"
     ]
    },
    {
     "name": "stderr",
     "output_type": "stream",
     "text": [
      "\r",
      "78.5%"
     ]
    },
    {
     "name": "stderr",
     "output_type": "stream",
     "text": [
      "\r",
      "79.0%"
     ]
    },
    {
     "name": "stderr",
     "output_type": "stream",
     "text": [
      "\r",
      "79.5%"
     ]
    },
    {
     "name": "stderr",
     "output_type": "stream",
     "text": [
      "\r",
      "80.0%"
     ]
    },
    {
     "name": "stderr",
     "output_type": "stream",
     "text": [
      "\r",
      "80.5%"
     ]
    },
    {
     "name": "stderr",
     "output_type": "stream",
     "text": [
      "\r",
      "81.0%"
     ]
    },
    {
     "name": "stderr",
     "output_type": "stream",
     "text": [
      "\r",
      "81.5%"
     ]
    },
    {
     "name": "stderr",
     "output_type": "stream",
     "text": [
      "\r",
      "82.0%"
     ]
    },
    {
     "name": "stderr",
     "output_type": "stream",
     "text": [
      "\r",
      "82.5%"
     ]
    },
    {
     "name": "stderr",
     "output_type": "stream",
     "text": [
      "\r",
      "83.0%"
     ]
    },
    {
     "name": "stderr",
     "output_type": "stream",
     "text": [
      "\r",
      "83.5%"
     ]
    },
    {
     "name": "stderr",
     "output_type": "stream",
     "text": [
      "\r",
      "84.0%"
     ]
    },
    {
     "name": "stderr",
     "output_type": "stream",
     "text": [
      "\r",
      "84.5%"
     ]
    },
    {
     "name": "stderr",
     "output_type": "stream",
     "text": [
      "\r",
      "85.0%"
     ]
    },
    {
     "name": "stderr",
     "output_type": "stream",
     "text": [
      "\r",
      "85.5%"
     ]
    },
    {
     "name": "stderr",
     "output_type": "stream",
     "text": [
      "\r",
      "86.0%"
     ]
    },
    {
     "name": "stderr",
     "output_type": "stream",
     "text": [
      "\r",
      "86.4%"
     ]
    },
    {
     "name": "stderr",
     "output_type": "stream",
     "text": [
      "\r",
      "86.9%"
     ]
    },
    {
     "name": "stderr",
     "output_type": "stream",
     "text": [
      "\r",
      "87.4%"
     ]
    },
    {
     "name": "stderr",
     "output_type": "stream",
     "text": [
      "\r",
      "87.9%"
     ]
    },
    {
     "name": "stderr",
     "output_type": "stream",
     "text": [
      "\r",
      "88.4%"
     ]
    },
    {
     "name": "stderr",
     "output_type": "stream",
     "text": [
      "\r",
      "88.9%"
     ]
    },
    {
     "name": "stderr",
     "output_type": "stream",
     "text": [
      "\r",
      "89.4%"
     ]
    },
    {
     "name": "stderr",
     "output_type": "stream",
     "text": [
      "\r",
      "89.9%"
     ]
    },
    {
     "name": "stderr",
     "output_type": "stream",
     "text": [
      "\r",
      "90.4%"
     ]
    },
    {
     "name": "stderr",
     "output_type": "stream",
     "text": [
      "\r",
      "90.9%"
     ]
    },
    {
     "name": "stderr",
     "output_type": "stream",
     "text": [
      "\r",
      "91.4%"
     ]
    },
    {
     "name": "stderr",
     "output_type": "stream",
     "text": [
      "\r",
      "91.9%"
     ]
    },
    {
     "name": "stderr",
     "output_type": "stream",
     "text": [
      "\r",
      "92.4%"
     ]
    },
    {
     "name": "stderr",
     "output_type": "stream",
     "text": [
      "\r",
      "92.9%"
     ]
    },
    {
     "name": "stderr",
     "output_type": "stream",
     "text": [
      "\r",
      "93.4%"
     ]
    },
    {
     "name": "stderr",
     "output_type": "stream",
     "text": [
      "\r",
      "93.9%"
     ]
    },
    {
     "name": "stderr",
     "output_type": "stream",
     "text": [
      "\r",
      "94.4%"
     ]
    },
    {
     "name": "stderr",
     "output_type": "stream",
     "text": [
      "\r",
      "94.9%"
     ]
    },
    {
     "name": "stderr",
     "output_type": "stream",
     "text": [
      "\r",
      "95.4%"
     ]
    },
    {
     "name": "stderr",
     "output_type": "stream",
     "text": [
      "\r",
      "95.9%"
     ]
    },
    {
     "name": "stderr",
     "output_type": "stream",
     "text": [
      "\r",
      "96.4%"
     ]
    },
    {
     "name": "stderr",
     "output_type": "stream",
     "text": [
      "\r",
      "96.9%"
     ]
    },
    {
     "name": "stderr",
     "output_type": "stream",
     "text": [
      "\r",
      "97.4%"
     ]
    },
    {
     "name": "stderr",
     "output_type": "stream",
     "text": [
      "\r",
      "97.9%"
     ]
    },
    {
     "name": "stderr",
     "output_type": "stream",
     "text": [
      "\r",
      "98.4%"
     ]
    },
    {
     "name": "stderr",
     "output_type": "stream",
     "text": [
      "\r",
      "98.9%"
     ]
    },
    {
     "name": "stderr",
     "output_type": "stream",
     "text": [
      "\r",
      "99.4%"
     ]
    },
    {
     "name": "stderr",
     "output_type": "stream",
     "text": [
      "\r",
      "99.9%"
     ]
    },
    {
     "name": "stderr",
     "output_type": "stream",
     "text": [
      "\r",
      "100.4%"
     ]
    },
    {
     "name": "stderr",
     "output_type": "stream",
     "text": [
      "\r",
      "0.0%"
     ]
    },
    {
     "name": "stderr",
     "output_type": "stream",
     "text": [
      "\r",
      "180.4%"
     ]
    },
    {
     "name": "stdout",
     "output_type": "stream",
     "text": [
      "Extracting ./data/MNIST/raw/t10k-images-idx3-ubyte.gz to ./data/MNIST/raw\n",
      "Downloading http://yann.lecun.com/exdb/mnist/t10k-labels-idx1-ubyte.gz to ./data/MNIST/raw/t10k-labels-idx1-ubyte.gz\n",
      "Extracting ./data/MNIST/raw/t10k-labels-idx1-ubyte.gz to ./data/MNIST/raw\n",
      "Processing...\n",
      "Done!\n"
     ]
    }
   ],
   "source": [
    "BATCH_SIZE = 512\n",
    "train_loader, valid_loader, test_loader = load_mnist(batch_size=BATCH_SIZE)"
   ]
  },
  {
   "cell_type": "markdown",
   "metadata": {},
   "source": [
    "## 2. Define function to optimize\n",
    "In this tutorial, we want to optimize classification accuracy on the validation set as a function of the learning rate and momentum. The function takes in a parameterization (set of parameter values), computes the classification accuracy, and returns a dictionary of metric name ('accuracy') to a tuple with the mean and standard error."
   ]
  },
  {
   "cell_type": "code",
   "execution_count": 4,
   "metadata": {
    "collapsed": true
   },
   "outputs": [],
   "source": [
    "def train_evaluate(parameterization):\n",
    "    net = CNN()\n",
    "    net = train(net=net, train_loader=train_loader, parameters=parameterization, dtype=dtype, device=device)\n",
    "    return evaluate(\n",
    "        net=net,\n",
    "        data_loader=valid_loader,\n",
    "        dtype=dtype,\n",
    "        device=device,\n",
    "    )"
   ]
  },
  {
   "cell_type": "markdown",
   "metadata": {},
   "source": [
    "## 3. Run the optimization loop\n",
    "Here, we set the bounds on the learning rate and momentum and set the parameter space for the learning rate to be on a log scale. "
   ]
  },
  {
   "cell_type": "code",
   "execution_count": 5,
   "metadata": {},
   "outputs": [
    {
     "name": "stderr",
     "output_type": "stream",
     "text": [
      "[INFO 08-19 04:16:59] ax.service.utils.dispatch: Using Bayesian Optimization generation strategy. Iterations after 5 will take longer to generate due to model-fitting.\n"
     ]
    },
    {
     "name": "stderr",
     "output_type": "stream",
     "text": [
      "[INFO 08-19 04:16:59] ax.service.managed_loop: Started full optimization with 20 steps.\n"
     ]
    },
    {
     "name": "stderr",
     "output_type": "stream",
     "text": [
      "[INFO 08-19 04:16:59] ax.service.managed_loop: Running optimization trial 1...\n"
     ]
    },
    {
     "name": "stderr",
     "output_type": "stream",
     "text": [
      "[INFO 08-19 04:17:12] ax.service.managed_loop: Running optimization trial 2...\n"
     ]
    },
    {
     "name": "stderr",
     "output_type": "stream",
     "text": [
      "[INFO 08-19 04:17:26] ax.service.managed_loop: Running optimization trial 3...\n"
     ]
    },
    {
     "name": "stderr",
     "output_type": "stream",
     "text": [
      "[INFO 08-19 04:17:39] ax.service.managed_loop: Running optimization trial 4...\n"
     ]
    },
    {
     "name": "stderr",
     "output_type": "stream",
     "text": [
      "[INFO 08-19 04:17:52] ax.service.managed_loop: Running optimization trial 5...\n"
     ]
    },
    {
     "name": "stderr",
     "output_type": "stream",
     "text": [
      "[INFO 08-19 04:18:05] ax.service.managed_loop: Running optimization trial 6...\n"
     ]
    },
    {
     "name": "stderr",
     "output_type": "stream",
     "text": [
      "[INFO 08-19 04:18:19] ax.service.managed_loop: Running optimization trial 7...\n"
     ]
    },
    {
     "name": "stderr",
     "output_type": "stream",
     "text": [
      "[INFO 08-19 04:18:34] ax.service.managed_loop: Running optimization trial 8...\n"
     ]
    },
    {
     "name": "stderr",
     "output_type": "stream",
     "text": [
      "[INFO 08-19 04:18:48] ax.service.managed_loop: Running optimization trial 9...\n"
     ]
    },
    {
     "name": "stderr",
     "output_type": "stream",
     "text": [
      "[INFO 08-19 04:19:04] ax.service.managed_loop: Running optimization trial 10...\n"
     ]
    },
    {
     "name": "stderr",
     "output_type": "stream",
     "text": [
      "[INFO 08-19 04:19:19] ax.service.managed_loop: Running optimization trial 11...\n"
     ]
    },
    {
     "name": "stderr",
     "output_type": "stream",
     "text": [
      "[INFO 08-19 04:19:33] ax.service.managed_loop: Running optimization trial 12...\n"
     ]
    },
    {
     "name": "stderr",
     "output_type": "stream",
     "text": [
      "[INFO 08-19 04:19:47] ax.service.managed_loop: Running optimization trial 13...\n"
     ]
    },
    {
     "name": "stderr",
     "output_type": "stream",
     "text": [
      "[INFO 08-19 04:20:01] ax.service.managed_loop: Running optimization trial 14...\n"
     ]
    },
    {
     "name": "stderr",
     "output_type": "stream",
     "text": [
      "[INFO 08-19 04:20:15] ax.service.managed_loop: Running optimization trial 15...\n"
     ]
    },
    {
     "name": "stderr",
     "output_type": "stream",
     "text": [
      "[INFO 08-19 04:20:30] ax.service.managed_loop: Running optimization trial 16...\n"
     ]
    },
    {
     "name": "stderr",
     "output_type": "stream",
     "text": [
      "[INFO 08-19 04:20:44] ax.service.managed_loop: Running optimization trial 17...\n"
     ]
    },
    {
     "name": "stderr",
     "output_type": "stream",
     "text": [
      "[INFO 08-19 04:21:00] ax.service.managed_loop: Running optimization trial 18...\n"
     ]
    },
    {
     "name": "stderr",
     "output_type": "stream",
     "text": [
      "[INFO 08-19 04:21:14] ax.service.managed_loop: Running optimization trial 19...\n"
     ]
    },
    {
     "name": "stderr",
     "output_type": "stream",
     "text": [
      "[INFO 08-19 04:21:30] ax.service.managed_loop: Running optimization trial 20...\n"
     ]
    }
   ],
   "source": [
    "best_parameters, values, experiment, model = optimize(\n",
    "    parameters=[\n",
    "        {\"name\": \"lr\", \"type\": \"range\", \"bounds\": [1e-6, 0.4], \"log_scale\": True},\n",
    "        {\"name\": \"momentum\", \"type\": \"range\", \"bounds\": [0.0, 1.0]},\n",
    "    ],\n",
    "    evaluation_function=train_evaluate,\n",
    "    objective_name='accuracy',\n",
    ")"
   ]
  },
  {
   "cell_type": "markdown",
   "metadata": {},
   "source": [
    "We can introspect the optimal parameters and their outcomes:"
   ]
  },
  {
   "cell_type": "code",
   "execution_count": 6,
   "metadata": {},
   "outputs": [
    {
     "data": {
      "text/plain": [
       "{'lr': 2.788544356686743e-05, 'momentum': 0.8678681426122185}"
      ]
     },
     "execution_count": 6,
     "metadata": {},
     "output_type": "execute_result"
    }
   ],
   "source": [
    "best_parameters"
   ]
  },
  {
   "cell_type": "code",
   "execution_count": 7,
   "metadata": {},
   "outputs": [
    {
     "data": {
      "text/plain": [
       "({'accuracy': 0.9003297069953469},\n",
       " {'accuracy': {'accuracy': 1.0410073403529984e-08}})"
      ]
     },
     "execution_count": 7,
     "metadata": {},
     "output_type": "execute_result"
    }
   ],
   "source": [
    "means, covariances = values\n",
    "means, covariances"
   ]
  },
  {
   "cell_type": "markdown",
   "metadata": {},
   "source": [
    "## 4. Plot response surface\n",
    "\n",
    "Contour plot showing classification accuracy as a function of the two hyperparameters.\n",
    "\n",
    "The black squares show points that we have actually run, notice how they are clustered in the optimal region."
   ]
  },
  {
   "cell_type": "code",
   "execution_count": 8,
   "metadata": {},
   "outputs": [
    {
     "data": {
      "text/html": [
       "<div id=\"1e6987c177ee4fcaa0a2d5069b2f55c8\" style=\"width: 100%;\" class=\"plotly-graph-div\"></div><script type='text/javascript'>/*\n",
       " * Copyright (c) Facebook, Inc. and its affiliates. All Rights Reserved.\n",
       " */\n",
       "\n",
       "require(['plotly'], function(Plotly) {\n",
       "  window.PLOTLYENV = window.PLOTLYENV || {};\n",
       "  window.PLOTLYENV.BASE_URL = 'https://plot.ly';\n",
       "  /*\n",
       " * Copyright (c) Facebook, Inc. and its affiliates. All Rights Reserved.\n",
       " */\n",
       "\n",
       "const arm_data = {\"metrics\": [\"accuracy\"], \"in_sample\": {\"0_0\": {\"name\": \"0_0\", \"parameters\": {\"lr\": 0.023534750066145034, \"momentum\": 0.9161374568939209}, \"y\": {\"accuracy\": 0.10983333333333334}, \"y_hat\": {\"accuracy\": 0.10983334632460617}, \"se\": {\"accuracy\": 0.0}, \"se_hat\": {\"accuracy\": 0.00010205122618401123}, \"context_stratum\": null}, \"1_0\": {\"name\": \"1_0\", \"parameters\": {\"lr\": 0.005092944793324681, \"momentum\": 0.4287561774253845}, \"y\": {\"accuracy\": 0.097}, \"y_hat\": {\"accuracy\": 0.09699999063245768}, \"se\": {\"accuracy\": 0.0}, \"se_hat\": {\"accuracy\": 0.00010205122227517362}, \"context_stratum\": null}, \"2_0\": {\"name\": \"2_0\", \"parameters\": {\"lr\": 9.771801453641767e-06, \"momentum\": 0.7144135236740112}, \"y\": {\"accuracy\": 0.771}, \"y_hat\": {\"accuracy\": 0.7709998250279038}, \"se\": {\"accuracy\": 0.0}, \"se_hat\": {\"accuracy\": 0.0001020511029705802}, \"context_stratum\": null}, \"3_0\": {\"name\": \"3_0\", \"parameters\": {\"lr\": 1.2193923787439965e-06, \"momentum\": 0.3658304810523987}, \"y\": {\"accuracy\": 0.177}, \"y_hat\": {\"accuracy\": 0.1770000433791396}, \"se\": {\"accuracy\": 0.0}, \"se_hat\": {\"accuracy\": 0.00010205122329487042}, \"context_stratum\": null}, \"4_0\": {\"name\": \"4_0\", \"parameters\": {\"lr\": 0.0009325116612329566, \"momentum\": 0.525484561920166}, \"y\": {\"accuracy\": 0.10983333333333334}, \"y_hat\": {\"accuracy\": 0.10983338376695406}, \"se\": {\"accuracy\": 0.0}, \"se_hat\": {\"accuracy\": 0.00010205122278502201}, \"context_stratum\": null}, \"5_0\": {\"name\": \"5_0\", \"parameters\": {\"lr\": 3.2483430661673255e-06, \"momentum\": 0.8430496738514098}, \"y\": {\"accuracy\": 0.6498333333333334}, \"y_hat\": {\"accuracy\": 0.6498333038216196}, \"se\": {\"accuracy\": 0.0}, \"se_hat\": {\"accuracy\": 0.00010205120726296988}, \"context_stratum\": null}, \"6_0\": {\"name\": \"6_0\", \"parameters\": {\"lr\": 2.403884373446931e-05, \"momentum\": 0.800349914195819}, \"y\": {\"accuracy\": 0.8831666666666667}, \"y_hat\": {\"accuracy\": 0.8831679846255942}, \"se\": {\"accuracy\": 0.0}, \"se_hat\": {\"accuracy\": 0.0001020462867667426}, \"context_stratum\": null}, \"7_0\": {\"name\": \"7_0\", \"parameters\": {\"lr\": 2.8489091259663544e-05, \"momentum\": 0.9957248469320856}, \"y\": {\"accuracy\": 0.8673333333333333}, \"y_hat\": {\"accuracy\": 0.8673336968460337}, \"se\": {\"accuracy\": 0.0}, \"se_hat\": {\"accuracy\": 0.00010205031287154008}, \"context_stratum\": null}, \"8_0\": {\"name\": \"8_0\", \"parameters\": {\"lr\": 1.9120152959895313e-05, \"momentum\": 0.8926034047338793}, \"y\": {\"accuracy\": 0.8786666666666667}, \"y_hat\": {\"accuracy\": 0.8786670712871292}, \"se\": {\"accuracy\": 0.0}, \"se_hat\": {\"accuracy\": 0.00010204988601043986}, \"context_stratum\": null}, \"9_0\": {\"name\": \"9_0\", \"parameters\": {\"lr\": 3.273290941097822e-05, \"momentum\": 0.8770017859966224}, \"y\": {\"accuracy\": 0.8911666666666667}, \"y_hat\": {\"accuracy\": 0.8911682884151118}, \"se\": {\"accuracy\": 0.0}, \"se_hat\": {\"accuracy\": 0.0001020431197261209}, \"context_stratum\": null}, \"10_0\": {\"name\": \"10_0\", \"parameters\": {\"lr\": 0.40000000000000013, \"momentum\": 0.0}, \"y\": {\"accuracy\": 0.099}, \"y_hat\": {\"accuracy\": 0.09900001894986044}, \"se\": {\"accuracy\": 0.0}, \"se_hat\": {\"accuracy\": 0.00010205122805345525}, \"context_stratum\": null}, \"11_0\": {\"name\": \"11_0\", \"parameters\": {\"lr\": 2.788544356686743e-05, \"momentum\": 0.8678681426122185}, \"y\": {\"accuracy\": 0.9003333333333333}, \"y_hat\": {\"accuracy\": 0.9003297069953469}, \"se\": {\"accuracy\": 0.0}, \"se_hat\": {\"accuracy\": 0.00010202976724235915}, \"context_stratum\": null}, \"12_0\": {\"name\": \"12_0\", \"parameters\": {\"lr\": 3.919852294835273e-05, \"momentum\": 3.882549348082197e-18}, \"y\": {\"accuracy\": 0.838}, \"y_hat\": {\"accuracy\": 0.8379996651247166}, \"se\": {\"accuracy\": 0.0}, \"se_hat\": {\"accuracy\": 0.00010205107566533076}, \"context_stratum\": null}, \"13_0\": {\"name\": \"13_0\", \"parameters\": {\"lr\": 3.3571187254457445e-05, \"momentum\": 0.28008786630773624}, \"y\": {\"accuracy\": 0.8041666666666667}, \"y_hat\": {\"accuracy\": 0.8041666951889018}, \"se\": {\"accuracy\": 0.0}, \"se_hat\": {\"accuracy\": 0.00010205100570267694}, \"context_stratum\": null}, \"14_0\": {\"name\": \"14_0\", \"parameters\": {\"lr\": 1.6108567956017817e-05, \"momentum\": 5.059306416668323e-15}, \"y\": {\"accuracy\": 0.49883333333333335}, \"y_hat\": {\"accuracy\": 0.4988334977502288}, \"se\": {\"accuracy\": 0.0}, \"se_hat\": {\"accuracy\": 0.00010205118698232885}, \"context_stratum\": null}, \"15_0\": {\"name\": \"15_0\", \"parameters\": {\"lr\": 8.866792706823531e-05, \"momentum\": 4.328020893924589e-19}, \"y\": {\"accuracy\": 0.8263333333333334}, \"y_hat\": {\"accuracy\": 0.8263333352919495}, \"se\": {\"accuracy\": 0.0}, \"se_hat\": {\"accuracy\": 0.00010205112642363095}, \"context_stratum\": null}, \"16_0\": {\"name\": \"16_0\", \"parameters\": {\"lr\": 6.144936173462099e-05, \"momentum\": 0.17496892099199096}, \"y\": {\"accuracy\": 0.871}, \"y_hat\": {\"accuracy\": 0.8710002508018487}, \"se\": {\"accuracy\": 0.0}, \"se_hat\": {\"accuracy\": 0.00010205079224547398}, \"context_stratum\": null}, \"17_0\": {\"name\": \"17_0\", \"parameters\": {\"lr\": 5.736991871912558e-05, \"momentum\": 0.5299941099659412}, \"y\": {\"accuracy\": 0.8991666666666667}, \"y_hat\": {\"accuracy\": 0.899166158154794}, \"se\": {\"accuracy\": 0.0}, \"se_hat\": {\"accuracy\": 0.00010205039348492234}, \"context_stratum\": null}, \"18_0\": {\"name\": \"18_0\", \"parameters\": {\"lr\": 4.4829539325229517e-05, \"momentum\": 0.6248019517411796}, \"y\": {\"accuracy\": 0.881}, \"y_hat\": {\"accuracy\": 0.881000404278739}, \"se\": {\"accuracy\": 0.0}, \"se_hat\": {\"accuracy\": 0.00010204978936453344}, \"context_stratum\": null}}, \"out_of_sample\": {}, \"status_quo_name\": null};\n",
       "const density = 50;\n",
       "const grid_x = [1e-06, 1.3011511650442548e-06, 1.692994354296022e-06, 2.2028415765056147e-06, 2.866229883678204e-06, 3.729398352432554e-06, 4.852511011181743e-06, 6.3138503555892e-06, 8.215273746089953e-06, 1.0689313005882424e-05, 1.390841207112662e-05, 1.809694657026198e-05, 2.354686311364001e-05, 3.063802837345029e-05, 3.986470631277378e-05, 5.1870009063012666e-05, 6.749072272319499e-05, 8.781563250096393e-05, 0.00011426141253772724, 0.00014867137004306603, 0.00019344392634026088, 0.0002516997901283655, 0.0003274994751669172, 0.0004261263236648159, 0.0005544547624925005, 0.0007214294601814526, 0.000938688782612345, 0.0012213760031100258, 0.0015891948094037057, 0.002067782677737912, 0.0026904978401970136, 0.0035007443993213955, 0.004554997653699184, 0.005926740503884541, 0.007711585311544345, 0.010033938212454078, 0.013055670395116691, 0.01698740074503987, 0.02210317627048227, 0.028759573555516536, 0.03742055263793628, 0.04868979566145066, 0.06335278435066323, 0.0824315491666629, 0.10725590623460621, 0.13955614735503497, 0.18158364372009145, 0.23626776957937787, 0.3074200836506151, 0.4];\n",
       "const grid_y = [0.0, 0.02040816326530612, 0.04081632653061224, 0.061224489795918366, 0.08163265306122448, 0.1020408163265306, 0.12244897959183673, 0.14285714285714285, 0.16326530612244897, 0.18367346938775508, 0.2040816326530612, 0.22448979591836732, 0.24489795918367346, 0.26530612244897955, 0.2857142857142857, 0.3061224489795918, 0.32653061224489793, 0.3469387755102041, 0.36734693877551017, 0.3877551020408163, 0.4081632653061224, 0.42857142857142855, 0.44897959183673464, 0.4693877551020408, 0.4897959183673469, 0.5102040816326531, 0.5306122448979591, 0.5510204081632653, 0.5714285714285714, 0.5918367346938775, 0.6122448979591836, 0.6326530612244897, 0.6530612244897959, 0.673469387755102, 0.6938775510204082, 0.7142857142857142, 0.7346938775510203, 0.7551020408163265, 0.7755102040816326, 0.7959183673469387, 0.8163265306122448, 0.836734693877551, 0.8571428571428571, 0.8775510204081632, 0.8979591836734693, 0.9183673469387754, 0.9387755102040816, 0.9591836734693877, 0.9795918367346939, 1.0];\n",
       "const f = [0.0757664056547177, 0.07961940703452608, 0.09003089211047333, 0.1063862246660261, 0.12792585879034446, 0.15443209091573462, 0.18684826481348304, 0.22763378825627661, 0.2806713779738172, 0.35046542808449327, 0.4402577054076066, 0.5485818676217639, 0.6646321246973995, 0.768947817263921, 0.8413968982059051, 0.8714732052486803, 0.8635964867378928, 0.8280452270361953, 0.7733189018682041, 0.705534880561765, 0.6297042338535377, 0.5503806211751491, 0.47176687403300255, 0.39762807924200794, 0.33114686193788406, 0.27474460709482856, 0.22988889251441963, 0.19695410321682616, 0.17522728654707304, 0.16310230236763934, 0.15841283278522822, 0.15880376170239618, 0.16205733314777498, 0.1663285234993992, 0.17026626507732961, 0.1730160883795246, 0.17413250870367952, 0.1734536644532318, 0.17098436210027113, 0.16681163475637684, 0.1610594844109191, 0.15388043187458467, 0.14547710594448832, 0.13614463145386896, 0.12632290767731702, 0.11664599326117997, 0.10797213038901043, 0.10137033800557416, 0.09802547122272842, 0.09900001894986044, 0.07678154009655103, 0.08151168149537225, 0.09300931892106112, 0.11054558008947013, 0.1332015869970159, 0.1605953708606887, 0.1935319869531708, 0.23438140614320996, 0.2870051564369861, 0.35596625181412206, 0.4446368968345168, 0.5517187251338954, 0.6665967870956246, 0.7699833073021071, 0.8418491822261033, 0.871743119626301, 0.8640535989032467, 0.8288597647828373, 0.7742996142338885, 0.7062734653724991, 0.6297836096546574, 0.5494890312664571, 0.4697358383558769, 0.39443478232972634, 0.3269029177010266, 0.26967516057476393, 0.22429745531173867, 0.19117198729262025, 0.16955818245568227, 0.15777922761563873, 0.15357791682185518, 0.15450961385195855, 0.15828334514357678, 0.1630060583492477, 0.16730682780257794, 0.17033524355182444, 0.17166433494181033, 0.17115563310285226, 0.16883563252742134, 0.16480788152763304, 0.15920652627895132, 0.1521882055239971, 0.14395494532415415, 0.13479825805546725, 0.12515304790675885, 0.11564821521037116, 0.10713736797727669, 0.10068559661605558, 0.09747430291287429, 0.09856244989808327, 0.07817098448018478, 0.08383310721204729, 0.09648042220033826, 0.11526625803522261, 0.13910700318531827, 0.16745055247347806, 0.2009563050099213, 0.24189463544395584, 0.29409250672057513, 0.36215469181584037, 0.4495612734264114, 0.5551527125695721, 0.6685386274883615, 0.7707134646005172, 0.8418625809843248, 0.871639875469126, 0.8642863293882459, 0.8295808764998016, 0.775256231689434, 0.7070073190549776, 0.629852345223143, 0.5485725179469539, 0.4676651980431407, 0.39118961186008294, 0.3225983969931954, 0.2645413719977779, 0.21864431875607304, 0.18533734461370277, 0.16385016734328822, 0.15243195665061976, 0.14873166501789642, 0.150213370571591, 0.15451221900998696, 0.15968742356320975, 0.16434946690395957, 0.1676538872223426, 0.16919406630621375, 0.1688563090834984, 0.16668967909240634, 0.1628147046431172, 0.15737580989320465, 0.1505336360171179, 0.14248932302657114, 0.13353037415400493, 0.12408617551362333, 0.11477970681093419, 0.10645870459285856, 0.10018223594798659, 0.09712472801194605, 0.0983359085330785, 0.07994735456709012, 0.08659569184233129, 0.10045488308234252, 0.12055703868853018, 0.1456488352201728, 0.1750027376887055, 0.209125488998204, 0.25017771545962003, 0.30193819772260444, 0.369036464867143, 0.4550385859115365, 0.5589021730583998, 0.670498031596124, 0.7712060713773098, 0.8415316960238999, 0.871262063115847, 0.864383755475868, 0.8302772144477089, 0.7762344100917009, 0.7077643625065797, 0.6299275032449426, 0.5476428261877864, 0.46556497273933406, 0.387902761088751, 0.31824435575092896, 0.2593551516111052, 0.21294195231358937, 0.17946278339888067, 0.15811542810962886, 0.1470716277456834, 0.1438836671957735, 0.14592283645705134, 0.15074998395695355, 0.15637703983180196, 0.16139726508094632, 0.16497409297051951, 0.1667230807465298, 0.1665566241101042, 0.16454716726388657, 0.1608326247241726, 0.15556778163665297, 0.1489171190635606, 0.14108056532764424, 0.1323411832516299, 0.12312229192929802, 0.11404016823781726, 0.10593542159475, 0.09985898059703535, 0.09697476316220954, 0.09831779007360475, 0.08212271356372847, 0.08981060030671728, 0.10494205928893596, 0.12642473264769105, 0.15283111408733285, 0.1832535907011702, 0.2180396247032324, 0.25922990515798694, 0.31054109805802416, 0.37661035190556025, 0.4610692976338172, 0.5629808160158919, 0.6725165851242445, 0.7715367537620014, 0.8409618294919707, 0.8707179240980925, 0.8644398055567011, 0.8310173564938205, 0.7772772440800434, 0.708569559254625, 0.6300237222775189, 0.5467100798851501, 0.4634443473949519, 0.38458425304564103, 0.3138521847276539, 0.2541290801040004, 0.20720367665470746, 0.17356181228643208, 0.15236698563574996, 0.14171005818951243, 0.13904399737057915, 0.1416461167995754, 0.14700283042383167, 0.15307940139879, 0.15845333743050666, 0.1622979591770421, 0.164252787071972, 0.16425754412610188, 0.16240878932421582, 0.15886216783103496, 0.15378285572669015, 0.1473389611814389, 0.13972882852778468, 0.13123060893818395, 0.12226097281951764, 0.11342868345103052, 0.10556593868647035, 0.09971338539781749, 0.09702091043075811, 0.0985038315649488, 0.08470846717100333, 0.09348804618080997, 0.10994985928028578, 0.13287403450628466, 0.1606550205884933, 0.19220119663237017, 0.2276945085181331, 0.2690454576930556, 0.3198943218186857, 0.38486874596916687, 0.4676480495105334, 0.567398833229755, 0.6746359718343276, 0.7717849776219217, 0.840262339702374, 0.8701200038365455, 0.8645494542807315, 0.8318669368313644, 0.7784234669191222, 0.7094438894268816, 0.6301526589074911, 0.5457824867942644, 0.4613115205010738, 0.38124386881051614, 0.30943358480651706, 0.24887641027635943, 0.20144367642057404, 0.16764885307888355, 0.14661869922715604, 0.1363597369528764, 0.13422319671696825, 0.1373915958808345, 0.14327708961092223, 0.14979906161252232, 0.1555208257639893, 0.15962761212311238, 0.16178463421115985, 0.1619600816839346, 0.16027527783965478, 0.1569038790511621, 0.1520214276280114, 0.14579939307009965, 0.13843411287040314, 0.1301983106462229, 0.12150138816825062, 0.1129437493304899, 0.10534786162243703, 0.09974192353545275, 0.09725834226661445, 0.09888839711182895, 0.08771524440177347, 0.09763717114006698, 0.11548460673281757, 0.13990737236916068, 0.16911873837642288, 0.20183993950461204, 0.2380815785166832, 0.2796136582078841, 0.32998548274847456, 0.39379835062904045, 0.47476494337962494, 0.5721636743354198, 0.676896791125015, 0.7720300328438199, 0.8395406773371776, 0.8695792218025231, 0.8648042694341924, 0.8328854911619439, 0.779705631227342, 0.7104033702555721, 0.6303224783810089, 0.5448660782932879, 0.45917357254596347, 0.37789108491518547, 0.3050005446347254, 0.24361106729140453, 0.19567700924939668, 0.16173924807111845, 0.14088526452529793, 0.13103381091857347, 0.12943225149279058, 0.13316791202633704, 0.13957921147388708, 0.14654061849911282, 0.15260289424019252, 0.15696521108483247, 0.1593201224458934, 0.15966530998846012, 0.15814742053037195, 0.15495833739563009, 0.15028388888014116, 0.1442985847329854, 0.13719627886483754, 0.129243702967213, 0.1208423279050106, 0.11258331371961972, 0.10527804447026246, 0.09994009752494248, 0.09768110559845034, 0.09946473092660357, 0.09115276187912158, 0.10226591025323062, 0.12155089331290803, 0.14752475242952606, 0.17821731351174558, 0.21216039909588574, 0.2491878782697216, 0.2909189134208439, 0.3407970225861266, 0.40338092339223264, 0.48240655002722627, 0.5772804805332873, 0.6793373514514874, 0.772347401717715, 0.8388971476824783, 0.8691987365880364, 0.8652874240432368, 0.8341231918991869, 0.7811483689360837, 0.7114581695945834, 0.6305374156213118, 0.5439644940189292, 0.4570363587929578, 0.37453502090754126, 0.3005653201327152, 0.2383476464811255, 0.18991960979214006, 0.15584926056486503, 0.13518220351366078, 0.12574606367188246, 0.12468256552785095, 0.1289839295119437, 0.1359157415059094, 0.1433087007829682, 0.14970272675494106, 0.1543129557304871, 0.1568608167341779, 0.1573743785904515, 0.15602607646965233, 0.15302617190899287, 0.14857064322555408, 0.14283666220294328, 0.1360150658006849, 0.1283659781850789, 0.12028223245008707, 0.11234482108275745, 0.10535266333746718, 0.1003025644793627, 0.09828232382541935, 0.10022518121765311, 0.09502966904466015, 0.10738084061616959, 0.12815141748769387, 0.15572359794149498, 0.18794252100746606, 0.22314926620233172, 0.26099604928848513, 0.3029408801320185, 0.352306579166742, 0.413593985545326, 0.4905566551195065, 0.5827522537240506, 0.6819925127948258, 0.7728057075802062, 0.8384204846000977, 0.8690679168032245, 0.8660683010149212, 0.8356177207045781, 0.7827668391559226, 0.7126118589665629, 0.6307974274555195, 0.5430788204977426, 0.4549044298469486, 0.3711843976515251, 0.29614041505133204, 0.23310140736930168, 0.1841882871988385, 0.14999606694779627, 0.12952584505526799, 0.12051088575879443, 0.11998592691683285, 0.12484870752335431, 0.13229329673804346, 0.1401079548663926, 0.14682352658322756, 0.15167309612515972, 0.15440836219842324, 0.15508853067627054, 0.15391219350948193, 0.15110807887229571, 0.14688212389955074, 0.14141372569236332, 0.13489011219777464, 0.12756413161551572, 0.11981922743732998, 0.1122252642866689, 0.10556729822703814, 0.10082326779253858, 0.09905438576678804, 0.10116139768237531, 0.0993533714069218, 0.11298701049026683, 0.1352868069404048, 0.16449858234606668, 0.19828273928645468, 0.2347892759781623, 0.27348434777897657, 0.31565461965801644, 0.36448736356402, 0.4244114504563621, 0.49919678491403013, 0.5885798486666767, 0.6848926543608497, 0.7734643234328581, 0.8381843476586032, 0.8692568757671488, 0.8671969639239894, 0.8373915839703114, 0.7845654718013121, 0.7138608493957574, 0.6310979546010176, 0.5422074915197724, 0.4527809826724439, 0.36784750641274216, 0.29173856133361364, 0.22788826224495806, 0.17850071428791353, 0.14419773847263406, 0.12393329420010568, 0.11534323523680667, 0.1153544685996023, 0.12077146649296067, 0.12871854150858286, 0.13694303337450903, 0.14396851882360806, 0.14904794562671725, 0.1519645018005213, 0.1528091218516136, 0.15180682679513646, 0.14920483995294093, 0.14521881191916813, 0.14002986896289338, 0.13382097789873326, 0.12683698928478604, 0.11945116179273074, 0.11222124091585928, 0.10591701973306644, 0.10149556882393562, 0.0999891171337981, 0.10226450512992924, 0.10412982865017228, 0.11908774575616476, 0.14295542208959422, 0.17384145702138076, 0.20922283411378778, 0.24705915935015405, 0.28662668160865523, 0.3290307661518815, 0.37730852158326433, 0.43580414782473226, 0.5083065585223788, 0.594761869328497, 0.688062834620576, 0.774371659612511, 0.838244845909734, 0.8698123932936421, 0.8686995350711187, 0.8394501811529379, 0.7865371008832189, 0.715194046672549, 0.6314298085622234, 0.5413462562030513, 0.4506678437785418, 0.3645321882139311, 0.287372697594047, 0.22272475726169277, 0.17287540632318887, 0.13847321061149925, 0.11842238829905716, 0.1102585872750248, 0.11080062256918377, 0.11676155228152729, 0.12519816368714998, 0.13381858597388963, 0.1411409562416065, 0.14643989691331166, 0.14953109615444965, 0.15053764026229133, 0.1497111581951482, 0.1473173411293905, 0.1435812551857314, 0.1386851996845277, 0.13280716747986676, 0.12618323744124083, 0.11917564830023075, 0.11232901251964922, 0.10639647755920767, 0.10231237386168368, 0.10107793343900384, 0.10352525553908043, 0.10936332412238059, 0.1256844301132939, 0.15115313835211236, 0.18374087521014587, 0.22074405436751177, 0.25993361299314205, 0.3003926639778651, 0.343035698538261, 0.3907354618301277, 0.4477402391480343, 0.517863910910729, 0.6012945385544479, 0.6915221956092042, 0.7755641147564672, 0.8386391399228421, 0.8707561162374822, 0.8705765025049014, 0.841780850209153, 0.7886625551960511, 0.7165927531481513, 0.6317791942091268, 0.5404882185455203, 0.44856548523347317, 0.3612458223667572, 0.28305594357413355, 0.21762804365982485, 0.16733168701815143, 0.13284223758518288, 0.1130116377642505, 0.10527287151725351, 0.10633706751583905, 0.1128283988298261, 0.12173885218844516, 0.13073925328266955, 0.13834412914226868, 0.14385144130695027, 0.1471101453376682, 0.1482757278342286, 0.14762651643598157, 0.1454465921936634, 0.14197008819452722, 0.13737986053191936, 0.13184815463134936, 0.12560145336681516, 0.11899010577257718, 0.11254456525342105, 0.10699998825837509, 0.1032662532016475, 0.10231197480442622, 0.10493416065473948, 0.11505620196975286, 0.13277625504533153, 0.15987310532772103, 0.19418221520487766, 0.2328239429391148, 0.2733832889655828, 0.3147476811851861, 0.35763170810813855, 0.4047301392806411, 0.46018553045497723, 0.5278452253296353, 0.6081715958502073, 0.6952836475574555, 0.7770656495338748, 0.8393850899726223, 0.8720851149510443, 0.8728042258318177, 0.8443529509327625, 0.7909107398228991, 0.7180308315038512, 0.6321278736808141, 0.5396239498466782, 0.44647307306326256, 0.35799532253172833, 0.2788015679883801, 0.2126158363126492, 0.16188963906577764, 0.12732532937731955, 0.1077201491378178, 0.1004023959178103, 0.1019766697906116, 0.10898149006947655, 0.11834727677303802, 0.12770966480543156, 0.13558137991013514, 0.14128519144104662, 0.1447038124544549, 0.14602520234972383, 0.14555439769391237, 0.1435937466109144, 0.14038605212579391, 0.13611405074701227, 0.13094340713955255, 0.12509013694384885, 0.11889180196134175, 0.11286367049988344, 0.10772162007561858, 0.1043495504528148, 0.10368222378012293, 0.10648160704167442, 0.12120856809651914, 0.14035993512931244, 0.16910548236790018, 0.20514740788572822, 0.24543626704232502, 0.28737480579026725, 0.3296529729968865, 0.37277715640445636, 0.4192512891098647, 0.4731036939111861, 0.5382254070243832, 0.6153842628836097, 0.6993538563670958, 0.7788879237823221, 0.8404818383679283, 0.8737739661722284, 0.8753377485630445, 0.8471188769081494, 0.7932392058592574, 0.7194751332702449, 0.6324534716713093, 0.5387416728145568, 0.4443885464792111, 0.3547871381680601, 0.27462294676655125, 0.20770635639094642, 0.15657003615714277, 0.12194366824338188, 0.10256752799165092, 0.09566375581483644, 0.09773241764696694, 0.105230322036581, 0.11503007130697285, 0.12473444194621708, 0.13285612281919568, 0.13874390715222723, 0.14231444857876002, 0.14378808000982835, 0.14349648636128443, 0.1417601214934776, 0.1388300150739455, 0.13488804788155234, 0.13009241209259925, 0.12464774243369736, 0.11887789638166035, 0.11328194421994375, 0.10855527326656988, 0.10555448113031063, 0.10517960751691036, 0.10815795534413664, 0.1278179514971557, 0.14842938379015858, 0.17883715263417876, 0.21661477616775676, 0.25855097315691167, 0.3018707834614379, 0.34506572538951774, 0.3884266206711642, 0.4342546102255283, 0.4864564119832012, 0.5489779226671501, 0.6229213009725033, 0.7037335445850417, 0.7810309346449488, 0.8419111805466699, 0.8757775139560412, 0.8781137985207353, 0.850015786299473, 0.7955951745033554, 0.7208861823208411, 0.6327299164285853, 0.5378275135758923, 0.4423087253265404, 0.35162725885581525, 0.2705335083614425, 0.20291825452724505, 0.15139425310372373, 0.11671900141763325, 0.09757375910957489, 0.09107372714401374, 0.09361734878665773, 0.10158436624766132, 0.11179382183538122, 0.12181820727563586, 0.1301718696062545, 0.1362305242491022, 0.13994461856479584, 0.14156659806642435, 0.1414546756718399, 0.13994721742725053, 0.1373029921568496, 0.13370222942066923, 0.12929470092449458, 0.1242727099362102, 0.1189454822884577, 0.11379490396912828, 0.10949475471958525, 0.10687322026384216, 0.10679508567900087, 0.10995362534460362, 0.13487892414108404, 0.15697534409632585, 0.18905142272009762, 0.22855889663260837, 0.2721341726161217, 0.31682990550183787, 0.36093917675007237, 0.40453102667659646, 0.44969290150266367, 0.5002034578162065, 0.5600748225070076, 0.630769169766388, 0.7084181023540016, 0.7834841566977898, 0.8436396109629128, 0.8780338851263574, 0.8810537703377979, 0.8529678316182185, 0.7979169594896386, 0.7222190920852862, 0.6329280052421289, 0.5368658153025359, 0.44022944220872934, 0.34852121875466296, 0.2665466625750792, 0.1982705104512788, 0.14638415031905072, 0.11167350641488505, 0.09275906144279278, 0.08664914294874804, 0.08964447128710429, 0.09805303542578325, 0.1086450610146843, 0.11896560134860279, 0.12753226107246118, 0.13374818551871892, 0.13759712706699462, 0.13936323704602294, 0.13943108784165498, 0.1381567378715451, 0.13580616523410477, 0.13255709397933446, 0.12854987391290618, 0.12396349602143408, 0.11909162711613852, 0.11439802270911714, 0.11053384610719164, 0.108297979191459, 0.10851972543977917, 0.1118591682723975, 0.14238268268276594, 0.16598496869377555, 0.19972772341016393, 0.24095049619131786, 0.28614816431915024, 0.33220701171589123, 0.3772227399167824, 0.421037771066783, 0.4655161562824921, 0.5143027243243724, 0.5714867552027749, 0.6389122819650397, 0.7133984835420839, 0.7862283127573655, 0.8456209722147363, 0.8804676221583049, 0.8840666986715098, 0.8558887161081182, 0.8001357197228313, 0.7234246854448949, 0.6330160780870427, 0.5358395048737287, 0.43814569497167366, 0.34547409845603666, 0.2626757093243548, 0.1937823046726923, 0.14156192854520322, 0.10682962502920756, 0.08814371553953249, 0.08240675274542342, 0.08582667801901689, 0.09464565252615009, 0.10559027063779702, 0.11618130847908759, 0.1249411045629294, 0.13130027297902247, 0.13527504396730328, 0.13718074203454717, 0.13742809335965667, 0.13639060783994594, 0.13434090195253012, 0.13145328175683346, 0.12785762375013598, 0.12371860305488402, 0.11931341077769186, 0.11508677873307882, 0.11166636512233741, 0.10982107198577495, 0.11034476482563071, 0.11386532768257274, 0.15031660924535617, 0.17544134282448698, 0.21084133976548708, 0.2537563984125673, 0.30055150107539724, 0.34795322563073106, 0.3938621436662631, 0.4378908375165421, 0.48167162251894813, 0.5287102128909942, 0.5831829790812886, 0.6473333358740826, 0.7186623337377971, 0.7892377565261869, 0.847799598625393, 0.8829929041423179, 0.8870522576214515, 0.858684465864151, 0.8021774699177762, 0.7244507784415151, 0.6329607786617172, 0.5347305020191129, 0.4360518146724554, 0.3424905217354138, 0.2589337240084036, 0.18947285742456776, 0.13694994932955407, 0.10220986186965608, 0.08374786161445213, 0.07836306489097822, 0.0821766546803514, 0.09137142358517891, 0.10263589416725027, 0.1134700929529392, 0.12240241648562511, 0.12889043999176264, 0.1329817282801754, 0.13502214245291722, 0.135448329046078, 0.13465099155943788, 0.1329087738284105, 0.1303915939300525, 0.127217757815277, 0.12353660677344724, 0.11960796130710583, 0.11585670119965175, 0.11288621961760681, 0.11143497212168707, 0.11226166558150819, 0.11596309010626804, 0.15866386083730882, 0.1853229492377274, 0.22236321325998182, 0.26693953438679136, 0.3152991055615449, 0.36401612073836725, 0.41079959834951874, 0.4550309128291504, 0.4981038372710197, 0.5433799909969655, 0.5951313684954678, 0.6560136966915104, 0.7241952681348002, 0.792483155552997, 0.8501137753237674, 0.8855168558678097, 0.8899038231749252, 0.8612563562113804, 0.8039652774934253, 0.725243583003583, 0.6327278784742348, 0.5335201588203196, 0.4339416438387205, 0.33957464525284276, 0.25533341677174254, 0.18536122978781822, 0.13257051636615258, 0.09783654308353429, 0.07959126725305665, 0.07453417290551345, 0.07870678160125366, 0.08823941405263747, 0.0997883613367676, 0.11083684712489417, 0.1199204679808692, 0.12652264145478365, 0.1307208495098786, 0.13289076973105662, 0.13349471448920402, 0.13294030879820928, 0.1315115730691112, 0.12937301066403217, 0.1266302187872369, 0.12341618170866431, 0.11997248741703237, 0.11670341092851966, 0.11418745466700397, 0.11313236007848448, 0.11426215663845563, 0.11814372656476957, 0.1674030883028123, 0.19560314279824215, 0.23425986761824957, 0.2804590310329717, 0.3303424407555755, 0.38033992952005025, 0.4279739913110041, 0.4723955108168608, 0.5147546452789729, 0.5582641268612967, 0.6072984103223694, 0.6649337894900113, 0.7299821976415318, 0.7959342166759306, 0.8524993441898407, 0.8879429517232331, 0.8925116347102056, 0.8635039603163205, 0.8054215752442327, 0.725749179659882, 0.6322831370259065, 0.5321897163582804, 0.4318087197587579, 0.3367301400958738, 0.2518869641295465, 0.18146608176187212, 0.12844561241407426, 0.09373153088130615, 0.07569306508174278, 0.0709355677389264, 0.07542902956207131, 0.08525852683195478, 0.0970541268944558, 0.10828665244059155, 0.11749983041590861, 0.12420115995822145, 0.1284964053869836, 0.130790272286347, 0.13157046647102355, 0.13126124954879914, 0.13015132783120742, 0.12839870741736725, 0.12609510325249318, 0.1233561240961657, 0.12040430762885435, 0.11762265624804491, 0.11556429271893487, 0.11490616260194031, 0.11633826917272005, 0.12039882594006801, 0.17650841150021324, 0.2062499956560886, 0.24649350231802486, 0.294270385408242, 0.34562973805030356, 0.3968657988314649, 0.4453211184555894, 0.4899191133149775, 0.5315632123185088, 0.5733126084977547, 0.6196491836308752, 0.674073462518926, 0.7360085944105369, 0.7995623087383, 0.8548933463941291, 0.8901745248775126, 0.8947660920223568, 0.8653282979904349, 0.8064705187044993, 0.7259150084652961, 0.6315931695947568, 0.5307207647250234, 0.42964645772224797, 0.3339601651902665, 0.24860581330959514, 0.17780538217971714, 0.12459658608870894, 0.08991588976378218, 0.07207146273193832, 0.06758193922201117, 0.07235485008246068, 0.08243747830100012, 0.09443972495153086, 0.10582485270233588, 0.11514541571208703, 0.12193062559724865, 0.1263127349251375, 0.12872462723323685, 0.1296791110005563, 0.129616786752352, 0.1288303156077687, 0.12747006922023518, 0.12561267797751585, 0.12335537195316904, 0.12090087571257513, 0.11861034380193913, 0.11701116711499648, 0.11674958435208582, 0.11848236416060043, 0.12272032110393483, 0.18594970612782102, 0.21722681514119424, 0.25902226920016946, 0.30832572738802355, 0.3611062841749905, 0.4135320945553068, 0.4627739588178659, 0.5075333390772472, 0.5484660450561379, 0.588473254601152, 0.6321473152512617, 0.6834122789292668, 0.7422615905691112, 0.8033428565641734, 0.8572376229877485, 0.8921183981056393, 0.8965612262883347, 0.866635054729634, 0.8070403133773846, 0.7256913250259036, 0.6306262936988127, 0.529095692593185, 0.42744832952925926, 0.3312673339513877, 0.24550046243763557, 0.17439606611050423, 0.12104378238957691, 0.08640950131761371, 0.06874343022722984, 0.06448697134711645, 0.06949506105587078, 0.07978476661169309, 0.0919518365005827, 0.1034571328220365, 0.11286250509634654, 0.11971602716752883, 0.12417452582395416, 0.12669814829364268, 0.12782449258907835, 0.12801018675091969, 0.12755107443337865, 0.1265887026037148, 0.12518339353326846, 0.1234130220491999, 0.12145980224808972, 0.11966256431840328, 0.11852274932114204, 0.11865613264248864, 0.12068715325377977, 0.12510050862480748, 0.19569312875691974, 0.2284929578263819, 0.2718007103350887, 0.32257416624262425, 0.3767147657696308, 0.43027475749647526, 0.48026299918921006, 0.5251671525943747, 0.5653970303462684, 0.6036916254468003, 0.6447549053631336, 0.6929296981656189, 0.7487308119041545, 0.8072573677048362, 0.8594822836407451, 0.8936886603521529, 0.8977983856932437, 0.8673378151258541, 0.807065430470867, 0.7250325687115264, 0.6293533260542247, 0.527298113053051, 0.4252080331541338, 0.3286536769902095, 0.24258022343312352, 0.17125363746041772, 0.1178061103749698, 0.08323062684366167, 0.06572437357158123, 0.06166313746056651, 0.06685972926094563, 0.07730862567677865, 0.0895973502105396, 0.10118958062271133, 0.110656759509287, 0.1175627127854163, 0.1220868153989898, 0.12471548944044875, 0.12601078042261837, 0.12644501715720657, 0.1263164115912757, 0.12575644486022064, 0.12480789497779621, 0.12352834353804798, 0.1220788721868088, 0.12077561342345566, 0.12009397026352797, 0.12061963594536607, 0.1229457137267459, 0.12753206279638407, 0.2057017514426101, 0.24000462868797956, 0.284780309507306, 0.33696221058688663, 0.392395668188521, 0.4470277113197878, 0.49771661570125975, 0.5427471260629345, 0.5822875083998472, 0.6189109435426445, 0.65743242014383, 0.7026051146111774, 0.75540885950979, 0.8112949356543003, 0.8615889031044481, 0.8948106207771958, 0.8983901745152456, 0.8673612098840091, 0.80648862238905, 0.7238985922004125, 0.6277483037500787, 0.52531325345741, 0.42291965013115235, 0.3261206050371928, 0.23985297905009095, 0.16839171938135977, 0.11490054091525903, 0.08039542242032871, 0.0630278076372901, 0.059121502737999876, 0.06445805214779177, 0.07501695973567868, 0.08738336204606711, 0.09902869141135351, 0.10853420636109457, 0.1154763785748586, 0.12005498443518203, 0.12278164388433621, 0.1242424711120167, 0.12492515183378394, 0.12512940950199125, 0.12497537031610162, 0.12448702932253108, 0.12370078806107732, 0.12275605835339354, 0.12194600764257946, 0.12172003618759542, 0.12263425679936357, 0.12525149818099512, 0.13000804466323101, 0.21593621193686413, 0.25171561815521, 0.29791010502580706, 0.35143424704765974, 0.40808772306772, 0.4637233219316743, 0.5150615186609901, 0.560197768760075, 0.5990663960659404, 0.6340720361079326, 0.6701385527344026, 0.7124177299536123, 0.7622913673091266, 0.8154530490578905, 0.8635332157783222, 0.8954249753581303, 0.8982646619569425, 0.8666438134504988, 0.8052626442413059, 0.7222557058328957, 0.6257891064107269, 0.5231282985120831, 0.4205777879530135, 0.3236688772789948, 0.23732495034208567, 0.16582156569498602, 0.11234152694671495, 0.07791742192419615, 0.06066504588341137, 0.05687154222688606, 0.06229824224447933, 0.07291725756803491, 0.08531707384454268, 0.09698129124825183, 0.10650120064745339, 0.11346304487595449, 0.11808474361542542, 0.12090193810059147, 0.12252438772686014, 0.12345477267537108, 0.12399342846639094, 0.12424779329869884, 0.12422184952881399, 0.12392999617352429, 0.12348953088189685, 0.12317049578391692, 0.12339643947092205, 0.1246944997167827, 0.12759833962965994, 0.13252190665627106, 0.2263553353149163, 0.26357797907848235, 0.3111373219893383, 0.3659330612187817, 0.423728397525768, 0.48029290610436903, 0.5322232657607555, 0.5774419388305038, 0.6156603786224698, 0.6491133145414001, 0.6828300589418497, 0.7223462463210842, 0.7693765832840622, 0.8197375349016557, 0.865306956779317, 0.8954921995565567, 0.8973697775476568, 0.8651405603172108, 0.8033515891381019, 0.7200774972309694, 0.6234579602295581, 0.5207326777427568, 0.4181777054773824, 0.3212985807804649, 0.23500049484273472, 0.16355156684333688, 0.11014033810001833, 0.07580702322034594, 0.058644927927774426, 0.05492098304296378, 0.060387418352459976, 0.07101649078382333, 0.08340563132476109, 0.09505440306584012, 0.1045643625701318, 0.11152902032269874, 0.11618211244396637, 0.11908202067966533, 0.1208616748439143, 0.12203836788701294, 0.12291210592747948, 0.1235762674814499, 0.12401361480365747, 0.12421579998661447, 0.12427766262968143, 0.12444606593437779, 0.1251189648224056, 0.12679521464682109, 0.12998045253070634, 0.13506749339427399, 0.2369167117931314, 0.2755426486673804, 0.32440799668460524, 0.38040038480224986, 0.4392544166574176, 0.49666728536106186, 0.5491268469062083, 0.5944013527487968, 0.6319941909639182, 0.6639708098541074, 0.6954615797783427, 0.7323683784939256, 0.7766644481323712, 0.8241614855735742, 0.8669183739258427, 0.8949970005069995, 0.8956774744990001, 0.8628243981714974, 0.8007317569283147, 0.7173453964090578, 0.6207418097821352, 0.5181182906685345, 0.4157154199675299, 0.3190091264030331, 0.2328819573585355, 0.1615868147765745, 0.1083043010130712, 0.07407104067637427, 0.05697360712314392, 0.053275678812086946, 0.058731508175642766, 0.06932100466641888, 0.08165595817380145, 0.09325509684615152, 0.10273049714940574, 0.10968085495171542, 0.11435339083491636, 0.11732784586462586, 0.11925978936022164, 0.12068072644641314, 0.12188935190410144, 0.12296358129252605, 0.12386378698877087, 0.12455822195981514, 0.1251190306569684, 0.12576994832953825, 0.12688369129555432, 0.12893159651232167, 0.13239243028645165, 0.13763903915588593, 0.2475772275937292, 0.2875600201277104, 0.33766757780567275, 0.39477745460480984, 0.45460231023425646, 0.5127773792212288, 0.5656973411600386, 0.6109972071134915, 0.6479910118594316, 0.6785782875537335, 0.7079854686352276, 0.7424601941840149, 0.7841551764261242, 0.8287430758355917, 0.8683908779527251, 0.8939516896660247, 0.8931864679086787, 0.8596869041888571, 0.7973920005707947, 0.7140489689214788, 0.6176325492325337, 0.5152796654142707, 0.41318779491953267, 0.31679926555410265, 0.2309695929449343, 0.15992881905312245, 0.10683598868894773, 0.07271240989979644, 0.05565441773011215, 0.05193952308144156, 0.05733516699703456, 0.06783641125226869, 0.08007460822609147, 0.09159034742730765, 0.101006502800985, 0.10792528410584656, 0.11260512374260678, 0.11564565170244723, 0.11772448683292747, 0.11938692842907939, 0.12092934023542457, 0.122412749075688, 0.12377402286539707, 0.12495746982005429, 0.12601241390074314, 0.12713961438098786, 0.12868699053454635, 0.13109918130046594, 0.13482923968148247, 0.1402311624798746, 0.2582935499931663, 0.299580468152678, 0.3508614970539412, 0.40900557153926587, 0.46970897420832686, 0.5285548299119586, 0.5818606425611579, 0.6271509253796265, 0.6635729979425579, 0.6928674706633188, 0.7203516459963207, 0.752595300083871, 0.7918473796609016, 0.8335022732245829, 0.869759391989029, 0.8923951610169262, 0.8899216528547724, 0.8557376896053994, 0.7933335307887998, 0.7101859337558312, 0.6141271106289233, 0.5122140489828391, 0.4105926082404758, 0.3146671302967363, 0.2292615747964063, 0.15857545819429464, 0.10573296115166941, 0.07173012026450087, 0.0546878345936016, 0.05091440626478383, 0.05620171643786853, 0.06656749301298459, 0.07866763972847013, 0.09006690757433045, 0.09939927550453298, 0.10626916521623175, 0.11094405935333584, 0.11404193277775321, 0.11626180310954226, 0.11816233085894001, 0.12003649525753302, 0.12192699769796289, 0.12374616223100665, 0.1254139276291414, 0.12695678720991754, 0.12855277216252325, 0.13052552165996578, 0.13329383915316795, 0.1372862126896437, 0.14283885830868392, 0.2690225689771323, 0.3115548318318519, 0.3639357061864658, 0.4230266503904827, 0.48451223766836726, 0.5439326486846419, 0.5975442467868305, 0.6427850377728205, 0.6786619871040848, 0.7067684054217277, 0.7325075083407464, 0.7627438967071041, 0.7997358032184346, 0.8384565818747423, 0.871064236878967, 0.8903851159882074, 0.8859293224542074, 0.8510026020224306, 0.7885692036574153, 0.7057619175539106, 0.6102274130803602, 0.5089214298651729, 0.4079286006560161, 0.3126102970618651, 0.22775408952065118, 0.1575211870246841, 0.10498843695312932, 0.07111939381920052, 0.05407152845288177, 0.050200217980813644, 0.05533310629081345, 0.06551812298151538, 0.077440511443017, 0.08869119766860911, 0.09791561377230906, 0.10471940958640269, 0.10937710142868928, 0.11252340751272993, 0.1148780310016172, 0.11701254872367306, 0.1192154735129205, 0.12150974830926686, 0.12378221164410497, 0.12592814306778066, 0.12795131194496667, 0.13000735867060098, 0.13239622318801259, 0.13551176487081912, 0.13975903604325396, 0.1454574880517014, 0.2797217981161753, 0.32343485795547816, 0.3768371799153663, 0.4367837535022124, 0.49895142627435896, 0.5588458720864536, 0.6126780848770614, 0.6578241947537923, 0.6931804036173467, 0.7202100107022017, 0.7443979191931843, 0.7728717258827427, 0.8078087740919825, 0.843616115632564, 0.8723427991896744, 0.887986333685795, 0.881269673845096, 0.845520947187421, 0.7831223600371376, 0.7007899709067937, 0.6059401823283597, 0.5054044959745966, 0.40519550447183195, 0.31062587180403056, 0.22644151122761247, 0.15675744113985968, 0.10459210952751408, 0.07087205876620972, 0.05380050951739823, 0.049794893752902025, 0.054729901083074295, 0.0646912045871656, 0.07639799945756398, 0.08746921151774278, 0.09656212794626462, 0.1032829111217497, 0.1079112563913387, 0.11109698000338575, 0.1135796917301729, 0.11594343076213942, 0.11847114007070036, 0.12116459297710747, 0.12388432378236025, 0.1265008110553283, 0.12899532338034103, 0.13150152918572477, 0.13429630236328782, 0.1377494662134321, 0.14224373892365688, 0.14808276790944308, 0.29034973706801526, 0.33517360710926497, 0.3895143851181212, 0.4502216035715999, 0.5129679138620317, 0.573232215118122, 0.6271953838735057, 0.6721963015847816, 0.7070523987649422, 0.7331208591557681, 0.7559653075685163, 0.7829389308411525, 0.8160454671648619, 0.8489784279621915, 0.8736198366720639, 0.8852587554883221, 0.8760089490985108, 0.8393421112278514, 0.7770253221508335, 0.6952898844838288, 0.6012766552049325, 0.5016685329472605, 0.4023940530324624, 0.30871059231773995, 0.22531663706501076, 0.1562731431907795, 0.10453086865263694, 0.0709770311602661, 0.05386734341851196, 0.04969450235859918, 0.0543912915986553, 0.0640886323842722, 0.07554413331721344, 0.08640643727696617, 0.09534515590112269, 0.10196647363414035, 0.10655357568735735, 0.10976969632047806, 0.1123735008318324, 0.11496102959044396, 0.11780853901156296, 0.12089526594872135, 0.1240547724191905, 0.12713275387943335, 0.1300883151822646, 0.13303364407066387, 0.13622322227150646, 0.14000375035604262, 0.14473667910128857, 0.15071075576784798, 0.3008661977653543, 0.3467258243714717, 0.4019177171393983, 0.4632870723779463, 0.5265056548552611, 0.5870327073967454, 0.6410335279045615, 0.6858337425741764, 0.720205258630102, 0.7454302451426607, 0.7671498901556313, 0.7928988413060936, 0.8244130910978621, 0.854523572095373, 0.8748984809713803, 0.8822478566253857, 0.8702127384460967, 0.8325220179040238, 0.7703176746661728, 0.689287351415178, 0.596252187391661, 0.49772126956447704, 0.3995259714476589, 0.3068609419062731, 0.22437096222728425, 0.1560552301778642, 0.10478943170388755, 0.07142082838276598, 0.05426241888590133, 0.049893367983003034, 0.0543151302531919, 0.0637112733719265, 0.0748821499686696, 0.08550779234133776, 0.09427068617419632, 0.1007767379908896, 0.10531109386366833, 0.10854869513601717, 0.11126632816006254, 0.11407156568263543, 0.11723285760964264, 0.1207056093385449, 0.12429592309712778, 0.1278248980693033, 0.1312299212681619, 0.13460225334896359, 0.13817468708488917, 0.1422717088301751, 0.14723452782524993, 0.15333783694267028, 0.31123259596417585, 0.35804827583847726, 0.4139999038352564, 0.47592964353960565, 0.539511691353524, 0.6001922984703041, 0.6541348879775445, 0.698674638554656, 0.7325710981958257, 0.7570696004697387, 0.7778900163970983, 0.8026966883298701, 0.8328640711145598, 0.8602097807398467, 0.8761549851683255, 0.8789793518820221, 0.8639410781869787, 0.8251198056949031, 0.7630444625337157, 0.6828130269190292, 0.5908857855493986, 0.49357267836197743, 0.39659394941510445, 0.305073267843285, 0.22359497225598823, 0.15608915344778956, 0.1053508929897492, 0.07218806607029249, 0.05497424576104182, 0.05038421994543252, 0.05449798810223372, 0.06355896761139512, 0.07441446393470241, 0.08477757105239225, 0.0933442888586653, 0.0997201100382844, 0.10419076268905714, 0.10744115244800356, 0.11026515154665151, 0.11328138466186266, 0.11674938372805421, 0.12059953310711291, 0.12461019966482934, 0.12857824831044795, 0.13241989538679888, 0.13620607941324941, 0.14014862577961523, 0.14455070126005176, 0.14973425373660243, 0.15596070902731074, 0.32141220945324, 0.3691000516218014, 0.42571637756638747, 0.488101848296723, 0.551936630276722, 0.6126604195019849, 0.6664475857434365, 0.7106640533709421, 0.7440888174713631, 0.7679743185695226, 0.7881226108025954, 0.8122682527164479, 0.8413332711945385, 0.8659699636360652, 0.8773381182547795, 0.8754585398318849, 0.8572454531643214, 0.8171949971842665, 0.7552544267058595, 0.6759015364905151, 0.5851995861802018, 0.48923474035917913, 0.3936015972659342, 0.30334389810046625, 0.222978433463683, 0.1563593291221232, 0.10619719887023127, 0.07326191453277942, 0.055989764278753684, 0.05115836218240932, 0.05493523044742099, 0.06363054622608855, 0.07414265209291382, 0.08421940409145234, 0.09257105420075562, 0.09880268995810415, 0.10319938154797381, 0.10645422007384331, 0.1093770036050018, 0.11259690728792326, 0.116363455943434, 0.1205809692962655, 0.1250000469501129, 0.12939385876677123, 0.13365808878976948, 0.13784399821728305, 0.14214317465144, 0.14683833818067837, 0.15223310605591966, 0.15857636607302478, 0.33137040388722144, 0.3798428353911935, 0.43702561464644507, 0.4997596738046658, 0.5637350877393962, 0.6243914907639614, 0.677926156930682, 0.7217550428238845, 0.7547061709158185, 0.7780860050615501, 0.7977836632093817, 0.8215384693166667, 0.8497352628094659, 0.871709026382524, 0.8783713124862071, 0.871672586189396, 0.8501675116652392, 0.8088053049096662, 0.7469983759391119, 0.668590480454167, 0.5792183035411755, 0.48472118326093416, 0.3905533866848131, 0.3016692505042297, 0.22251066691063998, 0.15684953162790088, 0.10730955581311108, 0.07462450557402167, 0.05729465047892368, 0.05220585479622564, 0.05562110750581284, 0.06392386451204368, 0.07406745141980853, 0.08383622848240935, 0.09195553864593597, 0.09803020353540248, 0.10234352427539106, 0.10559495747597869, 0.1086089110600903, 0.1120245714481829, 0.11608040593926505, 0.12065382062384422, 0.12546788996446268, 0.1302728022464813, 0.13494442639439086, 0.13951501930830706, 0.14415665894227253, 0.149132463204741, 0.15472859727375365, 0.16118208230805797, 0.34107482692086805, 0.3902411400098046, 0.4478894408277756, 0.5108629433475521, 0.5748660998527448, 0.6353453677236177, 0.6885320846284961, 0.7319094349768175, 0.7643815454110652, 0.7873548666249116, 0.8068087163105583, 0.8304200692768977, 0.8579616236685151, 0.8773019441222366, 0.8791561678557971, 0.867594102032591, 0.8427391355990902, 0.8000051058108985, 0.7383277637444017, 0.6609194761591696, 0.572968667696448, 0.48004720247569466, 0.38745457788655957, 0.300045929624368, 0.2221807961720848, 0.15754323028397166, 0.10866877803330466, 0.07625728826663614, 0.058873606896364006, 0.053515700646271314, 0.056548856405123304, 0.06443584772164113, 0.07418876807736785, 0.08363026719190447, 0.09150171801682039, 0.09740793573536266, 0.10162946260613948, 0.10487025638492165, 0.10796782588101017, 0.11157076537209287, 0.11590549277654993, 0.120821903728619, 0.1260160901741022, 0.13121613771926843, 0.13627888186431708, 0.1412182650565208, 0.1461875738768229, 0.15143113478602277, 0.15721848555233092, 0.16377539558164, 0.3504955711061125, 0.40026250835386523, 0.4582733003097762, 0.5213756669736396, 0.5852935013331131, 0.6454877227529656, 0.6982341807820457, 0.7410982545337861, 0.773084821400556, 0.7957410766677211, 0.8151333442213226, 0.8388124794437848, 0.8658782494550015, 0.8825926776478461, 0.8795771698306956, 0.8631852463134808, 0.8349834574768785, 0.7908445352314355, 0.729293509537427, 0.6529292706354117, 0.566478871593016, 0.47522917390175734, 0.38431113533454825, 0.2984708080631585, 0.22197796333810554, 0.158423872126697, 0.11025558088181531, 0.07814133577408167, 0.060710631530178416, 0.0550760309703997, 0.057710810816581914, 0.06516254705918201, 0.07450569626442127, 0.08360301739022213, 0.09121294752728426, 0.09694066700289761, 0.10106308651252482, 0.10428675761534878, 0.10746054737187039, 0.111241751197797, 0.11584382879184729, 0.12108888760158976, 0.12664689952585373, 0.13222487676066552, 0.13766145205584962, 0.14295294943605102, 0.1482345653941557, 0.15373260780860037, 0.15970075702774944, 0.1663540906997173, 0.3596053058806369, 0.40987767807726716, 0.4681464845862977, 0.5312663589415219, 0.5949862754697332, 0.6547903642014011, 0.7070088046130844, 0.7493017555925507, 0.7807969719751693, 0.8032141277439756, 0.8226937025426531, 0.8466014556622061, 0.8733226926374569, 0.8873944776339935, 0.8795078714176067, 0.8584020172141165, 0.8269164454477689, 0.7813691029394711, 0.719945076203248, 0.6446609472351252, 0.5597780431575428, 0.47028436671953444, 0.38112963433297053, 0.29694109020580944, 0.2218915109713116, 0.15947511545771242, 0.11205082570083003, 0.08025760680080918, 0.0627892611769385, 0.056874285189533524, 0.05909851477855921, 0.06609920350697218, 0.07501654532589064, 0.08375524651854482, 0.09109192840924696, 0.09663261279907198, 0.10064982192855765, 0.10385075946449951, 0.10709363424660179, 0.11104357792887554, 0.11590029712847139, 0.12145822804852735, 0.12736241307645935, 0.13329994956156344, 0.1390921312934738, 0.1447183567059629, 0.15029641084378886, 0.15603531521309838, 0.1621736081839903, 0.16891618280163928, 0.36837937893520334, 0.4190607089233067, 0.4774823163937656, 0.5405083147050248, 0.6039188807754566, 0.6632314988839967, 0.714839916806672, 0.7565090904702947, 0.7875087414282603, 0.809751167097847, 0.8294273065190535, 0.8536602979698407, 0.8801016051536337, 0.8914929593022385, 0.8788186629396124, 0.8531984824126975, 0.8185487472143298, 0.7716197128923742, 0.7103297950164796, 0.6361552406362376, 0.5528957551245373, 0.4652306634686282, 0.3779171609899034, 0.29545435776841006, 0.22191113010548286, 0.16068101900735143, 0.11403572143636265, 0.08258716576611491, 0.06509278748445468, 0.058897381225073264, 0.06070283763741924, 0.06724031725595725, 0.07571887370572894, 0.08408699539353393, 0.09114068102506434, 0.09648736705411332, 0.10039454673336445, 0.1035681171988968, 0.10687330557336949, 0.11098198274482873, 0.11607946133486502, 0.12193309939865138, 0.12816452123250577, 0.13444217119205493, 0.14057088594601397, 0.14651382033018034, 0.15237199989959804, 0.15833784985356641, 0.16463542845298407, 0.17145990091055124, 0.3767958873038856, 0.42778907124922316, 0.4862582833446953, 0.5490798350200936, 0.6120715596024768, 0.6707959458061586, 0.7217189758843924, 0.7627176940608309, 0.7932190317461076, 0.8153355049585896, 0.835274187690151, 0.8598537763114547, 0.8859886383302733, 0.8946544126609977, 0.8773857939734123, 0.8475306869583522, 0.8098875620390426, 0.7616329679606695, 0.7004924139998012, 0.6274519663251426, 0.5458615818985575, 0.4600862935620417, 0.3746812081153123, 0.29400859754877984, 0.22202697594389809, 0.16202619161062115, 0.11619198789725349, 0.08511136585819123, 0.06760444565426527, 0.06113187374647033, 0.0625140874821476, 0.06857972072199425, 0.07660952843878899, 0.08459758766434045, 0.0913605244401664, 0.09650785042146615, 0.1003015064043884, 0.10344413348400139, 0.1068053293256962, 0.1110622796068863, 0.11638546813767248, 0.12251632509170496, 0.12905486275164202, 0.13565220884419077, 0.14209762977341078, 0.14833870246115066, 0.1544603159270324, 0.16063894676094453, 0.16708478317867453, 0.17398367177488433, 0.3848357186746506, 0.4360436947491746, 0.4944561158469852, 0.5569643792601784, 0.6194306259984838, 0.6774753010687256, 0.7276446872665944, 0.7679324873190021, 0.7979334058331279, 0.8199555955048397, 0.8401784675030115, 0.8650455793368699, 0.8907301574084068, 0.8966423592098955, 0.8751005798815099, 0.841359984959205, 0.800938382198228, 0.7514416530236813, 0.690474837065071, 0.6185895637880183, 0.5387047094578542, 0.4548695851755837, 0.3714295695843604, 0.2926022126100766, 0.22222975388633548, 0.16349590710666823, 0.11850198516769306, 0.08781199897842473, 0.07030757674434751, 0.06356409871069446, 0.06452212092840326, 0.07011065336729527, 0.0776846889972933, 0.08528564501602887, 0.0917520625205267, 0.0966962644272662, 0.10037423144084257, 0.10348344038037982, 0.10689489712038913, 0.11128923422633707, 0.1168219454895183, 0.12321030920858866, 0.13003477976863598, 0.13693055079300204, 0.14367220050216134, 0.15019237429339433, 0.15656041801982018, 0.16293746597141834, 0.16952039706732142, 0.17648610410389787, 0.3924825636599221, 0.4438089769436113, 0.5020618048791238, 0.564150626894549, 0.6259886922397627, 0.6832680168314074, 0.7326226174599467, 0.7721649994859174, 0.8016628557646492, 0.8236044639440508, 0.844090226187516, 0.86910875619321, 0.8940773864943166, 0.8972440189099442, 0.8718770049358208, 0.8346556109395669, 0.7917065064246481, 0.7410753084498513, 0.6803160176763833, 0.609604747336629, 0.5314536013056821, 0.44959873921899973, 0.36817023556534506, 0.29123401870542837, 0.22251077904428174, 0.16507618889940673, 0.12094881331785134, 0.09067141634881981, 0.07318576514767217, 0.06618030333503988, 0.06671644758120332, 0.0718258367995751, 0.07893991443345383, 0.086149107582562, 0.0923151766840401, 0.09705405278472778, 0.10061545944143202, 0.10368987501803462, 0.1071464835588466, 0.11166692499238462, 0.1173918993379991, 0.12401697140634182, 0.13110527617453605, 0.13827747780490468, 0.1452943380640287, 0.1520741975695295, 0.1586714239014389, 0.16523237606020935, 0.17194113823113266, 0.1789659732866758, 0.39972290008047906, 0.4510727518197887, 0.5090655572115586, 0.5706324289136112, 0.6317447064172798, 0.6881792834788506, 0.7366646886725573, 0.775432487240827, 0.8044228549401925, 0.8262794974216278, 0.8469674388548296, 0.8719367203934656, 0.8958307492691757, 0.8963035197422787, 0.8676559740171423, 0.827396433576991, 0.7821982769421063, 0.7305608263528144, 0.6700519710291891, 0.6005322547910907, 0.5241357208889189, 0.4442916279082222, 0.3649112907981735, 0.28990322810585345, 0.22286201262599875, 0.16675386830425737, 0.12351638621259997, 0.09367262328208037, 0.07622295316685856, 0.06896676126036194, 0.06908632794767744, 0.07371754887539217, 0.08037019288564184, 0.08718525908891461, 0.0930490254627443, 0.09758187124049089, 0.10102706547338614, 0.10406635363930117, 0.10756368842880293, 0.11219859107835661, 0.11809761418314568, 0.12493768800357818, 0.13226698067703047, 0.13969303768418134, 0.14696366489724538, 0.15398350749299217, 0.16079249386410954, 0.1675227385034192, 0.17434600291763042, 0.1814222066711787, 0.4065459506783353, 0.4578262199912892, 0.5154616885594586, 0.576408641584409, 0.6367036601122735, 0.6922206027111599, 0.739788575231721, 0.7777571024900063, 0.806232665390265, 0.8279825084410889, 0.8487777671233144, 0.8734512992923805, 0.8958722381857789, 0.8937472186765109, 0.8624060471576778, 0.8195719686973917, 0.7724220278191116, 0.7199230211696832, 0.6597158715732317, 0.5914046819946024, 0.5167773087981054, 0.4389656193623829, 0.36166081783143345, 0.28860942315718885, 0.22327607858606952, 0.16851662047814536, 0.12618948289129361, 0.09679935133262585, 0.0794035347617914, 0.07190987312902986, 0.07162086396654155, 0.07577769577794768, 0.081969992636864, 0.08839075628298854, 0.09395205101667348, 0.09827956730022058, 0.10161000489777927, 0.10461475254992714, 0.10814905996366497, 0.11288647331675594, 0.11894056408957776, 0.12597324205410043, 0.1335201157919914, 0.14117702358019069, 0.14867966866238153, 0.15591959726879578, 0.16292281589412705, 0.16980769297251008, 0.17673410100290743, 0.1838538694678804, 0.41294361605570884, 0.464063842796985, 0.521248458474416, 0.5814828505270001, 0.6408760180837134, 0.6954091032255849, 0.7420170312831448, 0.7791651370781792, 0.807114855531027, 0.8287199788793352, 0.8495000998961562, 0.8736056530062785, 0.8941746024273628, 0.8895834169003238, 0.8561226392264953, 0.8111828019627395, 0.7623887552083595, 0.7091851424298881, 0.6493382070176831, 0.5822523901177346, 0.5094032114537118, 0.4336374286799767, 0.35842680680508043, 0.28735252190403215, 0.22374626380944923, 0.17035298139992688, 0.1289537796808562, 0.10003611076965313, 0.08271243057956146, 0.07499625314057079, 0.07430908166158001, 0.07799788126602825, 0.08373331402748219, 0.08976166224278725, 0.09502199267697298, 0.09914617101580725, 0.10236427288452266, 0.10533580894693162, 0.1089038987974793, 0.11373166330103845, 0.1199213418294075, 0.12712378506990485, 0.1348644738538503, 0.1427289565810777, 0.15044168766725124, 0.1578817044567793, 0.16506159210716564, 0.17208644364788278, 0.1791046423131074, 0.18626015133110185, 0.4189103850072478, 0.4697832037691309, 0.5264278539282378, 0.5858630072345872, 0.6442770458876881, 0.6977667600252028, 0.7433771851416261, 0.7796863553771478, 0.8070949790463511, 0.8285033936125495, 0.8491258069141113, 0.8723848239905443, 0.8907888441282004, 0.8838858433471053, 0.8488274237711534, 0.8022405514255075, 0.7521125310354804, 0.6983693105183912, 0.6389469648913766, 0.5731034726579004, 0.5020367568507091, 0.4283229951257016, 0.3552170730230755, 0.2861327380173052, 0.22426650488857114, 0.17225234904317782, 0.13179586591017634, 0.10336822604717522, 0.08613514633077413, 0.07821280238105988, 0.07714000570975632, 0.08036947249412463, 0.08565374162648509, 0.09129348315320973, 0.09625590748849044, 0.10017989769869551, 0.1032888842638009, 0.10622905725686205, 0.10982806395323952, 0.11473399127450734, 0.1210396135361268, 0.1283888125705661, 0.13629940088915904, 0.14434807299726, 0.1522488992283066, 0.1598689992816812, 0.1672080265911074, 0.17435824661997074, 0.18145692382509432, 0.18864035366037896, 0.42444322474117235, 0.47498484175820294, 0.5310053309515309, 0.5895610073452433, 0.6469261415812314, 0.6993196253173248, 0.7438998356652397, 0.77935341431877, 0.8062013658254964, 0.8273495747308123, 0.8476596214639296, 0.8698062753342949, 0.8858221237461683, 0.8767749776153546, 0.840567198410472, 0.7927674214962719, 0.7416106845849224, 0.6874968659645834, 0.628567832697462, 0.5639837696912, 0.4946996722298054, 0.42303738439278915, 0.3520391832149427, 0.2849505370812186, 0.22483136428962885, 0.174204971567967, 0.13470324581567195, 0.10678185669362117, 0.089657816481992, 0.08154676987091025, 0.08010272594264545, 0.08288366198151986, 0.08772449615601752, 0.0929812081418846, 0.09765019757779925, 0.10137816297150926, 0.10438187606794458, 0.10729281413248304, 0.1109198935522232, 0.11589198994883021, 0.12229410416717612, 0.12976715486359125, 0.13782378888749042, 0.14603331659552643, 0.1541003111222986, 0.16188057500196873, 0.1693613147273585, 0.17662239842838656, 0.18379031778437288, 0.1909938776540429, 0.4295414537470744, 0.4796720606270506, 0.534989525021573, 0.592592239385659, 0.6488462047078614, 0.7000971107158069, 0.7436187799746056, 0.7782013636450533, 0.8044649790887565, 0.8252809333455344, 0.8451199791978169, 0.8659175691035348, 0.8794159862115369, 0.8684001749948406, 0.8314106748422578, 0.7827953391765011, 0.7309037761530754, 0.6765886298880983, 0.618224397339419, 0.5549169180536659, 0.48741203820690904, 0.41779471439345184, 0.3489003910539783, 0.2838065910646088, 0.22543599841535478, 0.1762019250552913, 0.13766432896527092, 0.11026400580650542, 0.09326723511250923, 0.08498580235897213, 0.08318645597696239, 0.08553152545955378, 0.08993848574151653, 0.09481935174764844, 0.09920064400453033, 0.10273761002781157, 0.10564033328800959, 0.10852421642795063, 0.11217632701042013, 0.11720294929822195, 0.12368261542488801, 0.13125698348650106, 0.13943607665044272, 0.14778333588983944, 0.15599475620429387, 0.1639154403958421, 0.1715206340349832, 0.17887822577218004, 0.18610426076597092, 0.1933202131376387, 0.4342066002452416, 0.48385072077150737, 0.5383919411005876, 0.5949751272783379, 0.6500630509236253, 0.7001313321179999, 0.7425701925071746, 0.7762672155532742, 0.8019192983948382, 0.8223255698698518, 0.8415386477403467, 0.8607910079641126, 0.8717284017288146, 0.8589232663002819, 0.8214431102953367, 0.7723646713262575, 0.7200153876716586, 0.6656650783981705, 0.6079383336109561, 0.5459244275210772, 0.480192273852985, 0.41260810266419534, 0.34580758219490987, 0.2827017325442841, 0.22607611977419756, 0.17823508301965452, 0.1406684112816564, 0.1138025181153065, 0.09695087564738736, 0.0885179839240211, 0.08638058430207862, 0.08830407545124264, 0.0922883561254414, 0.09680199857285554, 0.10090244657708869, 0.10425414840101999, 0.10706043637070917, 0.10991930515871062, 0.11359310886509366, 0.1186630398461328, 0.12520207360675817, 0.1328558327062933, 0.14113425903360194, 0.1495964864368295, 0.15793089018966844, 0.1659725143793735, 0.17368513655579104, 0.1811250764073304, 0.18839824369221764, 0.19561892818087467];\n",
       "const lower_is_better = false;\n",
       "const metric = \"accuracy\";\n",
       "const rel = false;\n",
       "const sd = [0.1579938587229377, 0.15315042746038726, 0.15418120844352692, 0.1568125757395579, 0.15637601279258445, 0.14951740579524297, 0.13459644402236107, 0.11154378014079475, 0.08174069568157882, 0.04811080575747997, 0.015403596211467445, 0.009584326533592034, 0.01988330470408262, 0.01429559014824604, 0.0010688143225511713, 0.014407172887791695, 0.015564487450509375, 0.000832907173900316, 0.026875724306553925, 0.06063186810194884, 0.09460072401893127, 0.12493966809755158, 0.14969930643667834, 0.16847920235613048, 0.18195061156994466, 0.1912663678610311, 0.19744025688728276, 0.20092370301603293, 0.20163614841763883, 0.1994742047212952, 0.19501321086541268, 0.18996964658147114, 0.18698826264769494, 0.18852381258888062, 0.19539268060325754, 0.20632951658406326, 0.21892841193677434, 0.2308465751042782, 0.24038036584535852, 0.24646072507798011, 0.24841406505707156, 0.24571658752906242, 0.2378318350296821, 0.22414898102768002, 0.20401214618860247, 0.17682749167732933, 0.14224189937236098, 0.10039520663761135, 0.05225037604508612, 0.00010205122816675487, 0.150775876132553, 0.1459903809923727, 0.1478940014761449, 0.15174936761044056, 0.15248172438390947, 0.14658200552631379, 0.13242564814549743, 0.11002881389630216, 0.08087343761833334, 0.04800219147831103, 0.016707678147214307, 0.010973361638913322, 0.019992541586248157, 0.014688706070848856, 0.0037212456966939592, 0.013229194596244364, 0.013873984586861147, 0.004135158541651562, 0.02847085651325257, 0.06129228530316809, 0.09439135107004276, 0.12385220205056442, 0.14771529459365432, 0.1656114518902946, 0.17828390569950928, 0.18697286764230114, 0.19274102013570046, 0.19599931429117473, 0.1965394609715236, 0.1941102997127765, 0.18921419816401724, 0.18364870593535204, 0.18030547031648972, 0.18191499592233412, 0.18936072019267106, 0.201181821616697, 0.2147112077290565, 0.22744469788727645, 0.23763165100666656, 0.24422093237119874, 0.24657796585770322, 0.24421539846303963, 0.23662242715516438, 0.2232037016742208, 0.203313252852507, 0.17636781004977006, 0.1420348566820827, 0.10051222097535381, 0.05303677164772956, 0.010817176843792662, 0.1433519863436877, 0.138619639367088, 0.14148436180795626, 0.14666539766153822, 0.14864149394418086, 0.14376013499656204, 0.13044026979283901, 0.10881684867328256, 0.08052264111137246, 0.04884207370792949, 0.020106403405784186, 0.014339105582173736, 0.020821554610691663, 0.015706489753304315, 0.006751168955999436, 0.012454531124406898, 0.012456732930618877, 0.008030064595987357, 0.03085943684563525, 0.06246860348174468, 0.09451666462622342, 0.12296028636311865, 0.1458091178681619, 0.16271784362888356, 0.1745039980831102, 0.1825044880820365, 0.18783915629034964, 0.19087546006751155, 0.19126092132949005, 0.18857493863452698, 0.18323075712994494, 0.17710704720543063, 0.17336831142173267, 0.17505872684911072, 0.18313342637041544, 0.19590146329342412, 0.2104060505546294, 0.22397812476430382, 0.23482917632558495, 0.24193615104363625, 0.244710927095637, 0.2427075325472834, 0.23544474145529695, 0.22234757214837406, 0.20278848435176838, 0.1762117331220305, 0.1423434898643534, 0.1015464390320308, 0.05579257384327286, 0.021585055317919453, 0.1357321169643637, 0.13104358608651334, 0.13496597265128166, 0.14157644345514003, 0.14486393706444636, 0.14104895266124945, 0.12862339508600462, 0.1078715253331643, 0.08061504638943603, 0.050436831963642605, 0.02443836218679028, 0.018255951089238727, 0.02199730307703192, 0.01684868004590328, 0.009178810542192979, 0.011841305755317394, 0.011134962545929359, 0.011538337453862317, 0.03369304978876338, 0.06403829059860824, 0.09492189747703085, 0.12223763333614637, 0.14396740553551524, 0.15978968937490323, 0.17060226772723516, 0.17785141718546663, 0.18272553371713904, 0.18554668945338668, 0.1858004049848884, 0.18287265519413168, 0.17706920536302148, 0.17034857503441395, 0.1661766882217815, 0.16795577879757598, 0.176717169070215, 0.1904980644704326, 0.2060211306156693, 0.2204513150475031, 0.23197369944730808, 0.23960447009149227, 0.242809536236942, 0.24118898125983956, 0.2342946708658437, 0.22157642080395262, 0.2024330502625971, 0.17635215370495938, 0.14315302606380267, 0.1034512430589604, 0.06020838668887775, 0.03226980711733721, 0.1279292797591568, 0.12326938258590565, 0.1283557941634827, 0.13650059218164987, 0.14115778703553922, 0.13844378768917215, 0.1269542584727123, 0.10714942047832457, 0.08106357330228231, 0.052568114646128705, 0.0290196933166621, 0.022133707836125352, 0.023227936525638055, 0.017783313162139453, 0.010965358948675688, 0.01120182468970542, 0.009776834905661948, 0.014678342644590081, 0.03671425580314705, 0.0658830581312908, 0.09555029810952889, 0.12165665838518783, 0.14217665299196755, 0.15681886169800807, 0.16657071387703717, 0.17300414889763863, 0.17739119531764921, 0.18000806501214722, 0.1801589181814869, 0.1770097496261598, 0.17073804971042011, 0.16337915781761644, 0.15873170545372794, 0.16060826722804877, 0.17012047393244112, 0.1849832482364311, 0.2015657504572025, 0.21686902862373314, 0.22906578997250493, 0.2372235586693795, 0.24086986444892086, 0.23965514576880134, 0.23316735426439641, 0.22088492124809703, 0.20224009315769023, 0.17677778620409448, 0.14443900667612772, 0.10615236167709308, 0.0658970338027779, 0.042840064445685666, 0.11996024649229851, 0.11530618114582274, 0.12167465887111155, 0.13145840423468852, 0.13753180936249315, 0.13593822145433931, 0.12540882833398106, 0.10660189528836933, 0.08177382263094987, 0.05502625458648528, 0.03351553874348511, 0.02575345019139896, 0.024323392942245944, 0.018319657552261094, 0.012120098201555147, 0.010437647880857557, 0.008334835574587786, 0.017496487709888923, 0.03975251786848052, 0.06789683658380341, 0.09634609363413144, 0.12118964170549312, 0.14042380654859685, 0.15379821076636133, 0.16240227633740123, 0.16795367434527145, 0.17182746701158033, 0.17425529641671714, 0.17433880349750616, 0.17099457203531263, 0.16424835683526548, 0.1562069834060438, 0.15103582457428547, 0.15301983720981044, 0.16335436946476573, 0.1793708415847661, 0.19705033733959798, 0.21323626060477097, 0.22610576126918083, 0.23479062178368298, 0.2388874517180987, 0.23810085024867747, 0.2320572169247651, 0.22026666722442467, 0.20220083532284155, 0.1774735417812607, 0.1461686888936203, 0.1095565462518601, 0.07249553019418267, 0.05326782482204559, 0.1118464680244269, 0.10716536878069863, 0.11494799424768176, 0.12647302392065018, 0.13399467267506526, 0.13352420567336265, 0.12396050142332357, 0.10617708088966592, 0.08265009212879769, 0.0576290079667797, 0.03775937353794593, 0.02903159993582673, 0.02517882642480678, 0.01835913771299266, 0.012676828609549018, 0.009548796929485825, 0.006890829113048436, 0.02004761979201112, 0.04270168126438332, 0.06998973400381002, 0.0972569111876385, 0.12080983216163087, 0.13869685665312598, 0.15072201118836687, 0.15809119556947063, 0.16269169676704467, 0.16602607516025208, 0.1682848955107376, 0.16834398473703344, 0.16483785802129158, 0.15761420015661534, 0.1488430021244545, 0.14309303902087386, 0.1451958830769335, 0.15643280273895013, 0.17367708858303357, 0.19248643511630412, 0.20955815996143481, 0.22309359606371698, 0.23230235671677169, 0.23685729728610652, 0.23652036421310882, 0.2309580245929969, 0.2197142704993347, 0.20230477349365059, 0.1784210276459472, 0.1483028191069462, 0.11356077261310417, 0.07970875357084922, 0.0635281882546566, 0.10361536774612112, 0.09886085778150845, 0.10820670575263243, 0.12157020609936896, 0.13055476750639872, 0.13119220974087645, 0.12258086118283246, 0.10582181803496696, 0.08360017695551351, 0.06022748067864715, 0.04166435991780256, 0.0319417359862828, 0.02575368921329668, 0.017862623312060663, 0.012691439954293228, 0.00863766904539731, 0.005739834373839396, 0.022385233257117443, 0.04549859026615946, 0.0720889680779379, 0.09823556469309958, 0.12049244043484153, 0.13698542073083317, 0.1475864352752701, 0.15363341814503578, 0.15721087409296183, 0.15997927286426608, 0.16209435822624738, 0.16218026241185982, 0.15855313023130807, 0.15085320476382452, 0.1413014899019047, 0.13490907779460518, 0.1371438121608393, 0.1493731429650666, 0.16792086963784075, 0.18788667091878197, 0.20583993149285434, 0.22002886672982022, 0.22975491123185515, 0.23477385618262814, 0.23490743417041915, 0.22986295062638523, 0.21921947925366822, 0.20253991313941672, 0.17959913541615785, 0.15079757198630925, 0.11806024093796948, 0.08731263595361584, 0.07359917038401986, 0.09530222577271806, 0.09040945153958035, 0.10148825918156283, 0.11677821826042152, 0.12721996617534195, 0.1289313885059085, 0.12124045467337267, 0.10548340912362165, 0.08453869368316393, 0.06270457808605003, 0.045184437081509, 0.03448619263864202, 0.026056033026701113, 0.016833225382656372, 0.0122439158379774, 0.007910183353625375, 0.005431835759944482, 0.024553155002389894, 0.0481072966257681, 0.07413795225960117, 0.09924122584959917, 0.12021548662625911, 0.13528129893342564, 0.14439004957503646, 0.14902705559450072, 0.15150509512314841, 0.15367997506550898, 0.1556823810351915, 0.15585567512079537, 0.15215718345418489, 0.14398721858290772, 0.1336007795692917, 0.12649164915377747, 0.12887337151163367, 0.14219679862145024, 0.16212392127323566, 0.18326469161966177, 0.20208672102609343, 0.2169106515620602, 0.22714384475290664, 0.23263104265764148, 0.23325532483825373, 0.22876465542198893, 0.21877331395149394, 0.20289303244686957, 0.1809846802967839, 0.15360646377406018, 0.12295429319934029, 0.09514162698482094, 0.08346152988730589, 0.08695301793489839, 0.08183133979147583, 0.0948380016221334, 0.11212756783082904, 0.1239973201649016, 0.12672976124344482, 0.11990954743239492, 0.10511109373267137, 0.08538902313180353, 0.06497039237472578, 0.048296318790574055, 0.03668349274377068, 0.02613166161318592, 0.015309535699084732, 0.011444544502327512, 0.007634834661628025, 0.006317651398361514, 0.026579309399080805, 0.050508378207714574, 0.07609450169936585, 0.10024006799632695, 0.11996048473461898, 0.13357898837542123, 0.14113433177287077, 0.1442729078636447, 0.14556979821517801, 0.1471219023798602, 0.14904912292047684, 0.14938094767046922, 0.14567067571473782, 0.13704314629582046, 0.12576423149029822, 0.11785074404589779, 0.12039706824070547, 0.1349299819849872, 0.15631104771380397, 0.17863506492810066, 0.1983034844503026, 0.21373744871118922, 0.2244640938464948, 0.2304222413341213, 0.23155687009764808, 0.22765537719919307, 0.21836621731223851, 0.20334996555825627, 0.18255305387804616, 0.1566820911984173, 0.1281501396904829, 0.1030740279936625, 0.09309860260712619, 0.07862883048892981, 0.07315083031184157, 0.08831074638035989, 0.10765049632897962, 0.12089269609382385, 0.1245743929302309, 0.11855882364562861, 0.10465721110753085, 0.08608415379912668, 0.06695702425533122, 0.05099030945011602, 0.03856127084300264, 0.026055424051179152, 0.013367842447355765, 0.010446324428260061, 0.00799943082074636, 0.00806123381701707, 0.02847278576623008, 0.05269210577342293, 0.07792880877737984, 0.101205500998955, 0.1197129603457482, 0.1318761433866254, 0.13782420475548104, 0.13937506660504992, 0.13940234583418265, 0.14029973357801598, 0.14219652885617667, 0.14277005438696866, 0.13911885338796398, 0.13005399188853753, 0.1178215498133117, 0.1089990330548641, 0.11173073456428351, 0.1276046649378477, 0.1505103111759896, 0.17401314018715194, 0.1944948420682974, 0.21050708985555175, 0.22170994344567094, 0.22814032691766134, 0.22980453382867805, 0.22652703309648606, 0.21798821485719028, 0.20389589476256104, 0.18427885784463158, 0.15997760243303408, 0.13356474942182514, 0.11101986192890627, 0.10249614069164836, 0.07041291248318328, 0.06439754069706939, 0.08197259962330306, 0.10338017880783928, 0.11791035759678112, 0.12245157004639232, 0.11716000888366584, 0.1040780553181825, 0.08656675428302074, 0.0686139168180176, 0.05326508105179933, 0.04015126632181257, 0.02592181491164231, 0.011138255197285434, 0.009463338091323053, 0.008962976294891317, 0.010154164472337971, 0.030224758569681924, 0.054654427472854594, 0.07962156349624935, 0.1021181149061321, 0.11946280732924022, 0.1301739704620969, 0.1344685833232641, 0.13434161842851627, 0.13300247509867053, 0.13320926661372806, 0.1351287385022801, 0.13604093644544615, 0.13253244398120645, 0.12306016466642715, 0.1098106037827873, 0.09995241715657405, 0.10289432547295345, 0.12025978110066059, 0.14475318178440694, 0.16941486463590913, 0.19066492078838027, 0.20721665606640266, 0.21887500534343282, 0.22577769331212186, 0.22799048075202333, 0.22537132949656166, 0.2176290825258455, 0.20451564211557768, 0.18613649260985818, 0.16344785950449087, 0.13912541952322874, 0.11891195020034191, 0.11164215630255878, 0.06242213852449938, 0.055608551032372645, 0.07590288838518368, 0.09934957415610243, 0.115052507843552, 0.12034696481605175, 0.11568640269103514, 0.10333445726474964, 0.08678876812418827, 0.06990402148619886, 0.05512439425756788, 0.04148524080343297, 0.025832625818261273, 0.008854257707235306, 0.008777972308567208, 0.010309455750046641, 0.012265219694356752, 0.03181278196238796, 0.05639502937853354, 0.08116239609584702, 0.10296543176596358, 0.11920449422768409, 0.1284775466269457, 0.13108092608171984, 0.12918547392850357, 0.12637285497700432, 0.12584758806849483, 0.12785261596068434, 0.1292164259946886, 0.12594875424818008, 0.11611110797578954, 0.10177999254622451, 0.09073084450518083, 0.09391310581006454, 0.11294273904244115, 0.1390746201495089, 0.16485655223075402, 0.18681718785440207, 0.20386239867109698, 0.2159522055385474, 0.22332629300218432, 0.22610665740512803, 0.22417988050262305, 0.217278518037649, 0.2051939522146567, 0.18810068257595128, 0.16705029358400994, 0.14476950846024214, 0.1266996372340512, 0.1205267698628878, 0.054825572449070326, 0.04683274008166404, 0.07019579952827422, 0.0955898959344498, 0.11231881536243914, 0.11824578382957673, 0.11411331726756535, 0.10239214287793395, 0.08671075785745844, 0.07080079091667274, 0.05657489393085531, 0.04259153416929755, 0.025880928296473787, 0.006981469832599638, 0.00867901712937335, 0.011802431140361867, 0.014195853270902932, 0.03320722878576021, 0.05791690422658522, 0.08254868848060078, 0.10374153858578189, 0.11893713198965612, 0.12679604870884434, 0.12767977964500166, 0.12392535433971841, 0.11951979744023886, 0.11821325083860118, 0.12037845594987048, 0.12232544804393404, 0.11941300997657811, 0.1092673002399505, 0.0937927039214215, 0.08135961253317556, 0.08481951759198793, 0.10571131264525653, 0.13351305577388345, 0.16035460425108405, 0.1829542810758929, 0.20043966820084633, 0.21293378203475907, 0.22077768757724553, 0.22414488340913555, 0.22294433354544013, 0.2169263129766676, 0.20591575939611745, 0.1901469272708929, 0.1707454824427328, 0.1504437081327429, 0.1343444349928129, 0.12914206297901082, 0.04787297654346369, 0.03814063245163586, 0.06496087835867238, 0.09212872081840966, 0.1097059532385857, 0.11613289909212264, 0.11241842557780261, 0.10122192150507967, 0.08630115692222547, 0.07128588660503704, 0.057624595172084646, 0.04349232704857682, 0.02613348696239825, 0.006338238468696361, 0.009297796590622109, 0.013256396271694221, 0.015817014463520428, 0.03437848741216563, 0.0592269456542028, 0.08378471845478465, 0.10444664682811748, 0.11866441282201161, 0.12514287860316148, 0.12428929346093172, 0.11858697279561511, 0.112454196757705, 0.11030645983829249, 0.11272095378872868, 0.11540459338787495, 0.11297995960401287, 0.10260263465899339, 0.0859313587570767, 0.07187160911822721, 0.07565629147282427, 0.0986359517729671, 0.1281102129810013, 0.15592518397591282, 0.17907784180395614, 0.19694285470247963, 0.2098112946726419, 0.2181231102902522, 0.22209695323364595, 0.22165650119534336, 0.21656252296160064, 0.20666643428156284, 0.1922518742377433, 0.17449749391076003, 0.15610311060043214, 0.14181699167838346, 0.13748193622899393, 0.04193096611298741, 0.029650140173542984, 0.060320831150162985, 0.08898782463629043, 0.10720718730398647, 0.11399296146811426, 0.1105820271615309, 0.09979975609274129, 0.08553553168066859, 0.07134747349379232, 0.05828188790066969, 0.04420179504373671, 0.026616690278595114, 0.00741588486395314, 0.010513627574727789, 0.014538489831471116, 0.01704079109360683, 0.0353038549967407, 0.060337130410141, 0.08488105090161051, 0.10508659925694262, 0.11839442649226638, 0.12353566637471264, 0.12093967025730856, 0.11320444851997837, 0.1051928153864495, 0.1021292654447505, 0.10490058030993271, 0.10850017969654935, 0.10671572270234322, 0.0962070701302005, 0.07830565359102103, 0.062311497974050244, 0.06648195054752087, 0.09180247601482708, 0.12291072429223839, 0.15158385176563918, 0.17518835811355837, 0.19336534277171402, 0.20657564851115517, 0.2153535415750819, 0.2199547487401451, 0.22030849837387212, 0.21617763369078047, 0.20743200622175068, 0.1943936148152779, 0.17827404350715229, 0.16171022705663143, 0.14909495793767893, 0.14554197201483476, 0.03750086557487585, 0.021606470565710474, 0.056404336000446385, 0.08618092745007068, 0.1048120512347452, 0.11181049804104518, 0.1085872427651161, 0.09810676053138742, 0.08439591413322478, 0.07097898925206945, 0.058554978375978534, 0.04472531427605766, 0.02731152180207189, 0.009611558696274846, 0.012070899552432925, 0.015554803564223249, 0.017809318409102725, 0.03597354312021686, 0.06126588678325971, 0.08585406314672883, 0.10567232570424627, 0.11813935669536192, 0.12199612965551078, 0.11766749844863383, 0.10782198393512725, 0.09776010916360608, 0.09368576439831419, 0.09694559480081934, 0.10167093440358793, 0.1006997723493594, 0.09018920059386806, 0.07106252371102306, 0.052744263698131184, 0.057381169316232584, 0.0853149140388767, 0.11796146195402324, 0.14734517184818546, 0.17128502669530177, 0.18969948460859554, 0.20321713217611673, 0.212459798493897, 0.21771036288066778, 0.21889288429260462, 0.2157627210831939, 0.20819935965757336, 0.1965519077162151, 0.18204651204839475, 0.1672340467680503, 0.15616146040498083, 0.1533193026531505, 0.035139501791282265, 0.014679664351799272, 0.053331576105246345, 0.08371161874440057, 0.10250614441343618, 0.10956999596155657, 0.10642014998004659, 0.09612916181665154, 0.08287023733891015, 0.07017829684771076, 0.058451719047750615, 0.0450597631567087, 0.02815946158289342, 0.012192370957730632, 0.01372541749218152, 0.01623965519327205, 0.018090932717476554, 0.03639557065489284, 0.06203928517934414, 0.08672548242968241, 0.10621923659019643, 0.11791505733378375, 0.12054976536109646, 0.11451588876011688, 0.10249580520945609, 0.09019091101114003, 0.08498230796934113, 0.08889508927350928, 0.09499141872707344, 0.09502676194903771, 0.08467793415794439, 0.06439868158046208, 0.04327450821007079, 0.04848553759904479, 0.07929783151172871, 0.11331051662087147, 0.1432223077393088, 0.1673656427221379, 0.18593659419110645, 0.19972547246184746, 0.2094326391605445, 0.215356235044301, 0.21740280857726, 0.21530960413832784, 0.20895640366094037, 0.19870833766997215, 0.18578986307782203, 0.17264917843926006, 0.16300398897934545, 0.16081248384089789, 0.035204875928033015, 0.010950738929405894, 0.05119239563242104, 0.08157178900220097, 0.10027108154314687, 0.10725597588581649, 0.10406987179877629, 0.09385825711453553, 0.08095188702719774, 0.0689471468796955, 0.05797978379864465, 0.045194815965167195, 0.02907603148626764, 0.014763260267753228, 0.015292473998418007, 0.016549298606511584, 0.017880008165899134, 0.036599442679767294, 0.06269172822685493, 0.08752181902286657, 0.10674653729543597, 0.11774050782233064, 0.11922534977385273, 0.1115343096215568, 0.09729629595996096, 0.0825345096164162, 0.076027717589514, 0.08080373921733329, 0.08855621306591449, 0.08980760290480001, 0.0798217646150481, 0.05857222673762437, 0.03409535276237624, 0.04001758435854133, 0.07389674289474295, 0.10900576538209635, 0.13922662905043387, 0.16342652734214688, 0.18206696530716635, 0.19608990632091747, 0.20626288329916395, 0.21288529867832182, 0.2158321611484209, 0.2148109894823353, 0.20969221489530973, 0.20084641757084884, 0.18948249263326267, 0.1779350893419078, 0.1696135691237752, 0.16802137358771269, 0.03758936898237118, 0.013114061241991716, 0.05002210678087855, 0.07974088061227497, 0.09808461179211483, 0.10485305817580462, 0.1015286288581788, 0.09129038938056425, 0.07863937161807541, 0.06729088910666714, 0.05714713973948281, 0.04511499330737292, 0.02996620843743572, 0.017120407408250674, 0.01664100094802489, 0.016458500986005035, 0.01719981223939259, 0.03663839228232269, 0.06326586565690118, 0.08827359795253929, 0.10727644778656202, 0.1176371486653422, 0.11805422737688478, 0.10877798981519951, 0.09231010967962311, 0.0748610297718048, 0.06683350928077786, 0.07274942850593283, 0.082484590378801, 0.08516876139680281, 0.07578331439385319, 0.05390302563487921, 0.025628050681622556, 0.0323860157817125, 0.06927415284805806, 0.10509300815279064, 0.1353673577559707, 0.15946250239041157, 0.17807991568674258, 0.19229927122071475, 0.20294155026333965, 0.210291141959987, 0.21417572551064415, 0.21426060683486306, 0.21039715493893066, 0.20295164283356967, 0.19310603659647466, 0.18307544251962687, 0.17598413322517895, 0.17494701665976278, 0.04178028575931299, 0.01899174019401308, 0.04978532437228308, 0.07818617190092005, 0.09592091117375195, 0.10234602479236374, 0.09879176461414022, 0.08842696046141225, 0.07593610679763792, 0.06521838143264566, 0.05596275826258812, 0.044802160587233734, 0.030737230023280607, 0.019145233904049794, 0.017679285784106474, 0.015958657852199375, 0.016109505860807307, 0.03658963236515751, 0.06381152352710613, 0.08901432489033886, 0.10783331981944576, 0.11762810405752129, 0.11706937934821723, 0.10630674289579632, 0.08764178794097122, 0.0672716240362076, 0.05741413142101904, 0.06484573659280579, 0.07692472893167053, 0.0812482789075579, 0.07272657514986745, 0.05074143601989771, 0.01893414523680329, 0.026367124524628836, 0.06559794717563457, 0.10161371902663097, 0.1316512859372189, 0.15546692139321397, 0.17396385885511054, 0.18834211470510345, 0.19946001607895195, 0.20756818245478023, 0.2124293351332956, 0.21365333480584306, 0.21106296335939623, 0.2050115062785628, 0.19664515439692878, 0.18805752486215224, 0.18211203309470622, 0.18159153453477986, 0.04716922839846338, 0.025936672375309045, 0.05037751116805546, 0.07686413894703804, 0.09375103714814066, 0.09971987947273539, 0.09585775124085222, 0.0852744980035283, 0.07285030874389113, 0.06274205069665044, 0.05443750219641641, 0.04423815982939085, 0.03130712808149728, 0.02076380828693726, 0.018344454928342645, 0.015056668670391737, 0.014718377762046904, 0.03655163504088438, 0.06438353606628551, 0.08977916646342801, 0.10844265758905228, 0.11773730710181277, 0.11630428068084274, 0.1041830824612092, 0.08341401045107444, 0.05991482906287813, 0.04778723000280935, 0.057262428700817, 0.07205524289829258, 0.07818688890796803, 0.0707958204352198, 0.04938580766110237, 0.016362168290516527, 0.02323268654980363, 0.06301971751686791, 0.09860255715579232, 0.12808259867743957, 0.1514317650051663, 0.16970640461815067, 0.18420682390141035, 0.1958101914066038, 0.20471185686044055, 0.210590032572225, 0.2129853165066482, 0.21168282814714762, 0.2070154810877754, 0.20008730247410658, 0.1928717557242338, 0.18799565414024624, 0.187958020826301, 0.05326108704448941, 0.03306129401062634, 0.051644760570855874, 0.07572275002929368, 0.09154352154497397, 0.09695990859604539, 0.0927281831456311, 0.08184479241128677, 0.0693949917543387, 0.05987806434641858, 0.052585125094626095, 0.043407309918393235, 0.03160937337187402, 0.02193157888015562, 0.018596066479559824, 0.013774233315169184, 0.013212397810130682, 0.036637205748715124, 0.06503851979441629, 0.09060337902047254, 0.10913006509053481, 0.11798855469447175, 0.1157915804328936, 0.10246956030935421, 0.07976510965709271, 0.053012013464348626, 0.03797398856445103, 0.05025771398890033, 0.06807999237459447, 0.07611344627924285, 0.07008948558509696, 0.049968241236313354, 0.01953369166260792, 0.024056899053053006, 0.06164507694293144, 0.09608489521826308, 0.12466283437899661, 0.14734780780283652, 0.16529448833389843, 0.17988177569132482, 0.19198472277645665, 0.20171882709278413, 0.2086562308630345, 0.21225406443261727, 0.21225143514766917, 0.20895497837865454, 0.20342250666579298, 0.19751126507099287, 0.19363510397739392, 0.19405044209826697, 0.059711293150880744, 0.04007111741191101, 0.05341218664341681, 0.07470439918475388, 0.08926506898811931, 0.09405174536261315, 0.08940776515660163, 0.07815512311215966, 0.06558807209207249, 0.05664657668051349, 0.05042332340500374, 0.04229859033757412, 0.03159475532785975, 0.022627234160251922, 0.018412493478078128, 0.01214766801643189, 0.01189364023684335, 0.03696157238466607, 0.0658308365422993, 0.09152057678664186, 0.10992016206435327, 0.11840453166912782, 0.11556167030170386, 0.10122538575336852, 0.07684214793391693, 0.04689247217079856, 0.02799973122429663, 0.04422156623045964, 0.06521086999067753, 0.0751262466151541, 0.070637830784052, 0.05238839514328284, 0.0263467508966928, 0.028381901546243343, 0.06150557765329385, 0.09407471937089591, 0.12139100988564505, 0.14320486207001332, 0.16071452837211608, 0.17535550836268635, 0.18797722006616224, 0.19858720410253758, 0.20662787649381176, 0.21145855394596486, 0.21276499801989093, 0.21082328487989324, 0.20664313947437626, 0.20197153067054546, 0.19903195643785015, 0.19987354395977291, 0.06629255876761668, 0.04684303951274636, 0.05550924469379257, 0.07374912315233081, 0.08688132435341582, 0.09098144079587636, 0.08590430431906165, 0.07422860040724666, 0.06145259252157208, 0.05307201902818753, 0.047974791578551355, 0.040907408821500166, 0.031231551922507372, 0.022850071863959175, 0.017789232308536823, 0.010229178324893255, 0.011193539911512678, 0.03762639586017508, 0.06680822357980751, 0.09256098086475159, 0.11083552682609062, 0.11900585514810992, 0.11564123742148161, 0.10050256896410233, 0.0747882391572988, 0.04202458127530406, 0.017895844326957972, 0.039705233511682696, 0.06363547501894787, 0.07527511496519208, 0.07239486564794581, 0.05635826525504767, 0.03459611350578718, 0.034798231498573695, 0.06254629423202435, 0.09257328741849191, 0.11826392951767291, 0.1389921031456811, 0.15595261047079148, 0.17061691583509891, 0.18378251401727444, 0.1953167908962297, 0.20450661291482322, 0.2105993044655081, 0.21322127003365116, 0.21261548515408946, 0.20974370580259888, 0.20625006494108317, 0.20418903748173964, 0.20543276230402857, 0.0728562263229802, 0.05331614657327668, 0.05778586217308901, 0.07279777768025682, 0.08435767468532908, 0.0877355468541595, 0.08222871868684031, 0.07009466161111695, 0.057017106121453776, 0.04918341164742602, 0.04526824230276898, 0.03923692704897031, 0.030504719942421595, 0.0226187635233852, 0.01673883214200446, 0.008093241928746737, 0.0115333035089385, 0.03870326937075061, 0.06800775321817347, 0.09374982295747837, 0.11189573484993176, 0.1198101975352264, 0.11605192051504941, 0.10034203434705066, 0.07372458320359904, 0.03898930176534617, 0.007715305337432694, 0.03735165801712996, 0.06347531943660509, 0.07655102707604929, 0.07524897535118008, 0.06151588811240482, 0.04334702266495466, 0.04223159182838467, 0.0646370663444544, 0.09156886387599315, 0.11527668613745025, 0.13469848043709648, 0.15099469712225297, 0.16565546608451293, 0.1793969486737303, 0.1919093462285132, 0.20229594303894669, 0.20967844716235853, 0.2136195387411246, 0.21432837186026266, 0.21272063907100575, 0.21034614331753973, 0.20911024332166875, 0.21073413953560224, 0.07930461283009667, 0.05945825842951479, 0.06011951867724681, 0.07179494831797682, 0.08166005781216298, 0.08430121985431523, 0.07839508472650208, 0.06578977998381397, 0.05231630396175151, 0.045014689342828394, 0.042339366594894796, 0.03729897312785618, 0.029414539208420267, 0.021970560790936133, 0.015292572381132647, 0.005863934386159912, 0.013026797066159232, 0.04022216234118104, 0.06945282917355497, 0.0951060812379198, 0.11311656351692267, 0.12083154769945888, 0.11680919622265025, 0.10077029576764555, 0.0737308641368683, 0.038305115495725926, 0.002808690460433216, 0.03762515380701325, 0.06475209159972714, 0.07888793252989564, 0.0790467845129248, 0.06752060311281571, 0.05222862462186701, 0.05010290923331233, 0.06760166508340076, 0.0910376773006742, 0.11242334980008069, 0.13031321876666105, 0.1458268597192683, 0.16046144629245176, 0.17481871504649102, 0.18836887027721855, 0.20000138850122676, 0.20869977758293018, 0.21396060425120703, 0.21596034671711856, 0.2155721084743992, 0.21426056723971768, 0.21380038370324192, 0.2157842456154652, 0.08557357234589613, 0.0652536666091324, 0.06241630249652373, 0.07069149605947012, 0.07875576053554777, 0.08066635677407738, 0.07442075869890119, 0.061358474396218644, 0.04739206185020618, 0.04060505972861652, 0.03923171827681234, 0.03511460437987286, 0.02797495353268862, 0.020960362792732553, 0.013504473594516396, 0.0038482349296025753, 0.015426831142152793, 0.042169170736280674, 0.07115177238253999, 0.0966416951173071, 0.11450942425804089, 0.12207966307941417, 0.11792160883212538, 0.10179728900000617, 0.07483051063815568, 0.04013609100239852, 0.01297781304719532, 0.0404938373116564, 0.06738151500910063, 0.08217593187263804, 0.08361950012849638, 0.0740950140419399, 0.06107135879122329, 0.05811361628279357, 0.0712504930788376, 0.09094601011424487, 0.10969782674805002, 0.12582641683160095, 0.1404355310216683, 0.15502623868062707, 0.17004823414128475, 0.18470191321489682, 0.1976306425493515, 0.20766879119163556, 0.2142467415334794, 0.21751131413130775, 0.21829783737275588, 0.21799545599093392, 0.21826504513919223, 0.2205901037439846, 0.09162182157767808, 0.07069792633963104, 0.06460898261222056, 0.06944675405369985, 0.07561420273913802, 0.07681978335028398, 0.07032662912563802, 0.05685474783776452, 0.042295268142439356, 0.035999469579090795, 0.03599750913782244, 0.03271440056426991, 0.026211756867484046, 0.0196591528083371, 0.011459185511486081, 0.003064542507826042, 0.018384203882339745, 0.04449386721435622, 0.07309821762050837, 0.09836134432854542, 0.11608106394477422, 0.12355975070569927, 0.11939042117905006, 0.10341577509602011, 0.0769869445376273, 0.04417951267738381, 0.023258697586371106, 0.045460225209904254, 0.07119861860155842, 0.08628009448432249, 0.08880333751955462, 0.08102885350543111, 0.06978575614959447, 0.06610179987168077, 0.07540523224590269, 0.0912531114577083, 0.10709485963911813, 0.12122975380435175, 0.1348077756327118, 0.1493426332167031, 0.16508859981809118, 0.1809179068183751, 0.19519371230167334, 0.20659269937123964, 0.21448164690742896, 0.21898256889656315, 0.22089893233894664, 0.22155406260229293, 0.22251047021249262, 0.22515912049732617, 0.09742434230654437, 0.0757953357651088, 0.06665409100590772, 0.06803047901937466, 0.07220771985666344, 0.07275152229342416, 0.06613759065570955, 0.05234412865341093, 0.037089199785334294, 0.031249385565645892, 0.032698284337387876, 0.030138566351894644, 0.02416074365888314, 0.018151297455776646, 0.009288039195375665, 0.004452560841875611, 0.02162216600603338, 0.04712246703090951, 0.07527314594260306, 0.10026279865576765, 0.11783355073400796, 0.12527239435458165, 0.12120971310768698, 0.10560240228706125, 0.08011237935390365, 0.04988172673631063, 0.03350164253497747, 0.0518941284951524, 0.07599866543295146, 0.09105835988643382, 0.09445131639473084, 0.08816759418237706, 0.07831932000842148, 0.07397393202993424, 0.07991202048490462, 0.09191449265850579, 0.10461112955201061, 0.11651732220492488, 0.12893157668914232, 0.14340518679594136, 0.1599460948597089, 0.17702951792046434, 0.19270304471588923, 0.2054804229728507, 0.21467036865789377, 0.2203766789450095, 0.22337772212126258, 0.22494060988050452, 0.2265434500145349, 0.22949902023229185, 0.1029681816115983, 0.08055753489928785, 0.068529017899492, 0.06642471660484355, 0.06851237627236728, 0.0684531846402599, 0.06188337887229381, 0.04790651388983624, 0.031856138338457456, 0.026414430732274195, 0.029405389265714794, 0.027436896900255907, 0.021865946720168974, 0.016530156460107217, 0.007204785693608365, 0.006840592084751889, 0.024955507346466073, 0.04997177736426731, 0.07764806110365784, 0.10233776626458167, 0.11976453038716776, 0.12721372158736655, 0.12336689768480977, 0.10832016051832838, 0.08408502520796357, 0.056706512893790986, 0.043667038941934154, 0.059272641724590514, 0.0815737815055502, 0.09637455819324837, 0.10043782838478689, 0.095398728224601, 0.08663915804937247, 0.0816733438409694, 0.0846454920046487, 0.09288515486830436, 0.1022464112695217, 0.11168661602181663, 0.12279613800755387, 0.13721064377185097, 0.15463079714831102, 0.1730530203409833, 0.190173628957036, 0.20434256011354623, 0.21481922158120406, 0.22169736383224678, 0.22573760566317327, 0.2281601433282684, 0.23037122747963046, 0.23361778357786633, 0.10824966227744647, 0.08500258535727695, 0.07022948375636373, 0.06462576841743929, 0.06450887079966178, 0.06391855207914794, 0.05759997585095933, 0.043639935548703476, 0.02671110968716623, 0.021566379097516117, 0.02619999008467462, 0.024668593973706226, 0.019378097172942133, 0.014891419151448215, 0.005577259000394092, 0.009473674824903513, 0.02826441636416271, 0.05296042165849191, 0.08018867816788502, 0.10457310858652982, 0.12186771264536453, 0.12937578233338962, 0.1258435769199759, 0.11152171257465918, 0.08876796046880614, 0.06424627984424584, 0.05372393314975717, 0.06722866070805669, 0.08773540935980477, 0.10210578947182272, 0.10665868331118293, 0.10264028131080623, 0.09472410773333848, 0.08916495680114309, 0.08950752485546534, 0.09412239027954705, 0.10000472449610409, 0.10673971873979116, 0.11639220273642857, 0.13075844091378802, 0.14915729690446355, 0.169008678584351, 0.18762306596641423, 0.2031913246323015, 0.21493568522747455, 0.22294936945197663, 0.22798290831173668, 0.23121839832251198, 0.2340014098927834, 0.2375235898381755, 0.1132724287059579, 0.08915423915832948, 0.07176741276035534, 0.06264645307100224, 0.060183642676614246, 0.05914446352341739, 0.05333188998739549, 0.03966496716616272, 0.021831760416040652, 0.016800169125894302, 0.023172078603328018, 0.02190177093835188, 0.016753437078171157, 0.013323660058283624, 0.0049268144157714674, 0.012111719035354206, 0.03147118019277722, 0.05601615266095461, 0.0828585370677241, 0.10695225903039486, 0.12413352797764382, 0.13174709355760358, 0.12861662779123786, 0.1151530114783995, 0.09402443962678886, 0.07221889622446251, 0.06364556127045361, 0.0755174952058384, 0.09432334358544305, 0.10814532366814264, 0.11302895191921046, 0.1098322942815577, 0.10256076554712057, 0.09642738049221206, 0.09442371599169007, 0.09558794103304022, 0.0978954132925476, 0.10168475768748882, 0.1097123925993595, 0.12405133285067475, 0.14354555019437273, 0.16492113161047592, 0.1850715939920806, 0.2020404515002302, 0.2150282856788975, 0.22413833939171568, 0.23011874540721547, 0.23412167941465795, 0.23744188923586115, 0.2412247631405301, 0.11804599125655535, 0.09304124897290533, 0.07316907411896569, 0.06051882604666884, 0.05553037558296744, 0.0541322089643516, 0.049135719606277335, 0.036128294225410036, 0.017522839915846054, 0.012268791616689683, 0.02041725928399666, 0.01921217137453474, 0.014052981294014092, 0.011896116852215583, 0.005413472073635431, 0.014634945776228092, 0.034525808777661565, 0.05907966887012151, 0.08562211836675922, 0.10945668302021723, 0.12654988541316325, 0.13431329470995004, 0.13165939986363365, 0.1191567015588233, 0.09972765784170286, 0.08043323049537934, 0.07340846450691835, 0.08397576975260555, 0.10120634187241269, 0.1144026785949357, 0.11948007465758935, 0.11693078939039096, 0.11014127886049604, 0.10344852384179962, 0.09933933158982818, 0.09724944094838812, 0.09593407230463849, 0.09653771993459151, 0.10275157698745513, 0.11709619499531401, 0.13782189748368404, 0.16081975785291205, 0.18254205679992744, 0.20090506561500646, 0.2151064609034955, 0.2252706833455536, 0.23215089255601182, 0.23687675003483968, 0.2407007693338826, 0.24472972217323236, 0.12258456872401566, 0.09669663888536101, 0.0744732928514923, 0.05829743106745705, 0.050552281449276516, 0.048889823471203055, 0.045085470842762265, 0.03320137318739811, 0.014326457577107835, 0.008313040660916109, 0.018029230934120778, 0.016680022221027047, 0.011342258870600721, 0.010645292116932449, 0.006494021771891365, 0.016962769629950903, 0.0373981244754421, 0.06210594395515588, 0.08844723738315122, 0.11206724156337887, 0.1291029624003517, 0.13705785663798792, 0.13494291560202, 0.12347497792409552, 0.10576549987579668, 0.08875832915565318, 0.08299214285651735, 0.09249180063771588, 0.10827886055161384, 0.12080225283249688, 0.1259569967663653, 0.12390355106140763, 0.11746199868924227, 0.11022297661556997, 0.10421553496986731, 0.09908117142291395, 0.09414322042875661, 0.09132476033784263, 0.09550729031440734, 0.10990509542724278, 0.1320202769921271, 0.15673899285091278, 0.18005979949717144, 0.19980151087326298, 0.21518041005466526, 0.22635344307932098, 0.23408566202933653, 0.2394907312323946, 0.2437862989930119, 0.24804693337022798, 0.1269061089397595, 0.1001568906298033, 0.07572951591924951, 0.05606292659208678, 0.045265956714351796, 0.04343610303986104, 0.04127992774450851, 0.031066512776231247, 0.013016320404496415, 0.005919497070575889, 0.016085622848427517, 0.014382989783912836, 0.008691492049509156, 0.009564850350200122, 0.007611369807351493, 0.01904090519552967, 0.04007376435056298, 0.065064036326235, 0.09130666233345318, 0.11476535916993916, 0.13177796594984922, 0.13996279142652424, 0.13843698737368598, 0.12805176595957327, 0.11204180812045399, 0.09710232192376504, 0.09237883485164074, 0.10098694436959545, 0.11545668003352769, 0.12728141095302084, 0.1324156460978144, 0.13072716383995675, 0.12452258222456365, 0.11675032977511614, 0.10902616100142835, 0.101064224741861, 0.09255260180490614, 0.08608516889928483, 0.0879802331023684, 0.10249678526826453, 0.12618365713905233, 0.15271855802638823, 0.17765247574811494, 0.19874713728791987, 0.2152609275474871, 0.22739415658335024, 0.23592978488763708, 0.24197100837949956, 0.2467068105023903, 0.2511848674129588, 0.13103141609303873, 0.10346102413504334, 0.07699553809442403, 0.05392544153387208, 0.039708587644612145, 0.03780820122842386, 0.037851469706299136, 0.029882773272552843, 0.013991106589444413, 0.006600057985375705, 0.014627832329675149, 0.012382425684457523, 0.006176216077365938, 0.008605222212432843, 0.008476886370825491, 0.02084141778932443, 0.042552313911238454, 0.06793606990364472, 0.09417901479151478, 0.1175339389363385, 0.1345598178470697, 0.14300932015487433, 0.14211119359382135, 0.1328342268907455, 0.11847567073645031, 0.10539907606863207, 0.10155333429989052, 0.10940424249662187, 0.12267272203193882, 0.13378851452357274, 0.13882083662158742, 0.13738490555947097, 0.13132534488011377, 0.12303401766116517, 0.11375505644850045, 0.10318619248768969, 0.09119897590146707, 0.0808751840755163, 0.0801749259529142, 0.09489885692634192, 0.1203656932730391, 0.14880354340976662, 0.1753497501622648, 0.19776004526459945, 0.21535922332212246, 0.22840072123258093, 0.2376902985950562, 0.2443251450124862, 0.24947066301527315, 0.2541519589333362, 0.13498334399124667, 0.10664957099346398, 0.07833474708474668, 0.052026126444760144, 0.033952817098195136, 0.03207735995337604, 0.03497310944836458, 0.029737133136150236, 0.016699665890332248, 0.009419027871607455, 0.013644069852051311, 0.010701665023715858, 0.0038792251129073185, 0.007686336255265239, 0.008967707591801861, 0.022364723286713552, 0.04484634135938633, 0.07071579602995964, 0.0970490678322363, 0.12035800520136188, 0.13743373239872467, 0.14617846745317262, 0.1459356840946699, 0.1377736807786363, 0.12499980485702011, 0.11359988541328576, 0.1105028197562376, 0.11770147486438266, 0.12987351658581764, 0.14028112714711835, 0.1451445754046946, 0.14386522132439622, 0.13787475889070983, 0.12908046322067823, 0.11839391168015549, 0.10544049704140941, 0.09012525392485948, 0.07577279220203989, 0.07210065658114545, 0.08715099445876782, 0.1146325686044786, 0.1450442696551009, 0.17318288142050203, 0.19685878800643128, 0.21548673138019694, 0.22938125698616307, 0.2393744400503277, 0.24656080319322546, 0.2520861904396082, 0.2569565693150952, 0.13878603460017125, 0.10976345811976282, 0.07981284568395343, 0.05053411781177657, 0.02814057496811906, 0.02638477988943913, 0.032855285846731655, 0.03060985842680482, 0.020315025988550527, 0.012818295051212738, 0.0130726355341965, 0.009302582291953078, 0.0019036733132466377, 0.006719568696304869, 0.009054886284274756, 0.02364069631062829, 0.046980476232529496, 0.07340694319742362, 0.09990757401393156, 0.12322508325362873, 0.14038567043103906, 0.14945156386771094, 0.14988180753964053, 0.14282607228022445, 0.13155867547330596, 0.12166824032268721, 0.11921668951539842, 0.12584681833213357, 0.13701638203484545, 0.1467244721318432, 0.151364713225197, 0.15016059487365507, 0.14417704316539845, 0.13489840718896534, 0.1229404883310302, 0.10782547293170533, 0.08937886421570697, 0.07088342791509082, 0.06377302134649093, 0.07931004996665761, 0.1090648878729128, 0.14149583838963625, 0.17118417595448687, 0.19606203536350406, 0.2156549094168398, 0.23034397088084774, 0.2409895441130141, 0.2486856699462946, 0.2545616535601608, 0.25960695250341365, 0.14246419488364487, 0.11284283668204209, 0.0814941483305112, 0.04963519844041038, 0.02256675284809667, 0.02103021893240938, 0.031718807945569104, 0.032384623939663966, 0.02431447878074253, 0.016274454312189594, 0.012834003769794764, 0.008077557347820806, 0.0006166267900757336, 0.005630850819116256, 0.008782183800762964, 0.024727580989076816, 0.048989976246942325, 0.07602144462332858, 0.1027507492042873, 0.12612534511837192, 0.14340266634720128, 0.15281064787675885, 0.1539225699103763, 0.14795210432266148, 0.13810667773261565, 0.12957646203611842, 0.1276864002205959, 0.1338160547840102, 0.14406723119072223, 0.15309014703058657, 0.15746387289161184, 0.15626669529316317, 0.15023981370276465, 0.14049835462322713, 0.12739715625825251, 0.11034329068381075, 0.08900930249777803, 0.06634586356920938, 0.05521676206025109, 0.07145822479609079, 0.10375932766096295, 0.13821727026075314, 0.1693863092913632, 0.19538820519659955, 0.21587503312146644, 0.23129702428541635, 0.2425429478402997, 0.2507073894703711, 0.25690519618774843, 0.26211122374412266, 0.14604241434844797, 0.1159259070178305, 0.08343770921961856, 0.04950958379102872, 0.017885140561932432, 0.016684608105197386, 0.03173743802129486, 0.03489675303041526, 0.028446216852336403, 0.01965753902126875, 0.012877093527913384, 0.006872756028733198, 0.0012395927795415974, 0.0043800369908776355, 0.008270471591960041, 0.025707629262214055, 0.05091850022198111, 0.07857758562499971, 0.10557952258973342, 0.12905156147381588, 0.14647303510808216, 0.15623876807493745, 0.15803294292306735, 0.1531171470796634, 0.144606521188408, 0.1373034752131765, 0.13590530898349204, 0.14159071705045861, 0.15099888004186318, 0.1593550678080732, 0.16342859598059592, 0.16218171762813274, 0.1560717771599066, 0.14589210099191396, 0.13176967098862394, 0.11299880323756828, 0.08906495349406675, 0.06233621260741442, 0.046471697659600665, 0.0637165472841251, 0.09882948370650356, 0.13527013535895144, 0.16782152279212847, 0.1948550713155318, 0.216157989425954, 0.2322484045680919, 0.24404190076396384, 0.25263350093740755, 0.25912480518910985, 0.26447733118373534, 0.14954453189064495, 0.11904780143390058, 0.08569367508953189, 0.050301439440669775, 0.015422987938954347, 0.0146616172845715, 0.03297413523315165, 0.03798334465649725, 0.03260261577618146, 0.022958499352837065, 0.013213098998989486, 0.005538372932535748, 0.001970096166719876, 0.002977840000096598, 0.007734016317355477, 0.02667867472860623, 0.05281507049230516, 0.08109810939317295, 0.10839864601434608, 0.131998904124059, 0.1495864728544815, 0.1597201922937078, 0.16219004583836816, 0.1582910060579941, 0.15102785354403364, 0.1448332878832058, 0.14386851950840818, 0.14915681577884143, 0.1577897429339045, 0.16550060592371557, 0.16924865912027331, 0.16790586262388899, 0.1616824576149254, 0.15109231642099424, 0.13606614109636372, 0.11579838502928347, 0.08958944619383691, 0.05906568471448805, 0.03760699779150226, 0.05626711907647053, 0.09440499785524158, 0.13271661151793784, 0.16652071714106295, 0.19447936002397848, 0.21651407357382174, 0.23320580296696003, 0.24549348162479734, 0.25447138178281614, 0.26122827429548623, 0.2667130302695101, 0.1529930640779912, 0.12223959115476621, 0.08830031315527889, 0.0520904771789006, 0.016606718694221378, 0.01616866918791, 0.03536004304672308, 0.04151120138694082, 0.03674832912331321, 0.02621535561764098, 0.01391826718910398, 0.003997044482568404, 0.002384527194274903, 0.0015177271734533727, 0.007476507753854544, 0.027741837843634317, 0.054730458840185195, 0.08360833890646316, 0.11121574049954346, 0.1349646431595761, 0.15273406883265933, 0.16324053438626282, 0.16637322500618681, 0.1634476103766123, 0.15734611378015578, 0.1521539207738745, 0.1515727328633959, 0.15650393523794062, 0.16442281913985876, 0.17151188229997316, 0.17491652129457613, 0.17344091840913697, 0.1670819508652808, 0.15611217629836138, 0.14029615043378763, 0.1187488255778929, 0.09061798142166894, 0.05676541745363132, 0.02876181682919898, 0.04938821902870885, 0.09062769412951696, 0.13061697184243917, 0.16551247945099082, 0.19427634992443285, 0.2169527953009643, 0.2341765005285367, 0.24690452203878396, 0.2562281964559458, 0.26322317162077064, 0.26882586089462623, 0.15640870819158484, 0.12552747957992558, 0.09128210425933582, 0.05487906893488987, 0.0210717134768992, 0.020630618394326127, 0.0387340275626987, 0.04538321778336476, 0.040885341614145546, 0.029486187274364837, 0.015102080929381326, 0.0024388802881688807, 0.0026171043302301725, 0.0006396019168187494, 0.007790614589432461, 0.02898739596400196, 0.056713433511247774, 0.0861343959259695, 0.11404034487415748, 0.1379477796271663, 0.15590824784250915, 0.1667868114443216, 0.1705640540268671, 0.1685646633737672, 0.163541585906632, 0.15925662895873866, 0.15901610351544074, 0.16362456952355842, 0.17088489754986821, 0.17737718678490697, 0.18042687253932457, 0.17878991860583782, 0.17228070313516036, 0.16096503214276703, 0.14447001206093144, 0.12185633122019406, 0.09217417695331842, 0.0556528405298359, 0.02028820740894603, 0.04350084703845947, 0.0876433840375776, 0.12902660623301787, 0.16482209615841278, 0.1942594915375433, 0.2174826995955548, 0.2351672639785797, 0.24828153759319066, 0.257910850644129, 0.2651168108422855, 0.27082312723707713, 0.15980993244348937, 0.12893223122960465, 0.09464911696340576, 0.05860079099247576, 0.027394750740603914, 0.02671352499570928, 0.04290542820729383, 0.04953346850984296, 0.045034832981855386, 0.03283462297252903, 0.016856658830623126, 0.002304498282501496, 0.002867365217505871, 0.0016229729093156103, 0.008771838503296825, 0.030482697183017608, 0.05880741014474323, 0.08870161158006194, 0.11688301994724759, 0.14094864943036506, 0.15910266218992428, 0.1703474447822091, 0.17474627471603466, 0.1736232831931929, 0.16959862031218031, 0.16613531839012605, 0.1661981011562613, 0.17051361955365507, 0.17716592470842119, 0.18308749732549892, 0.18577626154896879, 0.18395685916042984, 0.17728931255342678, 0.1656641200061785, 0.14859813921687887, 0.12512567897587085, 0.09426794649724911, 0.05588360139447207, 0.013371259408610819, 0.039196517332626024, 0.08558868802084083, 0.12799281064402482, 0.16447061613085084, 0.19444006411170703, 0.21811120739387835, 0.23618425330340362, 0.24963066686008734, 0.2595259510070655, 0.26691622600996423, 0.2727118802420136, 0.16321266310803864, 0.13246886588462786, 0.09839764337316531, 0.06314378694040901, 0.03464819948291987, 0.03360951854454936, 0.04769846820975792, 0.053918988049252534, 0.04922659566699958, 0.03632007970773102, 0.01921922968358385, 0.004442649151402412, 0.0032932962149942913, 0.0026194762073733775, 0.010286782109009107, 0.03226619608118941, 0.061048011582919205, 0.09133321902248646, 0.11975455035582153, 0.14396852812409128, 0.1623120506452331, 0.17391221755812347, 0.17890569590073171, 0.17860765057216899, 0.17550499179286183, 0.1727860956615282, 0.17311937873482816, 0.17716800048116116, 0.18325849584947787, 0.18863607834823687, 0.19096278525283913, 0.18894646146351682, 0.18211835261109346, 0.17022230556021964, 0.15269052419326026, 0.12855955458558144, 0.09689474588456082, 0.05750900985082571, 0.011743660458409954, 0.03714800067646046, 0.08457405101535018, 0.12755170094463505, 0.16447403445920236, 0.19482688646359128, 0.2188444811434999, 0.23723294264621125, 0.2509576187700561, 0.2610797704629751, 0.2686281499538707, 0.274498902695978, 0.1666300742886184, 0.13614662360691107, 0.10251186118773409, 0.0683765375832057, 0.042390945958223174, 0.040938962817737, 0.052969299877591726, 0.05851201859718244, 0.053492256622348154, 0.03999121401824256, 0.022168418386258965, 0.00741247229311447, 0.003968844588479906, 0.00321755576222396, 0.012137823624750679, 0.034349366237581495, 0.06346185620116836, 0.09404939541957899, 0.12266527431295979, 0.14700925981428564, 0.16553207965758746, 0.17747220077816564, 0.18303006392798715, 0.1835046738821139, 0.1812513677481921, 0.17920691120168322, 0.17978164700288454, 0.1835863269866434, 0.18915743937451898, 0.19401814233408582, 0.1959858276244565, 0.19376397291082986, 0.1867782172436333, 0.17465186592028173, 0.15675631904248358, 0.1321580927190178, 0.10003623491925405, 0.06046439212786965, 0.01718529477721282, 0.037803283302402714, 0.08466673711193894, 0.12772567932426576, 0.1648426646782537, 0.1954260966671732, 0.2196873194262996, 0.23831805586436836, 0.25226762871192415, 0.26257821905569095, 0.2702589962565753, 0.2761906968378616, 0.17007248122979185, 0.1399691825393944, 0.10696615418098317, 0.07416731765348783, 0.050404220150252026, 0.04851346714089441, 0.058606184318418526, 0.0632939125214542, 0.05786080751588795, 0.04388239721489033, 0.02564501545396118, 0.010786442582148224, 0.004942703184752399, 0.00336126877283065, 0.014188222775561326, 0.03672474545012739, 0.06606661623303521, 0.09686668255817142, 0.12562455888580143, 0.15007292692348467, 0.16875917942298851, 0.18101965793985986, 0.1871089158934574, 0.18830367672687906, 0.18683086482199038, 0.18539726970615947, 0.18618755577879093, 0.1897686550083084, 0.1948594731312062, 0.1992305621994765, 0.20084583813885473, 0.19841499851004665, 0.19127898734705995, 0.17896430849727707, 0.16080351322339606, 0.1359186222530204, 0.10366211859747188, 0.0645952137156086, 0.025579746209183463, 0.04107007644601573, 0.08587935236761057, 0.1285218567302679, 0.165580754544311, 0.19624101196261567, 0.220643083813102, 0.23944351775958786, 0.25356542361882517, 0.2640268204048428, 0.27181484474688117, 0.2777934744456506, 0.17354733306973189, 0.14393509142014274, 0.11172769816111168, 0.08039520811364155, 0.058564963820942416, 0.0562272185935882, 0.06452351005290874, 0.0682507712987463, 0.062355808958480675, 0.04801295946110468, 0.029575963053413555, 0.014461516554578622, 0.00629742434270564, 0.0032164183325456524, 0.016386914338924027, 0.03937618327228382, 0.06887211267893532, 0.09979777143560596, 0.12864042575659507, 0.1531615714516518, 0.17199038463426766, 0.18454793693397117, 0.19113342411011225, 0.19299611037650974, 0.19223867662744193, 0.1913579902344403, 0.19234058204602672, 0.1957162655016624, 0.20036291659242425, 0.20427162493428289, 0.20554414263616352, 0.20290535881874605, 0.19563031851636212, 0.1831702269487628, 0.16483870308564164, 0.13983560498735736, 0.10773274383475055, 0.06970233380264529, 0.03485881753081103, 0.04640149933195475, 0.08816839119179205, 0.12993169931113324, 0.16668637903113923, 0.19727207566193147, 0.2217136598798722, 0.24061242159898738, 0.25485519617184677, 0.2654306937019749, 0.2733014304558364, 0.2793131493303588, 0.17705929628192782, 0.1480383653037023, 0.11675898140700769, 0.0869545077830618, 0.06679494944675236, 0.06401322117064626, 0.07065514837685877, 0.07337054776208324, 0.06699392407605008, 0.052388567299850045, 0.033890243283550225, 0.018399671147902547, 0.008137958311361077, 0.0034018297974508145, 0.018751854932350466, 0.04228759638061155, 0.07188203322194972, 0.10285159641787006, 0.13171932070953313, 0.1562769728162728, 0.1752231870607495, 0.1880513561855699, 0.19509623825841224, 0.19757529145684868, 0.1974717588685072, 0.19709100396201043, 0.19824492492619725, 0.20143148036169756, 0.20566744718634938, 0.20914081913258248, 0.21008278108294806, 0.2072409706497461, 0.19984134965177686, 0.1872791937862173, 0.16886694702386976, 0.14390074389403779, 0.11220198061406157, 0.07558215930083093, 0.04444411633268412, 0.05315565284433073, 0.09144331922147686, 0.13193194949941994, 0.16815161709638093, 0.198516892543335, 0.22289945293791774, 0.24182701311108196, 0.2561405881061986, 0.2667945411665499, 0.27472413595596556, 0.2807553321592921];\n",
       "const xvar = \"lr\";\n",
       "const yvar = \"momentum\";\n",
       "const x_is_log = true;\n",
       "const y_is_log = false;\n",
       "\n",
       "const GREEN_SCALE = [[247, 252, 253], [229, 245, 249], [204, 236, 230], [153, 216, 201], [102, 194, 164], [65, 174, 118], [35, 139, 69], [0, 109, 44], [0, 68, 27]];\n",
       "const GREEN_PINK_SCALE = [[142, 1, 82], [197, 27, 125], [222, 119, 174], [241, 182, 218], [253, 224, 239], [247, 247, 247], [230, 245, 208], [184, 225, 134], [127, 188, 65], [77, 146, 33], [39, 100, 25]];\n",
       "const BLUE_SCALE = [[255, 247, 251], [236, 231, 242], [208, 209, 230], [166, 189, 219], [116, 169, 207], [54, 144, 192], [5, 112, 176], [3, 78, 123]];\n",
       "\n",
       "// format data\n",
       "const res = relativize_data(f, sd, rel, arm_data, metric);\n",
       "const f_final = res[0];\n",
       "const sd_final = res[1];\n",
       "\n",
       "// calculate max of abs(outcome), used for colorscale\n",
       "const f_absmax = Math.max(Math.abs(Math.min(...f_final)), Math.max(...f_final));\n",
       "\n",
       "// transform to nested array\n",
       "var f_plt = [];\n",
       "while(f_final.length) f_plt.push(f_final.splice(0, density));\n",
       "var sd_plt = [];\n",
       "while(sd_final.length) sd_plt.push(sd_final.splice(0, density));\n",
       "\n",
       "// create traces\n",
       "const CONTOUR_CONFIG = {\n",
       "  autocolorscale: false,\n",
       "  autocontour: true,\n",
       "  contours: {\n",
       "    coloring: 'heatmap',\n",
       "  },\n",
       "  hoverinfo: 'x+y+z',\n",
       "  ncontours: density / 2,\n",
       "  type: 'contour',\n",
       "  x: grid_x,\n",
       "  y: grid_y,\n",
       "};\n",
       "\n",
       "let f_scale;\n",
       "if (rel === true) {\n",
       "  f_scale = lower_is_better === true\n",
       "    ? GREEN_PINK_SCALE.reverse()\n",
       "    : GREEN_PINK_SCALE;\n",
       "} else {\n",
       "  f_scale = GREEN_SCALE;\n",
       "}\n",
       "\n",
       "const f_trace = {\n",
       "  colorbar: {\n",
       "    x: 0.45,\n",
       "    y: 0.5,\n",
       "    ticksuffix: rel === true ? '%' : '',\n",
       "    tickfont: {\n",
       "      size: 8,\n",
       "    },\n",
       "  },\n",
       "  colorscale: f_scale.map(\n",
       "    (v, i) => [i / (f_scale.length - 1), rgb(v)]\n",
       "  ),\n",
       "  xaxis: 'x',\n",
       "  yaxis: 'y',\n",
       "  z: f_plt,\n",
       "  // zmax and zmin are ignored if zauto is true\n",
       "  zauto: !rel,\n",
       "  zmax: f_absmax,\n",
       "  zmin: -f_absmax,\n",
       "};\n",
       "\n",
       "const sd_trace = {\n",
       "  colorbar: {\n",
       "      x: 1,\n",
       "      y: 0.5,\n",
       "      ticksuffix: rel === true ? '%' : '',\n",
       "      tickfont: {\n",
       "        size: 8,\n",
       "      },\n",
       "  },\n",
       "  colorscale: BLUE_SCALE.map(\n",
       "    (v, i) => [i / (BLUE_SCALE.length - 1), rgb(v)]\n",
       "  ),\n",
       "  xaxis: 'x2',\n",
       "  yaxis: 'y2',\n",
       "  z: sd_plt,\n",
       "};\n",
       "\n",
       "Object.keys(CONTOUR_CONFIG).forEach(key => {\n",
       "  f_trace[key] = CONTOUR_CONFIG[key];\n",
       "  sd_trace[key] = CONTOUR_CONFIG[key];\n",
       "});\n",
       "\n",
       "// get in-sample arms\n",
       "const arm_x = [];\n",
       "const arm_y = [];\n",
       "const arm_text = [];\n",
       "\n",
       "Object.keys(arm_data['in_sample']).forEach(arm_name => {\n",
       "  arm_x.push(arm_data['in_sample'][arm_name]['parameters'][xvar]);\n",
       "  arm_y.push(arm_data['in_sample'][arm_name]['parameters'][yvar]);\n",
       "  arm_text.push(arm_name);\n",
       "});\n",
       "\n",
       "// configs for in-sample arms\n",
       "const base_in_sample_arm_config = {\n",
       "  hoverinfo: 'text',\n",
       "  legendgroup: 'In-sample',\n",
       "  marker: {color: 'black', symbol: 1, opacity: 0.5},\n",
       "  mode: 'markers',\n",
       "  name: 'In-sample',\n",
       "  text: arm_text,\n",
       "  type: 'scatter',\n",
       "  x: arm_x,\n",
       "  y: arm_y,\n",
       "};\n",
       "\n",
       "const f_in_sample_arm_trace = {\n",
       "  xaxis: 'x',\n",
       "  yaxis: 'y',\n",
       "};\n",
       "\n",
       "const sd_in_sample_arm_trace = {\n",
       "  showlegend: false,\n",
       "  xaxis: 'x2',\n",
       "  yaxis: 'y2',\n",
       "};\n",
       "\n",
       "Object.keys(base_in_sample_arm_config).forEach(key => {\n",
       "  f_in_sample_arm_trace[key] = base_in_sample_arm_config[key];\n",
       "  sd_in_sample_arm_trace[key] = base_in_sample_arm_config[key];\n",
       "});\n",
       "\n",
       "const traces = [\n",
       "  f_trace,\n",
       "  sd_trace,\n",
       "  f_in_sample_arm_trace,\n",
       "  sd_in_sample_arm_trace,\n",
       "];\n",
       "\n",
       "// start symbol at 2 for candidate markers\n",
       "let i = 2;\n",
       "\n",
       "// iterate over out-of-sample arms\n",
       "Object.keys(arm_data['out_of_sample']).forEach(generator_run_name => {\n",
       "  const ax = [];\n",
       "  const ay = [];\n",
       "  const atext = [];\n",
       "\n",
       "  Object.keys(arm_data['out_of_sample'][generator_run_name]).forEach(arm_name => {\n",
       "    ax.push(\n",
       "      arm_data['out_of_sample'][generator_run_name][arm_name]['parameters'][xvar]\n",
       "    );\n",
       "    ay.push(\n",
       "      arm_data['out_of_sample'][generator_run_name][arm_name]['parameters'][yvar]\n",
       "    );\n",
       "    atext.push('<em>Candidate ' + arm_name + '</em>');\n",
       "  });\n",
       "\n",
       "  traces.push({\n",
       "    hoverinfo: 'text',\n",
       "    legendgroup: generator_run_name,\n",
       "    marker: {color: 'black', symbol: i, opacity: 0.5},\n",
       "    mode: 'markers',\n",
       "    name: generator_run_name,\n",
       "    text: atext,\n",
       "    type: 'scatter',\n",
       "    xaxis: 'x',\n",
       "    x: ax,\n",
       "    yaxis: 'y',\n",
       "    y: ay,\n",
       "  });\n",
       "  traces.push({\n",
       "    hoverinfo: 'text',\n",
       "    legendgroup: generator_run_name,\n",
       "    marker: {color: 'black', symbol: i, opacity: 0.5},\n",
       "    mode: 'markers',\n",
       "    name: 'In-sample',\n",
       "    showlegend: false,\n",
       "    text: atext,\n",
       "    type: 'scatter',\n",
       "    x: ax,\n",
       "    xaxis: 'x2',\n",
       "    y: ay,\n",
       "    yaxis: 'y2',\n",
       "  });\n",
       "  i += 1;\n",
       "});\n",
       "\n",
       "// layout\n",
       "const xrange = axis_range(grid_x, x_is_log);\n",
       "const yrange = axis_range(grid_y, y_is_log);\n",
       "\n",
       "const xtype = x_is_log ? 'log' : 'linear';\n",
       "const ytype = y_is_log ? 'log' : 'linear';\n",
       "\n",
       "const layout = {\n",
       "  autosize: false,\n",
       "    margin: {\n",
       "      l: 35,\n",
       "      r: 35,\n",
       "      t: 35,\n",
       "      b: 100,\n",
       "      pad: 0,\n",
       "  },\n",
       "  annotations: [\n",
       "    {\n",
       "      font: {size: 14},\n",
       "      showarrow: false,\n",
       "      text: 'Mean',\n",
       "      x: 0.25,\n",
       "      xanchor: 'center',\n",
       "      xref: 'paper',\n",
       "      y: 1,\n",
       "      yanchor: 'bottom',\n",
       "      yref: 'paper',\n",
       "    },\n",
       "    {\n",
       "      font: {size: 14},\n",
       "      showarrow: false,\n",
       "      text: 'Standard Error',\n",
       "      x: 0.8,\n",
       "      xanchor: 'center',\n",
       "      xref: 'paper',\n",
       "      y: 1,\n",
       "      yanchor: 'bottom',\n",
       "      yref: 'paper',\n",
       "    },\n",
       "  ],\n",
       "  hovermode: 'closest',\n",
       "  legend: {orientation: 'h', x: 0, y: -0.25},\n",
       "  height: 450,\n",
       "  width: 950,\n",
       "  xaxis: {\n",
       "    anchor: 'y',\n",
       "    autorange: false,\n",
       "    domain: [0.05, 0.45],\n",
       "    exponentformat: 'e',\n",
       "    range: xrange,\n",
       "    tickfont: {size: 11},\n",
       "    tickmode: 'auto',\n",
       "    title: xvar,\n",
       "    type: xtype,\n",
       "  },\n",
       "  xaxis2: {\n",
       "    anchor: 'y2',\n",
       "    autorange: false,\n",
       "    domain: [0.60, 1],\n",
       "    exponentformat: 'e',\n",
       "    range: xrange,\n",
       "    tickfont: {size: 11},\n",
       "    tickmode: 'auto',\n",
       "    title: xvar,\n",
       "    type: xtype,\n",
       "  },\n",
       "  yaxis: {\n",
       "    anchor: 'x',\n",
       "    autorange: false,\n",
       "    domain: [0, 1],\n",
       "    exponentformat: 'e',\n",
       "    range: yrange,\n",
       "    tickfont: {size: 11},\n",
       "    tickmode: 'auto',\n",
       "    title: yvar,\n",
       "    type: ytype,\n",
       "  },\n",
       "  yaxis2: {\n",
       "    anchor: 'x2',\n",
       "    autorange: false,\n",
       "    domain: [0, 1],\n",
       "    exponentformat: 'e',\n",
       "    range: yrange,\n",
       "    tickfont: {size: 11},\n",
       "    tickmode: 'auto',\n",
       "    type: ytype,\n",
       "  },\n",
       "};\n",
       "\n",
       "Plotly.newPlot(\"1e6987c177ee4fcaa0a2d5069b2f55c8\", traces, layout, {showLink: false});\n",
       "});</script>"
      ]
     },
     "metadata": {},
     "output_type": "display_data"
    }
   ],
   "source": [
    "render(plot_contour(model=model, param_x='lr', param_y='momentum', metric_name='accuracy'))"
   ]
  },
  {
   "cell_type": "markdown",
   "metadata": {},
   "source": [
    "## 5. Plot best objective as function of the iteration\n",
    "\n",
    "Show the model accuracy improving as we identify better hyperparameters."
   ]
  },
  {
   "cell_type": "code",
   "execution_count": 9,
   "metadata": {},
   "outputs": [
    {
     "data": {
      "text/html": [
       "<div id=\"a760fde04ab947bba62566770737ee94\" style=\"width: 100%;\" class=\"plotly-graph-div\"></div><script type='text/javascript'>/*\n",
       " * Copyright (c) Facebook, Inc. and its affiliates. All Rights Reserved.\n",
       " */\n",
       "\n",
       "require(['plotly'], function(Plotly) {\n",
       "  window.PLOTLYENV = window.PLOTLYENV || {};\n",
       "  window.PLOTLYENV.BASE_URL = 'https://plot.ly';\n",
       "  /*\n",
       " * Copyright (c) Facebook, Inc. and its affiliates. All Rights Reserved.\n",
       " */\n",
       "\n",
       "Plotly.newPlot(\n",
       "  \"a760fde04ab947bba62566770737ee94\",\n",
       "  [{\"hoverinfo\": \"none\", \"legendgroup\": \"\", \"line\": {\"width\": 0}, \"mode\": \"lines\", \"showlegend\": false, \"x\": [1, 2, 3, 4, 5, 6, 7, 8, 9, 10, 11, 12, 13, 14, 15, 16, 17, 18, 19, 20], \"y\": [10.983333333333334, 10.983333333333334, 77.10000000000001, 77.10000000000001, 77.10000000000001, 77.10000000000001, 88.31666666666666, 88.31666666666666, 88.31666666666666, 89.11666666666666, 89.11666666666666, 90.03333333333333, 90.03333333333333, 90.03333333333333, 90.03333333333333, 90.03333333333333, 90.03333333333333, 90.03333333333333, 90.03333333333333, 90.03333333333333], \"type\": \"scatter\"}, {\"fill\": \"tonexty\", \"fillcolor\": \"rgba(128,177,211,0.3)\", \"legendgroup\": \"mean\", \"line\": {\"color\": \"rgba(128,177,211,1)\"}, \"mode\": \"lines\", \"name\": \"mean\", \"x\": [1, 2, 3, 4, 5, 6, 7, 8, 9, 10, 11, 12, 13, 14, 15, 16, 17, 18, 19, 20], \"y\": [10.983333333333334, 10.983333333333334, 77.10000000000001, 77.10000000000001, 77.10000000000001, 77.10000000000001, 88.31666666666666, 88.31666666666666, 88.31666666666666, 89.11666666666666, 89.11666666666666, 90.03333333333333, 90.03333333333333, 90.03333333333333, 90.03333333333333, 90.03333333333333, 90.03333333333333, 90.03333333333333, 90.03333333333333, 90.03333333333333], \"type\": \"scatter\"}, {\"fill\": \"tonexty\", \"fillcolor\": \"rgba(128,177,211,0.3)\", \"hoverinfo\": \"none\", \"legendgroup\": \"\", \"line\": {\"width\": 0}, \"mode\": \"lines\", \"showlegend\": false, \"x\": [1, 2, 3, 4, 5, 6, 7, 8, 9, 10, 11, 12, 13, 14, 15, 16, 17, 18, 19, 20], \"y\": [10.983333333333334, 10.983333333333334, 77.10000000000001, 77.10000000000001, 77.10000000000001, 77.10000000000001, 88.31666666666666, 88.31666666666666, 88.31666666666666, 89.11666666666666, 89.11666666666666, 90.03333333333333, 90.03333333333333, 90.03333333333333, 90.03333333333333, 90.03333333333333, 90.03333333333333, 90.03333333333333, 90.03333333333333, 90.03333333333333], \"type\": \"scatter\"}],\n",
       "  {\"showlegend\": true, \"title\": {\"text\": \"Model performance vs. # of iterations\"}, \"xaxis\": {\"title\": {\"text\": \"Iteration\"}}, \"yaxis\": {\"title\": {\"text\": \"Classification Accuracy, %\"}}, \"template\": {\"data\": {\"barpolar\": [{\"marker\": {\"line\": {\"color\": \"#E5ECF6\", \"width\": 0.5}}, \"type\": \"barpolar\"}], \"bar\": [{\"error_x\": {\"color\": \"#2a3f5f\"}, \"error_y\": {\"color\": \"#2a3f5f\"}, \"marker\": {\"line\": {\"color\": \"#E5ECF6\", \"width\": 0.5}}, \"type\": \"bar\"}], \"carpet\": [{\"aaxis\": {\"endlinecolor\": \"#2a3f5f\", \"gridcolor\": \"white\", \"linecolor\": \"white\", \"minorgridcolor\": \"white\", \"startlinecolor\": \"#2a3f5f\"}, \"baxis\": {\"endlinecolor\": \"#2a3f5f\", \"gridcolor\": \"white\", \"linecolor\": \"white\", \"minorgridcolor\": \"white\", \"startlinecolor\": \"#2a3f5f\"}, \"type\": \"carpet\"}], \"choropleth\": [{\"colorbar\": {\"outlinewidth\": 0, \"ticks\": \"\"}, \"type\": \"choropleth\"}], \"contourcarpet\": [{\"colorbar\": {\"outlinewidth\": 0, \"ticks\": \"\"}, \"type\": \"contourcarpet\"}], \"contour\": [{\"colorbar\": {\"outlinewidth\": 0, \"ticks\": \"\"}, \"colorscale\": [[0.0, \"#0d0887\"], [0.1111111111111111, \"#46039f\"], [0.2222222222222222, \"#7201a8\"], [0.3333333333333333, \"#9c179e\"], [0.4444444444444444, \"#bd3786\"], [0.5555555555555556, \"#d8576b\"], [0.6666666666666666, \"#ed7953\"], [0.7777777777777778, \"#fb9f3a\"], [0.8888888888888888, \"#fdca26\"], [1.0, \"#f0f921\"]], \"type\": \"contour\"}], \"heatmapgl\": [{\"colorbar\": {\"outlinewidth\": 0, \"ticks\": \"\"}, \"colorscale\": [[0.0, \"#0d0887\"], [0.1111111111111111, \"#46039f\"], [0.2222222222222222, \"#7201a8\"], [0.3333333333333333, \"#9c179e\"], [0.4444444444444444, \"#bd3786\"], [0.5555555555555556, \"#d8576b\"], [0.6666666666666666, \"#ed7953\"], [0.7777777777777778, \"#fb9f3a\"], [0.8888888888888888, \"#fdca26\"], [1.0, \"#f0f921\"]], \"type\": \"heatmapgl\"}], \"heatmap\": [{\"colorbar\": {\"outlinewidth\": 0, \"ticks\": \"\"}, \"colorscale\": [[0.0, \"#0d0887\"], [0.1111111111111111, \"#46039f\"], [0.2222222222222222, \"#7201a8\"], [0.3333333333333333, \"#9c179e\"], [0.4444444444444444, \"#bd3786\"], [0.5555555555555556, \"#d8576b\"], [0.6666666666666666, \"#ed7953\"], [0.7777777777777778, \"#fb9f3a\"], [0.8888888888888888, \"#fdca26\"], [1.0, \"#f0f921\"]], \"type\": \"heatmap\"}], \"histogram2dcontour\": [{\"colorbar\": {\"outlinewidth\": 0, \"ticks\": \"\"}, \"colorscale\": [[0.0, \"#0d0887\"], [0.1111111111111111, \"#46039f\"], [0.2222222222222222, \"#7201a8\"], [0.3333333333333333, \"#9c179e\"], [0.4444444444444444, \"#bd3786\"], [0.5555555555555556, \"#d8576b\"], [0.6666666666666666, \"#ed7953\"], [0.7777777777777778, \"#fb9f3a\"], [0.8888888888888888, \"#fdca26\"], [1.0, \"#f0f921\"]], \"type\": \"histogram2dcontour\"}], \"histogram2d\": [{\"colorbar\": {\"outlinewidth\": 0, \"ticks\": \"\"}, \"colorscale\": [[0.0, \"#0d0887\"], [0.1111111111111111, \"#46039f\"], [0.2222222222222222, \"#7201a8\"], [0.3333333333333333, \"#9c179e\"], [0.4444444444444444, \"#bd3786\"], [0.5555555555555556, \"#d8576b\"], [0.6666666666666666, \"#ed7953\"], [0.7777777777777778, \"#fb9f3a\"], [0.8888888888888888, \"#fdca26\"], [1.0, \"#f0f921\"]], \"type\": \"histogram2d\"}], \"histogram\": [{\"marker\": {\"colorbar\": {\"outlinewidth\": 0, \"ticks\": \"\"}}, \"type\": \"histogram\"}], \"mesh3d\": [{\"colorbar\": {\"outlinewidth\": 0, \"ticks\": \"\"}, \"type\": \"mesh3d\"}], \"parcoords\": [{\"line\": {\"colorbar\": {\"outlinewidth\": 0, \"ticks\": \"\"}}, \"type\": \"parcoords\"}], \"scatter3d\": [{\"line\": {\"colorbar\": {\"outlinewidth\": 0, \"ticks\": \"\"}}, \"marker\": {\"colorbar\": {\"outlinewidth\": 0, \"ticks\": \"\"}}, \"type\": \"scatter3d\"}], \"scattercarpet\": [{\"marker\": {\"colorbar\": {\"outlinewidth\": 0, \"ticks\": \"\"}}, \"type\": \"scattercarpet\"}], \"scattergeo\": [{\"marker\": {\"colorbar\": {\"outlinewidth\": 0, \"ticks\": \"\"}}, \"type\": \"scattergeo\"}], \"scattergl\": [{\"marker\": {\"colorbar\": {\"outlinewidth\": 0, \"ticks\": \"\"}}, \"type\": \"scattergl\"}], \"scattermapbox\": [{\"marker\": {\"colorbar\": {\"outlinewidth\": 0, \"ticks\": \"\"}}, \"type\": \"scattermapbox\"}], \"scatterpolargl\": [{\"marker\": {\"colorbar\": {\"outlinewidth\": 0, \"ticks\": \"\"}}, \"type\": \"scatterpolargl\"}], \"scatterpolar\": [{\"marker\": {\"colorbar\": {\"outlinewidth\": 0, \"ticks\": \"\"}}, \"type\": \"scatterpolar\"}], \"scatter\": [{\"marker\": {\"colorbar\": {\"outlinewidth\": 0, \"ticks\": \"\"}}, \"type\": \"scatter\"}], \"scatterternary\": [{\"marker\": {\"colorbar\": {\"outlinewidth\": 0, \"ticks\": \"\"}}, \"type\": \"scatterternary\"}], \"surface\": [{\"colorbar\": {\"outlinewidth\": 0, \"ticks\": \"\"}, \"colorscale\": [[0.0, \"#0d0887\"], [0.1111111111111111, \"#46039f\"], [0.2222222222222222, \"#7201a8\"], [0.3333333333333333, \"#9c179e\"], [0.4444444444444444, \"#bd3786\"], [0.5555555555555556, \"#d8576b\"], [0.6666666666666666, \"#ed7953\"], [0.7777777777777778, \"#fb9f3a\"], [0.8888888888888888, \"#fdca26\"], [1.0, \"#f0f921\"]], \"type\": \"surface\"}], \"table\": [{\"cells\": {\"fill\": {\"color\": \"#EBF0F8\"}, \"line\": {\"color\": \"white\"}}, \"header\": {\"fill\": {\"color\": \"#C8D4E3\"}, \"line\": {\"color\": \"white\"}}, \"type\": \"table\"}]}, \"layout\": {\"annotationdefaults\": {\"arrowcolor\": \"#2a3f5f\", \"arrowhead\": 0, \"arrowwidth\": 1}, \"colorscale\": {\"diverging\": [[0, \"#8e0152\"], [0.1, \"#c51b7d\"], [0.2, \"#de77ae\"], [0.3, \"#f1b6da\"], [0.4, \"#fde0ef\"], [0.5, \"#f7f7f7\"], [0.6, \"#e6f5d0\"], [0.7, \"#b8e186\"], [0.8, \"#7fbc41\"], [0.9, \"#4d9221\"], [1, \"#276419\"]], \"sequential\": [[0.0, \"#0d0887\"], [0.1111111111111111, \"#46039f\"], [0.2222222222222222, \"#7201a8\"], [0.3333333333333333, \"#9c179e\"], [0.4444444444444444, \"#bd3786\"], [0.5555555555555556, \"#d8576b\"], [0.6666666666666666, \"#ed7953\"], [0.7777777777777778, \"#fb9f3a\"], [0.8888888888888888, \"#fdca26\"], [1.0, \"#f0f921\"]], \"sequentialminus\": [[0.0, \"#0d0887\"], [0.1111111111111111, \"#46039f\"], [0.2222222222222222, \"#7201a8\"], [0.3333333333333333, \"#9c179e\"], [0.4444444444444444, \"#bd3786\"], [0.5555555555555556, \"#d8576b\"], [0.6666666666666666, \"#ed7953\"], [0.7777777777777778, \"#fb9f3a\"], [0.8888888888888888, \"#fdca26\"], [1.0, \"#f0f921\"]]}, \"colorway\": [\"#636efa\", \"#EF553B\", \"#00cc96\", \"#ab63fa\", \"#FFA15A\", \"#19d3f3\", \"#FF6692\", \"#B6E880\", \"#FF97FF\", \"#FECB52\"], \"font\": {\"color\": \"#2a3f5f\"}, \"geo\": {\"bgcolor\": \"white\", \"lakecolor\": \"white\", \"landcolor\": \"#E5ECF6\", \"showlakes\": true, \"showland\": true, \"subunitcolor\": \"white\"}, \"hoverlabel\": {\"align\": \"left\"}, \"hovermode\": \"closest\", \"mapbox\": {\"style\": \"light\"}, \"paper_bgcolor\": \"white\", \"plot_bgcolor\": \"#E5ECF6\", \"polar\": {\"angularaxis\": {\"gridcolor\": \"white\", \"linecolor\": \"white\", \"ticks\": \"\"}, \"bgcolor\": \"#E5ECF6\", \"radialaxis\": {\"gridcolor\": \"white\", \"linecolor\": \"white\", \"ticks\": \"\"}}, \"scene\": {\"xaxis\": {\"backgroundcolor\": \"#E5ECF6\", \"gridcolor\": \"white\", \"gridwidth\": 2, \"linecolor\": \"white\", \"showbackground\": true, \"ticks\": \"\", \"zerolinecolor\": \"white\"}, \"yaxis\": {\"backgroundcolor\": \"#E5ECF6\", \"gridcolor\": \"white\", \"gridwidth\": 2, \"linecolor\": \"white\", \"showbackground\": true, \"ticks\": \"\", \"zerolinecolor\": \"white\"}, \"zaxis\": {\"backgroundcolor\": \"#E5ECF6\", \"gridcolor\": \"white\", \"gridwidth\": 2, \"linecolor\": \"white\", \"showbackground\": true, \"ticks\": \"\", \"zerolinecolor\": \"white\"}}, \"shapedefaults\": {\"line\": {\"color\": \"#2a3f5f\"}}, \"ternary\": {\"aaxis\": {\"gridcolor\": \"white\", \"linecolor\": \"white\", \"ticks\": \"\"}, \"baxis\": {\"gridcolor\": \"white\", \"linecolor\": \"white\", \"ticks\": \"\"}, \"bgcolor\": \"#E5ECF6\", \"caxis\": {\"gridcolor\": \"white\", \"linecolor\": \"white\", \"ticks\": \"\"}}, \"title\": {\"x\": 0.05}, \"xaxis\": {\"automargin\": true, \"gridcolor\": \"white\", \"linecolor\": \"white\", \"ticks\": \"\", \"zerolinecolor\": \"white\", \"zerolinewidth\": 2}, \"yaxis\": {\"automargin\": true, \"gridcolor\": \"white\", \"linecolor\": \"white\", \"ticks\": \"\", \"zerolinecolor\": \"white\", \"zerolinewidth\": 2}}}},\n",
       "  {\"showLink\": false}\n",
       ");\n",
       "});</script>"
      ]
     },
     "metadata": {},
     "output_type": "display_data"
    }
   ],
   "source": [
    "# `plot_single_method` expects a 2-d array of means, because it expects to average means from multiple \n",
    "# optimization runs, so we wrap out best objectives array in another array.\n",
    "best_objectives = np.array([[trial.objective_mean*100 for trial in experiment.trials.values()]])\n",
    "best_objective_plot = optimization_trace_single_method(\n",
    "    y=np.maximum.accumulate(best_objectives, axis=1),\n",
    "    title=\"Model performance vs. # of iterations\",\n",
    "    ylabel=\"Classification Accuracy, %\",\n",
    ")\n",
    "render(best_objective_plot)"
   ]
  },
  {
   "cell_type": "markdown",
   "metadata": {},
   "source": [
    "## 6. Train CNN with best hyperparameters and evaluate on test set\n",
    "Note that the resulting accuracy on the test set might not be exactly the same as the maximum accuracy achieved on the evaluation set throughout optimization. "
   ]
  },
  {
   "cell_type": "code",
   "execution_count": 10,
   "metadata": {},
   "outputs": [
    {
     "data": {
      "text/plain": [
       "Arm(name='11_0', parameters={'lr': 2.788544356686743e-05, 'momentum': 0.8678681426122185})"
      ]
     },
     "execution_count": 10,
     "metadata": {},
     "output_type": "execute_result"
    }
   ],
   "source": [
    "data = experiment.fetch_data()\n",
    "df = data.df\n",
    "best_arm_name = df.arm_name[df['mean'] == df['mean'].max()].values[0]\n",
    "best_arm = experiment.arms_by_name[best_arm_name]\n",
    "best_arm"
   ]
  },
  {
   "cell_type": "code",
   "execution_count": 11,
   "metadata": {
    "collapsed": true
   },
   "outputs": [],
   "source": [
    "combined_train_valid_set = torch.utils.data.ConcatDataset([\n",
    "    train_loader.dataset.dataset, \n",
    "    valid_loader.dataset.dataset,\n",
    "])\n",
    "combined_train_valid_loader = torch.utils.data.DataLoader(\n",
    "    combined_train_valid_set, \n",
    "    batch_size=BATCH_SIZE, \n",
    "    shuffle=True,\n",
    ")"
   ]
  },
  {
   "cell_type": "code",
   "execution_count": 12,
   "metadata": {
    "collapsed": true
   },
   "outputs": [],
   "source": [
    "net = train(\n",
    "    net=CNN(),\n",
    "    train_loader=combined_train_valid_loader, \n",
    "    parameters=best_arm.parameters,\n",
    "    dtype=dtype,\n",
    "    device=device,\n",
    ")\n",
    "test_accuracy = evaluate(\n",
    "    net=net,\n",
    "    data_loader=test_loader,\n",
    "    dtype=dtype,\n",
    "    device=device,\n",
    ")"
   ]
  },
  {
   "cell_type": "code",
   "execution_count": 13,
   "metadata": {},
   "outputs": [
    {
     "name": "stdout",
     "output_type": "stream",
     "text": [
      "Classification Accuracy (test set): 96.06%\n"
     ]
    }
   ],
   "source": [
    "print(f\"Classification Accuracy (test set): {round(test_accuracy*100, 2)}%\")"
   ]
  }
 ],
 "metadata": {
  "kernelspec": {
   "display_name": "python3",
   "language": "python",
   "name": "python3"
  },
  "language_info": {
   "codemirror_mode": {
    "name": "ipython",
    "version": 3
   },
   "file_extension": ".py",
   "mimetype": "text/x-python",
   "name": "python",
   "nbconvert_exporter": "python",
   "pygments_lexer": "ipython3",
   "version": "3.6.7"
  }
 },
 "nbformat": 4,
 "nbformat_minor": 2
}
