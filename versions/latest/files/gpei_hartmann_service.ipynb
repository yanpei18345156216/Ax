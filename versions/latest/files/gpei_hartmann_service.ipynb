{
 "cells": [
  {
   "cell_type": "markdown",
   "metadata": {},
   "source": [
    "#  Service API Example on Hartmann6\n",
    "\n",
    "The Ax Service API is designed to allow the user to control scheduling of trials and data computation while having an easy to use interface with Ax.\n",
    "\n",
    "The user iteratively:\n",
    "- Queries Ax for candidates\n",
    "- Schedules / deploys them however they choose\n",
    "- Computes data and logs to Ax\n",
    "- Repeat"
   ]
  },
  {
   "cell_type": "code",
   "execution_count": 1,
   "metadata": {},
   "outputs": [
    {
     "data": {
      "text/html": [
       "<script type='text/javascript'>/*\n",
       " * Copyright (c) Facebook, Inc. and its affiliates. All Rights Reserved.\n",
       " */\n",
       "\n",
       "requirejs.config({\n",
       "  paths: {\n",
       "    plotly: ['https://cdn.plot.ly/plotly-latest.min'],\n",
       "  },\n",
       "});\n",
       "if (!window.Plotly) {\n",
       "  require(['plotly'], function(plotly) {\n",
       "    window.Plotly = plotly;\n",
       "  });\n",
       "}\n",
       "/*\n",
       " * Copyright (c) Facebook, Inc. and its affiliates. All Rights Reserved.\n",
       " */\n",
       "\n",
       "// helper functions used across multiple plots\n",
       "function rgb(rgb_array) {\n",
       "  return 'rgb(' + rgb_array.join() + ')';\n",
       "}\n",
       "\n",
       "function copy_and_reverse(arr) {\n",
       "  const copy = arr.slice();\n",
       "  copy.reverse();\n",
       "  return copy;\n",
       "}\n",
       "\n",
       "function axis_range(grid, is_log) {\n",
       "  return is_log\n",
       "    ? [Math.log10(Math.min(...grid)), Math.log10(Math.max(...grid))]\n",
       "    : [Math.min(...grid), Math.max(...grid)];\n",
       "}\n",
       "\n",
       "function relativize_data(f, sd, rel, arm_data, metric) {\n",
       "  // if relative, extract status quo & compute ratio\n",
       "  const f_final = rel === true ? [] : f;\n",
       "  const sd_final = rel === true ? [] : sd;\n",
       "\n",
       "  if (rel === true) {\n",
       "    const f_sq =\n",
       "      arm_data['in_sample'][arm_data['status_quo_name']]['y'][metric];\n",
       "    const sd_sq =\n",
       "      arm_data['in_sample'][arm_data['status_quo_name']]['se'][metric];\n",
       "\n",
       "    for (let i = 0; i < f.length; i++) {\n",
       "      res = relativize(f[i], sd[i], f_sq, sd_sq);\n",
       "      f_final.push(100 * res[0]);\n",
       "      sd_final.push(100 * res[1]);\n",
       "    }\n",
       "  }\n",
       "\n",
       "  return [f_final, sd_final];\n",
       "}\n",
       "\n",
       "function relativize(m_t, sem_t, m_c, sem_c) {\n",
       "  r_hat =\n",
       "    (m_t - m_c) / Math.abs(m_c) -\n",
       "    (Math.pow(sem_c, 2) * m_t) / Math.pow(Math.abs(m_c), 3);\n",
       "  variance =\n",
       "    (Math.pow(sem_t, 2) + Math.pow((m_t / m_c) * sem_c, 2)) / Math.pow(m_c, 2);\n",
       "  return [r_hat, Math.sqrt(variance)];\n",
       "}\n",
       "\n",
       "function slice_config_to_trace(\n",
       "  arm_data,\n",
       "  arm_name_to_parameters,\n",
       "  f,\n",
       "  fit_data,\n",
       "  grid,\n",
       "  metric,\n",
       "  param,\n",
       "  rel,\n",
       "  setx,\n",
       "  sd,\n",
       "  is_log,\n",
       "  visible,\n",
       ") {\n",
       "  // format data\n",
       "  const res = relativize_data(f, sd, rel, arm_data, metric);\n",
       "  const f_final = res[0];\n",
       "  const sd_final = res[1];\n",
       "\n",
       "  // get data for standard deviation fill plot\n",
       "  const sd_upper = [];\n",
       "  const sd_lower = [];\n",
       "  for (let i = 0; i < sd.length; i++) {\n",
       "    sd_upper.push(f_final[i] + 2 * sd_final[i]);\n",
       "    sd_lower.push(f_final[i] - 2 * sd_final[i]);\n",
       "  }\n",
       "  const grid_rev = copy_and_reverse(grid);\n",
       "  const sd_lower_rev = copy_and_reverse(sd_lower);\n",
       "  const sd_x = grid.concat(grid_rev);\n",
       "  const sd_y = sd_upper.concat(sd_lower_rev);\n",
       "\n",
       "  // get data for observed arms and error bars\n",
       "  const arm_x = [];\n",
       "  const arm_y = [];\n",
       "  const arm_sem = [];\n",
       "  fit_data.forEach(row => {\n",
       "    parameters = arm_name_to_parameters[row['arm_name']];\n",
       "    plot = true;\n",
       "    Object.keys(setx).forEach(p => {\n",
       "      if (p !== param && parameters[p] !== setx[p]) {\n",
       "        plot = false;\n",
       "      }\n",
       "    });\n",
       "    if (plot === true) {\n",
       "      arm_x.push(parameters[param]);\n",
       "      arm_y.push(row['mean']);\n",
       "      arm_sem.push(row['sem']);\n",
       "    }\n",
       "  });\n",
       "\n",
       "  const arm_res = relativize_data(arm_y, arm_sem, rel, arm_data, metric);\n",
       "  const arm_y_final = arm_res[0];\n",
       "  const arm_sem_final = arm_res[1].map(x => x * 2);\n",
       "\n",
       "  // create traces\n",
       "  const f_trace = {\n",
       "    x: grid,\n",
       "    y: f_final,\n",
       "    showlegend: false,\n",
       "    hoverinfo: 'x+y',\n",
       "    line: {\n",
       "      color: 'rgba(128, 177, 211, 1)',\n",
       "    },\n",
       "    visible: visible,\n",
       "  };\n",
       "\n",
       "  const arms_trace = {\n",
       "    x: arm_x,\n",
       "    y: arm_y_final,\n",
       "    mode: 'markers',\n",
       "    error_y: {\n",
       "      type: 'data',\n",
       "      array: arm_sem_final,\n",
       "      visible: true,\n",
       "      color: 'black',\n",
       "    },\n",
       "    line: {\n",
       "      color: 'black',\n",
       "    },\n",
       "    showlegend: false,\n",
       "    hoverinfo: 'x+y',\n",
       "    visible: visible,\n",
       "  };\n",
       "\n",
       "  const sd_trace = {\n",
       "    x: sd_x,\n",
       "    y: sd_y,\n",
       "    fill: 'toself',\n",
       "    fillcolor: 'rgba(128, 177, 211, 0.2)',\n",
       "    line: {\n",
       "      color: 'transparent',\n",
       "    },\n",
       "    showlegend: false,\n",
       "    hoverinfo: 'none',\n",
       "    visible: visible,\n",
       "  };\n",
       "\n",
       "  traces = [sd_trace, f_trace, arms_trace];\n",
       "\n",
       "  // iterate over out-of-sample arms\n",
       "  let i = 1;\n",
       "  Object.keys(arm_data['out_of_sample']).forEach(generator_run_name => {\n",
       "    const ax = [];\n",
       "    const ay = [];\n",
       "    const asem = [];\n",
       "    const atext = [];\n",
       "\n",
       "    Object.keys(arm_data['out_of_sample'][generator_run_name]).forEach(\n",
       "      arm_name => {\n",
       "        const parameters =\n",
       "          arm_data['out_of_sample'][generator_run_name][arm_name]['parameters'];\n",
       "        plot = true;\n",
       "        Object.keys(setx).forEach(p => {\n",
       "          if (p !== param && parameters[p] !== setx[p]) {\n",
       "            plot = false;\n",
       "          }\n",
       "        });\n",
       "        if (plot === true) {\n",
       "          ax.push(parameters[param]);\n",
       "          ay.push(\n",
       "            arm_data['out_of_sample'][generator_run_name][arm_name]['y_hat'][\n",
       "              metric\n",
       "            ],\n",
       "          );\n",
       "          asem.push(\n",
       "            arm_data['out_of_sample'][generator_run_name][arm_name]['se_hat'][\n",
       "              metric\n",
       "            ],\n",
       "          );\n",
       "          atext.push('<em>Candidate ' + arm_name + '</em>');\n",
       "        }\n",
       "      },\n",
       "    );\n",
       "\n",
       "    const out_of_sample_arm_res = relativize_data(\n",
       "      ay,\n",
       "      asem,\n",
       "      rel,\n",
       "      arm_data,\n",
       "      metric,\n",
       "    );\n",
       "    const ay_final = out_of_sample_arm_res[0];\n",
       "    const asem_final = out_of_sample_arm_res[1].map(x => x * 2);\n",
       "\n",
       "    traces.push({\n",
       "      hoverinfo: 'text',\n",
       "      legendgroup: generator_run_name,\n",
       "      marker: {color: 'black', symbol: i, opacity: 0.5},\n",
       "      mode: 'markers',\n",
       "      error_y: {\n",
       "        type: 'data',\n",
       "        array: asem_final,\n",
       "        visible: true,\n",
       "        color: 'black',\n",
       "      },\n",
       "      name: generator_run_name,\n",
       "      text: atext,\n",
       "      type: 'scatter',\n",
       "      xaxis: 'x',\n",
       "      x: ax,\n",
       "      yaxis: 'y',\n",
       "      y: ay_final,\n",
       "      visible: visible,\n",
       "    });\n",
       "\n",
       "    i += 1;\n",
       "  });\n",
       "  return traces;\n",
       "}\n",
       "</script>"
      ]
     },
     "metadata": {},
     "output_type": "display_data"
    },
    {
     "name": "stderr",
     "output_type": "stream",
     "text": [
      "[INFO 08-18 04:05:40] ipy_plotting: Injecting Plotly library into cell. Do not overwrite or delete cell.\n"
     ]
    }
   ],
   "source": [
    "import numpy as np\n",
    "\n",
    "from ax.plot.contour import plot_contour\n",
    "from ax.plot.trace import optimization_trace_single_method\n",
    "from ax.service.ax_client import AxClient\n",
    "from ax.metrics.branin import branin\n",
    "from ax.utils.measurement.synthetic_functions import hartmann6\n",
    "from ax.utils.notebook.plotting import render, init_notebook_plotting\n",
    "\n",
    "init_notebook_plotting()"
   ]
  },
  {
   "cell_type": "markdown",
   "metadata": {},
   "source": [
    "## 1. Initialize client\n",
    "\n",
    "Create a client object to interface with Ax APIs. By default this runs locally without storage."
   ]
  },
  {
   "cell_type": "code",
   "execution_count": 2,
   "metadata": {
    "collapsed": true
   },
   "outputs": [],
   "source": [
    "ax = AxClient()"
   ]
  },
  {
   "cell_type": "markdown",
   "metadata": {},
   "source": [
    "## 2. Set up experiment\n",
    "An experiment consists of a **search space** (parameters and parameter constraints) and **optimization configuration** (objective name, minimization setting, and outcome constraints). Note that:\n",
    "- Only `name`, `parameters`, and `objective_name` arguments are required.\n",
    "- Dictionaries in `parameters` have the following required keys: \"name\" - parameter name, \"type\" - parameter type (\"range\", \"choice\" or \"fixed\"), \"bounds\" for range parameters, \"values\" for choice parameters, and \"value\" for fixed parameters.\n",
    "- Dictionaries in `parameters` can optionally include \"value_type\" (\"int\", \"float\", \"bool\" or \"str\"), \"log_scale\" flag for range parameters, and \"is_ordered\" flag for choice parameters.\n",
    "- `parameter_constraints` should be a list of strings of form \"p1 >= p2\" or \"p1 + p2 <= some_bound\".\n",
    "- `outcome_constraints` should be a list of strings of form \"constrained_metric <= some_bound\"."
   ]
  },
  {
   "cell_type": "code",
   "execution_count": 3,
   "metadata": {},
   "outputs": [
    {
     "name": "stderr",
     "output_type": "stream",
     "text": [
      "[INFO 08-18 04:05:40] ax.service.utils.dispatch: Using Bayesian Optimization generation strategy. Iterations after 6 will take longer to generate due to model-fitting.\n"
     ]
    }
   ],
   "source": [
    "ax.create_experiment(\n",
    "    name=\"hartmann_test_experiment\",\n",
    "    parameters=[\n",
    "        {\n",
    "            \"name\": \"x1\",\n",
    "            \"type\": \"range\",\n",
    "            \"bounds\": [0.0, 1.0],\n",
    "            \"value_type\": \"float\",  # Optional, defaults to inference from type of \"bounds\".\n",
    "            \"log_scale\": False,  # Optional, defaults to False.\n",
    "        },\n",
    "        {\n",
    "            \"name\": \"x2\",\n",
    "            \"type\": \"range\",\n",
    "            \"bounds\": [0.0, 1.0],\n",
    "        },\n",
    "        {\n",
    "            \"name\": \"x3\",\n",
    "            \"type\": \"range\",\n",
    "            \"bounds\": [0.0, 1.0],\n",
    "        },\n",
    "        {\n",
    "            \"name\": \"x4\",\n",
    "            \"type\": \"range\",\n",
    "            \"bounds\": [0.0, 1.0],\n",
    "        },\n",
    "        {\n",
    "            \"name\": \"x5\",\n",
    "            \"type\": \"range\",\n",
    "            \"bounds\": [0.0, 1.0],\n",
    "        },\n",
    "        {\n",
    "            \"name\": \"x6\",\n",
    "            \"type\": \"range\",\n",
    "            \"bounds\": [0.0, 1.0],\n",
    "        },\n",
    "    ],\n",
    "    objective_name=\"hartmann6\",\n",
    "    minimize=True,  # Optional, defaults to False.\n",
    "    parameter_constraints=[\"x1 + x2 <= 2.0\"],  # Optional.\n",
    "    outcome_constraints=[\"l2norm <= 1.25\"],  # Optional.\n",
    ")"
   ]
  },
  {
   "cell_type": "markdown",
   "metadata": {},
   "source": [
    "## 3. Define how to evaluate trials\n",
    "When using Ax a service, evaluation of parameterizations suggested by Ax is done either locally or, more commonly, using an external scheduler. Below is a dummy evaluation function that outputs data for two metrics \"hartmann6\" and \"l2norm\". Note that all returned metrics correspond to either the `objective_name` set on experiment creation or the metric names mentioned in `outcome_constraints`."
   ]
  },
  {
   "cell_type": "code",
   "execution_count": 4,
   "metadata": {
    "collapsed": true
   },
   "outputs": [],
   "source": [
    "def evaluate(parameters):\n",
    "    x = np.array([parameters.get(f\"x{i+1}\") for i in range(6)])\n",
    "    # In our case, standard error is 0, since we are computing a synthetic function.\n",
    "    return {\"hartmann6\": (hartmann6(x), 0.0), \"l2norm\": (np.sqrt((x ** 2).sum()), 0.0)}"
   ]
  },
  {
   "cell_type": "markdown",
   "metadata": {},
   "source": [
    "Result of the evaluation should generally be a mapping of the format: `{metric_name -> (mean, SEM)}`. If there is only one metric in the experiment – the objective – then evaluation function can return a single tuple of mean and SEM, in which case Ax will assume that evaluation corresponds to the objective. It can also return only the mean as a float, in which case Ax will assume that SEM is 0.0. For more details on evaluation function, refer to the \"Trial Evaluation\" section in the docs."
   ]
  },
  {
   "cell_type": "markdown",
   "metadata": {},
   "source": [
    "## 4. Run optimization loop\n",
    "With the experiment set up, we can start the optimization loop.\n",
    "\n",
    "At each step, the user queries the client for a new trial then submits the evaluation of that trial back to the client.\n",
    "\n",
    "Note that Ax auto-selects an appropriate optimization algorithm based on the search space. For more advance use cases that require a specific optimization algorithm, pass a `generation_strategy` argument into the `AxClient` constructor. Note that when Bayesian Optimization is used, generating new trials may take a few minutes."
   ]
  },
  {
   "cell_type": "code",
   "execution_count": 5,
   "metadata": {},
   "outputs": [
    {
     "name": "stdout",
     "output_type": "stream",
     "text": [
      "Running trial 1/30...\n",
      "Running trial 2/30...\n",
      "Running trial 3/30...\n",
      "Running trial 4/30...\n",
      "Running trial 5/30...\n",
      "Running trial 6/30...\n",
      "Running trial 7/30...\n"
     ]
    },
    {
     "name": "stdout",
     "output_type": "stream",
     "text": [
      "Running trial 8/30...\n"
     ]
    },
    {
     "name": "stdout",
     "output_type": "stream",
     "text": [
      "Running trial 9/30...\n"
     ]
    },
    {
     "name": "stdout",
     "output_type": "stream",
     "text": [
      "Running trial 10/30...\n"
     ]
    },
    {
     "name": "stdout",
     "output_type": "stream",
     "text": [
      "Running trial 11/30...\n"
     ]
    },
    {
     "name": "stdout",
     "output_type": "stream",
     "text": [
      "Running trial 12/30...\n"
     ]
    },
    {
     "name": "stdout",
     "output_type": "stream",
     "text": [
      "Running trial 13/30...\n"
     ]
    },
    {
     "name": "stdout",
     "output_type": "stream",
     "text": [
      "Running trial 14/30...\n"
     ]
    },
    {
     "name": "stdout",
     "output_type": "stream",
     "text": [
      "Running trial 15/30...\n"
     ]
    },
    {
     "name": "stdout",
     "output_type": "stream",
     "text": [
      "Running trial 16/30...\n"
     ]
    },
    {
     "name": "stdout",
     "output_type": "stream",
     "text": [
      "Running trial 17/30...\n"
     ]
    },
    {
     "name": "stdout",
     "output_type": "stream",
     "text": [
      "Running trial 18/30...\n"
     ]
    },
    {
     "name": "stdout",
     "output_type": "stream",
     "text": [
      "Running trial 19/30...\n"
     ]
    },
    {
     "name": "stdout",
     "output_type": "stream",
     "text": [
      "Running trial 20/30...\n"
     ]
    },
    {
     "name": "stdout",
     "output_type": "stream",
     "text": [
      "Running trial 21/30...\n"
     ]
    },
    {
     "name": "stdout",
     "output_type": "stream",
     "text": [
      "Running trial 22/30...\n"
     ]
    },
    {
     "name": "stdout",
     "output_type": "stream",
     "text": [
      "Running trial 23/30...\n"
     ]
    },
    {
     "name": "stdout",
     "output_type": "stream",
     "text": [
      "Running trial 24/30...\n"
     ]
    },
    {
     "name": "stdout",
     "output_type": "stream",
     "text": [
      "Running trial 25/30...\n"
     ]
    },
    {
     "name": "stdout",
     "output_type": "stream",
     "text": [
      "Running trial 26/30...\n"
     ]
    },
    {
     "name": "stdout",
     "output_type": "stream",
     "text": [
      "Running trial 27/30...\n"
     ]
    },
    {
     "name": "stderr",
     "output_type": "stream",
     "text": [
      "/home/travis/virtualenv/python3.6.7/lib/python3.6/site-packages/botorch/optim/optimize.py:331: BadInitialCandidatesWarning:\n",
      "\n",
      "Unable to find non-zero acquisition function values - initial conditions are being selected randomly.\n",
      "\n"
     ]
    },
    {
     "name": "stdout",
     "output_type": "stream",
     "text": [
      "Running trial 28/30...\n"
     ]
    },
    {
     "name": "stderr",
     "output_type": "stream",
     "text": [
      "/home/travis/virtualenv/python3.6.7/lib/python3.6/site-packages/botorch/optim/optimize.py:331: BadInitialCandidatesWarning:\n",
      "\n",
      "Unable to find non-zero acquisition function values - initial conditions are being selected randomly.\n",
      "\n"
     ]
    },
    {
     "name": "stdout",
     "output_type": "stream",
     "text": [
      "Running trial 29/30...\n"
     ]
    },
    {
     "name": "stdout",
     "output_type": "stream",
     "text": [
      "Running trial 30/30...\n"
     ]
    },
    {
     "name": "stderr",
     "output_type": "stream",
     "text": [
      "/home/travis/virtualenv/python3.6.7/lib/python3.6/site-packages/botorch/optim/optimize.py:331: BadInitialCandidatesWarning:\n",
      "\n",
      "Unable to find non-zero acquisition function values - initial conditions are being selected randomly.\n",
      "\n"
     ]
    }
   ],
   "source": [
    "for i in range(30):\n",
    "    print(f\"Running trial {i+1}/30...\")\n",
    "    parameters, trial_index = ax.get_next_trial()\n",
    "     # Local evaluation here can be replaced with deployment to external system.\n",
    "    ax.complete_trial(trial_index=trial_index, raw_data=evaluate(parameters))"
   ]
  },
  {
   "cell_type": "markdown",
   "metadata": {},
   "source": [
    "## 5. Retrieve best parameters\n",
    "\n",
    "Once it's complete, we can access the best parameters found, as well as the corresponding metric values."
   ]
  },
  {
   "cell_type": "code",
   "execution_count": 6,
   "metadata": {},
   "outputs": [
    {
     "data": {
      "text/plain": [
       "{'x1': 0.4041660150892923,\n",
       " 'x2': 0.8807758500703754,\n",
       " 'x3': 0.2957977368466096,\n",
       " 'x4': 0.5725423141713345,\n",
       " 'x5': 0.4403992779215918,\n",
       " 'x6': 0.03424019783509515}"
      ]
     },
     "execution_count": 6,
     "metadata": {},
     "output_type": "execute_result"
    }
   ],
   "source": [
    "best_parameters, values = ax.get_best_parameters()\n",
    "best_parameters"
   ]
  },
  {
   "cell_type": "code",
   "execution_count": 7,
   "metadata": {},
   "outputs": [
    {
     "data": {
      "text/plain": [
       "{'hartmann6': -3.1181721071819455, 'l2norm': 1.2448062928594619}"
      ]
     },
     "execution_count": 7,
     "metadata": {},
     "output_type": "execute_result"
    }
   ],
   "source": [
    "means, covariances = values\n",
    "means"
   ]
  },
  {
   "cell_type": "markdown",
   "metadata": {},
   "source": [
    "For comparison, Hartmann6 minimum:"
   ]
  },
  {
   "cell_type": "code",
   "execution_count": 8,
   "metadata": {},
   "outputs": [
    {
     "data": {
      "text/plain": [
       "-3.32237"
      ]
     },
     "execution_count": 8,
     "metadata": {},
     "output_type": "execute_result"
    }
   ],
   "source": [
    "hartmann6.fmin"
   ]
  },
  {
   "cell_type": "markdown",
   "metadata": {},
   "source": [
    "## 6. Plot the response surface and optimization trace\n",
    "Here we arbitrarily select \"x1\" and \"x2\" as the two parameters to plot for both metrics, \"hartmann6\" and \"l2norm\"."
   ]
  },
  {
   "cell_type": "code",
   "execution_count": 9,
   "metadata": {},
   "outputs": [
    {
     "data": {
      "text/html": [
       "<div id=\"31c43aa18bc74ce69e71cf51462c5117\" style=\"width: 100%;\" class=\"plotly-graph-div\"></div><script type='text/javascript'>/*\n",
       " * Copyright (c) Facebook, Inc. and its affiliates. All Rights Reserved.\n",
       " */\n",
       "\n",
       "require(['plotly'], function(Plotly) {\n",
       "  window.PLOTLYENV = window.PLOTLYENV || {};\n",
       "  window.PLOTLYENV.BASE_URL = 'https://plot.ly';\n",
       "  /*\n",
       " * Copyright (c) Facebook, Inc. and its affiliates. All Rights Reserved.\n",
       " */\n",
       "\n",
       "const arm_data = {\"metrics\": [\"hartmann6\"], \"in_sample\": {\"0_0\": {\"name\": \"0_0\", \"parameters\": {\"x1\": 0.923868715763092, \"x2\": 0.6087276935577393, \"x3\": 0.47186702489852905, \"x4\": 0.9233770966529846, \"x5\": 0.08488843590021133, \"x6\": 0.3213179409503937}, \"y\": {\"hartmann6\": -0.0028696862433942654}, \"y_hat\": {\"hartmann6\": -0.0028697970264088823}, \"se\": {\"hartmann6\": 0.0}, \"se_hat\": {\"hartmann6\": 0.0003608482554442798}, \"context_stratum\": null}, \"1_0\": {\"name\": \"1_0\", \"parameters\": {\"x1\": 0.704513669013977, \"x2\": 0.08967265486717224, \"x3\": 0.13053670525550842, \"x4\": 0.04012013226747513, \"x5\": 0.25720998644828796, \"x6\": 0.8679232597351074}, \"y\": {\"hartmann6\": -0.5272053480372609}, \"y_hat\": {\"hartmann6\": -0.5272053455568766}, \"se\": {\"hartmann6\": 0.0}, \"se_hat\": {\"hartmann6\": 0.0003608482579481682}, \"context_stratum\": null}, \"2_0\": {\"name\": \"2_0\", \"parameters\": {\"x1\": 0.4656100571155548, \"x2\": 0.9223585724830627, \"x3\": 0.8283946514129639, \"x4\": 0.6762555837631226, \"x5\": 0.5932925343513489, \"x6\": 0.00798831693828106}, \"y\": {\"hartmann6\": -2.5795080121107814}, \"y_hat\": {\"hartmann6\": -2.5795078326498966}, \"se\": {\"hartmann6\": 0.0}, \"se_hat\": {\"hartmann6\": 0.0003608479289370781}, \"context_stratum\": null}, \"3_0\": {\"name\": \"3_0\", \"parameters\": {\"x1\": 0.309395432472229, \"x2\": 0.21236896514892578, \"x3\": 0.31839409470558167, \"x4\": 0.40759462118148804, \"x5\": 0.4340348541736603, \"x6\": 0.21364319324493408}, \"y\": {\"hartmann6\": -0.4465104634882672}, \"y_hat\": {\"hartmann6\": -0.4465105020425735}, \"se\": {\"hartmann6\": 0.0}, \"se_hat\": {\"hartmann6\": 0.00036084824803276987}, \"context_stratum\": null}, \"4_0\": {\"name\": \"4_0\", \"parameters\": {\"x1\": 0.5483047366142273, \"x2\": 0.7996621131896973, \"x3\": 0.6444273591041565, \"x4\": 0.80862957239151, \"x5\": 0.7232427000999451, \"x6\": 0.9161815643310547}, \"y\": {\"hartmann6\": -0.008988396303363493}, \"y_hat\": {\"hartmann6\": -0.008988525467396258}, \"se\": {\"hartmann6\": 0.0}, \"se_hat\": {\"hartmann6\": 0.000360848258649257}, \"context_stratum\": null}, \"5_0\": {\"name\": \"5_0\", \"parameters\": {\"x1\": 0.8301407098770142, \"x2\": 0.25622493028640747, \"x3\": 0.9897412061691284, \"x4\": 0.16072800755500793, \"x5\": 0.9268466830253601, \"x6\": 0.40227049589157104}, \"y\": {\"hartmann6\": -0.0007340540092813384}, \"y_hat\": {\"hartmann6\": -0.0007341690068254358}, \"se\": {\"hartmann6\": 0.0}, \"se_hat\": {\"hartmann6\": 0.000360848257347235}, \"context_stratum\": null}, \"6_0\": {\"name\": \"6_0\", \"parameters\": {\"x1\": 0.35118332362688637, \"x2\": 0.6462852110219937, \"x3\": 0.6118687611509688, \"x4\": 0.5450895129298893, \"x5\": 0.5469260008576622, \"x6\": 0.003005948524755805}, \"y\": {\"hartmann6\": -1.8685834772990169}, \"y_hat\": {\"hartmann6\": -1.868584093086773}, \"se\": {\"hartmann6\": 0.0}, \"se_hat\": {\"hartmann6\": 0.0003608477328323039}, \"context_stratum\": null}, \"7_0\": {\"name\": \"7_0\", \"parameters\": {\"x1\": 0.3806998987439356, \"x2\": 0.8604795003023674, \"x3\": 0.5587953869724076, \"x4\": 0.6327457562070192, \"x5\": 0.5733226450798362, \"x6\": 5.378840520576602e-17}, \"y\": {\"hartmann6\": -2.913718037058145}, \"y_hat\": {\"hartmann6\": -2.9137182854517056}, \"se\": {\"hartmann6\": 0.0}, \"se_hat\": {\"hartmann6\": 0.0003608445103088115}, \"context_stratum\": null}, \"8_0\": {\"name\": \"8_0\", \"parameters\": {\"x1\": 0.3396020713839208, \"x2\": 0.8088460023216325, \"x3\": 0.4465688866635945, \"x4\": 0.5765784462606276, \"x5\": 0.5363170885317486, \"x6\": 0.0040671827046900215}, \"y\": {\"hartmann6\": -2.734559706184086}, \"y_hat\": {\"hartmann6\": -2.7345567445027172}, \"se\": {\"hartmann6\": 0.0}, \"se_hat\": {\"hartmann6\": 0.00036080388862091674}, \"context_stratum\": null}, \"9_0\": {\"name\": \"9_0\", \"parameters\": {\"x1\": 0.32874085414891113, \"x2\": 0.7894270856848314, \"x3\": 0.42818977188551355, \"x4\": 0.5590087536822596, \"x5\": 0.5285179372996879, \"x6\": 0.006893429145808056}, \"y\": {\"hartmann6\": -2.598087820378063}, \"y_hat\": {\"hartmann6\": -2.5980889799879416}, \"se\": {\"hartmann6\": 0.0}, \"se_hat\": {\"hartmann6\": 0.0003608154386911012}, \"context_stratum\": null}, \"10_0\": {\"name\": \"10_0\", \"parameters\": {\"x1\": 0.2989420035947784, \"x2\": 0.8678064051336256, \"x3\": 0.33991068887836484, \"x4\": 0.6172805729451802, \"x5\": 0.508928510896209, \"x6\": 1.168307349624453e-18}, \"y\": {\"hartmann6\": -2.4684999746281995}, \"y_hat\": {\"hartmann6\": -2.468501182512851}, \"se\": {\"hartmann6\": 0.0}, \"se_hat\": {\"hartmann6\": 0.00036084700550100034}, \"context_stratum\": null}, \"11_0\": {\"name\": \"11_0\", \"parameters\": {\"x1\": 0.3892863021111769, \"x2\": 0.8401075137267051, \"x3\": 0.4077261153582682, \"x4\": 0.4965269375824708, \"x5\": 0.549352505276014, \"x6\": 0.005894203633847605}, \"y\": {\"hartmann6\": -2.8333037694023218}, \"y_hat\": {\"hartmann6\": -2.8333045769789784}, \"se\": {\"hartmann6\": 0.0}, \"se_hat\": {\"hartmann6\": 0.000360639793389284}, \"context_stratum\": null}, \"12_0\": {\"name\": \"12_0\", \"parameters\": {\"x1\": 0.38451385811601574, \"x2\": 0.8331214231956282, \"x3\": 0.4033072360058114, \"x4\": 0.4939721992684087, \"x5\": 0.5462407648402645, \"x6\": 0.0068679980513365905}, \"y\": {\"hartmann6\": -2.802368221745785}, \"y_hat\": {\"hartmann6\": -2.8023668411955027}, \"se\": {\"hartmann6\": 0.0}, \"se_hat\": {\"hartmann6\": 0.00036064095536214835}, \"context_stratum\": null}, \"13_0\": {\"name\": \"13_0\", \"parameters\": {\"x1\": 0.3418914014745168, \"x2\": 0.8771880445090718, \"x3\": 0.5288049725647085, \"x4\": 0.4270760750072347, \"x5\": 0.5272584745074357, \"x6\": 1.55462508347178e-17}, \"y\": {\"hartmann6\": -2.31410866337203}, \"y_hat\": {\"hartmann6\": -2.3141090252622325}, \"se\": {\"hartmann6\": 0.0}, \"se_hat\": {\"hartmann6\": 0.0003608472443727069}, \"context_stratum\": null}, \"14_0\": {\"name\": \"14_0\", \"parameters\": {\"x1\": 0.4193728662040003, \"x2\": 0.807699695284126, \"x3\": 0.3268549794839191, \"x4\": 0.5424790253452032, \"x5\": 0.5538267308517633, \"x6\": 0.010949449442667573}, \"y\": {\"hartmann6\": -2.8887828852246478}, \"y_hat\": {\"hartmann6\": -2.888786749387108}, \"se\": {\"hartmann6\": 0.0}, \"se_hat\": {\"hartmann6\": 0.0003608182332739396}, \"context_stratum\": null}, \"15_0\": {\"name\": \"15_0\", \"parameters\": {\"x1\": 0.38658086035605527, \"x2\": 0.8179174831844783, \"x3\": 0.3091243193974136, \"x4\": 0.5389410272915717, \"x5\": 0.6176253933449838, \"x6\": 7.637410786806203e-19}, \"y\": {\"hartmann6\": -2.8584682451503456}, \"y_hat\": {\"hartmann6\": -2.858467142403081}, \"se\": {\"hartmann6\": 0.0}, \"se_hat\": {\"hartmann6\": 0.0003608400718427816}, \"context_stratum\": null}, \"16_0\": {\"name\": \"16_0\", \"parameters\": {\"x1\": 0.4096309815687237, \"x2\": 0.8232295121867718, \"x3\": 0.34789283953469563, \"x4\": 0.5447977884207534, \"x5\": 0.5597354140366315, \"x6\": 0.06509626652322488}, \"y\": {\"hartmann6\": -2.956118332990079}, \"y_hat\": {\"hartmann6\": -2.9561205618965047}, \"se\": {\"hartmann6\": 0.0}, \"se_hat\": {\"hartmann6\": 0.000360796303130113}, \"context_stratum\": null}, \"17_0\": {\"name\": \"17_0\", \"parameters\": {\"x1\": 0.4114225338305119, \"x2\": 0.8161645097995902, \"x3\": 0.3398654566373818, \"x4\": 0.5419263722622227, \"x5\": 0.5556976241394007, \"x6\": 0.042477905128196304}, \"y\": {\"hartmann6\": -2.9567658614924577}, \"y_hat\": {\"hartmann6\": -2.956757616368185}, \"se\": {\"hartmann6\": 0.0}, \"se_hat\": {\"hartmann6\": 0.0003604951538977207}, \"context_stratum\": null}, \"18_0\": {\"name\": \"18_0\", \"parameters\": {\"x1\": 0.4021186826372868, \"x2\": 0.8367927814818054, \"x3\": 0.3052754362698838, \"x4\": 0.5513030682341943, \"x5\": 0.5393204872702997, \"x6\": 0.03907921536583975}, \"y\": {\"hartmann6\": -3.028357940299607}, \"y_hat\": {\"hartmann6\": -3.0283645437261546}, \"se\": {\"hartmann6\": 0.0}, \"se_hat\": {\"hartmann6\": 0.0003597052409010883}, \"context_stratum\": null}, \"19_0\": {\"name\": \"19_0\", \"parameters\": {\"x1\": 0.3982230598977563, \"x2\": 0.8520473355363198, \"x3\": 0.28025745586663836, \"x4\": 0.561616775991522, \"x5\": 0.5197377848710301, \"x6\": 0.038904841662871996}, \"y\": {\"hartmann6\": -3.0665662406486707}, \"y_hat\": {\"hartmann6\": -3.0665653294375996}, \"se\": {\"hartmann6\": 0.0}, \"se_hat\": {\"hartmann6\": 0.0003600123719127951}, \"context_stratum\": null}, \"20_0\": {\"name\": \"20_0\", \"parameters\": {\"x1\": 0.4033557988406665, \"x2\": 0.8652410378113702, \"x3\": 0.26694112529581354, \"x4\": 0.5793763779222301, \"x5\": 0.4737496024211658, \"x6\": 0.04084711539204139}, \"y\": {\"hartmann6\": -3.0971861973360197}, \"y_hat\": {\"hartmann6\": -3.097182994122949}, \"se\": {\"hartmann6\": 0.0}, \"se_hat\": {\"hartmann6\": 0.00036069015864618494}, \"context_stratum\": null}, \"21_0\": {\"name\": \"21_0\", \"parameters\": {\"x1\": 0.42363190430490305, \"x2\": 0.9081437440301832, \"x3\": 0.2533600689620139, \"x4\": 0.5518900317562571, \"x5\": 0.4216657704193597, \"x6\": 0.04527687926620088}, \"y\": {\"hartmann6\": -3.0630464483284983}, \"y_hat\": {\"hartmann6\": -3.0630460789948266}, \"se\": {\"hartmann6\": 0.0}, \"se_hat\": {\"hartmann6\": 0.0003608424174308984}, \"context_stratum\": null}, \"22_0\": {\"name\": \"22_0\", \"parameters\": {\"x1\": 0.4524465404131344, \"x2\": 0.8100762039779912, \"x3\": 0.16639191613865947, \"x4\": 0.7189830850606856, \"x5\": 0.340899359273556, \"x6\": 0.15918080102660423}, \"y\": {\"hartmann6\": -1.9016158415482634}, \"y_hat\": {\"hartmann6\": -1.9016161986425306}, \"se\": {\"hartmann6\": 0.0}, \"se_hat\": {\"hartmann6\": 0.0003608480870827811}, \"context_stratum\": null}, \"23_0\": {\"name\": \"23_0\", \"parameters\": {\"x1\": 0.48204144010218875, \"x2\": 0.913365533381742, \"x3\": 0.12827584194052383, \"x4\": 0.21508365514354066, \"x5\": 0.3404929681317265, \"x6\": 0.19159269446949115}, \"y\": {\"hartmann6\": -0.5944513316555947}, \"y_hat\": {\"hartmann6\": -0.5944516133976234}, \"se\": {\"hartmann6\": 0.0}, \"se_hat\": {\"hartmann6\": 0.0003608482312066387}, \"context_stratum\": null}, \"24_0\": {\"name\": \"24_0\", \"parameters\": {\"x1\": 0.41082151958109553, \"x2\": 0.9966736802741811, \"x3\": 0.5400924217151947, \"x4\": 0.6025058102124898, \"x5\": 0.2868897156938605, \"x6\": 0.03738657900506783}, \"y\": {\"hartmann6\": -2.8393276135790475}, \"y_hat\": {\"hartmann6\": -2.8393276633125346}, \"se\": {\"hartmann6\": 0.0}, \"se_hat\": {\"hartmann6\": 0.0003608476569142882}, \"context_stratum\": null}, \"25_0\": {\"name\": \"25_0\", \"parameters\": {\"x1\": 0.4041660150892923, \"x2\": 0.8807758500703754, \"x3\": 0.2957977368466096, \"x4\": 0.5725423141713345, \"x5\": 0.4403992779215918, \"x6\": 0.03424019783509515}, \"y\": {\"hartmann6\": -3.1181717642354485}, \"y_hat\": {\"hartmann6\": -3.1181721071819455}, \"se\": {\"hartmann6\": 0.0}, \"se_hat\": {\"hartmann6\": 0.0003607844582386169}, \"context_stratum\": null}, \"26_0\": {\"name\": \"26_0\", \"parameters\": {\"x1\": 0.13242605607956648, \"x2\": 0.04645410738885403, \"x3\": 0.6704032002016902, \"x4\": 0.16983964759856462, \"x5\": 0.4640437560155988, \"x6\": 0.7643489642068744}, \"y\": {\"hartmann6\": -1.7046462934543116}, \"y_hat\": {\"hartmann6\": -1.7046459397291434}, \"se\": {\"hartmann6\": 0.0}, \"se_hat\": {\"hartmann6\": 0.00036084824853354757}, \"context_stratum\": null}, \"27_0\": {\"name\": \"27_0\", \"parameters\": {\"x1\": 0.7348750177770853, \"x2\": 0.14091241173446178, \"x3\": 0.26555151399224997, \"x4\": 0.7362495195120573, \"x5\": 0.485571819357574, \"x6\": 0.17052480205893517}, \"y\": {\"hartmann6\": -0.019023791266935604}, \"y_hat\": {\"hartmann6\": -0.019023889657538984}, \"se\": {\"hartmann6\": 0.0}, \"se_hat\": {\"hartmann6\": 0.00036084825354132453}, \"context_stratum\": null}, \"28_0\": {\"name\": \"28_0\", \"parameters\": {\"x1\": 0.005300612224008431, \"x2\": 0.3972682985414103, \"x3\": 0.13609644768170118, \"x4\": 0.008760172758444628, \"x5\": 0.3296457037054352, \"x6\": 0.830191939121679}, \"y\": {\"hartmann6\": -0.7045177518938384}, \"y_hat\": {\"hartmann6\": -0.7045178403797474}, \"se\": {\"hartmann6\": 0.0}, \"se_hat\": {\"hartmann6\": 0.00036084824993572515}, \"context_stratum\": null}}, \"out_of_sample\": {}, \"status_quo_name\": null};\n",
       "const density = 50;\n",
       "const grid_x = [0.0, 0.02040816326530612, 0.04081632653061224, 0.061224489795918366, 0.08163265306122448, 0.1020408163265306, 0.12244897959183673, 0.14285714285714285, 0.16326530612244897, 0.18367346938775508, 0.2040816326530612, 0.22448979591836732, 0.24489795918367346, 0.26530612244897955, 0.2857142857142857, 0.3061224489795918, 0.32653061224489793, 0.3469387755102041, 0.36734693877551017, 0.3877551020408163, 0.4081632653061224, 0.42857142857142855, 0.44897959183673464, 0.4693877551020408, 0.4897959183673469, 0.5102040816326531, 0.5306122448979591, 0.5510204081632653, 0.5714285714285714, 0.5918367346938775, 0.6122448979591836, 0.6326530612244897, 0.6530612244897959, 0.673469387755102, 0.6938775510204082, 0.7142857142857142, 0.7346938775510203, 0.7551020408163265, 0.7755102040816326, 0.7959183673469387, 0.8163265306122448, 0.836734693877551, 0.8571428571428571, 0.8775510204081632, 0.8979591836734693, 0.9183673469387754, 0.9387755102040816, 0.9591836734693877, 0.9795918367346939, 1.0];\n",
       "const grid_y = [0.0, 0.02040816326530612, 0.04081632653061224, 0.061224489795918366, 0.08163265306122448, 0.1020408163265306, 0.12244897959183673, 0.14285714285714285, 0.16326530612244897, 0.18367346938775508, 0.2040816326530612, 0.22448979591836732, 0.24489795918367346, 0.26530612244897955, 0.2857142857142857, 0.3061224489795918, 0.32653061224489793, 0.3469387755102041, 0.36734693877551017, 0.3877551020408163, 0.4081632653061224, 0.42857142857142855, 0.44897959183673464, 0.4693877551020408, 0.4897959183673469, 0.5102040816326531, 0.5306122448979591, 0.5510204081632653, 0.5714285714285714, 0.5918367346938775, 0.6122448979591836, 0.6326530612244897, 0.6530612244897959, 0.673469387755102, 0.6938775510204082, 0.7142857142857142, 0.7346938775510203, 0.7551020408163265, 0.7755102040816326, 0.7959183673469387, 0.8163265306122448, 0.836734693877551, 0.8571428571428571, 0.8775510204081632, 0.8979591836734693, 0.9183673469387754, 0.9387755102040816, 0.9591836734693877, 0.9795918367346939, 1.0];\n",
       "const f = [-0.5218358492832345, -0.5170097229445791, -0.5114496708538279, -0.5051436470521398, -0.49809285732485087, -0.4903131205325624, -0.4818357143434433, -0.47270748901182036, -0.4629900026452294, -0.4527574158798773, -0.44209290247850896, -0.43108341636193703, -0.4198128470625313, -0.4083539335772075, -0.39675978898896447, -0.3850564109892436, -0.37323787432160604, -0.3612657240476578, -0.3490733000205506, -0.33657458894592396, -0.3236762401064761, -0.31029097585503695, -0.29635077989749914, -0.28181869124568926, -0.26669849505951615, -0.25104193635035643, -0.2349532612212215, -0.21859094626115017, -0.20216646027259788, -0.18593986457522793, -0.17021204950496371, -0.15531347932158046, -0.1415895304683088, -0.1293829002069793, -0.11901412971324477, -0.11076193487178299, -0.10484556270626233, -0.10141151394948777, -0.10052648310188284, -0.10217729918266949, -0.1062773355050799, -0.11267776770354287, -0.12118153514461083, -0.13155794443958535, -0.1435563440492087, -0.15691792382000602, -0.1713852490110157, -0.1867095327978019, -0.20265587852326594, -0.2190068198816928, -0.5207456201215177, -0.5159033200876819, -0.5103324864110959, -0.5040213638529805, -0.496971453700533, -0.4891989342385932, -0.48073558560569807, -0.47162899661885893, -0.4619417921439706, -0.4517495910113434, -0.44113740591478123, -0.4301942626854065, -0.4190059986941368, -0.4076465576355093, -0.3961686537901645, -0.38459533617572483, -0.3729144479001847, -0.36107783563851537, -0.34900621696589185, -0.3365991943583795, -0.3237487281825626, -0.3103539534151494, -0.29633550089940863, -0.2816480777980519, -0.2662906234549218, -0.25031373099953047, -0.23382420599295828, -0.2169866752053895, -0.20002212261649843, -0.1832031708319164, -0.16684589678521178, -0.15129802756530175, -0.13692356635730696, -0.12408430032272588, -0.11311924680998042, -0.10432380994069823, -0.0979310218544216, -0.0940974138037931, -0.09289554864766814, -0.09431407104229805, -0.09826467226882585, -0.10459416898616003, -0.11309934481968553, -0.12354233474695353, -0.13566490079246796, -0.14920064133097566, -0.1638847734998119, -0.17946153775561213, -0.19568949893801046, -0.2123451054477794, -0.5197715824034577, -0.5149487873396119, -0.5094078385005067, -0.5031373755169084, -0.496139178293189, -0.4884296265168373, -0.48004068847396164, -0.47102021399557303, -0.4614312590468135, -0.4513501277009595, -0.44086279981202403, -0.4300594558978006, -0.4190269752005842, -0.40783964903871683, -0.39654897722578664, -0.3851742260027704, -0.3736960784711032, -0.3620556383242337, -0.35015991640869126, -0.3378931528728579, -0.3251318887218222, -0.3117612689429672, -0.29769050613735826, -0.28286620564637, -0.267282916909209, -0.25099068195349683, -0.23409952811344747, -0.21678087645045796, -0.199265781388966, -0.18183983788370273, -0.16483454276766452, -0.14861493543283655, -0.13356353595002335, -0.12006100578552603, -0.10846459252471741, -0.09908619688449094, -0.09217257768353138, -0.0878904313469735, -0.08631854883752044, -0.08744797550506034, -0.09118950021478045, -0.09738649899514829, -0.1058305865412672, -0.11627770960738348, -0.12846296148591074, -0.14211315509583278, -0.15695682604497674, -0.17273175808281538, -0.18919034488559672, -0.2061031792494432, -0.5189411676806852, -0.5141781206614231, -0.5087129281210023, -0.5025347691169737, -0.4956457115818147, -0.48806218469866436, -0.47981600951959735, -0.4709547634347042, -0.46154119934080184, -0.4516513859123563, -0.44137119837803307, -0.4307908060262966, -0.41999694052503656, -0.40906309029124643, -0.3980384515806057, -0.3869374445002196, -0.3757324908239801, -0.36435279675651056, -0.3526905444660291, -0.3406136750340114, -0.3279826930057641, -0.3146685169083625, -0.3005690729526833, -0.28562330599574115, -0.2698220453086957, -0.253215590136433, -0.235918044401509, -0.2181084350120004, -0.20002857331400103, -0.18197752139697898, -0.1643024559882036, -0.14738574241251268, -0.13162821064565633, -0.11742903311257402, -0.10516326473888449, -0.09515893560460076, -0.087676332504256, -0.08289237495046775, -0.0808924421876851, -0.08167063812330855, -0.0851377540240228, -0.09113479433265348, -0.09944934269356698, -0.10983227456513411, -0.12201303881264813, -0.13571254631329976, -0.15065336819852382, -0.16656737553117185, -0.1832011687855084, -0.20031971279195093, -0.5182827017410006, -0.5136243463292953, -0.5082861593124817, -0.5022580523378855, -0.4955424258287344, -0.4881556215906928, -0.4801289654619598, -0.47150918004460274, -0.46235788647946197, -0.45274984821360054, -0.44276955355117953, -0.4325057222394555, -0.4220434252759122, -0.4114538483349437, -0.40078245769676046, -0.39003747622944895, -0.37918175024856526, -0.3681313098854573, -0.3567623594335947, -0.34492567145199393, -0.3324652402593238, -0.3192377135977025, -0.30513008060935687, -0.29007429516833505, -0.27405836667448336, -0.2571338862676853, -0.23942010342679843, -0.22110465408021307, -0.20244095004548646, -0.183742125639917, -0.16537135049798612, -0.14772831866582803, -0.13123188833996013, -0.11629925021049714, -0.10332267974209275, -0.09264580048874049, -0.0845420891100448, -0.07919866480599325, -0.07670784634340455, -0.07706751302283998, -0.08018947053593939, -0.08591355016968039, -0.09402457039869971, -0.10426956296339784, -0.11637344232970026, -0.13005216048430857, -0.1450230777165471, -0.16101271433735476, -0.17776225952957492, -0.19503127195059888, -0.5178251102594058, -0.5133211803696367, -0.5081667475412652, -0.5023527060489925, -0.4958818773009599, -0.4887704032550342, -0.4810487632337388, -0.47276220224684606, -0.4639702928277838, -0.4547452763600057, -0.4451687559987241, -0.43532627337492213, -0.42529936654704836, -0.41515501401872656, -0.4049331192887078, -0.39463400186766484, -0.38420935881607754, -0.3735606259021389, -0.3625468657987576, -0.3510009076864644, -0.33874993245307716, -0.3256364849130633, -0.3115371978246988, -0.2963779440448331, -0.2801450586069003, -0.2628927044176368, -0.2447465826698778, -0.22590415939276487, -0.2066314758954777, -0.18725648373316117, -0.16815874172116807, -0.14975529496627993, -0.13248270326628253, -0.11677558127240406, -0.10304269787364495, -0.09164258250350721, -0.08286143223192366, -0.07689645901642161, -0.07384725078391274, -0.07371621606562706, -0.07641726530274617, -0.08179035182518879, -0.0896188899152004, -0.0996473755357643, -0.11159735876508581, -0.1251808152715923, -0.14011066983889697, -0.15610866189704042, -0.17291094931767592, -0.19027189788530285, -0.5175975911758486, -0.5133026483843575, -0.5083942810189808, -0.5028646810412178, -0.4967172323071083, -0.48996779829577974, -0.48264566674068177, -0.4747939509322703, -0.46646917766787, -0.45773970756220117, -0.4486825440729503, -0.4393780211905829, -0.42990188513072525, -0.4203145486830533, -0.4106480442592024, -0.40089265394504103, -0.39098703904890275, -0.38081646507987466, -0.37022168717459736, -0.35901693470329077, -0.34701246159026833, -0.33403710006823406, -0.31995794473211703, -0.3046959460877092, -0.2882371695132835, -0.2706398952302693, -0.25203784528886763, -0.23263978411646224, -0.21272562830606412, -0.19263906405876519, -0.17277655245701284, -0.1535725663911507, -0.13548103170168702, -0.11895332708248563, -0.10441388071940971, -0.0922353151189399, -0.08271596204503484, -0.07606293585632362, -0.07238338572053205, -0.0716850102579536, -0.0738849538452846, -0.07882464058787564, -0.08628749481108455, -0.09601682825613289, -0.10773202687001016, -0.12114208969117723, -0.13595628760792144, -0.15189214737082835, -0.16868116860695337, -0.18607272753752935, -0.5176292567082026, -0.5136026690640902, -0.5090082387455472, -0.5038398433746667, -0.49810163239204397, -0.4918091552096244, -0.48499017846228987, -0.477685007345809, -0.4699460538579734, -0.46183630408833487, -0.45342623448998953, -0.44478863757577103, -0.435990805441403, -0.42708373467452887, -0.41808874158283005, -0.40898343687110517, -0.39969119043352164, -0.390079342008117, -0.3799691771444149, -0.3691557996043664, -0.35743261673895077, -0.344615358380576, -0.3305626351570803, -0.31519188856676816, -0.29849059395858446, -0.28052298439040046, -0.2614326650984089, -0.24144144777304732, -0.22084462145060302, -0.2000027319267037, -0.17932980852927005, -0.15927792099623583, -0.14031805716023804, -0.12291767639066298, -0.10751596589107759, -0.09449873737768377, -0.0841757761471833, -0.07676382713237162, -0.07237783644939344, -0.07103152391416323, -0.0726463876749548, -0.07706667299645664, -0.08407723282721324, -0.09342154816873416, -0.10481803868684647, -0.11797371997283412, -0.1325949812580236, -0.14839569399644703, -0.16510306156211185, -0.1824616634168692, -0.5179487485544738, -0.5142546054191262, -0.5100474699087947, -0.5053233737847793, -0.5000875052914329, -0.4943551160660038, -0.48815214653046923, -0.4815154035965423, -0.4744920512438866, -0.46713807918604666, -0.4595153024759786, -0.45168633660821556, -0.4437069488141874, -0.43561535622528935, -0.4274187339666049, -0.4190788273179924, -0.4105010354520813, -0.4015328078010665, -0.3919747917645726, -0.38160255997419323, -0.37019293021891064, -0.3575493428635421, -0.34352320730484043, -0.32803013082989607, -0.3110609736924752, -0.2926880777574081, -0.2730671231833226, -0.2524350366515018, -0.23110426631259795, -0.20945358749407172, -0.18791545427524592, -0.16695983409376214, -0.14707454679261645, -0.12874247095821612, -0.11241663144915148, -0.09849507288842996, -0.08729828170344645, -0.07905228304318013, -0.07387997847660932, -0.07180176909784208, -0.07274456341512381, -0.07655672250947476, -0.08302589756951062, -0.09189704959900058, -0.10288879309841836, -0.11570712258558458, -0.13005629283876052, -0.1456470578117266, -0.16220267196989346, -0.17946310047619596, -0.518583830414008, -0.515290788377823, -0.5115496399311541, -0.5073591272970939, -0.5027258290363246, -0.4976647757702568, -0.4921998093639546, -0.48636354207954424, -0.48019669914448926, -0.47374652979858767, -0.4670638519288608, -0.46019817286899745, -0.4531902609730736, -0.44606167685417386, -0.4388014331747039, -0.43135162033164076, -0.4235965190389466, -0.4153614734861355, -0.40642527817676943, -0.3965436451741866, -0.38547719312282713, -0.373018058334162, -0.3590119505132814, -0.3433745902624086, -0.3261025210164359, -0.3072787085595823, -0.2870734725759798, -0.265741285089546, -0.24361387117045918, -0.22108988973675991, -0.1986213046317986, -0.1766964526570418, -0.15581987168680378, -0.13648926493401148, -0.11917059755798998, -0.10427317730154062, -0.09212739257948788, -0.08296812264287556, -0.07692628413853164, -0.07402950580106382, -0.07421104428226033, -0.0773245565067413, -0.0831617580916888, -0.0914703126495271, -0.10197011921351695, -0.1143670584060168, -0.12836395715266335, -0.1436689615456077, -0.16000170652046442, -0.177097715503161, -0.519560962466209, -0.5167420179122981, -0.5135506489256472, -0.5099889595868821, -0.5060653568539903, -0.5017947962775238, -0.497198789987396, -0.49230506035575905, -0.48714665134536395, -0.4817602097962741, -0.4761830237691538, -0.4704482727879289, -0.4645778614712548, -0.45857232064797393, -0.45239789870319713, -0.4459726460993161, -0.43915608101649894, -0.4317489193833157, -0.4235067620794164, -0.41416512250004134, -0.40346887509146523, -0.39119997042793697, -0.3772001310692279, -0.36138743023625763, -0.343766753961394, -0.32443461428358655, -0.30357895901441845, -0.28147464759500473, -0.25847517546688104, -0.2350010631162811, -0.21152513448150256, -0.18855477465767212, -0.16661127993115543, -0.14620669116400653, -0.12781908113964047, -0.1118680723462222, -0.09869313079384101, -0.08853748937147521, -0.08154001932717381, -0.07773596890914147, -0.07706570902484233, -0.07938920166118768, -0.08450333742768534, -0.09215957324349344, -0.10208007727530388, -0.11397144436312301, -0.12753572419379156, -0.14247892789754446, -0.1585173788693892, -0.1753823217727788, -0.5209048629025439, -0.5186370472771913, -0.5160840286448751, -0.5132520267299554, -0.5101518102684235, -0.50679848435974, -0.503211050703247, -0.4994116557716848, -0.4954243740587665, -0.49127327431221324, -0.4869793888117775, -0.48255606811243945, -0.4780021138346895, -0.473292188917406, -0.4683646386420426, -0.46310852764690225, -0.45735446151029713, -0.4508756216991463, -0.44340282787830887, -0.4346509258985942, -0.42434947669859824, -0.41227145260355735, -0.39825651006025264, -0.38222763452668307, -0.3642011233699787, -0.3442904218124885, -0.3227045766065606, -0.2997421418876134, -0.2757812987247641, -0.25126677001292386, -0.2266938892262811, -0.20259000751402612, -0.17949340615431075, -0.15793011721067884, -0.1383895852633774, -0.1213008474851065, -0.10701161342743926, -0.09577289383116705, -0.08773131441758042, -0.0829299445420173, -0.08131681760250364, -0.0827589895274028, -0.08705943414947304, -0.09397432059831878, -0.10322893435977143, -0.11453131083648782, -0.12758330206839652, -0.14208921165707156, -0.15776233423157038, -0.17432978889370454, -0.5226380620394557, -0.5210020563341844, -0.5191803242491353, -0.5171840649319848, -0.5150270472092611, -0.5127248400647573, -0.5102938160055022, -0.5077498794361068, -0.5051068100950655, -0.5023740153604086, -0.49955335751310614, -0.4966345834908268, -0.4935887968594732, -0.4903595277470285, -0.4868516006405801, -0.48291964194188264, -0.4783606885834708, -0.47291701018394794, -0.4662926631109734, -0.45818108171293215, -0.4482968213431675, -0.43640512966558287, -0.42234573066682835, -0.4060494396861154, -0.3875475009730258, -0.3669742096682369, -0.34456372810503866, -0.3206421336148353, -0.29561567580481984, -0.2699560197238997, -0.24418298552716866, -0.21884507129056474, -0.19449797868490193, -0.17168154713282036, -0.15089597456569215, -0.1325788771477776, -0.11708537195733326, -0.1046735925273814, -0.09549756236009554, -0.08960815469688632, -0.08696135924582027, -0.08743185461382175, -0.09082936519403617, -0.09691548543051032, -0.10541930225078922, -0.11605089538638924, -0.12851241340992603, -0.14250682550019733, -0.15774465069708343, -0.17394902503674659, -0.5247804549805324, -0.5238601203443063, -0.522866467487012, -0.5218166567609486, -0.5207282112450571, -0.5196175812262889, -0.5184984680763884, -0.5173799028730457, -0.5162640220481416, -0.515143392397371, -0.5139976138085971, -0.5127887933349393, -0.5114554060578005, -0.5099041945819223, -0.5080004199790065, -0.5055583591323811, -0.5023363117553536, -0.49804169516845054, -0.49234927728174505, -0.48492991853229883, -0.4754832579630235, -0.46376807981817736, -0.4496265324680062, -0.43300058186453194, -0.4139404859569833, -0.39260590688609986, -0.3692607514500119, -0.3442630258306216, -0.31805094167390147, -0.2911262754515087, -0.26403565982807775, -0.23735019846828553, -0.2116436688268677, -0.18746970558081322, -0.1653387659990937, -0.14569627772228855, -0.1289039264072629, -0.1152262270349258, -0.10482407398663263, -0.09775588833602011, -0.09398563035364571, -0.0933958417670584, -0.09580339540906158, -0.10097579178626659, -0.1086464165313612, -0.11852785676626243, -0.13032295307614916, -0.1437336502039035, -0.1584679102625426, -0.17424501624949418, -0.5273488592809485, -0.5272306811101961, -0.5271651482946726, -0.5271764905449232, -0.5272868676017757, -0.5275141478226246, -0.5278694157433406, -0.5283542540851016, -0.5289578057590121, -0.5296535422663453, -0.5303955493488246, -0.5311140149594311, -0.5317095419889659, -0.5320460698696896, -0.531942860653075, -0.531167487973343, -0.5294338050742082, -0.5264097864332491, -0.5217377183157386, -0.51506418625427, -0.5060737024920989, -0.4945198268989035, -0.48024972898520457, -0.46322029948450427, -0.44350547679838104, -0.4212954802874118, -0.3968892683315901, -0.37068181136108835, -0.34314772406063376, -0.3148225154604716, -0.28628231611881283, -0.2581225747443263, -0.23093601809623232, -0.20529023091211696, -0.18170555337139427, -0.16063451693061714, -0.14244452471639502, -0.12740563590250575, -0.11568490858287817, -0.10734780554803836, -0.10236597896874833, -0.10062977002894624, -0.1019633107909379, -0.10614023814307316, -0.11289852985654392, -0.12195358816257462, -0.13300923084622118, -0.1457666167470817, -0.1599313299648859, -0.17521891550317048, -0.5303565846248215, -0.53112902800285, -0.5320941924969902, -0.5332846201483576, -0.5347281317733033, -0.5364446892507395, -0.5384429354032003, -0.5407165145678772, -0.5432402555035563, -0.545966235832912, -0.548819646097966, -0.5516942600676553, -0.554447274248485, -0.5568934634803278, -0.5587992618099802, -0.5598787172289605, -0.559794931125297, -0.5581711163991627, -0.5546131270214059, -0.5487409504201968, -0.5402234049159358, -0.5288100262128443, -0.5143558655234239, -0.4968370204562098, -0.47635644701594093, -0.45314085702378737, -0.4275303078035979, -0.3999624448003909, -0.37095330169987073, -0.34107620418662243, -0.31093982405472564, -0.28116596501660096, -0.2523673791140164, -0.22512590418370082, -0.19997148464659964, -0.17736308893473662, -0.15767295830782468, -0.14117575161254603, -0.1280437968708923, -0.11834883948610209, -0.11206964976577072, -0.10910399672741411, -0.10928308872618886, -0.11238666978904965, -0.1181573889641776, -0.1263136055491807, -0.13656028018283095, -0.14859794552505967, -0.16212994165154715, -0.17686817261402732, -0.5338130221712682, -0.535565797255589, -0.5376659543287148, -0.5401557334846252, -0.5430697976065961, -0.5464310382522788, -0.5502459821150418, -0.5544999666442807, -0.5591522569994876, -0.5641312382678552, -0.5693297375544699, -0.5746004389531887, -0.5797513299666135, -0.5845413130218517, -0.5886767390610022, -0.5918107747889345, -0.5935487899572822, -0.5934631190676671, -0.5911184191949403, -0.5861050885859918, -0.5780752999698553, -0.5667757272744247, -0.5520724611556089, -0.5339656547636271, -0.5125933597194574, -0.4882255285176311, -0.4612501593822993, -0.43215399374952024, -0.4015000897364265, -0.3699041337094364, -0.33801072392982157, -0.30647027500238844, -0.2759168132937231, -0.2469468496281697, -0.2200997209435176, -0.19584017925923436, -0.17454437559687186, -0.156490504810594, -0.14185508182984274, -0.13071512703013943, -0.12305566764112541, -0.11878122787986323, -0.11772961943452276, -0.11968640437970746, -0.12439876426261742, -0.13158798601255617, -0.14096021298783468, -0.15221542679447841, -0.1650548079122327, -0.17918669531054499, -0.5377232619493197, -0.540546498960538, -0.5438867339322038, -0.547797439974637, -0.552321473978336, -0.5574856777175605, -0.5632949715497713, -0.5697261825536211, -0.576721885418849, -0.5841845294830748, -0.5919710766112904, -0.5998883084066426, -0.6076889534092571, -0.6150689736807107, -0.6216668997486241, -0.627067039477047, -0.6308092858687195, -0.6324081157846297, -0.6313813768760712, -0.6272862042124709, -0.6197567889590407, -0.6085380889961334, -0.5935107344403543, -0.5747044124384013, -0.5522991580010723, -0.5266157864554104, -0.4980979163493451, -0.4672885364558035, -0.43480392235808485, -0.40130710537751324, -0.3674823053859819, -0.3340110106031995, -0.3015499016799035, -0.27071065711284303, -0.24204182254695294, -0.21601326091164652, -0.1930040325030864, -0.17329467435193302, -0.15706461722307585, -0.1443949110790248, -0.13527570727615523, -0.1296173277424939, -0.12726343741478807, -0.12800487548999606, -0.13159300252491368, -0.13775183175816053, -0.14618860060179295, -0.15660272647624196, -0.16869326154821396, -0.18216503150437813, -0.5420877474500199, -0.5460710824264587, -0.550756231809479, -0.5562095897314572, -0.5624837426466076, -0.5696107110860553, -0.5775945391059969, -0.5864035535907688, -0.5959626939097062, -0.6061463515686705, -0.6167721517776763, -0.6275960740101809, -0.6383093129435595, -0.6485374427107331, -0.6578428884714689, -0.6657324041312354, -0.6716718028906772, -0.6751098020122508, -0.6755109572276532, -0.6723947886156938, -0.665375808787418, -0.654198429205542, -0.6387617189943129, -0.6191310747656711, -0.5955362775898425, -0.5683575522175932, -0.5381026817020647, -0.5053787854171214, -0.4708621156642694, -0.4352684348910245, -0.3993255410595533, -0.36374861256466784, -0.3292184421186124, -0.29636239537818043, -0.2657380268042189, -0.23781958336142317, -0.21298793923130055, -0.19152464092664623, -0.17361058109087968, -0.15932937234569766, -0.14867490830611962, -0.14156208992642516, -0.137839428875965, -0.13730226415263713, -0.13970557681842255, -0.14477573793715726, -0.1522208628946704, -0.16173970247303715, -0.17302915661033547, -0.1857905632418686, -0.546901977308226, -0.5521335518670274, -0.5582670543108608, -0.5653836404311292, -0.5735473544516234, -0.5827968534526262, -0.5931362911551028, -0.6045257690864381, -0.6168718932793769, -0.6300190701209343, -0.6437422203442271, -0.6577415938769351, -0.6716403804122195, -0.6849859242010017, -0.6972556528901315, -0.7078692666371857, -0.7162089534690328, -0.7216487912366114, -0.7235926747952075, -0.7215174958028083, -0.7150160695731034, -0.7038335106506575, -0.6878916931417731, -0.6672986640593748, -0.6423426456970915, -0.6134727787071699, -0.5812704266787216, -0.5464154337490386, -0.5096513107423553, -0.4717522810035646, -0.4334938734152667, -0.3956276615600065, -0.3588600243192859, -0.32383450411571557, -0.291117402773017, -0.26118653636527567, -0.2344233826718165, -0.2111090212076554, -0.1914241791156681, -0.17545336413558177, -0.1631926089929263, -0.15455994335316658, -0.14940748970756323, -0.14753409494162528, -0.14869761270594894, -0.1526262460292147, -0.1590286498976008, -0.16760271853069453, -0.17804312038673942, -0.1900477037943975, -0.552156264590806, -0.5587216456516462, -0.566404286450993, -0.5753020913849001, -0.5854924864503233, -0.5970224683868917, -0.6098975745337905, -0.6240702703722021, -0.6394284441995763, -0.655784863843194, -0.6728685630161544, -0.6903191768766028, -0.7076852646773324, -0.7244277059330726, -0.7399293920201906, -0.7535125994120284, -0.7644653362071592, -0.7720771373049107, -0.7756829691341738, -0.7747114417655987, -0.7687313810536307, -0.7574899989638104, -0.7409368777532845, -0.7192304851240563, -0.6927271562236734, -0.6619554283575464, -0.6275805151156431, -0.5903642429291112, -0.5511251173525615, -0.5107018173324203, -0.4699218716294036, -0.429575967116403, -0.3903974926385969, -0.3530465713401105, -0.3180978859686898, -0.2860318890040554, -0.2572293217397288, -0.2319691766617964, -0.2104302288014397, -0.1926960381075815, -0.17876298403599256, -0.16855057714253752, -0.16191311746060122, -0.15865178031178062, -0.1585263753638264, -0.16126626884233652, -0.16658020372302995, -0.17416494517194292, -0.18371279761455828, -0.19491809078571443, -0.5578355645898421, -0.5658165933893466, -0.5751451504035945, -0.5859380079086174, -0.5982880883247583, -0.612252684231785, -0.6278403031786159, -0.6449967228565896, -0.6635911078039489, -0.6834032891737849, -0.7041135058524757, -0.7252960189672539, -0.7464180399051314, -0.7668453846177758, -0.7858562162309937, -0.8026641151679113, -0.8164513051244751, -0.8264118212192748, -0.8318025309120447, -0.8319974958428176, -0.8265390386120948, -0.815178073879772, -0.7978973982492661, -0.7749145500040562, -0.7466646468238338, -0.7137670632670645, -0.6769819358893767, -0.6371629164755039, -0.5952116018131384, -0.5520372876612218, -0.5085237945080958, -0.46550357165383693, -0.4237383233850367, -0.38390501884757056, -0.346586212385636, -0.3122639196345074, -0.28131666777775655, -0.25401960533259094, -0.23054762878739576, -0.21098136140997492, -0.19531558336463606, -0.1834694783952644, -0.1752979292665211, -0.17060310396879297, -0.1691457080347578, -0.17065547782608115, -0.1748406921958494, -0.18139664012146106, -0.1900130804531952, -0.20038077002440247, -0.5639193820232635, -0.5733929657213506, -0.58445876962985, -0.597254662246907, -0.6118913518803273, -0.6284386324140481, -0.6469098940479776, -0.6672455684387526, -0.6892965269093099, -0.7128088015336664, -0.7374112993014832, -0.7626083739107625, -0.7877791688001219, -0.8121855397789526, -0.8349901140934417, -0.8552856135378113, -0.8721358204371903, -0.8846272566646205, -0.8919286275540974, -0.8933525978474475, -0.8884123025863078, -0.8768642337690828, -0.858730561026261, -0.8342974471273681, -0.8040904477989708, -0.7688321227045865, -0.7293893198687493, -0.6867178334800184, -0.6418106877826573, -0.5956540066609413, -0.5491921141330198, -0.5033017174353964, -0.4587739583270518, -0.4163027321849877, -0.3764777836315212, -0.33978146436503476, -0.30658847345285967, -0.27716823571214055, -0.25168972795337785, -0.23022853539386268, -0.2127757779163817, -0.19924838520089327, -0.1895001050763241, -0.1833326405218092, -0.18050641773499576, -0.18075064797826035, -0.18377250937866374, -0.18926540369058498, -0.1969163202091142, -0.20641236667039475, -0.5703817680322452, -0.5814186316491949, -0.5943060594035166, -0.6092053195513452, -0.6262473419289856, -0.6455168580784616, -0.6670343768746727, -0.6907367390100516, -0.7164574362744747, -0.7439083498925876, -0.7726649887558961, -0.8021576083860633, -0.8316706823440967, -0.8603530234576082, -0.8872403919349636, -0.9112916667489332, -0.9314385270715695, -0.9466469470428818, -0.9559865493308228, -0.958701214127001, -0.9542720816454859, -0.9424634065017334, -0.923343561898124, -0.8972777766083444, -0.8648946261156698, -0.8270330090043287, -0.7846788562620874, -0.7389007476897524, -0.6907915646226648, -0.641420389172898, -0.5917960723681472, -0.5428418387596767, -0.4953791484083996, -0.45011868220680595, -0.4076565044231011, -0.36847392018400016, -0.33294006150215694, -0.301316649383111, -0.2737646163239318, -0.25035233328501216, -0.23106512536257617, -0.21581566382185602, -0.20445476175267374, -0.19678211423755476, -0.19255660904956295, -0.1915059598669282, -0.1933355417666096, -0.19773640758515487, -0.20439251926747404, -0.212987242372491, -0.5771914162105942, -0.5898548373124051, -0.6046397641716854, -0.6217331982156096, -0.6412888295720225, -0.6634089590736458, -0.6881237523906019, -0.7153686279118381, -0.7449611241765359, -0.7765791945139073, -0.809743454522359, -0.8438063454952038, -0.8779513414452671, -0.9112051054630526, -0.9424648319445916, -0.9705418887640114, -0.9942212984553909, -1.012334521919093, -1.0238403939970395, -1.027906142720521, -1.0239780251196124, -1.0118305682153892, -0.9915858249288518, -0.9636993448970743, -0.9289161090820015, -0.8882051538567817, -0.8426842645877044, -0.7935455906234454, -0.741990223627609, -0.6891761110260506, -0.63618035771528, -0.5839746536989929, -0.5334113711308937, -0.48521759290481015, -0.43999463998045774, -0.3982212442724109, -0.3602591295691926, -0.3263602637754457, -0.2966753644268747, -0.2712633789346133, -0.2501016735732562, -0.23309662384635832, -0.22009426827346723, -0.21089070419170697, -0.20524197096634889, -0.20287326197422728, -0.2034874021471369, -0.20677259835607464, -0.2124095040038534, -0.22007763893347176, -0.5843118650141181, -0.5986564181789904, -0.615404660433738, -0.6347716327522273, -0.6569363691143308, -0.6820215118888078, -0.7100696799723807, -0.7410174279893971, -0.7746682867983785, -0.8106671264111476, -0.8484788390051536, -0.8873749530563566, -0.9264320714024818, -0.9645457924231973, -1.0004629054567251, -1.0328331338558454, -1.0602795932477553, -1.0814844967302397, -1.0952835266781606, -1.1007589954202124, -1.0973193421058198, -1.0847521762721655, -1.063241263686912, -1.0333443927528965, -0.9959369394698276, -0.9521322911083889, -0.9031930206651779, -0.8504455491686906, -0.7952072660837493, -0.7387305216061661, -0.6821640024331894, -0.6265294385920255, -0.5727103914397578, -0.521449714788202, -0.4733527442388934, -0.4288939936633638, -0.38842586962645687, -0.35218850856409634, -0.32032024009113313, -0.29286839137195053, -0.269800222521527, -0.2510137882641399, -0.23634851561219872, -0.22559530643232173, -0.21850602490278903, -0.21480229955214325, -0.21418363581374855, -0.2163348790797326, -0.2209330814817576, -0.22765381076873736, -0.5917018112339265, -0.6077721535148957, -0.6265379404136211, -0.64824446396252, -0.6730986569087976, -0.7012463415631949, -0.7327455767052644, -0.7675369502976626, -0.8054124288977731, -0.845985288129464, -0.8886646117784835, -0.9326386803092082, -0.9768720237810826, -1.020120720301009, -1.0609694771849334, -1.0978920858988, -1.1293341010463602, -1.1538132366785434, -1.170029192280313, -1.1769708231055886, -1.1740057963689023, -1.160937841940664, -1.1380208609796452, -1.1059272176102564, -1.065676983869447, -1.018542216239944, -0.965943075191591, -0.9093506168779595, -0.8502061470300939, -0.7898614417239112, -0.7295396084544274, -0.6703135738399633, -0.6130980390541205, -0.5586507647172836, -0.5075797104934292, -0.4603534495988326, -0.41731314049507207, -0.378685029339797, -0.3445929320591081, -0.3150704206763524, -0.29007256656530056, -0.2694871370680503, -0.25314515683072725, -0.24083076594000508, -0.23229034432013163, -0.22724091837683602, -0.22537790588488238, -0.2263822747215194, -0.2299271843784545, -0.2356841498209994, -0.5993155357989957, -0.6171452677330811, -0.6379697866393843, -0.662066675159046, -0.6896732038709776, -0.7209611860416223, -0.7560072043432977, -0.7947590346111855, -0.8369999661974996, -0.8823138052534176, -0.9300545443667907, -0.9793257830243485, -1.0289756755958201, -1.0776130971399356, -1.123649536285997, -1.165368821696093, -1.201023293448757, -1.2289507584888595, -1.2477019154689462, -1.2561635055774774, -1.2536594706757642, -1.2400127969538528, -1.2155560721051453, -1.1810886394061872, -1.1377894837659568, -1.0871033622738773, -1.0306203379657768, -0.9699658409052656, -0.9067120326407205, -0.8423144883041125, -0.7780730145441326, -0.7151124508451681, -0.6543782748459714, -0.5966420917949968, -0.5425129942919609, -0.49245186896464843, -0.4467867300819979, -0.40572795056492805, -0.36938280858072736, -0.3377690999771752, -0.3108277388663421, -0.28843434331071305, -0.27040983367690186, -0.2565300922511957, -0.24653475760704602, -0.2401352531659846, -0.23702216584990365, -0.23687208792639391, -0.23935400974363952, -0.24413530760092583, -0.6071034390973351, -0.6267140778806255, -0.649624140680845, -0.676145284609583, -0.7065473430069367, -0.741030793415105, -0.7796938075562698, -0.8224946499531787, -0.869211174177255, -0.9194004324831186, -0.9723628702448361, -1.0271169948407466, -1.0823914128674952, -1.1366412339207415, -1.1880945780883334, -1.2348320465317313, -1.2748976352412305, -1.3064341588228068, -1.3278304857402823, -1.3378626866627514, -1.335808041409277, -1.3215118359541638, -1.2953936613082186, -1.2583918395906415, -1.2118578971717329, -1.1574225612027385, -1.0968572251908828, -1.031950499923445, -0.9644114550619352, -0.8958030685671841, -0.8275035154730783, -0.7606898267247233, -0.6963376149337028, -0.6352311247377718, -0.5779790542591949, -0.5250329012904276, -0.47670574043142344, -0.4331902267709553, -0.3945752366374058, -0.36086093644879025, -0.33197227834874243, -0.30777101974209264, -0.28806640566606534, -0.2726246726960502, -0.26117754629325773, -0.2534299109904605, -0.24906682812536407, -0.24776005265969991, -0.2491741578375759, -0.25297231959326805, -0.6150126784505898, -0.6364127803142987, -0.6614196609644705, -0.6903804934008124, -0.7235995791936438, -0.7613084728903532, -0.8036298457251925, -0.8505357592208544, -0.9018021021998683, -0.9569623933407627, -1.0152658857205081, -1.0756466930440869, -1.136712052449691, -1.1967582308622318, -1.2538213172077874, -1.3057667864421192, -1.3504163241529623, -1.3857035926429364, -1.4098434702329476, -1.421493179182237, -1.4198804357594286, -1.404875527869242, -1.376992667695734, -1.3373201649277284, -1.2873945185046598, -1.2290443821444397, -1.1642325764308852, -1.0949184489301387, -1.022952944041089, -0.950009179319564, -0.8775447359638702, -0.8067887053747773, -0.7387459735214443, -0.674212149136517, -0.6137940502149619, -0.5579322041820642, -0.5069231237576926, -0.46094010669917074, -0.42005198385181464, -0.38423966122129927, -0.3534105372726062, -0.3274109924051114, -0.3060371963921604, -0.28904449640507823, -0.2761556502026008, -0.26706815981487253, -0.26146093737692966, -0.25900049319084983, -0.25934677740643974, -0.26215873738197026, -0.6229878956009021, -0.6461723628789859, -0.6732708552065592, -0.7046670750718342, -0.7407012711858458, -0.7816380976703934, -0.8276273316433205, -0.8786579863860062, -0.9345075299214334, -0.9946895456891185, -1.058405198629914, -1.1245060611878377, -1.1914777194278587, -1.2574543661882576, -1.3202734153015574, -1.3775753514503346, -1.4269474851352884, -1.4661018057870217, -1.4930682923630076, -1.5063778625197275, -1.5052058330789722, -1.489449561095113, -1.4597242470674556, -1.417277516389905, -1.363841374845727, -1.3014524344470622, -1.232273236364444, -1.158439851158633, -1.0819487977345736, -1.0045851305893108, -0.9278862472720568, -0.8531328103593012, -0.7813579741841381, -0.7133674532857366, -0.6497648296043093, -0.5909782828960677, -0.5372863914883261, -0.4888417298374439, -0.44569172067845253, -0.40779665437788504, -0.37504504439545094, -0.3472666150481565, -0.3242432698161928, -0.30571840068979017, -0.29140488997748615, -0.2809921314179413, -0.27415235670013915, -0.2705464954084571, -0.2698297233556948, -0.2716567735197848, -0.6309720173913089, -0.6559216220860986, -0.6850893631903527, -0.7188959794358265, -0.7577186163858445, -0.8018565313531412, -0.8514887550027599, -0.9066240787020816, -0.9670449851036917, -1.032248935355986, -1.101392751017514, -1.1732484623962818, -1.2461814060791299, -1.3181626470107484, -1.3868268307044929, -1.4495823260910825, -1.503772709575276, -1.5468782130145322, -1.576734919257582, -1.5917411097047327, -1.591016985488827, -1.574488092037769, -1.5428751277724335, -1.4975919221760714, -1.4405738657249145, -1.3740729877987545, -1.3004575594062346, -1.2220444824447645, -1.1409781241614854, -1.0591562864637525, -0.9781959922758061, -0.8994286969764638, -0.823914764407335, -0.7524688689863168, -0.6856902230790389, -0.6239935712613245, -0.5676385111898785, -0.5167558687474885, -0.4713706353247713, -0.43142145683801436, -0.3967769349911596, -0.36724913509641, -0.34260474667602625, -0.32257434924343453, -0.30686021562674237, -0.295143046478622, -0.2870879735431253, -0.28235009644733244, -0.2805797319316601, -0.2814274634397511, -0.6389071086054912, -0.6655882584197157, -0.6967853561126185, -0.7329561090453562, -0.7745148887228686, -0.8217964208010666, -0.8750105287439036, -0.9341881023987102, -0.9991197708310224, -1.0692907093020794, -1.1438176298495843, -1.221397103936111, -1.3002773862872266, -1.3782678156566757, -1.4527992233499156, -1.5210441703130515, -1.5800966655295499, -1.6271983641062036, -1.659985071082201, -1.6767176683568608, -1.67645873245431, -1.659161872538831, -1.6256553273474017, -1.5775228049237122, -1.516907529288781, -1.4462811847870445, -1.3682210285917242, -1.2852267375178212, -1.1995912392464234, -1.1133248795794914, -1.0281235560983382, -0.9453685280281596, -0.8661463500506215, -0.7912797191958505, -0.7213626583101767, -0.6567957615267741, -0.5978189982751598, -0.5445408238983211, -0.49696316820135356, -0.4550023761072901, -0.4185064548669064, -0.3872691183766459, -0.3610411681140726, -0.3395397489936174, -0.32245598750822246, -0.30946146769383054, -0.30021393060701773, -0.29436249719052276, -0.2915526172982743, -0.291430847646446, -0.6467352525493806, -0.6751000175404918, -0.7082690103864859, -0.746736213995467, -0.7909528608047893, -0.8412892701418722, -0.8979868554775277, -0.9611002526631613, -1.0304308707782526, -1.1054552536256703, -1.18525454209309, -1.2684549006511063, -1.3531924492080685, -1.4371188583138241, -1.5174635695044887, -1.591163710113809, -1.655062187704328, -1.706159323454965, -1.7418875621265535, -1.7603676404244266, -1.760602332536402, -1.7425717076888572, -1.7072105785628608, -1.6562722803436687, -1.5921081704133193, -1.5174099994377594, -1.4349640820727891, -1.3474523906718958, -1.2573154478744342, -1.1666749100820568, -1.0773042843297789, -0.9906335109121918, -0.9077744455170342, -0.8295571680090956, -0.7565700880859505, -0.689199380224377, -0.6276652008217836, -0.5720534706177007, -0.5223428667258929, -0.4784271877841615, -0.4401335411328493, -0.4072369359818133, -0.37947191029568916, -0.3565418095292203, -0.3381262936088605, -0.3238875845611575, -0.3134758850051076, -0.30653430049989683, -0.3027034919018423, -0.30162617612133613, -0.654399432747262, -0.6843858413534523, -0.7194520074524695, -0.7601268404954582, -0.8068973252733007, -0.8601686854741699, -0.9202138733110237, -0.9871121028857213, -1.0606775210133002, -1.1403813097408961, -1.2252736787049654, -1.3139162453868511, -1.4043396621580788, -1.4940447503199183, -1.580065768779875, -1.6591093700454262, -1.727770784790379, -1.782810992483125, -1.8214598868972154, -1.8416977329642557, -1.8424658050877547, -1.8237674172986753, -1.78663959101346, -1.7330005575290703, -1.6654053718778739, -1.5867619278560483, -1.5000621129114533, -1.408167067468955, -1.3136621630367913, -1.2187780867606146, -1.1253642111634183, -1.0348979636315476, -0.9485158124783333, -0.8670549507188692, -0.791098214857723, -0.7210175960969163, -0.6570137669230987, -0.5991504504632783, -0.5473833552018215, -0.5015839295304629, -0.4615584780109234, -0.4270633127610637, -0.3978166503556335, -0.3735079459829811, -0.3538053042860172, -0.33836153106467304, -0.3268192968397914, -0.3188157761534902, -0.3139870113659675, -0.31197213542984636, -0.6618443883566569, -0.6933769911082353, -0.7302490075683674, -0.7730222620802141, -0.8222176189177324, -0.8782736609155135, -0.9414939099498822, -1.0119820706673883, -1.0895661650573878, -1.173714716945537, -1.263451542992014, -1.3572801900393534, -1.4531341015780348, -1.5483728250127125, -1.6398455956888658, -1.724038485569905, -1.7973079108693903, -1.8561827555498802, -1.8976954894670626, -1.9196882898359473, -1.9210398617091815, -1.9017719371042308, -1.8630158261273446, -1.80684515322703, -1.736009134461535, -1.653623191565772, -1.5628774573419018, -1.4668062748931534, -1.3681352388942358, -1.2692007101952245, -1.1719257170706574, -1.0778339454437793, -0.9880860359166364, -0.9035264432752408, -0.8247329796114224, -0.7520642349154887, -0.6857022750323423, -0.6256894920356713, -0.5719594084641952, -0.5243617791215478, -0.4826826215893736, -0.4466599330949723, -0.4159958806285198, -0.39036622323895376, -0.36942766294162266, -0.35282373509417075, -0.3401897462071064, -0.3311571515574685, -0.325357642969218, -0.32242709753232734, -0.6690174167387359, -0.7020081052097447, -0.7405790452625782, -0.7853223204221524, -0.8367900481827988, -0.8954517664716279, -0.9616396551073101, -1.0354808454836353, -1.1168174553965033, -1.205117345636696, -1.2993821926074154, -1.398064358857741, -1.4990097388216859, -1.5994488172505, -1.6960599171194801, -1.7851235000037857, -1.8627717120706258, -1.9253141047604758, -1.969595369784514, -1.9933248182922132, -1.9953182553526474, -1.9756095347476843, -1.9354129200991879, -1.876943210713689, -1.8031290787892387, -1.7172800083648423, -1.6227730260833337, -1.5228067233345777, -1.4202403120107574, -1.3175113387051176, -1.2166137923227733, -1.1191163556915975, -1.026203662056344, -0.9387280120829458, -0.8572632688194533, -0.7821559650191592, -0.7135709990750265, -0.6515308392676984, -0.5959481122480237, -0.5466520033801341, -0.5034091833100471, -0.465940096023548, -0.4339314649426531, -0.40704583649945425, -0.3849289085583598, -0.3672152961465309, -0.35353327559546077, -0.343508925478208, -0.33676995514200625, -0.3329493878775083, -0.6758690990712126, -0.7102181573282362, -0.7503667973894583, -0.7969341059712141, -0.850500117268643, -0.9115620987078832, -0.9804780573273855, -1.0573965106773762, -1.1421729382255232, -1.2342757364057346, -1.3326882616728346, -1.4358187855915943, -1.5414364753423797, -1.6466573636419186, -1.7480067379279218, -1.8415793909099936, -1.9233033926631657, -1.989287227377194, -2.0362019241212876, -2.0616319278563062, -2.0643306027841772, -2.0443364312555357, -2.0029323321072345, -1.942455790715383, -1.865995335229815, -1.7770362689521133, -1.6791270811887482, -1.5756185662053566, -1.4694948678990811, -1.363289021796646, -1.2590627413425564, -1.1584283735948147, -1.062594599669159, -0.9724225676072913, -0.8884837798939356, -0.8111146071184647, -0.7404647720480158, -0.676538758804236, -0.6192300880116124, -0.5683489604512655, -0.5236440582763604, -0.4848194085838107, -0.45154722792545354, -0.4234776207218329, -0.4002459237637659, -0.3814783858248536, -0.3667967528224192, -0.3558222004130307, -0.3481789239756379, -0.343497569084932, -0.6823539288246983, -0.7179512855682624, -0.7595436814077241, -0.807773417080901, -0.8632444703000879, -0.9264778671079295, -0.9978537640101908, -1.077539104009242, -1.1654010650886948, -1.2609089566828344, -1.3630311070973864, -1.4701388138772755, -1.5799362273988629, -1.6894415925182895, -1.795048422926524, -1.892690384098284, -1.9781169790681676, -2.047259090543294, -2.0966323887829157, -2.123707016886269, -2.127175151006199, -2.1070715900695127, -2.0647313632198148, -2.0025926746829876, -1.9238800108909093, -1.8322317879094339, -1.731348538949789, -1.6247180941563237, -1.5154386844504946, -1.4061318369536604, -1.2989231262678924, -1.1954670842894934, -1.0969966655402552, -1.0043832296340485, -0.9181979737007844, -0.8387695128194939, -0.7662349047743973, -0.7005830925212926, -0.6416907554591331, -0.5893511341718707, -0.5432966813406095, -0.5032165035130178, -0.4687695658975115, -0.439594579329585, -0.4153174002050155, -0.395556663964006, -0.37992824814402826, -0.368049027872944, -0.35954025154409885, -0.35403073547275055, -0.6884308280539257, -0.7251574705055466, -0.7680487511184833, -0.8177659492680218, -0.8749324763537971, -0.9400885116557629, -1.0136319523400332, -1.0957443966809912, -1.186302217178981, -1.2847752332549582, -1.3901194704862385, -1.5006762422151656, -1.6140969896541328, -1.7273204466335288, -1.83663243104234, -1.9378339801536615, -2.0265262104904274, -2.098490492273348, -2.1501091676514688, -2.178750923422315, -2.1830488140337483, -2.163025284365411, -2.1200495508630746, -2.0566360987042875, -1.9761180192550412, -1.882260210508018, -1.7788921068015435, -1.6696203613634908, -1.5576442559863026, -1.4456654278960395, -1.3358687188779648, -1.2299491140455145, -1.1291641379401955, -1.0343969992384197, -0.9462210330285792, -0.8649599489739137, -0.7907411108250895, -0.7235408168039861, -0.663221602465329, -0.6095621763881516, -0.5622808914962132, -0.5210537653879384, -0.4855280661132373, -0.45533242099549054, -0.4300843115889208, -0.4093957019383747, -0.3928774180386143, -0.3801427598464835, -0.3708106899531767, -0.3645088129100045, -0.6940635423740749, -0.7317930482418551, -0.7758293688202587, -0.8268481826436991, -0.8854874088933886, -0.9523012784843041, -1.0277004413163529, -1.1118767274526749, -1.2047125020680998, -1.3056770130017816, -1.4137161627801338, -1.527148032718465, -1.6435839664190868, -1.7599025631266154, -1.8723081065680605, -1.9765005687587496, -2.0679665969064955, -2.142369938064773, -2.195984787399034, -2.2260932531968423, -2.2312722718897313, -2.211523429706237, -2.1682317030118186, -2.1039619851894185, -2.0221261237828796, -1.9265856706679196, -1.8212725489685777, -1.7098911972891788, -1.5957267757825488, -1.481551219003607, -1.3696032105729907, -1.261616082204275, -1.1588721701180502, -1.0622683235622787, -0.9723827391584985, -0.8895374198593295, -0.8138533847205904, -0.7452975671730704, -0.6837214296981766, -0.6288919311144268, -0.5805157834660564, -0.5382580478776253, -0.5017561198990856, -0.470630092238171, -0.44449038381137673, -0.42294340388828444, -0.4055958874462926, -0.3920583990825601, -0.38194836448084213, -0.37489285799409755, -0.6992209117048285, -0.7378210535304313, -0.7828416455817961, -0.834967953755972, -0.8948471970659655, -0.9630422170809894, -1.0399710265027098, -1.125830799782156, -1.2205061800444454, -1.323464234720384, -1.4336424497139038, -1.5493421211010627, -1.6681471312084364, -1.7868958676082776, -1.901738475693448, -2.0083073991457274, -2.1020112967534166, -2.178430961631476, -2.233760133645238, -2.2652111015696588, -2.2713089042306476, -2.252026496810309, -2.2087464379413917, -2.144057619974382, -2.061419258641857, -1.9647573988669587, -1.8580774178664208, -1.7451580687600785, -1.6293532527545818, -1.5134939736698185, -1.3998664224629436, -1.290239670633762, -1.1859209104022437, -1.0878224353194053, -0.9965301755262177, -0.9123678568166078, -0.8354537787160847, -0.7657490854445863, -0.7030975361160567, -0.6472574135114444, -0.5979265246109364, -0.5547613641328659, -0.5173915146767969, -0.4854302930863257, -0.45848255118196035, -0.43615041624386786, -0.4180376219434694, -0.4037529405768936, -0.39291308896215527, -0.3851453503795388, -0.7038770198559923, -0.74321139670331, -0.7890506539089317, -0.8420847162954133, -0.9029647526364681, -0.9722566004552893, -1.050380033409232, -1.1375324270300575, -1.2335966854631433, -1.3380357444184487, -1.4497800186044052, -1.5671201328468698, -1.6876249191653154, -1.808112469151769, -1.92470652083169, -2.033006303549921, -2.128380213730274, -2.206362389814718, -2.2630956368949007, -2.2957409872860475, -2.302777407591581, -2.2841427410647297, -2.2411997836908495, -2.176535178053443, -2.0936234637689966, -1.9964216322892891, -1.8889776699518972, -1.7751192992496991, -1.658250359329812, -1.5412483752892752, -1.4264397634548258, -1.3156261148301285, -1.2101391775684776, -1.110908350344066, -1.0185301684570216, -0.9333336056933264, -0.8554380240007855, -0.7848025469888109, -0.7212668117873278, -0.6645837168521833, -0.6144451154157466, -0.5705015324339142, -0.5323769899392428, -0.4996799631402611, -0.47201138782786956, -0.4489705160129511, -0.43015928142894655, -0.41518569675339356, -0.4036666666840567, -0.3952304721970612, -0.7080112313139875, -0.7479408858422243, -0.7944304283417181, -0.848169511562179, -0.9098079003453532, -0.9799088046530429, -1.0588881361959972, -1.1469382840051374, -1.2439363131378287, -1.3493389339072497, -1.4620706109245236, -1.5804170857139082, -1.701944116849019, -1.8234688961407446, -1.9411159511193004, -2.0504851968634044, -2.1469423962050604, -2.2260117660775087, -2.283815795632041, -2.3174845138230182, -2.3254585927478257, -2.3076360484060965, -2.265343843943146, -2.201140837634512, -2.118485005911838, -2.021330335722194, -1.9137356865738593, -1.799551218591355, -1.6822106513484583, -1.5646243391570722, -1.44915070466164, -1.337619935211368, -1.2313875504711502, -1.1314014140002904, -1.038271380450051, -0.9523351464934084, -0.8737169451511193, -0.8023777279056858, -0.7381567061834797, -0.6808048219528497, -0.630011072840009, -0.5854227600498227, -0.5466607429418662, -0.5133307259621629, -0.48503150389995975, -0.4613609687923863, -0.44192054735731534, -0.4263185992604248, -0.41417317045525825, -0.40511436887224694, -0.7116081277807369, -0.7519931117724814, -0.7989637785137771, -0.85320468279189, -0.9153589588453459, -0.9859817124086372, -1.0654795299478104, -1.154034783673489, -1.2515147273541114, -1.3573678076351727, -1.470513580786642, -1.5892383992150427, -1.71111633166772, -1.8329821129920065, -1.9509869590884723, -2.0607638841667972, -2.157712307010044, -2.2373825318443465, -2.2959076519349426, -2.33040834620343, -2.339296846683755, -2.322428697036432, -2.2810806011410527, -2.217759342370301, -2.1358753984215997, -2.039346374703751, -1.9322103315328363, -1.8183129032444123, -1.7010968663197907, -1.5834908119689701, -1.4678760739090553, -1.3561067530083486, -1.249560749786454, -1.149205301030924, -1.055665981562409, -0.9692924870448305, -0.8902176221636953, -0.818407976034973, -0.7537060432005143, -0.6958642859347721, -0.6445720176974006, -0.5994761497779326, -0.5601968711304353, -0.5263392808012737, -0.4975018971458349, -0.47328284830635603, -0.4532844163211527, -0.4371164710026445, -0.42439919615734345, -0.41476538623625103, -0.7146573598609931, -0.7553582176228093, -0.8026419453099509, -0.857183376394338, -0.9196140325276818, -0.9904757250541807, -1.0701605731553605, -1.1588362394453315, -1.256356511717642, -1.3621597702735109, -1.4751617639343477, -1.5936547042042486, -1.715231653127367, -1.8367620468699146, -1.954447786890456, -2.0639850437760847, -2.160840797713135, -2.2406256731572625, -2.2995137218651274, -2.3346387739747643, -2.3443963388942515, -2.328598995732215, -2.288460748420851, -2.2264138500235218, -2.1457921120572157, -2.0504449034708596, -1.9443588006531773, -1.8313482749909022, -1.7148440929810385, -1.5977778821534252, -1.4825440239274368, -1.3710150719151, -1.2645892166407529, -1.164253393099961, -1.0706508388333458, -0.9841461830588709, -0.9048842621978455, -0.8328409555368184, -0.767865658556117, -0.7097157905550957, -0.6580841498699952, -0.6126201157507662, -0.5729457400705005, -0.5386677321352127, -0.5093862516923366, -0.4847013104033284, -0.46421745379479096, -0.44754726294231983, -0.43431408491077184, -0.42415427956966134, -0.7171534306955516, -0.7580325767352851, -0.8054641337278512, -0.860108877485118, -0.9225820808616492, -0.9934074760402156, -1.0729580305859314, -1.1613824933759425, -1.2585180073603708, -1.3637914705182417, -1.4761161040626702, -1.5937950337498528, -1.714450237731591, -1.8350015059754068, -1.9517231012541936, -2.060401426041552, -2.1566017456685884, -2.2360265631254865, -2.29491977129221, -2.330450901943488, -2.3410117789740386, -2.326373538766342, -2.2876773381355173, -2.2272609257638036, -2.1483548758158517, -2.0547108758321695, -1.9502351664829332, -1.8386854562831536, -1.723459711205622, -1.6074771065869382, -1.4931345898631707, -1.3823169526352894, -1.276439826653962, -1.1765094829711285, -1.0831881817480558, -0.9968579502069981, -0.9176787529401575, -0.8456391420661926, -0.7805988407043734, -0.7223235345507952, -0.6705125984457376, -0.6248206977163957, -0.5848742677838628, -0.5502838493001732, -0.5206531774148446, -0.495585815784487, -0.4746900030412542, -0.4575822512687764, -0.44389010994695766, -0.43325439108226127, -0.7190954283617959, -0.7600184027219636, -0.8074369560325172, -0.8619938270116358, -0.9242838316830084, -0.9948083390738067, -1.0739170461844583, -1.1617361899299297, -1.2580836864452993, -1.362374036738748, -1.473519485490491, -1.5898389828442192, -1.7089925628370135, -1.8279643948696829, -1.9431202136468746, -2.0503603613993944, -2.1453753850295203, -2.223987830220152, -2.2825379633696117, -2.318252683863414, -2.329533730337374, -2.3161140202520265, -2.2790542362792383, -2.2205807432416216, -2.1437976743655973, -2.052332786726741, -1.9499857003553416, -1.8404334312524901, -1.7270211220865486, -1.612640052589522, -1.4996788221640909, -1.390027559778706, -1.2851157164530558, -1.1859677825235007, -1.0932657224620885, -1.007410849079456, -0.9285808807720175, -0.8567800539665691, -0.7918815627450899, -0.7336624592863694, -0.6818316376390983, -0.636051765992873, -0.5959561188281559, -0.5611612505014933, -0.5312763849836857, -0.5059102972178475, -0.4846763454856253, -0.46719619169023896, -0.45310262531080214, -0.4420417932568459, -0.72048672270843, -0.7613233137609774, -0.8085738162677119, -0.8628593640293405, -0.9247505993248808, -0.9947228157189707, -1.0730989637348571, -1.159979857800649, -1.2551622836423864, -1.3580480066102547, -1.4675501764825132, -1.5820083674282515, -1.6991290266463381, -1.8159730594519874, -1.9290141199211013, -2.0342866487224436, -2.127629424877844, -2.2050092813213262, -2.2628862750743246, -2.2985645419106326, -2.3104690903840726, -2.2982991320707664, -2.26302986332241, -2.206762947007484, -2.1324568577916607, -2.043593001021811, -1.9438412553137465, -1.8367762223669437, -1.725671414256727, -1.613375151108863, -1.5022565542087465, -1.3942036153022552, -1.2906552402710656, -1.1926522417429608, -1.100896231592436, -1.0158090402173203, -0.9375882090510472, -0.8662562139859227, -0.8017024996666637, -0.7437183022484841, -0.6920247634387857, -0.6462951125305607, -0.6061718040665152, -0.5712795076484061, -0.5412347934887567, -0.5156532685447073, -0.49415481020906005, -0.47636742879302063, -0.46193017457566277, -0.4504953964292253, -0.7213346402577103, -0.7619598702580974, -0.8088942628539151, -0.8627342303531298, -0.9240230592502958, -0.9932068738884583, -1.0705790936451915, -1.1562129345877625, -1.2498828691942998, -1.3509781988182454, -1.4584152146728968, -1.5705588187131734, -1.6851694558130355, -1.799395465168917, -1.9098322125622418, -2.012664821787549, -2.1038990809418943, -2.1796661111962186, -2.236565488748429, -2.271995905844937, -2.284418034210777, -2.2735027405292305, -2.2401372749842645, -2.1862890780198434, -2.1147561173572544, -2.0288552817512397, -1.9321071900339717, -1.8279649455582199, -1.7196132311990604, -1.6098430484295538, -1.5009929337495, -1.3949408453260213, -1.2931301137187958, -1.1966152153041996, -1.1061165923596925, -1.0220771228160934, -0.944715624106393, -0.8740748452784124, -0.8100628322979155, -0.7524874783364834, -0.7010846301347757, -0.6555404268438045, -0.6155086847519617, -0.5806241706518342, -0.5505125693768447, -0.5247978743429558, -0.5031078315633801, -0.4850779595897563, -0.4703545587917919, -0.4585970198994711];\n",
       "const lower_is_better = false;\n",
       "const metric = \"hartmann6\";\n",
       "const rel = false;\n",
       "const sd = [0.6651894026837885, 0.6559955524626507, 0.6453816244987931, 0.6332470609425894, 0.619527667233289, 0.6042151324478394, 0.5873811872180483, 0.5692060597039783, 0.5500096230105984, 0.5302813356275349, 0.5107013702353421, 0.49214025860968, 0.4756195109934673, 0.4622155976490204, 0.45290210345669035, 0.4483547006486714, 0.44878011566116705, 0.4538425791549856, 0.46272471265431075, 0.4742940432281076, 0.4873033985267866, 0.5005600558920037, 0.5130343879796684, 0.5239110603530043, 0.532600601638755, 0.5387300436442101, 0.5421263057818579, 0.5428002206764172, 0.5409343977469435, 0.5368745872530983, 0.5311214275997658, 0.5243171639529995, 0.5172203248742043, 0.5106613205045806, 0.5054749369983316, 0.5024129154068164, 0.5020502832959354, 0.5047082173906634, 0.5104170132630051, 0.5189315575447979, 0.5297932680682317, 0.5424174935371211, 0.5561816190754281, 0.5704957980064771, 0.5848488239580031, 0.59883027168712, 0.6121344688179476, 0.6245527950952982, 0.6359598380396492, 0.6462973604585177, 0.6629693557760636, 0.6532638069116766, 0.6420310210118981, 0.629152205077131, 0.6145438051111507, 0.598178191085553, 0.5801099030066282, 0.5605075841292437, 0.5396905625062552, 0.5181666858972791, 0.4966637616839617, 0.47614031814680496, 0.4577534565344079, 0.4427575866278677, 0.43231932073224766, 0.4272722377709811, 0.4278908859598375, 0.43378951765223045, 0.4440017296312282, 0.45719893445951143, 0.4719440070228025, 0.48689275944106664, 0.5009116519765372, 0.5131235667457881, 0.5229087353390277, 0.5298850820487019, 0.5338838632740093, 0.534928852618551, 0.5332218894934909, 0.5291338779601351, 0.523197484474163, 0.5160953613819014, 0.5086358610228164, 0.5017078843837086, 0.49620950261731034, 0.4929529499671872, 0.4925608205366472, 0.4953795111379405, 0.5014375494395756, 0.5104635032637186, 0.5219562800348817, 0.5352830631568036, 0.5497763383905009, 0.5648099776107042, 0.5798469271015123, 0.594460724443239, 0.6083376366327713, 0.6212668170922834, 0.6331245100255851, 0.6438564575751853, 0.6608272329248653, 0.6506279686465279, 0.6387967229916054, 0.6251959051409235, 0.6097214296734538, 0.5923242932126388, 0.5730385921533823, 0.5520166404948833, 0.5295708862040107, 0.5062200795561188, 0.48273256946740845, 0.4601514743563473, 0.43977482857042044, 0.42305386643689663, 0.41138013527344036, 0.4057792367762187, 0.40661195789011334, 0.4134341745034146, 0.42510154265801775, 0.4400572012416385, 0.4566521799661729, 0.47338246323536837, 0.48901218112538203, 0.5026089000330328, 0.5135301597488949, 0.5213914971127301, 0.5260335274036497, 0.5274961081865249, 0.5260016454760076, 0.5219458690402439, 0.5158916407566229, 0.50855889059018, 0.5008016857425507, 0.4935628016379364, 0.4877990673749817, 0.4843793713869561, 0.48397117143448987, 0.48694475347409955, 0.49332700519254585, 0.502821763948328, 0.514888341166701, 0.5288496385814443, 0.5439975476705678, 0.5596738069312588, 0.5753190637428468, 0.5904935359059333, 0.6048772770135149, 0.6182582794228406, 0.6305148761343743, 0.6415967490153848, 0.6587815978654612, 0.6481128750652149, 0.6357117884579686, 0.6214218997076827, 0.6051180108968255, 0.586728325285526, 0.5662638359156715, 0.5438561672556992, 0.5198044354881362, 0.4946297600217128, 0.46913148911383995, 0.4444299061186419, 0.42196453678949936, 0.4033990484143635, 0.39038270717322043, 0.38417202294085584, 0.38523639127430326, 0.3930638483329193, 0.4062990296179329, 0.4231224608224661, 0.4416532314289274, 0.46022322172451974, 0.4774998685102106, 0.4925047433454496, 0.5045818485566561, 0.5133516505958748, 0.518669182960696, 0.5205932855642428, 0.5193678822951343, 0.5154127008528763, 0.5093182906697251, 0.5018377604196617, 0.49386538981519923, 0.48639132821462844, 0.48042435498367486, 0.476883823163886, 0.47647745386111345, 0.4795971760881098, 0.48626870097148894, 0.4961741605244852, 0.5087382368914295, 0.5232455326351322, 0.5389533779645173, 0.5551767056754162, 0.5713380616704795, 0.5869872976670738, 0.6018000638983237, 0.6155640645213935, 0.6281598903076552, 0.6395408426679655, 0.656849561696262, 0.6457416916763555, 0.6328074402165882, 0.6178720631814366, 0.6007893909114247, 0.5814642573409357, 0.5598828077492154, 0.5361524678916494, 0.5105530734802646, 0.4835992323395963, 0.4561098323291168, 0.4292707426325029, 0.40465734345002907, 0.38415527118308007, 0.36970209286261013, 0.3628271554074623, 0.3641346155154836, 0.37303463437467305, 0.387924903674049, 0.40668930859205715, 0.4271993756370535, 0.44762436138605965, 0.46654514308621714, 0.48294913093336794, 0.49617686547533196, 0.5058610375786265, 0.5118757016409909, 0.514300985264542, 0.5134026776938755, 0.509623065690648, 0.5035771768506627, 0.49604626600113944, 0.48795799707867793, 0.4803415690732126, 0.47424863910554316, 0.470640443816551, 0.47025840342020975, 0.473512894233931, 0.48042928103774174, 0.49067252471977224, 0.5036397494849779, 0.5185853282530701, 0.5347397151019655, 0.5513974357001948, 0.5679676739124347, 0.583993021816885, 0.599146445836114, 0.6132160164203176, 0.6260844824145037, 0.6377081717397844, 0.6550461745886722, 0.6435350656589433, 0.6301118939035617, 0.614584792991076, 0.5967875822542887, 0.576602171052993, 0.5539893283329972, 0.5290301067631534, 0.501980341219157, 0.4733398715392082, 0.4439347930793874, 0.41500140419745835, 0.38823823731846957, 0.3657532091923044, 0.3497957996075682, 0.3422092400188459, 0.3437610800955891, 0.3537741544341477, 0.37036369036245337, 0.39108757044905257, 0.4135620463806586, 0.4358024026122509, 0.4563173945097174, 0.4740737190975603, 0.48841847500921937, 0.49900305299290937, 0.5057241039176431, 0.5086843784285672, 0.5081710458807216, 0.504646787146235, 0.49874717680207004, 0.49127571411138266, 0.4831854317761225, 0.47553462224639287, 0.46940669228821863, 0.46579397380813903, 0.46546318462617614, 0.46883905857042885, 0.47594779205081, 0.48644312167308684, 0.4997036219118831, 0.5149633807933298, 0.5314350999695965, 0.5484001898793518, 0.5652596314169511, 0.5815519493719213, 0.5969490332092877, 0.611239764005382, 0.6243087061977383, 0.6361143824387959, 0.6533838454374645, 0.641510302768789, 0.6276491942719123, 0.6115933699027775, 0.5931584673928846, 0.5722050518308811, 0.5486694345943183, 0.5226058822398515, 0.49424346491542676, 0.4640607547811516, 0.43287936435329216, 0.4019687519317136, 0.3731310453345525, 0.34868471059248385, 0.33120141868895264, 0.32287142980410655, 0.32465350984007924, 0.335776467599449, 0.35404408974988505, 0.37667009286888514, 0.4010194027362797, 0.4249697543978643, 0.4469754149338846, 0.46599594434695035, 0.48139371442724804, 0.49284359179146714, 0.5002668018774773, 0.503788730452062, 0.503716401156734, 0.5005298953604224, 0.49488067173544137, 0.48758779254704865, 0.4796206593914914, 0.47205539006037966, 0.4659943676044175, 0.4624484538759531, 0.4621997711366937, 0.4656825858837516, 0.47292537298257636, 0.483577713893281, 0.49701016773279805, 0.5124479371135228, 0.529096187482675, 0.5462311648977675, 0.5632511002589247, 0.5796936878464347, 0.5952312479798646, 0.6096537506545328, 0.6228470477879786, 0.6347708456349177, 0.6518718220932702, 0.6396806151305982, 0.6254381288480224, 0.6089243915637801, 0.5899395432236375, 0.5683255476246595, 0.5439967390364668, 0.5169822297754589, 0.48748410579342644, 0.4559560110850226, 0.42320577347128246, 0.39051889644107546, 0.35977638087601455, 0.3334820200981827, 0.31451959674291136, 0.305441241407143, 0.3074178566036461, 0.3195836788540906, 0.3394182397967578, 0.36379244699207786, 0.3898386453208809, 0.41532043699401516, 0.43865634326553266, 0.4588105885312673, 0.4751669100587564, 0.48742591978031496, 0.4955333307189411, 0.4996355858225158, 0.5000568470499482, 0.4972907046393429, 0.4919991162926501, 0.4850093592544974, 0.4772974748889431, 0.4699452532954299, 0.4640602204477767, 0.46065807746124887, 0.4605255132677498, 0.46410102263494557, 0.4714169403644152, 0.48212641616721824, 0.49560342608229907, 0.5110765409346013, 0.5277542447061585, 0.5449159537560646, 0.5619627739666939, 0.5784348346493725, 0.5940063418188072, 0.608468541611221, 0.6217079428487468, 0.6336843248735229, 0.6505157647784534, 0.6380544886108804, 0.6234912919390637, 0.6065963889686309, 0.5871578755828426, 0.5650029420138688, 0.5400279467867461, 0.5122405865111521, 0.48181858136564854, 0.4491905801969268, 0.41514525827350535, 0.3809697823611922, 0.3485971894669795, 0.3206787755261521, 0.30037433546438846, 0.2905820973218919, 0.292690254310132, 0.3057483487425293, 0.32692716901578367, 0.35278411846473434, 0.38025382249270956, 0.40701382392956453, 0.4314640496054445, 0.4525815270905459, 0.46977375628435386, 0.48276631509786244, 0.49152699545166084, 0.49622000963860113, 0.49718269555891115, 0.4949173481008416, 0.49009035802381706, 0.4835293415370462, 0.4762068149939101, 0.469197701048508, 0.46360047561822926, 0.4604216617575073, 0.46044141549108886, 0.46409699814899574, 0.4714261520406847, 0.4820933893259986, 0.4954876643835356, 0.510853308997217, 0.527413098189508, 0.5444580383809008, 0.5613977895877832, 0.5777782119902036, 0.59327686595999, 0.6076864642362285, 0.6208935387954968, 0.6328568247838059, 0.6493174426866458, 0.636635215593223, 0.621814369458725, 0.6046187350676272, 0.5848284344272991, 0.5622606101322333, 0.5367989546417862, 0.5084353857383377, 0.47732859379535014, 0.443885919635812, 0.4088762711662667, 0.3735788625210209, 0.33995332575499304, 0.3107514346693041, 0.28934525113159526, 0.2789227092669118, 0.2810692561858369, 0.29477367763338946, 0.31695278839855523, 0.3439131585097211, 0.3724413295536508, 0.40015823261576394, 0.42545831191171524, 0.4473346180340697, 0.46521663512746597, 0.47885097512519814, 0.4882228158960762, 0.4935092093448713, 0.4950555210008687, 0.493367090256637, 0.4891080788035648, 0.48309820475658355, 0.47629617560428306, 0.4697576435223321, 0.4645582140763131, 0.46168172423703396, 0.4618911527272275, 0.46561725030402995, 0.472904510311727, 0.4834360696266964, 0.4966267564755945, 0.5117484573938565, 0.5280487930869574, 0.5448385593559094, 0.5615415847978183, 0.577712790186827, 0.5930346428186778, 0.6073016135058751, 0.6203997228739999, 0.6322856330825802, 0.6482745785543967, 0.635420631855439, 0.6204057055246958, 0.6029909425957376, 0.5829529663312738, 0.5601042138386012, 0.5343219578513031, 0.5055893966236703, 0.4740536744275607, 0.440107688893805, 0.40450441155607186, 0.368510850849957, 0.33409169364314073, 0.30404777942549743, 0.2818764075765538, 0.2709568044386118, 0.27302143687967223, 0.28703667832584695, 0.3097625085020959, 0.3373495519782815, 0.3664968961464492, 0.3947968587224827, 0.42064636026817515, 0.4430527183144202, 0.4614618019194004, 0.475634595723673, 0.48556704480237983, 0.4914427319391193, 0.49360889706136346, 0.49256754157704535, 0.48897347426979704, 0.4836301125575074, 0.4774722743320481, 0.4715245746683521, 0.4668269763253907, 0.4643283861348522, 0.46476505715167477, 0.46855644666772756, 0.47575480148948446, 0.4860680947059633, 0.49894655904293433, 0.5137001668385582, 0.5296110253810711, 0.5460174036099862, 0.5623627223707515, 0.5782143157586976, 0.5932612491229708, 0.6073002281523852, 0.6202164186812458, 0.6319635569701019, 0.6473808584233126, 0.6344030851910387, 0.6192561955780468, 0.6017024244577808, 0.5815195264032103, 0.5585208433552961, 0.532583923959149, 0.5036910463676655, 0.4719864979365542, 0.437857528874273, 0.4020479769558437, 0.36581251626296263, 0.3311035856015296, 0.3007196637966989, 0.2781830547085306, 0.26693567875647606, 0.268781471466915, 0.2827119750438809, 0.3054592162191264, 0.33313538061719694, 0.36241877809759954, 0.39089869953470974, 0.41697825432958135, 0.43967363988056846, 0.45843888618672224, 0.4730408642141234, 0.48347837449877984, 0.4899342673798941, 0.49275078134529054, 0.492419676964104, 0.4895790053660033, 0.4850075330974245, 0.4796066190661363, 0.4743591423460363, 0.47025824083284024, 0.4682074878746469, 0.46890843496334406, 0.47276519277744294, 0.47983834425976996, 0.48986550435911946, 0.5023399711462713, 0.5166185628714377, 0.532026193248941, 0.5479355061312803, 0.5638146121900078, 0.5792465971209461, 0.5939289782064852, 0.6076614147969024, 0.6203281348692498, 0.6318793419262146, 0.6466261144342984, 0.6335696492849957, 0.6183495292133264, 0.6007327566815822, 0.5805027395528392, 0.5574792299773192, 0.5315466612572369, 0.5026941523498482, 0.47107189379553743, 0.43707058363321144, 0.4014324716175827, 0.36540127580944504, 0.3309023835800171, 0.3006832724986918, 0.2781909516626654, 0.26679446506580595, 0.2682839026618931, 0.2817229249553439, 0.3039525430081864, 0.3311702298966846, 0.36010136360518136, 0.3883565059744055, 0.414347063490724, 0.43709148671698494, 0.4560428801227961, 0.4709648914849119, 0.48185076511184066, 0.4888749186771297, 0.492367334982248, 0.4928023586434057, 0.49079381066834943, 0.48708773578675263, 0.4825432493242807, 0.4780921925027431, 0.4746716496804911, 0.4731316439070599, 0.4741328888663119, 0.4780609646874424, 0.48498494205424963, 0.4946753224932423, 0.5066739998798349, 0.5203913234180636, 0.5352017286128464, 0.5505181351391355, 0.5658379755594745, 0.5807633434518293, 0.5950022107650597, 0.6083581716364288, 0.6207147323073757, 0.632018248986055, 0.6459966781076839, 0.6329025804631014, 0.6176627812057394, 0.6000524448340909, 0.5798647977954366, 0.5569310498402064, 0.5311485321010863, 0.5025201838649529, 0.47120983601577043, 0.4376194265905989, 0.4024956424173939, 0.3670712850642593, 0.33323000323023433, 0.3036240887526488, 0.2815374511023561, 0.2701492189271736, 0.27116008311918094, 0.2837420631004049, 0.30496285652387684, 0.3312169547018516, 0.3593412589041232, 0.386992497833304, 0.4125940287619648, 0.435161322530659, 0.45413846629278853, 0.46927738492871646, 0.48055765726158095, 0.4881376555365962, 0.4923278293953797, 0.4935779227919971, 0.4924702097332715, 0.4897104378288935, 0.48610769855420566, 0.48253509978686154, 0.47986656787473836, 0.47889265664399544, 0.4802290060795414, 0.4842403947879568, 0.4910041501213501, 0.5003253785448013, 0.5117979508566189, 0.52489026630962, 0.5390312501921243, 0.5536788433636853, 0.5683638351010416, 0.582710409380176, 0.596439093620913, 0.6093586426527343, 0.6213523617017949, 0.6323627566357917, 0.6454758911026762, 0.6323799988773818, 0.6171673241427951, 0.5996241548113004, 0.5795571349872228, 0.5568132291417061, 0.5313076715830618, 0.5030628330181809, 0.47226205995747766, 0.43932383436888245, 0.4050021868852438, 0.3705158281723813, 0.33769077374024475, 0.30904608933888267, 0.2876362558128112, 0.2763693269007483, 0.2768046978156918, 0.28824285246954756, 0.308057884055649, 0.332926872945838, 0.35985482852141787, 0.3865709734407305, 0.4115180215310662, 0.4337066300807579, 0.45256624411549407, 0.46783017836131247, 0.47945720602449077, 0.48758257617547296, 0.4924902199093891, 0.4945983295483818, 0.4944506788592341, 0.49270582439885297, 0.49011620978516723, 0.48749020860615977, 0.48563360577418246, 0.48527377826563023, 0.4869788502140002, 0.4910914059827652, 0.4976965052563224, 0.5066342312128582, 0.5175518412027589, 0.5299782343929779, 0.5434000407393921, 0.5573237323048318, 0.5713167835243187, 0.585028274467479, 0.59819340805591, 0.6106275199683268, 0.6222145139081651, 0.6328933463848997, 0.6450447508704203, 0.6319767610913899, 0.6168300134532796, 0.5994043331800271, 0.5795226625762212, 0.5570510650628565, 0.531926406952214, 0.5041943803501119, 0.4740614100146293, 0.4419647971636355, 0.40866515431149675, 0.375360404213623, 0.3438023145912077, 0.31634688934137906, 0.295778177660626, 0.2846923077793009, 0.2844826028896912, 0.29458257023239853, 0.31271004770343985, 0.33587772306464336, 0.3613034360309154, 0.3868156130687852, 0.4108879361459657, 0.4325286618477062, 0.4511502147474543, 0.4664626221055032, 0.47839811029133067, 0.48706257180083506, 0.4927069611670027, 0.4957113968642052, 0.49657473302274135, 0.49590226132011117, 0.4943843887584544, 0.4927604290581397, 0.49176502503648256, 0.49206065461876236, 0.4941670605195253, 0.49840403069505057, 0.504863647832315, 0.5134202628150447, 0.5237742654694747, 0.5355156714848525, 0.5481903882064842, 0.5613556904903277, 0.5746182866773757, 0.5876545831695341, 0.6002165041603714, 0.6121275067714511, 0.6232731206018345, 0.6335893273396074, 0.6446826607541352, 0.631665479295406, 0.6166145779027036, 0.5993451150780632, 0.579698407541979, 0.5575619090226389, 0.532896462750737, 0.5057731555462355, 0.4764227023183379, 0.4453005869397067, 0.4131700277403878, 0.381199000092591, 0.3510494862979103, 0.3248945098216909, 0.3052308622965703, 0.29433614728405566, 0.29343511914502624, 0.30208769018777126, 0.3183576341036921, 0.3396151586793768, 0.36332136424271, 0.3874286491599722, 0.41045633975503243, 0.4314166250831623, 0.4497058101252716, 0.4650083097244433, 0.47722561539141006, 0.4864290160143175, 0.4928306914231759, 0.49676672075965506, 0.4986852703124806, 0.4991331963187043, 0.4987347256417474, 0.49815735934554173, 0.4980633541414423, 0.49905024963339095, 0.5015898472910499, 0.50597921194853, 0.5123166626661726, 0.5205093236643015, 0.5303091682174264, 0.5413664305631769, 0.5532864221497812, 0.5656783198413036, 0.5781898052126767, 0.5905265856677654, 0.6024591844431715, 0.6138207558786977, 0.6244996435818907, 0.6344296548211501, 0.6443682485593621, 0.631417634498216, 0.6164831374099775, 0.5993964017856063, 0.5800183713508922, 0.5582591280357168, 0.5341044957100046, 0.5076513445100761, 0.4791538439785093, 0.4490827229634171, 0.41819772284161766, 0.3876269886737712, 0.35893027329998334, 0.3340881108855869, 0.3153127662292182, 0.30458019708006656, 0.30295832319313754, 0.31012074789388255, 0.32445619982041773, 0.34368977039489773, 0.3655418308029724, 0.388109246097093, 0.40997278470230936, 0.4301576992501585, 0.4480478010610106, 0.4633016693864618, 0.47578732537484664, 0.4855371716586964, 0.492719501132702, 0.4976209997609417, 0.500634088505177, 0.5022429489801582, 0.5030026825161099, 0.5035076400573131, 0.5043479362556315, 0.5060574906008624, 0.5090616303283803, 0.5136353238777714, 0.5198823563926871, 0.5277406276314441, 0.5370112228995005, 0.5474025312329289, 0.5585781950039783, 0.570199340126613, 0.5819555659428552, 0.5935833478438668, 0.604873436164373, 0.6156702082486087, 0.6258660961826782, 0.6353937009775352, 0.6440802147382885, 0.6312047274581779, 0.616397765940795, 0.5995079862169996, 0.5804164272088026, 0.559056065900111, 0.5354375292998391, 0.5096824690911724, 0.48206614364439315, 0.4530701486066833, 0.42344387391792554, 0.394266723587187, 0.366988234223187, 0.343396396193604, 0.3254352088404016, 0.3148087349425005, 0.3124466722908184, 0.3181214550807046, 0.3305138940149619, 0.3476850361072755, 0.3676180682797823, 0.38856916448884804, 0.40919556244131755, 0.4285460973278266, 0.44599755916940287, 0.46118405406249563, 0.473938554335179, 0.48425110001507626, 0.4922416030275751, 0.4981426019776393, 0.5022864324991972, 0.5050912756161993, 0.5070412727196043, 0.5086575180832733, 0.5104594421765074, 0.5129197101079899, 0.5164194119177936, 0.5212124844480371, 0.527407497439199, 0.534970866835184, 0.5437497332949922, 0.5535077489349747, 0.5639648773478186, 0.5748333438145679, 0.5858448685820238, 0.5967676339090227, 0.6074139341637202, 0.6176407697519308, 0.6273459490368906, 0.6364619408859683, 0.643798171120096, 0.6309994117339769, 0.6163220198551091, 0.5996316116348878, 0.5808290893303337, 0.5598697618603177, 0.5367879339036181, 0.5117280246606718, 0.4849830782449806, 0.45704061619977265, 0.428633173906085, 0.40078467281005226, 0.3748313057748507, 0.3523759412290472, 0.33511837046405657, 0.32452533440311937, 0.321408684565804, 0.32562507113536393, 0.3361107819875882, 0.35123509511016937, 0.36923823661675104, 0.388544713401596, 0.407901178796256, 0.4263906731283365, 0.44338933272753367, 0.45850909650421395, 0.4715470515754826, 0.4824479524382864, 0.49127931687758225, 0.49821531868299523, 0.5035245528600919, 0.5075567372702464, 0.5107242217196898, 0.5134757805383741, 0.5162625775061865, 0.5194991647871678, 0.5235251831400377, 0.5285749389005602, 0.5347612429707892, 0.5420766965164169, 0.5504111338900896, 0.5595800503127457, 0.5693570389136781, 0.5795038495141194, 0.5897938674191623, 0.6000274022618123, 0.610039260955698, 0.6197002811911879, 0.6289148835639599, 0.6376165251248921, 0.6435034333205449, 0.6307765574957817, 0.6162223602388661, 0.5997228643617186, 0.5811980171449066, 0.5606242393074715, 0.5380577016451338, 0.5136629536288111, 0.48774713974190714, 0.46079893499640545, 0.4335287036061848, 0.4069008760283988, 0.38213961985186856, 0.3606752321831329, 0.3439906197979616, 0.3333494917635177, 0.32946507423807764, 0.33226501314843715, 0.3409056344125988, 0.3540335652129768, 0.3701343489696441, 0.38780481505206293, 0.40589131044873017, 0.4235208685911248, 0.4400753849026098, 0.45514722588937456, 0.46849703478742327, 0.48002160785935044, 0.48973235963219064, 0.4977413268101506, 0.5042503394058214, 0.509538989022166, 0.5139478936088748, 0.5178553143009511, 0.5216473057851911, 0.5256840001235655, 0.5302667504389613, 0.535611883709249, 0.5418360738443141, 0.5489558413618607, 0.5569002638851277, 0.5655329790576165, 0.5746780638083308, 0.584144663755718, 0.5937468144567304, 0.6033168896869053, 0.6127128156043192, 0.6218202540283999, 0.6305513688268614, 0.6388417184433441, 0.6431797341274543, 0.6305142017725218, 0.6160694097669657, 0.5997428219570635, 0.581472153176849, 0.5612532391723688, 0.5391618722186239, 0.5153798166632416, 0.4902246933027522, 0.46418223096292915, 0.4379369154275121, 0.41239242827827005, 0.38866578252196293, 0.3680301916421183, 0.35177916303613727, 0.3410046531246647, 0.336337996402527, 0.3377663956155597, 0.3446343879713192, 0.35583560345673676, 0.37008620106998347, 0.3861555706247661, 0.40299737343618, 0.41979103731917505, 0.43593000429717893, 0.450989354541478, 0.4646925463000396, 0.47688568237125434, 0.48752048462240577, 0.49664343104727626, 0.5043871394530073, 0.510960151181615, 0.5166322036504133, 0.5217135736502022, 0.5265289251935205, 0.5313880376305015, 0.5365573737607205, 0.5422371104008639, 0.5485475796133317, 0.5555271089406042, 0.5631406345857519, 0.571296146717234, 0.5798647977625719, 0.5887006050606927, 0.5976567874268066, 0.6065972882255356, 0.615403405225124, 0.623976360971573, 0.6322370497321486, 0.6401241932395018, 0.6428138307272655, 0.6301943496210799, 0.6158389987302906, 0.5996594010261987, 0.5816094300425573, 0.561702331879913, 0.5400310604891229, 0.516791670043768, 0.4923089948765361, 0.46706265667709784, 0.4417092480616189, 0.4170928431445125, 0.3942306667220932, 0.37425551493653525, 0.3582972856530309, 0.347303328127738, 0.34183696820129195, 0.3419353189848087, 0.3471038340853019, 0.3564554638822015, 0.36892158275076475, 0.38344201247145826, 0.39908307052502706, 0.4150833520025709, 0.4308525174732478, 0.445949825254269, 0.4600602034808941, 0.4729759758046746, 0.4845855410959541, 0.4948666763654749, 0.5038808840280892, 0.5117654287738818, 0.5187207324788393, 0.5249922206102305, 0.530847305372034, 0.5365497199213296, 0.542334563853496, 0.5483878102470678, 0.554833409839573, 0.5617295864726815, 0.5690739163958999, 0.5768150015319595, 0.5848675506833003, 0.5931276716975536, 0.6014859520655933, 0.6098370416581745, 0.6180855315974633, 0.6261486853955343, 0.6339569460904939, 0.6414531754445547, 0.6423959850379954, 0.6298036003230767, 0.6155129693923037, 0.5994483708266704, 0.5815780152094865, 0.5619303912268022, 0.5406131083961625, 0.5178337560572189, 0.4939216369420075, 0.46934810260998017, 0.4447413668573633, 0.4208888925762465, 0.39871697180754245, 0.37923457034698815, 0.36343114399475696, 0.352132282886962, 0.34584450330787525, 0.3446468594824459, 0.3481830652488165, 0.3557614261393378, 0.36651401534166456, 0.37954782222651134, 0.3940454019072928, 0.40930960457347115, 0.4247695079108801, 0.4399687593461792, 0.45455144368066236, 0.46825243479566814, 0.4808930298660097, 0.4923794189115918, 0.5027006354149349, 0.5119231272423063, 0.52018022824075, 0.5276561609159567, 0.5345655374786459, 0.5411304874667608, 0.5475583221488258, 0.5540228212383418, 0.5606516593265276, 0.5675212636301377, 0.5746588542674604, 0.5820500452296268, 0.5896495850738736, 0.5973927479703905, 0.6052054239711951, 0.6130118044356027, 0.6207393997775701, 0.628321745891095, 0.6356994722068754, 0.6428204485834004, 0.6419203031298194, 0.6293335823385737, 0.6150797215757565, 0.5990940182764112, 0.5813570892129635, 0.5619104500190315, 0.5408739299678617, 0.518464165047925, 0.49501273226689935, 0.47098145148414944, 0.4469708853740908, 0.42371612945935894, 0.40206203381343436, 0.3829094282904481, 0.367127563539345, 0.3554391735419841, 0.3483029143883749, 0.34583338895434274, 0.34779431305697783, 0.3536694992060464, 0.362779081791609, 0.3743937687348264, 0.3878146562852194, 0.4024122511390199, 0.41763647942879334, 0.4330139635473091, 0.4481443674609237, 0.46270070426830096, 0.4764332160474864, 0.489173923246193, 0.5008386443129246, 0.5114241805104011, 0.5209996425803224, 0.5296921485106433, 0.5376681917254799, 0.5451127958670955, 0.5522090399537316, 0.559120535455134, 0.5659788999135611, 0.5728772811278431, 0.5798697912885776, 0.5869756518242493, 0.5941862160292742, 0.6014729468897023, 0.6087948030793756, 0.6161041157408953, 0.6233506858174941, 0.6304843217842022, 0.6374562950596709, 0.6442202288717712, 0.6413849263355244, 0.6287811897964736, 0.6145344945422437, 0.5985894658881773, 0.5809371729975634, 0.5616299805178501, 0.5407976412466727, 0.5186636414692664, 0.49556013055003756, 0.4719388380066082, 0.44837422531325843, 0.42555392085315946, 0.4042507814480759, 0.3852718273620783, 0.3693834727278257, 0.3572211482088828, 0.3492029091941838, 0.34547407825604415, 0.3459041970666851, 0.3501369106843069, 0.3576702149323511, 0.3679355404892569, 0.3803538798263806, 0.394365053538808, 0.40943920033578574, 0.4250825426088966, 0.4408452630653457, 0.4563333122368624, 0.4712218300057031, 0.48526652282272076, 0.49830997204145067, 0.5102812711353584, 0.5211888044908553, 0.531107083180375, 0.5401593224145379, 0.5484979241969113, 0.556285214233203, 0.5636766277007456, 0.5708080198393501, 0.5777879617930937, 0.5846949474712849, 0.5915786207246806, 0.598463636654375, 0.6053546831001064, 0.6122414553260375, 0.6191028462020453, 0.6259101070992441, 0.6326291122476143, 0.6392220555708678, 0.6456489299506898, 0.6407920728914425, 0.6281486214458963, 0.6138793905013963, 0.5979366564350145, 0.580320033410136, 0.5610906546347562, 0.5403860718086775, 0.5184346935929101, 0.49556791467264844, 0.47222726651952185, 0.4489630707126961, 0.42642050834871487, 0.40530932796490676, 0.3863554477234196, 0.37023719752716217, 0.3575155838785292, 0.3485742420676598, 0.3435860524702832, 0.34251604498458277, 0.34515611967809606, 0.35117463858522546, 0.36016155485602946, 0.3716582721714452, 0.3851736374736322, 0.4001949326034132, 0.4162023264915446, 0.4326898523147942, 0.4491904895449216, 0.4653003472721882, 0.4806973440006218, 0.49515169889641686, 0.5085275876752187, 0.5207767988877247, 0.5319260850177252, 0.5420603159024091, 0.5513036777914301, 0.5598010891601426, 0.5677017192714906, 0.5751459880071513, 0.5822567425850923, 0.5891345697598372, 0.5958565734946174, 0.602477567737366, 0.6090325618453704, 0.6155396133315035, 0.6220024757204258, 0.6284128419292035, 0.6347522658089579, 0.6409939819150471, 0.6471048400942994, 0.6401479346330478, 0.6274432301091115, 0.6131231535277533, 0.5971460272814413, 0.5795182040382878, 0.5603076425944494, 0.5396577477153975, 0.5178001389257739, 0.4950643604298357, 0.4718818240690123, 0.44878069232468365, 0.4263683709521863, 0.40529941882325815, 0.38622961630458047, 0.3697616598038702, 0.35639299678711184, 0.3464785587641172, 0.3402175088661682, 0.33766376434813666, 0.3387499256321954, 0.3433100297663163, 0.3510912384791481, 0.36175489459131693, 0.37487623065501574, 0.3899536913656354, 0.40643315800967583, 0.42374423582958803, 0.44134057052920656, 0.45873579240955104, 0.47552955736244384, 0.49142170933590673, 0.5062152363032083, 0.5198100880872637, 0.5321903986180084, 0.5434076437292149, 0.5535620537575828, 0.5627842965527308, 0.571219054852314, 0.5790116261050384, 0.5862980946507734, 0.5931990423177324, 0.5998162821048612, 0.6062318148625517, 0.612508159634338, 0.6186893624851045, 0.6248022589425393, 0.6308578454723018, 0.6368528188885648, 0.6427714263041849, 0.648587737379672, 0.6394624383131327, 0.6266771967901188, 0.6122807245632738, 0.5962359041395018, 0.5785541634436622, 0.5593085081137968, 0.5386464235976566, 0.5168011849807366, 0.494099479852787, 0.47096262072521905, 0.4478982667213303, 0.42547998010596333, 0.4043137652942071, 0.3849944140453133, 0.36805942799677155, 0.35395212013238014, 0.3430045415320932, 0.3354430567246219, 0.33140766514105224, 0.33096815146323905, 0.33412238045818327, 0.3407741935685181, 0.35070300077294997, 0.36354476664439234, 0.37879959575691347, 0.39586800087152807, 0.4141054374538743, 0.4328798581958259, 0.4516199670264907, 0.46984808971467856, 0.4871970230871058, 0.503413305667352, 0.5183503963262523, 0.5319551601164603, 0.5442505612035261, 0.5553169136932091, 0.5652735432161562, 0.5742622447819887, 0.5824334459620323, 0.5899354941123423, 0.5969070240613764, 0.603471997733696, 0.609736801302851, 0.6157887614971325, 0.6216955717539876, 0.6275053308971784, 0.6332471073564552, 0.638932081754456, 0.644555357322362, 0.6500984693718243, 0.6387488854793526, 0.6258670487959072, 0.6113725989169758, 0.595231649453606, 0.5774592162865252, 0.558131756500605, 0.5373992298521064, 0.5154951161890143, 0.49274221383587335, 0.4695515018319643, 0.446411193337804, 0.42386389047339457, 0.40247214508948387, 0.3827770291754534, 0.3652594817932769, 0.3503170941184467, 0.33826543331929204, 0.32936150920106844, 0.3238325897368485, 0.3218863219520201, 0.3236854711695356, 0.32929059181995307, 0.33859521748284854, 0.35128644250572755, 0.36685226398463777, 0.38463372268589363, 0.4039013604901361, 0.42393177675210286, 0.4440679667361068, 0.4637577127113809, 0.4825716331907436, 0.5002055786260154, 0.5164723709721045, 0.5312870510658225, 0.5446487798639913, 0.5566216938870463, 0.5673163771760994, 0.5768731075804202, 0.5854475913940534, 0.5931994880800203, 0.6002836629867975, 0.6068438334093342, 0.6130081316366887, 0.6188861090687313, 0.6245668206348725, 0.6301177998609508, 0.635584892788362, 0.64099300824126, 0.6463478388207506, 0.651638523414308, 0.6380234885186391, 0.6250330456042946, 0.6104240175562862, 0.5941646054452082, 0.5762721264178666, 0.5568250922316584, 0.5359744941238942, 0.5139526388814035, 0.4910773026180161, 0.46774851544158347, 0.4444353239837109, 0.421650997006036, 0.39991802302131624, 0.3797290706617731, 0.36151543302748496, 0.34563661276102964, 0.3323989418817754, 0.32209629869180517, 0.3150486590857206, 0.31160671301590637, 0.31210231710532627, 0.31675307167465444, 0.3255597126316156, 0.33824570255509323, 0.35426807646431896, 0.3728912897962081, 0.39328988304563695, 0.4146450877127793, 0.43621583650194157, 0.4573804269496042, 0.477653821559847, 0.496687893386779, 0.514261039049367, 0.5302618635683781, 0.5446701386669481, 0.5575371765802407, 0.5689670557121, 0.5790996366972886, 0.5880959114585691, 0.5961258871625609, 0.6033589233758856, 0.6099562408164693, 0.6160652292246457, 0.6218152035749397, 0.6273143653720764, 0.6326478680502746, 0.6378770041682733, 0.6430395820286448, 0.648151523814929, 0.6532096117508873, 0.637304823407823, 0.6241984597793618, 0.6094640276658205, 0.5930708764677506, 0.5750375556098564, 0.5554434461841056, 0.5344392971609049, 0.5122549316838019, 0.4892018485289073, 0.46566808924866065, 0.44210296971729873, 0.4189907128937667, 0.3968153384163834, 0.37602441857717483, 0.35700478258648266, 0.34008470053626266, 0.32556936822459864, 0.31379856685136065, 0.30519486632665327, 0.30026210118566493, 0.2995089100106395, 0.30331035911206233, 0.3117633943669062, 0.3246064876146583, 0.34124098631774924, 0.36083499372387645, 0.38245675420573916, 0.40519093028723013, 0.42821723090340585, 0.4508520906394987, 0.47256295258962466, 0.49296517985583405, 0.5118090928568857, 0.5289620090813527, 0.5443883013045695, 0.5581293444989918, 0.5702845338708145, 0.5809941090205238, 0.5904241838645167, 0.5987541062305584, 0.6061660515908748, 0.6128366109261537, 0.6189300803245179, 0.6245931982468416, 0.6299511791555903, 0.6351050136055337, 0.6401300943089998, 0.6450762475088753, 0.6499691879965548, 0.6548132926274304, 0.6366132218314905, 0.6233887829136912, 0.6085244513505642, 0.5919899996848162, 0.5738043672431888, 0.5540468400140672, 0.5328668324381322, 0.5104904598844912, 0.48722159728367054, 0.4634348802585881, 0.4395585483366761, 0.4160467978476753, 0.3933450396919255, 0.37185706333045593, 0.3519286032728668, 0.33386255308804313, 0.3179715567630154, 0.3046527757178576, 0.2944456196737991, 0.2880224842117193, 0.28608055247408826, 0.2891527860210409, 0.29741608197717423, 0.310594436462229, 0.3280024051618069, 0.3486902336814042, 0.3716119321355153, 0.39575848272284586, 0.4202390072543167, 0.44431830410146, 0.4674257957624757, 0.48914823261940066, 0.509214061063099, 0.5274740162001931, 0.5438805132595445, 0.5584673426091974, 0.5713305908139361, 0.582611349073897, 0.592480501829798, 0.6011256682099375, 0.6087401980164779, 0.6155140192205075, 0.6216261084835191, 0.6272384057631641, 0.6324910926717919, 0.6374992598155197, 0.6423510557747713, 0.6471074076107277, 0.6518033226703497, 0.6564506444873275, 0.6359701265428613, 0.6226308881973361, 0.6076388036870095, 0.5909635566814395, 0.5726238601325747, 0.5526981649157564, 0.5313336548997714, 0.5087516373410592, 0.4852470006394902, 0.4611793084193021, 0.43695378905522464, 0.41299260835479973, 0.38970094872638084, 0.36743831140465094, 0.3465108586226413, 0.327200591230201, 0.30983592069975446, 0.2948843651476949, 0.2830201123798352, 0.27510493462297636, 0.2720410350109633, 0.274519811757671, 0.2827754466870848, 0.2964785383748075, 0.3148195458152004, 0.3367093369034868, 0.36098406075693923, 0.38654914837168786, 0.4124557923608388, 0.43792965450947074, 0.46237249477413533, 0.48535032506699965, 0.5065754474696671, 0.5258860770642994, 0.5432254593679502, 0.5586215737739743, 0.5721681112088548, 0.5840071606061308, 0.5943138337548124, 0.6032828802875342, 0.6111172060691784, 0.618018128701343, 0.6241771946966692, 0.6297694380040509, 0.6349480532623956, 0.6398405498955639, 0.6445465038862338, 0.6491370047333083, 0.6536558014884689, 0.6581220056824019, 0.635397434053257, 0.6219521815636312, 0.6068412021384325, 0.590033780599215, 0.5715480021959182, 0.5514609614994069, 0.5299169225638182, 0.5071314523502168, 0.4833891771658497, 0.4590328659211691, 0.434442517493527, 0.41000566063780425, 0.38608463547076416, 0.3629927568309258, 0.34099645040891136, 0.32035958253966634, 0.3014333469168955, 0.2847684781434731, 0.2711939703631692, 0.261786465760755, 0.2576747196938897, 0.2597094499344431, 0.2681522487961204, 0.282571475499879, 0.30199147952387334, 0.32516494863707185, 0.35081294416491116, 0.37776935926765615, 0.4050437242766711, 0.43183653988768805, 0.4575323736269245, 0.481683811855132, 0.5039919429718923, 0.5242857139296476, 0.5425012681061655, 0.558661956802597, 0.5728595384745475, 0.5852369353114494, 0.5959727617887376, 0.6052676873826365, 0.6133325735282528, 0.6203782572478747, 0.6266068515043456, 0.6322044877146465, 0.6373355132221158, 0.6421382381557813, 0.6467223639282098, 0.6511681945438934, 0.6555276296395747, 0.6598267871123124, 0.6349168478762757, 0.6213797722531744, 0.6061653081993681, 0.5892422127860865, 0.5706277349563407, 0.5503972932996669, 0.5286917495887337, 0.5057202051255296, 0.4817559456481529, 0.4571233899114416, 0.4321751872609691, 0.4072615842287627, 0.38269918646218404, 0.358752572043895, 0.3356470925334316, 0.31362943316294184, 0.29307822534377603, 0.2746379792952966, 0.2593117776589319, 0.24841904883079907, 0.24334096944986042, 0.24508889748604862, 0.25391481728102594, 0.269227504454027, 0.28984209428395014, 0.31434071134773534, 0.3413401646046876, 0.3696223511593232, 0.3981737577091831, 0.42618390694302805, 0.45302983400175734, 0.47825689899254664, 0.5015588307764626, 0.5227576430617468, 0.5417837101705532, 0.5586563747394997, 0.5734655150016325, 0.5863544459493601, 0.5975044021057795, 0.60712070361162, 0.6154205864136131, 0.622622610017719, 0.6289375526541607, 0.6345607546942131, 0.6396659506235447, 0.6444007013598022, 0.6488835663890603, 0.6532031161775734, 0.657418778527558, 0.6615633602263046, 0.6345492636326583, 0.6209396909877299, 0.6056433387161757, 0.5886284589934502, 0.5699114161886571, 0.5495658050055702, 0.5277287942471892, 0.5046025228682253, 0.48044814914493117, 0.45557057151800506, 0.4302934702117046, 0.4049277641888886, 0.37974203712938037, 0.35494996923578964, 0.33073429264842047, 0.30732412966006495, 0.285127222815549, 0.26488779814305496, 0.2477974835300506, 0.23544421816174335, 0.22948874182760107, 0.23110418822065495, 0.24049057474604973, 0.2568361768136523, 0.27870918607547746, 0.30451931450149655, 0.3327983841016446, 0.36229955502797634, 0.3920050943435136, 0.4211063237482699, 0.4489806342588905, 0.47517077162361787, 0.49936570488727394, 0.5213819093533129, 0.5411446345270697, 0.558669337213222, 0.5740437208855238, 0.5874108277401573, 0.5989535061733184, 0.6088804185140633, 0.6174136210821061, 0.624777672391999, 0.6311902141919263, 0.6368540129624337, 0.6419505197044512, 0.6466350677563177, 0.6510338479790954, 0.6552427566900377, 0.6593281037912186, 0.6633290182001165, 0.6343142044508889, 0.6206561798470606, 0.6053051786373138, 0.5882290875438199, 0.5694434584264435, 0.5490200455352469, 0.5270921950229247, 0.5038548139130469, 0.4795564988473536, 0.4544820180676015, 0.4289253202925181, 0.403157163494871, 0.37739734621751037, 0.35180809211557007, 0.3265291267577584, 0.30177146052142784, 0.27797093018335367, 0.25597112864811006, 0.23715712755258134, 0.2234014553613198, 0.21666581982816144, 0.21828380814498152, 0.228360557039201, 0.24580961056742526, 0.26892919674318094, 0.295968534934789, 0.32540030090284733, 0.35597249263834385, 0.3866794003558963, 0.4167238319982065, 0.4454888312112867, 0.47251725086400304, 0.4974946036451714, 0.5202323505141047, 0.5406506744324695, 0.5587608730588745, 0.5746479171723579, 0.5884537475572817, 0.6003617384419869, 0.6105825709842084, 0.619341606123824, 0.6268677544750253, 0.6333838179513535, 0.6390983101472238, 0.6441988224851302, 0.6488470559120469, 0.653175651000823, 0.6572869027547938, 0.6612533400670074, 0.6651200041187847, 0.6342293214974659, 0.6205510726919112, 0.6051776193522729, 0.5880767010325811, 0.5692632057982437, 0.5488071152825386, 0.5268379409963105, 0.5035432900203297, 0.479159133887226, 0.4539501643407009, 0.4281809426528415, 0.4020829159521659, 0.37582863285130075, 0.3495310400928754, 0.32328912383083075, 0.2972967760812577, 0.2720156365295433, 0.24838185829795126, 0.22796525161039727, 0.21291976588547032, 0.20551184750913482, 0.2072269590064891, 0.21804078108075364, 0.23656088282382837, 0.26081780613313726, 0.288926535654433, 0.31932856895851847, 0.35078615722451506, 0.38231644666044046, 0.41313895893685476, 0.44264460179448245, 0.4703771003124499, 0.4960186238336127, 0.5193754251427437, 0.5403622397973286, 0.5589856588797657, 0.5753271925556458, 0.5895267554015183, 0.6017671218990278, 0.6122596802794207, 0.6212316321027676, 0.6289146744581525, 0.6355351644844194, 0.6413057862170807, 0.6464187890623005, 0.651040911274816, 0.6553101095861984, 0.659334168782963, 0.6631911624020446, 0.6669315968629465, 0.63430997045309, 0.6206432790618289, 0.6052837380291637, 0.5881992001469057, 0.5694040724138892, 0.5489666685135414, 0.527012721608049, 0.503722628194182, 0.4793200165467989, 0.4540502363269393, 0.42815000889071, 0.40181423537429817, 0.3751724865638374, 0.3482940910140367, 0.3212433771975408, 0.2942013417361949, 0.26765397798271146, 0.2426183502533237, 0.2208250010690985, 0.20467782776149976, 0.1967192089075101, 0.19856372635268313, 0.21004385191671357, 0.22947236694195366, 0.254647825287692, 0.28358827796400127, 0.3147280701595564, 0.34685472050914384, 0.3790116231805737, 0.4104351118142866, 0.44052304723035235, 0.46881902578882595, 0.49500103122033084, 0.5188694077872954, 0.5403327928555437, 0.5593923771063825, 0.5761254047374255, 0.5906688074575899, 0.6032036391326163, 0.6139407203689726, 0.6231076943436699, 0.6309375653511162, 0.6376587396047523, 0.6434865957368261, 0.6486166510509499, 0.6532194254602799, 0.6574371084963522, 0.6613820880045231, 0.6651373018119286, 0.6687582432358058, 0.6345688706807794, 0.6209483784990909, 0.6056424244631566, 0.5886192447635658, 0.569892945062372, 0.549530270536949, 0.5276532529784805, 0.5044352712403535, 0.48008817688017974, 0.4548393250154903, 0.4289002758005749, 0.4024339963634863, 0.3755340534692293, 0.34823536087931256, 0.32057779954229276, 0.2927377539029183, 0.26522665317743543, 0.23912847826371467, 0.21629669132611762, 0.1993212732733476, 0.19094794692779068, 0.1928778088228413, 0.20481879734590908, 0.22485643981255657, 0.2506274776330795, 0.2800951675335313, 0.31170163478679097, 0.3442600162128631, 0.37683545731700324, 0.40867635386261447, 0.4391839378796209, 0.46789932243134974, 0.494494829216479, 0.5187639215808907, 0.5406083846049945, 0.5600232853216451, 0.577080800391663, 0.5919139453630459, 0.6047009733543723, 0.6156509214820255, 0.6249905519624394, 0.6329527877568839, 0.6397666769540852, 0.6456489160884005, 0.6507969909381518, 0.6553840216057593, 0.6595553986204339, 0.6634272516111878, 0.6670867011777781, 0.6705937237133744, 0.6350158500619151, 0.621478326816933, 0.6062680539605649, 0.5893539054904602, 0.5707498345954851, 0.5505210806458272, 0.5287860330435634, 0.5057112960084725, 0.48149771263923197, 0.4563564670336496, 0.4304775401191439, 0.4039980598320053, 0.37698472200815153, 0.3494500440135575, 0.32142295662022746, 0.29308687201100536, 0.2649822552447631, 0.23824524197452013, 0.21480444098673743, 0.1973444860244563, 0.18870077296468446, 0.1906000701207234, 0.20267909088904443, 0.22291652510442447, 0.24888352666558583, 0.2785297462118592, 0.31030964589258986, 0.3430526924319334, 0.3758348868245572, 0.4079083243307879, 0.4386722160810308, 0.46766204104709813, 0.494542699711303, 0.5190997514507177, 0.541227413397756, 0.5609139691285779, 0.5782257919660343, 0.5932911128097458, 0.6062843715917107, 0.6174116812200823, 0.6268976852747415, 0.6349739305521063, 0.6418687983346613, 0.6477990235254243, 0.6529628496118907, 0.6575348886995567, 0.6616627529404188, 0.6654654807549949, 0.6690336974286692, 0.672431339000257, 0.6356576752862811, 0.6222412714306021, 0.6071702985841302, 0.5904144898409631, 0.5719877469755451, 0.5519538112443955, 0.5304274454000046, 0.5075687266951859, 0.4835683682128196, 0.45862349982928996, 0.4329066652976876, 0.4065361342270433, 0.37956206782193774, 0.35198801261414747, 0.3238468396401475, 0.29534171974750834, 0.26704614075556404, 0.24013237006046168, 0.21655097894496333, 0.1989763728368034, 0.19020074150102315, 0.1919097707678951, 0.2037434363038767, 0.22372078102201198, 0.24945373499613516, 0.2789162868285804, 0.31057312267777926, 0.34325537419438773, 0.37603571261375957, 0.40815988240976725, 0.43901897342478663, 0.4681394902097858, 0.4951771995694613, 0.5199088638382235, 0.5422205573884024, 0.5620932452684578, 0.5795868663243869, 0.5948240887406395, 0.6079746112528196, 0.6192405671387606, 0.6288433336260373, 0.6370118815002954, 0.6439727138967286, 0.6499414194059684, 0.6551158748957175, 0.6596711484245523, 0.6637561473960726, 0.6674920168761799, 0.6709722166230108, 0.6742641052057181, 0.6364979649284851, 0.6232414697749743, 0.6083540651672342, 0.5918065221982242, 0.5736127383091251, 0.5538349043457225, 0.5325841181548663, 0.5100141491989683, 0.4863064806809635, 0.46164639738442986, 0.43619330719483373, 0.4100537703277028, 0.383271782682113, 0.35585500228631983, 0.3278541099201967, 0.29950282161653663, 0.27140881196182254, 0.24476154339372488, 0.22147967722507375, 0.2041281641119202, 0.1953367223004918, 0.1966949482438723, 0.20791756414690704, 0.22719928474586573, 0.2522910978421017, 0.28122679808527207, 0.312479157498809, 0.34486682621533427, 0.3774454929885926, 0.40944498015068775, 0.44024258536550537, 0.469352875636454, 0.49642108954447783, 0.5212145557378971, 0.5436108310182667, 0.5635831809368184, 0.5811845999184059, 0.5965315164229591, 0.6097880515765466, 0.621151393282354, 0.6308385965102092, 0.6390749508623897, 0.6460839654836221, 0.652078990295571, 0.6572564953589455, 0.6617910395424528, 0.6658319525790117, 0.6695017172963639, 0.6728959699364552, 0.6760849467495221, 0.6375371809382204, 0.6244793030492801, 0.6098195468737112, 0.5935298556643799, 0.5756241183801679, 0.5561628690964306, 0.5352534501657276, 0.513043493540865, 0.48970609712332586, 0.4654168091576652, 0.4403259668029378, 0.41453502960107336, 0.3880910936764919, 0.36101701367846517, 0.33339194202551625, 0.3054864079010607, 0.27793821743615416, 0.25193167068039235, 0.2293044225358783, 0.21243549258115613, 0.20371254313008672, 0.20459769173581682, 0.2149282977116694, 0.23316694531906135, 0.25727873887176794, 0.2853907180165681, 0.31598725060383126, 0.34786607430442695, 0.38005618767795296, 0.41176432300455934, 0.44234972774758385, 0.47131290674411347, 0.4982876903965361, 0.5230316668691503, 0.5454137222922448, 0.5653991992005608, 0.5830337576876273, 0.5984270094776146, 0.6117367530048323, 0.6231543546531276, 0.6328915824392664, 0.6411690328085737, 0.6482061983200499, 0.654213187632344, 0.6593841057471377, 0.663892106947569, 0.6678861242659775, 0.6714892450265187, 0.6747986404681982, 0.677886877867788, 0.6387726930960734, 0.6259513768175301, 0.6115623752794789, 0.5955788959588807, 0.5780147727334803, 0.5589287355222895, 0.5384242383410602, 0.516642887368385, 0.4937501233395285, 0.46991360333142035, 0.44527808967664984, 0.41994543060913514, 0.3939731036925256, 0.36740707526304545, 0.34036109278306687, 0.3131431096044984, 0.28641157022169306, 0.26132183317379526, 0.23959198736227247, 0.22337052036715688, 0.2147705657386377, 0.21511922027217115, 0.224393933888608, 0.24136360786692165, 0.26425109119071016, 0.29130597216237525, 0.3210352379125543, 0.35221571947289687, 0.38384609009435516, 0.41510653629428323, 0.44533610211257757, 0.47402026304327827, 0.500781198497833, 0.52536681083958, 0.5476373804919266, 0.5675502480417695, 0.5851434575931315, 0.6005193191257097, 0.6138286499760713, 0.6252562057872993, 0.635007592181098, 0.6432977916604389, 0.6503413485551013, 0.6563442150591491, 0.6614972528413555, 0.6659713849863683, 0.6699143832230032, 0.6734492440679379, 0.6766740529721017, 0.6796631656159238, 0.6401989103315704, 0.6276506999462033, 0.6135738612127573, 0.5979429213059341, 0.5807715816497147, 0.5621165956526734, 0.5420773680097226, 0.5207895306587675, 0.4984114373563115, 0.47510432025491706, 0.45101006431374346, 0.4262349088018854, 0.40085152501522286, 0.37493325089703117, 0.3486297977237415, 0.32228202341515216, 0.29655599086203843, 0.27255658551103984, 0.2518583442306117, 0.23636593052493257, 0.22792351985608716, 0.22773162082613727, 0.23590017507873848, 0.25149729029514556, 0.27301574796227096, 0.29884927808599243, 0.32754401342506645, 0.35786412807393186, 0.3887809083323232, 0.4194487666089099, 0.4491868278312792, 0.47746589227799857, 0.5038969401719049, 0.5282186086686634, 0.5502828400493459, 0.5700390200812931, 0.5875173885737864, 0.6028125508588215, 0.6160677656270899, 0.627460472189943, 0.6371893254421304, 0.645462862467311, 0.6524898367069321, 0.6584712141190975, 0.6635938131704692, 0.6680255672364898, 0.6719123772456493, 0.6753764939109869, 0.67851632090135, 0.6814074693737124, 0.641807472329921, 0.6295669335213286, 0.6158413140509231, 0.600606486145701, 0.5838759225171454, 0.5657042184513599, 0.5461865548522166, 0.5254525848666544, 0.5036539670109997, 0.48094653551227745, 0.4574710919706379, 0.43334065723603066, 0.40864538157882946, 0.38348677186599633, 0.3580478673587107, 0.3326944816472782, 0.3080866339958818, 0.2852627943799032, 0.2656451829108862, 0.2509051801723011, 0.24264595877596756, 0.24195665704377814, 0.24905716859978663, 0.2632788270357948, 0.28337148177672966, 0.30788436482247666, 0.3354208531943934, 0.3647466223243353, 0.39481415659795305, 0.42475684271524217, 0.45387658158683547, 0.4816311869211197, 0.5076215887270097, 0.5315779345037662, 0.5533442819440837, 0.5728622194183853, 0.5901540755934825, 0.6053064227405581, 0.6184544599519789, 0.6297676860254163, 0.6394371025762489, 0.6476640579147898, 0.6546507595840471, 0.6605924415689315, 0.665671156561782, 0.670051157464797, 0.6738758208519079, 0.6772660392770666, 0.6803199673542952, 0.6831139538905011, 0.6435874943667547, 0.6316867013678089, 0.6183484301102008, 0.603549899199357, 0.5873042477985184, 0.5696637354799553, 0.5507191446297847, 0.5305940976900937, 0.5094337719966573, 0.4873891885129127, 0.4646009730559667, 0.44118980587198375, 0.4172633753218652, 0.39294938231782184, 0.368458863090215, 0.34417328368690103, 0.320734863657114, 0.2991068818525803, 0.2805631312843514, 0.2665662759020823, 0.25851482151386257, 0.2574020799870082, 0.2635294807516339, 0.2764428271526297, 0.29512031088889984, 0.31826770539617494, 0.34456161417700043, 0.37278608384416223, 0.40188721084064954, 0.4309852483655593, 0.4593696476497667, 0.48648813799113083, 0.5119334004673967, 0.5354282030238963, 0.556809345919051, 0.5760108793946411, 0.5930471902339737, 0.6079965609425573, 0.6209857056713353, 0.6321756398676357, 0.6417490952160713, 0.6498995758769431, 0.6568220755963962, 0.6627054339183513, 0.6677262918569952, 0.6720445987811314, 0.6758006102643633, 0.6791132932634584, 0.6820800184941781, 0.6847773747461889, 0.6455258576867512, 0.633993953364804, 0.6210757407593268, 0.60674976717565, 0.5910287327614339, 0.5739623979189857, 0.555636982823697, 0.5361699928462553, 0.5157001810450558, 0.4943739447261156, 0.4723318723843785, 0.44970193470253256, 0.4266077227392162, 0.4031993169394144, 0.379709141117331, 0.3565254228934089, 0.33426418907852384, 0.31381154725829763, 0.2963051505813713, 0.283028920154355, 0.2752123028278828, 0.2737655441685943, 0.2790433319329627, 0.29075583139726013, 0.30807372787101456, 0.32985206573685133, 0.3548522936806239, 0.3818934634512061, 0.40992943039016877, 0.43807719580028204, 0.46562007027314645, 0.49199958538796057, 0.5168025398879453, 0.5397457372709327, 0.5606595128791478, 0.5794707391630487, 0.5961859082003117, 0.6108748304190206, 0.6236553880909472, 0.634679654253097, 0.6441215616662904, 0.6521662039039257, 0.6590007803829947, 0.6648071568281775, 0.6697559931276693, 0.6740023799645825, 0.6776829132054668, 0.680914113844074, 0.6837920696987249, 0.686393136665247];\n",
       "const xvar = \"x1\";\n",
       "const yvar = \"x2\";\n",
       "const x_is_log = false;\n",
       "const y_is_log = false;\n",
       "\n",
       "const GREEN_SCALE = [[247, 252, 253], [229, 245, 249], [204, 236, 230], [153, 216, 201], [102, 194, 164], [65, 174, 118], [35, 139, 69], [0, 109, 44], [0, 68, 27]];\n",
       "const GREEN_PINK_SCALE = [[142, 1, 82], [197, 27, 125], [222, 119, 174], [241, 182, 218], [253, 224, 239], [247, 247, 247], [230, 245, 208], [184, 225, 134], [127, 188, 65], [77, 146, 33], [39, 100, 25]];\n",
       "const BLUE_SCALE = [[255, 247, 251], [236, 231, 242], [208, 209, 230], [166, 189, 219], [116, 169, 207], [54, 144, 192], [5, 112, 176], [3, 78, 123]];\n",
       "\n",
       "// format data\n",
       "const res = relativize_data(f, sd, rel, arm_data, metric);\n",
       "const f_final = res[0];\n",
       "const sd_final = res[1];\n",
       "\n",
       "// calculate max of abs(outcome), used for colorscale\n",
       "const f_absmax = Math.max(Math.abs(Math.min(...f_final)), Math.max(...f_final));\n",
       "\n",
       "// transform to nested array\n",
       "var f_plt = [];\n",
       "while(f_final.length) f_plt.push(f_final.splice(0, density));\n",
       "var sd_plt = [];\n",
       "while(sd_final.length) sd_plt.push(sd_final.splice(0, density));\n",
       "\n",
       "// create traces\n",
       "const CONTOUR_CONFIG = {\n",
       "  autocolorscale: false,\n",
       "  autocontour: true,\n",
       "  contours: {\n",
       "    coloring: 'heatmap',\n",
       "  },\n",
       "  hoverinfo: 'x+y+z',\n",
       "  ncontours: density / 2,\n",
       "  type: 'contour',\n",
       "  x: grid_x,\n",
       "  y: grid_y,\n",
       "};\n",
       "\n",
       "let f_scale;\n",
       "if (rel === true) {\n",
       "  f_scale = lower_is_better === true\n",
       "    ? GREEN_PINK_SCALE.reverse()\n",
       "    : GREEN_PINK_SCALE;\n",
       "} else {\n",
       "  f_scale = GREEN_SCALE;\n",
       "}\n",
       "\n",
       "const f_trace = {\n",
       "  colorbar: {\n",
       "    x: 0.45,\n",
       "    y: 0.5,\n",
       "    ticksuffix: rel === true ? '%' : '',\n",
       "    tickfont: {\n",
       "      size: 8,\n",
       "    },\n",
       "  },\n",
       "  colorscale: f_scale.map(\n",
       "    (v, i) => [i / (f_scale.length - 1), rgb(v)]\n",
       "  ),\n",
       "  xaxis: 'x',\n",
       "  yaxis: 'y',\n",
       "  z: f_plt,\n",
       "  // zmax and zmin are ignored if zauto is true\n",
       "  zauto: !rel,\n",
       "  zmax: f_absmax,\n",
       "  zmin: -f_absmax,\n",
       "};\n",
       "\n",
       "const sd_trace = {\n",
       "  colorbar: {\n",
       "      x: 1,\n",
       "      y: 0.5,\n",
       "      ticksuffix: rel === true ? '%' : '',\n",
       "      tickfont: {\n",
       "        size: 8,\n",
       "      },\n",
       "  },\n",
       "  colorscale: BLUE_SCALE.map(\n",
       "    (v, i) => [i / (BLUE_SCALE.length - 1), rgb(v)]\n",
       "  ),\n",
       "  xaxis: 'x2',\n",
       "  yaxis: 'y2',\n",
       "  z: sd_plt,\n",
       "};\n",
       "\n",
       "Object.keys(CONTOUR_CONFIG).forEach(key => {\n",
       "  f_trace[key] = CONTOUR_CONFIG[key];\n",
       "  sd_trace[key] = CONTOUR_CONFIG[key];\n",
       "});\n",
       "\n",
       "// get in-sample arms\n",
       "const arm_x = [];\n",
       "const arm_y = [];\n",
       "const arm_text = [];\n",
       "\n",
       "Object.keys(arm_data['in_sample']).forEach(arm_name => {\n",
       "  arm_x.push(arm_data['in_sample'][arm_name]['parameters'][xvar]);\n",
       "  arm_y.push(arm_data['in_sample'][arm_name]['parameters'][yvar]);\n",
       "  arm_text.push(arm_name);\n",
       "});\n",
       "\n",
       "// configs for in-sample arms\n",
       "const base_in_sample_arm_config = {\n",
       "  hoverinfo: 'text',\n",
       "  legendgroup: 'In-sample',\n",
       "  marker: {color: 'black', symbol: 1, opacity: 0.5},\n",
       "  mode: 'markers',\n",
       "  name: 'In-sample',\n",
       "  text: arm_text,\n",
       "  type: 'scatter',\n",
       "  x: arm_x,\n",
       "  y: arm_y,\n",
       "};\n",
       "\n",
       "const f_in_sample_arm_trace = {\n",
       "  xaxis: 'x',\n",
       "  yaxis: 'y',\n",
       "};\n",
       "\n",
       "const sd_in_sample_arm_trace = {\n",
       "  showlegend: false,\n",
       "  xaxis: 'x2',\n",
       "  yaxis: 'y2',\n",
       "};\n",
       "\n",
       "Object.keys(base_in_sample_arm_config).forEach(key => {\n",
       "  f_in_sample_arm_trace[key] = base_in_sample_arm_config[key];\n",
       "  sd_in_sample_arm_trace[key] = base_in_sample_arm_config[key];\n",
       "});\n",
       "\n",
       "const traces = [\n",
       "  f_trace,\n",
       "  sd_trace,\n",
       "  f_in_sample_arm_trace,\n",
       "  sd_in_sample_arm_trace,\n",
       "];\n",
       "\n",
       "// start symbol at 2 for candidate markers\n",
       "let i = 2;\n",
       "\n",
       "// iterate over out-of-sample arms\n",
       "Object.keys(arm_data['out_of_sample']).forEach(generator_run_name => {\n",
       "  const ax = [];\n",
       "  const ay = [];\n",
       "  const atext = [];\n",
       "\n",
       "  Object.keys(arm_data['out_of_sample'][generator_run_name]).forEach(arm_name => {\n",
       "    ax.push(\n",
       "      arm_data['out_of_sample'][generator_run_name][arm_name]['parameters'][xvar]\n",
       "    );\n",
       "    ay.push(\n",
       "      arm_data['out_of_sample'][generator_run_name][arm_name]['parameters'][yvar]\n",
       "    );\n",
       "    atext.push('<em>Candidate ' + arm_name + '</em>');\n",
       "  });\n",
       "\n",
       "  traces.push({\n",
       "    hoverinfo: 'text',\n",
       "    legendgroup: generator_run_name,\n",
       "    marker: {color: 'black', symbol: i, opacity: 0.5},\n",
       "    mode: 'markers',\n",
       "    name: generator_run_name,\n",
       "    text: atext,\n",
       "    type: 'scatter',\n",
       "    xaxis: 'x',\n",
       "    x: ax,\n",
       "    yaxis: 'y',\n",
       "    y: ay,\n",
       "  });\n",
       "  traces.push({\n",
       "    hoverinfo: 'text',\n",
       "    legendgroup: generator_run_name,\n",
       "    marker: {color: 'black', symbol: i, opacity: 0.5},\n",
       "    mode: 'markers',\n",
       "    name: 'In-sample',\n",
       "    showlegend: false,\n",
       "    text: atext,\n",
       "    type: 'scatter',\n",
       "    x: ax,\n",
       "    xaxis: 'x2',\n",
       "    y: ay,\n",
       "    yaxis: 'y2',\n",
       "  });\n",
       "  i += 1;\n",
       "});\n",
       "\n",
       "// layout\n",
       "const xrange = axis_range(grid_x, x_is_log);\n",
       "const yrange = axis_range(grid_y, y_is_log);\n",
       "\n",
       "const xtype = x_is_log ? 'log' : 'linear';\n",
       "const ytype = y_is_log ? 'log' : 'linear';\n",
       "\n",
       "const layout = {\n",
       "  autosize: false,\n",
       "    margin: {\n",
       "      l: 35,\n",
       "      r: 35,\n",
       "      t: 35,\n",
       "      b: 100,\n",
       "      pad: 0,\n",
       "  },\n",
       "  annotations: [\n",
       "    {\n",
       "      font: {size: 14},\n",
       "      showarrow: false,\n",
       "      text: 'Mean',\n",
       "      x: 0.25,\n",
       "      xanchor: 'center',\n",
       "      xref: 'paper',\n",
       "      y: 1,\n",
       "      yanchor: 'bottom',\n",
       "      yref: 'paper',\n",
       "    },\n",
       "    {\n",
       "      font: {size: 14},\n",
       "      showarrow: false,\n",
       "      text: 'Standard Error',\n",
       "      x: 0.8,\n",
       "      xanchor: 'center',\n",
       "      xref: 'paper',\n",
       "      y: 1,\n",
       "      yanchor: 'bottom',\n",
       "      yref: 'paper',\n",
       "    },\n",
       "  ],\n",
       "  hovermode: 'closest',\n",
       "  legend: {orientation: 'h', x: 0, y: -0.25},\n",
       "  height: 450,\n",
       "  width: 950,\n",
       "  xaxis: {\n",
       "    anchor: 'y',\n",
       "    autorange: false,\n",
       "    domain: [0.05, 0.45],\n",
       "    exponentformat: 'e',\n",
       "    range: xrange,\n",
       "    tickfont: {size: 11},\n",
       "    tickmode: 'auto',\n",
       "    title: xvar,\n",
       "    type: xtype,\n",
       "  },\n",
       "  xaxis2: {\n",
       "    anchor: 'y2',\n",
       "    autorange: false,\n",
       "    domain: [0.60, 1],\n",
       "    exponentformat: 'e',\n",
       "    range: xrange,\n",
       "    tickfont: {size: 11},\n",
       "    tickmode: 'auto',\n",
       "    title: xvar,\n",
       "    type: xtype,\n",
       "  },\n",
       "  yaxis: {\n",
       "    anchor: 'x',\n",
       "    autorange: false,\n",
       "    domain: [0, 1],\n",
       "    exponentformat: 'e',\n",
       "    range: yrange,\n",
       "    tickfont: {size: 11},\n",
       "    tickmode: 'auto',\n",
       "    title: yvar,\n",
       "    type: ytype,\n",
       "  },\n",
       "  yaxis2: {\n",
       "    anchor: 'x2',\n",
       "    autorange: false,\n",
       "    domain: [0, 1],\n",
       "    exponentformat: 'e',\n",
       "    range: yrange,\n",
       "    tickfont: {size: 11},\n",
       "    tickmode: 'auto',\n",
       "    type: ytype,\n",
       "  },\n",
       "};\n",
       "\n",
       "Plotly.newPlot(\"31c43aa18bc74ce69e71cf51462c5117\", traces, layout, {showLink: false});\n",
       "});</script>"
      ]
     },
     "metadata": {},
     "output_type": "display_data"
    }
   ],
   "source": [
    "render(\n",
    "    plot_contour(\n",
    "        model=ax.generation_strategy.model, param_x='x1', param_y='x2', metric_name='hartmann6'\n",
    "    )\n",
    ")"
   ]
  },
  {
   "cell_type": "markdown",
   "metadata": {},
   "source": [
    "We can also plot the optimization trace, showing the progression of finding the point with the optimal objective:"
   ]
  },
  {
   "cell_type": "code",
   "execution_count": 10,
   "metadata": {},
   "outputs": [
    {
     "data": {
      "text/html": [
       "<div id=\"281b6c6aa8ac42018ab3f56fc142c63b\" style=\"width: 100%;\" class=\"plotly-graph-div\"></div><script type='text/javascript'>/*\n",
       " * Copyright (c) Facebook, Inc. and its affiliates. All Rights Reserved.\n",
       " */\n",
       "\n",
       "require(['plotly'], function(Plotly) {\n",
       "  window.PLOTLYENV = window.PLOTLYENV || {};\n",
       "  window.PLOTLYENV.BASE_URL = 'https://plot.ly';\n",
       "  /*\n",
       " * Copyright (c) Facebook, Inc. and its affiliates. All Rights Reserved.\n",
       " */\n",
       "\n",
       "Plotly.newPlot(\n",
       "  \"281b6c6aa8ac42018ab3f56fc142c63b\",\n",
       "  [{\"hoverinfo\": \"none\", \"legendgroup\": \"\", \"line\": {\"width\": 0}, \"mode\": \"lines\", \"showlegend\": false, \"x\": [1, 2, 3, 4, 5, 6, 7, 8, 9, 10, 11, 12, 13, 14, 15, 16, 17, 18, 19, 20, 21, 22, 23, 24, 25, 26, 27, 28, 29, 30], \"y\": [-0.0028696862433942654, -0.5272053480372609, -2.5795080121107814, -2.5795080121107814, -2.5795080121107814, -2.5795080121107814, -2.5795080121107814, -2.913718037058145, -2.913718037058145, -2.913718037058145, -2.913718037058145, -2.913718037058145, -2.913718037058145, -2.913718037058145, -2.913718037058145, -2.913718037058145, -2.956118332990079, -2.9567658614924577, -3.028357940299607, -3.0665662406486707, -3.0971861973360197, -3.0971861973360197, -3.0971861973360197, -3.0971861973360197, -3.0971861973360197, -3.1181717642354485, -3.1181717642354485, -3.1181717642354485, -3.1181717642354485, -3.1181717642354485], \"type\": \"scatter\"}, {\"fill\": \"tonexty\", \"fillcolor\": \"rgba(128,177,211,0.3)\", \"legendgroup\": \"mean\", \"line\": {\"color\": \"rgba(128,177,211,1)\"}, \"mode\": \"lines\", \"name\": \"mean\", \"x\": [1, 2, 3, 4, 5, 6, 7, 8, 9, 10, 11, 12, 13, 14, 15, 16, 17, 18, 19, 20, 21, 22, 23, 24, 25, 26, 27, 28, 29, 30], \"y\": [-0.0028696862433942654, -0.5272053480372609, -2.5795080121107814, -2.5795080121107814, -2.5795080121107814, -2.5795080121107814, -2.5795080121107814, -2.913718037058145, -2.913718037058145, -2.913718037058145, -2.913718037058145, -2.913718037058145, -2.913718037058145, -2.913718037058145, -2.913718037058145, -2.913718037058145, -2.956118332990079, -2.9567658614924577, -3.028357940299607, -3.0665662406486707, -3.0971861973360197, -3.0971861973360197, -3.0971861973360197, -3.0971861973360197, -3.0971861973360197, -3.1181717642354485, -3.1181717642354485, -3.1181717642354485, -3.1181717642354485, -3.1181717642354485], \"type\": \"scatter\"}, {\"fill\": \"tonexty\", \"fillcolor\": \"rgba(128,177,211,0.3)\", \"hoverinfo\": \"none\", \"legendgroup\": \"\", \"line\": {\"width\": 0}, \"mode\": \"lines\", \"showlegend\": false, \"x\": [1, 2, 3, 4, 5, 6, 7, 8, 9, 10, 11, 12, 13, 14, 15, 16, 17, 18, 19, 20, 21, 22, 23, 24, 25, 26, 27, 28, 29, 30], \"y\": [-0.0028696862433942654, -0.5272053480372609, -2.5795080121107814, -2.5795080121107814, -2.5795080121107814, -2.5795080121107814, -2.5795080121107814, -2.913718037058145, -2.913718037058145, -2.913718037058145, -2.913718037058145, -2.913718037058145, -2.913718037058145, -2.913718037058145, -2.913718037058145, -2.913718037058145, -2.956118332990079, -2.9567658614924577, -3.028357940299607, -3.0665662406486707, -3.0971861973360197, -3.0971861973360197, -3.0971861973360197, -3.0971861973360197, -3.0971861973360197, -3.1181717642354485, -3.1181717642354485, -3.1181717642354485, -3.1181717642354485, -3.1181717642354485], \"type\": \"scatter\"}, {\"line\": {\"color\": \"rgba(253,180,98,1)\", \"dash\": \"dash\"}, \"mode\": \"lines\", \"name\": \"Optimum\", \"x\": [1, 30], \"y\": [-3.32237, -3.32237], \"type\": \"scatter\"}],\n",
       "  {\"showlegend\": true, \"title\": {\"text\": \"Model performance vs. # of iterations\"}, \"xaxis\": {\"title\": {\"text\": \"Iteration\"}}, \"yaxis\": {\"title\": {\"text\": \"Hartmann6\"}}, \"template\": {\"data\": {\"barpolar\": [{\"marker\": {\"line\": {\"color\": \"#E5ECF6\", \"width\": 0.5}}, \"type\": \"barpolar\"}], \"bar\": [{\"error_x\": {\"color\": \"#2a3f5f\"}, \"error_y\": {\"color\": \"#2a3f5f\"}, \"marker\": {\"line\": {\"color\": \"#E5ECF6\", \"width\": 0.5}}, \"type\": \"bar\"}], \"carpet\": [{\"aaxis\": {\"endlinecolor\": \"#2a3f5f\", \"gridcolor\": \"white\", \"linecolor\": \"white\", \"minorgridcolor\": \"white\", \"startlinecolor\": \"#2a3f5f\"}, \"baxis\": {\"endlinecolor\": \"#2a3f5f\", \"gridcolor\": \"white\", \"linecolor\": \"white\", \"minorgridcolor\": \"white\", \"startlinecolor\": \"#2a3f5f\"}, \"type\": \"carpet\"}], \"choropleth\": [{\"colorbar\": {\"outlinewidth\": 0, \"ticks\": \"\"}, \"type\": \"choropleth\"}], \"contourcarpet\": [{\"colorbar\": {\"outlinewidth\": 0, \"ticks\": \"\"}, \"type\": \"contourcarpet\"}], \"contour\": [{\"colorbar\": {\"outlinewidth\": 0, \"ticks\": \"\"}, \"colorscale\": [[0.0, \"#0d0887\"], [0.1111111111111111, \"#46039f\"], [0.2222222222222222, \"#7201a8\"], [0.3333333333333333, \"#9c179e\"], [0.4444444444444444, \"#bd3786\"], [0.5555555555555556, \"#d8576b\"], [0.6666666666666666, \"#ed7953\"], [0.7777777777777778, \"#fb9f3a\"], [0.8888888888888888, \"#fdca26\"], [1.0, \"#f0f921\"]], \"type\": \"contour\"}], \"heatmapgl\": [{\"colorbar\": {\"outlinewidth\": 0, \"ticks\": \"\"}, \"colorscale\": [[0.0, \"#0d0887\"], [0.1111111111111111, \"#46039f\"], [0.2222222222222222, \"#7201a8\"], [0.3333333333333333, \"#9c179e\"], [0.4444444444444444, \"#bd3786\"], [0.5555555555555556, \"#d8576b\"], [0.6666666666666666, \"#ed7953\"], [0.7777777777777778, \"#fb9f3a\"], [0.8888888888888888, \"#fdca26\"], [1.0, \"#f0f921\"]], \"type\": \"heatmapgl\"}], \"heatmap\": [{\"colorbar\": {\"outlinewidth\": 0, \"ticks\": \"\"}, \"colorscale\": [[0.0, \"#0d0887\"], [0.1111111111111111, \"#46039f\"], [0.2222222222222222, \"#7201a8\"], [0.3333333333333333, \"#9c179e\"], [0.4444444444444444, \"#bd3786\"], [0.5555555555555556, \"#d8576b\"], [0.6666666666666666, \"#ed7953\"], [0.7777777777777778, \"#fb9f3a\"], [0.8888888888888888, \"#fdca26\"], [1.0, \"#f0f921\"]], \"type\": \"heatmap\"}], \"histogram2dcontour\": [{\"colorbar\": {\"outlinewidth\": 0, \"ticks\": \"\"}, \"colorscale\": [[0.0, \"#0d0887\"], [0.1111111111111111, \"#46039f\"], [0.2222222222222222, \"#7201a8\"], [0.3333333333333333, \"#9c179e\"], [0.4444444444444444, \"#bd3786\"], [0.5555555555555556, \"#d8576b\"], [0.6666666666666666, \"#ed7953\"], [0.7777777777777778, \"#fb9f3a\"], [0.8888888888888888, \"#fdca26\"], [1.0, \"#f0f921\"]], \"type\": \"histogram2dcontour\"}], \"histogram2d\": [{\"colorbar\": {\"outlinewidth\": 0, \"ticks\": \"\"}, \"colorscale\": [[0.0, \"#0d0887\"], [0.1111111111111111, \"#46039f\"], [0.2222222222222222, \"#7201a8\"], [0.3333333333333333, \"#9c179e\"], [0.4444444444444444, \"#bd3786\"], [0.5555555555555556, \"#d8576b\"], [0.6666666666666666, \"#ed7953\"], [0.7777777777777778, \"#fb9f3a\"], [0.8888888888888888, \"#fdca26\"], [1.0, \"#f0f921\"]], \"type\": \"histogram2d\"}], \"histogram\": [{\"marker\": {\"colorbar\": {\"outlinewidth\": 0, \"ticks\": \"\"}}, \"type\": \"histogram\"}], \"mesh3d\": [{\"colorbar\": {\"outlinewidth\": 0, \"ticks\": \"\"}, \"type\": \"mesh3d\"}], \"parcoords\": [{\"line\": {\"colorbar\": {\"outlinewidth\": 0, \"ticks\": \"\"}}, \"type\": \"parcoords\"}], \"scatter3d\": [{\"line\": {\"colorbar\": {\"outlinewidth\": 0, \"ticks\": \"\"}}, \"marker\": {\"colorbar\": {\"outlinewidth\": 0, \"ticks\": \"\"}}, \"type\": \"scatter3d\"}], \"scattercarpet\": [{\"marker\": {\"colorbar\": {\"outlinewidth\": 0, \"ticks\": \"\"}}, \"type\": \"scattercarpet\"}], \"scattergeo\": [{\"marker\": {\"colorbar\": {\"outlinewidth\": 0, \"ticks\": \"\"}}, \"type\": \"scattergeo\"}], \"scattergl\": [{\"marker\": {\"colorbar\": {\"outlinewidth\": 0, \"ticks\": \"\"}}, \"type\": \"scattergl\"}], \"scattermapbox\": [{\"marker\": {\"colorbar\": {\"outlinewidth\": 0, \"ticks\": \"\"}}, \"type\": \"scattermapbox\"}], \"scatterpolargl\": [{\"marker\": {\"colorbar\": {\"outlinewidth\": 0, \"ticks\": \"\"}}, \"type\": \"scatterpolargl\"}], \"scatterpolar\": [{\"marker\": {\"colorbar\": {\"outlinewidth\": 0, \"ticks\": \"\"}}, \"type\": \"scatterpolar\"}], \"scatter\": [{\"marker\": {\"colorbar\": {\"outlinewidth\": 0, \"ticks\": \"\"}}, \"type\": \"scatter\"}], \"scatterternary\": [{\"marker\": {\"colorbar\": {\"outlinewidth\": 0, \"ticks\": \"\"}}, \"type\": \"scatterternary\"}], \"surface\": [{\"colorbar\": {\"outlinewidth\": 0, \"ticks\": \"\"}, \"colorscale\": [[0.0, \"#0d0887\"], [0.1111111111111111, \"#46039f\"], [0.2222222222222222, \"#7201a8\"], [0.3333333333333333, \"#9c179e\"], [0.4444444444444444, \"#bd3786\"], [0.5555555555555556, \"#d8576b\"], [0.6666666666666666, \"#ed7953\"], [0.7777777777777778, \"#fb9f3a\"], [0.8888888888888888, \"#fdca26\"], [1.0, \"#f0f921\"]], \"type\": \"surface\"}], \"table\": [{\"cells\": {\"fill\": {\"color\": \"#EBF0F8\"}, \"line\": {\"color\": \"white\"}}, \"header\": {\"fill\": {\"color\": \"#C8D4E3\"}, \"line\": {\"color\": \"white\"}}, \"type\": \"table\"}]}, \"layout\": {\"annotationdefaults\": {\"arrowcolor\": \"#2a3f5f\", \"arrowhead\": 0, \"arrowwidth\": 1}, \"colorscale\": {\"diverging\": [[0, \"#8e0152\"], [0.1, \"#c51b7d\"], [0.2, \"#de77ae\"], [0.3, \"#f1b6da\"], [0.4, \"#fde0ef\"], [0.5, \"#f7f7f7\"], [0.6, \"#e6f5d0\"], [0.7, \"#b8e186\"], [0.8, \"#7fbc41\"], [0.9, \"#4d9221\"], [1, \"#276419\"]], \"sequential\": [[0.0, \"#0d0887\"], [0.1111111111111111, \"#46039f\"], [0.2222222222222222, \"#7201a8\"], [0.3333333333333333, \"#9c179e\"], [0.4444444444444444, \"#bd3786\"], [0.5555555555555556, \"#d8576b\"], [0.6666666666666666, \"#ed7953\"], [0.7777777777777778, \"#fb9f3a\"], [0.8888888888888888, \"#fdca26\"], [1.0, \"#f0f921\"]], \"sequentialminus\": [[0.0, \"#0d0887\"], [0.1111111111111111, \"#46039f\"], [0.2222222222222222, \"#7201a8\"], [0.3333333333333333, \"#9c179e\"], [0.4444444444444444, \"#bd3786\"], [0.5555555555555556, \"#d8576b\"], [0.6666666666666666, \"#ed7953\"], [0.7777777777777778, \"#fb9f3a\"], [0.8888888888888888, \"#fdca26\"], [1.0, \"#f0f921\"]]}, \"colorway\": [\"#636efa\", \"#EF553B\", \"#00cc96\", \"#ab63fa\", \"#FFA15A\", \"#19d3f3\", \"#FF6692\", \"#B6E880\", \"#FF97FF\", \"#FECB52\"], \"font\": {\"color\": \"#2a3f5f\"}, \"geo\": {\"bgcolor\": \"white\", \"lakecolor\": \"white\", \"landcolor\": \"#E5ECF6\", \"showlakes\": true, \"showland\": true, \"subunitcolor\": \"white\"}, \"hoverlabel\": {\"align\": \"left\"}, \"hovermode\": \"closest\", \"mapbox\": {\"style\": \"light\"}, \"paper_bgcolor\": \"white\", \"plot_bgcolor\": \"#E5ECF6\", \"polar\": {\"angularaxis\": {\"gridcolor\": \"white\", \"linecolor\": \"white\", \"ticks\": \"\"}, \"bgcolor\": \"#E5ECF6\", \"radialaxis\": {\"gridcolor\": \"white\", \"linecolor\": \"white\", \"ticks\": \"\"}}, \"scene\": {\"xaxis\": {\"backgroundcolor\": \"#E5ECF6\", \"gridcolor\": \"white\", \"gridwidth\": 2, \"linecolor\": \"white\", \"showbackground\": true, \"ticks\": \"\", \"zerolinecolor\": \"white\"}, \"yaxis\": {\"backgroundcolor\": \"#E5ECF6\", \"gridcolor\": \"white\", \"gridwidth\": 2, \"linecolor\": \"white\", \"showbackground\": true, \"ticks\": \"\", \"zerolinecolor\": \"white\"}, \"zaxis\": {\"backgroundcolor\": \"#E5ECF6\", \"gridcolor\": \"white\", \"gridwidth\": 2, \"linecolor\": \"white\", \"showbackground\": true, \"ticks\": \"\", \"zerolinecolor\": \"white\"}}, \"shapedefaults\": {\"line\": {\"color\": \"#2a3f5f\"}}, \"ternary\": {\"aaxis\": {\"gridcolor\": \"white\", \"linecolor\": \"white\", \"ticks\": \"\"}, \"baxis\": {\"gridcolor\": \"white\", \"linecolor\": \"white\", \"ticks\": \"\"}, \"bgcolor\": \"#E5ECF6\", \"caxis\": {\"gridcolor\": \"white\", \"linecolor\": \"white\", \"ticks\": \"\"}}, \"title\": {\"x\": 0.05}, \"xaxis\": {\"automargin\": true, \"gridcolor\": \"white\", \"linecolor\": \"white\", \"ticks\": \"\", \"zerolinecolor\": \"white\", \"zerolinewidth\": 2}, \"yaxis\": {\"automargin\": true, \"gridcolor\": \"white\", \"linecolor\": \"white\", \"ticks\": \"\", \"zerolinecolor\": \"white\", \"zerolinewidth\": 2}}}},\n",
       "  {\"showLink\": false}\n",
       ");\n",
       "});</script>"
      ]
     },
     "metadata": {},
     "output_type": "display_data"
    }
   ],
   "source": [
    "# `plot_single_method` expects a 2-d array of means, because it expects to average means from multiple \n",
    "# optimization runs, so we wrap out best objectives array in another array.\n",
    "best_objectives = np.array([[trial.objective_mean for trial in ax.experiment.trials.values()]])\n",
    "best_objective_plot = optimization_trace_single_method(\n",
    "    y=np.minimum.accumulate(best_objectives, axis=1),\n",
    "    optimum=hartmann6.fmin,\n",
    "    title=\"Model performance vs. # of iterations\",\n",
    "    ylabel=\"Hartmann6\",\n",
    ")\n",
    "render(best_objective_plot)"
   ]
  },
  {
   "cell_type": "markdown",
   "metadata": {},
   "source": [
    "# Special Cases"
   ]
  },
  {
   "cell_type": "markdown",
   "metadata": {},
   "source": [
    "**Evaluation failure**: should any optimization iterations fail during evaluation, `log_trial_failure` will ensure that the same trial is not proposed again."
   ]
  },
  {
   "cell_type": "code",
   "execution_count": 11,
   "metadata": {},
   "outputs": [],
   "source": [
    "_, trial_index = ax.get_next_trial()\n",
    "ax.log_trial_failure(trial_index=trial_index)"
   ]
  },
  {
   "cell_type": "markdown",
   "metadata": {},
   "source": [
    "**Adding custom trials**: should there be need to evaluate a specific parameterization, `attach_trial` will add it to the experiment."
   ]
  },
  {
   "cell_type": "code",
   "execution_count": 12,
   "metadata": {},
   "outputs": [
    {
     "data": {
      "text/plain": [
       "({'x1': 9.0, 'x2': 9.0, 'x3': 9.0, 'x4': 9.0, 'x5': 9.0, 'x6': 9.0}, 31)"
      ]
     },
     "execution_count": 12,
     "metadata": {},
     "output_type": "execute_result"
    }
   ],
   "source": [
    "ax.attach_trial(parameters={\"x1\": 9.0, \"x2\": 9.0, \"x3\": 9.0, \"x4\": 9.0, \"x5\": 9.0, \"x6\": 9.0})"
   ]
  },
  {
   "cell_type": "markdown",
   "metadata": {},
   "source": [
    "**Need to run many trials in parallel**: for optimal results and optimization efficiency, we strongly recommend sequential optimization (generating a few trials, then waiting for them to be completed with evaluation data). However, if your use case needs to dispatch many trials in parallel before they are updated with data and you are running into the *\"All trials for current model have been generated, but not enough data has been observed to fit next model\"* error, instantiate `AxClient` as `AxClient(enforce_sequential_optimization=False)`."
   ]
  }
 ],
 "metadata": {
  "kernelspec": {
   "display_name": "python3",
   "language": "python",
   "name": "python3"
  },
  "language_info": {
   "codemirror_mode": {
    "name": "ipython",
    "version": 3
   },
   "file_extension": ".py",
   "mimetype": "text/x-python",
   "name": "python",
   "nbconvert_exporter": "python",
   "pygments_lexer": "ipython3",
   "version": "3.6.7"
  }
 },
 "nbformat": 4,
 "nbformat_minor": 2
}
