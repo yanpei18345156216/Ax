{
 "cells": [
  {
   "cell_type": "markdown",
   "metadata": {},
   "source": [
    "#  Service API Example on Hartmann6\n",
    "\n",
    "The Ax Service API is designed to allow the user to control scheduling of trials and data computation while having an easy to use interface with Ax.\n",
    "\n",
    "The user iteratively:\n",
    "- Queries Ax for candidates\n",
    "- Schedules / deploys them however they choose\n",
    "- Computes data and logs to Ax\n",
    "- Repeat"
   ]
  },
  {
   "cell_type": "code",
   "execution_count": 1,
   "metadata": {},
   "outputs": [
    {
     "data": {
      "text/html": [
       "<script type='text/javascript'>/*\n",
       " * Copyright (c) Facebook, Inc. and its affiliates. All Rights Reserved.\n",
       " */\n",
       "\n",
       "requirejs.config({\n",
       "  paths: {\n",
       "    plotly: ['https://cdn.plot.ly/plotly-latest.min'],\n",
       "  },\n",
       "});\n",
       "if (!window.Plotly) {\n",
       "  require(['plotly'], function(plotly) {\n",
       "    window.Plotly = plotly;\n",
       "  });\n",
       "}\n",
       "/*\n",
       " * Copyright (c) Facebook, Inc. and its affiliates. All Rights Reserved.\n",
       " */\n",
       "\n",
       "// helper functions used across multiple plots\n",
       "function rgb(rgb_array) {\n",
       "  return 'rgb(' + rgb_array.join() + ')';\n",
       "}\n",
       "\n",
       "function copy_and_reverse(arr) {\n",
       "  const copy = arr.slice();\n",
       "  copy.reverse();\n",
       "  return copy;\n",
       "}\n",
       "\n",
       "function axis_range(grid, is_log) {\n",
       "  return is_log\n",
       "    ? [Math.log10(Math.min(...grid)), Math.log10(Math.max(...grid))]\n",
       "    : [Math.min(...grid), Math.max(...grid)];\n",
       "}\n",
       "\n",
       "function relativize_data(f, sd, rel, arm_data, metric) {\n",
       "  // if relative, extract status quo & compute ratio\n",
       "  const f_final = rel === true ? [] : f;\n",
       "  const sd_final = rel === true ? [] : sd;\n",
       "\n",
       "  if (rel === true) {\n",
       "    const f_sq =\n",
       "      arm_data['in_sample'][arm_data['status_quo_name']]['y'][metric];\n",
       "    const sd_sq =\n",
       "      arm_data['in_sample'][arm_data['status_quo_name']]['se'][metric];\n",
       "\n",
       "    for (let i = 0; i < f.length; i++) {\n",
       "      res = relativize(f[i], sd[i], f_sq, sd_sq);\n",
       "      f_final.push(100 * res[0]);\n",
       "      sd_final.push(100 * res[1]);\n",
       "    }\n",
       "  }\n",
       "\n",
       "  return [f_final, sd_final];\n",
       "}\n",
       "\n",
       "function relativize(m_t, sem_t, m_c, sem_c) {\n",
       "  r_hat =\n",
       "    (m_t - m_c) / Math.abs(m_c) -\n",
       "    (Math.pow(sem_c, 2) * m_t) / Math.pow(Math.abs(m_c), 3);\n",
       "  variance =\n",
       "    (Math.pow(sem_t, 2) + Math.pow((m_t / m_c) * sem_c, 2)) / Math.pow(m_c, 2);\n",
       "  return [r_hat, Math.sqrt(variance)];\n",
       "}\n",
       "\n",
       "function slice_config_to_trace(\n",
       "  arm_data,\n",
       "  arm_name_to_parameters,\n",
       "  f,\n",
       "  fit_data,\n",
       "  grid,\n",
       "  metric,\n",
       "  param,\n",
       "  rel,\n",
       "  setx,\n",
       "  sd,\n",
       "  is_log,\n",
       "  visible,\n",
       ") {\n",
       "  // format data\n",
       "  const res = relativize_data(f, sd, rel, arm_data, metric);\n",
       "  const f_final = res[0];\n",
       "  const sd_final = res[1];\n",
       "\n",
       "  // get data for standard deviation fill plot\n",
       "  const sd_upper = [];\n",
       "  const sd_lower = [];\n",
       "  for (let i = 0; i < sd.length; i++) {\n",
       "    sd_upper.push(f_final[i] + 2 * sd_final[i]);\n",
       "    sd_lower.push(f_final[i] - 2 * sd_final[i]);\n",
       "  }\n",
       "  const grid_rev = copy_and_reverse(grid);\n",
       "  const sd_lower_rev = copy_and_reverse(sd_lower);\n",
       "  const sd_x = grid.concat(grid_rev);\n",
       "  const sd_y = sd_upper.concat(sd_lower_rev);\n",
       "\n",
       "  // get data for observed arms and error bars\n",
       "  const arm_x = [];\n",
       "  const arm_y = [];\n",
       "  const arm_sem = [];\n",
       "  fit_data.forEach(row => {\n",
       "    parameters = arm_name_to_parameters[row['arm_name']];\n",
       "    plot = true;\n",
       "    Object.keys(setx).forEach(p => {\n",
       "      if (p !== param && parameters[p] !== setx[p]) {\n",
       "        plot = false;\n",
       "      }\n",
       "    });\n",
       "    if (plot === true) {\n",
       "      arm_x.push(parameters[param]);\n",
       "      arm_y.push(row['mean']);\n",
       "      arm_sem.push(row['sem']);\n",
       "    }\n",
       "  });\n",
       "\n",
       "  const arm_res = relativize_data(arm_y, arm_sem, rel, arm_data, metric);\n",
       "  const arm_y_final = arm_res[0];\n",
       "  const arm_sem_final = arm_res[1].map(x => x * 2);\n",
       "\n",
       "  // create traces\n",
       "  const f_trace = {\n",
       "    x: grid,\n",
       "    y: f_final,\n",
       "    showlegend: false,\n",
       "    hoverinfo: 'x+y',\n",
       "    line: {\n",
       "      color: 'rgba(128, 177, 211, 1)',\n",
       "    },\n",
       "    visible: visible,\n",
       "  };\n",
       "\n",
       "  const arms_trace = {\n",
       "    x: arm_x,\n",
       "    y: arm_y_final,\n",
       "    mode: 'markers',\n",
       "    error_y: {\n",
       "      type: 'data',\n",
       "      array: arm_sem_final,\n",
       "      visible: true,\n",
       "      color: 'black',\n",
       "    },\n",
       "    line: {\n",
       "      color: 'black',\n",
       "    },\n",
       "    showlegend: false,\n",
       "    hoverinfo: 'x+y',\n",
       "    visible: visible,\n",
       "  };\n",
       "\n",
       "  const sd_trace = {\n",
       "    x: sd_x,\n",
       "    y: sd_y,\n",
       "    fill: 'toself',\n",
       "    fillcolor: 'rgba(128, 177, 211, 0.2)',\n",
       "    line: {\n",
       "      color: 'transparent',\n",
       "    },\n",
       "    showlegend: false,\n",
       "    hoverinfo: 'none',\n",
       "    visible: visible,\n",
       "  };\n",
       "\n",
       "  traces = [sd_trace, f_trace, arms_trace];\n",
       "\n",
       "  // iterate over out-of-sample arms\n",
       "  let i = 1;\n",
       "  Object.keys(arm_data['out_of_sample']).forEach(generator_run_name => {\n",
       "    const ax = [];\n",
       "    const ay = [];\n",
       "    const asem = [];\n",
       "    const atext = [];\n",
       "\n",
       "    Object.keys(arm_data['out_of_sample'][generator_run_name]).forEach(\n",
       "      arm_name => {\n",
       "        const parameters =\n",
       "          arm_data['out_of_sample'][generator_run_name][arm_name]['parameters'];\n",
       "        plot = true;\n",
       "        Object.keys(setx).forEach(p => {\n",
       "          if (p !== param && parameters[p] !== setx[p]) {\n",
       "            plot = false;\n",
       "          }\n",
       "        });\n",
       "        if (plot === true) {\n",
       "          ax.push(parameters[param]);\n",
       "          ay.push(\n",
       "            arm_data['out_of_sample'][generator_run_name][arm_name]['y_hat'][\n",
       "              metric\n",
       "            ],\n",
       "          );\n",
       "          asem.push(\n",
       "            arm_data['out_of_sample'][generator_run_name][arm_name]['se_hat'][\n",
       "              metric\n",
       "            ],\n",
       "          );\n",
       "          atext.push('<em>Candidate ' + arm_name + '</em>');\n",
       "        }\n",
       "      },\n",
       "    );\n",
       "\n",
       "    const out_of_sample_arm_res = relativize_data(\n",
       "      ay,\n",
       "      asem,\n",
       "      rel,\n",
       "      arm_data,\n",
       "      metric,\n",
       "    );\n",
       "    const ay_final = out_of_sample_arm_res[0];\n",
       "    const asem_final = out_of_sample_arm_res[1].map(x => x * 2);\n",
       "\n",
       "    traces.push({\n",
       "      hoverinfo: 'text',\n",
       "      legendgroup: generator_run_name,\n",
       "      marker: {color: 'black', symbol: i, opacity: 0.5},\n",
       "      mode: 'markers',\n",
       "      error_y: {\n",
       "        type: 'data',\n",
       "        array: asem_final,\n",
       "        visible: true,\n",
       "        color: 'black',\n",
       "      },\n",
       "      name: generator_run_name,\n",
       "      text: atext,\n",
       "      type: 'scatter',\n",
       "      xaxis: 'x',\n",
       "      x: ax,\n",
       "      yaxis: 'y',\n",
       "      y: ay_final,\n",
       "      visible: visible,\n",
       "    });\n",
       "\n",
       "    i += 1;\n",
       "  });\n",
       "  return traces;\n",
       "}\n",
       "</script>"
      ]
     },
     "metadata": {},
     "output_type": "display_data"
    },
    {
     "name": "stderr",
     "output_type": "stream",
     "text": [
      "[INFO 08-16 08:23:34] ipy_plotting: Injecting Plotly library into cell. Do not overwrite or delete cell.\n"
     ]
    }
   ],
   "source": [
    "import numpy as np\n",
    "\n",
    "from ax.plot.contour import plot_contour\n",
    "from ax.plot.trace import optimization_trace_single_method\n",
    "from ax.service.ax_client import AxClient\n",
    "from ax.metrics.branin import branin\n",
    "from ax.utils.measurement.synthetic_functions import hartmann6\n",
    "from ax.utils.notebook.plotting import render, init_notebook_plotting\n",
    "\n",
    "init_notebook_plotting()"
   ]
  },
  {
   "cell_type": "markdown",
   "metadata": {},
   "source": [
    "## 1. Initialize client\n",
    "\n",
    "Create a client object to interface with Ax APIs. By default this runs locally without storage."
   ]
  },
  {
   "cell_type": "code",
   "execution_count": 2,
   "metadata": {
    "collapsed": true
   },
   "outputs": [],
   "source": [
    "ax = AxClient()"
   ]
  },
  {
   "cell_type": "markdown",
   "metadata": {},
   "source": [
    "## 2. Set up experiment\n",
    "An experiment consists of a **search space** (parameters and parameter constraints) and **optimization configuration** (objective name, minimization setting, and outcome constraints). Note that:\n",
    "- Only `name`, `parameters`, and `objective_name` arguments are required.\n",
    "- Dictionaries in `parameters` have the following required keys: \"name\" - parameter name, \"type\" - parameter type (\"range\", \"choice\" or \"fixed\"), \"bounds\" for range parameters, \"values\" for choice parameters, and \"value\" for fixed parameters.\n",
    "- Dictionaries in `parameters` can optionally include \"value_type\" (\"int\", \"float\", \"bool\" or \"str\"), \"log_scale\" flag for range parameters, and \"is_ordered\" flag for choice parameters.\n",
    "- `parameter_constraints` should be a list of strings of form \"p1 >= p2\" or \"p1 + p2 <= some_bound\".\n",
    "- `outcome_constraints` should be a list of strings of form \"constrained_metric <= some_bound\"."
   ]
  },
  {
   "cell_type": "code",
   "execution_count": 3,
   "metadata": {},
   "outputs": [
    {
     "name": "stderr",
     "output_type": "stream",
     "text": [
      "[INFO 08-16 08:23:34] ax.service.utils.dispatch: Using Bayesian Optimization generation strategy. Iterations after 6 will take longer to generate due to model-fitting.\n"
     ]
    }
   ],
   "source": [
    "ax.create_experiment(\n",
    "    name=\"hartmann_test_experiment\",\n",
    "    parameters=[\n",
    "        {\n",
    "            \"name\": \"x1\",\n",
    "            \"type\": \"range\",\n",
    "            \"bounds\": [0.0, 1.0],\n",
    "            \"value_type\": \"float\",  # Optional, defaults to inference from type of \"bounds\".\n",
    "            \"log_scale\": False,  # Optional, defaults to False.\n",
    "        },\n",
    "        {\n",
    "            \"name\": \"x2\",\n",
    "            \"type\": \"range\",\n",
    "            \"bounds\": [0.0, 1.0],\n",
    "        },\n",
    "        {\n",
    "            \"name\": \"x3\",\n",
    "            \"type\": \"range\",\n",
    "            \"bounds\": [0.0, 1.0],\n",
    "        },\n",
    "        {\n",
    "            \"name\": \"x4\",\n",
    "            \"type\": \"range\",\n",
    "            \"bounds\": [0.0, 1.0],\n",
    "        },\n",
    "        {\n",
    "            \"name\": \"x5\",\n",
    "            \"type\": \"range\",\n",
    "            \"bounds\": [0.0, 1.0],\n",
    "        },\n",
    "        {\n",
    "            \"name\": \"x6\",\n",
    "            \"type\": \"range\",\n",
    "            \"bounds\": [0.0, 1.0],\n",
    "        },\n",
    "    ],\n",
    "    objective_name=\"hartmann6\",\n",
    "    minimize=True,  # Optional, defaults to False.\n",
    "    parameter_constraints=[\"x1 + x2 <= 2.0\"],  # Optional.\n",
    "    outcome_constraints=[\"l2norm <= 1.25\"],  # Optional.\n",
    ")"
   ]
  },
  {
   "cell_type": "markdown",
   "metadata": {},
   "source": [
    "## 3. Define how to evaluate trials\n",
    "When using Ax a service, evaluation of parameterizations suggested by Ax is done either locally or, more commonly, using an external scheduler. Below is a dummy evaluation function that outputs data for two metrics \"hartmann6\" and \"l2norm\". Note that all returned metrics correspond to either the `objective_name` set on experiment creation or the metric names mentioned in `outcome_constraints`."
   ]
  },
  {
   "cell_type": "code",
   "execution_count": 4,
   "metadata": {
    "collapsed": true
   },
   "outputs": [],
   "source": [
    "def evaluate(parameters):\n",
    "    x = np.array([parameters.get(f\"x{i+1}\") for i in range(6)])\n",
    "    # In our case, standard error is 0, since we are computing a synthetic function.\n",
    "    return {\"hartmann6\": (hartmann6(x), 0.0), \"l2norm\": (np.sqrt((x ** 2).sum()), 0.0)}"
   ]
  },
  {
   "cell_type": "markdown",
   "metadata": {},
   "source": [
    "Result of the evaluation should generally be a mapping of the format: `{metric_name -> (mean, SEM)}`. If there is only one metric in the experiment – the objective – then evaluation function can return a single tuple of mean and SEM, in which case Ax will assume that evaluation corresponds to the objective. It can also return only the mean as a float, in which case Ax will assume that SEM is 0.0. For more details on evaluation function, refer to the \"Trial Evaluation\" section in the docs."
   ]
  },
  {
   "cell_type": "markdown",
   "metadata": {},
   "source": [
    "## 4. Run optimization loop\n",
    "With the experiment set up, we can start the optimization loop.\n",
    "\n",
    "At each step, the user queries the client for a new trial then submits the evaluation of that trial back to the client.\n",
    "\n",
    "Note that Ax auto-selects an appropriate optimization algorithm based on the search space. For more advance use cases that require a specific optimization algorithm, pass a `generation_strategy` argument into the `AxClient` constructor. Note that when Bayesian Optimization is used, generating new trials may take a few minutes."
   ]
  },
  {
   "cell_type": "code",
   "execution_count": 5,
   "metadata": {},
   "outputs": [
    {
     "name": "stdout",
     "output_type": "stream",
     "text": [
      "Running trial 1/30...\n",
      "Running trial 2/30...\n",
      "Running trial 3/30...\n",
      "Running trial 4/30...\n",
      "Running trial 5/30...\n",
      "Running trial 6/30...\n",
      "Running trial 7/30...\n"
     ]
    },
    {
     "name": "stdout",
     "output_type": "stream",
     "text": [
      "Running trial 8/30...\n"
     ]
    },
    {
     "name": "stdout",
     "output_type": "stream",
     "text": [
      "Running trial 9/30...\n"
     ]
    },
    {
     "name": "stdout",
     "output_type": "stream",
     "text": [
      "Running trial 10/30...\n"
     ]
    },
    {
     "name": "stdout",
     "output_type": "stream",
     "text": [
      "Running trial 11/30...\n"
     ]
    },
    {
     "name": "stdout",
     "output_type": "stream",
     "text": [
      "Running trial 12/30...\n"
     ]
    },
    {
     "name": "stdout",
     "output_type": "stream",
     "text": [
      "Running trial 13/30...\n"
     ]
    },
    {
     "name": "stdout",
     "output_type": "stream",
     "text": [
      "Running trial 14/30...\n"
     ]
    },
    {
     "name": "stdout",
     "output_type": "stream",
     "text": [
      "Running trial 15/30...\n"
     ]
    },
    {
     "name": "stdout",
     "output_type": "stream",
     "text": [
      "Running trial 16/30...\n"
     ]
    },
    {
     "name": "stdout",
     "output_type": "stream",
     "text": [
      "Running trial 17/30...\n"
     ]
    },
    {
     "name": "stdout",
     "output_type": "stream",
     "text": [
      "Running trial 18/30...\n"
     ]
    },
    {
     "name": "stdout",
     "output_type": "stream",
     "text": [
      "Running trial 19/30...\n"
     ]
    },
    {
     "name": "stdout",
     "output_type": "stream",
     "text": [
      "Running trial 20/30...\n"
     ]
    },
    {
     "name": "stdout",
     "output_type": "stream",
     "text": [
      "Running trial 21/30...\n"
     ]
    },
    {
     "name": "stdout",
     "output_type": "stream",
     "text": [
      "Running trial 22/30...\n"
     ]
    },
    {
     "name": "stdout",
     "output_type": "stream",
     "text": [
      "Running trial 23/30...\n"
     ]
    },
    {
     "name": "stdout",
     "output_type": "stream",
     "text": [
      "Running trial 24/30...\n"
     ]
    },
    {
     "name": "stdout",
     "output_type": "stream",
     "text": [
      "Running trial 25/30...\n"
     ]
    },
    {
     "name": "stdout",
     "output_type": "stream",
     "text": [
      "Running trial 26/30...\n"
     ]
    },
    {
     "name": "stdout",
     "output_type": "stream",
     "text": [
      "Running trial 27/30...\n"
     ]
    },
    {
     "name": "stdout",
     "output_type": "stream",
     "text": [
      "Running trial 28/30...\n"
     ]
    },
    {
     "name": "stderr",
     "output_type": "stream",
     "text": [
      "/home/travis/virtualenv/python3.6.7/lib/python3.6/site-packages/botorch/optim/optimize.py:331: BadInitialCandidatesWarning:\n",
      "\n",
      "Unable to find non-zero acquisition function values - initial conditions are being selected randomly.\n",
      "\n"
     ]
    },
    {
     "name": "stdout",
     "output_type": "stream",
     "text": [
      "Running trial 29/30...\n"
     ]
    },
    {
     "name": "stdout",
     "output_type": "stream",
     "text": [
      "Running trial 30/30...\n"
     ]
    },
    {
     "name": "stderr",
     "output_type": "stream",
     "text": [
      "/home/travis/virtualenv/python3.6.7/lib/python3.6/site-packages/botorch/optim/optimize.py:331: BadInitialCandidatesWarning:\n",
      "\n",
      "Unable to find non-zero acquisition function values - initial conditions are being selected randomly.\n",
      "\n"
     ]
    }
   ],
   "source": [
    "for i in range(30):\n",
    "    print(f\"Running trial {i+1}/30...\")\n",
    "    parameters, trial_index = ax.get_next_trial()\n",
    "     # Local evaluation here can be replaced with deployment to external system.\n",
    "    ax.complete_trial(trial_index=trial_index, raw_data=evaluate(parameters))"
   ]
  },
  {
   "cell_type": "markdown",
   "metadata": {},
   "source": [
    "## 5. Retrieve best parameters\n",
    "\n",
    "Once it's complete, we can access the best parameters found, as well as the corresponding metric values."
   ]
  },
  {
   "cell_type": "code",
   "execution_count": 6,
   "metadata": {},
   "outputs": [
    {
     "data": {
      "text/plain": [
       "{'x1': 0.1977920728071113,\n",
       " 'x2': 0.15018008107946923,\n",
       " 'x3': 0.4822341252994308,\n",
       " 'x4': 0.27540523265204186,\n",
       " 'x5': 0.3128173871525729,\n",
       " 'x6': 0.6547241572866503}"
      ]
     },
     "execution_count": 6,
     "metadata": {},
     "output_type": "execute_result"
    }
   ],
   "source": [
    "best_parameters, values = ax.get_best_parameters()\n",
    "best_parameters"
   ]
  },
  {
   "cell_type": "code",
   "execution_count": 7,
   "metadata": {},
   "outputs": [
    {
     "data": {
      "text/plain": [
       "{'l2norm': 0.9468848949081909, 'hartmann6': -3.32172981867591}"
      ]
     },
     "execution_count": 7,
     "metadata": {},
     "output_type": "execute_result"
    }
   ],
   "source": [
    "means, covariances = values\n",
    "means"
   ]
  },
  {
   "cell_type": "markdown",
   "metadata": {},
   "source": [
    "For comparison, Hartmann6 minimum:"
   ]
  },
  {
   "cell_type": "code",
   "execution_count": 8,
   "metadata": {},
   "outputs": [
    {
     "data": {
      "text/plain": [
       "-3.32237"
      ]
     },
     "execution_count": 8,
     "metadata": {},
     "output_type": "execute_result"
    }
   ],
   "source": [
    "hartmann6.fmin"
   ]
  },
  {
   "cell_type": "markdown",
   "metadata": {},
   "source": [
    "## 6. Plot the response surface and optimization trace\n",
    "Here we arbitrarily select \"x1\" and \"x2\" as the two parameters to plot for both metrics, \"hartmann6\" and \"l2norm\"."
   ]
  },
  {
   "cell_type": "code",
   "execution_count": 9,
   "metadata": {},
   "outputs": [
    {
     "data": {
      "text/html": [
       "<div id=\"8f14d92bbea24e949ffe38bb31cd498f\" style=\"width: 100%;\" class=\"plotly-graph-div\"></div><script type='text/javascript'>/*\n",
       " * Copyright (c) Facebook, Inc. and its affiliates. All Rights Reserved.\n",
       " */\n",
       "\n",
       "require(['plotly'], function(Plotly) {\n",
       "  window.PLOTLYENV = window.PLOTLYENV || {};\n",
       "  window.PLOTLYENV.BASE_URL = 'https://plot.ly';\n",
       "  /*\n",
       " * Copyright (c) Facebook, Inc. and its affiliates. All Rights Reserved.\n",
       " */\n",
       "\n",
       "const arm_data = {\"metrics\": [\"hartmann6\"], \"in_sample\": {\"0_0\": {\"name\": \"0_0\", \"parameters\": {\"x1\": 0.5947864651679993, \"x2\": 0.39592570066452026, \"x3\": 0.9177157878875732, \"x4\": 0.11394096910953522, \"x5\": 0.7251725196838379, \"x6\": 0.07330348342657089}, \"y\": {\"hartmann6\": -0.03287574701736636}, \"y_hat\": {\"hartmann6\": -0.03287579273312691}, \"se\": {\"hartmann6\": 0.0}, \"se_hat\": {\"hartmann6\": 0.0004089133588490537}, \"context_stratum\": null}, \"1_0\": {\"name\": \"1_0\", \"parameters\": {\"x1\": 0.9730777740478516, \"x2\": 0.8851861357688904, \"x3\": 0.5876803994178772, \"x4\": 0.9867562651634216, \"x5\": 0.8477141261100769, \"x6\": 0.5149939060211182}, \"y\": {\"hartmann6\": -0.0001225778403562436}, \"y_hat\": {\"hartmann6\": -0.00012262269254037506}, \"se\": {\"hartmann6\": 0.0}, \"se_hat\": {\"hartmann6\": 0.0004089133590760463}, \"context_stratum\": null}, \"2_0\": {\"name\": \"2_0\", \"parameters\": {\"x1\": 0.22970512509346008, \"x2\": 0.1957680583000183, \"x3\": 0.33890196681022644, \"x4\": 0.38420647382736206, \"x5\": 0.14026889204978943, \"x6\": 0.27509233355522156}, \"y\": {\"hartmann6\": -0.5716633863927632}, \"y_hat\": {\"hartmann6\": -0.5716626416195203}, \"se\": {\"hartmann6\": 0.0}, \"se_hat\": {\"hartmann6\": 0.0004089072802828463}, \"context_stratum\": null}, \"3_0\": {\"name\": \"3_0\", \"parameters\": {\"x1\": 0.1003955751657486, \"x2\": 0.8646510243415833, \"x3\": 0.802161455154419, \"x4\": 0.7329671382904053, \"x5\": 0.9431276321411133, \"x6\": 0.3993177115917206}, \"y\": {\"hartmann6\": -0.08715667605801125}, \"y_hat\": {\"hartmann6\": -0.08715668875975369}, \"se\": {\"hartmann6\": 0.0}, \"se_hat\": {\"hartmann6\": 0.00040891335816807593}, \"context_stratum\": null}, \"4_0\": {\"name\": \"4_0\", \"parameters\": {\"x1\": 0.8531177639961243, \"x2\": 0.054192621260881424, \"x3\": 0.05435257777571678, \"x4\": 0.14607097208499908, \"x5\": 0.04534447193145752, \"x6\": 0.6387248039245605}, \"y\": {\"hartmann6\": -0.20612439219484144}, \"y_hat\": {\"hartmann6\": -0.2061244816811254}, \"se\": {\"hartmann6\": 0.0}, \"se_hat\": {\"hartmann6\": 0.0004089133523797649}, \"context_stratum\": null}, \"5_0\": {\"name\": \"5_0\", \"parameters\": {\"x1\": 0.7314090728759766, \"x2\": 0.5395429730415344, \"x3\": 0.44322773814201355, \"x4\": 0.7688576579093933, \"x5\": 0.4188929498195648, \"x6\": 0.19753791391849518}, \"y\": {\"hartmann6\": -0.10741162955383024}, \"y_hat\": {\"hartmann6\": -0.10741165328354896}, \"se\": {\"hartmann6\": 0.0}, \"se_hat\": {\"hartmann6\": 0.00040891335090431305}, \"context_stratum\": null}, \"6_0\": {\"name\": \"6_0\", \"parameters\": {\"x1\": 0.11381876176243012, \"x2\": 0.16750861949303233, \"x3\": 0.29259127726200734, \"x4\": 0.32071531754702914, \"x5\": 0.07798383908252014, \"x6\": 0.3001299393696163}, \"y\": {\"hartmann6\": -0.45110420326264483}, \"y_hat\": {\"hartmann6\": -0.45110462114447425}, \"se\": {\"hartmann6\": 0.0}, \"se_hat\": {\"hartmann6\": 0.00040891270896875674}, \"context_stratum\": null}, \"7_0\": {\"name\": \"7_0\", \"parameters\": {\"x1\": 0.3531013030389805, \"x2\": 0.13400562314705292, \"x3\": 0.330318571924097, \"x4\": 0.423430092841475, \"x5\": 0.1441345735966544, \"x6\": 0.2727707755984959}, \"y\": {\"hartmann6\": -0.4921427066272594}, \"y_hat\": {\"hartmann6\": -0.49214298989301475}, \"se\": {\"hartmann6\": 0.0}, \"se_hat\": {\"hartmann6\": 0.0004089125249909301}, \"context_stratum\": null}, \"8_0\": {\"name\": \"8_0\", \"parameters\": {\"x1\": 0.21519637613269008, \"x2\": 0.2846281370493129, \"x3\": 0.3991186160268674, \"x4\": 0.43064480367232943, \"x5\": 0.17887555588709855, \"x6\": 0.24486557976823695}, \"y\": {\"hartmann6\": -0.5281063080724648}, \"y_hat\": {\"hartmann6\": -0.5281065024149678}, \"se\": {\"hartmann6\": 0.0}, \"se_hat\": {\"hartmann6\": 0.0004089124669942014}, \"context_stratum\": null}, \"9_0\": {\"name\": \"9_0\", \"parameters\": {\"x1\": 0.25257910374740467, \"x2\": 0.2320185977278452, \"x3\": 0.3257072137528984, \"x4\": 0.31864147768346, \"x5\": 0.2175383095723163, \"x6\": 0.31396141774619735}, \"y\": {\"hartmann6\": -1.0319904395842914}, \"y_hat\": {\"hartmann6\": -1.0319914570259925}, \"se\": {\"hartmann6\": 0.0}, \"se_hat\": {\"hartmann6\": 0.00040890243411732113}, \"context_stratum\": null}, \"10_0\": {\"name\": \"10_0\", \"parameters\": {\"x1\": 0.2645553121500287, \"x2\": 0.24134175759236207, \"x3\": 0.30559752759043685, \"x4\": 0.2657986985989708, \"x5\": 0.26297747143414935, \"x6\": 0.34417269468946127}, \"y\": {\"hartmann6\": -1.3132927862093786}, \"y_hat\": {\"hartmann6\": -1.3132913374932211}, \"se\": {\"hartmann6\": 0.0}, \"se_hat\": {\"hartmann6\": 0.0004088998573339927}, \"context_stratum\": null}, \"11_0\": {\"name\": \"11_0\", \"parameters\": {\"x1\": 0.27151240181130426, \"x2\": 0.25553734667167083, \"x3\": 0.2831875092330126, \"x4\": 0.204034517147523, \"x5\": 0.3213096904627954, \"x6\": 0.37640656791705285}, \"y\": {\"hartmann6\": -1.4464600384741946}, \"y_hat\": {\"hartmann6\": -1.446461318591781}, \"se\": {\"hartmann6\": 0.0}, \"se_hat\": {\"hartmann6\": 0.0004089091253018688}, \"context_stratum\": null}, \"12_0\": {\"name\": \"12_0\", \"parameters\": {\"x1\": 0.3045105377430787, \"x2\": 0.27187149649110826, \"x3\": 0.3574375351745685, \"x4\": 0.17377105072070706, \"x5\": 0.3058504246985366, \"x6\": 0.43848087950507164}, \"y\": {\"hartmann6\": -1.8038410684981083}, \"y_hat\": {\"hartmann6\": -1.8038395237970162}, \"se\": {\"hartmann6\": 0.0}, \"se_hat\": {\"hartmann6\": 0.00040890356740652575}, \"context_stratum\": null}, \"13_0\": {\"name\": \"13_0\", \"parameters\": {\"x1\": 0.33908230193407013, \"x2\": 0.293505719743756, \"x3\": 0.41832447782268706, \"x4\": 0.13871421842715687, \"x5\": 0.30510845277549964, \"x6\": 0.4861545366614117}, \"y\": {\"hartmann6\": -1.8985944088975364}, \"y_hat\": {\"hartmann6\": -1.898595976477282}, \"se\": {\"hartmann6\": 0.0}, \"se_hat\": {\"hartmann6\": 0.00040890828053933263}, \"context_stratum\": null}, \"14_0\": {\"name\": \"14_0\", \"parameters\": {\"x1\": 0.27855526845377776, \"x2\": 0.2502891074626898, \"x3\": 0.4199456512610281, \"x4\": 0.18904575505264576, \"x5\": 0.3046598890412126, \"x6\": 0.5540750585630344}, \"y\": {\"hartmann6\": -2.660773142499586}, \"y_hat\": {\"hartmann6\": -2.6607726965099445}, \"se\": {\"hartmann6\": 0.0}, \"se_hat\": {\"hartmann6\": 0.00040890088564307783}, \"context_stratum\": null}, \"15_0\": {\"name\": \"15_0\", \"parameters\": {\"x1\": 0.2285486535305532, \"x2\": 0.21621038374845497, \"x3\": 0.43134311913793594, \"x4\": 0.2426314619492817, \"x5\": 0.3092790327682829, \"x6\": 0.6207546664828988}, \"y\": {\"hartmann6\": -3.175759491586347}, \"y_hat\": {\"hartmann6\": -3.175759006062015}, \"se\": {\"hartmann6\": 0.0}, \"se_hat\": {\"hartmann6\": 0.00040889163474079463}, \"context_stratum\": null}, \"16_0\": {\"name\": \"16_0\", \"parameters\": {\"x1\": 0.17783002501945375, \"x2\": 0.1887113118414204, \"x3\": 0.44263660947754563, \"x4\": 0.28349639548130573, \"x5\": 0.3288319081106577, \"x6\": 0.6925197977718495}, \"y\": {\"hartmann6\": -3.2369456820734586}, \"y_hat\": {\"hartmann6\": -3.2369442553513244}, \"se\": {\"hartmann6\": 0.0}, \"se_hat\": {\"hartmann6\": 0.0004088970105160358}, \"context_stratum\": null}, \"17_0\": {\"name\": \"17_0\", \"parameters\": {\"x1\": 0.21812948714564237, \"x2\": 0.1261647343054786, \"x3\": 0.49833413158721157, \"x4\": 0.28224819032676607, \"x5\": 0.3206959739713971, \"x6\": 0.6488215108924132}, \"y\": {\"hartmann6\": -3.299781036397022}, \"y_hat\": {\"hartmann6\": -3.299778455882165}, \"se\": {\"hartmann6\": 0.0}, \"se_hat\": {\"hartmann6\": 0.00040882020818632094}, \"context_stratum\": null}, \"18_0\": {\"name\": \"18_0\", \"parameters\": {\"x1\": 0.2621903949544725, \"x2\": 0.17530841700062186, \"x3\": 0.4683133633797856, \"x4\": 0.3570866228901519, \"x5\": 0.3087524014365704, \"x6\": 0.6672897672527763}, \"y\": {\"hartmann6\": -3.084068926589567}, \"y_hat\": {\"hartmann6\": -3.0840702127077257}, \"se\": {\"hartmann6\": 0.0}, \"se_hat\": {\"hartmann6\": 0.0004089088403096242}, \"context_stratum\": null}, \"19_0\": {\"name\": \"19_0\", \"parameters\": {\"x1\": 0.1689778856649706, \"x2\": 0.13625787643503878, \"x3\": 0.4951834272025651, \"x4\": 0.23480572592459095, \"x5\": 0.25914221173926083, \"x6\": 0.6693505206756203}, \"y\": {\"hartmann6\": -3.120412505772649}, \"y_hat\": {\"hartmann6\": -3.1204136220139835}, \"se\": {\"hartmann6\": 0.0}, \"se_hat\": {\"hartmann6\": 0.00040890895834705746}, \"context_stratum\": null}, \"20_0\": {\"name\": \"20_0\", \"parameters\": {\"x1\": 0.1618738073543638, \"x2\": 0.18112355699272792, \"x3\": 0.5153442753859162, \"x4\": 0.27645341161521264, \"x5\": 0.3687273212000307, \"x6\": 0.6315589950889682}, \"y\": {\"hartmann6\": -3.1224187272190163}, \"y_hat\": {\"hartmann6\": -3.122420124388276}, \"se\": {\"hartmann6\": 0.0}, \"se_hat\": {\"hartmann6\": 0.00040890818247730484}, \"context_stratum\": null}, \"21_0\": {\"name\": \"21_0\", \"parameters\": {\"x1\": 0.24086863388952812, \"x2\": 0.09976490734019941, \"x3\": 0.43690767709732, \"x4\": 0.2500850300328485, \"x5\": 0.3448924832531638, \"x6\": 0.6800632475666815}, \"y\": {\"hartmann6\": -3.1734426756996927}, \"y_hat\": {\"hartmann6\": -3.1734436610403423}, \"se\": {\"hartmann6\": 0.0}, \"se_hat\": {\"hartmann6\": 0.0004089051695554394}, \"context_stratum\": null}, \"22_0\": {\"name\": \"22_0\", \"parameters\": {\"x1\": 0.2296299978232406, \"x2\": 0.18127729501585055, \"x3\": 0.5328512841590882, \"x4\": 0.26241609319950876, \"x5\": 0.3162142279261604, \"x6\": 0.6820210916890032}, \"y\": {\"hartmann6\": -3.2504161436827634}, \"y_hat\": {\"hartmann6\": -3.2504151025065084}, \"se\": {\"hartmann6\": 0.0}, \"se_hat\": {\"hartmann6\": 0.0004089096695218717}, \"context_stratum\": null}, \"23_0\": {\"name\": \"23_0\", \"parameters\": {\"x1\": 0.1977920728071113, \"x2\": 0.15018008107946923, \"x3\": 0.4822341252994308, \"x4\": 0.27540523265204186, \"x5\": 0.3128173871525729, \"x6\": 0.6547241572866503}, \"y\": {\"hartmann6\": -3.321729265926508}, \"y_hat\": {\"hartmann6\": -3.32172981867591}, \"se\": {\"hartmann6\": 0.0}, \"se_hat\": {\"hartmann6\": 0.0004085378660058866}, \"context_stratum\": null}, \"24_0\": {\"name\": \"24_0\", \"parameters\": {\"x1\": 0.17283121893410222, \"x2\": 0.1347787198691722, \"x3\": 0.49485083740220276, \"x4\": 0.2577666607412593, \"x5\": 0.3166585842248437, \"x6\": 0.6513748077359633}, \"y\": {\"hartmann6\": -3.2976552899493874}, \"y_hat\": {\"hartmann6\": -3.2976547555815063}, \"se\": {\"hartmann6\": 0.0}, \"se_hat\": {\"hartmann6\": 0.00040885071635407756}, \"context_stratum\": null}, \"25_0\": {\"name\": \"25_0\", \"parameters\": {\"x1\": 0.18080083267224253, \"x2\": 0.16513087751776853, \"x3\": 0.504831083237731, \"x4\": 0.28985127748426476, \"x5\": 0.30595820869926427, \"x6\": 0.6457796289397066}, \"y\": {\"hartmann6\": -3.2950655563669926}, \"y_hat\": {\"hartmann6\": -3.2950647844279306}, \"se\": {\"hartmann6\": 0.0}, \"se_hat\": {\"hartmann6\": 0.00040885701745010125}, \"context_stratum\": null}, \"26_0\": {\"name\": \"26_0\", \"parameters\": {\"x1\": 0.038584377616643906, \"x2\": 0.001717137172818184, \"x3\": 0.8328050738200545, \"x4\": 0.32537794671952724, \"x5\": 0.3264429522678256, \"x6\": 0.7590887602418661}, \"y\": {\"hartmann6\": -1.6808651876734382}, \"y_hat\": {\"hartmann6\": -1.680865498851627}, \"se\": {\"hartmann6\": 0.0}, \"se_hat\": {\"hartmann6\": 0.000408913235024578}, \"context_stratum\": null}, \"27_0\": {\"name\": \"27_0\", \"parameters\": {\"x1\": 0.036130490712821484, \"x2\": 0.7835066104307771, \"x3\": 0.9856897573918104, \"x4\": 0.1722342660650611, \"x5\": 0.9918039850890636, \"x6\": 0.8655825424939394}, \"y\": {\"hartmann6\": -0.006468932607242774}, \"y_hat\": {\"hartmann6\": -0.00646898854610134}, \"se\": {\"hartmann6\": 0.0}, \"se_hat\": {\"hartmann6\": 0.0004089133598705204}, \"context_stratum\": null}, \"28_0\": {\"name\": \"28_0\", \"parameters\": {\"x1\": 0.13863384909927845, \"x2\": 0.4105449924245477, \"x3\": 0.44182424061000347, \"x4\": 0.24748410377651453, \"x5\": 0.3127223467454314, \"x6\": 0.9267705213278532}, \"y\": {\"hartmann6\": -1.4773743903870746}, \"y_hat\": {\"hartmann6\": -1.4773747329700033}, \"se\": {\"hartmann6\": 0.0}, \"se_hat\": {\"hartmann6\": 0.0004089132406993944}, \"context_stratum\": null}}, \"out_of_sample\": {}, \"status_quo_name\": null};\n",
       "const density = 50;\n",
       "const grid_x = [0.0, 0.02040816326530612, 0.04081632653061224, 0.061224489795918366, 0.08163265306122448, 0.1020408163265306, 0.12244897959183673, 0.14285714285714285, 0.16326530612244897, 0.18367346938775508, 0.2040816326530612, 0.22448979591836732, 0.24489795918367346, 0.26530612244897955, 0.2857142857142857, 0.3061224489795918, 0.32653061224489793, 0.3469387755102041, 0.36734693877551017, 0.3877551020408163, 0.4081632653061224, 0.42857142857142855, 0.44897959183673464, 0.4693877551020408, 0.4897959183673469, 0.5102040816326531, 0.5306122448979591, 0.5510204081632653, 0.5714285714285714, 0.5918367346938775, 0.6122448979591836, 0.6326530612244897, 0.6530612244897959, 0.673469387755102, 0.6938775510204082, 0.7142857142857142, 0.7346938775510203, 0.7551020408163265, 0.7755102040816326, 0.7959183673469387, 0.8163265306122448, 0.836734693877551, 0.8571428571428571, 0.8775510204081632, 0.8979591836734693, 0.9183673469387754, 0.9387755102040816, 0.9591836734693877, 0.9795918367346939, 1.0];\n",
       "const grid_y = [0.0, 0.02040816326530612, 0.04081632653061224, 0.061224489795918366, 0.08163265306122448, 0.1020408163265306, 0.12244897959183673, 0.14285714285714285, 0.16326530612244897, 0.18367346938775508, 0.2040816326530612, 0.22448979591836732, 0.24489795918367346, 0.26530612244897955, 0.2857142857142857, 0.3061224489795918, 0.32653061224489793, 0.3469387755102041, 0.36734693877551017, 0.3877551020408163, 0.4081632653061224, 0.42857142857142855, 0.44897959183673464, 0.4693877551020408, 0.4897959183673469, 0.5102040816326531, 0.5306122448979591, 0.5510204081632653, 0.5714285714285714, 0.5918367346938775, 0.6122448979591836, 0.6326530612244897, 0.6530612244897959, 0.673469387755102, 0.6938775510204082, 0.7142857142857142, 0.7346938775510203, 0.7551020408163265, 0.7755102040816326, 0.7959183673469387, 0.8163265306122448, 0.836734693877551, 0.8571428571428571, 0.8775510204081632, 0.8979591836734693, 0.9183673469387754, 0.9387755102040816, 0.9591836734693877, 0.9795918367346939, 1.0];\n",
       "const f = [-2.276133738438022, -2.335527810396995, -2.390807985846732, -2.4413188102513486, -2.486412526908195, -2.525465054354774, -2.5578939827354543, -2.583178003743725, -2.6008768149314916, -2.61065014624434, -2.612274247226578, -2.6056540832316055, -2.590829733426725, -2.5679760846968236, -2.537395759789592, -2.4995060849221766, -2.4548215619384175, -2.403933626183535, -2.3474894412904006, -2.2861712053401195, -2.2206770515809584, -2.151704229997699, -2.0799349168310663, -2.0060247402775513, -1.9305939296774552, -1.8542208794753503, -1.7774378530755415, -1.7007285221023378, -1.6245270327980486, -1.5492183049987802, -1.4751392938684904, -1.4025809754239886, -1.331790850188092, -1.2629757924631169, -1.196305103992473, -1.1319136591352015, -1.0699050536049168, -1.0103546901793359, -0.9533127526807923, -0.8988070342218609, -0.8468455975457756, -0.7974192546393066, -0.7505038600256939, -0.7060624176041874, -0.6640470049054772, -0.6244005214576576, -0.5870582698459559, -0.5519493792069141, -0.518998081496215, -0.48812485105144265, -2.311007225444704, -2.3718285134137083, -2.428459705508277, -2.480221805759707, -2.526441962051285, -2.5664700080717875, -2.599697289414559, -2.6255772264379758, -2.6436466489864117, -2.653546467550807, -2.655039837266047, -2.6480257976046975, -2.6325465953702682, -2.6087875741438467, -2.577069510269692, -2.537834314275007, -2.491625799934052, -2.4390675781090296, -2.380840065421219, -2.317658243910806, -2.2502513357393936, -2.1793450968606005, -2.1056470541232377, -2.0298347303667144, -1.9525467131165686, -1.8743763061914414, -1.7958674413976645, -1.7175125041339467, -1.6397517301833877, -1.5629738520459167, -1.4875177048309753, -1.4136745386907548, -1.3416908231700617, -1.2717713660307495, -1.2040826034057157, -1.1387559486395695, -1.0758911135225266, -1.0155593378400065, -0.957806481497204, -0.9026559483186634, -0.8501114224057381, -0.8001594071060225, -0.7527715636305745, -0.7079068515331453, -0.6655134769805171, -0.6255306572898858, -0.5878902118383984, -0.552517990371789, -0.519335150128752, -0.4882592931965011, -2.3414878955392036, -2.403555774917443, -2.4613655947150197, -2.5142173829359025, -2.5614158329325267, -2.602287301911805, -2.6361993326320228, -2.6625822043235554, -2.680951567895247, -2.690930675322987, -2.69227019620243, -2.6848633365024495, -2.668754158735976, -2.6441377448287406, -2.6113520017616674, -2.570862138216328, -2.523239760263082, -2.4691389306021208, -2.409271426934123, -2.3443829979760045, -2.2752318592781524, -2.2025701470313366, -2.1271286290723026, -2.0496046721831833, -1.9706532682553022, -1.8908808055367174, -1.8108412133046785, -1.7310340915804514, -1.6519044486760914, -1.5738436983030548, -1.497191606972684, -1.4222389257436612, -1.349230483958999, -1.2783685637894362, -1.2098164115935046, -1.1437017745737752, -1.080120378788116, -1.0191392874652778, -0.9608000971892949, -0.9051219443678754, -0.852104306023452, -0.8017295878593282, -0.7539654992304126, -0.7087672195079586, -0.6660793637323508, -0.6258377577045773, -0.5879710340333364, -0.5524020613436167, -0.5190492190386409, -0.4878275298311743, -2.367241404141446, -2.4303528495198026, -2.489146489566747, -2.5429043363188395, -2.5909117581279384, -2.632474826776435, -2.6669403858183562, -2.693718409694494, -2.7123057533178985, -2.722309782013533, -2.723469742963766, -2.7156733391319814, -2.6989660870870433, -2.673551834130173, -2.6397841310574788, -2.5981495839121145, -2.549245373238676, -2.493753570785877, -2.432414732628227, -2.366002727225327, -2.295302117431301, -2.2210888292688855, -2.1441143827352214, -2.0650936395264345, -1.9846958178241656, -1.90353840724228, -1.8221835631455316, -1.741136549609818, -1.6608458195934075, -1.5817043581593742, -1.50405196128835, -1.428178172710084, -1.354325649988812, -1.2826937761613408, -1.2134423731312738, -1.146695407240145, -1.0825446060260915, -1.0210529285485102, -0.9622578503854311, -0.9061744391417494, -0.8527982076742234, -0.8021077408280679, -0.7540670978087005, -0.7086279968283784, -0.6657317917495718, -0.6253112524115418, -0.5872921614343001, -0.5515947407584236, -0.5181349211728656, -0.4868254677439008, -2.3879717879671176, -2.4519037653631095, -2.5114663234709838, -2.565926749118933, -2.6145546328701537, -2.6566394640255546, -2.691511092184358, -2.7185626909442755, -2.7372753878168243, -2.7472430669331276, -2.7481951166841605, -2.740014361340329, -2.7227474502937525, -2.696605803352792, -2.6619566818733995, -2.6193055786760686, -2.56927233226543, -2.512563861743584, -2.449946232250171, -2.3822181643975577, -2.3101873849566106, -2.234650571294623, -2.1563771465991364, -2.0760968409384684, -1.9944907183336067, -1.9121852507974653, -1.8297489697198395, -1.7476912218128826, -1.6664625846164745, -1.5864565425823873, -1.5080120794483662, -1.43141689917138, -1.3569110416468955, -1.2846907082075996, -1.2149121542634034, -1.1476955421526673, -1.0831286766369452, -1.0212705691169746, -0.9621547953318363, -0.9057926257992331, -0.8521759192867981, -0.8012797778176407, -0.7530649676653167, -0.7074801149537182, -0.6644636872371061, -0.6239457741148753, -0.5858496807971858, -0.5500933487916506, -0.5165906176979516, -0.48525234161078745, -2.4034290670788803, -2.4679417868255884, -2.5280415210493037, -2.5829843778730024, -2.6320280421511923, -2.674449529490192, -2.709565893191367, -2.7367575798548858, -2.7554936732954056, -2.7653575832438495, -2.766070911441955, -2.7575125621604384, -2.7397300964908378, -2.712941159736206, -2.6775244074471374, -2.6340011562866916, -2.583010338665602, -2.5252798858197725, -2.461597456138762, -2.3927827694329076, -2.3196630269090535, -2.2430521988123266, -2.163734428398729, -2.0824514346514897, -1.999893568092172, -1.9166940504986234, -1.8334258811006736, -1.7506008953242285, -1.6686704987056578, -1.5880276536792508, -1.5090097597864447, -1.4319021310448639, -1.3569418331315397, -1.2843216952208465, -1.2141943558436536, -1.14667623904294, -1.0818513869920001, -1.0197750989709462, -0.960477345096835, -0.903965937367377, -0.8502294512147781, -0.7992398985724595, -0.7509551590208328, -0.7053211793852807, -0.6622739546075056, -0.6217413041224913, -0.5836444586072396, -0.5478994720313253, -0.5144184735986141, -0.4831107735537299, -2.4134157905643665, -2.47825668986267, -2.538649069067514, -2.5938415810433932, -2.643084096902728, -2.6856455429368933, -2.720834718188427, -2.748023835469852, -2.7666741015399094, -2.7763619666598416, -2.776803785699837, -2.7678758494110927, -2.749626568877651, -2.7222784047502415, -2.6862188147952892, -2.6419814350226756, -2.590220184384438, -2.531679589053712, -2.4671644146953393, -2.3975110035934253, -2.3235618850190543, -2.246144483538263, -2.1660541786020997, -2.0840415746660477, -2.0008035960756216, -1.9169778905806616, -1.8331399782986955, -1.7498025928770933, -1.6674167070413863, -1.58637379896956, -1.5070089868731915, -1.429604728755871, -1.3543948478507697, -1.2815686994643884, -1.2112753412755466, -1.1436276069415312, -1.0787060130417199, -1.0165624530291115, -0.9572236500583936, -0.9006943543220126, -0.8469602807315945, -0.7959907901699756, -0.7477413227199667, -0.7021555947456006, -0.6591675738598701, -0.6187032469804206, -0.5806821971061187, -0.5450190043455736, -0.5116244862531467, -0.48040679180378665, -2.417792174703379, -2.482700425965991, -2.5431327509468558, -2.598334170683337, -2.6475509477699526, -2.6900484402310294, -2.7251319115047616, -2.752170069068317, -2.770620713363397, -2.780057211043384, -2.7801935852690143, -2.770905143483295, -2.7522412887167707, -2.724427924464924, -2.687858580902094, -2.6430754202183344, -2.5907428461349986, -2.5316171126573765, -2.4665151460907353, -2.39628509768533, -2.321780289441074, -2.2438374350031327, -2.1632594083144285, -2.08080240715198, -1.9971670929154623, -1.9129931483008855, -1.8288566474365164, -1.7452696489862207, -1.6626814768777949, -1.5814812265176594, -1.5020011130274113, -1.4245203535570856, -1.3492693433690044, -1.2764339431770786, -1.2061597429434796, -1.138556205722085, -1.0737006253817012, -1.0116418554472384, -0.9524037841076299, -0.8959885437594745, -0.8423794532199158, -0.7915436977222953, -0.7434347566285306, -0.6979945919531911, -0.6551556126945257, -0.6148424309229483, -0.5769734258365762, -0.5414621317539303, -0.5082184654284303, -0.47714980725891154, -2.416479595215563, -2.48119089348826, -2.5414072097180895, -2.5963737844068486, -2.6453374905466704, -2.6875646440617564, -2.7223617039252455, -2.749098646212958, -2.7672344414190255, -2.7763434278678085, -2.7761404516710098, -2.7665017241292453, -2.747477999154338, -2.719297376601663, -2.6823567355945843, -2.6372028558835523, -2.5845059062322258, -2.5250287126162494, -2.4595950913389304, -2.3890598630329136, -2.3142823059776156, -2.2361040005564514, -2.155331371164955, -2.0727227724290387, -1.988979677043043, -1.904741371259363, -1.8205825157377373, -1.7370129506448615, -1.6544791861455732, -1.5733671009132568, -1.4940054569620282, -1.4166699198162558, -1.341587344114183, -1.2689401445473485, -1.1988706207295892, -1.131485143264337, -1.0668581383970388, -1.0050358316982417, -0.9460397285952629, -0.8898698224364069, -0.8365075301094295, -0.7859183618374178, -0.7380543362721488, -0.692856154897121, -0.6502551514338888, -0.610175032725119, -0.5725334276889325, -0.5372432605913509, -0.504213964215527, -0.47335254763226664, -2.4094623320593866, -2.473713712268753, -2.5334597323593666, -2.587949664824867, -2.636435138443677, -2.6781878462739392, -2.712520046230125, -2.738807634384369, -2.756515245404005, -2.7652222346609476, -2.7646475023622203, -2.75467020120681, -2.735342983632253, -2.7068950802506913, -2.669724126190437, -2.6243776620625145, -2.5715268663580515, -2.511935867671866, -2.4464299331531785, -2.37586521854168, -2.3011019289305494, -2.222981919739971, -2.1423110899019515, -2.059846425726086, -1.976287239041898, -1.8922699788536397, -1.8083659448615954, -1.7250812564643467, -1.6428585000223381, -1.5620795657389515, -1.4830692770576013, -1.4060995003861336, -1.3313934966786611, -1.2591303376195653, -1.189449258401011, -1.1224538577792231, -1.0582160859326053, -0.9967799832858995, -0.9381651503813165, -0.8823699413059545, -0.829374382132497, -0.7791428220983061, -0.7316263294701724, -0.6867648467129999, -0.6444891210877826, -0.6047224274493732, -0.567382100033232, -0.5323808895962279, -0.49962816155243894, -0.4690309498305225, -2.3967875958083478, -2.4603220651665065, -2.5193498641265952, -2.573128009667542, -2.620916885127448, -2.6619977856608212, -2.695693137855393, -2.721389156945661, -2.7385603984024947, -2.746795097246532, -2.7458193464864227, -2.7355172945106134, -2.7159441595968064, -2.687329428654352, -2.6500691150607025, -2.6047078545567284, -2.5519132122227344, -2.492445410203061, -2.4271257231253163, -2.3568062595123545, -2.2823430547919474, -2.204573583542149, -2.124299096800804, -2.042271665651835, -1.959185472631024, -1.8756717143681316, -1.792296424119274, -1.7095605505128568, -1.627901703118125, -1.5476970693850027, -1.469267103402681, -1.3928796748219243, -1.3187544417346773, -1.2470672732997992, -1.177954597302664, -1.1115175863155358, -1.0478261255700145, -0.9869225278407917, -0.9288249771136186, -0.8735306948418593, -0.8210188312058554, -0.7712530897822315, -0.7241840980339154, -0.679751538534364, -0.6378860572199152, -0.5985109655167509, -0.5615437531418745, -0.5268974279084848, -0.4944816981127611, -0.46420401214738094, -2.3785639618551326, -2.4411347882447534, -2.49920710593247, -2.5520492332247056, -2.5989341003792577, -2.63915657076812, -2.6720533021993735, -2.69702488559802, -2.713559700922717, -2.7212584013196657, -2.719857164900079, -2.709247066857096, -2.689486582507608, -2.6608047409770172, -2.6235938101746075, -2.5783921442790874, -2.5258593424662075, -2.466746730367324, -2.401866304655601, -2.3320608499301536, -2.2581772062719003, -2.181043865382165, -2.1014533581585924, -2.0201493473245504, -1.9378179770899158, -1.8550828402083797, -1.7725028628413793, -1.6905724355914131, -1.6097231961228164, -1.5303269659058165, -1.4526994420631854, -1.3771043348052265, -1.3037577171518935, -1.2328324157894182, -1.16446232108605, -1.098746532362079, -1.0357532834821455, -0.9755236155676122, -0.9180747796931432, -0.8634033641217714, -0.8114881489694462, -0.7622926969713049, -0.7157676928675429, -0.6718530463159196, -0.6304797745398267, -0.5915716814226857, -0.5550468496825272, -0.5208189622772343, -0.48879846843422214, -0.4588936087708675, -2.35495839054627, -2.4163329427411426, -2.4732269960695685, -2.524923522100137, -2.5707115349704175, -2.6099031250687057, -2.641852885412594, -2.665979434747385, -2.6817884471409164, -2.688896103191727, -2.687051188931057, -2.676153390659505, -2.656265055334711, -2.6276141444302006, -2.590587310568523, -2.545713594661632, -2.4936406506310353, -2.4351062706142605, -2.3709081952645183, -2.3018748645169436, -2.228839108390676, -2.1526160101686878, -2.0739854598057925, -1.9936793511380002, -1.9123729978599937, -1.8306801393951264, -1.7491508414318429, -1.6682716217014881, -1.5884672086520697, -1.510103438470198, -1.4334908948915648, -1.3588889858987805, -1.2865102274050493, -1.2165245657180235, -1.1490636191960966, -1.0842247570095713, -1.02207496137138, -0.9626544408884098, -0.9059799783925202, -0.8520480080237892, -0.8008374244695013, -0.7523121328978222, -0.706423351873088, -0.6631116838679221, -0.6223089692579136, -0.5839399401751302, -0.5479236905242455, -0.5141749779959555, -0.48260537317654606, -0.4531242699495681, -2.3261920247954024, -2.3861550992629805, -2.4416658506417814, -2.4920250081336035, -2.536540909943067, -2.5745461849988724, -2.6054166662525833, -2.6285922021089814, -2.6435987399474907, -2.650070597536337, -2.6477712382744283, -2.6366103065723636, -2.6166544748417144, -2.5881300696065357, -2.551416487994315, -2.50703079254997, -2.45560515298157, -2.397859648406331, -2.3345732205698724, -2.266555336193086, -2.194620342936986, -2.1195657837467783, -2.0421552356031656, -1.963105671164583, -1.883078952939124, -1.802676855714382, -1.7224389392797674, -1.6428426146180501, -1.5643048209439179, -1.4871848268267394, -1.4117877661140148, -1.3383686077249681, -1.267136333219587, -1.1982581567225918, -1.1318636695346338, -1.0680488285574947, -1.0068797355583805, -0.9483961751655878, -0.8926148948902528, -0.8395326216698085, -0.7891288174197123, -0.74136818163187, -0.6962029127641718, -0.6535747424832283, -0.6134167581033358, -0.5756550290812879, -0.5402100533889693, -0.5069980391575677, -0.47593203629403, -0.44692293191059207, -2.292534951460776, -2.3508915399466024, -2.404834385208657, -2.453684794167432, -2.4967733359826925, -2.5334561059970593, -2.5631330459031996, -2.5852679480898493, -2.599409484066635, -2.605212179166552, -2.6024557462593645, -2.591060747071938, -2.5710984174671023, -2.542792873635596, -2.506514814250356, -2.4627670241585387, -2.4121631277388875, -2.3554018425284253, -2.2932393034535634, -2.2264618802685088, -2.155861420654372, -2.0822141906856233, -2.0062641162766486, -1.9287103710697049, -1.8501989649301342, -1.7713177661598805, -1.6925943089822788, -1.614495752033847, -1.5374304221331643, -1.461750468985676, -1.3877552504796873, -1.3156951538919348, -1.2457756311011325, -1.17816128503565, -1.1129798911906192, -1.0503262740176724, -0.9902659853067971, -0.9328387521499342, -0.878061677221186, -0.8259321851530693, -0.7764307166978452, -0.7295231778855098, -0.6851631551036244, -0.6432939093741437, -0.603850164431621, -0.566759703781466, -0.5319447919418843, -0.49932343470848006, -0.4688104926499945, -0.4403186612430803, -2.254300108934674, -2.310877568677163, -2.3630904096495517, -2.410283020527292, -2.451810742181372, -2.4870556470385603, -2.515444185746374, -2.5364662929223156, -2.5496952657243366, -2.5548073555928483, -2.5515995910171707, -2.540004009722508, -2.5200964105393426, -2.4920980852301993, -2.4563697600837755, -2.413397996684218, -2.3637753054728994, -2.30817596885144, -2.247329910179447, -2.1819968654812754, -2.112942704562914, -2.0409191542476908, -1.9666475519246025, -1.890806720998916, -1.8140246741643926, -1.7368736257086808, -1.6598677046888, -1.583462766215398, -1.5080577585333557, -1.4339971882471654, -1.3615743147743253, -1.2910347868290408, -1.222580503654185, -1.1563735408201383, -1.0925400256174234, -1.0311738820949707, -0.97234039249626, -0.9160795419321072, -0.8624091280512933, -0.8113276284042483, -0.7628168260690489, -0.716844199646754, -0.6733650874946344, -0.6323246384836776, -0.5936595629755366, -0.5572996983727925, -0.5231694037069372, -0.491188797447103, -0.4612748521611363, -0.43334235893371553, -2.2118365314015587, -2.2664861269854577, -2.3168307971163373, -2.362240173125035, -2.4020965140347066, -2.4358099348433324, -2.4628353022921545, -2.4826903595001304, -2.4949743789059062, -2.499386316213129, -2.4957410955731096, -2.4839824066052234, -2.464190378064193, -2.4365828156374434, -2.40150935054218, -2.359438713924925, -2.3109402242221435, -2.25666124742385, -2.1973027294688614, -2.1335948713031465, -2.066274680105286, -1.9960666066601482, -1.9236669077051225, -1.8497318674544736, -1.7748696400813635, -1.6996352503884884, -1.6245281934036664, -1.5499920691177373, -1.4764157390997532, -1.404135567822784, -1.3334383935114835, -1.2645649500178162, -1.19771352757032, -1.1330437148809969, -1.0706801086592757, -1.010715910544159, -0.9532163575052054, -0.8982219514621906, -0.8457514685924866, -0.7958047396472446, -0.7483652004687564, -0.7034022174865953, -0.6608731968096089, -0.6207254880438464, -0.5828980954787812, -0.5473232100487102, -0.5139275756904387, -0.482633703536159, -0.45336094692194706, -0.42602644955046554, -2.1655221382788454, -2.2181199386387296, -2.266482964618589, -2.310007886458112, -2.348105612425643, -2.380215902157544, -2.4058234412470814, -2.4244749163716173, -2.4357963896176527, -2.439509990734373, -2.435448674573469, -2.42356761532512, -2.403950833521307, -2.376811949243616, -2.3424885206942583, -2.301430164676548, -2.25418140582184, -2.201360798593312, -2.143638189549818, -2.0817119935552335, -2.016288084756427, -1.9480614500118563, -1.877701240667739, -1.805839393840162, -1.733062641727462, -1.6599075069438856, -1.586857779577348, -1.514343956878081, -1.4427441659222187, -1.3723861558137003, -1.3035500200553354, -1.236471380514804, -1.171344826566827, -1.1083274547824153, -1.0475423962262962, -0.9890822511955444, -0.9330123765498239, -0.8793739900738371, -0.8281870708289043, -0.7794530452328758, -0.7331572564940407, -0.6892712206767504, -0.6477546766134821, -0.6085574395048858, -0.5716210696819677, -0.5368803688901473, -0.5042647167865557, -0.4736992602709307, -0.44510596791539947, -0.4184045612111047, -2.1157562959448697, -2.166203433249774, -2.2124961418915174, -2.2540595484270494, -2.2903345150612013, -2.3207915797223775, -2.3449461502780995, -2.3623744797737016, -2.3727297337825553, -2.375757225984071, -2.3713076877058348, -2.3593473205845594, -2.339963434961959, -2.3133647502999244, -2.279875920616236, -2.2399264732226256, -2.1940349895143534, -2.142789877790693, -2.086828385391554, -2.0268155253630233, -1.9634243745980406, -1.8973188144465265, -1.8291393346490212, -1.7594921015811165, -1.688941164017146, -1.6180034567247017, -1.5471461559554966, -1.4767859162414452, -1.4072895458436927, -1.3389757337847663, -1.2721175067700754, -1.2069451585421525, -1.1436494516916986, -1.0823849405500963, -1.0232733033839854, -0.9664066035594474, -0.9118504238617042, -0.8596468369969621, -0.8098171895984937, -0.7623646877674004, -0.7172767800831512, -0.6745273397453098, -0.6340786515518719, -0.5958832121698197, -0.5598853539168698, -0.5260227032893665, -0.49422748592918064, -0.46442768977117854, -0.43654809786827564, -0.4105112019454509, -2.062952387613298, -2.1111747129332747, -2.1553327247377045, -2.1948810393638034, -2.22929135217859, -2.258065654512081, -2.280750502457256, -2.2969518619254865, -2.3063498650709966, -2.308712619787349, -2.3039080549011226, -2.291912713080217, -2.272816476728561, -2.246822462986062, -2.2142417435245374, -2.1754830745090605, -2.1310383652657414, -2.0814650627235807, -2.0273668942765455, -1.9693744514035767, -1.9081269234571585, -1.8442559668859821, -1.7783723057053498, -1.7110552861965056, -1.6428453092901596, -1.5742388619686603, -1.5056857609679708, -1.4375881886225088, -1.370301117399506, -1.3041337644070097, -1.2393517734383512, -1.1761798793653035, -1.1148048621278188, -1.0553786426941858, -0.9980214106615918, -0.9428247031503876, -0.8898543782733614, -0.8391534447955061, -0.7907447236398173, -0.7446333275099315, -0.7008089528127905, -0.659247983861752, -0.6199154134908011, -0.5827665870868763, -0.5477487789443269, -0.5148026109963015, -0.4838633245667683, -0.4548619159594105, -0.4277261465706481, -0.4023814378740278, -2.0075306198369205, -2.0534778178975337, -2.0954599990977956, -2.1329619241762052, -2.165486588931304, -2.1925676789225315, -2.2137828837359823, -2.2287676019318017, -2.237228405104787, -2.238955473313848, -2.2338330972654945, -2.2218473069961626, -2.2030897723446925, -2.177757349284011, -2.146147008179703, -2.108646328210184, -2.0657202002667154, -2.017894762117194, -1.965739821638122, -1.9098510684257481, -1.8508332381419743, -1.7892851249584316, -1.725787005292312, -1.6608907099596046, -1.595112312357476, -1.5289272114233146, -1.462767280499783, -1.3970197125743018, -1.33202719866575, -1.2680891103089738, -1.2054634042204477, -1.1443690172866998, -1.0849885671639994, -1.0274712152035885, -0.9719355832301203, -0.9184726440814547, -0.8671485284549585, -0.8180072083627621, -0.771073031235173, -0.726353089200535, -0.6838394159694337, -0.6435110096048982, -0.6053356837086963, -0.5692717525512094, -0.5352695577008517, -0.5032728449937771, -0.47322000140491305, -0.44504516167910535, -0.4186791945694226, -0.3940505782971484, -1.9499112698429648, -1.9935555169128718, -2.0333424845480663, -2.0687873690388763, -2.0994245471330104, -2.1248192416934426, -2.1445798686907422, -2.158370611314392, -2.1659236297382103, -2.1670501914019082, -2.161649923902041, -2.149717382900492, -2.131345219426207, -2.106723438341193, -2.0761345519347043, -2.039944811215215, -1.9985920819172032, -1.9525712535996582, -1.9024182694779777, -1.8486939094841293, -1.7919683528397834, -1.7328073254439356, -1.6717603574775375, -1.6093513951877731, -1.5460717716221268, -1.4823753672053142, -1.4186756859916292, -1.355344527371022, -1.292711930170972, -1.2310670904066676, -1.1706599921902512, -1.1117035341899357, -1.0543759757732354, -0.9988235645377588, -0.9451632391093273, -0.8934853277329902, -0.8438561847241982, -0.7963207239482687, -0.7509048218710663, -0.7076175730442869, -0.6664533887448341, -0.6273939353760671, -0.5904099135703325, -0.555462682039287, -0.5225057323713556, -0.49148602238938843, -0.46234517653017604, -0.4350205621285401, -0.40944625059342266, -0.38555387233845617, -1.890508540279028, -1.9318428025605496, -1.969435089555796, -2.0028309854595094, -2.031595976635047, -2.0553263142518823, -2.073660396976129, -2.0862902405250296, -2.0929724871138324, -2.0935383119043762, -2.0879015278727575, -2.076064199531813, -2.058119169848213, -2.0342490914495706, -2.004721822036472, -1.9698823631345719, -1.9301418426162253, -1.8859643101129602, -1.837852283379646, -1.7863320262562052, -1.7319394563606967, -1.6752074006186284, -1.6166546832545057, -1.5567772906573822, -1.4960416478049374, -1.4348798830165035, -1.373686857140696, -1.3128186837370512, -1.2525924563493251, -1.1932869144085299, -1.1351438092241288, -1.0783697674339607, -1.0231384856379653, -0.9695931235711691, -0.9178487925940385, -0.8679950610728085, -0.8200984185662035, -0.7742046570959561, -0.7303411407258484, -0.6885189447760662, -0.6487348537740816, -0.610973213138496, -0.5752076339851111, -0.5414025536464411, -0.5095146567608426, -0.479494163321859, -0.45128599104870104, -0.4248307999791494, -0.40006592740380786, -0.3769262212414475, -1.8297251426748637, -1.8687612169630472, -1.904177206338746, -1.9355487286840907, -1.962471798744782, -1.984572886307529, -2.0015193517648706, -2.0130298516142666, -2.0188842136901823, -2.018932209249548, -2.0131006144507886, -2.001397975731776, -1.9839165861010835, -1.9608313463499067, -1.9323954161082926, -1.8989328282341513, -1.8608285075883515, -1.8185163586096011, -1.772466227984525, -1.723170587689995, -1.6711317199177953, -1.6168500397321561, -1.5608139981650242, -1.5034918053443507, -1.4453250312805477, -1.3867240002742407, -1.3280648000906712, -1.2696876758149436, -1.211896561833309, -1.1549595131463757, -1.0991098195427993, -1.0445476154860276, -0.9914418296686618, -0.9399323478769075, -0.8901322894052548, -0.8421303201099044, -0.7959929442415038, -0.7517667327363626, -0.7094804580964589, -0.669147115817837, -0.6307658199769774, -0.594323566453608, -0.5597968616974631, -0.5271532182231555, -0.4963525203797401, -0.46734826558499765, -0.44008868729782247, -0.4145177666548201, -0.39057614002301655, -0.3682019098034217, -1.7679476838446908, -1.8047140787958538, -1.8379878098123905, -1.867373905280703, -1.8924980633592803, -1.9130159158240652, -1.9286225458438984, -1.939061881114393, -1.9441355094390351, -1.9437104102800025, -1.937725077348888, -1.9261935377122394, -1.909206861620815, -1.8869319055451752, -1.8596072286832508, -1.827536348650821, -1.7910787242470843, -1.7506390380780832, -1.7066554701899894, -1.6595876887307965, -1.6099052346357139, -1.5580768601400317, -1.5045612222130234, -1.4497991616008055, -1.3942076416959803, -1.3381752957546966, -1.2820594430386152, -1.2261843831363157, -1.1708407568355508, -1.1162857632769059, -1.0627440387217275, -1.0104090255167524, -0.9594446859343995, -0.9099874413872644, -0.862148241266536, -0.8160146864907457, -0.7716531505321561, -0.7291108553268109, -0.6884178713623137, -0.6495890207365942, -0.6126256694616434, -0.577517401092086, -0.544243568195043, -0.512774721506879, -0.4830739190644422, -0.45509791933694954, -0.4287982635702854, -0.40412225331194396, -0.3810138295122083, -0.35941435977674896, -1.7055428853199808, -1.7400826323939085, -1.7712615692384388, -1.798713283284159, -1.8220920950873318, -1.8410815481002571, -1.855403047837351, -1.8648243025042743, -1.8691671585991063, -1.8683143868711551, -1.8622149675958886, -1.850887459498747, -1.8344211200148424, -1.8129745753334001, -1.7867720075564981, -1.7560970151533326, -1.7212844869808916, -1.6827109827437572, -1.6407842110907274, -1.5959322272728962, -1.548592934810812, -1.4992043817589726, -1.4481962124388719, -1.3959824934503597, -1.3429559992517783, -1.2894839321398894, -1.2359049710045027, -1.1825274931337915, -1.1296287895159205, -1.0774550903203988, -1.0262222270707366, -0.9761167758065602, -0.9272975469621714, -0.8798973097876245, -0.8340246600742823, -0.7897659587390895, -0.7471872850719752, -0.7063363621229275, -0.6672444229661525, -0.629927995693214, -0.5943905922511139, -0.56062429194686, -0.5286112148532083, -0.49832488370743366, -0.4697314753970441, -0.4427909649442434, -0.41745816617631526, -0.39368367411932637, -0.3714147146734794, -0.3505959073985223, -1.642854627889531, -1.6752230980825265, -1.7043659362205206, -1.7299442506721243, -1.751639754243867, -1.7691625085524016, -1.7822587312317713, -1.7907183492695053, -1.7943819364900504, -1.793146647336075, -1.786970761372099, -1.7758764906622029, -1.7599507791678806, -1.7393439379000268, -1.7142661033232625, -1.6849816644178244, -1.6518019560951618, -1.615076642393926, -1.575184294350637, -1.532522694269199, -1.4874993696418717, -1.4405227850791968, -1.391994515032656, -1.342302602266973, -1.2918161938344328, -1.2408814500460679, -1.18981864921386, -1.1389203630733036, -1.0884505523012384, -1.0386444238684254, -0.989708896980766, -0.9418235373539211, -0.8951418367350138, -0.8497927331763113, -0.8058822857675505, -0.7634954342856681, -0.7226977890037154, -0.6835374085531543, -0.6460465343118889, -0.6102432584675961, -0.5761331099084237, -0.5437105476595718, -0.5129603559427791, -0.48385893829507287, -0.4563755107241525, -0.4304731957583594, -0.40611002060028056, -0.3832398235260457, -0.361813073277899, -0.3417776065507916, -1.5802017830548198, -1.6104645709034235, -1.637639139647182, -1.661412934580254, -1.6814937058041115, -1.6976165424879217, -1.7095508999674554, -1.7171073338513154, -1.7201436210198628, -1.7185699310780305, -1.7123527201480484, -1.701517057050351, -1.6861471620634796, -1.6663850382900047, -1.6424271976950868, -1.6145196157184263, -1.5829511742270987, -1.5480459560827147, -1.5101548220233023, -1.4696467238572315, -1.4269001864930977, -1.3822953317476114, -1.3362067312295818, -1.288997278271072, -1.2410131734064547, -1.1925800346253217, -1.1440000785865148, -1.0955502740670746, -1.0474813428263836, -1.0000174725680453, -0.9533566078076149, -0.9076711933364628, -0.8631092583349995, -0.8197957445359001, -0.7778339974333965, -0.7373073542869701, -0.6982807759725245, -0.6608024813312474, -0.6249055525157277, -0.5906094880269568, -0.5579216868337631, -0.5268388523565108, -0.4973483093694122, -0.469429230210632, -0.44305376924826567, -0.41818810647519444, -0.3947934025185378, -0.37282666835301215, -0.3522415536878041, -0.33298905842512383, -1.5178767710553362, -1.5461076926328552, -1.5713889964486514, -1.5934331732156886, -1.6119725710160584, -1.6267657595672624, -1.6376038322044497, -1.6443163895538273, -1.6467769235399488, -1.6449073113244967, -1.6386811410762703, -1.6281256287131092, -1.6133219479274281, -1.59440388234459, -1.5715548120055236, -1.5450031563080282, -1.515016499527352, -1.481894710244422, -1.4459624218162803, -1.4075612611905228, -1.3670421973103433, -1.3247583330761254, -1.281058395526863, -1.236281098768483, -1.1907504740159949, -1.1447721895179936, -1.098630825495332, -1.0525880277163355, -1.0068814374817445, -0.9617242834163434, -0.917305518556116, -0.873790391667839, -0.831321351771335, -0.7900191972392094, -0.749984394005287, -0.7112985002386985, -0.6740256466830812, -0.6382140323843628, -0.6038974046183165, -0.5710964995009247, -0.5398204261202291, -0.5100679822073431, -0.4818288935203565, -0.455084972399485, -0.4298111935064399, -0.4059766867124295, -0.3835456485582023, -0.3624781747713284, -0.3427310170707438, -0.3242582679838173, -1.4561447705833928, -1.4824240084340012, -1.505892435072668, -1.5262862226922063, -1.5433608294579977, -1.5568967370791014, -1.5667050840233727, -1.5726329665757393, -1.5745681617789646, -1.5724430226745318, -1.5662373109504202, -1.555979767511498, -1.5417482778371003, -1.5236685636665788, -1.5019114198809345, -1.476688607068633, -1.4482475961808516, -1.416865431867752, -1.3828420273137625, -1.3464932208234814, -1.3081439125331091, -1.268121562183345, -1.2267502729161552, -1.1843456202404532, -1.1412103182474844, -1.0976307539206094, -1.0538743697098125, -1.010187836667259, -0.9667959354685325, -0.923901049176248, -0.8816831674230755, -0.8403003043419944, -0.7998892397529137, -0.7605665028993214, -0.7224295289428297, -0.6855579294261946, -0.6500148283358207, -0.6158482248475257, -0.5830923521459914, -0.5517690088284757, -0.5218888453844381, -0.4934525931792513, -0.4664522273811327, -0.4408720584799495, -0.4166897495754145, -0.39387725857199873, -0.37240170590790744, -0.3522261695526603, -0.33331040980650806, -0.31561152698789785, -1.3952434973815695, -1.4196559132102684, -1.441395624465186, -1.4602210795258892, -1.4759093408892727, -1.488261241063126, -1.4971064032434125, -1.5023079252745806, -1.5037665128897484, -1.5014238485343354, -1.495264997961826, -1.4853196898011005, -1.4716623531569546, -1.45441086250016, -1.433724012775595, -1.409797823979996, -1.3828608454842206, -1.3531686882512692, -1.3209980514470652, -1.2866405250064012, -1.250396441048177, -1.2125690174447654, -1.1734589917057234, -1.133359889381388, -1.0925540152468707, -1.0513092033849651, -1.0098763180351966, -0.9684874628936648, -0.9273548329006026, -0.8866701286250198, -0.8466044475613965, -0.8073085670894836, -0.7689135386366973, -0.7315315200786998, -0.6952567823016254, -0.6601668351564611, -0.6263236270968602, -0.5937747811938479, -0.5625548377406104, -0.5326864802103295, -0.504181726910877, -0.47704307534759094, -0.4512645901455168, -0.42683292849346155, -0.40372829955496825, -0.3819253562415681, -0.36139401924960124, -0.3421002344017605, -0.32400666517611176, -0.3070733229071605, -1.3353834663628898, -1.358017092142679, -1.3781146031043385, -1.3954553039616977, -1.4098363635794926, -1.4210774346839732, -1.4290251169377388, -1.4335570860581273, -1.4345857035458713, -1.432060924641706, -1.4259723383433078, -1.4163502036209796, -1.4032653897978242, -1.3868281840693686, -1.367185991211242, -1.3445200141023421, -1.3190410624522602, -1.2909846849163753, -1.260605851650145, -1.2281734273762597, -1.1939646688225936, -1.158259957044411, -1.1213379387713296, -1.0834712067521273, -1.0449226025090297, -1.005942180679471, -0.9667648357043154, -0.9276085610552894, -0.888673289159092, -0.8501402462767883, -0.8121717497381499, -0.7749113736673947, -0.7384844121618961, -0.7029985744183822, -0.6685448533897547, -0.6351985173104668, -0.6030201812111993, -0.5720569229318466, -0.5423434148834285, -0.5139030487801373, -0.4867490357257114, -0.46088546841519906, -0.43630833586020157, -0.41300648403722473, -0.39096251827593176, -0.3701536451280951, -0.3505524529650672, -0.33212763171141213, -0.31484463299609144, -0.29866627264416823, -1.2767486534516295, -1.2976933634819559, -1.3162363085041953, -1.3321762376341932, -1.3453289566959548, -1.355531456708717, -1.362645872113631, -1.3665631133995086, -1.367206014019883, -1.364531836369414, -1.3585339975217352, -1.3492429029164177, -1.3367258144915186, -1.3210857267728657, -1.3024592766865835, -1.281013765838981, -1.2569434226782856, -1.2304650714909093, -1.2018134017251816, -1.1712360423998034, -1.1389886420019768, -1.105330135894416, -1.070518353967028, -1.034806085150831, -0.9984376767305945, -0.9616462089836613, -0.9246512524815967, -0.8876571882733659, -0.8508520509063784, -0.8144068407341023, -0.77847524448154, -0.7431937005224019, -0.70868174657293, -0.675042591387377, -0.6423638575571098, -0.6107184488722845, -0.5801655023051107, -0.5507513910993469, -0.5225107514355487, -0.49546751053461424, -0.46963589879746515, -0.4450214326494548, -0.4216218581938136, -0.39942804863207715, -0.3784248507438652, -0.35859187760010847, -0.3399042461780051, -0.3223332597134738, -0.3058470355222782, -0.29041107969307123, -1.219497477845874, -1.2388438380878293, -1.2559199160870635, -1.2705425196815159, -1.282544667071245, -1.2917792677149702, -1.2981226256512688, -1.301477629691769, -1.301776492665579, -1.298982907893825, -1.2930935063166662, -1.2841385223789339, -1.2721816101112011, -1.257318790941342, -1.2396765587380183, -1.2194092117552733, -1.1966955215138435, -1.1717348814253192, -1.144743100119574, -1.115948014187261, -1.0855850921042933, -1.0538931866505599, -1.0211105695723095, -0.9874713527233875, -0.9532023678314144, -0.9185205454785471, -0.8836308053322889, -0.8487244457638945, -0.8139780025646219, -0.7795525336073836, -0.7455932785585129, -0.7122296393456138, -0.6795754271094963, -0.6477293238825195, -0.6167755114021121, -0.5867844245861367, -0.5578135927180992, -0.5299085369165566, -0.5031036977231533, -0.47742337147045255, -0.4528826383966851, -0.4294882692289803, -0.40723960016770566, -0.38612936890488037, -0.3661445065461535, -0.3472668821308711, -0.32947399791312315, -0.31273963473011923, -0.29703444769103426, -0.28232651311331836, -1.163764031848713, -1.181602318361016, -1.1972984062387362, -1.2106858171035535, -1.2216134140247108, -1.2299486765439267, -1.235580795810994, -1.2384234719448317, -1.2384172952907981, -1.2355315998447112, -1.2297656914095394, -1.2211493750421312, -1.2097427352364745, -1.1956351564340328, -1.1789436084349818, -1.1598102581353191, -1.1383995025438003, -1.1148945452498595, -1.0894936570500808, -1.062406269890843, -1.0338490513930687, -1.004042095883627, -0.9732053489056526, -0.9415553580736991, -0.9093024165487995, -0.8766481388436214, -0.8437834841906291, -0.8108872217652261, -0.7781248154519952, -0.745647693790594, -0.7135928629981692, -0.6820828169923157, -0.6512256974285155, -0.6211156581742692, -0.5918333916674674, -0.5634467786414183, -0.5360116272519015, -0.5095724723392585, -0.48416341013490083, -0.4598089480021952, -0.4365248526833787, -0.41431898395857036, -0.39319210360009205, -0.3731386520406137, -0.3541474872993424, -0.33620258246643964, -0.3192836794762526, -0.303366898048679, -0.28842529958652197, -0.27442940652361725, -1.1096594929860497, -1.1260788682340306, -1.1404802888249628, -1.1527126970009673, -1.1626394990250497, -1.1701414737293596, -1.1751195027320693, -1.1774970201008004, -1.177222080089558, -1.1742689483939197, -1.1686391355732368, -1.1603618107535913, -1.1494935586872863, -1.136117472283225, -1.1203416038328848, -1.1022968289316704, -1.0821342049903082, -1.0600219288834585, -1.0361420138291677, -1.0106868129212867, -0.9838555156272139, -0.9558507346829029, -0.9268752855789083, -0.8971292411474927, -0.8668073217438057, -0.8360966591896942, -0.8051749517284058, -0.7742090089781637, -0.7433536710275948, -0.712751074671945, -0.6825302322505176, -0.6528068842438128, -0.6236835851985079, -0.5952499830797935, -0.5675832542272046, -0.5407486591931383, -0.5148001884380025, -0.48978127080099054, -0.4657255216061511, -0.4426575110245523, -0.4205935367826439, -0.3995423884232383, -0.3795060930636389, -0.36048063495777893, -0.34245664317380253, -0.32542004337459707, -0.30935267107100883, -0.2942328448413474, -0.2800358989121643, -0.26673467520735095, -1.0572736611909863, -1.0723614951320117, -1.0855514248271854, -1.0967065797562388, -1.1057036793189539, -1.1124356117188023, -1.1168138389890965, -1.118770539742255, -1.1182604029527328, -1.1152619928501897, -1.1097786170503965, -1.1018386471882229, -1.09149526283207, -1.0788256141341712, -1.0639294248481903, -1.0469270830736812, -1.0279572903339877, -1.0071743584878128, -0.9847452570440471, -0.9608465198106008, -0.935661119270883, -0.9093754101452324, -0.8821762313462788, -0.8542482394670707, -0.8257715287215338, -0.7969195735216197, -0.7678575120403054, -0.7387407732524727, -0.7097140367606365, -0.6809105045187667, -0.6524514563685238, -0.6244460568633412, -0.5969913787926062, -0.5701726086716097, -0.5440634007643839, -0.5187263485189257, -0.49421354523948446, -0.4705672090907247, -0.4478203508861587, -0.4259974663873307, -0.4051152379145513, -0.38518323287455836, -0.3662045893097414, -0.3481766807573954, -0.3310917545837704, -0.3149375395453504, -0.29969781965441933, -0.2853529725167234, -0.2718804711947387, -0.25925534935994365, -1.0066765719175708, -1.0205178938287007, -1.0325768946291398, -1.04272972284625, -1.0508652559019946, -1.0568873834250916, -1.0607171233002477, -1.0622944941356143, -1.061580070125667, -1.0585561508173602, -1.053227489181542, -1.04562153641261, -1.0357881803867484, -1.023798975664712, -1.0097458849606378, -0.9937395735329994, -0.9759073173608426, -0.9563906017608951, -0.935342498112861, -0.9129249118861218, -0.8893057950365186, -0.8646564104397162, -0.8391487261850535, -0.8129530044349673, -0.7862356344838108, -0.7591572439447425, -0.7318711068195585, -0.7045218534851554, -0.6772444759846985, -0.6501636127710417, -0.6233930902818776, -0.5970356942956256, -0.5711831416495157, -0.5459162222455722, -0.5213050819498231, -0.49740961864150446, -0.4742799659678665, -0.4519570420328287, -0.43047314307740203, -0.40985256503294853, -0.3901122385293603, -0.37126236544447777, -0.35330704734430296, -0.3362448981678732, -0.32006963525349574, -0.3047706442957743, -0.2903335150828188, -0.2767405459126957, -0.2639712154513627, -0.2520026214947224, -0.9579201438205371, -0.9705972106032688, -0.9816028715905077, -0.9908251945995297, -0.9981641362276231, -1.0035335609283542, -1.0068631008896427, -1.0080997909559373, -1.0072094154636173, -1.0041775100348105, -0.9990099711477967, -0.9917332394217572, -0.9823940384487344, -0.9710586687974643, -0.9578118753741595, -0.9427553243727719, -0.92600574227712, -0.9076927826055726, -0.8879566953869527, -0.8669458791603961, -0.8448143954578466, -0.8217195215349817, -0.7978194092094483, -0.7732709069552416, -0.7482275899385313, -0.7228380295255386, -0.6972443209069428, -0.6715808756452251, -0.6459734757151143, -0.6205385772935186, -0.5953828462726596, -0.5706029031540918, -0.5462852524435922, -0.5225063706424218, -0.49933292712145483, -0.47682211327193946, -0.455022057075237, -0.43397230238443907, -0.4137043345676741, -0.39424213657399143, -0.3756027618356401, -0.3577969126385019, -0.3408295146270943, -0.32470027993599104, -0.30940425304720565, -0.2949323348660613, -0.2812717816977286, -0.2684066768090472, -0.2563183730943215, -0.24498590604905957, -0.911039826884839, -0.9226317938667898, -0.9326584677386839, -0.9410188057389924, -0.9476228408023066, -0.9523934650136772, -0.955268062875783, -0.9561999378145852, -0.9551594781327973, -0.9521350143718376, -0.9471333287556568, -0.940179788815154, -0.9313180909272877, -0.9206096146077067, -0.908132404040495, -0.8939798084734452, -0.8782588267044411, -0.8610882119874392, -0.8425964015544032, -0.8229193391280099, -0.8021982591649014, -0.7805774983279108, -0.7582023933362689, -0.7352173155983783, -0.7117638827261623, -0.6879793760188717, -0.6639953820764903, -0.6399366665157658, -0.6159202788008971, -0.5920548797689404, -0.5684402776578423, -0.5451671543184913, -0.5223169606879117, -0.49996195932293497, -0.4781653916095472, -0.4569817479294471, -0.4364571203517633, -0.4166296191172252, -0.3975298361209987, -0.3791813406389797, -0.36160119457437756, -0.34480047645054657, -0.32878480519126185, -0.3135548563806383, -0.2991068651671305, -0.28543311126704163, -0.2725223826380203, -0.26036041534339227, -0.2489303079278693, -0.23821290928994543, -0.8660562234813692, -0.876638904378197, -0.8857575256401004, -0.8933209739727168, -0.8992484303362054, -0.9034709437603236, -0.9059328645151822, -0.906593088023425, -0.9054260637145989, -0.9024225283147097, -0.8975899307916141, -0.8909525261033479, -0.8825511265831888, -0.8724425126205442, -0.8606985174944329, -0.847404813943153, -0.8326594414650662, -0.8165711226831173, -0.7992574237766885, -0.7808428176206474, -0.7614567087662223, -0.7412314769048975, -0.7203005903599569, -0.6987968340101307, -0.6768506875286893, -0.6545888806089684, -0.6321331425915298, -0.6095991551603921, -0.5870957089588345, -0.5647240583674751, -0.5425774634298757, -0.5207409040233613, -0.49929094878025526, -0.47829575982657624, -0.4578152139411089, -0.4379011210533461, -0.4185975219016582, -0.39994104798760555, -0.38196132853514575, -0.36468143086956206, -0.3481183223701325, -0.3322833438502053, -0.3171826858259583, -0.3028178606177738, -0.2891861645672036, -0.27628112584066766, -0.26409293432908987, -0.2526088510471567, -0.2418135951970697, -0.23168970770127362, -0.8229766607001894, -0.8326223642781905, -0.8409003367832437, -0.8477285032527805, -0.853034336488199, -0.8567562447101322, -0.8588448283224792, -0.8592639640517965, -0.8579916774879481, -0.8550207698752202, -0.8503591718286401, -0.8440300052577558, -0.8360713447911181, -0.8265356808869732, -0.8154890979599559, -0.8030101915626123, -0.7891887582545818, -0.7741242996605889, -0.757924387884771, -0.7407029426153025, -0.7225784708260659, -0.7036723180756193, -0.6841069763149823, -0.6640044872848008, -0.6434849735364221, -0.6226653214068882, -0.6016580324454959, -0.5805702522917697, -0.5595029792059518, -0.5385504486055115, -0.5177996852070907, -0.4973302107541988, -0.4772138927878913, -0.4575149183920779, -0.43828987618028625, -0.4195879298319807, -0.40145106707638023, -0.3839144090110491, -0.3670065658991237, -0.3507500270004187, -0.33516157346735675, -0.32025270480667856, -0.3060300708214747, -0.29249590227026645, -0.27964843468979694, -0.26748232091426094, -0.25598902878378405, -0.24515722137109508, -0.23497311777465724, -0.22542083313760441, -0.7817966974559755, -0.7905741294494343, -0.7980752721601589, -0.8042262646897517, -0.8089620845653432, -0.8122277703645028, -0.8139795231671964, -0.8141856510362968, -0.8128273233725911, -0.8098991063528442, -0.8054092566671982, -0.7993797582250853, -0.7918460950708471, -0.7828567630050888, -0.7724725318268385, -0.7607654791360245, -0.7478178247150926, -0.7337206011513391, -0.7185722011833886, -0.702476845013104, -0.6855430114379193, -0.6678818752112672, -0.6496057897608394, -0.6308268496320097, -0.6116555611970436, -0.5921996437283423, -0.5725629763116211, -0.5528446996582124, -0.5331384759776157, -0.5135319049172842, -0.494106089303991, -0.4749353410847892, -0.4560870154524044, -0.43762145958337295, -0.4195920616159843, -0.40204538532718814, -0.3850213763052506, -0.36855362613334663, -0.35266968208469107, -0.337391390983647, -0.32273526712727385, -0.3087128754231656, -0.29533122213349694, -0.2825931467862175, -0.2704977099003627, -0.2590405721590483, -0.24821436154571797, -0.23800902573587224, -0.22841216771161243, -0.2194093631459728, -0.7425015542913067, -0.7504757742055248, -0.757260315239443, -0.7627887705784271, -0.7670029009216374, -0.7698537110227912, -0.7713024145600302, -0.7713212566456965, -0.7698941657790909, -0.767017210966738, -0.7626988450075978, -0.7569599213861928, -0.7498334795553945, -0.741364301257962, -0.7316082485053352, -0.7206314014474855, -0.7085090211828045, -0.6953243681752839, -0.6811674110560317, -0.6661334629893809, -0.6503217834107862, -0.6338341818551081, -0.6167736579680461, -0.5992431079035812, -0.5813441224908269, -0.5631758971677903, -0.5448342680833773, -0.5264108832847809, -0.5079925128017664, -0.48966049691210456, -0.4714903280525016, -0.4535513587887219, -0.4359066259821296, -0.4186127797451755, -0.4017201048920229, -0.38527262226772185, -0.36930825747716134, -0.3538590650303357, -0.3389514966761398, -0.3246067036273803, -0.31084086341133577, -0.29766552315381256, -0.2850879521738776, -0.27311149779714694, -0.2617359392636176, -0.2509578354969677, -0.2407708633073975, -0.2311661433169261, -0.22213255152562583, -0.21365701498348666, -0.705067457562629, -0.7122998810807821, -0.7184244912612094, -0.7233816366575427, -0.7271192013638796, -0.7295935524072685, -0.7307703846248754, -0.7306254367283611, -0.729145054576821, -0.7263265811863926, -0.7221785576222677, -0.716720724487762, -0.7099838200082194, -0.7020091773994841, -0.6928481309606636, -0.6825612467660724, -0.671217399589572, -0.658892722454397, -0.6456694587099796, -0.6316347486322125, -0.6168793831642934, -0.6014965566059765, -0.5855806479579251, -0.5692260574499408, -0.5525261207951864, -0.5355721192097609, -0.518452398510393, -0.5012516059207135, -0.484050048805339, -0.4669231755860186, -0.4499411756942173, -0.43316869264443936, -0.41666464218859844, -0.4004821260104987, -0.3846684304883685, -0.3692650996202722, -0.35430807118996177, -0.339827865564569, -0.3258498170787323, -0.31239433869833766, -0.2994772115061386, -0.28710989145755694, -0.27529982677471265, -0.264050780247606, -0.2533631515693773, -0.24323429563188825, -0.2336588334385672, -0.2246289529491583, -0.21613469775438743, -0.2081642419900307, -0.6694628928358362, -0.6760113316072425, -0.6815291898383522, -0.6859629306899537, -0.6892659597226003, -0.6913994582390541, -0.6923331228312875, -0.6920457886046145, -0.690525915687273, -0.6877719217567386, -0.6837923473497065, -0.6786058455315571, -0.672240992880689, -0.6647359244395665, -0.6561378010073085, -0.6465021225944745, -0.6358919067334963, -0.6243767543776959, -0.6120318291213012, -0.598936777299429, -0.5851746171283818, -0.5708306244538497, -0.5559912409952417, -0.5407430283782657, -0.5251716879491766, -0.5093611625996617, -0.4933928328406396, -0.47734481536909246, -0.46129136856684383, -0.44530240590655734, -0.4294431152258227, -0.4137736793296054, -0.39834909141779584, -0.38321905739878703, -0.3684279762053335, -0.354014988721707, -0.3400140857960803, -0.32645426598068195, -0.3133597340456846, -0.30075013188833477, -0.28864079414925614, -0.27704302160564676, -0.26596436619639974, -0.2554089223163347, -0.2453776197724873, -0.23586851450817314, -0.22687707386000722, -0.21839645371269523, -0.21041776545414326, -0.20293033110911995, -0.6356497649042068, -0.641568496498363, -0.6465293803033003, -0.6504844078052057, -0.6533919579857641, -0.6552175300435292, -0.6559343905468422, -0.6555241157241063, -0.6539770115484598, -0.6512923970451567, -0.6474787397717943, -0.6425536365720457, -0.6365436373108644, -0.6294839141513433, -0.6214177837916073, -0.6123960946944218, -0.6024764954725588, -0.5917226040259753, -0.5802030995952832, -0.5679907614887385, -0.555161478813222, -0.5417932551141504, -0.5279652304891076, -0.5137567416189301, -0.4992464374300991, -0.4845114649546953, -0.46962673658571963, -0.4546642865208612, -0.4396927209098118, -0.4247767632011985, -0.409976893521494, -0.39534907867213787, -0.38094458753000104, -0.3668098852803383, -0.35298659897698537, -0.3395115463717717, -0.32641681973352066, -0.31372991643082737, -0.30147390832566523, -0.2896676424626754, -0.27832596609310967, -0.2674599696999811, -0.25707724235637275, -0.24718213442347503, -0.23777602325640346, -0.22885757821794894, -0.22042302189203888, -0.21246638493249992, -0.20497975247532474, -0.19795350048277238, -0.6035844639342585, -0.6089243256832497, -0.6133747211761997, -0.6168926348806745, -0.6194409211149889, -0.6209889480687945, -0.621513163957367, -0.6209975687861706, -0.6194340769729536, -0.6168227585267265, -0.6131719495528289, -0.6084982264342427, -0.6028262419867465, -0.596188426022001, -0.5886245568809085, -0.5801812144151473, -0.570911128400525, -0.5608724392883777, -0.5501278904029154, -0.538743972082129, -0.5267900387991338, -0.5143374200040238, -0.5014585443584907, -0.4882260953029538, -0.4747122136357458, -0.4609877601523409, -0.4471216485492422, -0.43318025589697506, -0.4192269151658963, -0.40532149166200626, -0.3915200428830261, -0.3778745592960704, -0.3644327818968043, -0.35123809114289894, -0.33832946094745275, -0.325741470842664, -0.3135043691410426, -0.30164417988679126, -0.2901828465568119, -0.2791384057941053, -0.26852518489373867, -0.25835401727609497, -0.24863247074120665, -0.23936508387601685, -0.23055360656176682, -0.2221972410861459, -0.21429288089265075, -0.20683534449004615, -0.19981760249381963, -0.1932309961762544, -0.5732188389076092, -0.5780273402203335, -0.5820105666246729, -0.5851300076312558, -0.5873525409517866, -0.5886509983816606, -0.5890046609809891, -0.5883996694033538, -0.5868293368198474, -0.5842943540506154, -0.5808028791889654, -0.5763705070927196, -0.5710201175006016, -0.5647816040608575, -0.5576914900713057, -0.5497924400568235, -0.5411326792903726, -0.5317653358552015, -0.521747721735645, -0.5111405706367185, -0.5000072507350313, -0.48841297036509057, -0.4764239937960353, -0.46410688283858814, -0.45152777815066525, -0.43875173190907546, -0.42584210111527376, -0.4128600083334717, -0.3998638742347831, -0.3869090240395898, -0.37404736788772897, -0.36132715337599697, -0.3487927870148837, -0.3364847201825403, -0.3244393942863917, -0.3126892392621996, -0.30126271921657266, -0.2901844189174414, -0.27947516491924773, -0.2691521753383117, -0.25922923263258535, -0.24971687415680943, -0.24062259573001166, -0.23195106394386933, -0.22370433343811458, -0.21588206585781222, -0.20848174767563377, -0.20149890450256813, -0.19492730991711538, -0.188759187213706, -0.5445010808177431, -0.5488225293296691, -0.5523788739055484, -0.5551356651018469, -0.5570633945478709, -0.5581379920365894, -0.5583412585425833, -0.5576612230475304, -0.556092412489859, -0.5536360260620024, -0.5503000074045556, -0.5460990109118575, -0.5410542612646718, -0.5351933083195892, -0.5285496824756502, -0.5211624584692485, -0.5130757380849715, -0.5043380643971318, -0.49500178178079945, -0.48512235698968187, -0.47475767706255834, -0.46396733969592296, -0.4528119510470996, -0.44135244477625313, -0.4296494345858528, -0.4177626106749668, -0.4057501885008101, -0.393668416137793, -0.38157114444171625, -0.3695094622478061, -0.35753139702262327, -0.34568167979970554, -0.3340015718873304, -0.32252874975682366, -0.3112972437001944, -0.3003374252728819, -0.28967603818944565, -0.27933626718948523, -0.2693378394068837, -0.2596971529269658, -0.2504274274721672, -0.24153887248984507, -0.2330388683005784, -0.22493215638039565, -0.2172210352780073, -0.2099055590941541, -0.2029837358636315, -0.19645172357344776, -0.19030402191739482, -0.18453365822471968];\n",
       "const lower_is_better = false;\n",
       "const metric = \"hartmann6\";\n",
       "const rel = false;\n",
       "const sd = [0.30965674580161817, 0.2947550220483009, 0.28063137611689176, 0.2674083499326464, 0.255202579793117, 0.24412707157612135, 0.23429613722822243, 0.22583215379829144, 0.21887191758920405, 0.21356910586035963, 0.21008907002450675, 0.20859373814134255, 0.20921799182747863, 0.21204326690426936, 0.21707675915056615, 0.224243297725674, 0.23339199507334082, 0.2443142027478749, 0.25676629915703036, 0.2704912858537657, 0.28523564884072505, 0.3007605329114007, 0.31684793119060767, 0.3333032268750297, 0.34995540524309526, 0.3666559606963519, 0.38327719040018526, 0.39971029284633647, 0.41586349781640036, 0.4316603324420402, 0.44703805696359045, 0.46194626601629907, 0.4763456340173839, 0.49020677790231465, 0.503509211611481, 0.5162403710179113, 0.5283946934270286, 0.539972741235246, 0.550980364193838, 0.561427898697939, 0.5713294055098125, 0.5807019493476272, 0.5895649249066519, 0.5979394342456489, 0.6058477201997994, 0.6133126597116774, 0.6203573198407858, 0.6270045778514355, 0.6332768053097586, 0.6391956146516877, 0.29830980258361733, 0.2828309397933084, 0.26817660979751085, 0.2544815264118029, 0.24187242887151433, 0.2304694199360396, 0.22039054039119657, 0.2117590159247534, 0.20471091656118545, 0.19939923766273285, 0.1959897279564965, 0.19464539063456512, 0.19550088532372545, 0.19863354229613184, 0.20404098622438765, 0.2116335551909845, 0.22124339978821955, 0.23264549339910623, 0.2455827486866481, 0.2597886239844584, 0.2750038390174945, 0.2909867523165202, 0.3075185743911372, 0.3244050409456211, 0.3414759774624369, 0.3585837856904171, 0.3756015020142201, 0.3924207935258493, 0.40895007151898344, 0.42511279116474615, 0.44084594563961704, 0.45609873380803045, 0.4708313696976439, 0.48501400119420107, 0.4986257096094104, 0.5116535680811976, 0.5240917434645914, 0.5359406325505374, 0.5472060286627015, 0.5578983187597076, 0.5680317141037087, 0.5776235194262974, 0.5866934464565081, 0.5952629778201615, 0.6033547868287588, 0.6109922177007338, 0.6181988294428884, 0.6249980051000561, 0.6314126264787695, 0.6374648128737725, 0.28775171076556794, 0.2717057852810982, 0.2565313466361184, 0.24237801866430933, 0.22938577975646512, 0.21768485964440587, 0.2073992732674135, 0.19865384724335622, 0.19158264734440966, 0.18633449185822643, 0.18307006314298294, 0.18194666948854962, 0.18309166096582205, 0.1865720403164726, 0.1923716487089859, 0.200384882553481, 0.21042829955197853, 0.22226403987127522, 0.23562624628389353, 0.2502436893132716, 0.26585564745561546, 0.2822211538816161, 0.2991231743281196, 0.3163695106063572, 0.3337918793782896, 0.3512441449069586, 0.36860028717424065, 0.38575241051845194, 0.402608926903719, 0.41909295131087193, 0.43514089746893647, 0.4507012410111814, 0.46573341177145966, 0.480206779778123, 0.49409970608424025, 0.5073986373287089, 0.5200972304411036, 0.5321955004671591, 0.543698989797377, 0.554617961063449, 0.5649666186940561, 0.574762365728195, 0.5840251031351389, 0.5927765787576468, 0.6010397922476131, 0.6088384611606722, 0.6161965518663813, 0.623137877248672, 0.6296857614379358, 0.63586277013663, 0.2780923593515588, 0.2614908214441821, 0.24580589563734417, 0.23120494644944087, 0.21784485804141154, 0.2058700035896035, 0.19541392161923044, 0.18660509986363386, 0.17957520395931967, 0.17446543612196028, 0.17142499903881622, 0.17059697550347774, 0.17209232607797673, 0.17596002764761504, 0.18216550375698282, 0.19058642947958343, 0.20102647330173762, 0.21323990400179152, 0.22695786993936162, 0.2419099068382495, 0.2578383537079875, 0.27450627954454043, 0.2917007068283905, 0.3092329430978697, 0.3269373915931782, 0.3446697216191357, 0.3623048971060957, 0.37973530913286924, 0.39686910783154067, 0.41362874758675416, 0.4299497203202452, 0.44577943708492607, 0.4610762170113884, 0.4758083481202828, 0.4899531926888537, 0.5034963185026365, 0.5164306452414879, 0.528755601881468, 0.5404762961516277, 0.5516027007901082, 0.5621488637283255, 0.5721321505765847, 0.5815725280836088, 0.590491896787019, 0.5989134800401651, 0.6068612751560835, 0.6143595706997335, 0.6214325321172243, 0.6281038560324962, 0.6343964917681465, 0.2694496962938144, 0.252307481245591, 0.23612239179851732, 0.22108206630267338, 0.2073641186904441, 0.19513181254824702, 0.18453301200060493, 0.1757034143072828, 0.16877312943661518, 0.16387279284747774, 0.1611331898330667, 0.16067330464881074, 0.16257710334965003, 0.16686688691382068, 0.17348506779448178, 0.18229270252167395, 0.19308446477586175, 0.2056126931949942, 0.21961183588959737, 0.23481772408235457, 0.2509800474911431, 0.2678689342150105, 0.28527741545452723, 0.3030214432250815, 0.3209386713344786, 0.3388867533910963, 0.35674157172759086, 0.37439559210931544, 0.39175641119126325, 0.40874549584895287, 0.42529708242280395, 0.44135719407184293, 0.45688273605945445, 0.47184063591854447, 0.4862070045237132, 0.49996630313046164, 0.513110509389266, 0.5256382817611875, 0.5375541265565802, 0.5488675750839532, 0.5595923803183698, 0.5697457432955708, 0.5793475793275128, 0.5884198333202809, 0.5969858521393471, 0.6050698202725244, 0.6126962631317799, 0.619889620337965, 0.6266738893582599, 0.6330723380087412, 0.261950336739853, 0.24428942805151055, 0.2276187483958952, 0.2121479672576659, 0.1980788335166585, 0.1855984155396031, 0.17487454870510646, 0.1660550341029181, 0.15927067043596302, 0.15463949304997518, 0.15226706655115615, 0.1522379337890471, 0.1545979626786007, 0.15933415508945725, 0.16636198349423525, 0.17552692723846203, 0.1866192800193138, 0.19939562278109518, 0.2135997664060846, 0.22897886503110645, 0.24529367404267466, 0.26232388766552195, 0.279870097528588, 0.2977537611918337, 0.31581617392163597, 0.33391705918928294, 0.35193311432075364, 0.36975666690008546, 0.38729449090166373, 0.4044667748043302, 0.42120620858339575, 0.43745714967562677, 0.45317483131229863, 0.4683245846289975, 0.4828810554076162, 0.4968274053272432, 0.5101544952670445, 0.5228600541654161, 0.5349478411813746, 0.5464268115855068, 0.5573102981622022, 0.5676152201805454, 0.5773613314232867, 0.5865705175612911, 0.5952661515073603, 0.6034725134360255, 0.6112142800514724, 0.6185160855428582, 0.6254021545870908, 0.6318960058301705, 0.25572841120554757, 0.23758268781397682, 0.22045071313411868, 0.2045647041739814, 0.19015281962082362, 0.17743013680574904, 0.16659008205265177, 0.1577981592132595, 0.1511892762337588, 0.14686805781649706, 0.14490904981905137, 0.145352909890141, 0.14819740980213725, 0.1533870261246371, 0.16080770924839927, 0.17029119902534187, 0.18162801965544853, 0.1945844905073056, 0.20891883546771062, 0.2243935276589104, 0.24078324316622648, 0.25787912469536883, 0.27549047205635874, 0.29344487915047623, 0.3115875658826652, 0.3297803833198871, 0.34790076118807417, 0.36584072432975756, 0.38350601699474907, 0.40081532584144786, 0.41769957119727075, 0.4341012312906252, 0.44997366845954256, 0.4652804347763927, 0.4799945439802964, 0.4940977053181709, 0.5075795220256184, 0.5204366624707941, 0.5326720155038582, 0.5442938435233836, 0.5553149474648224, 0.5657518576081626, 0.5756240630378405, 0.5849532909783317, 0.5937628452504742, 0.6020770108953419, 0.6099205297204162, 0.6173181492448871, 0.6242942453493506, 0.6308725169472306, 0.2509217163742726, 0.23234238399300464, 0.21478988052280606, 0.1985179385152856, 0.1837815813485214, 0.17082630846101984, 0.15987540769423736, 0.15111714047040684, 0.14469434771408649, 0.14069870314498564, 0.1391699527891865, 0.14009811818261275, 0.14342600784370388, 0.1490512855839466, 0.1568297400161793, 0.16658170424992955, 0.17810175510580614, 0.19116993890640227, 0.2055622974779057, 0.2210592070653725, 0.23745108073612278, 0.2545417153849297, 0.27214987611241237, 0.2901097330204908, 0.3082706505740495, 0.32649667772103924, 0.3446659481984192, 0.362670094176236, 0.380413705481779, 0.3978138261594875, 0.4147994622537765, 0.431311071591498, 0.4473000114824935, 0.4627279289556432, 0.4775660874143306, 0.49179463178181215, 0.5054018005948553, 0.5183830979442237, 0.5307404408092278, 0.5424812984771892, 0.5536178406926268, 0.5641661102381366, 0.5741452340594208, 0.5835766850163717, 0.5924836040370257, 0.6008901900073688, 0.6088211622602525, 0.6163012981259921, 0.6233550457562497, 0.6300062103987047, 0.24766457079968, 0.22872490912299753, 0.2108156544817815, 0.19420945448870253, 0.17918638227940342, 0.16602196172498737, 0.1549707128131952, 0.14624641802506644, 0.14000273752314935, 0.13631981369238452, 0.13520181702984715, 0.13658601436845205, 0.14035856596056054, 0.14637032705882347, 0.15444859947924247, 0.16440479929957197, 0.1760399996954781, 0.1891499356023425, 0.2035298902534435, 0.21897914346877984, 0.23530455609347986, 0.25232309414305687, 0.2698633602197571, 0.28776635907411185, 0.305885763742126, 0.3240879079727774, 0.34225165679279734, 0.36026823414969034, 0.37804103180222953, 0.3954853910509451, 0.4125283352093738, 0.4291082299395809, 0.4451743549215369, 0.4606863794071755, 0.4756137432436708, 0.4899349524805756, 0.503636804160279, 0.51671355832803, 0.5291660769511458, 0.5410009496626148, 0.5522296253958794, 0.5628675673617065, 0.5729334466840069, 0.5824483875542241, 0.591435274135227, 0.5999181267650036, 0.6079215523747576, 0.6154702715255707, 0.6225887221505336, 0.6293007380211866, 0.2460775422599071, 0.22687535689339064, 0.20870032982327746, 0.19184014757379328, 0.17659581881563177, 0.1632690910308109, 0.15214291056710033, 0.1434553055024503, 0.13737112041962307, 0.13396070692295445, 0.13319553950678958, 0.13496413175013552, 0.13910091176014341, 0.14541495480068728, 0.15370913564060043, 0.163788388933666, 0.17546117070524245, 0.18853878885214695, 0.2028352487795255, 0.21816821400801756, 0.23436064632760234, 0.25124252508336353, 0.26865227358039695, 0.28643778890608623, 0.3044571345848348, 0.32257900551604607, 0.3406830559007937, 0.35866013859395984, 0.3764124664169442, 0.39385368314559865, 0.4109088241420498, 0.42751414941775046, 0.44361684019368375, 0.45917455980791433, 0.4741548886882276, 0.4885346499181005, 0.5022991463947174, 0.515441332898994, 0.527960946962936, 0.5398636216610826, 0.5511600017599193, 0.5618648823483603, 0.5719963863861884, 0.5815751947257735, 0.5906238392184363, 0.5991660666111362, 0.607226278150607, 0.6148290472053117, 0.6219987148446435, 0.6287590612243914, 0.24625527968924216, 0.22691163586122248, 0.20858874112869852, 0.19158464344374432, 0.17621528362938188, 0.16280156264056345, 0.15164751207064958, 0.14300921398161817, 0.1370594771048482, 0.13386020775105234, 0.13335660161039906, 0.1353987157425122, 0.13978076123668398, 0.146279821271508, 0.15468054954026048, 0.16478382535202143, 0.17640514584723138, 0.18936964995892325, 0.20350801677277144, 0.21865454912337629, 0.2346470749896405, 0.25132783185877466, 0.2685446665434608, 0.2861522009572291, 0.30401285135454786, 0.32199770014057544, 0.3399872432095433, 0.3578720213466314, 0.3755531246851812, 0.39294254875569257, 0.40996338117091674, 0.426549805997983, 0.44264692400041744, 0.45821039786112394, 0.4732059403509979, 0.48760866950438625, 0.501402358266778, 0.514578607223806, 0.5271359684474293, 0.5390790467193877, 0.5504176018382994, 0.5611656727076356, 0.5713407406688421, 0.5809629462486591, 0.5900543702440405, 0.5986383869517063, 0.6067390944222614, 0.6143808239290062, 0.6215877284290785, 0.6283834476922568, 0.24825467621751382, 0.22890835495432332, 0.21057662471434527, 0.19356285361804643, 0.17819070593144776, 0.16479079632555943, 0.15367733368031272, 0.14511412711646715, 0.13927545285624926, 0.13621534265146426, 0.13586151410066227, 0.13804038450319045, 0.1425221524478261, 0.14906504812630175, 0.15744333079974687, 0.16745652920753587, 0.1789263588717953, 0.1916892605871771, 0.2055897129364278, 0.2204761792162768, 0.236199522944631, 0.25261303144479946, 0.26957325209847144, 0.2869411435685475, 0.30458329892728325, 0.32237313801774053, 0.34019201859994974, 0.3579302257246186, 0.3754877987575169, 0.3927751598249297, 0.4097135184189743, 0.42623504163849524, 0.44228279444503876, 0.45781046686116594, 0.47278191408870623, 0.4871705409805745, 0.5009585646526508, 0.5141361889857852, 0.5267007230545405, 0.5386556727311533, 0.5500098313102907, 0.5607763913087481, 0.5709720958329553, 0.5806164442172483, 0.5897309631065432, 0.5983385508466975, 0.6064628999950088, 0.6141280000034653, 0.6213577196843202, 0.6281754669627632, 0.252086000920329, 0.23288442921920724, 0.21469349962666, 0.19781676554807684, 0.18257794787127168, 0.1693069782330249, 0.15831586755855895, 0.14986410095863972, 0.14411948999067373, 0.1411281926225038, 0.14080971874816592, 0.14298280419830714, 0.1474111018109039, 0.1538481875563766, 0.16206655905578268, 0.17186768931757157, 0.18307907558009534, 0.195546110672851, 0.2091241918695585, 0.22367332266616424, 0.23905535882797302, 0.255133201404233, 0.27177117079735996, 0.288836012661023, 0.3061982073895825, 0.3237333926678464, 0.34132377423188726, 0.35885942931435216, 0.3762394265794746, 0.3933727069022962, 0.4101786922917494, 0.42658761287437036, 0.4425405612709578, 0.45798929829849033, 0.47289584341654567, 0.48723188828811154, 0.5009780732088132, 0.5141231650009837, 0.5266631721638771, 0.5386004293136816, 0.5499426787335848, 0.5607021725148058, 0.5708948145100484, 0.5805393572618279, 0.5896566652767606, 0.5982690525305191, 0.6063996989283439, 0.614072147628166, 0.6213098826696921, 0.6281359842532519, 0.25770912107910693, 0.2387976980844776, 0.22089512328982921, 0.204300070401817, 0.18932890173803338, 0.17630103934391164, 0.1655148939391833, 0.1572148115305025, 0.15155519504054193, 0.148574335835557, 0.1481914239939593, 0.1502311055879425, 0.15446561564704975, 0.1606566472072003, 0.1685833071419697, 0.17805290925219522, 0.18889926371806992, 0.20097529698922814, 0.21414513370242583, 0.22827810677376134, 0.2432452050166987, 0.25891754827609953, 0.2751662736969531, 0.291863315483944, 0.30888271053044275, 0.32610217143789144, 0.3434047333519391, 0.3606803234869443, 0.37782713885815095, 0.3947527543249824, 0.4113749184170723, 0.4276220254391124, 0.4434332767163278, 0.4587585608227021, 0.47355809280013533, 0.48780185700421724, 0.501468898770552, 0.514546507931677, 0.5270293334111107, 0.5389184634701937, 0.550220501220908, 0.5609466600797959, 0.5711118991191417, 0.5807341138736487, 0.5898333941308501, 0.5984313565889262, 0.6065505570106333, 0.6142139836367824, 0.6214446311463738, 0.6282651523623689, 0.26503560942194665, 0.2465477808022994, 0.22906740324690242, 0.21288348476854352, 0.19829851959890532, 0.18561342224342273, 0.1751044325664918, 0.16699329445696567, 0.16141671278032285, 0.15840558662739357, 0.15788426794658242, 0.15969246463924006, 0.16362148491086215, 0.16945064312873817, 0.1769726586756627, 0.1860047496415084, 0.19638856453638182, 0.2079843488805352, 0.22066381290838716, 0.2343041714099283, 0.24878417513252823, 0.2639820514624952, 0.27977495451706547, 0.29603949794733736, 0.31265300434780147, 0.32949516868789563, 0.34644988540837557, 0.3634070373059146, 0.3802640945313434, 0.39692742286451393, 0.413313247511267, 0.42934825793434167, 0.44496986863558385, 0.46012617036225584, 0.4747756172787121, 0.48888650016433893, 0.5024362556212747, 0.5154106582649695, 0.5278029381981574, 0.5396128606264269, 0.5508457988402236, 0.5615118263103129, 0.5716248485088872, 0.5812017903636123, 0.590261851006295, 0.59882583369164, 0.606915555423248, 0.6145533379196031, 0.6217615790697559, 0.6285624019557661, 0.27393596744990456, 0.2559859125187651, 0.23903974492163088, 0.22337261190238006, 0.20926806998380104, 0.19700307499483935, 0.1868267138188401, 0.17893460730744154, 0.17344442772949384, 0.1703806916363762, 0.16967594437992786, 0.17118949659341487, 0.17473717005441078, 0.18012146604776544, 0.18715357411207448, 0.19566416151064234, 0.20550476410270485, 0.216543699448225, 0.22866012148346518, 0.24173851119673692, 0.25566462497326997, 0.27032311331095304, 0.28559663979474786, 0.3013661952913393, 0.31751227368637147, 0.33391658644495664, 0.3504640246952493, 0.36704462526009285, 0.38355535600609764, 0.3999015979476992, 0.41599825866629747, 0.431770498340762, 0.44715408390495054, 0.4620954090459474, 0.4765512299274723, 0.4904881711725449, 0.5038820561535153, 0.5167171119750139, 0.5289850941503317, 0.540684369857866, 0.551818992449244, 0.5623977939274878, 0.5724335166082148, 0.5819420001962153, 0.5909414360695445, 0.5994516966492924, 0.6074937443203714, 0.615089121430696, 0.6222595204096192, 0.629026430991083, 0.2842500759127997, 0.26692882077874425, 0.25060332161390114, 0.23553158410257855, 0.22197489217256122, 0.2101834363562085, 0.2003774836579704, 0.1927263031587657, 0.1873294495034982, 0.1842063745650408, 0.18329895395170803, 0.1844871092771634, 0.18761254510352277, 0.19250298987058118, 0.1989906147374255, 0.2069219944004339, 0.21616048030663584, 0.22658365026330013, 0.23807860669793418, 0.25053712622909446, 0.2638517637369701, 0.27791334303307574, 0.29260986642722836, 0.3078266641834853, 0.32344750103623404, 0.33935631743964284, 0.3554392900358451, 0.37158693727608716, 0.38769605879400254, 0.40367136674275067, 0.41942673217132265, 0.4348860225236627, 0.4499835449205305, 0.46466413469954065, 0.4788829421477676, 0.4926049754006954, 0.505804456845825, 0.5184640462786221, 0.5305739781395455, 0.5421311535099991, 0.5531382208454961, 0.563602673063109, 0.5735359827697073, 0.5829527921904192, 0.591870169740068, 0.6003069411491948, 0.6082830995745213, 0.6158192961545802, 0.6229364099816678, 0.6296551944223417, 0.2957986676593056, 0.2791733984886988, 0.263529584212317, 0.24910592219788566, 0.23613981413958735, 0.2248541319162909, 0.21544111256693646, 0.2080455721099038, 0.20275110615480252, 0.1995734427571421, 0.19846372412695557, 0.19932135371008455, 0.20201268639068445, 0.2063901873557005, 0.21230749961194267, 0.21962826256722331, 0.22822896048290967, 0.23799751953985762, 0.24882969411265507, 0.26062491325559867, 0.27328267459350036, 0.2867000515393152, 0.3007705003286799, 0.3153838999536545, 0.33042760004469574, 0.3457881700570419, 0.36135352533943915, 0.3770151370451832, 0.39267009465533453, 0.4082228632179144, 0.423586647424812, 0.43868433248892746, 0.4534490141174363, 0.4678241572283438, 0.48176343798876425, 0.4952303294676744, 0.5081974907020382, 0.5206460147104989, 0.5325645847369546, 0.5439485809684141, 0.5547991728931947, 0.5651224257680307, 0.5749284435529403, 0.5842305652273242, 0.5930446266234161, 0.6013882957725079, 0.6092804862112707, 0.616740849694601, 0.6237893472665114, 0.6304458956148233, 0.3083940087497296, 0.29250972916937196, 0.27758582872728016, 0.26384065530717044, 0.2514875821960667, 0.2407232312448622, 0.2317140817070345, 0.22458342907187095, 0.21940148531827217, 0.21618142469641477, 0.21488295996962253, 0.2154228464962584, 0.21768955322433642, 0.22155831652306165, 0.22690331134089003, 0.23360522513658022, 0.24155418680639043, 0.25064911642268983, 0.2607949630036353, 0.2718991853776875, 0.2838684860444463, 0.2966064241261244, 0.3100121964518204, 0.32398060931055267, 0.3384030728986097, 0.3531693376930137, 0.3681696522650413, 0.38329704124988934, 0.39844945934530407, 0.4135316506493432, 0.42845661517504186, 0.44314664548991595, 0.45753394182149787, 0.47156084372839874, 0.48517973301954714, 0.49835266929852634, 0.5110508194796503, 0.5232537384677255, 0.5349485518356935, 0.5461290840782586, 0.5567949686814949, 0.5669507692939904, 0.5766051349464554, 0.5857700066324927, 0.5944598876405773, 0.6026911857834343, 0.6104816320570811, 0.6178497772265117, 0.6248145653301647, 0.6313949810775246, 0.3218487019786165, 0.3067312232933942, 0.29254653760296967, 0.27949257914070286, 0.26775962088183086, 0.25752008318110525, 0.248917637779578, 0.2420572559257304, 0.23699825367049396, 0.2337521725630617, 0.23228634176107443, 0.23253246040622771, 0.23439815173968184, 0.2377788054839774, 0.2425673582791371, 0.24866066725260694, 0.2559622707160694, 0.2643821760693446, 0.273834720070968, 0.2842355840549971, 0.2954988672038643, 0.30753485055604346, 0.3202487986112138, 0.3335408865932829, 0.3473071372317346, 0.36144111838159415, 0.37583609522863165, 0.390387337119322, 0.40499432864259577, 0.41956270489848135, 0.43400580334607186, 0.44824578736089676, 0.46221434428357594, 0.47585299270152137, 0.48911305208398004, 0.501955335866902, 0.5143496298561361, 0.5262740140820913, 0.5377140800284846, 0.5486620878752001, 0.5591161009342436, 0.5690791273388034, 0.5785582925368333, 0.5875640603522675, 0.5961095153274407, 0.6042097147206669, 0.6118811148538614, 0.6191410734319283, 0.6260074269352877, 0.632498140170429, 0.33598223351964346, 0.32164164905130926, 0.3082006188353505, 0.2958373425955031, 0.2847205990896108, 0.27500111581031306, 0.2668028419628771, 0.2602154467023551, 0.25528951672036554, 0.2520356342158483, 0.2504277436344002, 0.2504101791946091, 0.2519068247414795, 0.25483047737797804, 0.25909070263003264, 0.2645991285896151, 0.27127191187136007, 0.279029748454375, 0.2877961749669829, 0.2974950205065662, 0.3080477969616604, 0.3193716325616346, 0.3313781190405071, 0.3439732046901111, 0.3570580621409317, 0.37053071758988576, 0.38428815743031947, 0.39822862199862447, 0.4122538361723476, 0.42627099100816274, 0.4401943605647791, 0.4539465007197947, 0.46745902576211723, 0.48067299236681443, 0.4935389407855769, 0.5060166525986799, 0.5180746862741117, 0.5296897487811444, 0.5408459557139634, 0.551534025285212, 0.5617504441225116, 0.5714966356270114, 0.5807781550465525, 0.5896039295182082, 0.5979855561835054, 0.6059366670559261, 0.6134723655791978, 0.6206087367015872, 0.6273624297502605, 0.633750311367704, 0.35062537537327926, 0.3370594514568704, 0.32435535647424746, 0.31267273128533646, 0.3021608142799578, 0.2929512500029934, 0.2851511750732296, 0.27883760875029645, 0.2740541894461613, 0.2708110033668992, 0.2690876645038829, 0.2688390891165737, 0.2700028139960383, 0.2725064495568674, 0.2762740006999349, 0.28123022908091855, 0.2873027805953794, 0.2944222882736543, 0.30252098698121715, 0.3115305230562154, 0.32137963501858613, 0.3319922621787915, 0.343286450741573, 0.3551742164235618, 0.36756233005209843, 0.38035384929857896, 0.39345014048457333, 0.4067531169018209, 0.420167449498296, 0.4336025622926606, 0.4469742901680438, 0.46020613757599893, 0.47323012589161684, 0.48598725233850976, 0.49842760537904474, 0.5105101926673041, 0.5222025409589729, 0.5334801254076358, 0.5443256805767416, 0.5547284388138904, 0.5646833344161615, 0.5741902049133901, 0.583253014179851, 0.5918791161347966, 0.6000785725737249, 0.6078635341834534, 0.6152476899989858, 0.6222457874078231, 0.6288732222420537, 0.6351456964651057, 0.36562280565988964, 0.3528199856671954, 0.34083803228276766, 0.32981948505446124, 0.3198961041022716, 0.3111829466978243, 0.30377292814549894, 0.2977326487476883, 0.29310021458148244, 0.2898855156583034, 0.28807298453304087, 0.28762635894182187, 0.28849457269527246, 0.29061772764966254, 0.29393219396937037, 0.29837418668917526, 0.3038815593848845, 0.31039392806821153, 0.31785151608169365, 0.3261932636243277, 0.3353547750394749, 0.34526660295060496, 0.35585322185435675, 0.36703286320011835, 0.37871820868270034, 0.39081780041234054, 0.40323794344090275, 0.41588484935234543, 0.4286667883395362, 0.4414960644273585, 0.45429068736504014, 0.46697567219315234, 0.47948394575533104, 0.491756875259712, 0.5037444574389536, 0.5154052197530913, 0.5267058899420654, 0.5376208895429846, 0.5481317028264754, 0.5582261665599172, 0.5678977191791426, 0.5771446410614861, 0.5859693110692483, 0.5943774986015454, 0.6023777051533721, 0.609980564854968, 0.6171983096307587, 0.6240443014318658, 0.63053263140704, 0.6366777838285338, 0.3808343764075416, 0.36877628448462163, 0.35749604594376316, 0.34712067418989545, 0.337766466726381, 0.3295341648140884, 0.3225046926395445, 0.316736062723477, 0.3122619525155863, 0.3090922341043707, 0.30721540969088157, 0.3066025527657834, 0.3072120807769778, 0.3089945682014913, 0.31189687301474195, 0.31586505978901963, 0.3208458887011173, 0.326786927099268, 0.33363557237604513, 0.3413374197839155, 0.34983445632348886, 0.35906351887402244, 0.368955342188981, 0.3794343713314407, 0.3904193583941525, 0.4018246350921564, 0.41356186961489866, 0.4255420825110603, 0.43767770516545645, 0.4498845018808567, 0.4620832278040006, 0.47420094764449633, 0.48617198627100333, 0.4979385179305521, 0.5094508252838319, 0.5206672738710483, 0.5315540540869435, 0.5420847434737143, 0.5522397391149433, 0.5620056047011373, 0.5713743705801599, 0.5803428185756948, 0.5889117770384802, 0.5970854457657092, 0.6048707652220949, 0.6122768399717221, 0.6193144223805802, 0.6259954594441759, 0.6323327029866841, 0.6383393814150602, 0.39613542354266, 0.38479886823090376, 0.3741961449790572, 0.3644403199498829, 0.3556341086943995, 0.34786594126134435, 0.3412066313800932, 0.33570708613537004, 0.33139740459744665, 0.32828753141342343, 0.32636938491820183, 0.3256201268927888, 0.3260060491430228, 0.3274864705885788, 0.3300170833117442, 0.3335523366192977, 0.3380466604337515, 0.3434545528207277, 0.34972974805666046, 0.3568238118088234, 0.36468456404488103, 0.3732547080360805, 0.38247095869340203, 0.3922638396969904, 0.40255818573041874, 0.4132742705011338, 0.42432940122951424, 0.43563978240551043, 0.44712245188754873, 0.4586971203411492, 0.47028778801235693, 0.4818240597571657, 0.4932421221947528, 0.5044853814635293, 0.5155047849095433, 0.5262588656591374, 0.5367135569846564, 0.5468418255616057, 0.5566231709445187, 0.5660430343630497, 0.5750921544055656, 0.5837659011245127, 0.5920636140995081, 0.5999879643563607, 0.6075443549422745, 0.6147403704816369, 0.6215852822036869, 0.6280896117271434, 0.6342647542708381, 0.6401226598860339, 0.41141643788780335, 0.400774971197407, 0.3908231747729347, 0.38166167823651254, 0.37338131830068577, 0.36605994966259436, 0.359759842571118, 0.3545259898036503, 0.3503855622524325, 0.3473486055638359, 0.3454098850273767, 0.344551602831841, 0.34474657504234635, 0.34596139795197606, 0.348159165875592, 0.3513014129652892, 0.3553491117923618, 0.36026273632291084, 0.3660015536290381, 0.37252242168187205, 0.37977842446428806, 0.3877176667045226, 0.39628248703780294, 0.40540924867727, 0.41502875448105647, 0.42506723164123217, 0.43544775678688874, 0.4460919525635916, 0.4569217803074385, 0.467861272689133, 0.4788380849798135, 0.4897847841608905, 0.5006398340310921, 0.511348267204064, 0.5218620594841331, 0.5321402384872372, 0.5421487675854978, 0.5518602498257323, 0.5612534959858769, 0.5703129977855179, 0.579028342572127, 0.5873936003871978, 0.5954067087456363, 0.6030688751054314, 0.6103840120818403, 0.6173582160864439, 0.6239992962926928, 0.6303163576484745, 0.6363194390483088, 0.6420192057030508, 0.42658233530638157, 0.416607441862002, 0.4072786068314228, 0.398685425166985, 0.39090836701900983, 0.3840161966678844, 0.3780639377817625, 0.3730916227278081, 0.36912398904008825, 0.3661711691397801, 0.36423027935114954, 0.36328767984360705, 0.3633215782829027, 0.36430460876753645, 0.3662060420647328, 0.3689933660758147, 0.372633098032146, 0.37709082740856537, 0.3823306158195322, 0.38831397599223416, 0.394998702018952, 0.4023378223388983, 0.4102789001218707, 0.41876382649442423, 0.42772915914368614, 0.43710697132347426, 0.44682610892313157, 0.4568137137393959, 0.4669968598169175, 0.47730416157788025, 0.4876672395219101, 0.4980219633602088, 0.5083094268357867, 0.5184766386759514, 0.5284769378218547, 0.5382701577144695, 0.5478225745491857, 0.5571066791869062, 0.5661008131497896, 0.5747887070822464, 0.5831589562709285, 0.5912044631036233, 0.598921871293944, 0.606311011706443, 0.6133743749391896, 0.6201166216048437, 0.6265441375694762, 0.63266463828307, 0.6384868237568042, 0.644020083679405, 0.44155149496037954, 0.43221348547510907, 0.4234789999039327, 0.4154278725578336, 0.40813153235934524, 0.401650914072226, 0.39603486467451593, 0.3913192194510665, 0.3875266579642877, 0.38466735714885714, 0.382740352234914, 0.3817354164701779, 0.3816351983747389, 0.3824173257759002, 0.38405620503271104, 0.3865243072904875, 0.3897928284819693, 0.39383171824122315, 0.3986091756921443, 0.4040907899832919, 0.41023854806971227, 0.4170099362036008, 0.4243573275136074, 0.432227785818269, 0.44056333998366465, 0.4493017091313812, 0.45837739944456124, 0.4677230555850745, 0.4772709353966234, 0.4869543824641217, 0.496709191298612, 0.5064747877597527, 0.5161951769586574, 0.5258196380587544, 0.5353031676463479, 0.5446066897340592, 0.5536970611314787, 0.5625469066452403, 0.5711343204031123, 0.5794424686046139, 0.5874591261373283, 0.5951761755381868, 0.6025890923098228, 0.6096964360424297, 0.6164993624223328, 0.6230011672045482, 0.6292068696852683, 0.6351228401741675, 0.6407564734409464, 0.6461159080764308, 0.45625468134422764, 0.4475233557531024, 0.439354482811298, 0.43181927738504033, 0.424981278613769, 0.41889465786615726, 0.41360296724528306, 0.4091384564770169, 0.40552203153822436, 0.4027638547011001, 0.40086450414186253, 0.3998165366081879, 0.39960624342617385, 0.40021536910396516, 0.4016225773246992, 0.40380449843226973, 0.40673626660737366, 0.41039154067444295, 0.4147420851342775, 0.419757053832939, 0.42540215729997777, 0.4316389011834071, 0.43842405862866457, 0.44570949101599694, 0.45344237029488554, 0.4615657944938195, 0.4700197363542391, 0.4787422301627327, 0.48767068595965585, 0.4967432216777463, 0.5058999181448187, 0.5150839240168956, 0.5242423626481348, 0.5333270168054854, 0.5422947875313734, 0.5511079391634701, 0.5597341533435201, 0.5681464212358388, 0.5763228059107861, 0.5842461068105761, 0.5919034562407163, 0.5992858746354033, 0.6063878074970687, 0.6132066628324808, 0.6197423638985761, 0.6259969283272876, 0.6319740813392085, 0.6376789078426536, 0.6431175457685617, 0.6482969210052743, 0.47063392711955143, 0.46247906124927984, 0.45484730774800347, 0.4478022739589529, 0.441400604001511, 0.43569060545530786, 0.43071126293853673, 0.42649173189332895, 0.4230513604062548, 0.4204002284602668, 0.41854013129907164, 0.41746587731267826, 0.41716673143994665, 0.41762782021949163, 0.4188313275315618, 0.4207573488950256, 0.42338433043551926, 0.42668908653473736, 0.43064645639487853, 0.435228713459486, 0.4404048743881091, 0.4461400616630667, 0.4523950563506698, 0.45912614012807323, 0.46628527680975207, 0.4738206328632068, 0.4816773923826938, 0.48979879059823767, 0.49812727372560184, 0.5066056911262581, 0.5151784354028986, 0.5237924631798728, 0.5323981498532492, 0.5409499521737701, 0.5494068708015691, 0.5577327196393252, 0.5658962193730106, 0.573870939401117, 0.5816351157497598, 0.5891713733449272, 0.5964663798523232, 0.6035104558392538, 0.6102971627935415, 0.6168228869658632, 0.6230864333891866, 0.6290886409836973, 0.634832026514091, 0.6403204624069672, 0.6455588910947865, 0.6505530766340567, 0.48464142673754546, 0.47703312531364195, 0.46991049900272724, 0.46333043864624296, 0.4573435498386437, 0.4519930351941778, 0.44731391318518854, 0.44333264141037576, 0.44006717448924937, 0.43752744040710306, 0.43571617067641344, 0.434629977033241, 0.43426053809655424, 0.43459574904162046, 0.4356206982410004, 0.4373183656792507, 0.4396699839683597, 0.44265505660219906, 0.44625108099894056, 0.4504330674012899, 0.45517297208123253, 0.46043917078631585, 0.46619608594751843, 0.47240405244531153, 0.4790194679845263, 0.4859952327941725, 0.4932814463534054, 0.5008263011933242, 0.5085770980330437, 0.5164813025662189, 0.5244875701892591, 0.5325466778535051, 0.5406123187875691, 0.5486417332094697, 0.5565961641901133, 0.5644411412136437, 0.5721466041104022, 0.5796868868766835, 0.5870405847666176, 0.594190329461506, 0.6011224966681595, 0.6078268687240715, 0.6142962721767833, 0.6205262072505988, 0.6265144829174595, 0.6322608681688816, 0.6377667671907541, 0.6430349235645461, 0.6480691564054428, 0.6528741295159651, 0.498238472265577, 0.4911474215020582, 0.4845066080311466, 0.47836698706993325, 0.47277386188961673, 0.467765970836356, 0.46337486510552073, 0.4596246263915532, 0.4565319425242615, 0.45410652236680665, 0.4523517936705622, 0.4512657951259964, 0.4508421520383122, 0.45107101793563925, 0.45193987370056526, 0.45343410049834865, 0.4555372792579068, 0.4582312121346237, 0.46149570356431413, 0.46530817359794585, 0.4696431988415951, 0.4744720834276999, 0.4797625537532264, 0.48547864877597724, 0.49158084714151995, 0.4980264390291945, 0.5047701198432366, 0.5117647589492665, 0.5189622819110264, 0.5263145995148664, 0.5337745200899607, 0.5412965910616127, 0.5488378287795972, 0.5563583100704036, 0.5638216127826096, 0.571195104554164, 0.5784500884502721, 0.5855618208095783, 0.592509420747977, 0.5992756926635456, 0.6058468832155386, 0.6122123930799833, 0.6183644617407097, 0.6242978410198439, 0.6300094702750938, 0.6354981634107756, 0.640764315220152, 0.6458096322000286, 0.6506368909133987, 0.655249725248074, 0.5113944501830842, 0.5047920954159288, 0.4986065775845054, 0.4928835986207407, 0.4876637920668009, 0.4829819741089579, 0.4788666444807208, 0.4753397725979074, 0.472416878852796, 0.4701073917057418, 0.4684152319815602, 0.46733955099784874, 0.46687553289575234, 0.46701516676431726, 0.4677479020744269, 0.46906112077054646, 0.47094038835635527, 0.4733694801598317, 0.4763302125314165, 0.47980213689312484, 0.4837621731205872, 0.4881842651994337, 0.4930391360886437, 0.49829420202772856, 0.5039136826122551, 0.509858916190153, 0.516088864815332, 0.5225607725988355, 0.5292309279262166, 0.5360554742804375, 0.5429912156555043, 0.5499963692279509, 0.5570312281324342, 0.564058708941078, 0.5710447701534174, 0.5779586984919578, 0.5847732683648236, 0.5914647862113092, 0.5980130356109462, 0.6044011412407714, 0.6106153703488343, 0.6166448897526714, 0.6224814948358474, 0.628119324928635, 0.6335545770902447, 0.638785227870864, 0.6438107702779129, 0.6486319710095767, 0.6532506511162829, 0.657669491641279, 0.5240859093161491, 0.5179445769970945, 0.5121887127520943, 0.5068593605527769, 0.5019930282164271, 0.4976210699040169, 0.4937692825276046, 0.49045774135705067, 0.48770087931210726, 0.4855077911168586, 0.48388272069970545, 0.48282567125303144, 0.4823330652431953, 0.4823983785454632, 0.4830126796347748, 0.4841650207385059, 0.48584265092301554, 0.488031047938427, 0.4907137923252775, 0.49387232983124546, 0.4974856833205212, 0.5015301810752097, 0.5059792642956309, 0.5108034239502635, 0.5159702984721356, 0.5214449424565614, 0.5271902558539922, 0.5331675459801092, 0.5393371828152655, 0.5456593022458327, 0.5520945117990191, 0.5586045579839558, 0.5651529221202158, 0.5717053209817222, 0.5782300983518244, 0.5846985026300144, 0.5910848532694313, 0.5973666047117511, 0.6035243205515781, 0.6095415730300453, 0.6154047838695773, 0.621103022216632, 0.6266277743629565, 0.6319726982528778, 0.6371333737995943, 0.6421070579262232, 0.6468924511695128, 0.6514894807445732, 0.6558991032387763, 0.6601231286223745, 0.5362957042549058, 0.5305886828561623, 0.5252377539405466, 0.5202798227359063, 0.5157477399858534, 0.5116697899752775, 0.5080693611723275, 0.5049648174337542, 0.5023695707401453, 0.5002923378613563, 0.49873754553989463, 0.49770583422617104, 0.49719460135408866, 0.497198523191982, 0.49771000004156624, 0.4987194824403791, 0.5002156543904692, 0.5021854709373619, 0.5046140686065059, 0.5074845852113302, 0.5107779378308407, 0.5144726127194383, 0.5185445181795961, 0.5229669418667351, 0.5277106394987929, 0.5327440650160489, 0.5380337354941268, 0.5435447098083976, 0.5492411497393139, 0.5550869266134085, 0.5610462356119352, 0.5670841828473349, 0.5731673161341633, 0.5792640778713786, 0.5853451664921079, 0.5913838006208827, 0.5973558867719523, 0.6032400967606799, 0.6090178648511537, 0.6146733170715571, 0.6201931462567891, 0.6255664464521357, 0.6307845195822228, 0.6358406659990851, 0.6407299688897947, 0.6454490807304377, 0.6499960181637645, 0.6543699699595807, 0.6585711211630677, 0.6626004951909499, 0.548012214681665, 0.5427138054027489, 0.5377440452084089, 0.5331361536953003, 0.5289197293256132, 0.5251203223546641, 0.5217591633635039, 0.5188530600189348, 0.5164144608448304, 0.5144516699876205, 0.5129691830111044, 0.5119681025646425, 0.5114465860147612, 0.5114002759726394, 0.5118226694961622, 0.5127053921346302, 0.5140383576139921, 0.5158098108557347, 0.5180062688298807, 0.5206123881029342, 0.5236107978796948, 0.526981941592354, 0.5307039683173183, 0.5347527081019123, 0.5391017540550531, 0.5437226606901273, 0.5485852545243703, 0.5536580411302291, 0.5589086840022629, 0.5643045254260846, 0.5698131180725342, 0.5754027378442395, 0.5810428527958752, 0.5867045288144737, 0.5923607592819956, 0.5979867123832148, 0.6035598954972796, 0.6090602408614075, 0.6144701202527146, 0.6197742987869451, 0.6249598391793271, 0.6300159681194961, 0.634933915977879, 0.6397067400885303, 0.6443291405324807, 0.6487972758404827, 0.6531085844785954, 0.6572616164766467, 0.6612558781810148, 0.6650916919056221, 0.5592286384557541, 0.5543141838325293, 0.5497027905556436, 0.5454243885783717, 0.5415056748812763, 0.5379697549253158, 0.5348359165400415, 0.5321195450337141, 0.529832177046672, 0.5279816788588525, 0.5265725239193515, 0.5256061357401833, 0.5250812572460364, 0.5249943070450686, 0.5253396871530427, 0.5261100150753233, 0.5272962648024571, 0.5288878146729658, 0.5308724133856031, 0.5332360868837154, 0.5359630168565596, 0.539035425213597, 0.5424334977859545, 0.5461353751103301, 0.5501172294820942, 0.5543534369524715, 0.5588168421441749, 0.5634791040881684, 0.5683111038139189, 0.5732833897689749, 0.5783666354387524, 0.5835320845152684, 0.5887519620713213, 0.5939998347360665, 0.5992509081231306, 0.6044822550967642, 0.6096729733761588, 0.6148042751349008, 0.6198595144691987, 0.6248241608347602, 0.6296857278382123, 0.6344336672318437, 0.6390592377541756, 0.6435553577500405, 0.647916449454052, 0.652138281575269, 0.6562178155000612, 0.6601530591303219, 0.6639429311653268, 0.6675871375644168, 0.5699423546660761, 0.5653882510647215, 0.5611133904700439, 0.5571447599846084, 0.55350646030674, 0.5502194027191539, 0.5473011187343522, 0.5447656884427019, 0.542623784444639, 0.5408828188144107, 0.5395471719390914, 0.5386184754101668, 0.538095917359341, 0.5379765383451608, 0.5382554892871486, 0.5389262296815293, 0.5399806536074401, 0.5414091416542485, 0.5432005474669996, 0.5453421367151837, 0.547819502756252, 0.5506164863096166, 0.5537151258205096, 0.557095661161417, 0.5607366066478927, 0.5646149011090845, 0.56870613414488, 0.5729848398354896, 0.5774248429196754, 0.5819996383610783, 0.5866827834532501, 0.5914482820254537, 0.5962709425166649, 0.6011266951606561, 0.6059928577084903, 0.6108483434851244, 0.6156738097074977, 0.6204517475757723, 0.6251665185041279, 0.6298043429096883, 0.6343532492429361, 0.6388029914983979, 0.6431449434068801, 0.6473719770140103, 0.6514783325297172, 0.6554594853147646, 0.6593120147617934, 0.6630334787169256, 0.6666222960398748, 0.6700776389611646, 0.580154351905971, 0.5759380502876073, 0.5719788510893054, 0.5683011030763461, 0.5649265773482534, 0.5618742095628622, 0.5591599379970527, 0.556796641550024, 0.5547941743421371, 0.5531594860171556, 0.5518968100754543, 0.5510078973970798, 0.5504922692651338, 0.5503474641241428, 0.5505692551135657, 0.5511518208281385, 0.5520878591346625, 0.5533686422929897, 0.5549840200036557, 0.556922384253843, 0.5591706150408646, 0.5617140286067875, 0.5645363495005704, 0.5676197247894872, 0.5709447936255596, 0.5744908189426993, 0.5782358812306451, 0.5821571279747664, 0.5862310671723843, 0.5904338897958256, 0.5947418043557027, 0.5991313667573052, 0.6035797901737369, 0.6080652222930605, 0.6125669805967348, 0.617065739872392, 0.6215436695970725, 0.6259845218769016, 0.6303736731214473, 0.6346981244812917, 0.6389464672770352, 0.643108820245139, 0.6471767455064021, 0.6511431498322929, 0.6550021771543598, 0.6587490974392495, 0.6623801961310904, 0.6658926674226932, 0.6692845137178722, 0.6725544528324547, 0.5898687165550681, 0.5859687147007687, 0.5823052586347427, 0.5789003269917976, 0.5757735953834956, 0.5729422156872422, 0.570420676907836, 0.5682207503596327, 0.5663515158564667, 0.5648194595527967, 0.56362862872206, 0.5627808247354731, 0.5622758133495325, 0.5621115314532019, 0.5622842717302706, 0.5627888310291264, 0.5636186140955989, 0.5647656909937504, 0.5662208131762664, 0.5679733989354304, 0.5700115031581435, 0.5723217884450955, 0.5748895145524823, 0.5776985609052956, 0.5807314930227042, 0.5839696786950893, 0.5873934543581398, 0.5909823370023016, 0.5947152727017762, 0.5985709098329314, 0.6025278834577962, 0.6065650971574327, 0.610661989635087, 0.614798775385146, 0.6189566513054334, 0.6231179639815608, 0.6272663351964122, 0.6313867457818887, 0.6354655800741051, 0.6394906348698295, 0.6434510978873554, 0.6473375013352886, 0.6511416563492849, 0.6548565738516728, 0.6584763769128387, 0.6619962090357931, 0.6654121420280035, 0.6687210863366763, 0.6719207059600276, 0.6750093393478065, 0.5990921757281936, 0.595488004226141, 0.5921013122278599, 0.5889519452555141, 0.5860576899316277, 0.5834340838438372, 0.581094294909557, 0.5790490720513042, 0.5773067640624212, 0.5758733986932325, 0.5747528097414549, 0.5739467967856641, 0.5734553005580564, 0.5732765770535635, 0.5734073553509088, 0.5738429675874822, 0.5745774441844013, 0.5756035726993659, 0.5769129239441666, 0.5784958535959062, 0.58034149090668, 0.5824377279003452, 0.5847712224856916, 0.5873274272995496, 0.5900906531207143, 0.5930441718217552, 0.5961703595844839, 0.5994508770251512, 0.6028668794081768, 0.6063992475935951, 0.610028828929517, 0.613736676980537, 0.6175042796605008, 0.6213137668067268, 0.6251480902366507, 0.628991171601821, 0.6328280156560402, 0.6366447886864722, 0.6404288636765222, 0.6441688351925509, 0.6478545079805584, 0.6514768638346295, 0.6550280114985264, 0.6585011242481931, 0.6618903694487102, 0.6651908338587109, 0.6683984478376638, 0.6715099109570346, 0.6745226208737911, 0.6774346067305218, 0.6078336896649671, 0.6045058933094196, 0.601377908751155, 0.5984676585864022, 0.5957912234595828, 0.5933626773377002, 0.5911939820800627, 0.5892949424773514, 0.5876732189193113, 0.5863343909504231, 0.5852820615957248, 0.5845179898670493, 0.5840422375960443, 0.5838533168602321, 0.583948325787604, 0.5843230632876047, 0.5849721169461405, 0.5858889225022257, 0.5870657974914356, 0.5884939552977684, 0.5901635085749091, 0.5920634724858795, 0.5941817783420024, 0.5965053070539726, 0.5990199495592139, 0.6017106984023289, 0.6045617713263683, 0.6075567644918657, 0.6106788301356876, 0.6139108713762816, 0.6172357456137441, 0.6206364675925802, 0.6240964036196848, 0.6275994495113556, 0.6311301863874661, 0.6346740102307712, 0.638217232989067, 0.6417471547525827, 0.6452521080650624, 0.6487214766457452, 0.6521456916748791, 0.6555162093277972, 0.6588254734601372, 0.6620668672968271, 0.6652346577175204, 0.6683239353221342, 0.6713305529601321, 0.6742510648679116, 0.6770826680226437, 0.6798231468207355, 0.6161040886043561, 0.6130342043833972, 0.61014777401154, 0.607460984207981, 0.6049883725804195, 0.6027426841823775, 0.6007347787456555, 0.5989735893379089, 0.5974661299230426, 0.5962175461580289, 0.5952312010632147, 0.5945087852484463, 0.5940504403933753, 0.5938548847955507, 0.59391953101841, 0.5942405878653332, 0.5948131418264461, 0.5956312164511469, 0.5966878114018673, 0.5979749258572954, 0.5994835731257494, 0.6012037945705243, 0.6031246811364972, 0.605234409935932, 0.6075203016617441, 0.6099689023046626, 0.6125660900663957, 0.6152972058013808, 0.6181472030670264, 0.6211008121308957, 0.6241427112012543, 0.6272576977528357, 0.6304308530695633, 0.6336476939146095, 0.6368943064203187, 0.6401574587048893, 0.6434246902129305, 0.6466843772072449, 0.6499257751040695, 0.6531390393729674, 0.6563152274791194, 0.6594462848237775, 0.6625250178559718, 0.6655450575202522, 0.6685008160165986, 0.6713874395288377, 0.6742007591754465, 0.6769372419951528, 0.6795939433360578, 0.6821684615996889, 0.6239157495540046, 0.6210862820656334, 0.6184251350718745, 0.6159469264454923, 0.6136647964581324, 0.6115902823086973, 0.6097332360452776, 0.6081017863552669, 0.6067023420270456, 0.6055396323447589, 0.6046167775150715, 0.6039353806684004, 0.6034956322005679, 0.603296417318099, 0.6033354186190875, 0.603609207277708, 0.6041133187080941, 0.6048423111965926, 0.6057898086085524, 0.6069485305974737, 0.6083103155139096, 0.60986614224739, 0.6116061574529298, 0.6135197140348436, 0.6155954255015645, 0.6178212390575177, 0.6201845282973081, 0.6226722043582387, 0.6252708425911264, 0.6279668203994979, 0.6307464609825739, 0.6335961773379347, 0.6365026110121645, 0.6394527606576458, 0.64243409635274, 0.6454346567464866, 0.64844312727364, 0.6514488988409177, 0.6544421074222202, 0.657413655857707, 0.6603552197942054, 0.6632592401227873, 0.6661189044739474, 0.6689281203474334, 0.6716814823175259, 0.6743742355051847, 0.6770022371857485, 0.6795619180414341, 0.6820502442031448, 0.6844646808807215, 0.6312823087781263, 0.6286767036777187, 0.6262254292063713, 0.6239416840321697, 0.6218373418906767, 0.6199228414106299, 0.6182071131792605, 0.6166975443486591, 0.615399978899993, 0.6143187496207858, 0.6134567361075967, 0.6128154418578909, 0.6123950828925322, 0.6121946804234335, 0.6122121508435036, 0.6124443876842481, 0.6128873320060259, 0.6135360297499177, 0.614384676654102, 0.6154266531896093, 0.6166545534004393, 0.6180602123986515, 0.6196347374972517, 0.6213685475733955, 0.6232514243262568, 0.625272577771059, 0.6274207267717123, 0.6296841938476627, 0.6320510120693443, 0.634509040719662, 0.6370460856374109, 0.6396500198111961, 0.6423088998485759, 0.6450110743531507, 0.6477452809218867, 0.6505007293307904, 0.6532671694116722, 0.6560349430470439, 0.6587950205511702, 0.6615390224099807, 0.6642592278894748, 0.6669485723799434, 0.6696006355274178, 0.6722096222328227, 0.6747703385006071, 0.6772781639238356, 0.679729022334365, 0.6821193518552623, 0.6844460752944591, 0.6867065715349697, 0.6382184062560756, 0.6358210221757962, 0.6335650454903385, 0.6314623901307681, 0.6295237811334266, 0.6277586575888815, 0.6261751076244109, 0.6247798356170441, 0.6235781600437328, 0.6225740386971279, 0.6217701165835459, 0.6211677908099097, 0.6207672862595521, 0.6205677359038555, 0.6205672601905795, 0.6207630410230143, 0.6211513872756711, 0.6217277904207756, 0.6224869704833688, 0.6234229140212996, 0.6245289069840843, 0.625797566029035, 0.627220872107971, 0.6287902098873365, 0.6304964158899332, 0.632329837254114, 0.6342804018314377, 0.636337699130974, 0.6384910705028778, 0.6407297060458957, 0.6430427450984627, 0.6454193768664865, 0.6478489377500717, 0.6503210022208853, 0.6528254646124502, 0.6553526098448554, 0.6578931718369957, 0.6604383790925045, 0.662979987620269, 0.665510301922384, 0.6680221852237854, 0.6705090604169726, 0.6729649033544949, 0.6753842301546638, 0.6777620801132153, 0.6800939956605817, 0.6823760005974322, 0.6846045776053078, 0.6867766457865664, 0.6888895387563738, 0.6447394587823205, 0.6425355380541153, 0.640461095541855, 0.6385268815997711, 0.6367425790470713, 0.6351167174577113, 0.6336566150730788, 0.6323683484755052, 0.6312567486893933, 0.6303254210056036, 0.6295767846745267, 0.6290121277896318, 0.628631672263534, 0.62843464382072, 0.6284193423877891, 0.6285832090995935, 0.6289228872630399, 0.6294342759039306, 0.6301125758247099, 0.6309523292823856, 0.6319474553347341, 0.6330912835104262, 0.6343765886887407, 0.6357956299271076, 0.637340195493532, 0.6390016556249655, 0.640771023644059, 0.6426390251359304, 0.6445961740186865, 0.6466328536237892, 0.6487394003964284, 0.6509061875633415, 0.6531237060978895, 0.6553826405157461, 0.6576739374159987, 0.6599888651868461, 0.6623190638633474, 0.6646565847006423, 0.6669939195615197, 0.6693240206753058, 0.6716403116820142, 0.6739366911203818, 0.6762075296513149, 0.6784476623388798, 0.6806523772554947, 0.6828174015563462, 0.6849388860015786, 0.6870133887140268, 0.689037858763497, 0.6910096199807281, 0.6508614587715549, 0.6488370972140637, 0.646931210386148, 0.6451534944941433, 0.6435126866078458, 0.6420164888162722, 0.6406715162627852, 0.6394832691671524, 0.6384561277300016, 0.6375933676901389, 0.636897193362681, 0.6363687843083544, 0.6360083514310197, 0.6358151983002857, 0.6357877838420616, 0.6359237831895554, 0.6362201443662052, 0.6366731394825278, 0.6372784101610672, 0.6380310078486513, 0.6389254304380675, 0.6399556571318763, 0.6411151837015646, 0.6423970602228887, 0.6437939330339826, 0.6452980921249738, 0.6469015245031796, 0.6485959733708357, 0.6503730022838891, 0.6522240628994371, 0.6541405645156125, 0.6561139433882265, 0.6581357297776979, 0.6601976108218155, 0.6622914876132933, 0.6644095252443825, 0.6665441950186165, 0.668688308477922, 0.6708350433133362, 0.6729779615894318, 0.6751110209961955, 0.6772285800376848, 0.6793253981735253, 0.6813966319541906, 0.6834378281463936, 0.6854449147466238, 0.6874141906460663, 0.6893423145555172, 0.6912262936395329, 0.6930634721572962, 0.6566007961904263, 0.6547429121748086, 0.6529933608105103, 0.6513608831890099, 0.6498533582073531, 0.648477735357559, 0.6472399882111355, 0.6461450886933638, 0.6451970012402645, 0.6443986950041272, 0.6437521714965441, 0.6432585044955154, 0.6429178887414839, 0.6427296939279363, 0.6426925207495627, 0.6428042562714207, 0.643062126568, 0.6434627453754914, 0.6440021583185647, 0.644675883029773, 0.6454789461010011, 0.6464059182366287, 0.6474509491861202, 0.6486078040153772, 0.6498699020528634, 0.6512303594610279, 0.6526820358935139, 0.6542175851679568, 0.6558295093755013, 0.6575102154151551, 0.6592520726236561, 0.6610474699924968, 0.6628888714286548, 0.6647688676141376, 0.6666802232288654, 0.6686159185907196, 0.6705691851009157, 0.6725335342279428, 0.674502780088646, 0.6764710559665238, 0.6784328253284386, 0.6803828880532061, 0.6823163826677222, 0.6842287854034652, 0.6861159068479604, 0.6879738868846462, 0.6897991885042978, 0.6915885909453127, 0.6933391824910323, 0.6950483531300348, 0.6619741013551216, 0.660270404336452, 0.658665698919527, 0.657167860854443, 0.6557839904990185, 0.6545203532017103, 0.6533823376644646, 0.6523744323770947, 0.6515002193841405, 0.6507623838778528, 0.6501627374665775, 0.6497022524971466, 0.6493811045488069, 0.6491987201815663, 0.649153827208841, 0.6492445051466229, 0.6494682340239235, 0.6498219403628012, 0.6503020397845332, 0.6509044763053431, 0.6516247588923133, 0.6524579962135826, 0.6533989307110396, 0.6544419731433737, 0.6555812386071193, 0.6568105847744778, 0.6581236527319662, 0.659513910411873, 0.6609746982268513, 0.6624992761886422, 0.6640808715465005, 0.6657127258383423, 0.6673881402137318, 0.6691005179560569, 0.6708434032852809, 0.6726105157393416, 0.6743957796851849, 0.6761933487730505, 0.6779976253960865, 0.6798032754326054, 0.6816052387168808, 0.6833987357993271, 0.6851792716168713, 0.6869426367030964, 0.6886849065328008, 0.6904024395269147, 0.6920918741523163, 0.693750125447939, 0.69537438120368, 0.6969620979202857];\n",
       "const xvar = \"x1\";\n",
       "const yvar = \"x2\";\n",
       "const x_is_log = false;\n",
       "const y_is_log = false;\n",
       "\n",
       "const GREEN_SCALE = [[247, 252, 253], [229, 245, 249], [204, 236, 230], [153, 216, 201], [102, 194, 164], [65, 174, 118], [35, 139, 69], [0, 109, 44], [0, 68, 27]];\n",
       "const GREEN_PINK_SCALE = [[142, 1, 82], [197, 27, 125], [222, 119, 174], [241, 182, 218], [253, 224, 239], [247, 247, 247], [230, 245, 208], [184, 225, 134], [127, 188, 65], [77, 146, 33], [39, 100, 25]];\n",
       "const BLUE_SCALE = [[255, 247, 251], [236, 231, 242], [208, 209, 230], [166, 189, 219], [116, 169, 207], [54, 144, 192], [5, 112, 176], [3, 78, 123]];\n",
       "\n",
       "// format data\n",
       "const res = relativize_data(f, sd, rel, arm_data, metric);\n",
       "const f_final = res[0];\n",
       "const sd_final = res[1];\n",
       "\n",
       "// calculate max of abs(outcome), used for colorscale\n",
       "const f_absmax = Math.max(Math.abs(Math.min(...f_final)), Math.max(...f_final));\n",
       "\n",
       "// transform to nested array\n",
       "var f_plt = [];\n",
       "while(f_final.length) f_plt.push(f_final.splice(0, density));\n",
       "var sd_plt = [];\n",
       "while(sd_final.length) sd_plt.push(sd_final.splice(0, density));\n",
       "\n",
       "// create traces\n",
       "const CONTOUR_CONFIG = {\n",
       "  autocolorscale: false,\n",
       "  autocontour: true,\n",
       "  contours: {\n",
       "    coloring: 'heatmap',\n",
       "  },\n",
       "  hoverinfo: 'x+y+z',\n",
       "  ncontours: density / 2,\n",
       "  type: 'contour',\n",
       "  x: grid_x,\n",
       "  y: grid_y,\n",
       "};\n",
       "\n",
       "let f_scale;\n",
       "if (rel === true) {\n",
       "  f_scale = lower_is_better === true\n",
       "    ? GREEN_PINK_SCALE.reverse()\n",
       "    : GREEN_PINK_SCALE;\n",
       "} else {\n",
       "  f_scale = GREEN_SCALE;\n",
       "}\n",
       "\n",
       "const f_trace = {\n",
       "  colorbar: {\n",
       "    x: 0.45,\n",
       "    y: 0.5,\n",
       "    ticksuffix: rel === true ? '%' : '',\n",
       "    tickfont: {\n",
       "      size: 8,\n",
       "    },\n",
       "  },\n",
       "  colorscale: f_scale.map(\n",
       "    (v, i) => [i / (f_scale.length - 1), rgb(v)]\n",
       "  ),\n",
       "  xaxis: 'x',\n",
       "  yaxis: 'y',\n",
       "  z: f_plt,\n",
       "  // zmax and zmin are ignored if zauto is true\n",
       "  zauto: !rel,\n",
       "  zmax: f_absmax,\n",
       "  zmin: -f_absmax,\n",
       "};\n",
       "\n",
       "const sd_trace = {\n",
       "  colorbar: {\n",
       "      x: 1,\n",
       "      y: 0.5,\n",
       "      ticksuffix: rel === true ? '%' : '',\n",
       "      tickfont: {\n",
       "        size: 8,\n",
       "      },\n",
       "  },\n",
       "  colorscale: BLUE_SCALE.map(\n",
       "    (v, i) => [i / (BLUE_SCALE.length - 1), rgb(v)]\n",
       "  ),\n",
       "  xaxis: 'x2',\n",
       "  yaxis: 'y2',\n",
       "  z: sd_plt,\n",
       "};\n",
       "\n",
       "Object.keys(CONTOUR_CONFIG).forEach(key => {\n",
       "  f_trace[key] = CONTOUR_CONFIG[key];\n",
       "  sd_trace[key] = CONTOUR_CONFIG[key];\n",
       "});\n",
       "\n",
       "// get in-sample arms\n",
       "const arm_x = [];\n",
       "const arm_y = [];\n",
       "const arm_text = [];\n",
       "\n",
       "Object.keys(arm_data['in_sample']).forEach(arm_name => {\n",
       "  arm_x.push(arm_data['in_sample'][arm_name]['parameters'][xvar]);\n",
       "  arm_y.push(arm_data['in_sample'][arm_name]['parameters'][yvar]);\n",
       "  arm_text.push(arm_name);\n",
       "});\n",
       "\n",
       "// configs for in-sample arms\n",
       "const base_in_sample_arm_config = {\n",
       "  hoverinfo: 'text',\n",
       "  legendgroup: 'In-sample',\n",
       "  marker: {color: 'black', symbol: 1, opacity: 0.5},\n",
       "  mode: 'markers',\n",
       "  name: 'In-sample',\n",
       "  text: arm_text,\n",
       "  type: 'scatter',\n",
       "  x: arm_x,\n",
       "  y: arm_y,\n",
       "};\n",
       "\n",
       "const f_in_sample_arm_trace = {\n",
       "  xaxis: 'x',\n",
       "  yaxis: 'y',\n",
       "};\n",
       "\n",
       "const sd_in_sample_arm_trace = {\n",
       "  showlegend: false,\n",
       "  xaxis: 'x2',\n",
       "  yaxis: 'y2',\n",
       "};\n",
       "\n",
       "Object.keys(base_in_sample_arm_config).forEach(key => {\n",
       "  f_in_sample_arm_trace[key] = base_in_sample_arm_config[key];\n",
       "  sd_in_sample_arm_trace[key] = base_in_sample_arm_config[key];\n",
       "});\n",
       "\n",
       "const traces = [\n",
       "  f_trace,\n",
       "  sd_trace,\n",
       "  f_in_sample_arm_trace,\n",
       "  sd_in_sample_arm_trace,\n",
       "];\n",
       "\n",
       "// start symbol at 2 for candidate markers\n",
       "let i = 2;\n",
       "\n",
       "// iterate over out-of-sample arms\n",
       "Object.keys(arm_data['out_of_sample']).forEach(generator_run_name => {\n",
       "  const ax = [];\n",
       "  const ay = [];\n",
       "  const atext = [];\n",
       "\n",
       "  Object.keys(arm_data['out_of_sample'][generator_run_name]).forEach(arm_name => {\n",
       "    ax.push(\n",
       "      arm_data['out_of_sample'][generator_run_name][arm_name]['parameters'][xvar]\n",
       "    );\n",
       "    ay.push(\n",
       "      arm_data['out_of_sample'][generator_run_name][arm_name]['parameters'][yvar]\n",
       "    );\n",
       "    atext.push('<em>Candidate ' + arm_name + '</em>');\n",
       "  });\n",
       "\n",
       "  traces.push({\n",
       "    hoverinfo: 'text',\n",
       "    legendgroup: generator_run_name,\n",
       "    marker: {color: 'black', symbol: i, opacity: 0.5},\n",
       "    mode: 'markers',\n",
       "    name: generator_run_name,\n",
       "    text: atext,\n",
       "    type: 'scatter',\n",
       "    xaxis: 'x',\n",
       "    x: ax,\n",
       "    yaxis: 'y',\n",
       "    y: ay,\n",
       "  });\n",
       "  traces.push({\n",
       "    hoverinfo: 'text',\n",
       "    legendgroup: generator_run_name,\n",
       "    marker: {color: 'black', symbol: i, opacity: 0.5},\n",
       "    mode: 'markers',\n",
       "    name: 'In-sample',\n",
       "    showlegend: false,\n",
       "    text: atext,\n",
       "    type: 'scatter',\n",
       "    x: ax,\n",
       "    xaxis: 'x2',\n",
       "    y: ay,\n",
       "    yaxis: 'y2',\n",
       "  });\n",
       "  i += 1;\n",
       "});\n",
       "\n",
       "// layout\n",
       "const xrange = axis_range(grid_x, x_is_log);\n",
       "const yrange = axis_range(grid_y, y_is_log);\n",
       "\n",
       "const xtype = x_is_log ? 'log' : 'linear';\n",
       "const ytype = y_is_log ? 'log' : 'linear';\n",
       "\n",
       "const layout = {\n",
       "  autosize: false,\n",
       "    margin: {\n",
       "      l: 35,\n",
       "      r: 35,\n",
       "      t: 35,\n",
       "      b: 100,\n",
       "      pad: 0,\n",
       "  },\n",
       "  annotations: [\n",
       "    {\n",
       "      font: {size: 14},\n",
       "      showarrow: false,\n",
       "      text: 'Mean',\n",
       "      x: 0.25,\n",
       "      xanchor: 'center',\n",
       "      xref: 'paper',\n",
       "      y: 1,\n",
       "      yanchor: 'bottom',\n",
       "      yref: 'paper',\n",
       "    },\n",
       "    {\n",
       "      font: {size: 14},\n",
       "      showarrow: false,\n",
       "      text: 'Standard Error',\n",
       "      x: 0.8,\n",
       "      xanchor: 'center',\n",
       "      xref: 'paper',\n",
       "      y: 1,\n",
       "      yanchor: 'bottom',\n",
       "      yref: 'paper',\n",
       "    },\n",
       "  ],\n",
       "  hovermode: 'closest',\n",
       "  legend: {orientation: 'h', x: 0, y: -0.25},\n",
       "  height: 450,\n",
       "  width: 950,\n",
       "  xaxis: {\n",
       "    anchor: 'y',\n",
       "    autorange: false,\n",
       "    domain: [0.05, 0.45],\n",
       "    exponentformat: 'e',\n",
       "    range: xrange,\n",
       "    tickfont: {size: 11},\n",
       "    tickmode: 'auto',\n",
       "    title: xvar,\n",
       "    type: xtype,\n",
       "  },\n",
       "  xaxis2: {\n",
       "    anchor: 'y2',\n",
       "    autorange: false,\n",
       "    domain: [0.60, 1],\n",
       "    exponentformat: 'e',\n",
       "    range: xrange,\n",
       "    tickfont: {size: 11},\n",
       "    tickmode: 'auto',\n",
       "    title: xvar,\n",
       "    type: xtype,\n",
       "  },\n",
       "  yaxis: {\n",
       "    anchor: 'x',\n",
       "    autorange: false,\n",
       "    domain: [0, 1],\n",
       "    exponentformat: 'e',\n",
       "    range: yrange,\n",
       "    tickfont: {size: 11},\n",
       "    tickmode: 'auto',\n",
       "    title: yvar,\n",
       "    type: ytype,\n",
       "  },\n",
       "  yaxis2: {\n",
       "    anchor: 'x2',\n",
       "    autorange: false,\n",
       "    domain: [0, 1],\n",
       "    exponentformat: 'e',\n",
       "    range: yrange,\n",
       "    tickfont: {size: 11},\n",
       "    tickmode: 'auto',\n",
       "    type: ytype,\n",
       "  },\n",
       "};\n",
       "\n",
       "Plotly.newPlot(\"8f14d92bbea24e949ffe38bb31cd498f\", traces, layout, {showLink: false});\n",
       "});</script>"
      ]
     },
     "metadata": {},
     "output_type": "display_data"
    }
   ],
   "source": [
    "render(\n",
    "    plot_contour(\n",
    "        model=ax.generation_strategy.model, param_x='x1', param_y='x2', metric_name='hartmann6'\n",
    "    )\n",
    ")"
   ]
  },
  {
   "cell_type": "markdown",
   "metadata": {},
   "source": [
    "We can also plot the optimization trace, showing the progression of finding the point with the optimal objective:"
   ]
  },
  {
   "cell_type": "code",
   "execution_count": 10,
   "metadata": {},
   "outputs": [
    {
     "data": {
      "text/html": [
       "<div id=\"cc1e9ecd8279428bb9bc4df97440af74\" style=\"width: 100%;\" class=\"plotly-graph-div\"></div><script type='text/javascript'>/*\n",
       " * Copyright (c) Facebook, Inc. and its affiliates. All Rights Reserved.\n",
       " */\n",
       "\n",
       "require(['plotly'], function(Plotly) {\n",
       "  window.PLOTLYENV = window.PLOTLYENV || {};\n",
       "  window.PLOTLYENV.BASE_URL = 'https://plot.ly';\n",
       "  /*\n",
       " * Copyright (c) Facebook, Inc. and its affiliates. All Rights Reserved.\n",
       " */\n",
       "\n",
       "Plotly.newPlot(\n",
       "  \"cc1e9ecd8279428bb9bc4df97440af74\",\n",
       "  [{\"hoverinfo\": \"none\", \"legendgroup\": \"\", \"line\": {\"width\": 0}, \"mode\": \"lines\", \"showlegend\": false, \"x\": [1, 2, 3, 4, 5, 6, 7, 8, 9, 10, 11, 12, 13, 14, 15, 16, 17, 18, 19, 20, 21, 22, 23, 24, 25, 26, 27, 28, 29, 30], \"y\": [-0.03287574701736636, -0.03287574701736636, -0.5716633863927632, -0.5716633863927632, -0.5716633863927632, -0.5716633863927632, -0.5716633863927632, -0.5716633863927632, -0.5716633863927632, -1.0319904395842914, -1.3132927862093786, -1.4464600384741946, -1.8038410684981083, -1.8985944088975364, -2.660773142499586, -3.175759491586347, -3.2369456820734586, -3.299781036397022, -3.299781036397022, -3.299781036397022, -3.299781036397022, -3.299781036397022, -3.299781036397022, -3.321729265926508, -3.321729265926508, -3.321729265926508, -3.321729265926508, -3.321729265926508, -3.321729265926508, -3.321729265926508], \"type\": \"scatter\"}, {\"fill\": \"tonexty\", \"fillcolor\": \"rgba(128,177,211,0.3)\", \"legendgroup\": \"mean\", \"line\": {\"color\": \"rgba(128,177,211,1)\"}, \"mode\": \"lines\", \"name\": \"mean\", \"x\": [1, 2, 3, 4, 5, 6, 7, 8, 9, 10, 11, 12, 13, 14, 15, 16, 17, 18, 19, 20, 21, 22, 23, 24, 25, 26, 27, 28, 29, 30], \"y\": [-0.03287574701736636, -0.03287574701736636, -0.5716633863927632, -0.5716633863927632, -0.5716633863927632, -0.5716633863927632, -0.5716633863927632, -0.5716633863927632, -0.5716633863927632, -1.0319904395842914, -1.3132927862093786, -1.4464600384741946, -1.8038410684981083, -1.8985944088975364, -2.660773142499586, -3.175759491586347, -3.2369456820734586, -3.299781036397022, -3.299781036397022, -3.299781036397022, -3.299781036397022, -3.299781036397022, -3.299781036397022, -3.321729265926508, -3.321729265926508, -3.321729265926508, -3.321729265926508, -3.321729265926508, -3.321729265926508, -3.321729265926508], \"type\": \"scatter\"}, {\"fill\": \"tonexty\", \"fillcolor\": \"rgba(128,177,211,0.3)\", \"hoverinfo\": \"none\", \"legendgroup\": \"\", \"line\": {\"width\": 0}, \"mode\": \"lines\", \"showlegend\": false, \"x\": [1, 2, 3, 4, 5, 6, 7, 8, 9, 10, 11, 12, 13, 14, 15, 16, 17, 18, 19, 20, 21, 22, 23, 24, 25, 26, 27, 28, 29, 30], \"y\": [-0.03287574701736636, -0.03287574701736636, -0.5716633863927632, -0.5716633863927632, -0.5716633863927632, -0.5716633863927632, -0.5716633863927632, -0.5716633863927632, -0.5716633863927632, -1.0319904395842914, -1.3132927862093786, -1.4464600384741946, -1.8038410684981083, -1.8985944088975364, -2.660773142499586, -3.175759491586347, -3.2369456820734586, -3.299781036397022, -3.299781036397022, -3.299781036397022, -3.299781036397022, -3.299781036397022, -3.299781036397022, -3.321729265926508, -3.321729265926508, -3.321729265926508, -3.321729265926508, -3.321729265926508, -3.321729265926508, -3.321729265926508], \"type\": \"scatter\"}, {\"line\": {\"color\": \"rgba(253,180,98,1)\", \"dash\": \"dash\"}, \"mode\": \"lines\", \"name\": \"Optimum\", \"x\": [1, 30], \"y\": [-3.32237, -3.32237], \"type\": \"scatter\"}],\n",
       "  {\"showlegend\": true, \"title\": {\"text\": \"Model performance vs. # of iterations\"}, \"xaxis\": {\"title\": {\"text\": \"Iteration\"}}, \"yaxis\": {\"title\": {\"text\": \"Hartmann6\"}}, \"template\": {\"data\": {\"barpolar\": [{\"marker\": {\"line\": {\"color\": \"#E5ECF6\", \"width\": 0.5}}, \"type\": \"barpolar\"}], \"bar\": [{\"error_x\": {\"color\": \"#2a3f5f\"}, \"error_y\": {\"color\": \"#2a3f5f\"}, \"marker\": {\"line\": {\"color\": \"#E5ECF6\", \"width\": 0.5}}, \"type\": \"bar\"}], \"carpet\": [{\"aaxis\": {\"endlinecolor\": \"#2a3f5f\", \"gridcolor\": \"white\", \"linecolor\": \"white\", \"minorgridcolor\": \"white\", \"startlinecolor\": \"#2a3f5f\"}, \"baxis\": {\"endlinecolor\": \"#2a3f5f\", \"gridcolor\": \"white\", \"linecolor\": \"white\", \"minorgridcolor\": \"white\", \"startlinecolor\": \"#2a3f5f\"}, \"type\": \"carpet\"}], \"choropleth\": [{\"colorbar\": {\"outlinewidth\": 0, \"ticks\": \"\"}, \"type\": \"choropleth\"}], \"contourcarpet\": [{\"colorbar\": {\"outlinewidth\": 0, \"ticks\": \"\"}, \"type\": \"contourcarpet\"}], \"contour\": [{\"colorbar\": {\"outlinewidth\": 0, \"ticks\": \"\"}, \"colorscale\": [[0.0, \"#0d0887\"], [0.1111111111111111, \"#46039f\"], [0.2222222222222222, \"#7201a8\"], [0.3333333333333333, \"#9c179e\"], [0.4444444444444444, \"#bd3786\"], [0.5555555555555556, \"#d8576b\"], [0.6666666666666666, \"#ed7953\"], [0.7777777777777778, \"#fb9f3a\"], [0.8888888888888888, \"#fdca26\"], [1.0, \"#f0f921\"]], \"type\": \"contour\"}], \"heatmapgl\": [{\"colorbar\": {\"outlinewidth\": 0, \"ticks\": \"\"}, \"colorscale\": [[0.0, \"#0d0887\"], [0.1111111111111111, \"#46039f\"], [0.2222222222222222, \"#7201a8\"], [0.3333333333333333, \"#9c179e\"], [0.4444444444444444, \"#bd3786\"], [0.5555555555555556, \"#d8576b\"], [0.6666666666666666, \"#ed7953\"], [0.7777777777777778, \"#fb9f3a\"], [0.8888888888888888, \"#fdca26\"], [1.0, \"#f0f921\"]], \"type\": \"heatmapgl\"}], \"heatmap\": [{\"colorbar\": {\"outlinewidth\": 0, \"ticks\": \"\"}, \"colorscale\": [[0.0, \"#0d0887\"], [0.1111111111111111, \"#46039f\"], [0.2222222222222222, \"#7201a8\"], [0.3333333333333333, \"#9c179e\"], [0.4444444444444444, \"#bd3786\"], [0.5555555555555556, \"#d8576b\"], [0.6666666666666666, \"#ed7953\"], [0.7777777777777778, \"#fb9f3a\"], [0.8888888888888888, \"#fdca26\"], [1.0, \"#f0f921\"]], \"type\": \"heatmap\"}], \"histogram2dcontour\": [{\"colorbar\": {\"outlinewidth\": 0, \"ticks\": \"\"}, \"colorscale\": [[0.0, \"#0d0887\"], [0.1111111111111111, \"#46039f\"], [0.2222222222222222, \"#7201a8\"], [0.3333333333333333, \"#9c179e\"], [0.4444444444444444, \"#bd3786\"], [0.5555555555555556, \"#d8576b\"], [0.6666666666666666, \"#ed7953\"], [0.7777777777777778, \"#fb9f3a\"], [0.8888888888888888, \"#fdca26\"], [1.0, \"#f0f921\"]], \"type\": \"histogram2dcontour\"}], \"histogram2d\": [{\"colorbar\": {\"outlinewidth\": 0, \"ticks\": \"\"}, \"colorscale\": [[0.0, \"#0d0887\"], [0.1111111111111111, \"#46039f\"], [0.2222222222222222, \"#7201a8\"], [0.3333333333333333, \"#9c179e\"], [0.4444444444444444, \"#bd3786\"], [0.5555555555555556, \"#d8576b\"], [0.6666666666666666, \"#ed7953\"], [0.7777777777777778, \"#fb9f3a\"], [0.8888888888888888, \"#fdca26\"], [1.0, \"#f0f921\"]], \"type\": \"histogram2d\"}], \"histogram\": [{\"marker\": {\"colorbar\": {\"outlinewidth\": 0, \"ticks\": \"\"}}, \"type\": \"histogram\"}], \"mesh3d\": [{\"colorbar\": {\"outlinewidth\": 0, \"ticks\": \"\"}, \"type\": \"mesh3d\"}], \"parcoords\": [{\"line\": {\"colorbar\": {\"outlinewidth\": 0, \"ticks\": \"\"}}, \"type\": \"parcoords\"}], \"scatter3d\": [{\"line\": {\"colorbar\": {\"outlinewidth\": 0, \"ticks\": \"\"}}, \"marker\": {\"colorbar\": {\"outlinewidth\": 0, \"ticks\": \"\"}}, \"type\": \"scatter3d\"}], \"scattercarpet\": [{\"marker\": {\"colorbar\": {\"outlinewidth\": 0, \"ticks\": \"\"}}, \"type\": \"scattercarpet\"}], \"scattergeo\": [{\"marker\": {\"colorbar\": {\"outlinewidth\": 0, \"ticks\": \"\"}}, \"type\": \"scattergeo\"}], \"scattergl\": [{\"marker\": {\"colorbar\": {\"outlinewidth\": 0, \"ticks\": \"\"}}, \"type\": \"scattergl\"}], \"scattermapbox\": [{\"marker\": {\"colorbar\": {\"outlinewidth\": 0, \"ticks\": \"\"}}, \"type\": \"scattermapbox\"}], \"scatterpolargl\": [{\"marker\": {\"colorbar\": {\"outlinewidth\": 0, \"ticks\": \"\"}}, \"type\": \"scatterpolargl\"}], \"scatterpolar\": [{\"marker\": {\"colorbar\": {\"outlinewidth\": 0, \"ticks\": \"\"}}, \"type\": \"scatterpolar\"}], \"scatter\": [{\"marker\": {\"colorbar\": {\"outlinewidth\": 0, \"ticks\": \"\"}}, \"type\": \"scatter\"}], \"scatterternary\": [{\"marker\": {\"colorbar\": {\"outlinewidth\": 0, \"ticks\": \"\"}}, \"type\": \"scatterternary\"}], \"surface\": [{\"colorbar\": {\"outlinewidth\": 0, \"ticks\": \"\"}, \"colorscale\": [[0.0, \"#0d0887\"], [0.1111111111111111, \"#46039f\"], [0.2222222222222222, \"#7201a8\"], [0.3333333333333333, \"#9c179e\"], [0.4444444444444444, \"#bd3786\"], [0.5555555555555556, \"#d8576b\"], [0.6666666666666666, \"#ed7953\"], [0.7777777777777778, \"#fb9f3a\"], [0.8888888888888888, \"#fdca26\"], [1.0, \"#f0f921\"]], \"type\": \"surface\"}], \"table\": [{\"cells\": {\"fill\": {\"color\": \"#EBF0F8\"}, \"line\": {\"color\": \"white\"}}, \"header\": {\"fill\": {\"color\": \"#C8D4E3\"}, \"line\": {\"color\": \"white\"}}, \"type\": \"table\"}]}, \"layout\": {\"annotationdefaults\": {\"arrowcolor\": \"#2a3f5f\", \"arrowhead\": 0, \"arrowwidth\": 1}, \"colorscale\": {\"diverging\": [[0, \"#8e0152\"], [0.1, \"#c51b7d\"], [0.2, \"#de77ae\"], [0.3, \"#f1b6da\"], [0.4, \"#fde0ef\"], [0.5, \"#f7f7f7\"], [0.6, \"#e6f5d0\"], [0.7, \"#b8e186\"], [0.8, \"#7fbc41\"], [0.9, \"#4d9221\"], [1, \"#276419\"]], \"sequential\": [[0.0, \"#0d0887\"], [0.1111111111111111, \"#46039f\"], [0.2222222222222222, \"#7201a8\"], [0.3333333333333333, \"#9c179e\"], [0.4444444444444444, \"#bd3786\"], [0.5555555555555556, \"#d8576b\"], [0.6666666666666666, \"#ed7953\"], [0.7777777777777778, \"#fb9f3a\"], [0.8888888888888888, \"#fdca26\"], [1.0, \"#f0f921\"]], \"sequentialminus\": [[0.0, \"#0d0887\"], [0.1111111111111111, \"#46039f\"], [0.2222222222222222, \"#7201a8\"], [0.3333333333333333, \"#9c179e\"], [0.4444444444444444, \"#bd3786\"], [0.5555555555555556, \"#d8576b\"], [0.6666666666666666, \"#ed7953\"], [0.7777777777777778, \"#fb9f3a\"], [0.8888888888888888, \"#fdca26\"], [1.0, \"#f0f921\"]]}, \"colorway\": [\"#636efa\", \"#EF553B\", \"#00cc96\", \"#ab63fa\", \"#FFA15A\", \"#19d3f3\", \"#FF6692\", \"#B6E880\", \"#FF97FF\", \"#FECB52\"], \"font\": {\"color\": \"#2a3f5f\"}, \"geo\": {\"bgcolor\": \"white\", \"lakecolor\": \"white\", \"landcolor\": \"#E5ECF6\", \"showlakes\": true, \"showland\": true, \"subunitcolor\": \"white\"}, \"hoverlabel\": {\"align\": \"left\"}, \"hovermode\": \"closest\", \"mapbox\": {\"style\": \"light\"}, \"paper_bgcolor\": \"white\", \"plot_bgcolor\": \"#E5ECF6\", \"polar\": {\"angularaxis\": {\"gridcolor\": \"white\", \"linecolor\": \"white\", \"ticks\": \"\"}, \"bgcolor\": \"#E5ECF6\", \"radialaxis\": {\"gridcolor\": \"white\", \"linecolor\": \"white\", \"ticks\": \"\"}}, \"scene\": {\"xaxis\": {\"backgroundcolor\": \"#E5ECF6\", \"gridcolor\": \"white\", \"gridwidth\": 2, \"linecolor\": \"white\", \"showbackground\": true, \"ticks\": \"\", \"zerolinecolor\": \"white\"}, \"yaxis\": {\"backgroundcolor\": \"#E5ECF6\", \"gridcolor\": \"white\", \"gridwidth\": 2, \"linecolor\": \"white\", \"showbackground\": true, \"ticks\": \"\", \"zerolinecolor\": \"white\"}, \"zaxis\": {\"backgroundcolor\": \"#E5ECF6\", \"gridcolor\": \"white\", \"gridwidth\": 2, \"linecolor\": \"white\", \"showbackground\": true, \"ticks\": \"\", \"zerolinecolor\": \"white\"}}, \"shapedefaults\": {\"line\": {\"color\": \"#2a3f5f\"}}, \"ternary\": {\"aaxis\": {\"gridcolor\": \"white\", \"linecolor\": \"white\", \"ticks\": \"\"}, \"baxis\": {\"gridcolor\": \"white\", \"linecolor\": \"white\", \"ticks\": \"\"}, \"bgcolor\": \"#E5ECF6\", \"caxis\": {\"gridcolor\": \"white\", \"linecolor\": \"white\", \"ticks\": \"\"}}, \"title\": {\"x\": 0.05}, \"xaxis\": {\"automargin\": true, \"gridcolor\": \"white\", \"linecolor\": \"white\", \"ticks\": \"\", \"zerolinecolor\": \"white\", \"zerolinewidth\": 2}, \"yaxis\": {\"automargin\": true, \"gridcolor\": \"white\", \"linecolor\": \"white\", \"ticks\": \"\", \"zerolinecolor\": \"white\", \"zerolinewidth\": 2}}}},\n",
       "  {\"showLink\": false}\n",
       ");\n",
       "});</script>"
      ]
     },
     "metadata": {},
     "output_type": "display_data"
    }
   ],
   "source": [
    "# `plot_single_method` expects a 2-d array of means, because it expects to average means from multiple \n",
    "# optimization runs, so we wrap out best objectives array in another array.\n",
    "best_objectives = np.array([[trial.objective_mean for trial in ax.experiment.trials.values()]])\n",
    "best_objective_plot = optimization_trace_single_method(\n",
    "    y=np.minimum.accumulate(best_objectives, axis=1),\n",
    "    optimum=hartmann6.fmin,\n",
    "    title=\"Model performance vs. # of iterations\",\n",
    "    ylabel=\"Hartmann6\",\n",
    ")\n",
    "render(best_objective_plot)"
   ]
  },
  {
   "cell_type": "markdown",
   "metadata": {},
   "source": [
    "# Special Cases"
   ]
  },
  {
   "cell_type": "markdown",
   "metadata": {},
   "source": [
    "**Evaluation failure**: should any optimization iterations fail during evaluation, `log_trial_failure` will ensure that the same trial is not proposed again."
   ]
  },
  {
   "cell_type": "code",
   "execution_count": 11,
   "metadata": {},
   "outputs": [
    {
     "name": "stderr",
     "output_type": "stream",
     "text": [
      "/home/travis/virtualenv/python3.6.7/lib/python3.6/site-packages/botorch/optim/optimize.py:331: BadInitialCandidatesWarning:\n",
      "\n",
      "Unable to find non-zero acquisition function values - initial conditions are being selected randomly.\n",
      "\n"
     ]
    }
   ],
   "source": [
    "_, trial_index = ax.get_next_trial()\n",
    "ax.log_trial_failure(trial_index=trial_index)"
   ]
  },
  {
   "cell_type": "markdown",
   "metadata": {},
   "source": [
    "**Adding custom trials**: should there be need to evaluate a specific parameterization, `attach_trial` will add it to the experiment."
   ]
  },
  {
   "cell_type": "code",
   "execution_count": 12,
   "metadata": {},
   "outputs": [
    {
     "data": {
      "text/plain": [
       "({'x1': 9.0, 'x2': 9.0, 'x3': 9.0, 'x4': 9.0, 'x5': 9.0, 'x6': 9.0}, 31)"
      ]
     },
     "execution_count": 12,
     "metadata": {},
     "output_type": "execute_result"
    }
   ],
   "source": [
    "ax.attach_trial(parameters={\"x1\": 9.0, \"x2\": 9.0, \"x3\": 9.0, \"x4\": 9.0, \"x5\": 9.0, \"x6\": 9.0})"
   ]
  },
  {
   "cell_type": "markdown",
   "metadata": {},
   "source": [
    "**Need to run many trials in parallel**: for optimal results and optimization efficiency, we strongly recommend sequential optimization (generating a few trials, then waiting for them to be completed with evaluation data). However, if your use case needs to dispatch many trials in parallel before they are updated with data and you are running into the *\"All trials for current model have been generated, but not enough data has been observed to fit next model\"* error, instantiate `AxClient` as `AxClient(enforce_sequential_optimization=False)`."
   ]
  }
 ],
 "metadata": {
  "kernelspec": {
   "display_name": "python3",
   "language": "python",
   "name": "python3"
  },
  "language_info": {
   "codemirror_mode": {
    "name": "ipython",
    "version": 3
   },
   "file_extension": ".py",
   "mimetype": "text/x-python",
   "name": "python",
   "nbconvert_exporter": "python",
   "pygments_lexer": "ipython3",
   "version": "3.6.7"
  }
 },
 "nbformat": 4,
 "nbformat_minor": 2
}
