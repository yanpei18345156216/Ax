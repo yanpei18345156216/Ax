{
 "cells": [
  {
   "cell_type": "markdown",
   "metadata": {},
   "source": [
    "#  Service API Example on Hartmann6\n",
    "\n",
    "The Ax Service API is designed to allow the user to control scheduling of trials and data computation while having an easy to use interface with Ax.\n",
    "\n",
    "The user iteratively:\n",
    "- Queries Ax for candidates\n",
    "- Schedules / deploys them however they choose\n",
    "- Computes data and logs to Ax\n",
    "- Repeat"
   ]
  },
  {
   "cell_type": "code",
   "execution_count": 1,
   "metadata": {},
   "outputs": [
    {
     "data": {
      "text/html": [
       "<script type='text/javascript'>/*\n",
       " * Copyright (c) Facebook, Inc. and its affiliates. All Rights Reserved.\n",
       " */\n",
       "\n",
       "requirejs.config({\n",
       "  paths: {\n",
       "    plotly: ['https://cdn.plot.ly/plotly-latest.min'],\n",
       "  },\n",
       "});\n",
       "if (!window.Plotly) {\n",
       "  require(['plotly'], function(plotly) {\n",
       "    window.Plotly = plotly;\n",
       "  });\n",
       "}\n",
       "/*\n",
       " * Copyright (c) Facebook, Inc. and its affiliates. All Rights Reserved.\n",
       " */\n",
       "\n",
       "// helper functions used across multiple plots\n",
       "function rgb(rgb_array) {\n",
       "  return 'rgb(' + rgb_array.join() + ')';\n",
       "}\n",
       "\n",
       "function copy_and_reverse(arr) {\n",
       "  const copy = arr.slice();\n",
       "  copy.reverse();\n",
       "  return copy;\n",
       "}\n",
       "\n",
       "function axis_range(grid, is_log) {\n",
       "  return is_log\n",
       "    ? [Math.log10(Math.min(...grid)), Math.log10(Math.max(...grid))]\n",
       "    : [Math.min(...grid), Math.max(...grid)];\n",
       "}\n",
       "\n",
       "function relativize_data(f, sd, rel, arm_data, metric) {\n",
       "  // if relative, extract status quo & compute ratio\n",
       "  const f_final = rel === true ? [] : f;\n",
       "  const sd_final = rel === true ? [] : sd;\n",
       "\n",
       "  if (rel === true) {\n",
       "    const f_sq =\n",
       "      arm_data['in_sample'][arm_data['status_quo_name']]['y'][metric];\n",
       "    const sd_sq =\n",
       "      arm_data['in_sample'][arm_data['status_quo_name']]['se'][metric];\n",
       "\n",
       "    for (let i = 0; i < f.length; i++) {\n",
       "      res = relativize(f[i], sd[i], f_sq, sd_sq);\n",
       "      f_final.push(100 * res[0]);\n",
       "      sd_final.push(100 * res[1]);\n",
       "    }\n",
       "  }\n",
       "\n",
       "  return [f_final, sd_final];\n",
       "}\n",
       "\n",
       "function relativize(m_t, sem_t, m_c, sem_c) {\n",
       "  r_hat =\n",
       "    (m_t - m_c) / Math.abs(m_c) -\n",
       "    (Math.pow(sem_c, 2) * m_t) / Math.pow(Math.abs(m_c), 3);\n",
       "  variance =\n",
       "    (Math.pow(sem_t, 2) + Math.pow((m_t / m_c) * sem_c, 2)) / Math.pow(m_c, 2);\n",
       "  return [r_hat, Math.sqrt(variance)];\n",
       "}\n",
       "\n",
       "function slice_config_to_trace(\n",
       "  arm_data,\n",
       "  arm_name_to_parameters,\n",
       "  f,\n",
       "  fit_data,\n",
       "  grid,\n",
       "  metric,\n",
       "  param,\n",
       "  rel,\n",
       "  setx,\n",
       "  sd,\n",
       "  is_log,\n",
       "  visible,\n",
       ") {\n",
       "  // format data\n",
       "  const res = relativize_data(f, sd, rel, arm_data, metric);\n",
       "  const f_final = res[0];\n",
       "  const sd_final = res[1];\n",
       "\n",
       "  // get data for standard deviation fill plot\n",
       "  const sd_upper = [];\n",
       "  const sd_lower = [];\n",
       "  for (let i = 0; i < sd.length; i++) {\n",
       "    sd_upper.push(f_final[i] + 2 * sd_final[i]);\n",
       "    sd_lower.push(f_final[i] - 2 * sd_final[i]);\n",
       "  }\n",
       "  const grid_rev = copy_and_reverse(grid);\n",
       "  const sd_lower_rev = copy_and_reverse(sd_lower);\n",
       "  const sd_x = grid.concat(grid_rev);\n",
       "  const sd_y = sd_upper.concat(sd_lower_rev);\n",
       "\n",
       "  // get data for observed arms and error bars\n",
       "  const arm_x = [];\n",
       "  const arm_y = [];\n",
       "  const arm_sem = [];\n",
       "  fit_data.forEach(row => {\n",
       "    parameters = arm_name_to_parameters[row['arm_name']];\n",
       "    plot = true;\n",
       "    Object.keys(setx).forEach(p => {\n",
       "      if (p !== param && parameters[p] !== setx[p]) {\n",
       "        plot = false;\n",
       "      }\n",
       "    });\n",
       "    if (plot === true) {\n",
       "      arm_x.push(parameters[param]);\n",
       "      arm_y.push(row['mean']);\n",
       "      arm_sem.push(row['sem']);\n",
       "    }\n",
       "  });\n",
       "\n",
       "  const arm_res = relativize_data(arm_y, arm_sem, rel, arm_data, metric);\n",
       "  const arm_y_final = arm_res[0];\n",
       "  const arm_sem_final = arm_res[1].map(x => x * 2);\n",
       "\n",
       "  // create traces\n",
       "  const f_trace = {\n",
       "    x: grid,\n",
       "    y: f_final,\n",
       "    showlegend: false,\n",
       "    hoverinfo: 'x+y',\n",
       "    line: {\n",
       "      color: 'rgba(128, 177, 211, 1)',\n",
       "    },\n",
       "    visible: visible,\n",
       "  };\n",
       "\n",
       "  const arms_trace = {\n",
       "    x: arm_x,\n",
       "    y: arm_y_final,\n",
       "    mode: 'markers',\n",
       "    error_y: {\n",
       "      type: 'data',\n",
       "      array: arm_sem_final,\n",
       "      visible: true,\n",
       "      color: 'black',\n",
       "    },\n",
       "    line: {\n",
       "      color: 'black',\n",
       "    },\n",
       "    showlegend: false,\n",
       "    hoverinfo: 'x+y',\n",
       "    visible: visible,\n",
       "  };\n",
       "\n",
       "  const sd_trace = {\n",
       "    x: sd_x,\n",
       "    y: sd_y,\n",
       "    fill: 'toself',\n",
       "    fillcolor: 'rgba(128, 177, 211, 0.2)',\n",
       "    line: {\n",
       "      color: 'transparent',\n",
       "    },\n",
       "    showlegend: false,\n",
       "    hoverinfo: 'none',\n",
       "    visible: visible,\n",
       "  };\n",
       "\n",
       "  traces = [sd_trace, f_trace, arms_trace];\n",
       "\n",
       "  // iterate over out-of-sample arms\n",
       "  let i = 1;\n",
       "  Object.keys(arm_data['out_of_sample']).forEach(generator_run_name => {\n",
       "    const ax = [];\n",
       "    const ay = [];\n",
       "    const asem = [];\n",
       "    const atext = [];\n",
       "\n",
       "    Object.keys(arm_data['out_of_sample'][generator_run_name]).forEach(\n",
       "      arm_name => {\n",
       "        const parameters =\n",
       "          arm_data['out_of_sample'][generator_run_name][arm_name]['parameters'];\n",
       "        plot = true;\n",
       "        Object.keys(setx).forEach(p => {\n",
       "          if (p !== param && parameters[p] !== setx[p]) {\n",
       "            plot = false;\n",
       "          }\n",
       "        });\n",
       "        if (plot === true) {\n",
       "          ax.push(parameters[param]);\n",
       "          ay.push(\n",
       "            arm_data['out_of_sample'][generator_run_name][arm_name]['y_hat'][\n",
       "              metric\n",
       "            ],\n",
       "          );\n",
       "          asem.push(\n",
       "            arm_data['out_of_sample'][generator_run_name][arm_name]['se_hat'][\n",
       "              metric\n",
       "            ],\n",
       "          );\n",
       "          atext.push('<em>Candidate ' + arm_name + '</em>');\n",
       "        }\n",
       "      },\n",
       "    );\n",
       "\n",
       "    const out_of_sample_arm_res = relativize_data(\n",
       "      ay,\n",
       "      asem,\n",
       "      rel,\n",
       "      arm_data,\n",
       "      metric,\n",
       "    );\n",
       "    const ay_final = out_of_sample_arm_res[0];\n",
       "    const asem_final = out_of_sample_arm_res[1].map(x => x * 2);\n",
       "\n",
       "    traces.push({\n",
       "      hoverinfo: 'text',\n",
       "      legendgroup: generator_run_name,\n",
       "      marker: {color: 'black', symbol: i, opacity: 0.5},\n",
       "      mode: 'markers',\n",
       "      error_y: {\n",
       "        type: 'data',\n",
       "        array: asem_final,\n",
       "        visible: true,\n",
       "        color: 'black',\n",
       "      },\n",
       "      name: generator_run_name,\n",
       "      text: atext,\n",
       "      type: 'scatter',\n",
       "      xaxis: 'x',\n",
       "      x: ax,\n",
       "      yaxis: 'y',\n",
       "      y: ay_final,\n",
       "      visible: visible,\n",
       "    });\n",
       "\n",
       "    i += 1;\n",
       "  });\n",
       "  return traces;\n",
       "}\n",
       "</script>"
      ]
     },
     "metadata": {},
     "output_type": "display_data"
    },
    {
     "name": "stderr",
     "output_type": "stream",
     "text": [
      "[INFO 08-21 06:29:46] ipy_plotting: Injecting Plotly library into cell. Do not overwrite or delete cell.\n"
     ]
    }
   ],
   "source": [
    "import numpy as np\n",
    "\n",
    "from ax.plot.contour import plot_contour\n",
    "from ax.plot.trace import optimization_trace_single_method\n",
    "from ax.service.ax_client import AxClient\n",
    "from ax.metrics.branin import branin\n",
    "from ax.utils.measurement.synthetic_functions import hartmann6\n",
    "from ax.utils.notebook.plotting import render, init_notebook_plotting\n",
    "\n",
    "init_notebook_plotting()"
   ]
  },
  {
   "cell_type": "markdown",
   "metadata": {},
   "source": [
    "## 1. Initialize client\n",
    "\n",
    "Create a client object to interface with Ax APIs. By default this runs locally without storage."
   ]
  },
  {
   "cell_type": "code",
   "execution_count": 2,
   "metadata": {
    "collapsed": true
   },
   "outputs": [],
   "source": [
    "ax = AxClient()"
   ]
  },
  {
   "cell_type": "markdown",
   "metadata": {},
   "source": [
    "## 2. Set up experiment\n",
    "An experiment consists of a **search space** (parameters and parameter constraints) and **optimization configuration** (objective name, minimization setting, and outcome constraints). Note that:\n",
    "- Only `name`, `parameters`, and `objective_name` arguments are required.\n",
    "- Dictionaries in `parameters` have the following required keys: \"name\" - parameter name, \"type\" - parameter type (\"range\", \"choice\" or \"fixed\"), \"bounds\" for range parameters, \"values\" for choice parameters, and \"value\" for fixed parameters.\n",
    "- Dictionaries in `parameters` can optionally include \"value_type\" (\"int\", \"float\", \"bool\" or \"str\"), \"log_scale\" flag for range parameters, and \"is_ordered\" flag for choice parameters.\n",
    "- `parameter_constraints` should be a list of strings of form \"p1 >= p2\" or \"p1 + p2 <= some_bound\".\n",
    "- `outcome_constraints` should be a list of strings of form \"constrained_metric <= some_bound\"."
   ]
  },
  {
   "cell_type": "code",
   "execution_count": 3,
   "metadata": {},
   "outputs": [
    {
     "name": "stderr",
     "output_type": "stream",
     "text": [
      "[INFO 08-21 06:29:46] ax.service.utils.dispatch: Using Bayesian Optimization generation strategy. Iterations after 6 will take longer to generate due to model-fitting.\n"
     ]
    }
   ],
   "source": [
    "ax.create_experiment(\n",
    "    name=\"hartmann_test_experiment\",\n",
    "    parameters=[\n",
    "        {\n",
    "            \"name\": \"x1\",\n",
    "            \"type\": \"range\",\n",
    "            \"bounds\": [0.0, 1.0],\n",
    "            \"value_type\": \"float\",  # Optional, defaults to inference from type of \"bounds\".\n",
    "            \"log_scale\": False,  # Optional, defaults to False.\n",
    "        },\n",
    "        {\n",
    "            \"name\": \"x2\",\n",
    "            \"type\": \"range\",\n",
    "            \"bounds\": [0.0, 1.0],\n",
    "        },\n",
    "        {\n",
    "            \"name\": \"x3\",\n",
    "            \"type\": \"range\",\n",
    "            \"bounds\": [0.0, 1.0],\n",
    "        },\n",
    "        {\n",
    "            \"name\": \"x4\",\n",
    "            \"type\": \"range\",\n",
    "            \"bounds\": [0.0, 1.0],\n",
    "        },\n",
    "        {\n",
    "            \"name\": \"x5\",\n",
    "            \"type\": \"range\",\n",
    "            \"bounds\": [0.0, 1.0],\n",
    "        },\n",
    "        {\n",
    "            \"name\": \"x6\",\n",
    "            \"type\": \"range\",\n",
    "            \"bounds\": [0.0, 1.0],\n",
    "        },\n",
    "    ],\n",
    "    objective_name=\"hartmann6\",\n",
    "    minimize=True,  # Optional, defaults to False.\n",
    "    parameter_constraints=[\"x1 + x2 <= 2.0\"],  # Optional.\n",
    "    outcome_constraints=[\"l2norm <= 1.25\"],  # Optional.\n",
    ")"
   ]
  },
  {
   "cell_type": "markdown",
   "metadata": {},
   "source": [
    "## 3. Define how to evaluate trials\n",
    "When using Ax a service, evaluation of parameterizations suggested by Ax is done either locally or, more commonly, using an external scheduler. Below is a dummy evaluation function that outputs data for two metrics \"hartmann6\" and \"l2norm\". Note that all returned metrics correspond to either the `objective_name` set on experiment creation or the metric names mentioned in `outcome_constraints`."
   ]
  },
  {
   "cell_type": "code",
   "execution_count": 4,
   "metadata": {
    "collapsed": true
   },
   "outputs": [],
   "source": [
    "def evaluate(parameters):\n",
    "    x = np.array([parameters.get(f\"x{i+1}\") for i in range(6)])\n",
    "    # In our case, standard error is 0, since we are computing a synthetic function.\n",
    "    return {\"hartmann6\": (hartmann6(x), 0.0), \"l2norm\": (np.sqrt((x ** 2).sum()), 0.0)}"
   ]
  },
  {
   "cell_type": "markdown",
   "metadata": {},
   "source": [
    "Result of the evaluation should generally be a mapping of the format: `{metric_name -> (mean, SEM)}`. If there is only one metric in the experiment – the objective – then evaluation function can return a single tuple of mean and SEM, in which case Ax will assume that evaluation corresponds to the objective. It can also return only the mean as a float, in which case Ax will assume that SEM is 0.0. For more details on evaluation function, refer to the \"Trial Evaluation\" section in the docs."
   ]
  },
  {
   "cell_type": "markdown",
   "metadata": {},
   "source": [
    "## 4. Run optimization loop\n",
    "With the experiment set up, we can start the optimization loop.\n",
    "\n",
    "At each step, the user queries the client for a new trial then submits the evaluation of that trial back to the client.\n",
    "\n",
    "Note that Ax auto-selects an appropriate optimization algorithm based on the search space. For more advance use cases that require a specific optimization algorithm, pass a `generation_strategy` argument into the `AxClient` constructor. Note that when Bayesian Optimization is used, generating new trials may take a few minutes."
   ]
  },
  {
   "cell_type": "code",
   "execution_count": 5,
   "metadata": {},
   "outputs": [
    {
     "name": "stdout",
     "output_type": "stream",
     "text": [
      "Running trial 1/30...\n",
      "Running trial 2/30...\n",
      "Running trial 3/30...\n",
      "Running trial 4/30...\n",
      "Running trial 5/30...\n",
      "Running trial 6/30...\n"
     ]
    },
    {
     "name": "stdout",
     "output_type": "stream",
     "text": [
      "Running trial 7/30...\n"
     ]
    },
    {
     "name": "stdout",
     "output_type": "stream",
     "text": [
      "Running trial 8/30...\n"
     ]
    },
    {
     "name": "stdout",
     "output_type": "stream",
     "text": [
      "Running trial 9/30...\n"
     ]
    },
    {
     "name": "stdout",
     "output_type": "stream",
     "text": [
      "Running trial 10/30...\n"
     ]
    },
    {
     "name": "stdout",
     "output_type": "stream",
     "text": [
      "Running trial 11/30...\n"
     ]
    },
    {
     "name": "stdout",
     "output_type": "stream",
     "text": [
      "Running trial 12/30...\n"
     ]
    },
    {
     "name": "stdout",
     "output_type": "stream",
     "text": [
      "Running trial 13/30...\n"
     ]
    },
    {
     "name": "stdout",
     "output_type": "stream",
     "text": [
      "Running trial 14/30...\n"
     ]
    },
    {
     "name": "stdout",
     "output_type": "stream",
     "text": [
      "Running trial 15/30...\n"
     ]
    },
    {
     "name": "stdout",
     "output_type": "stream",
     "text": [
      "Running trial 16/30...\n"
     ]
    },
    {
     "name": "stdout",
     "output_type": "stream",
     "text": [
      "Running trial 17/30...\n"
     ]
    },
    {
     "name": "stdout",
     "output_type": "stream",
     "text": [
      "Running trial 18/30...\n"
     ]
    },
    {
     "name": "stdout",
     "output_type": "stream",
     "text": [
      "Running trial 19/30...\n"
     ]
    },
    {
     "name": "stdout",
     "output_type": "stream",
     "text": [
      "Running trial 20/30...\n"
     ]
    },
    {
     "name": "stdout",
     "output_type": "stream",
     "text": [
      "Running trial 21/30...\n"
     ]
    },
    {
     "name": "stdout",
     "output_type": "stream",
     "text": [
      "Running trial 22/30...\n"
     ]
    },
    {
     "name": "stdout",
     "output_type": "stream",
     "text": [
      "Running trial 23/30...\n"
     ]
    },
    {
     "name": "stdout",
     "output_type": "stream",
     "text": [
      "Running trial 24/30...\n"
     ]
    },
    {
     "name": "stdout",
     "output_type": "stream",
     "text": [
      "Running trial 25/30...\n"
     ]
    },
    {
     "name": "stdout",
     "output_type": "stream",
     "text": [
      "Running trial 26/30...\n"
     ]
    },
    {
     "name": "stdout",
     "output_type": "stream",
     "text": [
      "Running trial 27/30...\n"
     ]
    },
    {
     "name": "stdout",
     "output_type": "stream",
     "text": [
      "Running trial 28/30...\n"
     ]
    },
    {
     "name": "stderr",
     "output_type": "stream",
     "text": [
      "/home/travis/virtualenv/python3.6.7/lib/python3.6/site-packages/botorch/optim/optimize.py:331: BadInitialCandidatesWarning:\n",
      "\n",
      "Unable to find non-zero acquisition function values - initial conditions are being selected randomly.\n",
      "\n"
     ]
    },
    {
     "name": "stdout",
     "output_type": "stream",
     "text": [
      "Running trial 29/30...\n"
     ]
    },
    {
     "name": "stderr",
     "output_type": "stream",
     "text": [
      "/home/travis/virtualenv/python3.6.7/lib/python3.6/site-packages/botorch/optim/optimize.py:331: BadInitialCandidatesWarning:\n",
      "\n",
      "Unable to find non-zero acquisition function values - initial conditions are being selected randomly.\n",
      "\n"
     ]
    },
    {
     "name": "stdout",
     "output_type": "stream",
     "text": [
      "Running trial 30/30...\n"
     ]
    },
    {
     "name": "stderr",
     "output_type": "stream",
     "text": [
      "/home/travis/virtualenv/python3.6.7/lib/python3.6/site-packages/botorch/optim/optimize.py:331: BadInitialCandidatesWarning:\n",
      "\n",
      "Unable to find non-zero acquisition function values - initial conditions are being selected randomly.\n",
      "\n"
     ]
    }
   ],
   "source": [
    "for i in range(30):\n",
    "    print(f\"Running trial {i+1}/30...\")\n",
    "    parameters, trial_index = ax.get_next_trial()\n",
    "     # Local evaluation here can be replaced with deployment to external system.\n",
    "    ax.complete_trial(trial_index=trial_index, raw_data=evaluate(parameters))"
   ]
  },
  {
   "cell_type": "markdown",
   "metadata": {},
   "source": [
    "## 5. Retrieve best parameters\n",
    "\n",
    "Once it's complete, we can access the best parameters found, as well as the corresponding metric values."
   ]
  },
  {
   "cell_type": "code",
   "execution_count": 6,
   "metadata": {},
   "outputs": [
    {
     "data": {
      "text/plain": [
       "{'x1': 0.19490061336900516,\n",
       " 'x2': 0.13364033146729046,\n",
       " 'x3': 0.49808409751624444,\n",
       " 'x4': 0.27173477097407456,\n",
       " 'x5': 0.3195747862997429,\n",
       " 'x6': 0.6545406426580865}"
      ]
     },
     "execution_count": 6,
     "metadata": {},
     "output_type": "execute_result"
    }
   ],
   "source": [
    "best_parameters, values = ax.get_best_parameters()\n",
    "best_parameters"
   ]
  },
  {
   "cell_type": "code",
   "execution_count": 7,
   "metadata": {},
   "outputs": [
    {
     "data": {
      "text/plain": [
       "{'l2norm': 0.9530570200754269, 'hartmann6': -3.3112900317950458}"
      ]
     },
     "execution_count": 7,
     "metadata": {},
     "output_type": "execute_result"
    }
   ],
   "source": [
    "means, covariances = values\n",
    "means"
   ]
  },
  {
   "cell_type": "markdown",
   "metadata": {},
   "source": [
    "For comparison, Hartmann6 minimum:"
   ]
  },
  {
   "cell_type": "code",
   "execution_count": 8,
   "metadata": {},
   "outputs": [
    {
     "data": {
      "text/plain": [
       "-3.32237"
      ]
     },
     "execution_count": 8,
     "metadata": {},
     "output_type": "execute_result"
    }
   ],
   "source": [
    "hartmann6.fmin"
   ]
  },
  {
   "cell_type": "markdown",
   "metadata": {},
   "source": [
    "## 6. Plot the response surface and optimization trace\n",
    "Here we arbitrarily select \"x1\" and \"x2\" as the two parameters to plot for both metrics, \"hartmann6\" and \"l2norm\"."
   ]
  },
  {
   "cell_type": "code",
   "execution_count": 9,
   "metadata": {},
   "outputs": [
    {
     "data": {
      "text/html": [
       "<div id=\"15d7a4064430437595cf0f97bb97b3fd\" style=\"width: 100%;\" class=\"plotly-graph-div\"></div><script type='text/javascript'>/*\n",
       " * Copyright (c) Facebook, Inc. and its affiliates. All Rights Reserved.\n",
       " */\n",
       "\n",
       "require(['plotly'], function(Plotly) {\n",
       "  window.PLOTLYENV = window.PLOTLYENV || {};\n",
       "  window.PLOTLYENV.BASE_URL = 'https://plot.ly';\n",
       "  /*\n",
       " * Copyright (c) Facebook, Inc. and its affiliates. All Rights Reserved.\n",
       " */\n",
       "\n",
       "const arm_data = {\"metrics\": [\"hartmann6\"], \"in_sample\": {\"0_0\": {\"name\": \"0_0\", \"parameters\": {\"x1\": 0.21607203781604767, \"x2\": 0.9363425374031067, \"x3\": 0.4508591294288635, \"x4\": 0.6093376278877258, \"x5\": 0.05975661426782608, \"x6\": 0.7088193893432617}, \"y\": {\"hartmann6\": -0.059198765948128854}, \"y_hat\": {\"hartmann6\": -0.05919890360166358}, \"se\": {\"hartmann6\": 0.0}, \"se_hat\": {\"hartmann6\": 0.0003693878406028155}, \"context_stratum\": null}, \"1_0\": {\"name\": \"1_0\", \"parameters\": {\"x1\": 0.44860732555389404, \"x2\": 0.3860723376274109, \"x3\": 0.03698110952973366, \"x4\": 0.030588235706090927, \"x5\": 0.4619593918323517, \"x6\": 0.3723647892475128}, \"y\": {\"hartmann6\": -0.31339269541654063}, \"y_hat\": {\"hartmann6\": -0.3133928217185711}, \"se\": {\"hartmann6\": 0.0}, \"se_hat\": {\"hartmann6\": 0.00036938782942750855}, \"context_stratum\": null}, \"2_0\": {\"name\": \"2_0\", \"parameters\": {\"x1\": 0.8787968754768372, \"x2\": 0.6693390607833862, \"x3\": 0.581058144569397, \"x4\": 0.7806809544563293, \"x5\": 0.7891091704368591, \"x6\": 0.9731366634368896}, \"y\": {\"hartmann6\": -0.004939425780340107}, \"y_hat\": {\"hartmann6\": -0.00493944662133039}, \"se\": {\"hartmann6\": 0.0}, \"se_hat\": {\"hartmann6\": 0.000369387840807867}, \"context_stratum\": null}, \"3_0\": {\"name\": \"3_0\", \"parameters\": {\"x1\": 0.8237771391868591, \"x2\": 0.28733012080192566, \"x3\": 0.29211995005607605, \"x4\": 0.4731537103652954, \"x5\": 0.346448689699173, \"x6\": 0.7619832158088684}, \"y\": {\"hartmann6\": -0.6304071975694795}, \"y_hat\": {\"hartmann6\": -0.630407281197991}, \"se\": {\"hartmann6\": 0.0}, \"se_hat\": {\"hartmann6\": 0.0003693878186623042}, \"context_stratum\": null}, \"4_0\": {\"name\": \"4_0\", \"parameters\": {\"x1\": 0.2531158924102783, \"x2\": 0.5000319480895996, \"x3\": 0.8417967557907104, \"x4\": 0.7233667373657227, \"x5\": 0.8943049311637878, \"x6\": 0.3959563374519348}, \"y\": {\"hartmann6\": -0.10404244764166636}, \"y_hat\": {\"hartmann6\": -0.10404245326913864}, \"se\": {\"hartmann6\": 0.0}, \"se_hat\": {\"hartmann6\": 0.0003693878418331245}, \"context_stratum\": null}, \"5_0\": {\"name\": \"5_0\", \"parameters\": {\"x1\": 0.020685521885752678, \"x2\": 0.05230129882693291, \"x3\": 0.6773055195808411, \"x4\": 0.14464780688285828, \"x5\": 0.6171860098838806, \"x6\": 0.5604709982872009}, \"y\": {\"hartmann6\": -0.8772875710873514}, \"y_hat\": {\"hartmann6\": -0.8772881001196424}, \"se\": {\"hartmann6\": 0.0}, \"se_hat\": {\"hartmann6\": 0.0003693874163510161}, \"context_stratum\": null}, \"6_0\": {\"name\": \"6_0\", \"parameters\": {\"x1\": 0.13339645448840143, \"x2\": 0.021606054798573363, \"x3\": 0.5969811748366699, \"x4\": 0.11294498570299898, \"x5\": 0.5505589777984332, \"x6\": 0.6238803416974804}, \"y\": {\"hartmann6\": -1.4130820958064854}, \"y_hat\": {\"hartmann6\": -1.4130809505440267}, \"se\": {\"hartmann6\": 0.0}, \"se_hat\": {\"hartmann6\": 0.0003693857308218956}, \"context_stratum\": null}, \"7_0\": {\"name\": \"7_0\", \"parameters\": {\"x1\": 0.22057388192398172, \"x2\": 0.0022613008554553792, \"x3\": 0.5437247591058499, \"x4\": 0.08893271791302466, \"x5\": 0.5125645160264252, \"x6\": 0.6756608994257544}, \"y\": {\"hartmann6\": -1.5067251996846396}, \"y_hat\": {\"hartmann6\": -1.506726291376671}, \"se\": {\"hartmann6\": 0.0}, \"se_hat\": {\"hartmann6\": 0.0003693865264254072}, \"context_stratum\": null}, \"8_0\": {\"name\": \"8_0\", \"parameters\": {\"x1\": 0.16234690079908515, \"x2\": 0.007251626427551571, \"x3\": 0.536122884508022, \"x4\": 0.08415414592542736, \"x5\": 0.40941990125278144, \"x6\": 0.6169097546402417}, \"y\": {\"hartmann6\": -2.0619415836063104}, \"y_hat\": {\"hartmann6\": -2.0619411374380974}, \"se\": {\"hartmann6\": 0.0}, \"se_hat\": {\"hartmann6\": 0.0003693852807310058}, \"context_stratum\": null}, \"9_0\": {\"name\": \"9_0\", \"parameters\": {\"x1\": 0.11070012588422869, \"x2\": 2.7157022923285912e-17, \"x3\": 0.5446422740725791, \"x4\": 0.08441789074170342, \"x5\": 0.32045816705333263, \"x6\": 0.5859905465192525}, \"y\": {\"hartmann6\": -2.142391214743342}, \"y_hat\": {\"hartmann6\": -2.1423920492244806}, \"se\": {\"hartmann6\": 0.0}, \"se_hat\": {\"hartmann6\": 0.00036938196859883184}, \"context_stratum\": null}, \"10_0\": {\"name\": \"10_0\", \"parameters\": {\"x1\": 0.1571509726155109, \"x2\": 0.0, \"x3\": 0.471666575108944, \"x4\": 0.05320003627542439, \"x5\": 0.34798919377500204, \"x6\": 0.5204332489069528}, \"y\": {\"hartmann6\": -1.7813572803878122}, \"y_hat\": {\"hartmann6\": -1.7813575370121328}, \"se\": {\"hartmann6\": 0.0}, \"se_hat\": {\"hartmann6\": 0.0003693864179527613}, \"context_stratum\": null}, \"11_0\": {\"name\": \"11_0\", \"parameters\": {\"x1\": 0.11937952430918036, \"x2\": 0.04258492397796101, \"x3\": 0.5582093104348909, \"x4\": 0.1097377338854239, \"x5\": 0.3156888076733964, \"x6\": 0.6618615181791886}, \"y\": {\"hartmann6\": -2.451243438640148}, \"y_hat\": {\"hartmann6\": -2.451241608313072}, \"se\": {\"hartmann6\": 0.0}, \"se_hat\": {\"hartmann6\": 0.0003693744923291219}, \"context_stratum\": null}, \"12_0\": {\"name\": \"12_0\", \"parameters\": {\"x1\": 0.07671937512168928, \"x2\": 0.08035856584938805, \"x3\": 0.5519857320905175, \"x4\": 0.10693231535936877, \"x5\": 0.29609672418904665, \"x6\": 0.7521629187291392}, \"y\": {\"hartmann6\": -2.2243655662826733}, \"y_hat\": {\"hartmann6\": -2.224366472592774}, \"se\": {\"hartmann6\": 0.0}, \"se_hat\": {\"hartmann6\": 0.0003693863112230285}, \"context_stratum\": null}, \"13_0\": {\"name\": \"13_0\", \"parameters\": {\"x1\": 0.18901161630191837, \"x2\": 0.07585483618340462, \"x3\": 0.5955971920444613, \"x4\": 0.16514626447690442, \"x5\": 0.2810021102148177, \"x6\": 0.6612334243918541}, \"y\": {\"hartmann6\": -2.7666299461208057}, \"y_hat\": {\"hartmann6\": -2.7666304800574837}, \"se\": {\"hartmann6\": 0.0}, \"se_hat\": {\"hartmann6\": 0.00036938204416150347}, \"context_stratum\": null}, \"14_0\": {\"name\": \"14_0\", \"parameters\": {\"x1\": 0.19516851650553263, \"x2\": 0.04937475104322506, \"x3\": 0.5796377048843425, \"x4\": 0.2524522029711797, \"x5\": 0.2769740682356512, \"x6\": 0.6600670085058882}, \"y\": {\"hartmann6\": -3.0233772502458125}, \"y_hat\": {\"hartmann6\": -3.0233770183520354}, \"se\": {\"hartmann6\": 0.0}, \"se_hat\": {\"hartmann6\": 0.0003693631851051643}, \"context_stratum\": null}, \"15_0\": {\"name\": \"15_0\", \"parameters\": {\"x1\": 0.2141101472907748, \"x2\": 0.005986766965005794, \"x3\": 0.6491771400066796, \"x4\": 0.30825045448695476, \"x5\": 0.2621945412088505, \"x6\": 0.6903859406841638}, \"y\": {\"hartmann6\": -2.6366630254323993}, \"y_hat\": {\"hartmann6\": -2.6366634242116875}, \"se\": {\"hartmann6\": 0.0}, \"se_hat\": {\"hartmann6\": 0.0003693854122724319}, \"context_stratum\": null}, \"16_0\": {\"name\": \"16_0\", \"parameters\": {\"x1\": 0.18062739187145332, \"x2\": 0.08444190565470605, \"x3\": 0.5164244036182868, \"x4\": 0.2759448240570865, \"x5\": 0.2911285864798199, \"x6\": 0.6278147032893727}, \"y\": {\"hartmann6\": -3.2090486278259354}, \"y_hat\": {\"hartmann6\": -3.209047943398161}, \"se\": {\"hartmann6\": 0.0}, \"se_hat\": {\"hartmann6\": 0.0003693311868851137}, \"context_stratum\": null}, \"17_0\": {\"name\": \"17_0\", \"parameters\": {\"x1\": 0.20456766458550665, \"x2\": 0.0954485954864335, \"x3\": 0.45083210919867517, \"x4\": 0.3023661926723436, \"x5\": 0.2439692419111712, \"x6\": 0.6477249940453476}, \"y\": {\"hartmann6\": -3.046014758205909}, \"y_hat\": {\"hartmann6\": -3.0460156507803333}, \"se\": {\"hartmann6\": 0.0}, \"se_hat\": {\"hartmann6\": 0.00036938476327959437}, \"context_stratum\": null}, \"18_0\": {\"name\": \"18_0\", \"parameters\": {\"x1\": 0.13076589294176874, \"x2\": 0.13135534030136473, \"x3\": 0.5406865051127236, \"x4\": 0.30799407253522953, \"x5\": 0.28490673736335154, \"x6\": 0.6158445603094213}, \"y\": {\"hartmann6\": -3.1036928058564555}, \"y_hat\": {\"hartmann6\": -3.103692798893703}, \"se\": {\"hartmann6\": 0.0}, \"se_hat\": {\"hartmann6\": 0.0003693826854695799}, \"context_stratum\": null}, \"19_0\": {\"name\": \"19_0\", \"parameters\": {\"x1\": 0.1947583304497227, \"x2\": 0.10753073080866116, \"x3\": 0.4976988634797837, \"x4\": 0.29584187652411265, \"x5\": 0.3322034974967284, \"x6\": 0.6503410906426365}, \"y\": {\"hartmann6\": -3.262296928690386}, \"y_hat\": {\"hartmann6\": -3.262297859475326}, \"se\": {\"hartmann6\": 0.0}, \"se_hat\": {\"hartmann6\": 0.0003692884714802895}, \"context_stratum\": null}, \"20_0\": {\"name\": \"20_0\", \"parameters\": {\"x1\": 0.24576103257721238, \"x2\": 0.12498010164219792, \"x3\": 0.5206710564254602, \"x4\": 0.3083665270034775, \"x5\": 0.32371980828613267, \"x6\": 0.6091005861182992}, \"y\": {\"hartmann6\": -3.168847525486532}, \"y_hat\": {\"hartmann6\": -3.168847498673724}, \"se\": {\"hartmann6\": 0.0}, \"se_hat\": {\"hartmann6\": 0.00036938446021082653}, \"context_stratum\": null}, \"21_0\": {\"name\": \"21_0\", \"parameters\": {\"x1\": 0.17014658679903927, \"x2\": 0.06645401318560779, \"x3\": 0.4679924204769326, \"x4\": 0.32737836295445577, \"x5\": 0.34167208049576653, \"x6\": 0.6233565356660767}, \"y\": {\"hartmann6\": -3.082841692671479}, \"y_hat\": {\"hartmann6\": -3.0828422030247316}, \"se\": {\"hartmann6\": 0.0}, \"se_hat\": {\"hartmann6\": 0.00036937617688423576}, \"context_stratum\": null}, \"22_0\": {\"name\": \"22_0\", \"parameters\": {\"x1\": 0.19490061336900516, \"x2\": 0.13364033146729046, \"x3\": 0.49808409751624444, \"x4\": 0.27173477097407456, \"x5\": 0.3195747862997429, \"x6\": 0.6545406426580865}, \"y\": {\"hartmann6\": -3.311295606171372}, \"y_hat\": {\"hartmann6\": -3.3112900317950458}, \"se\": {\"hartmann6\": 0.0}, \"se_hat\": {\"hartmann6\": 0.000369105690657136}, \"context_stratum\": null}, \"23_0\": {\"name\": \"23_0\", \"parameters\": {\"x1\": 0.18232508269145478, \"x2\": 0.16524216864535535, \"x3\": 0.4685976527747827, \"x4\": 0.2647930001948911, \"x5\": 0.33065435221898065, \"x6\": 0.639090588011034}, \"y\": {\"hartmann6\": -3.2858259395715854}, \"y_hat\": {\"hartmann6\": -3.28582623698703}, \"se\": {\"hartmann6\": 0.0}, \"se_hat\": {\"hartmann6\": 0.00036936812457986624}, \"context_stratum\": null}, \"24_0\": {\"name\": \"24_0\", \"parameters\": {\"x1\": 0.1993380178014958, \"x2\": 0.1767246569253918, \"x3\": 0.4987884093070095, \"x4\": 0.2752389484546914, \"x5\": 0.31690242427028575, \"x6\": 0.6667744060024505}, \"y\": {\"hartmann6\": -3.3066880680339747}, \"y_hat\": {\"hartmann6\": -3.3066861403884307}, \"se\": {\"hartmann6\": 0.0}, \"se_hat\": {\"hartmann6\": 0.00036933984723168606}, \"context_stratum\": null}, \"25_0\": {\"name\": \"25_0\", \"parameters\": {\"x1\": 0.19035560001292484, \"x2\": 0.16302532202026626, \"x3\": 0.5163525595503276, \"x4\": 0.26254676778108915, \"x5\": 0.3284554949382706, \"x6\": 0.6531176729053834}, \"y\": {\"hartmann6\": -3.288410572027972}, \"y_hat\": {\"hartmann6\": -3.2884147307598264}, \"se\": {\"hartmann6\": 0.0}, \"se_hat\": {\"hartmann6\": 0.0003693341496041408}, \"context_stratum\": null}, \"26_0\": {\"name\": \"26_0\", \"parameters\": {\"x1\": 0.0652564811352093, \"x2\": 0.22100697152377394, \"x3\": 0.1989521930599731, \"x4\": 0.3483127539127395, \"x5\": 0.3448078009560817, \"x6\": 0.8763768332592361}, \"y\": {\"hartmann6\": -1.7270355934844066}, \"y_hat\": {\"hartmann6\": -1.7270356805897704}, \"se\": {\"hartmann6\": 0.0}, \"se_hat\": {\"hartmann6\": 0.0003693877710903501}, \"context_stratum\": null}, \"27_0\": {\"name\": \"27_0\", \"parameters\": {\"x1\": 0.5397608298808336, \"x2\": 0.2109543327242136, \"x3\": 0.6869909660890698, \"x4\": 0.49195954855531454, \"x5\": 0.32625776901841164, \"x6\": 0.8783291075378656}, \"y\": {\"hartmann6\": -1.1641517604433662}, \"y_hat\": {\"hartmann6\": -1.1641517851477037}, \"se\": {\"hartmann6\": 0.0}, \"se_hat\": {\"hartmann6\": 0.0003693877871868956}, \"context_stratum\": null}, \"28_0\": {\"name\": \"28_0\", \"parameters\": {\"x1\": 0.20779144018888474, \"x2\": 0.7662726230919361, \"x3\": 0.5833274554461241, \"x4\": 0.9002168253064156, \"x5\": 0.6237120293080807, \"x6\": 0.8023478491231799}, \"y\": {\"hartmann6\": -0.02353532280146243}, \"y_hat\": {\"hartmann6\": -0.023535370093132446}, \"se\": {\"hartmann6\": 0.0}, \"se_hat\": {\"hartmann6\": 0.0003693878368093627}, \"context_stratum\": null}}, \"out_of_sample\": {}, \"status_quo_name\": null};\n",
       "const density = 50;\n",
       "const grid_x = [0.0, 0.02040816326530612, 0.04081632653061224, 0.061224489795918366, 0.08163265306122448, 0.1020408163265306, 0.12244897959183673, 0.14285714285714285, 0.16326530612244897, 0.18367346938775508, 0.2040816326530612, 0.22448979591836732, 0.24489795918367346, 0.26530612244897955, 0.2857142857142857, 0.3061224489795918, 0.32653061224489793, 0.3469387755102041, 0.36734693877551017, 0.3877551020408163, 0.4081632653061224, 0.42857142857142855, 0.44897959183673464, 0.4693877551020408, 0.4897959183673469, 0.5102040816326531, 0.5306122448979591, 0.5510204081632653, 0.5714285714285714, 0.5918367346938775, 0.6122448979591836, 0.6326530612244897, 0.6530612244897959, 0.673469387755102, 0.6938775510204082, 0.7142857142857142, 0.7346938775510203, 0.7551020408163265, 0.7755102040816326, 0.7959183673469387, 0.8163265306122448, 0.836734693877551, 0.8571428571428571, 0.8775510204081632, 0.8979591836734693, 0.9183673469387754, 0.9387755102040816, 0.9591836734693877, 0.9795918367346939, 1.0];\n",
       "const grid_y = [0.0, 0.02040816326530612, 0.04081632653061224, 0.061224489795918366, 0.08163265306122448, 0.1020408163265306, 0.12244897959183673, 0.14285714285714285, 0.16326530612244897, 0.18367346938775508, 0.2040816326530612, 0.22448979591836732, 0.24489795918367346, 0.26530612244897955, 0.2857142857142857, 0.3061224489795918, 0.32653061224489793, 0.3469387755102041, 0.36734693877551017, 0.3877551020408163, 0.4081632653061224, 0.42857142857142855, 0.44897959183673464, 0.4693877551020408, 0.4897959183673469, 0.5102040816326531, 0.5306122448979591, 0.5510204081632653, 0.5714285714285714, 0.5918367346938775, 0.6122448979591836, 0.6326530612244897, 0.6530612244897959, 0.673469387755102, 0.6938775510204082, 0.7142857142857142, 0.7346938775510203, 0.7551020408163265, 0.7755102040816326, 0.7959183673469387, 0.8163265306122448, 0.836734693877551, 0.8571428571428571, 0.8775510204081632, 0.8979591836734693, 0.9183673469387754, 0.9387755102040816, 0.9591836734693877, 0.9795918367346939, 1.0];\n",
       "const f = [-2.5399524486608245, -2.6035459623397097, -2.662362398980106, -2.715722040805351, -2.762965576551623, -2.803471210898624, -2.836673013111535, -2.862079775737109, -2.8792934545224265, -2.8880261074779088, -2.888114077992503, -2.8795278965482107, -2.862376187270679, -2.8369022247934437, -2.8034729204045754, -2.7625614895098076, -2.714726119269285, -2.6605872143052665, -2.6008053802204136, -2.5360615871381085, -2.4670402554847297, -2.3944154751095916, -2.318840230351869, -2.240938321951195, -2.161298602471028, -2.080471132937877, -1.9989648946697, -1.9172467326240499, -1.835741253803579, -1.7548314502489137, -1.6748598580166507, -1.59613010018472, -1.518908693229605, -1.4434270224305474, -1.3698834138152804, -1.2984452481391566, -1.2292510770076785, -1.162412712962731, -1.0980172745311272, -1.0361291742020324, -0.9767920423435386, -0.9200305834622897, -0.8658523632307542, -0.8142495256427829, -0.7652004398021381, -0.7186712754905027, -0.6746175060646808, -0.6329853366222604, -0.5937130549186365, -0.5567323023231452, -2.577345401230538, -2.6426076363777704, -2.7030425606329467, -2.7579469383890887, -2.806635689107669, -2.84845950119363, -2.8828239907037143, -2.9092097124570797, -2.927192086492056, -2.93646009795462, -2.9368323920000123, -2.9282689922576095, -2.9108765131130445, -2.8849050591357956, -2.8507364017466106, -2.8088649220416397, -2.759874144826618, -2.704411926580023, -2.6431667484445205, -2.576846648928436, -2.506161505316504, -2.4318087891086453, -2.3544625752322257, -2.274765416373265, -2.1933226382944, -2.110698620406925, -2.027414665906884, -1.943948118228631, -1.8607324348242866, -1.7781579800516571, -1.6965733440062756, -1.6162870328795478, -1.5375694091091048, -1.4606547868138884, -1.3857436104804055, -1.3130046632615167, -1.242577266152876, -1.174573441206868, -1.109080021222581, -1.0461606953387141, -0.9858579849421403, -0.9281951475671051, -0.8731780082855616, -0.820796718782218, -0.7710274441861649, -0.7238339771081521, -0.6791692774990883, -0.6369769361456845, -0.5971925590336677, -0.5597450695483206, -2.6099018680798816, -2.676640598763067, -2.7385136400909458, -2.7947973846995877, -2.844784112282095, -2.8877999527070077, -2.9232246821599435, -2.9505127254481063, -2.9692144528944246, -2.9789965885134806, -2.9796602235900185, -2.9711544086172594, -2.953582761845975, -2.927200791699086, -2.892403298567359, -2.849703607214969, -2.7997080148293096, -2.743089022425286, -2.6805600713541673, -2.6128533791327326, -2.5407015268944475, -2.4648228287285354, -2.3859101706997152, -2.304622857161852, -2.2215809664876827, -2.1373617434569727, -2.052497608038075, -1.9674754214504178, -1.8827367105236734, -1.7986786060202002, -1.7156552981699145, -1.6339798530600123, -1.5539262672880327, -1.4757316662383722, -1.399598574317613, -1.3256972042386463, -1.254167727607855, -1.1851225011480007, -1.118648232278936, -1.0548080748033506, -0.9936436503887527, -0.9351769946808037, -0.8794124285209943, -0.8263383551959269, -0.7759289842575161, -0.72814598156586, -0.6829400441371531, -0.6402523973940519, -0.6000162117095817, -0.5621579348213601, -2.6373123137468006, -2.705310844348098, -2.7684164781894722, -2.825888787355751, -2.877001088510925, -2.921058608709203, -2.9574187314302387, -2.985512781759608, -3.004868500944471, -3.0151320160264072, -3.016087675174421, -3.007673466279055, -2.9899890397505517, -2.9632935260710616, -2.9279922606614437, -2.884614435052221, -2.833785634924461, -2.776199321208451, -2.7125902089938188, -2.6437111676983216, -2.5703142261669347, -2.493135620412074, -2.4128844892564447, -2.3302346926141624, -2.2458192103323844, -2.1602266191619774, -2.0739992082213554, -1.9876323614237275, -1.9015749000346038, -1.816230136138339, -1.7319574372906483, -1.6490741442794528, -1.5678577185214662, -1.4885480241589217, -1.4113496733269355, -1.3364343821492783, -1.263943300446881, -1.1939892904230622, -1.1266591391160494, -1.0620156964987832, -1.0000999360346947, -0.9409329375441919, -0.8845177937021556, -0.8308414417115015, -0.7798764210491154, -0.7315825570323338, -0.6859085686532902, -0.642793597965877, -0.6021686574930838, -0.5639579917679656, -2.65931509009896, -2.7283352835156625, -2.7924456711432906, -2.850892854018193, -2.90293530109778, -2.947861599008965, -2.9850109709032324, -3.0137956089245224, -3.0337240527560585, -3.0444244458109933, -3.045665951756436, -3.037375828880272, -3.019648807690255, -2.9927454730774037, -2.9570784968198778, -2.9131889825292387, -2.861717415095829, -2.8033737002715426, -2.7389094364261624, -2.669094053337254, -2.5946953374757746, -2.516464203923854, -2.4351232545308688, -2.3513585487048876, -2.265814011521827, -2.1790879546370086, -2.091731255911712, -2.0042468167973766, -1.9170899844688463, -1.830669685411456, -1.74535006804103, -1.6614524945100282, -1.5792577571141182, -1.4990084237452124, -1.4209112406389846, -1.3451395400859112, -1.2718356164854714, -1.20111304663684, -1.1330589398603275, -1.0677361107348935, -1.005185172183748, -0.9454265496161596, -0.8884624181478997, -0.8342785649331586, -0.782846177742416, -0.7341235595201823, -0.688057767133943, -0.6445861711950787, -0.6036379329187087, -0.5651353936081296, -2.675703516009203, -2.745489929875479, -2.8103590178191213, -2.8695484450674895, -2.9223062510443127, -2.9679091021466646, -3.005682938548212, -3.0350256202305483, -3.0554308735052436, -3.0665124202833534, -3.068026563546759, -3.059890607039536, -3.042193450334964, -3.015194609395838, -2.979310243050675, -2.935088622723539, -2.883179953711106, -2.824305367515079, -2.7592283718611768, -2.688730404902575, -2.6135909698368547, -2.5345721580453957, -2.4524070570347085, -2.367791438037744, -2.2813781262667434, -2.1937735146446173, -2.1055357569648625, -2.0171742526153267, -1.9291501049353381, -1.8418772963091712, -1.75572437488546, -1.67101649105393, -1.5880376575965005, -1.507033136901288, -1.4282118828193628, -1.351748984518573, -1.2777880757187043, -1.2064436854816334, -1.1378035166504983, -1.0719306453667792, -1.0088656400977936, -0.9486286015461123, -0.891221126002194, -0.8366281945184006, -0.7848199891509609, -0.7357536358778776, -0.6893748720690054, -0.6456196349011882, -0.6044155661139752, -0.5656834281104721, -2.6863313993367623, -2.7566163671763024, -2.821985099037829, -2.8816704473411052, -2.934914605731737, -2.9809873159045326, -3.0192065326704087, -3.048961172148677, -3.06973526820161, -3.0811324675331138, -3.082899223007792, -3.0749441032531983, -3.0573493785694525, -3.0303707538679596, -2.9944235671081807, -2.950057945007879, -2.897928064484396, -2.8387605543499745, -2.7733254328170527, -2.7024112546215004, -2.6268049342677138, -2.547276034466657, -2.4645649986243714, -2.3793747088382236, -2.29236476249522, -2.204147920868112, -2.1152882598586307, -2.0263006303121736, -1.9376511060359662, -1.8497581592824928, -1.762994355746287, -1.6776884048136758, -1.5941274370127405, -1.5125594104888738, -1.4331955729207833, -1.3562129254475086, -1.2817566515681542, -1.209942487086772, -1.1408590173609578, -1.074569895636631, -1.0111159813535453, -0.9505174002445076, -0.892775529148031, -0.8378749081040477, -0.7857850809596894, -0.7364623638553178, -0.6898515390385063, -0.6458874698345554, -0.6044966315388227, -0.5655985526105822, -2.69111656953727, -2.7616259228603424, -2.8272282271870592, -2.8871556579454927, -2.940649191688818, -2.986976730406518, -3.0254536912993446, -3.0554656657277945, -3.0764924463551946, -3.08813237997364, -3.0901255562382905, -3.08237344469621, -3.0649511384971344, -3.038107834314043, -3.002253614299357, -2.957934916539399, -2.905803868964665, -2.846586600154706, -2.7810539955719342, -2.7099966227704053, -2.634204322638336, -2.5544502741352564, -2.4714790221663554, -2.3859978557692463, -2.2986709319240832, -2.2101155982182847, -2.1209004428208633, -2.031544676603764, -1.9425185225247272, -1.8542443489037956, -1.7670983356139676, -1.6814125061377654, -1.5974769949752918, -1.5155424501462986, -1.4358224955220287, -1.3584961982912185, -1.2837105036529395, -1.2115826123066662, -1.1422022868045665, -1.0756340805896223, -1.0119194887842797, -0.9510790227718926, -0.8931142116525965, -0.8380095331695407, -0.7857342751771557, -0.73624432667342, -0.6894838953286881, -0.6453871467096022, -0.6038797592863396, -0.5648803889467571, -2.690042148706952, -2.760501172134844, -2.8260702412880954, -2.8859849417917207, -2.9394896007921174, -2.9858552822331097, -3.0244001974290673, -3.054512086641876, -3.075671819162702, -3.087477183658852, -3.0896655418751733, -3.0821332238821633, -3.06494799949488, -3.0383502307779824, -3.002740583801532, -2.9586564271051805, -2.9067418862472167, -2.8477165895186403, -2.7823465980430506, -2.7114193123374077, -2.6357229236613096, -2.556030274787069, -2.4730866599928176, -2.387600977115115, -2.300239641869991, -2.2116227251793905, -2.122321844667693, -2.0328594149278634, -1.9437089297451766, -1.8552960101226794, -1.7680000040124073, -1.682155967592571, -1.5980568946760365, -1.5159560914243562, -1.4360696189350382, -1.3585787472665571, -1.2836323816821962, -1.2113494357714094, -1.1418211369508093, -1.0751132578777005, -1.0112682727307916, -0.9503074403686573, -0.8922328173969432, -0.8370292035925011, -0.7846660204607161, -0.7350991214928524, -0.688272530462158, -0.6441201022740495, -0.6025670997480217, -0.5635316793804508, -2.6831555090713337, -2.7532946917598933, -2.8185690217172015, -2.8782214669444866, -2.931504105781646, -2.9776959226227926, -3.016122911142421, -3.0461799861588954, -3.067353909502487, -3.079246225721458, -3.081595015317072, -3.074293577252221, -3.057402660155779, -3.0311520759323454, -2.995929539404175, -2.952258507195552, -2.9007695577943142, -2.8421700957700704, -2.7772158293885596, -2.7066858868037382, -2.631362243746702, -2.5520134203749283, -2.469382046004158, -2.3841757505413668, -2.2970608211107693, -2.208658100516855, -2.1195406664656633, -2.0302328987802607, -1.941210607373257, -1.8529019526873456, -1.7656889415375612, -1.679909324934131, -1.595858761258468, -1.5137931390042456, -1.4339309790558028, -1.3564558578961718, -1.2815188107928739, -1.2092406883087488, -1.1397144507034418, -1.0730073931270652, -1.0091633001446905, -0.9482045313039233, -0.8901340405009912, -0.8349373312620227, -0.7825843482790744, -0.7330313032094653, -0.6862224304148414, -0.6420916664314624, -0.6005642458199649, -0.5615582057646946, -2.6705650969531733, -2.7401253013022213, -2.804854042407584, -2.864005446550149, -2.916843464116675, -2.962659370914637, -3.0007914188785128, -3.0306460949423855, -3.051720183281475, -3.063622669963496, -3.066095383253333, -3.0590306294443215, -3.042482767386187, -3.0166699990337627, -2.9819643745597313, -2.9388714173926553, -2.888003321454607, -2.8300500891937093, -2.765751928887333, -2.6958748311679597, -2.6211901193369154, -2.5424580513846977, -2.4604151666346183, -2.3757649013727846, -2.289170954061739, -2.20125290192502, -2.1125836214959723, -2.023688126639967, -1.935043498507937, -1.847079638137551, -1.7601806221776481, -1.6746864851790695, -1.590895288501759, -1.5090653668415122, -1.4294176694306624, -1.3521381347728927, -1.2773800558526966, -1.2052664074811448, -1.1358921190447866, -1.0693262845856304, -1.0056143080216327, -0.9447799846443956, -0.8868275211385181, -0.8317434957191612, -0.7794987581483972, -0.7300502669835296, -0.6833428590135839, -0.6393109439252267, -0.5978801161124565, -0.5589686753291707, -2.6524354910063677, -2.7211722803024183, -2.785119616070415, -2.8435462739575654, -2.895731811368427, -2.940983666657983, -2.9786562157190604, -3.008171225253236, -3.029038920156789, -3.040878754514808, -3.043438814657497, -3.0366121935390575, -3.0204476147007338, -2.99515114729227, -2.961077305427898, -2.9187106183160094, -2.8686409688284358, -2.8115365416131834, -2.7481174785710105, -2.679132174208853, -2.605337121791462, -2.527480521503766, -2.4462894559118955, -2.3624602394884247, -2.2766514782761806, -2.189479376380093, -2.1015148623048274, -2.013282159402932, -1.9252584794491363, -1.8378745708039768, -1.7515159001719858, -1.666524288750664, -1.5831998596617565, -1.501803184417158, -1.4225575423824566, -1.3456512293122622, -1.271239869488439, -1.199448701109986, -1.1303748165665892, -1.064089348219944, -1.0006395964615906, -0.9400511003275189, -0.8823296521638726, -0.827463257228924, -0.7754240372735524, -0.7261700747083537, -0.6796471915470075, -0.6357906554042845, -0.5945268037389531, -0.5557745773904177, -2.6289811679308532, -2.696668173676411, -2.759616627218951, -2.817113082078799, -2.8684559733060846, -2.9129722096965414, -2.9500355171596313, -2.97908597531216, -2.9996500041634726, -3.011359931533391, -3.013972072782277, -3.0073817225787107, -2.991632678721567, -2.9669187238330883, -2.9335757046440953, -2.892065049081461, -2.8429513911547124, -2.786877573738444, -2.7245398342342906, -2.6566650618514895, -2.5839911270658775, -2.5072506238994636, -2.4271579506589807, -2.3443994301219684, -2.2596260721896706, -2.1734485600825066, -2.086434060726321, -1.9991044995322356, -1.9119359867212016, -1.8253591297822773, -1.7397600111157012, -1.6554816499207412, -1.5728258025553417, -1.492054986076993, -1.4133946358525904, -1.3370353304104547, -1.2631350354544142, -1.1918213344172608, -1.12319362525965, -1.057325272530985, -0.9942657101225953, -0.9340424938629164, -0.8766633044624437, -0.8221179007945654, -0.7703800217030989, -0.7214092321187813, -0.6751527068740273, -0.6315469437324468, -0.5905193961221591, -0.551990016003449, -2.6004594662787484, -2.6668907932638515, -2.7286434997265077, -2.7850246305159203, -2.83535426490846, -2.8789815118706197, -2.9153020511757246, -2.9437766791048987, -2.9639501559227273, -2.9754695126157085, -2.978100747153457, -2.9717423907847103, -2.956433904776548, -2.9323568676270195, -2.8998279198510812, -2.859284127294809, -2.811262887635521, -2.7563790981799294, -2.695302056745254, -2.6287338852478834, -2.55739052591337, -2.481985761166431, -2.4032182998414267, -2.3217617298834043, -2.2382570154819716, -2.1533071722003765, -2.0674737553438898, -1.9812748231999768, -1.8951840745300974, -1.8096309009577038, -1.7250011353716308, -1.6416383150109108, -1.5598453116400426, -1.479886210970542, -1.4019883493747132, -1.3263444382160439, -1.2531147250268528, -1.1824291564710672, -1.114389520644471, -1.0490715558606727, -0.9865270197448759, -0.9267857163981184, -0.8698574809291606, -0.8157341202636847, -0.7643913074468756, -0.7157904243271365, -0.6698803451883488, -0.6265991520991208, -0.5858757718017988, -0.547631523994814, -2.5671631902148224, -2.6321549339103782, -2.6925369930340355, -2.7476391785167107, -2.79680547127012, -2.83940935007562, -2.874870468645651, -2.9026721618562434, -2.9223791116894766, -2.933654349925198, -2.9362745440017064, -2.930142160216036, -2.915292788862583, -2.8918960424525952, -2.8602492674896753, -2.8207646015750174, -2.7739510550156776, -2.7203938415405498, -2.660733089530028, -2.595643581990801, -2.5258165812055218, -2.451944270751472, -2.3747069612833647, -2.294762957004988, -2.2127408390682675, -2.1292338575887877, -2.0447961080264188, -1.9599401802340213, -1.8751359960445937, -1.7908105853738137, -1.7073485864444842, -1.6250932901296342, -1.5443480801873122, -1.4653781497616842, -1.3884123998182303, -1.3136454472229322, -1.2412396890710264, -1.1713273857038384, -1.1040127376652797, -1.0393739416758743, -0.9774652176108847, -0.9183188026322309, -0.8619469103585748, -0.8083436527475591, -0.7574869208228041, -0.7093402181842303, -0.6638544390381045, -0.6209695807932196, -0.5806163804241089, -0.542717863927378, -2.5294132127184352, -2.592804201540027, -2.651663250485768, -2.705344772615251, -2.7532184164440645, -2.794683674534668, -2.8291856552771097, -2.856231518357997, -2.875406931567512, -2.8863917485843382, -2.8889738965980487, -2.8830602074202294, -2.86868277064613, -2.845999582406566, -2.8152889422301097, -2.776938034497312, -2.7314270220259846, -2.6793104573375213, -2.621197820712462, -2.55773466750642, -2.4895854087959988, -2.4174183076481652, -2.3418929213268616, -2.2636499742599208, -2.183303494811539, -2.1014349681749134, -2.018589225777712, -1.9352717905859997, -1.8519474146736705, -1.769039571707146, -1.6869306970761613, -1.605962998994951, -1.5264396931712527, -1.4486265406618895, -1.372753592888245, -1.2990170693249667, -1.2275813120566998, -1.1585807772009749, -1.0921220360952004, -1.02828576912585, -0.9671287421795585, -0.9086857600688742, -0.852971593235688, -0.7999828740354249, -0.7496999575631598, -0.7020887399714122, -0.6571024251894098, -0.6146832294036775, -0.5747640119318349, -0.5372698213433345, -2.487551348953935, -2.549203235901368, -2.606409382214367, -2.658550216314913, -2.705022359039054, -2.7452524763340085, -2.7787121198676425, -2.804933074776989, -2.823522597673046, -2.834177777019458, -2.8366980711529783, -2.830994908791869, -2.81709718624103, -2.7951517173159552, -2.7654182458609124, -2.7282593843305607, -2.684126532708507, -2.6335432386861832, -2.5770875186261932, -2.5153744482871487, -2.449039987518242, -2.3787266408954935, -2.305071245963636, -2.228694948498884, -2.1501952689062764, -2.0701400719262355, -1.9890632066437395, -1.9074615703901026, -1.825793356752454, -1.744477266109717, -1.6638924811831282, -1.5843792363762699, -1.5062398359670324, -1.4297400012353707, -1.3551104496771595, -1.282548630206807, -1.2122205564915238, -1.1442626961573115, -1.0787838864582635, -1.015867257041509, -0.9555721476753112, -0.8979360133661902, -0.8429763114591613, -0.7906923655509419, -0.7410671999416822, -0.6940693365643988, -0.6496545444921653, -0.6077675307404375, -0.5683435604861267, -0.5313099951435316, -2.4419336906972724, -2.501730517153103, -2.557175762223445, -2.6076768857115162, -2.6526583610313503, -2.6915747480239154, -2.723924589374919, -2.749264668248219, -2.767224038287679, -2.7775171020983134, -2.7799548760581234, -2.774453476292334, -2.7610388755112267, -2.739847203230031, -2.7111203129986023, -2.675196922060337, -2.6325001661375875, -2.5835227519592383, -2.5288109758869655, -2.4689487487369166, -2.4045425137558336, -2.33620765478477, -2.2645567256032257, -2.1901896189890806, -2.113685641882132, -2.035597365051367, -1.9564460605815475, -1.8767185165532498, -1.7968650153803365, -1.7172982725707668, -1.6383931505675031, -1.560486983976391, -1.483880375413447, -1.408838343857162, -1.335591728839605, -1.2643387734916374, -1.195246827020802, -1.1284541224009872, -1.064071597708852, -1.0021847395339605, -0.9428554341873592, -0.8861238171376875, -0.8320101134824582, -0.7805164627462928, -0.7316287204597103, -0.6853182274447851, -0.641543536126473, -0.6002520819961532, -0.5613817879006724, -0.5248625892446701, -2.3929245267941406, -2.450771873487851, -2.5043691453465327, -2.5531514839374347, -2.596571711947495, -2.6341126131847377, -2.6652998839496567, -2.6897153132544345, -2.7070096357120343, -2.716914386640564, -2.7192519873794874, -2.713943235682688, -2.7010114286764564, -2.6805825554786207, -2.6528813641099918, -2.618223560645113, -2.5770048189690256, -2.5296875609829654, -2.4767865627128645, -2.4188543697859055, -2.3564673237364624, -2.290212773051533, -2.220677819959887, -2.1484397649907443, -2.074058267489818, -1.998069140947913, -1.9209796405235393, -1.8432650679391593, -1.7653665077593552, -1.687689512035293, -1.610603562143742, -1.5344421535457777, -1.459503368513357, -1.386050821873829, -1.3143148843674437, -1.244494106562919, -1.176756782934142, -1.1112426103136726, -1.0480644072454286, -0.9873098705846599, -0.9290433529723849, -0.8733076496132857, -0.8201257853529993, -0.7695027937864198, -0.7214274795724069, -0.6758741538858983, -0.6328043315852216, -0.5921683776874063, -0.5539070904404162, -0.5179532087893399, -2.3408909221510377, -2.3967147518144696, -2.448396653910881, -2.495399771983235, -2.5372054348478987, -2.573324641123327, -2.6033100765139263, -2.626768243783318, -2.64337118654091, -2.652867195599087, -2.655089816568471, -2.6499644590463958, -2.6375119795635813, -2.6178488001999436, -2.5911834247122187, -2.5578095705817154, -2.5180964668595323, -2.472477099825967, -2.421435284002782, -2.3654924013833085, -2.30519452342739, -2.2411004545762125, -2.1737710527152694, -2.1037600177447744, -2.0316062073407726, -1.9578274421578508, -1.8829156981484039, -1.8073335456161366, -1.731511676745754, -1.6558473598815524, -1.58070366502572, -1.5064093172649633, -1.4332590504678042, -1.3615143507656013, -1.2914044967555154, -1.2231278201611941, -1.1568531262345871, -1.092721227026207, -1.0308465524581167, -0.9713188136756183, -0.9142047003254505, -0.859549598251806, -0.8073793168248915, -0.7577018160941005, -0.7105089236886339, -0.6657780304385836, -0.6234737526047109, -0.5835495478371646, -0.5459492718324526, -0.510608663255216, -2.2861979866219206, -2.339943270843065, -2.3896606402426777, -2.434841268268476, -2.47499485216191, -2.5096603090112275, -2.538416880908346, -2.5608952543712724, -2.5767882158363142, -2.5858602932428614, -2.5879557887849947, -2.583004612588911, -2.5710254062767026, -2.552125613119812, -2.5264983968698305, -2.4944165943982886, -2.456224150739062, -2.4123256764570695, -2.3631748574208498, -2.309262436391321, -2.2511043971970492, -2.1892308482103275, -2.1241759532912146, -2.0564691182190624, -1.9866275222005545, -1.915149992544571, -1.8425121557165105, -1.7691627563675951, -1.6955210130138825, -1.621974870197549, -1.5488800081264618, -1.4765594786467302, -1.405303848410539, -1.3353717443733295, -1.266990711923328, -1.2003583110245888, -1.1356433900215412, -1.0729874896700302, -1.0125063411282598, -0.9542914307845394, -0.8984116117769241, -0.8449147468810316, -0.7938293702844161, -0.7451663569631095, -0.6989205883867764, -0.6550726026247717, -0.6135902161133968, -0.5744301037964479, -0.5375393243527573, -0.5028567779056892, -2.2292048334351158, -2.2808340432361898, -2.3285543974734795, -2.3718848741088303, -2.4103631518463096, -2.4435555335185155, -2.4710671706229728, -2.4925522216550835, -2.5077235083809466, -2.516361180372475, -2.5183198722597613, -2.513533857112424, -2.5020197788339575, -2.4838766925428675, -2.459283343294672, -2.428492840121633, -2.391825093474439, -2.3496575420817014, -2.302414777582923, -2.2505576795429922, -2.194572613668493, -2.134961144939332, -2.0722305984270535, -2.0068856827891848, -1.9394212872640397, -1.8703164786709376, -1.8000296619366467, -1.728994824512534, -1.657618758690488, -1.5862791427637448, -1.5153233588536534, -1.4450679291274975, -1.3757984607092788, -1.3077700009991107, -1.2412077179756391, -1.1763078333106294, -1.1132387489844415, -1.0521423199526019, -0.99313523582403, -0.9363104831547451, -0.8817388666607329, -0.8294705723899254, -0.7795367588078876, -0.7319511631391975, -0.6867117105798144, -0.6438021136276848, -0.6031934482343488, -0.5648456931488581, -0.5287092189749358, -0.4947262142207096, -2.1702612031134145, -2.2197527294488006, -2.265458666726647, -2.3069253574164588, -2.3437178692366523, -2.3754291693218215, -2.4016895072832147, -2.422175668677031, -2.4366197053690843, -2.4448167103448464, -2.446631192529286, -2.4420016342527187, -2.43094288970469, -2.413546208748956, -2.389976836307666, -2.360469320414709, -2.325320832513656, -2.284882934297678, -2.2395522991039796, -2.189760908962895, -2.135966209326967, -2.078641628006633, -2.018267770510326, -1.9553245061904378, -1.8902840694005474, -1.8236052237264753, -1.75572847784046, -1.6870722984868733, -1.618030237769389, -1.5489688757637765, -1.4802264728733963, -1.412112226817152, -1.3449060345824733, -1.2788586683677319, -1.2141922851132736, -1.1511012006107397, -1.0897528705545807, -1.0302890316126956, -0.9728269651511703, -0.9174608543035143, -0.8642632114215869, -0.8132863575345393, -0.7645639383806275, -0.7181124631179201, -0.673932852328619, -0.6320119818312822, -0.5923242085248477, -0.5548328643642095, -0.5194917048568033, -0.48624629929734, -2.10970471207977, -2.157051269460419, -2.2007388728929915, -2.240340611964147, -2.2754481863935765, -2.3056803606532275, -2.3306915502566663, -2.350180230539443, -2.3638968154363393, -2.371650626688922, -2.3733155716466596, -2.3688341788223117, -2.3582197102318103, -2.341556177632214, -2.3189962268229207, -2.2907570028482085, -2.257114247608329, -2.218394989956315, -2.174969253535092, -2.127241225531512, -2.0756403051502383, -2.0206123947823156, -1.9626117226216773, -1.9020934050649672, -1.8395068801131405, -1.775290275359668, -1.7098657191221958, -1.643635561617518, -1.5769794439898728, -1.5102521348199385, -1.4437820444592573, -1.3778703251455084, -1.3127904675321802, -1.2487883104458541, -1.1860823890718228, -1.1248645563135382, -1.065300821931407, -1.0075323635752937, -0.9516766724648886, -0.8978288038712068, -0.8460627084827612, -0.7964326251245457, -0.7489745182117109, -0.7037075449734149, -0.6606355381931202, -0.6197484903522172, -0.5810240250078411, -0.5444288413036085, -0.5099201179307844, -0.4774468637457574, -2.047858674284244, -2.0930657287046492, -2.134743012612346, -2.172489602720445, -2.2059229463139562, -2.2346866307018245, -2.2584582210015904, -2.2769568859746254, -2.289950498164278, -2.2972618767008903, -2.2987738453821915, -2.2944328108153655, -2.284250628578451, -2.268304617722067, -2.2467356976033837, -2.2197447426971073, -2.1875873645866486, -2.1505674208451904, -2.1090296076954873, -2.0633515135102596, -2.0139354961575906, -1.96120070634467, -1.905575521101928, -1.8474905859395803, -1.787372598947359, -1.72563891083574, -1.6626929649248912, -1.5989205617108366, -1.5346869037850401, -1.4703343575752736, -1.406180857173288, -1.342518870840912, -1.2796148511049528, -1.2177090932831054, -1.1570159336348262, -1.0977242261005329, -1.0399980449558426, -0.9839775689928743, -0.929780110525098, -0.8775012592079747, -0.827216116130846, -0.778980597766409, -0.7328327922053914, -0.6887943518279032, -0.6468719074373661, -0.6070584892329673, -0.5693349401494323, -0.5336713073334451, -0.5000281980602808, -0.46835808733341167, -1.985030438187685, -2.028114689886793, -2.0678001152226066, -2.103710907102705, -2.135489281367407, -2.1628025986948116, -2.185350503944568, -2.2028718304784376, -2.215150991606243, -2.222023570345299, -2.2233808270700317, -2.219172876254868, -2.209410339847769, -2.194164363586677, -2.173564977182613, -2.147797879431997, -2.1170998228870217, -2.0817528484486307, -2.042077670163083, -1.9984265312939729, -1.9511758458320534, -1.9007189100771915, -1.8474589238567223, -1.7918025077565924, -1.734153847975333, -1.6749095490323915, -1.6144542297955455, -1.5531568617722313, -1.4913678207374799, -1.4294166030922386, -1.3676101458989918, -1.3062316831313785, -1.2455400690516099, -1.185769501606135, -1.127129583238319, -1.0698056626248715, -1.0139594077630618, -0.9597295679155129, -0.9072328886372849, -0.8565651500768743, -0.8078023037035809, -0.7610016864498701, -0.7162032939840695, -0.6734310965793144, -0.63269438204387, -0.5939891107013495, -0.5572992677421831, -0.5225981986584225, -0.4898499141078314, -0.45901035153268466, -1.9215101792511213, -1.962498121792757, -2.00021919876401, -2.034321765549685, -2.06447176136265, -2.090359223131743, -2.111704776811224, -2.1282658799194083, -2.139842570215712, -2.146282469568731, -2.1474848028901348, -2.1434032220519863, -2.1340472744698697, -2.119482423161098, -2.0998286041038807, -2.0752573895972044, -2.0459879038476143, -2.0122817006173763, -1.9744368562178483, -1.9327815515350628, -1.8876674147400876, -1.8394628753189088, -1.7885467452399615, -1.735302200191125, -1.6801112881708609, -1.6233500485846564, -1.565384285381104, -1.506566004414033, -1.4472304988508138, -1.3876940469942274, -1.3282521737684228, -1.2691784194734295, -1.210723556250168, -1.1531151930255699, -1.0965577125878698, -1.041232489032538, -0.9872983393845507, -0.9348921691212082, -0.8841297770868148, -0.8351067905229319, -0.7878997053752257, -0.742567010549501, -0.6991503773640573, -0.6576758971834207, -0.6181553513018119, -0.580587497805449, -0.5449593606236933, -0.5112475064959603, -0.4794192962973789, -0.449434098174889, -1.85757008873211, -1.8964966584677279, -1.932288647250628, -1.9646175609713838, -1.9931719749271428, -2.0176634799991957, -2.037832575543467, -2.0534543072274363, -2.064343434277124, -2.0703589084143905, -2.0714074588150972, -2.0674461053172495, -2.058483465781062, -2.044579780697607, -2.025845644348549, -2.0024395007412803, -1.9745640271036675, -1.9424615813351027, -1.9064089275663707, -1.866711473406401, -1.8236972536729397, -1.77771088074743, -1.7291076549552205, -1.6782479939522026, -1.6254923022664212, -1.571196364516152, -1.5157073111077917, -1.4593601751532477, -1.4024750348233608, -1.3453547165752355, -1.2882830213740648, -1.2315234275849225, -1.1753182198816505, -1.1198879924975462, -1.0654314766232567, -1.0121256449930218, -0.9601260510214302, -0.9095673646787537, -0.860564072146031, -0.8132113108008974, -0.767585814992888, -0.7237469512333277, -0.6817378238174563, -0.6415864335856227, -0.6033068736596217, -0.5669005467519641, -0.5323573892428672, -0.4996570878378299, -0.46877027539863847, -0.43965969356737067, -1.7934639022247645, -1.8303712263003005, -1.8642759412321526, -1.8948716541705666, -1.921868467128412, -1.944998395612347, -1.9640207110842072, -1.9787270279177342, -1.988945945742826, -1.9945470584570881, -1.9954441536385124, -1.9915974515931196, -1.9830147714230206, -1.9697515602509597, -1.951909777380002, -1.9296356827381398, -1.903116632965773, -1.8725770338402787, -1.8382736305130225, -1.8004903351618178, -1.7595327949830275, -1.7157228935194277, -1.6693933579153493, -1.6208826171792814, -1.5705300253284398, -1.5186715314070578, -1.4656358481939866, -1.4117411445977148, -1.3572922642441774, -1.302578454972772, -1.247871580807872, -1.1934247790955794, -1.1394715203357686, -1.0862250261483388, -1.0338780011204693, -0.982602636335818, -0.9325508455888141, -0.8838546991069911, -0.8366270235974296, -0.7909621412470285, -0.7469367236924289, -0.7046107397848644, -0.6640284781643397, -0.625219627266016, -0.5882003965230762, -0.5529746633573149, -0.5195351312315613, -0.48786448473161115, -0.45793652847145916, -0.4297172976487589, -1.7294267152959482, -1.7643629618091266, -1.7964276803328922, -1.8253355103932654, -1.8508169656446256, -1.8726233642647054, -1.8905316667719665, -1.9043490623309187, -1.9139171379111812, -1.919115466793569, -1.9198644652260977, -1.9161273890767425, -1.9079113755525547, -1.8952674766370712, -1.87828967779789, -1.8571129437975784, -1.831910378807623, -1.8028896264807255, -1.7702886640896862, -1.7343711615249569, -1.6954215805538861, -1.6537401833108945, -1.6096381035303502, -1.5634326121329012, -1.5154426831391414, -1.4659849390116313, -1.4153700284756325, -1.3638994661600754, -1.3118629430059308, -1.259536099793656, -1.2071787434371783, -1.155033476682534, -1.1033247061444498, -1.0522579907127603, -1.0020196917109976, -0.9527768872366529, -0.9046775153294873, -0.8578507135258673, -0.8124073255557074, -0.7684405490972126, -0.7260267013846424, -0.6852260819176337, -0.6460839134896115, -0.6086313442567375, -0.5728864946906747, -0.5388555341198098, -0.5065337723025396, -0.47590675222133894, -0.44695133114095453, -0.4196367380026955, -1.6656750382148409, -1.6986933687144776, -1.7289698433843639, -1.756239060188483, -1.7802508368023398, -1.8007746907033866, -1.8176042155566299, -1.830561213370254, -1.8394994375304634, -1.8443078050736168, -1.8449129483706788, -1.8412809970484234, -1.8334185098413547, -1.8213725115674357, -1.8052296300587285, -1.785114368513925, -1.7611865869882366, -1.7336382994468293, -1.7026899175059425, -1.6685860871887217, -1.6315912703553799, -1.591985218595783, -1.5500584757674962, -1.5061080279944694, -1.4604331989575177, -1.413331865756519, -1.3650970482657385, -1.3160139040997436, -1.2663571429941287, -1.2163888591185734, -1.1663567677762496, -1.1164928240360936, -1.067012194836452, -1.0181125526129333, -0.9699736570974489, -0.9227571921430981, -0.8766068257970532, -0.8316484639499118, -0.7879906703691439, -0.7457252284764193, -0.7049278226286559, -0.665658818767163, -0.6279641260398645, -0.5918761223818365, -0.557414628116002, -0.5245879125034367, -0.4933937189410684, -0.46382029527912283, -0.43584741659706805, -0.40944738879024345, -1.6024070467372329, -1.6335646687779457, -1.6621082385741284, -1.6877912453972235, -1.710381721159385, -1.7296663063874558, -1.7454542056119164, -1.7575809081571174, -1.765911547701928, -1.7703437778999185, -1.7708100524613548, -1.7672792164894868, -1.759757340912212, -1.748287762188514, -1.7329503230523313, -1.7138598443687743, -1.6911638905315558, -1.6650399187259985, -1.6356919238263403, -1.603346704448046, -1.5682498813378585, -1.5306617972727252, -1.4908534190237281, -1.4491023482250358, -1.4056890308687713, -1.3608932362952342, -1.3149908574527902, -1.2682510660629593, -1.2209338400160599, -1.1732878663900963, -1.125548812191706, -1.0779379462890541, -1.030661089891199, -0.9839078690540477, -0.9378512407098518, -0.8926472632440974, -0.8484350832925349, -0.8053371118375627, -0.7634593645220995, -0.7228919430985421, -0.6837096368849642, -0.6459726248687196, -0.6097272606097626, -0.5750069233381083, -0.5418329196513461, -0.5102154210676038, -0.48015442346394055, -0.4516407152138677, -0.4246568417007244, -0.39917805487208646, -1.539802990897839, -1.569160306633862, -1.5960291024737974, -1.620180708152037, -1.6414003058900475, -1.659490616464153, -1.6742754711768257, -1.685603160454891, -1.6933494484737972, -1.697420147471413, -1.6977531557135177, -1.6943198793735676, -1.6871259803025103, -1.6762114176197354, -1.6616497795754452, -1.643546931191348, -1.622039030636088, -1.5972899911349163, -1.5694884838413512, -1.5388445894685816, -1.505586212202148, -1.4699553687376867, -1.4322044589841636, -1.392592614191214, -1.3513822043362942, -1.3088355709028625, -1.2652120349425129, -1.2207652145849963, -1.1757406717354337, -1.1303738951126001, -1.0848886163326403, -1.0394954475189815, -0.9943908228517222, -0.9497562223685818, -0.9057576539281078, -0.8625453682345616, -0.8202537818791835, -0.7790015841616444, -0.738892004733654, -0.7000132206127765, -0.6624388826594956, -0.6262287430632183, -0.5914293666688282, -0.5580749100729143, -0.5261879533487723, -0.49578037007137365, -0.4668542220743024, -0.4394026661459527, -0.41341086071855293, -0.3888568615583228, -1.478025728588747, -1.5056455742460604, -1.530899812748387, -1.5535765871612657, -1.573477197986076, -1.5904194414241646, -1.6042408326646351, -1.6148016180241178, -1.6219874793807023, -1.6257118387239848, -1.625917680080965, -1.6225788204744989, -1.6157005803808555, -1.6053198263830812, -1.5915043829864497, -1.5743518352322603, -1.5539877670958895, -1.5305635010776104, -1.5042534205828444, -1.4752519677693616, -1.4437704151452033, -1.4100335094627683, -1.3742760819329067, -1.3367397103511802, -1.2976695074410856, -1.2573110966766823, -1.2159078230897364, -1.1736982329923595, -1.1309138438651294, -1.0877772143794062, -1.0445003149490073, -1.001283191474284, -0.958312909039216, -0.9157627581275882, -0.87379170323949, -0.832544052368136, -0.792149325372812, -0.7527222995928875, -0.7143632118440151, -0.6771580970087934, -0.641179244610723, -0.6064857559199175, -0.5731241852084112, -0.5411292497220614, -0.5105245937740299, -0.4813235931242228, -0.4535301865396548, -0.42713972218277707, -0.4021398072927491, -0.378511150538102, -1.4172213552338677, -1.4431683256049208, -1.4668696847245952, -1.4881293912527316, -1.5067638682387956, -1.5226050235258963, -1.5355031563207626, -1.5453296653767008, -1.5519794745173812, -1.555373095565514, -1.5554582573169025, -1.5522110418795245, -1.545636485987041, -1.5357686239559145, -1.5226699696470622, -1.5064304557878179, -1.487165868918249, -1.4650158357508443, -1.440141430807032, -1.412722485087216, -1.3829546809039261, -1.351046518915335, -1.3172162402410228, -1.281688779989135, -1.2446928194025542, -1.2064579930323636, -1.1672122957305362, -1.1271797225878957, -1.0865781638538627, -1.0456175668281755, -1.0044983680184174, -0.9634101916674398, -0.9225308051035546, -0.8820253171847168, -0.8420456032522927, -0.8027299382898889, -0.7642028191829675, -0.7265749568732749, -0.6899434195915986, -0.654391909046568, -0.6199911522969386, -0.5867993929272712, -0.5548629660119575, -0.5242169421548419, -0.4948858266309235, -0.4668843003522509, -0.44021799006751894, -0.4148842559216781, -0.390872985281985, -0.3681673826027072, -1.3575199050401388, -1.3818597567882278, -1.4040708267897783, -1.4239719251749317, -1.4413936411600103, -1.4561810733856069, -1.4681964490847361, -1.4773215578062824, -1.4834599261599049, -1.4865386642353053, -1.4865099220907563, -1.4833519058474112, -1.4770694170309384, -1.4676938951591145, -1.4552829612460456, -1.4399194777970794, -1.4217101578775546, -1.4007837709013753, -1.37728900502759, -1.3513920548623233, -1.323274008232893, -1.2931281071360607, -1.261156955849105, -1.2275697441380344, -1.1925795461519346, -1.1564007466753239, -1.119246636632718, -1.0813272097503375, -1.0428471826269758, -1.0040042515710241, -0.9649875917178266, -0.9259765973196712, -0.8871398567606077, -0.8486343517601149, -0.8106048672966129, -0.7731835968578042, -0.7364899265393707, -0.7006303810840298, -0.6656987150043714, -0.6317761323063291, -0.5989316188940086, -0.5672223723896701, -0.5366943147777967, -0.5073826739430383, -0.4793126208089882, -0.4524999494092101, -0.42695178785668775, -0.4026673288500062, -0.37963856908904714, -0.35785104778657484, -1.2990361030806301, -1.3218352305339311, -1.342619033823647, -1.3612202470395982, -1.3774827104949443, -1.3912638366948724, -1.4024369689151985, -1.4108935671932383, -1.4165451575775398, -1.4193249844537275, -1.419189312714599, -1.4161183363165266, -1.4101166619760543, -1.401213350811036, -1.3894615158462345, -1.3749374885977863, -1.3577395825092053, -1.3379864939760118, -1.3158153923489886, -1.291379758132762, -1.2648470333234698, -1.236396149430725, -1.2062149974054743, -1.1744978998324567, -1.1414431398542237, -1.1072505939518753, -1.072119507501079, -1.0362464434978058, -0.9998234264796939, -0.9630362958333261, -0.9260632756495786, -0.8890737622395892, -0.8522273254326653, -0.8156729158440257, -0.7795482673629768, -0.7439794820644197, -0.7090807834536825, -0.6749544232698259, -0.6416907268496348, -0.6093682621593088, -0.5780541179187428, -0.5478042766847862, -0.5186640692622468, -0.49066869733764795, -0.4638438117667931, -0.43820613449589896, -0.41376411267173685, -0.39051859411669865, -0.36846351402812516, -0.34758658351858296, -1.2418701508370502, -1.2631951280257718, -1.282614701558654, -1.2999746405877428, -1.3151311638472074, -1.327953164932743, -1.3383243347605687, -1.346145124013172, -1.351334489611756, -1.3538313729688047, -1.3535958639887502, -1.3506100133461083, -1.3448782661425032, -1.3364275021231165, -1.3253066805784233, -1.3115861011433187, -1.2953563041850438, -1.2767266456433637, -1.2558235904586876, -1.232788775665616, -1.207776898596557, -1.180953487389758, -1.1524926102658535, -1.1225745771187992, -1.0913836822627316, -1.0591060311489755, -1.0259274869992518, -0.9920317660496747, -0.9575987028722728, -0.9228027003695058, -0.8878113727739088, -0.8527843844980059, -0.8178724830570889, -0.7832167205521077, -0.7489478553162925, -0.7151859232225048, -0.6820399667146912, -0.6496079087504598, -0.6179765584008985, -0.5872217347383621, -0.5574084957521763, -0.5285914592901417, -0.5008152033705673, -0.4741147336110314, -0.4485160059577973, -0.42403649337136007, -0.4006857856360442, -0.3784662120261979, -0.35737347718963397, -0.3373973013080549, -1.186108530808141, -1.2060257136990422, -1.2241437479669983, -1.2403205887276483, -1.2544240032401788, -1.266333577262861, -1.2759426236864404, -1.2831599433063479, -1.2879113889287446, -1.2901411874427438, -1.289812980027202, -1.286910548150614, -1.2814382021748192, -1.2734208197641779, -1.262903532401203, -1.249951069520432, -1.2346467804840116, -1.217091364258591, -1.197401344726229, -1.175707335708204, -1.1521521437871454, -1.126888758824586, -1.1000782817811694, -1.0718878372763625, -1.0424885145866787, -1.0120533758500914, -0.980755564511564, -0.9487665408946431, -0.9162544655625036, -0.8833827451307963, -0.8503087496412443, -0.8171827056582333, -0.7841467650048859, -0.7513342455457785, -0.7188690376372944, -0.6868651677531667, -0.655426509274466, -0.6246466294191015, -0.5946087606784636, -0.5653858848348909, -0.5370409175711774, -0.5096269817823256, -0.4831877579106747, -0.457757899912119, -0.4333635058058305, -0.4100226321550753, -0.3877458422742506, -0.36653677846343946, -0.3463927491424639, -0.32730532239583643, -1.1318248183964188, -1.1504000015651625, -1.1672785305240199, -1.1823297375820427, -1.195432151246405, -1.206475303616661, -1.2153614454784765, -1.222007125168358, -1.2263445886541553, -1.2283229614310816, -1.2279091777498352, -1.2250886292390235, -1.2198655129066807, -1.2122628674491693, -1.2023222963202909, -1.1901033856288086, -1.175682834135362, -1.159153320938573, -1.1406221434694603, -1.120209663847581, -1.09804760530616, -1.0742772422059317, -1.0490475271900572, -1.0225131974504196, -0.9948328991248874, -0.9661673648237246, -0.9366776745128018, -0.9065236247800421, -0.8758622261736695, -0.8448463430795017, -0.8136234857025051, -0.7823347592833834, -0.7511139718083506, -0.7200868982041098, -0.6893706963528468, -0.659073468182666, -0.6292939575315, -0.6001213753768735, -0.5716353422926412, -0.5439059375610353, -0.5169938441647595, -0.49095057885021753, -0.46581879654476555, -0.4416326585949857, -0.4184182545506805, -0.39619406754050535, -0.37497147366873396, -0.354755266308741, -0.3355441966817849, -0.3173315226890763, -1.0790804915434142, -1.096378613867543, -1.1120787505457574, -1.1260608426468401, -1.1382134346841646, -1.1484353013268944, -1.156636987394204, -1.1627422226702517, -1.1666891744445325, -1.1684315035586073, -1.1679391940955832, -1.1651991325637172, -1.1602154192820018, -1.1530094023767083, -1.1436194329765867, -1.1321003484477812, -1.118522698423118, -1.1029717355655153, -1.085546199125806, -1.0663569241541309, -1.045525312539612, -1.0231817038236752, -0.9994636839957893, -0.9745143693601153, -0.9484807002492781, -0.9215117760952407, -0.893757259409411, -0.8653658718379997, -0.8364840008932535, -0.8072544314340078, -0.7778152116600237, -0.7482986594293894, -0.7188305111976545, -0.6895292128625126, -0.6605053492909507, -0.6318612072918128, -0.6036904652366317, -0.5760780013727935, -0.5490998120554262, -0.5228230305860957, -0.4973060370306046, -0.4725986492451335, -0.4487423853296373, -0.4257707878211192, -0.4037098001173298, -0.3825781858733648, -0.3623879824337324, -0.3431449797505852, -0.32484921669345956, -0.30749548717649766, -1.0279257305237741, -1.044010624851984, -1.0585923377850337, -1.0715606906526725, -1.0828135398637309, -1.092258239646825, -1.099813023695768, -1.1054082720658645, -1.108987630997421, -1.1105089559497976, -1.1099450519789809, -1.1072841905759314, -1.1025303880164863, -1.0957034369051595, -1.0868386896225395, -1.0759865994739464, -1.0632120321461667, -1.04859336628718, -1.0322214073521387, -1.0141981430918834, -0.9946353720556262, -0.9736532381795071, -0.9513787049567028, -0.9279440019243606, -0.9034850744074727, -0.8781400648189113, -0.8520478505420768, -0.825346659734743, -0.7981727824997991, -0.7706593909566297, -0.742935477973746, -0.7151249208115478, -0.6873456727599101, -0.659709083091768, -0.6323193433111216, -0.6052730557480575, -0.5786589190192206, -0.5525575236918985, -0.5270412506165181, -0.5021742637778965, -0.4780125891134115, -0.45460427051391594, -0.43198959412809135, -0.4102013721053437, -0.3892652770190492, -0.3692002183988745, -0.3500187530614933, -0.331727521259918, -0.3143277010700758, -0.29781547389649443, -0.97840020195834, -0.9933343840994178, -1.006856310137179, -1.0188649923803224, -1.029266935011209, -1.037977448120635, -1.044921886212004, -1.050036781750418, -1.0532708456042825, -1.0545858085783737, -1.0539570816331398, -1.05137421672787, -1.0468411553579011, -1.0403762575677065, -1.032012110260401, -1.0217951197142205, -1.0097848990770777, -0.9960534669751149, -0.980684278009023, -0.9637711096403467, -0.9454168326673367, -0.9257320940997269, -0.9048339417725784, -0.8828444195581013, -0.8598891606563199, -0.8360960043218755, -0.811593658687427, -0.7865104292533551, -0.7609730293039407, -0.7351054851409102, -0.70902814573362, -0.6828568032802114, -0.656701928336864, -0.6306680206551432, -0.6048530746959022, -0.5793481569663481, -0.5542370908409513, -0.5295962433495367, -0.5054944075134487, -0.4819927731444993, -0.45914497855476344, -0.4369972353233096, -0.41558851810030806, -0.3949508113761977, -0.375109405186814, -0.3560832318534424, -0.3378852360612423, -0.3205227708561218, -0.3039980124844639, -0.2883083874081762, -0.93053382249766, -0.9443783152612824, -0.9568976046906923, -0.9679992430502955, -0.9775977568501828, -0.9856158261043613, -0.991985393495538, -0.9966486777408294, -0.9995590666533678, -1.000681867507018, -0.9999948953008249, -0.9974888833001381, -0.9931677046692526, -0.9870483989283165, -0.9791610021575428, -0.969548185104298, -0.9582647083936842, -0.9453767086789582, -0.9309608336032804, -0.9151032467244926, -0.8978985259754013, -0.8794484807407295, -0.8598609132283486, -0.8392483495455338, -0.8177267648489586, -0.7954143252400601, -0.772430166864615, -0.748893230093105, -0.7249211638543953, -0.700629312302316, -0.6761297931334624, -0.6515306741403355, -0.626935252052014, -0.602441435434891, -0.5781412314275036, -0.5541203343764158, -0.530457813017734, -0.5072258916950856, -0.484489820193553, -0.4623078260725, -0.4407311428680529, -0.4198041071810503, -0.3995643174440069, -0.38004284705150404, -0.3612645045265619, -0.3432481334705404, -0.3260069451970331, -0.3095488771760573, -0.29387697070773, -0.27898976160042666, -0.8843474987864288, -0.8971616871887644, -0.9087338774946903, -0.9189795480249165, -0.9278206594177463, -0.9351867118131785, -0.9410157372009853, -0.9452552044970779, -0.9478628160329914, -0.9488071760344277, -0.9480683142910546, -0.9456380515073566, -0.9415201966588522, -0.9357305709115471, -0.9282968571220716, -0.9192582784318475, -0.9086651138108708, -0.8965780624114426, -0.883067472100888, -0.8682124504246789, -0.8520998784175529, -0.8348233490818315, -0.8164820529837638, -0.7971796333144492, -0.7770230319894436, -0.7561213470153894, -0.734584719544467, -0.7125232668884558, -0.6900460753957045, -0.6672602646190862, -0.6442701317240529, -0.6211763826878143, -0.5980754545908242, -0.575058931248368, -0.552213052602442, -0.5296183167073036, -0.5073491717952241, -0.4854737947930352, -0.46405395175747355, -0.44314493498692564, -0.4227955710261264, -0.4030482933868236, -0.38393927354115753, -0.3654986035888079, -0.34775052394039374, -0.3307136893874194, -0.31440146703535876, -0.2988222597551562, -0.28397984905352613, -0.2698737515687495, -0.8398538412752405, -0.8516953553880993, -0.8623742703361166, -0.8718134124594628, -0.8799416240676907, -0.8866947101261589, -0.8920163251479301, -0.8958587807294871, -0.8981837552059364, -0.8989628885883714, -0.8981782482497713, -0.8958226536810168, -0.8918998519496248, -0.8864245391360801, -0.8794222268527905, -0.8709289568125762, -0.8609908701491342, -0.8496636416505388, -0.8370117921150955, -0.8231078945686454, -0.8080316920152486, -0.7918691456864175, -0.7747114333974072, -0.756653917636773, -0.7377951024583183, -0.718235597187113, -0.6980771034828697, -0.6774214405229062, -0.6563696210731911, -0.6350209891055485, -0.6134724274788035, -0.5918176421061934, -0.5701465270406998, -0.5485446130692726, -0.5270926007455721, -0.5058659773261667, -0.48493471581128844, -0.4643630532243428, -0.44420934438340476, -0.42452598670792185, -0.40535941104743234, -0.38675013309947737, -0.3687328596846786, -0.3513366439541967, -0.33458508350666416, -0.31849655537881705, -0.3030844819386007, -0.28835762184494196, -0.2743203804396266, -0.2609731341968968, -0.7970578502223, -0.8079824724908964, -0.817820143553611, -0.8265004942493086, -0.8339587302998825, -0.8401364790444632, -0.844982581180078, -0.8484538104724773, -0.8505155053549645, -0.8511420978328501, -0.8503175271284087, -0.8480355279780434, -0.8442997863492865, -0.8391239584766748, -0.8325315524030168, -0.8245556745275953, -0.8152386468749886, -0.8046315037826732, -0.7927933793518536, -0.7797907992226856, -0.7656968919559621, -0.7505905364886465, -0.7345554627692508, -0.7176793227863116, -0.7000527488170454, -0.6817684149021648, -0.662920116367594, -0.6436018807442525, -0.6239071217657246, -0.6039278463302811, -0.5837539224726662, -0.563472414566645, -0.5431669902253922, -0.5229174017240599, -0.5027990432669613, -0.48288258407860996, -0.4632336761209317, -0.4439127342291973, -0.4249747856097512, -0.4064693849440144, -0.38844059078295934, -0.3709269984810284, -0.3539618245959957, -0.3375730374598471, -0.3217835284952595, -0.30661131880447323, -0.2920697955851239, -0.2781679730243247, -0.26491077248297246, -0.2522993170002128, -0.7559575728495644, -0.7660191670277232, -0.7750657744896148, -0.7830333201688562, -0.7898628875799973, -0.7955014752028466, -0.7999027024183718, -0.8030274501788202, -0.8048444224661944, -0.8053306159235818, -0.8044716868064201, -0.8022622065466329, -0.7987057996832168, -0.7938151606021506, -0.7876119483479362, -0.7801265616122657, -0.7713977987648717, -0.7614724103649628, -0.750404553886125, -0.7382551623275517, -0.7250912399124374, -0.7109850991553377, -0.69601355420202, -0.6802570855163645, -0.6637989907378703, -0.6467245359050346, -0.6291201202905101, -0.6110724668879328, -0.5926678491949247, -0.573991363419021, -0.5551262536551551, -0.5361532960011752, -0.517150246038278, -0.49819135264403114, -0.4793469397545447, -0.46068305646749086, -0.4422611947900039, -0.4241380733871185, -0.4063654848764078, -0.3889902035357813, -0.3720539497360418, -0.35559340696851116, -0.3396402870001771, -0.3242214384464388, -0.30935899389488997, -0.2950705506370055, -0.281369380059757, -0.2682646608120818, -0.2557617309847806, -0.2438623547219798, -0.7165447311065323, -0.7257951902571853, -0.7340990216204157, -0.7413979655111733, -0.7476385287028735, -0.752772659202092, -0.7567583748564841, -0.7595603329270713, -0.7611503285482526, -0.7615077111752881, -0.7606197096565073, -0.7584816584234046, -0.7550971194093452, -0.750477896614147, -0.7446439426471718, -0.7376231590173337, -0.7294510943067407, -0.7201705465808024, -0.7098310783748449, -0.6984884542920688, -0.6862040126013629, -0.6730439832046611, -0.6590787649395857, -0.64438217539814, -0.6290306862970636, -0.6131026569639726, -0.5966775777499764, -0.579835334195878, -0.5626555016197854, -0.5452166785144756, -0.5275958657957831, -0.5098678975760931, -0.49210492779118886, -0.474375975717934, -0.4567465322104294, -0.43927822737180766, -0.42202855937935757, -0.40505068329736216, -0.3883932579458571, -0.3721003482417635, -0.356211379885645, -0.34076114282706627, -0.32577983959577894, -0.31129317432873727, -0.29732247814679846, -0.2838848664336979, -0.27099342353837597, -0.25865741045397006, -0.24688249111781335, -0.2356709731214024, -0.6788053198711714, -0.6872945311538137, -0.6949019547290518, -0.7015746978368607, -0.7072642655287951, -0.7119271617859755, -0.7155254484860103, -0.7180272510608581, -0.7194072004036922, -0.7196468016204767, -0.7187347215605018, -0.7166669886627386, -0.7134471004736753, -0.7090860361683928, -0.7036021734726023, -0.6970211114670997, -0.689375402786294, -0.6807042006279285, -0.6710528277100158, -0.660472275788818, -0.6490186455483522, -0.6367525375584406, -0.6237384055633648, -0.61004388360629, -0.595739098431699, -0.58089597826334, -0.5655875684645053, -0.5498873637906889, -0.5338686659869092, -0.5176039744085708, -0.5011644161992204, -0.4846192213821974, -0.46803524705125166, -0.4514765537081853, -0.4350040357172993, -0.41867510684464904, -0.4025434409369948, -0.38665876697812007, -0.3710667170414026, -0.35580872503697547, -0.3409219736269764, -0.32643938624863433, -0.3123896608376182, -0.29879734157761484, -0.2856829248112853, -0.27306299512751653, -0.26095038758505806, -0.2493543720388549, -0.23828085559741452, -0.22773259935283052];\n",
       "const lower_is_better = false;\n",
       "const metric = \"hartmann6\";\n",
       "const rel = false;\n",
       "const sd = [0.1946145363179186, 0.1766524432278828, 0.15964805561682577, 0.143857080511163, 0.12959057500480778, 0.11722646943477348, 0.10720664763162993, 0.09999736760194923, 0.09599323009072355, 0.0953841670371325, 0.0980678107035011, 0.10368636129388663, 0.11176246657312587, 0.12183274429202953, 0.1335151010519244, 0.1465151713685877, 0.1606038158667754, 0.17559041922355842, 0.1913030370500714, 0.20757744789961236, 0.224253285673682, 0.2411745552579091, 0.25819225127605216, 0.27516754926062204, 0.2919747068909085, 0.30850328320747467, 0.324659567844332, 0.34036726097812603, 0.3555675079699158, 0.37021840803537026, 0.384294108142892, 0.3977835762362478, 0.41068912980227285, 0.4230247807331109, 0.43481444695932275, 0.4460900756265841, 0.4568897209573928, 0.4672556211461118, 0.4772323211477876, 0.48686489042252673, 0.4961972851042453, 0.5052709015354856, 0.5141233620268957, 0.5227875640599926, 0.5312910115761454, 0.5396554326158225, 0.5478966728312796, 0.5560248407883956, 0.5640446697996194, 0.5719560532020403, 0.18756973213336742, 0.1692378591708632, 0.15182546061612234, 0.13557035864584416, 0.12076497555653784, 0.10777660594755617, 0.09706077855134594, 0.08914093774110739, 0.08451481530220323, 0.08348181628194346, 0.0859902549207062, 0.09165013877874402, 0.09990893585521947, 0.1102356707344149, 0.12220816586649236, 0.13551460791641176, 0.14991980912906328, 0.1652302924898755, 0.18127064240280186, 0.1978717195935844, 0.21486730523419748, 0.23209545813664237, 0.24940183811963446, 0.2666433338991699, 0.2836911568625139, 0.300433080255141, 0.3167747860872397, 0.33264041294550445, 0.3479724420620461, 0.36273105918601545, 0.37689311126837605, 0.3904507534816915, 0.4034098605963389, 0.41578826030148236, 0.4276138356231489, 0.438922538850387, 0.4497563592749027, 0.46016129003769013, 0.4701853436370953, 0.4798766692990707, 0.4892818267222223, 0.4984442683804707, 0.5074030759071273, 0.5161919851526702, 0.5248387201031225, 0.5333646393680065, 0.5417846821459856, 0.5501075852363827, 0.5583363303010167, 0.5664687722137388, 0.18184333312371892, 0.16322036438319013, 0.14548437807807746, 0.12885296628060708, 0.1135934426450205, 0.10004977299360002, 0.08867266502859428, 0.08002692107216122, 0.07471777715704425, 0.07318623319906141, 0.07546542876333641, 0.08113932090748345, 0.08956545555038033, 0.10013168657189682, 0.11237064419349224, 0.12595303313121053, 0.14063882495817162, 0.15623259351899665, 0.1725559504938089, 0.18943520088505145, 0.20669871648273525, 0.2241792051355762, 0.2417177091258649, 0.259167601630259, 0.27639780593128815, 0.29329500547354004, 0.3097648802384343, 0.3257325116506006, 0.34114212153008916, 0.35595629601254225, 0.3701548175049311, 0.3837331989807332, 0.396700990901855, 0.4090799139367144, 0.4209018607389295, 0.43220680664216576, 0.4430406708411084, 0.45345317464150925, 0.46349574956964984, 0.4732195533619641, 0.4826736541345809, 0.4919034408681954, 0.5009493109789164, 0.5098456733086948, 0.518620288368466, 0.5272939488185793, 0.5358804840798328, 0.5443870557447299, 0.552814696852226, 0.5611590392273683, 0.17747142450143089, 0.1586349635446845, 0.14066129639213631, 0.12374864191944392, 0.10813735681254685, 0.09414038892158054, 0.08218691730283251, 0.0728599099122244, 0.06685940153146282, 0.06478655706257427, 0.06679403052799637, 0.07245160156842806, 0.08101652985325741, 0.09178648184876047, 0.10424777311874725, 0.11805577563456132, 0.13296753550767032, 0.1487866457912336, 0.1653321760791482, 0.1824262251551407, 0.19989224169838252, 0.2175582298234423, 0.23526135680707191, 0.25285223555686615, 0.27019820363826164, 0.28718546421953156, 0.3037201946175825, 0.3197288071955571, 0.33515755000583747, 0.3499716066261525, 0.364153818979149, 0.3777031240983545, 0.3906327701276335, 0.40296835961364913, 0.4147457591645912, 0.4260089127521221, 0.43680759969290844, 0.44719518557836924, 0.4572264227397305, 0.4669553637692218, 0.4764334549135602, 0.4857078741164048, 0.49482017027901304, 0.5038052461458916, 0.5126907083583305, 0.521496586730058, 0.530235403196365, 0.5389125516452634, 0.5475269349585935, 0.5560717963002868, 0.1744760683446796, 0.1554984360521072, 0.13736830600251654, 0.12026830011997729, 0.1044152327312573, 0.09009127369151261, 0.07769579598645618, 0.06780780324508243, 0.06119218045108149, 0.05859806872293658, 0.06031442677887407, 0.06591446885314578, 0.07456095612781066, 0.08546612245251259, 0.09807574808214127, 0.11203367982918097, 0.12709537637854573, 0.14306345306120613, 0.15975416266067125, 0.1769853565629299, 0.19457585359405594, 0.2123494932853858, 0.23014022058593783, 0.2477965437812112, 0.2651848019927932, 0.28219120095755007, 0.2987227828849999, 0.31470754800046336, 0.3300939297702611, 0.34484978695051294, 0.35896103401891893, 0.3724299959242442, 0.38527354654580526, 0.39752107339571535, 0.40921230332428055, 0.42039502400800316, 0.4311227419691928, 0.4414523274790741, 0.45144170726132343, 0.4611476746510691, 0.4706238912161971, 0.479919151889637, 0.4890759764755049, 0.49812957428981486, 0.5071072072105652, 0.5160279520288692, 0.5249028386770445, 0.5337353195361344, 0.5425220088624594, 0.5512536217394661, 0.17286677713669923, 0.15381178649250454, 0.1355962705721998, 0.11839277864741352, 0.10240205284775442, 0.08788346703014932, 0.07521010535488874, 0.06494554922263579, 0.05788284967030442, 0.054869855726691084, 0.05630971698122955, 0.06179741180294724, 0.07043412580684259, 0.08137221194869099, 0.09402955949895109, 0.10804182449282032, 0.1231620264620572, 0.1391900597962762, 0.15593810782796944, 0.17321929333169614, 0.19084793164057293, 0.20864417247904687, 0.22643934540583438, 0.24408045151514865, 0.26143334253532763, 0.2783846195763325, 0.2948424597175433, 0.31073660822919774, 0.3260177449850002, 0.3406563872090561, 0.354641445345193, 0.36797851169314344, 0.38068793476061125, 0.39280271617097035, 0.4043662606135102, 0.41543001128558926, 0.42605101156064573, 0.43628944569329703, 0.44620622428557366, 0.45586069085976527, 0.4653085313210562, 0.4745999661728199, 0.4837782950570088, 0.49287884495360823, 0.5019283490311491, 0.5109447556377896, 0.5199374397247112, 0.5289077654084765, 0.5378499309512305, 0.5467520175633801, 0.17264230731121516, 0.15356373441812518, 0.13532045871525927, 0.11808062522891687, 0.10203784631458306, 0.08744086557779765, 0.07464869775284953, 0.06421094298295542, 0.05691901035218374, 0.05365050813646732, 0.05486338883056845, 0.06018495230146562, 0.06870877971443906, 0.07956838000320876, 0.09216918495855082, 0.10613977840611508, 0.12122758302357751, 0.13722681460381195, 0.15394398847205212, 0.1711871129896884, 0.1887663669999825, 0.20649892277613718, 0.2242142816138637, 0.24175864974396313, 0.25899796224331234, 0.27581962709079766, 0.2921332166624927, 0.3078703504118265, 0.32298397590110284, 0.33744720525673116, 0.3512518172086711, 0.36440649739124553, 0.3769348633132388, 0.3888733053007377, 0.4002686698802833, 0.4111758160125799, 0.4216550852147581, 0.431769741202009, 0.44158344999201826, 0.4511578839654612, 0.46055053991223777, 0.4698128591673517, 0.4789887264363916, 0.48811340336992687, 0.49721292555526264, 0.5063039607931025, 0.5153940963221002, 0.5244824968134619, 0.5335608563064979, 0.5426145572508422, 0.17379246340322882, 0.15473460924715726, 0.13650760275446122, 0.11927964991490751, 0.10324500257585503, 0.08865338668400018, 0.07586349672111771, 0.06541863101257252, 0.05809092621936589, 0.05472898388658153, 0.05578209510999195, 0.06091010243610945, 0.06924812300875198, 0.07994898358940193, 0.09241800815670115, 0.10627575881248164, 0.12126026838137317, 0.13715747065636538, 0.15376740902983357, 0.170893460758241, 0.18834280195652503, 0.20593094806406556, 0.2234868125040331, 0.2408568430031124, 0.25790785305579067, 0.2745286195033187, 0.2906304673725725, 0.30614707774515404, 0.3210337175076034, 0.33526604001365834, 0.34883855928399254, 0.36176286352623954, 0.3740656083103816, 0.38578631573565764, 0.3969750025753391, 0.40768966623630165, 0.41799367027475326, 0.4279530882770155, 0.43763408261173314, 0.4471004090353446, 0.45641114575519504, 0.46561874358066013, 0.4747674809909973, 0.4838923849862824, 0.4930186480143691, 0.5021615370519725, 0.5113267576388727, 0.5205112075656005, 0.5297040351024523, 0.5388879066298125, 0.1762996413915992, 0.15729989816091336, 0.13912279171446132, 0.12193928103408476, 0.10594938258923178, 0.0914117338456675, 0.07869430931335976, 0.06834033073050005, 0.06109449116212, 0.05774504975463665, 0.05869661871268398, 0.06363799116295857, 0.07177049663352658, 0.08228627636067472, 0.09459561862122112, 0.10830859331388339, 0.12315066791769048, 0.13889811183291295, 0.15534494963157444, 0.17229151255940778, 0.1895440082616764, 0.2069183248481273, 0.22424457397285794, 0.2413708953002156, 0.2581660867120731, 0.2745210870759799, 0.2903495012841074, 0.30558738210524616, 0.3201924533203918, 0.3341429129859558, 0.3474359117249468, 0.3600857656018226, 0.3721219387895789, 0.38358681833793096, 0.394533301356821, 0.40502222251905523, 0.41511966480650736, 0.4248942158370665, 0.43441425209955314, 0.44374534976392926, 0.4529479293995123, 0.46207523987055876, 0.4711717725302645, 0.48027217139296063, 0.4894006711542753, 0.4985710572663879, 0.5077871059238118, 0.5170434315024302, 0.5263266480990194, 0.5356167418625615, 0.18013986863379464, 0.16123268312739225, 0.1431344037813672, 0.12601992622247452, 0.11009754100463394, 0.09563855466547597, 0.08302423026375948, 0.07279956667742667, 0.06567875729610193, 0.06238250453435748, 0.06326457216758495, 0.06804181397432768, 0.07598567275445736, 0.08633033178267879, 0.09848927962329486, 0.11205825023332308, 0.1267472407786915, 0.1423220055647293, 0.15857148585646896, 0.17529496929197913, 0.1923001050884655, 0.20940552841956955, 0.2264446486766158, 0.24326902605908282, 0.2597507892139682, 0.27578403474751084, 0.2912853411788914, 0.3061935765872737, 0.3204691632824703, 0.33409292556890746, 0.34706460738025924, 0.359401113742587, 0.3711345071577742, 0.3823097782374535, 0.3929824091468058, 0.40321575754256145, 0.4130783056066693, 0.4226408403329114, 0.4319736533416093, 0.44114386658317506, 0.4502129999261191, 0.4592348944387816, 0.46825408967697624, 0.4773047253931173, 0.48641000108134824, 0.4955821857287831, 0.5048231308020728, 0.5141252070641618, 0.5234725639262847, 0.5328426002251883, 0.18528313695732976, 0.16650436373534883, 0.148515651184564, 0.13149622601413055, 0.11566346673010434, 0.10130210327270056, 0.08880642095395704, 0.07872120380605149, 0.07172847245684968, 0.06848538559023797, 0.06930322642558406, 0.07392949862655467, 0.08170276651706741, 0.09189592263436505, 0.1039219719973628, 0.11735829612782667, 0.13189631120948134, 0.14728981619843978, 0.1633228383059039, 0.17979491480517523, 0.19651701248701112, 0.21331254855447573, 0.23002015379643242, 0.2464964793446376, 0.26261834773692944, 0.27828406759349206, 0.29341396201909276, 0.3079502387949184, 0.32185633557030496, 0.33511584887794366, 0.3477311238557474, 0.35972155275610684, 0.3711216096724871, 0.38197863856553765, 0.392350412131306, 0.40230248957086734, 0.41190541991691454, 0.4212318610345339, 0.4303537084422627, 0.43933934776478345, 0.448251155137116, 0.457143367553591, 0.4660604283674942, 0.47503588291616367, 0.48409185921801656, 0.4932391244437613, 0.5024776657085678, 0.5117977093193842, 0.5211810698210362, 0.5306027105436893, 0.19169293490973563, 0.1730834546889593, 0.1552422823137868, 0.13835323330746002, 0.12264281274775006, 0.10840822331062637, 0.09605386180015935, 0.08611952619187901, 0.07925214188113096, 0.07605017624947587, 0.07679196193893248, 0.08125906677643797, 0.08885583916184508, 0.09889369181179143, 0.11078498475786704, 0.12408700433178142, 0.13847000319378597, 0.15367362275826987, 0.1694757750866627, 0.18567608109401806, 0.20208943448752062, 0.21854509453423662, 0.23488814892895385, 0.2509815591078843, 0.2667079309336277, 0.2819706890848029, 0.296694602771006, 0.310825723836068, 0.32433082948510283, 0.33719645449726793, 0.3494275761801006, 0.3610459924899529, 0.37208841648105084, 0.38260430193333206, 0.39265341694671263, 0.40230319419633687, 0.4116259066649564, 0.42069574280627753, 0.4295858807925007, 0.43836568254873626, 0.4470981395530073, 0.45583769992322604, 0.46462858836446935, 0.4735036982158396, 0.48248409207554394, 0.4915791003479386, 0.5007869623589072, 0.5100959184908983, 0.5194856381926316, 0.528928859242438, 0.19932508657240514, 0.18093280133960676, 0.16328724353882693, 0.14657718889790458, 0.13103792290249808, 0.11697709823986475, 0.10480458648042444, 0.09504846796479509, 0.08831571902780642, 0.08514806312467178, 0.08579636576610156, 0.09007784548879642, 0.09746372963947594, 0.1073091432701726, 0.11903153435766355, 0.13217068000693832, 0.14637514303743315, 0.16136838750020888, 0.17692007199026427, 0.1928283363300005, 0.20891117778701726, 0.22500350921116263, 0.24095712209753653, 0.2566417752696624, 0.27194643262908474, 0.28678019352142825, 0.3010727533569523, 0.3147743774962077, 0.32785542957713054, 0.34030550752935573, 0.3521322317253292, 0.3633597148588519, 0.37402673068973114, 0.3841845934154446, 0.3938947633238155, 0.4032262078390724, 0.41225256865963084, 0.4210492123053981, 0.42969026852040676, 0.43824578320168955, 0.44677912446292983, 0.4553447778964851, 0.46398664819500945, 0.47273695020320466, 0.4816157274078104, 0.4906309862879264, 0.49977938808152, 0.5090474017949884, 0.5184127979765496, 0.5278463534109142, 0.20812623372154215, 0.1900060549078624, 0.17261407951371274, 0.1561443646428885, 0.14084012767559997, 0.1270164508512252, 0.11508278754658056, 0.10554776157034805, 0.09897276599599518, 0.0958427632697561, 0.09638298064214211, 0.10044494031165448, 0.10756752682682966, 0.11715739739028254, 0.1286474545942745, 0.14156719908653242, 0.15554619302417302, 0.17029119152898747, 0.18556160097150842, 0.20115184710847211, 0.21688118425896483, 0.23258891106472224, 0.2481327958871276, 0.2633890795024005, 0.27825303651623834, 0.2926395389352315, 0.30648335974045826, 0.3197391199465185, 0.33238086357893554, 0.3444012760212795, 0.3558105662179823, 0.3666350277305975, 0.3769152872674466, 0.38670424780518187, 0.3960647398563565, 0.4050669097136535, 0.41378539656417, 0.4222963783094809, 0.4306745942481488, 0.43899047596468305, 0.44730753026716313, 0.45568011546014225, 0.46415173266120546, 0.4727539184761798, 0.4815057785416358, 0.4904141499693302, 0.4994743321611282, 0.5086712865005653, 0.5179811805109973, 0.5273731427299962, 0.21803244389085316, 0.2002444586375074, 0.18317109862834025, 0.1670116178223211, 0.1520155370265672, 0.13850135130010569, 0.12687148793534408, 0.11760759388814604, 0.11122085417350881, 0.10813969160980033, 0.10856399877654237, 0.11237575198183719, 0.11917963497534269, 0.12844040958877243, 0.1396181920480793, 0.15224261128228395, 0.16593018298001955, 0.1803727607766453, 0.19531870389228068, 0.21055677691737612, 0.22590534282419525, 0.24120621936368603, 0.25632173332345554, 0.2711336293091637, 0.2855428707114437, 0.2994697330372907, 0.31285385537253146, 0.3256540842899646, 0.3378480393218073, 0.34943137529197743, 0.36041673463554186, 0.3708323869534978, 0.38072055342154615, 0.39013541673067864, 0.39914082671731543, 0.4078077291932683, 0.41621137005003905, 0.42442835582615, 0.43253368120171526, 0.4405978578135077, 0.4486842917439191, 0.45684705457304686, 0.46512917296433026, 0.473561525598928, 0.48216238838692094, 0.490937616189287, 0.49988139957160665, 0.5089774952644633, 0.5182008035880993, 0.5275191566667655, 0.2289684133971389, 0.21157483460143345, 0.19488781902008448, 0.1791110420085738, 0.164497813107654, 0.15136528929422996, 0.1401023176012293, 0.13115743639919758, 0.12498927465041518, 0.12197155221791575, 0.12227924443026827, 0.12581961695722788, 0.13225821095926535, 0.1411208211128309, 0.15190478475463717, 0.16415106927042108, 0.17747132447313463, 0.1915466619996733, 0.20611537804113464, 0.22095966819346907, 0.23589526422644838, 0.25076460958269475, 0.26543289412607257, 0.27978600065331793, 0.29372955187589267, 0.30718848093333534, 0.32010675888296497, 0.33244706516374584, 0.34419028397300283, 0.3553347644022323, 0.3658953097512352, 0.37590187402896347, 0.38539795058106746, 0.3944386455883407, 0.4030884419377522, 0.41141867851926284, 0.41950479602708507, 0.42742343044553754, 0.43524946536922526, 0.44305317874162653, 0.45089763291297813, 0.45883645465755407, 0.46691213189804914, 0.47515491756282435, 0.4835823827673457, 0.4921996083387306, 0.5009999534597439, 0.5099662998716586, 0.5190726442824938, 0.5282859019801815, 0.24084757174617466, 0.22390923797453746, 0.20767429363522774, 0.19234930352198792, 0.17818814710731629, 0.16550168191344314, 0.15465946852846998, 0.14607291725147806, 0.1401483497711417, 0.13720841077552667, 0.13740432707388342, 0.1406633263399005, 0.1467047223839627, 0.15511426631641317, 0.1654329847621926, 0.17722303873976514, 0.1901000514227298, 0.2037401904068458, 0.21787440533195127, 0.23227878392083082, 0.24676556846964723, 0.2611763811359934, 0.2753777060681729, 0.28925812261543027, 0.30272669905519345, 0.31571205355316023, 0.328161726751465, 0.34004163079072075, 0.35133542676250745, 0.3620437385508106, 0.37218314386922563, 0.38178490202341503, 0.3908933903498817, 0.3995642334171623, 0.4078621249646863, 0.4158583642014824, 0.4236281554047053, 0.4312477505902582, 0.43879154539005555, 0.446329262948084, 0.4539233741984902, 0.46162690093458075, 0.4694817285798905, 0.4775175196925169, 0.4857512714112956, 0.49418750717799426, 0.5028190429517985, 0.511628227730168, 0.5205885321708442, 0.5296663491364118, 0.25357316067458396, 0.2371462689207536, 0.22142304629367343, 0.20661081425204947, 0.19296048534521512, 0.180772030250307, 0.17039142113538405, 0.16219117924572093, 0.15652774929923755, 0.15367758380950172, 0.15377004083519366, 0.15674755363217444, 0.16237530358649752, 0.1702948715370489, 0.18009361463094475, 0.1913621064650554, 0.20372799791066235, 0.21686890586366103, 0.23051236772869563, 0.2444300979228698, 0.2584310299291757, 0.2723552350982782, 0.2860693426804985, 0.2994633762252677, 0.3124486684258667, 0.3249564884160764, 0.33693707504632303, 0.34835884770595704, 0.3592076340613867, 0.3694858037637629, 0.3792112303615314, 0.3884160254615381, 0.3971450053467399, 0.405453865770784, 0.41340705913618814, 0.4210753916440476, 0.4285333862852097, 0.43585648875826577, 0.4431182238027878, 0.45038743406473847, 0.45772574724977866, 0.4651854157489327, 0.47280765415692944, 0.4806215652451804, 0.4886436982770137, 0.49687823174238366, 0.5053177232550495, 0.5139443293318645, 0.5227313717047403, 0.53164511643437, 0.26704014920279395, 0.25117367706320365, 0.23601282674085874, 0.22176322765488893, 0.2086693985805081, 0.19701665753032874, 0.18712469457179504, 0.17932734151322327, 0.17393504914650776, 0.1711835160119206, 0.17118252984058602, 0.17388584683488906, 0.1790968413293901, 0.1865070830213301, 0.19574975615352552, 0.2064481082631785, 0.2182481683324379, 0.2308350245921077, 0.24393724958379978, 0.25732481406381497, 0.2708044487017999, 0.28421471849966456, 0.2974218118411953, 0.31031630591559634, 0.32281081613956303, 0.334838311395921, 0.34635086457280156, 0.3573186405560914, 0.36772896642830416, 0.37758536636500606, 0.3869064727554404, 0.3957247468048458, 0.40408495970439895, 0.4120424030295254, 0.4196608172701127, 0.4270100519237065, 0.4341634993521261, 0.4411953757660206, 0.44817795274843797, 0.4551788669895251, 0.4622586494587698, 0.46946861409174623, 0.47684922832146387, 0.4844290544597051, 0.49222430607598777, 0.5002390134867009, 0.5084657445458522, 0.516886787728881, 0.5254756785856122, 0.5341989398114109, 0.28113771428659634, 0.26587173193081304, 0.25131325842171703, 0.23766377107305608, 0.22515841858332025, 0.21406514558197962, 0.2046761765841768, 0.19728830447694473, 0.19217060647083792, 0.18952345524043707, 0.18943949305617852, 0.19188080853826778, 0.19668212231592383, 0.20357857643329655, 0.21224655985232072, 0.22234364262255232, 0.23353854979453745, 0.24552883946685589, 0.2580484307698656, 0.27086859610948194, 0.28379561798370995, 0.2966672649364566, 0.30934926713850625, 0.32173229642209983, 0.3337295661706966, 0.3452749784377336, 0.3563216764802963, 0.3668408518594994, 0.37682067113927836, 0.3862652097581012, 0.3951933022225463, 0.40363723668569573, 0.4116412394248389, 0.4192597129280338, 0.42655521228784987, 0.43359616953752256, 0.440454404239497, 0.4472024892550307, 0.45391106988944047, 0.4606462581698431, 0.46746723729021716, 0.47442421052703937, 0.48155681241074844, 0.48889306856267345, 0.4964489481287979, 0.5042285051001535, 0.5122245588691849, 0.5204198264192545, 0.5287883930073904, 0.5372973969422213, 0.29575197730748476, 0.2811168419752408, 0.26718959106888246, 0.25416532512524825, 0.24226749454762264, 0.23174501189837177, 0.22286268806278878, 0.21588284937880667, 0.21103800844909457, 0.2084982773908251, 0.20834150011605343, 0.2105358809319441, 0.2149416918170192, 0.22133140754941677, 0.22942083591177137, 0.23890154719836623, 0.24946736096979166, 0.26083198897016785, 0.2727384162381441, 0.2849622417251443, 0.29731137634208565, 0.30962396754192256, 0.32176574582894873, 0.33362743349281576, 0.3451224836082831, 0.35618520233930645, 0.3667692008260508, 0.3768460806291643, 0.38640424812529806, 0.3954477598870868, 0.40399511338938915, 0.4120779115298168, 0.4197393448264707, 0.42703245262424, 0.4340181453485062, 0.44076299440429206, 0.4473368242756043, 0.45381017094040027, 0.46025169877907657, 0.46672569069286424, 0.47328973895003706, 0.47999276392062235, 0.48687347270362885, 0.49395934052639473, 0.5012661581297607, 0.508798143601386, 0.5165485736385378, 0.52450085290131, 0.5326299151937145, 0.5409038385869581, 0.31076871866300315, 0.2967850159623266, 0.2835070237884446, 0.27112163296848646, 0.25983897626591024, 0.24988821635457398, 0.24150770543327038, 0.2349283546449052, 0.23035075391162804, 0.22791928594411148, 0.22769915201784027, 0.22966307063238428, 0.2336921163150645, 0.23959043478537426, 0.2471090185049758, 0.25597181371528627, 0.2658985612822349, 0.2766214902007464, 0.2878955438731691, 0.29950333650334543, 0.31125651235717383, 0.32299501561503496, 0.334585368379466, 0.34591863957900243, 0.3569084663010793, 0.3674892761222496, 0.3776147339763123, 0.38725637227824017, 0.396402334863546, 0.40505615747641704, 0.4132355102789368, 0.4209708362181876, 0.42830383121331933, 0.43528572778371494, 0.44197536325374837, 0.4484370371108487, 0.4547381887343272, 0.46094695472946445, 0.4671296915699171, 0.47334857046873036, 0.47965936352935135, 0.48610954017061014, 0.4927367790802009, 0.4995679742626787, 0.5066187771869209, 0.5138936755360591, 0.5213865684128622, 0.529081763490788, 0.5369552975231434, 0.5449764697456428, 0.3260758629405387, 0.31275490497829667, 0.30013431569441634, 0.28839140306410327, 0.2777220330533034, 0.26833565476554033, 0.2604457078361015, 0.25425489479883756, 0.24993616141088923, 0.2476121082284939, 0.2473372104252044, 0.2490875637392429, 0.2527612266126104, 0.2581890872781813, 0.26515310149842225, 0.273407223531419, 0.2826967865308567, 0.2927737468540553, 0.30340701994051555, 0.31438840897498643, 0.3255352074025803, 0.33669061794164223, 0.3477229254763539, 0.3585240800787937, 0.3690080920811289, 0.3791094501376602, 0.388781646184674, 0.39799581467963935, 0.40673945190692073, 0.4150151617359061, 0.42283936830862545, 0.4302409385933529, 0.4372596660281626, 0.4439445796015062, 0.45035206033390207, 0.45654376883083453, 0.4625844123867178, 0.4685394061758055, 0.47447250761011234, 0.4804435225898029, 0.48650619365902614, 0.49270638022843266, 0.49908062869274744, 0.505655206093578, 0.5124456376759732, 0.5194567506537784, 0.5266831889350372, 0.5341103314080938, 0.5417155233718092, 0.5494695187053998, 0.3415656063676874, 0.3289102951212383, 0.31694659320014124, 0.3058413122506184, 0.2957756770084611, 0.28694001496427457, 0.2795247356031431, 0.27370748189451327, 0.2696373851550644, 0.2674186466599123, 0.2670966851307499, 0.26865017612621084, 0.2719911213809397, 0.2769729677176667, 0.28340468415575065, 0.2910675299132219, 0.2997313299990906, 0.30916806385890583, 0.31916182209403815, 0.32951519338880314, 0.3400527152171822, 0.35062220491795154, 0.3610947262855992, 0.37136377809758714, 0.38134410538552355, 0.3909703760747819, 0.40019584828484045, 0.4089910746258436, 0.41734264098342655, 0.42525190988532774, 0.43273372572013885, 0.439815036217159, 0.44653338899402994, 0.45293527221349383, 0.45907428365724023, 0.46500913204829136, 0.4708014970406119, 0.4765137980697022, 0.4822069446282991, 0.4879381584156076, 0.4937589681116694, 0.4997134777815739, 0.5058369989247419, 0.5121551144959278, 0.5186832132125405, 0.5254264979847965, 0.5323804379675571, 0.539531603970495, 0.546858805191097, 0.5543344332969179, 0.3571361279265023, 0.3451420197103064, 0.33382738455827515, 0.32334804026742064, 0.3138706530633986, 0.3055673971936417, 0.29860768092390544, 0.2931470533902877, 0.289314195734615, 0.28719778120695877, 0.2868356084239896, 0.28820837821107737, 0.29123962316054264, 0.2958018480767364, 0.30172747657888205, 0.30882230539520467, 0.3168790899173306, 0.32568945890150863, 0.3350532005278245, 0.344784727779386, 0.3547170387443704, 0.3647037201979464, 0.37461957254674927, 0.38436035140103353, 0.39384199712889395, 0.4029996017140526, 0.4117862615777441, 0.4201718905455241, 0.42814201642278904, 0.4356965528481217, 0.4428485204678115, 0.4496226843379942, 0.4560540753345, 0.4621863706781937, 0.468070121397423, 0.47376083162958255, 0.479316914779597, 0.48479757284118663, 0.490260665225692, 0.49576064944655296, 0.5013466852260261, 0.5070609938521691, 0.5129375548681496, 0.5190012028809505, 0.5252671604803539, 0.531741012307865, 0.5384190942372298, 0.5452892443515593, 0.552331842019794, 0.5595210496496891, 0.37269287771325604, 0.36134932288472105, 0.3506699751770323, 0.3407995111399252, 0.3318904615304292, 0.3240980454001577, 0.3175727140639651, 0.3124506408919044, 0.30884297712888537, 0.30682529206040066, 0.3064289902984263, 0.3076364144278773, 0.310380712436897, 0.3145505403695355, 0.31999864412412654, 0.32655268976596674, 0.33402656966474575, 0.3422307339826338, 0.3509806589007398, 0.3601031297172384, 0.3694404410996411, 0.37885285533941193, 0.3882197401158115, 0.3974397848256947, 0.4064306210506475, 0.41512808507094945, 0.4234852792873617, 0.43147152380068576, 0.43907124091867783, 0.44628278232730634, 0.45311718835755593, 0.45959685862457866, 0.46575411130202243, 0.47162961295344197, 0.4772706710197228, 0.48272939561574035, 0.4880607548275936, 0.4933205664130683, 0.4985634864511337, 0.5038410695590915, 0.5091999833736663, 0.5146804601780501, 0.5203150599334962, 0.5261278019221901, 0.5321336984740033, 0.5383386967032464, 0.5447400063051261, 0.5513267666936539, 0.5580809878700308, 0.5649786880490629, 0.38814947007886147, 0.37744074002759387, 0.36737820018695333, 0.35809551617227514, 0.3497317429436446, 0.3424264599417178, 0.3363131366500686, 0.33151101686624956, 0.32811623804721934, 0.32619330688985687, 0.32576827570768685, 0.32682486431182434, 0.32930430942201283, 0.33310901167754514, 0.3381093209129529, 0.3441522920811241, 0.3510710869075592, 0.35869386768770706, 0.36685139872691835, 0.37538298246431173, 0.38414069790016375, 0.39299212953605533, 0.40182187862763996, 0.4105321650077126, 0.41904279244160536, 0.42729069250973023, 0.4352292005685203, 0.4428271627732302, 0.450067929640734, 0.4569482598229028, 0.4634771366500068, 0.4696744880967213, 0.47556979668441096, 0.48120058822953005, 0.48661079617143616, 0.4918490103076559, 0.4969666337475682, 0.5020159880469962, 0.5070484217560421, 0.5121124897711202, 0.5172522778058852, 0.5225059463402603, 0.5279045607762272, 0.5334712595358437, 0.5392207909549581, 0.5451594254922408, 0.5512852249670344, 0.5575886282385741, 0.5640532953895409, 0.570657141610135, 0.40342822777554294, 0.393334573294646, 0.38386679023938025, 0.37514787203263983, 0.3673042085718936, 0.36046109171128715, 0.3547368650548279, 0.3502360174075012, 0.3470418307389522, 0.34520946700100336, 0.3447605087273596, 0.34567987021971885, 0.34791565286100484, 0.3513820086861842, 0.3559645516110139, 0.361527472088286, 0.3679213611562428, 0.3749908324516401, 0.38258127021583405, 0.3905443260521097, 0.3987420533494327, 0.40704976030456347, 0.41535777111455413, 0.42357232386589094, 0.431615825324591, 0.43942664872490916, 0.44695861696394185, 0.45418027055878624, 0.46107398268752464, 0.4676349547503361, 0.47387010545548386, 0.4797968539015819, 0.4854417916348354, 0.4908392392801882, 0.49602968910822487, 0.5010581447143556, 0.5059723815410424, 0.5108211656724224, 0.5156524813234865, 0.5205118277634027, 0.52544065220858, 0.5304749850792764, 0.5356443372481318, 0.5409709057729702, 0.5464691163324539, 0.5521455092228341, 0.5579989538529003, 0.5640211567457939, 0.5701974122601396, 0.5765075349743863, 0.4184604309036703, 0.40895904058784854, 0.40006137442829537, 0.3918802397823724, 0.38453025632942933, 0.3781237610761983, 0.3727656825706822, 0.3685476716307501, 0.3655420016182901, 0.3637959358232541, 0.36332733332925227, 0.3641221757305251, 0.36613444023885744, 0.3692883753895917, 0.3734828535166239, 0.37859718352814903, 0.3844976344018359, 0.3910439514397692, 0.3980953005475068, 0.40551528467786196, 0.41317588064604505, 0.4209603052574489, 0.42876492300030955, 0.4365003573692572, 0.44409197725759975, 0.4514799137788747, 0.45861873416275084, 0.46547686716616266, 0.4720358443796931, 0.4782893968351979, 0.48424242761913855, 0.4899098689418409, 0.49531542596197, 0.5004902090078122, 0.505471259888181, 0.5102999857738042, 0.515020524457091, 0.5196780762195503, 0.5243172484053923, 0.5289804673943755, 0.5337065173938764, 0.5385292651176542, 0.5434766233995, 0.5485697953061728, 0.5538228243894701, 0.5592424580644764, 0.5648283118440708, 0.5705733044695283, 0.5764643197065351, 0.5824830409796569, 0.43318632478433317, 0.4242521695268386, 0.4158982278883515, 0.40822770383751744, 0.4013443756305564, 0.39534890267931283, 0.3903343542347181, 0.38638122347562576, 0.38355235377133556, 0.3818883282144482, 0.38140391282838326, 0.3820860664438122, 0.38389383643602987, 0.3867601883864423, 0.39059553635593103, 0.39529251915119246, 0.4007314539907324, 0.40678590226901407, 0.41332787846899943, 0.42023238006588043, 0.42738107059275193, 0.43466507903307433, 0.4419869714370169, 0.4492620036397206, 0.4564187838986603, 0.4633994710406616, 0.47015961692525804, 0.47666773934729345, 0.4829046882163291, 0.48886284719344864, 0.4945451966349819, 0.49996425237521347, 0.5051408886416013, 0.5101030519199636, 0.5148843752864726, 0.5195227087758918, 0.5240585897038244, 0.528533686226411, 0.5329892563602732, 0.5374646717077083, 0.5419960588735091, 0.5466151109908458, 0.551348116394266, 0.5562152414484729, 0.5612300907061826, 0.566399551347457, 0.5717239120199828, 0.5771972305861962, 0.5828079124799735, 0.5885394524966473, 0.4475549370382716, 0.4391614982554857, 0.4313238350548143, 0.4241361866861363, 0.4176924166225348, 0.4120827066254241, 0.40738966759029255, 0.4036841023001121, 0.4010207730461387, 0.3994346106507246, 0.39893782000230676, 0.3995182714679315, 0.40113942007152303, 0.40374179293128143, 0.4072458759160224, 0.41155606097058783, 0.41656522001420837, 0.42215945971925606, 0.4282226706049449, 0.4346405862848204, 0.44130418425051066, 0.4481123643280706, 0.4549739211073814, 0.46180887808452914, 0.4685492766196788, 0.47513951818421624, 0.48153635062775374, 0.48770857442579596, 0.493636527721032, 0.4993113926060605, 0.5047343514312691, 0.5099156119593626, 0.514873314291109, 0.5196323305810964, 0.5242229702500241, 0.5286796080156739, 0.5330392587045661, 0.5373401303626268, 0.541620194409707, 0.5459158172029834, 0.5502605002306998, 0.554683775381938, 0.5592102969073054, 0.5638591629258627, 0.5686434873374553, 0.5735702289381397, 0.5786402698812935, 0.583848721913127, 0.5891854273938119, 0.5946356139727196, 0.4615237482821334, 0.4536436346125412, 0.44629432467065167, 0.43956175643488254, 0.43353077816574803, 0.4282822050109256, 0.423889442000941, 0.4204148793691354, 0.4179063511913395, 0.41639400431160883, 0.41588793085764236, 0.41637686257988943, 0.4178281120907581, 0.42018879481330423, 0.4233882077637006, 0.4273411106244527, 0.43195157543836954, 0.43711705261752726, 0.4427323359179774, 0.4486931799514441, 0.45489940966086484, 0.4612574438192311, 0.4676822221381011, 0.47409857287197615, 0.4804420850861949, 0.48665956043710823, 0.4927091180913181, 0.4985600179250859, 0.5041922552711052, 0.50959596809546, 0.51477068652361, 0.5197244462413411, 0.5244727820305766, 0.5290376156710271, 0.533446053413158, 0.5377291116916638, 0.5419203949507521, 0.5460547554531676, 0.5501669706840873, 0.55429047835819, 0.5584562111196649, 0.56269157206366, 0.5670195878489711, 0.5714582685148428, 0.5760201927246325, 0.5807123249970483, 0.5855360587666302, 0.5904874671178754, 0.5955577329083157, 0.600733722586033, 0.4750582543384566, 0.4676637155284664, 0.46077482006211734, 0.4544698696326106, 0.44882555346780445, 0.4439143376648845, 0.4398015351778744, 0.43654223464992453, 0.43417832769488335, 0.43273591149295787, 0.43222334288782177, 0.4326301744064817, 0.43392711509315673, 0.43606704423354065, 0.4389869861822192, 0.4426108531081573, 0.4468526973826317, 0.4516201941423132, 0.4568180939685303, 0.4623514343463295, 0.46812836198851676, 0.47406248264555745, 0.4800747108647384, 0.4860946341311942, 0.49206143278136233, 0.4979244106537786, 0.5036431946770483, 0.5091876578942321, 0.5145376128885483, 0.5196823136980293, 0.5246197958929222, 0.5293560777198069, 0.5339042407480968, 0.538283406525403, 0.5425176262572455, 0.5466347030950186, 0.550664970637047, 0.5546400559391393, 0.5585916598051998, 0.5625503904808548, 0.5665446882923724, 0.5705998776556107, 0.5747373789305646, 0.5789741058943753, 0.5833220656094135, 0.5877881669590379, 0.5923742331104846, 0.5970772027022614, 0.601889495606421, 0.6067995124181784, 0.48813145150529547, 0.4811948000378279, 0.4747387380163789, 0.46883458066633127, 0.4635516610604677, 0.45895502044760283, 0.45510286613841344, 0.4520439499105877, 0.44981506424531914, 0.4484388782796064, 0.4479223308601299, 0.44825576020440505, 0.4494128814316927, 0.45135163520773997, 0.4540158387569378, 0.45733749127403617, 0.4612395323945194, 0.4656388311061749, 0.47044919201459096, 0.4755841990197702, 0.4809597630844748, 0.48649629080877227, 0.4921204360928881, 0.49776643350096406, 0.5033770372495459, 0.5089041045190711, 0.514308867867621, 0.51956194131871, 0.5246431005981796, 0.5295408720809814, 0.5342519588835067, 0.53878052732845, 0.5431373734065086, 0.5473389871773481, 0.5514065332901761, 0.5553647676981789, 0.5592409137132156, 0.5630635241594871, 0.566861359803881, 0.5706623167187768, 0.5744924361004344, 0.5783750288260047, 0.5823299434420084, 0.5863730003992245, 0.5905156075569591, 0.5947645629142618, 0.5991220410047174, 0.6035857502903844, 0.6081492410156927, 0.6128023369621063, 0.5007232706627572, 0.49421722217229985, 0.4881670615385014, 0.4826377406408971, 0.47769198072172264, 0.47338823211885356, 0.46977846739418044, 0.46690593849728607, 0.4648030606373466, 0.4634896015057569, 0.4629713481059293, 0.4632393921404151, 0.46427012128832024, 0.46602593558877836, 0.46845663689694655, 0.47150137705864775, 0.47509100672121823, 0.47915064661706597, 0.4836023065210986, 0.4883673993387009, 0.4933690319083386, 0.4985339926845853, 0.5037943932904757, 0.5090889518285883, 0.5143639288173045, 0.5195737414667072, 0.524681289730049, 0.5296580297924942, 0.5344838291881717, 0.5391466342367601, 0.5436419763371174, 0.5479723398711097, 0.5521464117279585, 0.5561782311092665, 0.5600862583860534, 0.5638923831810061, 0.5676208941755456, 0.5712974358807147, 0.5749479801666622, 0.5785978421064043, 0.5822707701087297, 0.5859881389874706, 0.5897682713427973, 0.5936259074653946, 0.5975718372198927, 0.6016126995409874, 0.6057509469524142, 0.6099849646157381, 0.6143093265045346, 0.6187151659144609, 0.5128199809814755, 0.5067179241727378, 0.5010476055006878, 0.4958682024087482, 0.49123650813558734, 0.48720513067153864, 0.4838205747885895, 0.48112131838963046, 0.4791360175545567, 0.477881984804957, 0.4773640779864014, 0.477574111287191, 0.47849085746879444, 0.480080657188877, 0.48229859562593896, 0.4850901572521285, 0.488393233744553, 0.49214034172832005, 0.49626090666038425, 0.5006834838383459, 0.5053378123937012, 0.5101566277608893, 0.5150771876617438, 0.5200424925936197, 0.5250022021860173, 0.5299132630076523, 0.5347402719008656, 0.5394556027440011, 0.544039325003515, 0.548478940840728, 0.5527689650234636, 0.5569103693545564, 0.5609099113901727, 0.5647793662373227, 0.5685346803052053, 0.5721950669402949, 0.5757820656273323, 0.5793185884850584, 0.5828279796481137, 0.5863331143114476, 0.5898555642788827, 0.5934148554764918, 0.5970278399060986, 0.6007081999670459, 0.604466097212201, 0.6083079708507451, 0.6122364842103336, 0.6162506105160619, 0.6203458432907939, 0.6245145118831563, 0.5244135797709758, 0.518689785784216, 0.5133742893833576, 0.5085210437936298, 0.5041815379179253, 0.5004032064550045, 0.49722776040905575, 0.4946895325916878, 0.49281394940801815, 0.49161624642836244, 0.49110053805445286, 0.49125933016184525, 0.4920735307537164, 0.4935129717586989, 0.4955374112351781, 0.4980979458772739, 0.501138734257717, 0.5045989149236181, 0.5084146008920546, 0.5125208415128928, 0.5168534607157287, 0.5213507033481634, 0.5259546449045717, 0.5306123415354309, 0.53527671499864, 0.5399071803991723, 0.5444700332335175, 0.5489386170412882, 0.553293294789152, 0.5575212469656381, 0.5616161181702123, 0.565577532493776, 0.5694104967653352, 0.5731247101220163, 0.5767337984837266, 0.5802544933343254, 0.5837057755303547, 0.5871080063655322, 0.5904820694355527, 0.5938485475800733, 0.5972269589736153, 0.6006350750342465, 0.6040883400935926, 0.6075994087608827, 0.6111778118186639, 0.6148297556529688, 0.6185580540898077, 0.6223621855672817, 0.6262384632798247, 0.6301803016689839, 0.5355011815155234, 0.5301309616990274, 0.5251464276396938, 0.5205968176461373, 0.5165288816571318, 0.5129854769211634, 0.5100041119538264, 0.5076155192081377, 0.5058423489155961, 0.5046980801213659, 0.5041862380430935, 0.5042999890988357, 0.5050221577633678, 0.5063256761276292, 0.5081744421807962, 0.5105245312241073, 0.5133256805512303, 0.5165229531673904, 0.5200584825669207, 0.5238732063874452, 0.5279085097853485, 0.5321077167130481, 0.5364173860508042, 0.5407883873929098, 0.5451767466029594, 0.5495442632120181, 0.5538589101859538, 0.5580950318684555, 0.5622333586371671, 0.5662608577301652, 0.5701704395337498, 0.5739605379959428, 0.5776345832223165, 0.5812003840341866, 0.5846694384692804, 0.588056190873654, 0.5913772552331128, 0.5946506254868248, 0.5978948944603711, 0.6011285034403991, 0.6043690440093955, 0.6076326323619798, 0.6109333738372209, 0.6142829318578608, 0.6176902110319823, 0.6211611591257871, 0.6246986873191034, 0.6283027030044113, 0.6319702447665888, 0.6356957054039838, 0.5460844163066513, 0.5410442363153695, 0.5363680454380619, 0.5321008348683322, 0.5282851254918878, 0.5249597260927009, 0.5221584605419383, 0.5199089324165009, 0.5182314041293604, 0.5171378694554061, 0.5166313919288956, 0.5167057667814225, 0.5173455420975888, 0.5185264082113862, 0.5202159364520872, 0.5223746227934469, 0.5249571718880676, 0.5279139444317249, 0.5311924864992883, 0.5347390628133227, 0.5385001252448915, 0.5424236610679731, 0.5464603803932904, 0.5505647168942785, 0.5546956290226099, 0.5588171995882734, 0.5628990395724965, 0.5669165074835592, 0.5708507588549948, 0.5746886421565902, 0.5784224579982082, 0.5820495985604127, 0.5855720840869955, 0.5889960132996158, 0.5923309448869155, 0.5955892277967321, 0.5987852988281163, 0.6019349668048364, 0.605054703187562, 0.6081609591074274, 0.6112695282618981, 0.614394973745733, 0.6175501346229865, 0.6207457249108422, 0.623990033778706, 0.6272887313947854, 0.6306447802717611, 0.6340584474972676, 0.6375274091980438, 0.6410469352462288, 0.5561688455978286, 0.5514364027247439, 0.5470472254422547, 0.5430424847131347, 0.5394609302332857, 0.536337790650655, 0.5337036580149267, 0.5315834147969406, 0.5299952679909717, 0.5289499554520892, 0.528450183777151, 0.5284903446640733, 0.5290565387692475, 0.5301269145696139, 0.5316723072053635, 0.5336571414801656, 0.536040546530688, 0.5387776187869683, 0.5418207653826411, 0.5451210618131254, 0.5486295642758501, 0.5522985271960574, 0.5560824882618297, 0.5599391953437843, 0.5638303607876545, 0.5677222379936694, 0.5715860225977857, 0.5753980859451538, 0.5791400521327801, 0.5827987320682773, 0.5863659291646187, 0.5898381318655678, 0.5932161085049298, 0.5965044202831272, 0.5997108685308352, 0.6028458929536581, 0.6059219381562254, 0.6089528063015833, 0.611953014101589, 0.6149371722721462, 0.6179194049565827, 0.6209128253000746, 0.6239290812950167, 0.626977983240466, 0.6300672207811986, 0.6332021737002107, 0.6363858166728776, 0.6396187143165272, 0.642899099344945, 0.646223023686535, 0.5657634013813168, 0.5613176710939847, 0.5571954897122035, 0.5534345953233613, 0.5500703759601929, 0.5471348937074493, 0.5446559041497092, 0.5426559209962505, 0.5411513801031319, 0.5401519569992542, 0.5396600867581077, 0.5396707246738675, 0.54017137150562, 0.5411423695550731, 0.5425574575187423, 0.5443845550125198, 0.5465867337688274, 0.5491233230693348, 0.5519510925894736, 0.5550254563461215, 0.5583016460995833, 0.5617358102194993, 0.565286003395291, 0.5689130424468091, 0.5725812128912403, 0.5762588191763623, 0.5799185782401777, 0.5835378612182524, 0.587098791813153, 0.5905882123140928, 0.593997529817121, 0.5973224561549223, 0.6005626556682048, 0.6037213154382881, 0.6068046530733906, 0.6098213776395726, 0.6127821198184095, 0.6156988477674329, 0.618584285329924, 0.6214513490490081, 0.6243126197612244, 0.6271798632863209, 0.6300636128561905, 0.6329728234645112, 0.6359146053642251, 0.6388940406457032, 0.6419140833905884, 0.6449755405319542, 0.6480771274738841, 0.65121558991903, 0.57487985343229, 0.5707011102527123, 0.5668272196178064, 0.5632928364901267, 0.5601303522464643, 0.5573690267559818, 0.5550341237811472, 0.5531460923919654, 0.5517198401665576, 0.550764143364113, 0.5502812345486228, 0.550266599390594, 0.5507090022376879, 0.5515907457041622, 0.5528881545136051, 0.5545722597696385, 0.5566096481841163, 0.5589634326201502, 0.5615942961294935, 0.5644615614420706, 0.5675242410830532, 0.5707420291096288, 0.5740762028920265, 0.5774904114516932, 0.5809513348029219, 0.5844292059318851, 0.5878981931366433, 0.5913366453096349, 0.5947272064098448, 0.5980568080016749, 0.6013165505501513, 0.6045014853906953, 0.6076103101477046, 0.6106449910248526, 0.6136103259369393, 0.6165134629413671, 0.6193633888418536, 0.6221704031164195, 0.6249455923745983, 0.6277003202727317, 0.630445747117941, 0.6331923922049177, 0.63594975023146, 0.6387259709556864, 0.6415276086697669, 0.6443594451981869, 0.6472243871438009, 0.6501234351801695, 0.6530557204997715, 0.6560186012296373, 0.5835323081025172, 0.5796021252415934, 0.5759591157530062, 0.5726351658789521, 0.5696599946207441, 0.5670603798803944, 0.5648593935479174, 0.5630756822218784, 0.5617228323867178, 0.560808857998637, 0.5603358442420866, 0.5602997738085282, 0.56069055195782, 0.5614922347816051, 0.5626834526927343, 0.5642380094881794, 0.5661256275258879, 0.5683128024752737, 0.5707637272012629, 0.573441243650317, 0.5763077837752703, 0.5793262649466472, 0.5824609111986789, 0.5856779782870716, 0.5889463672241737, 0.5922381171933033, 0.5955287741952685, 0.5987976362875322, 0.6020278798246124, 0.6052065737853158, 0.6083245912278272, 0.6113764283194566, 0.6143599424077444, 0.6172760213674549, 0.6201281970636221, 0.6229222162571422, 0.6256655826432811, 0.6283670839150634, 0.6310363177183612, 0.6336832300397656, 0.6363176788745872, 0.6389490349144225, 0.6415858294581465, 0.6442354578134224, 0.6469039441855495, 0.6495957715515392, 0.6523137774217526, 0.6550591138455283, 0.6578312676659803, 0.6606281350016171, 0.5917367412099299, 0.5880379727441563, 0.5846096991374565, 0.5814813194166211, 0.5786801674441551, 0.5762308200184194, 0.574154417771271, 0.572468030504963, 0.571184100058545, 0.5703099927646159, 0.569847689837765, 0.5697936377306031, 0.5701387720457715, 0.5708687187439307, 0.5719641660805977, 0.5734013909421584, 0.5751529149495104, 0.5771882595530402, 0.5794747657492435, 0.5819784430721889, 0.5846648139203027, 0.5874997226171158, 0.5904500832958705, 0.5934845461380986, 0.59657406713584, 0.5996923719461971, 0.6028163092602072, 0.6059260932467702, 0.6090054380056934, 0.6120415896105783, 0.6150252633388895, 0.617950495196064, 0.6208144179674899, 0.6236169728821821, 0.6263605686208602, 0.6290496998886002, 0.631690538103368, 0.6342905069024195, 0.6368578550950297, 0.6394012393405982, 0.641929328158869, 0.6444504378528999, 0.6469722095401592, 0.6495013347684856, 0.652043335199696, 0.6546023996617827, 0.6571812796097991, 0.6597812418162238, 0.6624020750534813, 0.6650421457420418, 0.5995105668058168, 0.5960273156557557, 0.5927988544372219, 0.5898523460949454, 0.5872129930648988, 0.5849034168320595, 0.5829430528140852, 0.5813475879668475, 0.5801284694574464, 0.5792925116483298, 0.5788416253370178, 0.5787726878040533, 0.5790775651033212, 0.5797432897787591, 0.5807523885590298, 0.5820833463653745, 0.5837111859022428, 0.585608136755769, 0.5877443646418701, 0.5900887303082794, 0.5926095484526683, 0.5952753195386181, 0.5980554111279378, 0.6009206698219152, 0.6038439496636991, 0.6068005475240431, 0.6097685402978158, 0.612729022510122, 0.6156662460963463, 0.618567666683547, 0.621423902718269, 0.6242286153426289, 0.6269783181084287, 0.6296721265204895, 0.6323114580774115, 0.6348996939666773, 0.6374418138812362, 0.6399440155437899, 0.6424133304247854, 0.644857246786034, 0.6472833505425614, 0.6496989934918382, 0.6521109972127058, 0.6545253994111196, 0.6569472477365846, 0.6593804441850684, 0.6618276412315739, 0.6642901888979024, 0.6667681301575684, 0.6692602404999973, 0.6068722429645748, 0.6035898174902623, 0.6005474154780013, 0.5977701870854428, 0.5952814268341656, 0.5931020155404947, 0.5912498791183314, 0.589739488070965, 0.5885814220781569, 0.5877820229654332, 0.5873431564160243, 0.5872620981518065, 0.5875315542718813, 0.5881398184773782, 0.5890710616302414, 0.5903057421331517, 0.5918211195715642, 0.5935918493973412, 0.5955906334492858, 0.5977888998927228, 0.6001574866237547, 0.6026673040785919, 0.6052899563715154, 0.607998303373991, 0.6107669503716076, 0.6135726559750931, 0.6163946527719499, 0.6192148786234238, 0.6220181194532068, 0.6247920668194308, 0.6275272955372575, 0.6302171681807556, 0.6328576745057224, 0.6354472147625264, 0.6379863365598658, 0.6404774354284449, 0.642924429530401, 0.6453324190612951, 0.6477073407800408, 0.6500556277567432, 0.6523838838295454, 0.6546985813996142, 0.6570057900735298, 0.6593109423088686, 0.6616186406754979, 0.6639325096738337, 0.6662550933272076, 0.6685877980710356, 0.6709308788788962, 0.6732834651697361, 0.6138409151968958, 0.6107457768525634, 0.6078767929298181, 0.6052572987407415, 0.6029088773171184, 0.6008508558731849, 0.5990998199634012, 0.5976691661285102, 0.5965687141535905, 0.5958043989603246, 0.5953780595574373, 0.5952873384703163, 0.5955256999168745, 0.5960825690846752, 0.5969435886811711, 0.5980909829938624, 0.5995040144953727, 0.6011595139494285, 0.6030324622701112, 0.6050966011540029, 0.6073250496875037, 0.6096909055492719, 0.6121678118151009, 0.6147304734237085, 0.6173551107718533, 0.6200198414046532, 0.6227049841351224, 0.6253932830132316, 0.6280700512789728, 0.6307232377405319, 0.6333434199231462, 0.6359237298691299, 0.6384597196801527, 0.6409491748260049, 0.6433918839392999, 0.6457893743003462, 0.6481446225043137, 0.6504617498948275, 0.6527457122361827, 0.6550019927685179, 0.6572363072362154, 0.659454328696514, 0.6616614389115528, 0.6638625119260146, 0.6660617340727457, 0.6682624631826352, 0.6704671282655665, 0.6726771694449623, 0.6748930165378241, 0.6771141034377338, 0.6204360976103097, 0.6175158017874827, 0.6148086436869302, 0.6123363187628256, 0.6101188707887942, 0.6081742360978502, 0.6065178058138373, 0.6051620243061295, 0.6041160422449545, 0.60338544157311, 0.6029720473993802, 0.602873838343839, 0.6030849624383824, 0.6035958606303875, 0.6043934946511657, 0.6054616709186179, 0.6067814476436435, 0.6083316087283731, 0.6100891855987994, 0.612030006898456, 0.6141292559546551, 0.6163620169819897, 0.618703792903362, 0.6211309802010766, 0.6236212891080968, 0.626154100481884, 0.6287107536797976, 0.631274762534291, 0.6338319590174306, 0.6363705663418029, 0.6388812050591988, 0.6413568372049281, 0.643792654723612, 0.6461859193355068, 0.6485357616916453, 0.650842948144534, 0.653109623742507, 0.6553390401448143, 0.6575352770491332, 0.6597029654184903, 0.6618470202870982, 0.6639723902162966, 0.66608382957365, 0.6681856987425729, 0.6702817961705649, 0.6723752248761381, 0.6744682947106675, 0.6765624603690062, 0.6786582939189402, 0.6807554895267903, 0.6266773915124649, 0.6239205234350611, 0.6213645811351498, 0.6190297745321184, 0.6169347588569429, 0.6150962208597512, 0.6135284829274532, 0.6122431411663177, 0.6112487535192701, 0.6105505929786652, 0.610150478896849, 0.6100466963649884, 0.6102340098056261, 0.6107037725734746, 0.6114441298106916, 0.6124403074067144, 0.6136749759998318, 0.6151286758014551, 0.6167802858133529, 0.6186075198318138, 0.6205874314803869, 0.6226969112874372, 0.6249131603658362, 0.6272141273614749, 0.6295788978070721, 0.6319880276518554, 0.6344238153689031, 0.6368705095409075, 0.6393144511029099, 0.6417441514259685, 0.6441503091386654, 0.6465257700068128, 0.6488654353425279, 0.6511661253154729, 0.6534264042148245, 0.6556463751797883, 0.6578274521924082, 0.6599721172159908, 0.6620836702679551, 0.6641659799375593, 0.6662232413980275, 0.6682597483247575, 0.6702796843290021, 0.6722869385708444, 0.674284949156646, 0.6762765767929098, 0.678264010005499, 0.6802487020883912, 0.6822313388675423, 0.6842118353969838, 0.6325842407607578, 0.629980348068097, 0.627565925182002, 0.6253598323083942, 0.623379467798573, 0.6216403913339934, 0.620155964673732, 0.6189370241628391, 0.6179915991232472, 0.6173246892992319, 0.6169381126912831, 0.6168304324548145, 0.6169969682157984, 0.6174298933881927, 0.6181184161403003, 0.6190490378400246, 0.620205879388906, 0.6215710630633204, 0.6231251354823162, 0.6248475161985076, 0.6267169561629539, 0.6287119908766834, 0.6308113742843293, 0.6329944812293267, 0.6352416684021208, 0.6375345860060833, 0.6398564346937203, 0.6421921645707108, 0.6445286151422223, 0.6468545969310537, 0.6491609171033987, 0.6514403527892463, 0.6536875768883198, 0.6558990420240127, 0.6580728289644406, 0.6602084662872661, 0.6623067283356845, 0.6643694186051833, 0.6663991456194842, 0.6683990981033335, 0.6703728258442226, 0.6723240320628195, 0.6742563823962655, 0.6761733347594977, 0.678077993414436, 0.6799729895784048, 0.6818603898797276, 0.6837416329604741, 0.685617493574176, 0.6874880726670012];\n",
       "const xvar = \"x1\";\n",
       "const yvar = \"x2\";\n",
       "const x_is_log = false;\n",
       "const y_is_log = false;\n",
       "\n",
       "const GREEN_SCALE = [[247, 252, 253], [229, 245, 249], [204, 236, 230], [153, 216, 201], [102, 194, 164], [65, 174, 118], [35, 139, 69], [0, 109, 44], [0, 68, 27]];\n",
       "const GREEN_PINK_SCALE = [[142, 1, 82], [197, 27, 125], [222, 119, 174], [241, 182, 218], [253, 224, 239], [247, 247, 247], [230, 245, 208], [184, 225, 134], [127, 188, 65], [77, 146, 33], [39, 100, 25]];\n",
       "const BLUE_SCALE = [[255, 247, 251], [236, 231, 242], [208, 209, 230], [166, 189, 219], [116, 169, 207], [54, 144, 192], [5, 112, 176], [3, 78, 123]];\n",
       "\n",
       "// format data\n",
       "const res = relativize_data(f, sd, rel, arm_data, metric);\n",
       "const f_final = res[0];\n",
       "const sd_final = res[1];\n",
       "\n",
       "// calculate max of abs(outcome), used for colorscale\n",
       "const f_absmax = Math.max(Math.abs(Math.min(...f_final)), Math.max(...f_final));\n",
       "\n",
       "// transform to nested array\n",
       "var f_plt = [];\n",
       "while(f_final.length) f_plt.push(f_final.splice(0, density));\n",
       "var sd_plt = [];\n",
       "while(sd_final.length) sd_plt.push(sd_final.splice(0, density));\n",
       "\n",
       "// create traces\n",
       "const CONTOUR_CONFIG = {\n",
       "  autocolorscale: false,\n",
       "  autocontour: true,\n",
       "  contours: {\n",
       "    coloring: 'heatmap',\n",
       "  },\n",
       "  hoverinfo: 'x+y+z',\n",
       "  ncontours: density / 2,\n",
       "  type: 'contour',\n",
       "  x: grid_x,\n",
       "  y: grid_y,\n",
       "};\n",
       "\n",
       "let f_scale;\n",
       "if (rel === true) {\n",
       "  f_scale = lower_is_better === true\n",
       "    ? GREEN_PINK_SCALE.reverse()\n",
       "    : GREEN_PINK_SCALE;\n",
       "} else {\n",
       "  f_scale = GREEN_SCALE;\n",
       "}\n",
       "\n",
       "const f_trace = {\n",
       "  colorbar: {\n",
       "    x: 0.45,\n",
       "    y: 0.5,\n",
       "    ticksuffix: rel === true ? '%' : '',\n",
       "    tickfont: {\n",
       "      size: 8,\n",
       "    },\n",
       "  },\n",
       "  colorscale: f_scale.map(\n",
       "    (v, i) => [i / (f_scale.length - 1), rgb(v)]\n",
       "  ),\n",
       "  xaxis: 'x',\n",
       "  yaxis: 'y',\n",
       "  z: f_plt,\n",
       "  // zmax and zmin are ignored if zauto is true\n",
       "  zauto: !rel,\n",
       "  zmax: f_absmax,\n",
       "  zmin: -f_absmax,\n",
       "};\n",
       "\n",
       "const sd_trace = {\n",
       "  colorbar: {\n",
       "      x: 1,\n",
       "      y: 0.5,\n",
       "      ticksuffix: rel === true ? '%' : '',\n",
       "      tickfont: {\n",
       "        size: 8,\n",
       "      },\n",
       "  },\n",
       "  colorscale: BLUE_SCALE.map(\n",
       "    (v, i) => [i / (BLUE_SCALE.length - 1), rgb(v)]\n",
       "  ),\n",
       "  xaxis: 'x2',\n",
       "  yaxis: 'y2',\n",
       "  z: sd_plt,\n",
       "};\n",
       "\n",
       "Object.keys(CONTOUR_CONFIG).forEach(key => {\n",
       "  f_trace[key] = CONTOUR_CONFIG[key];\n",
       "  sd_trace[key] = CONTOUR_CONFIG[key];\n",
       "});\n",
       "\n",
       "// get in-sample arms\n",
       "const arm_x = [];\n",
       "const arm_y = [];\n",
       "const arm_text = [];\n",
       "\n",
       "Object.keys(arm_data['in_sample']).forEach(arm_name => {\n",
       "  arm_x.push(arm_data['in_sample'][arm_name]['parameters'][xvar]);\n",
       "  arm_y.push(arm_data['in_sample'][arm_name]['parameters'][yvar]);\n",
       "  arm_text.push(arm_name);\n",
       "});\n",
       "\n",
       "// configs for in-sample arms\n",
       "const base_in_sample_arm_config = {\n",
       "  hoverinfo: 'text',\n",
       "  legendgroup: 'In-sample',\n",
       "  marker: {color: 'black', symbol: 1, opacity: 0.5},\n",
       "  mode: 'markers',\n",
       "  name: 'In-sample',\n",
       "  text: arm_text,\n",
       "  type: 'scatter',\n",
       "  x: arm_x,\n",
       "  y: arm_y,\n",
       "};\n",
       "\n",
       "const f_in_sample_arm_trace = {\n",
       "  xaxis: 'x',\n",
       "  yaxis: 'y',\n",
       "};\n",
       "\n",
       "const sd_in_sample_arm_trace = {\n",
       "  showlegend: false,\n",
       "  xaxis: 'x2',\n",
       "  yaxis: 'y2',\n",
       "};\n",
       "\n",
       "Object.keys(base_in_sample_arm_config).forEach(key => {\n",
       "  f_in_sample_arm_trace[key] = base_in_sample_arm_config[key];\n",
       "  sd_in_sample_arm_trace[key] = base_in_sample_arm_config[key];\n",
       "});\n",
       "\n",
       "const traces = [\n",
       "  f_trace,\n",
       "  sd_trace,\n",
       "  f_in_sample_arm_trace,\n",
       "  sd_in_sample_arm_trace,\n",
       "];\n",
       "\n",
       "// start symbol at 2 for candidate markers\n",
       "let i = 2;\n",
       "\n",
       "// iterate over out-of-sample arms\n",
       "Object.keys(arm_data['out_of_sample']).forEach(generator_run_name => {\n",
       "  const ax = [];\n",
       "  const ay = [];\n",
       "  const atext = [];\n",
       "\n",
       "  Object.keys(arm_data['out_of_sample'][generator_run_name]).forEach(arm_name => {\n",
       "    ax.push(\n",
       "      arm_data['out_of_sample'][generator_run_name][arm_name]['parameters'][xvar]\n",
       "    );\n",
       "    ay.push(\n",
       "      arm_data['out_of_sample'][generator_run_name][arm_name]['parameters'][yvar]\n",
       "    );\n",
       "    atext.push('<em>Candidate ' + arm_name + '</em>');\n",
       "  });\n",
       "\n",
       "  traces.push({\n",
       "    hoverinfo: 'text',\n",
       "    legendgroup: generator_run_name,\n",
       "    marker: {color: 'black', symbol: i, opacity: 0.5},\n",
       "    mode: 'markers',\n",
       "    name: generator_run_name,\n",
       "    text: atext,\n",
       "    type: 'scatter',\n",
       "    xaxis: 'x',\n",
       "    x: ax,\n",
       "    yaxis: 'y',\n",
       "    y: ay,\n",
       "  });\n",
       "  traces.push({\n",
       "    hoverinfo: 'text',\n",
       "    legendgroup: generator_run_name,\n",
       "    marker: {color: 'black', symbol: i, opacity: 0.5},\n",
       "    mode: 'markers',\n",
       "    name: 'In-sample',\n",
       "    showlegend: false,\n",
       "    text: atext,\n",
       "    type: 'scatter',\n",
       "    x: ax,\n",
       "    xaxis: 'x2',\n",
       "    y: ay,\n",
       "    yaxis: 'y2',\n",
       "  });\n",
       "  i += 1;\n",
       "});\n",
       "\n",
       "// layout\n",
       "const xrange = axis_range(grid_x, x_is_log);\n",
       "const yrange = axis_range(grid_y, y_is_log);\n",
       "\n",
       "const xtype = x_is_log ? 'log' : 'linear';\n",
       "const ytype = y_is_log ? 'log' : 'linear';\n",
       "\n",
       "const layout = {\n",
       "  autosize: false,\n",
       "    margin: {\n",
       "      l: 35,\n",
       "      r: 35,\n",
       "      t: 35,\n",
       "      b: 100,\n",
       "      pad: 0,\n",
       "  },\n",
       "  annotations: [\n",
       "    {\n",
       "      font: {size: 14},\n",
       "      showarrow: false,\n",
       "      text: 'Mean',\n",
       "      x: 0.25,\n",
       "      xanchor: 'center',\n",
       "      xref: 'paper',\n",
       "      y: 1,\n",
       "      yanchor: 'bottom',\n",
       "      yref: 'paper',\n",
       "    },\n",
       "    {\n",
       "      font: {size: 14},\n",
       "      showarrow: false,\n",
       "      text: 'Standard Error',\n",
       "      x: 0.8,\n",
       "      xanchor: 'center',\n",
       "      xref: 'paper',\n",
       "      y: 1,\n",
       "      yanchor: 'bottom',\n",
       "      yref: 'paper',\n",
       "    },\n",
       "  ],\n",
       "  hovermode: 'closest',\n",
       "  legend: {orientation: 'h', x: 0, y: -0.25},\n",
       "  height: 450,\n",
       "  width: 950,\n",
       "  xaxis: {\n",
       "    anchor: 'y',\n",
       "    autorange: false,\n",
       "    domain: [0.05, 0.45],\n",
       "    exponentformat: 'e',\n",
       "    range: xrange,\n",
       "    tickfont: {size: 11},\n",
       "    tickmode: 'auto',\n",
       "    title: xvar,\n",
       "    type: xtype,\n",
       "  },\n",
       "  xaxis2: {\n",
       "    anchor: 'y2',\n",
       "    autorange: false,\n",
       "    domain: [0.60, 1],\n",
       "    exponentformat: 'e',\n",
       "    range: xrange,\n",
       "    tickfont: {size: 11},\n",
       "    tickmode: 'auto',\n",
       "    title: xvar,\n",
       "    type: xtype,\n",
       "  },\n",
       "  yaxis: {\n",
       "    anchor: 'x',\n",
       "    autorange: false,\n",
       "    domain: [0, 1],\n",
       "    exponentformat: 'e',\n",
       "    range: yrange,\n",
       "    tickfont: {size: 11},\n",
       "    tickmode: 'auto',\n",
       "    title: yvar,\n",
       "    type: ytype,\n",
       "  },\n",
       "  yaxis2: {\n",
       "    anchor: 'x2',\n",
       "    autorange: false,\n",
       "    domain: [0, 1],\n",
       "    exponentformat: 'e',\n",
       "    range: yrange,\n",
       "    tickfont: {size: 11},\n",
       "    tickmode: 'auto',\n",
       "    type: ytype,\n",
       "  },\n",
       "};\n",
       "\n",
       "Plotly.newPlot(\"15d7a4064430437595cf0f97bb97b3fd\", traces, layout, {showLink: false});\n",
       "});</script>"
      ]
     },
     "metadata": {},
     "output_type": "display_data"
    }
   ],
   "source": [
    "render(\n",
    "    plot_contour(\n",
    "        model=ax.generation_strategy.model, param_x='x1', param_y='x2', metric_name='hartmann6'\n",
    "    )\n",
    ")"
   ]
  },
  {
   "cell_type": "markdown",
   "metadata": {},
   "source": [
    "We can also plot the optimization trace, showing the progression of finding the point with the optimal objective:"
   ]
  },
  {
   "cell_type": "code",
   "execution_count": 10,
   "metadata": {},
   "outputs": [
    {
     "data": {
      "text/html": [
       "<div id=\"ddbb6ba303d4496986608f78451d486b\" style=\"width: 100%;\" class=\"plotly-graph-div\"></div><script type='text/javascript'>/*\n",
       " * Copyright (c) Facebook, Inc. and its affiliates. All Rights Reserved.\n",
       " */\n",
       "\n",
       "require(['plotly'], function(Plotly) {\n",
       "  window.PLOTLYENV = window.PLOTLYENV || {};\n",
       "  window.PLOTLYENV.BASE_URL = 'https://plot.ly';\n",
       "  /*\n",
       " * Copyright (c) Facebook, Inc. and its affiliates. All Rights Reserved.\n",
       " */\n",
       "\n",
       "Plotly.newPlot(\n",
       "  \"ddbb6ba303d4496986608f78451d486b\",\n",
       "  [{\"hoverinfo\": \"none\", \"legendgroup\": \"\", \"line\": {\"width\": 0}, \"mode\": \"lines\", \"showlegend\": false, \"x\": [1, 2, 3, 4, 5, 6, 7, 8, 9, 10, 11, 12, 13, 14, 15, 16, 17, 18, 19, 20, 21, 22, 23, 24, 25, 26, 27, 28, 29, 30], \"y\": [-0.059198765948128854, -0.31339269541654063, -0.31339269541654063, -0.6304071975694795, -0.6304071975694795, -0.8772875710873514, -1.4130820958064854, -1.5067251996846396, -2.0619415836063104, -2.142391214743342, -2.142391214743342, -2.451243438640148, -2.451243438640148, -2.7666299461208057, -3.0233772502458125, -3.0233772502458125, -3.2090486278259354, -3.2090486278259354, -3.2090486278259354, -3.262296928690386, -3.262296928690386, -3.262296928690386, -3.311295606171372, -3.311295606171372, -3.311295606171372, -3.311295606171372, -3.311295606171372, -3.311295606171372, -3.311295606171372, -3.311295606171372], \"type\": \"scatter\"}, {\"fill\": \"tonexty\", \"fillcolor\": \"rgba(128,177,211,0.3)\", \"legendgroup\": \"mean\", \"line\": {\"color\": \"rgba(128,177,211,1)\"}, \"mode\": \"lines\", \"name\": \"mean\", \"x\": [1, 2, 3, 4, 5, 6, 7, 8, 9, 10, 11, 12, 13, 14, 15, 16, 17, 18, 19, 20, 21, 22, 23, 24, 25, 26, 27, 28, 29, 30], \"y\": [-0.059198765948128854, -0.31339269541654063, -0.31339269541654063, -0.6304071975694795, -0.6304071975694795, -0.8772875710873514, -1.4130820958064854, -1.5067251996846396, -2.0619415836063104, -2.142391214743342, -2.142391214743342, -2.451243438640148, -2.451243438640148, -2.7666299461208057, -3.0233772502458125, -3.0233772502458125, -3.2090486278259354, -3.2090486278259354, -3.2090486278259354, -3.262296928690386, -3.262296928690386, -3.262296928690386, -3.311295606171372, -3.311295606171372, -3.311295606171372, -3.311295606171372, -3.311295606171372, -3.311295606171372, -3.311295606171372, -3.311295606171372], \"type\": \"scatter\"}, {\"fill\": \"tonexty\", \"fillcolor\": \"rgba(128,177,211,0.3)\", \"hoverinfo\": \"none\", \"legendgroup\": \"\", \"line\": {\"width\": 0}, \"mode\": \"lines\", \"showlegend\": false, \"x\": [1, 2, 3, 4, 5, 6, 7, 8, 9, 10, 11, 12, 13, 14, 15, 16, 17, 18, 19, 20, 21, 22, 23, 24, 25, 26, 27, 28, 29, 30], \"y\": [-0.059198765948128854, -0.31339269541654063, -0.31339269541654063, -0.6304071975694795, -0.6304071975694795, -0.8772875710873514, -1.4130820958064854, -1.5067251996846396, -2.0619415836063104, -2.142391214743342, -2.142391214743342, -2.451243438640148, -2.451243438640148, -2.7666299461208057, -3.0233772502458125, -3.0233772502458125, -3.2090486278259354, -3.2090486278259354, -3.2090486278259354, -3.262296928690386, -3.262296928690386, -3.262296928690386, -3.311295606171372, -3.311295606171372, -3.311295606171372, -3.311295606171372, -3.311295606171372, -3.311295606171372, -3.311295606171372, -3.311295606171372], \"type\": \"scatter\"}, {\"line\": {\"color\": \"rgba(253,180,98,1)\", \"dash\": \"dash\"}, \"mode\": \"lines\", \"name\": \"Optimum\", \"x\": [1, 30], \"y\": [-3.32237, -3.32237], \"type\": \"scatter\"}],\n",
       "  {\"showlegend\": true, \"title\": {\"text\": \"Model performance vs. # of iterations\"}, \"xaxis\": {\"title\": {\"text\": \"Iteration\"}}, \"yaxis\": {\"title\": {\"text\": \"Hartmann6\"}}, \"template\": {\"data\": {\"barpolar\": [{\"marker\": {\"line\": {\"color\": \"#E5ECF6\", \"width\": 0.5}}, \"type\": \"barpolar\"}], \"bar\": [{\"error_x\": {\"color\": \"#2a3f5f\"}, \"error_y\": {\"color\": \"#2a3f5f\"}, \"marker\": {\"line\": {\"color\": \"#E5ECF6\", \"width\": 0.5}}, \"type\": \"bar\"}], \"carpet\": [{\"aaxis\": {\"endlinecolor\": \"#2a3f5f\", \"gridcolor\": \"white\", \"linecolor\": \"white\", \"minorgridcolor\": \"white\", \"startlinecolor\": \"#2a3f5f\"}, \"baxis\": {\"endlinecolor\": \"#2a3f5f\", \"gridcolor\": \"white\", \"linecolor\": \"white\", \"minorgridcolor\": \"white\", \"startlinecolor\": \"#2a3f5f\"}, \"type\": \"carpet\"}], \"choropleth\": [{\"colorbar\": {\"outlinewidth\": 0, \"ticks\": \"\"}, \"type\": \"choropleth\"}], \"contourcarpet\": [{\"colorbar\": {\"outlinewidth\": 0, \"ticks\": \"\"}, \"type\": \"contourcarpet\"}], \"contour\": [{\"colorbar\": {\"outlinewidth\": 0, \"ticks\": \"\"}, \"colorscale\": [[0.0, \"#0d0887\"], [0.1111111111111111, \"#46039f\"], [0.2222222222222222, \"#7201a8\"], [0.3333333333333333, \"#9c179e\"], [0.4444444444444444, \"#bd3786\"], [0.5555555555555556, \"#d8576b\"], [0.6666666666666666, \"#ed7953\"], [0.7777777777777778, \"#fb9f3a\"], [0.8888888888888888, \"#fdca26\"], [1.0, \"#f0f921\"]], \"type\": \"contour\"}], \"heatmapgl\": [{\"colorbar\": {\"outlinewidth\": 0, \"ticks\": \"\"}, \"colorscale\": [[0.0, \"#0d0887\"], [0.1111111111111111, \"#46039f\"], [0.2222222222222222, \"#7201a8\"], [0.3333333333333333, \"#9c179e\"], [0.4444444444444444, \"#bd3786\"], [0.5555555555555556, \"#d8576b\"], [0.6666666666666666, \"#ed7953\"], [0.7777777777777778, \"#fb9f3a\"], [0.8888888888888888, \"#fdca26\"], [1.0, \"#f0f921\"]], \"type\": \"heatmapgl\"}], \"heatmap\": [{\"colorbar\": {\"outlinewidth\": 0, \"ticks\": \"\"}, \"colorscale\": [[0.0, \"#0d0887\"], [0.1111111111111111, \"#46039f\"], [0.2222222222222222, \"#7201a8\"], [0.3333333333333333, \"#9c179e\"], [0.4444444444444444, \"#bd3786\"], [0.5555555555555556, \"#d8576b\"], [0.6666666666666666, \"#ed7953\"], [0.7777777777777778, \"#fb9f3a\"], [0.8888888888888888, \"#fdca26\"], [1.0, \"#f0f921\"]], \"type\": \"heatmap\"}], \"histogram2dcontour\": [{\"colorbar\": {\"outlinewidth\": 0, \"ticks\": \"\"}, \"colorscale\": [[0.0, \"#0d0887\"], [0.1111111111111111, \"#46039f\"], [0.2222222222222222, \"#7201a8\"], [0.3333333333333333, \"#9c179e\"], [0.4444444444444444, \"#bd3786\"], [0.5555555555555556, \"#d8576b\"], [0.6666666666666666, \"#ed7953\"], [0.7777777777777778, \"#fb9f3a\"], [0.8888888888888888, \"#fdca26\"], [1.0, \"#f0f921\"]], \"type\": \"histogram2dcontour\"}], \"histogram2d\": [{\"colorbar\": {\"outlinewidth\": 0, \"ticks\": \"\"}, \"colorscale\": [[0.0, \"#0d0887\"], [0.1111111111111111, \"#46039f\"], [0.2222222222222222, \"#7201a8\"], [0.3333333333333333, \"#9c179e\"], [0.4444444444444444, \"#bd3786\"], [0.5555555555555556, \"#d8576b\"], [0.6666666666666666, \"#ed7953\"], [0.7777777777777778, \"#fb9f3a\"], [0.8888888888888888, \"#fdca26\"], [1.0, \"#f0f921\"]], \"type\": \"histogram2d\"}], \"histogram\": [{\"marker\": {\"colorbar\": {\"outlinewidth\": 0, \"ticks\": \"\"}}, \"type\": \"histogram\"}], \"mesh3d\": [{\"colorbar\": {\"outlinewidth\": 0, \"ticks\": \"\"}, \"type\": \"mesh3d\"}], \"parcoords\": [{\"line\": {\"colorbar\": {\"outlinewidth\": 0, \"ticks\": \"\"}}, \"type\": \"parcoords\"}], \"scatter3d\": [{\"line\": {\"colorbar\": {\"outlinewidth\": 0, \"ticks\": \"\"}}, \"marker\": {\"colorbar\": {\"outlinewidth\": 0, \"ticks\": \"\"}}, \"type\": \"scatter3d\"}], \"scattercarpet\": [{\"marker\": {\"colorbar\": {\"outlinewidth\": 0, \"ticks\": \"\"}}, \"type\": \"scattercarpet\"}], \"scattergeo\": [{\"marker\": {\"colorbar\": {\"outlinewidth\": 0, \"ticks\": \"\"}}, \"type\": \"scattergeo\"}], \"scattergl\": [{\"marker\": {\"colorbar\": {\"outlinewidth\": 0, \"ticks\": \"\"}}, \"type\": \"scattergl\"}], \"scattermapbox\": [{\"marker\": {\"colorbar\": {\"outlinewidth\": 0, \"ticks\": \"\"}}, \"type\": \"scattermapbox\"}], \"scatterpolargl\": [{\"marker\": {\"colorbar\": {\"outlinewidth\": 0, \"ticks\": \"\"}}, \"type\": \"scatterpolargl\"}], \"scatterpolar\": [{\"marker\": {\"colorbar\": {\"outlinewidth\": 0, \"ticks\": \"\"}}, \"type\": \"scatterpolar\"}], \"scatter\": [{\"marker\": {\"colorbar\": {\"outlinewidth\": 0, \"ticks\": \"\"}}, \"type\": \"scatter\"}], \"scatterternary\": [{\"marker\": {\"colorbar\": {\"outlinewidth\": 0, \"ticks\": \"\"}}, \"type\": \"scatterternary\"}], \"surface\": [{\"colorbar\": {\"outlinewidth\": 0, \"ticks\": \"\"}, \"colorscale\": [[0.0, \"#0d0887\"], [0.1111111111111111, \"#46039f\"], [0.2222222222222222, \"#7201a8\"], [0.3333333333333333, \"#9c179e\"], [0.4444444444444444, \"#bd3786\"], [0.5555555555555556, \"#d8576b\"], [0.6666666666666666, \"#ed7953\"], [0.7777777777777778, \"#fb9f3a\"], [0.8888888888888888, \"#fdca26\"], [1.0, \"#f0f921\"]], \"type\": \"surface\"}], \"table\": [{\"cells\": {\"fill\": {\"color\": \"#EBF0F8\"}, \"line\": {\"color\": \"white\"}}, \"header\": {\"fill\": {\"color\": \"#C8D4E3\"}, \"line\": {\"color\": \"white\"}}, \"type\": \"table\"}]}, \"layout\": {\"annotationdefaults\": {\"arrowcolor\": \"#2a3f5f\", \"arrowhead\": 0, \"arrowwidth\": 1}, \"colorscale\": {\"diverging\": [[0, \"#8e0152\"], [0.1, \"#c51b7d\"], [0.2, \"#de77ae\"], [0.3, \"#f1b6da\"], [0.4, \"#fde0ef\"], [0.5, \"#f7f7f7\"], [0.6, \"#e6f5d0\"], [0.7, \"#b8e186\"], [0.8, \"#7fbc41\"], [0.9, \"#4d9221\"], [1, \"#276419\"]], \"sequential\": [[0.0, \"#0d0887\"], [0.1111111111111111, \"#46039f\"], [0.2222222222222222, \"#7201a8\"], [0.3333333333333333, \"#9c179e\"], [0.4444444444444444, \"#bd3786\"], [0.5555555555555556, \"#d8576b\"], [0.6666666666666666, \"#ed7953\"], [0.7777777777777778, \"#fb9f3a\"], [0.8888888888888888, \"#fdca26\"], [1.0, \"#f0f921\"]], \"sequentialminus\": [[0.0, \"#0d0887\"], [0.1111111111111111, \"#46039f\"], [0.2222222222222222, \"#7201a8\"], [0.3333333333333333, \"#9c179e\"], [0.4444444444444444, \"#bd3786\"], [0.5555555555555556, \"#d8576b\"], [0.6666666666666666, \"#ed7953\"], [0.7777777777777778, \"#fb9f3a\"], [0.8888888888888888, \"#fdca26\"], [1.0, \"#f0f921\"]]}, \"colorway\": [\"#636efa\", \"#EF553B\", \"#00cc96\", \"#ab63fa\", \"#FFA15A\", \"#19d3f3\", \"#FF6692\", \"#B6E880\", \"#FF97FF\", \"#FECB52\"], \"font\": {\"color\": \"#2a3f5f\"}, \"geo\": {\"bgcolor\": \"white\", \"lakecolor\": \"white\", \"landcolor\": \"#E5ECF6\", \"showlakes\": true, \"showland\": true, \"subunitcolor\": \"white\"}, \"hoverlabel\": {\"align\": \"left\"}, \"hovermode\": \"closest\", \"mapbox\": {\"style\": \"light\"}, \"paper_bgcolor\": \"white\", \"plot_bgcolor\": \"#E5ECF6\", \"polar\": {\"angularaxis\": {\"gridcolor\": \"white\", \"linecolor\": \"white\", \"ticks\": \"\"}, \"bgcolor\": \"#E5ECF6\", \"radialaxis\": {\"gridcolor\": \"white\", \"linecolor\": \"white\", \"ticks\": \"\"}}, \"scene\": {\"xaxis\": {\"backgroundcolor\": \"#E5ECF6\", \"gridcolor\": \"white\", \"gridwidth\": 2, \"linecolor\": \"white\", \"showbackground\": true, \"ticks\": \"\", \"zerolinecolor\": \"white\"}, \"yaxis\": {\"backgroundcolor\": \"#E5ECF6\", \"gridcolor\": \"white\", \"gridwidth\": 2, \"linecolor\": \"white\", \"showbackground\": true, \"ticks\": \"\", \"zerolinecolor\": \"white\"}, \"zaxis\": {\"backgroundcolor\": \"#E5ECF6\", \"gridcolor\": \"white\", \"gridwidth\": 2, \"linecolor\": \"white\", \"showbackground\": true, \"ticks\": \"\", \"zerolinecolor\": \"white\"}}, \"shapedefaults\": {\"line\": {\"color\": \"#2a3f5f\"}}, \"ternary\": {\"aaxis\": {\"gridcolor\": \"white\", \"linecolor\": \"white\", \"ticks\": \"\"}, \"baxis\": {\"gridcolor\": \"white\", \"linecolor\": \"white\", \"ticks\": \"\"}, \"bgcolor\": \"#E5ECF6\", \"caxis\": {\"gridcolor\": \"white\", \"linecolor\": \"white\", \"ticks\": \"\"}}, \"title\": {\"x\": 0.05}, \"xaxis\": {\"automargin\": true, \"gridcolor\": \"white\", \"linecolor\": \"white\", \"ticks\": \"\", \"zerolinecolor\": \"white\", \"zerolinewidth\": 2}, \"yaxis\": {\"automargin\": true, \"gridcolor\": \"white\", \"linecolor\": \"white\", \"ticks\": \"\", \"zerolinecolor\": \"white\", \"zerolinewidth\": 2}}}},\n",
       "  {\"showLink\": false}\n",
       ");\n",
       "});</script>"
      ]
     },
     "metadata": {},
     "output_type": "display_data"
    }
   ],
   "source": [
    "# `plot_single_method` expects a 2-d array of means, because it expects to average means from multiple \n",
    "# optimization runs, so we wrap out best objectives array in another array.\n",
    "best_objectives = np.array([[trial.objective_mean for trial in ax.experiment.trials.values()]])\n",
    "best_objective_plot = optimization_trace_single_method(\n",
    "    y=np.minimum.accumulate(best_objectives, axis=1),\n",
    "    optimum=hartmann6.fmin,\n",
    "    title=\"Model performance vs. # of iterations\",\n",
    "    ylabel=\"Hartmann6\",\n",
    ")\n",
    "render(best_objective_plot)"
   ]
  },
  {
   "cell_type": "markdown",
   "metadata": {},
   "source": [
    "# Special Cases"
   ]
  },
  {
   "cell_type": "markdown",
   "metadata": {},
   "source": [
    "**Evaluation failure**: should any optimization iterations fail during evaluation, `log_trial_failure` will ensure that the same trial is not proposed again."
   ]
  },
  {
   "cell_type": "code",
   "execution_count": 11,
   "metadata": {},
   "outputs": [
    {
     "name": "stderr",
     "output_type": "stream",
     "text": [
      "/home/travis/virtualenv/python3.6.7/lib/python3.6/site-packages/botorch/optim/optimize.py:331: BadInitialCandidatesWarning:\n",
      "\n",
      "Unable to find non-zero acquisition function values - initial conditions are being selected randomly.\n",
      "\n"
     ]
    }
   ],
   "source": [
    "_, trial_index = ax.get_next_trial()\n",
    "ax.log_trial_failure(trial_index=trial_index)"
   ]
  },
  {
   "cell_type": "markdown",
   "metadata": {},
   "source": [
    "**Adding custom trials**: should there be need to evaluate a specific parameterization, `attach_trial` will add it to the experiment."
   ]
  },
  {
   "cell_type": "code",
   "execution_count": 12,
   "metadata": {},
   "outputs": [
    {
     "data": {
      "text/plain": [
       "({'x1': 9.0, 'x2': 9.0, 'x3': 9.0, 'x4': 9.0, 'x5': 9.0, 'x6': 9.0}, 31)"
      ]
     },
     "execution_count": 12,
     "metadata": {},
     "output_type": "execute_result"
    }
   ],
   "source": [
    "ax.attach_trial(parameters={\"x1\": 9.0, \"x2\": 9.0, \"x3\": 9.0, \"x4\": 9.0, \"x5\": 9.0, \"x6\": 9.0})"
   ]
  },
  {
   "cell_type": "markdown",
   "metadata": {},
   "source": [
    "**Need to run many trials in parallel**: for optimal results and optimization efficiency, we strongly recommend sequential optimization (generating a few trials, then waiting for them to be completed with evaluation data). However, if your use case needs to dispatch many trials in parallel before they are updated with data and you are running into the *\"All trials for current model have been generated, but not enough data has been observed to fit next model\"* error, instantiate `AxClient` as `AxClient(enforce_sequential_optimization=False)`."
   ]
  }
 ],
 "metadata": {
  "kernelspec": {
   "display_name": "python3",
   "language": "python",
   "name": "python3"
  },
  "language_info": {
   "codemirror_mode": {
    "name": "ipython",
    "version": 3
   },
   "file_extension": ".py",
   "mimetype": "text/x-python",
   "name": "python",
   "nbconvert_exporter": "python",
   "pygments_lexer": "ipython3",
   "version": "3.6.7"
  }
 },
 "nbformat": 4,
 "nbformat_minor": 2
}
